{
 "cells": [
  {
   "cell_type": "markdown",
   "metadata": {},
   "source": [
    "# Imports"
   ]
  },
  {
   "cell_type": "code",
   "execution_count": 159,
   "metadata": {},
   "outputs": [],
   "source": [
    "import pandas as pd\n",
    "import numpy as np\n",
    "pd.set_option('display.max_columns', None)\n",
    "\n",
    "from sklearn.neighbors import KNeighborsClassifier\n",
    "from sklearn.ensemble import RandomForestClassifier\n",
    "from sklearn.tree import DecisionTreeClassifier\n",
    "from sklearn.linear_model import LogisticRegression\n",
    "import warnings\n",
    "warnings.simplefilter(action='ignore', category=Warning)\n",
    "import matplotlib.pyplot as plt\n",
    "from IPython.display       import Image\n",
    "from IPython.core.display  import HTML\n",
    "import seaborn as sns\n",
    "import optuna\n",
    "\n",
    "from sklearn.metrics import accuracy_score, precision_score, recall_score, f1_score"
   ]
  },
  {
   "cell_type": "markdown",
   "metadata": {},
   "source": [
    "# Helper Functions"
   ]
  },
  {
   "cell_type": "code",
   "execution_count": 160,
   "metadata": {},
   "outputs": [
    {
     "name": "stdout",
     "output_type": "stream",
     "text": [
      "%pylab is deprecated, use %matplotlib inline and import the required libraries.\n",
      "Populating the interactive namespace from numpy and matplotlib\n"
     ]
    },
    {
     "data": {
      "text/html": [
       "<style>.container { width:100% !important; }</style>"
      ],
      "text/plain": [
       "<IPython.core.display.HTML object>"
      ]
     },
     "metadata": {},
     "output_type": "display_data"
    }
   ],
   "source": [
    "from sklearn.metrics import accuracy_score, precision_score, recall_score, f1_score\n",
    "def report_classification(y_true, y_pred, model):\n",
    "    acc = accuracy_score(y_true, y_pred)\n",
    "    pre = precision_score(y_true, y_pred)\n",
    "    rec = recall_score(y_true, y_pred)\n",
    "    f1 = f1_score(y_true, y_pred)\n",
    "\n",
    "    return {'Model': model, 'Accuracy': acc, 'Precision': pre, 'Recall': rec, 'f1-Score': f1 }\n",
    "\n",
    "\n",
    "\n",
    "def jupyter_settings():\n",
    "    %matplotlib inline\n",
    "    %pylab inline\n",
    "    \n",
    "    plt.style.use( 'bmh' )\n",
    "    plt.rcParams['figure.figsize'] = [25, 12]\n",
    "    plt.rcParams['font.size'] = 24\n",
    "    \n",
    "    display( HTML( '<style>.container { width:100% !important; }</style>') )\n",
    "    pd.options.display.max_columns = None\n",
    "    pd.options.display.max_rows = None\n",
    "    pd.set_option( 'display.expand_frame_repr', False )\n",
    "    \n",
    "    sns.set()\n",
    "jupyter_settings()"
   ]
  },
  {
   "cell_type": "markdown",
   "metadata": {},
   "source": [
    "# Data Load"
   ]
  },
  {
   "cell_type": "code",
   "execution_count": 161,
   "metadata": {},
   "outputs": [],
   "source": [
    "# Dados de Treinamento\n",
    "X_train = pd.read_csv('../../data/Classificacao/X_training.csv')\n",
    "y_train = pd.read_csv('../../data/Classificacao/y_training.csv').values.ravel()\n",
    "\n",
    "# Dados de Test\n",
    "X_test = pd.read_csv('../../data/Classificacao/X_test.csv')\n",
    "y_test = pd.read_csv('../../data/Classificacao/y_test.csv').values.ravel()\n",
    "\n",
    "# Dados de Validacao\n",
    "X_val = pd.read_csv('../../data/Classificacao/X_validation.csv')\n",
    "y_val = pd.read_csv('../../data/Classificacao/y_validation.csv').values.ravel()"
   ]
  },
  {
   "cell_type": "code",
   "execution_count": 162,
   "metadata": {},
   "outputs": [],
   "source": [
    "# X_train = X_train.drop(columns=['id'])\n",
    "# X_test = X_test.drop(columns=['id'])\n",
    "# X_val = X_val.drop(columns=['id'])"
   ]
  },
  {
   "cell_type": "code",
   "execution_count": 163,
   "metadata": {},
   "outputs": [
    {
     "data": {
      "text/html": [
       "<div>\n",
       "<style scoped>\n",
       "    .dataframe tbody tr th:only-of-type {\n",
       "        vertical-align: middle;\n",
       "    }\n",
       "\n",
       "    .dataframe tbody tr th {\n",
       "        vertical-align: top;\n",
       "    }\n",
       "\n",
       "    .dataframe thead th {\n",
       "        text-align: right;\n",
       "    }\n",
       "</style>\n",
       "<table border=\"1\" class=\"dataframe\">\n",
       "  <thead>\n",
       "    <tr style=\"text-align: right;\">\n",
       "      <th></th>\n",
       "      <th>id</th>\n",
       "      <th>customer_type</th>\n",
       "      <th>age</th>\n",
       "      <th>class</th>\n",
       "      <th>flight_distance</th>\n",
       "      <th>inflight_wifi_service</th>\n",
       "      <th>departure_arrival_time_convenient</th>\n",
       "      <th>ease_of_online_booking</th>\n",
       "      <th>gate_location</th>\n",
       "      <th>food_and_drink</th>\n",
       "      <th>online_boarding</th>\n",
       "      <th>seat_comfort</th>\n",
       "      <th>inflight_entertainment</th>\n",
       "      <th>on_board_service</th>\n",
       "      <th>leg_room_service</th>\n",
       "      <th>baggage_handling</th>\n",
       "      <th>checkin_service</th>\n",
       "      <th>inflight_service</th>\n",
       "      <th>cleanliness</th>\n",
       "      <th>departure_delay_in_minutes</th>\n",
       "      <th>arrival_delay_in_minutes</th>\n",
       "      <th>gender_Female</th>\n",
       "      <th>gender_Male</th>\n",
       "      <th>type_of_travel_business_travel</th>\n",
       "      <th>type_of_travel_personal_travel</th>\n",
       "    </tr>\n",
       "  </thead>\n",
       "  <tbody>\n",
       "    <tr>\n",
       "      <th>0</th>\n",
       "      <td>13508</td>\n",
       "      <td>1</td>\n",
       "      <td>0.500000</td>\n",
       "      <td>0.0</td>\n",
       "      <td>0.039580</td>\n",
       "      <td>0.6</td>\n",
       "      <td>0.6</td>\n",
       "      <td>0.6</td>\n",
       "      <td>0.6</td>\n",
       "      <td>1.0</td>\n",
       "      <td>1.0</td>\n",
       "      <td>0.25</td>\n",
       "      <td>0.6</td>\n",
       "      <td>0.6</td>\n",
       "      <td>0.6</td>\n",
       "      <td>0.5</td>\n",
       "      <td>1.00</td>\n",
       "      <td>0.6</td>\n",
       "      <td>0.4</td>\n",
       "      <td>0.000000</td>\n",
       "      <td>0.013848</td>\n",
       "      <td>1.0</td>\n",
       "      <td>0.0</td>\n",
       "      <td>1.0</td>\n",
       "      <td>0.0</td>\n",
       "    </tr>\n",
       "    <tr>\n",
       "      <th>1</th>\n",
       "      <td>28874</td>\n",
       "      <td>1</td>\n",
       "      <td>0.243590</td>\n",
       "      <td>0.0</td>\n",
       "      <td>0.205775</td>\n",
       "      <td>0.6</td>\n",
       "      <td>0.4</td>\n",
       "      <td>0.4</td>\n",
       "      <td>0.4</td>\n",
       "      <td>0.6</td>\n",
       "      <td>0.8</td>\n",
       "      <td>0.50</td>\n",
       "      <td>0.6</td>\n",
       "      <td>0.4</td>\n",
       "      <td>0.8</td>\n",
       "      <td>0.5</td>\n",
       "      <td>0.50</td>\n",
       "      <td>0.2</td>\n",
       "      <td>0.6</td>\n",
       "      <td>0.000000</td>\n",
       "      <td>0.000000</td>\n",
       "      <td>0.0</td>\n",
       "      <td>1.0</td>\n",
       "      <td>1.0</td>\n",
       "      <td>0.0</td>\n",
       "    </tr>\n",
       "    <tr>\n",
       "      <th>2</th>\n",
       "      <td>21484</td>\n",
       "      <td>0</td>\n",
       "      <td>0.435897</td>\n",
       "      <td>1.0</td>\n",
       "      <td>0.026858</td>\n",
       "      <td>0.6</td>\n",
       "      <td>0.6</td>\n",
       "      <td>0.6</td>\n",
       "      <td>0.2</td>\n",
       "      <td>1.0</td>\n",
       "      <td>0.6</td>\n",
       "      <td>1.00</td>\n",
       "      <td>1.0</td>\n",
       "      <td>0.4</td>\n",
       "      <td>0.4</td>\n",
       "      <td>0.0</td>\n",
       "      <td>1.00</td>\n",
       "      <td>0.6</td>\n",
       "      <td>1.0</td>\n",
       "      <td>0.000000</td>\n",
       "      <td>0.000000</td>\n",
       "      <td>1.0</td>\n",
       "      <td>0.0</td>\n",
       "      <td>1.0</td>\n",
       "      <td>0.0</td>\n",
       "    </tr>\n",
       "    <tr>\n",
       "      <th>3</th>\n",
       "      <td>48280</td>\n",
       "      <td>1</td>\n",
       "      <td>0.589744</td>\n",
       "      <td>0.5</td>\n",
       "      <td>0.041397</td>\n",
       "      <td>0.6</td>\n",
       "      <td>1.0</td>\n",
       "      <td>0.6</td>\n",
       "      <td>0.6</td>\n",
       "      <td>0.8</td>\n",
       "      <td>1.0</td>\n",
       "      <td>0.00</td>\n",
       "      <td>0.4</td>\n",
       "      <td>0.4</td>\n",
       "      <td>0.6</td>\n",
       "      <td>0.0</td>\n",
       "      <td>1.00</td>\n",
       "      <td>0.4</td>\n",
       "      <td>0.4</td>\n",
       "      <td>0.029499</td>\n",
       "      <td>0.020772</td>\n",
       "      <td>1.0</td>\n",
       "      <td>0.0</td>\n",
       "      <td>0.0</td>\n",
       "      <td>1.0</td>\n",
       "    </tr>\n",
       "    <tr>\n",
       "      <th>4</th>\n",
       "      <td>472</td>\n",
       "      <td>0</td>\n",
       "      <td>0.423077</td>\n",
       "      <td>1.0</td>\n",
       "      <td>0.016559</td>\n",
       "      <td>0.2</td>\n",
       "      <td>0.2</td>\n",
       "      <td>0.2</td>\n",
       "      <td>0.8</td>\n",
       "      <td>0.6</td>\n",
       "      <td>0.2</td>\n",
       "      <td>0.50</td>\n",
       "      <td>0.6</td>\n",
       "      <td>1.0</td>\n",
       "      <td>0.6</td>\n",
       "      <td>1.0</td>\n",
       "      <td>0.75</td>\n",
       "      <td>0.8</td>\n",
       "      <td>0.6</td>\n",
       "      <td>0.021632</td>\n",
       "      <td>0.019782</td>\n",
       "      <td>0.0</td>\n",
       "      <td>1.0</td>\n",
       "      <td>1.0</td>\n",
       "      <td>0.0</td>\n",
       "    </tr>\n",
       "  </tbody>\n",
       "</table>\n",
       "</div>"
      ],
      "text/plain": [
       "      id  customer_type       age  class  flight_distance  inflight_wifi_service  departure_arrival_time_convenient  ease_of_online_booking  gate_location  food_and_drink  online_boarding  seat_comfort  inflight_entertainment  on_board_service  leg_room_service  baggage_handling  checkin_service  inflight_service  cleanliness  departure_delay_in_minutes  arrival_delay_in_minutes  gender_Female  gender_Male  type_of_travel_business_travel  type_of_travel_personal_travel\n",
       "0  13508              1  0.500000    0.0         0.039580                    0.6                                0.6                     0.6            0.6             1.0              1.0          0.25                     0.6               0.6               0.6               0.5             1.00               0.6          0.4                    0.000000                  0.013848            1.0          0.0                             1.0                             0.0\n",
       "1  28874              1  0.243590    0.0         0.205775                    0.6                                0.4                     0.4            0.4             0.6              0.8          0.50                     0.6               0.4               0.8               0.5             0.50               0.2          0.6                    0.000000                  0.000000            0.0          1.0                             1.0                             0.0\n",
       "2  21484              0  0.435897    1.0         0.026858                    0.6                                0.6                     0.6            0.2             1.0              0.6          1.00                     1.0               0.4               0.4               0.0             1.00               0.6          1.0                    0.000000                  0.000000            1.0          0.0                             1.0                             0.0\n",
       "3  48280              1  0.589744    0.5         0.041397                    0.6                                1.0                     0.6            0.6             0.8              1.0          0.00                     0.4               0.4               0.6               0.0             1.00               0.4          0.4                    0.029499                  0.020772            1.0          0.0                             0.0                             1.0\n",
       "4    472              0  0.423077    1.0         0.016559                    0.2                                0.2                     0.2            0.8             0.6              0.2          0.50                     0.6               1.0               0.6               1.0             0.75               0.8          0.6                    0.021632                  0.019782            0.0          1.0                             1.0                             0.0"
      ]
     },
     "execution_count": 163,
     "metadata": {},
     "output_type": "execute_result"
    }
   ],
   "source": [
    "X_train.head()"
   ]
  },
  {
   "cell_type": "markdown",
   "metadata": {},
   "source": [
    "# Machine Learning Models"
   ]
  },
  {
   "cell_type": "markdown",
   "metadata": {},
   "source": [
    "## KNN"
   ]
  },
  {
   "cell_type": "code",
   "execution_count": 164,
   "metadata": {},
   "outputs": [],
   "source": [
    "# neigh = np.arange(1,10,1)\n",
    "# results = []\n",
    "# knn_results = pd.DataFrame()\n",
    "# for k in range(1,10,2):\n",
    "# #         # Model Definition\n",
    "#     knn = KNeighborsClassifier(n_neighbors=k, n_jobs= -1)\n",
    "        \n",
    "#     # Model Train\n",
    "#     #knn.fit(X_train, y_train)\n",
    "#     knn.fit(np.array(X_train), np.array(y_train))\n",
    "\n",
    "#     #knn.fit(X_train, y_train)\n",
    "#     y_pred = knn.predict(np.array(X_val))\n",
    "#     report = report_classification(y_val, y_pred)\n",
    "\n",
    "    \n",
    "    \n",
    "#     results.append({\n",
    "#              'n_neighbors': k,\n",
    "#              'Accuracy': report['Accuracy'],\n",
    "#              'Precision': report['Precision'],\n",
    "#              'Recall': report['Recall'],\n",
    "#              'f1-Score': report['f1-Score'],\n",
    "#              'Dataset': 'Val'\n",
    "#          })\n",
    "    \n",
    "#     df_aux = pd.DataFrame(results)\n",
    "#     knn_results = pd.concat([knn_results, df_aux], axis=0).drop_duplicates()\n",
    "\n"
   ]
  },
  {
   "cell_type": "code",
   "execution_count": 165,
   "metadata": {},
   "outputs": [],
   "source": [
    "# for k in range(1,10,2):\n",
    "# # #         # Model Definition\n",
    "#     knn = KNeighborsClassifier(n_neighbors=k, n_jobs= -1)\n",
    "        \n",
    "# #     # Model Train\n",
    "#     knn.fit(X_train, y_train)\n",
    "\n",
    "# #     #knn.fit(X_train, y_train)\n",
    "#     y_pred = knn.predict(np.array(X_val))\n",
    "#     report = report_classification(y_val, y_pred, 'KNN')"
   ]
  },
  {
   "cell_type": "code",
   "execution_count": 166,
   "metadata": {},
   "outputs": [
    {
     "data": {
      "text/plain": [
       "{'Model': 'KNN',\n",
       " 'Accuracy': 0.6664950609736477,\n",
       " 'Precision': 0.6242395132885047,\n",
       " 'Recall': 0.5789590912465662,\n",
       " 'f1-Score': 0.6007472747582913}"
      ]
     },
     "execution_count": 166,
     "metadata": {},
     "output_type": "execute_result"
    }
   ],
   "source": [
    "# pd.DataFrame([report])\n",
    "report"
   ]
  },
  {
   "cell_type": "code",
   "execution_count": 167,
   "metadata": {},
   "outputs": [],
   "source": [
    "def knn_fine_tuning(trial):\n",
    "    n_neighbors = trial.suggest_int('n_neighbors', 1,10)\n",
    "\n",
    "    knn_model = KNeighborsClassifier(n_neighbors = n_neighbors, n_jobs=-1 )\n",
    "    knn_model.fit(np.array(X_train), np.array(y_train))\n",
    "\n",
    "    y_pred = knn_model.predict(np.array(X_val))\n",
    "\n",
    "    return precision_score(y_val, y_pred)"
   ]
  },
  {
   "cell_type": "code",
   "execution_count": 168,
   "metadata": {},
   "outputs": [
    {
     "name": "stderr",
     "output_type": "stream",
     "text": [
      "[I 2023-08-22 19:15:50,363] A new study created in memory with name: no-name-829c8779-38b7-4c18-a59e-94eda7bc9a9b\n"
     ]
    },
    {
     "name": "stderr",
     "output_type": "stream",
     "text": [
      "[I 2023-08-22 19:15:57,169] Trial 0 finished with value: 0.6696609988236553 and parameters: {'n_neighbors': 4}. Best is trial 0 with value: 0.6696609988236553.\n",
      "[I 2023-08-22 19:16:04,187] Trial 1 finished with value: 0.6242395132885047 and parameters: {'n_neighbors': 9}. Best is trial 0 with value: 0.6696609988236553.\n",
      "[I 2023-08-22 19:16:10,942] Trial 2 finished with value: 0.6262340301974448 and parameters: {'n_neighbors': 1}. Best is trial 0 with value: 0.6696609988236553.\n",
      "[I 2023-08-22 19:16:17,535] Trial 3 finished with value: 0.6696609988236553 and parameters: {'n_neighbors': 4}. Best is trial 0 with value: 0.6696609988236553.\n",
      "[I 2023-08-22 19:16:24,433] Trial 4 finished with value: 0.6470024899444551 and parameters: {'n_neighbors': 10}. Best is trial 0 with value: 0.6696609988236553.\n",
      "[I 2023-08-22 19:16:31,251] Trial 5 finished with value: 0.631775410218524 and parameters: {'n_neighbors': 5}. Best is trial 0 with value: 0.6696609988236553.\n",
      "[I 2023-08-22 19:16:38,276] Trial 6 finished with value: 0.631775410218524 and parameters: {'n_neighbors': 5}. Best is trial 0 with value: 0.6696609988236553.\n",
      "[I 2023-08-22 19:16:44,966] Trial 7 finished with value: 0.6278511404561825 and parameters: {'n_neighbors': 3}. Best is trial 0 with value: 0.6696609988236553.\n",
      "[I 2023-08-22 19:16:53,044] Trial 8 finished with value: 0.6227083169407507 and parameters: {'n_neighbors': 7}. Best is trial 0 with value: 0.6696609988236553.\n",
      "[I 2023-08-22 19:17:02,272] Trial 9 finished with value: 0.631775410218524 and parameters: {'n_neighbors': 5}. Best is trial 0 with value: 0.6696609988236553.\n",
      "[I 2023-08-22 19:17:10,493] Trial 10 finished with value: 0.6262340301974448 and parameters: {'n_neighbors': 1}. Best is trial 0 with value: 0.6696609988236553.\n",
      "[I 2023-08-22 19:17:19,461] Trial 11 finished with value: 0.6278511404561825 and parameters: {'n_neighbors': 3}. Best is trial 0 with value: 0.6696609988236553.\n",
      "[I 2023-08-22 19:17:27,809] Trial 12 finished with value: 0.6278511404561825 and parameters: {'n_neighbors': 3}. Best is trial 0 with value: 0.6696609988236553.\n",
      "[I 2023-08-22 19:17:37,482] Trial 13 finished with value: 0.6227083169407507 and parameters: {'n_neighbors': 7}. Best is trial 0 with value: 0.6696609988236553.\n",
      "[I 2023-08-22 19:17:46,250] Trial 14 finished with value: 0.6696609988236553 and parameters: {'n_neighbors': 4}. Best is trial 0 with value: 0.6696609988236553.\n",
      "[I 2023-08-22 19:17:54,625] Trial 15 finished with value: 0.6227083169407507 and parameters: {'n_neighbors': 7}. Best is trial 0 with value: 0.6696609988236553.\n",
      "[I 2023-08-22 19:18:01,713] Trial 16 finished with value: 0.6839209802450613 and parameters: {'n_neighbors': 2}. Best is trial 16 with value: 0.6839209802450613.\n",
      "[I 2023-08-22 19:18:08,951] Trial 17 finished with value: 0.6839209802450613 and parameters: {'n_neighbors': 2}. Best is trial 16 with value: 0.6839209802450613.\n",
      "[I 2023-08-22 19:18:18,659] Trial 18 finished with value: 0.6839209802450613 and parameters: {'n_neighbors': 2}. Best is trial 16 with value: 0.6839209802450613.\n",
      "[I 2023-08-22 19:18:26,297] Trial 19 finished with value: 0.6839209802450613 and parameters: {'n_neighbors': 2}. Best is trial 16 with value: 0.6839209802450613.\n"
     ]
    }
   ],
   "source": [
    "study = optuna.create_study(direction='maximize')\n",
    "study.optimize(knn_fine_tuning, n_trials=20)"
   ]
  },
  {
   "cell_type": "code",
   "execution_count": 169,
   "metadata": {},
   "outputs": [
    {
     "ename": "ValueError",
     "evalue": "Mime type rendering requires nbformat>=4.2.0 but it is not installed",
     "output_type": "error",
     "traceback": [
      "\u001b[1;31m---------------------------------------------------------------------------\u001b[0m",
      "\u001b[1;31mValueError\u001b[0m                                Traceback (most recent call last)",
      "File \u001b[1;32mc:\\Users\\thale\\anaconda3\\envs\\myenv\\lib\\site-packages\\IPython\\core\\formatters.py:922\u001b[0m, in \u001b[0;36mIPythonDisplayFormatter.__call__\u001b[1;34m(self, obj)\u001b[0m\n\u001b[0;32m    920\u001b[0m method \u001b[39m=\u001b[39m get_real_method(obj, \u001b[39mself\u001b[39m\u001b[39m.\u001b[39mprint_method)\n\u001b[0;32m    921\u001b[0m \u001b[39mif\u001b[39;00m method \u001b[39mis\u001b[39;00m \u001b[39mnot\u001b[39;00m \u001b[39mNone\u001b[39;00m:\n\u001b[1;32m--> 922\u001b[0m     method()\n\u001b[0;32m    923\u001b[0m     \u001b[39mreturn\u001b[39;00m \u001b[39mTrue\u001b[39;00m\n",
      "File \u001b[1;32mc:\\Users\\thale\\anaconda3\\envs\\myenv\\lib\\site-packages\\plotly\\basedatatypes.py:834\u001b[0m, in \u001b[0;36mBaseFigure._ipython_display_\u001b[1;34m(self)\u001b[0m\n\u001b[0;32m    831\u001b[0m \u001b[39mimport\u001b[39;00m \u001b[39mplotly\u001b[39;00m\u001b[39m.\u001b[39;00m\u001b[39mio\u001b[39;00m \u001b[39mas\u001b[39;00m \u001b[39mpio\u001b[39;00m\n\u001b[0;32m    833\u001b[0m \u001b[39mif\u001b[39;00m pio\u001b[39m.\u001b[39mrenderers\u001b[39m.\u001b[39mrender_on_display \u001b[39mand\u001b[39;00m pio\u001b[39m.\u001b[39mrenderers\u001b[39m.\u001b[39mdefault:\n\u001b[1;32m--> 834\u001b[0m     pio\u001b[39m.\u001b[39;49mshow(\u001b[39mself\u001b[39;49m)\n\u001b[0;32m    835\u001b[0m \u001b[39melse\u001b[39;00m:\n\u001b[0;32m    836\u001b[0m     \u001b[39mprint\u001b[39m(\u001b[39mrepr\u001b[39m(\u001b[39mself\u001b[39m))\n",
      "File \u001b[1;32mc:\\Users\\thale\\anaconda3\\envs\\myenv\\lib\\site-packages\\plotly\\io\\_renderers.py:396\u001b[0m, in \u001b[0;36mshow\u001b[1;34m(fig, renderer, validate, **kwargs)\u001b[0m\n\u001b[0;32m    391\u001b[0m         \u001b[39mraise\u001b[39;00m \u001b[39mValueError\u001b[39;00m(\n\u001b[0;32m    392\u001b[0m             \u001b[39m\"\u001b[39m\u001b[39mMime type rendering requires ipython but it is not installed\u001b[39m\u001b[39m\"\u001b[39m\n\u001b[0;32m    393\u001b[0m         )\n\u001b[0;32m    395\u001b[0m     \u001b[39mif\u001b[39;00m \u001b[39mnot\u001b[39;00m nbformat \u001b[39mor\u001b[39;00m Version(nbformat\u001b[39m.\u001b[39m__version__) \u001b[39m<\u001b[39m Version(\u001b[39m\"\u001b[39m\u001b[39m4.2.0\u001b[39m\u001b[39m\"\u001b[39m):\n\u001b[1;32m--> 396\u001b[0m         \u001b[39mraise\u001b[39;00m \u001b[39mValueError\u001b[39;00m(\n\u001b[0;32m    397\u001b[0m             \u001b[39m\"\u001b[39m\u001b[39mMime type rendering requires nbformat>=4.2.0 but it is not installed\u001b[39m\u001b[39m\"\u001b[39m\n\u001b[0;32m    398\u001b[0m         )\n\u001b[0;32m    400\u001b[0m     ipython_display\u001b[39m.\u001b[39mdisplay(bundle, raw\u001b[39m=\u001b[39m\u001b[39mTrue\u001b[39;00m)\n\u001b[0;32m    402\u001b[0m \u001b[39m# external renderers\u001b[39;00m\n",
      "\u001b[1;31mValueError\u001b[0m: Mime type rendering requires nbformat>=4.2.0 but it is not installed"
     ]
    },
    {
     "data": {
      "application/vnd.plotly.v1+json": {
       "config": {
        "plotlyServerURL": "https://plot.ly"
       },
       "data": [
        {
         "mode": "markers",
         "name": "Objective Value",
         "type": "scatter",
         "x": [
          0,
          1,
          2,
          3,
          4,
          5,
          6,
          7,
          8,
          9,
          10,
          11,
          12,
          13,
          14,
          15,
          16,
          17,
          18,
          19
         ],
         "y": [
          0.6696609988236553,
          0.6242395132885047,
          0.6262340301974448,
          0.6696609988236553,
          0.6470024899444551,
          0.631775410218524,
          0.631775410218524,
          0.6278511404561825,
          0.6227083169407507,
          0.631775410218524,
          0.6262340301974448,
          0.6278511404561825,
          0.6278511404561825,
          0.6227083169407507,
          0.6696609988236553,
          0.6227083169407507,
          0.6839209802450613,
          0.6839209802450613,
          0.6839209802450613,
          0.6839209802450613
         ]
        },
        {
         "mode": "lines",
         "name": "Best Value",
         "type": "scatter",
         "x": [
          0,
          1,
          2,
          3,
          4,
          5,
          6,
          7,
          8,
          9,
          10,
          11,
          12,
          13,
          14,
          15,
          16,
          17,
          18,
          19
         ],
         "y": [
          0.6696609988236553,
          0.6696609988236553,
          0.6696609988236553,
          0.6696609988236553,
          0.6696609988236553,
          0.6696609988236553,
          0.6696609988236553,
          0.6696609988236553,
          0.6696609988236553,
          0.6696609988236553,
          0.6696609988236553,
          0.6696609988236553,
          0.6696609988236553,
          0.6696609988236553,
          0.6696609988236553,
          0.6696609988236553,
          0.6839209802450613,
          0.6839209802450613,
          0.6839209802450613,
          0.6839209802450613
         ]
        },
        {
         "marker": {
          "color": "#cccccc"
         },
         "mode": "markers",
         "name": "Infeasible Trial",
         "showlegend": false,
         "type": "scatter",
         "x": [],
         "y": []
        }
       ],
       "layout": {
        "template": {
         "data": {
          "bar": [
           {
            "error_x": {
             "color": "#2a3f5f"
            },
            "error_y": {
             "color": "#2a3f5f"
            },
            "marker": {
             "line": {
              "color": "#E5ECF6",
              "width": 0.5
             },
             "pattern": {
              "fillmode": "overlay",
              "size": 10,
              "solidity": 0.2
             }
            },
            "type": "bar"
           }
          ],
          "barpolar": [
           {
            "marker": {
             "line": {
              "color": "#E5ECF6",
              "width": 0.5
             },
             "pattern": {
              "fillmode": "overlay",
              "size": 10,
              "solidity": 0.2
             }
            },
            "type": "barpolar"
           }
          ],
          "carpet": [
           {
            "aaxis": {
             "endlinecolor": "#2a3f5f",
             "gridcolor": "white",
             "linecolor": "white",
             "minorgridcolor": "white",
             "startlinecolor": "#2a3f5f"
            },
            "baxis": {
             "endlinecolor": "#2a3f5f",
             "gridcolor": "white",
             "linecolor": "white",
             "minorgridcolor": "white",
             "startlinecolor": "#2a3f5f"
            },
            "type": "carpet"
           }
          ],
          "choropleth": [
           {
            "colorbar": {
             "outlinewidth": 0,
             "ticks": ""
            },
            "type": "choropleth"
           }
          ],
          "contour": [
           {
            "colorbar": {
             "outlinewidth": 0,
             "ticks": ""
            },
            "colorscale": [
             [
              0,
              "#0d0887"
             ],
             [
              0.1111111111111111,
              "#46039f"
             ],
             [
              0.2222222222222222,
              "#7201a8"
             ],
             [
              0.3333333333333333,
              "#9c179e"
             ],
             [
              0.4444444444444444,
              "#bd3786"
             ],
             [
              0.5555555555555556,
              "#d8576b"
             ],
             [
              0.6666666666666666,
              "#ed7953"
             ],
             [
              0.7777777777777778,
              "#fb9f3a"
             ],
             [
              0.8888888888888888,
              "#fdca26"
             ],
             [
              1,
              "#f0f921"
             ]
            ],
            "type": "contour"
           }
          ],
          "contourcarpet": [
           {
            "colorbar": {
             "outlinewidth": 0,
             "ticks": ""
            },
            "type": "contourcarpet"
           }
          ],
          "heatmap": [
           {
            "colorbar": {
             "outlinewidth": 0,
             "ticks": ""
            },
            "colorscale": [
             [
              0,
              "#0d0887"
             ],
             [
              0.1111111111111111,
              "#46039f"
             ],
             [
              0.2222222222222222,
              "#7201a8"
             ],
             [
              0.3333333333333333,
              "#9c179e"
             ],
             [
              0.4444444444444444,
              "#bd3786"
             ],
             [
              0.5555555555555556,
              "#d8576b"
             ],
             [
              0.6666666666666666,
              "#ed7953"
             ],
             [
              0.7777777777777778,
              "#fb9f3a"
             ],
             [
              0.8888888888888888,
              "#fdca26"
             ],
             [
              1,
              "#f0f921"
             ]
            ],
            "type": "heatmap"
           }
          ],
          "heatmapgl": [
           {
            "colorbar": {
             "outlinewidth": 0,
             "ticks": ""
            },
            "colorscale": [
             [
              0,
              "#0d0887"
             ],
             [
              0.1111111111111111,
              "#46039f"
             ],
             [
              0.2222222222222222,
              "#7201a8"
             ],
             [
              0.3333333333333333,
              "#9c179e"
             ],
             [
              0.4444444444444444,
              "#bd3786"
             ],
             [
              0.5555555555555556,
              "#d8576b"
             ],
             [
              0.6666666666666666,
              "#ed7953"
             ],
             [
              0.7777777777777778,
              "#fb9f3a"
             ],
             [
              0.8888888888888888,
              "#fdca26"
             ],
             [
              1,
              "#f0f921"
             ]
            ],
            "type": "heatmapgl"
           }
          ],
          "histogram": [
           {
            "marker": {
             "pattern": {
              "fillmode": "overlay",
              "size": 10,
              "solidity": 0.2
             }
            },
            "type": "histogram"
           }
          ],
          "histogram2d": [
           {
            "colorbar": {
             "outlinewidth": 0,
             "ticks": ""
            },
            "colorscale": [
             [
              0,
              "#0d0887"
             ],
             [
              0.1111111111111111,
              "#46039f"
             ],
             [
              0.2222222222222222,
              "#7201a8"
             ],
             [
              0.3333333333333333,
              "#9c179e"
             ],
             [
              0.4444444444444444,
              "#bd3786"
             ],
             [
              0.5555555555555556,
              "#d8576b"
             ],
             [
              0.6666666666666666,
              "#ed7953"
             ],
             [
              0.7777777777777778,
              "#fb9f3a"
             ],
             [
              0.8888888888888888,
              "#fdca26"
             ],
             [
              1,
              "#f0f921"
             ]
            ],
            "type": "histogram2d"
           }
          ],
          "histogram2dcontour": [
           {
            "colorbar": {
             "outlinewidth": 0,
             "ticks": ""
            },
            "colorscale": [
             [
              0,
              "#0d0887"
             ],
             [
              0.1111111111111111,
              "#46039f"
             ],
             [
              0.2222222222222222,
              "#7201a8"
             ],
             [
              0.3333333333333333,
              "#9c179e"
             ],
             [
              0.4444444444444444,
              "#bd3786"
             ],
             [
              0.5555555555555556,
              "#d8576b"
             ],
             [
              0.6666666666666666,
              "#ed7953"
             ],
             [
              0.7777777777777778,
              "#fb9f3a"
             ],
             [
              0.8888888888888888,
              "#fdca26"
             ],
             [
              1,
              "#f0f921"
             ]
            ],
            "type": "histogram2dcontour"
           }
          ],
          "mesh3d": [
           {
            "colorbar": {
             "outlinewidth": 0,
             "ticks": ""
            },
            "type": "mesh3d"
           }
          ],
          "parcoords": [
           {
            "line": {
             "colorbar": {
              "outlinewidth": 0,
              "ticks": ""
             }
            },
            "type": "parcoords"
           }
          ],
          "pie": [
           {
            "automargin": true,
            "type": "pie"
           }
          ],
          "scatter": [
           {
            "fillpattern": {
             "fillmode": "overlay",
             "size": 10,
             "solidity": 0.2
            },
            "type": "scatter"
           }
          ],
          "scatter3d": [
           {
            "line": {
             "colorbar": {
              "outlinewidth": 0,
              "ticks": ""
             }
            },
            "marker": {
             "colorbar": {
              "outlinewidth": 0,
              "ticks": ""
             }
            },
            "type": "scatter3d"
           }
          ],
          "scattercarpet": [
           {
            "marker": {
             "colorbar": {
              "outlinewidth": 0,
              "ticks": ""
             }
            },
            "type": "scattercarpet"
           }
          ],
          "scattergeo": [
           {
            "marker": {
             "colorbar": {
              "outlinewidth": 0,
              "ticks": ""
             }
            },
            "type": "scattergeo"
           }
          ],
          "scattergl": [
           {
            "marker": {
             "colorbar": {
              "outlinewidth": 0,
              "ticks": ""
             }
            },
            "type": "scattergl"
           }
          ],
          "scattermapbox": [
           {
            "marker": {
             "colorbar": {
              "outlinewidth": 0,
              "ticks": ""
             }
            },
            "type": "scattermapbox"
           }
          ],
          "scatterpolar": [
           {
            "marker": {
             "colorbar": {
              "outlinewidth": 0,
              "ticks": ""
             }
            },
            "type": "scatterpolar"
           }
          ],
          "scatterpolargl": [
           {
            "marker": {
             "colorbar": {
              "outlinewidth": 0,
              "ticks": ""
             }
            },
            "type": "scatterpolargl"
           }
          ],
          "scatterternary": [
           {
            "marker": {
             "colorbar": {
              "outlinewidth": 0,
              "ticks": ""
             }
            },
            "type": "scatterternary"
           }
          ],
          "surface": [
           {
            "colorbar": {
             "outlinewidth": 0,
             "ticks": ""
            },
            "colorscale": [
             [
              0,
              "#0d0887"
             ],
             [
              0.1111111111111111,
              "#46039f"
             ],
             [
              0.2222222222222222,
              "#7201a8"
             ],
             [
              0.3333333333333333,
              "#9c179e"
             ],
             [
              0.4444444444444444,
              "#bd3786"
             ],
             [
              0.5555555555555556,
              "#d8576b"
             ],
             [
              0.6666666666666666,
              "#ed7953"
             ],
             [
              0.7777777777777778,
              "#fb9f3a"
             ],
             [
              0.8888888888888888,
              "#fdca26"
             ],
             [
              1,
              "#f0f921"
             ]
            ],
            "type": "surface"
           }
          ],
          "table": [
           {
            "cells": {
             "fill": {
              "color": "#EBF0F8"
             },
             "line": {
              "color": "white"
             }
            },
            "header": {
             "fill": {
              "color": "#C8D4E3"
             },
             "line": {
              "color": "white"
             }
            },
            "type": "table"
           }
          ]
         },
         "layout": {
          "annotationdefaults": {
           "arrowcolor": "#2a3f5f",
           "arrowhead": 0,
           "arrowwidth": 1
          },
          "autotypenumbers": "strict",
          "coloraxis": {
           "colorbar": {
            "outlinewidth": 0,
            "ticks": ""
           }
          },
          "colorscale": {
           "diverging": [
            [
             0,
             "#8e0152"
            ],
            [
             0.1,
             "#c51b7d"
            ],
            [
             0.2,
             "#de77ae"
            ],
            [
             0.3,
             "#f1b6da"
            ],
            [
             0.4,
             "#fde0ef"
            ],
            [
             0.5,
             "#f7f7f7"
            ],
            [
             0.6,
             "#e6f5d0"
            ],
            [
             0.7,
             "#b8e186"
            ],
            [
             0.8,
             "#7fbc41"
            ],
            [
             0.9,
             "#4d9221"
            ],
            [
             1,
             "#276419"
            ]
           ],
           "sequential": [
            [
             0,
             "#0d0887"
            ],
            [
             0.1111111111111111,
             "#46039f"
            ],
            [
             0.2222222222222222,
             "#7201a8"
            ],
            [
             0.3333333333333333,
             "#9c179e"
            ],
            [
             0.4444444444444444,
             "#bd3786"
            ],
            [
             0.5555555555555556,
             "#d8576b"
            ],
            [
             0.6666666666666666,
             "#ed7953"
            ],
            [
             0.7777777777777778,
             "#fb9f3a"
            ],
            [
             0.8888888888888888,
             "#fdca26"
            ],
            [
             1,
             "#f0f921"
            ]
           ],
           "sequentialminus": [
            [
             0,
             "#0d0887"
            ],
            [
             0.1111111111111111,
             "#46039f"
            ],
            [
             0.2222222222222222,
             "#7201a8"
            ],
            [
             0.3333333333333333,
             "#9c179e"
            ],
            [
             0.4444444444444444,
             "#bd3786"
            ],
            [
             0.5555555555555556,
             "#d8576b"
            ],
            [
             0.6666666666666666,
             "#ed7953"
            ],
            [
             0.7777777777777778,
             "#fb9f3a"
            ],
            [
             0.8888888888888888,
             "#fdca26"
            ],
            [
             1,
             "#f0f921"
            ]
           ]
          },
          "colorway": [
           "#636efa",
           "#EF553B",
           "#00cc96",
           "#ab63fa",
           "#FFA15A",
           "#19d3f3",
           "#FF6692",
           "#B6E880",
           "#FF97FF",
           "#FECB52"
          ],
          "font": {
           "color": "#2a3f5f"
          },
          "geo": {
           "bgcolor": "white",
           "lakecolor": "white",
           "landcolor": "#E5ECF6",
           "showlakes": true,
           "showland": true,
           "subunitcolor": "white"
          },
          "hoverlabel": {
           "align": "left"
          },
          "hovermode": "closest",
          "mapbox": {
           "style": "light"
          },
          "paper_bgcolor": "white",
          "plot_bgcolor": "#E5ECF6",
          "polar": {
           "angularaxis": {
            "gridcolor": "white",
            "linecolor": "white",
            "ticks": ""
           },
           "bgcolor": "#E5ECF6",
           "radialaxis": {
            "gridcolor": "white",
            "linecolor": "white",
            "ticks": ""
           }
          },
          "scene": {
           "xaxis": {
            "backgroundcolor": "#E5ECF6",
            "gridcolor": "white",
            "gridwidth": 2,
            "linecolor": "white",
            "showbackground": true,
            "ticks": "",
            "zerolinecolor": "white"
           },
           "yaxis": {
            "backgroundcolor": "#E5ECF6",
            "gridcolor": "white",
            "gridwidth": 2,
            "linecolor": "white",
            "showbackground": true,
            "ticks": "",
            "zerolinecolor": "white"
           },
           "zaxis": {
            "backgroundcolor": "#E5ECF6",
            "gridcolor": "white",
            "gridwidth": 2,
            "linecolor": "white",
            "showbackground": true,
            "ticks": "",
            "zerolinecolor": "white"
           }
          },
          "shapedefaults": {
           "line": {
            "color": "#2a3f5f"
           }
          },
          "ternary": {
           "aaxis": {
            "gridcolor": "white",
            "linecolor": "white",
            "ticks": ""
           },
           "baxis": {
            "gridcolor": "white",
            "linecolor": "white",
            "ticks": ""
           },
           "bgcolor": "#E5ECF6",
           "caxis": {
            "gridcolor": "white",
            "linecolor": "white",
            "ticks": ""
           }
          },
          "title": {
           "x": 0.05
          },
          "xaxis": {
           "automargin": true,
           "gridcolor": "white",
           "linecolor": "white",
           "ticks": "",
           "title": {
            "standoff": 15
           },
           "zerolinecolor": "white",
           "zerolinewidth": 2
          },
          "yaxis": {
           "automargin": true,
           "gridcolor": "white",
           "linecolor": "white",
           "ticks": "",
           "title": {
            "standoff": 15
           },
           "zerolinecolor": "white",
           "zerolinewidth": 2
          }
         }
        },
        "title": {
         "text": "Optimization History Plot"
        },
        "xaxis": {
         "title": {
          "text": "Trial"
         }
        },
        "yaxis": {
         "title": {
          "text": "Objective Value"
         }
        }
       }
      },
      "text/html": [
       "<div>                        <script type=\"text/javascript\">window.PlotlyConfig = {MathJaxConfig: 'local'};</script>\n",
       "        <script charset=\"utf-8\" src=\"https://cdn.plot.ly/plotly-2.25.2.min.js\"></script>                <div id=\"426c4ccd-c6c3-4632-b1bb-fbc5c4fd4644\" class=\"plotly-graph-div\" style=\"height:100%; width:100%;\"></div>            <script type=\"text/javascript\">                                    window.PLOTLYENV=window.PLOTLYENV || {};                                    if (document.getElementById(\"426c4ccd-c6c3-4632-b1bb-fbc5c4fd4644\")) {                    Plotly.newPlot(                        \"426c4ccd-c6c3-4632-b1bb-fbc5c4fd4644\",                        [{\"mode\":\"markers\",\"name\":\"Objective Value\",\"x\":[0,1,2,3,4,5,6,7,8,9,10,11,12,13,14,15,16,17,18,19],\"y\":[0.6696609988236553,0.6242395132885047,0.6262340301974448,0.6696609988236553,0.6470024899444551,0.631775410218524,0.631775410218524,0.6278511404561825,0.6227083169407507,0.631775410218524,0.6262340301974448,0.6278511404561825,0.6278511404561825,0.6227083169407507,0.6696609988236553,0.6227083169407507,0.6839209802450613,0.6839209802450613,0.6839209802450613,0.6839209802450613],\"type\":\"scatter\"},{\"mode\":\"lines\",\"name\":\"Best Value\",\"x\":[0,1,2,3,4,5,6,7,8,9,10,11,12,13,14,15,16,17,18,19],\"y\":[0.6696609988236553,0.6696609988236553,0.6696609988236553,0.6696609988236553,0.6696609988236553,0.6696609988236553,0.6696609988236553,0.6696609988236553,0.6696609988236553,0.6696609988236553,0.6696609988236553,0.6696609988236553,0.6696609988236553,0.6696609988236553,0.6696609988236553,0.6696609988236553,0.6839209802450613,0.6839209802450613,0.6839209802450613,0.6839209802450613],\"type\":\"scatter\"},{\"marker\":{\"color\":\"#cccccc\"},\"mode\":\"markers\",\"name\":\"Infeasible Trial\",\"showlegend\":false,\"x\":[],\"y\":[],\"type\":\"scatter\"}],                        {\"title\":{\"text\":\"Optimization History Plot\"},\"xaxis\":{\"title\":{\"text\":\"Trial\"}},\"yaxis\":{\"title\":{\"text\":\"Objective Value\"}},\"template\":{\"data\":{\"histogram2dcontour\":[{\"type\":\"histogram2dcontour\",\"colorbar\":{\"outlinewidth\":0,\"ticks\":\"\"},\"colorscale\":[[0.0,\"#0d0887\"],[0.1111111111111111,\"#46039f\"],[0.2222222222222222,\"#7201a8\"],[0.3333333333333333,\"#9c179e\"],[0.4444444444444444,\"#bd3786\"],[0.5555555555555556,\"#d8576b\"],[0.6666666666666666,\"#ed7953\"],[0.7777777777777778,\"#fb9f3a\"],[0.8888888888888888,\"#fdca26\"],[1.0,\"#f0f921\"]]}],\"choropleth\":[{\"type\":\"choropleth\",\"colorbar\":{\"outlinewidth\":0,\"ticks\":\"\"}}],\"histogram2d\":[{\"type\":\"histogram2d\",\"colorbar\":{\"outlinewidth\":0,\"ticks\":\"\"},\"colorscale\":[[0.0,\"#0d0887\"],[0.1111111111111111,\"#46039f\"],[0.2222222222222222,\"#7201a8\"],[0.3333333333333333,\"#9c179e\"],[0.4444444444444444,\"#bd3786\"],[0.5555555555555556,\"#d8576b\"],[0.6666666666666666,\"#ed7953\"],[0.7777777777777778,\"#fb9f3a\"],[0.8888888888888888,\"#fdca26\"],[1.0,\"#f0f921\"]]}],\"heatmap\":[{\"type\":\"heatmap\",\"colorbar\":{\"outlinewidth\":0,\"ticks\":\"\"},\"colorscale\":[[0.0,\"#0d0887\"],[0.1111111111111111,\"#46039f\"],[0.2222222222222222,\"#7201a8\"],[0.3333333333333333,\"#9c179e\"],[0.4444444444444444,\"#bd3786\"],[0.5555555555555556,\"#d8576b\"],[0.6666666666666666,\"#ed7953\"],[0.7777777777777778,\"#fb9f3a\"],[0.8888888888888888,\"#fdca26\"],[1.0,\"#f0f921\"]]}],\"heatmapgl\":[{\"type\":\"heatmapgl\",\"colorbar\":{\"outlinewidth\":0,\"ticks\":\"\"},\"colorscale\":[[0.0,\"#0d0887\"],[0.1111111111111111,\"#46039f\"],[0.2222222222222222,\"#7201a8\"],[0.3333333333333333,\"#9c179e\"],[0.4444444444444444,\"#bd3786\"],[0.5555555555555556,\"#d8576b\"],[0.6666666666666666,\"#ed7953\"],[0.7777777777777778,\"#fb9f3a\"],[0.8888888888888888,\"#fdca26\"],[1.0,\"#f0f921\"]]}],\"contourcarpet\":[{\"type\":\"contourcarpet\",\"colorbar\":{\"outlinewidth\":0,\"ticks\":\"\"}}],\"contour\":[{\"type\":\"contour\",\"colorbar\":{\"outlinewidth\":0,\"ticks\":\"\"},\"colorscale\":[[0.0,\"#0d0887\"],[0.1111111111111111,\"#46039f\"],[0.2222222222222222,\"#7201a8\"],[0.3333333333333333,\"#9c179e\"],[0.4444444444444444,\"#bd3786\"],[0.5555555555555556,\"#d8576b\"],[0.6666666666666666,\"#ed7953\"],[0.7777777777777778,\"#fb9f3a\"],[0.8888888888888888,\"#fdca26\"],[1.0,\"#f0f921\"]]}],\"surface\":[{\"type\":\"surface\",\"colorbar\":{\"outlinewidth\":0,\"ticks\":\"\"},\"colorscale\":[[0.0,\"#0d0887\"],[0.1111111111111111,\"#46039f\"],[0.2222222222222222,\"#7201a8\"],[0.3333333333333333,\"#9c179e\"],[0.4444444444444444,\"#bd3786\"],[0.5555555555555556,\"#d8576b\"],[0.6666666666666666,\"#ed7953\"],[0.7777777777777778,\"#fb9f3a\"],[0.8888888888888888,\"#fdca26\"],[1.0,\"#f0f921\"]]}],\"mesh3d\":[{\"type\":\"mesh3d\",\"colorbar\":{\"outlinewidth\":0,\"ticks\":\"\"}}],\"scatter\":[{\"fillpattern\":{\"fillmode\":\"overlay\",\"size\":10,\"solidity\":0.2},\"type\":\"scatter\"}],\"parcoords\":[{\"type\":\"parcoords\",\"line\":{\"colorbar\":{\"outlinewidth\":0,\"ticks\":\"\"}}}],\"scatterpolargl\":[{\"type\":\"scatterpolargl\",\"marker\":{\"colorbar\":{\"outlinewidth\":0,\"ticks\":\"\"}}}],\"bar\":[{\"error_x\":{\"color\":\"#2a3f5f\"},\"error_y\":{\"color\":\"#2a3f5f\"},\"marker\":{\"line\":{\"color\":\"#E5ECF6\",\"width\":0.5},\"pattern\":{\"fillmode\":\"overlay\",\"size\":10,\"solidity\":0.2}},\"type\":\"bar\"}],\"scattergeo\":[{\"type\":\"scattergeo\",\"marker\":{\"colorbar\":{\"outlinewidth\":0,\"ticks\":\"\"}}}],\"scatterpolar\":[{\"type\":\"scatterpolar\",\"marker\":{\"colorbar\":{\"outlinewidth\":0,\"ticks\":\"\"}}}],\"histogram\":[{\"marker\":{\"pattern\":{\"fillmode\":\"overlay\",\"size\":10,\"solidity\":0.2}},\"type\":\"histogram\"}],\"scattergl\":[{\"type\":\"scattergl\",\"marker\":{\"colorbar\":{\"outlinewidth\":0,\"ticks\":\"\"}}}],\"scatter3d\":[{\"type\":\"scatter3d\",\"line\":{\"colorbar\":{\"outlinewidth\":0,\"ticks\":\"\"}},\"marker\":{\"colorbar\":{\"outlinewidth\":0,\"ticks\":\"\"}}}],\"scattermapbox\":[{\"type\":\"scattermapbox\",\"marker\":{\"colorbar\":{\"outlinewidth\":0,\"ticks\":\"\"}}}],\"scatterternary\":[{\"type\":\"scatterternary\",\"marker\":{\"colorbar\":{\"outlinewidth\":0,\"ticks\":\"\"}}}],\"scattercarpet\":[{\"type\":\"scattercarpet\",\"marker\":{\"colorbar\":{\"outlinewidth\":0,\"ticks\":\"\"}}}],\"carpet\":[{\"aaxis\":{\"endlinecolor\":\"#2a3f5f\",\"gridcolor\":\"white\",\"linecolor\":\"white\",\"minorgridcolor\":\"white\",\"startlinecolor\":\"#2a3f5f\"},\"baxis\":{\"endlinecolor\":\"#2a3f5f\",\"gridcolor\":\"white\",\"linecolor\":\"white\",\"minorgridcolor\":\"white\",\"startlinecolor\":\"#2a3f5f\"},\"type\":\"carpet\"}],\"table\":[{\"cells\":{\"fill\":{\"color\":\"#EBF0F8\"},\"line\":{\"color\":\"white\"}},\"header\":{\"fill\":{\"color\":\"#C8D4E3\"},\"line\":{\"color\":\"white\"}},\"type\":\"table\"}],\"barpolar\":[{\"marker\":{\"line\":{\"color\":\"#E5ECF6\",\"width\":0.5},\"pattern\":{\"fillmode\":\"overlay\",\"size\":10,\"solidity\":0.2}},\"type\":\"barpolar\"}],\"pie\":[{\"automargin\":true,\"type\":\"pie\"}]},\"layout\":{\"autotypenumbers\":\"strict\",\"colorway\":[\"#636efa\",\"#EF553B\",\"#00cc96\",\"#ab63fa\",\"#FFA15A\",\"#19d3f3\",\"#FF6692\",\"#B6E880\",\"#FF97FF\",\"#FECB52\"],\"font\":{\"color\":\"#2a3f5f\"},\"hovermode\":\"closest\",\"hoverlabel\":{\"align\":\"left\"},\"paper_bgcolor\":\"white\",\"plot_bgcolor\":\"#E5ECF6\",\"polar\":{\"bgcolor\":\"#E5ECF6\",\"angularaxis\":{\"gridcolor\":\"white\",\"linecolor\":\"white\",\"ticks\":\"\"},\"radialaxis\":{\"gridcolor\":\"white\",\"linecolor\":\"white\",\"ticks\":\"\"}},\"ternary\":{\"bgcolor\":\"#E5ECF6\",\"aaxis\":{\"gridcolor\":\"white\",\"linecolor\":\"white\",\"ticks\":\"\"},\"baxis\":{\"gridcolor\":\"white\",\"linecolor\":\"white\",\"ticks\":\"\"},\"caxis\":{\"gridcolor\":\"white\",\"linecolor\":\"white\",\"ticks\":\"\"}},\"coloraxis\":{\"colorbar\":{\"outlinewidth\":0,\"ticks\":\"\"}},\"colorscale\":{\"sequential\":[[0.0,\"#0d0887\"],[0.1111111111111111,\"#46039f\"],[0.2222222222222222,\"#7201a8\"],[0.3333333333333333,\"#9c179e\"],[0.4444444444444444,\"#bd3786\"],[0.5555555555555556,\"#d8576b\"],[0.6666666666666666,\"#ed7953\"],[0.7777777777777778,\"#fb9f3a\"],[0.8888888888888888,\"#fdca26\"],[1.0,\"#f0f921\"]],\"sequentialminus\":[[0.0,\"#0d0887\"],[0.1111111111111111,\"#46039f\"],[0.2222222222222222,\"#7201a8\"],[0.3333333333333333,\"#9c179e\"],[0.4444444444444444,\"#bd3786\"],[0.5555555555555556,\"#d8576b\"],[0.6666666666666666,\"#ed7953\"],[0.7777777777777778,\"#fb9f3a\"],[0.8888888888888888,\"#fdca26\"],[1.0,\"#f0f921\"]],\"diverging\":[[0,\"#8e0152\"],[0.1,\"#c51b7d\"],[0.2,\"#de77ae\"],[0.3,\"#f1b6da\"],[0.4,\"#fde0ef\"],[0.5,\"#f7f7f7\"],[0.6,\"#e6f5d0\"],[0.7,\"#b8e186\"],[0.8,\"#7fbc41\"],[0.9,\"#4d9221\"],[1,\"#276419\"]]},\"xaxis\":{\"gridcolor\":\"white\",\"linecolor\":\"white\",\"ticks\":\"\",\"title\":{\"standoff\":15},\"zerolinecolor\":\"white\",\"automargin\":true,\"zerolinewidth\":2},\"yaxis\":{\"gridcolor\":\"white\",\"linecolor\":\"white\",\"ticks\":\"\",\"title\":{\"standoff\":15},\"zerolinecolor\":\"white\",\"automargin\":true,\"zerolinewidth\":2},\"scene\":{\"xaxis\":{\"backgroundcolor\":\"#E5ECF6\",\"gridcolor\":\"white\",\"linecolor\":\"white\",\"showbackground\":true,\"ticks\":\"\",\"zerolinecolor\":\"white\",\"gridwidth\":2},\"yaxis\":{\"backgroundcolor\":\"#E5ECF6\",\"gridcolor\":\"white\",\"linecolor\":\"white\",\"showbackground\":true,\"ticks\":\"\",\"zerolinecolor\":\"white\",\"gridwidth\":2},\"zaxis\":{\"backgroundcolor\":\"#E5ECF6\",\"gridcolor\":\"white\",\"linecolor\":\"white\",\"showbackground\":true,\"ticks\":\"\",\"zerolinecolor\":\"white\",\"gridwidth\":2}},\"shapedefaults\":{\"line\":{\"color\":\"#2a3f5f\"}},\"annotationdefaults\":{\"arrowcolor\":\"#2a3f5f\",\"arrowhead\":0,\"arrowwidth\":1},\"geo\":{\"bgcolor\":\"white\",\"landcolor\":\"#E5ECF6\",\"subunitcolor\":\"white\",\"showland\":true,\"showlakes\":true,\"lakecolor\":\"white\"},\"title\":{\"x\":0.05},\"mapbox\":{\"style\":\"light\"}}}},                        {\"responsive\": true}                    )                };                            </script>        </div>"
      ],
      "text/plain": [
       "Figure({\n",
       "    'data': [{'mode': 'markers',\n",
       "              'name': 'Objective Value',\n",
       "              'type': 'scatter',\n",
       "              'x': [0, 1, 2, 3, 4, 5, 6, 7, 8, 9, 10, 11, 12, 13, 14, 15, 16, 17,\n",
       "                    18, 19],\n",
       "              'y': [0.6696609988236553, 0.6242395132885047, 0.6262340301974448,\n",
       "                    0.6696609988236553, 0.6470024899444551, 0.631775410218524,\n",
       "                    0.631775410218524, 0.6278511404561825, 0.6227083169407507,\n",
       "                    0.631775410218524, 0.6262340301974448, 0.6278511404561825,\n",
       "                    0.6278511404561825, 0.6227083169407507, 0.6696609988236553,\n",
       "                    0.6227083169407507, 0.6839209802450613, 0.6839209802450613,\n",
       "                    0.6839209802450613, 0.6839209802450613]},\n",
       "             {'mode': 'lines',\n",
       "              'name': 'Best Value',\n",
       "              'type': 'scatter',\n",
       "              'x': [0, 1, 2, 3, 4, 5, 6, 7, 8, 9, 10, 11, 12, 13, 14, 15, 16, 17,\n",
       "                    18, 19],\n",
       "              'y': [0.6696609988236553, 0.6696609988236553, 0.6696609988236553,\n",
       "                    0.6696609988236553, 0.6696609988236553, 0.6696609988236553,\n",
       "                    0.6696609988236553, 0.6696609988236553, 0.6696609988236553,\n",
       "                    0.6696609988236553, 0.6696609988236553, 0.6696609988236553,\n",
       "                    0.6696609988236553, 0.6696609988236553, 0.6696609988236553,\n",
       "                    0.6696609988236553, 0.6839209802450613, 0.6839209802450613,\n",
       "                    0.6839209802450613, 0.6839209802450613]},\n",
       "             {'marker': {'color': '#cccccc'},\n",
       "              'mode': 'markers',\n",
       "              'name': 'Infeasible Trial',\n",
       "              'showlegend': False,\n",
       "              'type': 'scatter',\n",
       "              'x': [],\n",
       "              'y': []}],\n",
       "    'layout': {'template': '...',\n",
       "               'title': {'text': 'Optimization History Plot'},\n",
       "               'xaxis': {'title': {'text': 'Trial'}},\n",
       "               'yaxis': {'title': {'text': 'Objective Value'}}}\n",
       "})"
      ]
     },
     "execution_count": 169,
     "metadata": {},
     "output_type": "execute_result"
    }
   ],
   "source": [
    "optuna.visualization.plot_optimization_history(study)"
   ]
  },
  {
   "cell_type": "code",
   "execution_count": 170,
   "metadata": {},
   "outputs": [
    {
     "data": {
      "text/plain": [
       "{'n_neighbors': 2}"
      ]
     },
     "execution_count": 170,
     "metadata": {},
     "output_type": "execute_result"
    }
   ],
   "source": [
    "knn_best_params = study.best_params\n",
    "knn_best_params"
   ]
  },
  {
   "cell_type": "code",
   "execution_count": null,
   "metadata": {},
   "outputs": [],
   "source": [
    "# dataset_types = np.unique(df_all_knn['Dataset'])\n",
    "# cont = 0\n",
    "# for i in dataset_types:\n",
    "#     cont += 1\n",
    "#     subset = df_all_knn.loc[df_all_knn['Dataset'] == i]\n",
    "    \n",
    "#     plt.subplot(1,3, cont)\n",
    "#     plt.plot(subset['n_neighbors'],subset['Accuracy'], label='Acurácia')\n",
    "#     plt.plot(subset['n_neighbors'],subset['Precision'], label='Precisão')\n",
    "#     plt.plot(subset['n_neighbors'],subset['Recall'], label='Recall')\n",
    "#     plt.plot(subset['n_neighbors'],subset['f1-Score'], label='F1-Score')\n",
    "#     plt.title('Algoritmo KNN: Métricas no conjunto de dados de '+ i)\n",
    "#     plt.legend()\n",
    "#     #for indices, linha in df_all_knn.iterrows():\n",
    "\n"
   ]
  },
  {
   "cell_type": "markdown",
   "metadata": {},
   "source": [
    "## Random Forest"
   ]
  },
  {
   "cell_type": "code",
   "execution_count": 171,
   "metadata": {},
   "outputs": [],
   "source": [
    "def rf_fine_tuning(trial):\n",
    "    n_estimators = trial.suggest_int('n_estimators', 5, 30)\n",
    "    max_depth = trial.suggest_int('max_depth', 5, 30)\n",
    "\n",
    "    rf_model = RandomForestClassifier(n_estimators = n_estimators, max_depth=max_depth)\n",
    "\n",
    "    rf_model.fit(X_train, y_train)\n",
    "\n",
    "    y_pred = rf_model.predict(X_val)\n",
    "\n",
    "    return f1_score(y_val, y_pred)"
   ]
  },
  {
   "cell_type": "code",
   "execution_count": 172,
   "metadata": {},
   "outputs": [
    {
     "name": "stderr",
     "output_type": "stream",
     "text": [
      "[I 2023-08-22 19:20:12,791] A new study created in memory with name: no-name-8a56adc6-6e9e-4a84-a3a6-21672fd6026f\n",
      "[I 2023-08-22 19:20:18,558] Trial 0 finished with value: 0.9561476337836817 and parameters: {'n_estimators': 28, 'max_depth': 16}. Best is trial 0 with value: 0.9561476337836817.\n",
      "[I 2023-08-22 19:20:22,859] Trial 1 finished with value: 0.9404918340529379 and parameters: {'n_estimators': 30, 'max_depth': 10}. Best is trial 0 with value: 0.9561476337836817.\n",
      "[I 2023-08-22 19:20:26,522] Trial 2 finished with value: 0.9551722842219967 and parameters: {'n_estimators': 17, 'max_depth': 26}. Best is trial 0 with value: 0.9561476337836817.\n",
      "[I 2023-08-22 19:20:29,617] Trial 3 finished with value: 0.9550561797752809 and parameters: {'n_estimators': 16, 'max_depth': 20}. Best is trial 0 with value: 0.9561476337836817.\n",
      "[I 2023-08-22 19:20:33,869] Trial 4 finished with value: 0.9547402450943537 and parameters: {'n_estimators': 21, 'max_depth': 26}. Best is trial 0 with value: 0.9561476337836817.\n",
      "[I 2023-08-22 19:20:35,992] Trial 5 finished with value: 0.9541401753131936 and parameters: {'n_estimators': 11, 'max_depth': 14}. Best is trial 0 with value: 0.9561476337836817.\n",
      "[I 2023-08-22 19:20:42,287] Trial 6 finished with value: 0.9550392275196138 and parameters: {'n_estimators': 18, 'max_depth': 27}. Best is trial 0 with value: 0.9561476337836817.\n",
      "[I 2023-08-22 19:20:43,168] Trial 7 finished with value: 0.8984711578786839 and parameters: {'n_estimators': 10, 'max_depth': 5}. Best is trial 0 with value: 0.9561476337836817.\n",
      "[I 2023-08-22 19:20:49,364] Trial 8 finished with value: 0.9569511459589868 and parameters: {'n_estimators': 28, 'max_depth': 24}. Best is trial 8 with value: 0.9569511459589868.\n",
      "[I 2023-08-22 19:20:51,558] Trial 9 finished with value: 0.949180512320444 and parameters: {'n_estimators': 9, 'max_depth': 29}. Best is trial 8 with value: 0.9569511459589868.\n",
      "[I 2023-08-22 19:20:57,826] Trial 10 finished with value: 0.9565741403336974 and parameters: {'n_estimators': 25, 'max_depth': 21}. Best is trial 8 with value: 0.9569511459589868.\n",
      "[I 2023-08-22 19:21:03,789] Trial 11 finished with value: 0.9564137308039747 and parameters: {'n_estimators': 26, 'max_depth': 21}. Best is trial 8 with value: 0.9569511459589868.\n",
      "[I 2023-08-22 19:21:09,369] Trial 12 finished with value: 0.955383342111203 and parameters: {'n_estimators': 23, 'max_depth': 22}. Best is trial 8 with value: 0.9569511459589868.\n",
      "[I 2023-08-22 19:21:15,938] Trial 13 finished with value: 0.9562238867768283 and parameters: {'n_estimators': 25, 'max_depth': 23}. Best is trial 8 with value: 0.9569511459589868.\n",
      "[I 2023-08-22 19:21:22,634] Trial 14 finished with value: 0.956970610399397 and parameters: {'n_estimators': 30, 'max_depth': 18}. Best is trial 14 with value: 0.956970610399397.\n",
      "[I 2023-08-22 19:21:30,183] Trial 15 finished with value: 0.9527609440283059 and parameters: {'n_estimators': 30, 'max_depth': 13}. Best is trial 14 with value: 0.956970610399397.\n",
      "[I 2023-08-22 19:21:37,134] Trial 16 finished with value: 0.9564627899969871 and parameters: {'n_estimators': 21, 'max_depth': 18}. Best is trial 14 with value: 0.956970610399397.\n",
      "[I 2023-08-22 19:21:38,391] Trial 17 finished with value: 0.9417279136043197 and parameters: {'n_estimators': 5, 'max_depth': 10}. Best is trial 14 with value: 0.956970610399397.\n",
      "[I 2023-08-22 19:21:46,370] Trial 18 finished with value: 0.9570658524633419 and parameters: {'n_estimators': 28, 'max_depth': 18}. Best is trial 18 with value: 0.9570658524633419.\n",
      "[I 2023-08-22 19:21:53,094] Trial 19 finished with value: 0.9541622760800843 and parameters: {'n_estimators': 22, 'max_depth': 18}. Best is trial 18 with value: 0.9570658524633419.\n",
      "[I 2023-08-22 19:21:56,339] Trial 20 finished with value: 0.952237796399985 and parameters: {'n_estimators': 14, 'max_depth': 14}. Best is trial 18 with value: 0.9570658524633419.\n",
      "[I 2023-08-22 19:22:05,718] Trial 21 finished with value: 0.956318546715411 and parameters: {'n_estimators': 28, 'max_depth': 23}. Best is trial 18 with value: 0.9570658524633419.\n",
      "[I 2023-08-22 19:22:11,497] Trial 22 finished with value: 0.9568163849252663 and parameters: {'n_estimators': 27, 'max_depth': 17}. Best is trial 18 with value: 0.9570658524633419.\n",
      "[I 2023-08-22 19:22:18,479] Trial 23 finished with value: 0.955757552898578 and parameters: {'n_estimators': 30, 'max_depth': 30}. Best is trial 18 with value: 0.9570658524633419.\n",
      "[I 2023-08-22 19:22:23,294] Trial 24 finished with value: 0.9561093126552738 and parameters: {'n_estimators': 23, 'max_depth': 24}. Best is trial 18 with value: 0.9570658524633419.\n",
      "[I 2023-08-22 19:22:28,828] Trial 25 finished with value: 0.9571051639653223 and parameters: {'n_estimators': 28, 'max_depth': 19}. Best is trial 25 with value: 0.9571051639653223.\n",
      "[I 2023-08-22 19:22:32,906] Trial 26 finished with value: 0.9548105504759755 and parameters: {'n_estimators': 19, 'max_depth': 19}. Best is trial 25 with value: 0.9571051639653223.\n",
      "[I 2023-08-22 19:22:37,626] Trial 27 finished with value: 0.9549685344990014 and parameters: {'n_estimators': 25, 'max_depth': 15}. Best is trial 25 with value: 0.9571051639653223.\n",
      "[I 2023-08-22 19:22:42,451] Trial 28 finished with value: 0.9463781749764817 and parameters: {'n_estimators': 29, 'max_depth': 11}. Best is trial 25 with value: 0.9571051639653223.\n",
      "[I 2023-08-22 19:22:47,965] Trial 29 finished with value: 0.9551552607778114 and parameters: {'n_estimators': 27, 'max_depth': 16}. Best is trial 25 with value: 0.9571051639653223.\n",
      "[I 2023-08-22 19:22:50,549] Trial 30 finished with value: 0.9234389005079174 and parameters: {'n_estimators': 24, 'max_depth': 7}. Best is trial 25 with value: 0.9571051639653223.\n",
      "[I 2023-08-22 19:22:55,806] Trial 31 finished with value: 0.956407068309408 and parameters: {'n_estimators': 28, 'max_depth': 17}. Best is trial 25 with value: 0.9571051639653223.\n",
      "[I 2023-08-22 19:23:01,595] Trial 32 finished with value: 0.9572939007412423 and parameters: {'n_estimators': 28, 'max_depth': 20}. Best is trial 32 with value: 0.9572939007412423.\n",
      "[I 2023-08-22 19:23:07,506] Trial 33 finished with value: 0.9561713984486783 and parameters: {'n_estimators': 30, 'max_depth': 19}. Best is trial 32 with value: 0.9572939007412423.\n",
      "[I 2023-08-22 19:23:13,044] Trial 34 finished with value: 0.9552407505086279 and parameters: {'n_estimators': 27, 'max_depth': 20}. Best is trial 32 with value: 0.9572939007412423.\n",
      "[I 2023-08-22 19:23:18,023] Trial 35 finished with value: 0.9503444641042053 and parameters: {'n_estimators': 29, 'max_depth': 12}. Best is trial 32 with value: 0.9572939007412423.\n",
      "[I 2023-08-22 19:23:23,640] Trial 36 finished with value: 0.9553036864103627 and parameters: {'n_estimators': 26, 'max_depth': 16}. Best is trial 32 with value: 0.9572939007412423.\n",
      "[I 2023-08-22 19:23:28,107] Trial 37 finished with value: 0.9555003388299074 and parameters: {'n_estimators': 20, 'max_depth': 20}. Best is trial 32 with value: 0.9572939007412423.\n",
      "[I 2023-08-22 19:23:30,983] Trial 38 finished with value: 0.9513012692553953 and parameters: {'n_estimators': 14, 'max_depth': 15}. Best is trial 32 with value: 0.9572939007412423.\n",
      "[I 2023-08-22 19:23:38,585] Trial 39 finished with value: 0.9579914176014453 and parameters: {'n_estimators': 29, 'max_depth': 26}. Best is trial 39 with value: 0.9579914176014453.\n",
      "[I 2023-08-22 19:23:44,313] Trial 40 finished with value: 0.9560298665057697 and parameters: {'n_estimators': 24, 'max_depth': 26}. Best is trial 39 with value: 0.9579914176014453.\n",
      "[I 2023-08-22 19:23:51,458] Trial 41 finished with value: 0.9559989478826137 and parameters: {'n_estimators': 29, 'max_depth': 25}. Best is trial 39 with value: 0.9579914176014453.\n",
      "[I 2023-08-22 19:23:56,501] Trial 42 finished with value: 0.9566657881856857 and parameters: {'n_estimators': 27, 'max_depth': 19}. Best is trial 39 with value: 0.9579914176014453.\n",
      "[I 2023-08-22 19:24:02,645] Trial 43 finished with value: 0.9550451807228915 and parameters: {'n_estimators': 30, 'max_depth': 21}. Best is trial 39 with value: 0.9579914176014453.\n",
      "[I 2023-08-22 19:24:08,004] Trial 44 finished with value: 0.9577316089136909 and parameters: {'n_estimators': 26, 'max_depth': 28}. Best is trial 39 with value: 0.9579914176014453.\n",
      "[I 2023-08-22 19:24:13,526] Trial 45 finished with value: 0.9557889963724305 and parameters: {'n_estimators': 26, 'max_depth': 30}. Best is trial 39 with value: 0.9579914176014453.\n",
      "[I 2023-08-22 19:24:19,122] Trial 46 finished with value: 0.9561509433962263 and parameters: {'n_estimators': 28, 'max_depth': 27}. Best is trial 39 with value: 0.9579914176014453.\n",
      "[I 2023-08-22 19:24:24,385] Trial 47 finished with value: 0.9563018867924528 and parameters: {'n_estimators': 24, 'max_depth': 28}. Best is trial 39 with value: 0.9579914176014453.\n",
      "[I 2023-08-22 19:24:31,384] Trial 48 finished with value: 0.955682118206163 and parameters: {'n_estimators': 26, 'max_depth': 28}. Best is trial 39 with value: 0.9579914176014453.\n",
      "[I 2023-08-22 19:24:38,677] Trial 49 finished with value: 0.9577422389463781 and parameters: {'n_estimators': 29, 'max_depth': 25}. Best is trial 39 with value: 0.9579914176014453.\n",
      "[I 2023-08-22 19:24:43,192] Trial 50 finished with value: 0.9551315888696177 and parameters: {'n_estimators': 16, 'max_depth': 25}. Best is trial 39 with value: 0.9579914176014453.\n",
      "[I 2023-08-22 19:24:50,775] Trial 51 finished with value: 0.9561647962642162 and parameters: {'n_estimators': 29, 'max_depth': 23}. Best is trial 39 with value: 0.9579914176014453.\n",
      "[I 2023-08-22 19:24:56,459] Trial 52 finished with value: 0.957764537295422 and parameters: {'n_estimators': 28, 'max_depth': 28}. Best is trial 39 with value: 0.9579914176014453.\n",
      "[I 2023-08-22 19:25:02,426] Trial 53 finished with value: 0.9550968130791834 and parameters: {'n_estimators': 27, 'max_depth': 28}. Best is trial 39 with value: 0.9579914176014453.\n",
      "[I 2023-08-22 19:25:08,695] Trial 54 finished with value: 0.9578408492057517 and parameters: {'n_estimators': 29, 'max_depth': 27}. Best is trial 39 with value: 0.9579914176014453.\n",
      "[I 2023-08-22 19:25:14,770] Trial 55 finished with value: 0.95625 and parameters: {'n_estimators': 29, 'max_depth': 27}. Best is trial 39 with value: 0.9579914176014453.\n",
      "[I 2023-08-22 19:25:20,786] Trial 56 finished with value: 0.9555722891566265 and parameters: {'n_estimators': 25, 'max_depth': 29}. Best is trial 39 with value: 0.9579914176014453.\n",
      "[I 2023-08-22 19:25:28,055] Trial 57 finished with value: 0.9561479582217864 and parameters: {'n_estimators': 30, 'max_depth': 26}. Best is trial 39 with value: 0.9579914176014453.\n",
      "[I 2023-08-22 19:25:29,420] Trial 58 finished with value: 0.9484033171976434 and parameters: {'n_estimators': 5, 'max_depth': 25}. Best is trial 39 with value: 0.9579914176014453.\n",
      "[I 2023-08-22 19:25:36,751] Trial 59 finished with value: 0.9566529595955784 and parameters: {'n_estimators': 26, 'max_depth': 29}. Best is trial 39 with value: 0.9579914176014453.\n",
      "[I 2023-08-22 19:25:41,636] Trial 60 finished with value: 0.9562068575308362 and parameters: {'n_estimators': 22, 'max_depth': 27}. Best is trial 39 with value: 0.9579914176014453.\n",
      "[I 2023-08-22 19:25:48,292] Trial 61 finished with value: 0.9574548192771085 and parameters: {'n_estimators': 28, 'max_depth': 24}. Best is trial 39 with value: 0.9579914176014453.\n",
      "[I 2023-08-22 19:25:54,570] Trial 62 finished with value: 0.9566889064797015 and parameters: {'n_estimators': 29, 'max_depth': 24}. Best is trial 39 with value: 0.9579914176014453.\n",
      "[I 2023-08-22 19:26:01,027] Trial 63 finished with value: 0.9565053378098005 and parameters: {'n_estimators': 28, 'max_depth': 26}. Best is trial 39 with value: 0.9579914176014453.\n",
      "[I 2023-08-22 19:26:07,415] Trial 64 finished with value: 0.9574844662022218 and parameters: {'n_estimators': 27, 'max_depth': 22}. Best is trial 39 with value: 0.9579914176014453.\n",
      "[I 2023-08-22 19:26:13,377] Trial 65 finished with value: 0.9557028778062377 and parameters: {'n_estimators': 27, 'max_depth': 22}. Best is trial 39 with value: 0.9579914176014453.\n",
      "[I 2023-08-22 19:26:18,858] Trial 66 finished with value: 0.955686909378412 and parameters: {'n_estimators': 25, 'max_depth': 25}. Best is trial 39 with value: 0.9579914176014453.\n",
      "[I 2023-08-22 19:26:25,402] Trial 67 finished with value: 0.957611444532518 and parameters: {'n_estimators': 30, 'max_depth': 28}. Best is trial 39 with value: 0.9579914176014453.\n",
      "[I 2023-08-22 19:26:34,477] Trial 68 finished with value: 0.9552971381107 and parameters: {'n_estimators': 30, 'max_depth': 28}. Best is trial 39 with value: 0.9579914176014453.\n",
      "[I 2023-08-22 19:26:42,722] Trial 69 finished with value: 0.9568981742894788 and parameters: {'n_estimators': 29, 'max_depth': 30}. Best is trial 39 with value: 0.9579914176014453.\n",
      "[I 2023-08-22 19:26:44,464] Trial 70 finished with value: 0.9505922926975559 and parameters: {'n_estimators': 7, 'max_depth': 29}. Best is trial 39 with value: 0.9579914176014453.\n",
      "[I 2023-08-22 19:26:50,998] Trial 71 finished with value: 0.9572630228961564 and parameters: {'n_estimators': 28, 'max_depth': 24}. Best is trial 39 with value: 0.9579914176014453.\n",
      "[I 2023-08-22 19:26:58,016] Trial 72 finished with value: 0.9565643616620164 and parameters: {'n_estimators': 30, 'max_depth': 26}. Best is trial 39 with value: 0.9579914176014453.\n",
      "[I 2023-08-22 19:27:05,841] Trial 73 finished with value: 0.9568133855893879 and parameters: {'n_estimators': 27, 'max_depth': 27}. Best is trial 39 with value: 0.9579914176014453.\n",
      "[I 2023-08-22 19:27:11,913] Trial 74 finished with value: 0.9553857158992508 and parameters: {'n_estimators': 26, 'max_depth': 22}. Best is trial 39 with value: 0.9579914176014453.\n",
      "[I 2023-08-22 19:27:22,438] Trial 75 finished with value: 0.9568163849252663 and parameters: {'n_estimators': 29, 'max_depth': 23}. Best is trial 39 with value: 0.9579914176014453.\n",
      "[I 2023-08-22 19:27:32,021] Trial 76 finished with value: 0.9577167815053277 and parameters: {'n_estimators': 28, 'max_depth': 25}. Best is trial 39 with value: 0.9579914176014453.\n",
      "[I 2023-08-22 19:27:42,204] Trial 77 finished with value: 0.956479217603912 and parameters: {'n_estimators': 29, 'max_depth': 28}. Best is trial 39 with value: 0.9579914176014453.\n",
      "[I 2023-08-22 19:27:46,700] Trial 78 finished with value: 0.9523559423769508 and parameters: {'n_estimators': 11, 'max_depth': 27}. Best is trial 39 with value: 0.9579914176014453.\n",
      "[I 2023-08-22 19:27:57,365] Trial 79 finished with value: 0.9564824574612256 and parameters: {'n_estimators': 27, 'max_depth': 26}. Best is trial 39 with value: 0.9579914176014453.\n",
      "[I 2023-08-22 19:28:08,353] Trial 80 finished with value: 0.9583852103376721 and parameters: {'n_estimators': 30, 'max_depth': 29}. Best is trial 80 with value: 0.9583852103376721.\n",
      "[I 2023-08-22 19:28:14,899] Trial 81 finished with value: 0.956649688737974 and parameters: {'n_estimators': 30, 'max_depth': 29}. Best is trial 80 with value: 0.9583852103376721.\n",
      "[I 2023-08-22 19:28:23,303] Trial 82 finished with value: 0.9571320754716981 and parameters: {'n_estimators': 30, 'max_depth': 28}. Best is trial 80 with value: 0.9583852103376721.\n",
      "[I 2023-08-22 19:28:29,445] Trial 83 finished with value: 0.9569349121351535 and parameters: {'n_estimators': 28, 'max_depth': 30}. Best is trial 80 with value: 0.9583852103376721.\n",
      "[I 2023-08-22 19:28:36,949] Trial 84 finished with value: 0.9573634651600753 and parameters: {'n_estimators': 29, 'max_depth': 25}. Best is trial 80 with value: 0.9583852103376721.\n",
      "[I 2023-08-22 19:28:43,905] Trial 85 finished with value: 0.9581468807580943 and parameters: {'n_estimators': 29, 'max_depth': 29}. Best is trial 80 with value: 0.9583852103376721.\n",
      "[I 2023-08-22 19:28:49,731] Trial 86 finished with value: 0.9575551782682513 and parameters: {'n_estimators': 30, 'max_depth': 30}. Best is trial 80 with value: 0.9583852103376721.\n",
      "[I 2023-08-22 19:28:56,581] Trial 87 finished with value: 0.9558408312314122 and parameters: {'n_estimators': 29, 'max_depth': 27}. Best is trial 80 with value: 0.9583852103376721.\n",
      "[I 2023-08-22 19:29:03,122] Trial 88 finished with value: 0.957374575631837 and parameters: {'n_estimators': 28, 'max_depth': 29}. Best is trial 80 with value: 0.9583852103376721.\n",
      "[I 2023-08-22 19:29:09,345] Trial 89 finished with value: 0.9562956823148218 and parameters: {'n_estimators': 25, 'max_depth': 28}. Best is trial 80 with value: 0.9583852103376721.\n",
      "[I 2023-08-22 19:29:12,921] Trial 90 finished with value: 0.9550510783200907 and parameters: {'n_estimators': 18, 'max_depth': 27}. Best is trial 80 with value: 0.9583852103376721.\n",
      "[I 2023-08-22 19:29:19,444] Trial 91 finished with value: 0.9571256038647343 and parameters: {'n_estimators': 30, 'max_depth': 30}. Best is trial 80 with value: 0.9583852103376721.\n",
      "[I 2023-08-22 19:29:25,384] Trial 92 finished with value: 0.9569652775153965 and parameters: {'n_estimators': 30, 'max_depth': 29}. Best is trial 80 with value: 0.9583852103376721.\n",
      "[I 2023-08-22 19:29:31,328] Trial 93 finished with value: 0.9566363020402018 and parameters: {'n_estimators': 29, 'max_depth': 30}. Best is trial 80 with value: 0.9583852103376721.\n",
      "[I 2023-08-22 19:29:39,332] Trial 94 finished with value: 0.9562789995850466 and parameters: {'n_estimators': 28, 'max_depth': 26}. Best is trial 80 with value: 0.9583852103376721.\n",
      "[I 2023-08-22 19:29:45,638] Trial 95 finished with value: 0.9568168960965492 and parameters: {'n_estimators': 30, 'max_depth': 29}. Best is trial 80 with value: 0.9583852103376721.\n",
      "[I 2023-08-22 19:29:51,778] Trial 96 finished with value: 0.9575333182742264 and parameters: {'n_estimators': 29, 'max_depth': 28}. Best is trial 80 with value: 0.9583852103376721.\n",
      "[I 2023-08-22 19:29:57,004] Trial 97 finished with value: 0.957266893167233 and parameters: {'n_estimators': 28, 'max_depth': 29}. Best is trial 80 with value: 0.9583852103376721.\n",
      "[I 2023-08-22 19:30:02,328] Trial 98 finished with value: 0.956292785676672 and parameters: {'n_estimators': 27, 'max_depth': 30}. Best is trial 80 with value: 0.9583852103376721.\n",
      "[I 2023-08-22 19:30:03,980] Trial 99 finished with value: 0.9190536418421249 and parameters: {'n_estimators': 26, 'max_depth': 5}. Best is trial 80 with value: 0.9583852103376721.\n"
     ]
    }
   ],
   "source": [
    "study = optuna.create_study(direction='maximize')\n",
    "study.optimize(rf_fine_tuning, n_trials=100)"
   ]
  },
  {
   "cell_type": "code",
   "execution_count": 173,
   "metadata": {},
   "outputs": [
    {
     "ename": "ValueError",
     "evalue": "Mime type rendering requires nbformat>=4.2.0 but it is not installed",
     "output_type": "error",
     "traceback": [
      "\u001b[1;31m---------------------------------------------------------------------------\u001b[0m",
      "\u001b[1;31mValueError\u001b[0m                                Traceback (most recent call last)",
      "File \u001b[1;32mc:\\Users\\thale\\anaconda3\\envs\\myenv\\lib\\site-packages\\IPython\\core\\formatters.py:922\u001b[0m, in \u001b[0;36mIPythonDisplayFormatter.__call__\u001b[1;34m(self, obj)\u001b[0m\n\u001b[0;32m    920\u001b[0m method \u001b[39m=\u001b[39m get_real_method(obj, \u001b[39mself\u001b[39m\u001b[39m.\u001b[39mprint_method)\n\u001b[0;32m    921\u001b[0m \u001b[39mif\u001b[39;00m method \u001b[39mis\u001b[39;00m \u001b[39mnot\u001b[39;00m \u001b[39mNone\u001b[39;00m:\n\u001b[1;32m--> 922\u001b[0m     method()\n\u001b[0;32m    923\u001b[0m     \u001b[39mreturn\u001b[39;00m \u001b[39mTrue\u001b[39;00m\n",
      "File \u001b[1;32mc:\\Users\\thale\\anaconda3\\envs\\myenv\\lib\\site-packages\\plotly\\basedatatypes.py:834\u001b[0m, in \u001b[0;36mBaseFigure._ipython_display_\u001b[1;34m(self)\u001b[0m\n\u001b[0;32m    831\u001b[0m \u001b[39mimport\u001b[39;00m \u001b[39mplotly\u001b[39;00m\u001b[39m.\u001b[39;00m\u001b[39mio\u001b[39;00m \u001b[39mas\u001b[39;00m \u001b[39mpio\u001b[39;00m\n\u001b[0;32m    833\u001b[0m \u001b[39mif\u001b[39;00m pio\u001b[39m.\u001b[39mrenderers\u001b[39m.\u001b[39mrender_on_display \u001b[39mand\u001b[39;00m pio\u001b[39m.\u001b[39mrenderers\u001b[39m.\u001b[39mdefault:\n\u001b[1;32m--> 834\u001b[0m     pio\u001b[39m.\u001b[39;49mshow(\u001b[39mself\u001b[39;49m)\n\u001b[0;32m    835\u001b[0m \u001b[39melse\u001b[39;00m:\n\u001b[0;32m    836\u001b[0m     \u001b[39mprint\u001b[39m(\u001b[39mrepr\u001b[39m(\u001b[39mself\u001b[39m))\n",
      "File \u001b[1;32mc:\\Users\\thale\\anaconda3\\envs\\myenv\\lib\\site-packages\\plotly\\io\\_renderers.py:396\u001b[0m, in \u001b[0;36mshow\u001b[1;34m(fig, renderer, validate, **kwargs)\u001b[0m\n\u001b[0;32m    391\u001b[0m         \u001b[39mraise\u001b[39;00m \u001b[39mValueError\u001b[39;00m(\n\u001b[0;32m    392\u001b[0m             \u001b[39m\"\u001b[39m\u001b[39mMime type rendering requires ipython but it is not installed\u001b[39m\u001b[39m\"\u001b[39m\n\u001b[0;32m    393\u001b[0m         )\n\u001b[0;32m    395\u001b[0m     \u001b[39mif\u001b[39;00m \u001b[39mnot\u001b[39;00m nbformat \u001b[39mor\u001b[39;00m Version(nbformat\u001b[39m.\u001b[39m__version__) \u001b[39m<\u001b[39m Version(\u001b[39m\"\u001b[39m\u001b[39m4.2.0\u001b[39m\u001b[39m\"\u001b[39m):\n\u001b[1;32m--> 396\u001b[0m         \u001b[39mraise\u001b[39;00m \u001b[39mValueError\u001b[39;00m(\n\u001b[0;32m    397\u001b[0m             \u001b[39m\"\u001b[39m\u001b[39mMime type rendering requires nbformat>=4.2.0 but it is not installed\u001b[39m\u001b[39m\"\u001b[39m\n\u001b[0;32m    398\u001b[0m         )\n\u001b[0;32m    400\u001b[0m     ipython_display\u001b[39m.\u001b[39mdisplay(bundle, raw\u001b[39m=\u001b[39m\u001b[39mTrue\u001b[39;00m)\n\u001b[0;32m    402\u001b[0m \u001b[39m# external renderers\u001b[39;00m\n",
      "\u001b[1;31mValueError\u001b[0m: Mime type rendering requires nbformat>=4.2.0 but it is not installed"
     ]
    },
    {
     "data": {
      "application/vnd.plotly.v1+json": {
       "config": {
        "plotlyServerURL": "https://plot.ly"
       },
       "data": [
        {
         "mode": "markers",
         "name": "Objective Value",
         "type": "scatter",
         "x": [
          0,
          1,
          2,
          3,
          4,
          5,
          6,
          7,
          8,
          9,
          10,
          11,
          12,
          13,
          14,
          15,
          16,
          17,
          18,
          19,
          20,
          21,
          22,
          23,
          24,
          25,
          26,
          27,
          28,
          29,
          30,
          31,
          32,
          33,
          34,
          35,
          36,
          37,
          38,
          39,
          40,
          41,
          42,
          43,
          44,
          45,
          46,
          47,
          48,
          49,
          50,
          51,
          52,
          53,
          54,
          55,
          56,
          57,
          58,
          59,
          60,
          61,
          62,
          63,
          64,
          65,
          66,
          67,
          68,
          69,
          70,
          71,
          72,
          73,
          74,
          75,
          76,
          77,
          78,
          79,
          80,
          81,
          82,
          83,
          84,
          85,
          86,
          87,
          88,
          89,
          90,
          91,
          92,
          93,
          94,
          95,
          96,
          97,
          98,
          99
         ],
         "y": [
          0.9561476337836817,
          0.9404918340529379,
          0.9551722842219967,
          0.9550561797752809,
          0.9547402450943537,
          0.9541401753131936,
          0.9550392275196138,
          0.8984711578786839,
          0.9569511459589868,
          0.949180512320444,
          0.9565741403336974,
          0.9564137308039747,
          0.955383342111203,
          0.9562238867768283,
          0.956970610399397,
          0.9527609440283059,
          0.9564627899969871,
          0.9417279136043197,
          0.9570658524633419,
          0.9541622760800843,
          0.952237796399985,
          0.956318546715411,
          0.9568163849252663,
          0.955757552898578,
          0.9561093126552738,
          0.9571051639653223,
          0.9548105504759755,
          0.9549685344990014,
          0.9463781749764817,
          0.9551552607778114,
          0.9234389005079174,
          0.956407068309408,
          0.9572939007412423,
          0.9561713984486783,
          0.9552407505086279,
          0.9503444641042053,
          0.9553036864103627,
          0.9555003388299074,
          0.9513012692553953,
          0.9579914176014453,
          0.9560298665057697,
          0.9559989478826137,
          0.9566657881856857,
          0.9550451807228915,
          0.9577316089136909,
          0.9557889963724305,
          0.9561509433962263,
          0.9563018867924528,
          0.955682118206163,
          0.9577422389463781,
          0.9551315888696177,
          0.9561647962642162,
          0.957764537295422,
          0.9550968130791834,
          0.9578408492057517,
          0.95625,
          0.9555722891566265,
          0.9561479582217864,
          0.9484033171976434,
          0.9566529595955784,
          0.9562068575308362,
          0.9574548192771085,
          0.9566889064797015,
          0.9565053378098005,
          0.9574844662022218,
          0.9557028778062377,
          0.955686909378412,
          0.957611444532518,
          0.9552971381107,
          0.9568981742894788,
          0.9505922926975559,
          0.9572630228961564,
          0.9565643616620164,
          0.9568133855893879,
          0.9553857158992508,
          0.9568163849252663,
          0.9577167815053277,
          0.956479217603912,
          0.9523559423769508,
          0.9564824574612256,
          0.9583852103376721,
          0.956649688737974,
          0.9571320754716981,
          0.9569349121351535,
          0.9573634651600753,
          0.9581468807580943,
          0.9575551782682513,
          0.9558408312314122,
          0.957374575631837,
          0.9562956823148218,
          0.9550510783200907,
          0.9571256038647343,
          0.9569652775153965,
          0.9566363020402018,
          0.9562789995850466,
          0.9568168960965492,
          0.9575333182742264,
          0.957266893167233,
          0.956292785676672,
          0.9190536418421249
         ]
        },
        {
         "mode": "lines",
         "name": "Best Value",
         "type": "scatter",
         "x": [
          0,
          1,
          2,
          3,
          4,
          5,
          6,
          7,
          8,
          9,
          10,
          11,
          12,
          13,
          14,
          15,
          16,
          17,
          18,
          19,
          20,
          21,
          22,
          23,
          24,
          25,
          26,
          27,
          28,
          29,
          30,
          31,
          32,
          33,
          34,
          35,
          36,
          37,
          38,
          39,
          40,
          41,
          42,
          43,
          44,
          45,
          46,
          47,
          48,
          49,
          50,
          51,
          52,
          53,
          54,
          55,
          56,
          57,
          58,
          59,
          60,
          61,
          62,
          63,
          64,
          65,
          66,
          67,
          68,
          69,
          70,
          71,
          72,
          73,
          74,
          75,
          76,
          77,
          78,
          79,
          80,
          81,
          82,
          83,
          84,
          85,
          86,
          87,
          88,
          89,
          90,
          91,
          92,
          93,
          94,
          95,
          96,
          97,
          98,
          99
         ],
         "y": [
          0.9561476337836817,
          0.9561476337836817,
          0.9561476337836817,
          0.9561476337836817,
          0.9561476337836817,
          0.9561476337836817,
          0.9561476337836817,
          0.9561476337836817,
          0.9569511459589868,
          0.9569511459589868,
          0.9569511459589868,
          0.9569511459589868,
          0.9569511459589868,
          0.9569511459589868,
          0.956970610399397,
          0.956970610399397,
          0.956970610399397,
          0.956970610399397,
          0.9570658524633419,
          0.9570658524633419,
          0.9570658524633419,
          0.9570658524633419,
          0.9570658524633419,
          0.9570658524633419,
          0.9570658524633419,
          0.9571051639653223,
          0.9571051639653223,
          0.9571051639653223,
          0.9571051639653223,
          0.9571051639653223,
          0.9571051639653223,
          0.9571051639653223,
          0.9572939007412423,
          0.9572939007412423,
          0.9572939007412423,
          0.9572939007412423,
          0.9572939007412423,
          0.9572939007412423,
          0.9572939007412423,
          0.9579914176014453,
          0.9579914176014453,
          0.9579914176014453,
          0.9579914176014453,
          0.9579914176014453,
          0.9579914176014453,
          0.9579914176014453,
          0.9579914176014453,
          0.9579914176014453,
          0.9579914176014453,
          0.9579914176014453,
          0.9579914176014453,
          0.9579914176014453,
          0.9579914176014453,
          0.9579914176014453,
          0.9579914176014453,
          0.9579914176014453,
          0.9579914176014453,
          0.9579914176014453,
          0.9579914176014453,
          0.9579914176014453,
          0.9579914176014453,
          0.9579914176014453,
          0.9579914176014453,
          0.9579914176014453,
          0.9579914176014453,
          0.9579914176014453,
          0.9579914176014453,
          0.9579914176014453,
          0.9579914176014453,
          0.9579914176014453,
          0.9579914176014453,
          0.9579914176014453,
          0.9579914176014453,
          0.9579914176014453,
          0.9579914176014453,
          0.9579914176014453,
          0.9579914176014453,
          0.9579914176014453,
          0.9579914176014453,
          0.9579914176014453,
          0.9583852103376721,
          0.9583852103376721,
          0.9583852103376721,
          0.9583852103376721,
          0.9583852103376721,
          0.9583852103376721,
          0.9583852103376721,
          0.9583852103376721,
          0.9583852103376721,
          0.9583852103376721,
          0.9583852103376721,
          0.9583852103376721,
          0.9583852103376721,
          0.9583852103376721,
          0.9583852103376721,
          0.9583852103376721,
          0.9583852103376721,
          0.9583852103376721,
          0.9583852103376721,
          0.9583852103376721
         ]
        },
        {
         "marker": {
          "color": "#cccccc"
         },
         "mode": "markers",
         "name": "Infeasible Trial",
         "showlegend": false,
         "type": "scatter",
         "x": [],
         "y": []
        }
       ],
       "layout": {
        "template": {
         "data": {
          "bar": [
           {
            "error_x": {
             "color": "#2a3f5f"
            },
            "error_y": {
             "color": "#2a3f5f"
            },
            "marker": {
             "line": {
              "color": "#E5ECF6",
              "width": 0.5
             },
             "pattern": {
              "fillmode": "overlay",
              "size": 10,
              "solidity": 0.2
             }
            },
            "type": "bar"
           }
          ],
          "barpolar": [
           {
            "marker": {
             "line": {
              "color": "#E5ECF6",
              "width": 0.5
             },
             "pattern": {
              "fillmode": "overlay",
              "size": 10,
              "solidity": 0.2
             }
            },
            "type": "barpolar"
           }
          ],
          "carpet": [
           {
            "aaxis": {
             "endlinecolor": "#2a3f5f",
             "gridcolor": "white",
             "linecolor": "white",
             "minorgridcolor": "white",
             "startlinecolor": "#2a3f5f"
            },
            "baxis": {
             "endlinecolor": "#2a3f5f",
             "gridcolor": "white",
             "linecolor": "white",
             "minorgridcolor": "white",
             "startlinecolor": "#2a3f5f"
            },
            "type": "carpet"
           }
          ],
          "choropleth": [
           {
            "colorbar": {
             "outlinewidth": 0,
             "ticks": ""
            },
            "type": "choropleth"
           }
          ],
          "contour": [
           {
            "colorbar": {
             "outlinewidth": 0,
             "ticks": ""
            },
            "colorscale": [
             [
              0,
              "#0d0887"
             ],
             [
              0.1111111111111111,
              "#46039f"
             ],
             [
              0.2222222222222222,
              "#7201a8"
             ],
             [
              0.3333333333333333,
              "#9c179e"
             ],
             [
              0.4444444444444444,
              "#bd3786"
             ],
             [
              0.5555555555555556,
              "#d8576b"
             ],
             [
              0.6666666666666666,
              "#ed7953"
             ],
             [
              0.7777777777777778,
              "#fb9f3a"
             ],
             [
              0.8888888888888888,
              "#fdca26"
             ],
             [
              1,
              "#f0f921"
             ]
            ],
            "type": "contour"
           }
          ],
          "contourcarpet": [
           {
            "colorbar": {
             "outlinewidth": 0,
             "ticks": ""
            },
            "type": "contourcarpet"
           }
          ],
          "heatmap": [
           {
            "colorbar": {
             "outlinewidth": 0,
             "ticks": ""
            },
            "colorscale": [
             [
              0,
              "#0d0887"
             ],
             [
              0.1111111111111111,
              "#46039f"
             ],
             [
              0.2222222222222222,
              "#7201a8"
             ],
             [
              0.3333333333333333,
              "#9c179e"
             ],
             [
              0.4444444444444444,
              "#bd3786"
             ],
             [
              0.5555555555555556,
              "#d8576b"
             ],
             [
              0.6666666666666666,
              "#ed7953"
             ],
             [
              0.7777777777777778,
              "#fb9f3a"
             ],
             [
              0.8888888888888888,
              "#fdca26"
             ],
             [
              1,
              "#f0f921"
             ]
            ],
            "type": "heatmap"
           }
          ],
          "heatmapgl": [
           {
            "colorbar": {
             "outlinewidth": 0,
             "ticks": ""
            },
            "colorscale": [
             [
              0,
              "#0d0887"
             ],
             [
              0.1111111111111111,
              "#46039f"
             ],
             [
              0.2222222222222222,
              "#7201a8"
             ],
             [
              0.3333333333333333,
              "#9c179e"
             ],
             [
              0.4444444444444444,
              "#bd3786"
             ],
             [
              0.5555555555555556,
              "#d8576b"
             ],
             [
              0.6666666666666666,
              "#ed7953"
             ],
             [
              0.7777777777777778,
              "#fb9f3a"
             ],
             [
              0.8888888888888888,
              "#fdca26"
             ],
             [
              1,
              "#f0f921"
             ]
            ],
            "type": "heatmapgl"
           }
          ],
          "histogram": [
           {
            "marker": {
             "pattern": {
              "fillmode": "overlay",
              "size": 10,
              "solidity": 0.2
             }
            },
            "type": "histogram"
           }
          ],
          "histogram2d": [
           {
            "colorbar": {
             "outlinewidth": 0,
             "ticks": ""
            },
            "colorscale": [
             [
              0,
              "#0d0887"
             ],
             [
              0.1111111111111111,
              "#46039f"
             ],
             [
              0.2222222222222222,
              "#7201a8"
             ],
             [
              0.3333333333333333,
              "#9c179e"
             ],
             [
              0.4444444444444444,
              "#bd3786"
             ],
             [
              0.5555555555555556,
              "#d8576b"
             ],
             [
              0.6666666666666666,
              "#ed7953"
             ],
             [
              0.7777777777777778,
              "#fb9f3a"
             ],
             [
              0.8888888888888888,
              "#fdca26"
             ],
             [
              1,
              "#f0f921"
             ]
            ],
            "type": "histogram2d"
           }
          ],
          "histogram2dcontour": [
           {
            "colorbar": {
             "outlinewidth": 0,
             "ticks": ""
            },
            "colorscale": [
             [
              0,
              "#0d0887"
             ],
             [
              0.1111111111111111,
              "#46039f"
             ],
             [
              0.2222222222222222,
              "#7201a8"
             ],
             [
              0.3333333333333333,
              "#9c179e"
             ],
             [
              0.4444444444444444,
              "#bd3786"
             ],
             [
              0.5555555555555556,
              "#d8576b"
             ],
             [
              0.6666666666666666,
              "#ed7953"
             ],
             [
              0.7777777777777778,
              "#fb9f3a"
             ],
             [
              0.8888888888888888,
              "#fdca26"
             ],
             [
              1,
              "#f0f921"
             ]
            ],
            "type": "histogram2dcontour"
           }
          ],
          "mesh3d": [
           {
            "colorbar": {
             "outlinewidth": 0,
             "ticks": ""
            },
            "type": "mesh3d"
           }
          ],
          "parcoords": [
           {
            "line": {
             "colorbar": {
              "outlinewidth": 0,
              "ticks": ""
             }
            },
            "type": "parcoords"
           }
          ],
          "pie": [
           {
            "automargin": true,
            "type": "pie"
           }
          ],
          "scatter": [
           {
            "fillpattern": {
             "fillmode": "overlay",
             "size": 10,
             "solidity": 0.2
            },
            "type": "scatter"
           }
          ],
          "scatter3d": [
           {
            "line": {
             "colorbar": {
              "outlinewidth": 0,
              "ticks": ""
             }
            },
            "marker": {
             "colorbar": {
              "outlinewidth": 0,
              "ticks": ""
             }
            },
            "type": "scatter3d"
           }
          ],
          "scattercarpet": [
           {
            "marker": {
             "colorbar": {
              "outlinewidth": 0,
              "ticks": ""
             }
            },
            "type": "scattercarpet"
           }
          ],
          "scattergeo": [
           {
            "marker": {
             "colorbar": {
              "outlinewidth": 0,
              "ticks": ""
             }
            },
            "type": "scattergeo"
           }
          ],
          "scattergl": [
           {
            "marker": {
             "colorbar": {
              "outlinewidth": 0,
              "ticks": ""
             }
            },
            "type": "scattergl"
           }
          ],
          "scattermapbox": [
           {
            "marker": {
             "colorbar": {
              "outlinewidth": 0,
              "ticks": ""
             }
            },
            "type": "scattermapbox"
           }
          ],
          "scatterpolar": [
           {
            "marker": {
             "colorbar": {
              "outlinewidth": 0,
              "ticks": ""
             }
            },
            "type": "scatterpolar"
           }
          ],
          "scatterpolargl": [
           {
            "marker": {
             "colorbar": {
              "outlinewidth": 0,
              "ticks": ""
             }
            },
            "type": "scatterpolargl"
           }
          ],
          "scatterternary": [
           {
            "marker": {
             "colorbar": {
              "outlinewidth": 0,
              "ticks": ""
             }
            },
            "type": "scatterternary"
           }
          ],
          "surface": [
           {
            "colorbar": {
             "outlinewidth": 0,
             "ticks": ""
            },
            "colorscale": [
             [
              0,
              "#0d0887"
             ],
             [
              0.1111111111111111,
              "#46039f"
             ],
             [
              0.2222222222222222,
              "#7201a8"
             ],
             [
              0.3333333333333333,
              "#9c179e"
             ],
             [
              0.4444444444444444,
              "#bd3786"
             ],
             [
              0.5555555555555556,
              "#d8576b"
             ],
             [
              0.6666666666666666,
              "#ed7953"
             ],
             [
              0.7777777777777778,
              "#fb9f3a"
             ],
             [
              0.8888888888888888,
              "#fdca26"
             ],
             [
              1,
              "#f0f921"
             ]
            ],
            "type": "surface"
           }
          ],
          "table": [
           {
            "cells": {
             "fill": {
              "color": "#EBF0F8"
             },
             "line": {
              "color": "white"
             }
            },
            "header": {
             "fill": {
              "color": "#C8D4E3"
             },
             "line": {
              "color": "white"
             }
            },
            "type": "table"
           }
          ]
         },
         "layout": {
          "annotationdefaults": {
           "arrowcolor": "#2a3f5f",
           "arrowhead": 0,
           "arrowwidth": 1
          },
          "autotypenumbers": "strict",
          "coloraxis": {
           "colorbar": {
            "outlinewidth": 0,
            "ticks": ""
           }
          },
          "colorscale": {
           "diverging": [
            [
             0,
             "#8e0152"
            ],
            [
             0.1,
             "#c51b7d"
            ],
            [
             0.2,
             "#de77ae"
            ],
            [
             0.3,
             "#f1b6da"
            ],
            [
             0.4,
             "#fde0ef"
            ],
            [
             0.5,
             "#f7f7f7"
            ],
            [
             0.6,
             "#e6f5d0"
            ],
            [
             0.7,
             "#b8e186"
            ],
            [
             0.8,
             "#7fbc41"
            ],
            [
             0.9,
             "#4d9221"
            ],
            [
             1,
             "#276419"
            ]
           ],
           "sequential": [
            [
             0,
             "#0d0887"
            ],
            [
             0.1111111111111111,
             "#46039f"
            ],
            [
             0.2222222222222222,
             "#7201a8"
            ],
            [
             0.3333333333333333,
             "#9c179e"
            ],
            [
             0.4444444444444444,
             "#bd3786"
            ],
            [
             0.5555555555555556,
             "#d8576b"
            ],
            [
             0.6666666666666666,
             "#ed7953"
            ],
            [
             0.7777777777777778,
             "#fb9f3a"
            ],
            [
             0.8888888888888888,
             "#fdca26"
            ],
            [
             1,
             "#f0f921"
            ]
           ],
           "sequentialminus": [
            [
             0,
             "#0d0887"
            ],
            [
             0.1111111111111111,
             "#46039f"
            ],
            [
             0.2222222222222222,
             "#7201a8"
            ],
            [
             0.3333333333333333,
             "#9c179e"
            ],
            [
             0.4444444444444444,
             "#bd3786"
            ],
            [
             0.5555555555555556,
             "#d8576b"
            ],
            [
             0.6666666666666666,
             "#ed7953"
            ],
            [
             0.7777777777777778,
             "#fb9f3a"
            ],
            [
             0.8888888888888888,
             "#fdca26"
            ],
            [
             1,
             "#f0f921"
            ]
           ]
          },
          "colorway": [
           "#636efa",
           "#EF553B",
           "#00cc96",
           "#ab63fa",
           "#FFA15A",
           "#19d3f3",
           "#FF6692",
           "#B6E880",
           "#FF97FF",
           "#FECB52"
          ],
          "font": {
           "color": "#2a3f5f"
          },
          "geo": {
           "bgcolor": "white",
           "lakecolor": "white",
           "landcolor": "#E5ECF6",
           "showlakes": true,
           "showland": true,
           "subunitcolor": "white"
          },
          "hoverlabel": {
           "align": "left"
          },
          "hovermode": "closest",
          "mapbox": {
           "style": "light"
          },
          "paper_bgcolor": "white",
          "plot_bgcolor": "#E5ECF6",
          "polar": {
           "angularaxis": {
            "gridcolor": "white",
            "linecolor": "white",
            "ticks": ""
           },
           "bgcolor": "#E5ECF6",
           "radialaxis": {
            "gridcolor": "white",
            "linecolor": "white",
            "ticks": ""
           }
          },
          "scene": {
           "xaxis": {
            "backgroundcolor": "#E5ECF6",
            "gridcolor": "white",
            "gridwidth": 2,
            "linecolor": "white",
            "showbackground": true,
            "ticks": "",
            "zerolinecolor": "white"
           },
           "yaxis": {
            "backgroundcolor": "#E5ECF6",
            "gridcolor": "white",
            "gridwidth": 2,
            "linecolor": "white",
            "showbackground": true,
            "ticks": "",
            "zerolinecolor": "white"
           },
           "zaxis": {
            "backgroundcolor": "#E5ECF6",
            "gridcolor": "white",
            "gridwidth": 2,
            "linecolor": "white",
            "showbackground": true,
            "ticks": "",
            "zerolinecolor": "white"
           }
          },
          "shapedefaults": {
           "line": {
            "color": "#2a3f5f"
           }
          },
          "ternary": {
           "aaxis": {
            "gridcolor": "white",
            "linecolor": "white",
            "ticks": ""
           },
           "baxis": {
            "gridcolor": "white",
            "linecolor": "white",
            "ticks": ""
           },
           "bgcolor": "#E5ECF6",
           "caxis": {
            "gridcolor": "white",
            "linecolor": "white",
            "ticks": ""
           }
          },
          "title": {
           "x": 0.05
          },
          "xaxis": {
           "automargin": true,
           "gridcolor": "white",
           "linecolor": "white",
           "ticks": "",
           "title": {
            "standoff": 15
           },
           "zerolinecolor": "white",
           "zerolinewidth": 2
          },
          "yaxis": {
           "automargin": true,
           "gridcolor": "white",
           "linecolor": "white",
           "ticks": "",
           "title": {
            "standoff": 15
           },
           "zerolinecolor": "white",
           "zerolinewidth": 2
          }
         }
        },
        "title": {
         "text": "Optimization History Plot"
        },
        "xaxis": {
         "title": {
          "text": "Trial"
         }
        },
        "yaxis": {
         "title": {
          "text": "Objective Value"
         }
        }
       }
      },
      "text/html": [
       "<div>                        <script type=\"text/javascript\">window.PlotlyConfig = {MathJaxConfig: 'local'};</script>\n",
       "        <script charset=\"utf-8\" src=\"https://cdn.plot.ly/plotly-2.25.2.min.js\"></script>                <div id=\"68cfd5a4-1633-4b03-aa41-81a18842653b\" class=\"plotly-graph-div\" style=\"height:100%; width:100%;\"></div>            <script type=\"text/javascript\">                                    window.PLOTLYENV=window.PLOTLYENV || {};                                    if (document.getElementById(\"68cfd5a4-1633-4b03-aa41-81a18842653b\")) {                    Plotly.newPlot(                        \"68cfd5a4-1633-4b03-aa41-81a18842653b\",                        [{\"mode\":\"markers\",\"name\":\"Objective Value\",\"x\":[0,1,2,3,4,5,6,7,8,9,10,11,12,13,14,15,16,17,18,19,20,21,22,23,24,25,26,27,28,29,30,31,32,33,34,35,36,37,38,39,40,41,42,43,44,45,46,47,48,49,50,51,52,53,54,55,56,57,58,59,60,61,62,63,64,65,66,67,68,69,70,71,72,73,74,75,76,77,78,79,80,81,82,83,84,85,86,87,88,89,90,91,92,93,94,95,96,97,98,99],\"y\":[0.9561476337836817,0.9404918340529379,0.9551722842219967,0.9550561797752809,0.9547402450943537,0.9541401753131936,0.9550392275196138,0.8984711578786839,0.9569511459589868,0.949180512320444,0.9565741403336974,0.9564137308039747,0.955383342111203,0.9562238867768283,0.956970610399397,0.9527609440283059,0.9564627899969871,0.9417279136043197,0.9570658524633419,0.9541622760800843,0.952237796399985,0.956318546715411,0.9568163849252663,0.955757552898578,0.9561093126552738,0.9571051639653223,0.9548105504759755,0.9549685344990014,0.9463781749764817,0.9551552607778114,0.9234389005079174,0.956407068309408,0.9572939007412423,0.9561713984486783,0.9552407505086279,0.9503444641042053,0.9553036864103627,0.9555003388299074,0.9513012692553953,0.9579914176014453,0.9560298665057697,0.9559989478826137,0.9566657881856857,0.9550451807228915,0.9577316089136909,0.9557889963724305,0.9561509433962263,0.9563018867924528,0.955682118206163,0.9577422389463781,0.9551315888696177,0.9561647962642162,0.957764537295422,0.9550968130791834,0.9578408492057517,0.95625,0.9555722891566265,0.9561479582217864,0.9484033171976434,0.9566529595955784,0.9562068575308362,0.9574548192771085,0.9566889064797015,0.9565053378098005,0.9574844662022218,0.9557028778062377,0.955686909378412,0.957611444532518,0.9552971381107,0.9568981742894788,0.9505922926975559,0.9572630228961564,0.9565643616620164,0.9568133855893879,0.9553857158992508,0.9568163849252663,0.9577167815053277,0.956479217603912,0.9523559423769508,0.9564824574612256,0.9583852103376721,0.956649688737974,0.9571320754716981,0.9569349121351535,0.9573634651600753,0.9581468807580943,0.9575551782682513,0.9558408312314122,0.957374575631837,0.9562956823148218,0.9550510783200907,0.9571256038647343,0.9569652775153965,0.9566363020402018,0.9562789995850466,0.9568168960965492,0.9575333182742264,0.957266893167233,0.956292785676672,0.9190536418421249],\"type\":\"scatter\"},{\"mode\":\"lines\",\"name\":\"Best Value\",\"x\":[0,1,2,3,4,5,6,7,8,9,10,11,12,13,14,15,16,17,18,19,20,21,22,23,24,25,26,27,28,29,30,31,32,33,34,35,36,37,38,39,40,41,42,43,44,45,46,47,48,49,50,51,52,53,54,55,56,57,58,59,60,61,62,63,64,65,66,67,68,69,70,71,72,73,74,75,76,77,78,79,80,81,82,83,84,85,86,87,88,89,90,91,92,93,94,95,96,97,98,99],\"y\":[0.9561476337836817,0.9561476337836817,0.9561476337836817,0.9561476337836817,0.9561476337836817,0.9561476337836817,0.9561476337836817,0.9561476337836817,0.9569511459589868,0.9569511459589868,0.9569511459589868,0.9569511459589868,0.9569511459589868,0.9569511459589868,0.956970610399397,0.956970610399397,0.956970610399397,0.956970610399397,0.9570658524633419,0.9570658524633419,0.9570658524633419,0.9570658524633419,0.9570658524633419,0.9570658524633419,0.9570658524633419,0.9571051639653223,0.9571051639653223,0.9571051639653223,0.9571051639653223,0.9571051639653223,0.9571051639653223,0.9571051639653223,0.9572939007412423,0.9572939007412423,0.9572939007412423,0.9572939007412423,0.9572939007412423,0.9572939007412423,0.9572939007412423,0.9579914176014453,0.9579914176014453,0.9579914176014453,0.9579914176014453,0.9579914176014453,0.9579914176014453,0.9579914176014453,0.9579914176014453,0.9579914176014453,0.9579914176014453,0.9579914176014453,0.9579914176014453,0.9579914176014453,0.9579914176014453,0.9579914176014453,0.9579914176014453,0.9579914176014453,0.9579914176014453,0.9579914176014453,0.9579914176014453,0.9579914176014453,0.9579914176014453,0.9579914176014453,0.9579914176014453,0.9579914176014453,0.9579914176014453,0.9579914176014453,0.9579914176014453,0.9579914176014453,0.9579914176014453,0.9579914176014453,0.9579914176014453,0.9579914176014453,0.9579914176014453,0.9579914176014453,0.9579914176014453,0.9579914176014453,0.9579914176014453,0.9579914176014453,0.9579914176014453,0.9579914176014453,0.9583852103376721,0.9583852103376721,0.9583852103376721,0.9583852103376721,0.9583852103376721,0.9583852103376721,0.9583852103376721,0.9583852103376721,0.9583852103376721,0.9583852103376721,0.9583852103376721,0.9583852103376721,0.9583852103376721,0.9583852103376721,0.9583852103376721,0.9583852103376721,0.9583852103376721,0.9583852103376721,0.9583852103376721,0.9583852103376721],\"type\":\"scatter\"},{\"marker\":{\"color\":\"#cccccc\"},\"mode\":\"markers\",\"name\":\"Infeasible Trial\",\"showlegend\":false,\"x\":[],\"y\":[],\"type\":\"scatter\"}],                        {\"title\":{\"text\":\"Optimization History Plot\"},\"xaxis\":{\"title\":{\"text\":\"Trial\"}},\"yaxis\":{\"title\":{\"text\":\"Objective Value\"}},\"template\":{\"data\":{\"histogram2dcontour\":[{\"type\":\"histogram2dcontour\",\"colorbar\":{\"outlinewidth\":0,\"ticks\":\"\"},\"colorscale\":[[0.0,\"#0d0887\"],[0.1111111111111111,\"#46039f\"],[0.2222222222222222,\"#7201a8\"],[0.3333333333333333,\"#9c179e\"],[0.4444444444444444,\"#bd3786\"],[0.5555555555555556,\"#d8576b\"],[0.6666666666666666,\"#ed7953\"],[0.7777777777777778,\"#fb9f3a\"],[0.8888888888888888,\"#fdca26\"],[1.0,\"#f0f921\"]]}],\"choropleth\":[{\"type\":\"choropleth\",\"colorbar\":{\"outlinewidth\":0,\"ticks\":\"\"}}],\"histogram2d\":[{\"type\":\"histogram2d\",\"colorbar\":{\"outlinewidth\":0,\"ticks\":\"\"},\"colorscale\":[[0.0,\"#0d0887\"],[0.1111111111111111,\"#46039f\"],[0.2222222222222222,\"#7201a8\"],[0.3333333333333333,\"#9c179e\"],[0.4444444444444444,\"#bd3786\"],[0.5555555555555556,\"#d8576b\"],[0.6666666666666666,\"#ed7953\"],[0.7777777777777778,\"#fb9f3a\"],[0.8888888888888888,\"#fdca26\"],[1.0,\"#f0f921\"]]}],\"heatmap\":[{\"type\":\"heatmap\",\"colorbar\":{\"outlinewidth\":0,\"ticks\":\"\"},\"colorscale\":[[0.0,\"#0d0887\"],[0.1111111111111111,\"#46039f\"],[0.2222222222222222,\"#7201a8\"],[0.3333333333333333,\"#9c179e\"],[0.4444444444444444,\"#bd3786\"],[0.5555555555555556,\"#d8576b\"],[0.6666666666666666,\"#ed7953\"],[0.7777777777777778,\"#fb9f3a\"],[0.8888888888888888,\"#fdca26\"],[1.0,\"#f0f921\"]]}],\"heatmapgl\":[{\"type\":\"heatmapgl\",\"colorbar\":{\"outlinewidth\":0,\"ticks\":\"\"},\"colorscale\":[[0.0,\"#0d0887\"],[0.1111111111111111,\"#46039f\"],[0.2222222222222222,\"#7201a8\"],[0.3333333333333333,\"#9c179e\"],[0.4444444444444444,\"#bd3786\"],[0.5555555555555556,\"#d8576b\"],[0.6666666666666666,\"#ed7953\"],[0.7777777777777778,\"#fb9f3a\"],[0.8888888888888888,\"#fdca26\"],[1.0,\"#f0f921\"]]}],\"contourcarpet\":[{\"type\":\"contourcarpet\",\"colorbar\":{\"outlinewidth\":0,\"ticks\":\"\"}}],\"contour\":[{\"type\":\"contour\",\"colorbar\":{\"outlinewidth\":0,\"ticks\":\"\"},\"colorscale\":[[0.0,\"#0d0887\"],[0.1111111111111111,\"#46039f\"],[0.2222222222222222,\"#7201a8\"],[0.3333333333333333,\"#9c179e\"],[0.4444444444444444,\"#bd3786\"],[0.5555555555555556,\"#d8576b\"],[0.6666666666666666,\"#ed7953\"],[0.7777777777777778,\"#fb9f3a\"],[0.8888888888888888,\"#fdca26\"],[1.0,\"#f0f921\"]]}],\"surface\":[{\"type\":\"surface\",\"colorbar\":{\"outlinewidth\":0,\"ticks\":\"\"},\"colorscale\":[[0.0,\"#0d0887\"],[0.1111111111111111,\"#46039f\"],[0.2222222222222222,\"#7201a8\"],[0.3333333333333333,\"#9c179e\"],[0.4444444444444444,\"#bd3786\"],[0.5555555555555556,\"#d8576b\"],[0.6666666666666666,\"#ed7953\"],[0.7777777777777778,\"#fb9f3a\"],[0.8888888888888888,\"#fdca26\"],[1.0,\"#f0f921\"]]}],\"mesh3d\":[{\"type\":\"mesh3d\",\"colorbar\":{\"outlinewidth\":0,\"ticks\":\"\"}}],\"scatter\":[{\"fillpattern\":{\"fillmode\":\"overlay\",\"size\":10,\"solidity\":0.2},\"type\":\"scatter\"}],\"parcoords\":[{\"type\":\"parcoords\",\"line\":{\"colorbar\":{\"outlinewidth\":0,\"ticks\":\"\"}}}],\"scatterpolargl\":[{\"type\":\"scatterpolargl\",\"marker\":{\"colorbar\":{\"outlinewidth\":0,\"ticks\":\"\"}}}],\"bar\":[{\"error_x\":{\"color\":\"#2a3f5f\"},\"error_y\":{\"color\":\"#2a3f5f\"},\"marker\":{\"line\":{\"color\":\"#E5ECF6\",\"width\":0.5},\"pattern\":{\"fillmode\":\"overlay\",\"size\":10,\"solidity\":0.2}},\"type\":\"bar\"}],\"scattergeo\":[{\"type\":\"scattergeo\",\"marker\":{\"colorbar\":{\"outlinewidth\":0,\"ticks\":\"\"}}}],\"scatterpolar\":[{\"type\":\"scatterpolar\",\"marker\":{\"colorbar\":{\"outlinewidth\":0,\"ticks\":\"\"}}}],\"histogram\":[{\"marker\":{\"pattern\":{\"fillmode\":\"overlay\",\"size\":10,\"solidity\":0.2}},\"type\":\"histogram\"}],\"scattergl\":[{\"type\":\"scattergl\",\"marker\":{\"colorbar\":{\"outlinewidth\":0,\"ticks\":\"\"}}}],\"scatter3d\":[{\"type\":\"scatter3d\",\"line\":{\"colorbar\":{\"outlinewidth\":0,\"ticks\":\"\"}},\"marker\":{\"colorbar\":{\"outlinewidth\":0,\"ticks\":\"\"}}}],\"scattermapbox\":[{\"type\":\"scattermapbox\",\"marker\":{\"colorbar\":{\"outlinewidth\":0,\"ticks\":\"\"}}}],\"scatterternary\":[{\"type\":\"scatterternary\",\"marker\":{\"colorbar\":{\"outlinewidth\":0,\"ticks\":\"\"}}}],\"scattercarpet\":[{\"type\":\"scattercarpet\",\"marker\":{\"colorbar\":{\"outlinewidth\":0,\"ticks\":\"\"}}}],\"carpet\":[{\"aaxis\":{\"endlinecolor\":\"#2a3f5f\",\"gridcolor\":\"white\",\"linecolor\":\"white\",\"minorgridcolor\":\"white\",\"startlinecolor\":\"#2a3f5f\"},\"baxis\":{\"endlinecolor\":\"#2a3f5f\",\"gridcolor\":\"white\",\"linecolor\":\"white\",\"minorgridcolor\":\"white\",\"startlinecolor\":\"#2a3f5f\"},\"type\":\"carpet\"}],\"table\":[{\"cells\":{\"fill\":{\"color\":\"#EBF0F8\"},\"line\":{\"color\":\"white\"}},\"header\":{\"fill\":{\"color\":\"#C8D4E3\"},\"line\":{\"color\":\"white\"}},\"type\":\"table\"}],\"barpolar\":[{\"marker\":{\"line\":{\"color\":\"#E5ECF6\",\"width\":0.5},\"pattern\":{\"fillmode\":\"overlay\",\"size\":10,\"solidity\":0.2}},\"type\":\"barpolar\"}],\"pie\":[{\"automargin\":true,\"type\":\"pie\"}]},\"layout\":{\"autotypenumbers\":\"strict\",\"colorway\":[\"#636efa\",\"#EF553B\",\"#00cc96\",\"#ab63fa\",\"#FFA15A\",\"#19d3f3\",\"#FF6692\",\"#B6E880\",\"#FF97FF\",\"#FECB52\"],\"font\":{\"color\":\"#2a3f5f\"},\"hovermode\":\"closest\",\"hoverlabel\":{\"align\":\"left\"},\"paper_bgcolor\":\"white\",\"plot_bgcolor\":\"#E5ECF6\",\"polar\":{\"bgcolor\":\"#E5ECF6\",\"angularaxis\":{\"gridcolor\":\"white\",\"linecolor\":\"white\",\"ticks\":\"\"},\"radialaxis\":{\"gridcolor\":\"white\",\"linecolor\":\"white\",\"ticks\":\"\"}},\"ternary\":{\"bgcolor\":\"#E5ECF6\",\"aaxis\":{\"gridcolor\":\"white\",\"linecolor\":\"white\",\"ticks\":\"\"},\"baxis\":{\"gridcolor\":\"white\",\"linecolor\":\"white\",\"ticks\":\"\"},\"caxis\":{\"gridcolor\":\"white\",\"linecolor\":\"white\",\"ticks\":\"\"}},\"coloraxis\":{\"colorbar\":{\"outlinewidth\":0,\"ticks\":\"\"}},\"colorscale\":{\"sequential\":[[0.0,\"#0d0887\"],[0.1111111111111111,\"#46039f\"],[0.2222222222222222,\"#7201a8\"],[0.3333333333333333,\"#9c179e\"],[0.4444444444444444,\"#bd3786\"],[0.5555555555555556,\"#d8576b\"],[0.6666666666666666,\"#ed7953\"],[0.7777777777777778,\"#fb9f3a\"],[0.8888888888888888,\"#fdca26\"],[1.0,\"#f0f921\"]],\"sequentialminus\":[[0.0,\"#0d0887\"],[0.1111111111111111,\"#46039f\"],[0.2222222222222222,\"#7201a8\"],[0.3333333333333333,\"#9c179e\"],[0.4444444444444444,\"#bd3786\"],[0.5555555555555556,\"#d8576b\"],[0.6666666666666666,\"#ed7953\"],[0.7777777777777778,\"#fb9f3a\"],[0.8888888888888888,\"#fdca26\"],[1.0,\"#f0f921\"]],\"diverging\":[[0,\"#8e0152\"],[0.1,\"#c51b7d\"],[0.2,\"#de77ae\"],[0.3,\"#f1b6da\"],[0.4,\"#fde0ef\"],[0.5,\"#f7f7f7\"],[0.6,\"#e6f5d0\"],[0.7,\"#b8e186\"],[0.8,\"#7fbc41\"],[0.9,\"#4d9221\"],[1,\"#276419\"]]},\"xaxis\":{\"gridcolor\":\"white\",\"linecolor\":\"white\",\"ticks\":\"\",\"title\":{\"standoff\":15},\"zerolinecolor\":\"white\",\"automargin\":true,\"zerolinewidth\":2},\"yaxis\":{\"gridcolor\":\"white\",\"linecolor\":\"white\",\"ticks\":\"\",\"title\":{\"standoff\":15},\"zerolinecolor\":\"white\",\"automargin\":true,\"zerolinewidth\":2},\"scene\":{\"xaxis\":{\"backgroundcolor\":\"#E5ECF6\",\"gridcolor\":\"white\",\"linecolor\":\"white\",\"showbackground\":true,\"ticks\":\"\",\"zerolinecolor\":\"white\",\"gridwidth\":2},\"yaxis\":{\"backgroundcolor\":\"#E5ECF6\",\"gridcolor\":\"white\",\"linecolor\":\"white\",\"showbackground\":true,\"ticks\":\"\",\"zerolinecolor\":\"white\",\"gridwidth\":2},\"zaxis\":{\"backgroundcolor\":\"#E5ECF6\",\"gridcolor\":\"white\",\"linecolor\":\"white\",\"showbackground\":true,\"ticks\":\"\",\"zerolinecolor\":\"white\",\"gridwidth\":2}},\"shapedefaults\":{\"line\":{\"color\":\"#2a3f5f\"}},\"annotationdefaults\":{\"arrowcolor\":\"#2a3f5f\",\"arrowhead\":0,\"arrowwidth\":1},\"geo\":{\"bgcolor\":\"white\",\"landcolor\":\"#E5ECF6\",\"subunitcolor\":\"white\",\"showland\":true,\"showlakes\":true,\"lakecolor\":\"white\"},\"title\":{\"x\":0.05},\"mapbox\":{\"style\":\"light\"}}}},                        {\"responsive\": true}                    )                };                            </script>        </div>"
      ],
      "text/plain": [
       "Figure({\n",
       "    'data': [{'mode': 'markers',\n",
       "              'name': 'Objective Value',\n",
       "              'type': 'scatter',\n",
       "              'x': [0, 1, 2, 3, 4, 5, 6, 7, 8, 9, 10, 11, 12, 13, 14, 15, 16, 17,\n",
       "                    18, 19, 20, 21, 22, 23, 24, 25, 26, 27, 28, 29, 30, 31, 32, 33,\n",
       "                    34, 35, 36, 37, 38, 39, 40, 41, 42, 43, 44, 45, 46, 47, 48, 49,\n",
       "                    50, 51, 52, 53, 54, 55, 56, 57, 58, 59, 60, 61, 62, 63, 64, 65,\n",
       "                    66, 67, 68, 69, 70, 71, 72, 73, 74, 75, 76, 77, 78, 79, 80, 81,\n",
       "                    82, 83, 84, 85, 86, 87, 88, 89, 90, 91, 92, 93, 94, 95, 96, 97,\n",
       "                    98, 99],\n",
       "              'y': [0.9561476337836817, 0.9404918340529379, 0.9551722842219967,\n",
       "                    0.9550561797752809, 0.9547402450943537, 0.9541401753131936,\n",
       "                    0.9550392275196138, 0.8984711578786839, 0.9569511459589868,\n",
       "                    0.949180512320444, 0.9565741403336974, 0.9564137308039747,\n",
       "                    0.955383342111203, 0.9562238867768283, 0.956970610399397,\n",
       "                    0.9527609440283059, 0.9564627899969871, 0.9417279136043197,\n",
       "                    0.9570658524633419, 0.9541622760800843, 0.952237796399985,\n",
       "                    0.956318546715411, 0.9568163849252663, 0.955757552898578,\n",
       "                    0.9561093126552738, 0.9571051639653223, 0.9548105504759755,\n",
       "                    0.9549685344990014, 0.9463781749764817, 0.9551552607778114,\n",
       "                    0.9234389005079174, 0.956407068309408, 0.9572939007412423,\n",
       "                    0.9561713984486783, 0.9552407505086279, 0.9503444641042053,\n",
       "                    0.9553036864103627, 0.9555003388299074, 0.9513012692553953,\n",
       "                    0.9579914176014453, 0.9560298665057697, 0.9559989478826137,\n",
       "                    0.9566657881856857, 0.9550451807228915, 0.9577316089136909,\n",
       "                    0.9557889963724305, 0.9561509433962263, 0.9563018867924528,\n",
       "                    0.955682118206163, 0.9577422389463781, 0.9551315888696177,\n",
       "                    0.9561647962642162, 0.957764537295422, 0.9550968130791834,\n",
       "                    0.9578408492057517, 0.95625, 0.9555722891566265,\n",
       "                    0.9561479582217864, 0.9484033171976434, 0.9566529595955784,\n",
       "                    0.9562068575308362, 0.9574548192771085, 0.9566889064797015,\n",
       "                    0.9565053378098005, 0.9574844662022218, 0.9557028778062377,\n",
       "                    0.955686909378412, 0.957611444532518, 0.9552971381107,\n",
       "                    0.9568981742894788, 0.9505922926975559, 0.9572630228961564,\n",
       "                    0.9565643616620164, 0.9568133855893879, 0.9553857158992508,\n",
       "                    0.9568163849252663, 0.9577167815053277, 0.956479217603912,\n",
       "                    0.9523559423769508, 0.9564824574612256, 0.9583852103376721,\n",
       "                    0.956649688737974, 0.9571320754716981, 0.9569349121351535,\n",
       "                    0.9573634651600753, 0.9581468807580943, 0.9575551782682513,\n",
       "                    0.9558408312314122, 0.957374575631837, 0.9562956823148218,\n",
       "                    0.9550510783200907, 0.9571256038647343, 0.9569652775153965,\n",
       "                    0.9566363020402018, 0.9562789995850466, 0.9568168960965492,\n",
       "                    0.9575333182742264, 0.957266893167233, 0.956292785676672,\n",
       "                    0.9190536418421249]},\n",
       "             {'mode': 'lines',\n",
       "              'name': 'Best Value',\n",
       "              'type': 'scatter',\n",
       "              'x': [0, 1, 2, 3, 4, 5, 6, 7, 8, 9, 10, 11, 12, 13, 14, 15, 16, 17,\n",
       "                    18, 19, 20, 21, 22, 23, 24, 25, 26, 27, 28, 29, 30, 31, 32, 33,\n",
       "                    34, 35, 36, 37, 38, 39, 40, 41, 42, 43, 44, 45, 46, 47, 48, 49,\n",
       "                    50, 51, 52, 53, 54, 55, 56, 57, 58, 59, 60, 61, 62, 63, 64, 65,\n",
       "                    66, 67, 68, 69, 70, 71, 72, 73, 74, 75, 76, 77, 78, 79, 80, 81,\n",
       "                    82, 83, 84, 85, 86, 87, 88, 89, 90, 91, 92, 93, 94, 95, 96, 97,\n",
       "                    98, 99],\n",
       "              'y': [0.9561476337836817, 0.9561476337836817, 0.9561476337836817,\n",
       "                    0.9561476337836817, 0.9561476337836817, 0.9561476337836817,\n",
       "                    0.9561476337836817, 0.9561476337836817, 0.9569511459589868,\n",
       "                    0.9569511459589868, 0.9569511459589868, 0.9569511459589868,\n",
       "                    0.9569511459589868, 0.9569511459589868, 0.956970610399397,\n",
       "                    0.956970610399397, 0.956970610399397, 0.956970610399397,\n",
       "                    0.9570658524633419, 0.9570658524633419, 0.9570658524633419,\n",
       "                    0.9570658524633419, 0.9570658524633419, 0.9570658524633419,\n",
       "                    0.9570658524633419, 0.9571051639653223, 0.9571051639653223,\n",
       "                    0.9571051639653223, 0.9571051639653223, 0.9571051639653223,\n",
       "                    0.9571051639653223, 0.9571051639653223, 0.9572939007412423,\n",
       "                    0.9572939007412423, 0.9572939007412423, 0.9572939007412423,\n",
       "                    0.9572939007412423, 0.9572939007412423, 0.9572939007412423,\n",
       "                    0.9579914176014453, 0.9579914176014453, 0.9579914176014453,\n",
       "                    0.9579914176014453, 0.9579914176014453, 0.9579914176014453,\n",
       "                    0.9579914176014453, 0.9579914176014453, 0.9579914176014453,\n",
       "                    0.9579914176014453, 0.9579914176014453, 0.9579914176014453,\n",
       "                    0.9579914176014453, 0.9579914176014453, 0.9579914176014453,\n",
       "                    0.9579914176014453, 0.9579914176014453, 0.9579914176014453,\n",
       "                    0.9579914176014453, 0.9579914176014453, 0.9579914176014453,\n",
       "                    0.9579914176014453, 0.9579914176014453, 0.9579914176014453,\n",
       "                    0.9579914176014453, 0.9579914176014453, 0.9579914176014453,\n",
       "                    0.9579914176014453, 0.9579914176014453, 0.9579914176014453,\n",
       "                    0.9579914176014453, 0.9579914176014453, 0.9579914176014453,\n",
       "                    0.9579914176014453, 0.9579914176014453, 0.9579914176014453,\n",
       "                    0.9579914176014453, 0.9579914176014453, 0.9579914176014453,\n",
       "                    0.9579914176014453, 0.9579914176014453, 0.9583852103376721,\n",
       "                    0.9583852103376721, 0.9583852103376721, 0.9583852103376721,\n",
       "                    0.9583852103376721, 0.9583852103376721, 0.9583852103376721,\n",
       "                    0.9583852103376721, 0.9583852103376721, 0.9583852103376721,\n",
       "                    0.9583852103376721, 0.9583852103376721, 0.9583852103376721,\n",
       "                    0.9583852103376721, 0.9583852103376721, 0.9583852103376721,\n",
       "                    0.9583852103376721, 0.9583852103376721, 0.9583852103376721,\n",
       "                    0.9583852103376721]},\n",
       "             {'marker': {'color': '#cccccc'},\n",
       "              'mode': 'markers',\n",
       "              'name': 'Infeasible Trial',\n",
       "              'showlegend': False,\n",
       "              'type': 'scatter',\n",
       "              'x': [],\n",
       "              'y': []}],\n",
       "    'layout': {'template': '...',\n",
       "               'title': {'text': 'Optimization History Plot'},\n",
       "               'xaxis': {'title': {'text': 'Trial'}},\n",
       "               'yaxis': {'title': {'text': 'Objective Value'}}}\n",
       "})"
      ]
     },
     "execution_count": 173,
     "metadata": {},
     "output_type": "execute_result"
    }
   ],
   "source": [
    "optuna.visualization.plot_optimization_history(study)"
   ]
  },
  {
   "cell_type": "code",
   "execution_count": 174,
   "metadata": {},
   "outputs": [
    {
     "data": {
      "text/plain": [
       "{'n_estimators': 30, 'max_depth': 29}"
      ]
     },
     "execution_count": 174,
     "metadata": {},
     "output_type": "execute_result"
    }
   ],
   "source": [
    "rf_best_params = study.best_params\n",
    "rf_best_params"
   ]
  },
  {
   "cell_type": "markdown",
   "metadata": {},
   "source": [
    "## Decision Tree"
   ]
  },
  {
   "cell_type": "code",
   "execution_count": 176,
   "metadata": {},
   "outputs": [],
   "source": [
    "results = []\n",
    "dt_results = pd.DataFrame()\n",
    "for i in range(1,50,2):\n",
    "    dt_model = DecisionTreeClassifier(max_depth = i)\n",
    "\n",
    "    dt_model.fit(X_train, y_train)\n",
    "\n",
    "    y_pred = dt_model.predict(X_val)\n",
    "\n",
    "    report = report_classification(y_val, y_pred, 'Decision Tree')\n",
    "\n",
    "    results.append({\n",
    "        'max_depth': i,\n",
    "        'Accuracy': report['Accuracy'],\n",
    "        'Precision': report['Precision'],\n",
    "        'Recall': report['Recall'],\n",
    "        'f1-Score': report['f1-Score'],\n",
    "        'Dataset': 'Val'\n",
    "    })\n",
    "\n",
    "    df_aux = pd.DataFrame(results)\n",
    "    dt_results = pd.concat([dt_results, df_aux], axis=0).drop_duplicates()"
   ]
  },
  {
   "cell_type": "code",
   "execution_count": 177,
   "metadata": {},
   "outputs": [
    {
     "data": {
      "text/plain": [
       "<matplotlib.collections.LineCollection at 0x17a6a0bef10>"
      ]
     },
     "execution_count": 177,
     "metadata": {},
     "output_type": "execute_result"
    },
    {
     "data": {
      "image/png": "[encoded data removed]",
      "text/plain": [
       "<Figure size 2500x1200 with 1 Axes>"
      ]
     },
     "metadata": {},
     "output_type": "display_data"
    }
   ],
   "source": [
    "plt.plot(dt_results['max_depth'],dt_results['Accuracy'], label = 'Accuracy' )\n",
    "plt.plot(dt_results['max_depth'],dt_results['Precision'], label = 'Precision' )\n",
    "plt.plot(dt_results['max_depth'],dt_results['Recall'], label = 'Recall' )\n",
    "plt.plot(dt_results['max_depth'],dt_results['Recall'], label = 'f1-Score' )\n",
    "plt.legend()\n",
    "\n",
    "best_max_depth = int(dt_results['max_depth'].loc[dt_results['f1-Score'] ==  dt_results['f1-Score'].max()])\n",
    "plt.vlines(best_max_depth, ymin = 0.7, ymax=0.96)\n"
   ]
  },
  {
   "cell_type": "markdown",
   "metadata": {},
   "source": [
    "## Logistic Regression"
   ]
  },
  {
   "cell_type": "code",
   "execution_count": 178,
   "metadata": {},
   "outputs": [
    {
     "name": "stderr",
     "output_type": "stream",
     "text": [
      "[I 2023-08-22 19:36:29,363] A new study created in memory with name: no-name-0123b215-d6f4-4227-8e0b-28aef53a3c10\n",
      "[I 2023-08-22 19:36:29,630] Trial 0 finished with value: 0.0 and parameters: {'C': 1, 'solver': 'lbfgs', 'max_iter': 23}. Best is trial 0 with value: 0.0.\n",
      "[I 2023-08-22 19:36:50,689] Trial 1 finished with value: 0.005914534969688009 and parameters: {'C': 2, 'solver': 'saga', 'max_iter': 255}. Best is trial 1 with value: 0.005914534969688009.\n",
      "[I 2023-08-22 19:36:50,988] Trial 2 finished with value: 0.8526439305045611 and parameters: {'C': 3, 'solver': 'newton-cholesky', 'max_iter': 23}. Best is trial 2 with value: 0.8526439305045611.\n",
      "[I 2023-08-22 19:36:52,733] Trial 3 finished with value: 0.001928211213289825 and parameters: {'C': 3, 'solver': 'sag', 'max_iter': 23}. Best is trial 2 with value: 0.8526439305045611.\n",
      "[I 2023-08-22 19:37:14,674] Trial 4 finished with value: 0.00650310375406444 and parameters: {'C': 2, 'solver': 'saga', 'max_iter': 278}. Best is trial 2 with value: 0.8526439305045611.\n",
      "[I 2023-08-22 19:37:22,814] Trial 5 finished with value: 0.0031124944419742106 and parameters: {'C': 2, 'solver': 'saga', 'max_iter': 99}. Best is trial 2 with value: 0.8526439305045611.\n",
      "[I 2023-08-22 19:37:33,572] Trial 6 finished with value: 0.007091150834687546 and parameters: {'C': 2, 'solver': 'sag', 'max_iter': 153}. Best is trial 2 with value: 0.8526439305045611.\n",
      "[I 2023-08-22 19:37:34,608] Trial 7 finished with value: 0.7777159936053382 and parameters: {'C': 1, 'solver': 'liblinear', 'max_iter': 93}. Best is trial 2 with value: 0.8526439305045611.\n",
      "[I 2023-08-22 19:37:35,764] Trial 8 finished with value: 0.8155759870200108 and parameters: {'C': 2, 'solver': 'liblinear', 'max_iter': 72}. Best is trial 2 with value: 0.8526439305045611.\n",
      "[I 2023-08-22 19:37:50,571] Trial 9 finished with value: 0.8522765981605541 and parameters: {'C': 1, 'solver': 'newton-cg', 'max_iter': 242}. Best is trial 2 with value: 0.8526439305045611.\n",
      "[I 2023-08-22 19:37:50,909] Trial 10 finished with value: 0.8526439305045611 and parameters: {'C': 3, 'solver': 'newton-cholesky', 'max_iter': 181}. Best is trial 2 with value: 0.8526439305045611.\n",
      "[I 2023-08-22 19:37:51,283] Trial 11 finished with value: 0.8526439305045611 and parameters: {'C': 3, 'solver': 'newton-cholesky', 'max_iter': 188}. Best is trial 2 with value: 0.8526439305045611.\n",
      "[I 2023-08-22 19:37:51,628] Trial 12 finished with value: 0.8526439305045611 and parameters: {'C': 3, 'solver': 'newton-cholesky', 'max_iter': 178}. Best is trial 2 with value: 0.8526439305045611.\n",
      "[I 2023-08-22 19:37:51,956] Trial 13 finished with value: 0.8526439305045611 and parameters: {'C': 3, 'solver': 'newton-cholesky', 'max_iter': 140}. Best is trial 2 with value: 0.8526439305045611.\n",
      "[I 2023-08-22 19:37:52,273] Trial 14 finished with value: 0.8526439305045611 and parameters: {'C': 3, 'solver': 'newton-cholesky', 'max_iter': 222}. Best is trial 2 with value: 0.8526439305045611.\n",
      "[I 2023-08-22 19:37:52,599] Trial 15 finished with value: 0.8526439305045611 and parameters: {'C': 3, 'solver': 'newton-cholesky', 'max_iter': 125}. Best is trial 2 with value: 0.8526439305045611.\n",
      "[I 2023-08-22 19:37:58,645] Trial 16 finished with value: 0.8521574564723695 and parameters: {'C': 3, 'solver': 'newton-cg', 'max_iter': 53}. Best is trial 2 with value: 0.8526439305045611.\n",
      "[I 2023-08-22 19:37:58,817] Trial 17 finished with value: 0.0 and parameters: {'C': 3, 'solver': 'lbfgs', 'max_iter': 182}. Best is trial 2 with value: 0.8526439305045611.\n",
      "[I 2023-08-22 19:37:59,231] Trial 18 finished with value: 0.8526439305045611 and parameters: {'C': 3, 'solver': 'newton-cholesky', 'max_iter': 205}. Best is trial 2 with value: 0.8526439305045611.\n",
      "[I 2023-08-22 19:37:59,577] Trial 19 finished with value: 0.8522107813446397 and parameters: {'C': 2, 'solver': 'newton-cholesky', 'max_iter': 124}. Best is trial 2 with value: 0.8526439305045611.\n",
      "[I 2023-08-22 19:37:59,925] Trial 20 finished with value: 0.8522107813446397 and parameters: {'C': 2, 'solver': 'newton-cholesky', 'max_iter': 299}. Best is trial 2 with value: 0.8526439305045611.\n",
      "[I 2023-08-22 19:38:00,291] Trial 21 finished with value: 0.8526439305045611 and parameters: {'C': 3, 'solver': 'newton-cholesky', 'max_iter': 207}. Best is trial 2 with value: 0.8526439305045611.\n",
      "[I 2023-08-22 19:38:00,661] Trial 22 finished with value: 0.8526439305045611 and parameters: {'C': 3, 'solver': 'newton-cholesky', 'max_iter': 174}. Best is trial 2 with value: 0.8526439305045611.\n",
      "[I 2023-08-22 19:38:01,071] Trial 23 finished with value: 0.8526439305045611 and parameters: {'C': 3, 'solver': 'newton-cholesky', 'max_iter': 191}. Best is trial 2 with value: 0.8526439305045611.\n",
      "[I 2023-08-22 19:38:01,477] Trial 24 finished with value: 0.8526439305045611 and parameters: {'C': 3, 'solver': 'newton-cholesky', 'max_iter': 241}. Best is trial 2 with value: 0.8526439305045611.\n",
      "[I 2023-08-22 19:38:13,362] Trial 25 finished with value: 0.007237279373753786 and parameters: {'C': 3, 'solver': 'sag', 'max_iter': 159}. Best is trial 2 with value: 0.8526439305045611.\n",
      "[I 2023-08-22 19:38:13,556] Trial 26 finished with value: 0.0 and parameters: {'C': 3, 'solver': 'lbfgs', 'max_iter': 111}. Best is trial 2 with value: 0.8526439305045611.\n",
      "[I 2023-08-22 19:38:15,343] Trial 27 finished with value: 0.8155759870200108 and parameters: {'C': 2, 'solver': 'liblinear', 'max_iter': 71}. Best is trial 2 with value: 0.8526439305045611.\n",
      "[I 2023-08-22 19:38:16,307] Trial 28 finished with value: 0.8137118606863247 and parameters: {'C': 3, 'solver': 'newton-cg', 'max_iter': 10}. Best is trial 2 with value: 0.8526439305045611.\n",
      "[I 2023-08-22 19:38:16,495] Trial 29 finished with value: 0.0 and parameters: {'C': 1, 'solver': 'lbfgs', 'max_iter': 157}. Best is trial 2 with value: 0.8526439305045611.\n",
      "[I 2023-08-22 19:38:16,905] Trial 30 finished with value: 0.8526439305045611 and parameters: {'C': 3, 'solver': 'newton-cholesky', 'max_iter': 223}. Best is trial 2 with value: 0.8526439305045611.\n",
      "[I 2023-08-22 19:38:17,299] Trial 31 finished with value: 0.8526439305045611 and parameters: {'C': 3, 'solver': 'newton-cholesky', 'max_iter': 174}. Best is trial 2 with value: 0.8526439305045611.\n",
      "[I 2023-08-22 19:38:17,712] Trial 32 finished with value: 0.8526439305045611 and parameters: {'C': 3, 'solver': 'newton-cholesky', 'max_iter': 208}. Best is trial 2 with value: 0.8526439305045611.\n",
      "[I 2023-08-22 19:38:18,052] Trial 33 finished with value: 0.8526439305045611 and parameters: {'C': 3, 'solver': 'newton-cholesky', 'max_iter': 190}. Best is trial 2 with value: 0.8526439305045611.\n",
      "[I 2023-08-22 19:38:29,166] Trial 34 finished with value: 0.003998815165876777 and parameters: {'C': 3, 'solver': 'saga', 'max_iter': 145}. Best is trial 2 with value: 0.8526439305045611.\n",
      "[I 2023-08-22 19:38:29,517] Trial 35 finished with value: 0.8526439305045611 and parameters: {'C': 3, 'solver': 'newton-cholesky', 'max_iter': 45}. Best is trial 2 with value: 0.8526439305045611.\n",
      "[I 2023-08-22 19:38:50,714] Trial 36 finished with value: 0.015129259694477084 and parameters: {'C': 2, 'solver': 'sag', 'max_iter': 269}. Best is trial 2 with value: 0.8526439305045611.\n",
      "[I 2023-08-22 19:39:03,471] Trial 37 finished with value: 0.004293751850755108 and parameters: {'C': 2, 'solver': 'saga', 'max_iter': 163}. Best is trial 2 with value: 0.8526439305045611.\n",
      "[I 2023-08-22 19:39:03,788] Trial 38 finished with value: 0.8526439305045611 and parameters: {'C': 3, 'solver': 'newton-cholesky', 'max_iter': 124}. Best is trial 2 with value: 0.8526439305045611.\n",
      "[I 2023-08-22 19:39:05,068] Trial 39 finished with value: 0.8155759870200108 and parameters: {'C': 2, 'solver': 'liblinear', 'max_iter': 224}. Best is trial 2 with value: 0.8526439305045611.\n",
      "[I 2023-08-22 19:39:11,543] Trial 40 finished with value: 0.004588513913558318 and parameters: {'C': 3, 'solver': 'sag', 'max_iter': 90}. Best is trial 2 with value: 0.8526439305045611.\n",
      "[I 2023-08-22 19:39:11,905] Trial 41 finished with value: 0.8526439305045611 and parameters: {'C': 3, 'solver': 'newton-cholesky', 'max_iter': 140}. Best is trial 2 with value: 0.8526439305045611.\n",
      "[I 2023-08-22 19:39:12,251] Trial 42 finished with value: 0.8526439305045611 and parameters: {'C': 3, 'solver': 'newton-cholesky', 'max_iter': 198}. Best is trial 2 with value: 0.8526439305045611.\n",
      "[I 2023-08-22 19:39:12,569] Trial 43 finished with value: 0.8526439305045611 and parameters: {'C': 3, 'solver': 'newton-cholesky', 'max_iter': 174}. Best is trial 2 with value: 0.8526439305045611.\n",
      "[I 2023-08-22 19:39:29,547] Trial 44 finished with value: 0.8526439305045611 and parameters: {'C': 3, 'solver': 'newton-cg', 'max_iter': 138}. Best is trial 2 with value: 0.8526439305045611.\n",
      "[I 2023-08-22 19:39:29,975] Trial 45 finished with value: 0.8526439305045611 and parameters: {'C': 3, 'solver': 'newton-cholesky', 'max_iter': 28}. Best is trial 2 with value: 0.8526439305045611.\n",
      "[I 2023-08-22 19:39:49,227] Trial 46 finished with value: 0.005914534969688009 and parameters: {'C': 3, 'solver': 'saga', 'max_iter': 240}. Best is trial 2 with value: 0.8526439305045611.\n",
      "[I 2023-08-22 19:39:49,554] Trial 47 finished with value: 0.8526439305045611 and parameters: {'C': 3, 'solver': 'newton-cholesky', 'max_iter': 106}. Best is trial 2 with value: 0.8526439305045611.\n",
      "[I 2023-08-22 19:39:49,926] Trial 48 finished with value: 0.8522331566994702 and parameters: {'C': 1, 'solver': 'newton-cholesky', 'max_iter': 81}. Best is trial 2 with value: 0.8526439305045611.\n",
      "[I 2023-08-22 19:39:50,110] Trial 49 finished with value: 0.0 and parameters: {'C': 2, 'solver': 'lbfgs', 'max_iter': 56}. Best is trial 2 with value: 0.8526439305045611.\n",
      "[I 2023-08-22 19:39:51,561] Trial 50 finished with value: 0.7777159936053382 and parameters: {'C': 3, 'solver': 'liblinear', 'max_iter': 215}. Best is trial 2 with value: 0.8526439305045611.\n",
      "[I 2023-08-22 19:39:51,949] Trial 51 finished with value: 0.8526439305045611 and parameters: {'C': 3, 'solver': 'newton-cholesky', 'max_iter': 257}. Best is trial 2 with value: 0.8526439305045611.\n",
      "[I 2023-08-22 19:39:52,312] Trial 52 finished with value: 0.8526439305045611 and parameters: {'C': 3, 'solver': 'newton-cholesky', 'max_iter': 189}. Best is trial 2 with value: 0.8526439305045611.\n",
      "[I 2023-08-22 19:39:52,741] Trial 53 finished with value: 0.8526439305045611 and parameters: {'C': 3, 'solver': 'newton-cholesky', 'max_iter': 233}. Best is trial 2 with value: 0.8526439305045611.\n",
      "[I 2023-08-22 19:39:53,132] Trial 54 finished with value: 0.8526439305045611 and parameters: {'C': 3, 'solver': 'newton-cholesky', 'max_iter': 177}. Best is trial 2 with value: 0.8526439305045611.\n",
      "[I 2023-08-22 19:39:53,546] Trial 55 finished with value: 0.8526439305045611 and parameters: {'C': 3, 'solver': 'newton-cholesky', 'max_iter': 166}. Best is trial 2 with value: 0.8526439305045611.\n",
      "[I 2023-08-22 19:40:14,749] Trial 56 finished with value: 0.8526439305045611 and parameters: {'C': 3, 'solver': 'newton-cg', 'max_iter': 199}. Best is trial 2 with value: 0.8526439305045611.\n",
      "[I 2023-08-22 19:40:15,415] Trial 57 finished with value: 0.8526439305045611 and parameters: {'C': 3, 'solver': 'newton-cholesky', 'max_iter': 290}. Best is trial 2 with value: 0.8526439305045611.\n",
      "[I 2023-08-22 19:40:16,041] Trial 58 finished with value: 0.8526439305045611 and parameters: {'C': 3, 'solver': 'newton-cholesky', 'max_iter': 149}. Best is trial 2 with value: 0.8526439305045611.\n",
      "[I 2023-08-22 19:40:16,810] Trial 59 finished with value: 0.8522107813446397 and parameters: {'C': 2, 'solver': 'newton-cholesky', 'max_iter': 257}. Best is trial 2 with value: 0.8526439305045611.\n",
      "[I 2023-08-22 19:40:32,516] Trial 60 finished with value: 0.011630474788369526 and parameters: {'C': 3, 'solver': 'sag', 'max_iter': 218}. Best is trial 2 with value: 0.8526439305045611.\n",
      "[I 2023-08-22 19:40:32,842] Trial 61 finished with value: 0.8526439305045611 and parameters: {'C': 3, 'solver': 'newton-cholesky', 'max_iter': 128}. Best is trial 2 with value: 0.8526439305045611.\n",
      "[I 2023-08-22 19:40:33,131] Trial 62 finished with value: 0.8526439305045611 and parameters: {'C': 3, 'solver': 'newton-cholesky', 'max_iter': 184}. Best is trial 2 with value: 0.8526439305045611.\n",
      "[I 2023-08-22 19:40:33,431] Trial 63 finished with value: 0.8526439305045611 and parameters: {'C': 3, 'solver': 'newton-cholesky', 'max_iter': 129}. Best is trial 2 with value: 0.8526439305045611.\n",
      "[I 2023-08-22 19:40:33,762] Trial 64 finished with value: 0.8526439305045611 and parameters: {'C': 3, 'solver': 'newton-cholesky', 'max_iter': 163}. Best is trial 2 with value: 0.8526439305045611.\n",
      "[I 2023-08-22 19:40:34,100] Trial 65 finished with value: 0.8526439305045611 and parameters: {'C': 3, 'solver': 'newton-cholesky', 'max_iter': 113}. Best is trial 2 with value: 0.8526439305045611.\n",
      "[I 2023-08-22 19:40:34,266] Trial 66 finished with value: 0.0 and parameters: {'C': 3, 'solver': 'lbfgs', 'max_iter': 205}. Best is trial 2 with value: 0.8526439305045611.\n",
      "[I 2023-08-22 19:40:35,378] Trial 67 finished with value: 0.7777159936053382 and parameters: {'C': 3, 'solver': 'liblinear', 'max_iter': 151}. Best is trial 2 with value: 0.8526439305045611.\n",
      "[I 2023-08-22 19:40:46,102] Trial 68 finished with value: 0.004736179974839044 and parameters: {'C': 3, 'solver': 'saga', 'max_iter': 196}. Best is trial 2 with value: 0.8526439305045611.\n",
      "[I 2023-08-22 19:40:46,373] Trial 69 finished with value: 0.8526439305045611 and parameters: {'C': 3, 'solver': 'newton-cholesky', 'max_iter': 169}. Best is trial 2 with value: 0.8526439305045611.\n",
      "[I 2023-08-22 19:40:47,329] Trial 70 finished with value: 0.822580048121414 and parameters: {'C': 2, 'solver': 'newton-cg', 'max_iter': 11}. Best is trial 2 with value: 0.8526439305045611.\n",
      "[I 2023-08-22 19:40:47,627] Trial 71 finished with value: 0.8526439305045611 and parameters: {'C': 3, 'solver': 'newton-cholesky', 'max_iter': 208}. Best is trial 2 with value: 0.8526439305045611.\n",
      "[I 2023-08-22 19:40:47,922] Trial 72 finished with value: 0.8526439305045611 and parameters: {'C': 3, 'solver': 'newton-cholesky', 'max_iter': 183}. Best is trial 2 with value: 0.8526439305045611.\n",
      "[I 2023-08-22 19:40:48,213] Trial 73 finished with value: 0.8526439305045611 and parameters: {'C': 3, 'solver': 'newton-cholesky', 'max_iter': 227}. Best is trial 2 with value: 0.8526439305045611.\n",
      "[I 2023-08-22 19:40:48,508] Trial 74 finished with value: 0.8526439305045611 and parameters: {'C': 3, 'solver': 'newton-cholesky', 'max_iter': 213}. Best is trial 2 with value: 0.8526439305045611.\n",
      "[I 2023-08-22 19:40:48,827] Trial 75 finished with value: 0.8526439305045611 and parameters: {'C': 3, 'solver': 'newton-cholesky', 'max_iter': 141}. Best is trial 2 with value: 0.8526439305045611.\n",
      "[I 2023-08-22 19:40:58,495] Trial 76 finished with value: 0.007091150834687546 and parameters: {'C': 3, 'solver': 'sag', 'max_iter': 156}. Best is trial 2 with value: 0.8526439305045611.\n",
      "[I 2023-08-22 19:40:58,851] Trial 77 finished with value: 0.8526439305045611 and parameters: {'C': 3, 'solver': 'newton-cholesky', 'max_iter': 38}. Best is trial 2 with value: 0.8526439305045611.\n",
      "[I 2023-08-22 19:40:59,086] Trial 78 finished with value: 0.0 and parameters: {'C': 3, 'solver': 'lbfgs', 'max_iter': 193}. Best is trial 2 with value: 0.8526439305045611.\n",
      "[I 2023-08-22 19:40:59,426] Trial 79 finished with value: 0.8522331566994702 and parameters: {'C': 1, 'solver': 'newton-cholesky', 'max_iter': 66}. Best is trial 2 with value: 0.8526439305045611.\n",
      "[I 2023-08-22 19:40:59,844] Trial 80 finished with value: 0.8526439305045611 and parameters: {'C': 3, 'solver': 'newton-cholesky', 'max_iter': 96}. Best is trial 2 with value: 0.8526439305045611.\n",
      "[I 2023-08-22 19:41:00,191] Trial 81 finished with value: 0.8526439305045611 and parameters: {'C': 3, 'solver': 'newton-cholesky', 'max_iter': 203}. Best is trial 2 with value: 0.8526439305045611.\n",
      "[I 2023-08-22 19:41:00,559] Trial 82 finished with value: 0.8526439305045611 and parameters: {'C': 3, 'solver': 'newton-cholesky', 'max_iter': 229}. Best is trial 2 with value: 0.8526439305045611.\n",
      "[I 2023-08-22 19:41:00,957] Trial 83 finished with value: 0.8526439305045611 and parameters: {'C': 3, 'solver': 'newton-cholesky', 'max_iter': 248}. Best is trial 2 with value: 0.8526439305045611.\n",
      "[I 2023-08-22 19:41:11,024] Trial 84 finished with value: 0.004588853526755976 and parameters: {'C': 3, 'solver': 'saga', 'max_iter': 177}. Best is trial 2 with value: 0.8526439305045611.\n",
      "[I 2023-08-22 19:41:11,345] Trial 85 finished with value: 0.8526439305045611 and parameters: {'C': 3, 'solver': 'newton-cholesky', 'max_iter': 220}. Best is trial 2 with value: 0.8526439305045611.\n",
      "[I 2023-08-22 19:41:11,655] Trial 86 finished with value: 0.8526439305045611 and parameters: {'C': 3, 'solver': 'newton-cholesky', 'max_iter': 189}. Best is trial 2 with value: 0.8526439305045611.\n",
      "[I 2023-08-22 19:41:12,644] Trial 87 finished with value: 0.7777159936053382 and parameters: {'C': 3, 'solver': 'liblinear', 'max_iter': 133}. Best is trial 2 with value: 0.8526439305045611.\n",
      "[I 2023-08-22 19:41:12,963] Trial 88 finished with value: 0.8526439305045611 and parameters: {'C': 3, 'solver': 'newton-cholesky', 'max_iter': 117}. Best is trial 2 with value: 0.8526439305045611.\n",
      "[I 2023-08-22 19:41:28,186] Trial 89 finished with value: 0.8526439305045611 and parameters: {'C': 3, 'solver': 'newton-cg', 'max_iter': 235}. Best is trial 2 with value: 0.8526439305045611.\n",
      "[I 2023-08-22 19:41:28,500] Trial 90 finished with value: 0.8526439305045611 and parameters: {'C': 3, 'solver': 'newton-cholesky', 'max_iter': 184}. Best is trial 2 with value: 0.8526439305045611.\n",
      "[I 2023-08-22 19:41:28,784] Trial 91 finished with value: 0.8526439305045611 and parameters: {'C': 3, 'solver': 'newton-cholesky', 'max_iter': 171}. Best is trial 2 with value: 0.8526439305045611.\n",
      "[I 2023-08-22 19:41:29,076] Trial 92 finished with value: 0.8526439305045611 and parameters: {'C': 3, 'solver': 'newton-cholesky', 'max_iter': 212}. Best is trial 2 with value: 0.8526439305045611.\n",
      "[I 2023-08-22 19:41:29,399] Trial 93 finished with value: 0.8526439305045611 and parameters: {'C': 3, 'solver': 'newton-cholesky', 'max_iter': 202}. Best is trial 2 with value: 0.8526439305045611.\n",
      "[I 2023-08-22 19:41:29,689] Trial 94 finished with value: 0.8526439305045611 and parameters: {'C': 3, 'solver': 'newton-cholesky', 'max_iter': 161}. Best is trial 2 with value: 0.8526439305045611.\n",
      "[I 2023-08-22 19:41:30,036] Trial 95 finished with value: 0.8526439305045611 and parameters: {'C': 3, 'solver': 'newton-cholesky', 'max_iter': 179}. Best is trial 2 with value: 0.8526439305045611.\n",
      "[I 2023-08-22 19:41:40,216] Trial 96 finished with value: 0.009730207872622734 and parameters: {'C': 3, 'solver': 'sag', 'max_iter': 193}. Best is trial 2 with value: 0.8526439305045611.\n",
      "[I 2023-08-22 19:41:40,490] Trial 97 finished with value: 0.8526439305045611 and parameters: {'C': 3, 'solver': 'newton-cholesky', 'max_iter': 146}. Best is trial 2 with value: 0.8526439305045611.\n",
      "[I 2023-08-22 19:41:40,761] Trial 98 finished with value: 0.8526439305045611 and parameters: {'C': 3, 'solver': 'newton-cholesky', 'max_iter': 87}. Best is trial 2 with value: 0.8526439305045611.\n",
      "[I 2023-08-22 19:41:40,899] Trial 99 finished with value: 0.0 and parameters: {'C': 2, 'solver': 'lbfgs', 'max_iter': 168}. Best is trial 2 with value: 0.8526439305045611.\n"
     ]
    }
   ],
   "source": [
    "def lr_fine_tuning(trial):\n",
    "    c = trial.suggest_int('C', 1, 3)\n",
    "    solver = trial.suggest_categorical('solver', ['lbfgs', 'liblinear', 'newton-cg', 'newton-cholesky', 'sag', 'saga'])\n",
    "    max_iter = trial.suggest_int('max_iter', 10, 300)\n",
    "    #max_depth = trial.suggest_int('max_depth', 5, 30)\n",
    "\n",
    "    lr_model = LogisticRegression(C = c, solver=solver, max_iter= max_iter)\n",
    "\n",
    "    lr_model.fit(X_train, y_train)\n",
    "\n",
    "    y_pred = lr_model.predict(X_val)\n",
    "\n",
    "    return f1_score(y_val, y_pred)\n",
    "\n",
    "study = optuna.create_study(direction='maximize')\n",
    "study.optimize(lr_fine_tuning, n_trials=50)"
   ]
  },
  {
   "cell_type": "code",
   "execution_count": 194,
   "metadata": {},
   "outputs": [
    {
     "ename": "ValueError",
     "evalue": "Mime type rendering requires nbformat>=4.2.0 but it is not installed",
     "output_type": "error",
     "traceback": [
      "\u001b[1;31m---------------------------------------------------------------------------\u001b[0m",
      "\u001b[1;31mValueError\u001b[0m                                Traceback (most recent call last)",
      "File \u001b[1;32mc:\\Users\\thale\\anaconda3\\envs\\myenv\\lib\\site-packages\\IPython\\core\\formatters.py:922\u001b[0m, in \u001b[0;36mIPythonDisplayFormatter.__call__\u001b[1;34m(self, obj)\u001b[0m\n\u001b[0;32m    920\u001b[0m method \u001b[39m=\u001b[39m get_real_method(obj, \u001b[39mself\u001b[39m\u001b[39m.\u001b[39mprint_method)\n\u001b[0;32m    921\u001b[0m \u001b[39mif\u001b[39;00m method \u001b[39mis\u001b[39;00m \u001b[39mnot\u001b[39;00m \u001b[39mNone\u001b[39;00m:\n\u001b[1;32m--> 922\u001b[0m     method()\n\u001b[0;32m    923\u001b[0m     \u001b[39mreturn\u001b[39;00m \u001b[39mTrue\u001b[39;00m\n",
      "File \u001b[1;32mc:\\Users\\thale\\anaconda3\\envs\\myenv\\lib\\site-packages\\plotly\\basedatatypes.py:834\u001b[0m, in \u001b[0;36mBaseFigure._ipython_display_\u001b[1;34m(self)\u001b[0m\n\u001b[0;32m    831\u001b[0m \u001b[39mimport\u001b[39;00m \u001b[39mplotly\u001b[39;00m\u001b[39m.\u001b[39;00m\u001b[39mio\u001b[39;00m \u001b[39mas\u001b[39;00m \u001b[39mpio\u001b[39;00m\n\u001b[0;32m    833\u001b[0m \u001b[39mif\u001b[39;00m pio\u001b[39m.\u001b[39mrenderers\u001b[39m.\u001b[39mrender_on_display \u001b[39mand\u001b[39;00m pio\u001b[39m.\u001b[39mrenderers\u001b[39m.\u001b[39mdefault:\n\u001b[1;32m--> 834\u001b[0m     pio\u001b[39m.\u001b[39;49mshow(\u001b[39mself\u001b[39;49m)\n\u001b[0;32m    835\u001b[0m \u001b[39melse\u001b[39;00m:\n\u001b[0;32m    836\u001b[0m     \u001b[39mprint\u001b[39m(\u001b[39mrepr\u001b[39m(\u001b[39mself\u001b[39m))\n",
      "File \u001b[1;32mc:\\Users\\thale\\anaconda3\\envs\\myenv\\lib\\site-packages\\plotly\\io\\_renderers.py:396\u001b[0m, in \u001b[0;36mshow\u001b[1;34m(fig, renderer, validate, **kwargs)\u001b[0m\n\u001b[0;32m    391\u001b[0m         \u001b[39mraise\u001b[39;00m \u001b[39mValueError\u001b[39;00m(\n\u001b[0;32m    392\u001b[0m             \u001b[39m\"\u001b[39m\u001b[39mMime type rendering requires ipython but it is not installed\u001b[39m\u001b[39m\"\u001b[39m\n\u001b[0;32m    393\u001b[0m         )\n\u001b[0;32m    395\u001b[0m     \u001b[39mif\u001b[39;00m \u001b[39mnot\u001b[39;00m nbformat \u001b[39mor\u001b[39;00m Version(nbformat\u001b[39m.\u001b[39m__version__) \u001b[39m<\u001b[39m Version(\u001b[39m\"\u001b[39m\u001b[39m4.2.0\u001b[39m\u001b[39m\"\u001b[39m):\n\u001b[1;32m--> 396\u001b[0m         \u001b[39mraise\u001b[39;00m \u001b[39mValueError\u001b[39;00m(\n\u001b[0;32m    397\u001b[0m             \u001b[39m\"\u001b[39m\u001b[39mMime type rendering requires nbformat>=4.2.0 but it is not installed\u001b[39m\u001b[39m\"\u001b[39m\n\u001b[0;32m    398\u001b[0m         )\n\u001b[0;32m    400\u001b[0m     ipython_display\u001b[39m.\u001b[39mdisplay(bundle, raw\u001b[39m=\u001b[39m\u001b[39mTrue\u001b[39;00m)\n\u001b[0;32m    402\u001b[0m \u001b[39m# external renderers\u001b[39;00m\n",
      "\u001b[1;31mValueError\u001b[0m: Mime type rendering requires nbformat>=4.2.0 but it is not installed"
     ]
    },
    {
     "data": {
      "application/vnd.plotly.v1+json": {
       "config": {
        "plotlyServerURL": "https://plot.ly"
       },
       "data": [
        {
         "mode": "markers",
         "name": "Objective Value",
         "type": "scatter",
         "x": [
          0,
          1,
          2,
          3,
          4,
          5,
          6,
          7,
          8,
          9,
          10,
          11,
          12,
          13,
          14,
          15,
          16,
          17,
          18,
          19,
          20,
          21,
          22,
          23,
          24,
          25,
          26,
          27,
          28,
          29,
          30,
          31,
          32,
          33,
          34,
          35,
          36,
          37,
          38,
          39,
          40,
          41,
          42,
          43,
          44,
          45,
          46,
          47,
          48,
          49,
          50,
          51,
          52,
          53,
          54,
          55,
          56,
          57,
          58,
          59,
          60,
          61,
          62,
          63,
          64,
          65,
          66,
          67,
          68,
          69,
          70,
          71,
          72,
          73,
          74,
          75,
          76,
          77,
          78,
          79,
          80,
          81,
          82,
          83,
          84,
          85,
          86,
          87,
          88,
          89,
          90,
          91,
          92,
          93,
          94,
          95,
          96,
          97,
          98,
          99
         ],
         "y": [
          0,
          0.005914534969688009,
          0.8526439305045611,
          0.001928211213289825,
          0.00650310375406444,
          0.0031124944419742106,
          0.007091150834687546,
          0.7777159936053382,
          0.8155759870200108,
          0.8522765981605541,
          0.8526439305045611,
          0.8526439305045611,
          0.8526439305045611,
          0.8526439305045611,
          0.8526439305045611,
          0.8526439305045611,
          0.8521574564723695,
          0,
          0.8526439305045611,
          0.8522107813446397,
          0.8522107813446397,
          0.8526439305045611,
          0.8526439305045611,
          0.8526439305045611,
          0.8526439305045611,
          0.007237279373753786,
          0,
          0.8155759870200108,
          0.8137118606863247,
          0,
          0.8526439305045611,
          0.8526439305045611,
          0.8526439305045611,
          0.8526439305045611,
          0.003998815165876777,
          0.8526439305045611,
          0.015129259694477084,
          0.004293751850755108,
          0.8526439305045611,
          0.8155759870200108,
          0.004588513913558318,
          0.8526439305045611,
          0.8526439305045611,
          0.8526439305045611,
          0.8526439305045611,
          0.8526439305045611,
          0.005914534969688009,
          0.8526439305045611,
          0.8522331566994702,
          0,
          0.7777159936053382,
          0.8526439305045611,
          0.8526439305045611,
          0.8526439305045611,
          0.8526439305045611,
          0.8526439305045611,
          0.8526439305045611,
          0.8526439305045611,
          0.8526439305045611,
          0.8522107813446397,
          0.011630474788369526,
          0.8526439305045611,
          0.8526439305045611,
          0.8526439305045611,
          0.8526439305045611,
          0.8526439305045611,
          0,
          0.7777159936053382,
          0.004736179974839044,
          0.8526439305045611,
          0.822580048121414,
          0.8526439305045611,
          0.8526439305045611,
          0.8526439305045611,
          0.8526439305045611,
          0.8526439305045611,
          0.007091150834687546,
          0.8526439305045611,
          0,
          0.8522331566994702,
          0.8526439305045611,
          0.8526439305045611,
          0.8526439305045611,
          0.8526439305045611,
          0.004588853526755976,
          0.8526439305045611,
          0.8526439305045611,
          0.7777159936053382,
          0.8526439305045611,
          0.8526439305045611,
          0.8526439305045611,
          0.8526439305045611,
          0.8526439305045611,
          0.8526439305045611,
          0.8526439305045611,
          0.8526439305045611,
          0.009730207872622734,
          0.8526439305045611,
          0.8526439305045611,
          0
         ]
        },
        {
         "mode": "lines",
         "name": "Best Value",
         "type": "scatter",
         "x": [
          0,
          1,
          2,
          3,
          4,
          5,
          6,
          7,
          8,
          9,
          10,
          11,
          12,
          13,
          14,
          15,
          16,
          17,
          18,
          19,
          20,
          21,
          22,
          23,
          24,
          25,
          26,
          27,
          28,
          29,
          30,
          31,
          32,
          33,
          34,
          35,
          36,
          37,
          38,
          39,
          40,
          41,
          42,
          43,
          44,
          45,
          46,
          47,
          48,
          49,
          50,
          51,
          52,
          53,
          54,
          55,
          56,
          57,
          58,
          59,
          60,
          61,
          62,
          63,
          64,
          65,
          66,
          67,
          68,
          69,
          70,
          71,
          72,
          73,
          74,
          75,
          76,
          77,
          78,
          79,
          80,
          81,
          82,
          83,
          84,
          85,
          86,
          87,
          88,
          89,
          90,
          91,
          92,
          93,
          94,
          95,
          96,
          97,
          98,
          99
         ],
         "y": [
          0,
          0.005914534969688009,
          0.8526439305045611,
          0.8526439305045611,
          0.8526439305045611,
          0.8526439305045611,
          0.8526439305045611,
          0.8526439305045611,
          0.8526439305045611,
          0.8526439305045611,
          0.8526439305045611,
          0.8526439305045611,
          0.8526439305045611,
          0.8526439305045611,
          0.8526439305045611,
          0.8526439305045611,
          0.8526439305045611,
          0.8526439305045611,
          0.8526439305045611,
          0.8526439305045611,
          0.8526439305045611,
          0.8526439305045611,
          0.8526439305045611,
          0.8526439305045611,
          0.8526439305045611,
          0.8526439305045611,
          0.8526439305045611,
          0.8526439305045611,
          0.8526439305045611,
          0.8526439305045611,
          0.8526439305045611,
          0.8526439305045611,
          0.8526439305045611,
          0.8526439305045611,
          0.8526439305045611,
          0.8526439305045611,
          0.8526439305045611,
          0.8526439305045611,
          0.8526439305045611,
          0.8526439305045611,
          0.8526439305045611,
          0.8526439305045611,
          0.8526439305045611,
          0.8526439305045611,
          0.8526439305045611,
          0.8526439305045611,
          0.8526439305045611,
          0.8526439305045611,
          0.8526439305045611,
          0.8526439305045611,
          0.8526439305045611,
          0.8526439305045611,
          0.8526439305045611,
          0.8526439305045611,
          0.8526439305045611,
          0.8526439305045611,
          0.8526439305045611,
          0.8526439305045611,
          0.8526439305045611,
          0.8526439305045611,
          0.8526439305045611,
          0.8526439305045611,
          0.8526439305045611,
          0.8526439305045611,
          0.8526439305045611,
          0.8526439305045611,
          0.8526439305045611,
          0.8526439305045611,
          0.8526439305045611,
          0.8526439305045611,
          0.8526439305045611,
          0.8526439305045611,
          0.8526439305045611,
          0.8526439305045611,
          0.8526439305045611,
          0.8526439305045611,
          0.8526439305045611,
          0.8526439305045611,
          0.8526439305045611,
          0.8526439305045611,
          0.8526439305045611,
          0.8526439305045611,
          0.8526439305045611,
          0.8526439305045611,
          0.8526439305045611,
          0.8526439305045611,
          0.8526439305045611,
          0.8526439305045611,
          0.8526439305045611,
          0.8526439305045611,
          0.8526439305045611,
          0.8526439305045611,
          0.8526439305045611,
          0.8526439305045611,
          0.8526439305045611,
          0.8526439305045611,
          0.8526439305045611,
          0.8526439305045611,
          0.8526439305045611,
          0.8526439305045611
         ]
        },
        {
         "marker": {
          "color": "#cccccc"
         },
         "mode": "markers",
         "name": "Infeasible Trial",
         "showlegend": false,
         "type": "scatter",
         "x": [],
         "y": []
        }
       ],
       "layout": {
        "template": {
         "data": {
          "bar": [
           {
            "error_x": {
             "color": "#2a3f5f"
            },
            "error_y": {
             "color": "#2a3f5f"
            },
            "marker": {
             "line": {
              "color": "#E5ECF6",
              "width": 0.5
             },
             "pattern": {
              "fillmode": "overlay",
              "size": 10,
              "solidity": 0.2
             }
            },
            "type": "bar"
           }
          ],
          "barpolar": [
           {
            "marker": {
             "line": {
              "color": "#E5ECF6",
              "width": 0.5
             },
             "pattern": {
              "fillmode": "overlay",
              "size": 10,
              "solidity": 0.2
             }
            },
            "type": "barpolar"
           }
          ],
          "carpet": [
           {
            "aaxis": {
             "endlinecolor": "#2a3f5f",
             "gridcolor": "white",
             "linecolor": "white",
             "minorgridcolor": "white",
             "startlinecolor": "#2a3f5f"
            },
            "baxis": {
             "endlinecolor": "#2a3f5f",
             "gridcolor": "white",
             "linecolor": "white",
             "minorgridcolor": "white",
             "startlinecolor": "#2a3f5f"
            },
            "type": "carpet"
           }
          ],
          "choropleth": [
           {
            "colorbar": {
             "outlinewidth": 0,
             "ticks": ""
            },
            "type": "choropleth"
           }
          ],
          "contour": [
           {
            "colorbar": {
             "outlinewidth": 0,
             "ticks": ""
            },
            "colorscale": [
             [
              0,
              "#0d0887"
             ],
             [
              0.1111111111111111,
              "#46039f"
             ],
             [
              0.2222222222222222,
              "#7201a8"
             ],
             [
              0.3333333333333333,
              "#9c179e"
             ],
             [
              0.4444444444444444,
              "#bd3786"
             ],
             [
              0.5555555555555556,
              "#d8576b"
             ],
             [
              0.6666666666666666,
              "#ed7953"
             ],
             [
              0.7777777777777778,
              "#fb9f3a"
             ],
             [
              0.8888888888888888,
              "#fdca26"
             ],
             [
              1,
              "#f0f921"
             ]
            ],
            "type": "contour"
           }
          ],
          "contourcarpet": [
           {
            "colorbar": {
             "outlinewidth": 0,
             "ticks": ""
            },
            "type": "contourcarpet"
           }
          ],
          "heatmap": [
           {
            "colorbar": {
             "outlinewidth": 0,
             "ticks": ""
            },
            "colorscale": [
             [
              0,
              "#0d0887"
             ],
             [
              0.1111111111111111,
              "#46039f"
             ],
             [
              0.2222222222222222,
              "#7201a8"
             ],
             [
              0.3333333333333333,
              "#9c179e"
             ],
             [
              0.4444444444444444,
              "#bd3786"
             ],
             [
              0.5555555555555556,
              "#d8576b"
             ],
             [
              0.6666666666666666,
              "#ed7953"
             ],
             [
              0.7777777777777778,
              "#fb9f3a"
             ],
             [
              0.8888888888888888,
              "#fdca26"
             ],
             [
              1,
              "#f0f921"
             ]
            ],
            "type": "heatmap"
           }
          ],
          "heatmapgl": [
           {
            "colorbar": {
             "outlinewidth": 0,
             "ticks": ""
            },
            "colorscale": [
             [
              0,
              "#0d0887"
             ],
             [
              0.1111111111111111,
              "#46039f"
             ],
             [
              0.2222222222222222,
              "#7201a8"
             ],
             [
              0.3333333333333333,
              "#9c179e"
             ],
             [
              0.4444444444444444,
              "#bd3786"
             ],
             [
              0.5555555555555556,
              "#d8576b"
             ],
             [
              0.6666666666666666,
              "#ed7953"
             ],
             [
              0.7777777777777778,
              "#fb9f3a"
             ],
             [
              0.8888888888888888,
              "#fdca26"
             ],
             [
              1,
              "#f0f921"
             ]
            ],
            "type": "heatmapgl"
           }
          ],
          "histogram": [
           {
            "marker": {
             "pattern": {
              "fillmode": "overlay",
              "size": 10,
              "solidity": 0.2
             }
            },
            "type": "histogram"
           }
          ],
          "histogram2d": [
           {
            "colorbar": {
             "outlinewidth": 0,
             "ticks": ""
            },
            "colorscale": [
             [
              0,
              "#0d0887"
             ],
             [
              0.1111111111111111,
              "#46039f"
             ],
             [
              0.2222222222222222,
              "#7201a8"
             ],
             [
              0.3333333333333333,
              "#9c179e"
             ],
             [
              0.4444444444444444,
              "#bd3786"
             ],
             [
              0.5555555555555556,
              "#d8576b"
             ],
             [
              0.6666666666666666,
              "#ed7953"
             ],
             [
              0.7777777777777778,
              "#fb9f3a"
             ],
             [
              0.8888888888888888,
              "#fdca26"
             ],
             [
              1,
              "#f0f921"
             ]
            ],
            "type": "histogram2d"
           }
          ],
          "histogram2dcontour": [
           {
            "colorbar": {
             "outlinewidth": 0,
             "ticks": ""
            },
            "colorscale": [
             [
              0,
              "#0d0887"
             ],
             [
              0.1111111111111111,
              "#46039f"
             ],
             [
              0.2222222222222222,
              "#7201a8"
             ],
             [
              0.3333333333333333,
              "#9c179e"
             ],
             [
              0.4444444444444444,
              "#bd3786"
             ],
             [
              0.5555555555555556,
              "#d8576b"
             ],
             [
              0.6666666666666666,
              "#ed7953"
             ],
             [
              0.7777777777777778,
              "#fb9f3a"
             ],
             [
              0.8888888888888888,
              "#fdca26"
             ],
             [
              1,
              "#f0f921"
             ]
            ],
            "type": "histogram2dcontour"
           }
          ],
          "mesh3d": [
           {
            "colorbar": {
             "outlinewidth": 0,
             "ticks": ""
            },
            "type": "mesh3d"
           }
          ],
          "parcoords": [
           {
            "line": {
             "colorbar": {
              "outlinewidth": 0,
              "ticks": ""
             }
            },
            "type": "parcoords"
           }
          ],
          "pie": [
           {
            "automargin": true,
            "type": "pie"
           }
          ],
          "scatter": [
           {
            "fillpattern": {
             "fillmode": "overlay",
             "size": 10,
             "solidity": 0.2
            },
            "type": "scatter"
           }
          ],
          "scatter3d": [
           {
            "line": {
             "colorbar": {
              "outlinewidth": 0,
              "ticks": ""
             }
            },
            "marker": {
             "colorbar": {
              "outlinewidth": 0,
              "ticks": ""
             }
            },
            "type": "scatter3d"
           }
          ],
          "scattercarpet": [
           {
            "marker": {
             "colorbar": {
              "outlinewidth": 0,
              "ticks": ""
             }
            },
            "type": "scattercarpet"
           }
          ],
          "scattergeo": [
           {
            "marker": {
             "colorbar": {
              "outlinewidth": 0,
              "ticks": ""
             }
            },
            "type": "scattergeo"
           }
          ],
          "scattergl": [
           {
            "marker": {
             "colorbar": {
              "outlinewidth": 0,
              "ticks": ""
             }
            },
            "type": "scattergl"
           }
          ],
          "scattermapbox": [
           {
            "marker": {
             "colorbar": {
              "outlinewidth": 0,
              "ticks": ""
             }
            },
            "type": "scattermapbox"
           }
          ],
          "scatterpolar": [
           {
            "marker": {
             "colorbar": {
              "outlinewidth": 0,
              "ticks": ""
             }
            },
            "type": "scatterpolar"
           }
          ],
          "scatterpolargl": [
           {
            "marker": {
             "colorbar": {
              "outlinewidth": 0,
              "ticks": ""
             }
            },
            "type": "scatterpolargl"
           }
          ],
          "scatterternary": [
           {
            "marker": {
             "colorbar": {
              "outlinewidth": 0,
              "ticks": ""
             }
            },
            "type": "scatterternary"
           }
          ],
          "surface": [
           {
            "colorbar": {
             "outlinewidth": 0,
             "ticks": ""
            },
            "colorscale": [
             [
              0,
              "#0d0887"
             ],
             [
              0.1111111111111111,
              "#46039f"
             ],
             [
              0.2222222222222222,
              "#7201a8"
             ],
             [
              0.3333333333333333,
              "#9c179e"
             ],
             [
              0.4444444444444444,
              "#bd3786"
             ],
             [
              0.5555555555555556,
              "#d8576b"
             ],
             [
              0.6666666666666666,
              "#ed7953"
             ],
             [
              0.7777777777777778,
              "#fb9f3a"
             ],
             [
              0.8888888888888888,
              "#fdca26"
             ],
             [
              1,
              "#f0f921"
             ]
            ],
            "type": "surface"
           }
          ],
          "table": [
           {
            "cells": {
             "fill": {
              "color": "#EBF0F8"
             },
             "line": {
              "color": "white"
             }
            },
            "header": {
             "fill": {
              "color": "#C8D4E3"
             },
             "line": {
              "color": "white"
             }
            },
            "type": "table"
           }
          ]
         },
         "layout": {
          "annotationdefaults": {
           "arrowcolor": "#2a3f5f",
           "arrowhead": 0,
           "arrowwidth": 1
          },
          "autotypenumbers": "strict",
          "coloraxis": {
           "colorbar": {
            "outlinewidth": 0,
            "ticks": ""
           }
          },
          "colorscale": {
           "diverging": [
            [
             0,
             "#8e0152"
            ],
            [
             0.1,
             "#c51b7d"
            ],
            [
             0.2,
             "#de77ae"
            ],
            [
             0.3,
             "#f1b6da"
            ],
            [
             0.4,
             "#fde0ef"
            ],
            [
             0.5,
             "#f7f7f7"
            ],
            [
             0.6,
             "#e6f5d0"
            ],
            [
             0.7,
             "#b8e186"
            ],
            [
             0.8,
             "#7fbc41"
            ],
            [
             0.9,
             "#4d9221"
            ],
            [
             1,
             "#276419"
            ]
           ],
           "sequential": [
            [
             0,
             "#0d0887"
            ],
            [
             0.1111111111111111,
             "#46039f"
            ],
            [
             0.2222222222222222,
             "#7201a8"
            ],
            [
             0.3333333333333333,
             "#9c179e"
            ],
            [
             0.4444444444444444,
             "#bd3786"
            ],
            [
             0.5555555555555556,
             "#d8576b"
            ],
            [
             0.6666666666666666,
             "#ed7953"
            ],
            [
             0.7777777777777778,
             "#fb9f3a"
            ],
            [
             0.8888888888888888,
             "#fdca26"
            ],
            [
             1,
             "#f0f921"
            ]
           ],
           "sequentialminus": [
            [
             0,
             "#0d0887"
            ],
            [
             0.1111111111111111,
             "#46039f"
            ],
            [
             0.2222222222222222,
             "#7201a8"
            ],
            [
             0.3333333333333333,
             "#9c179e"
            ],
            [
             0.4444444444444444,
             "#bd3786"
            ],
            [
             0.5555555555555556,
             "#d8576b"
            ],
            [
             0.6666666666666666,
             "#ed7953"
            ],
            [
             0.7777777777777778,
             "#fb9f3a"
            ],
            [
             0.8888888888888888,
             "#fdca26"
            ],
            [
             1,
             "#f0f921"
            ]
           ]
          },
          "colorway": [
           "#636efa",
           "#EF553B",
           "#00cc96",
           "#ab63fa",
           "#FFA15A",
           "#19d3f3",
           "#FF6692",
           "#B6E880",
           "#FF97FF",
           "#FECB52"
          ],
          "font": {
           "color": "#2a3f5f"
          },
          "geo": {
           "bgcolor": "white",
           "lakecolor": "white",
           "landcolor": "#E5ECF6",
           "showlakes": true,
           "showland": true,
           "subunitcolor": "white"
          },
          "hoverlabel": {
           "align": "left"
          },
          "hovermode": "closest",
          "mapbox": {
           "style": "light"
          },
          "paper_bgcolor": "white",
          "plot_bgcolor": "#E5ECF6",
          "polar": {
           "angularaxis": {
            "gridcolor": "white",
            "linecolor": "white",
            "ticks": ""
           },
           "bgcolor": "#E5ECF6",
           "radialaxis": {
            "gridcolor": "white",
            "linecolor": "white",
            "ticks": ""
           }
          },
          "scene": {
           "xaxis": {
            "backgroundcolor": "#E5ECF6",
            "gridcolor": "white",
            "gridwidth": 2,
            "linecolor": "white",
            "showbackground": true,
            "ticks": "",
            "zerolinecolor": "white"
           },
           "yaxis": {
            "backgroundcolor": "#E5ECF6",
            "gridcolor": "white",
            "gridwidth": 2,
            "linecolor": "white",
            "showbackground": true,
            "ticks": "",
            "zerolinecolor": "white"
           },
           "zaxis": {
            "backgroundcolor": "#E5ECF6",
            "gridcolor": "white",
            "gridwidth": 2,
            "linecolor": "white",
            "showbackground": true,
            "ticks": "",
            "zerolinecolor": "white"
           }
          },
          "shapedefaults": {
           "line": {
            "color": "#2a3f5f"
           }
          },
          "ternary": {
           "aaxis": {
            "gridcolor": "white",
            "linecolor": "white",
            "ticks": ""
           },
           "baxis": {
            "gridcolor": "white",
            "linecolor": "white",
            "ticks": ""
           },
           "bgcolor": "#E5ECF6",
           "caxis": {
            "gridcolor": "white",
            "linecolor": "white",
            "ticks": ""
           }
          },
          "title": {
           "x": 0.05
          },
          "xaxis": {
           "automargin": true,
           "gridcolor": "white",
           "linecolor": "white",
           "ticks": "",
           "title": {
            "standoff": 15
           },
           "zerolinecolor": "white",
           "zerolinewidth": 2
          },
          "yaxis": {
           "automargin": true,
           "gridcolor": "white",
           "linecolor": "white",
           "ticks": "",
           "title": {
            "standoff": 15
           },
           "zerolinecolor": "white",
           "zerolinewidth": 2
          }
         }
        },
        "title": {
         "text": "Optimization History Plot"
        },
        "xaxis": {
         "title": {
          "text": "Trial"
         }
        },
        "yaxis": {
         "title": {
          "text": "Objective Value"
         }
        }
       }
      },
      "text/html": [
       "<div>                        <script type=\"text/javascript\">window.PlotlyConfig = {MathJaxConfig: 'local'};</script>\n",
       "        <script charset=\"utf-8\" src=\"https://cdn.plot.ly/plotly-2.25.2.min.js\"></script>                <div id=\"8a2357c7-7b12-41a1-a507-2c7ad466a7f7\" class=\"plotly-graph-div\" style=\"height:100%; width:100%;\"></div>            <script type=\"text/javascript\">                                    window.PLOTLYENV=window.PLOTLYENV || {};                                    if (document.getElementById(\"8a2357c7-7b12-41a1-a507-2c7ad466a7f7\")) {                    Plotly.newPlot(                        \"8a2357c7-7b12-41a1-a507-2c7ad466a7f7\",                        [{\"mode\":\"markers\",\"name\":\"Objective Value\",\"x\":[0,1,2,3,4,5,6,7,8,9,10,11,12,13,14,15,16,17,18,19,20,21,22,23,24,25,26,27,28,29,30,31,32,33,34,35,36,37,38,39,40,41,42,43,44,45,46,47,48,49,50,51,52,53,54,55,56,57,58,59,60,61,62,63,64,65,66,67,68,69,70,71,72,73,74,75,76,77,78,79,80,81,82,83,84,85,86,87,88,89,90,91,92,93,94,95,96,97,98,99],\"y\":[0.0,0.005914534969688009,0.8526439305045611,0.001928211213289825,0.00650310375406444,0.0031124944419742106,0.007091150834687546,0.7777159936053382,0.8155759870200108,0.8522765981605541,0.8526439305045611,0.8526439305045611,0.8526439305045611,0.8526439305045611,0.8526439305045611,0.8526439305045611,0.8521574564723695,0.0,0.8526439305045611,0.8522107813446397,0.8522107813446397,0.8526439305045611,0.8526439305045611,0.8526439305045611,0.8526439305045611,0.007237279373753786,0.0,0.8155759870200108,0.8137118606863247,0.0,0.8526439305045611,0.8526439305045611,0.8526439305045611,0.8526439305045611,0.003998815165876777,0.8526439305045611,0.015129259694477084,0.004293751850755108,0.8526439305045611,0.8155759870200108,0.004588513913558318,0.8526439305045611,0.8526439305045611,0.8526439305045611,0.8526439305045611,0.8526439305045611,0.005914534969688009,0.8526439305045611,0.8522331566994702,0.0,0.7777159936053382,0.8526439305045611,0.8526439305045611,0.8526439305045611,0.8526439305045611,0.8526439305045611,0.8526439305045611,0.8526439305045611,0.8526439305045611,0.8522107813446397,0.011630474788369526,0.8526439305045611,0.8526439305045611,0.8526439305045611,0.8526439305045611,0.8526439305045611,0.0,0.7777159936053382,0.004736179974839044,0.8526439305045611,0.822580048121414,0.8526439305045611,0.8526439305045611,0.8526439305045611,0.8526439305045611,0.8526439305045611,0.007091150834687546,0.8526439305045611,0.0,0.8522331566994702,0.8526439305045611,0.8526439305045611,0.8526439305045611,0.8526439305045611,0.004588853526755976,0.8526439305045611,0.8526439305045611,0.7777159936053382,0.8526439305045611,0.8526439305045611,0.8526439305045611,0.8526439305045611,0.8526439305045611,0.8526439305045611,0.8526439305045611,0.8526439305045611,0.009730207872622734,0.8526439305045611,0.8526439305045611,0.0],\"type\":\"scatter\"},{\"mode\":\"lines\",\"name\":\"Best Value\",\"x\":[0,1,2,3,4,5,6,7,8,9,10,11,12,13,14,15,16,17,18,19,20,21,22,23,24,25,26,27,28,29,30,31,32,33,34,35,36,37,38,39,40,41,42,43,44,45,46,47,48,49,50,51,52,53,54,55,56,57,58,59,60,61,62,63,64,65,66,67,68,69,70,71,72,73,74,75,76,77,78,79,80,81,82,83,84,85,86,87,88,89,90,91,92,93,94,95,96,97,98,99],\"y\":[0.0,0.005914534969688009,0.8526439305045611,0.8526439305045611,0.8526439305045611,0.8526439305045611,0.8526439305045611,0.8526439305045611,0.8526439305045611,0.8526439305045611,0.8526439305045611,0.8526439305045611,0.8526439305045611,0.8526439305045611,0.8526439305045611,0.8526439305045611,0.8526439305045611,0.8526439305045611,0.8526439305045611,0.8526439305045611,0.8526439305045611,0.8526439305045611,0.8526439305045611,0.8526439305045611,0.8526439305045611,0.8526439305045611,0.8526439305045611,0.8526439305045611,0.8526439305045611,0.8526439305045611,0.8526439305045611,0.8526439305045611,0.8526439305045611,0.8526439305045611,0.8526439305045611,0.8526439305045611,0.8526439305045611,0.8526439305045611,0.8526439305045611,0.8526439305045611,0.8526439305045611,0.8526439305045611,0.8526439305045611,0.8526439305045611,0.8526439305045611,0.8526439305045611,0.8526439305045611,0.8526439305045611,0.8526439305045611,0.8526439305045611,0.8526439305045611,0.8526439305045611,0.8526439305045611,0.8526439305045611,0.8526439305045611,0.8526439305045611,0.8526439305045611,0.8526439305045611,0.8526439305045611,0.8526439305045611,0.8526439305045611,0.8526439305045611,0.8526439305045611,0.8526439305045611,0.8526439305045611,0.8526439305045611,0.8526439305045611,0.8526439305045611,0.8526439305045611,0.8526439305045611,0.8526439305045611,0.8526439305045611,0.8526439305045611,0.8526439305045611,0.8526439305045611,0.8526439305045611,0.8526439305045611,0.8526439305045611,0.8526439305045611,0.8526439305045611,0.8526439305045611,0.8526439305045611,0.8526439305045611,0.8526439305045611,0.8526439305045611,0.8526439305045611,0.8526439305045611,0.8526439305045611,0.8526439305045611,0.8526439305045611,0.8526439305045611,0.8526439305045611,0.8526439305045611,0.8526439305045611,0.8526439305045611,0.8526439305045611,0.8526439305045611,0.8526439305045611,0.8526439305045611,0.8526439305045611],\"type\":\"scatter\"},{\"marker\":{\"color\":\"#cccccc\"},\"mode\":\"markers\",\"name\":\"Infeasible Trial\",\"showlegend\":false,\"x\":[],\"y\":[],\"type\":\"scatter\"}],                        {\"title\":{\"text\":\"Optimization History Plot\"},\"xaxis\":{\"title\":{\"text\":\"Trial\"}},\"yaxis\":{\"title\":{\"text\":\"Objective Value\"}},\"template\":{\"data\":{\"histogram2dcontour\":[{\"type\":\"histogram2dcontour\",\"colorbar\":{\"outlinewidth\":0,\"ticks\":\"\"},\"colorscale\":[[0.0,\"#0d0887\"],[0.1111111111111111,\"#46039f\"],[0.2222222222222222,\"#7201a8\"],[0.3333333333333333,\"#9c179e\"],[0.4444444444444444,\"#bd3786\"],[0.5555555555555556,\"#d8576b\"],[0.6666666666666666,\"#ed7953\"],[0.7777777777777778,\"#fb9f3a\"],[0.8888888888888888,\"#fdca26\"],[1.0,\"#f0f921\"]]}],\"choropleth\":[{\"type\":\"choropleth\",\"colorbar\":{\"outlinewidth\":0,\"ticks\":\"\"}}],\"histogram2d\":[{\"type\":\"histogram2d\",\"colorbar\":{\"outlinewidth\":0,\"ticks\":\"\"},\"colorscale\":[[0.0,\"#0d0887\"],[0.1111111111111111,\"#46039f\"],[0.2222222222222222,\"#7201a8\"],[0.3333333333333333,\"#9c179e\"],[0.4444444444444444,\"#bd3786\"],[0.5555555555555556,\"#d8576b\"],[0.6666666666666666,\"#ed7953\"],[0.7777777777777778,\"#fb9f3a\"],[0.8888888888888888,\"#fdca26\"],[1.0,\"#f0f921\"]]}],\"heatmap\":[{\"type\":\"heatmap\",\"colorbar\":{\"outlinewidth\":0,\"ticks\":\"\"},\"colorscale\":[[0.0,\"#0d0887\"],[0.1111111111111111,\"#46039f\"],[0.2222222222222222,\"#7201a8\"],[0.3333333333333333,\"#9c179e\"],[0.4444444444444444,\"#bd3786\"],[0.5555555555555556,\"#d8576b\"],[0.6666666666666666,\"#ed7953\"],[0.7777777777777778,\"#fb9f3a\"],[0.8888888888888888,\"#fdca26\"],[1.0,\"#f0f921\"]]}],\"heatmapgl\":[{\"type\":\"heatmapgl\",\"colorbar\":{\"outlinewidth\":0,\"ticks\":\"\"},\"colorscale\":[[0.0,\"#0d0887\"],[0.1111111111111111,\"#46039f\"],[0.2222222222222222,\"#7201a8\"],[0.3333333333333333,\"#9c179e\"],[0.4444444444444444,\"#bd3786\"],[0.5555555555555556,\"#d8576b\"],[0.6666666666666666,\"#ed7953\"],[0.7777777777777778,\"#fb9f3a\"],[0.8888888888888888,\"#fdca26\"],[1.0,\"#f0f921\"]]}],\"contourcarpet\":[{\"type\":\"contourcarpet\",\"colorbar\":{\"outlinewidth\":0,\"ticks\":\"\"}}],\"contour\":[{\"type\":\"contour\",\"colorbar\":{\"outlinewidth\":0,\"ticks\":\"\"},\"colorscale\":[[0.0,\"#0d0887\"],[0.1111111111111111,\"#46039f\"],[0.2222222222222222,\"#7201a8\"],[0.3333333333333333,\"#9c179e\"],[0.4444444444444444,\"#bd3786\"],[0.5555555555555556,\"#d8576b\"],[0.6666666666666666,\"#ed7953\"],[0.7777777777777778,\"#fb9f3a\"],[0.8888888888888888,\"#fdca26\"],[1.0,\"#f0f921\"]]}],\"surface\":[{\"type\":\"surface\",\"colorbar\":{\"outlinewidth\":0,\"ticks\":\"\"},\"colorscale\":[[0.0,\"#0d0887\"],[0.1111111111111111,\"#46039f\"],[0.2222222222222222,\"#7201a8\"],[0.3333333333333333,\"#9c179e\"],[0.4444444444444444,\"#bd3786\"],[0.5555555555555556,\"#d8576b\"],[0.6666666666666666,\"#ed7953\"],[0.7777777777777778,\"#fb9f3a\"],[0.8888888888888888,\"#fdca26\"],[1.0,\"#f0f921\"]]}],\"mesh3d\":[{\"type\":\"mesh3d\",\"colorbar\":{\"outlinewidth\":0,\"ticks\":\"\"}}],\"scatter\":[{\"fillpattern\":{\"fillmode\":\"overlay\",\"size\":10,\"solidity\":0.2},\"type\":\"scatter\"}],\"parcoords\":[{\"type\":\"parcoords\",\"line\":{\"colorbar\":{\"outlinewidth\":0,\"ticks\":\"\"}}}],\"scatterpolargl\":[{\"type\":\"scatterpolargl\",\"marker\":{\"colorbar\":{\"outlinewidth\":0,\"ticks\":\"\"}}}],\"bar\":[{\"error_x\":{\"color\":\"#2a3f5f\"},\"error_y\":{\"color\":\"#2a3f5f\"},\"marker\":{\"line\":{\"color\":\"#E5ECF6\",\"width\":0.5},\"pattern\":{\"fillmode\":\"overlay\",\"size\":10,\"solidity\":0.2}},\"type\":\"bar\"}],\"scattergeo\":[{\"type\":\"scattergeo\",\"marker\":{\"colorbar\":{\"outlinewidth\":0,\"ticks\":\"\"}}}],\"scatterpolar\":[{\"type\":\"scatterpolar\",\"marker\":{\"colorbar\":{\"outlinewidth\":0,\"ticks\":\"\"}}}],\"histogram\":[{\"marker\":{\"pattern\":{\"fillmode\":\"overlay\",\"size\":10,\"solidity\":0.2}},\"type\":\"histogram\"}],\"scattergl\":[{\"type\":\"scattergl\",\"marker\":{\"colorbar\":{\"outlinewidth\":0,\"ticks\":\"\"}}}],\"scatter3d\":[{\"type\":\"scatter3d\",\"line\":{\"colorbar\":{\"outlinewidth\":0,\"ticks\":\"\"}},\"marker\":{\"colorbar\":{\"outlinewidth\":0,\"ticks\":\"\"}}}],\"scattermapbox\":[{\"type\":\"scattermapbox\",\"marker\":{\"colorbar\":{\"outlinewidth\":0,\"ticks\":\"\"}}}],\"scatterternary\":[{\"type\":\"scatterternary\",\"marker\":{\"colorbar\":{\"outlinewidth\":0,\"ticks\":\"\"}}}],\"scattercarpet\":[{\"type\":\"scattercarpet\",\"marker\":{\"colorbar\":{\"outlinewidth\":0,\"ticks\":\"\"}}}],\"carpet\":[{\"aaxis\":{\"endlinecolor\":\"#2a3f5f\",\"gridcolor\":\"white\",\"linecolor\":\"white\",\"minorgridcolor\":\"white\",\"startlinecolor\":\"#2a3f5f\"},\"baxis\":{\"endlinecolor\":\"#2a3f5f\",\"gridcolor\":\"white\",\"linecolor\":\"white\",\"minorgridcolor\":\"white\",\"startlinecolor\":\"#2a3f5f\"},\"type\":\"carpet\"}],\"table\":[{\"cells\":{\"fill\":{\"color\":\"#EBF0F8\"},\"line\":{\"color\":\"white\"}},\"header\":{\"fill\":{\"color\":\"#C8D4E3\"},\"line\":{\"color\":\"white\"}},\"type\":\"table\"}],\"barpolar\":[{\"marker\":{\"line\":{\"color\":\"#E5ECF6\",\"width\":0.5},\"pattern\":{\"fillmode\":\"overlay\",\"size\":10,\"solidity\":0.2}},\"type\":\"barpolar\"}],\"pie\":[{\"automargin\":true,\"type\":\"pie\"}]},\"layout\":{\"autotypenumbers\":\"strict\",\"colorway\":[\"#636efa\",\"#EF553B\",\"#00cc96\",\"#ab63fa\",\"#FFA15A\",\"#19d3f3\",\"#FF6692\",\"#B6E880\",\"#FF97FF\",\"#FECB52\"],\"font\":{\"color\":\"#2a3f5f\"},\"hovermode\":\"closest\",\"hoverlabel\":{\"align\":\"left\"},\"paper_bgcolor\":\"white\",\"plot_bgcolor\":\"#E5ECF6\",\"polar\":{\"bgcolor\":\"#E5ECF6\",\"angularaxis\":{\"gridcolor\":\"white\",\"linecolor\":\"white\",\"ticks\":\"\"},\"radialaxis\":{\"gridcolor\":\"white\",\"linecolor\":\"white\",\"ticks\":\"\"}},\"ternary\":{\"bgcolor\":\"#E5ECF6\",\"aaxis\":{\"gridcolor\":\"white\",\"linecolor\":\"white\",\"ticks\":\"\"},\"baxis\":{\"gridcolor\":\"white\",\"linecolor\":\"white\",\"ticks\":\"\"},\"caxis\":{\"gridcolor\":\"white\",\"linecolor\":\"white\",\"ticks\":\"\"}},\"coloraxis\":{\"colorbar\":{\"outlinewidth\":0,\"ticks\":\"\"}},\"colorscale\":{\"sequential\":[[0.0,\"#0d0887\"],[0.1111111111111111,\"#46039f\"],[0.2222222222222222,\"#7201a8\"],[0.3333333333333333,\"#9c179e\"],[0.4444444444444444,\"#bd3786\"],[0.5555555555555556,\"#d8576b\"],[0.6666666666666666,\"#ed7953\"],[0.7777777777777778,\"#fb9f3a\"],[0.8888888888888888,\"#fdca26\"],[1.0,\"#f0f921\"]],\"sequentialminus\":[[0.0,\"#0d0887\"],[0.1111111111111111,\"#46039f\"],[0.2222222222222222,\"#7201a8\"],[0.3333333333333333,\"#9c179e\"],[0.4444444444444444,\"#bd3786\"],[0.5555555555555556,\"#d8576b\"],[0.6666666666666666,\"#ed7953\"],[0.7777777777777778,\"#fb9f3a\"],[0.8888888888888888,\"#fdca26\"],[1.0,\"#f0f921\"]],\"diverging\":[[0,\"#8e0152\"],[0.1,\"#c51b7d\"],[0.2,\"#de77ae\"],[0.3,\"#f1b6da\"],[0.4,\"#fde0ef\"],[0.5,\"#f7f7f7\"],[0.6,\"#e6f5d0\"],[0.7,\"#b8e186\"],[0.8,\"#7fbc41\"],[0.9,\"#4d9221\"],[1,\"#276419\"]]},\"xaxis\":{\"gridcolor\":\"white\",\"linecolor\":\"white\",\"ticks\":\"\",\"title\":{\"standoff\":15},\"zerolinecolor\":\"white\",\"automargin\":true,\"zerolinewidth\":2},\"yaxis\":{\"gridcolor\":\"white\",\"linecolor\":\"white\",\"ticks\":\"\",\"title\":{\"standoff\":15},\"zerolinecolor\":\"white\",\"automargin\":true,\"zerolinewidth\":2},\"scene\":{\"xaxis\":{\"backgroundcolor\":\"#E5ECF6\",\"gridcolor\":\"white\",\"linecolor\":\"white\",\"showbackground\":true,\"ticks\":\"\",\"zerolinecolor\":\"white\",\"gridwidth\":2},\"yaxis\":{\"backgroundcolor\":\"#E5ECF6\",\"gridcolor\":\"white\",\"linecolor\":\"white\",\"showbackground\":true,\"ticks\":\"\",\"zerolinecolor\":\"white\",\"gridwidth\":2},\"zaxis\":{\"backgroundcolor\":\"#E5ECF6\",\"gridcolor\":\"white\",\"linecolor\":\"white\",\"showbackground\":true,\"ticks\":\"\",\"zerolinecolor\":\"white\",\"gridwidth\":2}},\"shapedefaults\":{\"line\":{\"color\":\"#2a3f5f\"}},\"annotationdefaults\":{\"arrowcolor\":\"#2a3f5f\",\"arrowhead\":0,\"arrowwidth\":1},\"geo\":{\"bgcolor\":\"white\",\"landcolor\":\"#E5ECF6\",\"subunitcolor\":\"white\",\"showland\":true,\"showlakes\":true,\"lakecolor\":\"white\"},\"title\":{\"x\":0.05},\"mapbox\":{\"style\":\"light\"}}}},                        {\"responsive\": true}                    )                };                            </script>        </div>"
      ],
      "text/plain": [
       "Figure({\n",
       "    'data': [{'mode': 'markers',\n",
       "              'name': 'Objective Value',\n",
       "              'type': 'scatter',\n",
       "              'x': [0, 1, 2, 3, 4, 5, 6, 7, 8, 9, 10, 11, 12, 13, 14, 15, 16, 17,\n",
       "                    18, 19, 20, 21, 22, 23, 24, 25, 26, 27, 28, 29, 30, 31, 32, 33,\n",
       "                    34, 35, 36, 37, 38, 39, 40, 41, 42, 43, 44, 45, 46, 47, 48, 49,\n",
       "                    50, 51, 52, 53, 54, 55, 56, 57, 58, 59, 60, 61, 62, 63, 64, 65,\n",
       "                    66, 67, 68, 69, 70, 71, 72, 73, 74, 75, 76, 77, 78, 79, 80, 81,\n",
       "                    82, 83, 84, 85, 86, 87, 88, 89, 90, 91, 92, 93, 94, 95, 96, 97,\n",
       "                    98, 99],\n",
       "              'y': [0.0, 0.005914534969688009, 0.8526439305045611,\n",
       "                    0.001928211213289825, 0.00650310375406444,\n",
       "                    0.0031124944419742106, 0.007091150834687546,\n",
       "                    0.7777159936053382, 0.8155759870200108, 0.8522765981605541,\n",
       "                    0.8526439305045611, 0.8526439305045611, 0.8526439305045611,\n",
       "                    0.8526439305045611, 0.8526439305045611, 0.8526439305045611,\n",
       "                    0.8521574564723695, 0.0, 0.8526439305045611,\n",
       "                    0.8522107813446397, 0.8522107813446397, 0.8526439305045611,\n",
       "                    0.8526439305045611, 0.8526439305045611, 0.8526439305045611,\n",
       "                    0.007237279373753786, 0.0, 0.8155759870200108,\n",
       "                    0.8137118606863247, 0.0, 0.8526439305045611,\n",
       "                    0.8526439305045611, 0.8526439305045611, 0.8526439305045611,\n",
       "                    0.003998815165876777, 0.8526439305045611, 0.015129259694477084,\n",
       "                    0.004293751850755108, 0.8526439305045611, 0.8155759870200108,\n",
       "                    0.004588513913558318, 0.8526439305045611, 0.8526439305045611,\n",
       "                    0.8526439305045611, 0.8526439305045611, 0.8526439305045611,\n",
       "                    0.005914534969688009, 0.8526439305045611, 0.8522331566994702,\n",
       "                    0.0, 0.7777159936053382, 0.8526439305045611,\n",
       "                    0.8526439305045611, 0.8526439305045611, 0.8526439305045611,\n",
       "                    0.8526439305045611, 0.8526439305045611, 0.8526439305045611,\n",
       "                    0.8526439305045611, 0.8522107813446397, 0.011630474788369526,\n",
       "                    0.8526439305045611, 0.8526439305045611, 0.8526439305045611,\n",
       "                    0.8526439305045611, 0.8526439305045611, 0.0,\n",
       "                    0.7777159936053382, 0.004736179974839044, 0.8526439305045611,\n",
       "                    0.822580048121414, 0.8526439305045611, 0.8526439305045611,\n",
       "                    0.8526439305045611, 0.8526439305045611, 0.8526439305045611,\n",
       "                    0.007091150834687546, 0.8526439305045611, 0.0,\n",
       "                    0.8522331566994702, 0.8526439305045611, 0.8526439305045611,\n",
       "                    0.8526439305045611, 0.8526439305045611, 0.004588853526755976,\n",
       "                    0.8526439305045611, 0.8526439305045611, 0.7777159936053382,\n",
       "                    0.8526439305045611, 0.8526439305045611, 0.8526439305045611,\n",
       "                    0.8526439305045611, 0.8526439305045611, 0.8526439305045611,\n",
       "                    0.8526439305045611, 0.8526439305045611, 0.009730207872622734,\n",
       "                    0.8526439305045611, 0.8526439305045611, 0.0]},\n",
       "             {'mode': 'lines',\n",
       "              'name': 'Best Value',\n",
       "              'type': 'scatter',\n",
       "              'x': [0, 1, 2, 3, 4, 5, 6, 7, 8, 9, 10, 11, 12, 13, 14, 15, 16, 17,\n",
       "                    18, 19, 20, 21, 22, 23, 24, 25, 26, 27, 28, 29, 30, 31, 32, 33,\n",
       "                    34, 35, 36, 37, 38, 39, 40, 41, 42, 43, 44, 45, 46, 47, 48, 49,\n",
       "                    50, 51, 52, 53, 54, 55, 56, 57, 58, 59, 60, 61, 62, 63, 64, 65,\n",
       "                    66, 67, 68, 69, 70, 71, 72, 73, 74, 75, 76, 77, 78, 79, 80, 81,\n",
       "                    82, 83, 84, 85, 86, 87, 88, 89, 90, 91, 92, 93, 94, 95, 96, 97,\n",
       "                    98, 99],\n",
       "              'y': [0.0, 0.005914534969688009, 0.8526439305045611,\n",
       "                    0.8526439305045611, 0.8526439305045611, 0.8526439305045611,\n",
       "                    0.8526439305045611, 0.8526439305045611, 0.8526439305045611,\n",
       "                    0.8526439305045611, 0.8526439305045611, 0.8526439305045611,\n",
       "                    0.8526439305045611, 0.8526439305045611, 0.8526439305045611,\n",
       "                    0.8526439305045611, 0.8526439305045611, 0.8526439305045611,\n",
       "                    0.8526439305045611, 0.8526439305045611, 0.8526439305045611,\n",
       "                    0.8526439305045611, 0.8526439305045611, 0.8526439305045611,\n",
       "                    0.8526439305045611, 0.8526439305045611, 0.8526439305045611,\n",
       "                    0.8526439305045611, 0.8526439305045611, 0.8526439305045611,\n",
       "                    0.8526439305045611, 0.8526439305045611, 0.8526439305045611,\n",
       "                    0.8526439305045611, 0.8526439305045611, 0.8526439305045611,\n",
       "                    0.8526439305045611, 0.8526439305045611, 0.8526439305045611,\n",
       "                    0.8526439305045611, 0.8526439305045611, 0.8526439305045611,\n",
       "                    0.8526439305045611, 0.8526439305045611, 0.8526439305045611,\n",
       "                    0.8526439305045611, 0.8526439305045611, 0.8526439305045611,\n",
       "                    0.8526439305045611, 0.8526439305045611, 0.8526439305045611,\n",
       "                    0.8526439305045611, 0.8526439305045611, 0.8526439305045611,\n",
       "                    0.8526439305045611, 0.8526439305045611, 0.8526439305045611,\n",
       "                    0.8526439305045611, 0.8526439305045611, 0.8526439305045611,\n",
       "                    0.8526439305045611, 0.8526439305045611, 0.8526439305045611,\n",
       "                    0.8526439305045611, 0.8526439305045611, 0.8526439305045611,\n",
       "                    0.8526439305045611, 0.8526439305045611, 0.8526439305045611,\n",
       "                    0.8526439305045611, 0.8526439305045611, 0.8526439305045611,\n",
       "                    0.8526439305045611, 0.8526439305045611, 0.8526439305045611,\n",
       "                    0.8526439305045611, 0.8526439305045611, 0.8526439305045611,\n",
       "                    0.8526439305045611, 0.8526439305045611, 0.8526439305045611,\n",
       "                    0.8526439305045611, 0.8526439305045611, 0.8526439305045611,\n",
       "                    0.8526439305045611, 0.8526439305045611, 0.8526439305045611,\n",
       "                    0.8526439305045611, 0.8526439305045611, 0.8526439305045611,\n",
       "                    0.8526439305045611, 0.8526439305045611, 0.8526439305045611,\n",
       "                    0.8526439305045611, 0.8526439305045611, 0.8526439305045611,\n",
       "                    0.8526439305045611, 0.8526439305045611, 0.8526439305045611,\n",
       "                    0.8526439305045611]},\n",
       "             {'marker': {'color': '#cccccc'},\n",
       "              'mode': 'markers',\n",
       "              'name': 'Infeasible Trial',\n",
       "              'showlegend': False,\n",
       "              'type': 'scatter',\n",
       "              'x': [],\n",
       "              'y': []}],\n",
       "    'layout': {'template': '...',\n",
       "               'title': {'text': 'Optimization History Plot'},\n",
       "               'xaxis': {'title': {'text': 'Trial'}},\n",
       "               'yaxis': {'title': {'text': 'Objective Value'}}}\n",
       "})"
      ]
     },
     "execution_count": 194,
     "metadata": {},
     "output_type": "execute_result"
    }
   ],
   "source": [
    "optuna.visualization.plot_optimization_history(study)"
   ]
  },
  {
   "cell_type": "code",
   "execution_count": 195,
   "metadata": {},
   "outputs": [
    {
     "data": {
      "text/plain": [
       "{'C': 3, 'solver': 'newton-cholesky', 'max_iter': 23}"
      ]
     },
     "execution_count": 195,
     "metadata": {},
     "output_type": "execute_result"
    }
   ],
   "source": [
    "lr_best_param = study.best_params\n",
    "lr_best_param"
   ]
  },
  {
   "cell_type": "markdown",
   "metadata": {},
   "source": [
    "# All Results"
   ]
  },
  {
   "cell_type": "code",
   "execution_count": 196,
   "metadata": {},
   "outputs": [],
   "source": [
    "knn_final = KNeighborsClassifier(n_neighbors = knn_best_params['n_neighbors'], n_jobs=-1 )\n",
    "rf_final = RandomForestClassifier(n_estimators=rf_best_params['n_estimators'], max_depth=rf_best_params['max_depth'])\n",
    "dt_final = DecisionTreeClassifier(max_depth = best_max_depth)\n",
    "lr_final = LogisticRegression(C = lr_best_param['C'], solver=lr_best_param['solver'], max_iter= lr_best_param['max_iter'])"
   ]
  },
  {
   "cell_type": "code",
   "execution_count": 197,
   "metadata": {},
   "outputs": [
    {
     "data": {
      "text/html": [
       "<style>#sk-container-id-4 {color: black;}#sk-container-id-4 pre{padding: 0;}#sk-container-id-4 div.sk-toggleable {background-color: white;}#sk-container-id-4 label.sk-toggleable__label {cursor: pointer;display: block;width: 100%;margin-bottom: 0;padding: 0.3em;box-sizing: border-box;text-align: center;}#sk-container-id-4 label.sk-toggleable__label-arrow:before {content: \"▸\";float: left;margin-right: 0.25em;color: #696969;}#sk-container-id-4 label.sk-toggleable__label-arrow:hover:before {color: black;}#sk-container-id-4 div.sk-estimator:hover label.sk-toggleable__label-arrow:before {color: black;}#sk-container-id-4 div.sk-toggleable__content {max-height: 0;max-width: 0;overflow: hidden;text-align: left;background-color: #f0f8ff;}#sk-container-id-4 div.sk-toggleable__content pre {margin: 0.2em;color: black;border-radius: 0.25em;background-color: #f0f8ff;}#sk-container-id-4 input.sk-toggleable__control:checked~div.sk-toggleable__content {max-height: 200px;max-width: 100%;overflow: auto;}#sk-container-id-4 input.sk-toggleable__control:checked~label.sk-toggleable__label-arrow:before {content: \"▾\";}#sk-container-id-4 div.sk-estimator input.sk-toggleable__control:checked~label.sk-toggleable__label {background-color: #d4ebff;}#sk-container-id-4 div.sk-label input.sk-toggleable__control:checked~label.sk-toggleable__label {background-color: #d4ebff;}#sk-container-id-4 input.sk-hidden--visually {border: 0;clip: rect(1px 1px 1px 1px);clip: rect(1px, 1px, 1px, 1px);height: 1px;margin: -1px;overflow: hidden;padding: 0;position: absolute;width: 1px;}#sk-container-id-4 div.sk-estimator {font-family: monospace;background-color: #f0f8ff;border: 1px dotted black;border-radius: 0.25em;box-sizing: border-box;margin-bottom: 0.5em;}#sk-container-id-4 div.sk-estimator:hover {background-color: #d4ebff;}#sk-container-id-4 div.sk-parallel-item::after {content: \"\";width: 100%;border-bottom: 1px solid gray;flex-grow: 1;}#sk-container-id-4 div.sk-label:hover label.sk-toggleable__label {background-color: #d4ebff;}#sk-container-id-4 div.sk-serial::before {content: \"\";position: absolute;border-left: 1px solid gray;box-sizing: border-box;top: 0;bottom: 0;left: 50%;z-index: 0;}#sk-container-id-4 div.sk-serial {display: flex;flex-direction: column;align-items: center;background-color: white;padding-right: 0.2em;padding-left: 0.2em;position: relative;}#sk-container-id-4 div.sk-item {position: relative;z-index: 1;}#sk-container-id-4 div.sk-parallel {display: flex;align-items: stretch;justify-content: center;background-color: white;position: relative;}#sk-container-id-4 div.sk-item::before, #sk-container-id-4 div.sk-parallel-item::before {content: \"\";position: absolute;border-left: 1px solid gray;box-sizing: border-box;top: 0;bottom: 0;left: 50%;z-index: -1;}#sk-container-id-4 div.sk-parallel-item {display: flex;flex-direction: column;z-index: 1;position: relative;background-color: white;}#sk-container-id-4 div.sk-parallel-item:first-child::after {align-self: flex-end;width: 50%;}#sk-container-id-4 div.sk-parallel-item:last-child::after {align-self: flex-start;width: 50%;}#sk-container-id-4 div.sk-parallel-item:only-child::after {width: 0;}#sk-container-id-4 div.sk-dashed-wrapped {border: 1px dashed gray;margin: 0 0.4em 0.5em 0.4em;box-sizing: border-box;padding-bottom: 0.4em;background-color: white;}#sk-container-id-4 div.sk-label label {font-family: monospace;font-weight: bold;display: inline-block;line-height: 1.2em;}#sk-container-id-4 div.sk-label-container {text-align: center;}#sk-container-id-4 div.sk-container {/* jupyter's `normalize.less` sets `[hidden] { display: none; }` but bootstrap.min.css set `[hidden] { display: none !important; }` so we also need the `!important` here to be able to override the default hidden behavior on the sphinx rendered scikit-learn.org. See: https://github.com/scikit-learn/scikit-learn/issues/21755 */display: inline-block !important;position: relative;}#sk-container-id-4 div.sk-text-repr-fallback {display: none;}</style><div id=\"sk-container-id-4\" class=\"sk-top-container\"><div class=\"sk-text-repr-fallback\"><pre>LogisticRegression(C=3, max_iter=23, solver=&#x27;newton-cholesky&#x27;)</pre><b>In a Jupyter environment, please rerun this cell to show the HTML representation or trust the notebook. <br />On GitHub, the HTML representation is unable to render, please try loading this page with nbviewer.org.</b></div><div class=\"sk-container\" hidden><div class=\"sk-item\"><div class=\"sk-estimator sk-toggleable\"><input class=\"sk-toggleable__control sk-hidden--visually\" id=\"sk-estimator-id-4\" type=\"checkbox\" checked><label for=\"sk-estimator-id-4\" class=\"sk-toggleable__label sk-toggleable__label-arrow\">LogisticRegression</label><div class=\"sk-toggleable__content\"><pre>LogisticRegression(C=3, max_iter=23, solver=&#x27;newton-cholesky&#x27;)</pre></div></div></div></div></div>"
      ],
      "text/plain": [
       "LogisticRegression(C=3, max_iter=23, solver='newton-cholesky')"
      ]
     },
     "execution_count": 197,
     "metadata": {},
     "output_type": "execute_result"
    }
   ],
   "source": [
    "knn_final.fit(X_train, y_train)\n",
    "rf_final.fit(X_train, y_train)\n",
    "dt_final.fit(X_train, y_train)\n",
    "lr_final.fit(X_train, y_train)"
   ]
  },
  {
   "cell_type": "code",
   "execution_count": 198,
   "metadata": {},
   "outputs": [],
   "source": [
    "model_list = [knn_final, rf_final, dt_final, lr_final]\n",
    "model_names = ['KNN', 'Random Forest', 'Decision Tree', 'Logistic Regression']\n",
    "\n",
    "# Nos dados de Treinamento\n",
    "train_dataset = pd.DataFrame()\n",
    "test_dataset = pd.DataFrame()\n",
    "val_dataset = pd.DataFrame()"
   ]
  },
  {
   "cell_type": "code",
   "execution_count": 202,
   "metadata": {},
   "outputs": [
    {
     "data": {
      "text/html": [
       "<div>\n",
       "<style scoped>\n",
       "    .dataframe tbody tr th:only-of-type {\n",
       "        vertical-align: middle;\n",
       "    }\n",
       "\n",
       "    .dataframe tbody tr th {\n",
       "        vertical-align: top;\n",
       "    }\n",
       "\n",
       "    .dataframe thead th {\n",
       "        text-align: right;\n",
       "    }\n",
       "</style>\n",
       "<table border=\"1\" class=\"dataframe\">\n",
       "  <thead>\n",
       "    <tr style=\"text-align: right;\">\n",
       "      <th></th>\n",
       "      <th>Model</th>\n",
       "      <th>Accuracy</th>\n",
       "      <th>Precision</th>\n",
       "      <th>Recall</th>\n",
       "      <th>f1-Score</th>\n",
       "      <th>Dataset</th>\n",
       "    </tr>\n",
       "  </thead>\n",
       "  <tbody>\n",
       "    <tr>\n",
       "      <th>0</th>\n",
       "      <td>KNN</td>\n",
       "      <td>0.840199</td>\n",
       "      <td>1.000000</td>\n",
       "      <td>0.631284</td>\n",
       "      <td>0.773972</td>\n",
       "      <td>Train</td>\n",
       "    </tr>\n",
       "    <tr>\n",
       "      <th>0</th>\n",
       "      <td>Random Forest</td>\n",
       "      <td>0.999766</td>\n",
       "      <td>0.999968</td>\n",
       "      <td>0.999491</td>\n",
       "      <td>0.999729</td>\n",
       "      <td>Train</td>\n",
       "    </tr>\n",
       "    <tr>\n",
       "      <th>0</th>\n",
       "      <td>Decision Tree</td>\n",
       "      <td>0.970847</td>\n",
       "      <td>0.977613</td>\n",
       "      <td>0.954595</td>\n",
       "      <td>0.965967</td>\n",
       "      <td>Train</td>\n",
       "    </tr>\n",
       "    <tr>\n",
       "      <th>0</th>\n",
       "      <td>Logistic Regression</td>\n",
       "      <td>0.876177</td>\n",
       "      <td>0.871660</td>\n",
       "      <td>0.837629</td>\n",
       "      <td>0.854306</td>\n",
       "      <td>Train</td>\n",
       "    </tr>\n",
       "    <tr>\n",
       "      <th>0</th>\n",
       "      <td>KNN</td>\n",
       "      <td>0.840199</td>\n",
       "      <td>1.000000</td>\n",
       "      <td>0.631284</td>\n",
       "      <td>0.773972</td>\n",
       "      <td>Train</td>\n",
       "    </tr>\n",
       "    <tr>\n",
       "      <th>0</th>\n",
       "      <td>Random Forest</td>\n",
       "      <td>0.999766</td>\n",
       "      <td>0.999968</td>\n",
       "      <td>0.999491</td>\n",
       "      <td>0.999729</td>\n",
       "      <td>Train</td>\n",
       "    </tr>\n",
       "    <tr>\n",
       "      <th>0</th>\n",
       "      <td>Decision Tree</td>\n",
       "      <td>0.970847</td>\n",
       "      <td>0.977613</td>\n",
       "      <td>0.954595</td>\n",
       "      <td>0.965967</td>\n",
       "      <td>Train</td>\n",
       "    </tr>\n",
       "    <tr>\n",
       "      <th>0</th>\n",
       "      <td>Logistic Regression</td>\n",
       "      <td>0.876177</td>\n",
       "      <td>0.871660</td>\n",
       "      <td>0.837629</td>\n",
       "      <td>0.854306</td>\n",
       "      <td>Train</td>\n",
       "    </tr>\n",
       "  </tbody>\n",
       "</table>\n",
       "</div>"
      ],
      "text/plain": [
       "                 Model  Accuracy  Precision    Recall  f1-Score Dataset\n",
       "0                  KNN  0.840199   1.000000  0.631284  0.773972   Train\n",
       "0        Random Forest  0.999766   0.999968  0.999491  0.999729   Train\n",
       "0        Decision Tree  0.970847   0.977613  0.954595  0.965967   Train\n",
       "0  Logistic Regression  0.876177   0.871660  0.837629  0.854306   Train\n",
       "0                  KNN  0.840199   1.000000  0.631284  0.773972   Train\n",
       "0        Random Forest  0.999766   0.999968  0.999491  0.999729   Train\n",
       "0        Decision Tree  0.970847   0.977613  0.954595  0.965967   Train\n",
       "0  Logistic Regression  0.876177   0.871660  0.837629  0.854306   Train"
      ]
     },
     "execution_count": 202,
     "metadata": {},
     "output_type": "execute_result"
    }
   ],
   "source": [
    "for model, model_name in zip(model_list, model_names):\n",
    "    y_pred = model.predict(np.array(X_train))\n",
    "    results = report_classification(y_train, y_pred, model_name)\n",
    "    train_dataset = pd.concat([train_dataset, pd.DataFrame([results])])\n",
    "train_dataset['Dataset'] = 'Train'\n",
    "train_dataset"
   ]
  },
  {
   "cell_type": "code",
   "execution_count": 203,
   "metadata": {},
   "outputs": [
    {
     "name": "stdout",
     "output_type": "stream",
     "text": [
      "KNN\n",
      "Random Forest\n",
      "Decision Tree\n",
      "Logistic Regression\n"
     ]
    },
    {
     "data": {
      "text/html": [
       "<div>\n",
       "<style scoped>\n",
       "    .dataframe tbody tr th:only-of-type {\n",
       "        vertical-align: middle;\n",
       "    }\n",
       "\n",
       "    .dataframe tbody tr th {\n",
       "        vertical-align: top;\n",
       "    }\n",
       "\n",
       "    .dataframe thead th {\n",
       "        text-align: right;\n",
       "    }\n",
       "</style>\n",
       "<table border=\"1\" class=\"dataframe\">\n",
       "  <thead>\n",
       "    <tr style=\"text-align: right;\">\n",
       "      <th></th>\n",
       "      <th>Model</th>\n",
       "      <th>Accuracy</th>\n",
       "      <th>Precision</th>\n",
       "      <th>Recall</th>\n",
       "      <th>f1-Score</th>\n",
       "      <th>Dataset</th>\n",
       "    </tr>\n",
       "  </thead>\n",
       "  <tbody>\n",
       "    <tr>\n",
       "      <th>0</th>\n",
       "      <td>KNN</td>\n",
       "      <td>0.661283</td>\n",
       "      <td>0.683921</td>\n",
       "      <td>0.406118</td>\n",
       "      <td>0.509619</td>\n",
       "      <td>Validation</td>\n",
       "    </tr>\n",
       "    <tr>\n",
       "      <th>0</th>\n",
       "      <td>Random Forest</td>\n",
       "      <td>0.962451</td>\n",
       "      <td>0.972282</td>\n",
       "      <td>0.940159</td>\n",
       "      <td>0.955951</td>\n",
       "      <td>Validation</td>\n",
       "    </tr>\n",
       "    <tr>\n",
       "      <th>0</th>\n",
       "      <td>Decision Tree</td>\n",
       "      <td>0.952315</td>\n",
       "      <td>0.956300</td>\n",
       "      <td>0.932586</td>\n",
       "      <td>0.944294</td>\n",
       "      <td>Validation</td>\n",
       "    </tr>\n",
       "    <tr>\n",
       "      <th>0</th>\n",
       "      <td>Logistic Regression</td>\n",
       "      <td>0.874739</td>\n",
       "      <td>0.869730</td>\n",
       "      <td>0.836216</td>\n",
       "      <td>0.852644</td>\n",
       "      <td>Validation</td>\n",
       "    </tr>\n",
       "    <tr>\n",
       "      <th>0</th>\n",
       "      <td>KNN</td>\n",
       "      <td>0.661283</td>\n",
       "      <td>0.683921</td>\n",
       "      <td>0.406118</td>\n",
       "      <td>0.509619</td>\n",
       "      <td>Validation</td>\n",
       "    </tr>\n",
       "    <tr>\n",
       "      <th>0</th>\n",
       "      <td>Random Forest</td>\n",
       "      <td>0.962451</td>\n",
       "      <td>0.972282</td>\n",
       "      <td>0.940159</td>\n",
       "      <td>0.955951</td>\n",
       "      <td>Validation</td>\n",
       "    </tr>\n",
       "    <tr>\n",
       "      <th>0</th>\n",
       "      <td>Decision Tree</td>\n",
       "      <td>0.952315</td>\n",
       "      <td>0.956300</td>\n",
       "      <td>0.932586</td>\n",
       "      <td>0.944294</td>\n",
       "      <td>Validation</td>\n",
       "    </tr>\n",
       "    <tr>\n",
       "      <th>0</th>\n",
       "      <td>Logistic Regression</td>\n",
       "      <td>0.874739</td>\n",
       "      <td>0.869730</td>\n",
       "      <td>0.836216</td>\n",
       "      <td>0.852644</td>\n",
       "      <td>Validation</td>\n",
       "    </tr>\n",
       "  </tbody>\n",
       "</table>\n",
       "</div>"
      ],
      "text/plain": [
       "                 Model  Accuracy  Precision    Recall  f1-Score     Dataset\n",
       "0                  KNN  0.661283   0.683921  0.406118  0.509619  Validation\n",
       "0        Random Forest  0.962451   0.972282  0.940159  0.955951  Validation\n",
       "0        Decision Tree  0.952315   0.956300  0.932586  0.944294  Validation\n",
       "0  Logistic Regression  0.874739   0.869730  0.836216  0.852644  Validation\n",
       "0                  KNN  0.661283   0.683921  0.406118  0.509619  Validation\n",
       "0        Random Forest  0.962451   0.972282  0.940159  0.955951  Validation\n",
       "0        Decision Tree  0.952315   0.956300  0.932586  0.944294  Validation\n",
       "0  Logistic Regression  0.874739   0.869730  0.836216  0.852644  Validation"
      ]
     },
     "execution_count": 203,
     "metadata": {},
     "output_type": "execute_result"
    }
   ],
   "source": [
    "# Nos dados de Validation\n",
    "for model, model_name in zip(model_list, model_names):\n",
    "    print(model_name)\n",
    "    y_pred = model.predict(np.array(X_val))\n",
    "    results = report_classification(y_val, y_pred, model_name)\n",
    "    val_dataset = pd.concat([val_dataset, pd.DataFrame([results])])\n",
    "val_dataset['Dataset'] = 'Validation'\n",
    "val_dataset"
   ]
  },
  {
   "cell_type": "code",
   "execution_count": 204,
   "metadata": {},
   "outputs": [
    {
     "name": "stdout",
     "output_type": "stream",
     "text": [
      "KNN\n",
      "Random Forest\n",
      "Decision Tree\n",
      "Logistic Regression\n"
     ]
    },
    {
     "data": {
      "text/html": [
       "<div>\n",
       "<style scoped>\n",
       "    .dataframe tbody tr th:only-of-type {\n",
       "        vertical-align: middle;\n",
       "    }\n",
       "\n",
       "    .dataframe tbody tr th {\n",
       "        vertical-align: top;\n",
       "    }\n",
       "\n",
       "    .dataframe thead th {\n",
       "        text-align: right;\n",
       "    }\n",
       "</style>\n",
       "<table border=\"1\" class=\"dataframe\">\n",
       "  <thead>\n",
       "    <tr style=\"text-align: right;\">\n",
       "      <th></th>\n",
       "      <th>Model</th>\n",
       "      <th>Accuracy</th>\n",
       "      <th>Precision</th>\n",
       "      <th>Recall</th>\n",
       "      <th>f1-Score</th>\n",
       "      <th>Dataset</th>\n",
       "    </tr>\n",
       "  </thead>\n",
       "  <tbody>\n",
       "    <tr>\n",
       "      <th>0</th>\n",
       "      <td>KNN</td>\n",
       "      <td>0.657900</td>\n",
       "      <td>0.689379</td>\n",
       "      <td>0.401496</td>\n",
       "      <td>0.507451</td>\n",
       "      <td>Test</td>\n",
       "    </tr>\n",
       "    <tr>\n",
       "      <th>0</th>\n",
       "      <td>Random Forest</td>\n",
       "      <td>0.962847</td>\n",
       "      <td>0.971449</td>\n",
       "      <td>0.943071</td>\n",
       "      <td>0.957050</td>\n",
       "      <td>Test</td>\n",
       "    </tr>\n",
       "    <tr>\n",
       "      <th>0</th>\n",
       "      <td>Decision Tree</td>\n",
       "      <td>0.951802</td>\n",
       "      <td>0.953718</td>\n",
       "      <td>0.935592</td>\n",
       "      <td>0.944568</td>\n",
       "      <td>Test</td>\n",
       "    </tr>\n",
       "    <tr>\n",
       "      <th>0</th>\n",
       "      <td>Logistic Regression</td>\n",
       "      <td>0.871626</td>\n",
       "      <td>0.867942</td>\n",
       "      <td>0.834492</td>\n",
       "      <td>0.850888</td>\n",
       "      <td>Test</td>\n",
       "    </tr>\n",
       "    <tr>\n",
       "      <th>0</th>\n",
       "      <td>KNN</td>\n",
       "      <td>0.657900</td>\n",
       "      <td>0.689379</td>\n",
       "      <td>0.401496</td>\n",
       "      <td>0.507451</td>\n",
       "      <td>Test</td>\n",
       "    </tr>\n",
       "    <tr>\n",
       "      <th>0</th>\n",
       "      <td>Random Forest</td>\n",
       "      <td>0.962847</td>\n",
       "      <td>0.971449</td>\n",
       "      <td>0.943071</td>\n",
       "      <td>0.957050</td>\n",
       "      <td>Test</td>\n",
       "    </tr>\n",
       "    <tr>\n",
       "      <th>0</th>\n",
       "      <td>Decision Tree</td>\n",
       "      <td>0.951802</td>\n",
       "      <td>0.953718</td>\n",
       "      <td>0.935592</td>\n",
       "      <td>0.944568</td>\n",
       "      <td>Test</td>\n",
       "    </tr>\n",
       "    <tr>\n",
       "      <th>0</th>\n",
       "      <td>Logistic Regression</td>\n",
       "      <td>0.871626</td>\n",
       "      <td>0.867942</td>\n",
       "      <td>0.834492</td>\n",
       "      <td>0.850888</td>\n",
       "      <td>Test</td>\n",
       "    </tr>\n",
       "  </tbody>\n",
       "</table>\n",
       "</div>"
      ],
      "text/plain": [
       "                 Model  Accuracy  Precision    Recall  f1-Score Dataset\n",
       "0                  KNN  0.657900   0.689379  0.401496  0.507451    Test\n",
       "0        Random Forest  0.962847   0.971449  0.943071  0.957050    Test\n",
       "0        Decision Tree  0.951802   0.953718  0.935592  0.944568    Test\n",
       "0  Logistic Regression  0.871626   0.867942  0.834492  0.850888    Test\n",
       "0                  KNN  0.657900   0.689379  0.401496  0.507451    Test\n",
       "0        Random Forest  0.962847   0.971449  0.943071  0.957050    Test\n",
       "0        Decision Tree  0.951802   0.953718  0.935592  0.944568    Test\n",
       "0  Logistic Regression  0.871626   0.867942  0.834492  0.850888    Test"
      ]
     },
     "execution_count": 204,
     "metadata": {},
     "output_type": "execute_result"
    }
   ],
   "source": [
    "for model, model_name in zip(model_list, model_names):\n",
    "    print(model_name)\n",
    "    y_pred = model.predict(np.array(X_test))\n",
    "    results = report_classification(y_test, y_pred, model_name)\n",
    "    test_dataset = pd.concat([test_dataset, pd.DataFrame([results])])\n",
    "test_dataset['Dataset'] = 'Test'\n",
    "test_dataset"
   ]
  },
  {
   "cell_type": "markdown",
   "metadata": {},
   "source": [
    "# Join Results"
   ]
  },
  {
   "cell_type": "code",
   "execution_count": 205,
   "metadata": {},
   "outputs": [
    {
     "data": {
      "text/html": [
       "<div>\n",
       "<style scoped>\n",
       "    .dataframe tbody tr th:only-of-type {\n",
       "        vertical-align: middle;\n",
       "    }\n",
       "\n",
       "    .dataframe tbody tr th {\n",
       "        vertical-align: top;\n",
       "    }\n",
       "\n",
       "    .dataframe thead th {\n",
       "        text-align: right;\n",
       "    }\n",
       "</style>\n",
       "<table border=\"1\" class=\"dataframe\">\n",
       "  <thead>\n",
       "    <tr style=\"text-align: right;\">\n",
       "      <th></th>\n",
       "      <th>Model</th>\n",
       "      <th>Accuracy</th>\n",
       "      <th>Precision</th>\n",
       "      <th>Recall</th>\n",
       "      <th>f1-Score</th>\n",
       "      <th>Dataset</th>\n",
       "    </tr>\n",
       "  </thead>\n",
       "  <tbody>\n",
       "    <tr>\n",
       "      <th>0</th>\n",
       "      <td>KNN</td>\n",
       "      <td>0.840199</td>\n",
       "      <td>1.000000</td>\n",
       "      <td>0.631284</td>\n",
       "      <td>0.773972</td>\n",
       "      <td>Train</td>\n",
       "    </tr>\n",
       "    <tr>\n",
       "      <th>0</th>\n",
       "      <td>Random Forest</td>\n",
       "      <td>0.999766</td>\n",
       "      <td>0.999968</td>\n",
       "      <td>0.999491</td>\n",
       "      <td>0.999729</td>\n",
       "      <td>Train</td>\n",
       "    </tr>\n",
       "    <tr>\n",
       "      <th>0</th>\n",
       "      <td>Decision Tree</td>\n",
       "      <td>0.970847</td>\n",
       "      <td>0.977613</td>\n",
       "      <td>0.954595</td>\n",
       "      <td>0.965967</td>\n",
       "      <td>Train</td>\n",
       "    </tr>\n",
       "    <tr>\n",
       "      <th>0</th>\n",
       "      <td>Logistic Regression</td>\n",
       "      <td>0.876177</td>\n",
       "      <td>0.871660</td>\n",
       "      <td>0.837629</td>\n",
       "      <td>0.854306</td>\n",
       "      <td>Train</td>\n",
       "    </tr>\n",
       "    <tr>\n",
       "      <th>0</th>\n",
       "      <td>KNN</td>\n",
       "      <td>0.840199</td>\n",
       "      <td>1.000000</td>\n",
       "      <td>0.631284</td>\n",
       "      <td>0.773972</td>\n",
       "      <td>Train</td>\n",
       "    </tr>\n",
       "    <tr>\n",
       "      <th>0</th>\n",
       "      <td>Random Forest</td>\n",
       "      <td>0.999766</td>\n",
       "      <td>0.999968</td>\n",
       "      <td>0.999491</td>\n",
       "      <td>0.999729</td>\n",
       "      <td>Train</td>\n",
       "    </tr>\n",
       "    <tr>\n",
       "      <th>0</th>\n",
       "      <td>Decision Tree</td>\n",
       "      <td>0.970847</td>\n",
       "      <td>0.977613</td>\n",
       "      <td>0.954595</td>\n",
       "      <td>0.965967</td>\n",
       "      <td>Train</td>\n",
       "    </tr>\n",
       "    <tr>\n",
       "      <th>0</th>\n",
       "      <td>Logistic Regression</td>\n",
       "      <td>0.876177</td>\n",
       "      <td>0.871660</td>\n",
       "      <td>0.837629</td>\n",
       "      <td>0.854306</td>\n",
       "      <td>Train</td>\n",
       "    </tr>\n",
       "    <tr>\n",
       "      <th>0</th>\n",
       "      <td>KNN</td>\n",
       "      <td>0.661283</td>\n",
       "      <td>0.683921</td>\n",
       "      <td>0.406118</td>\n",
       "      <td>0.509619</td>\n",
       "      <td>Validation</td>\n",
       "    </tr>\n",
       "    <tr>\n",
       "      <th>0</th>\n",
       "      <td>Random Forest</td>\n",
       "      <td>0.962451</td>\n",
       "      <td>0.972282</td>\n",
       "      <td>0.940159</td>\n",
       "      <td>0.955951</td>\n",
       "      <td>Validation</td>\n",
       "    </tr>\n",
       "    <tr>\n",
       "      <th>0</th>\n",
       "      <td>Decision Tree</td>\n",
       "      <td>0.952315</td>\n",
       "      <td>0.956300</td>\n",
       "      <td>0.932586</td>\n",
       "      <td>0.944294</td>\n",
       "      <td>Validation</td>\n",
       "    </tr>\n",
       "    <tr>\n",
       "      <th>0</th>\n",
       "      <td>Logistic Regression</td>\n",
       "      <td>0.874739</td>\n",
       "      <td>0.869730</td>\n",
       "      <td>0.836216</td>\n",
       "      <td>0.852644</td>\n",
       "      <td>Validation</td>\n",
       "    </tr>\n",
       "    <tr>\n",
       "      <th>0</th>\n",
       "      <td>KNN</td>\n",
       "      <td>0.661283</td>\n",
       "      <td>0.683921</td>\n",
       "      <td>0.406118</td>\n",
       "      <td>0.509619</td>\n",
       "      <td>Validation</td>\n",
       "    </tr>\n",
       "    <tr>\n",
       "      <th>0</th>\n",
       "      <td>Random Forest</td>\n",
       "      <td>0.962451</td>\n",
       "      <td>0.972282</td>\n",
       "      <td>0.940159</td>\n",
       "      <td>0.955951</td>\n",
       "      <td>Validation</td>\n",
       "    </tr>\n",
       "    <tr>\n",
       "      <th>0</th>\n",
       "      <td>Decision Tree</td>\n",
       "      <td>0.952315</td>\n",
       "      <td>0.956300</td>\n",
       "      <td>0.932586</td>\n",
       "      <td>0.944294</td>\n",
       "      <td>Validation</td>\n",
       "    </tr>\n",
       "    <tr>\n",
       "      <th>0</th>\n",
       "      <td>Logistic Regression</td>\n",
       "      <td>0.874739</td>\n",
       "      <td>0.869730</td>\n",
       "      <td>0.836216</td>\n",
       "      <td>0.852644</td>\n",
       "      <td>Validation</td>\n",
       "    </tr>\n",
       "    <tr>\n",
       "      <th>0</th>\n",
       "      <td>KNN</td>\n",
       "      <td>0.657900</td>\n",
       "      <td>0.689379</td>\n",
       "      <td>0.401496</td>\n",
       "      <td>0.507451</td>\n",
       "      <td>Test</td>\n",
       "    </tr>\n",
       "    <tr>\n",
       "      <th>0</th>\n",
       "      <td>Random Forest</td>\n",
       "      <td>0.962847</td>\n",
       "      <td>0.971449</td>\n",
       "      <td>0.943071</td>\n",
       "      <td>0.957050</td>\n",
       "      <td>Test</td>\n",
       "    </tr>\n",
       "    <tr>\n",
       "      <th>0</th>\n",
       "      <td>Decision Tree</td>\n",
       "      <td>0.951802</td>\n",
       "      <td>0.953718</td>\n",
       "      <td>0.935592</td>\n",
       "      <td>0.944568</td>\n",
       "      <td>Test</td>\n",
       "    </tr>\n",
       "    <tr>\n",
       "      <th>0</th>\n",
       "      <td>Logistic Regression</td>\n",
       "      <td>0.871626</td>\n",
       "      <td>0.867942</td>\n",
       "      <td>0.834492</td>\n",
       "      <td>0.850888</td>\n",
       "      <td>Test</td>\n",
       "    </tr>\n",
       "    <tr>\n",
       "      <th>0</th>\n",
       "      <td>KNN</td>\n",
       "      <td>0.657900</td>\n",
       "      <td>0.689379</td>\n",
       "      <td>0.401496</td>\n",
       "      <td>0.507451</td>\n",
       "      <td>Test</td>\n",
       "    </tr>\n",
       "    <tr>\n",
       "      <th>0</th>\n",
       "      <td>Random Forest</td>\n",
       "      <td>0.962847</td>\n",
       "      <td>0.971449</td>\n",
       "      <td>0.943071</td>\n",
       "      <td>0.957050</td>\n",
       "      <td>Test</td>\n",
       "    </tr>\n",
       "    <tr>\n",
       "      <th>0</th>\n",
       "      <td>Decision Tree</td>\n",
       "      <td>0.951802</td>\n",
       "      <td>0.953718</td>\n",
       "      <td>0.935592</td>\n",
       "      <td>0.944568</td>\n",
       "      <td>Test</td>\n",
       "    </tr>\n",
       "    <tr>\n",
       "      <th>0</th>\n",
       "      <td>Logistic Regression</td>\n",
       "      <td>0.871626</td>\n",
       "      <td>0.867942</td>\n",
       "      <td>0.834492</td>\n",
       "      <td>0.850888</td>\n",
       "      <td>Test</td>\n",
       "    </tr>\n",
       "  </tbody>\n",
       "</table>\n",
       "</div>"
      ],
      "text/plain": [
       "                 Model  Accuracy  Precision    Recall  f1-Score     Dataset\n",
       "0                  KNN  0.840199   1.000000  0.631284  0.773972       Train\n",
       "0        Random Forest  0.999766   0.999968  0.999491  0.999729       Train\n",
       "0        Decision Tree  0.970847   0.977613  0.954595  0.965967       Train\n",
       "0  Logistic Regression  0.876177   0.871660  0.837629  0.854306       Train\n",
       "0                  KNN  0.840199   1.000000  0.631284  0.773972       Train\n",
       "0        Random Forest  0.999766   0.999968  0.999491  0.999729       Train\n",
       "0        Decision Tree  0.970847   0.977613  0.954595  0.965967       Train\n",
       "0  Logistic Regression  0.876177   0.871660  0.837629  0.854306       Train\n",
       "0                  KNN  0.661283   0.683921  0.406118  0.509619  Validation\n",
       "0        Random Forest  0.962451   0.972282  0.940159  0.955951  Validation\n",
       "0        Decision Tree  0.952315   0.956300  0.932586  0.944294  Validation\n",
       "0  Logistic Regression  0.874739   0.869730  0.836216  0.852644  Validation\n",
       "0                  KNN  0.661283   0.683921  0.406118  0.509619  Validation\n",
       "0        Random Forest  0.962451   0.972282  0.940159  0.955951  Validation\n",
       "0        Decision Tree  0.952315   0.956300  0.932586  0.944294  Validation\n",
       "0  Logistic Regression  0.874739   0.869730  0.836216  0.852644  Validation\n",
       "0                  KNN  0.657900   0.689379  0.401496  0.507451        Test\n",
       "0        Random Forest  0.962847   0.971449  0.943071  0.957050        Test\n",
       "0        Decision Tree  0.951802   0.953718  0.935592  0.944568        Test\n",
       "0  Logistic Regression  0.871626   0.867942  0.834492  0.850888        Test\n",
       "0                  KNN  0.657900   0.689379  0.401496  0.507451        Test\n",
       "0        Random Forest  0.962847   0.971449  0.943071  0.957050        Test\n",
       "0        Decision Tree  0.951802   0.953718  0.935592  0.944568        Test\n",
       "0  Logistic Regression  0.871626   0.867942  0.834492  0.850888        Test"
      ]
     },
     "execution_count": 205,
     "metadata": {},
     "output_type": "execute_result"
    }
   ],
   "source": [
    "full_results = pd.concat([train_dataset, val_dataset, test_dataset])\n",
    "full_results"
   ]
  },
  {
   "cell_type": "markdown",
   "metadata": {},
   "source": [
    "# Comparing Performance"
   ]
  },
  {
   "cell_type": "code",
   "execution_count": 212,
   "metadata": {},
   "outputs": [],
   "source": [
    "# list_datasets = np.unique(full_results['Dataset'])\n",
    "# for i in list_datasets:\n",
    "#     subset = full_results.loc[full_results['Dataset'] == i]\n",
    "    \n",
    "    "
   ]
  },
  {
   "cell_type": "code",
   "execution_count": null,
   "metadata": {},
   "outputs": [],
   "source": []
  }
 ],
 "metadata": {
  "kernelspec": {
   "display_name": "myenv",
   "language": "python",
   "name": "python3"
  },
  "language_info": {
   "codemirror_mode": {
    "name": "ipython",
    "version": 3
   },
   "file_extension": ".py",
   "mimetype": "text/x-python",
   "name": "python",
   "nbconvert_exporter": "python",
   "pygments_lexer": "ipython3",
   "version": "3.9.17"
  },
  "orig_nbformat": 4
 },
 "nbformat": 4,
 "nbformat_minor": 2
}
