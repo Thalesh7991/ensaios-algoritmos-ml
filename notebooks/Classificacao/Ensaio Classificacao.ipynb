{
 "cells": [
  {
   "cell_type": "markdown",
   "metadata": {},
   "source": [
    "# Imports"
   ]
  },
  {
   "cell_type": "code",
   "execution_count": 32,
   "metadata": {},
   "outputs": [],
   "source": [
    "import pandas as pd\n",
    "import numpy as np\n",
    "pd.set_option('display.max_columns', None)\n",
    "\n",
    "from sklearn.neighbors import KNeighborsClassifier\n",
    "from sklearn.ensemble import RandomForestClassifier\n",
    "from sklearn.tree import DecisionTreeClassifier\n",
    "import warnings\n",
    "warnings.simplefilter(action='ignore', category=Warning)\n",
    "import matplotlib.pyplot as plt\n",
    "from IPython.display       import Image\n",
    "from IPython.core.display  import HTML\n",
    "import seaborn as sns\n",
    "import optuna\n",
    "\n",
    "from sklearn.metrics import accuracy_score, precision_score, recall_score, f1_score"
   ]
  },
  {
   "cell_type": "markdown",
   "metadata": {},
   "source": [
    "# Helper Functions"
   ]
  },
  {
   "cell_type": "code",
   "execution_count": 2,
   "metadata": {},
   "outputs": [
    {
     "name": "stdout",
     "output_type": "stream",
     "text": [
      "%pylab is deprecated, use %matplotlib inline and import the required libraries.\n",
      "Populating the interactive namespace from numpy and matplotlib\n"
     ]
    },
    {
     "data": {
      "text/html": [
       "<style>.container { width:100% !important; }</style>"
      ],
      "text/plain": [
       "<IPython.core.display.HTML object>"
      ]
     },
     "metadata": {},
     "output_type": "display_data"
    }
   ],
   "source": [
    "from sklearn.metrics import accuracy_score, precision_score, recall_score, f1_score\n",
    "def report_classification(y_true, y_pred):\n",
    "    acc = accuracy_score(y_true, y_pred)\n",
    "    pre = precision_score(y_true, y_pred)\n",
    "    rec = recall_score(y_true, y_pred)\n",
    "    f1 = f1_score(y_true, y_pred)\n",
    "\n",
    "    return {'Accuracy': acc, 'Precision': pre, 'Recall': rec, 'f1-Score': f1 }\n",
    "\n",
    "\n",
    "\n",
    "def jupyter_settings():\n",
    "    %matplotlib inline\n",
    "    %pylab inline\n",
    "    \n",
    "    plt.style.use( 'bmh' )\n",
    "    plt.rcParams['figure.figsize'] = [25, 12]\n",
    "    plt.rcParams['font.size'] = 24\n",
    "    \n",
    "    display( HTML( '<style>.container { width:100% !important; }</style>') )\n",
    "    pd.options.display.max_columns = None\n",
    "    pd.options.display.max_rows = None\n",
    "    pd.set_option( 'display.expand_frame_repr', False )\n",
    "    \n",
    "    sns.set()\n",
    "jupyter_settings()"
   ]
  },
  {
   "cell_type": "markdown",
   "metadata": {},
   "source": [
    "# Data Load"
   ]
  },
  {
   "cell_type": "code",
   "execution_count": 11,
   "metadata": {},
   "outputs": [],
   "source": [
    "# Dados de Treinamento\n",
    "X_train = pd.read_csv('../../data/Classificacao/X_training.csv')\n",
    "y_train = pd.read_csv('../../data/Classificacao/y_training.csv').values.ravel()\n",
    "\n",
    "# Dados de Test\n",
    "X_test = pd.read_csv('../../data/Classificacao/X_test.csv')\n",
    "y_test = pd.read_csv('../../data/Classificacao/y_test.csv').values.ravel()\n",
    "\n",
    "# Dados de Validacao\n",
    "X_val = pd.read_csv('../../data/Classificacao/X_validation.csv')\n",
    "y_val = pd.read_csv('../../data/Classificacao/y_validation.csv').values.ravel()"
   ]
  },
  {
   "cell_type": "code",
   "execution_count": 13,
   "metadata": {},
   "outputs": [],
   "source": [
    "X_train = X_train.drop(columns=['id'])\n",
    "X_test = X_test.drop(columns=['id'])\n",
    "X_val = X_val.drop(columns=['id'])"
   ]
  },
  {
   "cell_type": "code",
   "execution_count": null,
   "metadata": {},
   "outputs": [],
   "source": []
  },
  {
   "cell_type": "markdown",
   "metadata": {},
   "source": [
    "# Machine Learning Models"
   ]
  },
  {
   "cell_type": "markdown",
   "metadata": {},
   "source": [
    "## KNN"
   ]
  },
  {
   "cell_type": "code",
   "execution_count": 18,
   "metadata": {},
   "outputs": [],
   "source": [
    "# neigh = np.arange(1,10,1)\n",
    "# results = []\n",
    "# knn_results = pd.DataFrame()\n",
    "# for k in range(1,10,2):\n",
    "# #         # Model Definition\n",
    "#     knn = KNeighborsClassifier(n_neighbors=k, n_jobs= -1)\n",
    "        \n",
    "#     # Model Train\n",
    "#     #knn.fit(X_train, y_train)\n",
    "#     knn.fit(np.array(X_train), np.array(y_train))\n",
    "\n",
    "#     #knn.fit(X_train, y_train)\n",
    "#     y_pred = knn.predict(np.array(X_val))\n",
    "#     report = report_classification(y_val, y_pred)\n",
    "\n",
    "    \n",
    "    \n",
    "#     results.append({\n",
    "#              'n_neighbors': k,\n",
    "#              'Accuracy': report['Accuracy'],\n",
    "#              'Precision': report['Precision'],\n",
    "#              'Recall': report['Recall'],\n",
    "#              'f1-Score': report['f1-Score'],\n",
    "#              'Dataset': 'Val'\n",
    "#          })\n",
    "    \n",
    "#     df_aux = pd.DataFrame(results)\n",
    "#     knn_results = pd.concat([knn_results, df_aux], axis=0).drop_duplicates()\n",
    "\n"
   ]
  },
  {
   "cell_type": "code",
   "execution_count": 31,
   "metadata": {},
   "outputs": [],
   "source": [
    "# knn_results"
   ]
  },
  {
   "cell_type": "code",
   "execution_count": 26,
   "metadata": {},
   "outputs": [],
   "source": [
    "def knn_fine_tuning(trial):\n",
    "    n_neighbors = trial.suggest_int('n_neighbors', 1,10)\n",
    "\n",
    "    knn_model = KNeighborsClassifier(n_neighbors = n_neighbors, n_jobs=-1 )\n",
    "    knn_model.fit(np.array(X_train), np.array(y_train))\n",
    "\n",
    "    y_pred = knn_model.predict(np.array(X_val))\n",
    "\n",
    "    return precision_score(y_val, y_pred)"
   ]
  },
  {
   "cell_type": "code",
   "execution_count": 27,
   "metadata": {},
   "outputs": [
    {
     "name": "stderr",
     "output_type": "stream",
     "text": [
      "[I 2023-08-22 05:02:43,527] A new study created in memory with name: no-name-652abb60-f043-49f7-8592-4216b7a0468e\n",
      "[I 2023-08-22 05:02:52,181] Trial 0 finished with value: 0.9621390194761585 and parameters: {'n_neighbors': 6}. Best is trial 0 with value: 0.9621390194761585.\n",
      "[I 2023-08-22 05:03:00,190] Trial 1 finished with value: 0.9681260945709282 and parameters: {'n_neighbors': 2}. Best is trial 1 with value: 0.9681260945709282.\n",
      "[I 2023-08-22 05:03:08,744] Trial 2 finished with value: 0.9681260945709282 and parameters: {'n_neighbors': 2}. Best is trial 1 with value: 0.9681260945709282.\n",
      "[I 2023-08-22 05:03:15,790] Trial 3 finished with value: 0.94254707947654 and parameters: {'n_neighbors': 3}. Best is trial 1 with value: 0.9681260945709282.\n",
      "[I 2023-08-22 05:03:22,921] Trial 4 finished with value: 0.9515671823114926 and parameters: {'n_neighbors': 7}. Best is trial 1 with value: 0.9681260945709282.\n",
      "[I 2023-08-22 05:03:29,973] Trial 5 finished with value: 0.9544344995931652 and parameters: {'n_neighbors': 9}. Best is trial 1 with value: 0.9681260945709282.\n",
      "[I 2023-08-22 05:03:37,163] Trial 6 finished with value: 0.9544344995931652 and parameters: {'n_neighbors': 9}. Best is trial 1 with value: 0.9681260945709282.\n",
      "[I 2023-08-22 05:03:44,198] Trial 7 finished with value: 0.9681260945709282 and parameters: {'n_neighbors': 2}. Best is trial 1 with value: 0.9681260945709282.\n",
      "[I 2023-08-22 05:03:51,589] Trial 8 finished with value: 0.9621390194761585 and parameters: {'n_neighbors': 6}. Best is trial 1 with value: 0.9681260945709282.\n",
      "[I 2023-08-22 05:03:59,692] Trial 9 finished with value: 0.9681260945709282 and parameters: {'n_neighbors': 2}. Best is trial 1 with value: 0.9681260945709282.\n",
      "[I 2023-08-22 05:04:07,407] Trial 10 finished with value: 0.9651123213070115 and parameters: {'n_neighbors': 4}. Best is trial 1 with value: 0.9681260945709282.\n",
      "[I 2023-08-22 05:04:15,801] Trial 11 finished with value: 0.9178601842533096 and parameters: {'n_neighbors': 1}. Best is trial 1 with value: 0.9681260945709282.\n",
      "[I 2023-08-22 05:04:25,949] Trial 12 finished with value: 0.9651123213070115 and parameters: {'n_neighbors': 4}. Best is trial 1 with value: 0.9681260945709282.\n",
      "[I 2023-08-22 05:04:35,373] Trial 13 finished with value: 0.9178601842533096 and parameters: {'n_neighbors': 1}. Best is trial 1 with value: 0.9681260945709282.\n",
      "[I 2023-08-22 05:04:45,076] Trial 14 finished with value: 0.9651123213070115 and parameters: {'n_neighbors': 4}. Best is trial 1 with value: 0.9681260945709282.\n",
      "[I 2023-08-22 05:04:54,311] Trial 15 finished with value: 0.94254707947654 and parameters: {'n_neighbors': 3}. Best is trial 1 with value: 0.9681260945709282.\n",
      "[I 2023-08-22 05:05:05,131] Trial 16 finished with value: 0.9178601842533096 and parameters: {'n_neighbors': 1}. Best is trial 1 with value: 0.9681260945709282.\n",
      "[I 2023-08-22 05:05:14,254] Trial 17 finished with value: 0.9515671823114926 and parameters: {'n_neighbors': 7}. Best is trial 1 with value: 0.9681260945709282.\n",
      "[I 2023-08-22 05:05:22,552] Trial 18 finished with value: 0.9487076254126742 and parameters: {'n_neighbors': 5}. Best is trial 1 with value: 0.9681260945709282.\n",
      "[I 2023-08-22 05:05:30,359] Trial 19 finished with value: 0.9681260945709282 and parameters: {'n_neighbors': 2}. Best is trial 1 with value: 0.9681260945709282.\n"
     ]
    }
   ],
   "source": [
    "study = optuna.create_study(direction='maximize')\n",
    "study.optimize(knn_fine_tuning, n_trials=20)"
   ]
  },
  {
   "cell_type": "code",
   "execution_count": 29,
   "metadata": {},
   "outputs": [
    {
     "ename": "ValueError",
     "evalue": "Mime type rendering requires nbformat>=4.2.0 but it is not installed",
     "output_type": "error",
     "traceback": [
      "\u001b[1;31m---------------------------------------------------------------------------\u001b[0m",
      "\u001b[1;31mValueError\u001b[0m                                Traceback (most recent call last)",
      "File \u001b[1;32mc:\\Users\\thale\\anaconda3\\envs\\myenv\\lib\\site-packages\\IPython\\core\\formatters.py:922\u001b[0m, in \u001b[0;36mIPythonDisplayFormatter.__call__\u001b[1;34m(self, obj)\u001b[0m\n\u001b[0;32m    920\u001b[0m method \u001b[39m=\u001b[39m get_real_method(obj, \u001b[39mself\u001b[39m\u001b[39m.\u001b[39mprint_method)\n\u001b[0;32m    921\u001b[0m \u001b[39mif\u001b[39;00m method \u001b[39mis\u001b[39;00m \u001b[39mnot\u001b[39;00m \u001b[39mNone\u001b[39;00m:\n\u001b[1;32m--> 922\u001b[0m     method()\n\u001b[0;32m    923\u001b[0m     \u001b[39mreturn\u001b[39;00m \u001b[39mTrue\u001b[39;00m\n",
      "File \u001b[1;32mc:\\Users\\thale\\anaconda3\\envs\\myenv\\lib\\site-packages\\plotly\\basedatatypes.py:834\u001b[0m, in \u001b[0;36mBaseFigure._ipython_display_\u001b[1;34m(self)\u001b[0m\n\u001b[0;32m    831\u001b[0m \u001b[39mimport\u001b[39;00m \u001b[39mplotly\u001b[39;00m\u001b[39m.\u001b[39;00m\u001b[39mio\u001b[39;00m \u001b[39mas\u001b[39;00m \u001b[39mpio\u001b[39;00m\n\u001b[0;32m    833\u001b[0m \u001b[39mif\u001b[39;00m pio\u001b[39m.\u001b[39mrenderers\u001b[39m.\u001b[39mrender_on_display \u001b[39mand\u001b[39;00m pio\u001b[39m.\u001b[39mrenderers\u001b[39m.\u001b[39mdefault:\n\u001b[1;32m--> 834\u001b[0m     pio\u001b[39m.\u001b[39;49mshow(\u001b[39mself\u001b[39;49m)\n\u001b[0;32m    835\u001b[0m \u001b[39melse\u001b[39;00m:\n\u001b[0;32m    836\u001b[0m     \u001b[39mprint\u001b[39m(\u001b[39mrepr\u001b[39m(\u001b[39mself\u001b[39m))\n",
      "File \u001b[1;32mc:\\Users\\thale\\anaconda3\\envs\\myenv\\lib\\site-packages\\plotly\\io\\_renderers.py:396\u001b[0m, in \u001b[0;36mshow\u001b[1;34m(fig, renderer, validate, **kwargs)\u001b[0m\n\u001b[0;32m    391\u001b[0m         \u001b[39mraise\u001b[39;00m \u001b[39mValueError\u001b[39;00m(\n\u001b[0;32m    392\u001b[0m             \u001b[39m\"\u001b[39m\u001b[39mMime type rendering requires ipython but it is not installed\u001b[39m\u001b[39m\"\u001b[39m\n\u001b[0;32m    393\u001b[0m         )\n\u001b[0;32m    395\u001b[0m     \u001b[39mif\u001b[39;00m \u001b[39mnot\u001b[39;00m nbformat \u001b[39mor\u001b[39;00m Version(nbformat\u001b[39m.\u001b[39m__version__) \u001b[39m<\u001b[39m Version(\u001b[39m\"\u001b[39m\u001b[39m4.2.0\u001b[39m\u001b[39m\"\u001b[39m):\n\u001b[1;32m--> 396\u001b[0m         \u001b[39mraise\u001b[39;00m \u001b[39mValueError\u001b[39;00m(\n\u001b[0;32m    397\u001b[0m             \u001b[39m\"\u001b[39m\u001b[39mMime type rendering requires nbformat>=4.2.0 but it is not installed\u001b[39m\u001b[39m\"\u001b[39m\n\u001b[0;32m    398\u001b[0m         )\n\u001b[0;32m    400\u001b[0m     ipython_display\u001b[39m.\u001b[39mdisplay(bundle, raw\u001b[39m=\u001b[39m\u001b[39mTrue\u001b[39;00m)\n\u001b[0;32m    402\u001b[0m \u001b[39m# external renderers\u001b[39;00m\n",
      "\u001b[1;31mValueError\u001b[0m: Mime type rendering requires nbformat>=4.2.0 but it is not installed"
     ]
    },
    {
     "data": {
      "application/vnd.plotly.v1+json": {
       "config": {
        "plotlyServerURL": "https://plot.ly"
       },
       "data": [
        {
         "mode": "markers",
         "name": "Objective Value",
         "type": "scatter",
         "x": [
          0,
          1,
          2,
          3,
          4,
          5,
          6,
          7,
          8,
          9,
          10,
          11,
          12,
          13,
          14,
          15,
          16,
          17,
          18,
          19
         ],
         "y": [
          0.9621390194761585,
          0.9681260945709282,
          0.9681260945709282,
          0.94254707947654,
          0.9515671823114926,
          0.9544344995931652,
          0.9544344995931652,
          0.9681260945709282,
          0.9621390194761585,
          0.9681260945709282,
          0.9651123213070115,
          0.9178601842533096,
          0.9651123213070115,
          0.9178601842533096,
          0.9651123213070115,
          0.94254707947654,
          0.9178601842533096,
          0.9515671823114926,
          0.9487076254126742,
          0.9681260945709282
         ]
        },
        {
         "mode": "lines",
         "name": "Best Value",
         "type": "scatter",
         "x": [
          0,
          1,
          2,
          3,
          4,
          5,
          6,
          7,
          8,
          9,
          10,
          11,
          12,
          13,
          14,
          15,
          16,
          17,
          18,
          19
         ],
         "y": [
          0.9621390194761585,
          0.9681260945709282,
          0.9681260945709282,
          0.9681260945709282,
          0.9681260945709282,
          0.9681260945709282,
          0.9681260945709282,
          0.9681260945709282,
          0.9681260945709282,
          0.9681260945709282,
          0.9681260945709282,
          0.9681260945709282,
          0.9681260945709282,
          0.9681260945709282,
          0.9681260945709282,
          0.9681260945709282,
          0.9681260945709282,
          0.9681260945709282,
          0.9681260945709282,
          0.9681260945709282
         ]
        },
        {
         "marker": {
          "color": "#cccccc"
         },
         "mode": "markers",
         "name": "Infeasible Trial",
         "showlegend": false,
         "type": "scatter",
         "x": [],
         "y": []
        }
       ],
       "layout": {
        "template": {
         "data": {
          "bar": [
           {
            "error_x": {
             "color": "#2a3f5f"
            },
            "error_y": {
             "color": "#2a3f5f"
            },
            "marker": {
             "line": {
              "color": "#E5ECF6",
              "width": 0.5
             },
             "pattern": {
              "fillmode": "overlay",
              "size": 10,
              "solidity": 0.2
             }
            },
            "type": "bar"
           }
          ],
          "barpolar": [
           {
            "marker": {
             "line": {
              "color": "#E5ECF6",
              "width": 0.5
             },
             "pattern": {
              "fillmode": "overlay",
              "size": 10,
              "solidity": 0.2
             }
            },
            "type": "barpolar"
           }
          ],
          "carpet": [
           {
            "aaxis": {
             "endlinecolor": "#2a3f5f",
             "gridcolor": "white",
             "linecolor": "white",
             "minorgridcolor": "white",
             "startlinecolor": "#2a3f5f"
            },
            "baxis": {
             "endlinecolor": "#2a3f5f",
             "gridcolor": "white",
             "linecolor": "white",
             "minorgridcolor": "white",
             "startlinecolor": "#2a3f5f"
            },
            "type": "carpet"
           }
          ],
          "choropleth": [
           {
            "colorbar": {
             "outlinewidth": 0,
             "ticks": ""
            },
            "type": "choropleth"
           }
          ],
          "contour": [
           {
            "colorbar": {
             "outlinewidth": 0,
             "ticks": ""
            },
            "colorscale": [
             [
              0,
              "#0d0887"
             ],
             [
              0.1111111111111111,
              "#46039f"
             ],
             [
              0.2222222222222222,
              "#7201a8"
             ],
             [
              0.3333333333333333,
              "#9c179e"
             ],
             [
              0.4444444444444444,
              "#bd3786"
             ],
             [
              0.5555555555555556,
              "#d8576b"
             ],
             [
              0.6666666666666666,
              "#ed7953"
             ],
             [
              0.7777777777777778,
              "#fb9f3a"
             ],
             [
              0.8888888888888888,
              "#fdca26"
             ],
             [
              1,
              "#f0f921"
             ]
            ],
            "type": "contour"
           }
          ],
          "contourcarpet": [
           {
            "colorbar": {
             "outlinewidth": 0,
             "ticks": ""
            },
            "type": "contourcarpet"
           }
          ],
          "heatmap": [
           {
            "colorbar": {
             "outlinewidth": 0,
             "ticks": ""
            },
            "colorscale": [
             [
              0,
              "#0d0887"
             ],
             [
              0.1111111111111111,
              "#46039f"
             ],
             [
              0.2222222222222222,
              "#7201a8"
             ],
             [
              0.3333333333333333,
              "#9c179e"
             ],
             [
              0.4444444444444444,
              "#bd3786"
             ],
             [
              0.5555555555555556,
              "#d8576b"
             ],
             [
              0.6666666666666666,
              "#ed7953"
             ],
             [
              0.7777777777777778,
              "#fb9f3a"
             ],
             [
              0.8888888888888888,
              "#fdca26"
             ],
             [
              1,
              "#f0f921"
             ]
            ],
            "type": "heatmap"
           }
          ],
          "heatmapgl": [
           {
            "colorbar": {
             "outlinewidth": 0,
             "ticks": ""
            },
            "colorscale": [
             [
              0,
              "#0d0887"
             ],
             [
              0.1111111111111111,
              "#46039f"
             ],
             [
              0.2222222222222222,
              "#7201a8"
             ],
             [
              0.3333333333333333,
              "#9c179e"
             ],
             [
              0.4444444444444444,
              "#bd3786"
             ],
             [
              0.5555555555555556,
              "#d8576b"
             ],
             [
              0.6666666666666666,
              "#ed7953"
             ],
             [
              0.7777777777777778,
              "#fb9f3a"
             ],
             [
              0.8888888888888888,
              "#fdca26"
             ],
             [
              1,
              "#f0f921"
             ]
            ],
            "type": "heatmapgl"
           }
          ],
          "histogram": [
           {
            "marker": {
             "pattern": {
              "fillmode": "overlay",
              "size": 10,
              "solidity": 0.2
             }
            },
            "type": "histogram"
           }
          ],
          "histogram2d": [
           {
            "colorbar": {
             "outlinewidth": 0,
             "ticks": ""
            },
            "colorscale": [
             [
              0,
              "#0d0887"
             ],
             [
              0.1111111111111111,
              "#46039f"
             ],
             [
              0.2222222222222222,
              "#7201a8"
             ],
             [
              0.3333333333333333,
              "#9c179e"
             ],
             [
              0.4444444444444444,
              "#bd3786"
             ],
             [
              0.5555555555555556,
              "#d8576b"
             ],
             [
              0.6666666666666666,
              "#ed7953"
             ],
             [
              0.7777777777777778,
              "#fb9f3a"
             ],
             [
              0.8888888888888888,
              "#fdca26"
             ],
             [
              1,
              "#f0f921"
             ]
            ],
            "type": "histogram2d"
           }
          ],
          "histogram2dcontour": [
           {
            "colorbar": {
             "outlinewidth": 0,
             "ticks": ""
            },
            "colorscale": [
             [
              0,
              "#0d0887"
             ],
             [
              0.1111111111111111,
              "#46039f"
             ],
             [
              0.2222222222222222,
              "#7201a8"
             ],
             [
              0.3333333333333333,
              "#9c179e"
             ],
             [
              0.4444444444444444,
              "#bd3786"
             ],
             [
              0.5555555555555556,
              "#d8576b"
             ],
             [
              0.6666666666666666,
              "#ed7953"
             ],
             [
              0.7777777777777778,
              "#fb9f3a"
             ],
             [
              0.8888888888888888,
              "#fdca26"
             ],
             [
              1,
              "#f0f921"
             ]
            ],
            "type": "histogram2dcontour"
           }
          ],
          "mesh3d": [
           {
            "colorbar": {
             "outlinewidth": 0,
             "ticks": ""
            },
            "type": "mesh3d"
           }
          ],
          "parcoords": [
           {
            "line": {
             "colorbar": {
              "outlinewidth": 0,
              "ticks": ""
             }
            },
            "type": "parcoords"
           }
          ],
          "pie": [
           {
            "automargin": true,
            "type": "pie"
           }
          ],
          "scatter": [
           {
            "fillpattern": {
             "fillmode": "overlay",
             "size": 10,
             "solidity": 0.2
            },
            "type": "scatter"
           }
          ],
          "scatter3d": [
           {
            "line": {
             "colorbar": {
              "outlinewidth": 0,
              "ticks": ""
             }
            },
            "marker": {
             "colorbar": {
              "outlinewidth": 0,
              "ticks": ""
             }
            },
            "type": "scatter3d"
           }
          ],
          "scattercarpet": [
           {
            "marker": {
             "colorbar": {
              "outlinewidth": 0,
              "ticks": ""
             }
            },
            "type": "scattercarpet"
           }
          ],
          "scattergeo": [
           {
            "marker": {
             "colorbar": {
              "outlinewidth": 0,
              "ticks": ""
             }
            },
            "type": "scattergeo"
           }
          ],
          "scattergl": [
           {
            "marker": {
             "colorbar": {
              "outlinewidth": 0,
              "ticks": ""
             }
            },
            "type": "scattergl"
           }
          ],
          "scattermapbox": [
           {
            "marker": {
             "colorbar": {
              "outlinewidth": 0,
              "ticks": ""
             }
            },
            "type": "scattermapbox"
           }
          ],
          "scatterpolar": [
           {
            "marker": {
             "colorbar": {
              "outlinewidth": 0,
              "ticks": ""
             }
            },
            "type": "scatterpolar"
           }
          ],
          "scatterpolargl": [
           {
            "marker": {
             "colorbar": {
              "outlinewidth": 0,
              "ticks": ""
             }
            },
            "type": "scatterpolargl"
           }
          ],
          "scatterternary": [
           {
            "marker": {
             "colorbar": {
              "outlinewidth": 0,
              "ticks": ""
             }
            },
            "type": "scatterternary"
           }
          ],
          "surface": [
           {
            "colorbar": {
             "outlinewidth": 0,
             "ticks": ""
            },
            "colorscale": [
             [
              0,
              "#0d0887"
             ],
             [
              0.1111111111111111,
              "#46039f"
             ],
             [
              0.2222222222222222,
              "#7201a8"
             ],
             [
              0.3333333333333333,
              "#9c179e"
             ],
             [
              0.4444444444444444,
              "#bd3786"
             ],
             [
              0.5555555555555556,
              "#d8576b"
             ],
             [
              0.6666666666666666,
              "#ed7953"
             ],
             [
              0.7777777777777778,
              "#fb9f3a"
             ],
             [
              0.8888888888888888,
              "#fdca26"
             ],
             [
              1,
              "#f0f921"
             ]
            ],
            "type": "surface"
           }
          ],
          "table": [
           {
            "cells": {
             "fill": {
              "color": "#EBF0F8"
             },
             "line": {
              "color": "white"
             }
            },
            "header": {
             "fill": {
              "color": "#C8D4E3"
             },
             "line": {
              "color": "white"
             }
            },
            "type": "table"
           }
          ]
         },
         "layout": {
          "annotationdefaults": {
           "arrowcolor": "#2a3f5f",
           "arrowhead": 0,
           "arrowwidth": 1
          },
          "autotypenumbers": "strict",
          "coloraxis": {
           "colorbar": {
            "outlinewidth": 0,
            "ticks": ""
           }
          },
          "colorscale": {
           "diverging": [
            [
             0,
             "#8e0152"
            ],
            [
             0.1,
             "#c51b7d"
            ],
            [
             0.2,
             "#de77ae"
            ],
            [
             0.3,
             "#f1b6da"
            ],
            [
             0.4,
             "#fde0ef"
            ],
            [
             0.5,
             "#f7f7f7"
            ],
            [
             0.6,
             "#e6f5d0"
            ],
            [
             0.7,
             "#b8e186"
            ],
            [
             0.8,
             "#7fbc41"
            ],
            [
             0.9,
             "#4d9221"
            ],
            [
             1,
             "#276419"
            ]
           ],
           "sequential": [
            [
             0,
             "#0d0887"
            ],
            [
             0.1111111111111111,
             "#46039f"
            ],
            [
             0.2222222222222222,
             "#7201a8"
            ],
            [
             0.3333333333333333,
             "#9c179e"
            ],
            [
             0.4444444444444444,
             "#bd3786"
            ],
            [
             0.5555555555555556,
             "#d8576b"
            ],
            [
             0.6666666666666666,
             "#ed7953"
            ],
            [
             0.7777777777777778,
             "#fb9f3a"
            ],
            [
             0.8888888888888888,
             "#fdca26"
            ],
            [
             1,
             "#f0f921"
            ]
           ],
           "sequentialminus": [
            [
             0,
             "#0d0887"
            ],
            [
             0.1111111111111111,
             "#46039f"
            ],
            [
             0.2222222222222222,
             "#7201a8"
            ],
            [
             0.3333333333333333,
             "#9c179e"
            ],
            [
             0.4444444444444444,
             "#bd3786"
            ],
            [
             0.5555555555555556,
             "#d8576b"
            ],
            [
             0.6666666666666666,
             "#ed7953"
            ],
            [
             0.7777777777777778,
             "#fb9f3a"
            ],
            [
             0.8888888888888888,
             "#fdca26"
            ],
            [
             1,
             "#f0f921"
            ]
           ]
          },
          "colorway": [
           "#636efa",
           "#EF553B",
           "#00cc96",
           "#ab63fa",
           "#FFA15A",
           "#19d3f3",
           "#FF6692",
           "#B6E880",
           "#FF97FF",
           "#FECB52"
          ],
          "font": {
           "color": "#2a3f5f"
          },
          "geo": {
           "bgcolor": "white",
           "lakecolor": "white",
           "landcolor": "#E5ECF6",
           "showlakes": true,
           "showland": true,
           "subunitcolor": "white"
          },
          "hoverlabel": {
           "align": "left"
          },
          "hovermode": "closest",
          "mapbox": {
           "style": "light"
          },
          "paper_bgcolor": "white",
          "plot_bgcolor": "#E5ECF6",
          "polar": {
           "angularaxis": {
            "gridcolor": "white",
            "linecolor": "white",
            "ticks": ""
           },
           "bgcolor": "#E5ECF6",
           "radialaxis": {
            "gridcolor": "white",
            "linecolor": "white",
            "ticks": ""
           }
          },
          "scene": {
           "xaxis": {
            "backgroundcolor": "#E5ECF6",
            "gridcolor": "white",
            "gridwidth": 2,
            "linecolor": "white",
            "showbackground": true,
            "ticks": "",
            "zerolinecolor": "white"
           },
           "yaxis": {
            "backgroundcolor": "#E5ECF6",
            "gridcolor": "white",
            "gridwidth": 2,
            "linecolor": "white",
            "showbackground": true,
            "ticks": "",
            "zerolinecolor": "white"
           },
           "zaxis": {
            "backgroundcolor": "#E5ECF6",
            "gridcolor": "white",
            "gridwidth": 2,
            "linecolor": "white",
            "showbackground": true,
            "ticks": "",
            "zerolinecolor": "white"
           }
          },
          "shapedefaults": {
           "line": {
            "color": "#2a3f5f"
           }
          },
          "ternary": {
           "aaxis": {
            "gridcolor": "white",
            "linecolor": "white",
            "ticks": ""
           },
           "baxis": {
            "gridcolor": "white",
            "linecolor": "white",
            "ticks": ""
           },
           "bgcolor": "#E5ECF6",
           "caxis": {
            "gridcolor": "white",
            "linecolor": "white",
            "ticks": ""
           }
          },
          "title": {
           "x": 0.05
          },
          "xaxis": {
           "automargin": true,
           "gridcolor": "white",
           "linecolor": "white",
           "ticks": "",
           "title": {
            "standoff": 15
           },
           "zerolinecolor": "white",
           "zerolinewidth": 2
          },
          "yaxis": {
           "automargin": true,
           "gridcolor": "white",
           "linecolor": "white",
           "ticks": "",
           "title": {
            "standoff": 15
           },
           "zerolinecolor": "white",
           "zerolinewidth": 2
          }
         }
        },
        "title": {
         "text": "Optimization History Plot"
        },
        "xaxis": {
         "title": {
          "text": "Trial"
         }
        },
        "yaxis": {
         "title": {
          "text": "Objective Value"
         }
        }
       }
      },
      "text/html": [
       "<div>                        <script type=\"text/javascript\">window.PlotlyConfig = {MathJaxConfig: 'local'};</script>\n",
       "        <script charset=\"utf-8\" src=\"https://cdn.plot.ly/plotly-2.25.2.min.js\"></script>                <div id=\"9cb975b1-41b8-4f2d-82f2-1d4cd6770ce9\" class=\"plotly-graph-div\" style=\"height:100%; width:100%;\"></div>            <script type=\"text/javascript\">                                    window.PLOTLYENV=window.PLOTLYENV || {};                                    if (document.getElementById(\"9cb975b1-41b8-4f2d-82f2-1d4cd6770ce9\")) {                    Plotly.newPlot(                        \"9cb975b1-41b8-4f2d-82f2-1d4cd6770ce9\",                        [{\"mode\":\"markers\",\"name\":\"Objective Value\",\"x\":[0,1,2,3,4,5,6,7,8,9,10,11,12,13,14,15,16,17,18,19],\"y\":[0.9621390194761585,0.9681260945709282,0.9681260945709282,0.94254707947654,0.9515671823114926,0.9544344995931652,0.9544344995931652,0.9681260945709282,0.9621390194761585,0.9681260945709282,0.9651123213070115,0.9178601842533096,0.9651123213070115,0.9178601842533096,0.9651123213070115,0.94254707947654,0.9178601842533096,0.9515671823114926,0.9487076254126742,0.9681260945709282],\"type\":\"scatter\"},{\"mode\":\"lines\",\"name\":\"Best Value\",\"x\":[0,1,2,3,4,5,6,7,8,9,10,11,12,13,14,15,16,17,18,19],\"y\":[0.9621390194761585,0.9681260945709282,0.9681260945709282,0.9681260945709282,0.9681260945709282,0.9681260945709282,0.9681260945709282,0.9681260945709282,0.9681260945709282,0.9681260945709282,0.9681260945709282,0.9681260945709282,0.9681260945709282,0.9681260945709282,0.9681260945709282,0.9681260945709282,0.9681260945709282,0.9681260945709282,0.9681260945709282,0.9681260945709282],\"type\":\"scatter\"},{\"marker\":{\"color\":\"#cccccc\"},\"mode\":\"markers\",\"name\":\"Infeasible Trial\",\"showlegend\":false,\"x\":[],\"y\":[],\"type\":\"scatter\"}],                        {\"title\":{\"text\":\"Optimization History Plot\"},\"xaxis\":{\"title\":{\"text\":\"Trial\"}},\"yaxis\":{\"title\":{\"text\":\"Objective Value\"}},\"template\":{\"data\":{\"histogram2dcontour\":[{\"type\":\"histogram2dcontour\",\"colorbar\":{\"outlinewidth\":0,\"ticks\":\"\"},\"colorscale\":[[0.0,\"#0d0887\"],[0.1111111111111111,\"#46039f\"],[0.2222222222222222,\"#7201a8\"],[0.3333333333333333,\"#9c179e\"],[0.4444444444444444,\"#bd3786\"],[0.5555555555555556,\"#d8576b\"],[0.6666666666666666,\"#ed7953\"],[0.7777777777777778,\"#fb9f3a\"],[0.8888888888888888,\"#fdca26\"],[1.0,\"#f0f921\"]]}],\"choropleth\":[{\"type\":\"choropleth\",\"colorbar\":{\"outlinewidth\":0,\"ticks\":\"\"}}],\"histogram2d\":[{\"type\":\"histogram2d\",\"colorbar\":{\"outlinewidth\":0,\"ticks\":\"\"},\"colorscale\":[[0.0,\"#0d0887\"],[0.1111111111111111,\"#46039f\"],[0.2222222222222222,\"#7201a8\"],[0.3333333333333333,\"#9c179e\"],[0.4444444444444444,\"#bd3786\"],[0.5555555555555556,\"#d8576b\"],[0.6666666666666666,\"#ed7953\"],[0.7777777777777778,\"#fb9f3a\"],[0.8888888888888888,\"#fdca26\"],[1.0,\"#f0f921\"]]}],\"heatmap\":[{\"type\":\"heatmap\",\"colorbar\":{\"outlinewidth\":0,\"ticks\":\"\"},\"colorscale\":[[0.0,\"#0d0887\"],[0.1111111111111111,\"#46039f\"],[0.2222222222222222,\"#7201a8\"],[0.3333333333333333,\"#9c179e\"],[0.4444444444444444,\"#bd3786\"],[0.5555555555555556,\"#d8576b\"],[0.6666666666666666,\"#ed7953\"],[0.7777777777777778,\"#fb9f3a\"],[0.8888888888888888,\"#fdca26\"],[1.0,\"#f0f921\"]]}],\"heatmapgl\":[{\"type\":\"heatmapgl\",\"colorbar\":{\"outlinewidth\":0,\"ticks\":\"\"},\"colorscale\":[[0.0,\"#0d0887\"],[0.1111111111111111,\"#46039f\"],[0.2222222222222222,\"#7201a8\"],[0.3333333333333333,\"#9c179e\"],[0.4444444444444444,\"#bd3786\"],[0.5555555555555556,\"#d8576b\"],[0.6666666666666666,\"#ed7953\"],[0.7777777777777778,\"#fb9f3a\"],[0.8888888888888888,\"#fdca26\"],[1.0,\"#f0f921\"]]}],\"contourcarpet\":[{\"type\":\"contourcarpet\",\"colorbar\":{\"outlinewidth\":0,\"ticks\":\"\"}}],\"contour\":[{\"type\":\"contour\",\"colorbar\":{\"outlinewidth\":0,\"ticks\":\"\"},\"colorscale\":[[0.0,\"#0d0887\"],[0.1111111111111111,\"#46039f\"],[0.2222222222222222,\"#7201a8\"],[0.3333333333333333,\"#9c179e\"],[0.4444444444444444,\"#bd3786\"],[0.5555555555555556,\"#d8576b\"],[0.6666666666666666,\"#ed7953\"],[0.7777777777777778,\"#fb9f3a\"],[0.8888888888888888,\"#fdca26\"],[1.0,\"#f0f921\"]]}],\"surface\":[{\"type\":\"surface\",\"colorbar\":{\"outlinewidth\":0,\"ticks\":\"\"},\"colorscale\":[[0.0,\"#0d0887\"],[0.1111111111111111,\"#46039f\"],[0.2222222222222222,\"#7201a8\"],[0.3333333333333333,\"#9c179e\"],[0.4444444444444444,\"#bd3786\"],[0.5555555555555556,\"#d8576b\"],[0.6666666666666666,\"#ed7953\"],[0.7777777777777778,\"#fb9f3a\"],[0.8888888888888888,\"#fdca26\"],[1.0,\"#f0f921\"]]}],\"mesh3d\":[{\"type\":\"mesh3d\",\"colorbar\":{\"outlinewidth\":0,\"ticks\":\"\"}}],\"scatter\":[{\"fillpattern\":{\"fillmode\":\"overlay\",\"size\":10,\"solidity\":0.2},\"type\":\"scatter\"}],\"parcoords\":[{\"type\":\"parcoords\",\"line\":{\"colorbar\":{\"outlinewidth\":0,\"ticks\":\"\"}}}],\"scatterpolargl\":[{\"type\":\"scatterpolargl\",\"marker\":{\"colorbar\":{\"outlinewidth\":0,\"ticks\":\"\"}}}],\"bar\":[{\"error_x\":{\"color\":\"#2a3f5f\"},\"error_y\":{\"color\":\"#2a3f5f\"},\"marker\":{\"line\":{\"color\":\"#E5ECF6\",\"width\":0.5},\"pattern\":{\"fillmode\":\"overlay\",\"size\":10,\"solidity\":0.2}},\"type\":\"bar\"}],\"scattergeo\":[{\"type\":\"scattergeo\",\"marker\":{\"colorbar\":{\"outlinewidth\":0,\"ticks\":\"\"}}}],\"scatterpolar\":[{\"type\":\"scatterpolar\",\"marker\":{\"colorbar\":{\"outlinewidth\":0,\"ticks\":\"\"}}}],\"histogram\":[{\"marker\":{\"pattern\":{\"fillmode\":\"overlay\",\"size\":10,\"solidity\":0.2}},\"type\":\"histogram\"}],\"scattergl\":[{\"type\":\"scattergl\",\"marker\":{\"colorbar\":{\"outlinewidth\":0,\"ticks\":\"\"}}}],\"scatter3d\":[{\"type\":\"scatter3d\",\"line\":{\"colorbar\":{\"outlinewidth\":0,\"ticks\":\"\"}},\"marker\":{\"colorbar\":{\"outlinewidth\":0,\"ticks\":\"\"}}}],\"scattermapbox\":[{\"type\":\"scattermapbox\",\"marker\":{\"colorbar\":{\"outlinewidth\":0,\"ticks\":\"\"}}}],\"scatterternary\":[{\"type\":\"scatterternary\",\"marker\":{\"colorbar\":{\"outlinewidth\":0,\"ticks\":\"\"}}}],\"scattercarpet\":[{\"type\":\"scattercarpet\",\"marker\":{\"colorbar\":{\"outlinewidth\":0,\"ticks\":\"\"}}}],\"carpet\":[{\"aaxis\":{\"endlinecolor\":\"#2a3f5f\",\"gridcolor\":\"white\",\"linecolor\":\"white\",\"minorgridcolor\":\"white\",\"startlinecolor\":\"#2a3f5f\"},\"baxis\":{\"endlinecolor\":\"#2a3f5f\",\"gridcolor\":\"white\",\"linecolor\":\"white\",\"minorgridcolor\":\"white\",\"startlinecolor\":\"#2a3f5f\"},\"type\":\"carpet\"}],\"table\":[{\"cells\":{\"fill\":{\"color\":\"#EBF0F8\"},\"line\":{\"color\":\"white\"}},\"header\":{\"fill\":{\"color\":\"#C8D4E3\"},\"line\":{\"color\":\"white\"}},\"type\":\"table\"}],\"barpolar\":[{\"marker\":{\"line\":{\"color\":\"#E5ECF6\",\"width\":0.5},\"pattern\":{\"fillmode\":\"overlay\",\"size\":10,\"solidity\":0.2}},\"type\":\"barpolar\"}],\"pie\":[{\"automargin\":true,\"type\":\"pie\"}]},\"layout\":{\"autotypenumbers\":\"strict\",\"colorway\":[\"#636efa\",\"#EF553B\",\"#00cc96\",\"#ab63fa\",\"#FFA15A\",\"#19d3f3\",\"#FF6692\",\"#B6E880\",\"#FF97FF\",\"#FECB52\"],\"font\":{\"color\":\"#2a3f5f\"},\"hovermode\":\"closest\",\"hoverlabel\":{\"align\":\"left\"},\"paper_bgcolor\":\"white\",\"plot_bgcolor\":\"#E5ECF6\",\"polar\":{\"bgcolor\":\"#E5ECF6\",\"angularaxis\":{\"gridcolor\":\"white\",\"linecolor\":\"white\",\"ticks\":\"\"},\"radialaxis\":{\"gridcolor\":\"white\",\"linecolor\":\"white\",\"ticks\":\"\"}},\"ternary\":{\"bgcolor\":\"#E5ECF6\",\"aaxis\":{\"gridcolor\":\"white\",\"linecolor\":\"white\",\"ticks\":\"\"},\"baxis\":{\"gridcolor\":\"white\",\"linecolor\":\"white\",\"ticks\":\"\"},\"caxis\":{\"gridcolor\":\"white\",\"linecolor\":\"white\",\"ticks\":\"\"}},\"coloraxis\":{\"colorbar\":{\"outlinewidth\":0,\"ticks\":\"\"}},\"colorscale\":{\"sequential\":[[0.0,\"#0d0887\"],[0.1111111111111111,\"#46039f\"],[0.2222222222222222,\"#7201a8\"],[0.3333333333333333,\"#9c179e\"],[0.4444444444444444,\"#bd3786\"],[0.5555555555555556,\"#d8576b\"],[0.6666666666666666,\"#ed7953\"],[0.7777777777777778,\"#fb9f3a\"],[0.8888888888888888,\"#fdca26\"],[1.0,\"#f0f921\"]],\"sequentialminus\":[[0.0,\"#0d0887\"],[0.1111111111111111,\"#46039f\"],[0.2222222222222222,\"#7201a8\"],[0.3333333333333333,\"#9c179e\"],[0.4444444444444444,\"#bd3786\"],[0.5555555555555556,\"#d8576b\"],[0.6666666666666666,\"#ed7953\"],[0.7777777777777778,\"#fb9f3a\"],[0.8888888888888888,\"#fdca26\"],[1.0,\"#f0f921\"]],\"diverging\":[[0,\"#8e0152\"],[0.1,\"#c51b7d\"],[0.2,\"#de77ae\"],[0.3,\"#f1b6da\"],[0.4,\"#fde0ef\"],[0.5,\"#f7f7f7\"],[0.6,\"#e6f5d0\"],[0.7,\"#b8e186\"],[0.8,\"#7fbc41\"],[0.9,\"#4d9221\"],[1,\"#276419\"]]},\"xaxis\":{\"gridcolor\":\"white\",\"linecolor\":\"white\",\"ticks\":\"\",\"title\":{\"standoff\":15},\"zerolinecolor\":\"white\",\"automargin\":true,\"zerolinewidth\":2},\"yaxis\":{\"gridcolor\":\"white\",\"linecolor\":\"white\",\"ticks\":\"\",\"title\":{\"standoff\":15},\"zerolinecolor\":\"white\",\"automargin\":true,\"zerolinewidth\":2},\"scene\":{\"xaxis\":{\"backgroundcolor\":\"#E5ECF6\",\"gridcolor\":\"white\",\"linecolor\":\"white\",\"showbackground\":true,\"ticks\":\"\",\"zerolinecolor\":\"white\",\"gridwidth\":2},\"yaxis\":{\"backgroundcolor\":\"#E5ECF6\",\"gridcolor\":\"white\",\"linecolor\":\"white\",\"showbackground\":true,\"ticks\":\"\",\"zerolinecolor\":\"white\",\"gridwidth\":2},\"zaxis\":{\"backgroundcolor\":\"#E5ECF6\",\"gridcolor\":\"white\",\"linecolor\":\"white\",\"showbackground\":true,\"ticks\":\"\",\"zerolinecolor\":\"white\",\"gridwidth\":2}},\"shapedefaults\":{\"line\":{\"color\":\"#2a3f5f\"}},\"annotationdefaults\":{\"arrowcolor\":\"#2a3f5f\",\"arrowhead\":0,\"arrowwidth\":1},\"geo\":{\"bgcolor\":\"white\",\"landcolor\":\"#E5ECF6\",\"subunitcolor\":\"white\",\"showland\":true,\"showlakes\":true,\"lakecolor\":\"white\"},\"title\":{\"x\":0.05},\"mapbox\":{\"style\":\"light\"}}}},                        {\"responsive\": true}                    )                };                            </script>        </div>"
      ],
      "text/plain": [
       "Figure({\n",
       "    'data': [{'mode': 'markers',\n",
       "              'name': 'Objective Value',\n",
       "              'type': 'scatter',\n",
       "              'x': [0, 1, 2, 3, 4, 5, 6, 7, 8, 9, 10, 11, 12, 13, 14, 15, 16, 17,\n",
       "                    18, 19],\n",
       "              'y': [0.9621390194761585, 0.9681260945709282, 0.9681260945709282,\n",
       "                    0.94254707947654, 0.9515671823114926, 0.9544344995931652,\n",
       "                    0.9544344995931652, 0.9681260945709282, 0.9621390194761585,\n",
       "                    0.9681260945709282, 0.9651123213070115, 0.9178601842533096,\n",
       "                    0.9651123213070115, 0.9178601842533096, 0.9651123213070115,\n",
       "                    0.94254707947654, 0.9178601842533096, 0.9515671823114926,\n",
       "                    0.9487076254126742, 0.9681260945709282]},\n",
       "             {'mode': 'lines',\n",
       "              'name': 'Best Value',\n",
       "              'type': 'scatter',\n",
       "              'x': [0, 1, 2, 3, 4, 5, 6, 7, 8, 9, 10, 11, 12, 13, 14, 15, 16, 17,\n",
       "                    18, 19],\n",
       "              'y': [0.9621390194761585, 0.9681260945709282, 0.9681260945709282,\n",
       "                    0.9681260945709282, 0.9681260945709282, 0.9681260945709282,\n",
       "                    0.9681260945709282, 0.9681260945709282, 0.9681260945709282,\n",
       "                    0.9681260945709282, 0.9681260945709282, 0.9681260945709282,\n",
       "                    0.9681260945709282, 0.9681260945709282, 0.9681260945709282,\n",
       "                    0.9681260945709282, 0.9681260945709282, 0.9681260945709282,\n",
       "                    0.9681260945709282, 0.9681260945709282]},\n",
       "             {'marker': {'color': '#cccccc'},\n",
       "              'mode': 'markers',\n",
       "              'name': 'Infeasible Trial',\n",
       "              'showlegend': False,\n",
       "              'type': 'scatter',\n",
       "              'x': [],\n",
       "              'y': []}],\n",
       "    'layout': {'template': '...',\n",
       "               'title': {'text': 'Optimization History Plot'},\n",
       "               'xaxis': {'title': {'text': 'Trial'}},\n",
       "               'yaxis': {'title': {'text': 'Objective Value'}}}\n",
       "})"
      ]
     },
     "execution_count": 29,
     "metadata": {},
     "output_type": "execute_result"
    }
   ],
   "source": [
    "optuna.visualization.plot_optimization_history(study)"
   ]
  },
  {
   "cell_type": "code",
   "execution_count": 30,
   "metadata": {},
   "outputs": [
    {
     "data": {
      "text/plain": [
       "{'n_neighbors': 2}"
      ]
     },
     "execution_count": 30,
     "metadata": {},
     "output_type": "execute_result"
    }
   ],
   "source": [
    "knn_best_params = study.best_params\n",
    "knn_best_params"
   ]
  },
  {
   "cell_type": "code",
   "execution_count": 8,
   "metadata": {},
   "outputs": [],
   "source": [
    "# dataset_types = np.unique(df_all_knn['Dataset'])\n",
    "# cont = 0\n",
    "# for i in dataset_types:\n",
    "#     cont += 1\n",
    "#     subset = df_all_knn.loc[df_all_knn['Dataset'] == i]\n",
    "    \n",
    "#     plt.subplot(1,3, cont)\n",
    "#     plt.plot(subset['n_neighbors'],subset['Accuracy'], label='Acurácia')\n",
    "#     plt.plot(subset['n_neighbors'],subset['Precision'], label='Precisão')\n",
    "#     plt.plot(subset['n_neighbors'],subset['Recall'], label='Recall')\n",
    "#     plt.plot(subset['n_neighbors'],subset['f1-Score'], label='F1-Score')\n",
    "#     plt.title('Algoritmo KNN: Métricas no conjunto de dados de '+ i)\n",
    "#     plt.legend()\n",
    "#     #for indices, linha in df_all_knn.iterrows():\n",
    "\n"
   ]
  },
  {
   "cell_type": "markdown",
   "metadata": {},
   "source": [
    "## Random Forest"
   ]
  },
  {
   "cell_type": "code",
   "execution_count": 5,
   "metadata": {},
   "outputs": [],
   "source": [
    "def rf_fine_tuning(trial):\n",
    "    n_estimators = trial.suggest_int('n_estimators', 5, 30)\n",
    "    max_depth = trial.suggest_int('max_depth', 5, 30)\n",
    "\n",
    "    rf_model = RandomForestClassifier(n_estimators = n_estimators, max_depth=max_depth)\n",
    "\n",
    "    rf_model.fit(X_train, y_train)\n",
    "\n",
    "    y_pred = rf_model.predict(X_val)\n",
    "\n",
    "    return f1_score(y_val, y_pred)"
   ]
  },
  {
   "cell_type": "code",
   "execution_count": 8,
   "metadata": {},
   "outputs": [
    {
     "name": "stderr",
     "output_type": "stream",
     "text": [
      "[I 2023-08-20 17:16:06,826] A new study created in memory with name: no-name-f2589c81-a63f-4314-b6b7-350ccad05f6b\n"
     ]
    },
    {
     "name": "stderr",
     "output_type": "stream",
     "text": [
      "[I 2023-08-20 17:16:09,412] Trial 0 finished with value: 0.9539426455586203 and parameters: {'n_estimators': 16, 'max_depth': 27}. Best is trial 0 with value: 0.9539426455586203.\n",
      "[I 2023-08-20 17:16:11,878] Trial 1 finished with value: 0.9485015565807734 and parameters: {'n_estimators': 9, 'max_depth': 28}. Best is trial 0 with value: 0.9539426455586203.\n",
      "[I 2023-08-20 17:16:16,662] Trial 2 finished with value: 0.9460138810729695 and parameters: {'n_estimators': 27, 'max_depth': 12}. Best is trial 0 with value: 0.9539426455586203.\n",
      "[I 2023-08-20 17:16:17,727] Trial 3 finished with value: 0.9471666917180219 and parameters: {'n_estimators': 7, 'max_depth': 17}. Best is trial 0 with value: 0.9539426455586203.\n",
      "[I 2023-08-20 17:16:22,512] Trial 4 finished with value: 0.9535871321733247 and parameters: {'n_estimators': 19, 'max_depth': 24}. Best is trial 0 with value: 0.9539426455586203.\n",
      "[I 2023-08-20 17:16:26,821] Trial 5 finished with value: 0.9543384152079805 and parameters: {'n_estimators': 24, 'max_depth': 19}. Best is trial 5 with value: 0.9543384152079805.\n",
      "[I 2023-08-20 17:16:28,625] Trial 6 finished with value: 0.9002995942204861 and parameters: {'n_estimators': 20, 'max_depth': 5}. Best is trial 5 with value: 0.9543384152079805.\n",
      "[I 2023-08-20 17:16:31,842] Trial 7 finished with value: 0.9488990756744571 and parameters: {'n_estimators': 22, 'max_depth': 14}. Best is trial 5 with value: 0.9543384152079805.\n",
      "[I 2023-08-20 17:16:33,747] Trial 8 finished with value: 0.9508468197214905 and parameters: {'n_estimators': 12, 'max_depth': 18}. Best is trial 5 with value: 0.9543384152079805.\n",
      "[I 2023-08-20 17:16:34,161] Trial 9 finished with value: 0.9181023255813955 and parameters: {'n_estimators': 6, 'max_depth': 6}. Best is trial 5 with value: 0.9543384152079805.\n",
      "[I 2023-08-20 17:16:38,571] Trial 10 finished with value: 0.9543315387221867 and parameters: {'n_estimators': 29, 'max_depth': 21}. Best is trial 5 with value: 0.9543384152079805.\n",
      "[I 2023-08-20 17:16:43,550] Trial 11 finished with value: 0.9549583506087219 and parameters: {'n_estimators': 30, 'max_depth': 22}. Best is trial 11 with value: 0.9549583506087219.\n",
      "[I 2023-08-20 17:16:47,651] Trial 12 finished with value: 0.9523164861612515 and parameters: {'n_estimators': 25, 'max_depth': 22}. Best is trial 11 with value: 0.9549583506087219.\n",
      "[I 2023-08-20 17:16:52,132] Trial 13 finished with value: 0.9513066365858245 and parameters: {'n_estimators': 30, 'max_depth': 18}. Best is trial 11 with value: 0.9549583506087219.\n",
      "[I 2023-08-20 17:16:55,964] Trial 14 finished with value: 0.9522370012091899 and parameters: {'n_estimators': 24, 'max_depth': 30}. Best is trial 11 with value: 0.9549583506087219.\n",
      "[I 2023-08-20 17:16:59,168] Trial 15 finished with value: 0.9406047919859455 and parameters: {'n_estimators': 26, 'max_depth': 11}. Best is trial 11 with value: 0.9549583506087219.\n",
      "[I 2023-08-20 17:17:04,466] Trial 16 finished with value: 0.9540793243854623 and parameters: {'n_estimators': 30, 'max_depth': 25}. Best is trial 11 with value: 0.9549583506087219.\n",
      "[I 2023-08-20 17:17:07,250] Trial 17 finished with value: 0.9514241637506115 and parameters: {'n_estimators': 16, 'max_depth': 21}. Best is trial 11 with value: 0.9549583506087219.\n",
      "[I 2023-08-20 17:17:10,281] Trial 18 finished with value: 0.9504631192110099 and parameters: {'n_estimators': 22, 'max_depth': 14}. Best is trial 11 with value: 0.9549583506087219.\n",
      "[I 2023-08-20 17:17:14,956] Trial 19 finished with value: 0.9541484716157206 and parameters: {'n_estimators': 28, 'max_depth': 24}. Best is trial 11 with value: 0.9549583506087219.\n",
      "[I 2023-08-20 17:17:18,790] Trial 20 finished with value: 0.9533834586466164 and parameters: {'n_estimators': 23, 'max_depth': 19}. Best is trial 11 with value: 0.9549583506087219.\n",
      "[I 2023-08-20 17:17:23,400] Trial 21 finished with value: 0.9532815914399819 and parameters: {'n_estimators': 29, 'max_depth': 21}. Best is trial 11 with value: 0.9549583506087219.\n",
      "[I 2023-08-20 17:17:27,114] Trial 22 finished with value: 0.9514066496163682 and parameters: {'n_estimators': 27, 'max_depth': 15}. Best is trial 11 with value: 0.9549583506087219.\n",
      "[I 2023-08-20 17:17:31,845] Trial 23 finished with value: 0.9535225602171209 and parameters: {'n_estimators': 30, 'max_depth': 21}. Best is trial 11 with value: 0.9549583506087219.\n",
      "[I 2023-08-20 17:17:35,568] Trial 24 finished with value: 0.9545522949586155 and parameters: {'n_estimators': 25, 'max_depth': 26}. Best is trial 11 with value: 0.9549583506087219.\n",
      "[I 2023-08-20 17:17:38,939] Trial 25 finished with value: 0.9543549665873825 and parameters: {'n_estimators': 20, 'max_depth': 27}. Best is trial 11 with value: 0.9549583506087219.\n",
      "[I 2023-08-20 17:17:42,253] Trial 26 finished with value: 0.9530903208817666 and parameters: {'n_estimators': 19, 'max_depth': 27}. Best is trial 11 with value: 0.9549583506087219.\n",
      "[I 2023-08-20 17:17:44,568] Trial 27 finished with value: 0.9507407685944198 and parameters: {'n_estimators': 13, 'max_depth': 30}. Best is trial 11 with value: 0.9549583506087219.\n",
      "[I 2023-08-20 17:17:48,646] Trial 28 finished with value: 0.9534551470035341 and parameters: {'n_estimators': 21, 'max_depth': 25}. Best is trial 11 with value: 0.9549583506087219.\n",
      "[I 2023-08-20 17:17:51,418] Trial 29 finished with value: 0.951077351182642 and parameters: {'n_estimators': 17, 'max_depth': 27}. Best is trial 11 with value: 0.9549583506087219.\n",
      "[I 2023-08-20 17:17:55,329] Trial 30 finished with value: 0.9538890774045168 and parameters: {'n_estimators': 26, 'max_depth': 23}. Best is trial 11 with value: 0.9549583506087219.\n",
      "[I 2023-08-20 17:17:58,985] Trial 31 finished with value: 0.9530241859412142 and parameters: {'n_estimators': 24, 'max_depth': 26}. Best is trial 11 with value: 0.9549583506087219.\n",
      "[I 2023-08-20 17:18:03,433] Trial 32 finished with value: 0.9541886792452831 and parameters: {'n_estimators': 24, 'max_depth': 28}. Best is trial 11 with value: 0.9549583506087219.\n",
      "[I 2023-08-20 17:18:07,670] Trial 33 finished with value: 0.9519851913414681 and parameters: {'n_estimators': 18, 'max_depth': 29}. Best is trial 11 with value: 0.9549583506087219.\n",
      "[I 2023-08-20 17:18:10,852] Trial 34 finished with value: 0.9514738546097955 and parameters: {'n_estimators': 14, 'max_depth': 19}. Best is trial 11 with value: 0.9549583506087219.\n",
      "[I 2023-08-20 17:18:15,559] Trial 35 finished with value: 0.953849625756949 and parameters: {'n_estimators': 27, 'max_depth': 23}. Best is trial 11 with value: 0.9549583506087219.\n",
      "[I 2023-08-20 17:18:19,176] Trial 36 finished with value: 0.9520790883706889 and parameters: {'n_estimators': 20, 'max_depth': 26}. Best is trial 11 with value: 0.9549583506087219.\n",
      "[I 2023-08-20 17:18:22,829] Trial 37 finished with value: 0.9535094339622641 and parameters: {'n_estimators': 22, 'max_depth': 28}. Best is trial 11 with value: 0.9549583506087219.\n",
      "[I 2023-08-20 17:18:24,310] Trial 38 finished with value: 0.9512140118770201 and parameters: {'n_estimators': 10, 'max_depth': 16}. Best is trial 11 with value: 0.9549583506087219.\n",
      "[I 2023-08-20 17:18:28,170] Trial 39 finished with value: 0.9533082706766919 and parameters: {'n_estimators': 25, 'max_depth': 23}. Best is trial 11 with value: 0.9549583506087219.\n",
      "[I 2023-08-20 17:18:30,281] Trial 40 finished with value: 0.9409609272761263 and parameters: {'n_estimators': 20, 'max_depth': 11}. Best is trial 11 with value: 0.9549583506087219.\n",
      "[I 2023-08-20 17:18:34,647] Trial 41 finished with value: 0.9533145539906103 and parameters: {'n_estimators': 28, 'max_depth': 19}. Best is trial 11 with value: 0.9549583506087219.\n",
      "[I 2023-08-20 17:18:39,268] Trial 42 finished with value: 0.9532414727806642 and parameters: {'n_estimators': 28, 'max_depth': 20}. Best is trial 11 with value: 0.9549583506087219.\n",
      "[I 2023-08-20 17:18:42,797] Trial 43 finished with value: 0.9521300617191027 and parameters: {'n_estimators': 26, 'max_depth': 17}. Best is trial 11 with value: 0.9549583506087219.\n",
      "[I 2023-08-20 17:18:49,538] Trial 44 finished with value: 0.9534060971019949 and parameters: {'n_estimators': 29, 'max_depth': 22}. Best is trial 11 with value: 0.9549583506087219.\n",
      "[I 2023-08-20 17:18:55,154] Trial 45 finished with value: 0.953422803653998 and parameters: {'n_estimators': 23, 'max_depth': 25}. Best is trial 11 with value: 0.9549583506087219.\n",
      "[I 2023-08-20 17:18:59,637] Trial 46 finished with value: 0.9529473763457051 and parameters: {'n_estimators': 25, 'max_depth': 22}. Best is trial 11 with value: 0.9549583506087219.\n",
      "[I 2023-08-20 17:19:03,896] Trial 47 finished with value: 0.9531055783645335 and parameters: {'n_estimators': 29, 'max_depth': 24}. Best is trial 11 with value: 0.9549583506087219.\n",
      "[I 2023-08-20 17:19:09,982] Trial 48 finished with value: 0.9513854946046546 and parameters: {'n_estimators': 27, 'max_depth': 20}. Best is trial 11 with value: 0.9549583506087219.\n",
      "[I 2023-08-20 17:19:15,263] Trial 49 finished with value: 0.9531373508487974 and parameters: {'n_estimators': 23, 'max_depth': 26}. Best is trial 11 with value: 0.9549583506087219.\n",
      "[I 2023-08-20 17:19:17,099] Trial 50 finished with value: 0.9272148342386215 and parameters: {'n_estimators': 21, 'max_depth': 8}. Best is trial 11 with value: 0.9549583506087219.\n",
      "[I 2023-08-20 17:19:21,051] Trial 51 finished with value: 0.9533831183525684 and parameters: {'n_estimators': 24, 'max_depth': 28}. Best is trial 11 with value: 0.9549583506087219.\n",
      "[I 2023-08-20 17:19:26,172] Trial 52 finished with value: 0.9528823374572255 and parameters: {'n_estimators': 25, 'max_depth': 29}. Best is trial 11 with value: 0.9549583506087219.\n",
      "[I 2023-08-20 17:19:33,282] Trial 53 finished with value: 0.9546604250821096 and parameters: {'n_estimators': 30, 'max_depth': 29}. Best is trial 11 with value: 0.9549583506087219.\n",
      "[I 2023-08-20 17:19:38,063] Trial 54 finished with value: 0.9553114655431839 and parameters: {'n_estimators': 29, 'max_depth': 30}. Best is trial 54 with value: 0.9553114655431839.\n",
      "[I 2023-08-20 17:19:43,296] Trial 55 finished with value: 0.9543706161852326 and parameters: {'n_estimators': 30, 'max_depth': 30}. Best is trial 54 with value: 0.9553114655431839.\n",
      "[I 2023-08-20 17:19:47,781] Trial 56 finished with value: 0.9541249764017368 and parameters: {'n_estimators': 30, 'max_depth': 30}. Best is trial 54 with value: 0.9553114655431839.\n",
      "[I 2023-08-20 17:19:51,697] Trial 57 finished with value: 0.9530890289466732 and parameters: {'n_estimators': 28, 'max_depth': 29}. Best is trial 54 with value: 0.9553114655431839.\n",
      "[I 2023-08-20 17:19:56,949] Trial 58 finished with value: 0.9537208162033719 and parameters: {'n_estimators': 30, 'max_depth': 30}. Best is trial 54 with value: 0.9553114655431839.\n",
      "[I 2023-08-20 17:20:02,681] Trial 59 finished with value: 0.9534918723660446 and parameters: {'n_estimators': 29, 'max_depth': 27}. Best is trial 54 with value: 0.9553114655431839.\n",
      "[I 2023-08-20 17:20:07,211] Trial 60 finished with value: 0.9542119718574815 and parameters: {'n_estimators': 27, 'max_depth': 28}. Best is trial 54 with value: 0.9553114655431839.\n",
      "[I 2023-08-20 17:20:12,511] Trial 61 finished with value: 0.9547871337531582 and parameters: {'n_estimators': 30, 'max_depth': 29}. Best is trial 54 with value: 0.9553114655431839.\n",
      "[I 2023-08-20 17:20:17,044] Trial 62 finished with value: 0.9545694664553618 and parameters: {'n_estimators': 30, 'max_depth': 29}. Best is trial 54 with value: 0.9553114655431839.\n",
      "[I 2023-08-20 17:20:22,909] Trial 63 finished with value: 0.9540377358490566 and parameters: {'n_estimators': 30, 'max_depth': 29}. Best is trial 54 with value: 0.9553114655431839.\n",
      "[I 2023-08-20 17:20:28,956] Trial 64 finished with value: 0.9552216265196708 and parameters: {'n_estimators': 28, 'max_depth': 30}. Best is trial 54 with value: 0.9553114655431839.\n",
      "[I 2023-08-20 17:20:33,718] Trial 65 finished with value: 0.9547325102880658 and parameters: {'n_estimators': 28, 'max_depth': 29}. Best is trial 54 with value: 0.9553114655431839.\n",
      "[I 2023-08-20 17:20:40,041] Trial 66 finished with value: 0.9555664246209413 and parameters: {'n_estimators': 29, 'max_depth': 29}. Best is trial 66 with value: 0.9555664246209413.\n",
      "[I 2023-08-20 17:20:46,034] Trial 67 finished with value: 0.9535435740929129 and parameters: {'n_estimators': 28, 'max_depth': 27}. Best is trial 66 with value: 0.9555664246209413.\n",
      "[I 2023-08-20 17:20:51,436] Trial 68 finished with value: 0.9534271311413739 and parameters: {'n_estimators': 29, 'max_depth': 29}. Best is trial 66 with value: 0.9555664246209413.\n",
      "[I 2023-08-20 17:20:55,402] Trial 69 finished with value: 0.9540862484921592 and parameters: {'n_estimators': 26, 'max_depth': 30}. Best is trial 66 with value: 0.9555664246209413.\n",
      "[I 2023-08-20 17:21:00,168] Trial 70 finished with value: 0.9536543909348442 and parameters: {'n_estimators': 28, 'max_depth': 28}. Best is trial 66 with value: 0.9555664246209413.\n",
      "[I 2023-08-20 17:21:04,145] Trial 71 finished with value: 0.9556935817805382 and parameters: {'n_estimators': 29, 'max_depth': 29}. Best is trial 71 with value: 0.9556935817805382.\n",
      "[I 2023-08-20 17:21:08,178] Trial 72 finished with value: 0.9556316561923757 and parameters: {'n_estimators': 29, 'max_depth': 28}. Best is trial 71 with value: 0.9556935817805382.\n",
      "[I 2023-08-20 17:21:12,048] Trial 73 finished with value: 0.9541866525663784 and parameters: {'n_estimators': 28, 'max_depth': 28}. Best is trial 71 with value: 0.9556935817805382.\n",
      "[I 2023-08-20 17:21:12,904] Trial 74 finished with value: 0.9403427200119988 and parameters: {'n_estimators': 5, 'max_depth': 30}. Best is trial 71 with value: 0.9556935817805382.\n",
      "[I 2023-08-20 17:21:17,717] Trial 75 finished with value: 0.9535076482555949 and parameters: {'n_estimators': 29, 'max_depth': 26}. Best is trial 71 with value: 0.9556935817805382.\n",
      "[I 2023-08-20 17:21:21,587] Trial 76 finished with value: 0.9526462395543176 and parameters: {'n_estimators': 27, 'max_depth': 27}. Best is trial 71 with value: 0.9556935817805382.\n",
      "[I 2023-08-20 17:21:25,986] Trial 77 finished with value: 0.9536528477917389 and parameters: {'n_estimators': 29, 'max_depth': 25}. Best is trial 71 with value: 0.9556935817805382.\n",
      "[I 2023-08-20 17:21:30,292] Trial 78 finished with value: 0.952463593148721 and parameters: {'n_estimators': 26, 'max_depth': 28}. Best is trial 71 with value: 0.9556935817805382.\n",
      "[I 2023-08-20 17:21:34,732] Trial 79 finished with value: 0.9528965076500883 and parameters: {'n_estimators': 27, 'max_depth': 30}. Best is trial 71 with value: 0.9556935817805382.\n",
      "[I 2023-08-20 17:21:35,899] Trial 80 finished with value: 0.9471569370735405 and parameters: {'n_estimators': 8, 'max_depth': 29}. Best is trial 71 with value: 0.9556935817805382.\n",
      "[I 2023-08-20 17:21:40,078] Trial 81 finished with value: 0.9545265859089022 and parameters: {'n_estimators': 30, 'max_depth': 29}. Best is trial 71 with value: 0.9556935817805382.\n",
      "[I 2023-08-20 17:21:44,278] Trial 82 finished with value: 0.9547715965626413 and parameters: {'n_estimators': 28, 'max_depth': 28}. Best is trial 71 with value: 0.9556935817805382.\n",
      "[I 2023-08-20 17:21:49,179] Trial 83 finished with value: 0.9547269303201507 and parameters: {'n_estimators': 29, 'max_depth': 27}. Best is trial 71 with value: 0.9556935817805382.\n",
      "[I 2023-08-20 17:21:53,307] Trial 84 finished with value: 0.9532971178512147 and parameters: {'n_estimators': 28, 'max_depth': 28}. Best is trial 71 with value: 0.9556935817805382.\n",
      "[I 2023-08-20 17:21:56,680] Trial 85 finished with value: 0.954270013926004 and parameters: {'n_estimators': 27, 'max_depth': 30}. Best is trial 71 with value: 0.9556935817805382.\n",
      "[I 2023-08-20 17:22:00,249] Trial 86 finished with value: 0.953957267529341 and parameters: {'n_estimators': 29, 'max_depth': 27}. Best is trial 71 with value: 0.9556935817805382.\n",
      "[I 2023-08-20 17:22:04,478] Trial 87 finished with value: 0.9541395033349663 and parameters: {'n_estimators': 28, 'max_depth': 26}. Best is trial 71 with value: 0.9556935817805382.\n",
      "[I 2023-08-20 17:22:08,065] Trial 88 finished with value: 0.9528376694483254 and parameters: {'n_estimators': 26, 'max_depth': 28}. Best is trial 71 with value: 0.9556935817805382.\n",
      "[I 2023-08-20 17:22:12,068] Trial 89 finished with value: 0.9546516007532957 and parameters: {'n_estimators': 29, 'max_depth': 24}. Best is trial 71 with value: 0.9556935817805382.\n",
      "[I 2023-08-20 17:22:14,249] Trial 90 finished with value: 0.9521406785404978 and parameters: {'n_estimators': 15, 'max_depth': 29}. Best is trial 71 with value: 0.9556935817805382.\n",
      "[I 2023-08-20 17:22:18,391] Trial 91 finished with value: 0.9538345864661653 and parameters: {'n_estimators': 29, 'max_depth': 27}. Best is trial 71 with value: 0.9556935817805382.\n",
      "[I 2023-08-20 17:22:22,046] Trial 92 finished with value: 0.9539248504908415 and parameters: {'n_estimators': 27, 'max_depth': 30}. Best is trial 71 with value: 0.9556935817805382.\n",
      "[I 2023-08-20 17:22:25,450] Trial 93 finished with value: 0.9527077990647157 and parameters: {'n_estimators': 28, 'max_depth': 25}. Best is trial 71 with value: 0.9556935817805382.\n",
      "[I 2023-08-20 17:22:28,919] Trial 94 finished with value: 0.9544514236280889 and parameters: {'n_estimators': 29, 'max_depth': 28}. Best is trial 71 with value: 0.9556935817805382.\n",
      "[I 2023-08-20 17:22:32,419] Trial 95 finished with value: 0.9543621631807047 and parameters: {'n_estimators': 30, 'max_depth': 29}. Best is trial 71 with value: 0.9556935817805382.\n",
      "[I 2023-08-20 17:22:36,409] Trial 96 finished with value: 0.9540381074072681 and parameters: {'n_estimators': 29, 'max_depth': 27}. Best is trial 71 with value: 0.9556935817805382.\n",
      "[I 2023-08-20 17:22:40,101] Trial 97 finished with value: 0.9538972308156645 and parameters: {'n_estimators': 30, 'max_depth': 30}. Best is trial 71 with value: 0.9556935817805382.\n",
      "[I 2023-08-20 17:22:41,494] Trial 98 finished with value: 0.949686714441151 and parameters: {'n_estimators': 11, 'max_depth': 28}. Best is trial 71 with value: 0.9556935817805382.\n",
      "[I 2023-08-20 17:22:44,890] Trial 99 finished with value: 0.9537092882991557 and parameters: {'n_estimators': 28, 'max_depth': 29}. Best is trial 71 with value: 0.9556935817805382.\n"
     ]
    }
   ],
   "source": [
    "study = optuna.create_study(direction='maximize')\n",
    "study.optimize(rf_fine_tuning, n_trials=100)"
   ]
  },
  {
   "cell_type": "code",
   "execution_count": 9,
   "metadata": {},
   "outputs": [
    {
     "ename": "ValueError",
     "evalue": "Mime type rendering requires nbformat>=4.2.0 but it is not installed",
     "output_type": "error",
     "traceback": [
      "\u001b[1;31m---------------------------------------------------------------------------\u001b[0m",
      "\u001b[1;31mValueError\u001b[0m                                Traceback (most recent call last)",
      "File \u001b[1;32mc:\\Users\\thale\\anaconda3\\envs\\myenv\\lib\\site-packages\\IPython\\core\\formatters.py:922\u001b[0m, in \u001b[0;36mIPythonDisplayFormatter.__call__\u001b[1;34m(self, obj)\u001b[0m\n\u001b[0;32m    920\u001b[0m method \u001b[39m=\u001b[39m get_real_method(obj, \u001b[39mself\u001b[39m\u001b[39m.\u001b[39mprint_method)\n\u001b[0;32m    921\u001b[0m \u001b[39mif\u001b[39;00m method \u001b[39mis\u001b[39;00m \u001b[39mnot\u001b[39;00m \u001b[39mNone\u001b[39;00m:\n\u001b[1;32m--> 922\u001b[0m     method()\n\u001b[0;32m    923\u001b[0m     \u001b[39mreturn\u001b[39;00m \u001b[39mTrue\u001b[39;00m\n",
      "File \u001b[1;32mc:\\Users\\thale\\anaconda3\\envs\\myenv\\lib\\site-packages\\plotly\\basedatatypes.py:834\u001b[0m, in \u001b[0;36mBaseFigure._ipython_display_\u001b[1;34m(self)\u001b[0m\n\u001b[0;32m    831\u001b[0m \u001b[39mimport\u001b[39;00m \u001b[39mplotly\u001b[39;00m\u001b[39m.\u001b[39;00m\u001b[39mio\u001b[39;00m \u001b[39mas\u001b[39;00m \u001b[39mpio\u001b[39;00m\n\u001b[0;32m    833\u001b[0m \u001b[39mif\u001b[39;00m pio\u001b[39m.\u001b[39mrenderers\u001b[39m.\u001b[39mrender_on_display \u001b[39mand\u001b[39;00m pio\u001b[39m.\u001b[39mrenderers\u001b[39m.\u001b[39mdefault:\n\u001b[1;32m--> 834\u001b[0m     pio\u001b[39m.\u001b[39;49mshow(\u001b[39mself\u001b[39;49m)\n\u001b[0;32m    835\u001b[0m \u001b[39melse\u001b[39;00m:\n\u001b[0;32m    836\u001b[0m     \u001b[39mprint\u001b[39m(\u001b[39mrepr\u001b[39m(\u001b[39mself\u001b[39m))\n",
      "File \u001b[1;32mc:\\Users\\thale\\anaconda3\\envs\\myenv\\lib\\site-packages\\plotly\\io\\_renderers.py:396\u001b[0m, in \u001b[0;36mshow\u001b[1;34m(fig, renderer, validate, **kwargs)\u001b[0m\n\u001b[0;32m    391\u001b[0m         \u001b[39mraise\u001b[39;00m \u001b[39mValueError\u001b[39;00m(\n\u001b[0;32m    392\u001b[0m             \u001b[39m\"\u001b[39m\u001b[39mMime type rendering requires ipython but it is not installed\u001b[39m\u001b[39m\"\u001b[39m\n\u001b[0;32m    393\u001b[0m         )\n\u001b[0;32m    395\u001b[0m     \u001b[39mif\u001b[39;00m \u001b[39mnot\u001b[39;00m nbformat \u001b[39mor\u001b[39;00m Version(nbformat\u001b[39m.\u001b[39m__version__) \u001b[39m<\u001b[39m Version(\u001b[39m\"\u001b[39m\u001b[39m4.2.0\u001b[39m\u001b[39m\"\u001b[39m):\n\u001b[1;32m--> 396\u001b[0m         \u001b[39mraise\u001b[39;00m \u001b[39mValueError\u001b[39;00m(\n\u001b[0;32m    397\u001b[0m             \u001b[39m\"\u001b[39m\u001b[39mMime type rendering requires nbformat>=4.2.0 but it is not installed\u001b[39m\u001b[39m\"\u001b[39m\n\u001b[0;32m    398\u001b[0m         )\n\u001b[0;32m    400\u001b[0m     ipython_display\u001b[39m.\u001b[39mdisplay(bundle, raw\u001b[39m=\u001b[39m\u001b[39mTrue\u001b[39;00m)\n\u001b[0;32m    402\u001b[0m \u001b[39m# external renderers\u001b[39;00m\n",
      "\u001b[1;31mValueError\u001b[0m: Mime type rendering requires nbformat>=4.2.0 but it is not installed"
     ]
    },
    {
     "data": {
      "application/vnd.plotly.v1+json": {
       "config": {
        "plotlyServerURL": "https://plot.ly"
       },
       "data": [
        {
         "mode": "markers",
         "name": "Objective Value",
         "type": "scatter",
         "x": [
          0,
          1,
          2,
          3,
          4,
          5,
          6,
          7,
          8,
          9,
          10,
          11,
          12,
          13,
          14,
          15,
          16,
          17,
          18,
          19,
          20,
          21,
          22,
          23,
          24,
          25,
          26,
          27,
          28,
          29,
          30,
          31,
          32,
          33,
          34,
          35,
          36,
          37,
          38,
          39,
          40,
          41,
          42,
          43,
          44,
          45,
          46,
          47,
          48,
          49,
          50,
          51,
          52,
          53,
          54,
          55,
          56,
          57,
          58,
          59,
          60,
          61,
          62,
          63,
          64,
          65,
          66,
          67,
          68,
          69,
          70,
          71,
          72,
          73,
          74,
          75,
          76,
          77,
          78,
          79,
          80,
          81,
          82,
          83,
          84,
          85,
          86,
          87,
          88,
          89,
          90,
          91,
          92,
          93,
          94,
          95,
          96,
          97,
          98,
          99
         ],
         "y": [
          0.9539426455586203,
          0.9485015565807734,
          0.9460138810729695,
          0.9471666917180219,
          0.9535871321733247,
          0.9543384152079805,
          0.9002995942204861,
          0.9488990756744571,
          0.9508468197214905,
          0.9181023255813955,
          0.9543315387221867,
          0.9549583506087219,
          0.9523164861612515,
          0.9513066365858245,
          0.9522370012091899,
          0.9406047919859455,
          0.9540793243854623,
          0.9514241637506115,
          0.9504631192110099,
          0.9541484716157206,
          0.9533834586466164,
          0.9532815914399819,
          0.9514066496163682,
          0.9535225602171209,
          0.9545522949586155,
          0.9543549665873825,
          0.9530903208817666,
          0.9507407685944198,
          0.9534551470035341,
          0.951077351182642,
          0.9538890774045168,
          0.9530241859412142,
          0.9541886792452831,
          0.9519851913414681,
          0.9514738546097955,
          0.953849625756949,
          0.9520790883706889,
          0.9535094339622641,
          0.9512140118770201,
          0.9533082706766919,
          0.9409609272761263,
          0.9533145539906103,
          0.9532414727806642,
          0.9521300617191027,
          0.9534060971019949,
          0.953422803653998,
          0.9529473763457051,
          0.9531055783645335,
          0.9513854946046546,
          0.9531373508487974,
          0.9272148342386215,
          0.9533831183525684,
          0.9528823374572255,
          0.9546604250821096,
          0.9553114655431839,
          0.9543706161852326,
          0.9541249764017368,
          0.9530890289466732,
          0.9537208162033719,
          0.9534918723660446,
          0.9542119718574815,
          0.9547871337531582,
          0.9545694664553618,
          0.9540377358490566,
          0.9552216265196708,
          0.9547325102880658,
          0.9555664246209413,
          0.9535435740929129,
          0.9534271311413739,
          0.9540862484921592,
          0.9536543909348442,
          0.9556935817805382,
          0.9556316561923757,
          0.9541866525663784,
          0.9403427200119988,
          0.9535076482555949,
          0.9526462395543176,
          0.9536528477917389,
          0.952463593148721,
          0.9528965076500883,
          0.9471569370735405,
          0.9545265859089022,
          0.9547715965626413,
          0.9547269303201507,
          0.9532971178512147,
          0.954270013926004,
          0.953957267529341,
          0.9541395033349663,
          0.9528376694483254,
          0.9546516007532957,
          0.9521406785404978,
          0.9538345864661653,
          0.9539248504908415,
          0.9527077990647157,
          0.9544514236280889,
          0.9543621631807047,
          0.9540381074072681,
          0.9538972308156645,
          0.949686714441151,
          0.9537092882991557
         ]
        },
        {
         "mode": "lines",
         "name": "Best Value",
         "type": "scatter",
         "x": [
          0,
          1,
          2,
          3,
          4,
          5,
          6,
          7,
          8,
          9,
          10,
          11,
          12,
          13,
          14,
          15,
          16,
          17,
          18,
          19,
          20,
          21,
          22,
          23,
          24,
          25,
          26,
          27,
          28,
          29,
          30,
          31,
          32,
          33,
          34,
          35,
          36,
          37,
          38,
          39,
          40,
          41,
          42,
          43,
          44,
          45,
          46,
          47,
          48,
          49,
          50,
          51,
          52,
          53,
          54,
          55,
          56,
          57,
          58,
          59,
          60,
          61,
          62,
          63,
          64,
          65,
          66,
          67,
          68,
          69,
          70,
          71,
          72,
          73,
          74,
          75,
          76,
          77,
          78,
          79,
          80,
          81,
          82,
          83,
          84,
          85,
          86,
          87,
          88,
          89,
          90,
          91,
          92,
          93,
          94,
          95,
          96,
          97,
          98,
          99
         ],
         "y": [
          0.9539426455586203,
          0.9539426455586203,
          0.9539426455586203,
          0.9539426455586203,
          0.9539426455586203,
          0.9543384152079805,
          0.9543384152079805,
          0.9543384152079805,
          0.9543384152079805,
          0.9543384152079805,
          0.9543384152079805,
          0.9549583506087219,
          0.9549583506087219,
          0.9549583506087219,
          0.9549583506087219,
          0.9549583506087219,
          0.9549583506087219,
          0.9549583506087219,
          0.9549583506087219,
          0.9549583506087219,
          0.9549583506087219,
          0.9549583506087219,
          0.9549583506087219,
          0.9549583506087219,
          0.9549583506087219,
          0.9549583506087219,
          0.9549583506087219,
          0.9549583506087219,
          0.9549583506087219,
          0.9549583506087219,
          0.9549583506087219,
          0.9549583506087219,
          0.9549583506087219,
          0.9549583506087219,
          0.9549583506087219,
          0.9549583506087219,
          0.9549583506087219,
          0.9549583506087219,
          0.9549583506087219,
          0.9549583506087219,
          0.9549583506087219,
          0.9549583506087219,
          0.9549583506087219,
          0.9549583506087219,
          0.9549583506087219,
          0.9549583506087219,
          0.9549583506087219,
          0.9549583506087219,
          0.9549583506087219,
          0.9549583506087219,
          0.9549583506087219,
          0.9549583506087219,
          0.9549583506087219,
          0.9549583506087219,
          0.9553114655431839,
          0.9553114655431839,
          0.9553114655431839,
          0.9553114655431839,
          0.9553114655431839,
          0.9553114655431839,
          0.9553114655431839,
          0.9553114655431839,
          0.9553114655431839,
          0.9553114655431839,
          0.9553114655431839,
          0.9553114655431839,
          0.9555664246209413,
          0.9555664246209413,
          0.9555664246209413,
          0.9555664246209413,
          0.9555664246209413,
          0.9556935817805382,
          0.9556935817805382,
          0.9556935817805382,
          0.9556935817805382,
          0.9556935817805382,
          0.9556935817805382,
          0.9556935817805382,
          0.9556935817805382,
          0.9556935817805382,
          0.9556935817805382,
          0.9556935817805382,
          0.9556935817805382,
          0.9556935817805382,
          0.9556935817805382,
          0.9556935817805382,
          0.9556935817805382,
          0.9556935817805382,
          0.9556935817805382,
          0.9556935817805382,
          0.9556935817805382,
          0.9556935817805382,
          0.9556935817805382,
          0.9556935817805382,
          0.9556935817805382,
          0.9556935817805382,
          0.9556935817805382,
          0.9556935817805382,
          0.9556935817805382,
          0.9556935817805382
         ]
        },
        {
         "marker": {
          "color": "#cccccc"
         },
         "mode": "markers",
         "name": "Infeasible Trial",
         "showlegend": false,
         "type": "scatter",
         "x": [],
         "y": []
        }
       ],
       "layout": {
        "template": {
         "data": {
          "bar": [
           {
            "error_x": {
             "color": "#2a3f5f"
            },
            "error_y": {
             "color": "#2a3f5f"
            },
            "marker": {
             "line": {
              "color": "#E5ECF6",
              "width": 0.5
             },
             "pattern": {
              "fillmode": "overlay",
              "size": 10,
              "solidity": 0.2
             }
            },
            "type": "bar"
           }
          ],
          "barpolar": [
           {
            "marker": {
             "line": {
              "color": "#E5ECF6",
              "width": 0.5
             },
             "pattern": {
              "fillmode": "overlay",
              "size": 10,
              "solidity": 0.2
             }
            },
            "type": "barpolar"
           }
          ],
          "carpet": [
           {
            "aaxis": {
             "endlinecolor": "#2a3f5f",
             "gridcolor": "white",
             "linecolor": "white",
             "minorgridcolor": "white",
             "startlinecolor": "#2a3f5f"
            },
            "baxis": {
             "endlinecolor": "#2a3f5f",
             "gridcolor": "white",
             "linecolor": "white",
             "minorgridcolor": "white",
             "startlinecolor": "#2a3f5f"
            },
            "type": "carpet"
           }
          ],
          "choropleth": [
           {
            "colorbar": {
             "outlinewidth": 0,
             "ticks": ""
            },
            "type": "choropleth"
           }
          ],
          "contour": [
           {
            "colorbar": {
             "outlinewidth": 0,
             "ticks": ""
            },
            "colorscale": [
             [
              0,
              "#0d0887"
             ],
             [
              0.1111111111111111,
              "#46039f"
             ],
             [
              0.2222222222222222,
              "#7201a8"
             ],
             [
              0.3333333333333333,
              "#9c179e"
             ],
             [
              0.4444444444444444,
              "#bd3786"
             ],
             [
              0.5555555555555556,
              "#d8576b"
             ],
             [
              0.6666666666666666,
              "#ed7953"
             ],
             [
              0.7777777777777778,
              "#fb9f3a"
             ],
             [
              0.8888888888888888,
              "#fdca26"
             ],
             [
              1,
              "#f0f921"
             ]
            ],
            "type": "contour"
           }
          ],
          "contourcarpet": [
           {
            "colorbar": {
             "outlinewidth": 0,
             "ticks": ""
            },
            "type": "contourcarpet"
           }
          ],
          "heatmap": [
           {
            "colorbar": {
             "outlinewidth": 0,
             "ticks": ""
            },
            "colorscale": [
             [
              0,
              "#0d0887"
             ],
             [
              0.1111111111111111,
              "#46039f"
             ],
             [
              0.2222222222222222,
              "#7201a8"
             ],
             [
              0.3333333333333333,
              "#9c179e"
             ],
             [
              0.4444444444444444,
              "#bd3786"
             ],
             [
              0.5555555555555556,
              "#d8576b"
             ],
             [
              0.6666666666666666,
              "#ed7953"
             ],
             [
              0.7777777777777778,
              "#fb9f3a"
             ],
             [
              0.8888888888888888,
              "#fdca26"
             ],
             [
              1,
              "#f0f921"
             ]
            ],
            "type": "heatmap"
           }
          ],
          "heatmapgl": [
           {
            "colorbar": {
             "outlinewidth": 0,
             "ticks": ""
            },
            "colorscale": [
             [
              0,
              "#0d0887"
             ],
             [
              0.1111111111111111,
              "#46039f"
             ],
             [
              0.2222222222222222,
              "#7201a8"
             ],
             [
              0.3333333333333333,
              "#9c179e"
             ],
             [
              0.4444444444444444,
              "#bd3786"
             ],
             [
              0.5555555555555556,
              "#d8576b"
             ],
             [
              0.6666666666666666,
              "#ed7953"
             ],
             [
              0.7777777777777778,
              "#fb9f3a"
             ],
             [
              0.8888888888888888,
              "#fdca26"
             ],
             [
              1,
              "#f0f921"
             ]
            ],
            "type": "heatmapgl"
           }
          ],
          "histogram": [
           {
            "marker": {
             "pattern": {
              "fillmode": "overlay",
              "size": 10,
              "solidity": 0.2
             }
            },
            "type": "histogram"
           }
          ],
          "histogram2d": [
           {
            "colorbar": {
             "outlinewidth": 0,
             "ticks": ""
            },
            "colorscale": [
             [
              0,
              "#0d0887"
             ],
             [
              0.1111111111111111,
              "#46039f"
             ],
             [
              0.2222222222222222,
              "#7201a8"
             ],
             [
              0.3333333333333333,
              "#9c179e"
             ],
             [
              0.4444444444444444,
              "#bd3786"
             ],
             [
              0.5555555555555556,
              "#d8576b"
             ],
             [
              0.6666666666666666,
              "#ed7953"
             ],
             [
              0.7777777777777778,
              "#fb9f3a"
             ],
             [
              0.8888888888888888,
              "#fdca26"
             ],
             [
              1,
              "#f0f921"
             ]
            ],
            "type": "histogram2d"
           }
          ],
          "histogram2dcontour": [
           {
            "colorbar": {
             "outlinewidth": 0,
             "ticks": ""
            },
            "colorscale": [
             [
              0,
              "#0d0887"
             ],
             [
              0.1111111111111111,
              "#46039f"
             ],
             [
              0.2222222222222222,
              "#7201a8"
             ],
             [
              0.3333333333333333,
              "#9c179e"
             ],
             [
              0.4444444444444444,
              "#bd3786"
             ],
             [
              0.5555555555555556,
              "#d8576b"
             ],
             [
              0.6666666666666666,
              "#ed7953"
             ],
             [
              0.7777777777777778,
              "#fb9f3a"
             ],
             [
              0.8888888888888888,
              "#fdca26"
             ],
             [
              1,
              "#f0f921"
             ]
            ],
            "type": "histogram2dcontour"
           }
          ],
          "mesh3d": [
           {
            "colorbar": {
             "outlinewidth": 0,
             "ticks": ""
            },
            "type": "mesh3d"
           }
          ],
          "parcoords": [
           {
            "line": {
             "colorbar": {
              "outlinewidth": 0,
              "ticks": ""
             }
            },
            "type": "parcoords"
           }
          ],
          "pie": [
           {
            "automargin": true,
            "type": "pie"
           }
          ],
          "scatter": [
           {
            "fillpattern": {
             "fillmode": "overlay",
             "size": 10,
             "solidity": 0.2
            },
            "type": "scatter"
           }
          ],
          "scatter3d": [
           {
            "line": {
             "colorbar": {
              "outlinewidth": 0,
              "ticks": ""
             }
            },
            "marker": {
             "colorbar": {
              "outlinewidth": 0,
              "ticks": ""
             }
            },
            "type": "scatter3d"
           }
          ],
          "scattercarpet": [
           {
            "marker": {
             "colorbar": {
              "outlinewidth": 0,
              "ticks": ""
             }
            },
            "type": "scattercarpet"
           }
          ],
          "scattergeo": [
           {
            "marker": {
             "colorbar": {
              "outlinewidth": 0,
              "ticks": ""
             }
            },
            "type": "scattergeo"
           }
          ],
          "scattergl": [
           {
            "marker": {
             "colorbar": {
              "outlinewidth": 0,
              "ticks": ""
             }
            },
            "type": "scattergl"
           }
          ],
          "scattermapbox": [
           {
            "marker": {
             "colorbar": {
              "outlinewidth": 0,
              "ticks": ""
             }
            },
            "type": "scattermapbox"
           }
          ],
          "scatterpolar": [
           {
            "marker": {
             "colorbar": {
              "outlinewidth": 0,
              "ticks": ""
             }
            },
            "type": "scatterpolar"
           }
          ],
          "scatterpolargl": [
           {
            "marker": {
             "colorbar": {
              "outlinewidth": 0,
              "ticks": ""
             }
            },
            "type": "scatterpolargl"
           }
          ],
          "scatterternary": [
           {
            "marker": {
             "colorbar": {
              "outlinewidth": 0,
              "ticks": ""
             }
            },
            "type": "scatterternary"
           }
          ],
          "surface": [
           {
            "colorbar": {
             "outlinewidth": 0,
             "ticks": ""
            },
            "colorscale": [
             [
              0,
              "#0d0887"
             ],
             [
              0.1111111111111111,
              "#46039f"
             ],
             [
              0.2222222222222222,
              "#7201a8"
             ],
             [
              0.3333333333333333,
              "#9c179e"
             ],
             [
              0.4444444444444444,
              "#bd3786"
             ],
             [
              0.5555555555555556,
              "#d8576b"
             ],
             [
              0.6666666666666666,
              "#ed7953"
             ],
             [
              0.7777777777777778,
              "#fb9f3a"
             ],
             [
              0.8888888888888888,
              "#fdca26"
             ],
             [
              1,
              "#f0f921"
             ]
            ],
            "type": "surface"
           }
          ],
          "table": [
           {
            "cells": {
             "fill": {
              "color": "#EBF0F8"
             },
             "line": {
              "color": "white"
             }
            },
            "header": {
             "fill": {
              "color": "#C8D4E3"
             },
             "line": {
              "color": "white"
             }
            },
            "type": "table"
           }
          ]
         },
         "layout": {
          "annotationdefaults": {
           "arrowcolor": "#2a3f5f",
           "arrowhead": 0,
           "arrowwidth": 1
          },
          "autotypenumbers": "strict",
          "coloraxis": {
           "colorbar": {
            "outlinewidth": 0,
            "ticks": ""
           }
          },
          "colorscale": {
           "diverging": [
            [
             0,
             "#8e0152"
            ],
            [
             0.1,
             "#c51b7d"
            ],
            [
             0.2,
             "#de77ae"
            ],
            [
             0.3,
             "#f1b6da"
            ],
            [
             0.4,
             "#fde0ef"
            ],
            [
             0.5,
             "#f7f7f7"
            ],
            [
             0.6,
             "#e6f5d0"
            ],
            [
             0.7,
             "#b8e186"
            ],
            [
             0.8,
             "#7fbc41"
            ],
            [
             0.9,
             "#4d9221"
            ],
            [
             1,
             "#276419"
            ]
           ],
           "sequential": [
            [
             0,
             "#0d0887"
            ],
            [
             0.1111111111111111,
             "#46039f"
            ],
            [
             0.2222222222222222,
             "#7201a8"
            ],
            [
             0.3333333333333333,
             "#9c179e"
            ],
            [
             0.4444444444444444,
             "#bd3786"
            ],
            [
             0.5555555555555556,
             "#d8576b"
            ],
            [
             0.6666666666666666,
             "#ed7953"
            ],
            [
             0.7777777777777778,
             "#fb9f3a"
            ],
            [
             0.8888888888888888,
             "#fdca26"
            ],
            [
             1,
             "#f0f921"
            ]
           ],
           "sequentialminus": [
            [
             0,
             "#0d0887"
            ],
            [
             0.1111111111111111,
             "#46039f"
            ],
            [
             0.2222222222222222,
             "#7201a8"
            ],
            [
             0.3333333333333333,
             "#9c179e"
            ],
            [
             0.4444444444444444,
             "#bd3786"
            ],
            [
             0.5555555555555556,
             "#d8576b"
            ],
            [
             0.6666666666666666,
             "#ed7953"
            ],
            [
             0.7777777777777778,
             "#fb9f3a"
            ],
            [
             0.8888888888888888,
             "#fdca26"
            ],
            [
             1,
             "#f0f921"
            ]
           ]
          },
          "colorway": [
           "#636efa",
           "#EF553B",
           "#00cc96",
           "#ab63fa",
           "#FFA15A",
           "#19d3f3",
           "#FF6692",
           "#B6E880",
           "#FF97FF",
           "#FECB52"
          ],
          "font": {
           "color": "#2a3f5f"
          },
          "geo": {
           "bgcolor": "white",
           "lakecolor": "white",
           "landcolor": "#E5ECF6",
           "showlakes": true,
           "showland": true,
           "subunitcolor": "white"
          },
          "hoverlabel": {
           "align": "left"
          },
          "hovermode": "closest",
          "mapbox": {
           "style": "light"
          },
          "paper_bgcolor": "white",
          "plot_bgcolor": "#E5ECF6",
          "polar": {
           "angularaxis": {
            "gridcolor": "white",
            "linecolor": "white",
            "ticks": ""
           },
           "bgcolor": "#E5ECF6",
           "radialaxis": {
            "gridcolor": "white",
            "linecolor": "white",
            "ticks": ""
           }
          },
          "scene": {
           "xaxis": {
            "backgroundcolor": "#E5ECF6",
            "gridcolor": "white",
            "gridwidth": 2,
            "linecolor": "white",
            "showbackground": true,
            "ticks": "",
            "zerolinecolor": "white"
           },
           "yaxis": {
            "backgroundcolor": "#E5ECF6",
            "gridcolor": "white",
            "gridwidth": 2,
            "linecolor": "white",
            "showbackground": true,
            "ticks": "",
            "zerolinecolor": "white"
           },
           "zaxis": {
            "backgroundcolor": "#E5ECF6",
            "gridcolor": "white",
            "gridwidth": 2,
            "linecolor": "white",
            "showbackground": true,
            "ticks": "",
            "zerolinecolor": "white"
           }
          },
          "shapedefaults": {
           "line": {
            "color": "#2a3f5f"
           }
          },
          "ternary": {
           "aaxis": {
            "gridcolor": "white",
            "linecolor": "white",
            "ticks": ""
           },
           "baxis": {
            "gridcolor": "white",
            "linecolor": "white",
            "ticks": ""
           },
           "bgcolor": "#E5ECF6",
           "caxis": {
            "gridcolor": "white",
            "linecolor": "white",
            "ticks": ""
           }
          },
          "title": {
           "x": 0.05
          },
          "xaxis": {
           "automargin": true,
           "gridcolor": "white",
           "linecolor": "white",
           "ticks": "",
           "title": {
            "standoff": 15
           },
           "zerolinecolor": "white",
           "zerolinewidth": 2
          },
          "yaxis": {
           "automargin": true,
           "gridcolor": "white",
           "linecolor": "white",
           "ticks": "",
           "title": {
            "standoff": 15
           },
           "zerolinecolor": "white",
           "zerolinewidth": 2
          }
         }
        },
        "title": {
         "text": "Optimization History Plot"
        },
        "xaxis": {
         "title": {
          "text": "Trial"
         }
        },
        "yaxis": {
         "title": {
          "text": "Objective Value"
         }
        }
       }
      },
      "text/html": [
       "<div>                        <script type=\"text/javascript\">window.PlotlyConfig = {MathJaxConfig: 'local'};</script>\n",
       "        <script charset=\"utf-8\" src=\"https://cdn.plot.ly/plotly-2.25.2.min.js\"></script>                <div id=\"179f4980-fd66-42b0-9312-19f8d2466bfd\" class=\"plotly-graph-div\" style=\"height:100%; width:100%;\"></div>            <script type=\"text/javascript\">                                    window.PLOTLYENV=window.PLOTLYENV || {};                                    if (document.getElementById(\"179f4980-fd66-42b0-9312-19f8d2466bfd\")) {                    Plotly.newPlot(                        \"179f4980-fd66-42b0-9312-19f8d2466bfd\",                        [{\"mode\":\"markers\",\"name\":\"Objective Value\",\"x\":[0,1,2,3,4,5,6,7,8,9,10,11,12,13,14,15,16,17,18,19,20,21,22,23,24,25,26,27,28,29,30,31,32,33,34,35,36,37,38,39,40,41,42,43,44,45,46,47,48,49,50,51,52,53,54,55,56,57,58,59,60,61,62,63,64,65,66,67,68,69,70,71,72,73,74,75,76,77,78,79,80,81,82,83,84,85,86,87,88,89,90,91,92,93,94,95,96,97,98,99],\"y\":[0.9539426455586203,0.9485015565807734,0.9460138810729695,0.9471666917180219,0.9535871321733247,0.9543384152079805,0.9002995942204861,0.9488990756744571,0.9508468197214905,0.9181023255813955,0.9543315387221867,0.9549583506087219,0.9523164861612515,0.9513066365858245,0.9522370012091899,0.9406047919859455,0.9540793243854623,0.9514241637506115,0.9504631192110099,0.9541484716157206,0.9533834586466164,0.9532815914399819,0.9514066496163682,0.9535225602171209,0.9545522949586155,0.9543549665873825,0.9530903208817666,0.9507407685944198,0.9534551470035341,0.951077351182642,0.9538890774045168,0.9530241859412142,0.9541886792452831,0.9519851913414681,0.9514738546097955,0.953849625756949,0.9520790883706889,0.9535094339622641,0.9512140118770201,0.9533082706766919,0.9409609272761263,0.9533145539906103,0.9532414727806642,0.9521300617191027,0.9534060971019949,0.953422803653998,0.9529473763457051,0.9531055783645335,0.9513854946046546,0.9531373508487974,0.9272148342386215,0.9533831183525684,0.9528823374572255,0.9546604250821096,0.9553114655431839,0.9543706161852326,0.9541249764017368,0.9530890289466732,0.9537208162033719,0.9534918723660446,0.9542119718574815,0.9547871337531582,0.9545694664553618,0.9540377358490566,0.9552216265196708,0.9547325102880658,0.9555664246209413,0.9535435740929129,0.9534271311413739,0.9540862484921592,0.9536543909348442,0.9556935817805382,0.9556316561923757,0.9541866525663784,0.9403427200119988,0.9535076482555949,0.9526462395543176,0.9536528477917389,0.952463593148721,0.9528965076500883,0.9471569370735405,0.9545265859089022,0.9547715965626413,0.9547269303201507,0.9532971178512147,0.954270013926004,0.953957267529341,0.9541395033349663,0.9528376694483254,0.9546516007532957,0.9521406785404978,0.9538345864661653,0.9539248504908415,0.9527077990647157,0.9544514236280889,0.9543621631807047,0.9540381074072681,0.9538972308156645,0.949686714441151,0.9537092882991557],\"type\":\"scatter\"},{\"mode\":\"lines\",\"name\":\"Best Value\",\"x\":[0,1,2,3,4,5,6,7,8,9,10,11,12,13,14,15,16,17,18,19,20,21,22,23,24,25,26,27,28,29,30,31,32,33,34,35,36,37,38,39,40,41,42,43,44,45,46,47,48,49,50,51,52,53,54,55,56,57,58,59,60,61,62,63,64,65,66,67,68,69,70,71,72,73,74,75,76,77,78,79,80,81,82,83,84,85,86,87,88,89,90,91,92,93,94,95,96,97,98,99],\"y\":[0.9539426455586203,0.9539426455586203,0.9539426455586203,0.9539426455586203,0.9539426455586203,0.9543384152079805,0.9543384152079805,0.9543384152079805,0.9543384152079805,0.9543384152079805,0.9543384152079805,0.9549583506087219,0.9549583506087219,0.9549583506087219,0.9549583506087219,0.9549583506087219,0.9549583506087219,0.9549583506087219,0.9549583506087219,0.9549583506087219,0.9549583506087219,0.9549583506087219,0.9549583506087219,0.9549583506087219,0.9549583506087219,0.9549583506087219,0.9549583506087219,0.9549583506087219,0.9549583506087219,0.9549583506087219,0.9549583506087219,0.9549583506087219,0.9549583506087219,0.9549583506087219,0.9549583506087219,0.9549583506087219,0.9549583506087219,0.9549583506087219,0.9549583506087219,0.9549583506087219,0.9549583506087219,0.9549583506087219,0.9549583506087219,0.9549583506087219,0.9549583506087219,0.9549583506087219,0.9549583506087219,0.9549583506087219,0.9549583506087219,0.9549583506087219,0.9549583506087219,0.9549583506087219,0.9549583506087219,0.9549583506087219,0.9553114655431839,0.9553114655431839,0.9553114655431839,0.9553114655431839,0.9553114655431839,0.9553114655431839,0.9553114655431839,0.9553114655431839,0.9553114655431839,0.9553114655431839,0.9553114655431839,0.9553114655431839,0.9555664246209413,0.9555664246209413,0.9555664246209413,0.9555664246209413,0.9555664246209413,0.9556935817805382,0.9556935817805382,0.9556935817805382,0.9556935817805382,0.9556935817805382,0.9556935817805382,0.9556935817805382,0.9556935817805382,0.9556935817805382,0.9556935817805382,0.9556935817805382,0.9556935817805382,0.9556935817805382,0.9556935817805382,0.9556935817805382,0.9556935817805382,0.9556935817805382,0.9556935817805382,0.9556935817805382,0.9556935817805382,0.9556935817805382,0.9556935817805382,0.9556935817805382,0.9556935817805382,0.9556935817805382,0.9556935817805382,0.9556935817805382,0.9556935817805382,0.9556935817805382],\"type\":\"scatter\"},{\"marker\":{\"color\":\"#cccccc\"},\"mode\":\"markers\",\"name\":\"Infeasible Trial\",\"showlegend\":false,\"x\":[],\"y\":[],\"type\":\"scatter\"}],                        {\"title\":{\"text\":\"Optimization History Plot\"},\"xaxis\":{\"title\":{\"text\":\"Trial\"}},\"yaxis\":{\"title\":{\"text\":\"Objective Value\"}},\"template\":{\"data\":{\"histogram2dcontour\":[{\"type\":\"histogram2dcontour\",\"colorbar\":{\"outlinewidth\":0,\"ticks\":\"\"},\"colorscale\":[[0.0,\"#0d0887\"],[0.1111111111111111,\"#46039f\"],[0.2222222222222222,\"#7201a8\"],[0.3333333333333333,\"#9c179e\"],[0.4444444444444444,\"#bd3786\"],[0.5555555555555556,\"#d8576b\"],[0.6666666666666666,\"#ed7953\"],[0.7777777777777778,\"#fb9f3a\"],[0.8888888888888888,\"#fdca26\"],[1.0,\"#f0f921\"]]}],\"choropleth\":[{\"type\":\"choropleth\",\"colorbar\":{\"outlinewidth\":0,\"ticks\":\"\"}}],\"histogram2d\":[{\"type\":\"histogram2d\",\"colorbar\":{\"outlinewidth\":0,\"ticks\":\"\"},\"colorscale\":[[0.0,\"#0d0887\"],[0.1111111111111111,\"#46039f\"],[0.2222222222222222,\"#7201a8\"],[0.3333333333333333,\"#9c179e\"],[0.4444444444444444,\"#bd3786\"],[0.5555555555555556,\"#d8576b\"],[0.6666666666666666,\"#ed7953\"],[0.7777777777777778,\"#fb9f3a\"],[0.8888888888888888,\"#fdca26\"],[1.0,\"#f0f921\"]]}],\"heatmap\":[{\"type\":\"heatmap\",\"colorbar\":{\"outlinewidth\":0,\"ticks\":\"\"},\"colorscale\":[[0.0,\"#0d0887\"],[0.1111111111111111,\"#46039f\"],[0.2222222222222222,\"#7201a8\"],[0.3333333333333333,\"#9c179e\"],[0.4444444444444444,\"#bd3786\"],[0.5555555555555556,\"#d8576b\"],[0.6666666666666666,\"#ed7953\"],[0.7777777777777778,\"#fb9f3a\"],[0.8888888888888888,\"#fdca26\"],[1.0,\"#f0f921\"]]}],\"heatmapgl\":[{\"type\":\"heatmapgl\",\"colorbar\":{\"outlinewidth\":0,\"ticks\":\"\"},\"colorscale\":[[0.0,\"#0d0887\"],[0.1111111111111111,\"#46039f\"],[0.2222222222222222,\"#7201a8\"],[0.3333333333333333,\"#9c179e\"],[0.4444444444444444,\"#bd3786\"],[0.5555555555555556,\"#d8576b\"],[0.6666666666666666,\"#ed7953\"],[0.7777777777777778,\"#fb9f3a\"],[0.8888888888888888,\"#fdca26\"],[1.0,\"#f0f921\"]]}],\"contourcarpet\":[{\"type\":\"contourcarpet\",\"colorbar\":{\"outlinewidth\":0,\"ticks\":\"\"}}],\"contour\":[{\"type\":\"contour\",\"colorbar\":{\"outlinewidth\":0,\"ticks\":\"\"},\"colorscale\":[[0.0,\"#0d0887\"],[0.1111111111111111,\"#46039f\"],[0.2222222222222222,\"#7201a8\"],[0.3333333333333333,\"#9c179e\"],[0.4444444444444444,\"#bd3786\"],[0.5555555555555556,\"#d8576b\"],[0.6666666666666666,\"#ed7953\"],[0.7777777777777778,\"#fb9f3a\"],[0.8888888888888888,\"#fdca26\"],[1.0,\"#f0f921\"]]}],\"surface\":[{\"type\":\"surface\",\"colorbar\":{\"outlinewidth\":0,\"ticks\":\"\"},\"colorscale\":[[0.0,\"#0d0887\"],[0.1111111111111111,\"#46039f\"],[0.2222222222222222,\"#7201a8\"],[0.3333333333333333,\"#9c179e\"],[0.4444444444444444,\"#bd3786\"],[0.5555555555555556,\"#d8576b\"],[0.6666666666666666,\"#ed7953\"],[0.7777777777777778,\"#fb9f3a\"],[0.8888888888888888,\"#fdca26\"],[1.0,\"#f0f921\"]]}],\"mesh3d\":[{\"type\":\"mesh3d\",\"colorbar\":{\"outlinewidth\":0,\"ticks\":\"\"}}],\"scatter\":[{\"fillpattern\":{\"fillmode\":\"overlay\",\"size\":10,\"solidity\":0.2},\"type\":\"scatter\"}],\"parcoords\":[{\"type\":\"parcoords\",\"line\":{\"colorbar\":{\"outlinewidth\":0,\"ticks\":\"\"}}}],\"scatterpolargl\":[{\"type\":\"scatterpolargl\",\"marker\":{\"colorbar\":{\"outlinewidth\":0,\"ticks\":\"\"}}}],\"bar\":[{\"error_x\":{\"color\":\"#2a3f5f\"},\"error_y\":{\"color\":\"#2a3f5f\"},\"marker\":{\"line\":{\"color\":\"#E5ECF6\",\"width\":0.5},\"pattern\":{\"fillmode\":\"overlay\",\"size\":10,\"solidity\":0.2}},\"type\":\"bar\"}],\"scattergeo\":[{\"type\":\"scattergeo\",\"marker\":{\"colorbar\":{\"outlinewidth\":0,\"ticks\":\"\"}}}],\"scatterpolar\":[{\"type\":\"scatterpolar\",\"marker\":{\"colorbar\":{\"outlinewidth\":0,\"ticks\":\"\"}}}],\"histogram\":[{\"marker\":{\"pattern\":{\"fillmode\":\"overlay\",\"size\":10,\"solidity\":0.2}},\"type\":\"histogram\"}],\"scattergl\":[{\"type\":\"scattergl\",\"marker\":{\"colorbar\":{\"outlinewidth\":0,\"ticks\":\"\"}}}],\"scatter3d\":[{\"type\":\"scatter3d\",\"line\":{\"colorbar\":{\"outlinewidth\":0,\"ticks\":\"\"}},\"marker\":{\"colorbar\":{\"outlinewidth\":0,\"ticks\":\"\"}}}],\"scattermapbox\":[{\"type\":\"scattermapbox\",\"marker\":{\"colorbar\":{\"outlinewidth\":0,\"ticks\":\"\"}}}],\"scatterternary\":[{\"type\":\"scatterternary\",\"marker\":{\"colorbar\":{\"outlinewidth\":0,\"ticks\":\"\"}}}],\"scattercarpet\":[{\"type\":\"scattercarpet\",\"marker\":{\"colorbar\":{\"outlinewidth\":0,\"ticks\":\"\"}}}],\"carpet\":[{\"aaxis\":{\"endlinecolor\":\"#2a3f5f\",\"gridcolor\":\"white\",\"linecolor\":\"white\",\"minorgridcolor\":\"white\",\"startlinecolor\":\"#2a3f5f\"},\"baxis\":{\"endlinecolor\":\"#2a3f5f\",\"gridcolor\":\"white\",\"linecolor\":\"white\",\"minorgridcolor\":\"white\",\"startlinecolor\":\"#2a3f5f\"},\"type\":\"carpet\"}],\"table\":[{\"cells\":{\"fill\":{\"color\":\"#EBF0F8\"},\"line\":{\"color\":\"white\"}},\"header\":{\"fill\":{\"color\":\"#C8D4E3\"},\"line\":{\"color\":\"white\"}},\"type\":\"table\"}],\"barpolar\":[{\"marker\":{\"line\":{\"color\":\"#E5ECF6\",\"width\":0.5},\"pattern\":{\"fillmode\":\"overlay\",\"size\":10,\"solidity\":0.2}},\"type\":\"barpolar\"}],\"pie\":[{\"automargin\":true,\"type\":\"pie\"}]},\"layout\":{\"autotypenumbers\":\"strict\",\"colorway\":[\"#636efa\",\"#EF553B\",\"#00cc96\",\"#ab63fa\",\"#FFA15A\",\"#19d3f3\",\"#FF6692\",\"#B6E880\",\"#FF97FF\",\"#FECB52\"],\"font\":{\"color\":\"#2a3f5f\"},\"hovermode\":\"closest\",\"hoverlabel\":{\"align\":\"left\"},\"paper_bgcolor\":\"white\",\"plot_bgcolor\":\"#E5ECF6\",\"polar\":{\"bgcolor\":\"#E5ECF6\",\"angularaxis\":{\"gridcolor\":\"white\",\"linecolor\":\"white\",\"ticks\":\"\"},\"radialaxis\":{\"gridcolor\":\"white\",\"linecolor\":\"white\",\"ticks\":\"\"}},\"ternary\":{\"bgcolor\":\"#E5ECF6\",\"aaxis\":{\"gridcolor\":\"white\",\"linecolor\":\"white\",\"ticks\":\"\"},\"baxis\":{\"gridcolor\":\"white\",\"linecolor\":\"white\",\"ticks\":\"\"},\"caxis\":{\"gridcolor\":\"white\",\"linecolor\":\"white\",\"ticks\":\"\"}},\"coloraxis\":{\"colorbar\":{\"outlinewidth\":0,\"ticks\":\"\"}},\"colorscale\":{\"sequential\":[[0.0,\"#0d0887\"],[0.1111111111111111,\"#46039f\"],[0.2222222222222222,\"#7201a8\"],[0.3333333333333333,\"#9c179e\"],[0.4444444444444444,\"#bd3786\"],[0.5555555555555556,\"#d8576b\"],[0.6666666666666666,\"#ed7953\"],[0.7777777777777778,\"#fb9f3a\"],[0.8888888888888888,\"#fdca26\"],[1.0,\"#f0f921\"]],\"sequentialminus\":[[0.0,\"#0d0887\"],[0.1111111111111111,\"#46039f\"],[0.2222222222222222,\"#7201a8\"],[0.3333333333333333,\"#9c179e\"],[0.4444444444444444,\"#bd3786\"],[0.5555555555555556,\"#d8576b\"],[0.6666666666666666,\"#ed7953\"],[0.7777777777777778,\"#fb9f3a\"],[0.8888888888888888,\"#fdca26\"],[1.0,\"#f0f921\"]],\"diverging\":[[0,\"#8e0152\"],[0.1,\"#c51b7d\"],[0.2,\"#de77ae\"],[0.3,\"#f1b6da\"],[0.4,\"#fde0ef\"],[0.5,\"#f7f7f7\"],[0.6,\"#e6f5d0\"],[0.7,\"#b8e186\"],[0.8,\"#7fbc41\"],[0.9,\"#4d9221\"],[1,\"#276419\"]]},\"xaxis\":{\"gridcolor\":\"white\",\"linecolor\":\"white\",\"ticks\":\"\",\"title\":{\"standoff\":15},\"zerolinecolor\":\"white\",\"automargin\":true,\"zerolinewidth\":2},\"yaxis\":{\"gridcolor\":\"white\",\"linecolor\":\"white\",\"ticks\":\"\",\"title\":{\"standoff\":15},\"zerolinecolor\":\"white\",\"automargin\":true,\"zerolinewidth\":2},\"scene\":{\"xaxis\":{\"backgroundcolor\":\"#E5ECF6\",\"gridcolor\":\"white\",\"linecolor\":\"white\",\"showbackground\":true,\"ticks\":\"\",\"zerolinecolor\":\"white\",\"gridwidth\":2},\"yaxis\":{\"backgroundcolor\":\"#E5ECF6\",\"gridcolor\":\"white\",\"linecolor\":\"white\",\"showbackground\":true,\"ticks\":\"\",\"zerolinecolor\":\"white\",\"gridwidth\":2},\"zaxis\":{\"backgroundcolor\":\"#E5ECF6\",\"gridcolor\":\"white\",\"linecolor\":\"white\",\"showbackground\":true,\"ticks\":\"\",\"zerolinecolor\":\"white\",\"gridwidth\":2}},\"shapedefaults\":{\"line\":{\"color\":\"#2a3f5f\"}},\"annotationdefaults\":{\"arrowcolor\":\"#2a3f5f\",\"arrowhead\":0,\"arrowwidth\":1},\"geo\":{\"bgcolor\":\"white\",\"landcolor\":\"#E5ECF6\",\"subunitcolor\":\"white\",\"showland\":true,\"showlakes\":true,\"lakecolor\":\"white\"},\"title\":{\"x\":0.05},\"mapbox\":{\"style\":\"light\"}}}},                        {\"responsive\": true}                    )                };                            </script>        </div>"
      ],
      "text/plain": [
       "Figure({\n",
       "    'data': [{'mode': 'markers',\n",
       "              'name': 'Objective Value',\n",
       "              'type': 'scatter',\n",
       "              'x': [0, 1, 2, 3, 4, 5, 6, 7, 8, 9, 10, 11, 12, 13, 14, 15, 16, 17,\n",
       "                    18, 19, 20, 21, 22, 23, 24, 25, 26, 27, 28, 29, 30, 31, 32, 33,\n",
       "                    34, 35, 36, 37, 38, 39, 40, 41, 42, 43, 44, 45, 46, 47, 48, 49,\n",
       "                    50, 51, 52, 53, 54, 55, 56, 57, 58, 59, 60, 61, 62, 63, 64, 65,\n",
       "                    66, 67, 68, 69, 70, 71, 72, 73, 74, 75, 76, 77, 78, 79, 80, 81,\n",
       "                    82, 83, 84, 85, 86, 87, 88, 89, 90, 91, 92, 93, 94, 95, 96, 97,\n",
       "                    98, 99],\n",
       "              'y': [0.9539426455586203, 0.9485015565807734, 0.9460138810729695,\n",
       "                    0.9471666917180219, 0.9535871321733247, 0.9543384152079805,\n",
       "                    0.9002995942204861, 0.9488990756744571, 0.9508468197214905,\n",
       "                    0.9181023255813955, 0.9543315387221867, 0.9549583506087219,\n",
       "                    0.9523164861612515, 0.9513066365858245, 0.9522370012091899,\n",
       "                    0.9406047919859455, 0.9540793243854623, 0.9514241637506115,\n",
       "                    0.9504631192110099, 0.9541484716157206, 0.9533834586466164,\n",
       "                    0.9532815914399819, 0.9514066496163682, 0.9535225602171209,\n",
       "                    0.9545522949586155, 0.9543549665873825, 0.9530903208817666,\n",
       "                    0.9507407685944198, 0.9534551470035341, 0.951077351182642,\n",
       "                    0.9538890774045168, 0.9530241859412142, 0.9541886792452831,\n",
       "                    0.9519851913414681, 0.9514738546097955, 0.953849625756949,\n",
       "                    0.9520790883706889, 0.9535094339622641, 0.9512140118770201,\n",
       "                    0.9533082706766919, 0.9409609272761263, 0.9533145539906103,\n",
       "                    0.9532414727806642, 0.9521300617191027, 0.9534060971019949,\n",
       "                    0.953422803653998, 0.9529473763457051, 0.9531055783645335,\n",
       "                    0.9513854946046546, 0.9531373508487974, 0.9272148342386215,\n",
       "                    0.9533831183525684, 0.9528823374572255, 0.9546604250821096,\n",
       "                    0.9553114655431839, 0.9543706161852326, 0.9541249764017368,\n",
       "                    0.9530890289466732, 0.9537208162033719, 0.9534918723660446,\n",
       "                    0.9542119718574815, 0.9547871337531582, 0.9545694664553618,\n",
       "                    0.9540377358490566, 0.9552216265196708, 0.9547325102880658,\n",
       "                    0.9555664246209413, 0.9535435740929129, 0.9534271311413739,\n",
       "                    0.9540862484921592, 0.9536543909348442, 0.9556935817805382,\n",
       "                    0.9556316561923757, 0.9541866525663784, 0.9403427200119988,\n",
       "                    0.9535076482555949, 0.9526462395543176, 0.9536528477917389,\n",
       "                    0.952463593148721, 0.9528965076500883, 0.9471569370735405,\n",
       "                    0.9545265859089022, 0.9547715965626413, 0.9547269303201507,\n",
       "                    0.9532971178512147, 0.954270013926004, 0.953957267529341,\n",
       "                    0.9541395033349663, 0.9528376694483254, 0.9546516007532957,\n",
       "                    0.9521406785404978, 0.9538345864661653, 0.9539248504908415,\n",
       "                    0.9527077990647157, 0.9544514236280889, 0.9543621631807047,\n",
       "                    0.9540381074072681, 0.9538972308156645, 0.949686714441151,\n",
       "                    0.9537092882991557]},\n",
       "             {'mode': 'lines',\n",
       "              'name': 'Best Value',\n",
       "              'type': 'scatter',\n",
       "              'x': [0, 1, 2, 3, 4, 5, 6, 7, 8, 9, 10, 11, 12, 13, 14, 15, 16, 17,\n",
       "                    18, 19, 20, 21, 22, 23, 24, 25, 26, 27, 28, 29, 30, 31, 32, 33,\n",
       "                    34, 35, 36, 37, 38, 39, 40, 41, 42, 43, 44, 45, 46, 47, 48, 49,\n",
       "                    50, 51, 52, 53, 54, 55, 56, 57, 58, 59, 60, 61, 62, 63, 64, 65,\n",
       "                    66, 67, 68, 69, 70, 71, 72, 73, 74, 75, 76, 77, 78, 79, 80, 81,\n",
       "                    82, 83, 84, 85, 86, 87, 88, 89, 90, 91, 92, 93, 94, 95, 96, 97,\n",
       "                    98, 99],\n",
       "              'y': [0.9539426455586203, 0.9539426455586203, 0.9539426455586203,\n",
       "                    0.9539426455586203, 0.9539426455586203, 0.9543384152079805,\n",
       "                    0.9543384152079805, 0.9543384152079805, 0.9543384152079805,\n",
       "                    0.9543384152079805, 0.9543384152079805, 0.9549583506087219,\n",
       "                    0.9549583506087219, 0.9549583506087219, 0.9549583506087219,\n",
       "                    0.9549583506087219, 0.9549583506087219, 0.9549583506087219,\n",
       "                    0.9549583506087219, 0.9549583506087219, 0.9549583506087219,\n",
       "                    0.9549583506087219, 0.9549583506087219, 0.9549583506087219,\n",
       "                    0.9549583506087219, 0.9549583506087219, 0.9549583506087219,\n",
       "                    0.9549583506087219, 0.9549583506087219, 0.9549583506087219,\n",
       "                    0.9549583506087219, 0.9549583506087219, 0.9549583506087219,\n",
       "                    0.9549583506087219, 0.9549583506087219, 0.9549583506087219,\n",
       "                    0.9549583506087219, 0.9549583506087219, 0.9549583506087219,\n",
       "                    0.9549583506087219, 0.9549583506087219, 0.9549583506087219,\n",
       "                    0.9549583506087219, 0.9549583506087219, 0.9549583506087219,\n",
       "                    0.9549583506087219, 0.9549583506087219, 0.9549583506087219,\n",
       "                    0.9549583506087219, 0.9549583506087219, 0.9549583506087219,\n",
       "                    0.9549583506087219, 0.9549583506087219, 0.9549583506087219,\n",
       "                    0.9553114655431839, 0.9553114655431839, 0.9553114655431839,\n",
       "                    0.9553114655431839, 0.9553114655431839, 0.9553114655431839,\n",
       "                    0.9553114655431839, 0.9553114655431839, 0.9553114655431839,\n",
       "                    0.9553114655431839, 0.9553114655431839, 0.9553114655431839,\n",
       "                    0.9555664246209413, 0.9555664246209413, 0.9555664246209413,\n",
       "                    0.9555664246209413, 0.9555664246209413, 0.9556935817805382,\n",
       "                    0.9556935817805382, 0.9556935817805382, 0.9556935817805382,\n",
       "                    0.9556935817805382, 0.9556935817805382, 0.9556935817805382,\n",
       "                    0.9556935817805382, 0.9556935817805382, 0.9556935817805382,\n",
       "                    0.9556935817805382, 0.9556935817805382, 0.9556935817805382,\n",
       "                    0.9556935817805382, 0.9556935817805382, 0.9556935817805382,\n",
       "                    0.9556935817805382, 0.9556935817805382, 0.9556935817805382,\n",
       "                    0.9556935817805382, 0.9556935817805382, 0.9556935817805382,\n",
       "                    0.9556935817805382, 0.9556935817805382, 0.9556935817805382,\n",
       "                    0.9556935817805382, 0.9556935817805382, 0.9556935817805382,\n",
       "                    0.9556935817805382]},\n",
       "             {'marker': {'color': '#cccccc'},\n",
       "              'mode': 'markers',\n",
       "              'name': 'Infeasible Trial',\n",
       "              'showlegend': False,\n",
       "              'type': 'scatter',\n",
       "              'x': [],\n",
       "              'y': []}],\n",
       "    'layout': {'template': '...',\n",
       "               'title': {'text': 'Optimization History Plot'},\n",
       "               'xaxis': {'title': {'text': 'Trial'}},\n",
       "               'yaxis': {'title': {'text': 'Objective Value'}}}\n",
       "})"
      ]
     },
     "execution_count": 9,
     "metadata": {},
     "output_type": "execute_result"
    }
   ],
   "source": [
    "optuna.visualization.plot_optimization_history(study)"
   ]
  },
  {
   "cell_type": "code",
   "execution_count": 10,
   "metadata": {},
   "outputs": [
    {
     "data": {
      "text/plain": [
       "{'n_estimators': 29, 'max_depth': 29}"
      ]
     },
     "execution_count": 10,
     "metadata": {},
     "output_type": "execute_result"
    }
   ],
   "source": [
    "rf_best_params = study.best_params\n",
    "rf_best_params"
   ]
  },
  {
   "cell_type": "markdown",
   "metadata": {},
   "source": [
    "## Decision Tree"
   ]
  },
  {
   "cell_type": "code",
   "execution_count": 44,
   "metadata": {},
   "outputs": [],
   "source": [
    "results = []\n",
    "dt_results = pd.DataFrame()\n",
    "for i in range(1,50,2):\n",
    "    dt_model = DecisionTreeClassifier(max_depth = i)\n",
    "\n",
    "    dt_model.fit(X_train, y_train)\n",
    "\n",
    "    y_pred = dt_model.predict(X_val)\n",
    "\n",
    "    report = report_classification(y_val, y_pred)\n",
    "\n",
    "    results.append({\n",
    "        'max_depth': i,\n",
    "        'Accuracy': report['Accuracy'],\n",
    "        'Precision': report['Precision'],\n",
    "        'Recall': report['Recall'],\n",
    "        'f1-Score': report['f1-Score'],\n",
    "        'Dataset': 'Val'\n",
    "    })\n",
    "\n",
    "    df_aux = pd.DataFrame(results)\n",
    "    dt_results = pd.concat([dt_results, df_aux], axis=0).drop_duplicates()"
   ]
  },
  {
   "cell_type": "code",
   "execution_count": 77,
   "metadata": {},
   "outputs": [
    {
     "data": {
      "text/plain": [
       "<matplotlib.collections.LineCollection at 0x17a61d9c7c0>"
      ]
     },
     "execution_count": 77,
     "metadata": {},
     "output_type": "execute_result"
    },
    {
     "data": {
      "image/png": "[encoded data removed]",
      "text/plain": [
       "<Figure size 2500x1200 with 1 Axes>"
      ]
     },
     "metadata": {},
     "output_type": "display_data"
    }
   ],
   "source": [
    "plt.plot(dt_results['max_depth'],dt_results['Accuracy'], label = 'Accuracy' )\n",
    "plt.plot(dt_results['max_depth'],dt_results['Precision'], label = 'Precision' )\n",
    "plt.plot(dt_results['max_depth'],dt_results['Recall'], label = 'Recall' )\n",
    "plt.plot(dt_results['max_depth'],dt_results['Recall'], label = 'f1-Score' )\n",
    "plt.legend()\n",
    "\n",
    "best_max_depth = int(dt_results['max_depth'].loc[dt_results['f1-Score'] ==  dt_results['f1-Score'].max()])\n",
    "plt.vlines(best_max_depth, ymin = 0.7, ymax=0.96)\n"
   ]
  },
  {
   "cell_type": "code",
   "execution_count": null,
   "metadata": {},
   "outputs": [],
   "source": []
  },
  {
   "cell_type": "code",
   "execution_count": null,
   "metadata": {},
   "outputs": [],
   "source": []
  }
 ],
 "metadata": {
  "kernelspec": {
   "display_name": "myenv",
   "language": "python",
   "name": "python3"
  },
  "language_info": {
   "codemirror_mode": {
    "name": "ipython",
    "version": 3
   },
   "file_extension": ".py",
   "mimetype": "text/x-python",
   "name": "python",
   "nbconvert_exporter": "python",
   "pygments_lexer": "ipython3",
   "version": "3.9.17"
  },
  "orig_nbformat": 4
 },
 "nbformat": 4,
 "nbformat_minor": 2
}
