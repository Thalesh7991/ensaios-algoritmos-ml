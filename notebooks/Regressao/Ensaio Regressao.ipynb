{
 "cells": [
  {
   "cell_type": "markdown",
   "metadata": {},
   "source": [
    "# Imports"
   ]
  },
  {
   "cell_type": "code",
   "execution_count": 19,
   "metadata": {},
   "outputs": [
    {
     "name": "stderr",
     "output_type": "stream",
     "text": [
      "c:\\Users\\thale\\anaconda3\\envs\\myenv\\lib\\site-packages\\tqdm\\auto.py:21: TqdmWarning: IProgress not found. Please update jupyter and ipywidgets. See https://ipywidgets.readthedocs.io/en/stable/user_install.html\n",
      "  from .autonotebook import tqdm as notebook_tqdm\n"
     ]
    }
   ],
   "source": [
    "import pandas as pd\n",
    "import numpy as np\n",
    "import optuna\n",
    "from sklearn.metrics import mean_squared_error, mean_absolute_error, r2_score\n",
    "\n",
    "\n",
    "from sklearn.tree import DecisionTreeRegressor"
   ]
  },
  {
   "cell_type": "markdown",
   "metadata": {},
   "source": [
    "# Helper Functions"
   ]
  },
  {
   "cell_type": "code",
   "execution_count": 9,
   "metadata": {},
   "outputs": [],
   "source": [
    "def calculate_metrics(y_true, y_pred, model_name):\n",
    "    # Calcular R2\n",
    "    r2 = r2_score(y_true, y_pred)\n",
    "    \n",
    "    # Calcular MSE\n",
    "    mse = mean_squared_error(y_true, y_pred)\n",
    "    \n",
    "    # Calcular RMSE\n",
    "    rmse = np.sqrt(mse)\n",
    "    \n",
    "    # Calcular MAE\n",
    "    mae = mean_absolute_error(y_true, y_pred)\n",
    "    \n",
    "    # Calcular MAPE\n",
    "    y_true_arr, y_pred_arr = np.array(y_true), np.array(y_pred)\n",
    "    mape = np.mean(np.abs((y_true_arr - y_pred_arr) / y_true_arr)) * 100\n",
    "    \n",
    "    return {\n",
    "        \"model_name\": model_name,\n",
    "        \"R2\": r2,\n",
    "        \"MSE\": mse,\n",
    "        \"RMSE\": rmse,\n",
    "        \"MAE\": mae,\n",
    "        \"MAPE\": mape\n",
    "    }\n"
   ]
  },
  {
   "cell_type": "markdown",
   "metadata": {},
   "source": [
    "# Data load"
   ]
  },
  {
   "cell_type": "code",
   "execution_count": 3,
   "metadata": {},
   "outputs": [],
   "source": [
    "# Dados de Treinamento\n",
    "X_train = pd.read_csv('../../data/Regressao/X_training.csv')\n",
    "y_train = pd.read_csv('../../data/Regressao/y_training.csv').values.ravel()\n",
    "\n",
    "# Dados de Test\n",
    "X_test = pd.read_csv('../../data/Regressao/X_test.csv')\n",
    "y_test = pd.read_csv('../../data/Regressao/y_test.csv').values.ravel()\n",
    "\n",
    "# Dados de Validacao\n",
    "X_val = pd.read_csv('../../data/Regressao/X_validation.csv')\n",
    "y_val = pd.read_csv('../../data/Regressao/y_val.csv').values.ravel()"
   ]
  },
  {
   "cell_type": "markdown",
   "metadata": {},
   "source": [
    "# Machine Learning"
   ]
  },
  {
   "cell_type": "markdown",
   "metadata": {},
   "source": [
    "## Decision Tree Regression"
   ]
  },
  {
   "cell_type": "code",
   "execution_count": 32,
   "metadata": {},
   "outputs": [],
   "source": [
    "def dt_fine_tuning(trial):\n",
    "    max_depth = trial.suggest_int('max_depth', 2,100)\n",
    "    dt_model = DecisionTreeRegressor(max_depth=max_depth)\n",
    "    dt_model.fit(X_train, y_train)\n",
    "    y_pred = dt_model.predict(X_val)\n",
    "\n",
    "    return calculate_metrics(y_val, y_pred, 'Decision Tree')['RMSE']\n"
   ]
  },
  {
   "cell_type": "code",
   "execution_count": 33,
   "metadata": {},
   "outputs": [
    {
     "name": "stderr",
     "output_type": "stream",
     "text": [
      "[I 2023-08-24 05:36:38,834] A new study created in memory with name: no-name-33748551-5264-4f0e-a0df-14a4bc6816d2\n",
      "[I 2023-08-24 05:36:39,004] Trial 0 finished with value: 21.199652147130326 and parameters: {'max_depth': 7}. Best is trial 0 with value: 21.199652147130326.\n",
      "[I 2023-08-24 05:36:39,446] Trial 1 finished with value: 24.874275027223135 and parameters: {'max_depth': 84}. Best is trial 1 with value: 24.874275027223135.\n",
      "[I 2023-08-24 05:36:39,916] Trial 2 finished with value: 24.918837234266007 and parameters: {'max_depth': 53}. Best is trial 2 with value: 24.918837234266007.\n",
      "[I 2023-08-24 05:36:40,315] Trial 3 finished with value: 24.806287901580383 and parameters: {'max_depth': 86}. Best is trial 2 with value: 24.918837234266007.\n",
      "[I 2023-08-24 05:36:40,645] Trial 4 finished with value: 24.201393233533107 and parameters: {'max_depth': 18}. Best is trial 2 with value: 24.918837234266007.\n",
      "[I 2023-08-24 05:36:41,028] Trial 5 finished with value: 24.749732725993702 and parameters: {'max_depth': 23}. Best is trial 2 with value: 24.918837234266007.\n",
      "[I 2023-08-24 05:36:41,427] Trial 6 finished with value: 24.794352450650898 and parameters: {'max_depth': 49}. Best is trial 2 with value: 24.918837234266007.\n",
      "[I 2023-08-24 05:36:41,837] Trial 7 finished with value: 24.732839552550125 and parameters: {'max_depth': 24}. Best is trial 2 with value: 24.918837234266007.\n",
      "[I 2023-08-24 05:36:42,248] Trial 8 finished with value: 24.727079556097884 and parameters: {'max_depth': 44}. Best is trial 2 with value: 24.918837234266007.\n",
      "[I 2023-08-24 05:36:42,674] Trial 9 finished with value: 24.74548100648872 and parameters: {'max_depth': 22}. Best is trial 2 with value: 24.918837234266007.\n",
      "[I 2023-08-24 05:36:43,110] Trial 10 finished with value: 24.66482893707804 and parameters: {'max_depth': 60}. Best is trial 2 with value: 24.918837234266007.\n",
      "[I 2023-08-24 05:36:43,549] Trial 11 finished with value: 24.82657161331287 and parameters: {'max_depth': 98}. Best is trial 2 with value: 24.918837234266007.\n",
      "[I 2023-08-24 05:36:43,954] Trial 12 finished with value: 24.759415454472112 and parameters: {'max_depth': 72}. Best is trial 2 with value: 24.918837234266007.\n",
      "[I 2023-08-24 05:36:44,353] Trial 13 finished with value: 24.963130095866774 and parameters: {'max_depth': 71}. Best is trial 13 with value: 24.963130095866774.\n",
      "[I 2023-08-24 05:36:44,749] Trial 14 finished with value: 24.803189756176145 and parameters: {'max_depth': 63}. Best is trial 13 with value: 24.963130095866774.\n",
      "[I 2023-08-24 05:36:45,148] Trial 15 finished with value: 24.870224712753835 and parameters: {'max_depth': 37}. Best is trial 13 with value: 24.963130095866774.\n",
      "[I 2023-08-24 05:36:45,547] Trial 16 finished with value: 24.671809778799492 and parameters: {'max_depth': 71}. Best is trial 13 with value: 24.963130095866774.\n",
      "[I 2023-08-24 05:36:45,956] Trial 17 finished with value: 24.751724441570786 and parameters: {'max_depth': 57}. Best is trial 13 with value: 24.963130095866774.\n",
      "[I 2023-08-24 05:36:46,365] Trial 18 finished with value: 24.71535147999606 and parameters: {'max_depth': 35}. Best is trial 13 with value: 24.963130095866774.\n",
      "[I 2023-08-24 05:36:46,860] Trial 19 finished with value: 24.898907239032734 and parameters: {'max_depth': 77}. Best is trial 13 with value: 24.963130095866774.\n",
      "[I 2023-08-24 05:36:47,306] Trial 20 finished with value: 25.067689822717472 and parameters: {'max_depth': 97}. Best is trial 20 with value: 25.067689822717472.\n",
      "[I 2023-08-24 05:36:47,704] Trial 21 finished with value: 24.937367452862723 and parameters: {'max_depth': 98}. Best is trial 20 with value: 25.067689822717472.\n",
      "[I 2023-08-24 05:36:48,098] Trial 22 finished with value: 24.818608065671352 and parameters: {'max_depth': 98}. Best is trial 20 with value: 25.067689822717472.\n",
      "[I 2023-08-24 05:36:48,498] Trial 23 finished with value: 24.852929670488486 and parameters: {'max_depth': 90}. Best is trial 20 with value: 25.067689822717472.\n",
      "[I 2023-08-24 05:36:48,929] Trial 24 finished with value: 24.902583835107407 and parameters: {'max_depth': 92}. Best is trial 20 with value: 25.067689822717472.\n",
      "[I 2023-08-24 05:36:49,381] Trial 25 finished with value: 24.979400247919855 and parameters: {'max_depth': 100}. Best is trial 20 with value: 25.067689822717472.\n",
      "[I 2023-08-24 05:36:49,783] Trial 26 finished with value: 24.81450729296685 and parameters: {'max_depth': 78}. Best is trial 20 with value: 25.067689822717472.\n",
      "[I 2023-08-24 05:36:50,179] Trial 27 finished with value: 24.775457438041354 and parameters: {'max_depth': 68}. Best is trial 20 with value: 25.067689822717472.\n",
      "[I 2023-08-24 05:36:50,572] Trial 28 finished with value: 24.673971069102983 and parameters: {'max_depth': 82}. Best is trial 20 with value: 25.067689822717472.\n",
      "[I 2023-08-24 05:36:50,639] Trial 29 finished with value: 21.244727047125895 and parameters: {'max_depth': 3}. Best is trial 20 with value: 25.067689822717472.\n",
      "[I 2023-08-24 05:36:51,029] Trial 30 finished with value: 24.87591510097891 and parameters: {'max_depth': 91}. Best is trial 20 with value: 25.067689822717472.\n",
      "[I 2023-08-24 05:36:51,478] Trial 31 finished with value: 25.007952315173352 and parameters: {'max_depth': 98}. Best is trial 20 with value: 25.067689822717472.\n",
      "[I 2023-08-24 05:36:51,886] Trial 32 finished with value: 24.806421836336114 and parameters: {'max_depth': 92}. Best is trial 20 with value: 25.067689822717472.\n",
      "[I 2023-08-24 05:36:52,279] Trial 33 finished with value: 24.776610044534543 and parameters: {'max_depth': 99}. Best is trial 20 with value: 25.067689822717472.\n",
      "[I 2023-08-24 05:36:52,673] Trial 34 finished with value: 24.80568147744872 and parameters: {'max_depth': 85}. Best is trial 20 with value: 25.067689822717472.\n",
      "[I 2023-08-24 05:36:53,076] Trial 35 finished with value: 24.698787577269698 and parameters: {'max_depth': 79}. Best is trial 20 with value: 25.067689822717472.\n",
      "[I 2023-08-24 05:36:53,472] Trial 36 finished with value: 24.92097775697733 and parameters: {'max_depth': 89}. Best is trial 20 with value: 25.067689822717472.\n",
      "[I 2023-08-24 05:36:53,871] Trial 37 finished with value: 24.809320189950245 and parameters: {'max_depth': 85}. Best is trial 20 with value: 25.067689822717472.\n",
      "[I 2023-08-24 05:36:54,275] Trial 38 finished with value: 24.80536938119657 and parameters: {'max_depth': 94}. Best is trial 20 with value: 25.067689822717472.\n",
      "[I 2023-08-24 05:36:54,678] Trial 39 finished with value: 24.916993607120155 and parameters: {'max_depth': 66}. Best is trial 20 with value: 25.067689822717472.\n",
      "[I 2023-08-24 05:36:55,077] Trial 40 finished with value: 24.833395975672715 and parameters: {'max_depth': 74}. Best is trial 20 with value: 25.067689822717472.\n",
      "[I 2023-08-24 05:36:55,474] Trial 41 finished with value: 24.904170841949373 and parameters: {'max_depth': 100}. Best is trial 20 with value: 25.067689822717472.\n",
      "[I 2023-08-24 05:36:55,863] Trial 42 finished with value: 24.74203589755885 and parameters: {'max_depth': 96}. Best is trial 20 with value: 25.067689822717472.\n",
      "[I 2023-08-24 05:36:56,256] Trial 43 finished with value: 24.944328220855354 and parameters: {'max_depth': 86}. Best is trial 20 with value: 25.067689822717472.\n",
      "[I 2023-08-24 05:36:56,677] Trial 44 finished with value: 24.845778371990644 and parameters: {'max_depth': 87}. Best is trial 20 with value: 25.067689822717472.\n",
      "[I 2023-08-24 05:36:57,098] Trial 45 finished with value: 24.780630727705876 and parameters: {'max_depth': 82}. Best is trial 20 with value: 25.067689822717472.\n",
      "[I 2023-08-24 05:36:57,531] Trial 46 finished with value: 24.789866351422184 and parameters: {'max_depth': 95}. Best is trial 20 with value: 25.067689822717472.\n",
      "[I 2023-08-24 05:36:57,934] Trial 47 finished with value: 24.999245419174798 and parameters: {'max_depth': 82}. Best is trial 20 with value: 25.067689822717472.\n",
      "[I 2023-08-24 05:36:58,165] Trial 48 finished with value: 22.601301332376966 and parameters: {'max_depth': 12}. Best is trial 20 with value: 25.067689822717472.\n",
      "[I 2023-08-24 05:36:58,629] Trial 49 finished with value: 24.81265504576719 and parameters: {'max_depth': 54}. Best is trial 20 with value: 25.067689822717472.\n",
      "[I 2023-08-24 05:36:59,127] Trial 50 finished with value: 24.799262424304576 and parameters: {'max_depth': 44}. Best is trial 20 with value: 25.067689822717472.\n",
      "[I 2023-08-24 05:36:59,628] Trial 51 finished with value: 24.867158875624632 and parameters: {'max_depth': 88}. Best is trial 20 with value: 25.067689822717472.\n",
      "[I 2023-08-24 05:37:00,145] Trial 52 finished with value: 24.841370448933453 and parameters: {'max_depth': 81}. Best is trial 20 with value: 25.067689822717472.\n",
      "[I 2023-08-24 05:37:00,647] Trial 53 finished with value: 24.96941885430108 and parameters: {'max_depth': 75}. Best is trial 20 with value: 25.067689822717472.\n",
      "[I 2023-08-24 05:37:01,389] Trial 54 finished with value: 24.839009817050137 and parameters: {'max_depth': 75}. Best is trial 20 with value: 25.067689822717472.\n",
      "[I 2023-08-24 05:37:01,943] Trial 55 finished with value: 25.075190002949473 and parameters: {'max_depth': 94}. Best is trial 55 with value: 25.075190002949473.\n",
      "[I 2023-08-24 05:37:02,390] Trial 56 finished with value: 25.00024209779751 and parameters: {'max_depth': 95}. Best is trial 55 with value: 25.075190002949473.\n",
      "[I 2023-08-24 05:37:02,853] Trial 57 finished with value: 24.930725146364104 and parameters: {'max_depth': 100}. Best is trial 55 with value: 25.075190002949473.\n",
      "[I 2023-08-24 05:37:03,346] Trial 58 finished with value: 24.748136560850597 and parameters: {'max_depth': 95}. Best is trial 55 with value: 25.075190002949473.\n",
      "[I 2023-08-24 05:37:03,776] Trial 59 finished with value: 24.8578179150578 and parameters: {'max_depth': 93}. Best is trial 55 with value: 25.075190002949473.\n",
      "[I 2023-08-24 05:37:04,173] Trial 60 finished with value: 24.70087828344132 and parameters: {'max_depth': 97}. Best is trial 55 with value: 25.075190002949473.\n",
      "[I 2023-08-24 05:37:04,576] Trial 61 finished with value: 24.8186689190346 and parameters: {'max_depth': 90}. Best is trial 55 with value: 25.075190002949473.\n",
      "[I 2023-08-24 05:37:04,986] Trial 62 finished with value: 24.784027116111243 and parameters: {'max_depth': 95}. Best is trial 55 with value: 25.075190002949473.\n",
      "[I 2023-08-24 05:37:05,389] Trial 63 finished with value: 24.734133528506838 and parameters: {'max_depth': 90}. Best is trial 55 with value: 25.075190002949473.\n",
      "[I 2023-08-24 05:37:05,854] Trial 64 finished with value: 24.652748103054094 and parameters: {'max_depth': 100}. Best is trial 55 with value: 25.075190002949473.\n",
      "[I 2023-08-24 05:37:06,354] Trial 65 finished with value: 24.89951476809386 and parameters: {'max_depth': 85}. Best is trial 55 with value: 25.075190002949473.\n",
      "[I 2023-08-24 05:37:06,811] Trial 66 finished with value: 24.773602214159588 and parameters: {'max_depth': 81}. Best is trial 55 with value: 25.075190002949473.\n",
      "[I 2023-08-24 05:37:07,258] Trial 67 finished with value: 25.001128981487287 and parameters: {'max_depth': 93}. Best is trial 55 with value: 25.075190002949473.\n",
      "[I 2023-08-24 05:37:07,681] Trial 68 finished with value: 24.88648257607272 and parameters: {'max_depth': 93}. Best is trial 55 with value: 25.075190002949473.\n",
      "[I 2023-08-24 05:37:08,135] Trial 69 finished with value: 24.767015976803787 and parameters: {'max_depth': 29}. Best is trial 55 with value: 25.075190002949473.\n",
      "[I 2023-08-24 05:37:08,637] Trial 70 finished with value: 24.79057018938951 and parameters: {'max_depth': 96}. Best is trial 55 with value: 25.075190002949473.\n",
      "[I 2023-08-24 05:37:09,055] Trial 71 finished with value: 24.92077401671543 and parameters: {'max_depth': 89}. Best is trial 55 with value: 25.075190002949473.\n",
      "[I 2023-08-24 05:37:09,500] Trial 72 finished with value: 25.100618529417154 and parameters: {'max_depth': 97}. Best is trial 72 with value: 25.100618529417154.\n",
      "[I 2023-08-24 05:37:09,959] Trial 73 finished with value: 24.761401923098024 and parameters: {'max_depth': 97}. Best is trial 72 with value: 25.100618529417154.\n",
      "[I 2023-08-24 05:37:10,421] Trial 74 finished with value: 24.90757270518488 and parameters: {'max_depth': 92}. Best is trial 72 with value: 25.100618529417154.\n",
      "[I 2023-08-24 05:37:10,868] Trial 75 finished with value: 24.959718596734014 and parameters: {'max_depth': 100}. Best is trial 72 with value: 25.100618529417154.\n",
      "[I 2023-08-24 05:37:11,298] Trial 76 finished with value: 24.78546728034733 and parameters: {'max_depth': 93}. Best is trial 72 with value: 25.100618529417154.\n",
      "[I 2023-08-24 05:37:11,735] Trial 77 finished with value: 24.956764313352668 and parameters: {'max_depth': 87}. Best is trial 72 with value: 25.100618529417154.\n",
      "[I 2023-08-24 05:37:12,162] Trial 78 finished with value: 24.830219218669257 and parameters: {'max_depth': 97}. Best is trial 72 with value: 25.100618529417154.\n",
      "[I 2023-08-24 05:37:12,594] Trial 79 finished with value: 24.900134593036498 and parameters: {'max_depth': 91}. Best is trial 72 with value: 25.100618529417154.\n",
      "[I 2023-08-24 05:37:13,000] Trial 80 finished with value: 25.063523302166494 and parameters: {'max_depth': 83}. Best is trial 72 with value: 25.100618529417154.\n",
      "[I 2023-08-24 05:37:13,407] Trial 81 finished with value: 24.985982221679865 and parameters: {'max_depth': 83}. Best is trial 72 with value: 25.100618529417154.\n",
      "[I 2023-08-24 05:37:13,928] Trial 82 finished with value: 24.984523177974694 and parameters: {'max_depth': 84}. Best is trial 72 with value: 25.100618529417154.\n",
      "[I 2023-08-24 05:37:14,396] Trial 83 finished with value: 24.955130070119036 and parameters: {'max_depth': 88}. Best is trial 72 with value: 25.100618529417154.\n",
      "[I 2023-08-24 05:37:14,812] Trial 84 finished with value: 24.827614179993276 and parameters: {'max_depth': 82}. Best is trial 72 with value: 25.100618529417154.\n",
      "[I 2023-08-24 05:37:15,259] Trial 85 finished with value: 24.787213767847135 and parameters: {'max_depth': 61}. Best is trial 72 with value: 25.100618529417154.\n",
      "[I 2023-08-24 05:37:15,674] Trial 86 finished with value: 25.0908768326012 and parameters: {'max_depth': 78}. Best is trial 72 with value: 25.100618529417154.\n",
      "[I 2023-08-24 05:37:16,076] Trial 87 finished with value: 24.944240107601498 and parameters: {'max_depth': 67}. Best is trial 72 with value: 25.100618529417154.\n",
      "[I 2023-08-24 05:37:16,576] Trial 88 finished with value: 24.940217148958794 and parameters: {'max_depth': 80}. Best is trial 72 with value: 25.100618529417154.\n",
      "[I 2023-08-24 05:37:17,141] Trial 89 finished with value: 24.926710449041234 and parameters: {'max_depth': 78}. Best is trial 72 with value: 25.100618529417154.\n",
      "[I 2023-08-24 05:37:17,595] Trial 90 finished with value: 24.833003856144344 and parameters: {'max_depth': 71}. Best is trial 72 with value: 25.100618529417154.\n",
      "[I 2023-08-24 05:37:18,129] Trial 91 finished with value: 24.941930134924192 and parameters: {'max_depth': 84}. Best is trial 72 with value: 25.100618529417154.\n",
      "[I 2023-08-24 05:37:18,566] Trial 92 finished with value: 24.88362903715143 and parameters: {'max_depth': 94}. Best is trial 72 with value: 25.100618529417154.\n",
      "[I 2023-08-24 05:37:19,019] Trial 93 finished with value: 24.93351501268291 and parameters: {'max_depth': 77}. Best is trial 72 with value: 25.100618529417154.\n",
      "[I 2023-08-24 05:37:19,489] Trial 94 finished with value: 25.01757396062411 and parameters: {'max_depth': 98}. Best is trial 72 with value: 25.100618529417154.\n",
      "[I 2023-08-24 05:37:20,006] Trial 95 finished with value: 24.93616784961619 and parameters: {'max_depth': 98}. Best is trial 72 with value: 25.100618529417154.\n",
      "[I 2023-08-24 05:37:20,490] Trial 96 finished with value: 24.83050393837665 and parameters: {'max_depth': 91}. Best is trial 72 with value: 25.100618529417154.\n",
      "[I 2023-08-24 05:37:20,969] Trial 97 finished with value: 24.978095532175487 and parameters: {'max_depth': 95}. Best is trial 72 with value: 25.100618529417154.\n",
      "[I 2023-08-24 05:37:21,450] Trial 98 finished with value: 25.016962656115282 and parameters: {'max_depth': 98}. Best is trial 72 with value: 25.100618529417154.\n",
      "[I 2023-08-24 05:37:22,026] Trial 99 finished with value: 24.88806158745973 and parameters: {'max_depth': 98}. Best is trial 72 with value: 25.100618529417154.\n"
     ]
    }
   ],
   "source": [
    "study = optuna.create_study(direction='maximize')\n",
    "study.optimize(dt_fine_tuning, n_trials=100)"
   ]
  },
  {
   "cell_type": "code",
   "execution_count": 34,
   "metadata": {},
   "outputs": [
    {
     "ename": "ValueError",
     "evalue": "Mime type rendering requires nbformat>=4.2.0 but it is not installed",
     "output_type": "error",
     "traceback": [
      "\u001b[1;31m---------------------------------------------------------------------------\u001b[0m",
      "\u001b[1;31mValueError\u001b[0m                                Traceback (most recent call last)",
      "File \u001b[1;32mc:\\Users\\thale\\anaconda3\\envs\\myenv\\lib\\site-packages\\IPython\\core\\formatters.py:922\u001b[0m, in \u001b[0;36mIPythonDisplayFormatter.__call__\u001b[1;34m(self, obj)\u001b[0m\n\u001b[0;32m    920\u001b[0m method \u001b[39m=\u001b[39m get_real_method(obj, \u001b[39mself\u001b[39m\u001b[39m.\u001b[39mprint_method)\n\u001b[0;32m    921\u001b[0m \u001b[39mif\u001b[39;00m method \u001b[39mis\u001b[39;00m \u001b[39mnot\u001b[39;00m \u001b[39mNone\u001b[39;00m:\n\u001b[1;32m--> 922\u001b[0m     method()\n\u001b[0;32m    923\u001b[0m     \u001b[39mreturn\u001b[39;00m \u001b[39mTrue\u001b[39;00m\n",
      "File \u001b[1;32mc:\\Users\\thale\\anaconda3\\envs\\myenv\\lib\\site-packages\\plotly\\basedatatypes.py:834\u001b[0m, in \u001b[0;36mBaseFigure._ipython_display_\u001b[1;34m(self)\u001b[0m\n\u001b[0;32m    831\u001b[0m \u001b[39mimport\u001b[39;00m \u001b[39mplotly\u001b[39;00m\u001b[39m.\u001b[39;00m\u001b[39mio\u001b[39;00m \u001b[39mas\u001b[39;00m \u001b[39mpio\u001b[39;00m\n\u001b[0;32m    833\u001b[0m \u001b[39mif\u001b[39;00m pio\u001b[39m.\u001b[39mrenderers\u001b[39m.\u001b[39mrender_on_display \u001b[39mand\u001b[39;00m pio\u001b[39m.\u001b[39mrenderers\u001b[39m.\u001b[39mdefault:\n\u001b[1;32m--> 834\u001b[0m     pio\u001b[39m.\u001b[39;49mshow(\u001b[39mself\u001b[39;49m)\n\u001b[0;32m    835\u001b[0m \u001b[39melse\u001b[39;00m:\n\u001b[0;32m    836\u001b[0m     \u001b[39mprint\u001b[39m(\u001b[39mrepr\u001b[39m(\u001b[39mself\u001b[39m))\n",
      "File \u001b[1;32mc:\\Users\\thale\\anaconda3\\envs\\myenv\\lib\\site-packages\\plotly\\io\\_renderers.py:396\u001b[0m, in \u001b[0;36mshow\u001b[1;34m(fig, renderer, validate, **kwargs)\u001b[0m\n\u001b[0;32m    391\u001b[0m         \u001b[39mraise\u001b[39;00m \u001b[39mValueError\u001b[39;00m(\n\u001b[0;32m    392\u001b[0m             \u001b[39m\"\u001b[39m\u001b[39mMime type rendering requires ipython but it is not installed\u001b[39m\u001b[39m\"\u001b[39m\n\u001b[0;32m    393\u001b[0m         )\n\u001b[0;32m    395\u001b[0m     \u001b[39mif\u001b[39;00m \u001b[39mnot\u001b[39;00m nbformat \u001b[39mor\u001b[39;00m Version(nbformat\u001b[39m.\u001b[39m__version__) \u001b[39m<\u001b[39m Version(\u001b[39m\"\u001b[39m\u001b[39m4.2.0\u001b[39m\u001b[39m\"\u001b[39m):\n\u001b[1;32m--> 396\u001b[0m         \u001b[39mraise\u001b[39;00m \u001b[39mValueError\u001b[39;00m(\n\u001b[0;32m    397\u001b[0m             \u001b[39m\"\u001b[39m\u001b[39mMime type rendering requires nbformat>=4.2.0 but it is not installed\u001b[39m\u001b[39m\"\u001b[39m\n\u001b[0;32m    398\u001b[0m         )\n\u001b[0;32m    400\u001b[0m     ipython_display\u001b[39m.\u001b[39mdisplay(bundle, raw\u001b[39m=\u001b[39m\u001b[39mTrue\u001b[39;00m)\n\u001b[0;32m    402\u001b[0m \u001b[39m# external renderers\u001b[39;00m\n",
      "\u001b[1;31mValueError\u001b[0m: Mime type rendering requires nbformat>=4.2.0 but it is not installed"
     ]
    },
    {
     "data": {
      "application/vnd.plotly.v1+json": {
       "config": {
        "plotlyServerURL": "https://plot.ly"
       },
       "data": [
        {
         "mode": "markers",
         "name": "Objective Value",
         "type": "scatter",
         "x": [
          0,
          1,
          2,
          3,
          4,
          5,
          6,
          7,
          8,
          9,
          10,
          11,
          12,
          13,
          14,
          15,
          16,
          17,
          18,
          19,
          20,
          21,
          22,
          23,
          24,
          25,
          26,
          27,
          28,
          29,
          30,
          31,
          32,
          33,
          34,
          35,
          36,
          37,
          38,
          39,
          40,
          41,
          42,
          43,
          44,
          45,
          46,
          47,
          48,
          49,
          50,
          51,
          52,
          53,
          54,
          55,
          56,
          57,
          58,
          59,
          60,
          61,
          62,
          63,
          64,
          65,
          66,
          67,
          68,
          69,
          70,
          71,
          72,
          73,
          74,
          75,
          76,
          77,
          78,
          79,
          80,
          81,
          82,
          83,
          84,
          85,
          86,
          87,
          88,
          89,
          90,
          91,
          92,
          93,
          94,
          95,
          96,
          97,
          98,
          99
         ],
         "y": [
          21.199652147130326,
          24.874275027223135,
          24.918837234266007,
          24.806287901580383,
          24.201393233533107,
          24.749732725993702,
          24.794352450650898,
          24.732839552550125,
          24.727079556097884,
          24.74548100648872,
          24.66482893707804,
          24.82657161331287,
          24.759415454472112,
          24.963130095866774,
          24.803189756176145,
          24.870224712753835,
          24.671809778799492,
          24.751724441570786,
          24.71535147999606,
          24.898907239032734,
          25.067689822717472,
          24.937367452862723,
          24.818608065671352,
          24.852929670488486,
          24.902583835107407,
          24.979400247919855,
          24.81450729296685,
          24.775457438041354,
          24.673971069102983,
          21.244727047125895,
          24.87591510097891,
          25.007952315173352,
          24.806421836336114,
          24.776610044534543,
          24.80568147744872,
          24.698787577269698,
          24.92097775697733,
          24.809320189950245,
          24.80536938119657,
          24.916993607120155,
          24.833395975672715,
          24.904170841949373,
          24.74203589755885,
          24.944328220855354,
          24.845778371990644,
          24.780630727705876,
          24.789866351422184,
          24.999245419174798,
          22.601301332376966,
          24.81265504576719,
          24.799262424304576,
          24.867158875624632,
          24.841370448933453,
          24.96941885430108,
          24.839009817050137,
          25.075190002949473,
          25.00024209779751,
          24.930725146364104,
          24.748136560850597,
          24.8578179150578,
          24.70087828344132,
          24.8186689190346,
          24.784027116111243,
          24.734133528506838,
          24.652748103054094,
          24.89951476809386,
          24.773602214159588,
          25.001128981487287,
          24.88648257607272,
          24.767015976803787,
          24.79057018938951,
          24.92077401671543,
          25.100618529417154,
          24.761401923098024,
          24.90757270518488,
          24.959718596734014,
          24.78546728034733,
          24.956764313352668,
          24.830219218669257,
          24.900134593036498,
          25.063523302166494,
          24.985982221679865,
          24.984523177974694,
          24.955130070119036,
          24.827614179993276,
          24.787213767847135,
          25.0908768326012,
          24.944240107601498,
          24.940217148958794,
          24.926710449041234,
          24.833003856144344,
          24.941930134924192,
          24.88362903715143,
          24.93351501268291,
          25.01757396062411,
          24.93616784961619,
          24.83050393837665,
          24.978095532175487,
          25.016962656115282,
          24.88806158745973
         ]
        },
        {
         "mode": "lines",
         "name": "Best Value",
         "type": "scatter",
         "x": [
          0,
          1,
          2,
          3,
          4,
          5,
          6,
          7,
          8,
          9,
          10,
          11,
          12,
          13,
          14,
          15,
          16,
          17,
          18,
          19,
          20,
          21,
          22,
          23,
          24,
          25,
          26,
          27,
          28,
          29,
          30,
          31,
          32,
          33,
          34,
          35,
          36,
          37,
          38,
          39,
          40,
          41,
          42,
          43,
          44,
          45,
          46,
          47,
          48,
          49,
          50,
          51,
          52,
          53,
          54,
          55,
          56,
          57,
          58,
          59,
          60,
          61,
          62,
          63,
          64,
          65,
          66,
          67,
          68,
          69,
          70,
          71,
          72,
          73,
          74,
          75,
          76,
          77,
          78,
          79,
          80,
          81,
          82,
          83,
          84,
          85,
          86,
          87,
          88,
          89,
          90,
          91,
          92,
          93,
          94,
          95,
          96,
          97,
          98,
          99
         ],
         "y": [
          21.199652147130326,
          24.874275027223135,
          24.918837234266007,
          24.918837234266007,
          24.918837234266007,
          24.918837234266007,
          24.918837234266007,
          24.918837234266007,
          24.918837234266007,
          24.918837234266007,
          24.918837234266007,
          24.918837234266007,
          24.918837234266007,
          24.963130095866774,
          24.963130095866774,
          24.963130095866774,
          24.963130095866774,
          24.963130095866774,
          24.963130095866774,
          24.963130095866774,
          25.067689822717472,
          25.067689822717472,
          25.067689822717472,
          25.067689822717472,
          25.067689822717472,
          25.067689822717472,
          25.067689822717472,
          25.067689822717472,
          25.067689822717472,
          25.067689822717472,
          25.067689822717472,
          25.067689822717472,
          25.067689822717472,
          25.067689822717472,
          25.067689822717472,
          25.067689822717472,
          25.067689822717472,
          25.067689822717472,
          25.067689822717472,
          25.067689822717472,
          25.067689822717472,
          25.067689822717472,
          25.067689822717472,
          25.067689822717472,
          25.067689822717472,
          25.067689822717472,
          25.067689822717472,
          25.067689822717472,
          25.067689822717472,
          25.067689822717472,
          25.067689822717472,
          25.067689822717472,
          25.067689822717472,
          25.067689822717472,
          25.067689822717472,
          25.075190002949473,
          25.075190002949473,
          25.075190002949473,
          25.075190002949473,
          25.075190002949473,
          25.075190002949473,
          25.075190002949473,
          25.075190002949473,
          25.075190002949473,
          25.075190002949473,
          25.075190002949473,
          25.075190002949473,
          25.075190002949473,
          25.075190002949473,
          25.075190002949473,
          25.075190002949473,
          25.075190002949473,
          25.100618529417154,
          25.100618529417154,
          25.100618529417154,
          25.100618529417154,
          25.100618529417154,
          25.100618529417154,
          25.100618529417154,
          25.100618529417154,
          25.100618529417154,
          25.100618529417154,
          25.100618529417154,
          25.100618529417154,
          25.100618529417154,
          25.100618529417154,
          25.100618529417154,
          25.100618529417154,
          25.100618529417154,
          25.100618529417154,
          25.100618529417154,
          25.100618529417154,
          25.100618529417154,
          25.100618529417154,
          25.100618529417154,
          25.100618529417154,
          25.100618529417154,
          25.100618529417154,
          25.100618529417154,
          25.100618529417154
         ]
        },
        {
         "marker": {
          "color": "#cccccc"
         },
         "mode": "markers",
         "name": "Infeasible Trial",
         "showlegend": false,
         "type": "scatter",
         "x": [],
         "y": []
        }
       ],
       "layout": {
        "template": {
         "data": {
          "bar": [
           {
            "error_x": {
             "color": "#2a3f5f"
            },
            "error_y": {
             "color": "#2a3f5f"
            },
            "marker": {
             "line": {
              "color": "#E5ECF6",
              "width": 0.5
             },
             "pattern": {
              "fillmode": "overlay",
              "size": 10,
              "solidity": 0.2
             }
            },
            "type": "bar"
           }
          ],
          "barpolar": [
           {
            "marker": {
             "line": {
              "color": "#E5ECF6",
              "width": 0.5
             },
             "pattern": {
              "fillmode": "overlay",
              "size": 10,
              "solidity": 0.2
             }
            },
            "type": "barpolar"
           }
          ],
          "carpet": [
           {
            "aaxis": {
             "endlinecolor": "#2a3f5f",
             "gridcolor": "white",
             "linecolor": "white",
             "minorgridcolor": "white",
             "startlinecolor": "#2a3f5f"
            },
            "baxis": {
             "endlinecolor": "#2a3f5f",
             "gridcolor": "white",
             "linecolor": "white",
             "minorgridcolor": "white",
             "startlinecolor": "#2a3f5f"
            },
            "type": "carpet"
           }
          ],
          "choropleth": [
           {
            "colorbar": {
             "outlinewidth": 0,
             "ticks": ""
            },
            "type": "choropleth"
           }
          ],
          "contour": [
           {
            "colorbar": {
             "outlinewidth": 0,
             "ticks": ""
            },
            "colorscale": [
             [
              0,
              "#0d0887"
             ],
             [
              0.1111111111111111,
              "#46039f"
             ],
             [
              0.2222222222222222,
              "#7201a8"
             ],
             [
              0.3333333333333333,
              "#9c179e"
             ],
             [
              0.4444444444444444,
              "#bd3786"
             ],
             [
              0.5555555555555556,
              "#d8576b"
             ],
             [
              0.6666666666666666,
              "#ed7953"
             ],
             [
              0.7777777777777778,
              "#fb9f3a"
             ],
             [
              0.8888888888888888,
              "#fdca26"
             ],
             [
              1,
              "#f0f921"
             ]
            ],
            "type": "contour"
           }
          ],
          "contourcarpet": [
           {
            "colorbar": {
             "outlinewidth": 0,
             "ticks": ""
            },
            "type": "contourcarpet"
           }
          ],
          "heatmap": [
           {
            "colorbar": {
             "outlinewidth": 0,
             "ticks": ""
            },
            "colorscale": [
             [
              0,
              "#0d0887"
             ],
             [
              0.1111111111111111,
              "#46039f"
             ],
             [
              0.2222222222222222,
              "#7201a8"
             ],
             [
              0.3333333333333333,
              "#9c179e"
             ],
             [
              0.4444444444444444,
              "#bd3786"
             ],
             [
              0.5555555555555556,
              "#d8576b"
             ],
             [
              0.6666666666666666,
              "#ed7953"
             ],
             [
              0.7777777777777778,
              "#fb9f3a"
             ],
             [
              0.8888888888888888,
              "#fdca26"
             ],
             [
              1,
              "#f0f921"
             ]
            ],
            "type": "heatmap"
           }
          ],
          "heatmapgl": [
           {
            "colorbar": {
             "outlinewidth": 0,
             "ticks": ""
            },
            "colorscale": [
             [
              0,
              "#0d0887"
             ],
             [
              0.1111111111111111,
              "#46039f"
             ],
             [
              0.2222222222222222,
              "#7201a8"
             ],
             [
              0.3333333333333333,
              "#9c179e"
             ],
             [
              0.4444444444444444,
              "#bd3786"
             ],
             [
              0.5555555555555556,
              "#d8576b"
             ],
             [
              0.6666666666666666,
              "#ed7953"
             ],
             [
              0.7777777777777778,
              "#fb9f3a"
             ],
             [
              0.8888888888888888,
              "#fdca26"
             ],
             [
              1,
              "#f0f921"
             ]
            ],
            "type": "heatmapgl"
           }
          ],
          "histogram": [
           {
            "marker": {
             "pattern": {
              "fillmode": "overlay",
              "size": 10,
              "solidity": 0.2
             }
            },
            "type": "histogram"
           }
          ],
          "histogram2d": [
           {
            "colorbar": {
             "outlinewidth": 0,
             "ticks": ""
            },
            "colorscale": [
             [
              0,
              "#0d0887"
             ],
             [
              0.1111111111111111,
              "#46039f"
             ],
             [
              0.2222222222222222,
              "#7201a8"
             ],
             [
              0.3333333333333333,
              "#9c179e"
             ],
             [
              0.4444444444444444,
              "#bd3786"
             ],
             [
              0.5555555555555556,
              "#d8576b"
             ],
             [
              0.6666666666666666,
              "#ed7953"
             ],
             [
              0.7777777777777778,
              "#fb9f3a"
             ],
             [
              0.8888888888888888,
              "#fdca26"
             ],
             [
              1,
              "#f0f921"
             ]
            ],
            "type": "histogram2d"
           }
          ],
          "histogram2dcontour": [
           {
            "colorbar": {
             "outlinewidth": 0,
             "ticks": ""
            },
            "colorscale": [
             [
              0,
              "#0d0887"
             ],
             [
              0.1111111111111111,
              "#46039f"
             ],
             [
              0.2222222222222222,
              "#7201a8"
             ],
             [
              0.3333333333333333,
              "#9c179e"
             ],
             [
              0.4444444444444444,
              "#bd3786"
             ],
             [
              0.5555555555555556,
              "#d8576b"
             ],
             [
              0.6666666666666666,
              "#ed7953"
             ],
             [
              0.7777777777777778,
              "#fb9f3a"
             ],
             [
              0.8888888888888888,
              "#fdca26"
             ],
             [
              1,
              "#f0f921"
             ]
            ],
            "type": "histogram2dcontour"
           }
          ],
          "mesh3d": [
           {
            "colorbar": {
             "outlinewidth": 0,
             "ticks": ""
            },
            "type": "mesh3d"
           }
          ],
          "parcoords": [
           {
            "line": {
             "colorbar": {
              "outlinewidth": 0,
              "ticks": ""
             }
            },
            "type": "parcoords"
           }
          ],
          "pie": [
           {
            "automargin": true,
            "type": "pie"
           }
          ],
          "scatter": [
           {
            "fillpattern": {
             "fillmode": "overlay",
             "size": 10,
             "solidity": 0.2
            },
            "type": "scatter"
           }
          ],
          "scatter3d": [
           {
            "line": {
             "colorbar": {
              "outlinewidth": 0,
              "ticks": ""
             }
            },
            "marker": {
             "colorbar": {
              "outlinewidth": 0,
              "ticks": ""
             }
            },
            "type": "scatter3d"
           }
          ],
          "scattercarpet": [
           {
            "marker": {
             "colorbar": {
              "outlinewidth": 0,
              "ticks": ""
             }
            },
            "type": "scattercarpet"
           }
          ],
          "scattergeo": [
           {
            "marker": {
             "colorbar": {
              "outlinewidth": 0,
              "ticks": ""
             }
            },
            "type": "scattergeo"
           }
          ],
          "scattergl": [
           {
            "marker": {
             "colorbar": {
              "outlinewidth": 0,
              "ticks": ""
             }
            },
            "type": "scattergl"
           }
          ],
          "scattermapbox": [
           {
            "marker": {
             "colorbar": {
              "outlinewidth": 0,
              "ticks": ""
             }
            },
            "type": "scattermapbox"
           }
          ],
          "scatterpolar": [
           {
            "marker": {
             "colorbar": {
              "outlinewidth": 0,
              "ticks": ""
             }
            },
            "type": "scatterpolar"
           }
          ],
          "scatterpolargl": [
           {
            "marker": {
             "colorbar": {
              "outlinewidth": 0,
              "ticks": ""
             }
            },
            "type": "scatterpolargl"
           }
          ],
          "scatterternary": [
           {
            "marker": {
             "colorbar": {
              "outlinewidth": 0,
              "ticks": ""
             }
            },
            "type": "scatterternary"
           }
          ],
          "surface": [
           {
            "colorbar": {
             "outlinewidth": 0,
             "ticks": ""
            },
            "colorscale": [
             [
              0,
              "#0d0887"
             ],
             [
              0.1111111111111111,
              "#46039f"
             ],
             [
              0.2222222222222222,
              "#7201a8"
             ],
             [
              0.3333333333333333,
              "#9c179e"
             ],
             [
              0.4444444444444444,
              "#bd3786"
             ],
             [
              0.5555555555555556,
              "#d8576b"
             ],
             [
              0.6666666666666666,
              "#ed7953"
             ],
             [
              0.7777777777777778,
              "#fb9f3a"
             ],
             [
              0.8888888888888888,
              "#fdca26"
             ],
             [
              1,
              "#f0f921"
             ]
            ],
            "type": "surface"
           }
          ],
          "table": [
           {
            "cells": {
             "fill": {
              "color": "#EBF0F8"
             },
             "line": {
              "color": "white"
             }
            },
            "header": {
             "fill": {
              "color": "#C8D4E3"
             },
             "line": {
              "color": "white"
             }
            },
            "type": "table"
           }
          ]
         },
         "layout": {
          "annotationdefaults": {
           "arrowcolor": "#2a3f5f",
           "arrowhead": 0,
           "arrowwidth": 1
          },
          "autotypenumbers": "strict",
          "coloraxis": {
           "colorbar": {
            "outlinewidth": 0,
            "ticks": ""
           }
          },
          "colorscale": {
           "diverging": [
            [
             0,
             "#8e0152"
            ],
            [
             0.1,
             "#c51b7d"
            ],
            [
             0.2,
             "#de77ae"
            ],
            [
             0.3,
             "#f1b6da"
            ],
            [
             0.4,
             "#fde0ef"
            ],
            [
             0.5,
             "#f7f7f7"
            ],
            [
             0.6,
             "#e6f5d0"
            ],
            [
             0.7,
             "#b8e186"
            ],
            [
             0.8,
             "#7fbc41"
            ],
            [
             0.9,
             "#4d9221"
            ],
            [
             1,
             "#276419"
            ]
           ],
           "sequential": [
            [
             0,
             "#0d0887"
            ],
            [
             0.1111111111111111,
             "#46039f"
            ],
            [
             0.2222222222222222,
             "#7201a8"
            ],
            [
             0.3333333333333333,
             "#9c179e"
            ],
            [
             0.4444444444444444,
             "#bd3786"
            ],
            [
             0.5555555555555556,
             "#d8576b"
            ],
            [
             0.6666666666666666,
             "#ed7953"
            ],
            [
             0.7777777777777778,
             "#fb9f3a"
            ],
            [
             0.8888888888888888,
             "#fdca26"
            ],
            [
             1,
             "#f0f921"
            ]
           ],
           "sequentialminus": [
            [
             0,
             "#0d0887"
            ],
            [
             0.1111111111111111,
             "#46039f"
            ],
            [
             0.2222222222222222,
             "#7201a8"
            ],
            [
             0.3333333333333333,
             "#9c179e"
            ],
            [
             0.4444444444444444,
             "#bd3786"
            ],
            [
             0.5555555555555556,
             "#d8576b"
            ],
            [
             0.6666666666666666,
             "#ed7953"
            ],
            [
             0.7777777777777778,
             "#fb9f3a"
            ],
            [
             0.8888888888888888,
             "#fdca26"
            ],
            [
             1,
             "#f0f921"
            ]
           ]
          },
          "colorway": [
           "#636efa",
           "#EF553B",
           "#00cc96",
           "#ab63fa",
           "#FFA15A",
           "#19d3f3",
           "#FF6692",
           "#B6E880",
           "#FF97FF",
           "#FECB52"
          ],
          "font": {
           "color": "#2a3f5f"
          },
          "geo": {
           "bgcolor": "white",
           "lakecolor": "white",
           "landcolor": "#E5ECF6",
           "showlakes": true,
           "showland": true,
           "subunitcolor": "white"
          },
          "hoverlabel": {
           "align": "left"
          },
          "hovermode": "closest",
          "mapbox": {
           "style": "light"
          },
          "paper_bgcolor": "white",
          "plot_bgcolor": "#E5ECF6",
          "polar": {
           "angularaxis": {
            "gridcolor": "white",
            "linecolor": "white",
            "ticks": ""
           },
           "bgcolor": "#E5ECF6",
           "radialaxis": {
            "gridcolor": "white",
            "linecolor": "white",
            "ticks": ""
           }
          },
          "scene": {
           "xaxis": {
            "backgroundcolor": "#E5ECF6",
            "gridcolor": "white",
            "gridwidth": 2,
            "linecolor": "white",
            "showbackground": true,
            "ticks": "",
            "zerolinecolor": "white"
           },
           "yaxis": {
            "backgroundcolor": "#E5ECF6",
            "gridcolor": "white",
            "gridwidth": 2,
            "linecolor": "white",
            "showbackground": true,
            "ticks": "",
            "zerolinecolor": "white"
           },
           "zaxis": {
            "backgroundcolor": "#E5ECF6",
            "gridcolor": "white",
            "gridwidth": 2,
            "linecolor": "white",
            "showbackground": true,
            "ticks": "",
            "zerolinecolor": "white"
           }
          },
          "shapedefaults": {
           "line": {
            "color": "#2a3f5f"
           }
          },
          "ternary": {
           "aaxis": {
            "gridcolor": "white",
            "linecolor": "white",
            "ticks": ""
           },
           "baxis": {
            "gridcolor": "white",
            "linecolor": "white",
            "ticks": ""
           },
           "bgcolor": "#E5ECF6",
           "caxis": {
            "gridcolor": "white",
            "linecolor": "white",
            "ticks": ""
           }
          },
          "title": {
           "x": 0.05
          },
          "xaxis": {
           "automargin": true,
           "gridcolor": "white",
           "linecolor": "white",
           "ticks": "",
           "title": {
            "standoff": 15
           },
           "zerolinecolor": "white",
           "zerolinewidth": 2
          },
          "yaxis": {
           "automargin": true,
           "gridcolor": "white",
           "linecolor": "white",
           "ticks": "",
           "title": {
            "standoff": 15
           },
           "zerolinecolor": "white",
           "zerolinewidth": 2
          }
         }
        },
        "title": {
         "text": "Optimization History Plot"
        },
        "xaxis": {
         "title": {
          "text": "Trial"
         }
        },
        "yaxis": {
         "title": {
          "text": "Objective Value"
         }
        }
       }
      },
      "text/html": [
       "<div>                        <script type=\"text/javascript\">window.PlotlyConfig = {MathJaxConfig: 'local'};</script>\n",
       "        <script charset=\"utf-8\" src=\"https://cdn.plot.ly/plotly-2.25.2.min.js\"></script>                <div id=\"077c98c9-658e-43f6-b101-874f8ace8301\" class=\"plotly-graph-div\" style=\"height:100%; width:100%;\"></div>            <script type=\"text/javascript\">                                    window.PLOTLYENV=window.PLOTLYENV || {};                                    if (document.getElementById(\"077c98c9-658e-43f6-b101-874f8ace8301\")) {                    Plotly.newPlot(                        \"077c98c9-658e-43f6-b101-874f8ace8301\",                        [{\"mode\":\"markers\",\"name\":\"Objective Value\",\"x\":[0,1,2,3,4,5,6,7,8,9,10,11,12,13,14,15,16,17,18,19,20,21,22,23,24,25,26,27,28,29,30,31,32,33,34,35,36,37,38,39,40,41,42,43,44,45,46,47,48,49,50,51,52,53,54,55,56,57,58,59,60,61,62,63,64,65,66,67,68,69,70,71,72,73,74,75,76,77,78,79,80,81,82,83,84,85,86,87,88,89,90,91,92,93,94,95,96,97,98,99],\"y\":[21.199652147130326,24.874275027223135,24.918837234266007,24.806287901580383,24.201393233533107,24.749732725993702,24.794352450650898,24.732839552550125,24.727079556097884,24.74548100648872,24.66482893707804,24.82657161331287,24.759415454472112,24.963130095866774,24.803189756176145,24.870224712753835,24.671809778799492,24.751724441570786,24.71535147999606,24.898907239032734,25.067689822717472,24.937367452862723,24.818608065671352,24.852929670488486,24.902583835107407,24.979400247919855,24.81450729296685,24.775457438041354,24.673971069102983,21.244727047125895,24.87591510097891,25.007952315173352,24.806421836336114,24.776610044534543,24.80568147744872,24.698787577269698,24.92097775697733,24.809320189950245,24.80536938119657,24.916993607120155,24.833395975672715,24.904170841949373,24.74203589755885,24.944328220855354,24.845778371990644,24.780630727705876,24.789866351422184,24.999245419174798,22.601301332376966,24.81265504576719,24.799262424304576,24.867158875624632,24.841370448933453,24.96941885430108,24.839009817050137,25.075190002949473,25.00024209779751,24.930725146364104,24.748136560850597,24.8578179150578,24.70087828344132,24.8186689190346,24.784027116111243,24.734133528506838,24.652748103054094,24.89951476809386,24.773602214159588,25.001128981487287,24.88648257607272,24.767015976803787,24.79057018938951,24.92077401671543,25.100618529417154,24.761401923098024,24.90757270518488,24.959718596734014,24.78546728034733,24.956764313352668,24.830219218669257,24.900134593036498,25.063523302166494,24.985982221679865,24.984523177974694,24.955130070119036,24.827614179993276,24.787213767847135,25.0908768326012,24.944240107601498,24.940217148958794,24.926710449041234,24.833003856144344,24.941930134924192,24.88362903715143,24.93351501268291,25.01757396062411,24.93616784961619,24.83050393837665,24.978095532175487,25.016962656115282,24.88806158745973],\"type\":\"scatter\"},{\"mode\":\"lines\",\"name\":\"Best Value\",\"x\":[0,1,2,3,4,5,6,7,8,9,10,11,12,13,14,15,16,17,18,19,20,21,22,23,24,25,26,27,28,29,30,31,32,33,34,35,36,37,38,39,40,41,42,43,44,45,46,47,48,49,50,51,52,53,54,55,56,57,58,59,60,61,62,63,64,65,66,67,68,69,70,71,72,73,74,75,76,77,78,79,80,81,82,83,84,85,86,87,88,89,90,91,92,93,94,95,96,97,98,99],\"y\":[21.199652147130326,24.874275027223135,24.918837234266007,24.918837234266007,24.918837234266007,24.918837234266007,24.918837234266007,24.918837234266007,24.918837234266007,24.918837234266007,24.918837234266007,24.918837234266007,24.918837234266007,24.963130095866774,24.963130095866774,24.963130095866774,24.963130095866774,24.963130095866774,24.963130095866774,24.963130095866774,25.067689822717472,25.067689822717472,25.067689822717472,25.067689822717472,25.067689822717472,25.067689822717472,25.067689822717472,25.067689822717472,25.067689822717472,25.067689822717472,25.067689822717472,25.067689822717472,25.067689822717472,25.067689822717472,25.067689822717472,25.067689822717472,25.067689822717472,25.067689822717472,25.067689822717472,25.067689822717472,25.067689822717472,25.067689822717472,25.067689822717472,25.067689822717472,25.067689822717472,25.067689822717472,25.067689822717472,25.067689822717472,25.067689822717472,25.067689822717472,25.067689822717472,25.067689822717472,25.067689822717472,25.067689822717472,25.067689822717472,25.075190002949473,25.075190002949473,25.075190002949473,25.075190002949473,25.075190002949473,25.075190002949473,25.075190002949473,25.075190002949473,25.075190002949473,25.075190002949473,25.075190002949473,25.075190002949473,25.075190002949473,25.075190002949473,25.075190002949473,25.075190002949473,25.075190002949473,25.100618529417154,25.100618529417154,25.100618529417154,25.100618529417154,25.100618529417154,25.100618529417154,25.100618529417154,25.100618529417154,25.100618529417154,25.100618529417154,25.100618529417154,25.100618529417154,25.100618529417154,25.100618529417154,25.100618529417154,25.100618529417154,25.100618529417154,25.100618529417154,25.100618529417154,25.100618529417154,25.100618529417154,25.100618529417154,25.100618529417154,25.100618529417154,25.100618529417154,25.100618529417154,25.100618529417154,25.100618529417154],\"type\":\"scatter\"},{\"marker\":{\"color\":\"#cccccc\"},\"mode\":\"markers\",\"name\":\"Infeasible Trial\",\"showlegend\":false,\"x\":[],\"y\":[],\"type\":\"scatter\"}],                        {\"title\":{\"text\":\"Optimization History Plot\"},\"xaxis\":{\"title\":{\"text\":\"Trial\"}},\"yaxis\":{\"title\":{\"text\":\"Objective Value\"}},\"template\":{\"data\":{\"histogram2dcontour\":[{\"type\":\"histogram2dcontour\",\"colorbar\":{\"outlinewidth\":0,\"ticks\":\"\"},\"colorscale\":[[0.0,\"#0d0887\"],[0.1111111111111111,\"#46039f\"],[0.2222222222222222,\"#7201a8\"],[0.3333333333333333,\"#9c179e\"],[0.4444444444444444,\"#bd3786\"],[0.5555555555555556,\"#d8576b\"],[0.6666666666666666,\"#ed7953\"],[0.7777777777777778,\"#fb9f3a\"],[0.8888888888888888,\"#fdca26\"],[1.0,\"#f0f921\"]]}],\"choropleth\":[{\"type\":\"choropleth\",\"colorbar\":{\"outlinewidth\":0,\"ticks\":\"\"}}],\"histogram2d\":[{\"type\":\"histogram2d\",\"colorbar\":{\"outlinewidth\":0,\"ticks\":\"\"},\"colorscale\":[[0.0,\"#0d0887\"],[0.1111111111111111,\"#46039f\"],[0.2222222222222222,\"#7201a8\"],[0.3333333333333333,\"#9c179e\"],[0.4444444444444444,\"#bd3786\"],[0.5555555555555556,\"#d8576b\"],[0.6666666666666666,\"#ed7953\"],[0.7777777777777778,\"#fb9f3a\"],[0.8888888888888888,\"#fdca26\"],[1.0,\"#f0f921\"]]}],\"heatmap\":[{\"type\":\"heatmap\",\"colorbar\":{\"outlinewidth\":0,\"ticks\":\"\"},\"colorscale\":[[0.0,\"#0d0887\"],[0.1111111111111111,\"#46039f\"],[0.2222222222222222,\"#7201a8\"],[0.3333333333333333,\"#9c179e\"],[0.4444444444444444,\"#bd3786\"],[0.5555555555555556,\"#d8576b\"],[0.6666666666666666,\"#ed7953\"],[0.7777777777777778,\"#fb9f3a\"],[0.8888888888888888,\"#fdca26\"],[1.0,\"#f0f921\"]]}],\"heatmapgl\":[{\"type\":\"heatmapgl\",\"colorbar\":{\"outlinewidth\":0,\"ticks\":\"\"},\"colorscale\":[[0.0,\"#0d0887\"],[0.1111111111111111,\"#46039f\"],[0.2222222222222222,\"#7201a8\"],[0.3333333333333333,\"#9c179e\"],[0.4444444444444444,\"#bd3786\"],[0.5555555555555556,\"#d8576b\"],[0.6666666666666666,\"#ed7953\"],[0.7777777777777778,\"#fb9f3a\"],[0.8888888888888888,\"#fdca26\"],[1.0,\"#f0f921\"]]}],\"contourcarpet\":[{\"type\":\"contourcarpet\",\"colorbar\":{\"outlinewidth\":0,\"ticks\":\"\"}}],\"contour\":[{\"type\":\"contour\",\"colorbar\":{\"outlinewidth\":0,\"ticks\":\"\"},\"colorscale\":[[0.0,\"#0d0887\"],[0.1111111111111111,\"#46039f\"],[0.2222222222222222,\"#7201a8\"],[0.3333333333333333,\"#9c179e\"],[0.4444444444444444,\"#bd3786\"],[0.5555555555555556,\"#d8576b\"],[0.6666666666666666,\"#ed7953\"],[0.7777777777777778,\"#fb9f3a\"],[0.8888888888888888,\"#fdca26\"],[1.0,\"#f0f921\"]]}],\"surface\":[{\"type\":\"surface\",\"colorbar\":{\"outlinewidth\":0,\"ticks\":\"\"},\"colorscale\":[[0.0,\"#0d0887\"],[0.1111111111111111,\"#46039f\"],[0.2222222222222222,\"#7201a8\"],[0.3333333333333333,\"#9c179e\"],[0.4444444444444444,\"#bd3786\"],[0.5555555555555556,\"#d8576b\"],[0.6666666666666666,\"#ed7953\"],[0.7777777777777778,\"#fb9f3a\"],[0.8888888888888888,\"#fdca26\"],[1.0,\"#f0f921\"]]}],\"mesh3d\":[{\"type\":\"mesh3d\",\"colorbar\":{\"outlinewidth\":0,\"ticks\":\"\"}}],\"scatter\":[{\"fillpattern\":{\"fillmode\":\"overlay\",\"size\":10,\"solidity\":0.2},\"type\":\"scatter\"}],\"parcoords\":[{\"type\":\"parcoords\",\"line\":{\"colorbar\":{\"outlinewidth\":0,\"ticks\":\"\"}}}],\"scatterpolargl\":[{\"type\":\"scatterpolargl\",\"marker\":{\"colorbar\":{\"outlinewidth\":0,\"ticks\":\"\"}}}],\"bar\":[{\"error_x\":{\"color\":\"#2a3f5f\"},\"error_y\":{\"color\":\"#2a3f5f\"},\"marker\":{\"line\":{\"color\":\"#E5ECF6\",\"width\":0.5},\"pattern\":{\"fillmode\":\"overlay\",\"size\":10,\"solidity\":0.2}},\"type\":\"bar\"}],\"scattergeo\":[{\"type\":\"scattergeo\",\"marker\":{\"colorbar\":{\"outlinewidth\":0,\"ticks\":\"\"}}}],\"scatterpolar\":[{\"type\":\"scatterpolar\",\"marker\":{\"colorbar\":{\"outlinewidth\":0,\"ticks\":\"\"}}}],\"histogram\":[{\"marker\":{\"pattern\":{\"fillmode\":\"overlay\",\"size\":10,\"solidity\":0.2}},\"type\":\"histogram\"}],\"scattergl\":[{\"type\":\"scattergl\",\"marker\":{\"colorbar\":{\"outlinewidth\":0,\"ticks\":\"\"}}}],\"scatter3d\":[{\"type\":\"scatter3d\",\"line\":{\"colorbar\":{\"outlinewidth\":0,\"ticks\":\"\"}},\"marker\":{\"colorbar\":{\"outlinewidth\":0,\"ticks\":\"\"}}}],\"scattermapbox\":[{\"type\":\"scattermapbox\",\"marker\":{\"colorbar\":{\"outlinewidth\":0,\"ticks\":\"\"}}}],\"scatterternary\":[{\"type\":\"scatterternary\",\"marker\":{\"colorbar\":{\"outlinewidth\":0,\"ticks\":\"\"}}}],\"scattercarpet\":[{\"type\":\"scattercarpet\",\"marker\":{\"colorbar\":{\"outlinewidth\":0,\"ticks\":\"\"}}}],\"carpet\":[{\"aaxis\":{\"endlinecolor\":\"#2a3f5f\",\"gridcolor\":\"white\",\"linecolor\":\"white\",\"minorgridcolor\":\"white\",\"startlinecolor\":\"#2a3f5f\"},\"baxis\":{\"endlinecolor\":\"#2a3f5f\",\"gridcolor\":\"white\",\"linecolor\":\"white\",\"minorgridcolor\":\"white\",\"startlinecolor\":\"#2a3f5f\"},\"type\":\"carpet\"}],\"table\":[{\"cells\":{\"fill\":{\"color\":\"#EBF0F8\"},\"line\":{\"color\":\"white\"}},\"header\":{\"fill\":{\"color\":\"#C8D4E3\"},\"line\":{\"color\":\"white\"}},\"type\":\"table\"}],\"barpolar\":[{\"marker\":{\"line\":{\"color\":\"#E5ECF6\",\"width\":0.5},\"pattern\":{\"fillmode\":\"overlay\",\"size\":10,\"solidity\":0.2}},\"type\":\"barpolar\"}],\"pie\":[{\"automargin\":true,\"type\":\"pie\"}]},\"layout\":{\"autotypenumbers\":\"strict\",\"colorway\":[\"#636efa\",\"#EF553B\",\"#00cc96\",\"#ab63fa\",\"#FFA15A\",\"#19d3f3\",\"#FF6692\",\"#B6E880\",\"#FF97FF\",\"#FECB52\"],\"font\":{\"color\":\"#2a3f5f\"},\"hovermode\":\"closest\",\"hoverlabel\":{\"align\":\"left\"},\"paper_bgcolor\":\"white\",\"plot_bgcolor\":\"#E5ECF6\",\"polar\":{\"bgcolor\":\"#E5ECF6\",\"angularaxis\":{\"gridcolor\":\"white\",\"linecolor\":\"white\",\"ticks\":\"\"},\"radialaxis\":{\"gridcolor\":\"white\",\"linecolor\":\"white\",\"ticks\":\"\"}},\"ternary\":{\"bgcolor\":\"#E5ECF6\",\"aaxis\":{\"gridcolor\":\"white\",\"linecolor\":\"white\",\"ticks\":\"\"},\"baxis\":{\"gridcolor\":\"white\",\"linecolor\":\"white\",\"ticks\":\"\"},\"caxis\":{\"gridcolor\":\"white\",\"linecolor\":\"white\",\"ticks\":\"\"}},\"coloraxis\":{\"colorbar\":{\"outlinewidth\":0,\"ticks\":\"\"}},\"colorscale\":{\"sequential\":[[0.0,\"#0d0887\"],[0.1111111111111111,\"#46039f\"],[0.2222222222222222,\"#7201a8\"],[0.3333333333333333,\"#9c179e\"],[0.4444444444444444,\"#bd3786\"],[0.5555555555555556,\"#d8576b\"],[0.6666666666666666,\"#ed7953\"],[0.7777777777777778,\"#fb9f3a\"],[0.8888888888888888,\"#fdca26\"],[1.0,\"#f0f921\"]],\"sequentialminus\":[[0.0,\"#0d0887\"],[0.1111111111111111,\"#46039f\"],[0.2222222222222222,\"#7201a8\"],[0.3333333333333333,\"#9c179e\"],[0.4444444444444444,\"#bd3786\"],[0.5555555555555556,\"#d8576b\"],[0.6666666666666666,\"#ed7953\"],[0.7777777777777778,\"#fb9f3a\"],[0.8888888888888888,\"#fdca26\"],[1.0,\"#f0f921\"]],\"diverging\":[[0,\"#8e0152\"],[0.1,\"#c51b7d\"],[0.2,\"#de77ae\"],[0.3,\"#f1b6da\"],[0.4,\"#fde0ef\"],[0.5,\"#f7f7f7\"],[0.6,\"#e6f5d0\"],[0.7,\"#b8e186\"],[0.8,\"#7fbc41\"],[0.9,\"#4d9221\"],[1,\"#276419\"]]},\"xaxis\":{\"gridcolor\":\"white\",\"linecolor\":\"white\",\"ticks\":\"\",\"title\":{\"standoff\":15},\"zerolinecolor\":\"white\",\"automargin\":true,\"zerolinewidth\":2},\"yaxis\":{\"gridcolor\":\"white\",\"linecolor\":\"white\",\"ticks\":\"\",\"title\":{\"standoff\":15},\"zerolinecolor\":\"white\",\"automargin\":true,\"zerolinewidth\":2},\"scene\":{\"xaxis\":{\"backgroundcolor\":\"#E5ECF6\",\"gridcolor\":\"white\",\"linecolor\":\"white\",\"showbackground\":true,\"ticks\":\"\",\"zerolinecolor\":\"white\",\"gridwidth\":2},\"yaxis\":{\"backgroundcolor\":\"#E5ECF6\",\"gridcolor\":\"white\",\"linecolor\":\"white\",\"showbackground\":true,\"ticks\":\"\",\"zerolinecolor\":\"white\",\"gridwidth\":2},\"zaxis\":{\"backgroundcolor\":\"#E5ECF6\",\"gridcolor\":\"white\",\"linecolor\":\"white\",\"showbackground\":true,\"ticks\":\"\",\"zerolinecolor\":\"white\",\"gridwidth\":2}},\"shapedefaults\":{\"line\":{\"color\":\"#2a3f5f\"}},\"annotationdefaults\":{\"arrowcolor\":\"#2a3f5f\",\"arrowhead\":0,\"arrowwidth\":1},\"geo\":{\"bgcolor\":\"white\",\"landcolor\":\"#E5ECF6\",\"subunitcolor\":\"white\",\"showland\":true,\"showlakes\":true,\"lakecolor\":\"white\"},\"title\":{\"x\":0.05},\"mapbox\":{\"style\":\"light\"}}}},                        {\"responsive\": true}                    )                };                            </script>        </div>"
      ],
      "text/plain": [
       "Figure({\n",
       "    'data': [{'mode': 'markers',\n",
       "              'name': 'Objective Value',\n",
       "              'type': 'scatter',\n",
       "              'x': [0, 1, 2, 3, 4, 5, 6, 7, 8, 9, 10, 11, 12, 13, 14, 15, 16, 17,\n",
       "                    18, 19, 20, 21, 22, 23, 24, 25, 26, 27, 28, 29, 30, 31, 32, 33,\n",
       "                    34, 35, 36, 37, 38, 39, 40, 41, 42, 43, 44, 45, 46, 47, 48, 49,\n",
       "                    50, 51, 52, 53, 54, 55, 56, 57, 58, 59, 60, 61, 62, 63, 64, 65,\n",
       "                    66, 67, 68, 69, 70, 71, 72, 73, 74, 75, 76, 77, 78, 79, 80, 81,\n",
       "                    82, 83, 84, 85, 86, 87, 88, 89, 90, 91, 92, 93, 94, 95, 96, 97,\n",
       "                    98, 99],\n",
       "              'y': [21.199652147130326, 24.874275027223135, 24.918837234266007,\n",
       "                    24.806287901580383, 24.201393233533107, 24.749732725993702,\n",
       "                    24.794352450650898, 24.732839552550125, 24.727079556097884,\n",
       "                    24.74548100648872, 24.66482893707804, 24.82657161331287,\n",
       "                    24.759415454472112, 24.963130095866774, 24.803189756176145,\n",
       "                    24.870224712753835, 24.671809778799492, 24.751724441570786,\n",
       "                    24.71535147999606, 24.898907239032734, 25.067689822717472,\n",
       "                    24.937367452862723, 24.818608065671352, 24.852929670488486,\n",
       "                    24.902583835107407, 24.979400247919855, 24.81450729296685,\n",
       "                    24.775457438041354, 24.673971069102983, 21.244727047125895,\n",
       "                    24.87591510097891, 25.007952315173352, 24.806421836336114,\n",
       "                    24.776610044534543, 24.80568147744872, 24.698787577269698,\n",
       "                    24.92097775697733, 24.809320189950245, 24.80536938119657,\n",
       "                    24.916993607120155, 24.833395975672715, 24.904170841949373,\n",
       "                    24.74203589755885, 24.944328220855354, 24.845778371990644,\n",
       "                    24.780630727705876, 24.789866351422184, 24.999245419174798,\n",
       "                    22.601301332376966, 24.81265504576719, 24.799262424304576,\n",
       "                    24.867158875624632, 24.841370448933453, 24.96941885430108,\n",
       "                    24.839009817050137, 25.075190002949473, 25.00024209779751,\n",
       "                    24.930725146364104, 24.748136560850597, 24.8578179150578,\n",
       "                    24.70087828344132, 24.8186689190346, 24.784027116111243,\n",
       "                    24.734133528506838, 24.652748103054094, 24.89951476809386,\n",
       "                    24.773602214159588, 25.001128981487287, 24.88648257607272,\n",
       "                    24.767015976803787, 24.79057018938951, 24.92077401671543,\n",
       "                    25.100618529417154, 24.761401923098024, 24.90757270518488,\n",
       "                    24.959718596734014, 24.78546728034733, 24.956764313352668,\n",
       "                    24.830219218669257, 24.900134593036498, 25.063523302166494,\n",
       "                    24.985982221679865, 24.984523177974694, 24.955130070119036,\n",
       "                    24.827614179993276, 24.787213767847135, 25.0908768326012,\n",
       "                    24.944240107601498, 24.940217148958794, 24.926710449041234,\n",
       "                    24.833003856144344, 24.941930134924192, 24.88362903715143,\n",
       "                    24.93351501268291, 25.01757396062411, 24.93616784961619,\n",
       "                    24.83050393837665, 24.978095532175487, 25.016962656115282,\n",
       "                    24.88806158745973]},\n",
       "             {'mode': 'lines',\n",
       "              'name': 'Best Value',\n",
       "              'type': 'scatter',\n",
       "              'x': [0, 1, 2, 3, 4, 5, 6, 7, 8, 9, 10, 11, 12, 13, 14, 15, 16, 17,\n",
       "                    18, 19, 20, 21, 22, 23, 24, 25, 26, 27, 28, 29, 30, 31, 32, 33,\n",
       "                    34, 35, 36, 37, 38, 39, 40, 41, 42, 43, 44, 45, 46, 47, 48, 49,\n",
       "                    50, 51, 52, 53, 54, 55, 56, 57, 58, 59, 60, 61, 62, 63, 64, 65,\n",
       "                    66, 67, 68, 69, 70, 71, 72, 73, 74, 75, 76, 77, 78, 79, 80, 81,\n",
       "                    82, 83, 84, 85, 86, 87, 88, 89, 90, 91, 92, 93, 94, 95, 96, 97,\n",
       "                    98, 99],\n",
       "              'y': [21.199652147130326, 24.874275027223135, 24.918837234266007,\n",
       "                    24.918837234266007, 24.918837234266007, 24.918837234266007,\n",
       "                    24.918837234266007, 24.918837234266007, 24.918837234266007,\n",
       "                    24.918837234266007, 24.918837234266007, 24.918837234266007,\n",
       "                    24.918837234266007, 24.963130095866774, 24.963130095866774,\n",
       "                    24.963130095866774, 24.963130095866774, 24.963130095866774,\n",
       "                    24.963130095866774, 24.963130095866774, 25.067689822717472,\n",
       "                    25.067689822717472, 25.067689822717472, 25.067689822717472,\n",
       "                    25.067689822717472, 25.067689822717472, 25.067689822717472,\n",
       "                    25.067689822717472, 25.067689822717472, 25.067689822717472,\n",
       "                    25.067689822717472, 25.067689822717472, 25.067689822717472,\n",
       "                    25.067689822717472, 25.067689822717472, 25.067689822717472,\n",
       "                    25.067689822717472, 25.067689822717472, 25.067689822717472,\n",
       "                    25.067689822717472, 25.067689822717472, 25.067689822717472,\n",
       "                    25.067689822717472, 25.067689822717472, 25.067689822717472,\n",
       "                    25.067689822717472, 25.067689822717472, 25.067689822717472,\n",
       "                    25.067689822717472, 25.067689822717472, 25.067689822717472,\n",
       "                    25.067689822717472, 25.067689822717472, 25.067689822717472,\n",
       "                    25.067689822717472, 25.075190002949473, 25.075190002949473,\n",
       "                    25.075190002949473, 25.075190002949473, 25.075190002949473,\n",
       "                    25.075190002949473, 25.075190002949473, 25.075190002949473,\n",
       "                    25.075190002949473, 25.075190002949473, 25.075190002949473,\n",
       "                    25.075190002949473, 25.075190002949473, 25.075190002949473,\n",
       "                    25.075190002949473, 25.075190002949473, 25.075190002949473,\n",
       "                    25.100618529417154, 25.100618529417154, 25.100618529417154,\n",
       "                    25.100618529417154, 25.100618529417154, 25.100618529417154,\n",
       "                    25.100618529417154, 25.100618529417154, 25.100618529417154,\n",
       "                    25.100618529417154, 25.100618529417154, 25.100618529417154,\n",
       "                    25.100618529417154, 25.100618529417154, 25.100618529417154,\n",
       "                    25.100618529417154, 25.100618529417154, 25.100618529417154,\n",
       "                    25.100618529417154, 25.100618529417154, 25.100618529417154,\n",
       "                    25.100618529417154, 25.100618529417154, 25.100618529417154,\n",
       "                    25.100618529417154, 25.100618529417154, 25.100618529417154,\n",
       "                    25.100618529417154]},\n",
       "             {'marker': {'color': '#cccccc'},\n",
       "              'mode': 'markers',\n",
       "              'name': 'Infeasible Trial',\n",
       "              'showlegend': False,\n",
       "              'type': 'scatter',\n",
       "              'x': [],\n",
       "              'y': []}],\n",
       "    'layout': {'template': '...',\n",
       "               'title': {'text': 'Optimization History Plot'},\n",
       "               'xaxis': {'title': {'text': 'Trial'}},\n",
       "               'yaxis': {'title': {'text': 'Objective Value'}}}\n",
       "})"
      ]
     },
     "execution_count": 34,
     "metadata": {},
     "output_type": "execute_result"
    }
   ],
   "source": [
    "optuna.visualization.plot_optimization_history(study)"
   ]
  },
  {
   "cell_type": "code",
   "execution_count": 35,
   "metadata": {},
   "outputs": [
    {
     "data": {
      "text/plain": [
       "{'max_depth': 97}"
      ]
     },
     "execution_count": 35,
     "metadata": {},
     "output_type": "execute_result"
    }
   ],
   "source": [
    "dt_best_params = study.best_params\n",
    "dt_best_params"
   ]
  },
  {
   "cell_type": "code",
   "execution_count": null,
   "metadata": {},
   "outputs": [],
   "source": []
  },
  {
   "cell_type": "code",
   "execution_count": null,
   "metadata": {},
   "outputs": [],
   "source": []
  },
  {
   "cell_type": "code",
   "execution_count": null,
   "metadata": {},
   "outputs": [],
   "source": []
  }
 ],
 "metadata": {
  "kernelspec": {
   "display_name": "myenv",
   "language": "python",
   "name": "python3"
  },
  "language_info": {
   "codemirror_mode": {
    "name": "ipython",
    "version": 3
   },
   "file_extension": ".py",
   "mimetype": "text/x-python",
   "name": "python",
   "nbconvert_exporter": "python",
   "pygments_lexer": "ipython3",
   "version": "3.9.17"
  },
  "orig_nbformat": 4
 },
 "nbformat": 4,
 "nbformat_minor": 2
}
