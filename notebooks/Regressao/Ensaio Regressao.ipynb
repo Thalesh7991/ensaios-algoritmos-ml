{
 "cells": [
  {
   "cell_type": "markdown",
   "metadata": {},
   "source": [
    "# Imports"
   ]
  },
  {
   "cell_type": "code",
   "execution_count": 1,
   "metadata": {},
   "outputs": [
    {
     "name": "stderr",
     "output_type": "stream",
     "text": [
      "c:\\Users\\thale\\anaconda3\\envs\\myenv\\lib\\site-packages\\tqdm\\auto.py:21: TqdmWarning: IProgress not found. Please update jupyter and ipywidgets. See https://ipywidgets.readthedocs.io/en/stable/user_install.html\n",
      "  from .autonotebook import tqdm as notebook_tqdm\n"
     ]
    }
   ],
   "source": [
    "import pandas as pd\n",
    "import numpy as np\n",
    "import optuna\n",
    "from sklearn.metrics import mean_squared_error, mean_absolute_error, r2_score\n",
    "\n",
    "\n",
    "from sklearn.tree import DecisionTreeRegressor\n",
    "from sklearn.preprocessing import PolynomialFeatures\n",
    "from sklearn.ensemble import RandomForestRegressor"
   ]
  },
  {
   "cell_type": "markdown",
   "metadata": {},
   "source": [
    "# Helper Functions"
   ]
  },
  {
   "cell_type": "code",
   "execution_count": 9,
   "metadata": {},
   "outputs": [],
   "source": [
    "def calculate_metrics(y_true, y_pred, model_name):\n",
    "    # Calcular R2\n",
    "    r2 = r2_score(y_true, y_pred)\n",
    "    \n",
    "    # Calcular MSE\n",
    "    mse = mean_squared_error(y_true, y_pred)\n",
    "    \n",
    "    # Calcular RMSE\n",
    "    rmse = np.sqrt(mse)\n",
    "    \n",
    "    # Calcular MAE\n",
    "    mae = mean_absolute_error(y_true, y_pred)\n",
    "    \n",
    "    # Calcular MAPE\n",
    "    y_true_arr, y_pred_arr = np.array(y_true), np.array(y_pred)\n",
    "    mape = np.mean(np.abs((y_true_arr - y_pred_arr) / y_true_arr)) * 100\n",
    "    \n",
    "    return {\n",
    "        \"model_name\": model_name,\n",
    "        \"R2\": r2,\n",
    "        \"MSE\": mse,\n",
    "        \"RMSE\": rmse,\n",
    "        \"MAE\": mae,\n",
    "        \"MAPE\": mape\n",
    "    }\n"
   ]
  },
  {
   "cell_type": "markdown",
   "metadata": {},
   "source": [
    "# Data load"
   ]
  },
  {
   "cell_type": "code",
   "execution_count": 6,
   "metadata": {},
   "outputs": [],
   "source": [
    "# Dados de Treinamento\n",
    "X_train = pd.read_csv('../../data/Regressao/X_training.csv')\n",
    "y_train = pd.read_csv('../../data/Regressao/y_training.csv').values.ravel()\n",
    "\n",
    "# Dados de Test\n",
    "X_test = pd.read_csv('../../data/Regressao/X_test.csv')\n",
    "y_test = pd.read_csv('../../data/Regressao/y_test.csv').values.ravel()\n",
    "\n",
    "# Dados de Validacao\n",
    "X_val = pd.read_csv('../../data/Regressao/X_validation.csv')\n",
    "y_val = pd.read_csv('../../data/Regressao/y_val.csv').values.ravel()"
   ]
  },
  {
   "cell_type": "markdown",
   "metadata": {},
   "source": [
    "# Machine Learning"
   ]
  },
  {
   "cell_type": "markdown",
   "metadata": {},
   "source": [
    "## Decision Tree Regression"
   ]
  },
  {
   "cell_type": "code",
   "execution_count": 32,
   "metadata": {},
   "outputs": [],
   "source": [
    "def dt_fine_tuning(trial):\n",
    "    max_depth = trial.suggest_int('max_depth', 2,100)\n",
    "    dt_model = DecisionTreeRegressor(max_depth=max_depth)\n",
    "    dt_model.fit(X_train, y_train)\n",
    "    y_pred = dt_model.predict(X_val)\n",
    "\n",
    "    return calculate_metrics(y_val, y_pred, 'Decision Tree')['RMSE']\n"
   ]
  },
  {
   "cell_type": "code",
   "execution_count": 36,
   "metadata": {},
   "outputs": [
    {
     "name": "stderr",
     "output_type": "stream",
     "text": [
      "[I 2023-08-24 05:44:42,897] A new study created in memory with name: no-name-457c4841-a3b0-41d4-a7bf-3fbc3939b19d\n"
     ]
    },
    {
     "name": "stderr",
     "output_type": "stream",
     "text": [
      "[I 2023-08-24 05:44:43,335] Trial 0 finished with value: 24.81939354806063 and parameters: {'max_depth': 90}. Best is trial 0 with value: 24.81939354806063.\n",
      "[I 2023-08-24 05:44:43,736] Trial 1 finished with value: 24.775432690699933 and parameters: {'max_depth': 59}. Best is trial 1 with value: 24.775432690699933.\n",
      "[I 2023-08-24 05:44:44,133] Trial 2 finished with value: 24.96646246658271 and parameters: {'max_depth': 71}. Best is trial 1 with value: 24.775432690699933.\n",
      "[I 2023-08-24 05:44:44,557] Trial 3 finished with value: 24.955350143904226 and parameters: {'max_depth': 37}. Best is trial 1 with value: 24.775432690699933.\n",
      "[I 2023-08-24 05:44:44,964] Trial 4 finished with value: 25.11935903561836 and parameters: {'max_depth': 30}. Best is trial 1 with value: 24.775432690699933.\n",
      "[I 2023-08-24 05:44:45,347] Trial 5 finished with value: 24.581984630523106 and parameters: {'max_depth': 22}. Best is trial 5 with value: 24.581984630523106.\n",
      "[I 2023-08-24 05:44:45,532] Trial 6 finished with value: 21.590395892342833 and parameters: {'max_depth': 9}. Best is trial 6 with value: 21.590395892342833.\n",
      "[I 2023-08-24 05:44:46,048] Trial 7 finished with value: 24.884948643613487 and parameters: {'max_depth': 98}. Best is trial 6 with value: 21.590395892342833.\n",
      "[I 2023-08-24 05:44:46,506] Trial 8 finished with value: 24.952536565154855 and parameters: {'max_depth': 42}. Best is trial 6 with value: 21.590395892342833.\n",
      "[I 2023-08-24 05:44:46,934] Trial 9 finished with value: 24.52616066844211 and parameters: {'max_depth': 21}. Best is trial 6 with value: 21.590395892342833.\n",
      "[I 2023-08-24 05:44:46,978] Trial 10 finished with value: 21.437186917010557 and parameters: {'max_depth': 2}. Best is trial 10 with value: 21.437186917010557.\n",
      "[I 2023-08-24 05:44:47,026] Trial 11 finished with value: 21.437186917010557 and parameters: {'max_depth': 2}. Best is trial 10 with value: 21.437186917010557.\n",
      "[I 2023-08-24 05:44:47,130] Trial 12 finished with value: 21.146189225511637 and parameters: {'max_depth': 5}. Best is trial 12 with value: 21.146189225511637.\n",
      "[I 2023-08-24 05:44:47,436] Trial 13 finished with value: 23.28933493754233 and parameters: {'max_depth': 14}. Best is trial 12 with value: 21.146189225511637.\n",
      "[I 2023-08-24 05:44:47,491] Trial 14 finished with value: 21.437186917010557 and parameters: {'max_depth': 2}. Best is trial 12 with value: 21.146189225511637.\n",
      "[I 2023-08-24 05:44:47,969] Trial 15 finished with value: 24.99583279614626 and parameters: {'max_depth': 53}. Best is trial 12 with value: 21.146189225511637.\n",
      "[I 2023-08-24 05:44:48,366] Trial 16 finished with value: 24.89345984828842 and parameters: {'max_depth': 24}. Best is trial 12 with value: 21.146189225511637.\n",
      "[I 2023-08-24 05:44:48,635] Trial 17 finished with value: 22.550627512771968 and parameters: {'max_depth': 12}. Best is trial 12 with value: 21.146189225511637.\n",
      "[I 2023-08-24 05:44:49,080] Trial 18 finished with value: 24.953350734951332 and parameters: {'max_depth': 72}. Best is trial 12 with value: 21.146189225511637.\n",
      "[I 2023-08-24 05:44:49,482] Trial 19 finished with value: 24.79860896536825 and parameters: {'max_depth': 39}. Best is trial 12 with value: 21.146189225511637.\n",
      "[I 2023-08-24 05:44:49,883] Trial 20 finished with value: 24.741109214625048 and parameters: {'max_depth': 30}. Best is trial 12 with value: 21.146189225511637.\n",
      "[I 2023-08-24 05:44:49,933] Trial 21 finished with value: 21.437186917010557 and parameters: {'max_depth': 2}. Best is trial 12 with value: 21.146189225511637.\n",
      "[I 2023-08-24 05:44:49,983] Trial 22 finished with value: 21.43718691701056 and parameters: {'max_depth': 2}. Best is trial 12 with value: 21.146189225511637.\n",
      "[I 2023-08-24 05:44:50,270] Trial 23 finished with value: 22.80453010384291 and parameters: {'max_depth': 13}. Best is trial 12 with value: 21.146189225511637.\n",
      "[I 2023-08-24 05:44:50,448] Trial 24 finished with value: 21.602374762395193 and parameters: {'max_depth': 9}. Best is trial 12 with value: 21.146189225511637.\n",
      "[I 2023-08-24 05:44:50,816] Trial 25 finished with value: 24.230346446210053 and parameters: {'max_depth': 18}. Best is trial 12 with value: 21.146189225511637.\n",
      "[I 2023-08-24 05:44:51,243] Trial 26 finished with value: 24.704600222049 and parameters: {'max_depth': 31}. Best is trial 12 with value: 21.146189225511637.\n",
      "[I 2023-08-24 05:44:51,385] Trial 27 finished with value: 21.226468038193207 and parameters: {'max_depth': 7}. Best is trial 12 with value: 21.146189225511637.\n",
      "[I 2023-08-24 05:44:51,539] Trial 28 finished with value: 21.450755157047166 and parameters: {'max_depth': 8}. Best is trial 12 with value: 21.146189225511637.\n",
      "[I 2023-08-24 05:44:51,943] Trial 29 finished with value: 24.936865722656925 and parameters: {'max_depth': 75}. Best is trial 12 with value: 21.146189225511637.\n",
      "[I 2023-08-24 05:44:52,351] Trial 30 finished with value: 25.089304719911816 and parameters: {'max_depth': 48}. Best is trial 12 with value: 21.146189225511637.\n",
      "[I 2023-08-24 05:44:52,467] Trial 31 finished with value: 21.14915606313722 and parameters: {'max_depth': 6}. Best is trial 12 with value: 21.146189225511637.\n",
      "[I 2023-08-24 05:44:52,818] Trial 32 finished with value: 23.779100162744324 and parameters: {'max_depth': 16}. Best is trial 12 with value: 21.146189225511637.\n",
      "[I 2023-08-24 05:44:53,264] Trial 33 finished with value: 24.7297439229487 and parameters: {'max_depth': 26}. Best is trial 12 with value: 21.146189225511637.\n",
      "[I 2023-08-24 05:44:53,451] Trial 34 finished with value: 21.5658821647415 and parameters: {'max_depth': 9}. Best is trial 12 with value: 21.146189225511637.\n",
      "[I 2023-08-24 05:44:53,859] Trial 35 finished with value: 24.801504855628462 and parameters: {'max_depth': 81}. Best is trial 12 with value: 21.146189225511637.\n",
      "[I 2023-08-24 05:44:54,257] Trial 36 finished with value: 24.87917452276567 and parameters: {'max_depth': 65}. Best is trial 12 with value: 21.146189225511637.\n",
      "[I 2023-08-24 05:44:54,604] Trial 37 finished with value: 24.084645622624116 and parameters: {'max_depth': 18}. Best is trial 12 with value: 21.146189225511637.\n",
      "[I 2023-08-24 05:44:54,743] Trial 38 finished with value: 21.226468038193207 and parameters: {'max_depth': 7}. Best is trial 12 with value: 21.146189225511637.\n",
      "[I 2023-08-24 05:44:55,143] Trial 39 finished with value: 25.074949876351802 and parameters: {'max_depth': 33}. Best is trial 12 with value: 21.146189225511637.\n",
      "[I 2023-08-24 05:44:55,563] Trial 40 finished with value: 24.70492858343778 and parameters: {'max_depth': 24}. Best is trial 12 with value: 21.146189225511637.\n",
      "[I 2023-08-24 05:44:55,704] Trial 41 finished with value: 21.14915606313722 and parameters: {'max_depth': 6}. Best is trial 12 with value: 21.146189225511637.\n",
      "[I 2023-08-24 05:44:55,859] Trial 42 finished with value: 21.194309439023073 and parameters: {'max_depth': 7}. Best is trial 12 with value: 21.146189225511637.\n",
      "[I 2023-08-24 05:44:55,975] Trial 43 finished with value: 21.14915606313722 and parameters: {'max_depth': 6}. Best is trial 12 with value: 21.146189225511637.\n",
      "[I 2023-08-24 05:44:56,313] Trial 44 finished with value: 24.34734086460834 and parameters: {'max_depth': 18}. Best is trial 12 with value: 21.146189225511637.\n",
      "[I 2023-08-24 05:44:56,577] Trial 45 finished with value: 22.723529329567167 and parameters: {'max_depth': 13}. Best is trial 12 with value: 21.146189225511637.\n",
      "[I 2023-08-24 05:44:56,713] Trial 46 finished with value: 21.226468038193207 and parameters: {'max_depth': 7}. Best is trial 12 with value: 21.146189225511637.\n",
      "[I 2023-08-24 05:44:57,079] Trial 47 finished with value: 24.507000544543505 and parameters: {'max_depth': 20}. Best is trial 12 with value: 21.146189225511637.\n",
      "[I 2023-08-24 05:44:57,468] Trial 48 finished with value: 24.840804148015646 and parameters: {'max_depth': 95}. Best is trial 12 with value: 21.146189225511637.\n",
      "[I 2023-08-24 05:44:57,688] Trial 49 finished with value: 22.23924488864992 and parameters: {'max_depth': 11}. Best is trial 12 with value: 21.146189225511637.\n",
      "[I 2023-08-24 05:44:57,784] Trial 50 finished with value: 21.14618922551164 and parameters: {'max_depth': 5}. Best is trial 12 with value: 21.146189225511637.\n",
      "[I 2023-08-24 05:44:57,884] Trial 51 finished with value: 21.146189225511637 and parameters: {'max_depth': 5}. Best is trial 12 with value: 21.146189225511637.\n",
      "[I 2023-08-24 05:44:58,183] Trial 52 finished with value: 23.179783401816497 and parameters: {'max_depth': 15}. Best is trial 12 with value: 21.146189225511637.\n",
      "[I 2023-08-24 05:44:58,262] Trial 53 finished with value: 21.16189625546681 and parameters: {'max_depth': 4}. Best is trial 12 with value: 21.146189225511637.\n",
      "[I 2023-08-24 05:44:58,360] Trial 54 finished with value: 21.146189225511637 and parameters: {'max_depth': 5}. Best is trial 12 with value: 21.146189225511637.\n",
      "[I 2023-08-24 05:44:58,604] Trial 55 finished with value: 22.568701802008203 and parameters: {'max_depth': 12}. Best is trial 12 with value: 21.146189225511637.\n",
      "[I 2023-08-24 05:44:58,679] Trial 56 finished with value: 21.16189625546681 and parameters: {'max_depth': 4}. Best is trial 12 with value: 21.146189225511637.\n",
      "[I 2023-08-24 05:44:59,083] Trial 57 finished with value: 24.785475360946936 and parameters: {'max_depth': 27}. Best is trial 12 with value: 21.146189225511637.\n",
      "[I 2023-08-24 05:44:59,298] Trial 58 finished with value: 22.09187896340316 and parameters: {'max_depth': 11}. Best is trial 12 with value: 21.146189225511637.\n",
      "[I 2023-08-24 05:44:59,668] Trial 59 finished with value: 24.687838303901817 and parameters: {'max_depth': 20}. Best is trial 12 with value: 21.146189225511637.\n",
      "[I 2023-08-24 05:44:59,712] Trial 60 finished with value: 21.437186917010557 and parameters: {'max_depth': 2}. Best is trial 12 with value: 21.146189225511637.\n",
      "[I 2023-08-24 05:44:59,831] Trial 61 finished with value: 21.149156063137216 and parameters: {'max_depth': 6}. Best is trial 12 with value: 21.146189225511637.\n",
      "[I 2023-08-24 05:44:59,941] Trial 62 finished with value: 21.146189225511637 and parameters: {'max_depth': 5}. Best is trial 12 with value: 21.146189225511637.\n",
      "[I 2023-08-24 05:45:00,262] Trial 63 finished with value: 23.59103039933851 and parameters: {'max_depth': 16}. Best is trial 12 with value: 21.146189225511637.\n",
      "[I 2023-08-24 05:45:00,340] Trial 64 finished with value: 21.161896255466814 and parameters: {'max_depth': 4}. Best is trial 12 with value: 21.146189225511637.\n",
      "[I 2023-08-24 05:45:00,541] Trial 65 finished with value: 21.911183351353937 and parameters: {'max_depth': 10}. Best is trial 12 with value: 21.146189225511637.\n",
      "[I 2023-08-24 05:45:00,820] Trial 66 finished with value: 23.07378436411375 and parameters: {'max_depth': 14}. Best is trial 12 with value: 21.146189225511637.\n",
      "[I 2023-08-24 05:45:01,219] Trial 67 finished with value: 24.893206612212488 and parameters: {'max_depth': 54}. Best is trial 12 with value: 21.146189225511637.\n",
      "[I 2023-08-24 05:45:01,315] Trial 68 finished with value: 21.146189225511637 and parameters: {'max_depth': 5}. Best is trial 12 with value: 21.146189225511637.\n",
      "[I 2023-08-24 05:45:01,708] Trial 69 finished with value: 24.778665664867095 and parameters: {'max_depth': 45}. Best is trial 12 with value: 21.146189225511637.\n",
      "[I 2023-08-24 05:45:01,903] Trial 70 finished with value: 21.847880218771806 and parameters: {'max_depth': 10}. Best is trial 12 with value: 21.146189225511637.\n",
      "[I 2023-08-24 05:45:01,983] Trial 71 finished with value: 21.161896255466814 and parameters: {'max_depth': 4}. Best is trial 12 with value: 21.146189225511637.\n",
      "[I 2023-08-24 05:45:02,027] Trial 72 finished with value: 21.43718691701056 and parameters: {'max_depth': 2}. Best is trial 12 with value: 21.146189225511637.\n",
      "[I 2023-08-24 05:45:02,126] Trial 73 finished with value: 21.146189225511637 and parameters: {'max_depth': 5}. Best is trial 12 with value: 21.146189225511637.\n",
      "[I 2023-08-24 05:45:02,322] Trial 74 finished with value: 21.90595290645402 and parameters: {'max_depth': 10}. Best is trial 12 with value: 21.146189225511637.\n",
      "[I 2023-08-24 05:45:02,614] Trial 75 finished with value: 23.329816913958247 and parameters: {'max_depth': 15}. Best is trial 12 with value: 21.146189225511637.\n",
      "[I 2023-08-24 05:45:02,713] Trial 76 finished with value: 21.146189225511637 and parameters: {'max_depth': 5}. Best is trial 12 with value: 21.146189225511637.\n",
      "[I 2023-08-24 05:45:02,760] Trial 77 finished with value: 21.437186917010557 and parameters: {'max_depth': 2}. Best is trial 12 with value: 21.146189225511637.\n",
      "[I 2023-08-24 05:45:02,934] Trial 78 finished with value: 21.62869568111496 and parameters: {'max_depth': 9}. Best is trial 12 with value: 21.146189225511637.\n",
      "[I 2023-08-24 05:45:03,317] Trial 79 finished with value: 24.80426674366346 and parameters: {'max_depth': 22}. Best is trial 12 with value: 21.146189225511637.\n",
      "[I 2023-08-24 05:45:03,566] Trial 80 finished with value: 22.49307588993825 and parameters: {'max_depth': 12}. Best is trial 12 with value: 21.146189225511637.\n",
      "[I 2023-08-24 05:45:03,686] Trial 81 finished with value: 21.146189225511637 and parameters: {'max_depth': 5}. Best is trial 12 with value: 21.146189225511637.\n",
      "[I 2023-08-24 05:45:03,801] Trial 82 finished with value: 21.146189225511637 and parameters: {'max_depth': 5}. Best is trial 12 with value: 21.146189225511637.\n",
      "[I 2023-08-24 05:45:03,959] Trial 83 finished with value: 21.430980018791136 and parameters: {'max_depth': 8}. Best is trial 12 with value: 21.146189225511637.\n",
      "[I 2023-08-24 05:45:04,339] Trial 84 finished with value: 23.851710150238365 and parameters: {'max_depth': 17}. Best is trial 12 with value: 21.146189225511637.\n",
      "[I 2023-08-24 05:45:04,607] Trial 85 finished with value: 22.945672769169505 and parameters: {'max_depth': 13}. Best is trial 12 with value: 21.146189225511637.\n",
      "[I 2023-08-24 05:45:04,747] Trial 86 finished with value: 21.14618922551164 and parameters: {'max_depth': 5}. Best is trial 12 with value: 21.146189225511637.\n",
      "[I 2023-08-24 05:45:04,956] Trial 87 finished with value: 21.451997880670245 and parameters: {'max_depth': 8}. Best is trial 12 with value: 21.146189225511637.\n",
      "[I 2023-08-24 05:45:05,007] Trial 88 finished with value: 21.437186917010557 and parameters: {'max_depth': 2}. Best is trial 12 with value: 21.146189225511637.\n",
      "[I 2023-08-24 05:45:05,465] Trial 89 finished with value: 25.014890106356248 and parameters: {'max_depth': 38}. Best is trial 12 with value: 21.146189225511637.\n",
      "[I 2023-08-24 05:45:05,581] Trial 90 finished with value: 21.146189225511637 and parameters: {'max_depth': 5}. Best is trial 12 with value: 21.146189225511637.\n",
      "[I 2023-08-24 05:45:05,667] Trial 91 finished with value: 21.16189625546681 and parameters: {'max_depth': 4}. Best is trial 12 with value: 21.146189225511637.\n",
      "[I 2023-08-24 05:45:05,834] Trial 92 finished with value: 21.45275202259648 and parameters: {'max_depth': 8}. Best is trial 12 with value: 21.146189225511637.\n",
      "[I 2023-08-24 05:45:05,946] Trial 93 finished with value: 21.146189225511637 and parameters: {'max_depth': 5}. Best is trial 12 with value: 21.146189225511637.\n",
      "[I 2023-08-24 05:45:06,182] Trial 94 finished with value: 22.175362696910543 and parameters: {'max_depth': 11}. Best is trial 12 with value: 21.146189225511637.\n",
      "[I 2023-08-24 05:45:06,588] Trial 95 finished with value: 24.79329922815338 and parameters: {'max_depth': 85}. Best is trial 12 with value: 21.146189225511637.\n",
      "[I 2023-08-24 05:45:06,722] Trial 96 finished with value: 21.226468038193207 and parameters: {'max_depth': 7}. Best is trial 12 with value: 21.146189225511637.\n",
      "[I 2023-08-24 05:45:06,800] Trial 97 finished with value: 21.161896255466814 and parameters: {'max_depth': 4}. Best is trial 12 with value: 21.146189225511637.\n",
      "[I 2023-08-24 05:45:07,075] Trial 98 finished with value: 23.03863917893793 and parameters: {'max_depth': 14}. Best is trial 12 with value: 21.146189225511637.\n",
      "[I 2023-08-24 05:45:07,249] Trial 99 finished with value: 21.637520412001713 and parameters: {'max_depth': 9}. Best is trial 12 with value: 21.146189225511637.\n"
     ]
    }
   ],
   "source": [
    "study = optuna.create_study(direction='minimize')\n",
    "study.optimize(dt_fine_tuning, n_trials=100)"
   ]
  },
  {
   "cell_type": "code",
   "execution_count": 37,
   "metadata": {},
   "outputs": [
    {
     "ename": "ValueError",
     "evalue": "Mime type rendering requires nbformat>=4.2.0 but it is not installed",
     "output_type": "error",
     "traceback": [
      "\u001b[1;31m---------------------------------------------------------------------------\u001b[0m",
      "\u001b[1;31mValueError\u001b[0m                                Traceback (most recent call last)",
      "File \u001b[1;32mc:\\Users\\thale\\anaconda3\\envs\\myenv\\lib\\site-packages\\IPython\\core\\formatters.py:922\u001b[0m, in \u001b[0;36mIPythonDisplayFormatter.__call__\u001b[1;34m(self, obj)\u001b[0m\n\u001b[0;32m    920\u001b[0m method \u001b[39m=\u001b[39m get_real_method(obj, \u001b[39mself\u001b[39m\u001b[39m.\u001b[39mprint_method)\n\u001b[0;32m    921\u001b[0m \u001b[39mif\u001b[39;00m method \u001b[39mis\u001b[39;00m \u001b[39mnot\u001b[39;00m \u001b[39mNone\u001b[39;00m:\n\u001b[1;32m--> 922\u001b[0m     method()\n\u001b[0;32m    923\u001b[0m     \u001b[39mreturn\u001b[39;00m \u001b[39mTrue\u001b[39;00m\n",
      "File \u001b[1;32mc:\\Users\\thale\\anaconda3\\envs\\myenv\\lib\\site-packages\\plotly\\basedatatypes.py:834\u001b[0m, in \u001b[0;36mBaseFigure._ipython_display_\u001b[1;34m(self)\u001b[0m\n\u001b[0;32m    831\u001b[0m \u001b[39mimport\u001b[39;00m \u001b[39mplotly\u001b[39;00m\u001b[39m.\u001b[39;00m\u001b[39mio\u001b[39;00m \u001b[39mas\u001b[39;00m \u001b[39mpio\u001b[39;00m\n\u001b[0;32m    833\u001b[0m \u001b[39mif\u001b[39;00m pio\u001b[39m.\u001b[39mrenderers\u001b[39m.\u001b[39mrender_on_display \u001b[39mand\u001b[39;00m pio\u001b[39m.\u001b[39mrenderers\u001b[39m.\u001b[39mdefault:\n\u001b[1;32m--> 834\u001b[0m     pio\u001b[39m.\u001b[39;49mshow(\u001b[39mself\u001b[39;49m)\n\u001b[0;32m    835\u001b[0m \u001b[39melse\u001b[39;00m:\n\u001b[0;32m    836\u001b[0m     \u001b[39mprint\u001b[39m(\u001b[39mrepr\u001b[39m(\u001b[39mself\u001b[39m))\n",
      "File \u001b[1;32mc:\\Users\\thale\\anaconda3\\envs\\myenv\\lib\\site-packages\\plotly\\io\\_renderers.py:396\u001b[0m, in \u001b[0;36mshow\u001b[1;34m(fig, renderer, validate, **kwargs)\u001b[0m\n\u001b[0;32m    391\u001b[0m         \u001b[39mraise\u001b[39;00m \u001b[39mValueError\u001b[39;00m(\n\u001b[0;32m    392\u001b[0m             \u001b[39m\"\u001b[39m\u001b[39mMime type rendering requires ipython but it is not installed\u001b[39m\u001b[39m\"\u001b[39m\n\u001b[0;32m    393\u001b[0m         )\n\u001b[0;32m    395\u001b[0m     \u001b[39mif\u001b[39;00m \u001b[39mnot\u001b[39;00m nbformat \u001b[39mor\u001b[39;00m Version(nbformat\u001b[39m.\u001b[39m__version__) \u001b[39m<\u001b[39m Version(\u001b[39m\"\u001b[39m\u001b[39m4.2.0\u001b[39m\u001b[39m\"\u001b[39m):\n\u001b[1;32m--> 396\u001b[0m         \u001b[39mraise\u001b[39;00m \u001b[39mValueError\u001b[39;00m(\n\u001b[0;32m    397\u001b[0m             \u001b[39m\"\u001b[39m\u001b[39mMime type rendering requires nbformat>=4.2.0 but it is not installed\u001b[39m\u001b[39m\"\u001b[39m\n\u001b[0;32m    398\u001b[0m         )\n\u001b[0;32m    400\u001b[0m     ipython_display\u001b[39m.\u001b[39mdisplay(bundle, raw\u001b[39m=\u001b[39m\u001b[39mTrue\u001b[39;00m)\n\u001b[0;32m    402\u001b[0m \u001b[39m# external renderers\u001b[39;00m\n",
      "\u001b[1;31mValueError\u001b[0m: Mime type rendering requires nbformat>=4.2.0 but it is not installed"
     ]
    },
    {
     "data": {
      "application/vnd.plotly.v1+json": {
       "config": {
        "plotlyServerURL": "https://plot.ly"
       },
       "data": [
        {
         "mode": "markers",
         "name": "Objective Value",
         "type": "scatter",
         "x": [
          0,
          1,
          2,
          3,
          4,
          5,
          6,
          7,
          8,
          9,
          10,
          11,
          12,
          13,
          14,
          15,
          16,
          17,
          18,
          19,
          20,
          21,
          22,
          23,
          24,
          25,
          26,
          27,
          28,
          29,
          30,
          31,
          32,
          33,
          34,
          35,
          36,
          37,
          38,
          39,
          40,
          41,
          42,
          43,
          44,
          45,
          46,
          47,
          48,
          49,
          50,
          51,
          52,
          53,
          54,
          55,
          56,
          57,
          58,
          59,
          60,
          61,
          62,
          63,
          64,
          65,
          66,
          67,
          68,
          69,
          70,
          71,
          72,
          73,
          74,
          75,
          76,
          77,
          78,
          79,
          80,
          81,
          82,
          83,
          84,
          85,
          86,
          87,
          88,
          89,
          90,
          91,
          92,
          93,
          94,
          95,
          96,
          97,
          98,
          99
         ],
         "y": [
          24.81939354806063,
          24.775432690699933,
          24.96646246658271,
          24.955350143904226,
          25.11935903561836,
          24.581984630523106,
          21.590395892342833,
          24.884948643613487,
          24.952536565154855,
          24.52616066844211,
          21.437186917010557,
          21.437186917010557,
          21.146189225511637,
          23.28933493754233,
          21.437186917010557,
          24.99583279614626,
          24.89345984828842,
          22.550627512771968,
          24.953350734951332,
          24.79860896536825,
          24.741109214625048,
          21.437186917010557,
          21.43718691701056,
          22.80453010384291,
          21.602374762395193,
          24.230346446210053,
          24.704600222049,
          21.226468038193207,
          21.450755157047166,
          24.936865722656925,
          25.089304719911816,
          21.14915606313722,
          23.779100162744324,
          24.7297439229487,
          21.5658821647415,
          24.801504855628462,
          24.87917452276567,
          24.084645622624116,
          21.226468038193207,
          25.074949876351802,
          24.70492858343778,
          21.14915606313722,
          21.194309439023073,
          21.14915606313722,
          24.34734086460834,
          22.723529329567167,
          21.226468038193207,
          24.507000544543505,
          24.840804148015646,
          22.23924488864992,
          21.14618922551164,
          21.146189225511637,
          23.179783401816497,
          21.16189625546681,
          21.146189225511637,
          22.568701802008203,
          21.16189625546681,
          24.785475360946936,
          22.09187896340316,
          24.687838303901817,
          21.437186917010557,
          21.149156063137216,
          21.146189225511637,
          23.59103039933851,
          21.161896255466814,
          21.911183351353937,
          23.07378436411375,
          24.893206612212488,
          21.146189225511637,
          24.778665664867095,
          21.847880218771806,
          21.161896255466814,
          21.43718691701056,
          21.146189225511637,
          21.90595290645402,
          23.329816913958247,
          21.146189225511637,
          21.437186917010557,
          21.62869568111496,
          24.80426674366346,
          22.49307588993825,
          21.146189225511637,
          21.146189225511637,
          21.430980018791136,
          23.851710150238365,
          22.945672769169505,
          21.14618922551164,
          21.451997880670245,
          21.437186917010557,
          25.014890106356248,
          21.146189225511637,
          21.16189625546681,
          21.45275202259648,
          21.146189225511637,
          22.175362696910543,
          24.79329922815338,
          21.226468038193207,
          21.161896255466814,
          23.03863917893793,
          21.637520412001713
         ]
        },
        {
         "mode": "lines",
         "name": "Best Value",
         "type": "scatter",
         "x": [
          0,
          1,
          2,
          3,
          4,
          5,
          6,
          7,
          8,
          9,
          10,
          11,
          12,
          13,
          14,
          15,
          16,
          17,
          18,
          19,
          20,
          21,
          22,
          23,
          24,
          25,
          26,
          27,
          28,
          29,
          30,
          31,
          32,
          33,
          34,
          35,
          36,
          37,
          38,
          39,
          40,
          41,
          42,
          43,
          44,
          45,
          46,
          47,
          48,
          49,
          50,
          51,
          52,
          53,
          54,
          55,
          56,
          57,
          58,
          59,
          60,
          61,
          62,
          63,
          64,
          65,
          66,
          67,
          68,
          69,
          70,
          71,
          72,
          73,
          74,
          75,
          76,
          77,
          78,
          79,
          80,
          81,
          82,
          83,
          84,
          85,
          86,
          87,
          88,
          89,
          90,
          91,
          92,
          93,
          94,
          95,
          96,
          97,
          98,
          99
         ],
         "y": [
          24.81939354806063,
          24.775432690699933,
          24.775432690699933,
          24.775432690699933,
          24.775432690699933,
          24.581984630523106,
          21.590395892342833,
          21.590395892342833,
          21.590395892342833,
          21.590395892342833,
          21.437186917010557,
          21.437186917010557,
          21.146189225511637,
          21.146189225511637,
          21.146189225511637,
          21.146189225511637,
          21.146189225511637,
          21.146189225511637,
          21.146189225511637,
          21.146189225511637,
          21.146189225511637,
          21.146189225511637,
          21.146189225511637,
          21.146189225511637,
          21.146189225511637,
          21.146189225511637,
          21.146189225511637,
          21.146189225511637,
          21.146189225511637,
          21.146189225511637,
          21.146189225511637,
          21.146189225511637,
          21.146189225511637,
          21.146189225511637,
          21.146189225511637,
          21.146189225511637,
          21.146189225511637,
          21.146189225511637,
          21.146189225511637,
          21.146189225511637,
          21.146189225511637,
          21.146189225511637,
          21.146189225511637,
          21.146189225511637,
          21.146189225511637,
          21.146189225511637,
          21.146189225511637,
          21.146189225511637,
          21.146189225511637,
          21.146189225511637,
          21.146189225511637,
          21.146189225511637,
          21.146189225511637,
          21.146189225511637,
          21.146189225511637,
          21.146189225511637,
          21.146189225511637,
          21.146189225511637,
          21.146189225511637,
          21.146189225511637,
          21.146189225511637,
          21.146189225511637,
          21.146189225511637,
          21.146189225511637,
          21.146189225511637,
          21.146189225511637,
          21.146189225511637,
          21.146189225511637,
          21.146189225511637,
          21.146189225511637,
          21.146189225511637,
          21.146189225511637,
          21.146189225511637,
          21.146189225511637,
          21.146189225511637,
          21.146189225511637,
          21.146189225511637,
          21.146189225511637,
          21.146189225511637,
          21.146189225511637,
          21.146189225511637,
          21.146189225511637,
          21.146189225511637,
          21.146189225511637,
          21.146189225511637,
          21.146189225511637,
          21.146189225511637,
          21.146189225511637,
          21.146189225511637,
          21.146189225511637,
          21.146189225511637,
          21.146189225511637,
          21.146189225511637,
          21.146189225511637,
          21.146189225511637,
          21.146189225511637,
          21.146189225511637,
          21.146189225511637,
          21.146189225511637,
          21.146189225511637
         ]
        },
        {
         "marker": {
          "color": "#cccccc"
         },
         "mode": "markers",
         "name": "Infeasible Trial",
         "showlegend": false,
         "type": "scatter",
         "x": [],
         "y": []
        }
       ],
       "layout": {
        "template": {
         "data": {
          "bar": [
           {
            "error_x": {
             "color": "#2a3f5f"
            },
            "error_y": {
             "color": "#2a3f5f"
            },
            "marker": {
             "line": {
              "color": "#E5ECF6",
              "width": 0.5
             },
             "pattern": {
              "fillmode": "overlay",
              "size": 10,
              "solidity": 0.2
             }
            },
            "type": "bar"
           }
          ],
          "barpolar": [
           {
            "marker": {
             "line": {
              "color": "#E5ECF6",
              "width": 0.5
             },
             "pattern": {
              "fillmode": "overlay",
              "size": 10,
              "solidity": 0.2
             }
            },
            "type": "barpolar"
           }
          ],
          "carpet": [
           {
            "aaxis": {
             "endlinecolor": "#2a3f5f",
             "gridcolor": "white",
             "linecolor": "white",
             "minorgridcolor": "white",
             "startlinecolor": "#2a3f5f"
            },
            "baxis": {
             "endlinecolor": "#2a3f5f",
             "gridcolor": "white",
             "linecolor": "white",
             "minorgridcolor": "white",
             "startlinecolor": "#2a3f5f"
            },
            "type": "carpet"
           }
          ],
          "choropleth": [
           {
            "colorbar": {
             "outlinewidth": 0,
             "ticks": ""
            },
            "type": "choropleth"
           }
          ],
          "contour": [
           {
            "colorbar": {
             "outlinewidth": 0,
             "ticks": ""
            },
            "colorscale": [
             [
              0,
              "#0d0887"
             ],
             [
              0.1111111111111111,
              "#46039f"
             ],
             [
              0.2222222222222222,
              "#7201a8"
             ],
             [
              0.3333333333333333,
              "#9c179e"
             ],
             [
              0.4444444444444444,
              "#bd3786"
             ],
             [
              0.5555555555555556,
              "#d8576b"
             ],
             [
              0.6666666666666666,
              "#ed7953"
             ],
             [
              0.7777777777777778,
              "#fb9f3a"
             ],
             [
              0.8888888888888888,
              "#fdca26"
             ],
             [
              1,
              "#f0f921"
             ]
            ],
            "type": "contour"
           }
          ],
          "contourcarpet": [
           {
            "colorbar": {
             "outlinewidth": 0,
             "ticks": ""
            },
            "type": "contourcarpet"
           }
          ],
          "heatmap": [
           {
            "colorbar": {
             "outlinewidth": 0,
             "ticks": ""
            },
            "colorscale": [
             [
              0,
              "#0d0887"
             ],
             [
              0.1111111111111111,
              "#46039f"
             ],
             [
              0.2222222222222222,
              "#7201a8"
             ],
             [
              0.3333333333333333,
              "#9c179e"
             ],
             [
              0.4444444444444444,
              "#bd3786"
             ],
             [
              0.5555555555555556,
              "#d8576b"
             ],
             [
              0.6666666666666666,
              "#ed7953"
             ],
             [
              0.7777777777777778,
              "#fb9f3a"
             ],
             [
              0.8888888888888888,
              "#fdca26"
             ],
             [
              1,
              "#f0f921"
             ]
            ],
            "type": "heatmap"
           }
          ],
          "heatmapgl": [
           {
            "colorbar": {
             "outlinewidth": 0,
             "ticks": ""
            },
            "colorscale": [
             [
              0,
              "#0d0887"
             ],
             [
              0.1111111111111111,
              "#46039f"
             ],
             [
              0.2222222222222222,
              "#7201a8"
             ],
             [
              0.3333333333333333,
              "#9c179e"
             ],
             [
              0.4444444444444444,
              "#bd3786"
             ],
             [
              0.5555555555555556,
              "#d8576b"
             ],
             [
              0.6666666666666666,
              "#ed7953"
             ],
             [
              0.7777777777777778,
              "#fb9f3a"
             ],
             [
              0.8888888888888888,
              "#fdca26"
             ],
             [
              1,
              "#f0f921"
             ]
            ],
            "type": "heatmapgl"
           }
          ],
          "histogram": [
           {
            "marker": {
             "pattern": {
              "fillmode": "overlay",
              "size": 10,
              "solidity": 0.2
             }
            },
            "type": "histogram"
           }
          ],
          "histogram2d": [
           {
            "colorbar": {
             "outlinewidth": 0,
             "ticks": ""
            },
            "colorscale": [
             [
              0,
              "#0d0887"
             ],
             [
              0.1111111111111111,
              "#46039f"
             ],
             [
              0.2222222222222222,
              "#7201a8"
             ],
             [
              0.3333333333333333,
              "#9c179e"
             ],
             [
              0.4444444444444444,
              "#bd3786"
             ],
             [
              0.5555555555555556,
              "#d8576b"
             ],
             [
              0.6666666666666666,
              "#ed7953"
             ],
             [
              0.7777777777777778,
              "#fb9f3a"
             ],
             [
              0.8888888888888888,
              "#fdca26"
             ],
             [
              1,
              "#f0f921"
             ]
            ],
            "type": "histogram2d"
           }
          ],
          "histogram2dcontour": [
           {
            "colorbar": {
             "outlinewidth": 0,
             "ticks": ""
            },
            "colorscale": [
             [
              0,
              "#0d0887"
             ],
             [
              0.1111111111111111,
              "#46039f"
             ],
             [
              0.2222222222222222,
              "#7201a8"
             ],
             [
              0.3333333333333333,
              "#9c179e"
             ],
             [
              0.4444444444444444,
              "#bd3786"
             ],
             [
              0.5555555555555556,
              "#d8576b"
             ],
             [
              0.6666666666666666,
              "#ed7953"
             ],
             [
              0.7777777777777778,
              "#fb9f3a"
             ],
             [
              0.8888888888888888,
              "#fdca26"
             ],
             [
              1,
              "#f0f921"
             ]
            ],
            "type": "histogram2dcontour"
           }
          ],
          "mesh3d": [
           {
            "colorbar": {
             "outlinewidth": 0,
             "ticks": ""
            },
            "type": "mesh3d"
           }
          ],
          "parcoords": [
           {
            "line": {
             "colorbar": {
              "outlinewidth": 0,
              "ticks": ""
             }
            },
            "type": "parcoords"
           }
          ],
          "pie": [
           {
            "automargin": true,
            "type": "pie"
           }
          ],
          "scatter": [
           {
            "fillpattern": {
             "fillmode": "overlay",
             "size": 10,
             "solidity": 0.2
            },
            "type": "scatter"
           }
          ],
          "scatter3d": [
           {
            "line": {
             "colorbar": {
              "outlinewidth": 0,
              "ticks": ""
             }
            },
            "marker": {
             "colorbar": {
              "outlinewidth": 0,
              "ticks": ""
             }
            },
            "type": "scatter3d"
           }
          ],
          "scattercarpet": [
           {
            "marker": {
             "colorbar": {
              "outlinewidth": 0,
              "ticks": ""
             }
            },
            "type": "scattercarpet"
           }
          ],
          "scattergeo": [
           {
            "marker": {
             "colorbar": {
              "outlinewidth": 0,
              "ticks": ""
             }
            },
            "type": "scattergeo"
           }
          ],
          "scattergl": [
           {
            "marker": {
             "colorbar": {
              "outlinewidth": 0,
              "ticks": ""
             }
            },
            "type": "scattergl"
           }
          ],
          "scattermapbox": [
           {
            "marker": {
             "colorbar": {
              "outlinewidth": 0,
              "ticks": ""
             }
            },
            "type": "scattermapbox"
           }
          ],
          "scatterpolar": [
           {
            "marker": {
             "colorbar": {
              "outlinewidth": 0,
              "ticks": ""
             }
            },
            "type": "scatterpolar"
           }
          ],
          "scatterpolargl": [
           {
            "marker": {
             "colorbar": {
              "outlinewidth": 0,
              "ticks": ""
             }
            },
            "type": "scatterpolargl"
           }
          ],
          "scatterternary": [
           {
            "marker": {
             "colorbar": {
              "outlinewidth": 0,
              "ticks": ""
             }
            },
            "type": "scatterternary"
           }
          ],
          "surface": [
           {
            "colorbar": {
             "outlinewidth": 0,
             "ticks": ""
            },
            "colorscale": [
             [
              0,
              "#0d0887"
             ],
             [
              0.1111111111111111,
              "#46039f"
             ],
             [
              0.2222222222222222,
              "#7201a8"
             ],
             [
              0.3333333333333333,
              "#9c179e"
             ],
             [
              0.4444444444444444,
              "#bd3786"
             ],
             [
              0.5555555555555556,
              "#d8576b"
             ],
             [
              0.6666666666666666,
              "#ed7953"
             ],
             [
              0.7777777777777778,
              "#fb9f3a"
             ],
             [
              0.8888888888888888,
              "#fdca26"
             ],
             [
              1,
              "#f0f921"
             ]
            ],
            "type": "surface"
           }
          ],
          "table": [
           {
            "cells": {
             "fill": {
              "color": "#EBF0F8"
             },
             "line": {
              "color": "white"
             }
            },
            "header": {
             "fill": {
              "color": "#C8D4E3"
             },
             "line": {
              "color": "white"
             }
            },
            "type": "table"
           }
          ]
         },
         "layout": {
          "annotationdefaults": {
           "arrowcolor": "#2a3f5f",
           "arrowhead": 0,
           "arrowwidth": 1
          },
          "autotypenumbers": "strict",
          "coloraxis": {
           "colorbar": {
            "outlinewidth": 0,
            "ticks": ""
           }
          },
          "colorscale": {
           "diverging": [
            [
             0,
             "#8e0152"
            ],
            [
             0.1,
             "#c51b7d"
            ],
            [
             0.2,
             "#de77ae"
            ],
            [
             0.3,
             "#f1b6da"
            ],
            [
             0.4,
             "#fde0ef"
            ],
            [
             0.5,
             "#f7f7f7"
            ],
            [
             0.6,
             "#e6f5d0"
            ],
            [
             0.7,
             "#b8e186"
            ],
            [
             0.8,
             "#7fbc41"
            ],
            [
             0.9,
             "#4d9221"
            ],
            [
             1,
             "#276419"
            ]
           ],
           "sequential": [
            [
             0,
             "#0d0887"
            ],
            [
             0.1111111111111111,
             "#46039f"
            ],
            [
             0.2222222222222222,
             "#7201a8"
            ],
            [
             0.3333333333333333,
             "#9c179e"
            ],
            [
             0.4444444444444444,
             "#bd3786"
            ],
            [
             0.5555555555555556,
             "#d8576b"
            ],
            [
             0.6666666666666666,
             "#ed7953"
            ],
            [
             0.7777777777777778,
             "#fb9f3a"
            ],
            [
             0.8888888888888888,
             "#fdca26"
            ],
            [
             1,
             "#f0f921"
            ]
           ],
           "sequentialminus": [
            [
             0,
             "#0d0887"
            ],
            [
             0.1111111111111111,
             "#46039f"
            ],
            [
             0.2222222222222222,
             "#7201a8"
            ],
            [
             0.3333333333333333,
             "#9c179e"
            ],
            [
             0.4444444444444444,
             "#bd3786"
            ],
            [
             0.5555555555555556,
             "#d8576b"
            ],
            [
             0.6666666666666666,
             "#ed7953"
            ],
            [
             0.7777777777777778,
             "#fb9f3a"
            ],
            [
             0.8888888888888888,
             "#fdca26"
            ],
            [
             1,
             "#f0f921"
            ]
           ]
          },
          "colorway": [
           "#636efa",
           "#EF553B",
           "#00cc96",
           "#ab63fa",
           "#FFA15A",
           "#19d3f3",
           "#FF6692",
           "#B6E880",
           "#FF97FF",
           "#FECB52"
          ],
          "font": {
           "color": "#2a3f5f"
          },
          "geo": {
           "bgcolor": "white",
           "lakecolor": "white",
           "landcolor": "#E5ECF6",
           "showlakes": true,
           "showland": true,
           "subunitcolor": "white"
          },
          "hoverlabel": {
           "align": "left"
          },
          "hovermode": "closest",
          "mapbox": {
           "style": "light"
          },
          "paper_bgcolor": "white",
          "plot_bgcolor": "#E5ECF6",
          "polar": {
           "angularaxis": {
            "gridcolor": "white",
            "linecolor": "white",
            "ticks": ""
           },
           "bgcolor": "#E5ECF6",
           "radialaxis": {
            "gridcolor": "white",
            "linecolor": "white",
            "ticks": ""
           }
          },
          "scene": {
           "xaxis": {
            "backgroundcolor": "#E5ECF6",
            "gridcolor": "white",
            "gridwidth": 2,
            "linecolor": "white",
            "showbackground": true,
            "ticks": "",
            "zerolinecolor": "white"
           },
           "yaxis": {
            "backgroundcolor": "#E5ECF6",
            "gridcolor": "white",
            "gridwidth": 2,
            "linecolor": "white",
            "showbackground": true,
            "ticks": "",
            "zerolinecolor": "white"
           },
           "zaxis": {
            "backgroundcolor": "#E5ECF6",
            "gridcolor": "white",
            "gridwidth": 2,
            "linecolor": "white",
            "showbackground": true,
            "ticks": "",
            "zerolinecolor": "white"
           }
          },
          "shapedefaults": {
           "line": {
            "color": "#2a3f5f"
           }
          },
          "ternary": {
           "aaxis": {
            "gridcolor": "white",
            "linecolor": "white",
            "ticks": ""
           },
           "baxis": {
            "gridcolor": "white",
            "linecolor": "white",
            "ticks": ""
           },
           "bgcolor": "#E5ECF6",
           "caxis": {
            "gridcolor": "white",
            "linecolor": "white",
            "ticks": ""
           }
          },
          "title": {
           "x": 0.05
          },
          "xaxis": {
           "automargin": true,
           "gridcolor": "white",
           "linecolor": "white",
           "ticks": "",
           "title": {
            "standoff": 15
           },
           "zerolinecolor": "white",
           "zerolinewidth": 2
          },
          "yaxis": {
           "automargin": true,
           "gridcolor": "white",
           "linecolor": "white",
           "ticks": "",
           "title": {
            "standoff": 15
           },
           "zerolinecolor": "white",
           "zerolinewidth": 2
          }
         }
        },
        "title": {
         "text": "Optimization History Plot"
        },
        "xaxis": {
         "title": {
          "text": "Trial"
         }
        },
        "yaxis": {
         "title": {
          "text": "Objective Value"
         }
        }
       }
      },
      "text/html": [
       "<div>                        <script type=\"text/javascript\">window.PlotlyConfig = {MathJaxConfig: 'local'};</script>\n",
       "        <script charset=\"utf-8\" src=\"https://cdn.plot.ly/plotly-2.25.2.min.js\"></script>                <div id=\"ac688215-c590-4dda-81f3-3c976964e9df\" class=\"plotly-graph-div\" style=\"height:100%; width:100%;\"></div>            <script type=\"text/javascript\">                                    window.PLOTLYENV=window.PLOTLYENV || {};                                    if (document.getElementById(\"ac688215-c590-4dda-81f3-3c976964e9df\")) {                    Plotly.newPlot(                        \"ac688215-c590-4dda-81f3-3c976964e9df\",                        [{\"mode\":\"markers\",\"name\":\"Objective Value\",\"x\":[0,1,2,3,4,5,6,7,8,9,10,11,12,13,14,15,16,17,18,19,20,21,22,23,24,25,26,27,28,29,30,31,32,33,34,35,36,37,38,39,40,41,42,43,44,45,46,47,48,49,50,51,52,53,54,55,56,57,58,59,60,61,62,63,64,65,66,67,68,69,70,71,72,73,74,75,76,77,78,79,80,81,82,83,84,85,86,87,88,89,90,91,92,93,94,95,96,97,98,99],\"y\":[24.81939354806063,24.775432690699933,24.96646246658271,24.955350143904226,25.11935903561836,24.581984630523106,21.590395892342833,24.884948643613487,24.952536565154855,24.52616066844211,21.437186917010557,21.437186917010557,21.146189225511637,23.28933493754233,21.437186917010557,24.99583279614626,24.89345984828842,22.550627512771968,24.953350734951332,24.79860896536825,24.741109214625048,21.437186917010557,21.43718691701056,22.80453010384291,21.602374762395193,24.230346446210053,24.704600222049,21.226468038193207,21.450755157047166,24.936865722656925,25.089304719911816,21.14915606313722,23.779100162744324,24.7297439229487,21.5658821647415,24.801504855628462,24.87917452276567,24.084645622624116,21.226468038193207,25.074949876351802,24.70492858343778,21.14915606313722,21.194309439023073,21.14915606313722,24.34734086460834,22.723529329567167,21.226468038193207,24.507000544543505,24.840804148015646,22.23924488864992,21.14618922551164,21.146189225511637,23.179783401816497,21.16189625546681,21.146189225511637,22.568701802008203,21.16189625546681,24.785475360946936,22.09187896340316,24.687838303901817,21.437186917010557,21.149156063137216,21.146189225511637,23.59103039933851,21.161896255466814,21.911183351353937,23.07378436411375,24.893206612212488,21.146189225511637,24.778665664867095,21.847880218771806,21.161896255466814,21.43718691701056,21.146189225511637,21.90595290645402,23.329816913958247,21.146189225511637,21.437186917010557,21.62869568111496,24.80426674366346,22.49307588993825,21.146189225511637,21.146189225511637,21.430980018791136,23.851710150238365,22.945672769169505,21.14618922551164,21.451997880670245,21.437186917010557,25.014890106356248,21.146189225511637,21.16189625546681,21.45275202259648,21.146189225511637,22.175362696910543,24.79329922815338,21.226468038193207,21.161896255466814,23.03863917893793,21.637520412001713],\"type\":\"scatter\"},{\"mode\":\"lines\",\"name\":\"Best Value\",\"x\":[0,1,2,3,4,5,6,7,8,9,10,11,12,13,14,15,16,17,18,19,20,21,22,23,24,25,26,27,28,29,30,31,32,33,34,35,36,37,38,39,40,41,42,43,44,45,46,47,48,49,50,51,52,53,54,55,56,57,58,59,60,61,62,63,64,65,66,67,68,69,70,71,72,73,74,75,76,77,78,79,80,81,82,83,84,85,86,87,88,89,90,91,92,93,94,95,96,97,98,99],\"y\":[24.81939354806063,24.775432690699933,24.775432690699933,24.775432690699933,24.775432690699933,24.581984630523106,21.590395892342833,21.590395892342833,21.590395892342833,21.590395892342833,21.437186917010557,21.437186917010557,21.146189225511637,21.146189225511637,21.146189225511637,21.146189225511637,21.146189225511637,21.146189225511637,21.146189225511637,21.146189225511637,21.146189225511637,21.146189225511637,21.146189225511637,21.146189225511637,21.146189225511637,21.146189225511637,21.146189225511637,21.146189225511637,21.146189225511637,21.146189225511637,21.146189225511637,21.146189225511637,21.146189225511637,21.146189225511637,21.146189225511637,21.146189225511637,21.146189225511637,21.146189225511637,21.146189225511637,21.146189225511637,21.146189225511637,21.146189225511637,21.146189225511637,21.146189225511637,21.146189225511637,21.146189225511637,21.146189225511637,21.146189225511637,21.146189225511637,21.146189225511637,21.146189225511637,21.146189225511637,21.146189225511637,21.146189225511637,21.146189225511637,21.146189225511637,21.146189225511637,21.146189225511637,21.146189225511637,21.146189225511637,21.146189225511637,21.146189225511637,21.146189225511637,21.146189225511637,21.146189225511637,21.146189225511637,21.146189225511637,21.146189225511637,21.146189225511637,21.146189225511637,21.146189225511637,21.146189225511637,21.146189225511637,21.146189225511637,21.146189225511637,21.146189225511637,21.146189225511637,21.146189225511637,21.146189225511637,21.146189225511637,21.146189225511637,21.146189225511637,21.146189225511637,21.146189225511637,21.146189225511637,21.146189225511637,21.146189225511637,21.146189225511637,21.146189225511637,21.146189225511637,21.146189225511637,21.146189225511637,21.146189225511637,21.146189225511637,21.146189225511637,21.146189225511637,21.146189225511637,21.146189225511637,21.146189225511637,21.146189225511637],\"type\":\"scatter\"},{\"marker\":{\"color\":\"#cccccc\"},\"mode\":\"markers\",\"name\":\"Infeasible Trial\",\"showlegend\":false,\"x\":[],\"y\":[],\"type\":\"scatter\"}],                        {\"title\":{\"text\":\"Optimization History Plot\"},\"xaxis\":{\"title\":{\"text\":\"Trial\"}},\"yaxis\":{\"title\":{\"text\":\"Objective Value\"}},\"template\":{\"data\":{\"histogram2dcontour\":[{\"type\":\"histogram2dcontour\",\"colorbar\":{\"outlinewidth\":0,\"ticks\":\"\"},\"colorscale\":[[0.0,\"#0d0887\"],[0.1111111111111111,\"#46039f\"],[0.2222222222222222,\"#7201a8\"],[0.3333333333333333,\"#9c179e\"],[0.4444444444444444,\"#bd3786\"],[0.5555555555555556,\"#d8576b\"],[0.6666666666666666,\"#ed7953\"],[0.7777777777777778,\"#fb9f3a\"],[0.8888888888888888,\"#fdca26\"],[1.0,\"#f0f921\"]]}],\"choropleth\":[{\"type\":\"choropleth\",\"colorbar\":{\"outlinewidth\":0,\"ticks\":\"\"}}],\"histogram2d\":[{\"type\":\"histogram2d\",\"colorbar\":{\"outlinewidth\":0,\"ticks\":\"\"},\"colorscale\":[[0.0,\"#0d0887\"],[0.1111111111111111,\"#46039f\"],[0.2222222222222222,\"#7201a8\"],[0.3333333333333333,\"#9c179e\"],[0.4444444444444444,\"#bd3786\"],[0.5555555555555556,\"#d8576b\"],[0.6666666666666666,\"#ed7953\"],[0.7777777777777778,\"#fb9f3a\"],[0.8888888888888888,\"#fdca26\"],[1.0,\"#f0f921\"]]}],\"heatmap\":[{\"type\":\"heatmap\",\"colorbar\":{\"outlinewidth\":0,\"ticks\":\"\"},\"colorscale\":[[0.0,\"#0d0887\"],[0.1111111111111111,\"#46039f\"],[0.2222222222222222,\"#7201a8\"],[0.3333333333333333,\"#9c179e\"],[0.4444444444444444,\"#bd3786\"],[0.5555555555555556,\"#d8576b\"],[0.6666666666666666,\"#ed7953\"],[0.7777777777777778,\"#fb9f3a\"],[0.8888888888888888,\"#fdca26\"],[1.0,\"#f0f921\"]]}],\"heatmapgl\":[{\"type\":\"heatmapgl\",\"colorbar\":{\"outlinewidth\":0,\"ticks\":\"\"},\"colorscale\":[[0.0,\"#0d0887\"],[0.1111111111111111,\"#46039f\"],[0.2222222222222222,\"#7201a8\"],[0.3333333333333333,\"#9c179e\"],[0.4444444444444444,\"#bd3786\"],[0.5555555555555556,\"#d8576b\"],[0.6666666666666666,\"#ed7953\"],[0.7777777777777778,\"#fb9f3a\"],[0.8888888888888888,\"#fdca26\"],[1.0,\"#f0f921\"]]}],\"contourcarpet\":[{\"type\":\"contourcarpet\",\"colorbar\":{\"outlinewidth\":0,\"ticks\":\"\"}}],\"contour\":[{\"type\":\"contour\",\"colorbar\":{\"outlinewidth\":0,\"ticks\":\"\"},\"colorscale\":[[0.0,\"#0d0887\"],[0.1111111111111111,\"#46039f\"],[0.2222222222222222,\"#7201a8\"],[0.3333333333333333,\"#9c179e\"],[0.4444444444444444,\"#bd3786\"],[0.5555555555555556,\"#d8576b\"],[0.6666666666666666,\"#ed7953\"],[0.7777777777777778,\"#fb9f3a\"],[0.8888888888888888,\"#fdca26\"],[1.0,\"#f0f921\"]]}],\"surface\":[{\"type\":\"surface\",\"colorbar\":{\"outlinewidth\":0,\"ticks\":\"\"},\"colorscale\":[[0.0,\"#0d0887\"],[0.1111111111111111,\"#46039f\"],[0.2222222222222222,\"#7201a8\"],[0.3333333333333333,\"#9c179e\"],[0.4444444444444444,\"#bd3786\"],[0.5555555555555556,\"#d8576b\"],[0.6666666666666666,\"#ed7953\"],[0.7777777777777778,\"#fb9f3a\"],[0.8888888888888888,\"#fdca26\"],[1.0,\"#f0f921\"]]}],\"mesh3d\":[{\"type\":\"mesh3d\",\"colorbar\":{\"outlinewidth\":0,\"ticks\":\"\"}}],\"scatter\":[{\"fillpattern\":{\"fillmode\":\"overlay\",\"size\":10,\"solidity\":0.2},\"type\":\"scatter\"}],\"parcoords\":[{\"type\":\"parcoords\",\"line\":{\"colorbar\":{\"outlinewidth\":0,\"ticks\":\"\"}}}],\"scatterpolargl\":[{\"type\":\"scatterpolargl\",\"marker\":{\"colorbar\":{\"outlinewidth\":0,\"ticks\":\"\"}}}],\"bar\":[{\"error_x\":{\"color\":\"#2a3f5f\"},\"error_y\":{\"color\":\"#2a3f5f\"},\"marker\":{\"line\":{\"color\":\"#E5ECF6\",\"width\":0.5},\"pattern\":{\"fillmode\":\"overlay\",\"size\":10,\"solidity\":0.2}},\"type\":\"bar\"}],\"scattergeo\":[{\"type\":\"scattergeo\",\"marker\":{\"colorbar\":{\"outlinewidth\":0,\"ticks\":\"\"}}}],\"scatterpolar\":[{\"type\":\"scatterpolar\",\"marker\":{\"colorbar\":{\"outlinewidth\":0,\"ticks\":\"\"}}}],\"histogram\":[{\"marker\":{\"pattern\":{\"fillmode\":\"overlay\",\"size\":10,\"solidity\":0.2}},\"type\":\"histogram\"}],\"scattergl\":[{\"type\":\"scattergl\",\"marker\":{\"colorbar\":{\"outlinewidth\":0,\"ticks\":\"\"}}}],\"scatter3d\":[{\"type\":\"scatter3d\",\"line\":{\"colorbar\":{\"outlinewidth\":0,\"ticks\":\"\"}},\"marker\":{\"colorbar\":{\"outlinewidth\":0,\"ticks\":\"\"}}}],\"scattermapbox\":[{\"type\":\"scattermapbox\",\"marker\":{\"colorbar\":{\"outlinewidth\":0,\"ticks\":\"\"}}}],\"scatterternary\":[{\"type\":\"scatterternary\",\"marker\":{\"colorbar\":{\"outlinewidth\":0,\"ticks\":\"\"}}}],\"scattercarpet\":[{\"type\":\"scattercarpet\",\"marker\":{\"colorbar\":{\"outlinewidth\":0,\"ticks\":\"\"}}}],\"carpet\":[{\"aaxis\":{\"endlinecolor\":\"#2a3f5f\",\"gridcolor\":\"white\",\"linecolor\":\"white\",\"minorgridcolor\":\"white\",\"startlinecolor\":\"#2a3f5f\"},\"baxis\":{\"endlinecolor\":\"#2a3f5f\",\"gridcolor\":\"white\",\"linecolor\":\"white\",\"minorgridcolor\":\"white\",\"startlinecolor\":\"#2a3f5f\"},\"type\":\"carpet\"}],\"table\":[{\"cells\":{\"fill\":{\"color\":\"#EBF0F8\"},\"line\":{\"color\":\"white\"}},\"header\":{\"fill\":{\"color\":\"#C8D4E3\"},\"line\":{\"color\":\"white\"}},\"type\":\"table\"}],\"barpolar\":[{\"marker\":{\"line\":{\"color\":\"#E5ECF6\",\"width\":0.5},\"pattern\":{\"fillmode\":\"overlay\",\"size\":10,\"solidity\":0.2}},\"type\":\"barpolar\"}],\"pie\":[{\"automargin\":true,\"type\":\"pie\"}]},\"layout\":{\"autotypenumbers\":\"strict\",\"colorway\":[\"#636efa\",\"#EF553B\",\"#00cc96\",\"#ab63fa\",\"#FFA15A\",\"#19d3f3\",\"#FF6692\",\"#B6E880\",\"#FF97FF\",\"#FECB52\"],\"font\":{\"color\":\"#2a3f5f\"},\"hovermode\":\"closest\",\"hoverlabel\":{\"align\":\"left\"},\"paper_bgcolor\":\"white\",\"plot_bgcolor\":\"#E5ECF6\",\"polar\":{\"bgcolor\":\"#E5ECF6\",\"angularaxis\":{\"gridcolor\":\"white\",\"linecolor\":\"white\",\"ticks\":\"\"},\"radialaxis\":{\"gridcolor\":\"white\",\"linecolor\":\"white\",\"ticks\":\"\"}},\"ternary\":{\"bgcolor\":\"#E5ECF6\",\"aaxis\":{\"gridcolor\":\"white\",\"linecolor\":\"white\",\"ticks\":\"\"},\"baxis\":{\"gridcolor\":\"white\",\"linecolor\":\"white\",\"ticks\":\"\"},\"caxis\":{\"gridcolor\":\"white\",\"linecolor\":\"white\",\"ticks\":\"\"}},\"coloraxis\":{\"colorbar\":{\"outlinewidth\":0,\"ticks\":\"\"}},\"colorscale\":{\"sequential\":[[0.0,\"#0d0887\"],[0.1111111111111111,\"#46039f\"],[0.2222222222222222,\"#7201a8\"],[0.3333333333333333,\"#9c179e\"],[0.4444444444444444,\"#bd3786\"],[0.5555555555555556,\"#d8576b\"],[0.6666666666666666,\"#ed7953\"],[0.7777777777777778,\"#fb9f3a\"],[0.8888888888888888,\"#fdca26\"],[1.0,\"#f0f921\"]],\"sequentialminus\":[[0.0,\"#0d0887\"],[0.1111111111111111,\"#46039f\"],[0.2222222222222222,\"#7201a8\"],[0.3333333333333333,\"#9c179e\"],[0.4444444444444444,\"#bd3786\"],[0.5555555555555556,\"#d8576b\"],[0.6666666666666666,\"#ed7953\"],[0.7777777777777778,\"#fb9f3a\"],[0.8888888888888888,\"#fdca26\"],[1.0,\"#f0f921\"]],\"diverging\":[[0,\"#8e0152\"],[0.1,\"#c51b7d\"],[0.2,\"#de77ae\"],[0.3,\"#f1b6da\"],[0.4,\"#fde0ef\"],[0.5,\"#f7f7f7\"],[0.6,\"#e6f5d0\"],[0.7,\"#b8e186\"],[0.8,\"#7fbc41\"],[0.9,\"#4d9221\"],[1,\"#276419\"]]},\"xaxis\":{\"gridcolor\":\"white\",\"linecolor\":\"white\",\"ticks\":\"\",\"title\":{\"standoff\":15},\"zerolinecolor\":\"white\",\"automargin\":true,\"zerolinewidth\":2},\"yaxis\":{\"gridcolor\":\"white\",\"linecolor\":\"white\",\"ticks\":\"\",\"title\":{\"standoff\":15},\"zerolinecolor\":\"white\",\"automargin\":true,\"zerolinewidth\":2},\"scene\":{\"xaxis\":{\"backgroundcolor\":\"#E5ECF6\",\"gridcolor\":\"white\",\"linecolor\":\"white\",\"showbackground\":true,\"ticks\":\"\",\"zerolinecolor\":\"white\",\"gridwidth\":2},\"yaxis\":{\"backgroundcolor\":\"#E5ECF6\",\"gridcolor\":\"white\",\"linecolor\":\"white\",\"showbackground\":true,\"ticks\":\"\",\"zerolinecolor\":\"white\",\"gridwidth\":2},\"zaxis\":{\"backgroundcolor\":\"#E5ECF6\",\"gridcolor\":\"white\",\"linecolor\":\"white\",\"showbackground\":true,\"ticks\":\"\",\"zerolinecolor\":\"white\",\"gridwidth\":2}},\"shapedefaults\":{\"line\":{\"color\":\"#2a3f5f\"}},\"annotationdefaults\":{\"arrowcolor\":\"#2a3f5f\",\"arrowhead\":0,\"arrowwidth\":1},\"geo\":{\"bgcolor\":\"white\",\"landcolor\":\"#E5ECF6\",\"subunitcolor\":\"white\",\"showland\":true,\"showlakes\":true,\"lakecolor\":\"white\"},\"title\":{\"x\":0.05},\"mapbox\":{\"style\":\"light\"}}}},                        {\"responsive\": true}                    )                };                            </script>        </div>"
      ],
      "text/plain": [
       "Figure({\n",
       "    'data': [{'mode': 'markers',\n",
       "              'name': 'Objective Value',\n",
       "              'type': 'scatter',\n",
       "              'x': [0, 1, 2, 3, 4, 5, 6, 7, 8, 9, 10, 11, 12, 13, 14, 15, 16, 17,\n",
       "                    18, 19, 20, 21, 22, 23, 24, 25, 26, 27, 28, 29, 30, 31, 32, 33,\n",
       "                    34, 35, 36, 37, 38, 39, 40, 41, 42, 43, 44, 45, 46, 47, 48, 49,\n",
       "                    50, 51, 52, 53, 54, 55, 56, 57, 58, 59, 60, 61, 62, 63, 64, 65,\n",
       "                    66, 67, 68, 69, 70, 71, 72, 73, 74, 75, 76, 77, 78, 79, 80, 81,\n",
       "                    82, 83, 84, 85, 86, 87, 88, 89, 90, 91, 92, 93, 94, 95, 96, 97,\n",
       "                    98, 99],\n",
       "              'y': [24.81939354806063, 24.775432690699933, 24.96646246658271,\n",
       "                    24.955350143904226, 25.11935903561836, 24.581984630523106,\n",
       "                    21.590395892342833, 24.884948643613487, 24.952536565154855,\n",
       "                    24.52616066844211, 21.437186917010557, 21.437186917010557,\n",
       "                    21.146189225511637, 23.28933493754233, 21.437186917010557,\n",
       "                    24.99583279614626, 24.89345984828842, 22.550627512771968,\n",
       "                    24.953350734951332, 24.79860896536825, 24.741109214625048,\n",
       "                    21.437186917010557, 21.43718691701056, 22.80453010384291,\n",
       "                    21.602374762395193, 24.230346446210053, 24.704600222049,\n",
       "                    21.226468038193207, 21.450755157047166, 24.936865722656925,\n",
       "                    25.089304719911816, 21.14915606313722, 23.779100162744324,\n",
       "                    24.7297439229487, 21.5658821647415, 24.801504855628462,\n",
       "                    24.87917452276567, 24.084645622624116, 21.226468038193207,\n",
       "                    25.074949876351802, 24.70492858343778, 21.14915606313722,\n",
       "                    21.194309439023073, 21.14915606313722, 24.34734086460834,\n",
       "                    22.723529329567167, 21.226468038193207, 24.507000544543505,\n",
       "                    24.840804148015646, 22.23924488864992, 21.14618922551164,\n",
       "                    21.146189225511637, 23.179783401816497, 21.16189625546681,\n",
       "                    21.146189225511637, 22.568701802008203, 21.16189625546681,\n",
       "                    24.785475360946936, 22.09187896340316, 24.687838303901817,\n",
       "                    21.437186917010557, 21.149156063137216, 21.146189225511637,\n",
       "                    23.59103039933851, 21.161896255466814, 21.911183351353937,\n",
       "                    23.07378436411375, 24.893206612212488, 21.146189225511637,\n",
       "                    24.778665664867095, 21.847880218771806, 21.161896255466814,\n",
       "                    21.43718691701056, 21.146189225511637, 21.90595290645402,\n",
       "                    23.329816913958247, 21.146189225511637, 21.437186917010557,\n",
       "                    21.62869568111496, 24.80426674366346, 22.49307588993825,\n",
       "                    21.146189225511637, 21.146189225511637, 21.430980018791136,\n",
       "                    23.851710150238365, 22.945672769169505, 21.14618922551164,\n",
       "                    21.451997880670245, 21.437186917010557, 25.014890106356248,\n",
       "                    21.146189225511637, 21.16189625546681, 21.45275202259648,\n",
       "                    21.146189225511637, 22.175362696910543, 24.79329922815338,\n",
       "                    21.226468038193207, 21.161896255466814, 23.03863917893793,\n",
       "                    21.637520412001713]},\n",
       "             {'mode': 'lines',\n",
       "              'name': 'Best Value',\n",
       "              'type': 'scatter',\n",
       "              'x': [0, 1, 2, 3, 4, 5, 6, 7, 8, 9, 10, 11, 12, 13, 14, 15, 16, 17,\n",
       "                    18, 19, 20, 21, 22, 23, 24, 25, 26, 27, 28, 29, 30, 31, 32, 33,\n",
       "                    34, 35, 36, 37, 38, 39, 40, 41, 42, 43, 44, 45, 46, 47, 48, 49,\n",
       "                    50, 51, 52, 53, 54, 55, 56, 57, 58, 59, 60, 61, 62, 63, 64, 65,\n",
       "                    66, 67, 68, 69, 70, 71, 72, 73, 74, 75, 76, 77, 78, 79, 80, 81,\n",
       "                    82, 83, 84, 85, 86, 87, 88, 89, 90, 91, 92, 93, 94, 95, 96, 97,\n",
       "                    98, 99],\n",
       "              'y': [24.81939354806063, 24.775432690699933, 24.775432690699933,\n",
       "                    24.775432690699933, 24.775432690699933, 24.581984630523106,\n",
       "                    21.590395892342833, 21.590395892342833, 21.590395892342833,\n",
       "                    21.590395892342833, 21.437186917010557, 21.437186917010557,\n",
       "                    21.146189225511637, 21.146189225511637, 21.146189225511637,\n",
       "                    21.146189225511637, 21.146189225511637, 21.146189225511637,\n",
       "                    21.146189225511637, 21.146189225511637, 21.146189225511637,\n",
       "                    21.146189225511637, 21.146189225511637, 21.146189225511637,\n",
       "                    21.146189225511637, 21.146189225511637, 21.146189225511637,\n",
       "                    21.146189225511637, 21.146189225511637, 21.146189225511637,\n",
       "                    21.146189225511637, 21.146189225511637, 21.146189225511637,\n",
       "                    21.146189225511637, 21.146189225511637, 21.146189225511637,\n",
       "                    21.146189225511637, 21.146189225511637, 21.146189225511637,\n",
       "                    21.146189225511637, 21.146189225511637, 21.146189225511637,\n",
       "                    21.146189225511637, 21.146189225511637, 21.146189225511637,\n",
       "                    21.146189225511637, 21.146189225511637, 21.146189225511637,\n",
       "                    21.146189225511637, 21.146189225511637, 21.146189225511637,\n",
       "                    21.146189225511637, 21.146189225511637, 21.146189225511637,\n",
       "                    21.146189225511637, 21.146189225511637, 21.146189225511637,\n",
       "                    21.146189225511637, 21.146189225511637, 21.146189225511637,\n",
       "                    21.146189225511637, 21.146189225511637, 21.146189225511637,\n",
       "                    21.146189225511637, 21.146189225511637, 21.146189225511637,\n",
       "                    21.146189225511637, 21.146189225511637, 21.146189225511637,\n",
       "                    21.146189225511637, 21.146189225511637, 21.146189225511637,\n",
       "                    21.146189225511637, 21.146189225511637, 21.146189225511637,\n",
       "                    21.146189225511637, 21.146189225511637, 21.146189225511637,\n",
       "                    21.146189225511637, 21.146189225511637, 21.146189225511637,\n",
       "                    21.146189225511637, 21.146189225511637, 21.146189225511637,\n",
       "                    21.146189225511637, 21.146189225511637, 21.146189225511637,\n",
       "                    21.146189225511637, 21.146189225511637, 21.146189225511637,\n",
       "                    21.146189225511637, 21.146189225511637, 21.146189225511637,\n",
       "                    21.146189225511637, 21.146189225511637, 21.146189225511637,\n",
       "                    21.146189225511637, 21.146189225511637, 21.146189225511637,\n",
       "                    21.146189225511637]},\n",
       "             {'marker': {'color': '#cccccc'},\n",
       "              'mode': 'markers',\n",
       "              'name': 'Infeasible Trial',\n",
       "              'showlegend': False,\n",
       "              'type': 'scatter',\n",
       "              'x': [],\n",
       "              'y': []}],\n",
       "    'layout': {'template': '...',\n",
       "               'title': {'text': 'Optimization History Plot'},\n",
       "               'xaxis': {'title': {'text': 'Trial'}},\n",
       "               'yaxis': {'title': {'text': 'Objective Value'}}}\n",
       "})"
      ]
     },
     "execution_count": 37,
     "metadata": {},
     "output_type": "execute_result"
    }
   ],
   "source": [
    "optuna.visualization.plot_optimization_history(study)"
   ]
  },
  {
   "cell_type": "code",
   "execution_count": 38,
   "metadata": {},
   "outputs": [
    {
     "data": {
      "text/plain": [
       "{'max_depth': 5}"
      ]
     },
     "execution_count": 38,
     "metadata": {},
     "output_type": "execute_result"
    }
   ],
   "source": [
    "dt_best_params = study.best_params\n",
    "dt_best_params"
   ]
  },
  {
   "cell_type": "markdown",
   "metadata": {},
   "source": [
    "## Random Forest Regressor"
   ]
  },
  {
   "cell_type": "code",
   "execution_count": 7,
   "metadata": {},
   "outputs": [],
   "source": [
    "def rf_fine_tuning(trial):\n",
    "    n_estimators = trial.suggest_int('n_estimators', 10,200)\n",
    "    max_depth = trial.suggest_int('max_depth', 2,50)\n",
    "    rf_model = RandomForestRegressor(n_estimators = n_estimators, max_depth=max_depth)\n",
    "    rf_model.fit(X_train, y_train)\n",
    "    y_pred = rf_model.predict(X_val)\n",
    "\n",
    "    return calculate_metrics(y_val, y_pred, 'Random Forest')['RMSE']"
   ]
  },
  {
   "cell_type": "code",
   "execution_count": 10,
   "metadata": {},
   "outputs": [
    {
     "name": "stderr",
     "output_type": "stream",
     "text": [
      "[I 2023-08-30 08:16:08,273] A new study created in memory with name: no-name-495f3be9-9c82-43cc-a834-98216c468498\n",
      "[I 2023-08-30 08:16:21,915] Trial 0 finished with value: 18.164772892443366 and parameters: {'n_estimators': 23, 'max_depth': 50}. Best is trial 0 with value: 18.164772892443366.\n",
      "[I 2023-08-30 08:18:01,661] Trial 1 finished with value: 17.730473967826537 and parameters: {'n_estimators': 183, 'max_depth': 45}. Best is trial 1 with value: 17.730473967826537.\n",
      "[I 2023-08-30 08:18:51,196] Trial 2 finished with value: 17.82874999027615 and parameters: {'n_estimators': 93, 'max_depth': 38}. Best is trial 1 with value: 17.730473967826537.\n",
      "[I 2023-08-30 08:18:57,748] Trial 3 finished with value: 18.481848359077937 and parameters: {'n_estimators': 14, 'max_depth': 44}. Best is trial 1 with value: 17.730473967826537.\n",
      "[I 2023-08-30 08:19:43,608] Trial 4 finished with value: 17.929504135880197 and parameters: {'n_estimators': 98, 'max_depth': 38}. Best is trial 1 with value: 17.730473967826537.\n",
      "[I 2023-08-30 08:19:49,973] Trial 5 finished with value: 18.51007556936624 and parameters: {'n_estimators': 14, 'max_depth': 26}. Best is trial 1 with value: 17.730473967826537.\n",
      "[I 2023-08-30 08:21:12,513] Trial 6 finished with value: 17.785068284137168 and parameters: {'n_estimators': 152, 'max_depth': 47}. Best is trial 1 with value: 17.730473967826537.\n",
      "[I 2023-08-30 08:21:48,500] Trial 7 finished with value: 17.86868437153871 and parameters: {'n_estimators': 76, 'max_depth': 33}. Best is trial 1 with value: 17.730473967826537.\n",
      "[I 2023-08-30 08:22:13,471] Trial 8 finished with value: 18.001790347783633 and parameters: {'n_estimators': 51, 'max_depth': 20}. Best is trial 1 with value: 17.730473967826537.\n",
      "[I 2023-08-30 08:22:30,845] Trial 9 finished with value: 18.585410187963234 and parameters: {'n_estimators': 54, 'max_depth': 13}. Best is trial 1 with value: 17.730473967826537.\n",
      "[I 2023-08-30 08:23:00,743] Trial 10 finished with value: 20.522680483528323 and parameters: {'n_estimators': 198, 'max_depth': 6}. Best is trial 1 with value: 17.730473967826537.\n",
      "[I 2023-08-30 08:24:34,603] Trial 11 finished with value: 17.80076235091685 and parameters: {'n_estimators': 165, 'max_depth': 50}. Best is trial 1 with value: 17.730473967826537.\n",
      "[I 2023-08-30 08:25:52,508] Trial 12 finished with value: 17.82872268138532 and parameters: {'n_estimators': 144, 'max_depth': 40}. Best is trial 1 with value: 17.730473967826537.\n",
      "[I 2023-08-30 08:27:13,817] Trial 13 finished with value: 17.820767695116658 and parameters: {'n_estimators': 140, 'max_depth': 28}. Best is trial 1 with value: 17.730473967826537.\n",
      "[I 2023-08-30 08:29:13,697] Trial 14 finished with value: 17.784651781703044 and parameters: {'n_estimators': 200, 'max_depth': 45}. Best is trial 1 with value: 17.730473967826537.\n",
      "[I 2023-08-30 08:30:48,463] Trial 15 finished with value: 17.758482570268857 and parameters: {'n_estimators': 191, 'max_depth': 32}. Best is trial 1 with value: 17.730473967826537.\n",
      "[I 2023-08-30 08:32:40,160] Trial 16 finished with value: 17.805837943734968 and parameters: {'n_estimators': 175, 'max_depth': 31}. Best is trial 1 with value: 17.730473967826537.\n",
      "[I 2023-08-30 08:33:38,510] Trial 17 finished with value: 18.02925844081241 and parameters: {'n_estimators': 124, 'max_depth': 17}. Best is trial 1 with value: 17.730473967826537.\n",
      "[I 2023-08-30 08:35:07,195] Trial 18 finished with value: 17.78367191312085 and parameters: {'n_estimators': 174, 'max_depth': 33}. Best is trial 1 with value: 17.730473967826537.\n",
      "[I 2023-08-30 08:36:03,803] Trial 19 finished with value: 17.834076952977053 and parameters: {'n_estimators': 122, 'max_depth': 22}. Best is trial 1 with value: 17.730473967826537.\n",
      "[I 2023-08-30 08:37:26,172] Trial 20 finished with value: 17.806138359399462 and parameters: {'n_estimators': 183, 'max_depth': 41}. Best is trial 1 with value: 17.730473967826537.\n",
      "[I 2023-08-30 08:38:39,622] Trial 21 finished with value: 17.82008529435587 and parameters: {'n_estimators': 179, 'max_depth': 32}. Best is trial 1 with value: 17.730473967826537.\n",
      "[I 2023-08-30 08:39:47,396] Trial 22 finished with value: 17.828737176002786 and parameters: {'n_estimators': 159, 'max_depth': 34}. Best is trial 1 with value: 17.730473967826537.\n",
      "[I 2023-08-30 08:41:07,831] Trial 23 finished with value: 17.80548435589981 and parameters: {'n_estimators': 187, 'max_depth': 35}. Best is trial 1 with value: 17.730473967826537.\n",
      "[I 2023-08-30 08:42:19,941] Trial 24 finished with value: 17.813869195595817 and parameters: {'n_estimators': 168, 'max_depth': 29}. Best is trial 1 with value: 17.730473967826537.\n",
      "[I 2023-08-30 08:43:12,654] Trial 25 finished with value: 17.82632350717297 and parameters: {'n_estimators': 128, 'max_depth': 23}. Best is trial 1 with value: 17.730473967826537.\n",
      "[I 2023-08-30 08:44:31,211] Trial 26 finished with value: 17.785141809098107 and parameters: {'n_estimators': 189, 'max_depth': 42}. Best is trial 1 with value: 17.730473967826537.\n",
      "[I 2023-08-30 08:45:00,849] Trial 27 finished with value: 19.697693057337144 and parameters: {'n_estimators': 157, 'max_depth': 9}. Best is trial 1 with value: 17.730473967826537.\n",
      "[I 2023-08-30 08:45:59,377] Trial 28 finished with value: 17.76227810304041 and parameters: {'n_estimators': 139, 'max_depth': 36}. Best is trial 1 with value: 17.730473967826537.\n",
      "[I 2023-08-30 08:46:43,725] Trial 29 finished with value: 17.786149784343777 and parameters: {'n_estimators': 108, 'max_depth': 47}. Best is trial 1 with value: 17.730473967826537.\n",
      "[I 2023-08-30 08:55:15,215] Trial 30 finished with value: 17.81944383807769 and parameters: {'n_estimators': 138, 'max_depth': 37}. Best is trial 1 with value: 17.730473967826537.\n",
      "[I 2023-08-30 08:56:07,310] Trial 31 finished with value: 17.815328011343556 and parameters: {'n_estimators': 172, 'max_depth': 29}. Best is trial 1 with value: 17.730473967826537.\n",
      "[I 2023-08-30 08:56:56,763] Trial 32 finished with value: 17.817058056236586 and parameters: {'n_estimators': 151, 'max_depth': 37}. Best is trial 1 with value: 17.730473967826537.\n",
      "[I 2023-08-30 08:57:58,183] Trial 33 finished with value: 17.81006010524204 and parameters: {'n_estimators': 193, 'max_depth': 25}. Best is trial 1 with value: 17.730473967826537.\n",
      "[I 2023-08-30 08:59:07,153] Trial 34 finished with value: 17.78577318146571 and parameters: {'n_estimators': 179, 'max_depth': 43}. Best is trial 1 with value: 17.730473967826537.\n",
      "[I 2023-08-30 08:59:51,362] Trial 35 finished with value: 17.82180738027649 and parameters: {'n_estimators': 114, 'max_depth': 38}. Best is trial 1 with value: 17.730473967826537.\n",
      "[I 2023-08-30 09:01:12,474] Trial 36 finished with value: 17.815602443176115 and parameters: {'n_estimators': 168, 'max_depth': 50}. Best is trial 1 with value: 17.730473967826537.\n",
      "[I 2023-08-30 09:02:07,712] Trial 37 finished with value: 17.84228823895903 and parameters: {'n_estimators': 146, 'max_depth': 35}. Best is trial 1 with value: 17.730473967826537.\n",
      "[I 2023-08-30 09:02:35,005] Trial 38 finished with value: 17.809500643741668 and parameters: {'n_estimators': 84, 'max_depth': 46}. Best is trial 1 with value: 17.730473967826537.\n",
      "[I 2023-08-30 09:03:17,569] Trial 39 finished with value: 17.787938258667733 and parameters: {'n_estimators': 132, 'max_depth': 39}. Best is trial 1 with value: 17.730473967826537.\n",
      "[I 2023-08-30 09:04:16,632] Trial 40 finished with value: 17.77530518802162 and parameters: {'n_estimators': 160, 'max_depth': 31}. Best is trial 1 with value: 17.730473967826537.\n",
      "[I 2023-08-30 09:05:20,749] Trial 41 finished with value: 17.772714156426304 and parameters: {'n_estimators': 162, 'max_depth': 26}. Best is trial 1 with value: 17.730473967826537.\n",
      "[I 2023-08-30 09:06:10,776] Trial 42 finished with value: 17.800294306530347 and parameters: {'n_estimators': 159, 'max_depth': 27}. Best is trial 1 with value: 17.730473967826537.\n",
      "[I 2023-08-30 09:06:54,616] Trial 43 finished with value: 17.93903216488516 and parameters: {'n_estimators': 162, 'max_depth': 18}. Best is trial 1 with value: 17.730473967826537.\n",
      "[I 2023-08-30 09:07:04,705] Trial 44 finished with value: 18.03201610335001 and parameters: {'n_estimators': 34, 'max_depth': 25}. Best is trial 1 with value: 17.730473967826537.\n",
      "[I 2023-08-30 09:08:03,146] Trial 45 finished with value: 17.797461218200027 and parameters: {'n_estimators': 193, 'max_depth': 30}. Best is trial 1 with value: 17.730473967826537.\n",
      "[I 2023-08-30 09:08:06,988] Trial 46 finished with value: 21.347881627406686 and parameters: {'n_estimators': 154, 'max_depth': 2}. Best is trial 1 with value: 17.730473967826537.\n",
      "[I 2023-08-30 09:09:02,801] Trial 47 finished with value: 17.8004806072244 and parameters: {'n_estimators': 183, 'max_depth': 36}. Best is trial 1 with value: 17.730473967826537.\n",
      "[I 2023-08-30 09:09:58,395] Trial 48 finished with value: 17.813734502947202 and parameters: {'n_estimators': 147, 'max_depth': 31}. Best is trial 1 with value: 17.730473967826537.\n",
      "[I 2023-08-30 09:10:32,712] Trial 49 finished with value: 17.848242400129315 and parameters: {'n_estimators': 96, 'max_depth': 27}. Best is trial 1 with value: 17.730473967826537.\n",
      "[I 2023-08-30 09:11:40,252] Trial 50 finished with value: 17.781526188106394 and parameters: {'n_estimators': 200, 'max_depth': 23}. Best is trial 1 with value: 17.730473967826537.\n",
      "[I 2023-08-30 09:12:45,024] Trial 51 finished with value: 17.844397472168243 and parameters: {'n_estimators': 197, 'max_depth': 22}. Best is trial 1 with value: 17.730473967826537.\n",
      "[I 2023-08-30 09:13:52,494] Trial 52 finished with value: 17.794073386321944 and parameters: {'n_estimators': 187, 'max_depth': 23}. Best is trial 1 with value: 17.730473967826537.\n",
      "[I 2023-08-30 09:14:56,598] Trial 53 finished with value: 18.083032093150205 and parameters: {'n_estimators': 199, 'max_depth': 16}. Best is trial 1 with value: 17.730473967826537.\n",
      "[I 2023-08-30 09:16:01,258] Trial 54 finished with value: 17.824184104196515 and parameters: {'n_estimators': 176, 'max_depth': 32}. Best is trial 1 with value: 17.730473967826537.\n",
      "[I 2023-08-30 09:16:57,526] Trial 55 finished with value: 17.827860266532117 and parameters: {'n_estimators': 171, 'max_depth': 21}. Best is trial 1 with value: 17.730473967826537.\n",
      "[I 2023-08-30 09:17:41,921] Trial 56 finished with value: 17.900105201424786 and parameters: {'n_estimators': 136, 'max_depth': 19}. Best is trial 1 with value: 17.730473967826537.\n",
      "[I 2023-08-30 09:18:52,089] Trial 57 finished with value: 17.81943070139285 and parameters: {'n_estimators': 183, 'max_depth': 24}. Best is trial 1 with value: 17.730473967826537.\n",
      "[I 2023-08-30 09:20:08,099] Trial 58 finished with value: 17.800924533290882 and parameters: {'n_estimators': 164, 'max_depth': 28}. Best is trial 1 with value: 17.730473967826537.\n",
      "[I 2023-08-30 09:21:04,414] Trial 59 finished with value: 18.34701151766141 and parameters: {'n_estimators': 192, 'max_depth': 14}. Best is trial 1 with value: 17.730473967826537.\n",
      "[I 2023-08-30 09:21:53,429] Trial 60 finished with value: 17.810125537319877 and parameters: {'n_estimators': 118, 'max_depth': 40}. Best is trial 1 with value: 17.730473967826537.\n",
      "[I 2023-08-30 09:23:01,170] Trial 61 finished with value: 17.812098361995638 and parameters: {'n_estimators': 175, 'max_depth': 32}. Best is trial 1 with value: 17.730473967826537.\n",
      "[I 2023-08-30 09:24:10,645] Trial 62 finished with value: 17.76536648032697 and parameters: {'n_estimators': 181, 'max_depth': 30}. Best is trial 1 with value: 17.730473967826537.\n",
      "[I 2023-08-30 09:25:24,953] Trial 63 finished with value: 17.768476605616218 and parameters: {'n_estimators': 182, 'max_depth': 26}. Best is trial 1 with value: 17.730473967826537.\n",
      "[I 2023-08-30 09:26:29,370] Trial 64 finished with value: 17.807161698422977 and parameters: {'n_estimators': 166, 'max_depth': 34}. Best is trial 1 with value: 17.730473967826537.\n",
      "[I 2023-08-30 09:27:38,741] Trial 65 finished with value: 17.763406060211825 and parameters: {'n_estimators': 182, 'max_depth': 30}. Best is trial 1 with value: 17.730473967826537.\n",
      "[I 2023-08-30 09:28:46,651] Trial 66 finished with value: 17.79835484398686 and parameters: {'n_estimators': 181, 'max_depth': 26}. Best is trial 1 with value: 17.730473967826537.\n",
      "[I 2023-08-30 09:29:50,235] Trial 67 finished with value: 17.741559627927632 and parameters: {'n_estimators': 188, 'max_depth': 48}. Best is trial 1 with value: 17.730473967826537.\n",
      "[I 2023-08-30 09:30:16,058] Trial 68 finished with value: 17.9114405254151 and parameters: {'n_estimators': 64, 'max_depth': 47}. Best is trial 1 with value: 17.730473967826537.\n",
      "[I 2023-08-30 09:31:27,983] Trial 69 finished with value: 17.800281988564663 and parameters: {'n_estimators': 187, 'max_depth': 44}. Best is trial 1 with value: 17.730473967826537.\n",
      "[I 2023-08-30 09:32:35,635] Trial 70 finished with value: 17.787489519379722 and parameters: {'n_estimators': 192, 'max_depth': 48}. Best is trial 1 with value: 17.730473967826537.\n",
      "[I 2023-08-30 09:33:39,059] Trial 71 finished with value: 17.829610776150908 and parameters: {'n_estimators': 178, 'max_depth': 29}. Best is trial 1 with value: 17.730473967826537.\n",
      "[I 2023-08-30 09:34:39,097] Trial 72 finished with value: 17.84883712243064 and parameters: {'n_estimators': 172, 'max_depth': 49}. Best is trial 1 with value: 17.730473967826537.\n",
      "[I 2023-08-30 09:35:42,745] Trial 73 finished with value: 17.793915957448437 and parameters: {'n_estimators': 183, 'max_depth': 33}. Best is trial 1 with value: 17.730473967826537.\n",
      "[I 2023-08-30 09:36:44,804] Trial 74 finished with value: 17.773412720204405 and parameters: {'n_estimators': 188, 'max_depth': 42}. Best is trial 1 with value: 17.730473967826537.\n",
      "[I 2023-08-30 09:37:40,449] Trial 75 finished with value: 17.795344350825374 and parameters: {'n_estimators': 168, 'max_depth': 45}. Best is trial 1 with value: 17.730473967826537.\n",
      "[I 2023-08-30 09:38:43,609] Trial 76 finished with value: 17.783075496169864 and parameters: {'n_estimators': 193, 'max_depth': 30}. Best is trial 1 with value: 17.730473967826537.\n",
      "[I 2023-08-30 09:39:47,154] Trial 77 finished with value: 17.785259503597878 and parameters: {'n_estimators': 155, 'max_depth': 26}. Best is trial 1 with value: 17.730473967826537.\n",
      "[I 2023-08-30 09:40:48,838] Trial 78 finished with value: 17.765230096410654 and parameters: {'n_estimators': 176, 'max_depth': 35}. Best is trial 1 with value: 17.730473967826537.\n",
      "[I 2023-08-30 09:41:23,996] Trial 79 finished with value: 17.887226368857235 and parameters: {'n_estimators': 103, 'max_depth': 36}. Best is trial 1 with value: 17.730473967826537.\n",
      "[I 2023-08-30 09:42:18,859] Trial 80 finished with value: 17.78100623054703 and parameters: {'n_estimators': 179, 'max_depth': 38}. Best is trial 1 with value: 17.730473967826537.\n",
      "[I 2023-08-30 09:43:14,334] Trial 81 finished with value: 17.777357886727604 and parameters: {'n_estimators': 172, 'max_depth': 34}. Best is trial 1 with value: 17.730473967826537.\n",
      "[I 2023-08-30 09:44:13,631] Trial 82 finished with value: 17.779915085546975 and parameters: {'n_estimators': 195, 'max_depth': 30}. Best is trial 1 with value: 17.730473967826537.\n",
      "[I 2023-08-30 09:45:11,119] Trial 83 finished with value: 17.769948860694075 and parameters: {'n_estimators': 186, 'max_depth': 28}. Best is trial 1 with value: 17.730473967826537.\n",
      "[I 2023-08-30 09:46:07,900] Trial 84 finished with value: 17.779352365601472 and parameters: {'n_estimators': 187, 'max_depth': 28}. Best is trial 1 with value: 17.730473967826537.\n",
      "[I 2023-08-30 09:47:03,467] Trial 85 finished with value: 17.789780797083036 and parameters: {'n_estimators': 184, 'max_depth': 35}. Best is trial 1 with value: 17.730473967826537.\n",
      "[I 2023-08-30 09:47:56,874] Trial 86 finished with value: 17.814064783590815 and parameters: {'n_estimators': 176, 'max_depth': 33}. Best is trial 1 with value: 17.730473967826537.\n",
      "[I 2023-08-30 09:48:58,845] Trial 87 finished with value: 17.793428560079295 and parameters: {'n_estimators': 149, 'max_depth': 31}. Best is trial 1 with value: 17.730473967826537.\n",
      "[I 2023-08-30 09:50:04,408] Trial 88 finished with value: 17.820921958444437 and parameters: {'n_estimators': 197, 'max_depth': 41}. Best is trial 1 with value: 17.730473967826537.\n",
      "[I 2023-08-30 09:51:06,680] Trial 89 finished with value: 17.803822718938587 and parameters: {'n_estimators': 169, 'max_depth': 28}. Best is trial 1 with value: 17.730473967826537.\n",
      "[I 2023-08-30 09:52:13,823] Trial 90 finished with value: 17.784199095870388 and parameters: {'n_estimators': 190, 'max_depth': 49}. Best is trial 1 with value: 17.730473967826537.\n",
      "[I 2023-08-30 09:53:10,356] Trial 91 finished with value: 17.85202958468374 and parameters: {'n_estimators': 162, 'max_depth': 30}. Best is trial 1 with value: 17.730473967826537.\n",
      "[I 2023-08-30 09:54:10,359] Trial 92 finished with value: 17.810471512437715 and parameters: {'n_estimators': 179, 'max_depth': 25}. Best is trial 1 with value: 17.730473967826537.\n",
      "[I 2023-08-30 09:55:15,282] Trial 93 finished with value: 17.82031203026605 and parameters: {'n_estimators': 184, 'max_depth': 27}. Best is trial 1 with value: 17.730473967826537.\n",
      "[I 2023-08-30 09:56:01,703] Trial 94 finished with value: 17.83691245345181 and parameters: {'n_estimators': 143, 'max_depth': 24}. Best is trial 1 with value: 17.730473967826537.\n",
      "[I 2023-08-30 09:57:08,324] Trial 95 finished with value: 17.76498726206612 and parameters: {'n_estimators': 200, 'max_depth': 29}. Best is trial 1 with value: 17.730473967826537.\n",
      "[I 2023-08-30 09:58:12,680] Trial 96 finished with value: 17.789966817504197 and parameters: {'n_estimators': 197, 'max_depth': 29}. Best is trial 1 with value: 17.730473967826537.\n",
      "[I 2023-08-30 09:58:41,026] Trial 97 finished with value: 17.844426478725172 and parameters: {'n_estimators': 87, 'max_depth': 37}. Best is trial 1 with value: 17.730473967826537.\n",
      "[I 2023-08-30 09:59:46,530] Trial 98 finished with value: 17.78961278916461 and parameters: {'n_estimators': 200, 'max_depth': 32}. Best is trial 1 with value: 17.730473967826537.\n",
      "[I 2023-08-30 10:00:49,272] Trial 99 finished with value: 17.7563018829342 and parameters: {'n_estimators': 190, 'max_depth': 39}. Best is trial 1 with value: 17.730473967826537.\n"
     ]
    }
   ],
   "source": [
    "study = optuna.create_study(direction='minimize')\n",
    "study.optimize(rf_fine_tuning, n_trials=100)"
   ]
  },
  {
   "cell_type": "code",
   "execution_count": 11,
   "metadata": {},
   "outputs": [
    {
     "ename": "ValueError",
     "evalue": "Mime type rendering requires nbformat>=4.2.0 but it is not installed",
     "output_type": "error",
     "traceback": [
      "\u001b[1;31m---------------------------------------------------------------------------\u001b[0m",
      "\u001b[1;31mValueError\u001b[0m                                Traceback (most recent call last)",
      "File \u001b[1;32mc:\\Users\\thale\\anaconda3\\envs\\myenv\\lib\\site-packages\\IPython\\core\\formatters.py:922\u001b[0m, in \u001b[0;36mIPythonDisplayFormatter.__call__\u001b[1;34m(self, obj)\u001b[0m\n\u001b[0;32m    920\u001b[0m method \u001b[39m=\u001b[39m get_real_method(obj, \u001b[39mself\u001b[39m\u001b[39m.\u001b[39mprint_method)\n\u001b[0;32m    921\u001b[0m \u001b[39mif\u001b[39;00m method \u001b[39mis\u001b[39;00m \u001b[39mnot\u001b[39;00m \u001b[39mNone\u001b[39;00m:\n\u001b[1;32m--> 922\u001b[0m     method()\n\u001b[0;32m    923\u001b[0m     \u001b[39mreturn\u001b[39;00m \u001b[39mTrue\u001b[39;00m\n",
      "File \u001b[1;32mc:\\Users\\thale\\anaconda3\\envs\\myenv\\lib\\site-packages\\plotly\\basedatatypes.py:834\u001b[0m, in \u001b[0;36mBaseFigure._ipython_display_\u001b[1;34m(self)\u001b[0m\n\u001b[0;32m    831\u001b[0m \u001b[39mimport\u001b[39;00m \u001b[39mplotly\u001b[39;00m\u001b[39m.\u001b[39;00m\u001b[39mio\u001b[39;00m \u001b[39mas\u001b[39;00m \u001b[39mpio\u001b[39;00m\n\u001b[0;32m    833\u001b[0m \u001b[39mif\u001b[39;00m pio\u001b[39m.\u001b[39mrenderers\u001b[39m.\u001b[39mrender_on_display \u001b[39mand\u001b[39;00m pio\u001b[39m.\u001b[39mrenderers\u001b[39m.\u001b[39mdefault:\n\u001b[1;32m--> 834\u001b[0m     pio\u001b[39m.\u001b[39;49mshow(\u001b[39mself\u001b[39;49m)\n\u001b[0;32m    835\u001b[0m \u001b[39melse\u001b[39;00m:\n\u001b[0;32m    836\u001b[0m     \u001b[39mprint\u001b[39m(\u001b[39mrepr\u001b[39m(\u001b[39mself\u001b[39m))\n",
      "File \u001b[1;32mc:\\Users\\thale\\anaconda3\\envs\\myenv\\lib\\site-packages\\plotly\\io\\_renderers.py:396\u001b[0m, in \u001b[0;36mshow\u001b[1;34m(fig, renderer, validate, **kwargs)\u001b[0m\n\u001b[0;32m    391\u001b[0m         \u001b[39mraise\u001b[39;00m \u001b[39mValueError\u001b[39;00m(\n\u001b[0;32m    392\u001b[0m             \u001b[39m\"\u001b[39m\u001b[39mMime type rendering requires ipython but it is not installed\u001b[39m\u001b[39m\"\u001b[39m\n\u001b[0;32m    393\u001b[0m         )\n\u001b[0;32m    395\u001b[0m     \u001b[39mif\u001b[39;00m \u001b[39mnot\u001b[39;00m nbformat \u001b[39mor\u001b[39;00m Version(nbformat\u001b[39m.\u001b[39m__version__) \u001b[39m<\u001b[39m Version(\u001b[39m\"\u001b[39m\u001b[39m4.2.0\u001b[39m\u001b[39m\"\u001b[39m):\n\u001b[1;32m--> 396\u001b[0m         \u001b[39mraise\u001b[39;00m \u001b[39mValueError\u001b[39;00m(\n\u001b[0;32m    397\u001b[0m             \u001b[39m\"\u001b[39m\u001b[39mMime type rendering requires nbformat>=4.2.0 but it is not installed\u001b[39m\u001b[39m\"\u001b[39m\n\u001b[0;32m    398\u001b[0m         )\n\u001b[0;32m    400\u001b[0m     ipython_display\u001b[39m.\u001b[39mdisplay(bundle, raw\u001b[39m=\u001b[39m\u001b[39mTrue\u001b[39;00m)\n\u001b[0;32m    402\u001b[0m \u001b[39m# external renderers\u001b[39;00m\n",
      "\u001b[1;31mValueError\u001b[0m: Mime type rendering requires nbformat>=4.2.0 but it is not installed"
     ]
    },
    {
     "data": {
      "application/vnd.plotly.v1+json": {
       "config": {
        "plotlyServerURL": "https://plot.ly"
       },
       "data": [
        {
         "mode": "markers",
         "name": "Objective Value",
         "type": "scatter",
         "x": [
          0,
          1,
          2,
          3,
          4,
          5,
          6,
          7,
          8,
          9,
          10,
          11,
          12,
          13,
          14,
          15,
          16,
          17,
          18,
          19,
          20,
          21,
          22,
          23,
          24,
          25,
          26,
          27,
          28,
          29,
          30,
          31,
          32,
          33,
          34,
          35,
          36,
          37,
          38,
          39,
          40,
          41,
          42,
          43,
          44,
          45,
          46,
          47,
          48,
          49,
          50,
          51,
          52,
          53,
          54,
          55,
          56,
          57,
          58,
          59,
          60,
          61,
          62,
          63,
          64,
          65,
          66,
          67,
          68,
          69,
          70,
          71,
          72,
          73,
          74,
          75,
          76,
          77,
          78,
          79,
          80,
          81,
          82,
          83,
          84,
          85,
          86,
          87,
          88,
          89,
          90,
          91,
          92,
          93,
          94,
          95,
          96,
          97,
          98,
          99
         ],
         "y": [
          18.164772892443366,
          17.730473967826537,
          17.82874999027615,
          18.481848359077937,
          17.929504135880197,
          18.51007556936624,
          17.785068284137168,
          17.86868437153871,
          18.001790347783633,
          18.585410187963234,
          20.522680483528323,
          17.80076235091685,
          17.82872268138532,
          17.820767695116658,
          17.784651781703044,
          17.758482570268857,
          17.805837943734968,
          18.02925844081241,
          17.78367191312085,
          17.834076952977053,
          17.806138359399462,
          17.82008529435587,
          17.828737176002786,
          17.80548435589981,
          17.813869195595817,
          17.82632350717297,
          17.785141809098107,
          19.697693057337144,
          17.76227810304041,
          17.786149784343777,
          17.81944383807769,
          17.815328011343556,
          17.817058056236586,
          17.81006010524204,
          17.78577318146571,
          17.82180738027649,
          17.815602443176115,
          17.84228823895903,
          17.809500643741668,
          17.787938258667733,
          17.77530518802162,
          17.772714156426304,
          17.800294306530347,
          17.93903216488516,
          18.03201610335001,
          17.797461218200027,
          21.347881627406686,
          17.8004806072244,
          17.813734502947202,
          17.848242400129315,
          17.781526188106394,
          17.844397472168243,
          17.794073386321944,
          18.083032093150205,
          17.824184104196515,
          17.827860266532117,
          17.900105201424786,
          17.81943070139285,
          17.800924533290882,
          18.34701151766141,
          17.810125537319877,
          17.812098361995638,
          17.76536648032697,
          17.768476605616218,
          17.807161698422977,
          17.763406060211825,
          17.79835484398686,
          17.741559627927632,
          17.9114405254151,
          17.800281988564663,
          17.787489519379722,
          17.829610776150908,
          17.84883712243064,
          17.793915957448437,
          17.773412720204405,
          17.795344350825374,
          17.783075496169864,
          17.785259503597878,
          17.765230096410654,
          17.887226368857235,
          17.78100623054703,
          17.777357886727604,
          17.779915085546975,
          17.769948860694075,
          17.779352365601472,
          17.789780797083036,
          17.814064783590815,
          17.793428560079295,
          17.820921958444437,
          17.803822718938587,
          17.784199095870388,
          17.85202958468374,
          17.810471512437715,
          17.82031203026605,
          17.83691245345181,
          17.76498726206612,
          17.789966817504197,
          17.844426478725172,
          17.78961278916461,
          17.7563018829342
         ]
        },
        {
         "mode": "lines",
         "name": "Best Value",
         "type": "scatter",
         "x": [
          0,
          1,
          2,
          3,
          4,
          5,
          6,
          7,
          8,
          9,
          10,
          11,
          12,
          13,
          14,
          15,
          16,
          17,
          18,
          19,
          20,
          21,
          22,
          23,
          24,
          25,
          26,
          27,
          28,
          29,
          30,
          31,
          32,
          33,
          34,
          35,
          36,
          37,
          38,
          39,
          40,
          41,
          42,
          43,
          44,
          45,
          46,
          47,
          48,
          49,
          50,
          51,
          52,
          53,
          54,
          55,
          56,
          57,
          58,
          59,
          60,
          61,
          62,
          63,
          64,
          65,
          66,
          67,
          68,
          69,
          70,
          71,
          72,
          73,
          74,
          75,
          76,
          77,
          78,
          79,
          80,
          81,
          82,
          83,
          84,
          85,
          86,
          87,
          88,
          89,
          90,
          91,
          92,
          93,
          94,
          95,
          96,
          97,
          98,
          99
         ],
         "y": [
          18.164772892443366,
          17.730473967826537,
          17.730473967826537,
          17.730473967826537,
          17.730473967826537,
          17.730473967826537,
          17.730473967826537,
          17.730473967826537,
          17.730473967826537,
          17.730473967826537,
          17.730473967826537,
          17.730473967826537,
          17.730473967826537,
          17.730473967826537,
          17.730473967826537,
          17.730473967826537,
          17.730473967826537,
          17.730473967826537,
          17.730473967826537,
          17.730473967826537,
          17.730473967826537,
          17.730473967826537,
          17.730473967826537,
          17.730473967826537,
          17.730473967826537,
          17.730473967826537,
          17.730473967826537,
          17.730473967826537,
          17.730473967826537,
          17.730473967826537,
          17.730473967826537,
          17.730473967826537,
          17.730473967826537,
          17.730473967826537,
          17.730473967826537,
          17.730473967826537,
          17.730473967826537,
          17.730473967826537,
          17.730473967826537,
          17.730473967826537,
          17.730473967826537,
          17.730473967826537,
          17.730473967826537,
          17.730473967826537,
          17.730473967826537,
          17.730473967826537,
          17.730473967826537,
          17.730473967826537,
          17.730473967826537,
          17.730473967826537,
          17.730473967826537,
          17.730473967826537,
          17.730473967826537,
          17.730473967826537,
          17.730473967826537,
          17.730473967826537,
          17.730473967826537,
          17.730473967826537,
          17.730473967826537,
          17.730473967826537,
          17.730473967826537,
          17.730473967826537,
          17.730473967826537,
          17.730473967826537,
          17.730473967826537,
          17.730473967826537,
          17.730473967826537,
          17.730473967826537,
          17.730473967826537,
          17.730473967826537,
          17.730473967826537,
          17.730473967826537,
          17.730473967826537,
          17.730473967826537,
          17.730473967826537,
          17.730473967826537,
          17.730473967826537,
          17.730473967826537,
          17.730473967826537,
          17.730473967826537,
          17.730473967826537,
          17.730473967826537,
          17.730473967826537,
          17.730473967826537,
          17.730473967826537,
          17.730473967826537,
          17.730473967826537,
          17.730473967826537,
          17.730473967826537,
          17.730473967826537,
          17.730473967826537,
          17.730473967826537,
          17.730473967826537,
          17.730473967826537,
          17.730473967826537,
          17.730473967826537,
          17.730473967826537,
          17.730473967826537,
          17.730473967826537,
          17.730473967826537
         ]
        },
        {
         "marker": {
          "color": "#cccccc"
         },
         "mode": "markers",
         "name": "Infeasible Trial",
         "showlegend": false,
         "type": "scatter",
         "x": [],
         "y": []
        }
       ],
       "layout": {
        "template": {
         "data": {
          "bar": [
           {
            "error_x": {
             "color": "#2a3f5f"
            },
            "error_y": {
             "color": "#2a3f5f"
            },
            "marker": {
             "line": {
              "color": "#E5ECF6",
              "width": 0.5
             },
             "pattern": {
              "fillmode": "overlay",
              "size": 10,
              "solidity": 0.2
             }
            },
            "type": "bar"
           }
          ],
          "barpolar": [
           {
            "marker": {
             "line": {
              "color": "#E5ECF6",
              "width": 0.5
             },
             "pattern": {
              "fillmode": "overlay",
              "size": 10,
              "solidity": 0.2
             }
            },
            "type": "barpolar"
           }
          ],
          "carpet": [
           {
            "aaxis": {
             "endlinecolor": "#2a3f5f",
             "gridcolor": "white",
             "linecolor": "white",
             "minorgridcolor": "white",
             "startlinecolor": "#2a3f5f"
            },
            "baxis": {
             "endlinecolor": "#2a3f5f",
             "gridcolor": "white",
             "linecolor": "white",
             "minorgridcolor": "white",
             "startlinecolor": "#2a3f5f"
            },
            "type": "carpet"
           }
          ],
          "choropleth": [
           {
            "colorbar": {
             "outlinewidth": 0,
             "ticks": ""
            },
            "type": "choropleth"
           }
          ],
          "contour": [
           {
            "colorbar": {
             "outlinewidth": 0,
             "ticks": ""
            },
            "colorscale": [
             [
              0,
              "#0d0887"
             ],
             [
              0.1111111111111111,
              "#46039f"
             ],
             [
              0.2222222222222222,
              "#7201a8"
             ],
             [
              0.3333333333333333,
              "#9c179e"
             ],
             [
              0.4444444444444444,
              "#bd3786"
             ],
             [
              0.5555555555555556,
              "#d8576b"
             ],
             [
              0.6666666666666666,
              "#ed7953"
             ],
             [
              0.7777777777777778,
              "#fb9f3a"
             ],
             [
              0.8888888888888888,
              "#fdca26"
             ],
             [
              1,
              "#f0f921"
             ]
            ],
            "type": "contour"
           }
          ],
          "contourcarpet": [
           {
            "colorbar": {
             "outlinewidth": 0,
             "ticks": ""
            },
            "type": "contourcarpet"
           }
          ],
          "heatmap": [
           {
            "colorbar": {
             "outlinewidth": 0,
             "ticks": ""
            },
            "colorscale": [
             [
              0,
              "#0d0887"
             ],
             [
              0.1111111111111111,
              "#46039f"
             ],
             [
              0.2222222222222222,
              "#7201a8"
             ],
             [
              0.3333333333333333,
              "#9c179e"
             ],
             [
              0.4444444444444444,
              "#bd3786"
             ],
             [
              0.5555555555555556,
              "#d8576b"
             ],
             [
              0.6666666666666666,
              "#ed7953"
             ],
             [
              0.7777777777777778,
              "#fb9f3a"
             ],
             [
              0.8888888888888888,
              "#fdca26"
             ],
             [
              1,
              "#f0f921"
             ]
            ],
            "type": "heatmap"
           }
          ],
          "heatmapgl": [
           {
            "colorbar": {
             "outlinewidth": 0,
             "ticks": ""
            },
            "colorscale": [
             [
              0,
              "#0d0887"
             ],
             [
              0.1111111111111111,
              "#46039f"
             ],
             [
              0.2222222222222222,
              "#7201a8"
             ],
             [
              0.3333333333333333,
              "#9c179e"
             ],
             [
              0.4444444444444444,
              "#bd3786"
             ],
             [
              0.5555555555555556,
              "#d8576b"
             ],
             [
              0.6666666666666666,
              "#ed7953"
             ],
             [
              0.7777777777777778,
              "#fb9f3a"
             ],
             [
              0.8888888888888888,
              "#fdca26"
             ],
             [
              1,
              "#f0f921"
             ]
            ],
            "type": "heatmapgl"
           }
          ],
          "histogram": [
           {
            "marker": {
             "pattern": {
              "fillmode": "overlay",
              "size": 10,
              "solidity": 0.2
             }
            },
            "type": "histogram"
           }
          ],
          "histogram2d": [
           {
            "colorbar": {
             "outlinewidth": 0,
             "ticks": ""
            },
            "colorscale": [
             [
              0,
              "#0d0887"
             ],
             [
              0.1111111111111111,
              "#46039f"
             ],
             [
              0.2222222222222222,
              "#7201a8"
             ],
             [
              0.3333333333333333,
              "#9c179e"
             ],
             [
              0.4444444444444444,
              "#bd3786"
             ],
             [
              0.5555555555555556,
              "#d8576b"
             ],
             [
              0.6666666666666666,
              "#ed7953"
             ],
             [
              0.7777777777777778,
              "#fb9f3a"
             ],
             [
              0.8888888888888888,
              "#fdca26"
             ],
             [
              1,
              "#f0f921"
             ]
            ],
            "type": "histogram2d"
           }
          ],
          "histogram2dcontour": [
           {
            "colorbar": {
             "outlinewidth": 0,
             "ticks": ""
            },
            "colorscale": [
             [
              0,
              "#0d0887"
             ],
             [
              0.1111111111111111,
              "#46039f"
             ],
             [
              0.2222222222222222,
              "#7201a8"
             ],
             [
              0.3333333333333333,
              "#9c179e"
             ],
             [
              0.4444444444444444,
              "#bd3786"
             ],
             [
              0.5555555555555556,
              "#d8576b"
             ],
             [
              0.6666666666666666,
              "#ed7953"
             ],
             [
              0.7777777777777778,
              "#fb9f3a"
             ],
             [
              0.8888888888888888,
              "#fdca26"
             ],
             [
              1,
              "#f0f921"
             ]
            ],
            "type": "histogram2dcontour"
           }
          ],
          "mesh3d": [
           {
            "colorbar": {
             "outlinewidth": 0,
             "ticks": ""
            },
            "type": "mesh3d"
           }
          ],
          "parcoords": [
           {
            "line": {
             "colorbar": {
              "outlinewidth": 0,
              "ticks": ""
             }
            },
            "type": "parcoords"
           }
          ],
          "pie": [
           {
            "automargin": true,
            "type": "pie"
           }
          ],
          "scatter": [
           {
            "fillpattern": {
             "fillmode": "overlay",
             "size": 10,
             "solidity": 0.2
            },
            "type": "scatter"
           }
          ],
          "scatter3d": [
           {
            "line": {
             "colorbar": {
              "outlinewidth": 0,
              "ticks": ""
             }
            },
            "marker": {
             "colorbar": {
              "outlinewidth": 0,
              "ticks": ""
             }
            },
            "type": "scatter3d"
           }
          ],
          "scattercarpet": [
           {
            "marker": {
             "colorbar": {
              "outlinewidth": 0,
              "ticks": ""
             }
            },
            "type": "scattercarpet"
           }
          ],
          "scattergeo": [
           {
            "marker": {
             "colorbar": {
              "outlinewidth": 0,
              "ticks": ""
             }
            },
            "type": "scattergeo"
           }
          ],
          "scattergl": [
           {
            "marker": {
             "colorbar": {
              "outlinewidth": 0,
              "ticks": ""
             }
            },
            "type": "scattergl"
           }
          ],
          "scattermapbox": [
           {
            "marker": {
             "colorbar": {
              "outlinewidth": 0,
              "ticks": ""
             }
            },
            "type": "scattermapbox"
           }
          ],
          "scatterpolar": [
           {
            "marker": {
             "colorbar": {
              "outlinewidth": 0,
              "ticks": ""
             }
            },
            "type": "scatterpolar"
           }
          ],
          "scatterpolargl": [
           {
            "marker": {
             "colorbar": {
              "outlinewidth": 0,
              "ticks": ""
             }
            },
            "type": "scatterpolargl"
           }
          ],
          "scatterternary": [
           {
            "marker": {
             "colorbar": {
              "outlinewidth": 0,
              "ticks": ""
             }
            },
            "type": "scatterternary"
           }
          ],
          "surface": [
           {
            "colorbar": {
             "outlinewidth": 0,
             "ticks": ""
            },
            "colorscale": [
             [
              0,
              "#0d0887"
             ],
             [
              0.1111111111111111,
              "#46039f"
             ],
             [
              0.2222222222222222,
              "#7201a8"
             ],
             [
              0.3333333333333333,
              "#9c179e"
             ],
             [
              0.4444444444444444,
              "#bd3786"
             ],
             [
              0.5555555555555556,
              "#d8576b"
             ],
             [
              0.6666666666666666,
              "#ed7953"
             ],
             [
              0.7777777777777778,
              "#fb9f3a"
             ],
             [
              0.8888888888888888,
              "#fdca26"
             ],
             [
              1,
              "#f0f921"
             ]
            ],
            "type": "surface"
           }
          ],
          "table": [
           {
            "cells": {
             "fill": {
              "color": "#EBF0F8"
             },
             "line": {
              "color": "white"
             }
            },
            "header": {
             "fill": {
              "color": "#C8D4E3"
             },
             "line": {
              "color": "white"
             }
            },
            "type": "table"
           }
          ]
         },
         "layout": {
          "annotationdefaults": {
           "arrowcolor": "#2a3f5f",
           "arrowhead": 0,
           "arrowwidth": 1
          },
          "autotypenumbers": "strict",
          "coloraxis": {
           "colorbar": {
            "outlinewidth": 0,
            "ticks": ""
           }
          },
          "colorscale": {
           "diverging": [
            [
             0,
             "#8e0152"
            ],
            [
             0.1,
             "#c51b7d"
            ],
            [
             0.2,
             "#de77ae"
            ],
            [
             0.3,
             "#f1b6da"
            ],
            [
             0.4,
             "#fde0ef"
            ],
            [
             0.5,
             "#f7f7f7"
            ],
            [
             0.6,
             "#e6f5d0"
            ],
            [
             0.7,
             "#b8e186"
            ],
            [
             0.8,
             "#7fbc41"
            ],
            [
             0.9,
             "#4d9221"
            ],
            [
             1,
             "#276419"
            ]
           ],
           "sequential": [
            [
             0,
             "#0d0887"
            ],
            [
             0.1111111111111111,
             "#46039f"
            ],
            [
             0.2222222222222222,
             "#7201a8"
            ],
            [
             0.3333333333333333,
             "#9c179e"
            ],
            [
             0.4444444444444444,
             "#bd3786"
            ],
            [
             0.5555555555555556,
             "#d8576b"
            ],
            [
             0.6666666666666666,
             "#ed7953"
            ],
            [
             0.7777777777777778,
             "#fb9f3a"
            ],
            [
             0.8888888888888888,
             "#fdca26"
            ],
            [
             1,
             "#f0f921"
            ]
           ],
           "sequentialminus": [
            [
             0,
             "#0d0887"
            ],
            [
             0.1111111111111111,
             "#46039f"
            ],
            [
             0.2222222222222222,
             "#7201a8"
            ],
            [
             0.3333333333333333,
             "#9c179e"
            ],
            [
             0.4444444444444444,
             "#bd3786"
            ],
            [
             0.5555555555555556,
             "#d8576b"
            ],
            [
             0.6666666666666666,
             "#ed7953"
            ],
            [
             0.7777777777777778,
             "#fb9f3a"
            ],
            [
             0.8888888888888888,
             "#fdca26"
            ],
            [
             1,
             "#f0f921"
            ]
           ]
          },
          "colorway": [
           "#636efa",
           "#EF553B",
           "#00cc96",
           "#ab63fa",
           "#FFA15A",
           "#19d3f3",
           "#FF6692",
           "#B6E880",
           "#FF97FF",
           "#FECB52"
          ],
          "font": {
           "color": "#2a3f5f"
          },
          "geo": {
           "bgcolor": "white",
           "lakecolor": "white",
           "landcolor": "#E5ECF6",
           "showlakes": true,
           "showland": true,
           "subunitcolor": "white"
          },
          "hoverlabel": {
           "align": "left"
          },
          "hovermode": "closest",
          "mapbox": {
           "style": "light"
          },
          "paper_bgcolor": "white",
          "plot_bgcolor": "#E5ECF6",
          "polar": {
           "angularaxis": {
            "gridcolor": "white",
            "linecolor": "white",
            "ticks": ""
           },
           "bgcolor": "#E5ECF6",
           "radialaxis": {
            "gridcolor": "white",
            "linecolor": "white",
            "ticks": ""
           }
          },
          "scene": {
           "xaxis": {
            "backgroundcolor": "#E5ECF6",
            "gridcolor": "white",
            "gridwidth": 2,
            "linecolor": "white",
            "showbackground": true,
            "ticks": "",
            "zerolinecolor": "white"
           },
           "yaxis": {
            "backgroundcolor": "#E5ECF6",
            "gridcolor": "white",
            "gridwidth": 2,
            "linecolor": "white",
            "showbackground": true,
            "ticks": "",
            "zerolinecolor": "white"
           },
           "zaxis": {
            "backgroundcolor": "#E5ECF6",
            "gridcolor": "white",
            "gridwidth": 2,
            "linecolor": "white",
            "showbackground": true,
            "ticks": "",
            "zerolinecolor": "white"
           }
          },
          "shapedefaults": {
           "line": {
            "color": "#2a3f5f"
           }
          },
          "ternary": {
           "aaxis": {
            "gridcolor": "white",
            "linecolor": "white",
            "ticks": ""
           },
           "baxis": {
            "gridcolor": "white",
            "linecolor": "white",
            "ticks": ""
           },
           "bgcolor": "#E5ECF6",
           "caxis": {
            "gridcolor": "white",
            "linecolor": "white",
            "ticks": ""
           }
          },
          "title": {
           "x": 0.05
          },
          "xaxis": {
           "automargin": true,
           "gridcolor": "white",
           "linecolor": "white",
           "ticks": "",
           "title": {
            "standoff": 15
           },
           "zerolinecolor": "white",
           "zerolinewidth": 2
          },
          "yaxis": {
           "automargin": true,
           "gridcolor": "white",
           "linecolor": "white",
           "ticks": "",
           "title": {
            "standoff": 15
           },
           "zerolinecolor": "white",
           "zerolinewidth": 2
          }
         }
        },
        "title": {
         "text": "Optimization History Plot"
        },
        "xaxis": {
         "title": {
          "text": "Trial"
         }
        },
        "yaxis": {
         "title": {
          "text": "Objective Value"
         }
        }
       }
      },
      "text/html": [
       "<div>                        <script type=\"text/javascript\">window.PlotlyConfig = {MathJaxConfig: 'local'};</script>\n",
       "        <script charset=\"utf-8\" src=\"https://cdn.plot.ly/plotly-2.25.2.min.js\"></script>                <div id=\"715daea7-d4a2-4a89-bf5f-02ff8a8c2b65\" class=\"plotly-graph-div\" style=\"height:100%; width:100%;\"></div>            <script type=\"text/javascript\">                                    window.PLOTLYENV=window.PLOTLYENV || {};                                    if (document.getElementById(\"715daea7-d4a2-4a89-bf5f-02ff8a8c2b65\")) {                    Plotly.newPlot(                        \"715daea7-d4a2-4a89-bf5f-02ff8a8c2b65\",                        [{\"mode\":\"markers\",\"name\":\"Objective Value\",\"x\":[0,1,2,3,4,5,6,7,8,9,10,11,12,13,14,15,16,17,18,19,20,21,22,23,24,25,26,27,28,29,30,31,32,33,34,35,36,37,38,39,40,41,42,43,44,45,46,47,48,49,50,51,52,53,54,55,56,57,58,59,60,61,62,63,64,65,66,67,68,69,70,71,72,73,74,75,76,77,78,79,80,81,82,83,84,85,86,87,88,89,90,91,92,93,94,95,96,97,98,99],\"y\":[18.164772892443366,17.730473967826537,17.82874999027615,18.481848359077937,17.929504135880197,18.51007556936624,17.785068284137168,17.86868437153871,18.001790347783633,18.585410187963234,20.522680483528323,17.80076235091685,17.82872268138532,17.820767695116658,17.784651781703044,17.758482570268857,17.805837943734968,18.02925844081241,17.78367191312085,17.834076952977053,17.806138359399462,17.82008529435587,17.828737176002786,17.80548435589981,17.813869195595817,17.82632350717297,17.785141809098107,19.697693057337144,17.76227810304041,17.786149784343777,17.81944383807769,17.815328011343556,17.817058056236586,17.81006010524204,17.78577318146571,17.82180738027649,17.815602443176115,17.84228823895903,17.809500643741668,17.787938258667733,17.77530518802162,17.772714156426304,17.800294306530347,17.93903216488516,18.03201610335001,17.797461218200027,21.347881627406686,17.8004806072244,17.813734502947202,17.848242400129315,17.781526188106394,17.844397472168243,17.794073386321944,18.083032093150205,17.824184104196515,17.827860266532117,17.900105201424786,17.81943070139285,17.800924533290882,18.34701151766141,17.810125537319877,17.812098361995638,17.76536648032697,17.768476605616218,17.807161698422977,17.763406060211825,17.79835484398686,17.741559627927632,17.9114405254151,17.800281988564663,17.787489519379722,17.829610776150908,17.84883712243064,17.793915957448437,17.773412720204405,17.795344350825374,17.783075496169864,17.785259503597878,17.765230096410654,17.887226368857235,17.78100623054703,17.777357886727604,17.779915085546975,17.769948860694075,17.779352365601472,17.789780797083036,17.814064783590815,17.793428560079295,17.820921958444437,17.803822718938587,17.784199095870388,17.85202958468374,17.810471512437715,17.82031203026605,17.83691245345181,17.76498726206612,17.789966817504197,17.844426478725172,17.78961278916461,17.7563018829342],\"type\":\"scatter\"},{\"mode\":\"lines\",\"name\":\"Best Value\",\"x\":[0,1,2,3,4,5,6,7,8,9,10,11,12,13,14,15,16,17,18,19,20,21,22,23,24,25,26,27,28,29,30,31,32,33,34,35,36,37,38,39,40,41,42,43,44,45,46,47,48,49,50,51,52,53,54,55,56,57,58,59,60,61,62,63,64,65,66,67,68,69,70,71,72,73,74,75,76,77,78,79,80,81,82,83,84,85,86,87,88,89,90,91,92,93,94,95,96,97,98,99],\"y\":[18.164772892443366,17.730473967826537,17.730473967826537,17.730473967826537,17.730473967826537,17.730473967826537,17.730473967826537,17.730473967826537,17.730473967826537,17.730473967826537,17.730473967826537,17.730473967826537,17.730473967826537,17.730473967826537,17.730473967826537,17.730473967826537,17.730473967826537,17.730473967826537,17.730473967826537,17.730473967826537,17.730473967826537,17.730473967826537,17.730473967826537,17.730473967826537,17.730473967826537,17.730473967826537,17.730473967826537,17.730473967826537,17.730473967826537,17.730473967826537,17.730473967826537,17.730473967826537,17.730473967826537,17.730473967826537,17.730473967826537,17.730473967826537,17.730473967826537,17.730473967826537,17.730473967826537,17.730473967826537,17.730473967826537,17.730473967826537,17.730473967826537,17.730473967826537,17.730473967826537,17.730473967826537,17.730473967826537,17.730473967826537,17.730473967826537,17.730473967826537,17.730473967826537,17.730473967826537,17.730473967826537,17.730473967826537,17.730473967826537,17.730473967826537,17.730473967826537,17.730473967826537,17.730473967826537,17.730473967826537,17.730473967826537,17.730473967826537,17.730473967826537,17.730473967826537,17.730473967826537,17.730473967826537,17.730473967826537,17.730473967826537,17.730473967826537,17.730473967826537,17.730473967826537,17.730473967826537,17.730473967826537,17.730473967826537,17.730473967826537,17.730473967826537,17.730473967826537,17.730473967826537,17.730473967826537,17.730473967826537,17.730473967826537,17.730473967826537,17.730473967826537,17.730473967826537,17.730473967826537,17.730473967826537,17.730473967826537,17.730473967826537,17.730473967826537,17.730473967826537,17.730473967826537,17.730473967826537,17.730473967826537,17.730473967826537,17.730473967826537,17.730473967826537,17.730473967826537,17.730473967826537,17.730473967826537,17.730473967826537],\"type\":\"scatter\"},{\"marker\":{\"color\":\"#cccccc\"},\"mode\":\"markers\",\"name\":\"Infeasible Trial\",\"showlegend\":false,\"x\":[],\"y\":[],\"type\":\"scatter\"}],                        {\"title\":{\"text\":\"Optimization History Plot\"},\"xaxis\":{\"title\":{\"text\":\"Trial\"}},\"yaxis\":{\"title\":{\"text\":\"Objective Value\"}},\"template\":{\"data\":{\"histogram2dcontour\":[{\"type\":\"histogram2dcontour\",\"colorbar\":{\"outlinewidth\":0,\"ticks\":\"\"},\"colorscale\":[[0.0,\"#0d0887\"],[0.1111111111111111,\"#46039f\"],[0.2222222222222222,\"#7201a8\"],[0.3333333333333333,\"#9c179e\"],[0.4444444444444444,\"#bd3786\"],[0.5555555555555556,\"#d8576b\"],[0.6666666666666666,\"#ed7953\"],[0.7777777777777778,\"#fb9f3a\"],[0.8888888888888888,\"#fdca26\"],[1.0,\"#f0f921\"]]}],\"choropleth\":[{\"type\":\"choropleth\",\"colorbar\":{\"outlinewidth\":0,\"ticks\":\"\"}}],\"histogram2d\":[{\"type\":\"histogram2d\",\"colorbar\":{\"outlinewidth\":0,\"ticks\":\"\"},\"colorscale\":[[0.0,\"#0d0887\"],[0.1111111111111111,\"#46039f\"],[0.2222222222222222,\"#7201a8\"],[0.3333333333333333,\"#9c179e\"],[0.4444444444444444,\"#bd3786\"],[0.5555555555555556,\"#d8576b\"],[0.6666666666666666,\"#ed7953\"],[0.7777777777777778,\"#fb9f3a\"],[0.8888888888888888,\"#fdca26\"],[1.0,\"#f0f921\"]]}],\"heatmap\":[{\"type\":\"heatmap\",\"colorbar\":{\"outlinewidth\":0,\"ticks\":\"\"},\"colorscale\":[[0.0,\"#0d0887\"],[0.1111111111111111,\"#46039f\"],[0.2222222222222222,\"#7201a8\"],[0.3333333333333333,\"#9c179e\"],[0.4444444444444444,\"#bd3786\"],[0.5555555555555556,\"#d8576b\"],[0.6666666666666666,\"#ed7953\"],[0.7777777777777778,\"#fb9f3a\"],[0.8888888888888888,\"#fdca26\"],[1.0,\"#f0f921\"]]}],\"heatmapgl\":[{\"type\":\"heatmapgl\",\"colorbar\":{\"outlinewidth\":0,\"ticks\":\"\"},\"colorscale\":[[0.0,\"#0d0887\"],[0.1111111111111111,\"#46039f\"],[0.2222222222222222,\"#7201a8\"],[0.3333333333333333,\"#9c179e\"],[0.4444444444444444,\"#bd3786\"],[0.5555555555555556,\"#d8576b\"],[0.6666666666666666,\"#ed7953\"],[0.7777777777777778,\"#fb9f3a\"],[0.8888888888888888,\"#fdca26\"],[1.0,\"#f0f921\"]]}],\"contourcarpet\":[{\"type\":\"contourcarpet\",\"colorbar\":{\"outlinewidth\":0,\"ticks\":\"\"}}],\"contour\":[{\"type\":\"contour\",\"colorbar\":{\"outlinewidth\":0,\"ticks\":\"\"},\"colorscale\":[[0.0,\"#0d0887\"],[0.1111111111111111,\"#46039f\"],[0.2222222222222222,\"#7201a8\"],[0.3333333333333333,\"#9c179e\"],[0.4444444444444444,\"#bd3786\"],[0.5555555555555556,\"#d8576b\"],[0.6666666666666666,\"#ed7953\"],[0.7777777777777778,\"#fb9f3a\"],[0.8888888888888888,\"#fdca26\"],[1.0,\"#f0f921\"]]}],\"surface\":[{\"type\":\"surface\",\"colorbar\":{\"outlinewidth\":0,\"ticks\":\"\"},\"colorscale\":[[0.0,\"#0d0887\"],[0.1111111111111111,\"#46039f\"],[0.2222222222222222,\"#7201a8\"],[0.3333333333333333,\"#9c179e\"],[0.4444444444444444,\"#bd3786\"],[0.5555555555555556,\"#d8576b\"],[0.6666666666666666,\"#ed7953\"],[0.7777777777777778,\"#fb9f3a\"],[0.8888888888888888,\"#fdca26\"],[1.0,\"#f0f921\"]]}],\"mesh3d\":[{\"type\":\"mesh3d\",\"colorbar\":{\"outlinewidth\":0,\"ticks\":\"\"}}],\"scatter\":[{\"fillpattern\":{\"fillmode\":\"overlay\",\"size\":10,\"solidity\":0.2},\"type\":\"scatter\"}],\"parcoords\":[{\"type\":\"parcoords\",\"line\":{\"colorbar\":{\"outlinewidth\":0,\"ticks\":\"\"}}}],\"scatterpolargl\":[{\"type\":\"scatterpolargl\",\"marker\":{\"colorbar\":{\"outlinewidth\":0,\"ticks\":\"\"}}}],\"bar\":[{\"error_x\":{\"color\":\"#2a3f5f\"},\"error_y\":{\"color\":\"#2a3f5f\"},\"marker\":{\"line\":{\"color\":\"#E5ECF6\",\"width\":0.5},\"pattern\":{\"fillmode\":\"overlay\",\"size\":10,\"solidity\":0.2}},\"type\":\"bar\"}],\"scattergeo\":[{\"type\":\"scattergeo\",\"marker\":{\"colorbar\":{\"outlinewidth\":0,\"ticks\":\"\"}}}],\"scatterpolar\":[{\"type\":\"scatterpolar\",\"marker\":{\"colorbar\":{\"outlinewidth\":0,\"ticks\":\"\"}}}],\"histogram\":[{\"marker\":{\"pattern\":{\"fillmode\":\"overlay\",\"size\":10,\"solidity\":0.2}},\"type\":\"histogram\"}],\"scattergl\":[{\"type\":\"scattergl\",\"marker\":{\"colorbar\":{\"outlinewidth\":0,\"ticks\":\"\"}}}],\"scatter3d\":[{\"type\":\"scatter3d\",\"line\":{\"colorbar\":{\"outlinewidth\":0,\"ticks\":\"\"}},\"marker\":{\"colorbar\":{\"outlinewidth\":0,\"ticks\":\"\"}}}],\"scattermapbox\":[{\"type\":\"scattermapbox\",\"marker\":{\"colorbar\":{\"outlinewidth\":0,\"ticks\":\"\"}}}],\"scatterternary\":[{\"type\":\"scatterternary\",\"marker\":{\"colorbar\":{\"outlinewidth\":0,\"ticks\":\"\"}}}],\"scattercarpet\":[{\"type\":\"scattercarpet\",\"marker\":{\"colorbar\":{\"outlinewidth\":0,\"ticks\":\"\"}}}],\"carpet\":[{\"aaxis\":{\"endlinecolor\":\"#2a3f5f\",\"gridcolor\":\"white\",\"linecolor\":\"white\",\"minorgridcolor\":\"white\",\"startlinecolor\":\"#2a3f5f\"},\"baxis\":{\"endlinecolor\":\"#2a3f5f\",\"gridcolor\":\"white\",\"linecolor\":\"white\",\"minorgridcolor\":\"white\",\"startlinecolor\":\"#2a3f5f\"},\"type\":\"carpet\"}],\"table\":[{\"cells\":{\"fill\":{\"color\":\"#EBF0F8\"},\"line\":{\"color\":\"white\"}},\"header\":{\"fill\":{\"color\":\"#C8D4E3\"},\"line\":{\"color\":\"white\"}},\"type\":\"table\"}],\"barpolar\":[{\"marker\":{\"line\":{\"color\":\"#E5ECF6\",\"width\":0.5},\"pattern\":{\"fillmode\":\"overlay\",\"size\":10,\"solidity\":0.2}},\"type\":\"barpolar\"}],\"pie\":[{\"automargin\":true,\"type\":\"pie\"}]},\"layout\":{\"autotypenumbers\":\"strict\",\"colorway\":[\"#636efa\",\"#EF553B\",\"#00cc96\",\"#ab63fa\",\"#FFA15A\",\"#19d3f3\",\"#FF6692\",\"#B6E880\",\"#FF97FF\",\"#FECB52\"],\"font\":{\"color\":\"#2a3f5f\"},\"hovermode\":\"closest\",\"hoverlabel\":{\"align\":\"left\"},\"paper_bgcolor\":\"white\",\"plot_bgcolor\":\"#E5ECF6\",\"polar\":{\"bgcolor\":\"#E5ECF6\",\"angularaxis\":{\"gridcolor\":\"white\",\"linecolor\":\"white\",\"ticks\":\"\"},\"radialaxis\":{\"gridcolor\":\"white\",\"linecolor\":\"white\",\"ticks\":\"\"}},\"ternary\":{\"bgcolor\":\"#E5ECF6\",\"aaxis\":{\"gridcolor\":\"white\",\"linecolor\":\"white\",\"ticks\":\"\"},\"baxis\":{\"gridcolor\":\"white\",\"linecolor\":\"white\",\"ticks\":\"\"},\"caxis\":{\"gridcolor\":\"white\",\"linecolor\":\"white\",\"ticks\":\"\"}},\"coloraxis\":{\"colorbar\":{\"outlinewidth\":0,\"ticks\":\"\"}},\"colorscale\":{\"sequential\":[[0.0,\"#0d0887\"],[0.1111111111111111,\"#46039f\"],[0.2222222222222222,\"#7201a8\"],[0.3333333333333333,\"#9c179e\"],[0.4444444444444444,\"#bd3786\"],[0.5555555555555556,\"#d8576b\"],[0.6666666666666666,\"#ed7953\"],[0.7777777777777778,\"#fb9f3a\"],[0.8888888888888888,\"#fdca26\"],[1.0,\"#f0f921\"]],\"sequentialminus\":[[0.0,\"#0d0887\"],[0.1111111111111111,\"#46039f\"],[0.2222222222222222,\"#7201a8\"],[0.3333333333333333,\"#9c179e\"],[0.4444444444444444,\"#bd3786\"],[0.5555555555555556,\"#d8576b\"],[0.6666666666666666,\"#ed7953\"],[0.7777777777777778,\"#fb9f3a\"],[0.8888888888888888,\"#fdca26\"],[1.0,\"#f0f921\"]],\"diverging\":[[0,\"#8e0152\"],[0.1,\"#c51b7d\"],[0.2,\"#de77ae\"],[0.3,\"#f1b6da\"],[0.4,\"#fde0ef\"],[0.5,\"#f7f7f7\"],[0.6,\"#e6f5d0\"],[0.7,\"#b8e186\"],[0.8,\"#7fbc41\"],[0.9,\"#4d9221\"],[1,\"#276419\"]]},\"xaxis\":{\"gridcolor\":\"white\",\"linecolor\":\"white\",\"ticks\":\"\",\"title\":{\"standoff\":15},\"zerolinecolor\":\"white\",\"automargin\":true,\"zerolinewidth\":2},\"yaxis\":{\"gridcolor\":\"white\",\"linecolor\":\"white\",\"ticks\":\"\",\"title\":{\"standoff\":15},\"zerolinecolor\":\"white\",\"automargin\":true,\"zerolinewidth\":2},\"scene\":{\"xaxis\":{\"backgroundcolor\":\"#E5ECF6\",\"gridcolor\":\"white\",\"linecolor\":\"white\",\"showbackground\":true,\"ticks\":\"\",\"zerolinecolor\":\"white\",\"gridwidth\":2},\"yaxis\":{\"backgroundcolor\":\"#E5ECF6\",\"gridcolor\":\"white\",\"linecolor\":\"white\",\"showbackground\":true,\"ticks\":\"\",\"zerolinecolor\":\"white\",\"gridwidth\":2},\"zaxis\":{\"backgroundcolor\":\"#E5ECF6\",\"gridcolor\":\"white\",\"linecolor\":\"white\",\"showbackground\":true,\"ticks\":\"\",\"zerolinecolor\":\"white\",\"gridwidth\":2}},\"shapedefaults\":{\"line\":{\"color\":\"#2a3f5f\"}},\"annotationdefaults\":{\"arrowcolor\":\"#2a3f5f\",\"arrowhead\":0,\"arrowwidth\":1},\"geo\":{\"bgcolor\":\"white\",\"landcolor\":\"#E5ECF6\",\"subunitcolor\":\"white\",\"showland\":true,\"showlakes\":true,\"lakecolor\":\"white\"},\"title\":{\"x\":0.05},\"mapbox\":{\"style\":\"light\"}}}},                        {\"responsive\": true}                    )                };                            </script>        </div>"
      ],
      "text/plain": [
       "Figure({\n",
       "    'data': [{'mode': 'markers',\n",
       "              'name': 'Objective Value',\n",
       "              'type': 'scatter',\n",
       "              'x': [0, 1, 2, 3, 4, 5, 6, 7, 8, 9, 10, 11, 12, 13, 14, 15, 16, 17,\n",
       "                    18, 19, 20, 21, 22, 23, 24, 25, 26, 27, 28, 29, 30, 31, 32, 33,\n",
       "                    34, 35, 36, 37, 38, 39, 40, 41, 42, 43, 44, 45, 46, 47, 48, 49,\n",
       "                    50, 51, 52, 53, 54, 55, 56, 57, 58, 59, 60, 61, 62, 63, 64, 65,\n",
       "                    66, 67, 68, 69, 70, 71, 72, 73, 74, 75, 76, 77, 78, 79, 80, 81,\n",
       "                    82, 83, 84, 85, 86, 87, 88, 89, 90, 91, 92, 93, 94, 95, 96, 97,\n",
       "                    98, 99],\n",
       "              'y': [18.164772892443366, 17.730473967826537, 17.82874999027615,\n",
       "                    18.481848359077937, 17.929504135880197, 18.51007556936624,\n",
       "                    17.785068284137168, 17.86868437153871, 18.001790347783633,\n",
       "                    18.585410187963234, 20.522680483528323, 17.80076235091685,\n",
       "                    17.82872268138532, 17.820767695116658, 17.784651781703044,\n",
       "                    17.758482570268857, 17.805837943734968, 18.02925844081241,\n",
       "                    17.78367191312085, 17.834076952977053, 17.806138359399462,\n",
       "                    17.82008529435587, 17.828737176002786, 17.80548435589981,\n",
       "                    17.813869195595817, 17.82632350717297, 17.785141809098107,\n",
       "                    19.697693057337144, 17.76227810304041, 17.786149784343777,\n",
       "                    17.81944383807769, 17.815328011343556, 17.817058056236586,\n",
       "                    17.81006010524204, 17.78577318146571, 17.82180738027649,\n",
       "                    17.815602443176115, 17.84228823895903, 17.809500643741668,\n",
       "                    17.787938258667733, 17.77530518802162, 17.772714156426304,\n",
       "                    17.800294306530347, 17.93903216488516, 18.03201610335001,\n",
       "                    17.797461218200027, 21.347881627406686, 17.8004806072244,\n",
       "                    17.813734502947202, 17.848242400129315, 17.781526188106394,\n",
       "                    17.844397472168243, 17.794073386321944, 18.083032093150205,\n",
       "                    17.824184104196515, 17.827860266532117, 17.900105201424786,\n",
       "                    17.81943070139285, 17.800924533290882, 18.34701151766141,\n",
       "                    17.810125537319877, 17.812098361995638, 17.76536648032697,\n",
       "                    17.768476605616218, 17.807161698422977, 17.763406060211825,\n",
       "                    17.79835484398686, 17.741559627927632, 17.9114405254151,\n",
       "                    17.800281988564663, 17.787489519379722, 17.829610776150908,\n",
       "                    17.84883712243064, 17.793915957448437, 17.773412720204405,\n",
       "                    17.795344350825374, 17.783075496169864, 17.785259503597878,\n",
       "                    17.765230096410654, 17.887226368857235, 17.78100623054703,\n",
       "                    17.777357886727604, 17.779915085546975, 17.769948860694075,\n",
       "                    17.779352365601472, 17.789780797083036, 17.814064783590815,\n",
       "                    17.793428560079295, 17.820921958444437, 17.803822718938587,\n",
       "                    17.784199095870388, 17.85202958468374, 17.810471512437715,\n",
       "                    17.82031203026605, 17.83691245345181, 17.76498726206612,\n",
       "                    17.789966817504197, 17.844426478725172, 17.78961278916461,\n",
       "                    17.7563018829342]},\n",
       "             {'mode': 'lines',\n",
       "              'name': 'Best Value',\n",
       "              'type': 'scatter',\n",
       "              'x': [0, 1, 2, 3, 4, 5, 6, 7, 8, 9, 10, 11, 12, 13, 14, 15, 16, 17,\n",
       "                    18, 19, 20, 21, 22, 23, 24, 25, 26, 27, 28, 29, 30, 31, 32, 33,\n",
       "                    34, 35, 36, 37, 38, 39, 40, 41, 42, 43, 44, 45, 46, 47, 48, 49,\n",
       "                    50, 51, 52, 53, 54, 55, 56, 57, 58, 59, 60, 61, 62, 63, 64, 65,\n",
       "                    66, 67, 68, 69, 70, 71, 72, 73, 74, 75, 76, 77, 78, 79, 80, 81,\n",
       "                    82, 83, 84, 85, 86, 87, 88, 89, 90, 91, 92, 93, 94, 95, 96, 97,\n",
       "                    98, 99],\n",
       "              'y': [18.164772892443366, 17.730473967826537, 17.730473967826537,\n",
       "                    17.730473967826537, 17.730473967826537, 17.730473967826537,\n",
       "                    17.730473967826537, 17.730473967826537, 17.730473967826537,\n",
       "                    17.730473967826537, 17.730473967826537, 17.730473967826537,\n",
       "                    17.730473967826537, 17.730473967826537, 17.730473967826537,\n",
       "                    17.730473967826537, 17.730473967826537, 17.730473967826537,\n",
       "                    17.730473967826537, 17.730473967826537, 17.730473967826537,\n",
       "                    17.730473967826537, 17.730473967826537, 17.730473967826537,\n",
       "                    17.730473967826537, 17.730473967826537, 17.730473967826537,\n",
       "                    17.730473967826537, 17.730473967826537, 17.730473967826537,\n",
       "                    17.730473967826537, 17.730473967826537, 17.730473967826537,\n",
       "                    17.730473967826537, 17.730473967826537, 17.730473967826537,\n",
       "                    17.730473967826537, 17.730473967826537, 17.730473967826537,\n",
       "                    17.730473967826537, 17.730473967826537, 17.730473967826537,\n",
       "                    17.730473967826537, 17.730473967826537, 17.730473967826537,\n",
       "                    17.730473967826537, 17.730473967826537, 17.730473967826537,\n",
       "                    17.730473967826537, 17.730473967826537, 17.730473967826537,\n",
       "                    17.730473967826537, 17.730473967826537, 17.730473967826537,\n",
       "                    17.730473967826537, 17.730473967826537, 17.730473967826537,\n",
       "                    17.730473967826537, 17.730473967826537, 17.730473967826537,\n",
       "                    17.730473967826537, 17.730473967826537, 17.730473967826537,\n",
       "                    17.730473967826537, 17.730473967826537, 17.730473967826537,\n",
       "                    17.730473967826537, 17.730473967826537, 17.730473967826537,\n",
       "                    17.730473967826537, 17.730473967826537, 17.730473967826537,\n",
       "                    17.730473967826537, 17.730473967826537, 17.730473967826537,\n",
       "                    17.730473967826537, 17.730473967826537, 17.730473967826537,\n",
       "                    17.730473967826537, 17.730473967826537, 17.730473967826537,\n",
       "                    17.730473967826537, 17.730473967826537, 17.730473967826537,\n",
       "                    17.730473967826537, 17.730473967826537, 17.730473967826537,\n",
       "                    17.730473967826537, 17.730473967826537, 17.730473967826537,\n",
       "                    17.730473967826537, 17.730473967826537, 17.730473967826537,\n",
       "                    17.730473967826537, 17.730473967826537, 17.730473967826537,\n",
       "                    17.730473967826537, 17.730473967826537, 17.730473967826537,\n",
       "                    17.730473967826537]},\n",
       "             {'marker': {'color': '#cccccc'},\n",
       "              'mode': 'markers',\n",
       "              'name': 'Infeasible Trial',\n",
       "              'showlegend': False,\n",
       "              'type': 'scatter',\n",
       "              'x': [],\n",
       "              'y': []}],\n",
       "    'layout': {'template': '...',\n",
       "               'title': {'text': 'Optimization History Plot'},\n",
       "               'xaxis': {'title': {'text': 'Trial'}},\n",
       "               'yaxis': {'title': {'text': 'Objective Value'}}}\n",
       "})"
      ]
     },
     "execution_count": 11,
     "metadata": {},
     "output_type": "execute_result"
    }
   ],
   "source": [
    "optuna.visualization.plot_optimization_history(study)"
   ]
  },
  {
   "cell_type": "code",
   "execution_count": 12,
   "metadata": {},
   "outputs": [
    {
     "data": {
      "text/plain": [
       "{'n_estimators': 183, 'max_depth': 45}"
      ]
     },
     "execution_count": 12,
     "metadata": {},
     "output_type": "execute_result"
    }
   ],
   "source": [
    "rf_best_params = study.best_params\n",
    "rf_best_params"
   ]
  },
  {
   "cell_type": "markdown",
   "metadata": {},
   "source": [
    "## Polinomial Regression"
   ]
  },
  {
   "cell_type": "code",
   "execution_count": 61,
   "metadata": {},
   "outputs": [],
   "source": [
    "# poly = PolynomialFeatures(degree=2)\n",
    "# poly_features = poly.fit_transform(X_train)\n",
    "# X_poly_val = poly.transform(X_val)\n",
    "\n",
    "# model = LinearRegression()\n",
    "# model.fit(poly_features, y_train)\n",
    "# y_pred = model.predict(X_poly_val)\n"
   ]
  },
  {
   "cell_type": "code",
   "execution_count": null,
   "metadata": {},
   "outputs": [],
   "source": [
    "# def pol_reg_fine_tuning(trial):\n",
    "#     degree = trial.suggest_int('degree', 2,5)\n",
    "\n",
    "#     poly = PolynomialFeatures(degree=degree)\n",
    "#     poly_features = poly.fit_transform(X_train)\n",
    "#     X_poly_val = poly.transform(X_val)\n",
    "\n",
    "#     model = LinearRegression()\n",
    "#     model.fit(poly_features, y_train)\n",
    "#     y_pred = model.predict(X_poly_val)\n",
    "\n",
    "#     return calculate_metrics(y_val, y_pred, 'Polinomial Regression')['RMSE']\n"
   ]
  },
  {
   "cell_type": "code",
   "execution_count": null,
   "metadata": {},
   "outputs": [],
   "source": [
    "# study = optuna.create_study(direction='minimize')\n",
    "# study.optimize(pol_reg_fine_tuning, n_trials=10)"
   ]
  },
  {
   "cell_type": "code",
   "execution_count": 67,
   "metadata": {},
   "outputs": [],
   "source": []
  },
  {
   "cell_type": "code",
   "execution_count": null,
   "metadata": {},
   "outputs": [],
   "source": []
  },
  {
   "cell_type": "code",
   "execution_count": 69,
   "metadata": {},
   "outputs": [],
   "source": []
  },
  {
   "cell_type": "code",
   "execution_count": 70,
   "metadata": {},
   "outputs": [
    {
     "name": "stderr",
     "output_type": "stream",
     "text": [
      "[I 2023-08-24 06:21:34,065] A new study created in memory with name: no-name-4c779134-470e-451c-9609-0cb0533dea81\n",
      "[I 2023-08-24 06:21:34,958] Trial 0 finished with value: 22.367973841803234 and parameters: {'degree': 3}. Best is trial 0 with value: 22.367973841803234.\n"
     ]
    }
   ],
   "source": []
  }
 ],
 "metadata": {
  "kernelspec": {
   "display_name": "myenv",
   "language": "python",
   "name": "python3"
  },
  "language_info": {
   "codemirror_mode": {
    "name": "ipython",
    "version": 3
   },
   "file_extension": ".py",
   "mimetype": "text/x-python",
   "name": "python",
   "nbconvert_exporter": "python",
   "pygments_lexer": "ipython3",
   "version": "3.9.17"
  },
  "orig_nbformat": 4
 },
 "nbformat": 4,
 "nbformat_minor": 2
}
