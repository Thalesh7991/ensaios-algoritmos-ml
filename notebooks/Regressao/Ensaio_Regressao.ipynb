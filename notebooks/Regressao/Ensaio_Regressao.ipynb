{
 "cells": [
  {
   "cell_type": "markdown",
   "metadata": {},
   "source": [
    "# Imports"
   ]
  },
  {
   "cell_type": "code",
   "execution_count": 57,
   "metadata": {},
   "outputs": [],
   "source": [
    "import pandas as pd\n",
    "import numpy as np\n",
    "import optuna\n",
    "from sklearn.metrics import mean_squared_error, mean_absolute_error, r2_score\n",
    "import plotly\n",
    "\n",
    "from sklearn.tree import DecisionTreeRegressor\n",
    "from sklearn.preprocessing import PolynomialFeatures\n",
    "from sklearn.ensemble import RandomForestRegressor\n",
    "\n",
    "from sklearn.linear_model import LinearRegression, Lasso, Ridge, ElasticNet\n",
    "\n",
    "\n",
    "import logging\n",
    "\n",
    "# Definir o nível de log para WARNING\n",
    "optuna.logging.set_verbosity(optuna.logging.WARNING)\n",
    "import seaborn as sns\n",
    "from matplotlib import pyplot as plt\n",
    "import warnings\n",
    "from sklearn.exceptions import ConvergenceWarning\n",
    "\n",
    "warnings.filterwarnings(\"ignore\", category=ConvergenceWarning)\n",
    "\n",
    "import warnings\n",
    "\n",
    "# Ignora avisos de depreciação específicos\n",
    "warnings.simplefilter(action='ignore', category=FutureWarning)\n",
    "warnings.simplefilter(action='ignore', category=UserWarning)\n"
   ]
  },
  {
   "cell_type": "code",
   "execution_count": null,
   "metadata": {},
   "outputs": [],
   "source": []
  },
  {
   "cell_type": "markdown",
   "metadata": {},
   "source": [
    "# Helper Functions"
   ]
  },
  {
   "cell_type": "code",
   "execution_count": 46,
   "metadata": {},
   "outputs": [],
   "source": [
    "def calculate_metrics(y_true, y_pred, model_name):\n",
    "    # Calcular R2\n",
    "    r2 = r2_score(y_true, y_pred)\n",
    "    \n",
    "    # Calcular MSE\n",
    "    mse = mean_squared_error(y_true, y_pred)\n",
    "    \n",
    "    # Calcular RMSE\n",
    "    rmse = np.sqrt(mse)\n",
    "    \n",
    "    # Calcular MAE\n",
    "    mae = mean_absolute_error(y_true, y_pred)\n",
    "    \n",
    "    # Calcular MAPE\n",
    "    y_true_arr, y_pred_arr = np.array(y_true), np.array(y_pred)\n",
    "    mape = np.mean(np.abs((y_true_arr - y_pred_arr) / y_true_arr))\n",
    "    \n",
    "    return {\n",
    "        \"model_name\": model_name,\n",
    "        \"R2\": r2,\n",
    "        \"MSE\": mse,\n",
    "        \"RMSE\": rmse,\n",
    "        \"MAE\": mae,\n",
    "        \"MAPE\": mape\n",
    "    }\n"
   ]
  },
  {
   "cell_type": "markdown",
   "metadata": {},
   "source": [
    "# Data load"
   ]
  },
  {
   "cell_type": "code",
   "execution_count": 4,
   "metadata": {},
   "outputs": [],
   "source": [
    "# Dados de Treinamento\n",
    "X_train = pd.read_csv('../../data/Regressao/X_training.csv')\n",
    "y_train = pd.read_csv('../../data/Regressao/y_training.csv').values.ravel()\n",
    "\n",
    "# Dados de Test\n",
    "X_test = pd.read_csv('../../data/Regressao/X_test.csv')\n",
    "y_test = pd.read_csv('../../data/Regressao/y_test.csv').values.ravel()\n",
    "\n",
    "# Dados de Validacao\n",
    "X_val = pd.read_csv('../../data/Regressao/X_validation.csv')\n",
    "y_val = pd.read_csv('../../data/Regressao/y_val.csv').values.ravel()"
   ]
  },
  {
   "cell_type": "markdown",
   "metadata": {},
   "source": [
    "# Machine Learning"
   ]
  },
  {
   "cell_type": "markdown",
   "metadata": {},
   "source": [
    "## Decision Tree Regression"
   ]
  },
  {
   "cell_type": "code",
   "execution_count": 5,
   "metadata": {},
   "outputs": [],
   "source": [
    "def dt_fine_tuning(trial):\n",
    "    max_depth = trial.suggest_int('max_depth', 2,100)\n",
    "    dt_model = DecisionTreeRegressor(max_depth=max_depth)\n",
    "    dt_model.fit(X_train, y_train)\n",
    "    y_pred = dt_model.predict(X_val)\n",
    "\n",
    "    return calculate_metrics(y_val, y_pred, 'Decision Tree')['RMSE']\n"
   ]
  },
  {
   "cell_type": "code",
   "execution_count": 6,
   "metadata": {},
   "outputs": [],
   "source": [
    "study = optuna.create_study(direction='minimize')\n",
    "study.optimize(dt_fine_tuning, n_trials=100)"
   ]
  },
  {
   "cell_type": "code",
   "execution_count": 7,
   "metadata": {},
   "outputs": [
    {
     "data": {
      "application/vnd.plotly.v1+json": {
       "config": {
        "plotlyServerURL": "https://plot.ly"
       },
       "data": [
        {
         "mode": "markers",
         "name": "Objective Value",
         "type": "scatter",
         "x": [
          0,
          1,
          2,
          3,
          4,
          5,
          6,
          7,
          8,
          9,
          10,
          11,
          12,
          13,
          14,
          15,
          16,
          17,
          18,
          19,
          20,
          21,
          22,
          23,
          24,
          25,
          26,
          27,
          28,
          29,
          30,
          31,
          32,
          33,
          34,
          35,
          36,
          37,
          38,
          39,
          40,
          41,
          42,
          43,
          44,
          45,
          46,
          47,
          48,
          49,
          50,
          51,
          52,
          53,
          54,
          55,
          56,
          57,
          58,
          59,
          60,
          61,
          62,
          63,
          64,
          65,
          66,
          67,
          68,
          69,
          70,
          71,
          72,
          73,
          74,
          75,
          76,
          77,
          78,
          79,
          80,
          81,
          82,
          83,
          84,
          85,
          86,
          87,
          88,
          89,
          90,
          91,
          92,
          93,
          94,
          95,
          96,
          97,
          98,
          99
         ],
         "y": [
          24.905462890397725,
          24.782973251515983,
          24.81158029837232,
          23.711467580569014,
          24.81335090667518,
          24.886583487290117,
          21.60943089442935,
          24.822114654199783,
          24.851545322752575,
          24.98200701678055,
          21.244727047125895,
          21.161896255466814,
          24.627648395103616,
          21.146189225511637,
          24.560699358433737,
          21.16189625546681,
          24.7385082203359,
          23.619379562952112,
          24.819514228388723,
          24.739233105631943,
          23.547111384495366,
          21.43718691701056,
          21.209999814326164,
          22.47815974744651,
          24.667961028390252,
          21.43718691701056,
          24.505396855265342,
          21.923004679342252,
          24.952482989470138,
          24.492471199848545,
          24.670512966618777,
          21.463227257029335,
          21.14915606313722,
          24.94941532518149,
          23.03215173142183,
          21.437186917010557,
          24.92462361554903,
          24.35303421282672,
          21.95706246989351,
          21.204659713408535,
          23.018736723583743,
          21.14915606313722,
          21.204659713408535,
          24.911953894108986,
          21.14915606313722,
          24.38890840024354,
          22.834179022656464,
          24.812388205590615,
          25.176846501553964,
          23.599438948464186,
          21.14915606313722,
          21.14915606313722,
          21.204659713408535,
          21.146189225511637,
          22.15654148477107,
          21.146189225511637,
          23.996264329415034,
          22.227065766591167,
          21.2447270471259,
          24.948122679947865,
          24.718711456065805,
          21.14915606313722,
          21.146189225511637,
          21.437186917010557,
          21.843270545130295,
          23.080562921324745,
          21.16189625546681,
          21.600051891528683,
          24.8254067603663,
          23.863751680609774,
          22.71082105510023,
          21.16189625546681,
          21.146189225511637,
          21.146189225511637,
          21.437186917010557,
          21.935423453616885,
          21.146189225511637,
          21.555590985763097,
          22.83231512392463,
          24.807859919098057,
          24.662952851215582,
          21.146189225511637,
          21.16189625546681,
          21.460047417976774,
          21.14618922551164,
          21.437186917010557,
          22.499913422812465,
          21.146189225511637,
          21.63497798986379,
          23.6719882380538,
          21.16189625546681,
          21.146189225511637,
          21.58274659864411,
          21.146189225511637,
          22.451275676286738,
          23.273287514061995,
          24.927113617192038,
          21.467762832458746,
          24.78942113582784,
          21.437186917010557
         ]
        },
        {
         "mode": "lines",
         "name": "Best Value",
         "type": "scatter",
         "x": [
          0,
          1,
          2,
          3,
          4,
          5,
          6,
          7,
          8,
          9,
          10,
          11,
          12,
          13,
          14,
          15,
          16,
          17,
          18,
          19,
          20,
          21,
          22,
          23,
          24,
          25,
          26,
          27,
          28,
          29,
          30,
          31,
          32,
          33,
          34,
          35,
          36,
          37,
          38,
          39,
          40,
          41,
          42,
          43,
          44,
          45,
          46,
          47,
          48,
          49,
          50,
          51,
          52,
          53,
          54,
          55,
          56,
          57,
          58,
          59,
          60,
          61,
          62,
          63,
          64,
          65,
          66,
          67,
          68,
          69,
          70,
          71,
          72,
          73,
          74,
          75,
          76,
          77,
          78,
          79,
          80,
          81,
          82,
          83,
          84,
          85,
          86,
          87,
          88,
          89,
          90,
          91,
          92,
          93,
          94,
          95,
          96,
          97,
          98,
          99
         ],
         "y": [
          24.905462890397725,
          24.782973251515983,
          24.782973251515983,
          23.711467580569014,
          23.711467580569014,
          23.711467580569014,
          21.60943089442935,
          21.60943089442935,
          21.60943089442935,
          21.60943089442935,
          21.244727047125895,
          21.161896255466814,
          21.161896255466814,
          21.146189225511637,
          21.146189225511637,
          21.146189225511637,
          21.146189225511637,
          21.146189225511637,
          21.146189225511637,
          21.146189225511637,
          21.146189225511637,
          21.146189225511637,
          21.146189225511637,
          21.146189225511637,
          21.146189225511637,
          21.146189225511637,
          21.146189225511637,
          21.146189225511637,
          21.146189225511637,
          21.146189225511637,
          21.146189225511637,
          21.146189225511637,
          21.146189225511637,
          21.146189225511637,
          21.146189225511637,
          21.146189225511637,
          21.146189225511637,
          21.146189225511637,
          21.146189225511637,
          21.146189225511637,
          21.146189225511637,
          21.146189225511637,
          21.146189225511637,
          21.146189225511637,
          21.146189225511637,
          21.146189225511637,
          21.146189225511637,
          21.146189225511637,
          21.146189225511637,
          21.146189225511637,
          21.146189225511637,
          21.146189225511637,
          21.146189225511637,
          21.146189225511637,
          21.146189225511637,
          21.146189225511637,
          21.146189225511637,
          21.146189225511637,
          21.146189225511637,
          21.146189225511637,
          21.146189225511637,
          21.146189225511637,
          21.146189225511637,
          21.146189225511637,
          21.146189225511637,
          21.146189225511637,
          21.146189225511637,
          21.146189225511637,
          21.146189225511637,
          21.146189225511637,
          21.146189225511637,
          21.146189225511637,
          21.146189225511637,
          21.146189225511637,
          21.146189225511637,
          21.146189225511637,
          21.146189225511637,
          21.146189225511637,
          21.146189225511637,
          21.146189225511637,
          21.146189225511637,
          21.146189225511637,
          21.146189225511637,
          21.146189225511637,
          21.146189225511637,
          21.146189225511637,
          21.146189225511637,
          21.146189225511637,
          21.146189225511637,
          21.146189225511637,
          21.146189225511637,
          21.146189225511637,
          21.146189225511637,
          21.146189225511637,
          21.146189225511637,
          21.146189225511637,
          21.146189225511637,
          21.146189225511637,
          21.146189225511637,
          21.146189225511637
         ]
        },
        {
         "marker": {
          "color": "#cccccc"
         },
         "mode": "markers",
         "name": "Infeasible Trial",
         "showlegend": false,
         "type": "scatter",
         "x": [],
         "y": []
        }
       ],
       "layout": {
        "template": {
         "data": {
          "bar": [
           {
            "error_x": {
             "color": "#2a3f5f"
            },
            "error_y": {
             "color": "#2a3f5f"
            },
            "marker": {
             "line": {
              "color": "#E5ECF6",
              "width": 0.5
             },
             "pattern": {
              "fillmode": "overlay",
              "size": 10,
              "solidity": 0.2
             }
            },
            "type": "bar"
           }
          ],
          "barpolar": [
           {
            "marker": {
             "line": {
              "color": "#E5ECF6",
              "width": 0.5
             },
             "pattern": {
              "fillmode": "overlay",
              "size": 10,
              "solidity": 0.2
             }
            },
            "type": "barpolar"
           }
          ],
          "carpet": [
           {
            "aaxis": {
             "endlinecolor": "#2a3f5f",
             "gridcolor": "white",
             "linecolor": "white",
             "minorgridcolor": "white",
             "startlinecolor": "#2a3f5f"
            },
            "baxis": {
             "endlinecolor": "#2a3f5f",
             "gridcolor": "white",
             "linecolor": "white",
             "minorgridcolor": "white",
             "startlinecolor": "#2a3f5f"
            },
            "type": "carpet"
           }
          ],
          "choropleth": [
           {
            "colorbar": {
             "outlinewidth": 0,
             "ticks": ""
            },
            "type": "choropleth"
           }
          ],
          "contour": [
           {
            "colorbar": {
             "outlinewidth": 0,
             "ticks": ""
            },
            "colorscale": [
             [
              0,
              "#0d0887"
             ],
             [
              0.1111111111111111,
              "#46039f"
             ],
             [
              0.2222222222222222,
              "#7201a8"
             ],
             [
              0.3333333333333333,
              "#9c179e"
             ],
             [
              0.4444444444444444,
              "#bd3786"
             ],
             [
              0.5555555555555556,
              "#d8576b"
             ],
             [
              0.6666666666666666,
              "#ed7953"
             ],
             [
              0.7777777777777778,
              "#fb9f3a"
             ],
             [
              0.8888888888888888,
              "#fdca26"
             ],
             [
              1,
              "#f0f921"
             ]
            ],
            "type": "contour"
           }
          ],
          "contourcarpet": [
           {
            "colorbar": {
             "outlinewidth": 0,
             "ticks": ""
            },
            "type": "contourcarpet"
           }
          ],
          "heatmap": [
           {
            "colorbar": {
             "outlinewidth": 0,
             "ticks": ""
            },
            "colorscale": [
             [
              0,
              "#0d0887"
             ],
             [
              0.1111111111111111,
              "#46039f"
             ],
             [
              0.2222222222222222,
              "#7201a8"
             ],
             [
              0.3333333333333333,
              "#9c179e"
             ],
             [
              0.4444444444444444,
              "#bd3786"
             ],
             [
              0.5555555555555556,
              "#d8576b"
             ],
             [
              0.6666666666666666,
              "#ed7953"
             ],
             [
              0.7777777777777778,
              "#fb9f3a"
             ],
             [
              0.8888888888888888,
              "#fdca26"
             ],
             [
              1,
              "#f0f921"
             ]
            ],
            "type": "heatmap"
           }
          ],
          "heatmapgl": [
           {
            "colorbar": {
             "outlinewidth": 0,
             "ticks": ""
            },
            "colorscale": [
             [
              0,
              "#0d0887"
             ],
             [
              0.1111111111111111,
              "#46039f"
             ],
             [
              0.2222222222222222,
              "#7201a8"
             ],
             [
              0.3333333333333333,
              "#9c179e"
             ],
             [
              0.4444444444444444,
              "#bd3786"
             ],
             [
              0.5555555555555556,
              "#d8576b"
             ],
             [
              0.6666666666666666,
              "#ed7953"
             ],
             [
              0.7777777777777778,
              "#fb9f3a"
             ],
             [
              0.8888888888888888,
              "#fdca26"
             ],
             [
              1,
              "#f0f921"
             ]
            ],
            "type": "heatmapgl"
           }
          ],
          "histogram": [
           {
            "marker": {
             "pattern": {
              "fillmode": "overlay",
              "size": 10,
              "solidity": 0.2
             }
            },
            "type": "histogram"
           }
          ],
          "histogram2d": [
           {
            "colorbar": {
             "outlinewidth": 0,
             "ticks": ""
            },
            "colorscale": [
             [
              0,
              "#0d0887"
             ],
             [
              0.1111111111111111,
              "#46039f"
             ],
             [
              0.2222222222222222,
              "#7201a8"
             ],
             [
              0.3333333333333333,
              "#9c179e"
             ],
             [
              0.4444444444444444,
              "#bd3786"
             ],
             [
              0.5555555555555556,
              "#d8576b"
             ],
             [
              0.6666666666666666,
              "#ed7953"
             ],
             [
              0.7777777777777778,
              "#fb9f3a"
             ],
             [
              0.8888888888888888,
              "#fdca26"
             ],
             [
              1,
              "#f0f921"
             ]
            ],
            "type": "histogram2d"
           }
          ],
          "histogram2dcontour": [
           {
            "colorbar": {
             "outlinewidth": 0,
             "ticks": ""
            },
            "colorscale": [
             [
              0,
              "#0d0887"
             ],
             [
              0.1111111111111111,
              "#46039f"
             ],
             [
              0.2222222222222222,
              "#7201a8"
             ],
             [
              0.3333333333333333,
              "#9c179e"
             ],
             [
              0.4444444444444444,
              "#bd3786"
             ],
             [
              0.5555555555555556,
              "#d8576b"
             ],
             [
              0.6666666666666666,
              "#ed7953"
             ],
             [
              0.7777777777777778,
              "#fb9f3a"
             ],
             [
              0.8888888888888888,
              "#fdca26"
             ],
             [
              1,
              "#f0f921"
             ]
            ],
            "type": "histogram2dcontour"
           }
          ],
          "mesh3d": [
           {
            "colorbar": {
             "outlinewidth": 0,
             "ticks": ""
            },
            "type": "mesh3d"
           }
          ],
          "parcoords": [
           {
            "line": {
             "colorbar": {
              "outlinewidth": 0,
              "ticks": ""
             }
            },
            "type": "parcoords"
           }
          ],
          "pie": [
           {
            "automargin": true,
            "type": "pie"
           }
          ],
          "scatter": [
           {
            "fillpattern": {
             "fillmode": "overlay",
             "size": 10,
             "solidity": 0.2
            },
            "type": "scatter"
           }
          ],
          "scatter3d": [
           {
            "line": {
             "colorbar": {
              "outlinewidth": 0,
              "ticks": ""
             }
            },
            "marker": {
             "colorbar": {
              "outlinewidth": 0,
              "ticks": ""
             }
            },
            "type": "scatter3d"
           }
          ],
          "scattercarpet": [
           {
            "marker": {
             "colorbar": {
              "outlinewidth": 0,
              "ticks": ""
             }
            },
            "type": "scattercarpet"
           }
          ],
          "scattergeo": [
           {
            "marker": {
             "colorbar": {
              "outlinewidth": 0,
              "ticks": ""
             }
            },
            "type": "scattergeo"
           }
          ],
          "scattergl": [
           {
            "marker": {
             "colorbar": {
              "outlinewidth": 0,
              "ticks": ""
             }
            },
            "type": "scattergl"
           }
          ],
          "scattermapbox": [
           {
            "marker": {
             "colorbar": {
              "outlinewidth": 0,
              "ticks": ""
             }
            },
            "type": "scattermapbox"
           }
          ],
          "scatterpolar": [
           {
            "marker": {
             "colorbar": {
              "outlinewidth": 0,
              "ticks": ""
             }
            },
            "type": "scatterpolar"
           }
          ],
          "scatterpolargl": [
           {
            "marker": {
             "colorbar": {
              "outlinewidth": 0,
              "ticks": ""
             }
            },
            "type": "scatterpolargl"
           }
          ],
          "scatterternary": [
           {
            "marker": {
             "colorbar": {
              "outlinewidth": 0,
              "ticks": ""
             }
            },
            "type": "scatterternary"
           }
          ],
          "surface": [
           {
            "colorbar": {
             "outlinewidth": 0,
             "ticks": ""
            },
            "colorscale": [
             [
              0,
              "#0d0887"
             ],
             [
              0.1111111111111111,
              "#46039f"
             ],
             [
              0.2222222222222222,
              "#7201a8"
             ],
             [
              0.3333333333333333,
              "#9c179e"
             ],
             [
              0.4444444444444444,
              "#bd3786"
             ],
             [
              0.5555555555555556,
              "#d8576b"
             ],
             [
              0.6666666666666666,
              "#ed7953"
             ],
             [
              0.7777777777777778,
              "#fb9f3a"
             ],
             [
              0.8888888888888888,
              "#fdca26"
             ],
             [
              1,
              "#f0f921"
             ]
            ],
            "type": "surface"
           }
          ],
          "table": [
           {
            "cells": {
             "fill": {
              "color": "#EBF0F8"
             },
             "line": {
              "color": "white"
             }
            },
            "header": {
             "fill": {
              "color": "#C8D4E3"
             },
             "line": {
              "color": "white"
             }
            },
            "type": "table"
           }
          ]
         },
         "layout": {
          "annotationdefaults": {
           "arrowcolor": "#2a3f5f",
           "arrowhead": 0,
           "arrowwidth": 1
          },
          "autotypenumbers": "strict",
          "coloraxis": {
           "colorbar": {
            "outlinewidth": 0,
            "ticks": ""
           }
          },
          "colorscale": {
           "diverging": [
            [
             0,
             "#8e0152"
            ],
            [
             0.1,
             "#c51b7d"
            ],
            [
             0.2,
             "#de77ae"
            ],
            [
             0.3,
             "#f1b6da"
            ],
            [
             0.4,
             "#fde0ef"
            ],
            [
             0.5,
             "#f7f7f7"
            ],
            [
             0.6,
             "#e6f5d0"
            ],
            [
             0.7,
             "#b8e186"
            ],
            [
             0.8,
             "#7fbc41"
            ],
            [
             0.9,
             "#4d9221"
            ],
            [
             1,
             "#276419"
            ]
           ],
           "sequential": [
            [
             0,
             "#0d0887"
            ],
            [
             0.1111111111111111,
             "#46039f"
            ],
            [
             0.2222222222222222,
             "#7201a8"
            ],
            [
             0.3333333333333333,
             "#9c179e"
            ],
            [
             0.4444444444444444,
             "#bd3786"
            ],
            [
             0.5555555555555556,
             "#d8576b"
            ],
            [
             0.6666666666666666,
             "#ed7953"
            ],
            [
             0.7777777777777778,
             "#fb9f3a"
            ],
            [
             0.8888888888888888,
             "#fdca26"
            ],
            [
             1,
             "#f0f921"
            ]
           ],
           "sequentialminus": [
            [
             0,
             "#0d0887"
            ],
            [
             0.1111111111111111,
             "#46039f"
            ],
            [
             0.2222222222222222,
             "#7201a8"
            ],
            [
             0.3333333333333333,
             "#9c179e"
            ],
            [
             0.4444444444444444,
             "#bd3786"
            ],
            [
             0.5555555555555556,
             "#d8576b"
            ],
            [
             0.6666666666666666,
             "#ed7953"
            ],
            [
             0.7777777777777778,
             "#fb9f3a"
            ],
            [
             0.8888888888888888,
             "#fdca26"
            ],
            [
             1,
             "#f0f921"
            ]
           ]
          },
          "colorway": [
           "#636efa",
           "#EF553B",
           "#00cc96",
           "#ab63fa",
           "#FFA15A",
           "#19d3f3",
           "#FF6692",
           "#B6E880",
           "#FF97FF",
           "#FECB52"
          ],
          "font": {
           "color": "#2a3f5f"
          },
          "geo": {
           "bgcolor": "white",
           "lakecolor": "white",
           "landcolor": "#E5ECF6",
           "showlakes": true,
           "showland": true,
           "subunitcolor": "white"
          },
          "hoverlabel": {
           "align": "left"
          },
          "hovermode": "closest",
          "mapbox": {
           "style": "light"
          },
          "paper_bgcolor": "white",
          "plot_bgcolor": "#E5ECF6",
          "polar": {
           "angularaxis": {
            "gridcolor": "white",
            "linecolor": "white",
            "ticks": ""
           },
           "bgcolor": "#E5ECF6",
           "radialaxis": {
            "gridcolor": "white",
            "linecolor": "white",
            "ticks": ""
           }
          },
          "scene": {
           "xaxis": {
            "backgroundcolor": "#E5ECF6",
            "gridcolor": "white",
            "gridwidth": 2,
            "linecolor": "white",
            "showbackground": true,
            "ticks": "",
            "zerolinecolor": "white"
           },
           "yaxis": {
            "backgroundcolor": "#E5ECF6",
            "gridcolor": "white",
            "gridwidth": 2,
            "linecolor": "white",
            "showbackground": true,
            "ticks": "",
            "zerolinecolor": "white"
           },
           "zaxis": {
            "backgroundcolor": "#E5ECF6",
            "gridcolor": "white",
            "gridwidth": 2,
            "linecolor": "white",
            "showbackground": true,
            "ticks": "",
            "zerolinecolor": "white"
           }
          },
          "shapedefaults": {
           "line": {
            "color": "#2a3f5f"
           }
          },
          "ternary": {
           "aaxis": {
            "gridcolor": "white",
            "linecolor": "white",
            "ticks": ""
           },
           "baxis": {
            "gridcolor": "white",
            "linecolor": "white",
            "ticks": ""
           },
           "bgcolor": "#E5ECF6",
           "caxis": {
            "gridcolor": "white",
            "linecolor": "white",
            "ticks": ""
           }
          },
          "title": {
           "x": 0.05
          },
          "xaxis": {
           "automargin": true,
           "gridcolor": "white",
           "linecolor": "white",
           "ticks": "",
           "title": {
            "standoff": 15
           },
           "zerolinecolor": "white",
           "zerolinewidth": 2
          },
          "yaxis": {
           "automargin": true,
           "gridcolor": "white",
           "linecolor": "white",
           "ticks": "",
           "title": {
            "standoff": 15
           },
           "zerolinecolor": "white",
           "zerolinewidth": 2
          }
         }
        },
        "title": {
         "text": "Optimization History Plot"
        },
        "xaxis": {
         "title": {
          "text": "Trial"
         }
        },
        "yaxis": {
         "title": {
          "text": "Objective Value"
         }
        }
       }
      }
     },
     "metadata": {},
     "output_type": "display_data"
    }
   ],
   "source": [
    "optuna.visualization.plot_optimization_history(study)"
   ]
  },
  {
   "cell_type": "code",
   "execution_count": 8,
   "metadata": {},
   "outputs": [
    {
     "data": {
      "text/plain": [
       "{'max_depth': 5}"
      ]
     },
     "execution_count": 8,
     "metadata": {},
     "output_type": "execute_result"
    }
   ],
   "source": [
    "dt_best_params = study.best_params\n",
    "dt_best_params"
   ]
  },
  {
   "cell_type": "markdown",
   "metadata": {},
   "source": [
    "## Random Forest Regressor"
   ]
  },
  {
   "cell_type": "code",
   "execution_count": 9,
   "metadata": {},
   "outputs": [],
   "source": [
    "def rf_fine_tuning(trial):\n",
    "    n_estimators = trial.suggest_int('n_estimators', 10,200)\n",
    "    max_depth = trial.suggest_int('max_depth', 2,50)\n",
    "    rf_model = RandomForestRegressor(n_estimators = n_estimators, max_depth=max_depth)\n",
    "    rf_model.fit(X_train, y_train)\n",
    "    y_pred = rf_model.predict(X_val)\n",
    "\n",
    "    return calculate_metrics(y_val, y_pred, 'Random Forest')['RMSE']"
   ]
  },
  {
   "cell_type": "code",
   "execution_count": 10,
   "metadata": {},
   "outputs": [],
   "source": [
    "study = optuna.create_study(direction='minimize')\n",
    "study.optimize(rf_fine_tuning, n_trials=10)"
   ]
  },
  {
   "cell_type": "code",
   "execution_count": 11,
   "metadata": {},
   "outputs": [
    {
     "data": {
      "application/vnd.plotly.v1+json": {
       "config": {
        "plotlyServerURL": "https://plot.ly"
       },
       "data": [
        {
         "mode": "markers",
         "name": "Objective Value",
         "type": "scatter",
         "x": [
          0,
          1,
          2,
          3,
          4,
          5,
          6,
          7,
          8,
          9
         ],
         "y": [
          20.73880562259167,
          17.860081814896734,
          17.818083396974444,
          17.770671712980622,
          17.900957402527023,
          17.774107960762976,
          17.780292909650566,
          17.896767848265018,
          17.83824743145953,
          17.839134510672615
         ]
        },
        {
         "mode": "lines",
         "name": "Best Value",
         "type": "scatter",
         "x": [
          0,
          1,
          2,
          3,
          4,
          5,
          6,
          7,
          8,
          9
         ],
         "y": [
          20.73880562259167,
          17.860081814896734,
          17.818083396974444,
          17.770671712980622,
          17.770671712980622,
          17.770671712980622,
          17.770671712980622,
          17.770671712980622,
          17.770671712980622,
          17.770671712980622
         ]
        },
        {
         "marker": {
          "color": "#cccccc"
         },
         "mode": "markers",
         "name": "Infeasible Trial",
         "showlegend": false,
         "type": "scatter",
         "x": [],
         "y": []
        }
       ],
       "layout": {
        "template": {
         "data": {
          "bar": [
           {
            "error_x": {
             "color": "#2a3f5f"
            },
            "error_y": {
             "color": "#2a3f5f"
            },
            "marker": {
             "line": {
              "color": "#E5ECF6",
              "width": 0.5
             },
             "pattern": {
              "fillmode": "overlay",
              "size": 10,
              "solidity": 0.2
             }
            },
            "type": "bar"
           }
          ],
          "barpolar": [
           {
            "marker": {
             "line": {
              "color": "#E5ECF6",
              "width": 0.5
             },
             "pattern": {
              "fillmode": "overlay",
              "size": 10,
              "solidity": 0.2
             }
            },
            "type": "barpolar"
           }
          ],
          "carpet": [
           {
            "aaxis": {
             "endlinecolor": "#2a3f5f",
             "gridcolor": "white",
             "linecolor": "white",
             "minorgridcolor": "white",
             "startlinecolor": "#2a3f5f"
            },
            "baxis": {
             "endlinecolor": "#2a3f5f",
             "gridcolor": "white",
             "linecolor": "white",
             "minorgridcolor": "white",
             "startlinecolor": "#2a3f5f"
            },
            "type": "carpet"
           }
          ],
          "choropleth": [
           {
            "colorbar": {
             "outlinewidth": 0,
             "ticks": ""
            },
            "type": "choropleth"
           }
          ],
          "contour": [
           {
            "colorbar": {
             "outlinewidth": 0,
             "ticks": ""
            },
            "colorscale": [
             [
              0,
              "#0d0887"
             ],
             [
              0.1111111111111111,
              "#46039f"
             ],
             [
              0.2222222222222222,
              "#7201a8"
             ],
             [
              0.3333333333333333,
              "#9c179e"
             ],
             [
              0.4444444444444444,
              "#bd3786"
             ],
             [
              0.5555555555555556,
              "#d8576b"
             ],
             [
              0.6666666666666666,
              "#ed7953"
             ],
             [
              0.7777777777777778,
              "#fb9f3a"
             ],
             [
              0.8888888888888888,
              "#fdca26"
             ],
             [
              1,
              "#f0f921"
             ]
            ],
            "type": "contour"
           }
          ],
          "contourcarpet": [
           {
            "colorbar": {
             "outlinewidth": 0,
             "ticks": ""
            },
            "type": "contourcarpet"
           }
          ],
          "heatmap": [
           {
            "colorbar": {
             "outlinewidth": 0,
             "ticks": ""
            },
            "colorscale": [
             [
              0,
              "#0d0887"
             ],
             [
              0.1111111111111111,
              "#46039f"
             ],
             [
              0.2222222222222222,
              "#7201a8"
             ],
             [
              0.3333333333333333,
              "#9c179e"
             ],
             [
              0.4444444444444444,
              "#bd3786"
             ],
             [
              0.5555555555555556,
              "#d8576b"
             ],
             [
              0.6666666666666666,
              "#ed7953"
             ],
             [
              0.7777777777777778,
              "#fb9f3a"
             ],
             [
              0.8888888888888888,
              "#fdca26"
             ],
             [
              1,
              "#f0f921"
             ]
            ],
            "type": "heatmap"
           }
          ],
          "heatmapgl": [
           {
            "colorbar": {
             "outlinewidth": 0,
             "ticks": ""
            },
            "colorscale": [
             [
              0,
              "#0d0887"
             ],
             [
              0.1111111111111111,
              "#46039f"
             ],
             [
              0.2222222222222222,
              "#7201a8"
             ],
             [
              0.3333333333333333,
              "#9c179e"
             ],
             [
              0.4444444444444444,
              "#bd3786"
             ],
             [
              0.5555555555555556,
              "#d8576b"
             ],
             [
              0.6666666666666666,
              "#ed7953"
             ],
             [
              0.7777777777777778,
              "#fb9f3a"
             ],
             [
              0.8888888888888888,
              "#fdca26"
             ],
             [
              1,
              "#f0f921"
             ]
            ],
            "type": "heatmapgl"
           }
          ],
          "histogram": [
           {
            "marker": {
             "pattern": {
              "fillmode": "overlay",
              "size": 10,
              "solidity": 0.2
             }
            },
            "type": "histogram"
           }
          ],
          "histogram2d": [
           {
            "colorbar": {
             "outlinewidth": 0,
             "ticks": ""
            },
            "colorscale": [
             [
              0,
              "#0d0887"
             ],
             [
              0.1111111111111111,
              "#46039f"
             ],
             [
              0.2222222222222222,
              "#7201a8"
             ],
             [
              0.3333333333333333,
              "#9c179e"
             ],
             [
              0.4444444444444444,
              "#bd3786"
             ],
             [
              0.5555555555555556,
              "#d8576b"
             ],
             [
              0.6666666666666666,
              "#ed7953"
             ],
             [
              0.7777777777777778,
              "#fb9f3a"
             ],
             [
              0.8888888888888888,
              "#fdca26"
             ],
             [
              1,
              "#f0f921"
             ]
            ],
            "type": "histogram2d"
           }
          ],
          "histogram2dcontour": [
           {
            "colorbar": {
             "outlinewidth": 0,
             "ticks": ""
            },
            "colorscale": [
             [
              0,
              "#0d0887"
             ],
             [
              0.1111111111111111,
              "#46039f"
             ],
             [
              0.2222222222222222,
              "#7201a8"
             ],
             [
              0.3333333333333333,
              "#9c179e"
             ],
             [
              0.4444444444444444,
              "#bd3786"
             ],
             [
              0.5555555555555556,
              "#d8576b"
             ],
             [
              0.6666666666666666,
              "#ed7953"
             ],
             [
              0.7777777777777778,
              "#fb9f3a"
             ],
             [
              0.8888888888888888,
              "#fdca26"
             ],
             [
              1,
              "#f0f921"
             ]
            ],
            "type": "histogram2dcontour"
           }
          ],
          "mesh3d": [
           {
            "colorbar": {
             "outlinewidth": 0,
             "ticks": ""
            },
            "type": "mesh3d"
           }
          ],
          "parcoords": [
           {
            "line": {
             "colorbar": {
              "outlinewidth": 0,
              "ticks": ""
             }
            },
            "type": "parcoords"
           }
          ],
          "pie": [
           {
            "automargin": true,
            "type": "pie"
           }
          ],
          "scatter": [
           {
            "fillpattern": {
             "fillmode": "overlay",
             "size": 10,
             "solidity": 0.2
            },
            "type": "scatter"
           }
          ],
          "scatter3d": [
           {
            "line": {
             "colorbar": {
              "outlinewidth": 0,
              "ticks": ""
             }
            },
            "marker": {
             "colorbar": {
              "outlinewidth": 0,
              "ticks": ""
             }
            },
            "type": "scatter3d"
           }
          ],
          "scattercarpet": [
           {
            "marker": {
             "colorbar": {
              "outlinewidth": 0,
              "ticks": ""
             }
            },
            "type": "scattercarpet"
           }
          ],
          "scattergeo": [
           {
            "marker": {
             "colorbar": {
              "outlinewidth": 0,
              "ticks": ""
             }
            },
            "type": "scattergeo"
           }
          ],
          "scattergl": [
           {
            "marker": {
             "colorbar": {
              "outlinewidth": 0,
              "ticks": ""
             }
            },
            "type": "scattergl"
           }
          ],
          "scattermapbox": [
           {
            "marker": {
             "colorbar": {
              "outlinewidth": 0,
              "ticks": ""
             }
            },
            "type": "scattermapbox"
           }
          ],
          "scatterpolar": [
           {
            "marker": {
             "colorbar": {
              "outlinewidth": 0,
              "ticks": ""
             }
            },
            "type": "scatterpolar"
           }
          ],
          "scatterpolargl": [
           {
            "marker": {
             "colorbar": {
              "outlinewidth": 0,
              "ticks": ""
             }
            },
            "type": "scatterpolargl"
           }
          ],
          "scatterternary": [
           {
            "marker": {
             "colorbar": {
              "outlinewidth": 0,
              "ticks": ""
             }
            },
            "type": "scatterternary"
           }
          ],
          "surface": [
           {
            "colorbar": {
             "outlinewidth": 0,
             "ticks": ""
            },
            "colorscale": [
             [
              0,
              "#0d0887"
             ],
             [
              0.1111111111111111,
              "#46039f"
             ],
             [
              0.2222222222222222,
              "#7201a8"
             ],
             [
              0.3333333333333333,
              "#9c179e"
             ],
             [
              0.4444444444444444,
              "#bd3786"
             ],
             [
              0.5555555555555556,
              "#d8576b"
             ],
             [
              0.6666666666666666,
              "#ed7953"
             ],
             [
              0.7777777777777778,
              "#fb9f3a"
             ],
             [
              0.8888888888888888,
              "#fdca26"
             ],
             [
              1,
              "#f0f921"
             ]
            ],
            "type": "surface"
           }
          ],
          "table": [
           {
            "cells": {
             "fill": {
              "color": "#EBF0F8"
             },
             "line": {
              "color": "white"
             }
            },
            "header": {
             "fill": {
              "color": "#C8D4E3"
             },
             "line": {
              "color": "white"
             }
            },
            "type": "table"
           }
          ]
         },
         "layout": {
          "annotationdefaults": {
           "arrowcolor": "#2a3f5f",
           "arrowhead": 0,
           "arrowwidth": 1
          },
          "autotypenumbers": "strict",
          "coloraxis": {
           "colorbar": {
            "outlinewidth": 0,
            "ticks": ""
           }
          },
          "colorscale": {
           "diverging": [
            [
             0,
             "#8e0152"
            ],
            [
             0.1,
             "#c51b7d"
            ],
            [
             0.2,
             "#de77ae"
            ],
            [
             0.3,
             "#f1b6da"
            ],
            [
             0.4,
             "#fde0ef"
            ],
            [
             0.5,
             "#f7f7f7"
            ],
            [
             0.6,
             "#e6f5d0"
            ],
            [
             0.7,
             "#b8e186"
            ],
            [
             0.8,
             "#7fbc41"
            ],
            [
             0.9,
             "#4d9221"
            ],
            [
             1,
             "#276419"
            ]
           ],
           "sequential": [
            [
             0,
             "#0d0887"
            ],
            [
             0.1111111111111111,
             "#46039f"
            ],
            [
             0.2222222222222222,
             "#7201a8"
            ],
            [
             0.3333333333333333,
             "#9c179e"
            ],
            [
             0.4444444444444444,
             "#bd3786"
            ],
            [
             0.5555555555555556,
             "#d8576b"
            ],
            [
             0.6666666666666666,
             "#ed7953"
            ],
            [
             0.7777777777777778,
             "#fb9f3a"
            ],
            [
             0.8888888888888888,
             "#fdca26"
            ],
            [
             1,
             "#f0f921"
            ]
           ],
           "sequentialminus": [
            [
             0,
             "#0d0887"
            ],
            [
             0.1111111111111111,
             "#46039f"
            ],
            [
             0.2222222222222222,
             "#7201a8"
            ],
            [
             0.3333333333333333,
             "#9c179e"
            ],
            [
             0.4444444444444444,
             "#bd3786"
            ],
            [
             0.5555555555555556,
             "#d8576b"
            ],
            [
             0.6666666666666666,
             "#ed7953"
            ],
            [
             0.7777777777777778,
             "#fb9f3a"
            ],
            [
             0.8888888888888888,
             "#fdca26"
            ],
            [
             1,
             "#f0f921"
            ]
           ]
          },
          "colorway": [
           "#636efa",
           "#EF553B",
           "#00cc96",
           "#ab63fa",
           "#FFA15A",
           "#19d3f3",
           "#FF6692",
           "#B6E880",
           "#FF97FF",
           "#FECB52"
          ],
          "font": {
           "color": "#2a3f5f"
          },
          "geo": {
           "bgcolor": "white",
           "lakecolor": "white",
           "landcolor": "#E5ECF6",
           "showlakes": true,
           "showland": true,
           "subunitcolor": "white"
          },
          "hoverlabel": {
           "align": "left"
          },
          "hovermode": "closest",
          "mapbox": {
           "style": "light"
          },
          "paper_bgcolor": "white",
          "plot_bgcolor": "#E5ECF6",
          "polar": {
           "angularaxis": {
            "gridcolor": "white",
            "linecolor": "white",
            "ticks": ""
           },
           "bgcolor": "#E5ECF6",
           "radialaxis": {
            "gridcolor": "white",
            "linecolor": "white",
            "ticks": ""
           }
          },
          "scene": {
           "xaxis": {
            "backgroundcolor": "#E5ECF6",
            "gridcolor": "white",
            "gridwidth": 2,
            "linecolor": "white",
            "showbackground": true,
            "ticks": "",
            "zerolinecolor": "white"
           },
           "yaxis": {
            "backgroundcolor": "#E5ECF6",
            "gridcolor": "white",
            "gridwidth": 2,
            "linecolor": "white",
            "showbackground": true,
            "ticks": "",
            "zerolinecolor": "white"
           },
           "zaxis": {
            "backgroundcolor": "#E5ECF6",
            "gridcolor": "white",
            "gridwidth": 2,
            "linecolor": "white",
            "showbackground": true,
            "ticks": "",
            "zerolinecolor": "white"
           }
          },
          "shapedefaults": {
           "line": {
            "color": "#2a3f5f"
           }
          },
          "ternary": {
           "aaxis": {
            "gridcolor": "white",
            "linecolor": "white",
            "ticks": ""
           },
           "baxis": {
            "gridcolor": "white",
            "linecolor": "white",
            "ticks": ""
           },
           "bgcolor": "#E5ECF6",
           "caxis": {
            "gridcolor": "white",
            "linecolor": "white",
            "ticks": ""
           }
          },
          "title": {
           "x": 0.05
          },
          "xaxis": {
           "automargin": true,
           "gridcolor": "white",
           "linecolor": "white",
           "ticks": "",
           "title": {
            "standoff": 15
           },
           "zerolinecolor": "white",
           "zerolinewidth": 2
          },
          "yaxis": {
           "automargin": true,
           "gridcolor": "white",
           "linecolor": "white",
           "ticks": "",
           "title": {
            "standoff": 15
           },
           "zerolinecolor": "white",
           "zerolinewidth": 2
          }
         }
        },
        "title": {
         "text": "Optimization History Plot"
        },
        "xaxis": {
         "title": {
          "text": "Trial"
         }
        },
        "yaxis": {
         "title": {
          "text": "Objective Value"
         }
        }
       }
      }
     },
     "metadata": {},
     "output_type": "display_data"
    }
   ],
   "source": [
    "optuna.visualization.plot_optimization_history(study)"
   ]
  },
  {
   "cell_type": "code",
   "execution_count": 12,
   "metadata": {},
   "outputs": [
    {
     "data": {
      "text/plain": [
       "{'n_estimators': 185, 'max_depth': 28}"
      ]
     },
     "execution_count": 12,
     "metadata": {},
     "output_type": "execute_result"
    }
   ],
   "source": [
    "rf_best_params = study.best_params\n",
    "rf_best_params"
   ]
  },
  {
   "cell_type": "markdown",
   "metadata": {},
   "source": [
    "## Polinomial Regression"
   ]
  },
  {
   "cell_type": "code",
   "execution_count": null,
   "metadata": {},
   "outputs": [],
   "source": []
  },
  {
   "cell_type": "code",
   "execution_count": 13,
   "metadata": {},
   "outputs": [],
   "source": [
    "# poly = PolynomialFeatures(degree=5)\n",
    "# poly_features = poly.fit_transform(X_train)\n",
    "# X_poly_val = poly.transform(X_val)\n",
    "\n",
    "# model = LinearRegression()\n",
    "# model.fit(poly_features, y_train)\n",
    "# y_pred = model.predict(X_poly_val)\n"
   ]
  },
  {
   "cell_type": "code",
   "execution_count": null,
   "metadata": {},
   "outputs": [],
   "source": []
  },
  {
   "cell_type": "code",
   "execution_count": 14,
   "metadata": {},
   "outputs": [],
   "source": [
    "def pol_reg_fine_tuning(trial):\n",
    "    degree = trial.suggest_int('degree', 2,4)\n",
    "\n",
    "    poly = PolynomialFeatures(degree=degree)\n",
    "    poly_features = poly.fit_transform(X_train)\n",
    "    X_poly_val = poly.transform(X_val)\n",
    "\n",
    "    model = LinearRegression()\n",
    "    model.fit(poly_features, y_train)\n",
    "    y_pred = model.predict(X_poly_val)\n",
    "\n",
    "    return calculate_metrics(y_val, y_pred, 'Polinomial Regression')['RMSE']\n"
   ]
  },
  {
   "cell_type": "code",
   "execution_count": 15,
   "metadata": {},
   "outputs": [],
   "source": [
    "study = optuna.create_study(direction='minimize')\n",
    "study.optimize(pol_reg_fine_tuning, n_trials=5)"
   ]
  },
  {
   "cell_type": "code",
   "execution_count": 16,
   "metadata": {},
   "outputs": [
    {
     "data": {
      "application/vnd.plotly.v1+json": {
       "config": {
        "plotlyServerURL": "https://plot.ly"
       },
       "data": [
        {
         "mode": "markers",
         "name": "Objective Value",
         "type": "scatter",
         "x": [
          0,
          1,
          2,
          3,
          4
         ],
         "y": [
          21.113223900467585,
          21.113223900467585,
          222.76611247058707,
          21.113223900467585,
          222.76611247058707
         ]
        },
        {
         "mode": "lines",
         "name": "Best Value",
         "type": "scatter",
         "x": [
          0,
          1,
          2,
          3,
          4
         ],
         "y": [
          21.113223900467585,
          21.113223900467585,
          21.113223900467585,
          21.113223900467585,
          21.113223900467585
         ]
        },
        {
         "marker": {
          "color": "#cccccc"
         },
         "mode": "markers",
         "name": "Infeasible Trial",
         "showlegend": false,
         "type": "scatter",
         "x": [],
         "y": []
        }
       ],
       "layout": {
        "template": {
         "data": {
          "bar": [
           {
            "error_x": {
             "color": "#2a3f5f"
            },
            "error_y": {
             "color": "#2a3f5f"
            },
            "marker": {
             "line": {
              "color": "#E5ECF6",
              "width": 0.5
             },
             "pattern": {
              "fillmode": "overlay",
              "size": 10,
              "solidity": 0.2
             }
            },
            "type": "bar"
           }
          ],
          "barpolar": [
           {
            "marker": {
             "line": {
              "color": "#E5ECF6",
              "width": 0.5
             },
             "pattern": {
              "fillmode": "overlay",
              "size": 10,
              "solidity": 0.2
             }
            },
            "type": "barpolar"
           }
          ],
          "carpet": [
           {
            "aaxis": {
             "endlinecolor": "#2a3f5f",
             "gridcolor": "white",
             "linecolor": "white",
             "minorgridcolor": "white",
             "startlinecolor": "#2a3f5f"
            },
            "baxis": {
             "endlinecolor": "#2a3f5f",
             "gridcolor": "white",
             "linecolor": "white",
             "minorgridcolor": "white",
             "startlinecolor": "#2a3f5f"
            },
            "type": "carpet"
           }
          ],
          "choropleth": [
           {
            "colorbar": {
             "outlinewidth": 0,
             "ticks": ""
            },
            "type": "choropleth"
           }
          ],
          "contour": [
           {
            "colorbar": {
             "outlinewidth": 0,
             "ticks": ""
            },
            "colorscale": [
             [
              0,
              "#0d0887"
             ],
             [
              0.1111111111111111,
              "#46039f"
             ],
             [
              0.2222222222222222,
              "#7201a8"
             ],
             [
              0.3333333333333333,
              "#9c179e"
             ],
             [
              0.4444444444444444,
              "#bd3786"
             ],
             [
              0.5555555555555556,
              "#d8576b"
             ],
             [
              0.6666666666666666,
              "#ed7953"
             ],
             [
              0.7777777777777778,
              "#fb9f3a"
             ],
             [
              0.8888888888888888,
              "#fdca26"
             ],
             [
              1,
              "#f0f921"
             ]
            ],
            "type": "contour"
           }
          ],
          "contourcarpet": [
           {
            "colorbar": {
             "outlinewidth": 0,
             "ticks": ""
            },
            "type": "contourcarpet"
           }
          ],
          "heatmap": [
           {
            "colorbar": {
             "outlinewidth": 0,
             "ticks": ""
            },
            "colorscale": [
             [
              0,
              "#0d0887"
             ],
             [
              0.1111111111111111,
              "#46039f"
             ],
             [
              0.2222222222222222,
              "#7201a8"
             ],
             [
              0.3333333333333333,
              "#9c179e"
             ],
             [
              0.4444444444444444,
              "#bd3786"
             ],
             [
              0.5555555555555556,
              "#d8576b"
             ],
             [
              0.6666666666666666,
              "#ed7953"
             ],
             [
              0.7777777777777778,
              "#fb9f3a"
             ],
             [
              0.8888888888888888,
              "#fdca26"
             ],
             [
              1,
              "#f0f921"
             ]
            ],
            "type": "heatmap"
           }
          ],
          "heatmapgl": [
           {
            "colorbar": {
             "outlinewidth": 0,
             "ticks": ""
            },
            "colorscale": [
             [
              0,
              "#0d0887"
             ],
             [
              0.1111111111111111,
              "#46039f"
             ],
             [
              0.2222222222222222,
              "#7201a8"
             ],
             [
              0.3333333333333333,
              "#9c179e"
             ],
             [
              0.4444444444444444,
              "#bd3786"
             ],
             [
              0.5555555555555556,
              "#d8576b"
             ],
             [
              0.6666666666666666,
              "#ed7953"
             ],
             [
              0.7777777777777778,
              "#fb9f3a"
             ],
             [
              0.8888888888888888,
              "#fdca26"
             ],
             [
              1,
              "#f0f921"
             ]
            ],
            "type": "heatmapgl"
           }
          ],
          "histogram": [
           {
            "marker": {
             "pattern": {
              "fillmode": "overlay",
              "size": 10,
              "solidity": 0.2
             }
            },
            "type": "histogram"
           }
          ],
          "histogram2d": [
           {
            "colorbar": {
             "outlinewidth": 0,
             "ticks": ""
            },
            "colorscale": [
             [
              0,
              "#0d0887"
             ],
             [
              0.1111111111111111,
              "#46039f"
             ],
             [
              0.2222222222222222,
              "#7201a8"
             ],
             [
              0.3333333333333333,
              "#9c179e"
             ],
             [
              0.4444444444444444,
              "#bd3786"
             ],
             [
              0.5555555555555556,
              "#d8576b"
             ],
             [
              0.6666666666666666,
              "#ed7953"
             ],
             [
              0.7777777777777778,
              "#fb9f3a"
             ],
             [
              0.8888888888888888,
              "#fdca26"
             ],
             [
              1,
              "#f0f921"
             ]
            ],
            "type": "histogram2d"
           }
          ],
          "histogram2dcontour": [
           {
            "colorbar": {
             "outlinewidth": 0,
             "ticks": ""
            },
            "colorscale": [
             [
              0,
              "#0d0887"
             ],
             [
              0.1111111111111111,
              "#46039f"
             ],
             [
              0.2222222222222222,
              "#7201a8"
             ],
             [
              0.3333333333333333,
              "#9c179e"
             ],
             [
              0.4444444444444444,
              "#bd3786"
             ],
             [
              0.5555555555555556,
              "#d8576b"
             ],
             [
              0.6666666666666666,
              "#ed7953"
             ],
             [
              0.7777777777777778,
              "#fb9f3a"
             ],
             [
              0.8888888888888888,
              "#fdca26"
             ],
             [
              1,
              "#f0f921"
             ]
            ],
            "type": "histogram2dcontour"
           }
          ],
          "mesh3d": [
           {
            "colorbar": {
             "outlinewidth": 0,
             "ticks": ""
            },
            "type": "mesh3d"
           }
          ],
          "parcoords": [
           {
            "line": {
             "colorbar": {
              "outlinewidth": 0,
              "ticks": ""
             }
            },
            "type": "parcoords"
           }
          ],
          "pie": [
           {
            "automargin": true,
            "type": "pie"
           }
          ],
          "scatter": [
           {
            "fillpattern": {
             "fillmode": "overlay",
             "size": 10,
             "solidity": 0.2
            },
            "type": "scatter"
           }
          ],
          "scatter3d": [
           {
            "line": {
             "colorbar": {
              "outlinewidth": 0,
              "ticks": ""
             }
            },
            "marker": {
             "colorbar": {
              "outlinewidth": 0,
              "ticks": ""
             }
            },
            "type": "scatter3d"
           }
          ],
          "scattercarpet": [
           {
            "marker": {
             "colorbar": {
              "outlinewidth": 0,
              "ticks": ""
             }
            },
            "type": "scattercarpet"
           }
          ],
          "scattergeo": [
           {
            "marker": {
             "colorbar": {
              "outlinewidth": 0,
              "ticks": ""
             }
            },
            "type": "scattergeo"
           }
          ],
          "scattergl": [
           {
            "marker": {
             "colorbar": {
              "outlinewidth": 0,
              "ticks": ""
             }
            },
            "type": "scattergl"
           }
          ],
          "scattermapbox": [
           {
            "marker": {
             "colorbar": {
              "outlinewidth": 0,
              "ticks": ""
             }
            },
            "type": "scattermapbox"
           }
          ],
          "scatterpolar": [
           {
            "marker": {
             "colorbar": {
              "outlinewidth": 0,
              "ticks": ""
             }
            },
            "type": "scatterpolar"
           }
          ],
          "scatterpolargl": [
           {
            "marker": {
             "colorbar": {
              "outlinewidth": 0,
              "ticks": ""
             }
            },
            "type": "scatterpolargl"
           }
          ],
          "scatterternary": [
           {
            "marker": {
             "colorbar": {
              "outlinewidth": 0,
              "ticks": ""
             }
            },
            "type": "scatterternary"
           }
          ],
          "surface": [
           {
            "colorbar": {
             "outlinewidth": 0,
             "ticks": ""
            },
            "colorscale": [
             [
              0,
              "#0d0887"
             ],
             [
              0.1111111111111111,
              "#46039f"
             ],
             [
              0.2222222222222222,
              "#7201a8"
             ],
             [
              0.3333333333333333,
              "#9c179e"
             ],
             [
              0.4444444444444444,
              "#bd3786"
             ],
             [
              0.5555555555555556,
              "#d8576b"
             ],
             [
              0.6666666666666666,
              "#ed7953"
             ],
             [
              0.7777777777777778,
              "#fb9f3a"
             ],
             [
              0.8888888888888888,
              "#fdca26"
             ],
             [
              1,
              "#f0f921"
             ]
            ],
            "type": "surface"
           }
          ],
          "table": [
           {
            "cells": {
             "fill": {
              "color": "#EBF0F8"
             },
             "line": {
              "color": "white"
             }
            },
            "header": {
             "fill": {
              "color": "#C8D4E3"
             },
             "line": {
              "color": "white"
             }
            },
            "type": "table"
           }
          ]
         },
         "layout": {
          "annotationdefaults": {
           "arrowcolor": "#2a3f5f",
           "arrowhead": 0,
           "arrowwidth": 1
          },
          "autotypenumbers": "strict",
          "coloraxis": {
           "colorbar": {
            "outlinewidth": 0,
            "ticks": ""
           }
          },
          "colorscale": {
           "diverging": [
            [
             0,
             "#8e0152"
            ],
            [
             0.1,
             "#c51b7d"
            ],
            [
             0.2,
             "#de77ae"
            ],
            [
             0.3,
             "#f1b6da"
            ],
            [
             0.4,
             "#fde0ef"
            ],
            [
             0.5,
             "#f7f7f7"
            ],
            [
             0.6,
             "#e6f5d0"
            ],
            [
             0.7,
             "#b8e186"
            ],
            [
             0.8,
             "#7fbc41"
            ],
            [
             0.9,
             "#4d9221"
            ],
            [
             1,
             "#276419"
            ]
           ],
           "sequential": [
            [
             0,
             "#0d0887"
            ],
            [
             0.1111111111111111,
             "#46039f"
            ],
            [
             0.2222222222222222,
             "#7201a8"
            ],
            [
             0.3333333333333333,
             "#9c179e"
            ],
            [
             0.4444444444444444,
             "#bd3786"
            ],
            [
             0.5555555555555556,
             "#d8576b"
            ],
            [
             0.6666666666666666,
             "#ed7953"
            ],
            [
             0.7777777777777778,
             "#fb9f3a"
            ],
            [
             0.8888888888888888,
             "#fdca26"
            ],
            [
             1,
             "#f0f921"
            ]
           ],
           "sequentialminus": [
            [
             0,
             "#0d0887"
            ],
            [
             0.1111111111111111,
             "#46039f"
            ],
            [
             0.2222222222222222,
             "#7201a8"
            ],
            [
             0.3333333333333333,
             "#9c179e"
            ],
            [
             0.4444444444444444,
             "#bd3786"
            ],
            [
             0.5555555555555556,
             "#d8576b"
            ],
            [
             0.6666666666666666,
             "#ed7953"
            ],
            [
             0.7777777777777778,
             "#fb9f3a"
            ],
            [
             0.8888888888888888,
             "#fdca26"
            ],
            [
             1,
             "#f0f921"
            ]
           ]
          },
          "colorway": [
           "#636efa",
           "#EF553B",
           "#00cc96",
           "#ab63fa",
           "#FFA15A",
           "#19d3f3",
           "#FF6692",
           "#B6E880",
           "#FF97FF",
           "#FECB52"
          ],
          "font": {
           "color": "#2a3f5f"
          },
          "geo": {
           "bgcolor": "white",
           "lakecolor": "white",
           "landcolor": "#E5ECF6",
           "showlakes": true,
           "showland": true,
           "subunitcolor": "white"
          },
          "hoverlabel": {
           "align": "left"
          },
          "hovermode": "closest",
          "mapbox": {
           "style": "light"
          },
          "paper_bgcolor": "white",
          "plot_bgcolor": "#E5ECF6",
          "polar": {
           "angularaxis": {
            "gridcolor": "white",
            "linecolor": "white",
            "ticks": ""
           },
           "bgcolor": "#E5ECF6",
           "radialaxis": {
            "gridcolor": "white",
            "linecolor": "white",
            "ticks": ""
           }
          },
          "scene": {
           "xaxis": {
            "backgroundcolor": "#E5ECF6",
            "gridcolor": "white",
            "gridwidth": 2,
            "linecolor": "white",
            "showbackground": true,
            "ticks": "",
            "zerolinecolor": "white"
           },
           "yaxis": {
            "backgroundcolor": "#E5ECF6",
            "gridcolor": "white",
            "gridwidth": 2,
            "linecolor": "white",
            "showbackground": true,
            "ticks": "",
            "zerolinecolor": "white"
           },
           "zaxis": {
            "backgroundcolor": "#E5ECF6",
            "gridcolor": "white",
            "gridwidth": 2,
            "linecolor": "white",
            "showbackground": true,
            "ticks": "",
            "zerolinecolor": "white"
           }
          },
          "shapedefaults": {
           "line": {
            "color": "#2a3f5f"
           }
          },
          "ternary": {
           "aaxis": {
            "gridcolor": "white",
            "linecolor": "white",
            "ticks": ""
           },
           "baxis": {
            "gridcolor": "white",
            "linecolor": "white",
            "ticks": ""
           },
           "bgcolor": "#E5ECF6",
           "caxis": {
            "gridcolor": "white",
            "linecolor": "white",
            "ticks": ""
           }
          },
          "title": {
           "x": 0.05
          },
          "xaxis": {
           "automargin": true,
           "gridcolor": "white",
           "linecolor": "white",
           "ticks": "",
           "title": {
            "standoff": 15
           },
           "zerolinecolor": "white",
           "zerolinewidth": 2
          },
          "yaxis": {
           "automargin": true,
           "gridcolor": "white",
           "linecolor": "white",
           "ticks": "",
           "title": {
            "standoff": 15
           },
           "zerolinecolor": "white",
           "zerolinewidth": 2
          }
         }
        },
        "title": {
         "text": "Optimization History Plot"
        },
        "xaxis": {
         "title": {
          "text": "Trial"
         }
        },
        "yaxis": {
         "title": {
          "text": "Objective Value"
         }
        }
       }
      }
     },
     "metadata": {},
     "output_type": "display_data"
    }
   ],
   "source": [
    "optuna.visualization.plot_optimization_history(study)"
   ]
  },
  {
   "cell_type": "code",
   "execution_count": 17,
   "metadata": {},
   "outputs": [
    {
     "data": {
      "text/plain": [
       "{'degree': 2}"
      ]
     },
     "execution_count": 17,
     "metadata": {},
     "output_type": "execute_result"
    }
   ],
   "source": [
    "pol_best_params = study.best_params\n",
    "pol_best_params"
   ]
  },
  {
   "cell_type": "markdown",
   "metadata": {},
   "source": [
    "## Lasso"
   ]
  },
  {
   "cell_type": "code",
   "execution_count": null,
   "metadata": {},
   "outputs": [],
   "source": []
  },
  {
   "cell_type": "code",
   "execution_count": 18,
   "metadata": {},
   "outputs": [],
   "source": [
    "def lasso_fine_tuning(trial):\n",
    "    #degree = trial.suggest_int('degree', 2,4)\n",
    "    alpha = trial.suggest_float('alpha', 0.1,5.0)\n",
    "    #l1_ratio = trial.suggest_int('l1_ratio', 1,10)\n",
    "    max_iter = trial.suggest_int('max_iter', 500,3000)\n",
    "\n",
    "    model_lasso = Lasso(alpha = alpha, max_iter = max_iter)\n",
    "    model_lasso.fit(X_train, y_train)\n",
    "\n",
    "    y_pred = model_lasso.predict(X_val)\n",
    "\n",
    "    return calculate_metrics(y_val, y_pred, 'Lasso')['RMSE']\n"
   ]
  },
  {
   "cell_type": "code",
   "execution_count": 19,
   "metadata": {},
   "outputs": [],
   "source": [
    "study = optuna.create_study(direction='minimize')\n",
    "study.optimize(lasso_fine_tuning, n_trials=500)"
   ]
  },
  {
   "cell_type": "code",
   "execution_count": 20,
   "metadata": {},
   "outputs": [
    {
     "data": {
      "application/vnd.plotly.v1+json": {
       "config": {
        "plotlyServerURL": "https://plot.ly"
       },
       "data": [
        {
         "mode": "markers",
         "name": "Objective Value",
         "type": "scatter",
         "x": [
          0,
          1,
          2,
          3,
          4,
          5,
          6,
          7,
          8,
          9,
          10,
          11,
          12,
          13,
          14,
          15,
          16,
          17,
          18,
          19,
          20,
          21,
          22,
          23,
          24,
          25,
          26,
          27,
          28,
          29,
          30,
          31,
          32,
          33,
          34,
          35,
          36,
          37,
          38,
          39,
          40,
          41,
          42,
          43,
          44,
          45,
          46,
          47,
          48,
          49,
          50,
          51,
          52,
          53,
          54,
          55,
          56,
          57,
          58,
          59,
          60,
          61,
          62,
          63,
          64,
          65,
          66,
          67,
          68,
          69,
          70,
          71,
          72,
          73,
          74,
          75,
          76,
          77,
          78,
          79,
          80,
          81,
          82,
          83,
          84,
          85,
          86,
          87,
          88,
          89,
          90,
          91,
          92,
          93,
          94,
          95,
          96,
          97,
          98,
          99,
          100,
          101,
          102,
          103,
          104,
          105,
          106,
          107,
          108,
          109,
          110,
          111,
          112,
          113,
          114,
          115,
          116,
          117,
          118,
          119,
          120,
          121,
          122,
          123,
          124,
          125,
          126,
          127,
          128,
          129,
          130,
          131,
          132,
          133,
          134,
          135,
          136,
          137,
          138,
          139,
          140,
          141,
          142,
          143,
          144,
          145,
          146,
          147,
          148,
          149,
          150,
          151,
          152,
          153,
          154,
          155,
          156,
          157,
          158,
          159,
          160,
          161,
          162,
          163,
          164,
          165,
          166,
          167,
          168,
          169,
          170,
          171,
          172,
          173,
          174,
          175,
          176,
          177,
          178,
          179,
          180,
          181,
          182,
          183,
          184,
          185,
          186,
          187,
          188,
          189,
          190,
          191,
          192,
          193,
          194,
          195,
          196,
          197,
          198,
          199,
          200,
          201,
          202,
          203,
          204,
          205,
          206,
          207,
          208,
          209,
          210,
          211,
          212,
          213,
          214,
          215,
          216,
          217,
          218,
          219,
          220,
          221,
          222,
          223,
          224,
          225,
          226,
          227,
          228,
          229,
          230,
          231,
          232,
          233,
          234,
          235,
          236,
          237,
          238,
          239,
          240,
          241,
          242,
          243,
          244,
          245,
          246,
          247,
          248,
          249,
          250,
          251,
          252,
          253,
          254,
          255,
          256,
          257,
          258,
          259,
          260,
          261,
          262,
          263,
          264,
          265,
          266,
          267,
          268,
          269,
          270,
          271,
          272,
          273,
          274,
          275,
          276,
          277,
          278,
          279,
          280,
          281,
          282,
          283,
          284,
          285,
          286,
          287,
          288,
          289,
          290,
          291,
          292,
          293,
          294,
          295,
          296,
          297,
          298,
          299,
          300,
          301,
          302,
          303,
          304,
          305,
          306,
          307,
          308,
          309,
          310,
          311,
          312,
          313,
          314,
          315,
          316,
          317,
          318,
          319,
          320,
          321,
          322,
          323,
          324,
          325,
          326,
          327,
          328,
          329,
          330,
          331,
          332,
          333,
          334,
          335,
          336,
          337,
          338,
          339,
          340,
          341,
          342,
          343,
          344,
          345,
          346,
          347,
          348,
          349,
          350,
          351,
          352,
          353,
          354,
          355,
          356,
          357,
          358,
          359,
          360,
          361,
          362,
          363,
          364,
          365,
          366,
          367,
          368,
          369,
          370,
          371,
          372,
          373,
          374,
          375,
          376,
          377,
          378,
          379,
          380,
          381,
          382,
          383,
          384,
          385,
          386,
          387,
          388,
          389,
          390,
          391,
          392,
          393,
          394,
          395,
          396,
          397,
          398,
          399,
          400,
          401,
          402,
          403,
          404,
          405,
          406,
          407,
          408,
          409,
          410,
          411,
          412,
          413,
          414,
          415,
          416,
          417,
          418,
          419,
          420,
          421,
          422,
          423,
          424,
          425,
          426,
          427,
          428,
          429,
          430,
          431,
          432,
          433,
          434,
          435,
          436,
          437,
          438,
          439,
          440,
          441,
          442,
          443,
          444,
          445,
          446,
          447,
          448,
          449,
          450,
          451,
          452,
          453,
          454,
          455,
          456,
          457,
          458,
          459,
          460,
          461,
          462,
          463,
          464,
          465,
          466,
          467,
          468,
          469,
          470,
          471,
          472,
          473,
          474,
          475,
          476,
          477,
          478,
          479,
          480,
          481,
          482,
          483,
          484,
          485,
          486,
          487,
          488,
          489,
          490,
          491,
          492,
          493,
          494,
          495,
          496,
          497,
          498,
          499
         ],
         "y": [
          21.85204694359998,
          21.85204694359998,
          21.81680444919221,
          21.770499394370628,
          21.85204694359998,
          21.85204694359998,
          21.760205560703337,
          21.85204694359998,
          21.85204694359998,
          21.85204694359998,
          21.707067602578974,
          21.447689819873286,
          21.651837305094194,
          21.4783002082293,
          21.483328713853172,
          21.839359879156987,
          21.76831738331689,
          21.85204694359998,
          21.748155975169652,
          21.539721652804143,
          21.792520652112117,
          21.453111063291963,
          21.445903378921766,
          21.746653128797554,
          21.743771939804706,
          21.78004660320163,
          21.747401773325514,
          21.760116291885673,
          21.469821888071547,
          21.73843596891119,
          21.75805205210176,
          21.48904767503748,
          21.715275530180314,
          21.495373269988015,
          21.741185465893746,
          21.781544676119715,
          21.44742875864722,
          21.76610937213776,
          21.72079287365503,
          21.757697337238096,
          21.801561738134392,
          21.4586980822592,
          21.7062688875062,
          21.682860767607263,
          21.750620117764882,
          21.443207047452855,
          21.684279334152258,
          21.77136840640337,
          21.740146380926657,
          21.444013230586986,
          21.756117842363107,
          21.631690267943647,
          21.6696171455019,
          21.48074396896365,
          21.446795371535558,
          21.74026941284393,
          21.74580638787658,
          21.60115116085242,
          21.7660875179652,
          21.66423059772148,
          21.752550741329564,
          21.455899231944265,
          21.738668846272237,
          21.445977574717933,
          21.60564802714199,
          21.729960738313586,
          21.62575692679665,
          21.44196755200992,
          21.741046261784142,
          21.44877158223686,
          21.74988680464271,
          21.571443856832335,
          21.717383180496885,
          21.585174711936833,
          21.462047328083795,
          21.74566365327844,
          21.707401187609708,
          21.76021787352995,
          21.555144660484586,
          21.73669014595615,
          21.4465295877234,
          21.444933089334647,
          21.55953482579347,
          21.690009097094208,
          21.55811115416109,
          21.74070321991524,
          21.706108049696905,
          21.540161120554387,
          21.744792191591735,
          21.442748948311078,
          21.45561247818372,
          21.446271232979,
          21.64314155560115,
          21.442499739883093,
          21.725132534992674,
          21.551337592889826,
          21.680554078978915,
          21.538657200473157,
          21.74093748114706,
          21.753518965418518,
          21.686976208839155,
          21.44314364874888,
          21.513698565151156,
          21.657937475702397,
          21.4935530033688,
          21.443773940721996,
          21.73840580014866,
          21.635852837370926,
          21.441962205334818,
          21.717231743686934,
          21.531634735102138,
          21.53386711555882,
          21.631080695892404,
          21.442608147990402,
          21.444818106938662,
          21.74338140938459,
          21.687145835345575,
          21.72921737074691,
          21.443601569895733,
          21.592457866853692,
          21.515053089670978,
          21.447028031175446,
          21.63694659885111,
          21.52549961264133,
          21.445374051082677,
          21.706400250193568,
          21.738540464425512,
          21.62044174052745,
          21.85204694359998,
          21.449203272445036,
          21.748667552124783,
          21.544916318514357,
          21.680265367401358,
          21.525003530937415,
          21.448944002087185,
          21.66259557309188,
          21.444882943401225,
          21.71888293953184,
          21.56556179487223,
          21.523104119031377,
          21.44362714250479,
          21.462285972035303,
          21.625186545511685,
          21.44679911445169,
          21.680973128760453,
          21.548713180383075,
          21.742403009935316,
          21.4433492211258,
          21.720893433112334,
          21.586952138702873,
          21.679538873126567,
          21.447204070523572,
          21.442162621622458,
          21.53351607915105,
          21.551506745997234,
          21.85204694359998,
          21.79530614049304,
          21.44362701127181,
          21.657092271516145,
          21.532047975902504,
          21.729637878537194,
          21.451810624918522,
          21.521892031438952,
          21.44639378396082,
          21.62574397413085,
          21.4451273061467,
          21.701951707899383,
          21.619651926865863,
          21.536502789783043,
          21.533367863341322,
          21.739592964428837,
          21.442363607706692,
          21.443526957633274,
          21.821663868811378,
          21.645857366298227,
          21.442606746764376,
          21.524351901885048,
          21.702284543794345,
          21.52472755160477,
          21.611732903833722,
          21.759018024101174,
          21.44213521119485,
          21.544628462075956,
          21.508576076789076,
          21.444207767362236,
          21.446297566634822,
          21.780624354746863,
          21.663056804046022,
          21.623047946306862,
          21.708454205090153,
          21.446892085510157,
          21.44500118581478,
          21.528832020907867,
          21.514180162530785,
          21.44494940414464,
          21.613931043873695,
          21.523468632036913,
          21.624016262294287,
          21.76370321274643,
          21.683958374518564,
          21.522013110415454,
          21.4561631715205,
          21.447798175877235,
          21.588434595477693,
          21.512067848445124,
          21.44378823054397,
          21.85204694359998,
          21.582697882372948,
          21.526034310033012,
          21.441803672830442,
          21.85204694359998,
          21.443793602573777,
          21.44339737884342,
          21.443646874626914,
          21.529900133546782,
          21.77768381547458,
          21.658090974747605,
          21.4445051482207,
          21.586541022568188,
          21.68870112009929,
          21.85204694359998,
          21.443076120318867,
          21.443195790118235,
          21.51627377456028,
          21.52048684771071,
          21.443024283424396,
          21.75610497144803,
          21.56378900494495,
          21.613266929470544,
          21.4418361216022,
          21.523798152264668,
          21.85204694359998,
          21.792964620341635,
          21.442454886519734,
          21.44402344979559,
          21.5250197622877,
          21.442234040630876,
          21.61744894090985,
          21.528901429050972,
          21.685219050183488,
          21.521121374747015,
          21.445024195559725,
          21.44461115283448,
          21.808064439354087,
          21.52011945781526,
          21.445360144287854,
          21.572219575005075,
          21.443860445277295,
          21.617808217032536,
          21.773330460371465,
          21.787999156929313,
          21.52244222069874,
          21.762601447729704,
          21.4435472946854,
          21.7712935758108,
          21.830514338694954,
          21.648121973091623,
          21.51801158028056,
          21.71158896977581,
          21.51734133642316,
          21.813866829572323,
          21.60820373455696,
          21.51603649794618,
          21.67745673789446,
          21.518295150712408,
          21.74907594586021,
          21.445683143971788,
          21.600192261599748,
          21.73379391786252,
          21.785533485696067,
          21.51697677012528,
          21.441847705272117,
          21.606183825624825,
          21.801323644819686,
          21.44402877870308,
          21.684056405828034,
          21.52519127801354,
          21.446118158489682,
          21.85204694359998,
          21.84729255853414,
          21.774875571578022,
          21.60407043223966,
          21.729815263773258,
          21.753488890157715,
          21.512538892091815,
          21.598819595633596,
          21.6870781273535,
          21.510547357660965,
          21.446889074921774,
          21.44427502317981,
          21.800992730357283,
          21.591976866599616,
          21.74201132896868,
          21.76533738525721,
          21.526166067362812,
          21.44343539153802,
          21.769394873950855,
          21.85204694359998,
          21.67002503196926,
          21.53466672514464,
          21.760425688843473,
          21.443629092071657,
          21.85204694359998,
          21.85204694359998,
          21.596502645309254,
          21.704221182923366,
          21.44216505298838,
          21.442289776891457,
          21.830564321263402,
          21.53075940126103,
          21.7462626642288,
          21.62649097043166,
          21.732087190209423,
          21.441941471325357,
          21.530168816897696,
          21.810546130436688,
          21.679158431429627,
          21.441933282699218,
          21.85204694359998,
          21.537035760791905,
          21.610298029875683,
          21.85204694359998,
          21.5173466290616,
          21.517909250418857,
          21.684700786831527,
          21.73978340983667,
          21.595340467156635,
          21.849866443181753,
          21.775080062536055,
          21.85204694359998,
          21.44609872727522,
          21.520196327380322,
          21.620611021029603,
          21.780500388705246,
          21.44189743203834,
          21.44267439326619,
          21.716073959454032,
          21.78679655109709,
          21.85204694359998,
          21.76363530133038,
          21.542676460118443,
          21.85204694359998,
          21.507197802306525,
          21.674879678861057,
          21.442132338028575,
          21.443522245900105,
          21.586836734157806,
          21.51971306980128,
          21.44446499001565,
          21.837197023701655,
          21.644995919844323,
          21.518332093615374,
          21.75720560759897,
          21.727893917709583,
          21.85204694359998,
          21.58621925035258,
          21.85204694359998,
          21.444101707922922,
          21.69063019977742,
          21.79045040146085,
          21.85204694359998,
          21.807155895930396,
          21.442343076382354,
          21.76677298305743,
          21.847413708233137,
          21.793611520241637,
          21.78354119655889,
          21.75030320267263,
          21.529033671587378,
          21.85204694359998,
          21.85204694359998,
          21.606458467359754,
          21.52085837757649,
          21.743046473440018,
          21.67322551671843,
          21.52294680961639,
          21.85204694359998,
          21.85204694359998,
          21.511940394157577,
          21.72416618117708,
          21.446755253749643,
          21.626153347388932,
          21.518274180701734,
          21.44224722395067,
          21.442671541126543,
          21.85204694359998,
          21.797942914558046,
          21.609143136951637,
          21.678383254298748,
          21.442893743278095,
          21.813576415077407,
          21.570136458619725,
          21.819417775290216,
          21.755349223944233,
          21.52497264324246,
          21.44350268868561,
          21.85204694359998,
          21.85204694359998,
          21.740661227083123,
          21.443176355217275,
          21.71363341390264,
          21.610913883631895,
          21.85204694359998,
          21.80513334075608,
          21.524039365554238,
          21.67707588355607,
          21.44401459279635,
          21.85204694359998,
          21.523954119845868,
          21.441850222707394,
          21.58559248924287,
          21.52832997720381,
          21.830162308748523,
          21.66458874815081,
          21.52007960076414,
          21.711760816691758,
          21.85204694359998,
          21.85204694359998,
          21.828621515591117,
          21.738533416040763,
          21.600469605565053,
          21.77431935464779,
          21.85204694359998,
          21.511562760886996,
          21.445449837535545,
          21.761418037479412,
          21.85204694359998,
          21.83870362756204,
          21.624544310876107,
          21.521552418828414,
          21.74595404019792,
          21.443681017022946,
          21.770113424050624,
          21.816533520835414,
          21.85204694359998,
          21.782284592487166,
          21.76744280112195,
          21.85204694359998,
          21.68429195788614,
          21.85204694359998,
          21.791362258520937,
          21.581762670846658,
          21.85204694359998,
          21.85204694359998,
          21.443092119578377,
          21.85204694359998,
          21.75693219711193,
          21.85204694359998,
          21.526950929877344,
          21.618411765412155,
          21.522367216805634,
          21.715680263670222,
          21.514953786816452,
          21.798135766926286,
          21.85204694359998,
          21.443619802604484,
          21.668077314740216,
          21.818464760067872,
          21.57182928032078,
          21.442522125454527,
          21.442221440382667,
          21.85204694359998,
          21.73910282528212,
          21.85204694359998,
          21.511007599749128,
          21.618585923972226,
          21.85204694359998,
          21.85204694359998,
          21.74941842612115,
          21.444756450263405,
          21.691870902482414,
          21.520897214833692,
          21.60662036986515,
          21.80127098152612,
          21.85204694359998,
          21.51384457804688,
          21.519172739389433,
          21.714389817272064,
          21.60704685763188,
          21.506569690873377,
          21.85204694359998,
          21.808609769600096,
          21.671678789661193,
          21.78040629617405,
          21.446382785528705,
          21.58867133076847,
          21.760113583192503,
          21.743158714242018,
          21.44436433750621,
          21.85204694359998,
          21.85204694359998,
          21.76771099431817,
          21.521737178172575,
          21.843162852655176,
          21.85204694359998,
          21.85204694359998,
          21.444043907046744,
          21.681070391116123,
          21.442176253881872,
          21.85204694359998
         ]
        },
        {
         "mode": "lines",
         "name": "Best Value",
         "type": "scatter",
         "x": [
          0,
          1,
          2,
          3,
          4,
          5,
          6,
          7,
          8,
          9,
          10,
          11,
          12,
          13,
          14,
          15,
          16,
          17,
          18,
          19,
          20,
          21,
          22,
          23,
          24,
          25,
          26,
          27,
          28,
          29,
          30,
          31,
          32,
          33,
          34,
          35,
          36,
          37,
          38,
          39,
          40,
          41,
          42,
          43,
          44,
          45,
          46,
          47,
          48,
          49,
          50,
          51,
          52,
          53,
          54,
          55,
          56,
          57,
          58,
          59,
          60,
          61,
          62,
          63,
          64,
          65,
          66,
          67,
          68,
          69,
          70,
          71,
          72,
          73,
          74,
          75,
          76,
          77,
          78,
          79,
          80,
          81,
          82,
          83,
          84,
          85,
          86,
          87,
          88,
          89,
          90,
          91,
          92,
          93,
          94,
          95,
          96,
          97,
          98,
          99,
          100,
          101,
          102,
          103,
          104,
          105,
          106,
          107,
          108,
          109,
          110,
          111,
          112,
          113,
          114,
          115,
          116,
          117,
          118,
          119,
          120,
          121,
          122,
          123,
          124,
          125,
          126,
          127,
          128,
          129,
          130,
          131,
          132,
          133,
          134,
          135,
          136,
          137,
          138,
          139,
          140,
          141,
          142,
          143,
          144,
          145,
          146,
          147,
          148,
          149,
          150,
          151,
          152,
          153,
          154,
          155,
          156,
          157,
          158,
          159,
          160,
          161,
          162,
          163,
          164,
          165,
          166,
          167,
          168,
          169,
          170,
          171,
          172,
          173,
          174,
          175,
          176,
          177,
          178,
          179,
          180,
          181,
          182,
          183,
          184,
          185,
          186,
          187,
          188,
          189,
          190,
          191,
          192,
          193,
          194,
          195,
          196,
          197,
          198,
          199,
          200,
          201,
          202,
          203,
          204,
          205,
          206,
          207,
          208,
          209,
          210,
          211,
          212,
          213,
          214,
          215,
          216,
          217,
          218,
          219,
          220,
          221,
          222,
          223,
          224,
          225,
          226,
          227,
          228,
          229,
          230,
          231,
          232,
          233,
          234,
          235,
          236,
          237,
          238,
          239,
          240,
          241,
          242,
          243,
          244,
          245,
          246,
          247,
          248,
          249,
          250,
          251,
          252,
          253,
          254,
          255,
          256,
          257,
          258,
          259,
          260,
          261,
          262,
          263,
          264,
          265,
          266,
          267,
          268,
          269,
          270,
          271,
          272,
          273,
          274,
          275,
          276,
          277,
          278,
          279,
          280,
          281,
          282,
          283,
          284,
          285,
          286,
          287,
          288,
          289,
          290,
          291,
          292,
          293,
          294,
          295,
          296,
          297,
          298,
          299,
          300,
          301,
          302,
          303,
          304,
          305,
          306,
          307,
          308,
          309,
          310,
          311,
          312,
          313,
          314,
          315,
          316,
          317,
          318,
          319,
          320,
          321,
          322,
          323,
          324,
          325,
          326,
          327,
          328,
          329,
          330,
          331,
          332,
          333,
          334,
          335,
          336,
          337,
          338,
          339,
          340,
          341,
          342,
          343,
          344,
          345,
          346,
          347,
          348,
          349,
          350,
          351,
          352,
          353,
          354,
          355,
          356,
          357,
          358,
          359,
          360,
          361,
          362,
          363,
          364,
          365,
          366,
          367,
          368,
          369,
          370,
          371,
          372,
          373,
          374,
          375,
          376,
          377,
          378,
          379,
          380,
          381,
          382,
          383,
          384,
          385,
          386,
          387,
          388,
          389,
          390,
          391,
          392,
          393,
          394,
          395,
          396,
          397,
          398,
          399,
          400,
          401,
          402,
          403,
          404,
          405,
          406,
          407,
          408,
          409,
          410,
          411,
          412,
          413,
          414,
          415,
          416,
          417,
          418,
          419,
          420,
          421,
          422,
          423,
          424,
          425,
          426,
          427,
          428,
          429,
          430,
          431,
          432,
          433,
          434,
          435,
          436,
          437,
          438,
          439,
          440,
          441,
          442,
          443,
          444,
          445,
          446,
          447,
          448,
          449,
          450,
          451,
          452,
          453,
          454,
          455,
          456,
          457,
          458,
          459,
          460,
          461,
          462,
          463,
          464,
          465,
          466,
          467,
          468,
          469,
          470,
          471,
          472,
          473,
          474,
          475,
          476,
          477,
          478,
          479,
          480,
          481,
          482,
          483,
          484,
          485,
          486,
          487,
          488,
          489,
          490,
          491,
          492,
          493,
          494,
          495,
          496,
          497,
          498,
          499
         ],
         "y": [
          21.85204694359998,
          21.85204694359998,
          21.81680444919221,
          21.770499394370628,
          21.770499394370628,
          21.770499394370628,
          21.760205560703337,
          21.760205560703337,
          21.760205560703337,
          21.760205560703337,
          21.707067602578974,
          21.447689819873286,
          21.447689819873286,
          21.447689819873286,
          21.447689819873286,
          21.447689819873286,
          21.447689819873286,
          21.447689819873286,
          21.447689819873286,
          21.447689819873286,
          21.447689819873286,
          21.447689819873286,
          21.445903378921766,
          21.445903378921766,
          21.445903378921766,
          21.445903378921766,
          21.445903378921766,
          21.445903378921766,
          21.445903378921766,
          21.445903378921766,
          21.445903378921766,
          21.445903378921766,
          21.445903378921766,
          21.445903378921766,
          21.445903378921766,
          21.445903378921766,
          21.445903378921766,
          21.445903378921766,
          21.445903378921766,
          21.445903378921766,
          21.445903378921766,
          21.445903378921766,
          21.445903378921766,
          21.445903378921766,
          21.445903378921766,
          21.443207047452855,
          21.443207047452855,
          21.443207047452855,
          21.443207047452855,
          21.443207047452855,
          21.443207047452855,
          21.443207047452855,
          21.443207047452855,
          21.443207047452855,
          21.443207047452855,
          21.443207047452855,
          21.443207047452855,
          21.443207047452855,
          21.443207047452855,
          21.443207047452855,
          21.443207047452855,
          21.443207047452855,
          21.443207047452855,
          21.443207047452855,
          21.443207047452855,
          21.443207047452855,
          21.443207047452855,
          21.44196755200992,
          21.44196755200992,
          21.44196755200992,
          21.44196755200992,
          21.44196755200992,
          21.44196755200992,
          21.44196755200992,
          21.44196755200992,
          21.44196755200992,
          21.44196755200992,
          21.44196755200992,
          21.44196755200992,
          21.44196755200992,
          21.44196755200992,
          21.44196755200992,
          21.44196755200992,
          21.44196755200992,
          21.44196755200992,
          21.44196755200992,
          21.44196755200992,
          21.44196755200992,
          21.44196755200992,
          21.44196755200992,
          21.44196755200992,
          21.44196755200992,
          21.44196755200992,
          21.44196755200992,
          21.44196755200992,
          21.44196755200992,
          21.44196755200992,
          21.44196755200992,
          21.44196755200992,
          21.44196755200992,
          21.44196755200992,
          21.44196755200992,
          21.44196755200992,
          21.44196755200992,
          21.44196755200992,
          21.44196755200992,
          21.44196755200992,
          21.44196755200992,
          21.441962205334818,
          21.441962205334818,
          21.441962205334818,
          21.441962205334818,
          21.441962205334818,
          21.441962205334818,
          21.441962205334818,
          21.441962205334818,
          21.441962205334818,
          21.441962205334818,
          21.441962205334818,
          21.441962205334818,
          21.441962205334818,
          21.441962205334818,
          21.441962205334818,
          21.441962205334818,
          21.441962205334818,
          21.441962205334818,
          21.441962205334818,
          21.441962205334818,
          21.441962205334818,
          21.441962205334818,
          21.441962205334818,
          21.441962205334818,
          21.441962205334818,
          21.441962205334818,
          21.441962205334818,
          21.441962205334818,
          21.441962205334818,
          21.441962205334818,
          21.441962205334818,
          21.441962205334818,
          21.441962205334818,
          21.441962205334818,
          21.441962205334818,
          21.441962205334818,
          21.441962205334818,
          21.441962205334818,
          21.441962205334818,
          21.441962205334818,
          21.441962205334818,
          21.441962205334818,
          21.441962205334818,
          21.441962205334818,
          21.441962205334818,
          21.441962205334818,
          21.441962205334818,
          21.441962205334818,
          21.441962205334818,
          21.441962205334818,
          21.441962205334818,
          21.441962205334818,
          21.441962205334818,
          21.441962205334818,
          21.441962205334818,
          21.441962205334818,
          21.441962205334818,
          21.441962205334818,
          21.441962205334818,
          21.441962205334818,
          21.441962205334818,
          21.441962205334818,
          21.441962205334818,
          21.441962205334818,
          21.441962205334818,
          21.441962205334818,
          21.441962205334818,
          21.441962205334818,
          21.441962205334818,
          21.441962205334818,
          21.441962205334818,
          21.441962205334818,
          21.441962205334818,
          21.441962205334818,
          21.441962205334818,
          21.441962205334818,
          21.441962205334818,
          21.441962205334818,
          21.441962205334818,
          21.441962205334818,
          21.441962205334818,
          21.441962205334818,
          21.441962205334818,
          21.441962205334818,
          21.441962205334818,
          21.441962205334818,
          21.441962205334818,
          21.441962205334818,
          21.441962205334818,
          21.441962205334818,
          21.441962205334818,
          21.441962205334818,
          21.441962205334818,
          21.441962205334818,
          21.441962205334818,
          21.441962205334818,
          21.441962205334818,
          21.441962205334818,
          21.441962205334818,
          21.441962205334818,
          21.441962205334818,
          21.441803672830442,
          21.441803672830442,
          21.441803672830442,
          21.441803672830442,
          21.441803672830442,
          21.441803672830442,
          21.441803672830442,
          21.441803672830442,
          21.441803672830442,
          21.441803672830442,
          21.441803672830442,
          21.441803672830442,
          21.441803672830442,
          21.441803672830442,
          21.441803672830442,
          21.441803672830442,
          21.441803672830442,
          21.441803672830442,
          21.441803672830442,
          21.441803672830442,
          21.441803672830442,
          21.441803672830442,
          21.441803672830442,
          21.441803672830442,
          21.441803672830442,
          21.441803672830442,
          21.441803672830442,
          21.441803672830442,
          21.441803672830442,
          21.441803672830442,
          21.441803672830442,
          21.441803672830442,
          21.441803672830442,
          21.441803672830442,
          21.441803672830442,
          21.441803672830442,
          21.441803672830442,
          21.441803672830442,
          21.441803672830442,
          21.441803672830442,
          21.441803672830442,
          21.441803672830442,
          21.441803672830442,
          21.441803672830442,
          21.441803672830442,
          21.441803672830442,
          21.441803672830442,
          21.441803672830442,
          21.441803672830442,
          21.441803672830442,
          21.441803672830442,
          21.441803672830442,
          21.441803672830442,
          21.441803672830442,
          21.441803672830442,
          21.441803672830442,
          21.441803672830442,
          21.441803672830442,
          21.441803672830442,
          21.441803672830442,
          21.441803672830442,
          21.441803672830442,
          21.441803672830442,
          21.441803672830442,
          21.441803672830442,
          21.441803672830442,
          21.441803672830442,
          21.441803672830442,
          21.441803672830442,
          21.441803672830442,
          21.441803672830442,
          21.441803672830442,
          21.441803672830442,
          21.441803672830442,
          21.441803672830442,
          21.441803672830442,
          21.441803672830442,
          21.441803672830442,
          21.441803672830442,
          21.441803672830442,
          21.441803672830442,
          21.441803672830442,
          21.441803672830442,
          21.441803672830442,
          21.441803672830442,
          21.441803672830442,
          21.441803672830442,
          21.441803672830442,
          21.441803672830442,
          21.441803672830442,
          21.441803672830442,
          21.441803672830442,
          21.441803672830442,
          21.441803672830442,
          21.441803672830442,
          21.441803672830442,
          21.441803672830442,
          21.441803672830442,
          21.441803672830442,
          21.441803672830442,
          21.441803672830442,
          21.441803672830442,
          21.441803672830442,
          21.441803672830442,
          21.441803672830442,
          21.441803672830442,
          21.441803672830442,
          21.441803672830442,
          21.441803672830442,
          21.441803672830442,
          21.441803672830442,
          21.441803672830442,
          21.441803672830442,
          21.441803672830442,
          21.441803672830442,
          21.441803672830442,
          21.441803672830442,
          21.441803672830442,
          21.441803672830442,
          21.441803672830442,
          21.441803672830442,
          21.441803672830442,
          21.441803672830442,
          21.441803672830442,
          21.441803672830442,
          21.441803672830442,
          21.441803672830442,
          21.441803672830442,
          21.441803672830442,
          21.441803672830442,
          21.441803672830442,
          21.441803672830442,
          21.441803672830442,
          21.441803672830442,
          21.441803672830442,
          21.441803672830442,
          21.441803672830442,
          21.441803672830442,
          21.441803672830442,
          21.441803672830442,
          21.441803672830442,
          21.441803672830442,
          21.441803672830442,
          21.441803672830442,
          21.441803672830442,
          21.441803672830442,
          21.441803672830442,
          21.441803672830442,
          21.441803672830442,
          21.441803672830442,
          21.441803672830442,
          21.441803672830442,
          21.441803672830442,
          21.441803672830442,
          21.441803672830442,
          21.441803672830442,
          21.441803672830442,
          21.441803672830442,
          21.441803672830442,
          21.441803672830442,
          21.441803672830442,
          21.441803672830442,
          21.441803672830442,
          21.441803672830442,
          21.441803672830442,
          21.441803672830442,
          21.441803672830442,
          21.441803672830442,
          21.441803672830442,
          21.441803672830442,
          21.441803672830442,
          21.441803672830442,
          21.441803672830442,
          21.441803672830442,
          21.441803672830442,
          21.441803672830442,
          21.441803672830442,
          21.441803672830442,
          21.441803672830442,
          21.441803672830442,
          21.441803672830442,
          21.441803672830442,
          21.441803672830442,
          21.441803672830442,
          21.441803672830442,
          21.441803672830442,
          21.441803672830442,
          21.441803672830442,
          21.441803672830442,
          21.441803672830442,
          21.441803672830442,
          21.441803672830442,
          21.441803672830442,
          21.441803672830442,
          21.441803672830442,
          21.441803672830442,
          21.441803672830442,
          21.441803672830442,
          21.441803672830442,
          21.441803672830442,
          21.441803672830442,
          21.441803672830442,
          21.441803672830442,
          21.441803672830442,
          21.441803672830442,
          21.441803672830442,
          21.441803672830442,
          21.441803672830442,
          21.441803672830442,
          21.441803672830442,
          21.441803672830442,
          21.441803672830442,
          21.441803672830442,
          21.441803672830442,
          21.441803672830442,
          21.441803672830442,
          21.441803672830442,
          21.441803672830442,
          21.441803672830442,
          21.441803672830442,
          21.441803672830442,
          21.441803672830442,
          21.441803672830442,
          21.441803672830442,
          21.441803672830442,
          21.441803672830442,
          21.441803672830442,
          21.441803672830442,
          21.441803672830442,
          21.441803672830442,
          21.441803672830442,
          21.441803672830442,
          21.441803672830442,
          21.441803672830442,
          21.441803672830442,
          21.441803672830442,
          21.441803672830442,
          21.441803672830442,
          21.441803672830442,
          21.441803672830442,
          21.441803672830442,
          21.441803672830442,
          21.441803672830442,
          21.441803672830442,
          21.441803672830442,
          21.441803672830442,
          21.441803672830442,
          21.441803672830442,
          21.441803672830442,
          21.441803672830442,
          21.441803672830442,
          21.441803672830442,
          21.441803672830442,
          21.441803672830442,
          21.441803672830442,
          21.441803672830442,
          21.441803672830442,
          21.441803672830442,
          21.441803672830442,
          21.441803672830442,
          21.441803672830442,
          21.441803672830442,
          21.441803672830442,
          21.441803672830442,
          21.441803672830442,
          21.441803672830442,
          21.441803672830442,
          21.441803672830442,
          21.441803672830442,
          21.441803672830442,
          21.441803672830442,
          21.441803672830442,
          21.441803672830442,
          21.441803672830442,
          21.441803672830442,
          21.441803672830442,
          21.441803672830442,
          21.441803672830442,
          21.441803672830442,
          21.441803672830442,
          21.441803672830442,
          21.441803672830442,
          21.441803672830442,
          21.441803672830442,
          21.441803672830442,
          21.441803672830442,
          21.441803672830442,
          21.441803672830442,
          21.441803672830442,
          21.441803672830442,
          21.441803672830442
         ]
        },
        {
         "marker": {
          "color": "#cccccc"
         },
         "mode": "markers",
         "name": "Infeasible Trial",
         "showlegend": false,
         "type": "scatter",
         "x": [],
         "y": []
        }
       ],
       "layout": {
        "template": {
         "data": {
          "bar": [
           {
            "error_x": {
             "color": "#2a3f5f"
            },
            "error_y": {
             "color": "#2a3f5f"
            },
            "marker": {
             "line": {
              "color": "#E5ECF6",
              "width": 0.5
             },
             "pattern": {
              "fillmode": "overlay",
              "size": 10,
              "solidity": 0.2
             }
            },
            "type": "bar"
           }
          ],
          "barpolar": [
           {
            "marker": {
             "line": {
              "color": "#E5ECF6",
              "width": 0.5
             },
             "pattern": {
              "fillmode": "overlay",
              "size": 10,
              "solidity": 0.2
             }
            },
            "type": "barpolar"
           }
          ],
          "carpet": [
           {
            "aaxis": {
             "endlinecolor": "#2a3f5f",
             "gridcolor": "white",
             "linecolor": "white",
             "minorgridcolor": "white",
             "startlinecolor": "#2a3f5f"
            },
            "baxis": {
             "endlinecolor": "#2a3f5f",
             "gridcolor": "white",
             "linecolor": "white",
             "minorgridcolor": "white",
             "startlinecolor": "#2a3f5f"
            },
            "type": "carpet"
           }
          ],
          "choropleth": [
           {
            "colorbar": {
             "outlinewidth": 0,
             "ticks": ""
            },
            "type": "choropleth"
           }
          ],
          "contour": [
           {
            "colorbar": {
             "outlinewidth": 0,
             "ticks": ""
            },
            "colorscale": [
             [
              0,
              "#0d0887"
             ],
             [
              0.1111111111111111,
              "#46039f"
             ],
             [
              0.2222222222222222,
              "#7201a8"
             ],
             [
              0.3333333333333333,
              "#9c179e"
             ],
             [
              0.4444444444444444,
              "#bd3786"
             ],
             [
              0.5555555555555556,
              "#d8576b"
             ],
             [
              0.6666666666666666,
              "#ed7953"
             ],
             [
              0.7777777777777778,
              "#fb9f3a"
             ],
             [
              0.8888888888888888,
              "#fdca26"
             ],
             [
              1,
              "#f0f921"
             ]
            ],
            "type": "contour"
           }
          ],
          "contourcarpet": [
           {
            "colorbar": {
             "outlinewidth": 0,
             "ticks": ""
            },
            "type": "contourcarpet"
           }
          ],
          "heatmap": [
           {
            "colorbar": {
             "outlinewidth": 0,
             "ticks": ""
            },
            "colorscale": [
             [
              0,
              "#0d0887"
             ],
             [
              0.1111111111111111,
              "#46039f"
             ],
             [
              0.2222222222222222,
              "#7201a8"
             ],
             [
              0.3333333333333333,
              "#9c179e"
             ],
             [
              0.4444444444444444,
              "#bd3786"
             ],
             [
              0.5555555555555556,
              "#d8576b"
             ],
             [
              0.6666666666666666,
              "#ed7953"
             ],
             [
              0.7777777777777778,
              "#fb9f3a"
             ],
             [
              0.8888888888888888,
              "#fdca26"
             ],
             [
              1,
              "#f0f921"
             ]
            ],
            "type": "heatmap"
           }
          ],
          "heatmapgl": [
           {
            "colorbar": {
             "outlinewidth": 0,
             "ticks": ""
            },
            "colorscale": [
             [
              0,
              "#0d0887"
             ],
             [
              0.1111111111111111,
              "#46039f"
             ],
             [
              0.2222222222222222,
              "#7201a8"
             ],
             [
              0.3333333333333333,
              "#9c179e"
             ],
             [
              0.4444444444444444,
              "#bd3786"
             ],
             [
              0.5555555555555556,
              "#d8576b"
             ],
             [
              0.6666666666666666,
              "#ed7953"
             ],
             [
              0.7777777777777778,
              "#fb9f3a"
             ],
             [
              0.8888888888888888,
              "#fdca26"
             ],
             [
              1,
              "#f0f921"
             ]
            ],
            "type": "heatmapgl"
           }
          ],
          "histogram": [
           {
            "marker": {
             "pattern": {
              "fillmode": "overlay",
              "size": 10,
              "solidity": 0.2
             }
            },
            "type": "histogram"
           }
          ],
          "histogram2d": [
           {
            "colorbar": {
             "outlinewidth": 0,
             "ticks": ""
            },
            "colorscale": [
             [
              0,
              "#0d0887"
             ],
             [
              0.1111111111111111,
              "#46039f"
             ],
             [
              0.2222222222222222,
              "#7201a8"
             ],
             [
              0.3333333333333333,
              "#9c179e"
             ],
             [
              0.4444444444444444,
              "#bd3786"
             ],
             [
              0.5555555555555556,
              "#d8576b"
             ],
             [
              0.6666666666666666,
              "#ed7953"
             ],
             [
              0.7777777777777778,
              "#fb9f3a"
             ],
             [
              0.8888888888888888,
              "#fdca26"
             ],
             [
              1,
              "#f0f921"
             ]
            ],
            "type": "histogram2d"
           }
          ],
          "histogram2dcontour": [
           {
            "colorbar": {
             "outlinewidth": 0,
             "ticks": ""
            },
            "colorscale": [
             [
              0,
              "#0d0887"
             ],
             [
              0.1111111111111111,
              "#46039f"
             ],
             [
              0.2222222222222222,
              "#7201a8"
             ],
             [
              0.3333333333333333,
              "#9c179e"
             ],
             [
              0.4444444444444444,
              "#bd3786"
             ],
             [
              0.5555555555555556,
              "#d8576b"
             ],
             [
              0.6666666666666666,
              "#ed7953"
             ],
             [
              0.7777777777777778,
              "#fb9f3a"
             ],
             [
              0.8888888888888888,
              "#fdca26"
             ],
             [
              1,
              "#f0f921"
             ]
            ],
            "type": "histogram2dcontour"
           }
          ],
          "mesh3d": [
           {
            "colorbar": {
             "outlinewidth": 0,
             "ticks": ""
            },
            "type": "mesh3d"
           }
          ],
          "parcoords": [
           {
            "line": {
             "colorbar": {
              "outlinewidth": 0,
              "ticks": ""
             }
            },
            "type": "parcoords"
           }
          ],
          "pie": [
           {
            "automargin": true,
            "type": "pie"
           }
          ],
          "scatter": [
           {
            "fillpattern": {
             "fillmode": "overlay",
             "size": 10,
             "solidity": 0.2
            },
            "type": "scatter"
           }
          ],
          "scatter3d": [
           {
            "line": {
             "colorbar": {
              "outlinewidth": 0,
              "ticks": ""
             }
            },
            "marker": {
             "colorbar": {
              "outlinewidth": 0,
              "ticks": ""
             }
            },
            "type": "scatter3d"
           }
          ],
          "scattercarpet": [
           {
            "marker": {
             "colorbar": {
              "outlinewidth": 0,
              "ticks": ""
             }
            },
            "type": "scattercarpet"
           }
          ],
          "scattergeo": [
           {
            "marker": {
             "colorbar": {
              "outlinewidth": 0,
              "ticks": ""
             }
            },
            "type": "scattergeo"
           }
          ],
          "scattergl": [
           {
            "marker": {
             "colorbar": {
              "outlinewidth": 0,
              "ticks": ""
             }
            },
            "type": "scattergl"
           }
          ],
          "scattermapbox": [
           {
            "marker": {
             "colorbar": {
              "outlinewidth": 0,
              "ticks": ""
             }
            },
            "type": "scattermapbox"
           }
          ],
          "scatterpolar": [
           {
            "marker": {
             "colorbar": {
              "outlinewidth": 0,
              "ticks": ""
             }
            },
            "type": "scatterpolar"
           }
          ],
          "scatterpolargl": [
           {
            "marker": {
             "colorbar": {
              "outlinewidth": 0,
              "ticks": ""
             }
            },
            "type": "scatterpolargl"
           }
          ],
          "scatterternary": [
           {
            "marker": {
             "colorbar": {
              "outlinewidth": 0,
              "ticks": ""
             }
            },
            "type": "scatterternary"
           }
          ],
          "surface": [
           {
            "colorbar": {
             "outlinewidth": 0,
             "ticks": ""
            },
            "colorscale": [
             [
              0,
              "#0d0887"
             ],
             [
              0.1111111111111111,
              "#46039f"
             ],
             [
              0.2222222222222222,
              "#7201a8"
             ],
             [
              0.3333333333333333,
              "#9c179e"
             ],
             [
              0.4444444444444444,
              "#bd3786"
             ],
             [
              0.5555555555555556,
              "#d8576b"
             ],
             [
              0.6666666666666666,
              "#ed7953"
             ],
             [
              0.7777777777777778,
              "#fb9f3a"
             ],
             [
              0.8888888888888888,
              "#fdca26"
             ],
             [
              1,
              "#f0f921"
             ]
            ],
            "type": "surface"
           }
          ],
          "table": [
           {
            "cells": {
             "fill": {
              "color": "#EBF0F8"
             },
             "line": {
              "color": "white"
             }
            },
            "header": {
             "fill": {
              "color": "#C8D4E3"
             },
             "line": {
              "color": "white"
             }
            },
            "type": "table"
           }
          ]
         },
         "layout": {
          "annotationdefaults": {
           "arrowcolor": "#2a3f5f",
           "arrowhead": 0,
           "arrowwidth": 1
          },
          "autotypenumbers": "strict",
          "coloraxis": {
           "colorbar": {
            "outlinewidth": 0,
            "ticks": ""
           }
          },
          "colorscale": {
           "diverging": [
            [
             0,
             "#8e0152"
            ],
            [
             0.1,
             "#c51b7d"
            ],
            [
             0.2,
             "#de77ae"
            ],
            [
             0.3,
             "#f1b6da"
            ],
            [
             0.4,
             "#fde0ef"
            ],
            [
             0.5,
             "#f7f7f7"
            ],
            [
             0.6,
             "#e6f5d0"
            ],
            [
             0.7,
             "#b8e186"
            ],
            [
             0.8,
             "#7fbc41"
            ],
            [
             0.9,
             "#4d9221"
            ],
            [
             1,
             "#276419"
            ]
           ],
           "sequential": [
            [
             0,
             "#0d0887"
            ],
            [
             0.1111111111111111,
             "#46039f"
            ],
            [
             0.2222222222222222,
             "#7201a8"
            ],
            [
             0.3333333333333333,
             "#9c179e"
            ],
            [
             0.4444444444444444,
             "#bd3786"
            ],
            [
             0.5555555555555556,
             "#d8576b"
            ],
            [
             0.6666666666666666,
             "#ed7953"
            ],
            [
             0.7777777777777778,
             "#fb9f3a"
            ],
            [
             0.8888888888888888,
             "#fdca26"
            ],
            [
             1,
             "#f0f921"
            ]
           ],
           "sequentialminus": [
            [
             0,
             "#0d0887"
            ],
            [
             0.1111111111111111,
             "#46039f"
            ],
            [
             0.2222222222222222,
             "#7201a8"
            ],
            [
             0.3333333333333333,
             "#9c179e"
            ],
            [
             0.4444444444444444,
             "#bd3786"
            ],
            [
             0.5555555555555556,
             "#d8576b"
            ],
            [
             0.6666666666666666,
             "#ed7953"
            ],
            [
             0.7777777777777778,
             "#fb9f3a"
            ],
            [
             0.8888888888888888,
             "#fdca26"
            ],
            [
             1,
             "#f0f921"
            ]
           ]
          },
          "colorway": [
           "#636efa",
           "#EF553B",
           "#00cc96",
           "#ab63fa",
           "#FFA15A",
           "#19d3f3",
           "#FF6692",
           "#B6E880",
           "#FF97FF",
           "#FECB52"
          ],
          "font": {
           "color": "#2a3f5f"
          },
          "geo": {
           "bgcolor": "white",
           "lakecolor": "white",
           "landcolor": "#E5ECF6",
           "showlakes": true,
           "showland": true,
           "subunitcolor": "white"
          },
          "hoverlabel": {
           "align": "left"
          },
          "hovermode": "closest",
          "mapbox": {
           "style": "light"
          },
          "paper_bgcolor": "white",
          "plot_bgcolor": "#E5ECF6",
          "polar": {
           "angularaxis": {
            "gridcolor": "white",
            "linecolor": "white",
            "ticks": ""
           },
           "bgcolor": "#E5ECF6",
           "radialaxis": {
            "gridcolor": "white",
            "linecolor": "white",
            "ticks": ""
           }
          },
          "scene": {
           "xaxis": {
            "backgroundcolor": "#E5ECF6",
            "gridcolor": "white",
            "gridwidth": 2,
            "linecolor": "white",
            "showbackground": true,
            "ticks": "",
            "zerolinecolor": "white"
           },
           "yaxis": {
            "backgroundcolor": "#E5ECF6",
            "gridcolor": "white",
            "gridwidth": 2,
            "linecolor": "white",
            "showbackground": true,
            "ticks": "",
            "zerolinecolor": "white"
           },
           "zaxis": {
            "backgroundcolor": "#E5ECF6",
            "gridcolor": "white",
            "gridwidth": 2,
            "linecolor": "white",
            "showbackground": true,
            "ticks": "",
            "zerolinecolor": "white"
           }
          },
          "shapedefaults": {
           "line": {
            "color": "#2a3f5f"
           }
          },
          "ternary": {
           "aaxis": {
            "gridcolor": "white",
            "linecolor": "white",
            "ticks": ""
           },
           "baxis": {
            "gridcolor": "white",
            "linecolor": "white",
            "ticks": ""
           },
           "bgcolor": "#E5ECF6",
           "caxis": {
            "gridcolor": "white",
            "linecolor": "white",
            "ticks": ""
           }
          },
          "title": {
           "x": 0.05
          },
          "xaxis": {
           "automargin": true,
           "gridcolor": "white",
           "linecolor": "white",
           "ticks": "",
           "title": {
            "standoff": 15
           },
           "zerolinecolor": "white",
           "zerolinewidth": 2
          },
          "yaxis": {
           "automargin": true,
           "gridcolor": "white",
           "linecolor": "white",
           "ticks": "",
           "title": {
            "standoff": 15
           },
           "zerolinecolor": "white",
           "zerolinewidth": 2
          }
         }
        },
        "title": {
         "text": "Optimization History Plot"
        },
        "xaxis": {
         "title": {
          "text": "Trial"
         }
        },
        "yaxis": {
         "title": {
          "text": "Objective Value"
         }
        }
       }
      }
     },
     "metadata": {},
     "output_type": "display_data"
    }
   ],
   "source": [
    "optuna.visualization.plot_optimization_history(study)"
   ]
  },
  {
   "cell_type": "code",
   "execution_count": 21,
   "metadata": {},
   "outputs": [
    {
     "data": {
      "text/plain": [
       "{'alpha': 0.10001960582461196, 'max_iter': 2138}"
      ]
     },
     "execution_count": 21,
     "metadata": {},
     "output_type": "execute_result"
    }
   ],
   "source": [
    "lasso_best_params = study.best_params\n",
    "lasso_best_params"
   ]
  },
  {
   "cell_type": "markdown",
   "metadata": {},
   "source": [
    "## Ridge"
   ]
  },
  {
   "cell_type": "code",
   "execution_count": 22,
   "metadata": {},
   "outputs": [],
   "source": [
    "def ridge_fine_tuning(trial):\n",
    "    #degree = trial.suggest_int('degree', 2,4)\n",
    "    alpha = trial.suggest_float('alpha', 0.1,5.0)\n",
    "    #l1_ratio = trial.suggest_int('l1_ratio', 1,10)\n",
    "    max_iter = trial.suggest_int('max_iter', 500,3000)\n",
    "\n",
    "    model_ridge = Ridge(alpha = alpha, max_iter = max_iter)\n",
    "    model_ridge.fit(X_train, y_train)\n",
    "\n",
    "    y_pred = model_ridge.predict(X_val)\n",
    "\n",
    "    return calculate_metrics(y_val, y_pred, 'Lasso')['RMSE']\n"
   ]
  },
  {
   "cell_type": "code",
   "execution_count": 23,
   "metadata": {},
   "outputs": [],
   "source": [
    "study = optuna.create_study(direction='minimize')\n",
    "study.optimize(ridge_fine_tuning, n_trials=500)"
   ]
  },
  {
   "cell_type": "code",
   "execution_count": 24,
   "metadata": {},
   "outputs": [
    {
     "data": {
      "application/vnd.plotly.v1+json": {
       "config": {
        "plotlyServerURL": "https://plot.ly"
       },
       "data": [
        {
         "mode": "markers",
         "name": "Objective Value",
         "type": "scatter",
         "x": [
          0,
          1,
          2,
          3,
          4,
          5,
          6,
          7,
          8,
          9,
          10,
          11,
          12,
          13,
          14,
          15,
          16,
          17,
          18,
          19,
          20,
          21,
          22,
          23,
          24,
          25,
          26,
          27,
          28,
          29,
          30,
          31,
          32,
          33,
          34,
          35,
          36,
          37,
          38,
          39,
          40,
          41,
          42,
          43,
          44,
          45,
          46,
          47,
          48,
          49,
          50,
          51,
          52,
          53,
          54,
          55,
          56,
          57,
          58,
          59,
          60,
          61,
          62,
          63,
          64,
          65,
          66,
          67,
          68,
          69,
          70,
          71,
          72,
          73,
          74,
          75,
          76,
          77,
          78,
          79,
          80,
          81,
          82,
          83,
          84,
          85,
          86,
          87,
          88,
          89,
          90,
          91,
          92,
          93,
          94,
          95,
          96,
          97,
          98,
          99,
          100,
          101,
          102,
          103,
          104,
          105,
          106,
          107,
          108,
          109,
          110,
          111,
          112,
          113,
          114,
          115,
          116,
          117,
          118,
          119,
          120,
          121,
          122,
          123,
          124,
          125,
          126,
          127,
          128,
          129,
          130,
          131,
          132,
          133,
          134,
          135,
          136,
          137,
          138,
          139,
          140,
          141,
          142,
          143,
          144,
          145,
          146,
          147,
          148,
          149,
          150,
          151,
          152,
          153,
          154,
          155,
          156,
          157,
          158,
          159,
          160,
          161,
          162,
          163,
          164,
          165,
          166,
          167,
          168,
          169,
          170,
          171,
          172,
          173,
          174,
          175,
          176,
          177,
          178,
          179,
          180,
          181,
          182,
          183,
          184,
          185,
          186,
          187,
          188,
          189,
          190,
          191,
          192,
          193,
          194,
          195,
          196,
          197,
          198,
          199,
          200,
          201,
          202,
          203,
          204,
          205,
          206,
          207,
          208,
          209,
          210,
          211,
          212,
          213,
          214,
          215,
          216,
          217,
          218,
          219,
          220,
          221,
          222,
          223,
          224,
          225,
          226,
          227,
          228,
          229,
          230,
          231,
          232,
          233,
          234,
          235,
          236,
          237,
          238,
          239,
          240,
          241,
          242,
          243,
          244,
          245,
          246,
          247,
          248,
          249,
          250,
          251,
          252,
          253,
          254,
          255,
          256,
          257,
          258,
          259,
          260,
          261,
          262,
          263,
          264,
          265,
          266,
          267,
          268,
          269,
          270,
          271,
          272,
          273,
          274,
          275,
          276,
          277,
          278,
          279,
          280,
          281,
          282,
          283,
          284,
          285,
          286,
          287,
          288,
          289,
          290,
          291,
          292,
          293,
          294,
          295,
          296,
          297,
          298,
          299,
          300,
          301,
          302,
          303,
          304,
          305,
          306,
          307,
          308,
          309,
          310,
          311,
          312,
          313,
          314,
          315,
          316,
          317,
          318,
          319,
          320,
          321,
          322,
          323,
          324,
          325,
          326,
          327,
          328,
          329,
          330,
          331,
          332,
          333,
          334,
          335,
          336,
          337,
          338,
          339,
          340,
          341,
          342,
          343,
          344,
          345,
          346,
          347,
          348,
          349,
          350,
          351,
          352,
          353,
          354,
          355,
          356,
          357,
          358,
          359,
          360,
          361,
          362,
          363,
          364,
          365,
          366,
          367,
          368,
          369,
          370,
          371,
          372,
          373,
          374,
          375,
          376,
          377,
          378,
          379,
          380,
          381,
          382,
          383,
          384,
          385,
          386,
          387,
          388,
          389,
          390,
          391,
          392,
          393,
          394,
          395,
          396,
          397,
          398,
          399,
          400,
          401,
          402,
          403,
          404,
          405,
          406,
          407,
          408,
          409,
          410,
          411,
          412,
          413,
          414,
          415,
          416,
          417,
          418,
          419,
          420,
          421,
          422,
          423,
          424,
          425,
          426,
          427,
          428,
          429,
          430,
          431,
          432,
          433,
          434,
          435,
          436,
          437,
          438,
          439,
          440,
          441,
          442,
          443,
          444,
          445,
          446,
          447,
          448,
          449,
          450,
          451,
          452,
          453,
          454,
          455,
          456,
          457,
          458,
          459,
          460,
          461,
          462,
          463,
          464,
          465,
          466,
          467,
          468,
          469,
          470,
          471,
          472,
          473,
          474,
          475,
          476,
          477,
          478,
          479,
          480,
          481,
          482,
          483,
          484,
          485,
          486,
          487,
          488,
          489,
          490,
          491,
          492,
          493,
          494,
          495,
          496,
          497,
          498,
          499
         ],
         "y": [
          21.41128785409206,
          21.411256086660373,
          21.411318191667522,
          21.411321472101697,
          21.411257240610063,
          21.411361522728306,
          21.41129505419974,
          21.411271253325044,
          21.41130882916102,
          21.411263706469825,
          21.41124971498419,
          21.411247922398797,
          21.41124747047901,
          21.411247631370347,
          21.41124836567174,
          21.411272766082927,
          21.411259610859315,
          21.41126802350541,
          21.41125435099948,
          21.41124777223993,
          21.41127562338608,
          21.411247469614217,
          21.4112532411677,
          21.41126028659309,
          21.411254700675695,
          21.411265118268073,
          21.41125204830594,
          21.41126092574295,
          21.411252730825858,
          21.411247634168447,
          21.4112635529232,
          21.411247380132558,
          21.4112556330973,
          21.411251759774462,
          21.411257504850507,
          21.411251142564645,
          21.411247591158673,
          21.41125788177023,
          21.411276694918314,
          21.41125574578687,
          21.411250957820496,
          21.41124814792846,
          21.41125089605636,
          21.41124748622551,
          21.411255166972172,
          21.411251182351904,
          21.411257740688498,
          21.411247471101102,
          21.411261645014,
          21.4112499955929,
          21.411254092566395,
          21.411247731589267,
          21.411247459081896,
          21.411250481615333,
          21.41124999931613,
          21.411253253135225,
          21.41125721521448,
          21.411253208008194,
          21.41124948154073,
          21.411259556959333,
          21.41124755569742,
          21.411249239849877,
          21.411247558862414,
          21.41125312826624,
          21.411249970367454,
          21.411255244950546,
          21.41125241156669,
          21.411247630001885,
          21.411249749268265,
          21.411255926867554,
          21.411251910664713,
          21.41124756603704,
          21.41124924914566,
          21.41125350792342,
          21.411247398312586,
          21.41125169009273,
          21.41124929296615,
          21.41125492073579,
          21.411259065955143,
          21.411247449302024,
          21.411251430832777,
          21.411249156736346,
          21.411248931716255,
          21.41124754696549,
          21.411251136625054,
          21.411253080402876,
          21.41124741016319,
          21.41125074811824,
          21.41125697277521,
          21.411249135573133,
          21.41125508904516,
          21.41124870632313,
          21.411247552307763,
          21.411251909311787,
          21.411250573484296,
          21.411248781686695,
          21.41125386437838,
          21.411250718748406,
          21.411252347733605,
          21.41124880159961,
          21.411247572756547,
          21.41124752234764,
          21.41125029279641,
          21.41124876363781,
          21.411253635218362,
          21.41124750602114,
          21.41125012735011,
          21.41125193105932,
          21.41124890514648,
          21.411256560963754,
          21.41125446998141,
          21.41124781217962,
          21.411247470430542,
          21.41125045792207,
          21.41125236366119,
          21.4112474310796,
          21.41124983532894,
          21.4112473914488,
          21.411249197709186,
          21.411250996412576,
          21.411252831467284,
          21.411247468822634,
          21.411248879743706,
          21.411250076343702,
          21.411247431711555,
          21.411248886449595,
          21.411251583823457,
          21.411248607470203,
          21.411250289978586,
          21.411254215040092,
          21.411247430028013,
          21.411248577000247,
          21.411251486764556,
          21.411250199903474,
          21.411247631448706,
          21.411247443414805,
          21.411297219259588,
          21.41124940386257,
          21.411247383944655,
          21.411247485510636,
          21.411252266514328,
          21.411248862569224,
          21.411247422941052,
          21.41124974283304,
          21.411247385474688,
          21.411251226583246,
          21.411248646381882,
          21.411249928819558,
          21.41124741693834,
          21.41127286293312,
          21.411252855509563,
          21.411248584397736,
          21.411247380142157,
          21.411247392419902,
          21.411247388912614,
          21.411250827123823,
          21.411247389905824,
          21.411280091359515,
          21.411249021451177,
          21.411250058431587,
          21.41124863040933,
          21.41124739756775,
          21.411248359933055,
          21.4112474407091,
          21.411251063084688,
          21.411249764088662,
          21.41124737909663,
          21.411249480175428,
          21.411251756530813,
          21.411248939514532,
          21.41126478876904,
          21.411247566398625,
          21.41124882312925,
          21.411247510973343,
          21.41126252550117,
          21.41125033511874,
          21.411247456842393,
          21.411324475680797,
          21.411250081528472,
          21.411248649303353,
          21.411247381959274,
          21.41124742026294,
          21.411248555270493,
          21.41125104631199,
          21.411249561829628,
          21.411247481988696,
          21.41124891867565,
          21.41125244441463,
          21.411247412438858,
          21.411250128899724,
          21.41124867627235,
          21.41124753372367,
          21.411248599074383,
          21.411250143098137,
          21.411247394116394,
          21.411247377326756,
          21.41124905167547,
          21.41126720933736,
          21.411251056985,
          21.411259439732707,
          21.41124741687521,
          21.411248511898922,
          21.411247408045707,
          21.411247407150793,
          21.411249396666225,
          21.411249854683714,
          21.41124832843678,
          21.411251547998386,
          21.411247453301513,
          21.411247379956336,
          21.411249787508986,
          21.41124739367316,
          21.411248706987053,
          21.411248847937873,
          21.411248749924614,
          21.41125035515611,
          21.411247423295322,
          21.411266316698754,
          21.411268306882313,
          21.41124861884819,
          21.41124740234974,
          21.411247385438084,
          21.411248637897796,
          21.41124979672726,
          21.411247497249715,
          21.41125082863608,
          21.41124868400972,
          21.411247409056365,
          21.41124973993358,
          21.41124858204165,
          21.411247407595955,
          21.411248569403575,
          21.411247516407737,
          21.41124739576335,
          21.41124968063873,
          21.411248858697828,
          21.411284320788862,
          21.411259650132006,
          21.411270464485796,
          21.411247375726724,
          21.41125679248901,
          21.411247427359534,
          21.411248605919532,
          21.411262274939837,
          21.41124744087116,
          21.411249699657834,
          21.411247401889543,
          21.41129314266803,
          21.411276568433983,
          21.411250930917028,
          21.41124857628047,
          21.411247425664314,
          21.411249561507038,
          21.411248640043432,
          21.41124737406809,
          21.411250742789694,
          21.411249398632986,
          21.411252124344465,
          21.41124860834456,
          21.411250239167313,
          21.411272706430594,
          21.41124861408885,
          21.411355935690345,
          21.41125746632114,
          21.411262582659145,
          21.411248651840644,
          21.411247381975986,
          21.41124738729308,
          21.41124991997816,
          21.41125342369299,
          21.411251382033466,
          21.41124862557297,
          21.411268864638313,
          21.411247409549404,
          21.411261634044745,
          21.41124975248874,
          21.41127974979095,
          21.41127417342159,
          21.41124737472356,
          21.411248800070094,
          21.411255005982635,
          21.411250954488146,
          21.41124976930457,
          21.411247413464125,
          21.411248925062093,
          21.411259179906985,
          21.411252609695367,
          21.411248573545706,
          21.4112473983176,
          21.411264411339154,
          21.411250188841795,
          21.411251383782876,
          21.41124865925117,
          21.41124983411554,
          21.41124851140959,
          21.411247407068934,
          21.411247392084967,
          21.411249758632543,
          21.41130645104477,
          21.41126031449844,
          21.411256159512643,
          21.411251208530004,
          21.411248925795462,
          21.411247412948008,
          21.41126907561804,
          21.41125393485648,
          21.41124877934998,
          21.41125037520262,
          21.41124738256542,
          21.411248522332937,
          21.411290389157028,
          21.411266837019404,
          21.411258220882445,
          21.41125241308127,
          21.411249659773553,
          21.41126485327879,
          21.411281552969733,
          21.411248566073603,
          21.411250129167758,
          21.411263343802837,
          21.411248566262838,
          21.411251405378298,
          21.41124739408713,
          21.411248591264126,
          21.41124744992624,
          21.41125002828009,
          21.411248564930524,
          21.411250737596905,
          21.411249542534467,
          21.411247432817145,
          21.411275664136905,
          21.411247391882505,
          21.411271299037356,
          21.411284694091737,
          21.41125237040293,
          21.411247373755774,
          21.411249175905684,
          21.411260692784477,
          21.411248622350897,
          21.411296169861995,
          21.411247404286534,
          21.411300980511967,
          21.411254070692344,
          21.411311719575995,
          21.411288046550847,
          21.41125119761219,
          21.411249661140303,
          21.411248563468686,
          21.411271767132178,
          21.411249759075204,
          21.41124869635228,
          21.411247395658556,
          21.41127602437081,
          21.411270249161635,
          21.411247377863663,
          21.411250943320745,
          21.411248634770228,
          21.411249745665085,
          21.41125784677759,
          21.411252414602142,
          21.411247410540856,
          21.411250392658477,
          21.411256410977234,
          21.41124859852426,
          21.41133576486756,
          21.41124739545889,
          21.41124951556715,
          21.41127828864702,
          21.411290040175793,
          21.411251306055647,
          21.411248663800528,
          21.411324350041188,
          21.411248584043967,
          21.411273003837778,
          21.41125006792507,
          21.41124742272296,
          21.411253881226163,
          21.411267116377083,
          21.411248663259205,
          21.41124738630319,
          21.41125164172677,
          21.4112848981455,
          21.41124985032286,
          21.41126293764658,
          21.411266093646447,
          21.411264373681533,
          21.411295012264432,
          21.411248885745184,
          21.411248569666427,
          21.411363625743373,
          21.411302243495097,
          21.411250596514172,
          21.41124740932872,
          21.41125283534495,
          21.411268572623815,
          21.411261379710627,
          21.411316263961172,
          21.411247383158756,
          21.41124978201384,
          21.411248659197575,
          21.41125071115832,
          21.411280336829257,
          21.41124851121631,
          21.411249454808715,
          21.41125573170862,
          21.41124742226017,
          21.411247387682526,
          21.41129744357252,
          21.411254980446362,
          21.411251614983108,
          21.41124865112344,
          21.411282048548543,
          21.41124968976438,
          21.411331875584416,
          21.411248460811052,
          21.411250699400476,
          21.411248440300835,
          21.4112473888541,
          21.411252978883834,
          21.411249710326498,
          21.41124740004425,
          21.41125906823092,
          21.41124741012813,
          21.4112495758826,
          21.4112518217407,
          21.41128654937801,
          21.411359173518306,
          21.41124886158589,
          21.411307847755456,
          21.411276295207337,
          21.411247410106252,
          21.4112500261468,
          21.41127429672402,
          21.411248626097926,
          21.4112701489174,
          21.411250857996002,
          21.411291038936202,
          21.411282684194344,
          21.411248582084788,
          21.411311444633935,
          21.411248538920404,
          21.411247381826435,
          21.411277030134343,
          21.411250015014964,
          21.41126632931053,
          21.411251692990426,
          21.411261859587345,
          21.411288057168914,
          21.41127974514179,
          21.41137085769503,
          21.411248585604138,
          21.411249647476076,
          21.41127811059553,
          21.41125734795745,
          21.41124739306001,
          21.411252901990714,
          21.411248570578735,
          21.4112503890469,
          21.41125831022767,
          21.41124737488609,
          21.41125511464619,
          21.411248563581665,
          21.411292640449233,
          21.411249483330614,
          21.411251164351473,
          21.411248494620068,
          21.411336820571535,
          21.411288169923246,
          21.411247458686123,
          21.411320760453595,
          21.41130493403456,
          21.411247428251293,
          21.411297426551112,
          21.411349570641597,
          21.411265585787074,
          21.411314345972094,
          21.411271011662674,
          21.41124993268262,
          21.41124939762092,
          21.411247376092266,
          21.4112536136165,
          21.411292211693684,
          21.41128431584796,
          21.41127291485748,
          21.41130278774647,
          21.411251044431076,
          21.41124864688605,
          21.411248614842897,
          21.41124738407025,
          21.41124739183977,
          21.411313052248037,
          21.411268182116746,
          21.411249788901994,
          21.411294200702567,
          21.411252182370433,
          21.411247393469335,
          21.411300771637002,
          21.41126016011509,
          21.411249549254734,
          21.411251007941406
         ]
        },
        {
         "mode": "lines",
         "name": "Best Value",
         "type": "scatter",
         "x": [
          0,
          1,
          2,
          3,
          4,
          5,
          6,
          7,
          8,
          9,
          10,
          11,
          12,
          13,
          14,
          15,
          16,
          17,
          18,
          19,
          20,
          21,
          22,
          23,
          24,
          25,
          26,
          27,
          28,
          29,
          30,
          31,
          32,
          33,
          34,
          35,
          36,
          37,
          38,
          39,
          40,
          41,
          42,
          43,
          44,
          45,
          46,
          47,
          48,
          49,
          50,
          51,
          52,
          53,
          54,
          55,
          56,
          57,
          58,
          59,
          60,
          61,
          62,
          63,
          64,
          65,
          66,
          67,
          68,
          69,
          70,
          71,
          72,
          73,
          74,
          75,
          76,
          77,
          78,
          79,
          80,
          81,
          82,
          83,
          84,
          85,
          86,
          87,
          88,
          89,
          90,
          91,
          92,
          93,
          94,
          95,
          96,
          97,
          98,
          99,
          100,
          101,
          102,
          103,
          104,
          105,
          106,
          107,
          108,
          109,
          110,
          111,
          112,
          113,
          114,
          115,
          116,
          117,
          118,
          119,
          120,
          121,
          122,
          123,
          124,
          125,
          126,
          127,
          128,
          129,
          130,
          131,
          132,
          133,
          134,
          135,
          136,
          137,
          138,
          139,
          140,
          141,
          142,
          143,
          144,
          145,
          146,
          147,
          148,
          149,
          150,
          151,
          152,
          153,
          154,
          155,
          156,
          157,
          158,
          159,
          160,
          161,
          162,
          163,
          164,
          165,
          166,
          167,
          168,
          169,
          170,
          171,
          172,
          173,
          174,
          175,
          176,
          177,
          178,
          179,
          180,
          181,
          182,
          183,
          184,
          185,
          186,
          187,
          188,
          189,
          190,
          191,
          192,
          193,
          194,
          195,
          196,
          197,
          198,
          199,
          200,
          201,
          202,
          203,
          204,
          205,
          206,
          207,
          208,
          209,
          210,
          211,
          212,
          213,
          214,
          215,
          216,
          217,
          218,
          219,
          220,
          221,
          222,
          223,
          224,
          225,
          226,
          227,
          228,
          229,
          230,
          231,
          232,
          233,
          234,
          235,
          236,
          237,
          238,
          239,
          240,
          241,
          242,
          243,
          244,
          245,
          246,
          247,
          248,
          249,
          250,
          251,
          252,
          253,
          254,
          255,
          256,
          257,
          258,
          259,
          260,
          261,
          262,
          263,
          264,
          265,
          266,
          267,
          268,
          269,
          270,
          271,
          272,
          273,
          274,
          275,
          276,
          277,
          278,
          279,
          280,
          281,
          282,
          283,
          284,
          285,
          286,
          287,
          288,
          289,
          290,
          291,
          292,
          293,
          294,
          295,
          296,
          297,
          298,
          299,
          300,
          301,
          302,
          303,
          304,
          305,
          306,
          307,
          308,
          309,
          310,
          311,
          312,
          313,
          314,
          315,
          316,
          317,
          318,
          319,
          320,
          321,
          322,
          323,
          324,
          325,
          326,
          327,
          328,
          329,
          330,
          331,
          332,
          333,
          334,
          335,
          336,
          337,
          338,
          339,
          340,
          341,
          342,
          343,
          344,
          345,
          346,
          347,
          348,
          349,
          350,
          351,
          352,
          353,
          354,
          355,
          356,
          357,
          358,
          359,
          360,
          361,
          362,
          363,
          364,
          365,
          366,
          367,
          368,
          369,
          370,
          371,
          372,
          373,
          374,
          375,
          376,
          377,
          378,
          379,
          380,
          381,
          382,
          383,
          384,
          385,
          386,
          387,
          388,
          389,
          390,
          391,
          392,
          393,
          394,
          395,
          396,
          397,
          398,
          399,
          400,
          401,
          402,
          403,
          404,
          405,
          406,
          407,
          408,
          409,
          410,
          411,
          412,
          413,
          414,
          415,
          416,
          417,
          418,
          419,
          420,
          421,
          422,
          423,
          424,
          425,
          426,
          427,
          428,
          429,
          430,
          431,
          432,
          433,
          434,
          435,
          436,
          437,
          438,
          439,
          440,
          441,
          442,
          443,
          444,
          445,
          446,
          447,
          448,
          449,
          450,
          451,
          452,
          453,
          454,
          455,
          456,
          457,
          458,
          459,
          460,
          461,
          462,
          463,
          464,
          465,
          466,
          467,
          468,
          469,
          470,
          471,
          472,
          473,
          474,
          475,
          476,
          477,
          478,
          479,
          480,
          481,
          482,
          483,
          484,
          485,
          486,
          487,
          488,
          489,
          490,
          491,
          492,
          493,
          494,
          495,
          496,
          497,
          498,
          499
         ],
         "y": [
          21.41128785409206,
          21.411256086660373,
          21.411256086660373,
          21.411256086660373,
          21.411256086660373,
          21.411256086660373,
          21.411256086660373,
          21.411256086660373,
          21.411256086660373,
          21.411256086660373,
          21.41124971498419,
          21.411247922398797,
          21.41124747047901,
          21.41124747047901,
          21.41124747047901,
          21.41124747047901,
          21.41124747047901,
          21.41124747047901,
          21.41124747047901,
          21.41124747047901,
          21.41124747047901,
          21.411247469614217,
          21.411247469614217,
          21.411247469614217,
          21.411247469614217,
          21.411247469614217,
          21.411247469614217,
          21.411247469614217,
          21.411247469614217,
          21.411247469614217,
          21.411247469614217,
          21.411247380132558,
          21.411247380132558,
          21.411247380132558,
          21.411247380132558,
          21.411247380132558,
          21.411247380132558,
          21.411247380132558,
          21.411247380132558,
          21.411247380132558,
          21.411247380132558,
          21.411247380132558,
          21.411247380132558,
          21.411247380132558,
          21.411247380132558,
          21.411247380132558,
          21.411247380132558,
          21.411247380132558,
          21.411247380132558,
          21.411247380132558,
          21.411247380132558,
          21.411247380132558,
          21.411247380132558,
          21.411247380132558,
          21.411247380132558,
          21.411247380132558,
          21.411247380132558,
          21.411247380132558,
          21.411247380132558,
          21.411247380132558,
          21.411247380132558,
          21.411247380132558,
          21.411247380132558,
          21.411247380132558,
          21.411247380132558,
          21.411247380132558,
          21.411247380132558,
          21.411247380132558,
          21.411247380132558,
          21.411247380132558,
          21.411247380132558,
          21.411247380132558,
          21.411247380132558,
          21.411247380132558,
          21.411247380132558,
          21.411247380132558,
          21.411247380132558,
          21.411247380132558,
          21.411247380132558,
          21.411247380132558,
          21.411247380132558,
          21.411247380132558,
          21.411247380132558,
          21.411247380132558,
          21.411247380132558,
          21.411247380132558,
          21.411247380132558,
          21.411247380132558,
          21.411247380132558,
          21.411247380132558,
          21.411247380132558,
          21.411247380132558,
          21.411247380132558,
          21.411247380132558,
          21.411247380132558,
          21.411247380132558,
          21.411247380132558,
          21.411247380132558,
          21.411247380132558,
          21.411247380132558,
          21.411247380132558,
          21.411247380132558,
          21.411247380132558,
          21.411247380132558,
          21.411247380132558,
          21.411247380132558,
          21.411247380132558,
          21.411247380132558,
          21.411247380132558,
          21.411247380132558,
          21.411247380132558,
          21.411247380132558,
          21.411247380132558,
          21.411247380132558,
          21.411247380132558,
          21.411247380132558,
          21.411247380132558,
          21.411247380132558,
          21.411247380132558,
          21.411247380132558,
          21.411247380132558,
          21.411247380132558,
          21.411247380132558,
          21.411247380132558,
          21.411247380132558,
          21.411247380132558,
          21.411247380132558,
          21.411247380132558,
          21.411247380132558,
          21.411247380132558,
          21.411247380132558,
          21.411247380132558,
          21.411247380132558,
          21.411247380132558,
          21.411247380132558,
          21.411247380132558,
          21.411247380132558,
          21.411247380132558,
          21.411247380132558,
          21.411247380132558,
          21.411247380132558,
          21.411247380132558,
          21.411247380132558,
          21.411247380132558,
          21.411247380132558,
          21.411247380132558,
          21.411247380132558,
          21.411247380132558,
          21.411247380132558,
          21.411247380132558,
          21.411247380132558,
          21.411247380132558,
          21.411247380132558,
          21.411247380132558,
          21.411247380132558,
          21.411247380132558,
          21.411247380132558,
          21.411247380132558,
          21.411247380132558,
          21.411247380132558,
          21.411247380132558,
          21.411247380132558,
          21.411247380132558,
          21.411247380132558,
          21.411247380132558,
          21.411247380132558,
          21.41124737909663,
          21.41124737909663,
          21.41124737909663,
          21.41124737909663,
          21.41124737909663,
          21.41124737909663,
          21.41124737909663,
          21.41124737909663,
          21.41124737909663,
          21.41124737909663,
          21.41124737909663,
          21.41124737909663,
          21.41124737909663,
          21.41124737909663,
          21.41124737909663,
          21.41124737909663,
          21.41124737909663,
          21.41124737909663,
          21.41124737909663,
          21.41124737909663,
          21.41124737909663,
          21.41124737909663,
          21.41124737909663,
          21.41124737909663,
          21.41124737909663,
          21.41124737909663,
          21.41124737909663,
          21.41124737909663,
          21.41124737909663,
          21.411247377326756,
          21.411247377326756,
          21.411247377326756,
          21.411247377326756,
          21.411247377326756,
          21.411247377326756,
          21.411247377326756,
          21.411247377326756,
          21.411247377326756,
          21.411247377326756,
          21.411247377326756,
          21.411247377326756,
          21.411247377326756,
          21.411247377326756,
          21.411247377326756,
          21.411247377326756,
          21.411247377326756,
          21.411247377326756,
          21.411247377326756,
          21.411247377326756,
          21.411247377326756,
          21.411247377326756,
          21.411247377326756,
          21.411247377326756,
          21.411247377326756,
          21.411247377326756,
          21.411247377326756,
          21.411247377326756,
          21.411247377326756,
          21.411247377326756,
          21.411247377326756,
          21.411247377326756,
          21.411247377326756,
          21.411247377326756,
          21.411247377326756,
          21.411247377326756,
          21.411247377326756,
          21.411247377326756,
          21.411247377326756,
          21.411247377326756,
          21.411247377326756,
          21.411247377326756,
          21.411247377326756,
          21.411247377326756,
          21.411247375726724,
          21.411247375726724,
          21.411247375726724,
          21.411247375726724,
          21.411247375726724,
          21.411247375726724,
          21.411247375726724,
          21.411247375726724,
          21.411247375726724,
          21.411247375726724,
          21.411247375726724,
          21.411247375726724,
          21.411247375726724,
          21.411247375726724,
          21.411247375726724,
          21.41124737406809,
          21.41124737406809,
          21.41124737406809,
          21.41124737406809,
          21.41124737406809,
          21.41124737406809,
          21.41124737406809,
          21.41124737406809,
          21.41124737406809,
          21.41124737406809,
          21.41124737406809,
          21.41124737406809,
          21.41124737406809,
          21.41124737406809,
          21.41124737406809,
          21.41124737406809,
          21.41124737406809,
          21.41124737406809,
          21.41124737406809,
          21.41124737406809,
          21.41124737406809,
          21.41124737406809,
          21.41124737406809,
          21.41124737406809,
          21.41124737406809,
          21.41124737406809,
          21.41124737406809,
          21.41124737406809,
          21.41124737406809,
          21.41124737406809,
          21.41124737406809,
          21.41124737406809,
          21.41124737406809,
          21.41124737406809,
          21.41124737406809,
          21.41124737406809,
          21.41124737406809,
          21.41124737406809,
          21.41124737406809,
          21.41124737406809,
          21.41124737406809,
          21.41124737406809,
          21.41124737406809,
          21.41124737406809,
          21.41124737406809,
          21.41124737406809,
          21.41124737406809,
          21.41124737406809,
          21.41124737406809,
          21.41124737406809,
          21.41124737406809,
          21.41124737406809,
          21.41124737406809,
          21.41124737406809,
          21.41124737406809,
          21.41124737406809,
          21.41124737406809,
          21.41124737406809,
          21.41124737406809,
          21.41124737406809,
          21.41124737406809,
          21.41124737406809,
          21.41124737406809,
          21.41124737406809,
          21.41124737406809,
          21.41124737406809,
          21.41124737406809,
          21.41124737406809,
          21.41124737406809,
          21.41124737406809,
          21.41124737406809,
          21.41124737406809,
          21.41124737406809,
          21.41124737406809,
          21.41124737406809,
          21.41124737406809,
          21.41124737406809,
          21.41124737406809,
          21.41124737406809,
          21.41124737406809,
          21.41124737406809,
          21.411247373755774,
          21.411247373755774,
          21.411247373755774,
          21.411247373755774,
          21.411247373755774,
          21.411247373755774,
          21.411247373755774,
          21.411247373755774,
          21.411247373755774,
          21.411247373755774,
          21.411247373755774,
          21.411247373755774,
          21.411247373755774,
          21.411247373755774,
          21.411247373755774,
          21.411247373755774,
          21.411247373755774,
          21.411247373755774,
          21.411247373755774,
          21.411247373755774,
          21.411247373755774,
          21.411247373755774,
          21.411247373755774,
          21.411247373755774,
          21.411247373755774,
          21.411247373755774,
          21.411247373755774,
          21.411247373755774,
          21.411247373755774,
          21.411247373755774,
          21.411247373755774,
          21.411247373755774,
          21.411247373755774,
          21.411247373755774,
          21.411247373755774,
          21.411247373755774,
          21.411247373755774,
          21.411247373755774,
          21.411247373755774,
          21.411247373755774,
          21.411247373755774,
          21.411247373755774,
          21.411247373755774,
          21.411247373755774,
          21.411247373755774,
          21.411247373755774,
          21.411247373755774,
          21.411247373755774,
          21.411247373755774,
          21.411247373755774,
          21.411247373755774,
          21.411247373755774,
          21.411247373755774,
          21.411247373755774,
          21.411247373755774,
          21.411247373755774,
          21.411247373755774,
          21.411247373755774,
          21.411247373755774,
          21.411247373755774,
          21.411247373755774,
          21.411247373755774,
          21.411247373755774,
          21.411247373755774,
          21.411247373755774,
          21.411247373755774,
          21.411247373755774,
          21.411247373755774,
          21.411247373755774,
          21.411247373755774,
          21.411247373755774,
          21.411247373755774,
          21.411247373755774,
          21.411247373755774,
          21.411247373755774,
          21.411247373755774,
          21.411247373755774,
          21.411247373755774,
          21.411247373755774,
          21.411247373755774,
          21.411247373755774,
          21.411247373755774,
          21.411247373755774,
          21.411247373755774,
          21.411247373755774,
          21.411247373755774,
          21.411247373755774,
          21.411247373755774,
          21.411247373755774,
          21.411247373755774,
          21.411247373755774,
          21.411247373755774,
          21.411247373755774,
          21.411247373755774,
          21.411247373755774,
          21.411247373755774,
          21.411247373755774,
          21.411247373755774,
          21.411247373755774,
          21.411247373755774,
          21.411247373755774,
          21.411247373755774,
          21.411247373755774,
          21.411247373755774,
          21.411247373755774,
          21.411247373755774,
          21.411247373755774,
          21.411247373755774,
          21.411247373755774,
          21.411247373755774,
          21.411247373755774,
          21.411247373755774,
          21.411247373755774,
          21.411247373755774,
          21.411247373755774,
          21.411247373755774,
          21.411247373755774,
          21.411247373755774,
          21.411247373755774,
          21.411247373755774,
          21.411247373755774,
          21.411247373755774,
          21.411247373755774,
          21.411247373755774,
          21.411247373755774,
          21.411247373755774,
          21.411247373755774,
          21.411247373755774,
          21.411247373755774,
          21.411247373755774,
          21.411247373755774,
          21.411247373755774,
          21.411247373755774,
          21.411247373755774,
          21.411247373755774,
          21.411247373755774,
          21.411247373755774,
          21.411247373755774,
          21.411247373755774,
          21.411247373755774,
          21.411247373755774,
          21.411247373755774,
          21.411247373755774,
          21.411247373755774,
          21.411247373755774,
          21.411247373755774,
          21.411247373755774,
          21.411247373755774,
          21.411247373755774,
          21.411247373755774,
          21.411247373755774,
          21.411247373755774,
          21.411247373755774,
          21.411247373755774,
          21.411247373755774,
          21.411247373755774,
          21.411247373755774,
          21.411247373755774,
          21.411247373755774,
          21.411247373755774,
          21.411247373755774,
          21.411247373755774,
          21.411247373755774,
          21.411247373755774,
          21.411247373755774
         ]
        },
        {
         "marker": {
          "color": "#cccccc"
         },
         "mode": "markers",
         "name": "Infeasible Trial",
         "showlegend": false,
         "type": "scatter",
         "x": [],
         "y": []
        }
       ],
       "layout": {
        "template": {
         "data": {
          "bar": [
           {
            "error_x": {
             "color": "#2a3f5f"
            },
            "error_y": {
             "color": "#2a3f5f"
            },
            "marker": {
             "line": {
              "color": "#E5ECF6",
              "width": 0.5
             },
             "pattern": {
              "fillmode": "overlay",
              "size": 10,
              "solidity": 0.2
             }
            },
            "type": "bar"
           }
          ],
          "barpolar": [
           {
            "marker": {
             "line": {
              "color": "#E5ECF6",
              "width": 0.5
             },
             "pattern": {
              "fillmode": "overlay",
              "size": 10,
              "solidity": 0.2
             }
            },
            "type": "barpolar"
           }
          ],
          "carpet": [
           {
            "aaxis": {
             "endlinecolor": "#2a3f5f",
             "gridcolor": "white",
             "linecolor": "white",
             "minorgridcolor": "white",
             "startlinecolor": "#2a3f5f"
            },
            "baxis": {
             "endlinecolor": "#2a3f5f",
             "gridcolor": "white",
             "linecolor": "white",
             "minorgridcolor": "white",
             "startlinecolor": "#2a3f5f"
            },
            "type": "carpet"
           }
          ],
          "choropleth": [
           {
            "colorbar": {
             "outlinewidth": 0,
             "ticks": ""
            },
            "type": "choropleth"
           }
          ],
          "contour": [
           {
            "colorbar": {
             "outlinewidth": 0,
             "ticks": ""
            },
            "colorscale": [
             [
              0,
              "#0d0887"
             ],
             [
              0.1111111111111111,
              "#46039f"
             ],
             [
              0.2222222222222222,
              "#7201a8"
             ],
             [
              0.3333333333333333,
              "#9c179e"
             ],
             [
              0.4444444444444444,
              "#bd3786"
             ],
             [
              0.5555555555555556,
              "#d8576b"
             ],
             [
              0.6666666666666666,
              "#ed7953"
             ],
             [
              0.7777777777777778,
              "#fb9f3a"
             ],
             [
              0.8888888888888888,
              "#fdca26"
             ],
             [
              1,
              "#f0f921"
             ]
            ],
            "type": "contour"
           }
          ],
          "contourcarpet": [
           {
            "colorbar": {
             "outlinewidth": 0,
             "ticks": ""
            },
            "type": "contourcarpet"
           }
          ],
          "heatmap": [
           {
            "colorbar": {
             "outlinewidth": 0,
             "ticks": ""
            },
            "colorscale": [
             [
              0,
              "#0d0887"
             ],
             [
              0.1111111111111111,
              "#46039f"
             ],
             [
              0.2222222222222222,
              "#7201a8"
             ],
             [
              0.3333333333333333,
              "#9c179e"
             ],
             [
              0.4444444444444444,
              "#bd3786"
             ],
             [
              0.5555555555555556,
              "#d8576b"
             ],
             [
              0.6666666666666666,
              "#ed7953"
             ],
             [
              0.7777777777777778,
              "#fb9f3a"
             ],
             [
              0.8888888888888888,
              "#fdca26"
             ],
             [
              1,
              "#f0f921"
             ]
            ],
            "type": "heatmap"
           }
          ],
          "heatmapgl": [
           {
            "colorbar": {
             "outlinewidth": 0,
             "ticks": ""
            },
            "colorscale": [
             [
              0,
              "#0d0887"
             ],
             [
              0.1111111111111111,
              "#46039f"
             ],
             [
              0.2222222222222222,
              "#7201a8"
             ],
             [
              0.3333333333333333,
              "#9c179e"
             ],
             [
              0.4444444444444444,
              "#bd3786"
             ],
             [
              0.5555555555555556,
              "#d8576b"
             ],
             [
              0.6666666666666666,
              "#ed7953"
             ],
             [
              0.7777777777777778,
              "#fb9f3a"
             ],
             [
              0.8888888888888888,
              "#fdca26"
             ],
             [
              1,
              "#f0f921"
             ]
            ],
            "type": "heatmapgl"
           }
          ],
          "histogram": [
           {
            "marker": {
             "pattern": {
              "fillmode": "overlay",
              "size": 10,
              "solidity": 0.2
             }
            },
            "type": "histogram"
           }
          ],
          "histogram2d": [
           {
            "colorbar": {
             "outlinewidth": 0,
             "ticks": ""
            },
            "colorscale": [
             [
              0,
              "#0d0887"
             ],
             [
              0.1111111111111111,
              "#46039f"
             ],
             [
              0.2222222222222222,
              "#7201a8"
             ],
             [
              0.3333333333333333,
              "#9c179e"
             ],
             [
              0.4444444444444444,
              "#bd3786"
             ],
             [
              0.5555555555555556,
              "#d8576b"
             ],
             [
              0.6666666666666666,
              "#ed7953"
             ],
             [
              0.7777777777777778,
              "#fb9f3a"
             ],
             [
              0.8888888888888888,
              "#fdca26"
             ],
             [
              1,
              "#f0f921"
             ]
            ],
            "type": "histogram2d"
           }
          ],
          "histogram2dcontour": [
           {
            "colorbar": {
             "outlinewidth": 0,
             "ticks": ""
            },
            "colorscale": [
             [
              0,
              "#0d0887"
             ],
             [
              0.1111111111111111,
              "#46039f"
             ],
             [
              0.2222222222222222,
              "#7201a8"
             ],
             [
              0.3333333333333333,
              "#9c179e"
             ],
             [
              0.4444444444444444,
              "#bd3786"
             ],
             [
              0.5555555555555556,
              "#d8576b"
             ],
             [
              0.6666666666666666,
              "#ed7953"
             ],
             [
              0.7777777777777778,
              "#fb9f3a"
             ],
             [
              0.8888888888888888,
              "#fdca26"
             ],
             [
              1,
              "#f0f921"
             ]
            ],
            "type": "histogram2dcontour"
           }
          ],
          "mesh3d": [
           {
            "colorbar": {
             "outlinewidth": 0,
             "ticks": ""
            },
            "type": "mesh3d"
           }
          ],
          "parcoords": [
           {
            "line": {
             "colorbar": {
              "outlinewidth": 0,
              "ticks": ""
             }
            },
            "type": "parcoords"
           }
          ],
          "pie": [
           {
            "automargin": true,
            "type": "pie"
           }
          ],
          "scatter": [
           {
            "fillpattern": {
             "fillmode": "overlay",
             "size": 10,
             "solidity": 0.2
            },
            "type": "scatter"
           }
          ],
          "scatter3d": [
           {
            "line": {
             "colorbar": {
              "outlinewidth": 0,
              "ticks": ""
             }
            },
            "marker": {
             "colorbar": {
              "outlinewidth": 0,
              "ticks": ""
             }
            },
            "type": "scatter3d"
           }
          ],
          "scattercarpet": [
           {
            "marker": {
             "colorbar": {
              "outlinewidth": 0,
              "ticks": ""
             }
            },
            "type": "scattercarpet"
           }
          ],
          "scattergeo": [
           {
            "marker": {
             "colorbar": {
              "outlinewidth": 0,
              "ticks": ""
             }
            },
            "type": "scattergeo"
           }
          ],
          "scattergl": [
           {
            "marker": {
             "colorbar": {
              "outlinewidth": 0,
              "ticks": ""
             }
            },
            "type": "scattergl"
           }
          ],
          "scattermapbox": [
           {
            "marker": {
             "colorbar": {
              "outlinewidth": 0,
              "ticks": ""
             }
            },
            "type": "scattermapbox"
           }
          ],
          "scatterpolar": [
           {
            "marker": {
             "colorbar": {
              "outlinewidth": 0,
              "ticks": ""
             }
            },
            "type": "scatterpolar"
           }
          ],
          "scatterpolargl": [
           {
            "marker": {
             "colorbar": {
              "outlinewidth": 0,
              "ticks": ""
             }
            },
            "type": "scatterpolargl"
           }
          ],
          "scatterternary": [
           {
            "marker": {
             "colorbar": {
              "outlinewidth": 0,
              "ticks": ""
             }
            },
            "type": "scatterternary"
           }
          ],
          "surface": [
           {
            "colorbar": {
             "outlinewidth": 0,
             "ticks": ""
            },
            "colorscale": [
             [
              0,
              "#0d0887"
             ],
             [
              0.1111111111111111,
              "#46039f"
             ],
             [
              0.2222222222222222,
              "#7201a8"
             ],
             [
              0.3333333333333333,
              "#9c179e"
             ],
             [
              0.4444444444444444,
              "#bd3786"
             ],
             [
              0.5555555555555556,
              "#d8576b"
             ],
             [
              0.6666666666666666,
              "#ed7953"
             ],
             [
              0.7777777777777778,
              "#fb9f3a"
             ],
             [
              0.8888888888888888,
              "#fdca26"
             ],
             [
              1,
              "#f0f921"
             ]
            ],
            "type": "surface"
           }
          ],
          "table": [
           {
            "cells": {
             "fill": {
              "color": "#EBF0F8"
             },
             "line": {
              "color": "white"
             }
            },
            "header": {
             "fill": {
              "color": "#C8D4E3"
             },
             "line": {
              "color": "white"
             }
            },
            "type": "table"
           }
          ]
         },
         "layout": {
          "annotationdefaults": {
           "arrowcolor": "#2a3f5f",
           "arrowhead": 0,
           "arrowwidth": 1
          },
          "autotypenumbers": "strict",
          "coloraxis": {
           "colorbar": {
            "outlinewidth": 0,
            "ticks": ""
           }
          },
          "colorscale": {
           "diverging": [
            [
             0,
             "#8e0152"
            ],
            [
             0.1,
             "#c51b7d"
            ],
            [
             0.2,
             "#de77ae"
            ],
            [
             0.3,
             "#f1b6da"
            ],
            [
             0.4,
             "#fde0ef"
            ],
            [
             0.5,
             "#f7f7f7"
            ],
            [
             0.6,
             "#e6f5d0"
            ],
            [
             0.7,
             "#b8e186"
            ],
            [
             0.8,
             "#7fbc41"
            ],
            [
             0.9,
             "#4d9221"
            ],
            [
             1,
             "#276419"
            ]
           ],
           "sequential": [
            [
             0,
             "#0d0887"
            ],
            [
             0.1111111111111111,
             "#46039f"
            ],
            [
             0.2222222222222222,
             "#7201a8"
            ],
            [
             0.3333333333333333,
             "#9c179e"
            ],
            [
             0.4444444444444444,
             "#bd3786"
            ],
            [
             0.5555555555555556,
             "#d8576b"
            ],
            [
             0.6666666666666666,
             "#ed7953"
            ],
            [
             0.7777777777777778,
             "#fb9f3a"
            ],
            [
             0.8888888888888888,
             "#fdca26"
            ],
            [
             1,
             "#f0f921"
            ]
           ],
           "sequentialminus": [
            [
             0,
             "#0d0887"
            ],
            [
             0.1111111111111111,
             "#46039f"
            ],
            [
             0.2222222222222222,
             "#7201a8"
            ],
            [
             0.3333333333333333,
             "#9c179e"
            ],
            [
             0.4444444444444444,
             "#bd3786"
            ],
            [
             0.5555555555555556,
             "#d8576b"
            ],
            [
             0.6666666666666666,
             "#ed7953"
            ],
            [
             0.7777777777777778,
             "#fb9f3a"
            ],
            [
             0.8888888888888888,
             "#fdca26"
            ],
            [
             1,
             "#f0f921"
            ]
           ]
          },
          "colorway": [
           "#636efa",
           "#EF553B",
           "#00cc96",
           "#ab63fa",
           "#FFA15A",
           "#19d3f3",
           "#FF6692",
           "#B6E880",
           "#FF97FF",
           "#FECB52"
          ],
          "font": {
           "color": "#2a3f5f"
          },
          "geo": {
           "bgcolor": "white",
           "lakecolor": "white",
           "landcolor": "#E5ECF6",
           "showlakes": true,
           "showland": true,
           "subunitcolor": "white"
          },
          "hoverlabel": {
           "align": "left"
          },
          "hovermode": "closest",
          "mapbox": {
           "style": "light"
          },
          "paper_bgcolor": "white",
          "plot_bgcolor": "#E5ECF6",
          "polar": {
           "angularaxis": {
            "gridcolor": "white",
            "linecolor": "white",
            "ticks": ""
           },
           "bgcolor": "#E5ECF6",
           "radialaxis": {
            "gridcolor": "white",
            "linecolor": "white",
            "ticks": ""
           }
          },
          "scene": {
           "xaxis": {
            "backgroundcolor": "#E5ECF6",
            "gridcolor": "white",
            "gridwidth": 2,
            "linecolor": "white",
            "showbackground": true,
            "ticks": "",
            "zerolinecolor": "white"
           },
           "yaxis": {
            "backgroundcolor": "#E5ECF6",
            "gridcolor": "white",
            "gridwidth": 2,
            "linecolor": "white",
            "showbackground": true,
            "ticks": "",
            "zerolinecolor": "white"
           },
           "zaxis": {
            "backgroundcolor": "#E5ECF6",
            "gridcolor": "white",
            "gridwidth": 2,
            "linecolor": "white",
            "showbackground": true,
            "ticks": "",
            "zerolinecolor": "white"
           }
          },
          "shapedefaults": {
           "line": {
            "color": "#2a3f5f"
           }
          },
          "ternary": {
           "aaxis": {
            "gridcolor": "white",
            "linecolor": "white",
            "ticks": ""
           },
           "baxis": {
            "gridcolor": "white",
            "linecolor": "white",
            "ticks": ""
           },
           "bgcolor": "#E5ECF6",
           "caxis": {
            "gridcolor": "white",
            "linecolor": "white",
            "ticks": ""
           }
          },
          "title": {
           "x": 0.05
          },
          "xaxis": {
           "automargin": true,
           "gridcolor": "white",
           "linecolor": "white",
           "ticks": "",
           "title": {
            "standoff": 15
           },
           "zerolinecolor": "white",
           "zerolinewidth": 2
          },
          "yaxis": {
           "automargin": true,
           "gridcolor": "white",
           "linecolor": "white",
           "ticks": "",
           "title": {
            "standoff": 15
           },
           "zerolinecolor": "white",
           "zerolinewidth": 2
          }
         }
        },
        "title": {
         "text": "Optimization History Plot"
        },
        "xaxis": {
         "title": {
          "text": "Trial"
         }
        },
        "yaxis": {
         "title": {
          "text": "Objective Value"
         }
        }
       }
      }
     },
     "metadata": {},
     "output_type": "display_data"
    }
   ],
   "source": [
    "optuna.visualization.plot_optimization_history(study)"
   ]
  },
  {
   "cell_type": "code",
   "execution_count": 25,
   "metadata": {},
   "outputs": [
    {
     "data": {
      "text/plain": [
       "{'alpha': 4.999987486600811, 'max_iter': 761}"
      ]
     },
     "execution_count": 25,
     "metadata": {},
     "output_type": "execute_result"
    }
   ],
   "source": [
    "ridge_best_params = study.best_params\n",
    "ridge_best_params"
   ]
  },
  {
   "cell_type": "code",
   "execution_count": null,
   "metadata": {},
   "outputs": [],
   "source": []
  },
  {
   "cell_type": "markdown",
   "metadata": {},
   "source": [
    "## Elastic Net"
   ]
  },
  {
   "cell_type": "code",
   "execution_count": 26,
   "metadata": {},
   "outputs": [],
   "source": [
    "def elasticnet_fine_tuning(trial):\n",
    "    #degree = trial.suggest_int('degree', 2,4)\n",
    "    alpha = trial.suggest_float('alpha', 0.1,5.0)\n",
    "    l1_ratio = trial.suggest_int('l1_ratio', 0,1)\n",
    "    max_iter = trial.suggest_int('max_iter', 500,3000)\n",
    "\n",
    "    model_elasticnet = ElasticNet(alpha=alpha, l1_ratio=l1_ratio, max_iter=max_iter)\n",
    "    model_elasticnet.fit(X_train, y_train)\n",
    "\n",
    "    y_pred = model_elasticnet.predict(X_val)\n",
    "\n",
    "    return calculate_metrics(y_val, y_pred, 'Lasso')['RMSE']\n"
   ]
  },
  {
   "cell_type": "code",
   "execution_count": 27,
   "metadata": {},
   "outputs": [],
   "source": [
    "study = optuna.create_study(direction='minimize')\n",
    "study.optimize(elasticnet_fine_tuning, n_trials=10)"
   ]
  },
  {
   "cell_type": "code",
   "execution_count": 28,
   "metadata": {},
   "outputs": [
    {
     "data": {
      "application/vnd.plotly.v1+json": {
       "config": {
        "plotlyServerURL": "https://plot.ly"
       },
       "data": [
        {
         "mode": "markers",
         "name": "Objective Value",
         "type": "scatter",
         "x": [
          0,
          1,
          2,
          3,
          4,
          5,
          6,
          7,
          8,
          9
         ],
         "y": [
          21.66674883724472,
          21.725328585779923,
          21.85204694359998,
          21.779922735133233,
          21.780749475892478,
          21.748159799078948,
          21.73609930849565,
          21.85204694359998,
          21.850267824372672,
          21.85204694359998
         ]
        },
        {
         "mode": "lines",
         "name": "Best Value",
         "type": "scatter",
         "x": [
          0,
          1,
          2,
          3,
          4,
          5,
          6,
          7,
          8,
          9
         ],
         "y": [
          21.66674883724472,
          21.66674883724472,
          21.66674883724472,
          21.66674883724472,
          21.66674883724472,
          21.66674883724472,
          21.66674883724472,
          21.66674883724472,
          21.66674883724472,
          21.66674883724472
         ]
        },
        {
         "marker": {
          "color": "#cccccc"
         },
         "mode": "markers",
         "name": "Infeasible Trial",
         "showlegend": false,
         "type": "scatter",
         "x": [],
         "y": []
        }
       ],
       "layout": {
        "template": {
         "data": {
          "bar": [
           {
            "error_x": {
             "color": "#2a3f5f"
            },
            "error_y": {
             "color": "#2a3f5f"
            },
            "marker": {
             "line": {
              "color": "#E5ECF6",
              "width": 0.5
             },
             "pattern": {
              "fillmode": "overlay",
              "size": 10,
              "solidity": 0.2
             }
            },
            "type": "bar"
           }
          ],
          "barpolar": [
           {
            "marker": {
             "line": {
              "color": "#E5ECF6",
              "width": 0.5
             },
             "pattern": {
              "fillmode": "overlay",
              "size": 10,
              "solidity": 0.2
             }
            },
            "type": "barpolar"
           }
          ],
          "carpet": [
           {
            "aaxis": {
             "endlinecolor": "#2a3f5f",
             "gridcolor": "white",
             "linecolor": "white",
             "minorgridcolor": "white",
             "startlinecolor": "#2a3f5f"
            },
            "baxis": {
             "endlinecolor": "#2a3f5f",
             "gridcolor": "white",
             "linecolor": "white",
             "minorgridcolor": "white",
             "startlinecolor": "#2a3f5f"
            },
            "type": "carpet"
           }
          ],
          "choropleth": [
           {
            "colorbar": {
             "outlinewidth": 0,
             "ticks": ""
            },
            "type": "choropleth"
           }
          ],
          "contour": [
           {
            "colorbar": {
             "outlinewidth": 0,
             "ticks": ""
            },
            "colorscale": [
             [
              0,
              "#0d0887"
             ],
             [
              0.1111111111111111,
              "#46039f"
             ],
             [
              0.2222222222222222,
              "#7201a8"
             ],
             [
              0.3333333333333333,
              "#9c179e"
             ],
             [
              0.4444444444444444,
              "#bd3786"
             ],
             [
              0.5555555555555556,
              "#d8576b"
             ],
             [
              0.6666666666666666,
              "#ed7953"
             ],
             [
              0.7777777777777778,
              "#fb9f3a"
             ],
             [
              0.8888888888888888,
              "#fdca26"
             ],
             [
              1,
              "#f0f921"
             ]
            ],
            "type": "contour"
           }
          ],
          "contourcarpet": [
           {
            "colorbar": {
             "outlinewidth": 0,
             "ticks": ""
            },
            "type": "contourcarpet"
           }
          ],
          "heatmap": [
           {
            "colorbar": {
             "outlinewidth": 0,
             "ticks": ""
            },
            "colorscale": [
             [
              0,
              "#0d0887"
             ],
             [
              0.1111111111111111,
              "#46039f"
             ],
             [
              0.2222222222222222,
              "#7201a8"
             ],
             [
              0.3333333333333333,
              "#9c179e"
             ],
             [
              0.4444444444444444,
              "#bd3786"
             ],
             [
              0.5555555555555556,
              "#d8576b"
             ],
             [
              0.6666666666666666,
              "#ed7953"
             ],
             [
              0.7777777777777778,
              "#fb9f3a"
             ],
             [
              0.8888888888888888,
              "#fdca26"
             ],
             [
              1,
              "#f0f921"
             ]
            ],
            "type": "heatmap"
           }
          ],
          "heatmapgl": [
           {
            "colorbar": {
             "outlinewidth": 0,
             "ticks": ""
            },
            "colorscale": [
             [
              0,
              "#0d0887"
             ],
             [
              0.1111111111111111,
              "#46039f"
             ],
             [
              0.2222222222222222,
              "#7201a8"
             ],
             [
              0.3333333333333333,
              "#9c179e"
             ],
             [
              0.4444444444444444,
              "#bd3786"
             ],
             [
              0.5555555555555556,
              "#d8576b"
             ],
             [
              0.6666666666666666,
              "#ed7953"
             ],
             [
              0.7777777777777778,
              "#fb9f3a"
             ],
             [
              0.8888888888888888,
              "#fdca26"
             ],
             [
              1,
              "#f0f921"
             ]
            ],
            "type": "heatmapgl"
           }
          ],
          "histogram": [
           {
            "marker": {
             "pattern": {
              "fillmode": "overlay",
              "size": 10,
              "solidity": 0.2
             }
            },
            "type": "histogram"
           }
          ],
          "histogram2d": [
           {
            "colorbar": {
             "outlinewidth": 0,
             "ticks": ""
            },
            "colorscale": [
             [
              0,
              "#0d0887"
             ],
             [
              0.1111111111111111,
              "#46039f"
             ],
             [
              0.2222222222222222,
              "#7201a8"
             ],
             [
              0.3333333333333333,
              "#9c179e"
             ],
             [
              0.4444444444444444,
              "#bd3786"
             ],
             [
              0.5555555555555556,
              "#d8576b"
             ],
             [
              0.6666666666666666,
              "#ed7953"
             ],
             [
              0.7777777777777778,
              "#fb9f3a"
             ],
             [
              0.8888888888888888,
              "#fdca26"
             ],
             [
              1,
              "#f0f921"
             ]
            ],
            "type": "histogram2d"
           }
          ],
          "histogram2dcontour": [
           {
            "colorbar": {
             "outlinewidth": 0,
             "ticks": ""
            },
            "colorscale": [
             [
              0,
              "#0d0887"
             ],
             [
              0.1111111111111111,
              "#46039f"
             ],
             [
              0.2222222222222222,
              "#7201a8"
             ],
             [
              0.3333333333333333,
              "#9c179e"
             ],
             [
              0.4444444444444444,
              "#bd3786"
             ],
             [
              0.5555555555555556,
              "#d8576b"
             ],
             [
              0.6666666666666666,
              "#ed7953"
             ],
             [
              0.7777777777777778,
              "#fb9f3a"
             ],
             [
              0.8888888888888888,
              "#fdca26"
             ],
             [
              1,
              "#f0f921"
             ]
            ],
            "type": "histogram2dcontour"
           }
          ],
          "mesh3d": [
           {
            "colorbar": {
             "outlinewidth": 0,
             "ticks": ""
            },
            "type": "mesh3d"
           }
          ],
          "parcoords": [
           {
            "line": {
             "colorbar": {
              "outlinewidth": 0,
              "ticks": ""
             }
            },
            "type": "parcoords"
           }
          ],
          "pie": [
           {
            "automargin": true,
            "type": "pie"
           }
          ],
          "scatter": [
           {
            "fillpattern": {
             "fillmode": "overlay",
             "size": 10,
             "solidity": 0.2
            },
            "type": "scatter"
           }
          ],
          "scatter3d": [
           {
            "line": {
             "colorbar": {
              "outlinewidth": 0,
              "ticks": ""
             }
            },
            "marker": {
             "colorbar": {
              "outlinewidth": 0,
              "ticks": ""
             }
            },
            "type": "scatter3d"
           }
          ],
          "scattercarpet": [
           {
            "marker": {
             "colorbar": {
              "outlinewidth": 0,
              "ticks": ""
             }
            },
            "type": "scattercarpet"
           }
          ],
          "scattergeo": [
           {
            "marker": {
             "colorbar": {
              "outlinewidth": 0,
              "ticks": ""
             }
            },
            "type": "scattergeo"
           }
          ],
          "scattergl": [
           {
            "marker": {
             "colorbar": {
              "outlinewidth": 0,
              "ticks": ""
             }
            },
            "type": "scattergl"
           }
          ],
          "scattermapbox": [
           {
            "marker": {
             "colorbar": {
              "outlinewidth": 0,
              "ticks": ""
             }
            },
            "type": "scattermapbox"
           }
          ],
          "scatterpolar": [
           {
            "marker": {
             "colorbar": {
              "outlinewidth": 0,
              "ticks": ""
             }
            },
            "type": "scatterpolar"
           }
          ],
          "scatterpolargl": [
           {
            "marker": {
             "colorbar": {
              "outlinewidth": 0,
              "ticks": ""
             }
            },
            "type": "scatterpolargl"
           }
          ],
          "scatterternary": [
           {
            "marker": {
             "colorbar": {
              "outlinewidth": 0,
              "ticks": ""
             }
            },
            "type": "scatterternary"
           }
          ],
          "surface": [
           {
            "colorbar": {
             "outlinewidth": 0,
             "ticks": ""
            },
            "colorscale": [
             [
              0,
              "#0d0887"
             ],
             [
              0.1111111111111111,
              "#46039f"
             ],
             [
              0.2222222222222222,
              "#7201a8"
             ],
             [
              0.3333333333333333,
              "#9c179e"
             ],
             [
              0.4444444444444444,
              "#bd3786"
             ],
             [
              0.5555555555555556,
              "#d8576b"
             ],
             [
              0.6666666666666666,
              "#ed7953"
             ],
             [
              0.7777777777777778,
              "#fb9f3a"
             ],
             [
              0.8888888888888888,
              "#fdca26"
             ],
             [
              1,
              "#f0f921"
             ]
            ],
            "type": "surface"
           }
          ],
          "table": [
           {
            "cells": {
             "fill": {
              "color": "#EBF0F8"
             },
             "line": {
              "color": "white"
             }
            },
            "header": {
             "fill": {
              "color": "#C8D4E3"
             },
             "line": {
              "color": "white"
             }
            },
            "type": "table"
           }
          ]
         },
         "layout": {
          "annotationdefaults": {
           "arrowcolor": "#2a3f5f",
           "arrowhead": 0,
           "arrowwidth": 1
          },
          "autotypenumbers": "strict",
          "coloraxis": {
           "colorbar": {
            "outlinewidth": 0,
            "ticks": ""
           }
          },
          "colorscale": {
           "diverging": [
            [
             0,
             "#8e0152"
            ],
            [
             0.1,
             "#c51b7d"
            ],
            [
             0.2,
             "#de77ae"
            ],
            [
             0.3,
             "#f1b6da"
            ],
            [
             0.4,
             "#fde0ef"
            ],
            [
             0.5,
             "#f7f7f7"
            ],
            [
             0.6,
             "#e6f5d0"
            ],
            [
             0.7,
             "#b8e186"
            ],
            [
             0.8,
             "#7fbc41"
            ],
            [
             0.9,
             "#4d9221"
            ],
            [
             1,
             "#276419"
            ]
           ],
           "sequential": [
            [
             0,
             "#0d0887"
            ],
            [
             0.1111111111111111,
             "#46039f"
            ],
            [
             0.2222222222222222,
             "#7201a8"
            ],
            [
             0.3333333333333333,
             "#9c179e"
            ],
            [
             0.4444444444444444,
             "#bd3786"
            ],
            [
             0.5555555555555556,
             "#d8576b"
            ],
            [
             0.6666666666666666,
             "#ed7953"
            ],
            [
             0.7777777777777778,
             "#fb9f3a"
            ],
            [
             0.8888888888888888,
             "#fdca26"
            ],
            [
             1,
             "#f0f921"
            ]
           ],
           "sequentialminus": [
            [
             0,
             "#0d0887"
            ],
            [
             0.1111111111111111,
             "#46039f"
            ],
            [
             0.2222222222222222,
             "#7201a8"
            ],
            [
             0.3333333333333333,
             "#9c179e"
            ],
            [
             0.4444444444444444,
             "#bd3786"
            ],
            [
             0.5555555555555556,
             "#d8576b"
            ],
            [
             0.6666666666666666,
             "#ed7953"
            ],
            [
             0.7777777777777778,
             "#fb9f3a"
            ],
            [
             0.8888888888888888,
             "#fdca26"
            ],
            [
             1,
             "#f0f921"
            ]
           ]
          },
          "colorway": [
           "#636efa",
           "#EF553B",
           "#00cc96",
           "#ab63fa",
           "#FFA15A",
           "#19d3f3",
           "#FF6692",
           "#B6E880",
           "#FF97FF",
           "#FECB52"
          ],
          "font": {
           "color": "#2a3f5f"
          },
          "geo": {
           "bgcolor": "white",
           "lakecolor": "white",
           "landcolor": "#E5ECF6",
           "showlakes": true,
           "showland": true,
           "subunitcolor": "white"
          },
          "hoverlabel": {
           "align": "left"
          },
          "hovermode": "closest",
          "mapbox": {
           "style": "light"
          },
          "paper_bgcolor": "white",
          "plot_bgcolor": "#E5ECF6",
          "polar": {
           "angularaxis": {
            "gridcolor": "white",
            "linecolor": "white",
            "ticks": ""
           },
           "bgcolor": "#E5ECF6",
           "radialaxis": {
            "gridcolor": "white",
            "linecolor": "white",
            "ticks": ""
           }
          },
          "scene": {
           "xaxis": {
            "backgroundcolor": "#E5ECF6",
            "gridcolor": "white",
            "gridwidth": 2,
            "linecolor": "white",
            "showbackground": true,
            "ticks": "",
            "zerolinecolor": "white"
           },
           "yaxis": {
            "backgroundcolor": "#E5ECF6",
            "gridcolor": "white",
            "gridwidth": 2,
            "linecolor": "white",
            "showbackground": true,
            "ticks": "",
            "zerolinecolor": "white"
           },
           "zaxis": {
            "backgroundcolor": "#E5ECF6",
            "gridcolor": "white",
            "gridwidth": 2,
            "linecolor": "white",
            "showbackground": true,
            "ticks": "",
            "zerolinecolor": "white"
           }
          },
          "shapedefaults": {
           "line": {
            "color": "#2a3f5f"
           }
          },
          "ternary": {
           "aaxis": {
            "gridcolor": "white",
            "linecolor": "white",
            "ticks": ""
           },
           "baxis": {
            "gridcolor": "white",
            "linecolor": "white",
            "ticks": ""
           },
           "bgcolor": "#E5ECF6",
           "caxis": {
            "gridcolor": "white",
            "linecolor": "white",
            "ticks": ""
           }
          },
          "title": {
           "x": 0.05
          },
          "xaxis": {
           "automargin": true,
           "gridcolor": "white",
           "linecolor": "white",
           "ticks": "",
           "title": {
            "standoff": 15
           },
           "zerolinecolor": "white",
           "zerolinewidth": 2
          },
          "yaxis": {
           "automargin": true,
           "gridcolor": "white",
           "linecolor": "white",
           "ticks": "",
           "title": {
            "standoff": 15
           },
           "zerolinecolor": "white",
           "zerolinewidth": 2
          }
         }
        },
        "title": {
         "text": "Optimization History Plot"
        },
        "xaxis": {
         "title": {
          "text": "Trial"
         }
        },
        "yaxis": {
         "title": {
          "text": "Objective Value"
         }
        }
       }
      }
     },
     "metadata": {},
     "output_type": "display_data"
    }
   ],
   "source": [
    "optuna.visualization.plot_optimization_history(study)"
   ]
  },
  {
   "cell_type": "code",
   "execution_count": 29,
   "metadata": {},
   "outputs": [
    {
     "data": {
      "text/plain": [
       "{'alpha': 0.33429279941592943, 'l1_ratio': 1, 'max_iter': 2594}"
      ]
     },
     "execution_count": 29,
     "metadata": {},
     "output_type": "execute_result"
    }
   ],
   "source": [
    "elastic_best_params = study.best_params\n",
    "elastic_best_params"
   ]
  },
  {
   "cell_type": "markdown",
   "metadata": {},
   "source": [
    "# All Results"
   ]
  },
  {
   "cell_type": "code",
   "execution_count": 47,
   "metadata": {},
   "outputs": [],
   "source": [
    "model_elasticnet = ElasticNet(alpha=elastic_best_params['alpha'], l1_ratio=elastic_best_params['l1_ratio'], max_iter=elastic_best_params['max_iter'])\n",
    "model_ridge = Ridge(alpha = ridge_best_params['alpha'], max_iter = ridge_best_params['max_iter'])\n",
    "model_lasso = Lasso(alpha = lasso_best_params['alpha'], max_iter = lasso_best_params['max_iter'])\n",
    "rf_model = RandomForestRegressor(n_estimators = rf_best_params['n_estimators'], max_depth=rf_best_params['max_depth'])\n",
    "dt_model = DecisionTreeRegressor(max_depth=dt_best_params['max_depth'])\n",
    "\n"
   ]
  },
  {
   "cell_type": "code",
   "execution_count": 48,
   "metadata": {},
   "outputs": [
    {
     "data": {
      "text/html": [
       "<style>#sk-container-id-2 {color: black;}#sk-container-id-2 pre{padding: 0;}#sk-container-id-2 div.sk-toggleable {background-color: white;}#sk-container-id-2 label.sk-toggleable__label {cursor: pointer;display: block;width: 100%;margin-bottom: 0;padding: 0.3em;box-sizing: border-box;text-align: center;}#sk-container-id-2 label.sk-toggleable__label-arrow:before {content: \"▸\";float: left;margin-right: 0.25em;color: #696969;}#sk-container-id-2 label.sk-toggleable__label-arrow:hover:before {color: black;}#sk-container-id-2 div.sk-estimator:hover label.sk-toggleable__label-arrow:before {color: black;}#sk-container-id-2 div.sk-toggleable__content {max-height: 0;max-width: 0;overflow: hidden;text-align: left;background-color: #f0f8ff;}#sk-container-id-2 div.sk-toggleable__content pre {margin: 0.2em;color: black;border-radius: 0.25em;background-color: #f0f8ff;}#sk-container-id-2 input.sk-toggleable__control:checked~div.sk-toggleable__content {max-height: 200px;max-width: 100%;overflow: auto;}#sk-container-id-2 input.sk-toggleable__control:checked~label.sk-toggleable__label-arrow:before {content: \"▾\";}#sk-container-id-2 div.sk-estimator input.sk-toggleable__control:checked~label.sk-toggleable__label {background-color: #d4ebff;}#sk-container-id-2 div.sk-label input.sk-toggleable__control:checked~label.sk-toggleable__label {background-color: #d4ebff;}#sk-container-id-2 input.sk-hidden--visually {border: 0;clip: rect(1px 1px 1px 1px);clip: rect(1px, 1px, 1px, 1px);height: 1px;margin: -1px;overflow: hidden;padding: 0;position: absolute;width: 1px;}#sk-container-id-2 div.sk-estimator {font-family: monospace;background-color: #f0f8ff;border: 1px dotted black;border-radius: 0.25em;box-sizing: border-box;margin-bottom: 0.5em;}#sk-container-id-2 div.sk-estimator:hover {background-color: #d4ebff;}#sk-container-id-2 div.sk-parallel-item::after {content: \"\";width: 100%;border-bottom: 1px solid gray;flex-grow: 1;}#sk-container-id-2 div.sk-label:hover label.sk-toggleable__label {background-color: #d4ebff;}#sk-container-id-2 div.sk-serial::before {content: \"\";position: absolute;border-left: 1px solid gray;box-sizing: border-box;top: 0;bottom: 0;left: 50%;z-index: 0;}#sk-container-id-2 div.sk-serial {display: flex;flex-direction: column;align-items: center;background-color: white;padding-right: 0.2em;padding-left: 0.2em;position: relative;}#sk-container-id-2 div.sk-item {position: relative;z-index: 1;}#sk-container-id-2 div.sk-parallel {display: flex;align-items: stretch;justify-content: center;background-color: white;position: relative;}#sk-container-id-2 div.sk-item::before, #sk-container-id-2 div.sk-parallel-item::before {content: \"\";position: absolute;border-left: 1px solid gray;box-sizing: border-box;top: 0;bottom: 0;left: 50%;z-index: -1;}#sk-container-id-2 div.sk-parallel-item {display: flex;flex-direction: column;z-index: 1;position: relative;background-color: white;}#sk-container-id-2 div.sk-parallel-item:first-child::after {align-self: flex-end;width: 50%;}#sk-container-id-2 div.sk-parallel-item:last-child::after {align-self: flex-start;width: 50%;}#sk-container-id-2 div.sk-parallel-item:only-child::after {width: 0;}#sk-container-id-2 div.sk-dashed-wrapped {border: 1px dashed gray;margin: 0 0.4em 0.5em 0.4em;box-sizing: border-box;padding-bottom: 0.4em;background-color: white;}#sk-container-id-2 div.sk-label label {font-family: monospace;font-weight: bold;display: inline-block;line-height: 1.2em;}#sk-container-id-2 div.sk-label-container {text-align: center;}#sk-container-id-2 div.sk-container {/* jupyter's `normalize.less` sets `[hidden] { display: none; }` but bootstrap.min.css set `[hidden] { display: none !important; }` so we also need the `!important` here to be able to override the default hidden behavior on the sphinx rendered scikit-learn.org. See: https://github.com/scikit-learn/scikit-learn/issues/21755 */display: inline-block !important;position: relative;}#sk-container-id-2 div.sk-text-repr-fallback {display: none;}</style><div id=\"sk-container-id-2\" class=\"sk-top-container\"><div class=\"sk-text-repr-fallback\"><pre>DecisionTreeRegressor(max_depth=5)</pre><b>In a Jupyter environment, please rerun this cell to show the HTML representation or trust the notebook. <br />On GitHub, the HTML representation is unable to render, please try loading this page with nbviewer.org.</b></div><div class=\"sk-container\" hidden><div class=\"sk-item\"><div class=\"sk-estimator sk-toggleable\"><input class=\"sk-toggleable__control sk-hidden--visually\" id=\"sk-estimator-id-2\" type=\"checkbox\" checked><label for=\"sk-estimator-id-2\" class=\"sk-toggleable__label sk-toggleable__label-arrow\">DecisionTreeRegressor</label><div class=\"sk-toggleable__content\"><pre>DecisionTreeRegressor(max_depth=5)</pre></div></div></div></div></div>"
      ],
      "text/plain": [
       "DecisionTreeRegressor(max_depth=5)"
      ]
     },
     "execution_count": 48,
     "metadata": {},
     "output_type": "execute_result"
    }
   ],
   "source": [
    "model_elasticnet.fit(X_train, y_train)\n",
    "model_ridge.fit(X_train, y_train)\n",
    "model_lasso.fit(X_train, y_train)\n",
    "rf_model.fit(X_train, y_train)\n",
    "dt_model.fit(X_train, y_train)"
   ]
  },
  {
   "cell_type": "code",
   "execution_count": 49,
   "metadata": {},
   "outputs": [],
   "source": [
    "model_list = [model_elasticnet, model_ridge, model_lasso, rf_model, dt_model]\n",
    "model_names = ['ElasticNet', 'Ridge', 'Lasso', 'Random Forest', 'Decision Tree']\n",
    "\n",
    "# Nos dados de Treinamento\n",
    "train_dataset = pd.DataFrame()\n",
    "test_dataset = pd.DataFrame()\n",
    "val_dataset = pd.DataFrame()"
   ]
  },
  {
   "cell_type": "code",
   "execution_count": 50,
   "metadata": {},
   "outputs": [
    {
     "data": {
      "text/html": [
       "<div>\n",
       "<style scoped>\n",
       "    .dataframe tbody tr th:only-of-type {\n",
       "        vertical-align: middle;\n",
       "    }\n",
       "\n",
       "    .dataframe tbody tr th {\n",
       "        vertical-align: top;\n",
       "    }\n",
       "\n",
       "    .dataframe thead th {\n",
       "        text-align: right;\n",
       "    }\n",
       "</style>\n",
       "<table border=\"1\" class=\"dataframe\">\n",
       "  <thead>\n",
       "    <tr style=\"text-align: right;\">\n",
       "      <th></th>\n",
       "      <th>model_name</th>\n",
       "      <th>R2</th>\n",
       "      <th>MSE</th>\n",
       "      <th>RMSE</th>\n",
       "      <th>MAE</th>\n",
       "      <th>MAPE</th>\n",
       "      <th>Dataset</th>\n",
       "    </tr>\n",
       "  </thead>\n",
       "  <tbody>\n",
       "    <tr>\n",
       "      <th>0</th>\n",
       "      <td>ElasticNet</td>\n",
       "      <td>0.017757</td>\n",
       "      <td>469.524320</td>\n",
       "      <td>21.668510</td>\n",
       "      <td>17.221129</td>\n",
       "      <td>8.702231</td>\n",
       "      <td>Train</td>\n",
       "    </tr>\n",
       "    <tr>\n",
       "      <th>0</th>\n",
       "      <td>Ridge</td>\n",
       "      <td>0.046045</td>\n",
       "      <td>456.002667</td>\n",
       "      <td>21.354219</td>\n",
       "      <td>16.998596</td>\n",
       "      <td>8.654275</td>\n",
       "      <td>Train</td>\n",
       "    </tr>\n",
       "    <tr>\n",
       "      <th>0</th>\n",
       "      <td>Lasso</td>\n",
       "      <td>0.041217</td>\n",
       "      <td>458.310185</td>\n",
       "      <td>21.408180</td>\n",
       "      <td>17.046789</td>\n",
       "      <td>8.667964</td>\n",
       "      <td>Train</td>\n",
       "    </tr>\n",
       "    <tr>\n",
       "      <th>0</th>\n",
       "      <td>Random Forest</td>\n",
       "      <td>0.904418</td>\n",
       "      <td>45.689508</td>\n",
       "      <td>6.759401</td>\n",
       "      <td>4.848931</td>\n",
       "      <td>2.623909</td>\n",
       "      <td>Train</td>\n",
       "    </tr>\n",
       "    <tr>\n",
       "      <th>0</th>\n",
       "      <td>Decision Tree</td>\n",
       "      <td>0.113523</td>\n",
       "      <td>423.747268</td>\n",
       "      <td>20.585122</td>\n",
       "      <td>16.368766</td>\n",
       "      <td>7.869536</td>\n",
       "      <td>Train</td>\n",
       "    </tr>\n",
       "  </tbody>\n",
       "</table>\n",
       "</div>"
      ],
      "text/plain": [
       "      model_name        R2         MSE       RMSE        MAE      MAPE Dataset\n",
       "0     ElasticNet  0.017757  469.524320  21.668510  17.221129  8.702231   Train\n",
       "0          Ridge  0.046045  456.002667  21.354219  16.998596  8.654275   Train\n",
       "0          Lasso  0.041217  458.310185  21.408180  17.046789  8.667964   Train\n",
       "0  Random Forest  0.904418   45.689508   6.759401   4.848931  2.623909   Train\n",
       "0  Decision Tree  0.113523  423.747268  20.585122  16.368766  7.869536   Train"
      ]
     },
     "execution_count": 50,
     "metadata": {},
     "output_type": "execute_result"
    }
   ],
   "source": [
    "for model, model_name in zip(model_list, model_names):\n",
    "    y_pred = model.predict(X_train)\n",
    "    results = calculate_metrics(y_train, y_pred, model_name)\n",
    "    train_dataset = pd.concat([train_dataset, pd.DataFrame([results])])\n",
    "train_dataset['Dataset'] = 'Train'\n",
    "train_dataset"
   ]
  },
  {
   "cell_type": "code",
   "execution_count": 58,
   "metadata": {},
   "outputs": [
    {
     "name": "stdout",
     "output_type": "stream",
     "text": [
      "ElasticNet\n",
      "Ridge\n",
      "Lasso\n",
      "Random Forest\n",
      "Decision Tree\n"
     ]
    },
    {
     "data": {
      "text/html": [
       "<div>\n",
       "<style scoped>\n",
       "    .dataframe tbody tr th:only-of-type {\n",
       "        vertical-align: middle;\n",
       "    }\n",
       "\n",
       "    .dataframe tbody tr th {\n",
       "        vertical-align: top;\n",
       "    }\n",
       "\n",
       "    .dataframe thead th {\n",
       "        text-align: right;\n",
       "    }\n",
       "</style>\n",
       "<table border=\"1\" class=\"dataframe\">\n",
       "  <thead>\n",
       "    <tr style=\"text-align: right;\">\n",
       "      <th></th>\n",
       "      <th>model_name</th>\n",
       "      <th>R2</th>\n",
       "      <th>MSE</th>\n",
       "      <th>RMSE</th>\n",
       "      <th>MAE</th>\n",
       "      <th>MAPE</th>\n",
       "      <th>Dataset</th>\n",
       "    </tr>\n",
       "  </thead>\n",
       "  <tbody>\n",
       "    <tr>\n",
       "      <th>0</th>\n",
       "      <td>ElasticNet</td>\n",
       "      <td>0.016887</td>\n",
       "      <td>469.448005</td>\n",
       "      <td>21.666749</td>\n",
       "      <td>17.180003</td>\n",
       "      <td>8.677335</td>\n",
       "      <td>Validation</td>\n",
       "    </tr>\n",
       "    <tr>\n",
       "      <th>0</th>\n",
       "      <td>Ridge</td>\n",
       "      <td>0.039936</td>\n",
       "      <td>458.441514</td>\n",
       "      <td>21.411247</td>\n",
       "      <td>17.038532</td>\n",
       "      <td>8.681918</td>\n",
       "      <td>Validation</td>\n",
       "    </tr>\n",
       "    <tr>\n",
       "      <th>0</th>\n",
       "      <td>Lasso</td>\n",
       "      <td>0.037194</td>\n",
       "      <td>459.750945</td>\n",
       "      <td>21.441804</td>\n",
       "      <td>17.047454</td>\n",
       "      <td>8.686901</td>\n",
       "      <td>Validation</td>\n",
       "    </tr>\n",
       "    <tr>\n",
       "      <th>0</th>\n",
       "      <td>Random Forest</td>\n",
       "      <td>0.334890</td>\n",
       "      <td>317.597588</td>\n",
       "      <td>17.821268</td>\n",
       "      <td>12.999110</td>\n",
       "      <td>7.072808</td>\n",
       "      <td>Validation</td>\n",
       "    </tr>\n",
       "    <tr>\n",
       "      <th>0</th>\n",
       "      <td>Decision Tree</td>\n",
       "      <td>0.063559</td>\n",
       "      <td>447.161319</td>\n",
       "      <td>21.146189</td>\n",
       "      <td>16.843452</td>\n",
       "      <td>8.395778</td>\n",
       "      <td>Validation</td>\n",
       "    </tr>\n",
       "    <tr>\n",
       "      <th>0</th>\n",
       "      <td>ElasticNet</td>\n",
       "      <td>0.016887</td>\n",
       "      <td>469.448005</td>\n",
       "      <td>21.666749</td>\n",
       "      <td>17.180003</td>\n",
       "      <td>8.677335</td>\n",
       "      <td>Validation</td>\n",
       "    </tr>\n",
       "    <tr>\n",
       "      <th>0</th>\n",
       "      <td>Ridge</td>\n",
       "      <td>0.039936</td>\n",
       "      <td>458.441514</td>\n",
       "      <td>21.411247</td>\n",
       "      <td>17.038532</td>\n",
       "      <td>8.681918</td>\n",
       "      <td>Validation</td>\n",
       "    </tr>\n",
       "    <tr>\n",
       "      <th>0</th>\n",
       "      <td>Lasso</td>\n",
       "      <td>0.037194</td>\n",
       "      <td>459.750945</td>\n",
       "      <td>21.441804</td>\n",
       "      <td>17.047454</td>\n",
       "      <td>8.686901</td>\n",
       "      <td>Validation</td>\n",
       "    </tr>\n",
       "    <tr>\n",
       "      <th>0</th>\n",
       "      <td>Random Forest</td>\n",
       "      <td>0.334890</td>\n",
       "      <td>317.597588</td>\n",
       "      <td>17.821268</td>\n",
       "      <td>12.999110</td>\n",
       "      <td>7.072808</td>\n",
       "      <td>Validation</td>\n",
       "    </tr>\n",
       "    <tr>\n",
       "      <th>0</th>\n",
       "      <td>Decision Tree</td>\n",
       "      <td>0.063559</td>\n",
       "      <td>447.161319</td>\n",
       "      <td>21.146189</td>\n",
       "      <td>16.843452</td>\n",
       "      <td>8.395778</td>\n",
       "      <td>Validation</td>\n",
       "    </tr>\n",
       "  </tbody>\n",
       "</table>\n",
       "</div>"
      ],
      "text/plain": [
       "      model_name        R2         MSE       RMSE        MAE      MAPE  \\\n",
       "0     ElasticNet  0.016887  469.448005  21.666749  17.180003  8.677335   \n",
       "0          Ridge  0.039936  458.441514  21.411247  17.038532  8.681918   \n",
       "0          Lasso  0.037194  459.750945  21.441804  17.047454  8.686901   \n",
       "0  Random Forest  0.334890  317.597588  17.821268  12.999110  7.072808   \n",
       "0  Decision Tree  0.063559  447.161319  21.146189  16.843452  8.395778   \n",
       "0     ElasticNet  0.016887  469.448005  21.666749  17.180003  8.677335   \n",
       "0          Ridge  0.039936  458.441514  21.411247  17.038532  8.681918   \n",
       "0          Lasso  0.037194  459.750945  21.441804  17.047454  8.686901   \n",
       "0  Random Forest  0.334890  317.597588  17.821268  12.999110  7.072808   \n",
       "0  Decision Tree  0.063559  447.161319  21.146189  16.843452  8.395778   \n",
       "\n",
       "      Dataset  \n",
       "0  Validation  \n",
       "0  Validation  \n",
       "0  Validation  \n",
       "0  Validation  \n",
       "0  Validation  \n",
       "0  Validation  \n",
       "0  Validation  \n",
       "0  Validation  \n",
       "0  Validation  \n",
       "0  Validation  "
      ]
     },
     "execution_count": 58,
     "metadata": {},
     "output_type": "execute_result"
    }
   ],
   "source": [
    "# Nos dados de Validation\n",
    "for model, model_name in zip(model_list, model_names):\n",
    "    print(model_name)\n",
    "    y_pred = model.predict(np.array(X_val))\n",
    "    results = calculate_metrics(y_val, y_pred, model_name)\n",
    "    val_dataset = pd.concat([val_dataset, pd.DataFrame([results])])\n",
    "val_dataset['Dataset'] = 'Validation'\n",
    "val_dataset"
   ]
  },
  {
   "cell_type": "code",
   "execution_count": 59,
   "metadata": {},
   "outputs": [
    {
     "name": "stdout",
     "output_type": "stream",
     "text": [
      "ElasticNet\n",
      "Ridge\n",
      "Lasso\n",
      "Random Forest\n",
      "Decision Tree\n"
     ]
    },
    {
     "data": {
      "text/html": [
       "<div>\n",
       "<style scoped>\n",
       "    .dataframe tbody tr th:only-of-type {\n",
       "        vertical-align: middle;\n",
       "    }\n",
       "\n",
       "    .dataframe tbody tr th {\n",
       "        vertical-align: top;\n",
       "    }\n",
       "\n",
       "    .dataframe thead th {\n",
       "        text-align: right;\n",
       "    }\n",
       "</style>\n",
       "<table border=\"1\" class=\"dataframe\">\n",
       "  <thead>\n",
       "    <tr style=\"text-align: right;\">\n",
       "      <th></th>\n",
       "      <th>model_name</th>\n",
       "      <th>R2</th>\n",
       "      <th>MSE</th>\n",
       "      <th>RMSE</th>\n",
       "      <th>MAE</th>\n",
       "      <th>MAPE</th>\n",
       "      <th>Dataset</th>\n",
       "    </tr>\n",
       "  </thead>\n",
       "  <tbody>\n",
       "    <tr>\n",
       "      <th>0</th>\n",
       "      <td>ElasticNet</td>\n",
       "      <td>0.019338</td>\n",
       "      <td>477.485393</td>\n",
       "      <td>21.851439</td>\n",
       "      <td>17.361042</td>\n",
       "      <td>8.696786</td>\n",
       "      <td>Test</td>\n",
       "    </tr>\n",
       "    <tr>\n",
       "      <th>0</th>\n",
       "      <td>Ridge</td>\n",
       "      <td>0.052265</td>\n",
       "      <td>461.452970</td>\n",
       "      <td>21.481456</td>\n",
       "      <td>17.128819</td>\n",
       "      <td>8.526457</td>\n",
       "      <td>Test</td>\n",
       "    </tr>\n",
       "    <tr>\n",
       "      <th>0</th>\n",
       "      <td>Lasso</td>\n",
       "      <td>0.044726</td>\n",
       "      <td>465.123906</td>\n",
       "      <td>21.566731</td>\n",
       "      <td>17.175617</td>\n",
       "      <td>8.592956</td>\n",
       "      <td>Test</td>\n",
       "    </tr>\n",
       "    <tr>\n",
       "      <th>0</th>\n",
       "      <td>Random Forest</td>\n",
       "      <td>0.353594</td>\n",
       "      <td>314.735828</td>\n",
       "      <td>17.740796</td>\n",
       "      <td>13.034271</td>\n",
       "      <td>6.596408</td>\n",
       "      <td>Test</td>\n",
       "    </tr>\n",
       "    <tr>\n",
       "      <th>0</th>\n",
       "      <td>Decision Tree</td>\n",
       "      <td>0.072181</td>\n",
       "      <td>451.755789</td>\n",
       "      <td>21.254547</td>\n",
       "      <td>17.010757</td>\n",
       "      <td>7.833952</td>\n",
       "      <td>Test</td>\n",
       "    </tr>\n",
       "    <tr>\n",
       "      <th>0</th>\n",
       "      <td>ElasticNet</td>\n",
       "      <td>0.019338</td>\n",
       "      <td>477.485393</td>\n",
       "      <td>21.851439</td>\n",
       "      <td>17.361042</td>\n",
       "      <td>8.696786</td>\n",
       "      <td>Test</td>\n",
       "    </tr>\n",
       "    <tr>\n",
       "      <th>0</th>\n",
       "      <td>Ridge</td>\n",
       "      <td>0.052265</td>\n",
       "      <td>461.452970</td>\n",
       "      <td>21.481456</td>\n",
       "      <td>17.128819</td>\n",
       "      <td>8.526457</td>\n",
       "      <td>Test</td>\n",
       "    </tr>\n",
       "    <tr>\n",
       "      <th>0</th>\n",
       "      <td>Lasso</td>\n",
       "      <td>0.044726</td>\n",
       "      <td>465.123906</td>\n",
       "      <td>21.566731</td>\n",
       "      <td>17.175617</td>\n",
       "      <td>8.592956</td>\n",
       "      <td>Test</td>\n",
       "    </tr>\n",
       "    <tr>\n",
       "      <th>0</th>\n",
       "      <td>Random Forest</td>\n",
       "      <td>0.353594</td>\n",
       "      <td>314.735828</td>\n",
       "      <td>17.740796</td>\n",
       "      <td>13.034271</td>\n",
       "      <td>6.596408</td>\n",
       "      <td>Test</td>\n",
       "    </tr>\n",
       "    <tr>\n",
       "      <th>0</th>\n",
       "      <td>Decision Tree</td>\n",
       "      <td>0.072181</td>\n",
       "      <td>451.755789</td>\n",
       "      <td>21.254547</td>\n",
       "      <td>17.010757</td>\n",
       "      <td>7.833952</td>\n",
       "      <td>Test</td>\n",
       "    </tr>\n",
       "  </tbody>\n",
       "</table>\n",
       "</div>"
      ],
      "text/plain": [
       "      model_name        R2         MSE       RMSE        MAE      MAPE Dataset\n",
       "0     ElasticNet  0.019338  477.485393  21.851439  17.361042  8.696786    Test\n",
       "0          Ridge  0.052265  461.452970  21.481456  17.128819  8.526457    Test\n",
       "0          Lasso  0.044726  465.123906  21.566731  17.175617  8.592956    Test\n",
       "0  Random Forest  0.353594  314.735828  17.740796  13.034271  6.596408    Test\n",
       "0  Decision Tree  0.072181  451.755789  21.254547  17.010757  7.833952    Test\n",
       "0     ElasticNet  0.019338  477.485393  21.851439  17.361042  8.696786    Test\n",
       "0          Ridge  0.052265  461.452970  21.481456  17.128819  8.526457    Test\n",
       "0          Lasso  0.044726  465.123906  21.566731  17.175617  8.592956    Test\n",
       "0  Random Forest  0.353594  314.735828  17.740796  13.034271  6.596408    Test\n",
       "0  Decision Tree  0.072181  451.755789  21.254547  17.010757  7.833952    Test"
      ]
     },
     "execution_count": 59,
     "metadata": {},
     "output_type": "execute_result"
    }
   ],
   "source": [
    "for model, model_name in zip(model_list, model_names):\n",
    "    print(model_name)\n",
    "    y_pred = model.predict(np.array(X_test))\n",
    "    results = calculate_metrics(y_test, y_pred, model_name)\n",
    "    test_dataset = pd.concat([test_dataset, pd.DataFrame([results])])\n",
    "test_dataset['Dataset'] = 'Test'\n",
    "test_dataset"
   ]
  },
  {
   "cell_type": "code",
   "execution_count": null,
   "metadata": {},
   "outputs": [],
   "source": []
  },
  {
   "cell_type": "markdown",
   "metadata": {},
   "source": [
    "# Join Results"
   ]
  },
  {
   "cell_type": "code",
   "execution_count": 60,
   "metadata": {},
   "outputs": [
    {
     "data": {
      "text/html": [
       "<div>\n",
       "<style scoped>\n",
       "    .dataframe tbody tr th:only-of-type {\n",
       "        vertical-align: middle;\n",
       "    }\n",
       "\n",
       "    .dataframe tbody tr th {\n",
       "        vertical-align: top;\n",
       "    }\n",
       "\n",
       "    .dataframe thead th {\n",
       "        text-align: right;\n",
       "    }\n",
       "</style>\n",
       "<table border=\"1\" class=\"dataframe\">\n",
       "  <thead>\n",
       "    <tr style=\"text-align: right;\">\n",
       "      <th></th>\n",
       "      <th>model_name</th>\n",
       "      <th>R2</th>\n",
       "      <th>MSE</th>\n",
       "      <th>RMSE</th>\n",
       "      <th>MAE</th>\n",
       "      <th>MAPE</th>\n",
       "      <th>Dataset</th>\n",
       "    </tr>\n",
       "  </thead>\n",
       "  <tbody>\n",
       "    <tr>\n",
       "      <th>0</th>\n",
       "      <td>ElasticNet</td>\n",
       "      <td>0.017757</td>\n",
       "      <td>469.524320</td>\n",
       "      <td>21.668510</td>\n",
       "      <td>17.221129</td>\n",
       "      <td>8.702231</td>\n",
       "      <td>Train</td>\n",
       "    </tr>\n",
       "    <tr>\n",
       "      <th>0</th>\n",
       "      <td>Ridge</td>\n",
       "      <td>0.046045</td>\n",
       "      <td>456.002667</td>\n",
       "      <td>21.354219</td>\n",
       "      <td>16.998596</td>\n",
       "      <td>8.654275</td>\n",
       "      <td>Train</td>\n",
       "    </tr>\n",
       "    <tr>\n",
       "      <th>0</th>\n",
       "      <td>Lasso</td>\n",
       "      <td>0.041217</td>\n",
       "      <td>458.310185</td>\n",
       "      <td>21.408180</td>\n",
       "      <td>17.046789</td>\n",
       "      <td>8.667964</td>\n",
       "      <td>Train</td>\n",
       "    </tr>\n",
       "    <tr>\n",
       "      <th>0</th>\n",
       "      <td>Random Forest</td>\n",
       "      <td>0.904418</td>\n",
       "      <td>45.689508</td>\n",
       "      <td>6.759401</td>\n",
       "      <td>4.848931</td>\n",
       "      <td>2.623909</td>\n",
       "      <td>Train</td>\n",
       "    </tr>\n",
       "    <tr>\n",
       "      <th>0</th>\n",
       "      <td>Decision Tree</td>\n",
       "      <td>0.113523</td>\n",
       "      <td>423.747268</td>\n",
       "      <td>20.585122</td>\n",
       "      <td>16.368766</td>\n",
       "      <td>7.869536</td>\n",
       "      <td>Train</td>\n",
       "    </tr>\n",
       "    <tr>\n",
       "      <th>0</th>\n",
       "      <td>ElasticNet</td>\n",
       "      <td>0.016887</td>\n",
       "      <td>469.448005</td>\n",
       "      <td>21.666749</td>\n",
       "      <td>17.180003</td>\n",
       "      <td>8.677335</td>\n",
       "      <td>Validation</td>\n",
       "    </tr>\n",
       "    <tr>\n",
       "      <th>0</th>\n",
       "      <td>Ridge</td>\n",
       "      <td>0.039936</td>\n",
       "      <td>458.441514</td>\n",
       "      <td>21.411247</td>\n",
       "      <td>17.038532</td>\n",
       "      <td>8.681918</td>\n",
       "      <td>Validation</td>\n",
       "    </tr>\n",
       "    <tr>\n",
       "      <th>0</th>\n",
       "      <td>Lasso</td>\n",
       "      <td>0.037194</td>\n",
       "      <td>459.750945</td>\n",
       "      <td>21.441804</td>\n",
       "      <td>17.047454</td>\n",
       "      <td>8.686901</td>\n",
       "      <td>Validation</td>\n",
       "    </tr>\n",
       "    <tr>\n",
       "      <th>0</th>\n",
       "      <td>Random Forest</td>\n",
       "      <td>0.334890</td>\n",
       "      <td>317.597588</td>\n",
       "      <td>17.821268</td>\n",
       "      <td>12.999110</td>\n",
       "      <td>7.072808</td>\n",
       "      <td>Validation</td>\n",
       "    </tr>\n",
       "    <tr>\n",
       "      <th>0</th>\n",
       "      <td>Decision Tree</td>\n",
       "      <td>0.063559</td>\n",
       "      <td>447.161319</td>\n",
       "      <td>21.146189</td>\n",
       "      <td>16.843452</td>\n",
       "      <td>8.395778</td>\n",
       "      <td>Validation</td>\n",
       "    </tr>\n",
       "    <tr>\n",
       "      <th>0</th>\n",
       "      <td>ElasticNet</td>\n",
       "      <td>0.016887</td>\n",
       "      <td>469.448005</td>\n",
       "      <td>21.666749</td>\n",
       "      <td>17.180003</td>\n",
       "      <td>8.677335</td>\n",
       "      <td>Validation</td>\n",
       "    </tr>\n",
       "    <tr>\n",
       "      <th>0</th>\n",
       "      <td>Ridge</td>\n",
       "      <td>0.039936</td>\n",
       "      <td>458.441514</td>\n",
       "      <td>21.411247</td>\n",
       "      <td>17.038532</td>\n",
       "      <td>8.681918</td>\n",
       "      <td>Validation</td>\n",
       "    </tr>\n",
       "    <tr>\n",
       "      <th>0</th>\n",
       "      <td>Lasso</td>\n",
       "      <td>0.037194</td>\n",
       "      <td>459.750945</td>\n",
       "      <td>21.441804</td>\n",
       "      <td>17.047454</td>\n",
       "      <td>8.686901</td>\n",
       "      <td>Validation</td>\n",
       "    </tr>\n",
       "    <tr>\n",
       "      <th>0</th>\n",
       "      <td>Random Forest</td>\n",
       "      <td>0.334890</td>\n",
       "      <td>317.597588</td>\n",
       "      <td>17.821268</td>\n",
       "      <td>12.999110</td>\n",
       "      <td>7.072808</td>\n",
       "      <td>Validation</td>\n",
       "    </tr>\n",
       "    <tr>\n",
       "      <th>0</th>\n",
       "      <td>Decision Tree</td>\n",
       "      <td>0.063559</td>\n",
       "      <td>447.161319</td>\n",
       "      <td>21.146189</td>\n",
       "      <td>16.843452</td>\n",
       "      <td>8.395778</td>\n",
       "      <td>Validation</td>\n",
       "    </tr>\n",
       "    <tr>\n",
       "      <th>0</th>\n",
       "      <td>ElasticNet</td>\n",
       "      <td>0.019338</td>\n",
       "      <td>477.485393</td>\n",
       "      <td>21.851439</td>\n",
       "      <td>17.361042</td>\n",
       "      <td>8.696786</td>\n",
       "      <td>Test</td>\n",
       "    </tr>\n",
       "    <tr>\n",
       "      <th>0</th>\n",
       "      <td>Ridge</td>\n",
       "      <td>0.052265</td>\n",
       "      <td>461.452970</td>\n",
       "      <td>21.481456</td>\n",
       "      <td>17.128819</td>\n",
       "      <td>8.526457</td>\n",
       "      <td>Test</td>\n",
       "    </tr>\n",
       "    <tr>\n",
       "      <th>0</th>\n",
       "      <td>Lasso</td>\n",
       "      <td>0.044726</td>\n",
       "      <td>465.123906</td>\n",
       "      <td>21.566731</td>\n",
       "      <td>17.175617</td>\n",
       "      <td>8.592956</td>\n",
       "      <td>Test</td>\n",
       "    </tr>\n",
       "    <tr>\n",
       "      <th>0</th>\n",
       "      <td>Random Forest</td>\n",
       "      <td>0.353594</td>\n",
       "      <td>314.735828</td>\n",
       "      <td>17.740796</td>\n",
       "      <td>13.034271</td>\n",
       "      <td>6.596408</td>\n",
       "      <td>Test</td>\n",
       "    </tr>\n",
       "    <tr>\n",
       "      <th>0</th>\n",
       "      <td>Decision Tree</td>\n",
       "      <td>0.072181</td>\n",
       "      <td>451.755789</td>\n",
       "      <td>21.254547</td>\n",
       "      <td>17.010757</td>\n",
       "      <td>7.833952</td>\n",
       "      <td>Test</td>\n",
       "    </tr>\n",
       "    <tr>\n",
       "      <th>0</th>\n",
       "      <td>ElasticNet</td>\n",
       "      <td>0.019338</td>\n",
       "      <td>477.485393</td>\n",
       "      <td>21.851439</td>\n",
       "      <td>17.361042</td>\n",
       "      <td>8.696786</td>\n",
       "      <td>Test</td>\n",
       "    </tr>\n",
       "    <tr>\n",
       "      <th>0</th>\n",
       "      <td>Ridge</td>\n",
       "      <td>0.052265</td>\n",
       "      <td>461.452970</td>\n",
       "      <td>21.481456</td>\n",
       "      <td>17.128819</td>\n",
       "      <td>8.526457</td>\n",
       "      <td>Test</td>\n",
       "    </tr>\n",
       "    <tr>\n",
       "      <th>0</th>\n",
       "      <td>Lasso</td>\n",
       "      <td>0.044726</td>\n",
       "      <td>465.123906</td>\n",
       "      <td>21.566731</td>\n",
       "      <td>17.175617</td>\n",
       "      <td>8.592956</td>\n",
       "      <td>Test</td>\n",
       "    </tr>\n",
       "    <tr>\n",
       "      <th>0</th>\n",
       "      <td>Random Forest</td>\n",
       "      <td>0.353594</td>\n",
       "      <td>314.735828</td>\n",
       "      <td>17.740796</td>\n",
       "      <td>13.034271</td>\n",
       "      <td>6.596408</td>\n",
       "      <td>Test</td>\n",
       "    </tr>\n",
       "    <tr>\n",
       "      <th>0</th>\n",
       "      <td>Decision Tree</td>\n",
       "      <td>0.072181</td>\n",
       "      <td>451.755789</td>\n",
       "      <td>21.254547</td>\n",
       "      <td>17.010757</td>\n",
       "      <td>7.833952</td>\n",
       "      <td>Test</td>\n",
       "    </tr>\n",
       "  </tbody>\n",
       "</table>\n",
       "</div>"
      ],
      "text/plain": [
       "      model_name        R2         MSE       RMSE        MAE      MAPE  \\\n",
       "0     ElasticNet  0.017757  469.524320  21.668510  17.221129  8.702231   \n",
       "0          Ridge  0.046045  456.002667  21.354219  16.998596  8.654275   \n",
       "0          Lasso  0.041217  458.310185  21.408180  17.046789  8.667964   \n",
       "0  Random Forest  0.904418   45.689508   6.759401   4.848931  2.623909   \n",
       "0  Decision Tree  0.113523  423.747268  20.585122  16.368766  7.869536   \n",
       "0     ElasticNet  0.016887  469.448005  21.666749  17.180003  8.677335   \n",
       "0          Ridge  0.039936  458.441514  21.411247  17.038532  8.681918   \n",
       "0          Lasso  0.037194  459.750945  21.441804  17.047454  8.686901   \n",
       "0  Random Forest  0.334890  317.597588  17.821268  12.999110  7.072808   \n",
       "0  Decision Tree  0.063559  447.161319  21.146189  16.843452  8.395778   \n",
       "0     ElasticNet  0.016887  469.448005  21.666749  17.180003  8.677335   \n",
       "0          Ridge  0.039936  458.441514  21.411247  17.038532  8.681918   \n",
       "0          Lasso  0.037194  459.750945  21.441804  17.047454  8.686901   \n",
       "0  Random Forest  0.334890  317.597588  17.821268  12.999110  7.072808   \n",
       "0  Decision Tree  0.063559  447.161319  21.146189  16.843452  8.395778   \n",
       "0     ElasticNet  0.019338  477.485393  21.851439  17.361042  8.696786   \n",
       "0          Ridge  0.052265  461.452970  21.481456  17.128819  8.526457   \n",
       "0          Lasso  0.044726  465.123906  21.566731  17.175617  8.592956   \n",
       "0  Random Forest  0.353594  314.735828  17.740796  13.034271  6.596408   \n",
       "0  Decision Tree  0.072181  451.755789  21.254547  17.010757  7.833952   \n",
       "0     ElasticNet  0.019338  477.485393  21.851439  17.361042  8.696786   \n",
       "0          Ridge  0.052265  461.452970  21.481456  17.128819  8.526457   \n",
       "0          Lasso  0.044726  465.123906  21.566731  17.175617  8.592956   \n",
       "0  Random Forest  0.353594  314.735828  17.740796  13.034271  6.596408   \n",
       "0  Decision Tree  0.072181  451.755789  21.254547  17.010757  7.833952   \n",
       "\n",
       "      Dataset  \n",
       "0       Train  \n",
       "0       Train  \n",
       "0       Train  \n",
       "0       Train  \n",
       "0       Train  \n",
       "0  Validation  \n",
       "0  Validation  \n",
       "0  Validation  \n",
       "0  Validation  \n",
       "0  Validation  \n",
       "0  Validation  \n",
       "0  Validation  \n",
       "0  Validation  \n",
       "0  Validation  \n",
       "0  Validation  \n",
       "0        Test  \n",
       "0        Test  \n",
       "0        Test  \n",
       "0        Test  \n",
       "0        Test  \n",
       "0        Test  \n",
       "0        Test  \n",
       "0        Test  \n",
       "0        Test  \n",
       "0        Test  "
      ]
     },
     "execution_count": 60,
     "metadata": {},
     "output_type": "execute_result"
    }
   ],
   "source": [
    "full_results = pd.concat([train_dataset, val_dataset, test_dataset])\n",
    "full_results"
   ]
  },
  {
   "cell_type": "markdown",
   "metadata": {},
   "source": [
    "## Comparing Performance"
   ]
  },
  {
   "cell_type": "code",
   "execution_count": 61,
   "metadata": {},
   "outputs": [],
   "source": [
    "list_datasets = np.unique(full_results['Dataset'])\n",
    "for i in list_datasets:\n",
    "    subset = full_results.loc[full_results['Dataset'] == i]"
   ]
  },
  {
   "cell_type": "code",
   "execution_count": 62,
   "metadata": {},
   "outputs": [
    {
     "data": {
      "text/html": [
       "<div>\n",
       "<style scoped>\n",
       "    .dataframe tbody tr th:only-of-type {\n",
       "        vertical-align: middle;\n",
       "    }\n",
       "\n",
       "    .dataframe tbody tr th {\n",
       "        vertical-align: top;\n",
       "    }\n",
       "\n",
       "    .dataframe thead th {\n",
       "        text-align: right;\n",
       "    }\n",
       "</style>\n",
       "<table border=\"1\" class=\"dataframe\">\n",
       "  <thead>\n",
       "    <tr style=\"text-align: right;\">\n",
       "      <th></th>\n",
       "      <th>model_name</th>\n",
       "      <th>R2</th>\n",
       "      <th>MSE</th>\n",
       "      <th>RMSE</th>\n",
       "      <th>MAE</th>\n",
       "      <th>MAPE</th>\n",
       "      <th>Dataset</th>\n",
       "    </tr>\n",
       "  </thead>\n",
       "  <tbody>\n",
       "    <tr>\n",
       "      <th>0</th>\n",
       "      <td>ElasticNet</td>\n",
       "      <td>0.016887</td>\n",
       "      <td>469.448005</td>\n",
       "      <td>21.666749</td>\n",
       "      <td>17.180003</td>\n",
       "      <td>8.677335</td>\n",
       "      <td>Validation</td>\n",
       "    </tr>\n",
       "    <tr>\n",
       "      <th>0</th>\n",
       "      <td>Ridge</td>\n",
       "      <td>0.039936</td>\n",
       "      <td>458.441514</td>\n",
       "      <td>21.411247</td>\n",
       "      <td>17.038532</td>\n",
       "      <td>8.681918</td>\n",
       "      <td>Validation</td>\n",
       "    </tr>\n",
       "    <tr>\n",
       "      <th>0</th>\n",
       "      <td>Lasso</td>\n",
       "      <td>0.037194</td>\n",
       "      <td>459.750945</td>\n",
       "      <td>21.441804</td>\n",
       "      <td>17.047454</td>\n",
       "      <td>8.686901</td>\n",
       "      <td>Validation</td>\n",
       "    </tr>\n",
       "    <tr>\n",
       "      <th>0</th>\n",
       "      <td>Random Forest</td>\n",
       "      <td>0.334890</td>\n",
       "      <td>317.597588</td>\n",
       "      <td>17.821268</td>\n",
       "      <td>12.999110</td>\n",
       "      <td>7.072808</td>\n",
       "      <td>Validation</td>\n",
       "    </tr>\n",
       "    <tr>\n",
       "      <th>0</th>\n",
       "      <td>Decision Tree</td>\n",
       "      <td>0.063559</td>\n",
       "      <td>447.161319</td>\n",
       "      <td>21.146189</td>\n",
       "      <td>16.843452</td>\n",
       "      <td>8.395778</td>\n",
       "      <td>Validation</td>\n",
       "    </tr>\n",
       "    <tr>\n",
       "      <th>0</th>\n",
       "      <td>ElasticNet</td>\n",
       "      <td>0.016887</td>\n",
       "      <td>469.448005</td>\n",
       "      <td>21.666749</td>\n",
       "      <td>17.180003</td>\n",
       "      <td>8.677335</td>\n",
       "      <td>Validation</td>\n",
       "    </tr>\n",
       "    <tr>\n",
       "      <th>0</th>\n",
       "      <td>Ridge</td>\n",
       "      <td>0.039936</td>\n",
       "      <td>458.441514</td>\n",
       "      <td>21.411247</td>\n",
       "      <td>17.038532</td>\n",
       "      <td>8.681918</td>\n",
       "      <td>Validation</td>\n",
       "    </tr>\n",
       "    <tr>\n",
       "      <th>0</th>\n",
       "      <td>Lasso</td>\n",
       "      <td>0.037194</td>\n",
       "      <td>459.750945</td>\n",
       "      <td>21.441804</td>\n",
       "      <td>17.047454</td>\n",
       "      <td>8.686901</td>\n",
       "      <td>Validation</td>\n",
       "    </tr>\n",
       "    <tr>\n",
       "      <th>0</th>\n",
       "      <td>Random Forest</td>\n",
       "      <td>0.334890</td>\n",
       "      <td>317.597588</td>\n",
       "      <td>17.821268</td>\n",
       "      <td>12.999110</td>\n",
       "      <td>7.072808</td>\n",
       "      <td>Validation</td>\n",
       "    </tr>\n",
       "    <tr>\n",
       "      <th>0</th>\n",
       "      <td>Decision Tree</td>\n",
       "      <td>0.063559</td>\n",
       "      <td>447.161319</td>\n",
       "      <td>21.146189</td>\n",
       "      <td>16.843452</td>\n",
       "      <td>8.395778</td>\n",
       "      <td>Validation</td>\n",
       "    </tr>\n",
       "  </tbody>\n",
       "</table>\n",
       "</div>"
      ],
      "text/plain": [
       "      model_name        R2         MSE       RMSE        MAE      MAPE  \\\n",
       "0     ElasticNet  0.016887  469.448005  21.666749  17.180003  8.677335   \n",
       "0          Ridge  0.039936  458.441514  21.411247  17.038532  8.681918   \n",
       "0          Lasso  0.037194  459.750945  21.441804  17.047454  8.686901   \n",
       "0  Random Forest  0.334890  317.597588  17.821268  12.999110  7.072808   \n",
       "0  Decision Tree  0.063559  447.161319  21.146189  16.843452  8.395778   \n",
       "0     ElasticNet  0.016887  469.448005  21.666749  17.180003  8.677335   \n",
       "0          Ridge  0.039936  458.441514  21.411247  17.038532  8.681918   \n",
       "0          Lasso  0.037194  459.750945  21.441804  17.047454  8.686901   \n",
       "0  Random Forest  0.334890  317.597588  17.821268  12.999110  7.072808   \n",
       "0  Decision Tree  0.063559  447.161319  21.146189  16.843452  8.395778   \n",
       "\n",
       "      Dataset  \n",
       "0  Validation  \n",
       "0  Validation  \n",
       "0  Validation  \n",
       "0  Validation  \n",
       "0  Validation  \n",
       "0  Validation  \n",
       "0  Validation  \n",
       "0  Validation  \n",
       "0  Validation  \n",
       "0  Validation  "
      ]
     },
     "execution_count": 62,
     "metadata": {},
     "output_type": "execute_result"
    }
   ],
   "source": [
    "subset"
   ]
  },
  {
   "cell_type": "code",
   "execution_count": 65,
   "metadata": {},
   "outputs": [
    {
     "data": {
      "image/png": "[encoded data removed]",
      "text/plain": [
       "<Figure size 1500x1200 with 6 Axes>"
      ]
     },
     "metadata": {},
     "output_type": "display_data"
    }
   ],
   "source": [
    "# Criar subplots de 2x2\n",
    "fig, axes = plt.subplots(nrows=2, ncols=3, figsize=(15,12))\n",
    "\n",
    "metrics = [\"R2\", \"MSE\", \"RMSE\", \"MAE\", \"MAPE\"]\n",
    "for ax, metric in zip(axes.flatten(), metrics):\n",
    "    sns.barplot(x=\"model_name\", y=metric, hue=\"Dataset\", data=full_results, ax=ax)\n",
    "    ax.set_title(f'Comparação de {metric} entre modelos')\n",
    "    ax.set_ylabel(metric)\n",
    "    ax.set_xlabel(\"Modelos\")\n",
    "\n",
    "plt.tight_layout()\n",
    "plt.show()"
   ]
  },
  {
   "cell_type": "code",
   "execution_count": null,
   "metadata": {},
   "outputs": [],
   "source": []
  },
  {
   "cell_type": "code",
   "execution_count": null,
   "metadata": {},
   "outputs": [],
   "source": []
  }
 ],
 "metadata": {
  "kernelspec": {
   "display_name": "myenv",
   "language": "python",
   "name": "python3"
  },
  "language_info": {
   "codemirror_mode": {
    "name": "ipython",
    "version": 3
   },
   "file_extension": ".py",
   "mimetype": "text/x-python",
   "name": "python",
   "nbconvert_exporter": "python",
   "pygments_lexer": "ipython3",
   "version": "3.11.4"
  },
  "orig_nbformat": 4
 },
 "nbformat": 4,
 "nbformat_minor": 2
}
