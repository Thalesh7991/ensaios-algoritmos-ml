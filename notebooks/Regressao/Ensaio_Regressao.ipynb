{
 "cells": [
  {
   "cell_type": "markdown",
   "metadata": {},
   "source": [
    "# Imports"
   ]
  },
  {
   "cell_type": "code",
   "execution_count": 32,
   "metadata": {},
   "outputs": [],
   "source": [
    "import pandas as pd\n",
    "import numpy as np\n",
    "import optuna\n",
    "from sklearn.metrics import mean_squared_error, mean_absolute_error, r2_score\n",
    "import plotly\n",
    "\n",
    "from sklearn.tree import DecisionTreeRegressor\n",
    "from sklearn.preprocessing import PolynomialFeatures\n",
    "from sklearn.ensemble import RandomForestRegressor\n",
    "\n",
    "from sklearn.linear_model import LinearRegression, Lasso, Ridge, ElasticNet"
   ]
  },
  {
   "cell_type": "markdown",
   "metadata": {},
   "source": [
    "# Helper Functions"
   ]
  },
  {
   "cell_type": "code",
   "execution_count": 3,
   "metadata": {},
   "outputs": [],
   "source": [
    "def calculate_metrics(y_true, y_pred, model_name):\n",
    "    # Calcular R2\n",
    "    r2 = r2_score(y_true, y_pred)\n",
    "    \n",
    "    # Calcular MSE\n",
    "    mse = mean_squared_error(y_true, y_pred)\n",
    "    \n",
    "    # Calcular RMSE\n",
    "    rmse = np.sqrt(mse)\n",
    "    \n",
    "    # Calcular MAE\n",
    "    mae = mean_absolute_error(y_true, y_pred)\n",
    "    \n",
    "    # Calcular MAPE\n",
    "    y_true_arr, y_pred_arr = np.array(y_true), np.array(y_pred)\n",
    "    mape = np.mean(np.abs((y_true_arr - y_pred_arr) / y_true_arr)) * 100\n",
    "    \n",
    "    return {\n",
    "        \"model_name\": model_name,\n",
    "        \"R2\": r2,\n",
    "        \"MSE\": mse,\n",
    "        \"RMSE\": rmse,\n",
    "        \"MAE\": mae,\n",
    "        \"MAPE\": mape\n",
    "    }\n"
   ]
  },
  {
   "cell_type": "markdown",
   "metadata": {},
   "source": [
    "# Data load"
   ]
  },
  {
   "cell_type": "code",
   "execution_count": 4,
   "metadata": {},
   "outputs": [],
   "source": [
    "# Dados de Treinamento\n",
    "X_train = pd.read_csv('../../data/Regressao/X_training.csv')\n",
    "y_train = pd.read_csv('../../data/Regressao/y_training.csv').values.ravel()\n",
    "\n",
    "# Dados de Test\n",
    "X_test = pd.read_csv('../../data/Regressao/X_test.csv')\n",
    "y_test = pd.read_csv('../../data/Regressao/y_test.csv').values.ravel()\n",
    "\n",
    "# Dados de Validacao\n",
    "X_val = pd.read_csv('../../data/Regressao/X_validation.csv')\n",
    "y_val = pd.read_csv('../../data/Regressao/y_val.csv').values.ravel()"
   ]
  },
  {
   "cell_type": "markdown",
   "metadata": {},
   "source": [
    "# Machine Learning"
   ]
  },
  {
   "cell_type": "markdown",
   "metadata": {},
   "source": [
    "## Decision Tree Regression"
   ]
  },
  {
   "cell_type": "code",
   "execution_count": 4,
   "metadata": {},
   "outputs": [],
   "source": [
    "def dt_fine_tuning(trial):\n",
    "    max_depth = trial.suggest_int('max_depth', 2,100)\n",
    "    dt_model = DecisionTreeRegressor(max_depth=max_depth)\n",
    "    dt_model.fit(X_train, y_train)\n",
    "    y_pred = dt_model.predict(X_val)\n",
    "\n",
    "    return calculate_metrics(y_val, y_pred, 'Decision Tree')['RMSE']\n"
   ]
  },
  {
   "cell_type": "code",
   "execution_count": 5,
   "metadata": {},
   "outputs": [
    {
     "name": "stderr",
     "output_type": "stream",
     "text": [
      "[I 2023-09-15 11:47:41,527] A new study created in memory with name: no-name-facd8f19-ee71-422d-85b0-a2f0f76e5b0b\n",
      "[I 2023-09-15 11:47:41,745] Trial 0 finished with value: 21.5852938990622 and parameters: {'max_depth': 9}. Best is trial 0 with value: 21.5852938990622.\n",
      "[I 2023-09-15 11:47:42,264] Trial 1 finished with value: 24.934630354098868 and parameters: {'max_depth': 41}. Best is trial 0 with value: 21.5852938990622.\n",
      "[I 2023-09-15 11:47:42,560] Trial 2 finished with value: 22.782650821623626 and parameters: {'max_depth': 13}. Best is trial 0 with value: 21.5852938990622.\n",
      "[I 2023-09-15 11:47:43,066] Trial 3 finished with value: 24.79908434654332 and parameters: {'max_depth': 97}. Best is trial 0 with value: 21.5852938990622.\n",
      "[I 2023-09-15 11:47:43,542] Trial 4 finished with value: 25.03519607593713 and parameters: {'max_depth': 95}. Best is trial 0 with value: 21.5852938990622.\n",
      "[I 2023-09-15 11:47:43,592] Trial 5 finished with value: 21.43718691701056 and parameters: {'max_depth': 2}. Best is trial 5 with value: 21.43718691701056.\n",
      "[I 2023-09-15 11:47:44,064] Trial 6 finished with value: 24.73869467874257 and parameters: {'max_depth': 67}. Best is trial 5 with value: 21.43718691701056.\n",
      "[I 2023-09-15 11:47:44,508] Trial 7 finished with value: 24.691811211197216 and parameters: {'max_depth': 58}. Best is trial 5 with value: 21.43718691701056.\n",
      "[I 2023-09-15 11:47:44,551] Trial 8 finished with value: 21.437186917010557 and parameters: {'max_depth': 2}. Best is trial 8 with value: 21.437186917010557.\n",
      "[I 2023-09-15 11:47:45,029] Trial 9 finished with value: 24.88971568630496 and parameters: {'max_depth': 62}. Best is trial 8 with value: 21.437186917010557.\n"
     ]
    }
   ],
   "source": [
    "study = optuna.create_study(direction='minimize')\n",
    "study.optimize(dt_fine_tuning, n_trials=10)"
   ]
  },
  {
   "cell_type": "code",
   "execution_count": 6,
   "metadata": {},
   "outputs": [
    {
     "ename": "ValueError",
     "evalue": "Mime type rendering requires nbformat>=4.2.0 but it is not installed",
     "output_type": "error",
     "traceback": [
      "\u001b[1;31m---------------------------------------------------------------------------\u001b[0m",
      "\u001b[1;31mValueError\u001b[0m                                Traceback (most recent call last)",
      "File \u001b[1;32mc:\\Users\\thale\\Documents\\Estudos\\Disciplinas\\Introdução a ML\\Projeto Aluno\\ensaios-algoritmos-ml\\env\\Lib\\site-packages\\IPython\\core\\formatters.py:922\u001b[0m, in \u001b[0;36mIPythonDisplayFormatter.__call__\u001b[1;34m(self, obj)\u001b[0m\n\u001b[0;32m    920\u001b[0m method \u001b[39m=\u001b[39m get_real_method(obj, \u001b[39mself\u001b[39m\u001b[39m.\u001b[39mprint_method)\n\u001b[0;32m    921\u001b[0m \u001b[39mif\u001b[39;00m method \u001b[39mis\u001b[39;00m \u001b[39mnot\u001b[39;00m \u001b[39mNone\u001b[39;00m:\n\u001b[1;32m--> 922\u001b[0m     method()\n\u001b[0;32m    923\u001b[0m     \u001b[39mreturn\u001b[39;00m \u001b[39mTrue\u001b[39;00m\n",
      "File \u001b[1;32mc:\\Users\\thale\\Documents\\Estudos\\Disciplinas\\Introdução a ML\\Projeto Aluno\\ensaios-algoritmos-ml\\env\\Lib\\site-packages\\plotly\\basedatatypes.py:834\u001b[0m, in \u001b[0;36mBaseFigure._ipython_display_\u001b[1;34m(self)\u001b[0m\n\u001b[0;32m    831\u001b[0m \u001b[39mimport\u001b[39;00m \u001b[39mplotly\u001b[39;00m\u001b[39m.\u001b[39;00m\u001b[39mio\u001b[39;00m \u001b[39mas\u001b[39;00m \u001b[39mpio\u001b[39;00m\n\u001b[0;32m    833\u001b[0m \u001b[39mif\u001b[39;00m pio\u001b[39m.\u001b[39mrenderers\u001b[39m.\u001b[39mrender_on_display \u001b[39mand\u001b[39;00m pio\u001b[39m.\u001b[39mrenderers\u001b[39m.\u001b[39mdefault:\n\u001b[1;32m--> 834\u001b[0m     pio\u001b[39m.\u001b[39;49mshow(\u001b[39mself\u001b[39;49m)\n\u001b[0;32m    835\u001b[0m \u001b[39melse\u001b[39;00m:\n\u001b[0;32m    836\u001b[0m     \u001b[39mprint\u001b[39m(\u001b[39mrepr\u001b[39m(\u001b[39mself\u001b[39m))\n",
      "File \u001b[1;32mc:\\Users\\thale\\Documents\\Estudos\\Disciplinas\\Introdução a ML\\Projeto Aluno\\ensaios-algoritmos-ml\\env\\Lib\\site-packages\\plotly\\io\\_renderers.py:396\u001b[0m, in \u001b[0;36mshow\u001b[1;34m(fig, renderer, validate, **kwargs)\u001b[0m\n\u001b[0;32m    391\u001b[0m         \u001b[39mraise\u001b[39;00m \u001b[39mValueError\u001b[39;00m(\n\u001b[0;32m    392\u001b[0m             \u001b[39m\"\u001b[39m\u001b[39mMime type rendering requires ipython but it is not installed\u001b[39m\u001b[39m\"\u001b[39m\n\u001b[0;32m    393\u001b[0m         )\n\u001b[0;32m    395\u001b[0m     \u001b[39mif\u001b[39;00m \u001b[39mnot\u001b[39;00m nbformat \u001b[39mor\u001b[39;00m Version(nbformat\u001b[39m.\u001b[39m__version__) \u001b[39m<\u001b[39m Version(\u001b[39m\"\u001b[39m\u001b[39m4.2.0\u001b[39m\u001b[39m\"\u001b[39m):\n\u001b[1;32m--> 396\u001b[0m         \u001b[39mraise\u001b[39;00m \u001b[39mValueError\u001b[39;00m(\n\u001b[0;32m    397\u001b[0m             \u001b[39m\"\u001b[39m\u001b[39mMime type rendering requires nbformat>=4.2.0 but it is not installed\u001b[39m\u001b[39m\"\u001b[39m\n\u001b[0;32m    398\u001b[0m         )\n\u001b[0;32m    400\u001b[0m     ipython_display\u001b[39m.\u001b[39mdisplay(bundle, raw\u001b[39m=\u001b[39m\u001b[39mTrue\u001b[39;00m)\n\u001b[0;32m    402\u001b[0m \u001b[39m# external renderers\u001b[39;00m\n",
      "\u001b[1;31mValueError\u001b[0m: Mime type rendering requires nbformat>=4.2.0 but it is not installed"
     ]
    },
    {
     "data": {
      "application/vnd.plotly.v1+json": {
       "config": {
        "plotlyServerURL": "https://plot.ly"
       },
       "data": [
        {
         "mode": "markers",
         "name": "Objective Value",
         "type": "scatter",
         "x": [
          0,
          1,
          2,
          3,
          4,
          5,
          6,
          7,
          8,
          9
         ],
         "y": [
          21.5852938990622,
          24.934630354098868,
          22.782650821623626,
          24.79908434654332,
          25.03519607593713,
          21.43718691701056,
          24.73869467874257,
          24.691811211197216,
          21.437186917010557,
          24.88971568630496
         ]
        },
        {
         "mode": "lines",
         "name": "Best Value",
         "type": "scatter",
         "x": [
          0,
          1,
          2,
          3,
          4,
          5,
          6,
          7,
          8,
          9
         ],
         "y": [
          21.5852938990622,
          21.5852938990622,
          21.5852938990622,
          21.5852938990622,
          21.5852938990622,
          21.43718691701056,
          21.43718691701056,
          21.43718691701056,
          21.437186917010557,
          21.437186917010557
         ]
        },
        {
         "marker": {
          "color": "#cccccc"
         },
         "mode": "markers",
         "name": "Infeasible Trial",
         "showlegend": false,
         "type": "scatter",
         "x": [],
         "y": []
        }
       ],
       "layout": {
        "template": {
         "data": {
          "bar": [
           {
            "error_x": {
             "color": "#2a3f5f"
            },
            "error_y": {
             "color": "#2a3f5f"
            },
            "marker": {
             "line": {
              "color": "#E5ECF6",
              "width": 0.5
             },
             "pattern": {
              "fillmode": "overlay",
              "size": 10,
              "solidity": 0.2
             }
            },
            "type": "bar"
           }
          ],
          "barpolar": [
           {
            "marker": {
             "line": {
              "color": "#E5ECF6",
              "width": 0.5
             },
             "pattern": {
              "fillmode": "overlay",
              "size": 10,
              "solidity": 0.2
             }
            },
            "type": "barpolar"
           }
          ],
          "carpet": [
           {
            "aaxis": {
             "endlinecolor": "#2a3f5f",
             "gridcolor": "white",
             "linecolor": "white",
             "minorgridcolor": "white",
             "startlinecolor": "#2a3f5f"
            },
            "baxis": {
             "endlinecolor": "#2a3f5f",
             "gridcolor": "white",
             "linecolor": "white",
             "minorgridcolor": "white",
             "startlinecolor": "#2a3f5f"
            },
            "type": "carpet"
           }
          ],
          "choropleth": [
           {
            "colorbar": {
             "outlinewidth": 0,
             "ticks": ""
            },
            "type": "choropleth"
           }
          ],
          "contour": [
           {
            "colorbar": {
             "outlinewidth": 0,
             "ticks": ""
            },
            "colorscale": [
             [
              0,
              "#0d0887"
             ],
             [
              0.1111111111111111,
              "#46039f"
             ],
             [
              0.2222222222222222,
              "#7201a8"
             ],
             [
              0.3333333333333333,
              "#9c179e"
             ],
             [
              0.4444444444444444,
              "#bd3786"
             ],
             [
              0.5555555555555556,
              "#d8576b"
             ],
             [
              0.6666666666666666,
              "#ed7953"
             ],
             [
              0.7777777777777778,
              "#fb9f3a"
             ],
             [
              0.8888888888888888,
              "#fdca26"
             ],
             [
              1,
              "#f0f921"
             ]
            ],
            "type": "contour"
           }
          ],
          "contourcarpet": [
           {
            "colorbar": {
             "outlinewidth": 0,
             "ticks": ""
            },
            "type": "contourcarpet"
           }
          ],
          "heatmap": [
           {
            "colorbar": {
             "outlinewidth": 0,
             "ticks": ""
            },
            "colorscale": [
             [
              0,
              "#0d0887"
             ],
             [
              0.1111111111111111,
              "#46039f"
             ],
             [
              0.2222222222222222,
              "#7201a8"
             ],
             [
              0.3333333333333333,
              "#9c179e"
             ],
             [
              0.4444444444444444,
              "#bd3786"
             ],
             [
              0.5555555555555556,
              "#d8576b"
             ],
             [
              0.6666666666666666,
              "#ed7953"
             ],
             [
              0.7777777777777778,
              "#fb9f3a"
             ],
             [
              0.8888888888888888,
              "#fdca26"
             ],
             [
              1,
              "#f0f921"
             ]
            ],
            "type": "heatmap"
           }
          ],
          "heatmapgl": [
           {
            "colorbar": {
             "outlinewidth": 0,
             "ticks": ""
            },
            "colorscale": [
             [
              0,
              "#0d0887"
             ],
             [
              0.1111111111111111,
              "#46039f"
             ],
             [
              0.2222222222222222,
              "#7201a8"
             ],
             [
              0.3333333333333333,
              "#9c179e"
             ],
             [
              0.4444444444444444,
              "#bd3786"
             ],
             [
              0.5555555555555556,
              "#d8576b"
             ],
             [
              0.6666666666666666,
              "#ed7953"
             ],
             [
              0.7777777777777778,
              "#fb9f3a"
             ],
             [
              0.8888888888888888,
              "#fdca26"
             ],
             [
              1,
              "#f0f921"
             ]
            ],
            "type": "heatmapgl"
           }
          ],
          "histogram": [
           {
            "marker": {
             "pattern": {
              "fillmode": "overlay",
              "size": 10,
              "solidity": 0.2
             }
            },
            "type": "histogram"
           }
          ],
          "histogram2d": [
           {
            "colorbar": {
             "outlinewidth": 0,
             "ticks": ""
            },
            "colorscale": [
             [
              0,
              "#0d0887"
             ],
             [
              0.1111111111111111,
              "#46039f"
             ],
             [
              0.2222222222222222,
              "#7201a8"
             ],
             [
              0.3333333333333333,
              "#9c179e"
             ],
             [
              0.4444444444444444,
              "#bd3786"
             ],
             [
              0.5555555555555556,
              "#d8576b"
             ],
             [
              0.6666666666666666,
              "#ed7953"
             ],
             [
              0.7777777777777778,
              "#fb9f3a"
             ],
             [
              0.8888888888888888,
              "#fdca26"
             ],
             [
              1,
              "#f0f921"
             ]
            ],
            "type": "histogram2d"
           }
          ],
          "histogram2dcontour": [
           {
            "colorbar": {
             "outlinewidth": 0,
             "ticks": ""
            },
            "colorscale": [
             [
              0,
              "#0d0887"
             ],
             [
              0.1111111111111111,
              "#46039f"
             ],
             [
              0.2222222222222222,
              "#7201a8"
             ],
             [
              0.3333333333333333,
              "#9c179e"
             ],
             [
              0.4444444444444444,
              "#bd3786"
             ],
             [
              0.5555555555555556,
              "#d8576b"
             ],
             [
              0.6666666666666666,
              "#ed7953"
             ],
             [
              0.7777777777777778,
              "#fb9f3a"
             ],
             [
              0.8888888888888888,
              "#fdca26"
             ],
             [
              1,
              "#f0f921"
             ]
            ],
            "type": "histogram2dcontour"
           }
          ],
          "mesh3d": [
           {
            "colorbar": {
             "outlinewidth": 0,
             "ticks": ""
            },
            "type": "mesh3d"
           }
          ],
          "parcoords": [
           {
            "line": {
             "colorbar": {
              "outlinewidth": 0,
              "ticks": ""
             }
            },
            "type": "parcoords"
           }
          ],
          "pie": [
           {
            "automargin": true,
            "type": "pie"
           }
          ],
          "scatter": [
           {
            "fillpattern": {
             "fillmode": "overlay",
             "size": 10,
             "solidity": 0.2
            },
            "type": "scatter"
           }
          ],
          "scatter3d": [
           {
            "line": {
             "colorbar": {
              "outlinewidth": 0,
              "ticks": ""
             }
            },
            "marker": {
             "colorbar": {
              "outlinewidth": 0,
              "ticks": ""
             }
            },
            "type": "scatter3d"
           }
          ],
          "scattercarpet": [
           {
            "marker": {
             "colorbar": {
              "outlinewidth": 0,
              "ticks": ""
             }
            },
            "type": "scattercarpet"
           }
          ],
          "scattergeo": [
           {
            "marker": {
             "colorbar": {
              "outlinewidth": 0,
              "ticks": ""
             }
            },
            "type": "scattergeo"
           }
          ],
          "scattergl": [
           {
            "marker": {
             "colorbar": {
              "outlinewidth": 0,
              "ticks": ""
             }
            },
            "type": "scattergl"
           }
          ],
          "scattermapbox": [
           {
            "marker": {
             "colorbar": {
              "outlinewidth": 0,
              "ticks": ""
             }
            },
            "type": "scattermapbox"
           }
          ],
          "scatterpolar": [
           {
            "marker": {
             "colorbar": {
              "outlinewidth": 0,
              "ticks": ""
             }
            },
            "type": "scatterpolar"
           }
          ],
          "scatterpolargl": [
           {
            "marker": {
             "colorbar": {
              "outlinewidth": 0,
              "ticks": ""
             }
            },
            "type": "scatterpolargl"
           }
          ],
          "scatterternary": [
           {
            "marker": {
             "colorbar": {
              "outlinewidth": 0,
              "ticks": ""
             }
            },
            "type": "scatterternary"
           }
          ],
          "surface": [
           {
            "colorbar": {
             "outlinewidth": 0,
             "ticks": ""
            },
            "colorscale": [
             [
              0,
              "#0d0887"
             ],
             [
              0.1111111111111111,
              "#46039f"
             ],
             [
              0.2222222222222222,
              "#7201a8"
             ],
             [
              0.3333333333333333,
              "#9c179e"
             ],
             [
              0.4444444444444444,
              "#bd3786"
             ],
             [
              0.5555555555555556,
              "#d8576b"
             ],
             [
              0.6666666666666666,
              "#ed7953"
             ],
             [
              0.7777777777777778,
              "#fb9f3a"
             ],
             [
              0.8888888888888888,
              "#fdca26"
             ],
             [
              1,
              "#f0f921"
             ]
            ],
            "type": "surface"
           }
          ],
          "table": [
           {
            "cells": {
             "fill": {
              "color": "#EBF0F8"
             },
             "line": {
              "color": "white"
             }
            },
            "header": {
             "fill": {
              "color": "#C8D4E3"
             },
             "line": {
              "color": "white"
             }
            },
            "type": "table"
           }
          ]
         },
         "layout": {
          "annotationdefaults": {
           "arrowcolor": "#2a3f5f",
           "arrowhead": 0,
           "arrowwidth": 1
          },
          "autotypenumbers": "strict",
          "coloraxis": {
           "colorbar": {
            "outlinewidth": 0,
            "ticks": ""
           }
          },
          "colorscale": {
           "diverging": [
            [
             0,
             "#8e0152"
            ],
            [
             0.1,
             "#c51b7d"
            ],
            [
             0.2,
             "#de77ae"
            ],
            [
             0.3,
             "#f1b6da"
            ],
            [
             0.4,
             "#fde0ef"
            ],
            [
             0.5,
             "#f7f7f7"
            ],
            [
             0.6,
             "#e6f5d0"
            ],
            [
             0.7,
             "#b8e186"
            ],
            [
             0.8,
             "#7fbc41"
            ],
            [
             0.9,
             "#4d9221"
            ],
            [
             1,
             "#276419"
            ]
           ],
           "sequential": [
            [
             0,
             "#0d0887"
            ],
            [
             0.1111111111111111,
             "#46039f"
            ],
            [
             0.2222222222222222,
             "#7201a8"
            ],
            [
             0.3333333333333333,
             "#9c179e"
            ],
            [
             0.4444444444444444,
             "#bd3786"
            ],
            [
             0.5555555555555556,
             "#d8576b"
            ],
            [
             0.6666666666666666,
             "#ed7953"
            ],
            [
             0.7777777777777778,
             "#fb9f3a"
            ],
            [
             0.8888888888888888,
             "#fdca26"
            ],
            [
             1,
             "#f0f921"
            ]
           ],
           "sequentialminus": [
            [
             0,
             "#0d0887"
            ],
            [
             0.1111111111111111,
             "#46039f"
            ],
            [
             0.2222222222222222,
             "#7201a8"
            ],
            [
             0.3333333333333333,
             "#9c179e"
            ],
            [
             0.4444444444444444,
             "#bd3786"
            ],
            [
             0.5555555555555556,
             "#d8576b"
            ],
            [
             0.6666666666666666,
             "#ed7953"
            ],
            [
             0.7777777777777778,
             "#fb9f3a"
            ],
            [
             0.8888888888888888,
             "#fdca26"
            ],
            [
             1,
             "#f0f921"
            ]
           ]
          },
          "colorway": [
           "#636efa",
           "#EF553B",
           "#00cc96",
           "#ab63fa",
           "#FFA15A",
           "#19d3f3",
           "#FF6692",
           "#B6E880",
           "#FF97FF",
           "#FECB52"
          ],
          "font": {
           "color": "#2a3f5f"
          },
          "geo": {
           "bgcolor": "white",
           "lakecolor": "white",
           "landcolor": "#E5ECF6",
           "showlakes": true,
           "showland": true,
           "subunitcolor": "white"
          },
          "hoverlabel": {
           "align": "left"
          },
          "hovermode": "closest",
          "mapbox": {
           "style": "light"
          },
          "paper_bgcolor": "white",
          "plot_bgcolor": "#E5ECF6",
          "polar": {
           "angularaxis": {
            "gridcolor": "white",
            "linecolor": "white",
            "ticks": ""
           },
           "bgcolor": "#E5ECF6",
           "radialaxis": {
            "gridcolor": "white",
            "linecolor": "white",
            "ticks": ""
           }
          },
          "scene": {
           "xaxis": {
            "backgroundcolor": "#E5ECF6",
            "gridcolor": "white",
            "gridwidth": 2,
            "linecolor": "white",
            "showbackground": true,
            "ticks": "",
            "zerolinecolor": "white"
           },
           "yaxis": {
            "backgroundcolor": "#E5ECF6",
            "gridcolor": "white",
            "gridwidth": 2,
            "linecolor": "white",
            "showbackground": true,
            "ticks": "",
            "zerolinecolor": "white"
           },
           "zaxis": {
            "backgroundcolor": "#E5ECF6",
            "gridcolor": "white",
            "gridwidth": 2,
            "linecolor": "white",
            "showbackground": true,
            "ticks": "",
            "zerolinecolor": "white"
           }
          },
          "shapedefaults": {
           "line": {
            "color": "#2a3f5f"
           }
          },
          "ternary": {
           "aaxis": {
            "gridcolor": "white",
            "linecolor": "white",
            "ticks": ""
           },
           "baxis": {
            "gridcolor": "white",
            "linecolor": "white",
            "ticks": ""
           },
           "bgcolor": "#E5ECF6",
           "caxis": {
            "gridcolor": "white",
            "linecolor": "white",
            "ticks": ""
           }
          },
          "title": {
           "x": 0.05
          },
          "xaxis": {
           "automargin": true,
           "gridcolor": "white",
           "linecolor": "white",
           "ticks": "",
           "title": {
            "standoff": 15
           },
           "zerolinecolor": "white",
           "zerolinewidth": 2
          },
          "yaxis": {
           "automargin": true,
           "gridcolor": "white",
           "linecolor": "white",
           "ticks": "",
           "title": {
            "standoff": 15
           },
           "zerolinecolor": "white",
           "zerolinewidth": 2
          }
         }
        },
        "title": {
         "text": "Optimization History Plot"
        },
        "xaxis": {
         "title": {
          "text": "Trial"
         }
        },
        "yaxis": {
         "title": {
          "text": "Objective Value"
         }
        }
       }
      },
      "text/html": [
       "<div>                        <script type=\"text/javascript\">window.PlotlyConfig = {MathJaxConfig: 'local'};</script>\n",
       "        <script charset=\"utf-8\" src=\"https://cdn.plot.ly/plotly-2.25.2.min.js\"></script>                <div id=\"7f7fd2f2-644f-49b9-b8a8-954371524dfa\" class=\"plotly-graph-div\" style=\"height:100%; width:100%;\"></div>            <script type=\"text/javascript\">                                    window.PLOTLYENV=window.PLOTLYENV || {};                                    if (document.getElementById(\"7f7fd2f2-644f-49b9-b8a8-954371524dfa\")) {                    Plotly.newPlot(                        \"7f7fd2f2-644f-49b9-b8a8-954371524dfa\",                        [{\"mode\":\"markers\",\"name\":\"Objective Value\",\"x\":[0,1,2,3,4,5,6,7,8,9],\"y\":[21.5852938990622,24.934630354098868,22.782650821623626,24.79908434654332,25.03519607593713,21.43718691701056,24.73869467874257,24.691811211197216,21.437186917010557,24.88971568630496],\"type\":\"scatter\"},{\"mode\":\"lines\",\"name\":\"Best Value\",\"x\":[0,1,2,3,4,5,6,7,8,9],\"y\":[21.5852938990622,21.5852938990622,21.5852938990622,21.5852938990622,21.5852938990622,21.43718691701056,21.43718691701056,21.43718691701056,21.437186917010557,21.437186917010557],\"type\":\"scatter\"},{\"marker\":{\"color\":\"#cccccc\"},\"mode\":\"markers\",\"name\":\"Infeasible Trial\",\"showlegend\":false,\"x\":[],\"y\":[],\"type\":\"scatter\"}],                        {\"title\":{\"text\":\"Optimization History Plot\"},\"xaxis\":{\"title\":{\"text\":\"Trial\"}},\"yaxis\":{\"title\":{\"text\":\"Objective Value\"}},\"template\":{\"data\":{\"histogram2dcontour\":[{\"type\":\"histogram2dcontour\",\"colorbar\":{\"outlinewidth\":0,\"ticks\":\"\"},\"colorscale\":[[0.0,\"#0d0887\"],[0.1111111111111111,\"#46039f\"],[0.2222222222222222,\"#7201a8\"],[0.3333333333333333,\"#9c179e\"],[0.4444444444444444,\"#bd3786\"],[0.5555555555555556,\"#d8576b\"],[0.6666666666666666,\"#ed7953\"],[0.7777777777777778,\"#fb9f3a\"],[0.8888888888888888,\"#fdca26\"],[1.0,\"#f0f921\"]]}],\"choropleth\":[{\"type\":\"choropleth\",\"colorbar\":{\"outlinewidth\":0,\"ticks\":\"\"}}],\"histogram2d\":[{\"type\":\"histogram2d\",\"colorbar\":{\"outlinewidth\":0,\"ticks\":\"\"},\"colorscale\":[[0.0,\"#0d0887\"],[0.1111111111111111,\"#46039f\"],[0.2222222222222222,\"#7201a8\"],[0.3333333333333333,\"#9c179e\"],[0.4444444444444444,\"#bd3786\"],[0.5555555555555556,\"#d8576b\"],[0.6666666666666666,\"#ed7953\"],[0.7777777777777778,\"#fb9f3a\"],[0.8888888888888888,\"#fdca26\"],[1.0,\"#f0f921\"]]}],\"heatmap\":[{\"type\":\"heatmap\",\"colorbar\":{\"outlinewidth\":0,\"ticks\":\"\"},\"colorscale\":[[0.0,\"#0d0887\"],[0.1111111111111111,\"#46039f\"],[0.2222222222222222,\"#7201a8\"],[0.3333333333333333,\"#9c179e\"],[0.4444444444444444,\"#bd3786\"],[0.5555555555555556,\"#d8576b\"],[0.6666666666666666,\"#ed7953\"],[0.7777777777777778,\"#fb9f3a\"],[0.8888888888888888,\"#fdca26\"],[1.0,\"#f0f921\"]]}],\"heatmapgl\":[{\"type\":\"heatmapgl\",\"colorbar\":{\"outlinewidth\":0,\"ticks\":\"\"},\"colorscale\":[[0.0,\"#0d0887\"],[0.1111111111111111,\"#46039f\"],[0.2222222222222222,\"#7201a8\"],[0.3333333333333333,\"#9c179e\"],[0.4444444444444444,\"#bd3786\"],[0.5555555555555556,\"#d8576b\"],[0.6666666666666666,\"#ed7953\"],[0.7777777777777778,\"#fb9f3a\"],[0.8888888888888888,\"#fdca26\"],[1.0,\"#f0f921\"]]}],\"contourcarpet\":[{\"type\":\"contourcarpet\",\"colorbar\":{\"outlinewidth\":0,\"ticks\":\"\"}}],\"contour\":[{\"type\":\"contour\",\"colorbar\":{\"outlinewidth\":0,\"ticks\":\"\"},\"colorscale\":[[0.0,\"#0d0887\"],[0.1111111111111111,\"#46039f\"],[0.2222222222222222,\"#7201a8\"],[0.3333333333333333,\"#9c179e\"],[0.4444444444444444,\"#bd3786\"],[0.5555555555555556,\"#d8576b\"],[0.6666666666666666,\"#ed7953\"],[0.7777777777777778,\"#fb9f3a\"],[0.8888888888888888,\"#fdca26\"],[1.0,\"#f0f921\"]]}],\"surface\":[{\"type\":\"surface\",\"colorbar\":{\"outlinewidth\":0,\"ticks\":\"\"},\"colorscale\":[[0.0,\"#0d0887\"],[0.1111111111111111,\"#46039f\"],[0.2222222222222222,\"#7201a8\"],[0.3333333333333333,\"#9c179e\"],[0.4444444444444444,\"#bd3786\"],[0.5555555555555556,\"#d8576b\"],[0.6666666666666666,\"#ed7953\"],[0.7777777777777778,\"#fb9f3a\"],[0.8888888888888888,\"#fdca26\"],[1.0,\"#f0f921\"]]}],\"mesh3d\":[{\"type\":\"mesh3d\",\"colorbar\":{\"outlinewidth\":0,\"ticks\":\"\"}}],\"scatter\":[{\"fillpattern\":{\"fillmode\":\"overlay\",\"size\":10,\"solidity\":0.2},\"type\":\"scatter\"}],\"parcoords\":[{\"type\":\"parcoords\",\"line\":{\"colorbar\":{\"outlinewidth\":0,\"ticks\":\"\"}}}],\"scatterpolargl\":[{\"type\":\"scatterpolargl\",\"marker\":{\"colorbar\":{\"outlinewidth\":0,\"ticks\":\"\"}}}],\"bar\":[{\"error_x\":{\"color\":\"#2a3f5f\"},\"error_y\":{\"color\":\"#2a3f5f\"},\"marker\":{\"line\":{\"color\":\"#E5ECF6\",\"width\":0.5},\"pattern\":{\"fillmode\":\"overlay\",\"size\":10,\"solidity\":0.2}},\"type\":\"bar\"}],\"scattergeo\":[{\"type\":\"scattergeo\",\"marker\":{\"colorbar\":{\"outlinewidth\":0,\"ticks\":\"\"}}}],\"scatterpolar\":[{\"type\":\"scatterpolar\",\"marker\":{\"colorbar\":{\"outlinewidth\":0,\"ticks\":\"\"}}}],\"histogram\":[{\"marker\":{\"pattern\":{\"fillmode\":\"overlay\",\"size\":10,\"solidity\":0.2}},\"type\":\"histogram\"}],\"scattergl\":[{\"type\":\"scattergl\",\"marker\":{\"colorbar\":{\"outlinewidth\":0,\"ticks\":\"\"}}}],\"scatter3d\":[{\"type\":\"scatter3d\",\"line\":{\"colorbar\":{\"outlinewidth\":0,\"ticks\":\"\"}},\"marker\":{\"colorbar\":{\"outlinewidth\":0,\"ticks\":\"\"}}}],\"scattermapbox\":[{\"type\":\"scattermapbox\",\"marker\":{\"colorbar\":{\"outlinewidth\":0,\"ticks\":\"\"}}}],\"scatterternary\":[{\"type\":\"scatterternary\",\"marker\":{\"colorbar\":{\"outlinewidth\":0,\"ticks\":\"\"}}}],\"scattercarpet\":[{\"type\":\"scattercarpet\",\"marker\":{\"colorbar\":{\"outlinewidth\":0,\"ticks\":\"\"}}}],\"carpet\":[{\"aaxis\":{\"endlinecolor\":\"#2a3f5f\",\"gridcolor\":\"white\",\"linecolor\":\"white\",\"minorgridcolor\":\"white\",\"startlinecolor\":\"#2a3f5f\"},\"baxis\":{\"endlinecolor\":\"#2a3f5f\",\"gridcolor\":\"white\",\"linecolor\":\"white\",\"minorgridcolor\":\"white\",\"startlinecolor\":\"#2a3f5f\"},\"type\":\"carpet\"}],\"table\":[{\"cells\":{\"fill\":{\"color\":\"#EBF0F8\"},\"line\":{\"color\":\"white\"}},\"header\":{\"fill\":{\"color\":\"#C8D4E3\"},\"line\":{\"color\":\"white\"}},\"type\":\"table\"}],\"barpolar\":[{\"marker\":{\"line\":{\"color\":\"#E5ECF6\",\"width\":0.5},\"pattern\":{\"fillmode\":\"overlay\",\"size\":10,\"solidity\":0.2}},\"type\":\"barpolar\"}],\"pie\":[{\"automargin\":true,\"type\":\"pie\"}]},\"layout\":{\"autotypenumbers\":\"strict\",\"colorway\":[\"#636efa\",\"#EF553B\",\"#00cc96\",\"#ab63fa\",\"#FFA15A\",\"#19d3f3\",\"#FF6692\",\"#B6E880\",\"#FF97FF\",\"#FECB52\"],\"font\":{\"color\":\"#2a3f5f\"},\"hovermode\":\"closest\",\"hoverlabel\":{\"align\":\"left\"},\"paper_bgcolor\":\"white\",\"plot_bgcolor\":\"#E5ECF6\",\"polar\":{\"bgcolor\":\"#E5ECF6\",\"angularaxis\":{\"gridcolor\":\"white\",\"linecolor\":\"white\",\"ticks\":\"\"},\"radialaxis\":{\"gridcolor\":\"white\",\"linecolor\":\"white\",\"ticks\":\"\"}},\"ternary\":{\"bgcolor\":\"#E5ECF6\",\"aaxis\":{\"gridcolor\":\"white\",\"linecolor\":\"white\",\"ticks\":\"\"},\"baxis\":{\"gridcolor\":\"white\",\"linecolor\":\"white\",\"ticks\":\"\"},\"caxis\":{\"gridcolor\":\"white\",\"linecolor\":\"white\",\"ticks\":\"\"}},\"coloraxis\":{\"colorbar\":{\"outlinewidth\":0,\"ticks\":\"\"}},\"colorscale\":{\"sequential\":[[0.0,\"#0d0887\"],[0.1111111111111111,\"#46039f\"],[0.2222222222222222,\"#7201a8\"],[0.3333333333333333,\"#9c179e\"],[0.4444444444444444,\"#bd3786\"],[0.5555555555555556,\"#d8576b\"],[0.6666666666666666,\"#ed7953\"],[0.7777777777777778,\"#fb9f3a\"],[0.8888888888888888,\"#fdca26\"],[1.0,\"#f0f921\"]],\"sequentialminus\":[[0.0,\"#0d0887\"],[0.1111111111111111,\"#46039f\"],[0.2222222222222222,\"#7201a8\"],[0.3333333333333333,\"#9c179e\"],[0.4444444444444444,\"#bd3786\"],[0.5555555555555556,\"#d8576b\"],[0.6666666666666666,\"#ed7953\"],[0.7777777777777778,\"#fb9f3a\"],[0.8888888888888888,\"#fdca26\"],[1.0,\"#f0f921\"]],\"diverging\":[[0,\"#8e0152\"],[0.1,\"#c51b7d\"],[0.2,\"#de77ae\"],[0.3,\"#f1b6da\"],[0.4,\"#fde0ef\"],[0.5,\"#f7f7f7\"],[0.6,\"#e6f5d0\"],[0.7,\"#b8e186\"],[0.8,\"#7fbc41\"],[0.9,\"#4d9221\"],[1,\"#276419\"]]},\"xaxis\":{\"gridcolor\":\"white\",\"linecolor\":\"white\",\"ticks\":\"\",\"title\":{\"standoff\":15},\"zerolinecolor\":\"white\",\"automargin\":true,\"zerolinewidth\":2},\"yaxis\":{\"gridcolor\":\"white\",\"linecolor\":\"white\",\"ticks\":\"\",\"title\":{\"standoff\":15},\"zerolinecolor\":\"white\",\"automargin\":true,\"zerolinewidth\":2},\"scene\":{\"xaxis\":{\"backgroundcolor\":\"#E5ECF6\",\"gridcolor\":\"white\",\"linecolor\":\"white\",\"showbackground\":true,\"ticks\":\"\",\"zerolinecolor\":\"white\",\"gridwidth\":2},\"yaxis\":{\"backgroundcolor\":\"#E5ECF6\",\"gridcolor\":\"white\",\"linecolor\":\"white\",\"showbackground\":true,\"ticks\":\"\",\"zerolinecolor\":\"white\",\"gridwidth\":2},\"zaxis\":{\"backgroundcolor\":\"#E5ECF6\",\"gridcolor\":\"white\",\"linecolor\":\"white\",\"showbackground\":true,\"ticks\":\"\",\"zerolinecolor\":\"white\",\"gridwidth\":2}},\"shapedefaults\":{\"line\":{\"color\":\"#2a3f5f\"}},\"annotationdefaults\":{\"arrowcolor\":\"#2a3f5f\",\"arrowhead\":0,\"arrowwidth\":1},\"geo\":{\"bgcolor\":\"white\",\"landcolor\":\"#E5ECF6\",\"subunitcolor\":\"white\",\"showland\":true,\"showlakes\":true,\"lakecolor\":\"white\"},\"title\":{\"x\":0.05},\"mapbox\":{\"style\":\"light\"}}}},                        {\"responsive\": true}                    )                };                            </script>        </div>"
      ],
      "text/plain": [
       "Figure({\n",
       "    'data': [{'mode': 'markers',\n",
       "              'name': 'Objective Value',\n",
       "              'type': 'scatter',\n",
       "              'x': [0, 1, 2, 3, 4, 5, 6, 7, 8, 9],\n",
       "              'y': [21.5852938990622, 24.934630354098868, 22.782650821623626,\n",
       "                    24.79908434654332, 25.03519607593713, 21.43718691701056,\n",
       "                    24.73869467874257, 24.691811211197216, 21.437186917010557,\n",
       "                    24.88971568630496]},\n",
       "             {'mode': 'lines',\n",
       "              'name': 'Best Value',\n",
       "              'type': 'scatter',\n",
       "              'x': [0, 1, 2, 3, 4, 5, 6, 7, 8, 9],\n",
       "              'y': [21.5852938990622, 21.5852938990622, 21.5852938990622,\n",
       "                    21.5852938990622, 21.5852938990622, 21.43718691701056,\n",
       "                    21.43718691701056, 21.43718691701056, 21.437186917010557,\n",
       "                    21.437186917010557]},\n",
       "             {'marker': {'color': '#cccccc'},\n",
       "              'mode': 'markers',\n",
       "              'name': 'Infeasible Trial',\n",
       "              'showlegend': False,\n",
       "              'type': 'scatter',\n",
       "              'x': [],\n",
       "              'y': []}],\n",
       "    'layout': {'template': '...',\n",
       "               'title': {'text': 'Optimization History Plot'},\n",
       "               'xaxis': {'title': {'text': 'Trial'}},\n",
       "               'yaxis': {'title': {'text': 'Objective Value'}}}\n",
       "})"
      ]
     },
     "execution_count": 6,
     "metadata": {},
     "output_type": "execute_result"
    }
   ],
   "source": [
    "optuna.visualization.plot_optimization_history(study)"
   ]
  },
  {
   "cell_type": "code",
   "execution_count": 7,
   "metadata": {},
   "outputs": [
    {
     "data": {
      "text/plain": [
       "{'max_depth': 2}"
      ]
     },
     "execution_count": 7,
     "metadata": {},
     "output_type": "execute_result"
    }
   ],
   "source": [
    "dt_best_params = study.best_params\n",
    "dt_best_params"
   ]
  },
  {
   "cell_type": "markdown",
   "metadata": {},
   "source": [
    "## Random Forest Regressor"
   ]
  },
  {
   "cell_type": "code",
   "execution_count": 8,
   "metadata": {},
   "outputs": [],
   "source": [
    "def rf_fine_tuning(trial):\n",
    "    n_estimators = trial.suggest_int('n_estimators', 10,200)\n",
    "    max_depth = trial.suggest_int('max_depth', 2,50)\n",
    "    rf_model = RandomForestRegressor(n_estimators = n_estimators, max_depth=max_depth)\n",
    "    rf_model.fit(X_train, y_train)\n",
    "    y_pred = rf_model.predict(X_val)\n",
    "\n",
    "    return calculate_metrics(y_val, y_pred, 'Random Forest')['RMSE']"
   ]
  },
  {
   "cell_type": "code",
   "execution_count": 9,
   "metadata": {},
   "outputs": [
    {
     "name": "stderr",
     "output_type": "stream",
     "text": [
      "[I 2023-09-15 11:47:53,975] A new study created in memory with name: no-name-3f977cfc-cebd-468a-bea6-6cc5157ad1b4\n",
      "[I 2023-09-15 11:48:58,448] Trial 0 finished with value: 17.863900419140624 and parameters: {'n_estimators': 182, 'max_depth': 19}. Best is trial 0 with value: 17.863900419140624.\n",
      "[I 2023-09-15 11:49:54,995] Trial 1 finished with value: 17.8108138603054 and parameters: {'n_estimators': 160, 'max_depth': 27}. Best is trial 1 with value: 17.8108138603054.\n",
      "[I 2023-09-15 11:50:03,864] Trial 2 finished with value: 18.318664781176345 and parameters: {'n_estimators': 22, 'max_depth': 36}. Best is trial 1 with value: 17.8108138603054.\n",
      "[I 2023-09-15 11:50:09,390] Trial 3 finished with value: 20.017552198844534 and parameters: {'n_estimators': 37, 'max_depth': 8}. Best is trial 1 with value: 17.8108138603054.\n",
      "[I 2023-09-15 11:50:41,722] Trial 4 finished with value: 18.14341479038604 and parameters: {'n_estimators': 105, 'max_depth': 16}. Best is trial 1 with value: 17.8108138603054.\n",
      "[I 2023-09-15 11:51:50,404] Trial 5 finished with value: 17.809230909325482 and parameters: {'n_estimators': 188, 'max_depth': 49}. Best is trial 5 with value: 17.809230909325482.\n",
      "[I 2023-09-15 11:51:54,190] Trial 6 finished with value: 20.070549928837195 and parameters: {'n_estimators': 27, 'max_depth': 8}. Best is trial 5 with value: 17.809230909325482.\n",
      "[I 2023-09-15 11:53:02,671] Trial 7 finished with value: 17.804438448451926 and parameters: {'n_estimators': 189, 'max_depth': 25}. Best is trial 7 with value: 17.804438448451926.\n",
      "[I 2023-09-15 11:53:53,053] Trial 8 finished with value: 17.83598635886502 and parameters: {'n_estimators': 138, 'max_depth': 23}. Best is trial 7 with value: 17.804438448451926.\n",
      "[I 2023-09-15 11:54:12,694] Trial 9 finished with value: 19.989783698333984 and parameters: {'n_estimators': 133, 'max_depth': 8}. Best is trial 7 with value: 17.804438448451926.\n"
     ]
    }
   ],
   "source": [
    "study = optuna.create_study(direction='minimize')\n",
    "study.optimize(rf_fine_tuning, n_trials=10)"
   ]
  },
  {
   "cell_type": "code",
   "execution_count": 11,
   "metadata": {},
   "outputs": [
    {
     "ename": "ValueError",
     "evalue": "Mime type rendering requires nbformat>=4.2.0 but it is not installed",
     "output_type": "error",
     "traceback": [
      "\u001b[1;31m---------------------------------------------------------------------------\u001b[0m",
      "\u001b[1;31mValueError\u001b[0m                                Traceback (most recent call last)",
      "File \u001b[1;32mc:\\Users\\thale\\Documents\\Estudos\\Disciplinas\\Introdução a ML\\Projeto Aluno\\ensaios-algoritmos-ml\\env\\Lib\\site-packages\\IPython\\core\\formatters.py:922\u001b[0m, in \u001b[0;36mIPythonDisplayFormatter.__call__\u001b[1;34m(self, obj)\u001b[0m\n\u001b[0;32m    920\u001b[0m method \u001b[39m=\u001b[39m get_real_method(obj, \u001b[39mself\u001b[39m\u001b[39m.\u001b[39mprint_method)\n\u001b[0;32m    921\u001b[0m \u001b[39mif\u001b[39;00m method \u001b[39mis\u001b[39;00m \u001b[39mnot\u001b[39;00m \u001b[39mNone\u001b[39;00m:\n\u001b[1;32m--> 922\u001b[0m     method()\n\u001b[0;32m    923\u001b[0m     \u001b[39mreturn\u001b[39;00m \u001b[39mTrue\u001b[39;00m\n",
      "File \u001b[1;32mc:\\Users\\thale\\Documents\\Estudos\\Disciplinas\\Introdução a ML\\Projeto Aluno\\ensaios-algoritmos-ml\\env\\Lib\\site-packages\\plotly\\basedatatypes.py:834\u001b[0m, in \u001b[0;36mBaseFigure._ipython_display_\u001b[1;34m(self)\u001b[0m\n\u001b[0;32m    831\u001b[0m \u001b[39mimport\u001b[39;00m \u001b[39mplotly\u001b[39;00m\u001b[39m.\u001b[39;00m\u001b[39mio\u001b[39;00m \u001b[39mas\u001b[39;00m \u001b[39mpio\u001b[39;00m\n\u001b[0;32m    833\u001b[0m \u001b[39mif\u001b[39;00m pio\u001b[39m.\u001b[39mrenderers\u001b[39m.\u001b[39mrender_on_display \u001b[39mand\u001b[39;00m pio\u001b[39m.\u001b[39mrenderers\u001b[39m.\u001b[39mdefault:\n\u001b[1;32m--> 834\u001b[0m     pio\u001b[39m.\u001b[39;49mshow(\u001b[39mself\u001b[39;49m)\n\u001b[0;32m    835\u001b[0m \u001b[39melse\u001b[39;00m:\n\u001b[0;32m    836\u001b[0m     \u001b[39mprint\u001b[39m(\u001b[39mrepr\u001b[39m(\u001b[39mself\u001b[39m))\n",
      "File \u001b[1;32mc:\\Users\\thale\\Documents\\Estudos\\Disciplinas\\Introdução a ML\\Projeto Aluno\\ensaios-algoritmos-ml\\env\\Lib\\site-packages\\plotly\\io\\_renderers.py:396\u001b[0m, in \u001b[0;36mshow\u001b[1;34m(fig, renderer, validate, **kwargs)\u001b[0m\n\u001b[0;32m    391\u001b[0m         \u001b[39mraise\u001b[39;00m \u001b[39mValueError\u001b[39;00m(\n\u001b[0;32m    392\u001b[0m             \u001b[39m\"\u001b[39m\u001b[39mMime type rendering requires ipython but it is not installed\u001b[39m\u001b[39m\"\u001b[39m\n\u001b[0;32m    393\u001b[0m         )\n\u001b[0;32m    395\u001b[0m     \u001b[39mif\u001b[39;00m \u001b[39mnot\u001b[39;00m nbformat \u001b[39mor\u001b[39;00m Version(nbformat\u001b[39m.\u001b[39m__version__) \u001b[39m<\u001b[39m Version(\u001b[39m\"\u001b[39m\u001b[39m4.2.0\u001b[39m\u001b[39m\"\u001b[39m):\n\u001b[1;32m--> 396\u001b[0m         \u001b[39mraise\u001b[39;00m \u001b[39mValueError\u001b[39;00m(\n\u001b[0;32m    397\u001b[0m             \u001b[39m\"\u001b[39m\u001b[39mMime type rendering requires nbformat>=4.2.0 but it is not installed\u001b[39m\u001b[39m\"\u001b[39m\n\u001b[0;32m    398\u001b[0m         )\n\u001b[0;32m    400\u001b[0m     ipython_display\u001b[39m.\u001b[39mdisplay(bundle, raw\u001b[39m=\u001b[39m\u001b[39mTrue\u001b[39;00m)\n\u001b[0;32m    402\u001b[0m \u001b[39m# external renderers\u001b[39;00m\n",
      "\u001b[1;31mValueError\u001b[0m: Mime type rendering requires nbformat>=4.2.0 but it is not installed"
     ]
    },
    {
     "data": {
      "application/vnd.plotly.v1+json": {
       "config": {
        "plotlyServerURL": "https://plot.ly"
       },
       "data": [
        {
         "mode": "markers",
         "name": "Objective Value",
         "type": "scatter",
         "x": [
          0,
          1,
          2,
          3,
          4,
          5,
          6,
          7,
          8,
          9
         ],
         "y": [
          17.863900419140624,
          17.8108138603054,
          18.318664781176345,
          20.017552198844534,
          18.14341479038604,
          17.809230909325482,
          20.070549928837195,
          17.804438448451926,
          17.83598635886502,
          19.989783698333984
         ]
        },
        {
         "mode": "lines",
         "name": "Best Value",
         "type": "scatter",
         "x": [
          0,
          1,
          2,
          3,
          4,
          5,
          6,
          7,
          8,
          9
         ],
         "y": [
          17.863900419140624,
          17.8108138603054,
          17.8108138603054,
          17.8108138603054,
          17.8108138603054,
          17.809230909325482,
          17.809230909325482,
          17.804438448451926,
          17.804438448451926,
          17.804438448451926
         ]
        },
        {
         "marker": {
          "color": "#cccccc"
         },
         "mode": "markers",
         "name": "Infeasible Trial",
         "showlegend": false,
         "type": "scatter",
         "x": [],
         "y": []
        }
       ],
       "layout": {
        "template": {
         "data": {
          "bar": [
           {
            "error_x": {
             "color": "#2a3f5f"
            },
            "error_y": {
             "color": "#2a3f5f"
            },
            "marker": {
             "line": {
              "color": "#E5ECF6",
              "width": 0.5
             },
             "pattern": {
              "fillmode": "overlay",
              "size": 10,
              "solidity": 0.2
             }
            },
            "type": "bar"
           }
          ],
          "barpolar": [
           {
            "marker": {
             "line": {
              "color": "#E5ECF6",
              "width": 0.5
             },
             "pattern": {
              "fillmode": "overlay",
              "size": 10,
              "solidity": 0.2
             }
            },
            "type": "barpolar"
           }
          ],
          "carpet": [
           {
            "aaxis": {
             "endlinecolor": "#2a3f5f",
             "gridcolor": "white",
             "linecolor": "white",
             "minorgridcolor": "white",
             "startlinecolor": "#2a3f5f"
            },
            "baxis": {
             "endlinecolor": "#2a3f5f",
             "gridcolor": "white",
             "linecolor": "white",
             "minorgridcolor": "white",
             "startlinecolor": "#2a3f5f"
            },
            "type": "carpet"
           }
          ],
          "choropleth": [
           {
            "colorbar": {
             "outlinewidth": 0,
             "ticks": ""
            },
            "type": "choropleth"
           }
          ],
          "contour": [
           {
            "colorbar": {
             "outlinewidth": 0,
             "ticks": ""
            },
            "colorscale": [
             [
              0,
              "#0d0887"
             ],
             [
              0.1111111111111111,
              "#46039f"
             ],
             [
              0.2222222222222222,
              "#7201a8"
             ],
             [
              0.3333333333333333,
              "#9c179e"
             ],
             [
              0.4444444444444444,
              "#bd3786"
             ],
             [
              0.5555555555555556,
              "#d8576b"
             ],
             [
              0.6666666666666666,
              "#ed7953"
             ],
             [
              0.7777777777777778,
              "#fb9f3a"
             ],
             [
              0.8888888888888888,
              "#fdca26"
             ],
             [
              1,
              "#f0f921"
             ]
            ],
            "type": "contour"
           }
          ],
          "contourcarpet": [
           {
            "colorbar": {
             "outlinewidth": 0,
             "ticks": ""
            },
            "type": "contourcarpet"
           }
          ],
          "heatmap": [
           {
            "colorbar": {
             "outlinewidth": 0,
             "ticks": ""
            },
            "colorscale": [
             [
              0,
              "#0d0887"
             ],
             [
              0.1111111111111111,
              "#46039f"
             ],
             [
              0.2222222222222222,
              "#7201a8"
             ],
             [
              0.3333333333333333,
              "#9c179e"
             ],
             [
              0.4444444444444444,
              "#bd3786"
             ],
             [
              0.5555555555555556,
              "#d8576b"
             ],
             [
              0.6666666666666666,
              "#ed7953"
             ],
             [
              0.7777777777777778,
              "#fb9f3a"
             ],
             [
              0.8888888888888888,
              "#fdca26"
             ],
             [
              1,
              "#f0f921"
             ]
            ],
            "type": "heatmap"
           }
          ],
          "heatmapgl": [
           {
            "colorbar": {
             "outlinewidth": 0,
             "ticks": ""
            },
            "colorscale": [
             [
              0,
              "#0d0887"
             ],
             [
              0.1111111111111111,
              "#46039f"
             ],
             [
              0.2222222222222222,
              "#7201a8"
             ],
             [
              0.3333333333333333,
              "#9c179e"
             ],
             [
              0.4444444444444444,
              "#bd3786"
             ],
             [
              0.5555555555555556,
              "#d8576b"
             ],
             [
              0.6666666666666666,
              "#ed7953"
             ],
             [
              0.7777777777777778,
              "#fb9f3a"
             ],
             [
              0.8888888888888888,
              "#fdca26"
             ],
             [
              1,
              "#f0f921"
             ]
            ],
            "type": "heatmapgl"
           }
          ],
          "histogram": [
           {
            "marker": {
             "pattern": {
              "fillmode": "overlay",
              "size": 10,
              "solidity": 0.2
             }
            },
            "type": "histogram"
           }
          ],
          "histogram2d": [
           {
            "colorbar": {
             "outlinewidth": 0,
             "ticks": ""
            },
            "colorscale": [
             [
              0,
              "#0d0887"
             ],
             [
              0.1111111111111111,
              "#46039f"
             ],
             [
              0.2222222222222222,
              "#7201a8"
             ],
             [
              0.3333333333333333,
              "#9c179e"
             ],
             [
              0.4444444444444444,
              "#bd3786"
             ],
             [
              0.5555555555555556,
              "#d8576b"
             ],
             [
              0.6666666666666666,
              "#ed7953"
             ],
             [
              0.7777777777777778,
              "#fb9f3a"
             ],
             [
              0.8888888888888888,
              "#fdca26"
             ],
             [
              1,
              "#f0f921"
             ]
            ],
            "type": "histogram2d"
           }
          ],
          "histogram2dcontour": [
           {
            "colorbar": {
             "outlinewidth": 0,
             "ticks": ""
            },
            "colorscale": [
             [
              0,
              "#0d0887"
             ],
             [
              0.1111111111111111,
              "#46039f"
             ],
             [
              0.2222222222222222,
              "#7201a8"
             ],
             [
              0.3333333333333333,
              "#9c179e"
             ],
             [
              0.4444444444444444,
              "#bd3786"
             ],
             [
              0.5555555555555556,
              "#d8576b"
             ],
             [
              0.6666666666666666,
              "#ed7953"
             ],
             [
              0.7777777777777778,
              "#fb9f3a"
             ],
             [
              0.8888888888888888,
              "#fdca26"
             ],
             [
              1,
              "#f0f921"
             ]
            ],
            "type": "histogram2dcontour"
           }
          ],
          "mesh3d": [
           {
            "colorbar": {
             "outlinewidth": 0,
             "ticks": ""
            },
            "type": "mesh3d"
           }
          ],
          "parcoords": [
           {
            "line": {
             "colorbar": {
              "outlinewidth": 0,
              "ticks": ""
             }
            },
            "type": "parcoords"
           }
          ],
          "pie": [
           {
            "automargin": true,
            "type": "pie"
           }
          ],
          "scatter": [
           {
            "fillpattern": {
             "fillmode": "overlay",
             "size": 10,
             "solidity": 0.2
            },
            "type": "scatter"
           }
          ],
          "scatter3d": [
           {
            "line": {
             "colorbar": {
              "outlinewidth": 0,
              "ticks": ""
             }
            },
            "marker": {
             "colorbar": {
              "outlinewidth": 0,
              "ticks": ""
             }
            },
            "type": "scatter3d"
           }
          ],
          "scattercarpet": [
           {
            "marker": {
             "colorbar": {
              "outlinewidth": 0,
              "ticks": ""
             }
            },
            "type": "scattercarpet"
           }
          ],
          "scattergeo": [
           {
            "marker": {
             "colorbar": {
              "outlinewidth": 0,
              "ticks": ""
             }
            },
            "type": "scattergeo"
           }
          ],
          "scattergl": [
           {
            "marker": {
             "colorbar": {
              "outlinewidth": 0,
              "ticks": ""
             }
            },
            "type": "scattergl"
           }
          ],
          "scattermapbox": [
           {
            "marker": {
             "colorbar": {
              "outlinewidth": 0,
              "ticks": ""
             }
            },
            "type": "scattermapbox"
           }
          ],
          "scatterpolar": [
           {
            "marker": {
             "colorbar": {
              "outlinewidth": 0,
              "ticks": ""
             }
            },
            "type": "scatterpolar"
           }
          ],
          "scatterpolargl": [
           {
            "marker": {
             "colorbar": {
              "outlinewidth": 0,
              "ticks": ""
             }
            },
            "type": "scatterpolargl"
           }
          ],
          "scatterternary": [
           {
            "marker": {
             "colorbar": {
              "outlinewidth": 0,
              "ticks": ""
             }
            },
            "type": "scatterternary"
           }
          ],
          "surface": [
           {
            "colorbar": {
             "outlinewidth": 0,
             "ticks": ""
            },
            "colorscale": [
             [
              0,
              "#0d0887"
             ],
             [
              0.1111111111111111,
              "#46039f"
             ],
             [
              0.2222222222222222,
              "#7201a8"
             ],
             [
              0.3333333333333333,
              "#9c179e"
             ],
             [
              0.4444444444444444,
              "#bd3786"
             ],
             [
              0.5555555555555556,
              "#d8576b"
             ],
             [
              0.6666666666666666,
              "#ed7953"
             ],
             [
              0.7777777777777778,
              "#fb9f3a"
             ],
             [
              0.8888888888888888,
              "#fdca26"
             ],
             [
              1,
              "#f0f921"
             ]
            ],
            "type": "surface"
           }
          ],
          "table": [
           {
            "cells": {
             "fill": {
              "color": "#EBF0F8"
             },
             "line": {
              "color": "white"
             }
            },
            "header": {
             "fill": {
              "color": "#C8D4E3"
             },
             "line": {
              "color": "white"
             }
            },
            "type": "table"
           }
          ]
         },
         "layout": {
          "annotationdefaults": {
           "arrowcolor": "#2a3f5f",
           "arrowhead": 0,
           "arrowwidth": 1
          },
          "autotypenumbers": "strict",
          "coloraxis": {
           "colorbar": {
            "outlinewidth": 0,
            "ticks": ""
           }
          },
          "colorscale": {
           "diverging": [
            [
             0,
             "#8e0152"
            ],
            [
             0.1,
             "#c51b7d"
            ],
            [
             0.2,
             "#de77ae"
            ],
            [
             0.3,
             "#f1b6da"
            ],
            [
             0.4,
             "#fde0ef"
            ],
            [
             0.5,
             "#f7f7f7"
            ],
            [
             0.6,
             "#e6f5d0"
            ],
            [
             0.7,
             "#b8e186"
            ],
            [
             0.8,
             "#7fbc41"
            ],
            [
             0.9,
             "#4d9221"
            ],
            [
             1,
             "#276419"
            ]
           ],
           "sequential": [
            [
             0,
             "#0d0887"
            ],
            [
             0.1111111111111111,
             "#46039f"
            ],
            [
             0.2222222222222222,
             "#7201a8"
            ],
            [
             0.3333333333333333,
             "#9c179e"
            ],
            [
             0.4444444444444444,
             "#bd3786"
            ],
            [
             0.5555555555555556,
             "#d8576b"
            ],
            [
             0.6666666666666666,
             "#ed7953"
            ],
            [
             0.7777777777777778,
             "#fb9f3a"
            ],
            [
             0.8888888888888888,
             "#fdca26"
            ],
            [
             1,
             "#f0f921"
            ]
           ],
           "sequentialminus": [
            [
             0,
             "#0d0887"
            ],
            [
             0.1111111111111111,
             "#46039f"
            ],
            [
             0.2222222222222222,
             "#7201a8"
            ],
            [
             0.3333333333333333,
             "#9c179e"
            ],
            [
             0.4444444444444444,
             "#bd3786"
            ],
            [
             0.5555555555555556,
             "#d8576b"
            ],
            [
             0.6666666666666666,
             "#ed7953"
            ],
            [
             0.7777777777777778,
             "#fb9f3a"
            ],
            [
             0.8888888888888888,
             "#fdca26"
            ],
            [
             1,
             "#f0f921"
            ]
           ]
          },
          "colorway": [
           "#636efa",
           "#EF553B",
           "#00cc96",
           "#ab63fa",
           "#FFA15A",
           "#19d3f3",
           "#FF6692",
           "#B6E880",
           "#FF97FF",
           "#FECB52"
          ],
          "font": {
           "color": "#2a3f5f"
          },
          "geo": {
           "bgcolor": "white",
           "lakecolor": "white",
           "landcolor": "#E5ECF6",
           "showlakes": true,
           "showland": true,
           "subunitcolor": "white"
          },
          "hoverlabel": {
           "align": "left"
          },
          "hovermode": "closest",
          "mapbox": {
           "style": "light"
          },
          "paper_bgcolor": "white",
          "plot_bgcolor": "#E5ECF6",
          "polar": {
           "angularaxis": {
            "gridcolor": "white",
            "linecolor": "white",
            "ticks": ""
           },
           "bgcolor": "#E5ECF6",
           "radialaxis": {
            "gridcolor": "white",
            "linecolor": "white",
            "ticks": ""
           }
          },
          "scene": {
           "xaxis": {
            "backgroundcolor": "#E5ECF6",
            "gridcolor": "white",
            "gridwidth": 2,
            "linecolor": "white",
            "showbackground": true,
            "ticks": "",
            "zerolinecolor": "white"
           },
           "yaxis": {
            "backgroundcolor": "#E5ECF6",
            "gridcolor": "white",
            "gridwidth": 2,
            "linecolor": "white",
            "showbackground": true,
            "ticks": "",
            "zerolinecolor": "white"
           },
           "zaxis": {
            "backgroundcolor": "#E5ECF6",
            "gridcolor": "white",
            "gridwidth": 2,
            "linecolor": "white",
            "showbackground": true,
            "ticks": "",
            "zerolinecolor": "white"
           }
          },
          "shapedefaults": {
           "line": {
            "color": "#2a3f5f"
           }
          },
          "ternary": {
           "aaxis": {
            "gridcolor": "white",
            "linecolor": "white",
            "ticks": ""
           },
           "baxis": {
            "gridcolor": "white",
            "linecolor": "white",
            "ticks": ""
           },
           "bgcolor": "#E5ECF6",
           "caxis": {
            "gridcolor": "white",
            "linecolor": "white",
            "ticks": ""
           }
          },
          "title": {
           "x": 0.05
          },
          "xaxis": {
           "automargin": true,
           "gridcolor": "white",
           "linecolor": "white",
           "ticks": "",
           "title": {
            "standoff": 15
           },
           "zerolinecolor": "white",
           "zerolinewidth": 2
          },
          "yaxis": {
           "automargin": true,
           "gridcolor": "white",
           "linecolor": "white",
           "ticks": "",
           "title": {
            "standoff": 15
           },
           "zerolinecolor": "white",
           "zerolinewidth": 2
          }
         }
        },
        "title": {
         "text": "Optimization History Plot"
        },
        "xaxis": {
         "title": {
          "text": "Trial"
         }
        },
        "yaxis": {
         "title": {
          "text": "Objective Value"
         }
        }
       }
      },
      "text/html": [
       "<div>                        <script type=\"text/javascript\">window.PlotlyConfig = {MathJaxConfig: 'local'};</script>\n",
       "        <script charset=\"utf-8\" src=\"https://cdn.plot.ly/plotly-2.25.2.min.js\"></script>                <div id=\"479c4e1b-50ba-4070-b84f-100d7d159e23\" class=\"plotly-graph-div\" style=\"height:100%; width:100%;\"></div>            <script type=\"text/javascript\">                                    window.PLOTLYENV=window.PLOTLYENV || {};                                    if (document.getElementById(\"479c4e1b-50ba-4070-b84f-100d7d159e23\")) {                    Plotly.newPlot(                        \"479c4e1b-50ba-4070-b84f-100d7d159e23\",                        [{\"mode\":\"markers\",\"name\":\"Objective Value\",\"x\":[0,1,2,3,4,5,6,7,8,9],\"y\":[17.863900419140624,17.8108138603054,18.318664781176345,20.017552198844534,18.14341479038604,17.809230909325482,20.070549928837195,17.804438448451926,17.83598635886502,19.989783698333984],\"type\":\"scatter\"},{\"mode\":\"lines\",\"name\":\"Best Value\",\"x\":[0,1,2,3,4,5,6,7,8,9],\"y\":[17.863900419140624,17.8108138603054,17.8108138603054,17.8108138603054,17.8108138603054,17.809230909325482,17.809230909325482,17.804438448451926,17.804438448451926,17.804438448451926],\"type\":\"scatter\"},{\"marker\":{\"color\":\"#cccccc\"},\"mode\":\"markers\",\"name\":\"Infeasible Trial\",\"showlegend\":false,\"x\":[],\"y\":[],\"type\":\"scatter\"}],                        {\"title\":{\"text\":\"Optimization History Plot\"},\"xaxis\":{\"title\":{\"text\":\"Trial\"}},\"yaxis\":{\"title\":{\"text\":\"Objective Value\"}},\"template\":{\"data\":{\"histogram2dcontour\":[{\"type\":\"histogram2dcontour\",\"colorbar\":{\"outlinewidth\":0,\"ticks\":\"\"},\"colorscale\":[[0.0,\"#0d0887\"],[0.1111111111111111,\"#46039f\"],[0.2222222222222222,\"#7201a8\"],[0.3333333333333333,\"#9c179e\"],[0.4444444444444444,\"#bd3786\"],[0.5555555555555556,\"#d8576b\"],[0.6666666666666666,\"#ed7953\"],[0.7777777777777778,\"#fb9f3a\"],[0.8888888888888888,\"#fdca26\"],[1.0,\"#f0f921\"]]}],\"choropleth\":[{\"type\":\"choropleth\",\"colorbar\":{\"outlinewidth\":0,\"ticks\":\"\"}}],\"histogram2d\":[{\"type\":\"histogram2d\",\"colorbar\":{\"outlinewidth\":0,\"ticks\":\"\"},\"colorscale\":[[0.0,\"#0d0887\"],[0.1111111111111111,\"#46039f\"],[0.2222222222222222,\"#7201a8\"],[0.3333333333333333,\"#9c179e\"],[0.4444444444444444,\"#bd3786\"],[0.5555555555555556,\"#d8576b\"],[0.6666666666666666,\"#ed7953\"],[0.7777777777777778,\"#fb9f3a\"],[0.8888888888888888,\"#fdca26\"],[1.0,\"#f0f921\"]]}],\"heatmap\":[{\"type\":\"heatmap\",\"colorbar\":{\"outlinewidth\":0,\"ticks\":\"\"},\"colorscale\":[[0.0,\"#0d0887\"],[0.1111111111111111,\"#46039f\"],[0.2222222222222222,\"#7201a8\"],[0.3333333333333333,\"#9c179e\"],[0.4444444444444444,\"#bd3786\"],[0.5555555555555556,\"#d8576b\"],[0.6666666666666666,\"#ed7953\"],[0.7777777777777778,\"#fb9f3a\"],[0.8888888888888888,\"#fdca26\"],[1.0,\"#f0f921\"]]}],\"heatmapgl\":[{\"type\":\"heatmapgl\",\"colorbar\":{\"outlinewidth\":0,\"ticks\":\"\"},\"colorscale\":[[0.0,\"#0d0887\"],[0.1111111111111111,\"#46039f\"],[0.2222222222222222,\"#7201a8\"],[0.3333333333333333,\"#9c179e\"],[0.4444444444444444,\"#bd3786\"],[0.5555555555555556,\"#d8576b\"],[0.6666666666666666,\"#ed7953\"],[0.7777777777777778,\"#fb9f3a\"],[0.8888888888888888,\"#fdca26\"],[1.0,\"#f0f921\"]]}],\"contourcarpet\":[{\"type\":\"contourcarpet\",\"colorbar\":{\"outlinewidth\":0,\"ticks\":\"\"}}],\"contour\":[{\"type\":\"contour\",\"colorbar\":{\"outlinewidth\":0,\"ticks\":\"\"},\"colorscale\":[[0.0,\"#0d0887\"],[0.1111111111111111,\"#46039f\"],[0.2222222222222222,\"#7201a8\"],[0.3333333333333333,\"#9c179e\"],[0.4444444444444444,\"#bd3786\"],[0.5555555555555556,\"#d8576b\"],[0.6666666666666666,\"#ed7953\"],[0.7777777777777778,\"#fb9f3a\"],[0.8888888888888888,\"#fdca26\"],[1.0,\"#f0f921\"]]}],\"surface\":[{\"type\":\"surface\",\"colorbar\":{\"outlinewidth\":0,\"ticks\":\"\"},\"colorscale\":[[0.0,\"#0d0887\"],[0.1111111111111111,\"#46039f\"],[0.2222222222222222,\"#7201a8\"],[0.3333333333333333,\"#9c179e\"],[0.4444444444444444,\"#bd3786\"],[0.5555555555555556,\"#d8576b\"],[0.6666666666666666,\"#ed7953\"],[0.7777777777777778,\"#fb9f3a\"],[0.8888888888888888,\"#fdca26\"],[1.0,\"#f0f921\"]]}],\"mesh3d\":[{\"type\":\"mesh3d\",\"colorbar\":{\"outlinewidth\":0,\"ticks\":\"\"}}],\"scatter\":[{\"fillpattern\":{\"fillmode\":\"overlay\",\"size\":10,\"solidity\":0.2},\"type\":\"scatter\"}],\"parcoords\":[{\"type\":\"parcoords\",\"line\":{\"colorbar\":{\"outlinewidth\":0,\"ticks\":\"\"}}}],\"scatterpolargl\":[{\"type\":\"scatterpolargl\",\"marker\":{\"colorbar\":{\"outlinewidth\":0,\"ticks\":\"\"}}}],\"bar\":[{\"error_x\":{\"color\":\"#2a3f5f\"},\"error_y\":{\"color\":\"#2a3f5f\"},\"marker\":{\"line\":{\"color\":\"#E5ECF6\",\"width\":0.5},\"pattern\":{\"fillmode\":\"overlay\",\"size\":10,\"solidity\":0.2}},\"type\":\"bar\"}],\"scattergeo\":[{\"type\":\"scattergeo\",\"marker\":{\"colorbar\":{\"outlinewidth\":0,\"ticks\":\"\"}}}],\"scatterpolar\":[{\"type\":\"scatterpolar\",\"marker\":{\"colorbar\":{\"outlinewidth\":0,\"ticks\":\"\"}}}],\"histogram\":[{\"marker\":{\"pattern\":{\"fillmode\":\"overlay\",\"size\":10,\"solidity\":0.2}},\"type\":\"histogram\"}],\"scattergl\":[{\"type\":\"scattergl\",\"marker\":{\"colorbar\":{\"outlinewidth\":0,\"ticks\":\"\"}}}],\"scatter3d\":[{\"type\":\"scatter3d\",\"line\":{\"colorbar\":{\"outlinewidth\":0,\"ticks\":\"\"}},\"marker\":{\"colorbar\":{\"outlinewidth\":0,\"ticks\":\"\"}}}],\"scattermapbox\":[{\"type\":\"scattermapbox\",\"marker\":{\"colorbar\":{\"outlinewidth\":0,\"ticks\":\"\"}}}],\"scatterternary\":[{\"type\":\"scatterternary\",\"marker\":{\"colorbar\":{\"outlinewidth\":0,\"ticks\":\"\"}}}],\"scattercarpet\":[{\"type\":\"scattercarpet\",\"marker\":{\"colorbar\":{\"outlinewidth\":0,\"ticks\":\"\"}}}],\"carpet\":[{\"aaxis\":{\"endlinecolor\":\"#2a3f5f\",\"gridcolor\":\"white\",\"linecolor\":\"white\",\"minorgridcolor\":\"white\",\"startlinecolor\":\"#2a3f5f\"},\"baxis\":{\"endlinecolor\":\"#2a3f5f\",\"gridcolor\":\"white\",\"linecolor\":\"white\",\"minorgridcolor\":\"white\",\"startlinecolor\":\"#2a3f5f\"},\"type\":\"carpet\"}],\"table\":[{\"cells\":{\"fill\":{\"color\":\"#EBF0F8\"},\"line\":{\"color\":\"white\"}},\"header\":{\"fill\":{\"color\":\"#C8D4E3\"},\"line\":{\"color\":\"white\"}},\"type\":\"table\"}],\"barpolar\":[{\"marker\":{\"line\":{\"color\":\"#E5ECF6\",\"width\":0.5},\"pattern\":{\"fillmode\":\"overlay\",\"size\":10,\"solidity\":0.2}},\"type\":\"barpolar\"}],\"pie\":[{\"automargin\":true,\"type\":\"pie\"}]},\"layout\":{\"autotypenumbers\":\"strict\",\"colorway\":[\"#636efa\",\"#EF553B\",\"#00cc96\",\"#ab63fa\",\"#FFA15A\",\"#19d3f3\",\"#FF6692\",\"#B6E880\",\"#FF97FF\",\"#FECB52\"],\"font\":{\"color\":\"#2a3f5f\"},\"hovermode\":\"closest\",\"hoverlabel\":{\"align\":\"left\"},\"paper_bgcolor\":\"white\",\"plot_bgcolor\":\"#E5ECF6\",\"polar\":{\"bgcolor\":\"#E5ECF6\",\"angularaxis\":{\"gridcolor\":\"white\",\"linecolor\":\"white\",\"ticks\":\"\"},\"radialaxis\":{\"gridcolor\":\"white\",\"linecolor\":\"white\",\"ticks\":\"\"}},\"ternary\":{\"bgcolor\":\"#E5ECF6\",\"aaxis\":{\"gridcolor\":\"white\",\"linecolor\":\"white\",\"ticks\":\"\"},\"baxis\":{\"gridcolor\":\"white\",\"linecolor\":\"white\",\"ticks\":\"\"},\"caxis\":{\"gridcolor\":\"white\",\"linecolor\":\"white\",\"ticks\":\"\"}},\"coloraxis\":{\"colorbar\":{\"outlinewidth\":0,\"ticks\":\"\"}},\"colorscale\":{\"sequential\":[[0.0,\"#0d0887\"],[0.1111111111111111,\"#46039f\"],[0.2222222222222222,\"#7201a8\"],[0.3333333333333333,\"#9c179e\"],[0.4444444444444444,\"#bd3786\"],[0.5555555555555556,\"#d8576b\"],[0.6666666666666666,\"#ed7953\"],[0.7777777777777778,\"#fb9f3a\"],[0.8888888888888888,\"#fdca26\"],[1.0,\"#f0f921\"]],\"sequentialminus\":[[0.0,\"#0d0887\"],[0.1111111111111111,\"#46039f\"],[0.2222222222222222,\"#7201a8\"],[0.3333333333333333,\"#9c179e\"],[0.4444444444444444,\"#bd3786\"],[0.5555555555555556,\"#d8576b\"],[0.6666666666666666,\"#ed7953\"],[0.7777777777777778,\"#fb9f3a\"],[0.8888888888888888,\"#fdca26\"],[1.0,\"#f0f921\"]],\"diverging\":[[0,\"#8e0152\"],[0.1,\"#c51b7d\"],[0.2,\"#de77ae\"],[0.3,\"#f1b6da\"],[0.4,\"#fde0ef\"],[0.5,\"#f7f7f7\"],[0.6,\"#e6f5d0\"],[0.7,\"#b8e186\"],[0.8,\"#7fbc41\"],[0.9,\"#4d9221\"],[1,\"#276419\"]]},\"xaxis\":{\"gridcolor\":\"white\",\"linecolor\":\"white\",\"ticks\":\"\",\"title\":{\"standoff\":15},\"zerolinecolor\":\"white\",\"automargin\":true,\"zerolinewidth\":2},\"yaxis\":{\"gridcolor\":\"white\",\"linecolor\":\"white\",\"ticks\":\"\",\"title\":{\"standoff\":15},\"zerolinecolor\":\"white\",\"automargin\":true,\"zerolinewidth\":2},\"scene\":{\"xaxis\":{\"backgroundcolor\":\"#E5ECF6\",\"gridcolor\":\"white\",\"linecolor\":\"white\",\"showbackground\":true,\"ticks\":\"\",\"zerolinecolor\":\"white\",\"gridwidth\":2},\"yaxis\":{\"backgroundcolor\":\"#E5ECF6\",\"gridcolor\":\"white\",\"linecolor\":\"white\",\"showbackground\":true,\"ticks\":\"\",\"zerolinecolor\":\"white\",\"gridwidth\":2},\"zaxis\":{\"backgroundcolor\":\"#E5ECF6\",\"gridcolor\":\"white\",\"linecolor\":\"white\",\"showbackground\":true,\"ticks\":\"\",\"zerolinecolor\":\"white\",\"gridwidth\":2}},\"shapedefaults\":{\"line\":{\"color\":\"#2a3f5f\"}},\"annotationdefaults\":{\"arrowcolor\":\"#2a3f5f\",\"arrowhead\":0,\"arrowwidth\":1},\"geo\":{\"bgcolor\":\"white\",\"landcolor\":\"#E5ECF6\",\"subunitcolor\":\"white\",\"showland\":true,\"showlakes\":true,\"lakecolor\":\"white\"},\"title\":{\"x\":0.05},\"mapbox\":{\"style\":\"light\"}}}},                        {\"responsive\": true}                    )                };                            </script>        </div>"
      ],
      "text/plain": [
       "Figure({\n",
       "    'data': [{'mode': 'markers',\n",
       "              'name': 'Objective Value',\n",
       "              'type': 'scatter',\n",
       "              'x': [0, 1, 2, 3, 4, 5, 6, 7, 8, 9],\n",
       "              'y': [17.863900419140624, 17.8108138603054, 18.318664781176345,\n",
       "                    20.017552198844534, 18.14341479038604, 17.809230909325482,\n",
       "                    20.070549928837195, 17.804438448451926, 17.83598635886502,\n",
       "                    19.989783698333984]},\n",
       "             {'mode': 'lines',\n",
       "              'name': 'Best Value',\n",
       "              'type': 'scatter',\n",
       "              'x': [0, 1, 2, 3, 4, 5, 6, 7, 8, 9],\n",
       "              'y': [17.863900419140624, 17.8108138603054, 17.8108138603054,\n",
       "                    17.8108138603054, 17.8108138603054, 17.809230909325482,\n",
       "                    17.809230909325482, 17.804438448451926, 17.804438448451926,\n",
       "                    17.804438448451926]},\n",
       "             {'marker': {'color': '#cccccc'},\n",
       "              'mode': 'markers',\n",
       "              'name': 'Infeasible Trial',\n",
       "              'showlegend': False,\n",
       "              'type': 'scatter',\n",
       "              'x': [],\n",
       "              'y': []}],\n",
       "    'layout': {'template': '...',\n",
       "               'title': {'text': 'Optimization History Plot'},\n",
       "               'xaxis': {'title': {'text': 'Trial'}},\n",
       "               'yaxis': {'title': {'text': 'Objective Value'}}}\n",
       "})"
      ]
     },
     "execution_count": 11,
     "metadata": {},
     "output_type": "execute_result"
    }
   ],
   "source": [
    "optuna.visualization.plot_optimization_history(study)"
   ]
  },
  {
   "cell_type": "code",
   "execution_count": 12,
   "metadata": {},
   "outputs": [
    {
     "data": {
      "text/plain": [
       "{'n_estimators': 189, 'max_depth': 25}"
      ]
     },
     "execution_count": 12,
     "metadata": {},
     "output_type": "execute_result"
    }
   ],
   "source": [
    "rf_best_params = study.best_params\n",
    "rf_best_params"
   ]
  },
  {
   "cell_type": "markdown",
   "metadata": {},
   "source": [
    "## Polinomial Regression"
   ]
  },
  {
   "cell_type": "code",
   "execution_count": null,
   "metadata": {},
   "outputs": [],
   "source": []
  },
  {
   "cell_type": "code",
   "execution_count": 5,
   "metadata": {},
   "outputs": [],
   "source": [
    "# poly = PolynomialFeatures(degree=5)\n",
    "# poly_features = poly.fit_transform(X_train)\n",
    "# X_poly_val = poly.transform(X_val)\n",
    "\n",
    "# model = LinearRegression()\n",
    "# model.fit(poly_features, y_train)\n",
    "# y_pred = model.predict(X_poly_val)\n"
   ]
  },
  {
   "cell_type": "code",
   "execution_count": null,
   "metadata": {},
   "outputs": [],
   "source": []
  },
  {
   "cell_type": "code",
   "execution_count": 6,
   "metadata": {},
   "outputs": [],
   "source": [
    "def pol_reg_fine_tuning(trial):\n",
    "    degree = trial.suggest_int('degree', 2,4)\n",
    "\n",
    "    poly = PolynomialFeatures(degree=degree)\n",
    "    poly_features = poly.fit_transform(X_train)\n",
    "    X_poly_val = poly.transform(X_val)\n",
    "\n",
    "    model = LinearRegression()\n",
    "    model.fit(poly_features, y_train)\n",
    "    y_pred = model.predict(X_poly_val)\n",
    "\n",
    "    return calculate_metrics(y_val, y_pred, 'Polinomial Regression')['RMSE']\n"
   ]
  },
  {
   "cell_type": "code",
   "execution_count": 7,
   "metadata": {},
   "outputs": [
    {
     "name": "stderr",
     "output_type": "stream",
     "text": [
      "[I 2023-09-15 12:00:45,699] A new study created in memory with name: no-name-584912b3-687b-46e4-afc1-dfdf2ba8f7ea\n",
      "[I 2023-09-15 12:00:59,743] Trial 0 finished with value: 222.76611247058707 and parameters: {'degree': 4}. Best is trial 0 with value: 222.76611247058707.\n",
      "[I 2023-09-15 12:01:00,508] Trial 1 finished with value: 22.367973841803234 and parameters: {'degree': 3}. Best is trial 1 with value: 22.367973841803234.\n",
      "[I 2023-09-15 12:01:16,058] Trial 2 finished with value: 222.76611247058707 and parameters: {'degree': 4}. Best is trial 1 with value: 22.367973841803234.\n",
      "[I 2023-09-15 12:01:17,088] Trial 3 finished with value: 22.367973841803234 and parameters: {'degree': 3}. Best is trial 1 with value: 22.367973841803234.\n",
      "[I 2023-09-15 12:01:17,218] Trial 4 finished with value: 21.113223900467585 and parameters: {'degree': 2}. Best is trial 4 with value: 21.113223900467585.\n"
     ]
    }
   ],
   "source": [
    "study = optuna.create_study(direction='minimize')\n",
    "study.optimize(pol_reg_fine_tuning, n_trials=5)"
   ]
  },
  {
   "cell_type": "code",
   "execution_count": 8,
   "metadata": {},
   "outputs": [
    {
     "ename": "ValueError",
     "evalue": "Mime type rendering requires nbformat>=4.2.0 but it is not installed",
     "output_type": "error",
     "traceback": [
      "\u001b[1;31m---------------------------------------------------------------------------\u001b[0m",
      "\u001b[1;31mValueError\u001b[0m                                Traceback (most recent call last)",
      "File \u001b[1;32mc:\\Users\\thale\\Documents\\Estudos\\Disciplinas\\Introdução a ML\\Projeto Aluno\\ensaios-algoritmos-ml\\env\\Lib\\site-packages\\IPython\\core\\formatters.py:922\u001b[0m, in \u001b[0;36mIPythonDisplayFormatter.__call__\u001b[1;34m(self, obj)\u001b[0m\n\u001b[0;32m    920\u001b[0m method \u001b[39m=\u001b[39m get_real_method(obj, \u001b[39mself\u001b[39m\u001b[39m.\u001b[39mprint_method)\n\u001b[0;32m    921\u001b[0m \u001b[39mif\u001b[39;00m method \u001b[39mis\u001b[39;00m \u001b[39mnot\u001b[39;00m \u001b[39mNone\u001b[39;00m:\n\u001b[1;32m--> 922\u001b[0m     method()\n\u001b[0;32m    923\u001b[0m     \u001b[39mreturn\u001b[39;00m \u001b[39mTrue\u001b[39;00m\n",
      "File \u001b[1;32mc:\\Users\\thale\\Documents\\Estudos\\Disciplinas\\Introdução a ML\\Projeto Aluno\\ensaios-algoritmos-ml\\env\\Lib\\site-packages\\plotly\\basedatatypes.py:834\u001b[0m, in \u001b[0;36mBaseFigure._ipython_display_\u001b[1;34m(self)\u001b[0m\n\u001b[0;32m    831\u001b[0m \u001b[39mimport\u001b[39;00m \u001b[39mplotly\u001b[39;00m\u001b[39m.\u001b[39;00m\u001b[39mio\u001b[39;00m \u001b[39mas\u001b[39;00m \u001b[39mpio\u001b[39;00m\n\u001b[0;32m    833\u001b[0m \u001b[39mif\u001b[39;00m pio\u001b[39m.\u001b[39mrenderers\u001b[39m.\u001b[39mrender_on_display \u001b[39mand\u001b[39;00m pio\u001b[39m.\u001b[39mrenderers\u001b[39m.\u001b[39mdefault:\n\u001b[1;32m--> 834\u001b[0m     pio\u001b[39m.\u001b[39;49mshow(\u001b[39mself\u001b[39;49m)\n\u001b[0;32m    835\u001b[0m \u001b[39melse\u001b[39;00m:\n\u001b[0;32m    836\u001b[0m     \u001b[39mprint\u001b[39m(\u001b[39mrepr\u001b[39m(\u001b[39mself\u001b[39m))\n",
      "File \u001b[1;32mc:\\Users\\thale\\Documents\\Estudos\\Disciplinas\\Introdução a ML\\Projeto Aluno\\ensaios-algoritmos-ml\\env\\Lib\\site-packages\\plotly\\io\\_renderers.py:396\u001b[0m, in \u001b[0;36mshow\u001b[1;34m(fig, renderer, validate, **kwargs)\u001b[0m\n\u001b[0;32m    391\u001b[0m         \u001b[39mraise\u001b[39;00m \u001b[39mValueError\u001b[39;00m(\n\u001b[0;32m    392\u001b[0m             \u001b[39m\"\u001b[39m\u001b[39mMime type rendering requires ipython but it is not installed\u001b[39m\u001b[39m\"\u001b[39m\n\u001b[0;32m    393\u001b[0m         )\n\u001b[0;32m    395\u001b[0m     \u001b[39mif\u001b[39;00m \u001b[39mnot\u001b[39;00m nbformat \u001b[39mor\u001b[39;00m Version(nbformat\u001b[39m.\u001b[39m__version__) \u001b[39m<\u001b[39m Version(\u001b[39m\"\u001b[39m\u001b[39m4.2.0\u001b[39m\u001b[39m\"\u001b[39m):\n\u001b[1;32m--> 396\u001b[0m         \u001b[39mraise\u001b[39;00m \u001b[39mValueError\u001b[39;00m(\n\u001b[0;32m    397\u001b[0m             \u001b[39m\"\u001b[39m\u001b[39mMime type rendering requires nbformat>=4.2.0 but it is not installed\u001b[39m\u001b[39m\"\u001b[39m\n\u001b[0;32m    398\u001b[0m         )\n\u001b[0;32m    400\u001b[0m     ipython_display\u001b[39m.\u001b[39mdisplay(bundle, raw\u001b[39m=\u001b[39m\u001b[39mTrue\u001b[39;00m)\n\u001b[0;32m    402\u001b[0m \u001b[39m# external renderers\u001b[39;00m\n",
      "\u001b[1;31mValueError\u001b[0m: Mime type rendering requires nbformat>=4.2.0 but it is not installed"
     ]
    },
    {
     "data": {
      "application/vnd.plotly.v1+json": {
       "config": {
        "plotlyServerURL": "https://plot.ly"
       },
       "data": [
        {
         "mode": "markers",
         "name": "Objective Value",
         "type": "scatter",
         "x": [
          0,
          1,
          2,
          3,
          4
         ],
         "y": [
          222.76611247058707,
          22.367973841803234,
          222.76611247058707,
          22.367973841803234,
          21.113223900467585
         ]
        },
        {
         "mode": "lines",
         "name": "Best Value",
         "type": "scatter",
         "x": [
          0,
          1,
          2,
          3,
          4
         ],
         "y": [
          222.76611247058707,
          22.367973841803234,
          22.367973841803234,
          22.367973841803234,
          21.113223900467585
         ]
        },
        {
         "marker": {
          "color": "#cccccc"
         },
         "mode": "markers",
         "name": "Infeasible Trial",
         "showlegend": false,
         "type": "scatter",
         "x": [],
         "y": []
        }
       ],
       "layout": {
        "template": {
         "data": {
          "bar": [
           {
            "error_x": {
             "color": "#2a3f5f"
            },
            "error_y": {
             "color": "#2a3f5f"
            },
            "marker": {
             "line": {
              "color": "#E5ECF6",
              "width": 0.5
             },
             "pattern": {
              "fillmode": "overlay",
              "size": 10,
              "solidity": 0.2
             }
            },
            "type": "bar"
           }
          ],
          "barpolar": [
           {
            "marker": {
             "line": {
              "color": "#E5ECF6",
              "width": 0.5
             },
             "pattern": {
              "fillmode": "overlay",
              "size": 10,
              "solidity": 0.2
             }
            },
            "type": "barpolar"
           }
          ],
          "carpet": [
           {
            "aaxis": {
             "endlinecolor": "#2a3f5f",
             "gridcolor": "white",
             "linecolor": "white",
             "minorgridcolor": "white",
             "startlinecolor": "#2a3f5f"
            },
            "baxis": {
             "endlinecolor": "#2a3f5f",
             "gridcolor": "white",
             "linecolor": "white",
             "minorgridcolor": "white",
             "startlinecolor": "#2a3f5f"
            },
            "type": "carpet"
           }
          ],
          "choropleth": [
           {
            "colorbar": {
             "outlinewidth": 0,
             "ticks": ""
            },
            "type": "choropleth"
           }
          ],
          "contour": [
           {
            "colorbar": {
             "outlinewidth": 0,
             "ticks": ""
            },
            "colorscale": [
             [
              0,
              "#0d0887"
             ],
             [
              0.1111111111111111,
              "#46039f"
             ],
             [
              0.2222222222222222,
              "#7201a8"
             ],
             [
              0.3333333333333333,
              "#9c179e"
             ],
             [
              0.4444444444444444,
              "#bd3786"
             ],
             [
              0.5555555555555556,
              "#d8576b"
             ],
             [
              0.6666666666666666,
              "#ed7953"
             ],
             [
              0.7777777777777778,
              "#fb9f3a"
             ],
             [
              0.8888888888888888,
              "#fdca26"
             ],
             [
              1,
              "#f0f921"
             ]
            ],
            "type": "contour"
           }
          ],
          "contourcarpet": [
           {
            "colorbar": {
             "outlinewidth": 0,
             "ticks": ""
            },
            "type": "contourcarpet"
           }
          ],
          "heatmap": [
           {
            "colorbar": {
             "outlinewidth": 0,
             "ticks": ""
            },
            "colorscale": [
             [
              0,
              "#0d0887"
             ],
             [
              0.1111111111111111,
              "#46039f"
             ],
             [
              0.2222222222222222,
              "#7201a8"
             ],
             [
              0.3333333333333333,
              "#9c179e"
             ],
             [
              0.4444444444444444,
              "#bd3786"
             ],
             [
              0.5555555555555556,
              "#d8576b"
             ],
             [
              0.6666666666666666,
              "#ed7953"
             ],
             [
              0.7777777777777778,
              "#fb9f3a"
             ],
             [
              0.8888888888888888,
              "#fdca26"
             ],
             [
              1,
              "#f0f921"
             ]
            ],
            "type": "heatmap"
           }
          ],
          "heatmapgl": [
           {
            "colorbar": {
             "outlinewidth": 0,
             "ticks": ""
            },
            "colorscale": [
             [
              0,
              "#0d0887"
             ],
             [
              0.1111111111111111,
              "#46039f"
             ],
             [
              0.2222222222222222,
              "#7201a8"
             ],
             [
              0.3333333333333333,
              "#9c179e"
             ],
             [
              0.4444444444444444,
              "#bd3786"
             ],
             [
              0.5555555555555556,
              "#d8576b"
             ],
             [
              0.6666666666666666,
              "#ed7953"
             ],
             [
              0.7777777777777778,
              "#fb9f3a"
             ],
             [
              0.8888888888888888,
              "#fdca26"
             ],
             [
              1,
              "#f0f921"
             ]
            ],
            "type": "heatmapgl"
           }
          ],
          "histogram": [
           {
            "marker": {
             "pattern": {
              "fillmode": "overlay",
              "size": 10,
              "solidity": 0.2
             }
            },
            "type": "histogram"
           }
          ],
          "histogram2d": [
           {
            "colorbar": {
             "outlinewidth": 0,
             "ticks": ""
            },
            "colorscale": [
             [
              0,
              "#0d0887"
             ],
             [
              0.1111111111111111,
              "#46039f"
             ],
             [
              0.2222222222222222,
              "#7201a8"
             ],
             [
              0.3333333333333333,
              "#9c179e"
             ],
             [
              0.4444444444444444,
              "#bd3786"
             ],
             [
              0.5555555555555556,
              "#d8576b"
             ],
             [
              0.6666666666666666,
              "#ed7953"
             ],
             [
              0.7777777777777778,
              "#fb9f3a"
             ],
             [
              0.8888888888888888,
              "#fdca26"
             ],
             [
              1,
              "#f0f921"
             ]
            ],
            "type": "histogram2d"
           }
          ],
          "histogram2dcontour": [
           {
            "colorbar": {
             "outlinewidth": 0,
             "ticks": ""
            },
            "colorscale": [
             [
              0,
              "#0d0887"
             ],
             [
              0.1111111111111111,
              "#46039f"
             ],
             [
              0.2222222222222222,
              "#7201a8"
             ],
             [
              0.3333333333333333,
              "#9c179e"
             ],
             [
              0.4444444444444444,
              "#bd3786"
             ],
             [
              0.5555555555555556,
              "#d8576b"
             ],
             [
              0.6666666666666666,
              "#ed7953"
             ],
             [
              0.7777777777777778,
              "#fb9f3a"
             ],
             [
              0.8888888888888888,
              "#fdca26"
             ],
             [
              1,
              "#f0f921"
             ]
            ],
            "type": "histogram2dcontour"
           }
          ],
          "mesh3d": [
           {
            "colorbar": {
             "outlinewidth": 0,
             "ticks": ""
            },
            "type": "mesh3d"
           }
          ],
          "parcoords": [
           {
            "line": {
             "colorbar": {
              "outlinewidth": 0,
              "ticks": ""
             }
            },
            "type": "parcoords"
           }
          ],
          "pie": [
           {
            "automargin": true,
            "type": "pie"
           }
          ],
          "scatter": [
           {
            "fillpattern": {
             "fillmode": "overlay",
             "size": 10,
             "solidity": 0.2
            },
            "type": "scatter"
           }
          ],
          "scatter3d": [
           {
            "line": {
             "colorbar": {
              "outlinewidth": 0,
              "ticks": ""
             }
            },
            "marker": {
             "colorbar": {
              "outlinewidth": 0,
              "ticks": ""
             }
            },
            "type": "scatter3d"
           }
          ],
          "scattercarpet": [
           {
            "marker": {
             "colorbar": {
              "outlinewidth": 0,
              "ticks": ""
             }
            },
            "type": "scattercarpet"
           }
          ],
          "scattergeo": [
           {
            "marker": {
             "colorbar": {
              "outlinewidth": 0,
              "ticks": ""
             }
            },
            "type": "scattergeo"
           }
          ],
          "scattergl": [
           {
            "marker": {
             "colorbar": {
              "outlinewidth": 0,
              "ticks": ""
             }
            },
            "type": "scattergl"
           }
          ],
          "scattermapbox": [
           {
            "marker": {
             "colorbar": {
              "outlinewidth": 0,
              "ticks": ""
             }
            },
            "type": "scattermapbox"
           }
          ],
          "scatterpolar": [
           {
            "marker": {
             "colorbar": {
              "outlinewidth": 0,
              "ticks": ""
             }
            },
            "type": "scatterpolar"
           }
          ],
          "scatterpolargl": [
           {
            "marker": {
             "colorbar": {
              "outlinewidth": 0,
              "ticks": ""
             }
            },
            "type": "scatterpolargl"
           }
          ],
          "scatterternary": [
           {
            "marker": {
             "colorbar": {
              "outlinewidth": 0,
              "ticks": ""
             }
            },
            "type": "scatterternary"
           }
          ],
          "surface": [
           {
            "colorbar": {
             "outlinewidth": 0,
             "ticks": ""
            },
            "colorscale": [
             [
              0,
              "#0d0887"
             ],
             [
              0.1111111111111111,
              "#46039f"
             ],
             [
              0.2222222222222222,
              "#7201a8"
             ],
             [
              0.3333333333333333,
              "#9c179e"
             ],
             [
              0.4444444444444444,
              "#bd3786"
             ],
             [
              0.5555555555555556,
              "#d8576b"
             ],
             [
              0.6666666666666666,
              "#ed7953"
             ],
             [
              0.7777777777777778,
              "#fb9f3a"
             ],
             [
              0.8888888888888888,
              "#fdca26"
             ],
             [
              1,
              "#f0f921"
             ]
            ],
            "type": "surface"
           }
          ],
          "table": [
           {
            "cells": {
             "fill": {
              "color": "#EBF0F8"
             },
             "line": {
              "color": "white"
             }
            },
            "header": {
             "fill": {
              "color": "#C8D4E3"
             },
             "line": {
              "color": "white"
             }
            },
            "type": "table"
           }
          ]
         },
         "layout": {
          "annotationdefaults": {
           "arrowcolor": "#2a3f5f",
           "arrowhead": 0,
           "arrowwidth": 1
          },
          "autotypenumbers": "strict",
          "coloraxis": {
           "colorbar": {
            "outlinewidth": 0,
            "ticks": ""
           }
          },
          "colorscale": {
           "diverging": [
            [
             0,
             "#8e0152"
            ],
            [
             0.1,
             "#c51b7d"
            ],
            [
             0.2,
             "#de77ae"
            ],
            [
             0.3,
             "#f1b6da"
            ],
            [
             0.4,
             "#fde0ef"
            ],
            [
             0.5,
             "#f7f7f7"
            ],
            [
             0.6,
             "#e6f5d0"
            ],
            [
             0.7,
             "#b8e186"
            ],
            [
             0.8,
             "#7fbc41"
            ],
            [
             0.9,
             "#4d9221"
            ],
            [
             1,
             "#276419"
            ]
           ],
           "sequential": [
            [
             0,
             "#0d0887"
            ],
            [
             0.1111111111111111,
             "#46039f"
            ],
            [
             0.2222222222222222,
             "#7201a8"
            ],
            [
             0.3333333333333333,
             "#9c179e"
            ],
            [
             0.4444444444444444,
             "#bd3786"
            ],
            [
             0.5555555555555556,
             "#d8576b"
            ],
            [
             0.6666666666666666,
             "#ed7953"
            ],
            [
             0.7777777777777778,
             "#fb9f3a"
            ],
            [
             0.8888888888888888,
             "#fdca26"
            ],
            [
             1,
             "#f0f921"
            ]
           ],
           "sequentialminus": [
            [
             0,
             "#0d0887"
            ],
            [
             0.1111111111111111,
             "#46039f"
            ],
            [
             0.2222222222222222,
             "#7201a8"
            ],
            [
             0.3333333333333333,
             "#9c179e"
            ],
            [
             0.4444444444444444,
             "#bd3786"
            ],
            [
             0.5555555555555556,
             "#d8576b"
            ],
            [
             0.6666666666666666,
             "#ed7953"
            ],
            [
             0.7777777777777778,
             "#fb9f3a"
            ],
            [
             0.8888888888888888,
             "#fdca26"
            ],
            [
             1,
             "#f0f921"
            ]
           ]
          },
          "colorway": [
           "#636efa",
           "#EF553B",
           "#00cc96",
           "#ab63fa",
           "#FFA15A",
           "#19d3f3",
           "#FF6692",
           "#B6E880",
           "#FF97FF",
           "#FECB52"
          ],
          "font": {
           "color": "#2a3f5f"
          },
          "geo": {
           "bgcolor": "white",
           "lakecolor": "white",
           "landcolor": "#E5ECF6",
           "showlakes": true,
           "showland": true,
           "subunitcolor": "white"
          },
          "hoverlabel": {
           "align": "left"
          },
          "hovermode": "closest",
          "mapbox": {
           "style": "light"
          },
          "paper_bgcolor": "white",
          "plot_bgcolor": "#E5ECF6",
          "polar": {
           "angularaxis": {
            "gridcolor": "white",
            "linecolor": "white",
            "ticks": ""
           },
           "bgcolor": "#E5ECF6",
           "radialaxis": {
            "gridcolor": "white",
            "linecolor": "white",
            "ticks": ""
           }
          },
          "scene": {
           "xaxis": {
            "backgroundcolor": "#E5ECF6",
            "gridcolor": "white",
            "gridwidth": 2,
            "linecolor": "white",
            "showbackground": true,
            "ticks": "",
            "zerolinecolor": "white"
           },
           "yaxis": {
            "backgroundcolor": "#E5ECF6",
            "gridcolor": "white",
            "gridwidth": 2,
            "linecolor": "white",
            "showbackground": true,
            "ticks": "",
            "zerolinecolor": "white"
           },
           "zaxis": {
            "backgroundcolor": "#E5ECF6",
            "gridcolor": "white",
            "gridwidth": 2,
            "linecolor": "white",
            "showbackground": true,
            "ticks": "",
            "zerolinecolor": "white"
           }
          },
          "shapedefaults": {
           "line": {
            "color": "#2a3f5f"
           }
          },
          "ternary": {
           "aaxis": {
            "gridcolor": "white",
            "linecolor": "white",
            "ticks": ""
           },
           "baxis": {
            "gridcolor": "white",
            "linecolor": "white",
            "ticks": ""
           },
           "bgcolor": "#E5ECF6",
           "caxis": {
            "gridcolor": "white",
            "linecolor": "white",
            "ticks": ""
           }
          },
          "title": {
           "x": 0.05
          },
          "xaxis": {
           "automargin": true,
           "gridcolor": "white",
           "linecolor": "white",
           "ticks": "",
           "title": {
            "standoff": 15
           },
           "zerolinecolor": "white",
           "zerolinewidth": 2
          },
          "yaxis": {
           "automargin": true,
           "gridcolor": "white",
           "linecolor": "white",
           "ticks": "",
           "title": {
            "standoff": 15
           },
           "zerolinecolor": "white",
           "zerolinewidth": 2
          }
         }
        },
        "title": {
         "text": "Optimization History Plot"
        },
        "xaxis": {
         "title": {
          "text": "Trial"
         }
        },
        "yaxis": {
         "title": {
          "text": "Objective Value"
         }
        }
       }
      },
      "text/html": [
       "<div>                        <script type=\"text/javascript\">window.PlotlyConfig = {MathJaxConfig: 'local'};</script>\n",
       "        <script charset=\"utf-8\" src=\"https://cdn.plot.ly/plotly-2.25.2.min.js\"></script>                <div id=\"fc47884e-157e-444c-b2f5-68d37e55bcfa\" class=\"plotly-graph-div\" style=\"height:100%; width:100%;\"></div>            <script type=\"text/javascript\">                                    window.PLOTLYENV=window.PLOTLYENV || {};                                    if (document.getElementById(\"fc47884e-157e-444c-b2f5-68d37e55bcfa\")) {                    Plotly.newPlot(                        \"fc47884e-157e-444c-b2f5-68d37e55bcfa\",                        [{\"mode\":\"markers\",\"name\":\"Objective Value\",\"x\":[0,1,2,3,4],\"y\":[222.76611247058707,22.367973841803234,222.76611247058707,22.367973841803234,21.113223900467585],\"type\":\"scatter\"},{\"mode\":\"lines\",\"name\":\"Best Value\",\"x\":[0,1,2,3,4],\"y\":[222.76611247058707,22.367973841803234,22.367973841803234,22.367973841803234,21.113223900467585],\"type\":\"scatter\"},{\"marker\":{\"color\":\"#cccccc\"},\"mode\":\"markers\",\"name\":\"Infeasible Trial\",\"showlegend\":false,\"x\":[],\"y\":[],\"type\":\"scatter\"}],                        {\"title\":{\"text\":\"Optimization History Plot\"},\"xaxis\":{\"title\":{\"text\":\"Trial\"}},\"yaxis\":{\"title\":{\"text\":\"Objective Value\"}},\"template\":{\"data\":{\"histogram2dcontour\":[{\"type\":\"histogram2dcontour\",\"colorbar\":{\"outlinewidth\":0,\"ticks\":\"\"},\"colorscale\":[[0.0,\"#0d0887\"],[0.1111111111111111,\"#46039f\"],[0.2222222222222222,\"#7201a8\"],[0.3333333333333333,\"#9c179e\"],[0.4444444444444444,\"#bd3786\"],[0.5555555555555556,\"#d8576b\"],[0.6666666666666666,\"#ed7953\"],[0.7777777777777778,\"#fb9f3a\"],[0.8888888888888888,\"#fdca26\"],[1.0,\"#f0f921\"]]}],\"choropleth\":[{\"type\":\"choropleth\",\"colorbar\":{\"outlinewidth\":0,\"ticks\":\"\"}}],\"histogram2d\":[{\"type\":\"histogram2d\",\"colorbar\":{\"outlinewidth\":0,\"ticks\":\"\"},\"colorscale\":[[0.0,\"#0d0887\"],[0.1111111111111111,\"#46039f\"],[0.2222222222222222,\"#7201a8\"],[0.3333333333333333,\"#9c179e\"],[0.4444444444444444,\"#bd3786\"],[0.5555555555555556,\"#d8576b\"],[0.6666666666666666,\"#ed7953\"],[0.7777777777777778,\"#fb9f3a\"],[0.8888888888888888,\"#fdca26\"],[1.0,\"#f0f921\"]]}],\"heatmap\":[{\"type\":\"heatmap\",\"colorbar\":{\"outlinewidth\":0,\"ticks\":\"\"},\"colorscale\":[[0.0,\"#0d0887\"],[0.1111111111111111,\"#46039f\"],[0.2222222222222222,\"#7201a8\"],[0.3333333333333333,\"#9c179e\"],[0.4444444444444444,\"#bd3786\"],[0.5555555555555556,\"#d8576b\"],[0.6666666666666666,\"#ed7953\"],[0.7777777777777778,\"#fb9f3a\"],[0.8888888888888888,\"#fdca26\"],[1.0,\"#f0f921\"]]}],\"heatmapgl\":[{\"type\":\"heatmapgl\",\"colorbar\":{\"outlinewidth\":0,\"ticks\":\"\"},\"colorscale\":[[0.0,\"#0d0887\"],[0.1111111111111111,\"#46039f\"],[0.2222222222222222,\"#7201a8\"],[0.3333333333333333,\"#9c179e\"],[0.4444444444444444,\"#bd3786\"],[0.5555555555555556,\"#d8576b\"],[0.6666666666666666,\"#ed7953\"],[0.7777777777777778,\"#fb9f3a\"],[0.8888888888888888,\"#fdca26\"],[1.0,\"#f0f921\"]]}],\"contourcarpet\":[{\"type\":\"contourcarpet\",\"colorbar\":{\"outlinewidth\":0,\"ticks\":\"\"}}],\"contour\":[{\"type\":\"contour\",\"colorbar\":{\"outlinewidth\":0,\"ticks\":\"\"},\"colorscale\":[[0.0,\"#0d0887\"],[0.1111111111111111,\"#46039f\"],[0.2222222222222222,\"#7201a8\"],[0.3333333333333333,\"#9c179e\"],[0.4444444444444444,\"#bd3786\"],[0.5555555555555556,\"#d8576b\"],[0.6666666666666666,\"#ed7953\"],[0.7777777777777778,\"#fb9f3a\"],[0.8888888888888888,\"#fdca26\"],[1.0,\"#f0f921\"]]}],\"surface\":[{\"type\":\"surface\",\"colorbar\":{\"outlinewidth\":0,\"ticks\":\"\"},\"colorscale\":[[0.0,\"#0d0887\"],[0.1111111111111111,\"#46039f\"],[0.2222222222222222,\"#7201a8\"],[0.3333333333333333,\"#9c179e\"],[0.4444444444444444,\"#bd3786\"],[0.5555555555555556,\"#d8576b\"],[0.6666666666666666,\"#ed7953\"],[0.7777777777777778,\"#fb9f3a\"],[0.8888888888888888,\"#fdca26\"],[1.0,\"#f0f921\"]]}],\"mesh3d\":[{\"type\":\"mesh3d\",\"colorbar\":{\"outlinewidth\":0,\"ticks\":\"\"}}],\"scatter\":[{\"fillpattern\":{\"fillmode\":\"overlay\",\"size\":10,\"solidity\":0.2},\"type\":\"scatter\"}],\"parcoords\":[{\"type\":\"parcoords\",\"line\":{\"colorbar\":{\"outlinewidth\":0,\"ticks\":\"\"}}}],\"scatterpolargl\":[{\"type\":\"scatterpolargl\",\"marker\":{\"colorbar\":{\"outlinewidth\":0,\"ticks\":\"\"}}}],\"bar\":[{\"error_x\":{\"color\":\"#2a3f5f\"},\"error_y\":{\"color\":\"#2a3f5f\"},\"marker\":{\"line\":{\"color\":\"#E5ECF6\",\"width\":0.5},\"pattern\":{\"fillmode\":\"overlay\",\"size\":10,\"solidity\":0.2}},\"type\":\"bar\"}],\"scattergeo\":[{\"type\":\"scattergeo\",\"marker\":{\"colorbar\":{\"outlinewidth\":0,\"ticks\":\"\"}}}],\"scatterpolar\":[{\"type\":\"scatterpolar\",\"marker\":{\"colorbar\":{\"outlinewidth\":0,\"ticks\":\"\"}}}],\"histogram\":[{\"marker\":{\"pattern\":{\"fillmode\":\"overlay\",\"size\":10,\"solidity\":0.2}},\"type\":\"histogram\"}],\"scattergl\":[{\"type\":\"scattergl\",\"marker\":{\"colorbar\":{\"outlinewidth\":0,\"ticks\":\"\"}}}],\"scatter3d\":[{\"type\":\"scatter3d\",\"line\":{\"colorbar\":{\"outlinewidth\":0,\"ticks\":\"\"}},\"marker\":{\"colorbar\":{\"outlinewidth\":0,\"ticks\":\"\"}}}],\"scattermapbox\":[{\"type\":\"scattermapbox\",\"marker\":{\"colorbar\":{\"outlinewidth\":0,\"ticks\":\"\"}}}],\"scatterternary\":[{\"type\":\"scatterternary\",\"marker\":{\"colorbar\":{\"outlinewidth\":0,\"ticks\":\"\"}}}],\"scattercarpet\":[{\"type\":\"scattercarpet\",\"marker\":{\"colorbar\":{\"outlinewidth\":0,\"ticks\":\"\"}}}],\"carpet\":[{\"aaxis\":{\"endlinecolor\":\"#2a3f5f\",\"gridcolor\":\"white\",\"linecolor\":\"white\",\"minorgridcolor\":\"white\",\"startlinecolor\":\"#2a3f5f\"},\"baxis\":{\"endlinecolor\":\"#2a3f5f\",\"gridcolor\":\"white\",\"linecolor\":\"white\",\"minorgridcolor\":\"white\",\"startlinecolor\":\"#2a3f5f\"},\"type\":\"carpet\"}],\"table\":[{\"cells\":{\"fill\":{\"color\":\"#EBF0F8\"},\"line\":{\"color\":\"white\"}},\"header\":{\"fill\":{\"color\":\"#C8D4E3\"},\"line\":{\"color\":\"white\"}},\"type\":\"table\"}],\"barpolar\":[{\"marker\":{\"line\":{\"color\":\"#E5ECF6\",\"width\":0.5},\"pattern\":{\"fillmode\":\"overlay\",\"size\":10,\"solidity\":0.2}},\"type\":\"barpolar\"}],\"pie\":[{\"automargin\":true,\"type\":\"pie\"}]},\"layout\":{\"autotypenumbers\":\"strict\",\"colorway\":[\"#636efa\",\"#EF553B\",\"#00cc96\",\"#ab63fa\",\"#FFA15A\",\"#19d3f3\",\"#FF6692\",\"#B6E880\",\"#FF97FF\",\"#FECB52\"],\"font\":{\"color\":\"#2a3f5f\"},\"hovermode\":\"closest\",\"hoverlabel\":{\"align\":\"left\"},\"paper_bgcolor\":\"white\",\"plot_bgcolor\":\"#E5ECF6\",\"polar\":{\"bgcolor\":\"#E5ECF6\",\"angularaxis\":{\"gridcolor\":\"white\",\"linecolor\":\"white\",\"ticks\":\"\"},\"radialaxis\":{\"gridcolor\":\"white\",\"linecolor\":\"white\",\"ticks\":\"\"}},\"ternary\":{\"bgcolor\":\"#E5ECF6\",\"aaxis\":{\"gridcolor\":\"white\",\"linecolor\":\"white\",\"ticks\":\"\"},\"baxis\":{\"gridcolor\":\"white\",\"linecolor\":\"white\",\"ticks\":\"\"},\"caxis\":{\"gridcolor\":\"white\",\"linecolor\":\"white\",\"ticks\":\"\"}},\"coloraxis\":{\"colorbar\":{\"outlinewidth\":0,\"ticks\":\"\"}},\"colorscale\":{\"sequential\":[[0.0,\"#0d0887\"],[0.1111111111111111,\"#46039f\"],[0.2222222222222222,\"#7201a8\"],[0.3333333333333333,\"#9c179e\"],[0.4444444444444444,\"#bd3786\"],[0.5555555555555556,\"#d8576b\"],[0.6666666666666666,\"#ed7953\"],[0.7777777777777778,\"#fb9f3a\"],[0.8888888888888888,\"#fdca26\"],[1.0,\"#f0f921\"]],\"sequentialminus\":[[0.0,\"#0d0887\"],[0.1111111111111111,\"#46039f\"],[0.2222222222222222,\"#7201a8\"],[0.3333333333333333,\"#9c179e\"],[0.4444444444444444,\"#bd3786\"],[0.5555555555555556,\"#d8576b\"],[0.6666666666666666,\"#ed7953\"],[0.7777777777777778,\"#fb9f3a\"],[0.8888888888888888,\"#fdca26\"],[1.0,\"#f0f921\"]],\"diverging\":[[0,\"#8e0152\"],[0.1,\"#c51b7d\"],[0.2,\"#de77ae\"],[0.3,\"#f1b6da\"],[0.4,\"#fde0ef\"],[0.5,\"#f7f7f7\"],[0.6,\"#e6f5d0\"],[0.7,\"#b8e186\"],[0.8,\"#7fbc41\"],[0.9,\"#4d9221\"],[1,\"#276419\"]]},\"xaxis\":{\"gridcolor\":\"white\",\"linecolor\":\"white\",\"ticks\":\"\",\"title\":{\"standoff\":15},\"zerolinecolor\":\"white\",\"automargin\":true,\"zerolinewidth\":2},\"yaxis\":{\"gridcolor\":\"white\",\"linecolor\":\"white\",\"ticks\":\"\",\"title\":{\"standoff\":15},\"zerolinecolor\":\"white\",\"automargin\":true,\"zerolinewidth\":2},\"scene\":{\"xaxis\":{\"backgroundcolor\":\"#E5ECF6\",\"gridcolor\":\"white\",\"linecolor\":\"white\",\"showbackground\":true,\"ticks\":\"\",\"zerolinecolor\":\"white\",\"gridwidth\":2},\"yaxis\":{\"backgroundcolor\":\"#E5ECF6\",\"gridcolor\":\"white\",\"linecolor\":\"white\",\"showbackground\":true,\"ticks\":\"\",\"zerolinecolor\":\"white\",\"gridwidth\":2},\"zaxis\":{\"backgroundcolor\":\"#E5ECF6\",\"gridcolor\":\"white\",\"linecolor\":\"white\",\"showbackground\":true,\"ticks\":\"\",\"zerolinecolor\":\"white\",\"gridwidth\":2}},\"shapedefaults\":{\"line\":{\"color\":\"#2a3f5f\"}},\"annotationdefaults\":{\"arrowcolor\":\"#2a3f5f\",\"arrowhead\":0,\"arrowwidth\":1},\"geo\":{\"bgcolor\":\"white\",\"landcolor\":\"#E5ECF6\",\"subunitcolor\":\"white\",\"showland\":true,\"showlakes\":true,\"lakecolor\":\"white\"},\"title\":{\"x\":0.05},\"mapbox\":{\"style\":\"light\"}}}},                        {\"responsive\": true}                    )                };                            </script>        </div>"
      ],
      "text/plain": [
       "Figure({\n",
       "    'data': [{'mode': 'markers',\n",
       "              'name': 'Objective Value',\n",
       "              'type': 'scatter',\n",
       "              'x': [0, 1, 2, 3, 4],\n",
       "              'y': [222.76611247058707, 22.367973841803234, 222.76611247058707,\n",
       "                    22.367973841803234, 21.113223900467585]},\n",
       "             {'mode': 'lines',\n",
       "              'name': 'Best Value',\n",
       "              'type': 'scatter',\n",
       "              'x': [0, 1, 2, 3, 4],\n",
       "              'y': [222.76611247058707, 22.367973841803234, 22.367973841803234,\n",
       "                    22.367973841803234, 21.113223900467585]},\n",
       "             {'marker': {'color': '#cccccc'},\n",
       "              'mode': 'markers',\n",
       "              'name': 'Infeasible Trial',\n",
       "              'showlegend': False,\n",
       "              'type': 'scatter',\n",
       "              'x': [],\n",
       "              'y': []}],\n",
       "    'layout': {'template': '...',\n",
       "               'title': {'text': 'Optimization History Plot'},\n",
       "               'xaxis': {'title': {'text': 'Trial'}},\n",
       "               'yaxis': {'title': {'text': 'Objective Value'}}}\n",
       "})"
      ]
     },
     "execution_count": 8,
     "metadata": {},
     "output_type": "execute_result"
    }
   ],
   "source": [
    "optuna.visualization.plot_optimization_history(study)"
   ]
  },
  {
   "cell_type": "code",
   "execution_count": 9,
   "metadata": {},
   "outputs": [
    {
     "data": {
      "text/plain": [
       "{'degree': 2}"
      ]
     },
     "execution_count": 9,
     "metadata": {},
     "output_type": "execute_result"
    }
   ],
   "source": [
    "pol_best_params = study.best_params\n",
    "pol_best_params"
   ]
  },
  {
   "cell_type": "code",
   "execution_count": null,
   "metadata": {},
   "outputs": [],
   "source": []
  },
  {
   "cell_type": "code",
   "execution_count": null,
   "metadata": {},
   "outputs": [],
   "source": []
  },
  {
   "cell_type": "code",
   "execution_count": null,
   "metadata": {},
   "outputs": [],
   "source": []
  },
  {
   "cell_type": "code",
   "execution_count": null,
   "metadata": {},
   "outputs": [
    {
     "name": "stderr",
     "output_type": "stream",
     "text": [
      "[I 2023-08-24 06:21:34,065] A new study created in memory with name: no-name-4c779134-470e-451c-9609-0cb0533dea81\n",
      "[I 2023-08-24 06:21:34,958] Trial 0 finished with value: 22.367973841803234 and parameters: {'degree': 3}. Best is trial 0 with value: 22.367973841803234.\n"
     ]
    }
   ],
   "source": []
  },
  {
   "cell_type": "markdown",
   "metadata": {},
   "source": [
    "## Lasso"
   ]
  },
  {
   "cell_type": "code",
   "execution_count": 10,
   "metadata": {},
   "outputs": [],
   "source": []
  },
  {
   "cell_type": "code",
   "execution_count": 18,
   "metadata": {},
   "outputs": [],
   "source": [
    "def lasso_fine_tuning(trial):\n",
    "    #degree = trial.suggest_int('degree', 2,4)\n",
    "    alpha = trial.suggest_float('alpha', 0.1,5.0)\n",
    "    #l1_ratio = trial.suggest_int('l1_ratio', 1,10)\n",
    "    max_iter = trial.suggest_int('max_iter', 500,3000)\n",
    "\n",
    "    model_lasso = Lasso(alpha = alpha, max_iter = max_iter)\n",
    "    model_lasso.fit(X_train, y_train)\n",
    "\n",
    "    y_pred = model_lasso.predict(X_val)\n",
    "\n",
    "    return calculate_metrics(y_val, y_pred, 'Lasso')['RMSE']\n"
   ]
  },
  {
   "cell_type": "code",
   "execution_count": 24,
   "metadata": {},
   "outputs": [
    {
     "name": "stderr",
     "output_type": "stream",
     "text": [
      "[I 2023-09-15 16:27:52,809] A new study created in memory with name: no-name-1fe036a2-c348-4aa2-a796-75847ef35c1d\n",
      "[I 2023-09-15 16:27:52,838] Trial 0 finished with value: 21.85204694359998 and parameters: {'alpha': 2.1827841976698124, 'max_iter': 1835}. Best is trial 0 with value: 21.85204694359998.\n",
      "[I 2023-09-15 16:27:52,866] Trial 1 finished with value: 21.74480004476041 and parameters: {'alpha': 0.6187283815064416, 'max_iter': 2113}. Best is trial 1 with value: 21.74480004476041.\n",
      "[I 2023-09-15 16:27:52,887] Trial 2 finished with value: 21.740634917239536 and parameters: {'alpha': 0.5433346752133993, 'max_iter': 2611}. Best is trial 2 with value: 21.740634917239536.\n",
      "[I 2023-09-15 16:27:52,917] Trial 3 finished with value: 21.700524944194182 and parameters: {'alpha': 0.38884373991018306, 'max_iter': 1893}. Best is trial 3 with value: 21.700524944194182.\n",
      "[I 2023-09-15 16:27:52,936] Trial 4 finished with value: 21.85204694359998 and parameters: {'alpha': 4.984512431584904, 'max_iter': 2072}. Best is trial 3 with value: 21.700524944194182.\n",
      "[I 2023-09-15 16:27:52,975] Trial 5 finished with value: 21.752096578817593 and parameters: {'alpha': 0.7311756604943886, 'max_iter': 1735}. Best is trial 3 with value: 21.700524944194182.\n",
      "[I 2023-09-15 16:27:52,993] Trial 6 finished with value: 21.85204694359998 and parameters: {'alpha': 2.308118543209539, 'max_iter': 1881}. Best is trial 3 with value: 21.700524944194182.\n",
      "[I 2023-09-15 16:27:53,015] Trial 7 finished with value: 21.85204694359998 and parameters: {'alpha': 2.4866892261412468, 'max_iter': 1685}. Best is trial 3 with value: 21.700524944194182.\n",
      "[I 2023-09-15 16:27:53,038] Trial 8 finished with value: 21.775506065278396 and parameters: {'alpha': 1.1769210417661014, 'max_iter': 904}. Best is trial 3 with value: 21.700524944194182.\n",
      "[I 2023-09-15 16:27:53,053] Trial 9 finished with value: 21.85204694359998 and parameters: {'alpha': 3.1627947153884715, 'max_iter': 2809}. Best is trial 3 with value: 21.700524944194182.\n",
      "[I 2023-09-15 16:27:53,127] Trial 10 finished with value: 21.449505450083723 and parameters: {'alpha': 0.11122189603947219, 'max_iter': 1069}. Best is trial 10 with value: 21.449505450083723.\n",
      "[I 2023-09-15 16:27:53,179] Trial 11 finished with value: 21.48839694719949 and parameters: {'alpha': 0.1596476004749726, 'max_iter': 938}. Best is trial 10 with value: 21.449505450083723.\n",
      "[I 2023-09-15 16:27:53,235] Trial 12 finished with value: 21.451762634024877 and parameters: {'alpha': 0.1142132615446366, 'max_iter': 672}. Best is trial 10 with value: 21.449505450083723.\n",
      "[I 2023-09-15 16:27:53,260] Trial 13 finished with value: 21.78538986770775 and parameters: {'alpha': 1.3346064430966287, 'max_iter': 556}. Best is trial 10 with value: 21.449505450083723.\n",
      "[I 2023-09-15 16:27:53,278] Trial 14 finished with value: 21.78199389059794 and parameters: {'alpha': 1.2823780451868199, 'max_iter': 1193}. Best is trial 10 with value: 21.449505450083723.\n",
      "[I 2023-09-15 16:27:53,349] Trial 15 finished with value: 21.44384062721193 and parameters: {'alpha': 0.10315626514339371, 'max_iter': 1299}. Best is trial 15 with value: 21.44384062721193.\n",
      "[I 2023-09-15 16:27:53,374] Trial 16 finished with value: 21.812733926098378 and parameters: {'alpha': 1.7024683967084155, 'max_iter': 1360}. Best is trial 15 with value: 21.44384062721193.\n",
      "[I 2023-09-15 16:27:53,395] Trial 17 finished with value: 21.761544350348895 and parameters: {'alpha': 0.9152804725439253, 'max_iter': 1319}. Best is trial 15 with value: 21.44384062721193.\n",
      "[I 2023-09-15 16:27:53,453] Trial 18 finished with value: 21.500555769735083 and parameters: {'alpha': 0.17271670383254673, 'max_iter': 1038}. Best is trial 15 with value: 21.44384062721193.\n",
      "[I 2023-09-15 16:27:53,479] Trial 19 finished with value: 21.811033467319415 and parameters: {'alpha': 1.6817350557402742, 'max_iter': 1464}. Best is trial 15 with value: 21.44384062721193.\n",
      "[I 2023-09-15 16:27:53,505] Trial 20 finished with value: 21.75615369512002 and parameters: {'alpha': 0.7951322693825614, 'max_iter': 766}. Best is trial 15 with value: 21.44384062721193.\n",
      "[I 2023-09-15 16:27:53,568] Trial 21 finished with value: 21.466225472078992 and parameters: {'alpha': 0.13231185580907406, 'max_iter': 523}. Best is trial 15 with value: 21.44384062721193.\n",
      "[I 2023-09-15 16:27:53,641] Trial 22 finished with value: 21.484956276730557 and parameters: {'alpha': 0.1557381565120551, 'max_iter': 1135}. Best is trial 15 with value: 21.44384062721193.\n",
      "[I 2023-09-15 16:27:53,672] Trial 23 finished with value: 21.747931075204846 and parameters: {'alpha': 0.6694574246071421, 'max_iter': 751}. Best is trial 15 with value: 21.44384062721193.\n",
      "[I 2023-09-15 16:27:53,707] Trial 24 finished with value: 21.766154610431617 and parameters: {'alpha': 1.0082106572193787, 'max_iter': 1505}. Best is trial 15 with value: 21.44384062721193.\n",
      "[I 2023-09-15 16:27:53,770] Trial 25 finished with value: 21.72128882216169 and parameters: {'alpha': 0.439771804877926, 'max_iter': 762}. Best is trial 15 with value: 21.44384062721193.\n",
      "[I 2023-09-15 16:27:53,850] Trial 26 finished with value: 21.47096916924099 and parameters: {'alpha': 0.13864506417821715, 'max_iter': 1183}. Best is trial 15 with value: 21.44384062721193.\n",
      "[I 2023-09-15 16:27:53,889] Trial 27 finished with value: 21.764426111854142 and parameters: {'alpha': 0.9742669321598441, 'max_iter': 933}. Best is trial 15 with value: 21.44384062721193.\n",
      "[I 2023-09-15 16:27:53,928] Trial 28 finished with value: 21.73920180733663 and parameters: {'alpha': 0.5146135096729112, 'max_iter': 1585}. Best is trial 15 with value: 21.44384062721193.\n",
      "[I 2023-09-15 16:27:53,961] Trial 29 finished with value: 21.802727742463148 and parameters: {'alpha': 1.5769165372422764, 'max_iter': 667}. Best is trial 15 with value: 21.44384062721193.\n",
      "[I 2023-09-15 16:27:53,995] Trial 30 finished with value: 21.838789045357018 and parameters: {'alpha': 1.9954151174866928, 'max_iter': 1277}. Best is trial 15 with value: 21.44384062721193.\n",
      "[I 2023-09-15 16:27:54,054] Trial 31 finished with value: 21.46989262538273 and parameters: {'alpha': 0.1372351683893303, 'max_iter': 537}. Best is trial 15 with value: 21.44384062721193.\n",
      "[I 2023-09-15 16:27:54,066] Trial 32 finished with value: 21.731094628761642 and parameters: {'alpha': 0.46446811506644714, 'max_iter': 507}. Best is trial 15 with value: 21.44384062721193.\n",
      "[I 2023-09-15 16:27:54,102] Trial 33 finished with value: 21.74967382595531 and parameters: {'alpha': 0.6959890463043482, 'max_iter': 872}. Best is trial 15 with value: 21.44384062721193.\n",
      "[I 2023-09-15 16:27:54,135] Trial 34 finished with value: 21.706591255823174 and parameters: {'alpha': 0.3995280626693955, 'max_iter': 1064}. Best is trial 15 with value: 21.44384062721193.\n",
      "[I 2023-09-15 16:27:54,171] Trial 35 finished with value: 21.724535902586375 and parameters: {'alpha': 0.4481180777883198, 'max_iter': 652}. Best is trial 15 with value: 21.44384062721193.\n",
      "[I 2023-09-15 16:27:54,192] Trial 36 finished with value: 21.755452490278735 and parameters: {'alpha': 0.7783640239064887, 'max_iter': 2230}. Best is trial 15 with value: 21.44384062721193.\n",
      "[I 2023-09-15 16:27:54,221] Trial 37 finished with value: 21.766792483957936 and parameters: {'alpha': 1.020489085768174, 'max_iter': 1021}. Best is trial 15 with value: 21.44384062721193.\n",
      "[I 2023-09-15 16:27:54,256] Trial 38 finished with value: 21.704310902842245 and parameters: {'alpha': 0.3945978545449863, 'max_iter': 827}. Best is trial 15 with value: 21.44384062721193.\n",
      "[I 2023-09-15 16:27:54,283] Trial 39 finished with value: 21.75217617945111 and parameters: {'alpha': 0.7323013443555487, 'max_iter': 2428}. Best is trial 15 with value: 21.44384062721193.\n",
      "[I 2023-09-15 16:27:54,321] Trial 40 finished with value: 21.673264552561907 and parameters: {'alpha': 0.3450266016995532, 'max_iter': 636}. Best is trial 15 with value: 21.44384062721193.\n",
      "[I 2023-09-15 16:27:54,353] Trial 41 finished with value: 21.51941145020598 and parameters: {'alpha': 0.1915513926340795, 'max_iter': 566}. Best is trial 15 with value: 21.44384062721193.\n",
      "[I 2023-09-15 16:27:54,404] Trial 42 finished with value: 21.457156568360706 and parameters: {'alpha': 0.12095151190939497, 'max_iter': 696}. Best is trial 15 with value: 21.44384062721193.\n",
      "[I 2023-09-15 16:27:54,428] Trial 43 finished with value: 21.743637221301576 and parameters: {'alpha': 0.5987103190968712, 'max_iter': 726}. Best is trial 15 with value: 21.44384062721193.\n",
      "[I 2023-09-15 16:27:54,457] Trial 44 finished with value: 21.667362413787657 and parameters: {'alpha': 0.3353212997910622, 'max_iter': 930}. Best is trial 15 with value: 21.44384062721193.\n",
      "[I 2023-09-15 16:27:54,487] Trial 45 finished with value: 21.746292685796966 and parameters: {'alpha': 0.6434468919802565, 'max_iter': 843}. Best is trial 15 with value: 21.44384062721193.\n",
      "[I 2023-09-15 16:27:54,514] Trial 46 finished with value: 21.777652126247606 and parameters: {'alpha': 1.2127043781810742, 'max_iter': 2946}. Best is trial 15 with value: 21.44384062721193.\n",
      "[I 2023-09-15 16:27:54,576] Trial 47 finished with value: 21.446230116628335 and parameters: {'alpha': 0.10666595133961793, 'max_iter': 1801}. Best is trial 15 with value: 21.44384062721193.\n",
      "[I 2023-09-15 16:27:54,594] Trial 48 finished with value: 21.759359307510003 and parameters: {'alpha': 0.868285893006731, 'max_iter': 1909}. Best is trial 15 with value: 21.44384062721193.\n",
      "[I 2023-09-15 16:27:54,622] Trial 49 finished with value: 21.741788898302286 and parameters: {'alpha': 0.565314490238395, 'max_iter': 1783}. Best is trial 15 with value: 21.44384062721193.\n",
      "[I 2023-09-15 16:27:54,661] Trial 50 finished with value: 21.666719161125414 and parameters: {'alpha': 0.33424295810666643, 'max_iter': 1642}. Best is trial 15 with value: 21.44384062721193.\n",
      "[I 2023-09-15 16:27:54,715] Trial 51 finished with value: 21.448292697242888 and parameters: {'alpha': 0.10956652768579715, 'max_iter': 1384}. Best is trial 15 with value: 21.44384062721193.\n",
      "[I 2023-09-15 16:27:54,769] Trial 52 finished with value: 21.447517955263205 and parameters: {'alpha': 0.10849006604049659, 'max_iter': 1996}. Best is trial 15 with value: 21.44384062721193.\n",
      "[I 2023-09-15 16:27:54,802] Trial 53 finished with value: 21.620064229890044 and parameters: {'alpha': 0.2887684589829897, 'max_iter': 2073}. Best is trial 15 with value: 21.44384062721193.\n",
      "[I 2023-09-15 16:27:54,873] Trial 54 finished with value: 21.444581097119006 and parameters: {'alpha': 0.10426232780681245, 'max_iter': 1950}. Best is trial 15 with value: 21.44384062721193.\n",
      "[I 2023-09-15 16:27:54,902] Trial 55 finished with value: 21.742258969857712 and parameters: {'alpha': 0.5740070800728764, 'max_iter': 1924}. Best is trial 15 with value: 21.44384062721193.\n",
      "[I 2023-09-15 16:27:54,947] Trial 56 finished with value: 21.650357608280654 and parameters: {'alpha': 0.31175577914698765, 'max_iter': 2213}. Best is trial 15 with value: 21.44384062721193.\n",
      "[I 2023-09-15 16:27:54,975] Trial 57 finished with value: 21.757315147473662 and parameters: {'alpha': 0.8222718686215563, 'max_iter': 1395}. Best is trial 15 with value: 21.44384062721193.\n",
      "[I 2023-09-15 16:27:55,008] Trial 58 finished with value: 21.770917889114685 and parameters: {'alpha': 1.0969914466212287, 'max_iter': 1964}. Best is trial 15 with value: 21.44384062721193.\n",
      "[I 2023-09-15 16:27:55,041] Trial 59 finished with value: 21.741213636221634 and parameters: {'alpha': 0.5544756452755621, 'max_iter': 1794}. Best is trial 15 with value: 21.44384062721193.\n",
      "[I 2023-09-15 16:27:55,102] Trial 60 finished with value: 21.450421649152137 and parameters: {'alpha': 0.11244965477286087, 'max_iter': 1680}. Best is trial 15 with value: 21.44384062721193.\n",
      "[I 2023-09-15 16:27:55,133] Trial 61 finished with value: 21.577313362004073 and parameters: {'alpha': 0.25250951168684727, 'max_iter': 1689}. Best is trial 15 with value: 21.44384062721193.\n",
      "[I 2023-09-15 16:27:55,191] Trial 62 finished with value: 21.458371197198126 and parameters: {'alpha': 0.12239901486860871, 'max_iter': 1519}. Best is trial 15 with value: 21.44384062721193.\n",
      "[I 2023-09-15 16:27:55,229] Trial 63 finished with value: 21.60920898448725 and parameters: {'alpha': 0.2800399324968882, 'max_iter': 2015}. Best is trial 15 with value: 21.44384062721193.\n",
      "[I 2023-09-15 16:27:55,258] Trial 64 finished with value: 21.738164778926546 and parameters: {'alpha': 0.4926871739011828, 'max_iter': 2152}. Best is trial 15 with value: 21.44384062721193.\n",
      "[I 2023-09-15 16:27:55,322] Trial 65 finished with value: 21.456570226585814 and parameters: {'alpha': 0.12024418399133174, 'max_iter': 1255}. Best is trial 15 with value: 21.44384062721193.\n",
      "[I 2023-09-15 16:27:55,344] Trial 66 finished with value: 21.760275194722492 and parameters: {'alpha': 0.8882426032253403, 'max_iter': 1407}. Best is trial 15 with value: 21.44384062721193.\n",
      "[I 2023-09-15 16:27:55,387] Trial 67 finished with value: 21.645821955190318 and parameters: {'alpha': 0.3084298772004809, 'max_iter': 1600}. Best is trial 15 with value: 21.44384062721193.\n",
      "[I 2023-09-15 16:27:55,421] Trial 68 finished with value: 21.73031338913722 and parameters: {'alpha': 0.4625543151803387, 'max_iter': 1730}. Best is trial 15 with value: 21.44384062721193.\n",
      "[I 2023-09-15 16:27:55,454] Trial 69 finished with value: 21.75009888785194 and parameters: {'alpha': 0.7022983343265042, 'max_iter': 2322}. Best is trial 15 with value: 21.44384062721193.\n",
      "[I 2023-09-15 16:27:55,491] Trial 70 finished with value: 21.580562744799842 and parameters: {'alpha': 0.255461418702541, 'max_iter': 1837}. Best is trial 15 with value: 21.44384062721193.\n",
      "[I 2023-09-15 16:27:55,553] Trial 71 finished with value: 21.4437554327578 and parameters: {'alpha': 0.10302788843680874, 'max_iter': 1115}. Best is trial 71 with value: 21.4437554327578.\n",
      "[I 2023-09-15 16:27:55,583] Trial 72 finished with value: 21.71561125698378 and parameters: {'alpha': 0.42473516266543454, 'max_iter': 1118}. Best is trial 71 with value: 21.4437554327578.\n",
      "[I 2023-09-15 16:27:55,621] Trial 73 finished with value: 21.743257422940758 and parameters: {'alpha': 0.59201394640317, 'max_iter': 1311}. Best is trial 71 with value: 21.4437554327578.\n",
      "[I 2023-09-15 16:27:55,650] Trial 74 finished with value: 21.570243733987166 and parameters: {'alpha': 0.24595373534536727, 'max_iter': 1172}. Best is trial 71 with value: 21.4437554327578.\n",
      "[I 2023-09-15 16:27:55,716] Trial 75 finished with value: 21.454540359528952 and parameters: {'alpha': 0.11775000546652355, 'max_iter': 1446}. Best is trial 71 with value: 21.4437554327578.\n",
      "[I 2023-09-15 16:27:55,747] Trial 76 finished with value: 21.71552960240326 and parameters: {'alpha': 0.42451453361418423, 'max_iter': 1010}. Best is trial 71 with value: 21.4437554327578.\n",
      "[I 2023-09-15 16:27:55,788] Trial 77 finished with value: 21.57781913898866 and parameters: {'alpha': 0.25297144569566793, 'max_iter': 1541}. Best is trial 71 with value: 21.4437554327578.\n",
      "[I 2023-09-15 16:27:55,859] Trial 78 finished with value: 21.448632596843094 and parameters: {'alpha': 0.11003406065159975, 'max_iter': 1999}. Best is trial 71 with value: 21.4437554327578.\n",
      "[I 2023-09-15 16:27:55,886] Trial 79 finished with value: 21.745894176022194 and parameters: {'alpha': 0.6369481297228806, 'max_iter': 1237}. Best is trial 71 with value: 21.4437554327578.\n",
      "[I 2023-09-15 16:27:55,922] Trial 80 finished with value: 21.753879304475557 and parameters: {'alpha': 0.7559610587103497, 'max_iter': 1997}. Best is trial 71 with value: 21.4437554327578.\n",
      "[I 2023-09-15 16:27:55,964] Trial 81 finished with value: 21.55287697773872 and parameters: {'alpha': 0.22897546864639254, 'max_iter': 1846}. Best is trial 71 with value: 21.4437554327578.\n",
      "[I 2023-09-15 16:27:56,023] Trial 82 finished with value: 21.44573882471646 and parameters: {'alpha': 0.10595811056748865, 'max_iter': 2045}. Best is trial 71 with value: 21.4437554327578.\n",
      "[I 2023-09-15 16:27:56,057] Trial 83 finished with value: 21.712862760292317 and parameters: {'alpha': 0.417236426232804, 'max_iter': 2093}. Best is trial 71 with value: 21.4437554327578.\n",
      "[I 2023-09-15 16:27:56,125] Trial 84 finished with value: 21.44230880580593 and parameters: {'alpha': 0.10081096303176014, 'max_iter': 2141}. Best is trial 84 with value: 21.44230880580593.\n",
      "[I 2023-09-15 16:27:56,179] Trial 85 finished with value: 21.442179038200845 and parameters: {'alpha': 0.10060854820336372, 'max_iter': 2178}. Best is trial 85 with value: 21.442179038200845.\n",
      "[I 2023-09-15 16:27:56,211] Trial 86 finished with value: 21.68919989448785 and parameters: {'alpha': 0.37096277536881117, 'max_iter': 2467}. Best is trial 85 with value: 21.442179038200845.\n",
      "[I 2023-09-15 16:27:56,245] Trial 87 finished with value: 21.73911792729782 and parameters: {'alpha': 0.5128780341373003, 'max_iter': 2292}. Best is trial 85 with value: 21.442179038200845.\n",
      "[I 2023-09-15 16:27:56,289] Trial 88 finished with value: 21.561886738851303 and parameters: {'alpha': 0.23794940726966168, 'max_iter': 2414}. Best is trial 85 with value: 21.442179038200845.\n",
      "[I 2023-09-15 16:27:56,324] Trial 89 finished with value: 21.695907431465578 and parameters: {'alpha': 0.3816794272413536, 'max_iter': 2156}. Best is trial 85 with value: 21.442179038200845.\n",
      "[I 2023-09-15 16:27:56,371] Trial 90 finished with value: 21.548238086999255 and parameters: {'alpha': 0.22420053926252131, 'max_iter': 2547}. Best is trial 85 with value: 21.442179038200845.\n",
      "[I 2023-09-15 16:27:56,425] Trial 91 finished with value: 21.45476611039889 and parameters: {'alpha': 0.11803100105250598, 'max_iter': 2044}. Best is trial 85 with value: 21.442179038200845.\n",
      "[I 2023-09-15 16:27:56,455] Trial 92 finished with value: 21.668065685120418 and parameters: {'alpha': 0.3364954792329886, 'max_iter': 1953}. Best is trial 85 with value: 21.442179038200845.\n",
      "[I 2023-09-15 16:27:56,518] Trial 93 finished with value: 21.44733587085045 and parameters: {'alpha': 0.10823483802281286, 'max_iter': 1878}. Best is trial 85 with value: 21.442179038200845.\n",
      "[I 2023-09-15 16:27:56,562] Trial 94 finished with value: 21.739309450894513 and parameters: {'alpha': 0.5168313313203723, 'max_iter': 2151}. Best is trial 85 with value: 21.442179038200845.\n",
      "[I 2023-09-15 16:27:56,606] Trial 95 finished with value: 21.543963590425456 and parameters: {'alpha': 0.2196990662663503, 'max_iter': 1888}. Best is trial 85 with value: 21.442179038200845.\n",
      "[I 2023-09-15 16:27:56,640] Trial 96 finished with value: 21.748295385962688 and parameters: {'alpha': 0.6750957140366888, 'max_iter': 2289}. Best is trial 85 with value: 21.442179038200845.\n",
      "[I 2023-09-15 16:27:56,672] Trial 97 finished with value: 21.67130129250097 and parameters: {'alpha': 0.3418350880793059, 'max_iter': 2212}. Best is trial 85 with value: 21.442179038200845.\n",
      "[I 2023-09-15 16:27:56,720] Trial 98 finished with value: 21.54067747088386 and parameters: {'alpha': 0.216167787259462, 'max_iter': 2115}. Best is trial 85 with value: 21.442179038200845.\n",
      "[I 2023-09-15 16:27:56,754] Trial 99 finished with value: 21.738227414519017 and parameters: {'alpha': 0.494041806450497, 'max_iter': 1830}. Best is trial 85 with value: 21.442179038200845.\n",
      "[I 2023-09-15 16:27:56,791] Trial 100 finished with value: 21.743697047235067 and parameters: {'alpha': 0.5997577897168627, 'max_iter': 1756}. Best is trial 85 with value: 21.442179038200845.\n",
      "[I 2023-09-15 16:27:56,861] Trial 101 finished with value: 21.45129004143495 and parameters: {'alpha': 0.11359612205799971, 'max_iter': 1994}. Best is trial 85 with value: 21.442179038200845.\n",
      "[I 2023-09-15 16:27:56,919] Trial 102 finished with value: 21.446671017017277 and parameters: {'alpha': 0.10729547910976157, 'max_iter': 1933}. Best is trial 85 with value: 21.442179038200845.\n",
      "[I 2023-09-15 16:27:56,963] Trial 103 finished with value: 21.667919870800894 and parameters: {'alpha': 0.33625243519117265, 'max_iter': 1923}. Best is trial 85 with value: 21.442179038200845.\n",
      "[I 2023-09-15 16:27:57,005] Trial 104 finished with value: 21.552769753445087 and parameters: {'alpha': 0.22886633884919483, 'max_iter': 2042}. Best is trial 85 with value: 21.442179038200845.\n",
      "[I 2023-09-15 16:27:57,040] Trial 105 finished with value: 21.737488436139333 and parameters: {'alpha': 0.4798134746813985, 'max_iter': 1872}. Best is trial 85 with value: 21.442179038200845.\n",
      "[I 2023-09-15 16:27:57,086] Trial 106 finished with value: 21.545781719072654 and parameters: {'alpha': 0.22162609394363508, 'max_iter': 2116}. Best is trial 85 with value: 21.442179038200845.\n",
      "[I 2023-09-15 16:27:57,119] Trial 107 finished with value: 21.68161574602422 and parameters: {'alpha': 0.3583559890850058, 'max_iter': 1803}. Best is trial 85 with value: 21.442179038200845.\n",
      "[I 2023-09-15 16:27:57,181] Trial 108 finished with value: 21.490999372230196 and parameters: {'alpha': 0.162536542473632, 'max_iter': 1946}. Best is trial 85 with value: 21.442179038200845.\n",
      "[I 2023-09-15 16:27:57,243] Trial 109 finished with value: 21.44191447737294 and parameters: {'alpha': 0.10019399281797695, 'max_iter': 1718}. Best is trial 109 with value: 21.44191447737294.\n",
      "[I 2023-09-15 16:27:57,284] Trial 110 finished with value: 21.711340115142754 and parameters: {'alpha': 0.41301596439254723, 'max_iter': 1715}. Best is trial 109 with value: 21.44191447737294.\n",
      "[I 2023-09-15 16:27:57,325] Trial 111 finished with value: 21.51959628046731 and parameters: {'alpha': 0.1917806930356607, 'max_iter': 1608}. Best is trial 109 with value: 21.44191447737294.\n",
      "[I 2023-09-15 16:27:57,390] Trial 112 finished with value: 21.44201370728181 and parameters: {'alpha': 0.10034978052319957, 'max_iter': 1321}. Best is trial 109 with value: 21.44191447737294.\n",
      "[I 2023-09-15 16:27:57,424] Trial 113 finished with value: 21.640355003396326 and parameters: {'alpha': 0.30436978017424465, 'max_iter': 2198}. Best is trial 109 with value: 21.44191447737294.\n",
      "[I 2023-09-15 16:27:57,470] Trial 114 finished with value: 21.633110498998985 and parameters: {'alpha': 0.2988991685008411, 'max_iter': 2057}. Best is trial 109 with value: 21.44191447737294.\n",
      "[I 2023-09-15 16:27:57,530] Trial 115 finished with value: 21.44497256415162 and parameters: {'alpha': 0.10484020251232297, 'max_iter': 987}. Best is trial 109 with value: 21.44191447737294.\n",
      "[I 2023-09-15 16:27:57,589] Trial 116 finished with value: 21.441948139897793 and parameters: {'alpha': 0.100246882284813, 'max_iter': 1135}. Best is trial 109 with value: 21.44191447737294.\n",
      "[I 2023-09-15 16:27:57,623] Trial 117 finished with value: 21.720898430051538 and parameters: {'alpha': 0.4387563674337185, 'max_iter': 1109}. Best is trial 109 with value: 21.44191447737294.\n",
      "[I 2023-09-15 16:27:57,664] Trial 118 finished with value: 21.7416662525852 and parameters: {'alpha': 0.5630226084637427, 'max_iter': 976}. Best is trial 109 with value: 21.44191447737294.\n",
      "[I 2023-09-15 16:27:57,711] Trial 119 finished with value: 21.75444729107696 and parameters: {'alpha': 0.7636789908964114, 'max_iter': 1340}. Best is trial 109 with value: 21.44191447737294.\n",
      "[I 2023-09-15 16:27:57,763] Trial 120 finished with value: 21.53606853501644 and parameters: {'alpha': 0.21110431057835646, 'max_iter': 1213}. Best is trial 109 with value: 21.44191447737294.\n",
      "[I 2023-09-15 16:27:57,847] Trial 121 finished with value: 21.448254422756364 and parameters: {'alpha': 0.10951370238259915, 'max_iter': 1153}. Best is trial 109 with value: 21.44191447737294.\n",
      "[I 2023-09-15 16:27:57,892] Trial 122 finished with value: 21.613357513440494 and parameters: {'alpha': 0.28340971396006776, 'max_iter': 1065}. Best is trial 109 with value: 21.44191447737294.\n",
      "[I 2023-09-15 16:27:57,952] Trial 123 finished with value: 21.506457157654847 and parameters: {'alpha': 0.1787021132612342, 'max_iter': 808}. Best is trial 109 with value: 21.44191447737294.\n",
      "[I 2023-09-15 16:27:57,991] Trial 124 finished with value: 21.691650470808288 and parameters: {'alpha': 0.37492259461437416, 'max_iter': 957}. Best is trial 109 with value: 21.44191447737294.\n",
      "[I 2023-09-15 16:27:58,061] Trial 125 finished with value: 21.44328831884518 and parameters: {'alpha': 0.1023197882255946, 'max_iter': 1105}. Best is trial 109 with value: 21.44191447737294.\n",
      "[I 2023-09-15 16:27:58,102] Trial 126 finished with value: 21.64146450820301 and parameters: {'alpha': 0.30519840771060486, 'max_iter': 1254}. Best is trial 109 with value: 21.44191447737294.\n",
      "[I 2023-09-15 16:27:58,150] Trial 127 finished with value: 21.531170961084854 and parameters: {'alpha': 0.20557117166350403, 'max_iter': 879}. Best is trial 109 with value: 21.44191447737294.\n",
      "[I 2023-09-15 16:27:58,204] Trial 128 finished with value: 21.71320833216371 and parameters: {'alpha': 0.41818758922862403, 'max_iter': 1021}. Best is trial 109 with value: 21.44191447737294.\n",
      "[I 2023-09-15 16:27:58,294] Trial 129 finished with value: 21.44325412661662 and parameters: {'alpha': 0.10226767205605022, 'max_iter': 1102}. Best is trial 109 with value: 21.44191447737294.\n",
      "[I 2023-09-15 16:27:58,336] Trial 130 finished with value: 21.740651414563555 and parameters: {'alpha': 0.5436557015353427, 'max_iter': 1301}. Best is trial 109 with value: 21.44191447737294.\n",
      "[I 2023-09-15 16:27:58,377] Trial 131 finished with value: 21.522080052631875 and parameters: {'alpha': 0.19483257414364366, 'max_iter': 1190}. Best is trial 109 with value: 21.44191447737294.\n",
      "[I 2023-09-15 16:27:58,447] Trial 132 finished with value: 21.44910454494355 and parameters: {'alpha': 0.1106785694314514, 'max_iter': 1072}. Best is trial 109 with value: 21.44191447737294.\n",
      "[I 2023-09-15 16:27:58,488] Trial 133 finished with value: 21.600261513227053 and parameters: {'alpha': 0.27261954327463933, 'max_iter': 1144}. Best is trial 109 with value: 21.44191447737294.\n",
      "[I 2023-09-15 16:27:58,567] Trial 134 finished with value: 21.442763160815158 and parameters: {'alpha': 0.10151497070793435, 'max_iter': 1103}. Best is trial 109 with value: 21.44191447737294.\n",
      "[I 2023-09-15 16:27:58,621] Trial 135 finished with value: 21.67053113179406 and parameters: {'alpha': 0.34057326409087235, 'max_iter': 1051}. Best is trial 109 with value: 21.44191447737294.\n",
      "[I 2023-09-15 16:27:58,674] Trial 136 finished with value: 21.734278581350264 and parameters: {'alpha': 0.4721788460397783, 'max_iter': 1008}. Best is trial 109 with value: 21.44191447737294.\n",
      "[I 2023-09-15 16:27:58,725] Trial 137 finished with value: 21.559569085134 and parameters: {'alpha': 0.2356767838685263, 'max_iter': 1095}. Best is trial 109 with value: 21.44191447737294.\n",
      "[I 2023-09-15 16:27:58,760] Trial 138 finished with value: 21.85204694359998 and parameters: {'alpha': 2.56817152056453, 'max_iter': 1206}. Best is trial 109 with value: 21.44191447737294.\n",
      "[I 2023-09-15 16:27:58,841] Trial 139 finished with value: 21.441806161725893 and parameters: {'alpha': 0.10002352788737827, 'max_iter': 1461}. Best is trial 139 with value: 21.441806161725893.\n",
      "[I 2023-09-15 16:27:58,877] Trial 140 finished with value: 21.692533060975496 and parameters: {'alpha': 0.3763359640574994, 'max_iter': 1456}. Best is trial 139 with value: 21.441806161725893.\n",
      "[I 2023-09-15 16:27:58,927] Trial 141 finished with value: 21.548082143734646 and parameters: {'alpha': 0.22403807097617784, 'max_iter': 1384}. Best is trial 139 with value: 21.441806161725893.\n",
      "[I 2023-09-15 16:27:59,002] Trial 142 finished with value: 21.443752270338525 and parameters: {'alpha': 0.10302311856714012, 'max_iter': 1293}. Best is trial 139 with value: 21.441806161725893.\n",
      "[I 2023-09-15 16:27:59,067] Trial 143 finished with value: 21.44599316482069 and parameters: {'alpha': 0.10632540902797878, 'max_iter': 1289}. Best is trial 139 with value: 21.441806161725893.\n",
      "[I 2023-09-15 16:27:59,124] Trial 144 finished with value: 21.617986979162104 and parameters: {'alpha': 0.28712015497842647, 'max_iter': 1353}. Best is trial 139 with value: 21.441806161725893.\n",
      "[I 2023-09-15 16:27:59,194] Trial 145 finished with value: 21.510479577428818 and parameters: {'alpha': 0.18266290770278854, 'max_iter': 926}. Best is trial 139 with value: 21.441806161725893.\n",
      "[I 2023-09-15 16:27:59,297] Trial 146 finished with value: 21.65012744959273 and parameters: {'alpha': 0.31158791480886455, 'max_iter': 1242}. Best is trial 139 with value: 21.441806161725893.\n",
      "[I 2023-09-15 16:27:59,340] Trial 147 finished with value: 21.530979640780632 and parameters: {'alpha': 0.20535164285253968, 'max_iter': 1164}. Best is trial 139 with value: 21.441806161725893.\n",
      "[I 2023-09-15 16:27:59,410] Trial 148 finished with value: 21.4469268134492 and parameters: {'alpha': 0.10765828537188943, 'max_iter': 1126}. Best is trial 139 with value: 21.441806161725893.\n",
      "[I 2023-09-15 16:27:59,452] Trial 149 finished with value: 21.716964122119588 and parameters: {'alpha': 0.428371982588434, 'max_iter': 1497}. Best is trial 139 with value: 21.441806161725893.\n",
      "[I 2023-09-15 16:27:59,488] Trial 150 finished with value: 21.74453916755107 and parameters: {'alpha': 0.614298403468283, 'max_iter': 1423}. Best is trial 139 with value: 21.441806161725893.\n",
      "[I 2023-09-15 16:27:59,561] Trial 151 finished with value: 21.443573675272717 and parameters: {'alpha': 0.10275321498952134, 'max_iter': 1287}. Best is trial 139 with value: 21.441806161725893.\n",
      "[I 2023-09-15 16:27:59,603] Trial 152 finished with value: 21.521729860581747 and parameters: {'alpha': 0.19440555183206643, 'max_iter': 1331}. Best is trial 139 with value: 21.441806161725893.\n",
      "[I 2023-09-15 16:27:59,642] Trial 153 finished with value: 21.61908273664333 and parameters: {'alpha': 0.2879908992534878, 'max_iter': 1208}. Best is trial 139 with value: 21.441806161725893.\n",
      "[I 2023-09-15 16:27:59,697] Trial 154 finished with value: 21.51719921110255 and parameters: {'alpha': 0.1890865845341551, 'max_iter': 993}. Best is trial 139 with value: 21.441806161725893.\n",
      "[I 2023-09-15 16:27:59,757] Trial 155 finished with value: 21.450303507580635 and parameters: {'alpha': 0.11229240384348509, 'max_iter': 1283}. Best is trial 139 with value: 21.441806161725893.\n",
      "[I 2023-09-15 16:27:59,821] Trial 156 finished with value: 21.442897417079113 and parameters: {'alpha': 0.10172161744220326, 'max_iter': 1111}. Best is trial 139 with value: 21.441806161725893.\n",
      "[I 2023-09-15 16:27:59,860] Trial 157 finished with value: 21.685616264593154 and parameters: {'alpha': 0.36507443707419385, 'max_iter': 1109}. Best is trial 139 with value: 21.441806161725893.\n",
      "[I 2023-09-15 16:27:59,904] Trial 158 finished with value: 21.78673405309715 and parameters: {'alpha': 1.3547808767198264, 'max_iter': 1169}. Best is trial 139 with value: 21.441806161725893.\n",
      "[I 2023-09-15 16:27:59,976] Trial 159 finished with value: 21.617131528814653 and parameters: {'alpha': 0.2864384015283741, 'max_iter': 1053}. Best is trial 139 with value: 21.441806161725893.\n",
      "[I 2023-09-15 16:28:00,044] Trial 160 finished with value: 21.717708376344305 and parameters: {'alpha': 0.4303579884753479, 'max_iter': 1252}. Best is trial 139 with value: 21.441806161725893.\n",
      "[I 2023-09-15 16:28:00,120] Trial 161 finished with value: 21.449678410664347 and parameters: {'alpha': 0.11145514127416617, 'max_iter': 1117}. Best is trial 139 with value: 21.441806161725893.\n",
      "[I 2023-09-15 16:28:00,160] Trial 162 finished with value: 21.54049333414101 and parameters: {'alpha': 0.21596801764332232, 'max_iter': 2266}. Best is trial 139 with value: 21.441806161725893.\n",
      "[I 2023-09-15 16:28:00,206] Trial 163 finished with value: 21.520660954304432 and parameters: {'alpha': 0.19309554838514642, 'max_iter': 1349}. Best is trial 139 with value: 21.441806161725893.\n",
      "[I 2023-09-15 16:28:00,276] Trial 164 finished with value: 21.44219433737779 and parameters: {'alpha': 0.10063244371651926, 'max_iter': 1218}. Best is trial 139 with value: 21.441806161725893.\n",
      "[I 2023-09-15 16:28:00,338] Trial 165 finished with value: 21.442163885033498 and parameters: {'alpha': 0.100584872421189, 'max_iter': 1205}. Best is trial 139 with value: 21.441806161725893.\n",
      "[I 2023-09-15 16:28:00,383] Trial 166 finished with value: 21.62336596002733 and parameters: {'alpha': 0.2913678823587087, 'max_iter': 1212}. Best is trial 139 with value: 21.441806161725893.\n",
      "[I 2023-09-15 16:28:00,427] Trial 167 finished with value: 21.68884459564544 and parameters: {'alpha': 0.37038423711016927, 'max_iter': 1302}. Best is trial 139 with value: 21.441806161725893.\n",
      "[I 2023-09-15 16:28:00,473] Trial 168 finished with value: 21.537024413774105 and parameters: {'alpha': 0.21216550759202873, 'max_iter': 1156}. Best is trial 139 with value: 21.441806161725893.\n",
      "[I 2023-09-15 16:28:00,526] Trial 169 finished with value: 21.62241316597503 and parameters: {'alpha': 0.2906203065735577, 'max_iter': 1388}. Best is trial 139 with value: 21.441806161725893.\n",
      "[I 2023-09-15 16:28:00,570] Trial 170 finished with value: 21.740253672990267 and parameters: {'alpha': 0.5358576457823894, 'max_iter': 1247}. Best is trial 139 with value: 21.441806161725893.\n",
      "[I 2023-09-15 16:28:00,624] Trial 171 finished with value: 21.514902533779075 and parameters: {'alpha': 0.18691655704549337, 'max_iter': 1051}. Best is trial 139 with value: 21.441806161725893.\n",
      "[I 2023-09-15 16:28:00,687] Trial 172 finished with value: 21.46247754629016 and parameters: {'alpha': 0.12712506765872217, 'max_iter': 1087}. Best is trial 139 with value: 21.441806161725893.\n",
      "[I 2023-09-15 16:28:00,760] Trial 173 finished with value: 21.442156265654813 and parameters: {'alpha': 0.10057296453507288, 'max_iter': 968}. Best is trial 139 with value: 21.441806161725893.\n",
      "[I 2023-09-15 16:28:00,843] Trial 174 finished with value: 21.44181730939286 and parameters: {'alpha': 0.10004109184325433, 'max_iter': 1196}. Best is trial 139 with value: 21.441806161725893.\n",
      "[I 2023-09-15 16:28:00,928] Trial 175 finished with value: 21.443669568542077 and parameters: {'alpha': 0.10289826422735583, 'max_iter': 1177}. Best is trial 139 with value: 21.441806161725893.\n",
      "[I 2023-09-15 16:28:01,009] Trial 176 finished with value: 21.443402739625164 and parameters: {'alpha': 0.10249390574938413, 'max_iter': 1188}. Best is trial 139 with value: 21.441806161725893.\n",
      "[I 2023-09-15 16:28:01,054] Trial 177 finished with value: 21.603835090389204 and parameters: {'alpha': 0.27560898200776, 'max_iter': 2702}. Best is trial 139 with value: 21.441806161725893.\n",
      "[I 2023-09-15 16:28:01,096] Trial 178 finished with value: 21.67989778458719 and parameters: {'alpha': 0.3555569036055324, 'max_iter': 1224}. Best is trial 139 with value: 21.441806161725893.\n",
      "[I 2023-09-15 16:28:01,183] Trial 179 finished with value: 21.444759379147644 and parameters: {'alpha': 0.1045260818255512, 'max_iter': 1189}. Best is trial 139 with value: 21.441806161725893.\n",
      "[I 2023-09-15 16:28:01,224] Trial 180 finished with value: 21.761797283716554 and parameters: {'alpha': 0.9205875164934351, 'max_iter': 1157}. Best is trial 139 with value: 21.441806161725893.\n",
      "[I 2023-09-15 16:28:01,288] Trial 181 finished with value: 21.535556280389486 and parameters: {'alpha': 0.21053316475913847, 'max_iter': 1271}. Best is trial 139 with value: 21.441806161725893.\n",
      "[I 2023-09-15 16:28:01,363] Trial 182 finished with value: 21.44267458505611 and parameters: {'alpha': 0.10137829371067128, 'max_iter': 1118}. Best is trial 139 with value: 21.441806161725893.\n",
      "[I 2023-09-15 16:28:01,431] Trial 183 finished with value: 21.443880176981033 and parameters: {'alpha': 0.1032157817137282, 'max_iter': 1086}. Best is trial 139 with value: 21.441806161725893.\n",
      "[I 2023-09-15 16:28:01,481] Trial 184 finished with value: 21.556440154636128 and parameters: {'alpha': 0.2325699584680632, 'max_iter': 1176}. Best is trial 139 with value: 21.441806161725893.\n",
      "[I 2023-09-15 16:28:01,528] Trial 185 finished with value: 21.534023131122815 and parameters: {'alpha': 0.20881335223297162, 'max_iter': 1316}. Best is trial 139 with value: 21.441806161725893.\n",
      "[I 2023-09-15 16:28:01,575] Trial 186 finished with value: 21.659831815571863 and parameters: {'alpha': 0.3224215553511716, 'max_iter': 1132}. Best is trial 139 with value: 21.441806161725893.\n",
      "[I 2023-09-15 16:28:01,610] Trial 187 finished with value: 21.8363654161632 and parameters: {'alpha': 1.9698597639223454, 'max_iter': 938}. Best is trial 139 with value: 21.441806161725893.\n",
      "[I 2023-09-15 16:28:01,660] Trial 188 finished with value: 21.85204694359998 and parameters: {'alpha': 3.5941913771961174, 'max_iter': 1020}. Best is trial 139 with value: 21.441806161725893.\n",
      "[I 2023-09-15 16:28:01,706] Trial 189 finished with value: 21.725084592296128 and parameters: {'alpha': 0.4495113337615849, 'max_iter': 1278}. Best is trial 139 with value: 21.441806161725893.\n",
      "[I 2023-09-15 16:28:01,756] Trial 190 finished with value: 21.51915261458999 and parameters: {'alpha': 0.1912297593516228, 'max_iter': 1217}. Best is trial 139 with value: 21.441806161725893.\n",
      "[I 2023-09-15 16:28:01,826] Trial 191 finished with value: 21.445501423414417 and parameters: {'alpha': 0.10561359995912374, 'max_iter': 1112}. Best is trial 139 with value: 21.441806161725893.\n",
      "[I 2023-09-15 16:28:01,902] Trial 192 finished with value: 21.44537706816569 and parameters: {'alpha': 0.1054324858537506, 'max_iter': 1075}. Best is trial 139 with value: 21.441806161725893.\n",
      "[I 2023-09-15 16:28:01,970] Trial 193 finished with value: 21.603497240037772 and parameters: {'alpha': 0.2753278514070697, 'max_iter': 1134}. Best is trial 139 with value: 21.441806161725893.\n",
      "[I 2023-09-15 16:28:02,030] Trial 194 finished with value: 21.5454327040189 and parameters: {'alpha': 0.2212576139823733, 'max_iter': 1227}. Best is trial 139 with value: 21.441806161725893.\n",
      "[I 2023-09-15 16:28:02,090] Trial 195 finished with value: 21.524562562280398 and parameters: {'alpha': 0.19783003443230135, 'max_iter': 1547}. Best is trial 139 with value: 21.441806161725893.\n",
      "[I 2023-09-15 16:28:02,134] Trial 196 finished with value: 21.68302417678475 and parameters: {'alpha': 0.36073939549698036, 'max_iter': 1181}. Best is trial 139 with value: 21.441806161725893.\n",
      "[I 2023-09-15 16:28:02,180] Trial 197 finished with value: 21.62596472399121 and parameters: {'alpha': 0.2933965707232544, 'max_iter': 1018}. Best is trial 139 with value: 21.441806161725893.\n",
      "[I 2023-09-15 16:28:02,252] Trial 198 finished with value: 21.44407231743257 and parameters: {'alpha': 0.10350421074873638, 'max_iter': 1142}. Best is trial 139 with value: 21.441806161725893.\n",
      "[I 2023-09-15 16:28:02,326] Trial 199 finished with value: 21.443047779978457 and parameters: {'alpha': 0.10195232110760569, 'max_iter': 2352}. Best is trial 139 with value: 21.441806161725893.\n",
      "[I 2023-09-15 16:28:02,374] Trial 200 finished with value: 21.529509339405713 and parameters: {'alpha': 0.20365572392080789, 'max_iter': 2344}. Best is trial 139 with value: 21.441806161725893.\n",
      "[I 2023-09-15 16:28:02,449] Trial 201 finished with value: 21.44537188337696 and parameters: {'alpha': 0.10542492477628786, 'max_iter': 2481}. Best is trial 139 with value: 21.441806161725893.\n",
      "[I 2023-09-15 16:28:02,494] Trial 202 finished with value: 21.52364430930919 and parameters: {'alpha': 0.1967272922066166, 'max_iter': 2402}. Best is trial 139 with value: 21.441806161725893.\n",
      "[I 2023-09-15 16:28:02,544] Trial 203 finished with value: 21.630124463345474 and parameters: {'alpha': 0.2966130113839557, 'max_iter': 1056}. Best is trial 139 with value: 21.441806161725893.\n",
      "[I 2023-09-15 16:28:02,601] Trial 204 finished with value: 21.519222502093747 and parameters: {'alpha': 0.1913166628560724, 'max_iter': 1261}. Best is trial 139 with value: 21.441806161725893.\n",
      "[I 2023-09-15 16:28:02,670] Trial 205 finished with value: 21.442829138535444 and parameters: {'alpha': 0.10161660104387318, 'max_iter': 2614}. Best is trial 139 with value: 21.441806161725893.\n",
      "[I 2023-09-15 16:28:02,719] Trial 206 finished with value: 21.69767445482303 and parameters: {'alpha': 0.3844406891770017, 'max_iter': 2562}. Best is trial 139 with value: 21.441806161725893.\n",
      "[I 2023-09-15 16:28:02,770] Trial 207 finished with value: 21.776744637850165 and parameters: {'alpha': 1.197688451879225, 'max_iter': 2653}. Best is trial 139 with value: 21.441806161725893.\n",
      "[I 2023-09-15 16:28:02,843] Trial 208 finished with value: 21.446232710753662 and parameters: {'alpha': 0.10666967086582518, 'max_iter': 2349}. Best is trial 139 with value: 21.441806161725893.\n",
      "[I 2023-09-15 16:28:02,892] Trial 209 finished with value: 21.59626982920732 and parameters: {'alpha': 0.26923803818344466, 'max_iter': 2777}. Best is trial 139 with value: 21.441806161725893.\n",
      "[I 2023-09-15 16:28:02,950] Trial 210 finished with value: 21.548586451557348 and parameters: {'alpha': 0.22456301149575736, 'max_iter': 1642}. Best is trial 139 with value: 21.441806161725893.\n",
      "[I 2023-09-15 16:28:03,020] Trial 211 finished with value: 21.501265121431512 and parameters: {'alpha': 0.17344760362944556, 'max_iter': 1100}. Best is trial 139 with value: 21.441806161725893.\n",
      "[I 2023-09-15 16:28:03,069] Trial 212 finished with value: 21.769883374445662 and parameters: {'alpha': 1.0782535112608371, 'max_iter': 1181}. Best is trial 139 with value: 21.441806161725893.\n",
      "[I 2023-09-15 16:28:03,146] Trial 213 finished with value: 21.447201637779315 and parameters: {'alpha': 0.10804612846090446, 'max_iter': 1222}. Best is trial 139 with value: 21.441806161725893.\n",
      "[I 2023-09-15 16:28:03,220] Trial 214 finished with value: 21.446886645592166 and parameters: {'alpha': 0.1076014302844426, 'max_iter': 1344}. Best is trial 139 with value: 21.441806161725893.\n",
      "[I 2023-09-15 16:28:03,272] Trial 215 finished with value: 21.624323174294727 and parameters: {'alpha': 0.292116868532819, 'max_iter': 1139}. Best is trial 139 with value: 21.441806161725893.\n",
      "[I 2023-09-15 16:28:03,320] Trial 216 finished with value: 21.51906766002625 and parameters: {'alpha': 0.19112406020969, 'max_iter': 978}. Best is trial 139 with value: 21.441806161725893.\n",
      "[I 2023-09-15 16:28:03,373] Trial 217 finished with value: 21.683064903932348 and parameters: {'alpha': 0.36080801871994306, 'max_iter': 2882}. Best is trial 139 with value: 21.441806161725893.\n",
      "[I 2023-09-15 16:28:03,420] Trial 218 finished with value: 21.787448714784734 and parameters: {'alpha': 1.3653981533599553, 'max_iter': 883}. Best is trial 139 with value: 21.441806161725893.\n",
      "[I 2023-09-15 16:28:03,485] Trial 219 finished with value: 21.51900265202406 and parameters: {'alpha': 0.19104313365985776, 'max_iter': 1300}. Best is trial 139 with value: 21.441806161725893.\n",
      "[I 2023-09-15 16:28:03,558] Trial 220 finished with value: 21.44349346594848 and parameters: {'alpha': 0.10263165761051625, 'max_iter': 1192}. Best is trial 139 with value: 21.441806161725893.\n",
      "[I 2023-09-15 16:28:03,653] Trial 221 finished with value: 21.442741848158143 and parameters: {'alpha': 0.10148210906320489, 'max_iter': 1194}. Best is trial 139 with value: 21.441806161725893.\n",
      "[I 2023-09-15 16:28:03,739] Trial 222 finished with value: 21.447125492082364 and parameters: {'alpha': 0.1079388692931092, 'max_iter': 1192}. Best is trial 139 with value: 21.441806161725893.\n",
      "[I 2023-09-15 16:28:03,818] Trial 223 finished with value: 21.443052632531987 and parameters: {'alpha': 0.10195975360013446, 'max_iter': 1250}. Best is trial 139 with value: 21.441806161725893.\n",
      "[I 2023-09-15 16:28:03,870] Trial 224 finished with value: 21.59393995728366 and parameters: {'alpha': 0.26724297663936336, 'max_iter': 1242}. Best is trial 139 with value: 21.441806161725893.\n",
      "[I 2023-09-15 16:28:03,927] Trial 225 finished with value: 21.52933320438159 and parameters: {'alpha': 0.20345150002967555, 'max_iter': 1181}. Best is trial 139 with value: 21.441806161725893.\n",
      "[I 2023-09-15 16:28:04,040] Trial 226 finished with value: 21.445205461307438 and parameters: {'alpha': 0.10518180815434136, 'max_iter': 1069}. Best is trial 139 with value: 21.441806161725893.\n",
      "[I 2023-09-15 16:28:04,104] Trial 227 finished with value: 21.61020506855707 and parameters: {'alpha': 0.2808529927610579, 'max_iter': 1139}. Best is trial 139 with value: 21.441806161725893.\n",
      "[I 2023-09-15 16:28:04,150] Trial 228 finished with value: 21.761926332187834 and parameters: {'alpha': 0.9232851247325111, 'max_iter': 1215}. Best is trial 139 with value: 21.441806161725893.\n",
      "[I 2023-09-15 16:28:04,225] Trial 229 finished with value: 21.442072372331985 and parameters: {'alpha': 0.10044171364659425, 'max_iter': 1254}. Best is trial 139 with value: 21.441806161725893.\n",
      "[I 2023-09-15 16:28:04,277] Trial 230 finished with value: 21.526180016543506 and parameters: {'alpha': 0.19975584248238742, 'max_iter': 1388}. Best is trial 139 with value: 21.441806161725893.\n",
      "[I 2023-09-15 16:28:04,325] Trial 231 finished with value: 21.52444631688878 and parameters: {'alpha': 0.19769081593866727, 'max_iter': 1261}. Best is trial 139 with value: 21.441806161725893.\n",
      "[I 2023-09-15 16:28:04,407] Trial 232 finished with value: 21.446580214658695 and parameters: {'alpha': 0.1071662644053462, 'max_iter': 1177}. Best is trial 139 with value: 21.441806161725893.\n",
      "[I 2023-09-15 16:28:04,454] Trial 233 finished with value: 21.60732948287133 and parameters: {'alpha': 0.2784988339281877, 'max_iter': 1111}. Best is trial 139 with value: 21.441806161725893.\n",
      "[I 2023-09-15 16:28:04,533] Trial 234 finished with value: 21.445032440545532 and parameters: {'alpha': 0.10492818188745125, 'max_iter': 1319}. Best is trial 139 with value: 21.441806161725893.\n",
      "[I 2023-09-15 16:28:04,571] Trial 235 finished with value: 21.526815098784976 and parameters: {'alpha': 0.20050632598871215, 'max_iter': 1258}. Best is trial 139 with value: 21.441806161725893.\n",
      "[I 2023-09-15 16:28:04,644] Trial 236 finished with value: 21.683334997135447 and parameters: {'alpha': 0.3612626942633903, 'max_iter': 1220}. Best is trial 139 with value: 21.441806161725893.\n",
      "[I 2023-09-15 16:28:04,694] Trial 237 finished with value: 21.52320911156584 and parameters: {'alpha': 0.19620222234355597, 'max_iter': 1093}. Best is trial 139 with value: 21.441806161725893.\n",
      "[I 2023-09-15 16:28:04,747] Trial 238 finished with value: 21.612418857062185 and parameters: {'alpha': 0.2826510300274213, 'max_iter': 1170}. Best is trial 139 with value: 21.441806161725893.\n",
      "[I 2023-09-15 16:28:04,803] Trial 239 finished with value: 21.5230498975841 and parameters: {'alpha': 0.19600973391777265, 'max_iter': 2495}. Best is trial 139 with value: 21.441806161725893.\n",
      "[I 2023-09-15 16:28:04,882] Trial 240 finished with value: 21.447327228191153 and parameters: {'alpha': 0.1082227021034838, 'max_iter': 1467}. Best is trial 139 with value: 21.441806161725893.\n",
      "[I 2023-09-15 16:28:04,967] Trial 241 finished with value: 21.441830280094965 and parameters: {'alpha': 0.10006152233895566, 'max_iter': 1303}. Best is trial 139 with value: 21.441806161725893.\n",
      "[I 2023-09-15 16:28:05,023] Trial 242 finished with value: 21.51564154016481 and parameters: {'alpha': 0.1876186493617269, 'max_iter': 1340}. Best is trial 139 with value: 21.441806161725893.\n",
      "[I 2023-09-15 16:28:05,095] Trial 243 finished with value: 21.442452212613905 and parameters: {'alpha': 0.10103395292571975, 'max_iter': 1273}. Best is trial 139 with value: 21.441806161725893.\n",
      "[I 2023-09-15 16:28:05,142] Trial 244 finished with value: 21.76558168498582 and parameters: {'alpha': 0.9970707071228291, 'max_iter': 1286}. Best is trial 139 with value: 21.441806161725893.\n",
      "[I 2023-09-15 16:28:05,219] Trial 245 finished with value: 21.445757484034118 and parameters: {'alpha': 0.10598511965682067, 'max_iter': 1238}. Best is trial 139 with value: 21.441806161725893.\n",
      "[I 2023-09-15 16:28:05,270] Trial 246 finished with value: 21.605038110546158 and parameters: {'alpha': 0.27660753947462935, 'max_iter': 1303}. Best is trial 139 with value: 21.441806161725893.\n",
      "[I 2023-09-15 16:28:05,342] Trial 247 finished with value: 21.44258308608819 and parameters: {'alpha': 0.10123681892245988, 'max_iter': 1412}. Best is trial 139 with value: 21.441806161725893.\n",
      "[I 2023-09-15 16:28:05,383] Trial 248 finished with value: 21.75283399264642 and parameters: {'alpha': 0.7415345383345914, 'max_iter': 1408}. Best is trial 139 with value: 21.441806161725893.\n",
      "[I 2023-09-15 16:28:05,434] Trial 249 finished with value: 21.53347812772843 and parameters: {'alpha': 0.20819817681956232, 'max_iter': 1334}. Best is trial 139 with value: 21.441806161725893.\n",
      "[I 2023-09-15 16:28:05,485] Trial 250 finished with value: 21.79560061132463 and parameters: {'alpha': 1.4816476203289755, 'max_iter': 1412}. Best is trial 139 with value: 21.441806161725893.\n",
      "[I 2023-09-15 16:28:05,535] Trial 251 finished with value: 21.67818789874988 and parameters: {'alpha': 0.35287837010665724, 'max_iter': 1367}. Best is trial 139 with value: 21.441806161725893.\n",
      "[I 2023-09-15 16:28:05,582] Trial 252 finished with value: 21.804003653358226 and parameters: {'alpha': 1.5934256253724357, 'max_iter': 2175}. Best is trial 139 with value: 21.441806161725893.\n",
      "[I 2023-09-15 16:28:05,635] Trial 253 finished with value: 21.527570254935366 and parameters: {'alpha': 0.20139462279698556, 'max_iter': 2996}. Best is trial 139 with value: 21.441806161725893.\n",
      "[I 2023-09-15 16:28:05,732] Trial 254 finished with value: 21.723878115752168 and parameters: {'alpha': 0.44644139363019186, 'max_iter': 1033}. Best is trial 139 with value: 21.441806161725893.\n",
      "[I 2023-09-15 16:28:05,789] Trial 255 finished with value: 21.60356904121189 and parameters: {'alpha': 0.27538762412656415, 'max_iter': 2621}. Best is trial 139 with value: 21.441806161725893.\n",
      "[I 2023-09-15 16:28:05,865] Trial 256 finished with value: 21.445292659750773 and parameters: {'alpha': 0.1053092932386416, 'max_iter': 1137}. Best is trial 139 with value: 21.441806161725893.\n",
      "[I 2023-09-15 16:28:05,932] Trial 257 finished with value: 21.44344171010982 and parameters: {'alpha': 0.1025531089153204, 'max_iter': 1489}. Best is trial 139 with value: 21.441806161725893.\n",
      "[I 2023-09-15 16:28:05,998] Trial 258 finished with value: 21.59697255046819 and parameters: {'alpha': 0.26983665337092444, 'max_iter': 1485}. Best is trial 139 with value: 21.441806161725893.\n",
      "[I 2023-09-15 16:28:06,041] Trial 259 finished with value: 21.771400940229025 and parameters: {'alpha': 1.1056453933728887, 'max_iter': 1384}. Best is trial 139 with value: 21.441806161725893.\n",
      "[I 2023-09-15 16:28:06,099] Trial 260 finished with value: 21.518445232091782 and parameters: {'alpha': 0.19034762203223637, 'max_iter': 1553}. Best is trial 139 with value: 21.441806161725893.\n",
      "[I 2023-09-15 16:28:06,153] Trial 261 finished with value: 21.681521455962745 and parameters: {'alpha': 0.35819570778780085, 'max_iter': 1431}. Best is trial 139 with value: 21.441806161725893.\n",
      "[I 2023-09-15 16:28:06,199] Trial 262 finished with value: 21.85204694359998 and parameters: {'alpha': 2.8982713997580207, 'max_iter': 1496}. Best is trial 139 with value: 21.441806161725893.\n",
      "[I 2023-09-15 16:28:06,243] Trial 263 finished with value: 21.75878363256171 and parameters: {'alpha': 0.8555400081871901, 'max_iter': 1271}. Best is trial 139 with value: 21.441806161725893.\n",
      "[I 2023-09-15 16:28:06,321] Trial 264 finished with value: 21.442292980757028 and parameters: {'alpha': 0.10078631104006783, 'max_iter': 2379}. Best is trial 139 with value: 21.441806161725893.\n",
      "[I 2023-09-15 16:28:06,373] Trial 265 finished with value: 21.538670174404903 and parameters: {'alpha': 0.21397889394757558, 'max_iter': 2374}. Best is trial 139 with value: 21.441806161725893.\n",
      "[I 2023-09-15 16:28:06,415] Trial 266 finished with value: 21.828139987843052 and parameters: {'alpha': 1.8807547500800108, 'max_iter': 2562}. Best is trial 139 with value: 21.441806161725893.\n",
      "[I 2023-09-15 16:28:06,462] Trial 267 finished with value: 21.85204694359998 and parameters: {'alpha': 3.5378862765957892, 'max_iter': 2426}. Best is trial 139 with value: 21.441806161725893.\n",
      "[I 2023-09-15 16:28:06,523] Trial 268 finished with value: 21.617177806418404 and parameters: {'alpha': 0.2864753270247251, 'max_iter': 2222}. Best is trial 139 with value: 21.441806161725893.\n",
      "[I 2023-09-15 16:28:06,568] Trial 269 finished with value: 21.85204694359998 and parameters: {'alpha': 2.4142996643824075, 'max_iter': 2785}. Best is trial 139 with value: 21.441806161725893.\n",
      "[I 2023-09-15 16:28:06,641] Trial 270 finished with value: 21.523312788996087 and parameters: {'alpha': 0.19632745339452284, 'max_iter': 2125}. Best is trial 139 with value: 21.441806161725893.\n",
      "[I 2023-09-15 16:28:06,696] Trial 271 finished with value: 21.69787537463053 and parameters: {'alpha': 0.3847530972276847, 'max_iter': 2252}. Best is trial 139 with value: 21.441806161725893.\n",
      "[I 2023-09-15 16:28:06,772] Trial 272 finished with value: 21.44490316759897 and parameters: {'alpha': 0.10473809988933923, 'max_iter': 2737}. Best is trial 139 with value: 21.441806161725893.\n",
      "[I 2023-09-15 16:28:06,820] Trial 273 finished with value: 21.522500965835828 and parameters: {'alpha': 0.19534444284596633, 'max_iter': 2318}. Best is trial 139 with value: 21.441806161725893.\n",
      "[I 2023-09-15 16:28:06,868] Trial 274 finished with value: 21.819124832048473 and parameters: {'alpha': 1.778413113915863, 'max_iter': 1070}. Best is trial 139 with value: 21.441806161725893.\n",
      "[I 2023-09-15 16:28:06,923] Trial 275 finished with value: 21.731753132310782 and parameters: {'alpha': 0.4660744677350316, 'max_iter': 2513}. Best is trial 139 with value: 21.441806161725893.\n",
      "[I 2023-09-15 16:28:06,990] Trial 276 finished with value: 21.628787274216435 and parameters: {'alpha': 0.295583126218783, 'max_iter': 1223}. Best is trial 139 with value: 21.441806161725893.\n",
      "[I 2023-09-15 16:28:07,035] Trial 277 finished with value: 21.811741449134743 and parameters: {'alpha': 1.690395512168557, 'max_iter': 1131}. Best is trial 139 with value: 21.441806161725893.\n",
      "[I 2023-09-15 16:28:07,089] Trial 278 finished with value: 21.783012150616166 and parameters: {'alpha': 1.2982352105940593, 'max_iter': 1238}. Best is trial 139 with value: 21.441806161725893.\n",
      "[I 2023-09-15 16:28:07,145] Trial 279 finished with value: 21.74917334168816 and parameters: {'alpha': 0.6884812482500527, 'max_iter': 1334}. Best is trial 139 with value: 21.441806161725893.\n",
      "[I 2023-09-15 16:28:07,210] Trial 280 finished with value: 21.51500756744169 and parameters: {'alpha': 0.18701647110063027, 'max_iter': 1162}. Best is trial 139 with value: 21.441806161725893.\n",
      "[I 2023-09-15 16:28:07,264] Trial 281 finished with value: 21.6198846832869 and parameters: {'alpha': 0.288626385803206, 'max_iter': 1096}. Best is trial 139 with value: 21.441806161725893.\n",
      "[I 2023-09-15 16:28:07,323] Trial 282 finished with value: 21.525271810503625 and parameters: {'alpha': 0.1986770752447191, 'max_iter': 984}. Best is trial 139 with value: 21.441806161725893.\n",
      "[I 2023-09-15 16:28:07,382] Trial 283 finished with value: 21.51322032683539 and parameters: {'alpha': 0.18531095570464723, 'max_iter': 1276}. Best is trial 139 with value: 21.441806161725893.\n",
      "[I 2023-09-15 16:28:07,433] Trial 284 finished with value: 21.85204694359998 and parameters: {'alpha': 2.2718623060030034, 'max_iter': 1037}. Best is trial 139 with value: 21.441806161725893.\n",
      "[I 2023-09-15 16:28:07,515] Trial 285 finished with value: 21.444406131785385 and parameters: {'alpha': 0.10400252929114656, 'max_iter': 1177}. Best is trial 139 with value: 21.441806161725893.\n",
      "[I 2023-09-15 16:28:07,562] Trial 286 finished with value: 21.85204694359998 and parameters: {'alpha': 4.337905918755184, 'max_iter': 2446}. Best is trial 139 with value: 21.441806161725893.\n",
      "[I 2023-09-15 16:28:07,646] Trial 287 finished with value: 21.443874278755107 and parameters: {'alpha': 0.1032069089504977, 'max_iter': 1223}. Best is trial 139 with value: 21.441806161725893.\n",
      "[I 2023-09-15 16:28:07,691] Trial 288 finished with value: 21.76960673629757 and parameters: {'alpha': 1.0731943432458384, 'max_iter': 1121}. Best is trial 139 with value: 21.441806161725893.\n",
      "[I 2023-09-15 16:28:07,747] Trial 289 finished with value: 21.680767802618092 and parameters: {'alpha': 0.3569113010768953, 'max_iter': 1362}. Best is trial 139 with value: 21.441806161725893.\n",
      "[I 2023-09-15 16:28:07,792] Trial 290 finished with value: 21.739587822836032 and parameters: {'alpha': 0.5225191364541191, 'max_iter': 1310}. Best is trial 139 with value: 21.441806161725893.\n",
      "[I 2023-09-15 16:28:07,849] Trial 291 finished with value: 21.59853251792988 and parameters: {'alpha': 0.27116042570652, 'max_iter': 2286}. Best is trial 139 with value: 21.441806161725893.\n",
      "[I 2023-09-15 16:28:07,922] Trial 292 finished with value: 21.442795417406412 and parameters: {'alpha': 0.10156467670715776, 'max_iter': 916}. Best is trial 139 with value: 21.441806161725893.\n",
      "[I 2023-09-15 16:28:07,987] Trial 293 finished with value: 21.5263683291806 and parameters: {'alpha': 0.19997870307512916, 'max_iter': 2868}. Best is trial 139 with value: 21.441806161725893.\n",
      "[I 2023-09-15 16:28:08,044] Trial 294 finished with value: 21.66218768567659 and parameters: {'alpha': 0.3265237569897931, 'max_iter': 874}. Best is trial 139 with value: 21.441806161725893.\n",
      "[I 2023-09-15 16:28:08,103] Trial 295 finished with value: 21.723932326982524 and parameters: {'alpha': 0.44657984286221436, 'max_iter': 996}. Best is trial 139 with value: 21.441806161725893.\n",
      "[I 2023-09-15 16:28:08,165] Trial 296 finished with value: 21.523974905572306 and parameters: {'alpha': 0.19712510858667756, 'max_iter': 836}. Best is trial 139 with value: 21.441806161725893.\n",
      "[I 2023-09-15 16:28:08,217] Trial 297 finished with value: 21.799142354697484 and parameters: {'alpha': 1.5296619836354866, 'max_iter': 1687}. Best is trial 139 with value: 21.441806161725893.\n",
      "[I 2023-09-15 16:28:08,267] Trial 298 finished with value: 21.74411637263601 and parameters: {'alpha': 0.607045003542038, 'max_iter': 780}. Best is trial 139 with value: 21.441806161725893.\n",
      "[I 2023-09-15 16:28:08,348] Trial 299 finished with value: 21.445028710472997 and parameters: {'alpha': 0.10492270424453512, 'max_iter': 935}. Best is trial 139 with value: 21.441806161725893.\n",
      "[I 2023-09-15 16:28:08,396] Trial 300 finished with value: 21.762566127713228 and parameters: {'alpha': 0.9365606454071465, 'max_iter': 1043}. Best is trial 139 with value: 21.441806161725893.\n",
      "[I 2023-09-15 16:28:08,449] Trial 301 finished with value: 21.85204694359998 and parameters: {'alpha': 2.700967284912293, 'max_iter': 924}. Best is trial 139 with value: 21.441806161725893.\n",
      "[I 2023-09-15 16:28:08,506] Trial 302 finished with value: 21.592453140496236 and parameters: {'alpha': 0.2659613726451673, 'max_iter': 2691}. Best is trial 139 with value: 21.441806161725893.\n",
      "[I 2023-09-15 16:28:08,586] Trial 303 finished with value: 21.511653548404617 and parameters: {'alpha': 0.1838008040097481, 'max_iter': 1267}. Best is trial 139 with value: 21.441806161725893.\n",
      "[I 2023-09-15 16:28:08,634] Trial 304 finished with value: 21.693125273203922 and parameters: {'alpha': 0.37728061034649707, 'max_iter': 2077}. Best is trial 139 with value: 21.441806161725893.\n",
      "[I 2023-09-15 16:28:08,695] Trial 305 finished with value: 21.60016507820029 and parameters: {'alpha': 0.27253838228254734, 'max_iter': 1750}. Best is trial 139 with value: 21.441806161725893.\n",
      "[I 2023-09-15 16:28:08,772] Trial 306 finished with value: 21.441866302549737 and parameters: {'alpha': 0.10011822967537187, 'max_iter': 2388}. Best is trial 139 with value: 21.441806161725893.\n",
      "[I 2023-09-15 16:28:08,822] Trial 307 finished with value: 21.82057053172784 and parameters: {'alpha': 1.795184562661626, 'max_iter': 2362}. Best is trial 139 with value: 21.441806161725893.\n",
      "[I 2023-09-15 16:28:08,903] Trial 308 finished with value: 21.442973379000797 and parameters: {'alpha': 0.10183826328424699, 'max_iter': 2421}. Best is trial 139 with value: 21.441806161725893.\n",
      "[I 2023-09-15 16:28:08,962] Trial 309 finished with value: 21.520966155484974 and parameters: {'alpha': 0.19347060913945235, 'max_iter': 2394}. Best is trial 139 with value: 21.441806161725893.\n",
      "[I 2023-09-15 16:28:09,019] Trial 310 finished with value: 21.75683631912603 and parameters: {'alpha': 0.8111757652974501, 'max_iter': 2440}. Best is trial 139 with value: 21.441806161725893.\n",
      "[I 2023-09-15 16:28:09,066] Trial 311 finished with value: 21.83838001371004 and parameters: {'alpha': 1.9911233804356208, 'max_iter': 2509}. Best is trial 139 with value: 21.441806161725893.\n",
      "[I 2023-09-15 16:28:09,128] Trial 312 finished with value: 21.602992664176018 and parameters: {'alpha': 0.27490740999729724, 'max_iter': 2327}. Best is trial 139 with value: 21.441806161725893.\n",
      "[I 2023-09-15 16:28:09,192] Trial 313 finished with value: 21.51896714726182 and parameters: {'alpha': 0.19099891847364875, 'max_iter': 2446}. Best is trial 139 with value: 21.441806161725893.\n",
      "[I 2023-09-15 16:28:09,273] Trial 314 finished with value: 21.44693264645809 and parameters: {'alpha': 0.10766653803713667, 'max_iter': 2593}. Best is trial 139 with value: 21.441806161725893.\n",
      "[I 2023-09-15 16:28:09,329] Trial 315 finished with value: 21.715284999633575 and parameters: {'alpha': 0.4238528479131158, 'max_iter': 2298}. Best is trial 139 with value: 21.441806161725893.\n",
      "[I 2023-09-15 16:28:09,377] Trial 316 finished with value: 21.80663096088341 and parameters: {'alpha': 1.6269404926304172, 'max_iter': 1614}. Best is trial 139 with value: 21.441806161725893.\n",
      "[I 2023-09-15 16:28:09,433] Trial 317 finished with value: 21.85204694359998 and parameters: {'alpha': 2.2659538260756995, 'max_iter': 2420}. Best is trial 139 with value: 21.441806161725893.\n",
      "[I 2023-09-15 16:28:09,515] Trial 318 finished with value: 21.442245577113027 and parameters: {'alpha': 0.10071241280235711, 'max_iter': 2390}. Best is trial 139 with value: 21.441806161725893.\n",
      "[I 2023-09-15 16:28:09,567] Trial 319 finished with value: 21.828148871287368 and parameters: {'alpha': 1.8808530735097024, 'max_iter': 2387}. Best is trial 139 with value: 21.441806161725893.\n",
      "[I 2023-09-15 16:28:09,626] Trial 320 finished with value: 21.780307389542166 and parameters: {'alpha': 1.255722780772069, 'max_iter': 2347}. Best is trial 139 with value: 21.441806161725893.\n",
      "[I 2023-09-15 16:28:09,683] Trial 321 finished with value: 21.619722678085335 and parameters: {'alpha': 0.2884981287110291, 'max_iter': 2234}. Best is trial 139 with value: 21.441806161725893.\n",
      "[I 2023-09-15 16:28:09,743] Trial 322 finished with value: 21.52363977759483 and parameters: {'alpha': 0.19672183277384947, 'max_iter': 2466}. Best is trial 139 with value: 21.441806161725893.\n",
      "[I 2023-09-15 16:28:09,801] Trial 323 finished with value: 21.85204694359998 and parameters: {'alpha': 2.426329122492101, 'max_iter': 2266}. Best is trial 139 with value: 21.441806161725893.\n",
      "[I 2023-09-15 16:28:09,892] Trial 324 finished with value: 21.443437222869868 and parameters: {'alpha': 0.10254629455610442, 'max_iter': 2535}. Best is trial 139 with value: 21.441806161725893.\n",
      "[I 2023-09-15 16:28:09,949] Trial 325 finished with value: 21.687572054862873 and parameters: {'alpha': 0.3683027449435484, 'max_iter': 2395}. Best is trial 139 with value: 21.441806161725893.\n",
      "[I 2023-09-15 16:28:10,016] Trial 326 finished with value: 21.84644635202358 and parameters: {'alpha': 2.074245211494151, 'max_iter': 2317}. Best is trial 139 with value: 21.441806161725893.\n",
      "[I 2023-09-15 16:28:10,071] Trial 327 finished with value: 21.773736042343412 and parameters: {'alpha': 1.1466676913477094, 'max_iter': 1406}. Best is trial 139 with value: 21.441806161725893.\n",
      "[I 2023-09-15 16:28:10,132] Trial 328 finished with value: 21.5769241920115 and parameters: {'alpha': 0.2521534502718819, 'max_iter': 2355}. Best is trial 139 with value: 21.441806161725893.\n",
      "[I 2023-09-15 16:28:10,216] Trial 329 finished with value: 21.443622019364774 and parameters: {'alpha': 0.10282637846974606, 'max_iter': 2496}. Best is trial 139 with value: 21.441806161725893.\n",
      "[I 2023-09-15 16:28:10,272] Trial 330 finished with value: 21.523884285922584 and parameters: {'alpha': 0.19701615309643306, 'max_iter': 705}. Best is trial 139 with value: 21.441806161725893.\n",
      "[I 2023-09-15 16:28:10,344] Trial 331 finished with value: 21.6211071443611 and parameters: {'alpha': 0.2895922316262665, 'max_iter': 2387}. Best is trial 139 with value: 21.441806161725893.\n",
      "[I 2023-09-15 16:28:10,409] Trial 332 finished with value: 21.518417230495047 and parameters: {'alpha': 0.19031260772623948, 'max_iter': 1348}. Best is trial 139 with value: 21.441806161725893.\n",
      "[I 2023-09-15 16:28:10,468] Trial 333 finished with value: 21.738091397264547 and parameters: {'alpha': 0.4910949192633798, 'max_iter': 1455}. Best is trial 139 with value: 21.441806161725893.\n",
      "[I 2023-09-15 16:28:10,524] Trial 334 finished with value: 21.85204694359998 and parameters: {'alpha': 2.1876356237828403, 'max_iter': 2623}. Best is trial 139 with value: 21.441806161725893.\n",
      "[I 2023-09-15 16:28:10,591] Trial 335 finished with value: 21.681460785560496 and parameters: {'alpha': 0.3580925274985209, 'max_iter': 2211}. Best is trial 139 with value: 21.441806161725893.\n",
      "[I 2023-09-15 16:28:10,640] Trial 336 finished with value: 21.849143679694013 and parameters: {'alpha': 2.101362669333181, 'max_iter': 2444}. Best is trial 139 with value: 21.441806161725893.\n",
      "[I 2023-09-15 16:28:10,731] Trial 337 finished with value: 21.442381133509436 and parameters: {'alpha': 0.10092352012927051, 'max_iter': 887}. Best is trial 139 with value: 21.441806161725893.\n",
      "[I 2023-09-15 16:28:10,793] Trial 338 finished with value: 21.524651687646454 and parameters: {'alpha': 0.19793669877189818, 'max_iter': 913}. Best is trial 139 with value: 21.441806161725893.\n",
      "[I 2023-09-15 16:28:10,866] Trial 339 finished with value: 21.443210373202454 and parameters: {'alpha': 0.10220092544593674, 'max_iter': 966}. Best is trial 139 with value: 21.441806161725893.\n",
      "[I 2023-09-15 16:28:10,928] Trial 340 finished with value: 21.78817718912423 and parameters: {'alpha': 1.376144980821333, 'max_iter': 795}. Best is trial 139 with value: 21.441806161725893.\n",
      "[I 2023-09-15 16:28:10,994] Trial 341 finished with value: 21.60452939132611 and parameters: {'alpha': 0.2761857547722659, 'max_iter': 868}. Best is trial 139 with value: 21.441806161725893.\n",
      "[I 2023-09-15 16:28:11,091] Trial 342 finished with value: 21.74314057409861 and parameters: {'alpha': 0.589937243955634, 'max_iter': 897}. Best is trial 139 with value: 21.441806161725893.\n",
      "[I 2023-09-15 16:28:11,135] Trial 343 finished with value: 21.85204694359998 and parameters: {'alpha': 2.5479731740369838, 'max_iter': 1312}. Best is trial 139 with value: 21.441806161725893.\n",
      "[I 2023-09-15 16:28:11,206] Trial 344 finished with value: 21.683655531867856 and parameters: {'alpha': 0.36180134386903484, 'max_iter': 1197}. Best is trial 139 with value: 21.441806161725893.\n",
      "[I 2023-09-15 16:28:11,260] Trial 345 finished with value: 21.77673501247328 and parameters: {'alpha': 1.197528290453278, 'max_iter': 1561}. Best is trial 139 with value: 21.441806161725893.\n",
      "[I 2023-09-15 16:28:11,320] Trial 346 finished with value: 21.85204694359998 and parameters: {'alpha': 4.861425214992858, 'max_iter': 817}. Best is trial 139 with value: 21.441806161725893.\n",
      "[I 2023-09-15 16:28:11,382] Trial 347 finished with value: 21.531115646057206 and parameters: {'alpha': 0.2055077278476493, 'max_iter': 844}. Best is trial 139 with value: 21.441806161725893.\n",
      "[I 2023-09-15 16:28:11,455] Trial 348 finished with value: 21.51372738282278 and parameters: {'alpha': 0.18579694269843405, 'max_iter': 2163}. Best is trial 139 with value: 21.441806161725893.\n",
      "[I 2023-09-15 16:28:11,511] Trial 349 finished with value: 21.61501377522187 and parameters: {'alpha': 0.2847431310525746, 'max_iter': 1833}. Best is trial 139 with value: 21.441806161725893.\n",
      "[I 2023-09-15 16:28:11,596] Trial 350 finished with value: 21.444811920734928 and parameters: {'alpha': 0.10460362780929104, 'max_iter': 1237}. Best is trial 139 with value: 21.441806161725893.\n",
      "[I 2023-09-15 16:28:11,653] Trial 351 finished with value: 21.711276106217984 and parameters: {'alpha': 0.41283747674983157, 'max_iter': 1295}. Best is trial 139 with value: 21.441806161725893.\n",
      "[I 2023-09-15 16:28:11,705] Trial 352 finished with value: 21.801565388980556 and parameters: {'alpha': 1.5617390471247345, 'max_iter': 1141}. Best is trial 139 with value: 21.441806161725893.\n",
      "[I 2023-09-15 16:28:11,766] Trial 353 finished with value: 21.5277608177644 and parameters: {'alpha': 0.20161809055378152, 'max_iter': 947}. Best is trial 139 with value: 21.441806161725893.\n",
      "[I 2023-09-15 16:28:11,829] Trial 354 finished with value: 21.631329546201794 and parameters: {'alpha': 0.2975378950944141, 'max_iter': 1032}. Best is trial 139 with value: 21.441806161725893.\n",
      "[I 2023-09-15 16:28:11,882] Trial 355 finished with value: 21.85204694359998 and parameters: {'alpha': 2.9680860402502587, 'max_iter': 1354}. Best is trial 139 with value: 21.441806161725893.\n",
      "[I 2023-09-15 16:28:11,975] Trial 356 finished with value: 21.443008272847365 and parameters: {'alpha': 0.10189177956394045, 'max_iter': 1211}. Best is trial 139 with value: 21.441806161725893.\n",
      "[I 2023-09-15 16:28:12,054] Trial 357 finished with value: 21.765384460460925 and parameters: {'alpha': 0.9932108335805523, 'max_iter': 2679}. Best is trial 139 with value: 21.441806161725893.\n",
      "[I 2023-09-15 16:28:12,118] Trial 358 finished with value: 21.54063289660546 and parameters: {'alpha': 0.2161194475024713, 'max_iter': 2581}. Best is trial 139 with value: 21.441806161725893.\n",
      "[I 2023-09-15 16:28:12,202] Trial 359 finished with value: 21.442457341156125 and parameters: {'alpha': 0.101041914014363, 'max_iter': 749}. Best is trial 139 with value: 21.441806161725893.\n",
      "[I 2023-09-15 16:28:12,254] Trial 360 finished with value: 21.73831962402333 and parameters: {'alpha': 0.49602710936848016, 'max_iter': 600}. Best is trial 139 with value: 21.441806161725893.\n",
      "[I 2023-09-15 16:28:12,310] Trial 361 finished with value: 21.785706978457377 and parameters: {'alpha': 1.339390368271224, 'max_iter': 747}. Best is trial 139 with value: 21.441806161725893.\n",
      "[I 2023-09-15 16:28:12,385] Trial 362 finished with value: 21.670728853852737 and parameters: {'alpha': 0.34089774665081196, 'max_iter': 1432}. Best is trial 139 with value: 21.441806161725893.\n",
      "[I 2023-09-15 16:28:12,490] Trial 363 finished with value: 21.44220892407403 and parameters: {'alpha': 0.1006552185680117, 'max_iter': 2006}. Best is trial 139 with value: 21.441806161725893.\n",
      "[I 2023-09-15 16:28:12,559] Trial 364 finished with value: 21.745980428120767 and parameters: {'alpha': 0.6383607138891433, 'max_iter': 1975}. Best is trial 139 with value: 21.441806161725893.\n",
      "[I 2023-09-15 16:28:12,634] Trial 365 finished with value: 21.807414042998317 and parameters: {'alpha': 1.63680894315391, 'max_iter': 2126}. Best is trial 139 with value: 21.441806161725893.\n",
      "[I 2023-09-15 16:28:12,690] Trial 366 finished with value: 21.790581909903562 and parameters: {'alpha': 1.4110980786398784, 'max_iter': 1886}. Best is trial 139 with value: 21.441806161725893.\n",
      "[I 2023-09-15 16:28:12,754] Trial 367 finished with value: 21.525752656049427 and parameters: {'alpha': 0.1992490402541061, 'max_iter': 513}. Best is trial 139 with value: 21.441806161725893.\n",
      "[I 2023-09-15 16:28:12,819] Trial 368 finished with value: 21.594852948807063 and parameters: {'alpha': 0.26802667777764194, 'max_iter': 646}. Best is trial 139 with value: 21.441806161725893.\n",
      "[I 2023-09-15 16:28:12,876] Trial 369 finished with value: 21.81235742400759 and parameters: {'alpha': 1.697897695663903, 'max_iter': 2053}. Best is trial 139 with value: 21.441806161725893.\n",
      "[I 2023-09-15 16:28:12,958] Trial 370 finished with value: 21.442858268940167 and parameters: {'alpha': 0.10166142493429955, 'max_iter': 670}. Best is trial 139 with value: 21.441806161725893.\n",
      "[I 2023-09-15 16:28:13,025] Trial 371 finished with value: 21.524487697598293 and parameters: {'alpha': 0.19774038717373177, 'max_iter': 1266}. Best is trial 139 with value: 21.441806161725893.\n",
      "[I 2023-09-15 16:28:13,087] Trial 372 finished with value: 21.66622564673182 and parameters: {'alpha': 0.3334127741353102, 'max_iter': 2166}. Best is trial 139 with value: 21.441806161725893.\n",
      "[I 2023-09-15 16:28:13,142] Trial 373 finished with value: 21.756956912415323 and parameters: {'alpha': 0.8139823356644531, 'max_iter': 1390}. Best is trial 139 with value: 21.441806161725893.\n",
      "[I 2023-09-15 16:28:13,196] Trial 374 finished with value: 21.85204694359998 and parameters: {'alpha': 2.7092217062078054, 'max_iter': 2002}. Best is trial 139 with value: 21.441806161725893.\n",
      "[I 2023-09-15 16:28:13,255] Trial 375 finished with value: 21.74951907653121 and parameters: {'alpha': 0.6936768858432948, 'max_iter': 820}. Best is trial 139 with value: 21.441806161725893.\n",
      "[I 2023-09-15 16:28:13,328] Trial 376 finished with value: 21.516075258248495 and parameters: {'alpha': 0.18802790757975216, 'max_iter': 732}. Best is trial 139 with value: 21.441806161725893.\n",
      "[I 2023-09-15 16:28:13,386] Trial 377 finished with value: 21.85204694359998 and parameters: {'alpha': 3.3064187691667457, 'max_iter': 1319}. Best is trial 139 with value: 21.441806161725893.\n",
      "[I 2023-09-15 16:28:13,447] Trial 378 finished with value: 21.713609974626333 and parameters: {'alpha': 0.4192900246845157, 'max_iter': 897}. Best is trial 139 with value: 21.441806161725893.\n",
      "[I 2023-09-15 16:28:13,515] Trial 379 finished with value: 21.520462113485532 and parameters: {'alpha': 0.19285075096513876, 'max_iter': 2086}. Best is trial 139 with value: 21.441806161725893.\n",
      "[I 2023-09-15 16:28:13,572] Trial 380 finished with value: 21.610872897236042 and parameters: {'alpha': 0.2813967009044996, 'max_iter': 769}. Best is trial 139 with value: 21.441806161725893.\n",
      "[I 2023-09-15 16:28:13,636] Trial 381 finished with value: 21.794093408947983 and parameters: {'alpha': 1.4607833310918104, 'max_iter': 1639}. Best is trial 139 with value: 21.441806161725893.\n",
      "[I 2023-09-15 16:28:13,696] Trial 382 finished with value: 21.78128892372106 and parameters: {'alpha': 1.2712965467458386, 'max_iter': 1167}. Best is trial 139 with value: 21.441806161725893.\n",
      "[I 2023-09-15 16:28:13,768] Trial 383 finished with value: 21.50954825802235 and parameters: {'alpha': 0.1817533941534429, 'max_iter': 1261}. Best is trial 139 with value: 21.441806161725893.\n",
      "[I 2023-09-15 16:28:13,850] Trial 384 finished with value: 21.441986317566265 and parameters: {'alpha': 0.10030681555703404, 'max_iter': 973}. Best is trial 139 with value: 21.441806161725893.\n",
      "[I 2023-09-15 16:28:13,929] Trial 385 finished with value: 21.44219216065762 and parameters: {'alpha': 0.10062904445049406, 'max_iter': 988}. Best is trial 139 with value: 21.441806161725893.\n",
      "[I 2023-09-15 16:28:13,981] Trial 386 finished with value: 21.85204694359998 and parameters: {'alpha': 2.33737498860776, 'max_iter': 995}. Best is trial 139 with value: 21.441806161725893.\n",
      "[I 2023-09-15 16:28:14,075] Trial 387 finished with value: 21.442003544376036 and parameters: {'alpha': 0.10033384164360695, 'max_iter': 947}. Best is trial 139 with value: 21.441806161725893.\n",
      "[I 2023-09-15 16:28:14,135] Trial 388 finished with value: 21.818336704720057 and parameters: {'alpha': 1.769208860971847, 'max_iter': 979}. Best is trial 139 with value: 21.441806161725893.\n",
      "[I 2023-09-15 16:28:14,191] Trial 389 finished with value: 21.845262147758 and parameters: {'alpha': 2.0622359460065467, 'max_iter': 1021}. Best is trial 139 with value: 21.441806161725893.\n",
      "[I 2023-09-15 16:28:14,253] Trial 390 finished with value: 21.603583721223043 and parameters: {'alpha': 0.27539984315828675, 'max_iter': 947}. Best is trial 139 with value: 21.441806161725893.\n",
      "[I 2023-09-15 16:28:14,310] Trial 391 finished with value: 21.77382948546699 and parameters: {'alpha': 1.1482823897993943, 'max_iter': 942}. Best is trial 139 with value: 21.441806161725893.\n",
      "[I 2023-09-15 16:28:14,374] Trial 392 finished with value: 21.69809168716295 and parameters: {'alpha': 0.3850890867050943, 'max_iter': 1057}. Best is trial 139 with value: 21.441806161725893.\n",
      "[I 2023-09-15 16:28:14,436] Trial 393 finished with value: 21.574593185009608 and parameters: {'alpha': 0.25000920103301394, 'max_iter': 1786}. Best is trial 139 with value: 21.441806161725893.\n",
      "[I 2023-09-15 16:28:14,509] Trial 394 finished with value: 21.512233662007784 and parameters: {'alpha': 0.18436145632815834, 'max_iter': 878}. Best is trial 139 with value: 21.441806161725893.\n",
      "[I 2023-09-15 16:28:14,563] Trial 395 finished with value: 21.85204694359998 and parameters: {'alpha': 2.219872139164605, 'max_iter': 967}. Best is trial 139 with value: 21.441806161725893.\n",
      "[I 2023-09-15 16:28:14,625] Trial 396 finished with value: 21.85204694359998 and parameters: {'alpha': 2.1673361364658192, 'max_iter': 992}. Best is trial 139 with value: 21.441806161725893.\n",
      "[I 2023-09-15 16:28:14,677] Trial 397 finished with value: 21.85204694359998 and parameters: {'alpha': 2.375421303019227, 'max_iter': 1927}. Best is trial 139 with value: 21.441806161725893.\n",
      "[I 2023-09-15 16:28:14,734] Trial 398 finished with value: 21.833366690619304 and parameters: {'alpha': 1.9378115873944228, 'max_iter': 844}. Best is trial 139 with value: 21.441806161725893.\n",
      "[I 2023-09-15 16:28:14,826] Trial 399 finished with value: 21.443268061432168 and parameters: {'alpha': 0.10228891638123855, 'max_iter': 1366}. Best is trial 139 with value: 21.441806161725893.\n",
      "[I 2023-09-15 16:28:14,887] Trial 400 finished with value: 21.654521107710814 and parameters: {'alpha': 0.31477602580438147, 'max_iter': 1724}. Best is trial 139 with value: 21.441806161725893.\n",
      "[I 2023-09-15 16:28:14,947] Trial 401 finished with value: 21.740497643106462 and parameters: {'alpha': 0.5406553814942129, 'max_iter': 2264}. Best is trial 139 with value: 21.441806161725893.\n",
      "[I 2023-09-15 16:28:15,030] Trial 402 finished with value: 21.516330999947126 and parameters: {'alpha': 0.18826992397356246, 'max_iter': 1288}. Best is trial 139 with value: 21.441806161725893.\n",
      "[I 2023-09-15 16:28:15,120] Trial 403 finished with value: 21.443996021753794 and parameters: {'alpha': 0.10338982181428764, 'max_iter': 1214}. Best is trial 139 with value: 21.441806161725893.\n",
      "[I 2023-09-15 16:28:15,178] Trial 404 finished with value: 21.728931817654725 and parameters: {'alpha': 0.4591481510788524, 'max_iter': 1054}. Best is trial 139 with value: 21.441806161725893.\n",
      "[I 2023-09-15 16:28:15,249] Trial 405 finished with value: 21.587864109983652 and parameters: {'alpha': 0.2619629592907686, 'max_iter': 579}. Best is trial 139 with value: 21.441806161725893.\n",
      "[I 2023-09-15 16:28:15,301] Trial 406 finished with value: 21.771084448424165 and parameters: {'alpha': 1.0999821315151657, 'max_iter': 1445}. Best is trial 139 with value: 21.441806161725893.\n",
      "[I 2023-09-15 16:28:15,367] Trial 407 finished with value: 21.514144983844123 and parameters: {'alpha': 0.18619619812029667, 'max_iter': 2201}. Best is trial 139 with value: 21.441806161725893.\n",
      "[I 2023-09-15 16:28:15,436] Trial 408 finished with value: 21.677497133955004 and parameters: {'alpha': 0.35178937445473013, 'max_iter': 909}. Best is trial 139 with value: 21.441806161725893.\n",
      "[I 2023-09-15 16:28:15,501] Trial 409 finished with value: 21.51681680321366 and parameters: {'alpha': 0.18872728675470474, 'max_iter': 1215}. Best is trial 139 with value: 21.441806161725893.\n",
      "[I 2023-09-15 16:28:15,590] Trial 410 finished with value: 21.4467150169742 and parameters: {'alpha': 0.10735801184708567, 'max_iter': 2029}. Best is trial 139 with value: 21.441806161725893.\n",
      "[I 2023-09-15 16:28:15,644] Trial 411 finished with value: 21.85204694359998 and parameters: {'alpha': 3.730983551816986, 'max_iter': 1338}. Best is trial 139 with value: 21.441806161725893.\n",
      "[I 2023-09-15 16:28:15,724] Trial 412 finished with value: 21.443211526324244 and parameters: {'alpha': 0.10220268537866961, 'max_iter': 1159}. Best is trial 139 with value: 21.441806161725893.\n",
      "[I 2023-09-15 16:28:15,791] Trial 413 finished with value: 21.620704603076817 and parameters: {'alpha': 0.28927457134697543, 'max_iter': 999}. Best is trial 139 with value: 21.441806161725893.\n",
      "[I 2023-09-15 16:28:15,855] Trial 414 finished with value: 21.74999096152801 and parameters: {'alpha': 0.7007020889418678, 'max_iter': 1272}. Best is trial 139 with value: 21.441806161725893.\n",
      "[I 2023-09-15 16:28:15,918] Trial 415 finished with value: 21.585507531988544 and parameters: {'alpha': 0.25988379195789324, 'max_iter': 1098}. Best is trial 139 with value: 21.441806161725893.\n",
      "[I 2023-09-15 16:28:16,014] Trial 416 finished with value: 21.442053872265628 and parameters: {'alpha': 0.10041273598859808, 'max_iter': 1237}. Best is trial 139 with value: 21.441806161725893.\n",
      "[I 2023-09-15 16:28:16,069] Trial 417 finished with value: 21.85204694359998 and parameters: {'alpha': 2.5118673107166667, 'max_iter': 1298}. Best is trial 139 with value: 21.441806161725893.\n",
      "[I 2023-09-15 16:28:16,136] Trial 418 finished with value: 21.71374643444269 and parameters: {'alpha': 0.4196638387401652, 'max_iter': 1386}. Best is trial 139 with value: 21.441806161725893.\n",
      "[I 2023-09-15 16:28:16,202] Trial 419 finished with value: 21.525057946487053 and parameters: {'alpha': 0.1984220894322823, 'max_iter': 872}. Best is trial 139 with value: 21.441806161725893.\n",
      "[I 2023-09-15 16:28:16,262] Trial 420 finished with value: 21.679971696099074 and parameters: {'alpha': 0.3556721434103257, 'max_iter': 2119}. Best is trial 139 with value: 21.441806161725893.\n",
      "[I 2023-09-15 16:28:16,325] Trial 421 finished with value: 21.52475350623015 and parameters: {'alpha': 0.19805847525197595, 'max_iter': 1247}. Best is trial 139 with value: 21.441806161725893.\n",
      "[I 2023-09-15 16:28:16,409] Trial 422 finished with value: 21.44192096398676 and parameters: {'alpha': 0.10020418760924693, 'max_iter': 1336}. Best is trial 139 with value: 21.441806161725893.\n",
      "[I 2023-09-15 16:28:16,491] Trial 423 finished with value: 21.441929806082566 and parameters: {'alpha': 0.10021808194408255, 'max_iter': 1352}. Best is trial 139 with value: 21.441806161725893.\n",
      "[I 2023-09-15 16:28:16,548] Trial 424 finished with value: 21.832547272002078 and parameters: {'alpha': 1.9289690819827574, 'max_iter': 1333}. Best is trial 139 with value: 21.441806161725893.\n",
      "[I 2023-09-15 16:28:16,625] Trial 425 finished with value: 21.588831973404194 and parameters: {'alpha': 0.26281173228117005, 'max_iter': 1307}. Best is trial 139 with value: 21.441806161725893.\n",
      "[I 2023-09-15 16:28:16,680] Trial 426 finished with value: 21.827163463453093 and parameters: {'alpha': 1.869917484249786, 'max_iter': 1351}. Best is trial 139 with value: 21.441806161725893.\n",
      "[I 2023-09-15 16:28:16,741] Trial 427 finished with value: 21.776570343100207 and parameters: {'alpha': 1.1947853317192183, 'max_iter': 1253}. Best is trial 139 with value: 21.441806161725893.\n",
      "[I 2023-09-15 16:28:16,804] Trial 428 finished with value: 21.849521039843747 and parameters: {'alpha': 2.105130707962914, 'max_iter': 1297}. Best is trial 139 with value: 21.441806161725893.\n",
      "[I 2023-09-15 16:28:16,873] Trial 429 finished with value: 21.53674167632914 and parameters: {'alpha': 0.21185223427476563, 'max_iter': 1373}. Best is trial 139 with value: 21.441806161725893.\n",
      "[I 2023-09-15 16:28:16,932] Trial 430 finished with value: 21.739855041327626 and parameters: {'alpha': 0.5279162470910814, 'max_iter': 2313}. Best is trial 139 with value: 21.441806161725893.\n",
      "[I 2023-09-15 16:28:16,994] Trial 431 finished with value: 21.755504700563485 and parameters: {'alpha': 0.7796229548550517, 'max_iter': 1494}. Best is trial 139 with value: 21.441806161725893.\n",
      "[I 2023-09-15 16:28:17,064] Trial 432 finished with value: 21.672454518378554 and parameters: {'alpha': 0.3437141107637849, 'max_iter': 790}. Best is trial 139 with value: 21.441806161725893.\n",
      "[I 2023-09-15 16:28:17,119] Trial 433 finished with value: 21.85204694359998 and parameters: {'alpha': 3.0803388148557866, 'max_iter': 949}. Best is trial 139 with value: 21.441806161725893.\n",
      "[I 2023-09-15 16:28:17,187] Trial 434 finished with value: 21.514204865697344 and parameters: {'alpha': 0.18625147636691503, 'max_iter': 1308}. Best is trial 139 with value: 21.441806161725893.\n",
      "[I 2023-09-15 16:28:17,246] Trial 435 finished with value: 21.805878896558756 and parameters: {'alpha': 1.6174114011134502, 'max_iter': 1223}. Best is trial 139 with value: 21.441806161725893.\n",
      "[I 2023-09-15 16:28:17,338] Trial 436 finished with value: 21.44403160330831 and parameters: {'alpha': 0.10344319177359923, 'max_iter': 1424}. Best is trial 139 with value: 21.441806161725893.\n",
      "[I 2023-09-15 16:28:17,402] Trial 437 finished with value: 21.600337963986675 and parameters: {'alpha': 0.27268386675663403, 'max_iter': 724}. Best is trial 139 with value: 21.441806161725893.\n",
      "[I 2023-09-15 16:28:17,467] Trial 438 finished with value: 21.762566073326344 and parameters: {'alpha': 0.9365595237753145, 'max_iter': 1259}. Best is trial 139 with value: 21.441806161725893.\n",
      "[I 2023-09-15 16:28:17,523] Trial 439 finished with value: 21.782204712258512 and parameters: {'alpha': 1.285675444636104, 'max_iter': 1350}. Best is trial 139 with value: 21.441806161725893.\n",
      "[I 2023-09-15 16:28:17,602] Trial 440 finished with value: 21.51204333370992 and parameters: {'alpha': 0.18417770941091688, 'max_iter': 2254}. Best is trial 139 with value: 21.441806161725893.\n",
      "[I 2023-09-15 16:28:17,656] Trial 441 finished with value: 21.85204694359998 and parameters: {'alpha': 2.244512923404201, 'max_iter': 1852}. Best is trial 139 with value: 21.441806161725893.\n",
      "[I 2023-09-15 16:28:17,744] Trial 442 finished with value: 21.44490841807629 and parameters: {'alpha': 0.10474582995063851, 'max_iter': 1226}. Best is trial 139 with value: 21.441806161725893.\n",
      "[I 2023-09-15 16:28:17,806] Trial 443 finished with value: 21.72071903259854 and parameters: {'alpha': 0.4382888579790687, 'max_iter': 933}. Best is trial 139 with value: 21.441806161725893.\n",
      "[I 2023-09-15 16:28:17,872] Trial 444 finished with value: 21.657245728287144 and parameters: {'alpha': 0.31784385521254943, 'max_iter': 1671}. Best is trial 139 with value: 21.441806161725893.\n",
      "[I 2023-09-15 16:28:17,929] Trial 445 finished with value: 21.85204694359998 and parameters: {'alpha': 2.84528656452284, 'max_iter': 1191}. Best is trial 139 with value: 21.441806161725893.\n",
      "[I 2023-09-15 16:28:18,006] Trial 446 finished with value: 21.580462983943573 and parameters: {'alpha': 0.2553713420826296, 'max_iter': 1533}. Best is trial 139 with value: 21.441806161725893.\n",
      "[I 2023-09-15 16:28:18,093] Trial 447 finished with value: 21.443613437980456 and parameters: {'alpha': 0.10281339707598097, 'max_iter': 837}. Best is trial 139 with value: 21.441806161725893.\n",
      "[I 2023-09-15 16:28:18,169] Trial 448 finished with value: 21.51573333067378 and parameters: {'alpha': 0.18770382281480424, 'max_iter': 1289}. Best is trial 139 with value: 21.441806161725893.\n",
      "[I 2023-09-15 16:28:18,226] Trial 449 finished with value: 21.763715732965718 and parameters: {'alpha': 0.9600166580214128, 'max_iter': 1948}. Best is trial 139 with value: 21.441806161725893.\n",
      "[I 2023-09-15 16:28:18,285] Trial 450 finished with value: 21.820688067059535 and parameters: {'alpha': 1.7965417783105373, 'max_iter': 2186}. Best is trial 139 with value: 21.441806161725893.\n",
      "[I 2023-09-15 16:28:18,351] Trial 451 finished with value: 21.68911729516915 and parameters: {'alpha': 0.3708283789837076, 'max_iter': 2091}. Best is trial 139 with value: 21.441806161725893.\n",
      "[I 2023-09-15 16:28:18,415] Trial 452 finished with value: 21.580930863935876 and parameters: {'alpha': 0.2557935049111142, 'max_iter': 2359}. Best is trial 139 with value: 21.441806161725893.\n",
      "[I 2023-09-15 16:28:18,501] Trial 453 finished with value: 21.442724379557113 and parameters: {'alpha': 0.1014551627568312, 'max_iter': 1372}. Best is trial 139 with value: 21.441806161725893.\n",
      "[I 2023-09-15 16:28:18,563] Trial 454 finished with value: 21.844058701181883 and parameters: {'alpha': 2.0499650548982182, 'max_iter': 894}. Best is trial 139 with value: 21.441806161725893.\n",
      "[I 2023-09-15 16:28:18,627] Trial 455 finished with value: 21.756966434035846 and parameters: {'alpha': 0.8142035852973266, 'max_iter': 1156}. Best is trial 139 with value: 21.441806161725893.\n",
      "[I 2023-09-15 16:28:18,700] Trial 456 finished with value: 21.5139963400726 and parameters: {'alpha': 0.18605418684818564, 'max_iter': 1318}. Best is trial 139 with value: 21.441806161725893.\n",
      "[I 2023-09-15 16:28:18,769] Trial 457 finished with value: 21.60103924282869 and parameters: {'alpha': 0.2732731420944564, 'max_iter': 1264}. Best is trial 139 with value: 21.441806161725893.\n",
      "[I 2023-09-15 16:28:18,854] Trial 458 finished with value: 21.44204335932002 and parameters: {'alpha': 0.10039626344560877, 'max_iter': 1442}. Best is trial 139 with value: 21.441806161725893.\n",
      "[I 2023-09-15 16:28:18,916] Trial 459 finished with value: 21.787597138729033 and parameters: {'alpha': 1.367593923083203, 'max_iter': 1482}. Best is trial 139 with value: 21.441806161725893.\n",
      "[I 2023-09-15 16:28:18,975] Trial 460 finished with value: 21.85204694359998 and parameters: {'alpha': 3.3660592375411964, 'max_iter': 1582}. Best is trial 139 with value: 21.441806161725893.\n",
      "[I 2023-09-15 16:28:19,053] Trial 461 finished with value: 21.71243841779452 and parameters: {'alpha': 0.41606509414907933, 'max_iter': 1333}. Best is trial 139 with value: 21.441806161725893.\n",
      "[I 2023-09-15 16:28:19,111] Trial 462 finished with value: 21.766470876568246 and parameters: {'alpha': 1.0143146020436657, 'max_iter': 1478}. Best is trial 139 with value: 21.441806161725893.\n",
      "[I 2023-09-15 16:28:19,170] Trial 463 finished with value: 21.761054191772484 and parameters: {'alpha': 0.9049201623679042, 'max_iter': 1414}. Best is trial 139 with value: 21.441806161725893.\n",
      "[I 2023-09-15 16:28:19,237] Trial 464 finished with value: 21.517915267193274 and parameters: {'alpha': 0.18975868338276441, 'max_iter': 1421}. Best is trial 139 with value: 21.441806161725893.\n",
      "[I 2023-09-15 16:28:19,294] Trial 465 finished with value: 21.85204694359998 and parameters: {'alpha': 3.1582264450284163, 'max_iter': 1378}. Best is trial 139 with value: 21.441806161725893.\n",
      "[I 2023-09-15 16:28:19,372] Trial 466 finished with value: 21.670850627092122 and parameters: {'alpha': 0.34109740431943447, 'max_iter': 1016}. Best is trial 139 with value: 21.441806161725893.\n",
      "[I 2023-09-15 16:28:19,431] Trial 467 finished with value: 21.815454801558268 and parameters: {'alpha': 1.7351725101703186, 'max_iter': 1519}. Best is trial 139 with value: 21.441806161725893.\n",
      "[I 2023-09-15 16:28:19,495] Trial 468 finished with value: 21.85204694359998 and parameters: {'alpha': 3.786413975940654, 'max_iter': 2305}. Best is trial 139 with value: 21.441806161725893.\n",
      "[I 2023-09-15 16:28:19,560] Trial 469 finished with value: 21.85204694359998 and parameters: {'alpha': 4.2454613825362895, 'max_iter': 2480}. Best is trial 139 with value: 21.441806161725893.\n",
      "[I 2023-09-15 16:28:19,628] Trial 470 finished with value: 21.541973297119775 and parameters: {'alpha': 0.2175678754846393, 'max_iter': 1207}. Best is trial 139 with value: 21.441806161725893.\n",
      "[I 2023-09-15 16:28:19,706] Trial 471 finished with value: 21.515957792384068 and parameters: {'alpha': 0.18791663710607692, 'max_iter': 1449}. Best is trial 139 with value: 21.441806161725893.\n",
      "[I 2023-09-15 16:28:19,791] Trial 472 finished with value: 21.442835866131038 and parameters: {'alpha': 0.1016269556084175, 'max_iter': 1332}. Best is trial 139 with value: 21.441806161725893.\n",
      "[I 2023-09-15 16:28:19,851] Trial 473 finished with value: 21.85204694359998 and parameters: {'alpha': 2.764307398225576, 'max_iter': 1271}. Best is trial 139 with value: 21.441806161725893.\n",
      "[I 2023-09-15 16:28:19,915] Trial 474 finished with value: 21.7387188975876 and parameters: {'alpha': 0.5045326875981092, 'max_iter': 971}. Best is trial 139 with value: 21.441806161725893.\n",
      "[I 2023-09-15 16:28:19,976] Trial 475 finished with value: 21.74201643518323 and parameters: {'alpha': 0.5695400421623747, 'max_iter': 1385}. Best is trial 139 with value: 21.441806161725893.\n",
      "[I 2023-09-15 16:28:20,044] Trial 476 finished with value: 21.747151445669985 and parameters: {'alpha': 0.6572176164068473, 'max_iter': 2406}. Best is trial 139 with value: 21.441806161725893.\n",
      "[I 2023-09-15 16:28:20,105] Trial 477 finished with value: 21.85204694359998 and parameters: {'alpha': 2.3118475546162194, 'max_iter': 1251}. Best is trial 139 with value: 21.441806161725893.\n",
      "[I 2023-09-15 16:28:20,163] Trial 478 finished with value: 21.85204694359998 and parameters: {'alpha': 2.3963344714796544, 'max_iter': 1182}. Best is trial 139 with value: 21.441806161725893.\n",
      "[I 2023-09-15 16:28:20,225] Trial 479 finished with value: 21.838563238440447 and parameters: {'alpha': 1.9930469062900396, 'max_iter': 1060}. Best is trial 139 with value: 21.441806161725893.\n",
      "[I 2023-09-15 16:28:20,284] Trial 480 finished with value: 21.85204694359998 and parameters: {'alpha': 2.5245074271664096, 'max_iter': 1306}. Best is trial 139 with value: 21.441806161725893.\n",
      "[I 2023-09-15 16:28:20,340] Trial 481 finished with value: 21.85204694359998 and parameters: {'alpha': 2.4708479304535214, 'max_iter': 1394}. Best is trial 139 with value: 21.441806161725893.\n",
      "[I 2023-09-15 16:28:20,411] Trial 482 finished with value: 21.607593509563234 and parameters: {'alpha': 0.2787158752872696, 'max_iter': 934}. Best is trial 139 with value: 21.441806161725893.\n",
      "[I 2023-09-15 16:28:20,468] Trial 483 finished with value: 21.85204694359998 and parameters: {'alpha': 2.5531802226048264, 'max_iter': 1225}. Best is trial 139 with value: 21.441806161725893.\n",
      "[I 2023-09-15 16:28:20,529] Trial 484 finished with value: 21.77110187989083 and parameters: {'alpha': 1.1002947131261966, 'max_iter': 2025}. Best is trial 139 with value: 21.441806161725893.\n",
      "[I 2023-09-15 16:28:20,634] Trial 485 finished with value: 21.44355916089141 and parameters: {'alpha': 0.10273123410122327, 'max_iter': 1899}. Best is trial 139 with value: 21.441806161725893.\n",
      "[I 2023-09-15 16:28:20,702] Trial 486 finished with value: 21.66567306489811 and parameters: {'alpha': 0.3324802480585536, 'max_iter': 1796}. Best is trial 139 with value: 21.441806161725893.\n",
      "[I 2023-09-15 16:28:20,771] Trial 487 finished with value: 21.526336842864556 and parameters: {'alpha': 0.19994145966192745, 'max_iter': 2247}. Best is trial 139 with value: 21.441806161725893.\n",
      "[I 2023-09-15 16:28:20,863] Trial 488 finished with value: 21.44301626843005 and parameters: {'alpha': 0.10190403644823577, 'max_iter': 2145}. Best is trial 139 with value: 21.441806161725893.\n",
      "[I 2023-09-15 16:28:20,935] Trial 489 finished with value: 21.605767798025827 and parameters: {'alpha': 0.277211327086529, 'max_iter': 1144}. Best is trial 139 with value: 21.441806161725893.\n",
      "[I 2023-09-15 16:28:21,006] Trial 490 finished with value: 21.523277117621593 and parameters: {'alpha': 0.19628437639864527, 'max_iter': 879}. Best is trial 139 with value: 21.441806161725893.\n",
      "[I 2023-09-15 16:28:21,069] Trial 491 finished with value: 21.85204694359998 and parameters: {'alpha': 3.0226217505571977, 'max_iter': 1341}. Best is trial 139 with value: 21.441806161725893.\n",
      "[I 2023-09-15 16:28:21,136] Trial 492 finished with value: 21.801736420844886 and parameters: {'alpha': 1.5639806857676215, 'max_iter': 1440}. Best is trial 139 with value: 21.441806161725893.\n",
      "[I 2023-09-15 16:28:21,198] Trial 493 finished with value: 21.714077689814033 and parameters: {'alpha': 0.4205697118132097, 'max_iter': 1285}. Best is trial 139 with value: 21.441806161725893.\n",
      "[I 2023-09-15 16:28:21,264] Trial 494 finished with value: 21.529842968994277 and parameters: {'alpha': 0.20404193184585662, 'max_iter': 1090}. Best is trial 139 with value: 21.441806161725893.\n",
      "[I 2023-09-15 16:28:21,333] Trial 495 finished with value: 21.667868816221294 and parameters: {'alpha': 0.33616728698203585, 'max_iter': 990}. Best is trial 139 with value: 21.441806161725893.\n",
      "[I 2023-09-15 16:28:21,416] Trial 496 finished with value: 21.51217961031897 and parameters: {'alpha': 0.18430929313845096, 'max_iter': 1588}. Best is trial 139 with value: 21.441806161725893.\n",
      "[I 2023-09-15 16:28:21,477] Trial 497 finished with value: 21.796496927555047 and parameters: {'alpha': 1.493930505733559, 'max_iter': 2360}. Best is trial 139 with value: 21.441806161725893.\n",
      "[I 2023-09-15 16:28:21,577] Trial 498 finished with value: 21.75294838876219 and parameters: {'alpha': 0.7431278081539525, 'max_iter': 1227}. Best is trial 139 with value: 21.441806161725893.\n",
      "[I 2023-09-15 16:28:21,637] Trial 499 finished with value: 21.603280820936696 and parameters: {'alpha': 0.27514760330257976, 'max_iter': 1161}. Best is trial 139 with value: 21.441806161725893.\n"
     ]
    }
   ],
   "source": [
    "study = optuna.create_study(direction='minimize')\n",
    "study.optimize(lasso_fine_tuning, n_trials=500)"
   ]
  },
  {
   "cell_type": "code",
   "execution_count": 25,
   "metadata": {},
   "outputs": [
    {
     "ename": "ValueError",
     "evalue": "Mime type rendering requires nbformat>=4.2.0 but it is not installed",
     "output_type": "error",
     "traceback": [
      "\u001b[1;31m---------------------------------------------------------------------------\u001b[0m",
      "\u001b[1;31mValueError\u001b[0m                                Traceback (most recent call last)",
      "File \u001b[1;32mc:\\Users\\thale\\Documents\\Estudos\\Disciplinas\\Introdução a ML\\Projeto Aluno\\ensaios-algoritmos-ml\\env\\Lib\\site-packages\\IPython\\core\\formatters.py:922\u001b[0m, in \u001b[0;36mIPythonDisplayFormatter.__call__\u001b[1;34m(self, obj)\u001b[0m\n\u001b[0;32m    920\u001b[0m method \u001b[39m=\u001b[39m get_real_method(obj, \u001b[39mself\u001b[39m\u001b[39m.\u001b[39mprint_method)\n\u001b[0;32m    921\u001b[0m \u001b[39mif\u001b[39;00m method \u001b[39mis\u001b[39;00m \u001b[39mnot\u001b[39;00m \u001b[39mNone\u001b[39;00m:\n\u001b[1;32m--> 922\u001b[0m     method()\n\u001b[0;32m    923\u001b[0m     \u001b[39mreturn\u001b[39;00m \u001b[39mTrue\u001b[39;00m\n",
      "File \u001b[1;32mc:\\Users\\thale\\Documents\\Estudos\\Disciplinas\\Introdução a ML\\Projeto Aluno\\ensaios-algoritmos-ml\\env\\Lib\\site-packages\\plotly\\basedatatypes.py:834\u001b[0m, in \u001b[0;36mBaseFigure._ipython_display_\u001b[1;34m(self)\u001b[0m\n\u001b[0;32m    831\u001b[0m \u001b[39mimport\u001b[39;00m \u001b[39mplotly\u001b[39;00m\u001b[39m.\u001b[39;00m\u001b[39mio\u001b[39;00m \u001b[39mas\u001b[39;00m \u001b[39mpio\u001b[39;00m\n\u001b[0;32m    833\u001b[0m \u001b[39mif\u001b[39;00m pio\u001b[39m.\u001b[39mrenderers\u001b[39m.\u001b[39mrender_on_display \u001b[39mand\u001b[39;00m pio\u001b[39m.\u001b[39mrenderers\u001b[39m.\u001b[39mdefault:\n\u001b[1;32m--> 834\u001b[0m     pio\u001b[39m.\u001b[39;49mshow(\u001b[39mself\u001b[39;49m)\n\u001b[0;32m    835\u001b[0m \u001b[39melse\u001b[39;00m:\n\u001b[0;32m    836\u001b[0m     \u001b[39mprint\u001b[39m(\u001b[39mrepr\u001b[39m(\u001b[39mself\u001b[39m))\n",
      "File \u001b[1;32mc:\\Users\\thale\\Documents\\Estudos\\Disciplinas\\Introdução a ML\\Projeto Aluno\\ensaios-algoritmos-ml\\env\\Lib\\site-packages\\plotly\\io\\_renderers.py:396\u001b[0m, in \u001b[0;36mshow\u001b[1;34m(fig, renderer, validate, **kwargs)\u001b[0m\n\u001b[0;32m    391\u001b[0m         \u001b[39mraise\u001b[39;00m \u001b[39mValueError\u001b[39;00m(\n\u001b[0;32m    392\u001b[0m             \u001b[39m\"\u001b[39m\u001b[39mMime type rendering requires ipython but it is not installed\u001b[39m\u001b[39m\"\u001b[39m\n\u001b[0;32m    393\u001b[0m         )\n\u001b[0;32m    395\u001b[0m     \u001b[39mif\u001b[39;00m \u001b[39mnot\u001b[39;00m nbformat \u001b[39mor\u001b[39;00m Version(nbformat\u001b[39m.\u001b[39m__version__) \u001b[39m<\u001b[39m Version(\u001b[39m\"\u001b[39m\u001b[39m4.2.0\u001b[39m\u001b[39m\"\u001b[39m):\n\u001b[1;32m--> 396\u001b[0m         \u001b[39mraise\u001b[39;00m \u001b[39mValueError\u001b[39;00m(\n\u001b[0;32m    397\u001b[0m             \u001b[39m\"\u001b[39m\u001b[39mMime type rendering requires nbformat>=4.2.0 but it is not installed\u001b[39m\u001b[39m\"\u001b[39m\n\u001b[0;32m    398\u001b[0m         )\n\u001b[0;32m    400\u001b[0m     ipython_display\u001b[39m.\u001b[39mdisplay(bundle, raw\u001b[39m=\u001b[39m\u001b[39mTrue\u001b[39;00m)\n\u001b[0;32m    402\u001b[0m \u001b[39m# external renderers\u001b[39;00m\n",
      "\u001b[1;31mValueError\u001b[0m: Mime type rendering requires nbformat>=4.2.0 but it is not installed"
     ]
    },
    {
     "data": {
      "application/vnd.plotly.v1+json": {
       "config": {
        "plotlyServerURL": "https://plot.ly"
       },
       "data": [
        {
         "mode": "markers",
         "name": "Objective Value",
         "type": "scatter",
         "x": [
          0,
          1,
          2,
          3,
          4,
          5,
          6,
          7,
          8,
          9,
          10,
          11,
          12,
          13,
          14,
          15,
          16,
          17,
          18,
          19,
          20,
          21,
          22,
          23,
          24,
          25,
          26,
          27,
          28,
          29,
          30,
          31,
          32,
          33,
          34,
          35,
          36,
          37,
          38,
          39,
          40,
          41,
          42,
          43,
          44,
          45,
          46,
          47,
          48,
          49,
          50,
          51,
          52,
          53,
          54,
          55,
          56,
          57,
          58,
          59,
          60,
          61,
          62,
          63,
          64,
          65,
          66,
          67,
          68,
          69,
          70,
          71,
          72,
          73,
          74,
          75,
          76,
          77,
          78,
          79,
          80,
          81,
          82,
          83,
          84,
          85,
          86,
          87,
          88,
          89,
          90,
          91,
          92,
          93,
          94,
          95,
          96,
          97,
          98,
          99,
          100,
          101,
          102,
          103,
          104,
          105,
          106,
          107,
          108,
          109,
          110,
          111,
          112,
          113,
          114,
          115,
          116,
          117,
          118,
          119,
          120,
          121,
          122,
          123,
          124,
          125,
          126,
          127,
          128,
          129,
          130,
          131,
          132,
          133,
          134,
          135,
          136,
          137,
          138,
          139,
          140,
          141,
          142,
          143,
          144,
          145,
          146,
          147,
          148,
          149,
          150,
          151,
          152,
          153,
          154,
          155,
          156,
          157,
          158,
          159,
          160,
          161,
          162,
          163,
          164,
          165,
          166,
          167,
          168,
          169,
          170,
          171,
          172,
          173,
          174,
          175,
          176,
          177,
          178,
          179,
          180,
          181,
          182,
          183,
          184,
          185,
          186,
          187,
          188,
          189,
          190,
          191,
          192,
          193,
          194,
          195,
          196,
          197,
          198,
          199,
          200,
          201,
          202,
          203,
          204,
          205,
          206,
          207,
          208,
          209,
          210,
          211,
          212,
          213,
          214,
          215,
          216,
          217,
          218,
          219,
          220,
          221,
          222,
          223,
          224,
          225,
          226,
          227,
          228,
          229,
          230,
          231,
          232,
          233,
          234,
          235,
          236,
          237,
          238,
          239,
          240,
          241,
          242,
          243,
          244,
          245,
          246,
          247,
          248,
          249,
          250,
          251,
          252,
          253,
          254,
          255,
          256,
          257,
          258,
          259,
          260,
          261,
          262,
          263,
          264,
          265,
          266,
          267,
          268,
          269,
          270,
          271,
          272,
          273,
          274,
          275,
          276,
          277,
          278,
          279,
          280,
          281,
          282,
          283,
          284,
          285,
          286,
          287,
          288,
          289,
          290,
          291,
          292,
          293,
          294,
          295,
          296,
          297,
          298,
          299,
          300,
          301,
          302,
          303,
          304,
          305,
          306,
          307,
          308,
          309,
          310,
          311,
          312,
          313,
          314,
          315,
          316,
          317,
          318,
          319,
          320,
          321,
          322,
          323,
          324,
          325,
          326,
          327,
          328,
          329,
          330,
          331,
          332,
          333,
          334,
          335,
          336,
          337,
          338,
          339,
          340,
          341,
          342,
          343,
          344,
          345,
          346,
          347,
          348,
          349,
          350,
          351,
          352,
          353,
          354,
          355,
          356,
          357,
          358,
          359,
          360,
          361,
          362,
          363,
          364,
          365,
          366,
          367,
          368,
          369,
          370,
          371,
          372,
          373,
          374,
          375,
          376,
          377,
          378,
          379,
          380,
          381,
          382,
          383,
          384,
          385,
          386,
          387,
          388,
          389,
          390,
          391,
          392,
          393,
          394,
          395,
          396,
          397,
          398,
          399,
          400,
          401,
          402,
          403,
          404,
          405,
          406,
          407,
          408,
          409,
          410,
          411,
          412,
          413,
          414,
          415,
          416,
          417,
          418,
          419,
          420,
          421,
          422,
          423,
          424,
          425,
          426,
          427,
          428,
          429,
          430,
          431,
          432,
          433,
          434,
          435,
          436,
          437,
          438,
          439,
          440,
          441,
          442,
          443,
          444,
          445,
          446,
          447,
          448,
          449,
          450,
          451,
          452,
          453,
          454,
          455,
          456,
          457,
          458,
          459,
          460,
          461,
          462,
          463,
          464,
          465,
          466,
          467,
          468,
          469,
          470,
          471,
          472,
          473,
          474,
          475,
          476,
          477,
          478,
          479,
          480,
          481,
          482,
          483,
          484,
          485,
          486,
          487,
          488,
          489,
          490,
          491,
          492,
          493,
          494,
          495,
          496,
          497,
          498,
          499
         ],
         "y": [
          21.85204694359998,
          21.74480004476041,
          21.740634917239536,
          21.700524944194182,
          21.85204694359998,
          21.752096578817593,
          21.85204694359998,
          21.85204694359998,
          21.775506065278396,
          21.85204694359998,
          21.449505450083723,
          21.48839694719949,
          21.451762634024877,
          21.78538986770775,
          21.78199389059794,
          21.44384062721193,
          21.812733926098378,
          21.761544350348895,
          21.500555769735083,
          21.811033467319415,
          21.75615369512002,
          21.466225472078992,
          21.484956276730557,
          21.747931075204846,
          21.766154610431617,
          21.72128882216169,
          21.47096916924099,
          21.764426111854142,
          21.73920180733663,
          21.802727742463148,
          21.838789045357018,
          21.46989262538273,
          21.731094628761642,
          21.74967382595531,
          21.706591255823174,
          21.724535902586375,
          21.755452490278735,
          21.766792483957936,
          21.704310902842245,
          21.75217617945111,
          21.673264552561907,
          21.51941145020598,
          21.457156568360706,
          21.743637221301576,
          21.667362413787657,
          21.746292685796966,
          21.777652126247606,
          21.446230116628335,
          21.759359307510003,
          21.741788898302286,
          21.666719161125414,
          21.448292697242888,
          21.447517955263205,
          21.620064229890044,
          21.444581097119006,
          21.742258969857712,
          21.650357608280654,
          21.757315147473662,
          21.770917889114685,
          21.741213636221634,
          21.450421649152137,
          21.577313362004073,
          21.458371197198126,
          21.60920898448725,
          21.738164778926546,
          21.456570226585814,
          21.760275194722492,
          21.645821955190318,
          21.73031338913722,
          21.75009888785194,
          21.580562744799842,
          21.4437554327578,
          21.71561125698378,
          21.743257422940758,
          21.570243733987166,
          21.454540359528952,
          21.71552960240326,
          21.57781913898866,
          21.448632596843094,
          21.745894176022194,
          21.753879304475557,
          21.55287697773872,
          21.44573882471646,
          21.712862760292317,
          21.44230880580593,
          21.442179038200845,
          21.68919989448785,
          21.73911792729782,
          21.561886738851303,
          21.695907431465578,
          21.548238086999255,
          21.45476611039889,
          21.668065685120418,
          21.44733587085045,
          21.739309450894513,
          21.543963590425456,
          21.748295385962688,
          21.67130129250097,
          21.54067747088386,
          21.738227414519017,
          21.743697047235067,
          21.45129004143495,
          21.446671017017277,
          21.667919870800894,
          21.552769753445087,
          21.737488436139333,
          21.545781719072654,
          21.68161574602422,
          21.490999372230196,
          21.44191447737294,
          21.711340115142754,
          21.51959628046731,
          21.44201370728181,
          21.640355003396326,
          21.633110498998985,
          21.44497256415162,
          21.441948139897793,
          21.720898430051538,
          21.7416662525852,
          21.75444729107696,
          21.53606853501644,
          21.448254422756364,
          21.613357513440494,
          21.506457157654847,
          21.691650470808288,
          21.44328831884518,
          21.64146450820301,
          21.531170961084854,
          21.71320833216371,
          21.44325412661662,
          21.740651414563555,
          21.522080052631875,
          21.44910454494355,
          21.600261513227053,
          21.442763160815158,
          21.67053113179406,
          21.734278581350264,
          21.559569085134,
          21.85204694359998,
          21.441806161725893,
          21.692533060975496,
          21.548082143734646,
          21.443752270338525,
          21.44599316482069,
          21.617986979162104,
          21.510479577428818,
          21.65012744959273,
          21.530979640780632,
          21.4469268134492,
          21.716964122119588,
          21.74453916755107,
          21.443573675272717,
          21.521729860581747,
          21.61908273664333,
          21.51719921110255,
          21.450303507580635,
          21.442897417079113,
          21.685616264593154,
          21.78673405309715,
          21.617131528814653,
          21.717708376344305,
          21.449678410664347,
          21.54049333414101,
          21.520660954304432,
          21.44219433737779,
          21.442163885033498,
          21.62336596002733,
          21.68884459564544,
          21.537024413774105,
          21.62241316597503,
          21.740253672990267,
          21.514902533779075,
          21.46247754629016,
          21.442156265654813,
          21.44181730939286,
          21.443669568542077,
          21.443402739625164,
          21.603835090389204,
          21.67989778458719,
          21.444759379147644,
          21.761797283716554,
          21.535556280389486,
          21.44267458505611,
          21.443880176981033,
          21.556440154636128,
          21.534023131122815,
          21.659831815571863,
          21.8363654161632,
          21.85204694359998,
          21.725084592296128,
          21.51915261458999,
          21.445501423414417,
          21.44537706816569,
          21.603497240037772,
          21.5454327040189,
          21.524562562280398,
          21.68302417678475,
          21.62596472399121,
          21.44407231743257,
          21.443047779978457,
          21.529509339405713,
          21.44537188337696,
          21.52364430930919,
          21.630124463345474,
          21.519222502093747,
          21.442829138535444,
          21.69767445482303,
          21.776744637850165,
          21.446232710753662,
          21.59626982920732,
          21.548586451557348,
          21.501265121431512,
          21.769883374445662,
          21.447201637779315,
          21.446886645592166,
          21.624323174294727,
          21.51906766002625,
          21.683064903932348,
          21.787448714784734,
          21.51900265202406,
          21.44349346594848,
          21.442741848158143,
          21.447125492082364,
          21.443052632531987,
          21.59393995728366,
          21.52933320438159,
          21.445205461307438,
          21.61020506855707,
          21.761926332187834,
          21.442072372331985,
          21.526180016543506,
          21.52444631688878,
          21.446580214658695,
          21.60732948287133,
          21.445032440545532,
          21.526815098784976,
          21.683334997135447,
          21.52320911156584,
          21.612418857062185,
          21.5230498975841,
          21.447327228191153,
          21.441830280094965,
          21.51564154016481,
          21.442452212613905,
          21.76558168498582,
          21.445757484034118,
          21.605038110546158,
          21.44258308608819,
          21.75283399264642,
          21.53347812772843,
          21.79560061132463,
          21.67818789874988,
          21.804003653358226,
          21.527570254935366,
          21.723878115752168,
          21.60356904121189,
          21.445292659750773,
          21.44344171010982,
          21.59697255046819,
          21.771400940229025,
          21.518445232091782,
          21.681521455962745,
          21.85204694359998,
          21.75878363256171,
          21.442292980757028,
          21.538670174404903,
          21.828139987843052,
          21.85204694359998,
          21.617177806418404,
          21.85204694359998,
          21.523312788996087,
          21.69787537463053,
          21.44490316759897,
          21.522500965835828,
          21.819124832048473,
          21.731753132310782,
          21.628787274216435,
          21.811741449134743,
          21.783012150616166,
          21.74917334168816,
          21.51500756744169,
          21.6198846832869,
          21.525271810503625,
          21.51322032683539,
          21.85204694359998,
          21.444406131785385,
          21.85204694359998,
          21.443874278755107,
          21.76960673629757,
          21.680767802618092,
          21.739587822836032,
          21.59853251792988,
          21.442795417406412,
          21.5263683291806,
          21.66218768567659,
          21.723932326982524,
          21.523974905572306,
          21.799142354697484,
          21.74411637263601,
          21.445028710472997,
          21.762566127713228,
          21.85204694359998,
          21.592453140496236,
          21.511653548404617,
          21.693125273203922,
          21.60016507820029,
          21.441866302549737,
          21.82057053172784,
          21.442973379000797,
          21.520966155484974,
          21.75683631912603,
          21.83838001371004,
          21.602992664176018,
          21.51896714726182,
          21.44693264645809,
          21.715284999633575,
          21.80663096088341,
          21.85204694359998,
          21.442245577113027,
          21.828148871287368,
          21.780307389542166,
          21.619722678085335,
          21.52363977759483,
          21.85204694359998,
          21.443437222869868,
          21.687572054862873,
          21.84644635202358,
          21.773736042343412,
          21.5769241920115,
          21.443622019364774,
          21.523884285922584,
          21.6211071443611,
          21.518417230495047,
          21.738091397264547,
          21.85204694359998,
          21.681460785560496,
          21.849143679694013,
          21.442381133509436,
          21.524651687646454,
          21.443210373202454,
          21.78817718912423,
          21.60452939132611,
          21.74314057409861,
          21.85204694359998,
          21.683655531867856,
          21.77673501247328,
          21.85204694359998,
          21.531115646057206,
          21.51372738282278,
          21.61501377522187,
          21.444811920734928,
          21.711276106217984,
          21.801565388980556,
          21.5277608177644,
          21.631329546201794,
          21.85204694359998,
          21.443008272847365,
          21.765384460460925,
          21.54063289660546,
          21.442457341156125,
          21.73831962402333,
          21.785706978457377,
          21.670728853852737,
          21.44220892407403,
          21.745980428120767,
          21.807414042998317,
          21.790581909903562,
          21.525752656049427,
          21.594852948807063,
          21.81235742400759,
          21.442858268940167,
          21.524487697598293,
          21.66622564673182,
          21.756956912415323,
          21.85204694359998,
          21.74951907653121,
          21.516075258248495,
          21.85204694359998,
          21.713609974626333,
          21.520462113485532,
          21.610872897236042,
          21.794093408947983,
          21.78128892372106,
          21.50954825802235,
          21.441986317566265,
          21.44219216065762,
          21.85204694359998,
          21.442003544376036,
          21.818336704720057,
          21.845262147758,
          21.603583721223043,
          21.77382948546699,
          21.69809168716295,
          21.574593185009608,
          21.512233662007784,
          21.85204694359998,
          21.85204694359998,
          21.85204694359998,
          21.833366690619304,
          21.443268061432168,
          21.654521107710814,
          21.740497643106462,
          21.516330999947126,
          21.443996021753794,
          21.728931817654725,
          21.587864109983652,
          21.771084448424165,
          21.514144983844123,
          21.677497133955004,
          21.51681680321366,
          21.4467150169742,
          21.85204694359998,
          21.443211526324244,
          21.620704603076817,
          21.74999096152801,
          21.585507531988544,
          21.442053872265628,
          21.85204694359998,
          21.71374643444269,
          21.525057946487053,
          21.679971696099074,
          21.52475350623015,
          21.44192096398676,
          21.441929806082566,
          21.832547272002078,
          21.588831973404194,
          21.827163463453093,
          21.776570343100207,
          21.849521039843747,
          21.53674167632914,
          21.739855041327626,
          21.755504700563485,
          21.672454518378554,
          21.85204694359998,
          21.514204865697344,
          21.805878896558756,
          21.44403160330831,
          21.600337963986675,
          21.762566073326344,
          21.782204712258512,
          21.51204333370992,
          21.85204694359998,
          21.44490841807629,
          21.72071903259854,
          21.657245728287144,
          21.85204694359998,
          21.580462983943573,
          21.443613437980456,
          21.51573333067378,
          21.763715732965718,
          21.820688067059535,
          21.68911729516915,
          21.580930863935876,
          21.442724379557113,
          21.844058701181883,
          21.756966434035846,
          21.5139963400726,
          21.60103924282869,
          21.44204335932002,
          21.787597138729033,
          21.85204694359998,
          21.71243841779452,
          21.766470876568246,
          21.761054191772484,
          21.517915267193274,
          21.85204694359998,
          21.670850627092122,
          21.815454801558268,
          21.85204694359998,
          21.85204694359998,
          21.541973297119775,
          21.515957792384068,
          21.442835866131038,
          21.85204694359998,
          21.7387188975876,
          21.74201643518323,
          21.747151445669985,
          21.85204694359998,
          21.85204694359998,
          21.838563238440447,
          21.85204694359998,
          21.85204694359998,
          21.607593509563234,
          21.85204694359998,
          21.77110187989083,
          21.44355916089141,
          21.66567306489811,
          21.526336842864556,
          21.44301626843005,
          21.605767798025827,
          21.523277117621593,
          21.85204694359998,
          21.801736420844886,
          21.714077689814033,
          21.529842968994277,
          21.667868816221294,
          21.51217961031897,
          21.796496927555047,
          21.75294838876219,
          21.603280820936696
         ]
        },
        {
         "mode": "lines",
         "name": "Best Value",
         "type": "scatter",
         "x": [
          0,
          1,
          2,
          3,
          4,
          5,
          6,
          7,
          8,
          9,
          10,
          11,
          12,
          13,
          14,
          15,
          16,
          17,
          18,
          19,
          20,
          21,
          22,
          23,
          24,
          25,
          26,
          27,
          28,
          29,
          30,
          31,
          32,
          33,
          34,
          35,
          36,
          37,
          38,
          39,
          40,
          41,
          42,
          43,
          44,
          45,
          46,
          47,
          48,
          49,
          50,
          51,
          52,
          53,
          54,
          55,
          56,
          57,
          58,
          59,
          60,
          61,
          62,
          63,
          64,
          65,
          66,
          67,
          68,
          69,
          70,
          71,
          72,
          73,
          74,
          75,
          76,
          77,
          78,
          79,
          80,
          81,
          82,
          83,
          84,
          85,
          86,
          87,
          88,
          89,
          90,
          91,
          92,
          93,
          94,
          95,
          96,
          97,
          98,
          99,
          100,
          101,
          102,
          103,
          104,
          105,
          106,
          107,
          108,
          109,
          110,
          111,
          112,
          113,
          114,
          115,
          116,
          117,
          118,
          119,
          120,
          121,
          122,
          123,
          124,
          125,
          126,
          127,
          128,
          129,
          130,
          131,
          132,
          133,
          134,
          135,
          136,
          137,
          138,
          139,
          140,
          141,
          142,
          143,
          144,
          145,
          146,
          147,
          148,
          149,
          150,
          151,
          152,
          153,
          154,
          155,
          156,
          157,
          158,
          159,
          160,
          161,
          162,
          163,
          164,
          165,
          166,
          167,
          168,
          169,
          170,
          171,
          172,
          173,
          174,
          175,
          176,
          177,
          178,
          179,
          180,
          181,
          182,
          183,
          184,
          185,
          186,
          187,
          188,
          189,
          190,
          191,
          192,
          193,
          194,
          195,
          196,
          197,
          198,
          199,
          200,
          201,
          202,
          203,
          204,
          205,
          206,
          207,
          208,
          209,
          210,
          211,
          212,
          213,
          214,
          215,
          216,
          217,
          218,
          219,
          220,
          221,
          222,
          223,
          224,
          225,
          226,
          227,
          228,
          229,
          230,
          231,
          232,
          233,
          234,
          235,
          236,
          237,
          238,
          239,
          240,
          241,
          242,
          243,
          244,
          245,
          246,
          247,
          248,
          249,
          250,
          251,
          252,
          253,
          254,
          255,
          256,
          257,
          258,
          259,
          260,
          261,
          262,
          263,
          264,
          265,
          266,
          267,
          268,
          269,
          270,
          271,
          272,
          273,
          274,
          275,
          276,
          277,
          278,
          279,
          280,
          281,
          282,
          283,
          284,
          285,
          286,
          287,
          288,
          289,
          290,
          291,
          292,
          293,
          294,
          295,
          296,
          297,
          298,
          299,
          300,
          301,
          302,
          303,
          304,
          305,
          306,
          307,
          308,
          309,
          310,
          311,
          312,
          313,
          314,
          315,
          316,
          317,
          318,
          319,
          320,
          321,
          322,
          323,
          324,
          325,
          326,
          327,
          328,
          329,
          330,
          331,
          332,
          333,
          334,
          335,
          336,
          337,
          338,
          339,
          340,
          341,
          342,
          343,
          344,
          345,
          346,
          347,
          348,
          349,
          350,
          351,
          352,
          353,
          354,
          355,
          356,
          357,
          358,
          359,
          360,
          361,
          362,
          363,
          364,
          365,
          366,
          367,
          368,
          369,
          370,
          371,
          372,
          373,
          374,
          375,
          376,
          377,
          378,
          379,
          380,
          381,
          382,
          383,
          384,
          385,
          386,
          387,
          388,
          389,
          390,
          391,
          392,
          393,
          394,
          395,
          396,
          397,
          398,
          399,
          400,
          401,
          402,
          403,
          404,
          405,
          406,
          407,
          408,
          409,
          410,
          411,
          412,
          413,
          414,
          415,
          416,
          417,
          418,
          419,
          420,
          421,
          422,
          423,
          424,
          425,
          426,
          427,
          428,
          429,
          430,
          431,
          432,
          433,
          434,
          435,
          436,
          437,
          438,
          439,
          440,
          441,
          442,
          443,
          444,
          445,
          446,
          447,
          448,
          449,
          450,
          451,
          452,
          453,
          454,
          455,
          456,
          457,
          458,
          459,
          460,
          461,
          462,
          463,
          464,
          465,
          466,
          467,
          468,
          469,
          470,
          471,
          472,
          473,
          474,
          475,
          476,
          477,
          478,
          479,
          480,
          481,
          482,
          483,
          484,
          485,
          486,
          487,
          488,
          489,
          490,
          491,
          492,
          493,
          494,
          495,
          496,
          497,
          498,
          499
         ],
         "y": [
          21.85204694359998,
          21.74480004476041,
          21.740634917239536,
          21.700524944194182,
          21.700524944194182,
          21.700524944194182,
          21.700524944194182,
          21.700524944194182,
          21.700524944194182,
          21.700524944194182,
          21.449505450083723,
          21.449505450083723,
          21.449505450083723,
          21.449505450083723,
          21.449505450083723,
          21.44384062721193,
          21.44384062721193,
          21.44384062721193,
          21.44384062721193,
          21.44384062721193,
          21.44384062721193,
          21.44384062721193,
          21.44384062721193,
          21.44384062721193,
          21.44384062721193,
          21.44384062721193,
          21.44384062721193,
          21.44384062721193,
          21.44384062721193,
          21.44384062721193,
          21.44384062721193,
          21.44384062721193,
          21.44384062721193,
          21.44384062721193,
          21.44384062721193,
          21.44384062721193,
          21.44384062721193,
          21.44384062721193,
          21.44384062721193,
          21.44384062721193,
          21.44384062721193,
          21.44384062721193,
          21.44384062721193,
          21.44384062721193,
          21.44384062721193,
          21.44384062721193,
          21.44384062721193,
          21.44384062721193,
          21.44384062721193,
          21.44384062721193,
          21.44384062721193,
          21.44384062721193,
          21.44384062721193,
          21.44384062721193,
          21.44384062721193,
          21.44384062721193,
          21.44384062721193,
          21.44384062721193,
          21.44384062721193,
          21.44384062721193,
          21.44384062721193,
          21.44384062721193,
          21.44384062721193,
          21.44384062721193,
          21.44384062721193,
          21.44384062721193,
          21.44384062721193,
          21.44384062721193,
          21.44384062721193,
          21.44384062721193,
          21.44384062721193,
          21.4437554327578,
          21.4437554327578,
          21.4437554327578,
          21.4437554327578,
          21.4437554327578,
          21.4437554327578,
          21.4437554327578,
          21.4437554327578,
          21.4437554327578,
          21.4437554327578,
          21.4437554327578,
          21.4437554327578,
          21.4437554327578,
          21.44230880580593,
          21.442179038200845,
          21.442179038200845,
          21.442179038200845,
          21.442179038200845,
          21.442179038200845,
          21.442179038200845,
          21.442179038200845,
          21.442179038200845,
          21.442179038200845,
          21.442179038200845,
          21.442179038200845,
          21.442179038200845,
          21.442179038200845,
          21.442179038200845,
          21.442179038200845,
          21.442179038200845,
          21.442179038200845,
          21.442179038200845,
          21.442179038200845,
          21.442179038200845,
          21.442179038200845,
          21.442179038200845,
          21.442179038200845,
          21.442179038200845,
          21.44191447737294,
          21.44191447737294,
          21.44191447737294,
          21.44191447737294,
          21.44191447737294,
          21.44191447737294,
          21.44191447737294,
          21.44191447737294,
          21.44191447737294,
          21.44191447737294,
          21.44191447737294,
          21.44191447737294,
          21.44191447737294,
          21.44191447737294,
          21.44191447737294,
          21.44191447737294,
          21.44191447737294,
          21.44191447737294,
          21.44191447737294,
          21.44191447737294,
          21.44191447737294,
          21.44191447737294,
          21.44191447737294,
          21.44191447737294,
          21.44191447737294,
          21.44191447737294,
          21.44191447737294,
          21.44191447737294,
          21.44191447737294,
          21.44191447737294,
          21.441806161725893,
          21.441806161725893,
          21.441806161725893,
          21.441806161725893,
          21.441806161725893,
          21.441806161725893,
          21.441806161725893,
          21.441806161725893,
          21.441806161725893,
          21.441806161725893,
          21.441806161725893,
          21.441806161725893,
          21.441806161725893,
          21.441806161725893,
          21.441806161725893,
          21.441806161725893,
          21.441806161725893,
          21.441806161725893,
          21.441806161725893,
          21.441806161725893,
          21.441806161725893,
          21.441806161725893,
          21.441806161725893,
          21.441806161725893,
          21.441806161725893,
          21.441806161725893,
          21.441806161725893,
          21.441806161725893,
          21.441806161725893,
          21.441806161725893,
          21.441806161725893,
          21.441806161725893,
          21.441806161725893,
          21.441806161725893,
          21.441806161725893,
          21.441806161725893,
          21.441806161725893,
          21.441806161725893,
          21.441806161725893,
          21.441806161725893,
          21.441806161725893,
          21.441806161725893,
          21.441806161725893,
          21.441806161725893,
          21.441806161725893,
          21.441806161725893,
          21.441806161725893,
          21.441806161725893,
          21.441806161725893,
          21.441806161725893,
          21.441806161725893,
          21.441806161725893,
          21.441806161725893,
          21.441806161725893,
          21.441806161725893,
          21.441806161725893,
          21.441806161725893,
          21.441806161725893,
          21.441806161725893,
          21.441806161725893,
          21.441806161725893,
          21.441806161725893,
          21.441806161725893,
          21.441806161725893,
          21.441806161725893,
          21.441806161725893,
          21.441806161725893,
          21.441806161725893,
          21.441806161725893,
          21.441806161725893,
          21.441806161725893,
          21.441806161725893,
          21.441806161725893,
          21.441806161725893,
          21.441806161725893,
          21.441806161725893,
          21.441806161725893,
          21.441806161725893,
          21.441806161725893,
          21.441806161725893,
          21.441806161725893,
          21.441806161725893,
          21.441806161725893,
          21.441806161725893,
          21.441806161725893,
          21.441806161725893,
          21.441806161725893,
          21.441806161725893,
          21.441806161725893,
          21.441806161725893,
          21.441806161725893,
          21.441806161725893,
          21.441806161725893,
          21.441806161725893,
          21.441806161725893,
          21.441806161725893,
          21.441806161725893,
          21.441806161725893,
          21.441806161725893,
          21.441806161725893,
          21.441806161725893,
          21.441806161725893,
          21.441806161725893,
          21.441806161725893,
          21.441806161725893,
          21.441806161725893,
          21.441806161725893,
          21.441806161725893,
          21.441806161725893,
          21.441806161725893,
          21.441806161725893,
          21.441806161725893,
          21.441806161725893,
          21.441806161725893,
          21.441806161725893,
          21.441806161725893,
          21.441806161725893,
          21.441806161725893,
          21.441806161725893,
          21.441806161725893,
          21.441806161725893,
          21.441806161725893,
          21.441806161725893,
          21.441806161725893,
          21.441806161725893,
          21.441806161725893,
          21.441806161725893,
          21.441806161725893,
          21.441806161725893,
          21.441806161725893,
          21.441806161725893,
          21.441806161725893,
          21.441806161725893,
          21.441806161725893,
          21.441806161725893,
          21.441806161725893,
          21.441806161725893,
          21.441806161725893,
          21.441806161725893,
          21.441806161725893,
          21.441806161725893,
          21.441806161725893,
          21.441806161725893,
          21.441806161725893,
          21.441806161725893,
          21.441806161725893,
          21.441806161725893,
          21.441806161725893,
          21.441806161725893,
          21.441806161725893,
          21.441806161725893,
          21.441806161725893,
          21.441806161725893,
          21.441806161725893,
          21.441806161725893,
          21.441806161725893,
          21.441806161725893,
          21.441806161725893,
          21.441806161725893,
          21.441806161725893,
          21.441806161725893,
          21.441806161725893,
          21.441806161725893,
          21.441806161725893,
          21.441806161725893,
          21.441806161725893,
          21.441806161725893,
          21.441806161725893,
          21.441806161725893,
          21.441806161725893,
          21.441806161725893,
          21.441806161725893,
          21.441806161725893,
          21.441806161725893,
          21.441806161725893,
          21.441806161725893,
          21.441806161725893,
          21.441806161725893,
          21.441806161725893,
          21.441806161725893,
          21.441806161725893,
          21.441806161725893,
          21.441806161725893,
          21.441806161725893,
          21.441806161725893,
          21.441806161725893,
          21.441806161725893,
          21.441806161725893,
          21.441806161725893,
          21.441806161725893,
          21.441806161725893,
          21.441806161725893,
          21.441806161725893,
          21.441806161725893,
          21.441806161725893,
          21.441806161725893,
          21.441806161725893,
          21.441806161725893,
          21.441806161725893,
          21.441806161725893,
          21.441806161725893,
          21.441806161725893,
          21.441806161725893,
          21.441806161725893,
          21.441806161725893,
          21.441806161725893,
          21.441806161725893,
          21.441806161725893,
          21.441806161725893,
          21.441806161725893,
          21.441806161725893,
          21.441806161725893,
          21.441806161725893,
          21.441806161725893,
          21.441806161725893,
          21.441806161725893,
          21.441806161725893,
          21.441806161725893,
          21.441806161725893,
          21.441806161725893,
          21.441806161725893,
          21.441806161725893,
          21.441806161725893,
          21.441806161725893,
          21.441806161725893,
          21.441806161725893,
          21.441806161725893,
          21.441806161725893,
          21.441806161725893,
          21.441806161725893,
          21.441806161725893,
          21.441806161725893,
          21.441806161725893,
          21.441806161725893,
          21.441806161725893,
          21.441806161725893,
          21.441806161725893,
          21.441806161725893,
          21.441806161725893,
          21.441806161725893,
          21.441806161725893,
          21.441806161725893,
          21.441806161725893,
          21.441806161725893,
          21.441806161725893,
          21.441806161725893,
          21.441806161725893,
          21.441806161725893,
          21.441806161725893,
          21.441806161725893,
          21.441806161725893,
          21.441806161725893,
          21.441806161725893,
          21.441806161725893,
          21.441806161725893,
          21.441806161725893,
          21.441806161725893,
          21.441806161725893,
          21.441806161725893,
          21.441806161725893,
          21.441806161725893,
          21.441806161725893,
          21.441806161725893,
          21.441806161725893,
          21.441806161725893,
          21.441806161725893,
          21.441806161725893,
          21.441806161725893,
          21.441806161725893,
          21.441806161725893,
          21.441806161725893,
          21.441806161725893,
          21.441806161725893,
          21.441806161725893,
          21.441806161725893,
          21.441806161725893,
          21.441806161725893,
          21.441806161725893,
          21.441806161725893,
          21.441806161725893,
          21.441806161725893,
          21.441806161725893,
          21.441806161725893,
          21.441806161725893,
          21.441806161725893,
          21.441806161725893,
          21.441806161725893,
          21.441806161725893,
          21.441806161725893,
          21.441806161725893,
          21.441806161725893,
          21.441806161725893,
          21.441806161725893,
          21.441806161725893,
          21.441806161725893,
          21.441806161725893,
          21.441806161725893,
          21.441806161725893,
          21.441806161725893,
          21.441806161725893,
          21.441806161725893,
          21.441806161725893,
          21.441806161725893,
          21.441806161725893,
          21.441806161725893,
          21.441806161725893,
          21.441806161725893,
          21.441806161725893,
          21.441806161725893,
          21.441806161725893,
          21.441806161725893,
          21.441806161725893,
          21.441806161725893,
          21.441806161725893,
          21.441806161725893,
          21.441806161725893,
          21.441806161725893,
          21.441806161725893,
          21.441806161725893,
          21.441806161725893,
          21.441806161725893,
          21.441806161725893,
          21.441806161725893,
          21.441806161725893,
          21.441806161725893,
          21.441806161725893,
          21.441806161725893,
          21.441806161725893,
          21.441806161725893,
          21.441806161725893,
          21.441806161725893,
          21.441806161725893,
          21.441806161725893,
          21.441806161725893,
          21.441806161725893,
          21.441806161725893,
          21.441806161725893,
          21.441806161725893,
          21.441806161725893,
          21.441806161725893,
          21.441806161725893,
          21.441806161725893,
          21.441806161725893,
          21.441806161725893,
          21.441806161725893,
          21.441806161725893,
          21.441806161725893,
          21.441806161725893,
          21.441806161725893,
          21.441806161725893,
          21.441806161725893,
          21.441806161725893,
          21.441806161725893,
          21.441806161725893,
          21.441806161725893,
          21.441806161725893,
          21.441806161725893,
          21.441806161725893,
          21.441806161725893,
          21.441806161725893,
          21.441806161725893
         ]
        },
        {
         "marker": {
          "color": "#cccccc"
         },
         "mode": "markers",
         "name": "Infeasible Trial",
         "showlegend": false,
         "type": "scatter",
         "x": [],
         "y": []
        }
       ],
       "layout": {
        "template": {
         "data": {
          "bar": [
           {
            "error_x": {
             "color": "#2a3f5f"
            },
            "error_y": {
             "color": "#2a3f5f"
            },
            "marker": {
             "line": {
              "color": "#E5ECF6",
              "width": 0.5
             },
             "pattern": {
              "fillmode": "overlay",
              "size": 10,
              "solidity": 0.2
             }
            },
            "type": "bar"
           }
          ],
          "barpolar": [
           {
            "marker": {
             "line": {
              "color": "#E5ECF6",
              "width": 0.5
             },
             "pattern": {
              "fillmode": "overlay",
              "size": 10,
              "solidity": 0.2
             }
            },
            "type": "barpolar"
           }
          ],
          "carpet": [
           {
            "aaxis": {
             "endlinecolor": "#2a3f5f",
             "gridcolor": "white",
             "linecolor": "white",
             "minorgridcolor": "white",
             "startlinecolor": "#2a3f5f"
            },
            "baxis": {
             "endlinecolor": "#2a3f5f",
             "gridcolor": "white",
             "linecolor": "white",
             "minorgridcolor": "white",
             "startlinecolor": "#2a3f5f"
            },
            "type": "carpet"
           }
          ],
          "choropleth": [
           {
            "colorbar": {
             "outlinewidth": 0,
             "ticks": ""
            },
            "type": "choropleth"
           }
          ],
          "contour": [
           {
            "colorbar": {
             "outlinewidth": 0,
             "ticks": ""
            },
            "colorscale": [
             [
              0,
              "#0d0887"
             ],
             [
              0.1111111111111111,
              "#46039f"
             ],
             [
              0.2222222222222222,
              "#7201a8"
             ],
             [
              0.3333333333333333,
              "#9c179e"
             ],
             [
              0.4444444444444444,
              "#bd3786"
             ],
             [
              0.5555555555555556,
              "#d8576b"
             ],
             [
              0.6666666666666666,
              "#ed7953"
             ],
             [
              0.7777777777777778,
              "#fb9f3a"
             ],
             [
              0.8888888888888888,
              "#fdca26"
             ],
             [
              1,
              "#f0f921"
             ]
            ],
            "type": "contour"
           }
          ],
          "contourcarpet": [
           {
            "colorbar": {
             "outlinewidth": 0,
             "ticks": ""
            },
            "type": "contourcarpet"
           }
          ],
          "heatmap": [
           {
            "colorbar": {
             "outlinewidth": 0,
             "ticks": ""
            },
            "colorscale": [
             [
              0,
              "#0d0887"
             ],
             [
              0.1111111111111111,
              "#46039f"
             ],
             [
              0.2222222222222222,
              "#7201a8"
             ],
             [
              0.3333333333333333,
              "#9c179e"
             ],
             [
              0.4444444444444444,
              "#bd3786"
             ],
             [
              0.5555555555555556,
              "#d8576b"
             ],
             [
              0.6666666666666666,
              "#ed7953"
             ],
             [
              0.7777777777777778,
              "#fb9f3a"
             ],
             [
              0.8888888888888888,
              "#fdca26"
             ],
             [
              1,
              "#f0f921"
             ]
            ],
            "type": "heatmap"
           }
          ],
          "heatmapgl": [
           {
            "colorbar": {
             "outlinewidth": 0,
             "ticks": ""
            },
            "colorscale": [
             [
              0,
              "#0d0887"
             ],
             [
              0.1111111111111111,
              "#46039f"
             ],
             [
              0.2222222222222222,
              "#7201a8"
             ],
             [
              0.3333333333333333,
              "#9c179e"
             ],
             [
              0.4444444444444444,
              "#bd3786"
             ],
             [
              0.5555555555555556,
              "#d8576b"
             ],
             [
              0.6666666666666666,
              "#ed7953"
             ],
             [
              0.7777777777777778,
              "#fb9f3a"
             ],
             [
              0.8888888888888888,
              "#fdca26"
             ],
             [
              1,
              "#f0f921"
             ]
            ],
            "type": "heatmapgl"
           }
          ],
          "histogram": [
           {
            "marker": {
             "pattern": {
              "fillmode": "overlay",
              "size": 10,
              "solidity": 0.2
             }
            },
            "type": "histogram"
           }
          ],
          "histogram2d": [
           {
            "colorbar": {
             "outlinewidth": 0,
             "ticks": ""
            },
            "colorscale": [
             [
              0,
              "#0d0887"
             ],
             [
              0.1111111111111111,
              "#46039f"
             ],
             [
              0.2222222222222222,
              "#7201a8"
             ],
             [
              0.3333333333333333,
              "#9c179e"
             ],
             [
              0.4444444444444444,
              "#bd3786"
             ],
             [
              0.5555555555555556,
              "#d8576b"
             ],
             [
              0.6666666666666666,
              "#ed7953"
             ],
             [
              0.7777777777777778,
              "#fb9f3a"
             ],
             [
              0.8888888888888888,
              "#fdca26"
             ],
             [
              1,
              "#f0f921"
             ]
            ],
            "type": "histogram2d"
           }
          ],
          "histogram2dcontour": [
           {
            "colorbar": {
             "outlinewidth": 0,
             "ticks": ""
            },
            "colorscale": [
             [
              0,
              "#0d0887"
             ],
             [
              0.1111111111111111,
              "#46039f"
             ],
             [
              0.2222222222222222,
              "#7201a8"
             ],
             [
              0.3333333333333333,
              "#9c179e"
             ],
             [
              0.4444444444444444,
              "#bd3786"
             ],
             [
              0.5555555555555556,
              "#d8576b"
             ],
             [
              0.6666666666666666,
              "#ed7953"
             ],
             [
              0.7777777777777778,
              "#fb9f3a"
             ],
             [
              0.8888888888888888,
              "#fdca26"
             ],
             [
              1,
              "#f0f921"
             ]
            ],
            "type": "histogram2dcontour"
           }
          ],
          "mesh3d": [
           {
            "colorbar": {
             "outlinewidth": 0,
             "ticks": ""
            },
            "type": "mesh3d"
           }
          ],
          "parcoords": [
           {
            "line": {
             "colorbar": {
              "outlinewidth": 0,
              "ticks": ""
             }
            },
            "type": "parcoords"
           }
          ],
          "pie": [
           {
            "automargin": true,
            "type": "pie"
           }
          ],
          "scatter": [
           {
            "fillpattern": {
             "fillmode": "overlay",
             "size": 10,
             "solidity": 0.2
            },
            "type": "scatter"
           }
          ],
          "scatter3d": [
           {
            "line": {
             "colorbar": {
              "outlinewidth": 0,
              "ticks": ""
             }
            },
            "marker": {
             "colorbar": {
              "outlinewidth": 0,
              "ticks": ""
             }
            },
            "type": "scatter3d"
           }
          ],
          "scattercarpet": [
           {
            "marker": {
             "colorbar": {
              "outlinewidth": 0,
              "ticks": ""
             }
            },
            "type": "scattercarpet"
           }
          ],
          "scattergeo": [
           {
            "marker": {
             "colorbar": {
              "outlinewidth": 0,
              "ticks": ""
             }
            },
            "type": "scattergeo"
           }
          ],
          "scattergl": [
           {
            "marker": {
             "colorbar": {
              "outlinewidth": 0,
              "ticks": ""
             }
            },
            "type": "scattergl"
           }
          ],
          "scattermapbox": [
           {
            "marker": {
             "colorbar": {
              "outlinewidth": 0,
              "ticks": ""
             }
            },
            "type": "scattermapbox"
           }
          ],
          "scatterpolar": [
           {
            "marker": {
             "colorbar": {
              "outlinewidth": 0,
              "ticks": ""
             }
            },
            "type": "scatterpolar"
           }
          ],
          "scatterpolargl": [
           {
            "marker": {
             "colorbar": {
              "outlinewidth": 0,
              "ticks": ""
             }
            },
            "type": "scatterpolargl"
           }
          ],
          "scatterternary": [
           {
            "marker": {
             "colorbar": {
              "outlinewidth": 0,
              "ticks": ""
             }
            },
            "type": "scatterternary"
           }
          ],
          "surface": [
           {
            "colorbar": {
             "outlinewidth": 0,
             "ticks": ""
            },
            "colorscale": [
             [
              0,
              "#0d0887"
             ],
             [
              0.1111111111111111,
              "#46039f"
             ],
             [
              0.2222222222222222,
              "#7201a8"
             ],
             [
              0.3333333333333333,
              "#9c179e"
             ],
             [
              0.4444444444444444,
              "#bd3786"
             ],
             [
              0.5555555555555556,
              "#d8576b"
             ],
             [
              0.6666666666666666,
              "#ed7953"
             ],
             [
              0.7777777777777778,
              "#fb9f3a"
             ],
             [
              0.8888888888888888,
              "#fdca26"
             ],
             [
              1,
              "#f0f921"
             ]
            ],
            "type": "surface"
           }
          ],
          "table": [
           {
            "cells": {
             "fill": {
              "color": "#EBF0F8"
             },
             "line": {
              "color": "white"
             }
            },
            "header": {
             "fill": {
              "color": "#C8D4E3"
             },
             "line": {
              "color": "white"
             }
            },
            "type": "table"
           }
          ]
         },
         "layout": {
          "annotationdefaults": {
           "arrowcolor": "#2a3f5f",
           "arrowhead": 0,
           "arrowwidth": 1
          },
          "autotypenumbers": "strict",
          "coloraxis": {
           "colorbar": {
            "outlinewidth": 0,
            "ticks": ""
           }
          },
          "colorscale": {
           "diverging": [
            [
             0,
             "#8e0152"
            ],
            [
             0.1,
             "#c51b7d"
            ],
            [
             0.2,
             "#de77ae"
            ],
            [
             0.3,
             "#f1b6da"
            ],
            [
             0.4,
             "#fde0ef"
            ],
            [
             0.5,
             "#f7f7f7"
            ],
            [
             0.6,
             "#e6f5d0"
            ],
            [
             0.7,
             "#b8e186"
            ],
            [
             0.8,
             "#7fbc41"
            ],
            [
             0.9,
             "#4d9221"
            ],
            [
             1,
             "#276419"
            ]
           ],
           "sequential": [
            [
             0,
             "#0d0887"
            ],
            [
             0.1111111111111111,
             "#46039f"
            ],
            [
             0.2222222222222222,
             "#7201a8"
            ],
            [
             0.3333333333333333,
             "#9c179e"
            ],
            [
             0.4444444444444444,
             "#bd3786"
            ],
            [
             0.5555555555555556,
             "#d8576b"
            ],
            [
             0.6666666666666666,
             "#ed7953"
            ],
            [
             0.7777777777777778,
             "#fb9f3a"
            ],
            [
             0.8888888888888888,
             "#fdca26"
            ],
            [
             1,
             "#f0f921"
            ]
           ],
           "sequentialminus": [
            [
             0,
             "#0d0887"
            ],
            [
             0.1111111111111111,
             "#46039f"
            ],
            [
             0.2222222222222222,
             "#7201a8"
            ],
            [
             0.3333333333333333,
             "#9c179e"
            ],
            [
             0.4444444444444444,
             "#bd3786"
            ],
            [
             0.5555555555555556,
             "#d8576b"
            ],
            [
             0.6666666666666666,
             "#ed7953"
            ],
            [
             0.7777777777777778,
             "#fb9f3a"
            ],
            [
             0.8888888888888888,
             "#fdca26"
            ],
            [
             1,
             "#f0f921"
            ]
           ]
          },
          "colorway": [
           "#636efa",
           "#EF553B",
           "#00cc96",
           "#ab63fa",
           "#FFA15A",
           "#19d3f3",
           "#FF6692",
           "#B6E880",
           "#FF97FF",
           "#FECB52"
          ],
          "font": {
           "color": "#2a3f5f"
          },
          "geo": {
           "bgcolor": "white",
           "lakecolor": "white",
           "landcolor": "#E5ECF6",
           "showlakes": true,
           "showland": true,
           "subunitcolor": "white"
          },
          "hoverlabel": {
           "align": "left"
          },
          "hovermode": "closest",
          "mapbox": {
           "style": "light"
          },
          "paper_bgcolor": "white",
          "plot_bgcolor": "#E5ECF6",
          "polar": {
           "angularaxis": {
            "gridcolor": "white",
            "linecolor": "white",
            "ticks": ""
           },
           "bgcolor": "#E5ECF6",
           "radialaxis": {
            "gridcolor": "white",
            "linecolor": "white",
            "ticks": ""
           }
          },
          "scene": {
           "xaxis": {
            "backgroundcolor": "#E5ECF6",
            "gridcolor": "white",
            "gridwidth": 2,
            "linecolor": "white",
            "showbackground": true,
            "ticks": "",
            "zerolinecolor": "white"
           },
           "yaxis": {
            "backgroundcolor": "#E5ECF6",
            "gridcolor": "white",
            "gridwidth": 2,
            "linecolor": "white",
            "showbackground": true,
            "ticks": "",
            "zerolinecolor": "white"
           },
           "zaxis": {
            "backgroundcolor": "#E5ECF6",
            "gridcolor": "white",
            "gridwidth": 2,
            "linecolor": "white",
            "showbackground": true,
            "ticks": "",
            "zerolinecolor": "white"
           }
          },
          "shapedefaults": {
           "line": {
            "color": "#2a3f5f"
           }
          },
          "ternary": {
           "aaxis": {
            "gridcolor": "white",
            "linecolor": "white",
            "ticks": ""
           },
           "baxis": {
            "gridcolor": "white",
            "linecolor": "white",
            "ticks": ""
           },
           "bgcolor": "#E5ECF6",
           "caxis": {
            "gridcolor": "white",
            "linecolor": "white",
            "ticks": ""
           }
          },
          "title": {
           "x": 0.05
          },
          "xaxis": {
           "automargin": true,
           "gridcolor": "white",
           "linecolor": "white",
           "ticks": "",
           "title": {
            "standoff": 15
           },
           "zerolinecolor": "white",
           "zerolinewidth": 2
          },
          "yaxis": {
           "automargin": true,
           "gridcolor": "white",
           "linecolor": "white",
           "ticks": "",
           "title": {
            "standoff": 15
           },
           "zerolinecolor": "white",
           "zerolinewidth": 2
          }
         }
        },
        "title": {
         "text": "Optimization History Plot"
        },
        "xaxis": {
         "title": {
          "text": "Trial"
         }
        },
        "yaxis": {
         "title": {
          "text": "Objective Value"
         }
        }
       }
      },
      "text/html": [
       "<div>                        <script type=\"text/javascript\">window.PlotlyConfig = {MathJaxConfig: 'local'};</script>\n",
       "        <script charset=\"utf-8\" src=\"https://cdn.plot.ly/plotly-2.25.2.min.js\"></script>                <div id=\"9df93923-cdfe-4337-9e58-3ab9ee4886ba\" class=\"plotly-graph-div\" style=\"height:100%; width:100%;\"></div>            <script type=\"text/javascript\">                                    window.PLOTLYENV=window.PLOTLYENV || {};                                    if (document.getElementById(\"9df93923-cdfe-4337-9e58-3ab9ee4886ba\")) {                    Plotly.newPlot(                        \"9df93923-cdfe-4337-9e58-3ab9ee4886ba\",                        [{\"mode\":\"markers\",\"name\":\"Objective Value\",\"x\":[0,1,2,3,4,5,6,7,8,9,10,11,12,13,14,15,16,17,18,19,20,21,22,23,24,25,26,27,28,29,30,31,32,33,34,35,36,37,38,39,40,41,42,43,44,45,46,47,48,49,50,51,52,53,54,55,56,57,58,59,60,61,62,63,64,65,66,67,68,69,70,71,72,73,74,75,76,77,78,79,80,81,82,83,84,85,86,87,88,89,90,91,92,93,94,95,96,97,98,99,100,101,102,103,104,105,106,107,108,109,110,111,112,113,114,115,116,117,118,119,120,121,122,123,124,125,126,127,128,129,130,131,132,133,134,135,136,137,138,139,140,141,142,143,144,145,146,147,148,149,150,151,152,153,154,155,156,157,158,159,160,161,162,163,164,165,166,167,168,169,170,171,172,173,174,175,176,177,178,179,180,181,182,183,184,185,186,187,188,189,190,191,192,193,194,195,196,197,198,199,200,201,202,203,204,205,206,207,208,209,210,211,212,213,214,215,216,217,218,219,220,221,222,223,224,225,226,227,228,229,230,231,232,233,234,235,236,237,238,239,240,241,242,243,244,245,246,247,248,249,250,251,252,253,254,255,256,257,258,259,260,261,262,263,264,265,266,267,268,269,270,271,272,273,274,275,276,277,278,279,280,281,282,283,284,285,286,287,288,289,290,291,292,293,294,295,296,297,298,299,300,301,302,303,304,305,306,307,308,309,310,311,312,313,314,315,316,317,318,319,320,321,322,323,324,325,326,327,328,329,330,331,332,333,334,335,336,337,338,339,340,341,342,343,344,345,346,347,348,349,350,351,352,353,354,355,356,357,358,359,360,361,362,363,364,365,366,367,368,369,370,371,372,373,374,375,376,377,378,379,380,381,382,383,384,385,386,387,388,389,390,391,392,393,394,395,396,397,398,399,400,401,402,403,404,405,406,407,408,409,410,411,412,413,414,415,416,417,418,419,420,421,422,423,424,425,426,427,428,429,430,431,432,433,434,435,436,437,438,439,440,441,442,443,444,445,446,447,448,449,450,451,452,453,454,455,456,457,458,459,460,461,462,463,464,465,466,467,468,469,470,471,472,473,474,475,476,477,478,479,480,481,482,483,484,485,486,487,488,489,490,491,492,493,494,495,496,497,498,499],\"y\":[21.85204694359998,21.74480004476041,21.740634917239536,21.700524944194182,21.85204694359998,21.752096578817593,21.85204694359998,21.85204694359998,21.775506065278396,21.85204694359998,21.449505450083723,21.48839694719949,21.451762634024877,21.78538986770775,21.78199389059794,21.44384062721193,21.812733926098378,21.761544350348895,21.500555769735083,21.811033467319415,21.75615369512002,21.466225472078992,21.484956276730557,21.747931075204846,21.766154610431617,21.72128882216169,21.47096916924099,21.764426111854142,21.73920180733663,21.802727742463148,21.838789045357018,21.46989262538273,21.731094628761642,21.74967382595531,21.706591255823174,21.724535902586375,21.755452490278735,21.766792483957936,21.704310902842245,21.75217617945111,21.673264552561907,21.51941145020598,21.457156568360706,21.743637221301576,21.667362413787657,21.746292685796966,21.777652126247606,21.446230116628335,21.759359307510003,21.741788898302286,21.666719161125414,21.448292697242888,21.447517955263205,21.620064229890044,21.444581097119006,21.742258969857712,21.650357608280654,21.757315147473662,21.770917889114685,21.741213636221634,21.450421649152137,21.577313362004073,21.458371197198126,21.60920898448725,21.738164778926546,21.456570226585814,21.760275194722492,21.645821955190318,21.73031338913722,21.75009888785194,21.580562744799842,21.4437554327578,21.71561125698378,21.743257422940758,21.570243733987166,21.454540359528952,21.71552960240326,21.57781913898866,21.448632596843094,21.745894176022194,21.753879304475557,21.55287697773872,21.44573882471646,21.712862760292317,21.44230880580593,21.442179038200845,21.68919989448785,21.73911792729782,21.561886738851303,21.695907431465578,21.548238086999255,21.45476611039889,21.668065685120418,21.44733587085045,21.739309450894513,21.543963590425456,21.748295385962688,21.67130129250097,21.54067747088386,21.738227414519017,21.743697047235067,21.45129004143495,21.446671017017277,21.667919870800894,21.552769753445087,21.737488436139333,21.545781719072654,21.68161574602422,21.490999372230196,21.44191447737294,21.711340115142754,21.51959628046731,21.44201370728181,21.640355003396326,21.633110498998985,21.44497256415162,21.441948139897793,21.720898430051538,21.7416662525852,21.75444729107696,21.53606853501644,21.448254422756364,21.613357513440494,21.506457157654847,21.691650470808288,21.44328831884518,21.64146450820301,21.531170961084854,21.71320833216371,21.44325412661662,21.740651414563555,21.522080052631875,21.44910454494355,21.600261513227053,21.442763160815158,21.67053113179406,21.734278581350264,21.559569085134,21.85204694359998,21.441806161725893,21.692533060975496,21.548082143734646,21.443752270338525,21.44599316482069,21.617986979162104,21.510479577428818,21.65012744959273,21.530979640780632,21.4469268134492,21.716964122119588,21.74453916755107,21.443573675272717,21.521729860581747,21.61908273664333,21.51719921110255,21.450303507580635,21.442897417079113,21.685616264593154,21.78673405309715,21.617131528814653,21.717708376344305,21.449678410664347,21.54049333414101,21.520660954304432,21.44219433737779,21.442163885033498,21.62336596002733,21.68884459564544,21.537024413774105,21.62241316597503,21.740253672990267,21.514902533779075,21.46247754629016,21.442156265654813,21.44181730939286,21.443669568542077,21.443402739625164,21.603835090389204,21.67989778458719,21.444759379147644,21.761797283716554,21.535556280389486,21.44267458505611,21.443880176981033,21.556440154636128,21.534023131122815,21.659831815571863,21.8363654161632,21.85204694359998,21.725084592296128,21.51915261458999,21.445501423414417,21.44537706816569,21.603497240037772,21.5454327040189,21.524562562280398,21.68302417678475,21.62596472399121,21.44407231743257,21.443047779978457,21.529509339405713,21.44537188337696,21.52364430930919,21.630124463345474,21.519222502093747,21.442829138535444,21.69767445482303,21.776744637850165,21.446232710753662,21.59626982920732,21.548586451557348,21.501265121431512,21.769883374445662,21.447201637779315,21.446886645592166,21.624323174294727,21.51906766002625,21.683064903932348,21.787448714784734,21.51900265202406,21.44349346594848,21.442741848158143,21.447125492082364,21.443052632531987,21.59393995728366,21.52933320438159,21.445205461307438,21.61020506855707,21.761926332187834,21.442072372331985,21.526180016543506,21.52444631688878,21.446580214658695,21.60732948287133,21.445032440545532,21.526815098784976,21.683334997135447,21.52320911156584,21.612418857062185,21.5230498975841,21.447327228191153,21.441830280094965,21.51564154016481,21.442452212613905,21.76558168498582,21.445757484034118,21.605038110546158,21.44258308608819,21.75283399264642,21.53347812772843,21.79560061132463,21.67818789874988,21.804003653358226,21.527570254935366,21.723878115752168,21.60356904121189,21.445292659750773,21.44344171010982,21.59697255046819,21.771400940229025,21.518445232091782,21.681521455962745,21.85204694359998,21.75878363256171,21.442292980757028,21.538670174404903,21.828139987843052,21.85204694359998,21.617177806418404,21.85204694359998,21.523312788996087,21.69787537463053,21.44490316759897,21.522500965835828,21.819124832048473,21.731753132310782,21.628787274216435,21.811741449134743,21.783012150616166,21.74917334168816,21.51500756744169,21.6198846832869,21.525271810503625,21.51322032683539,21.85204694359998,21.444406131785385,21.85204694359998,21.443874278755107,21.76960673629757,21.680767802618092,21.739587822836032,21.59853251792988,21.442795417406412,21.5263683291806,21.66218768567659,21.723932326982524,21.523974905572306,21.799142354697484,21.74411637263601,21.445028710472997,21.762566127713228,21.85204694359998,21.592453140496236,21.511653548404617,21.693125273203922,21.60016507820029,21.441866302549737,21.82057053172784,21.442973379000797,21.520966155484974,21.75683631912603,21.83838001371004,21.602992664176018,21.51896714726182,21.44693264645809,21.715284999633575,21.80663096088341,21.85204694359998,21.442245577113027,21.828148871287368,21.780307389542166,21.619722678085335,21.52363977759483,21.85204694359998,21.443437222869868,21.687572054862873,21.84644635202358,21.773736042343412,21.5769241920115,21.443622019364774,21.523884285922584,21.6211071443611,21.518417230495047,21.738091397264547,21.85204694359998,21.681460785560496,21.849143679694013,21.442381133509436,21.524651687646454,21.443210373202454,21.78817718912423,21.60452939132611,21.74314057409861,21.85204694359998,21.683655531867856,21.77673501247328,21.85204694359998,21.531115646057206,21.51372738282278,21.61501377522187,21.444811920734928,21.711276106217984,21.801565388980556,21.5277608177644,21.631329546201794,21.85204694359998,21.443008272847365,21.765384460460925,21.54063289660546,21.442457341156125,21.73831962402333,21.785706978457377,21.670728853852737,21.44220892407403,21.745980428120767,21.807414042998317,21.790581909903562,21.525752656049427,21.594852948807063,21.81235742400759,21.442858268940167,21.524487697598293,21.66622564673182,21.756956912415323,21.85204694359998,21.74951907653121,21.516075258248495,21.85204694359998,21.713609974626333,21.520462113485532,21.610872897236042,21.794093408947983,21.78128892372106,21.50954825802235,21.441986317566265,21.44219216065762,21.85204694359998,21.442003544376036,21.818336704720057,21.845262147758,21.603583721223043,21.77382948546699,21.69809168716295,21.574593185009608,21.512233662007784,21.85204694359998,21.85204694359998,21.85204694359998,21.833366690619304,21.443268061432168,21.654521107710814,21.740497643106462,21.516330999947126,21.443996021753794,21.728931817654725,21.587864109983652,21.771084448424165,21.514144983844123,21.677497133955004,21.51681680321366,21.4467150169742,21.85204694359998,21.443211526324244,21.620704603076817,21.74999096152801,21.585507531988544,21.442053872265628,21.85204694359998,21.71374643444269,21.525057946487053,21.679971696099074,21.52475350623015,21.44192096398676,21.441929806082566,21.832547272002078,21.588831973404194,21.827163463453093,21.776570343100207,21.849521039843747,21.53674167632914,21.739855041327626,21.755504700563485,21.672454518378554,21.85204694359998,21.514204865697344,21.805878896558756,21.44403160330831,21.600337963986675,21.762566073326344,21.782204712258512,21.51204333370992,21.85204694359998,21.44490841807629,21.72071903259854,21.657245728287144,21.85204694359998,21.580462983943573,21.443613437980456,21.51573333067378,21.763715732965718,21.820688067059535,21.68911729516915,21.580930863935876,21.442724379557113,21.844058701181883,21.756966434035846,21.5139963400726,21.60103924282869,21.44204335932002,21.787597138729033,21.85204694359998,21.71243841779452,21.766470876568246,21.761054191772484,21.517915267193274,21.85204694359998,21.670850627092122,21.815454801558268,21.85204694359998,21.85204694359998,21.541973297119775,21.515957792384068,21.442835866131038,21.85204694359998,21.7387188975876,21.74201643518323,21.747151445669985,21.85204694359998,21.85204694359998,21.838563238440447,21.85204694359998,21.85204694359998,21.607593509563234,21.85204694359998,21.77110187989083,21.44355916089141,21.66567306489811,21.526336842864556,21.44301626843005,21.605767798025827,21.523277117621593,21.85204694359998,21.801736420844886,21.714077689814033,21.529842968994277,21.667868816221294,21.51217961031897,21.796496927555047,21.75294838876219,21.603280820936696],\"type\":\"scatter\"},{\"mode\":\"lines\",\"name\":\"Best Value\",\"x\":[0,1,2,3,4,5,6,7,8,9,10,11,12,13,14,15,16,17,18,19,20,21,22,23,24,25,26,27,28,29,30,31,32,33,34,35,36,37,38,39,40,41,42,43,44,45,46,47,48,49,50,51,52,53,54,55,56,57,58,59,60,61,62,63,64,65,66,67,68,69,70,71,72,73,74,75,76,77,78,79,80,81,82,83,84,85,86,87,88,89,90,91,92,93,94,95,96,97,98,99,100,101,102,103,104,105,106,107,108,109,110,111,112,113,114,115,116,117,118,119,120,121,122,123,124,125,126,127,128,129,130,131,132,133,134,135,136,137,138,139,140,141,142,143,144,145,146,147,148,149,150,151,152,153,154,155,156,157,158,159,160,161,162,163,164,165,166,167,168,169,170,171,172,173,174,175,176,177,178,179,180,181,182,183,184,185,186,187,188,189,190,191,192,193,194,195,196,197,198,199,200,201,202,203,204,205,206,207,208,209,210,211,212,213,214,215,216,217,218,219,220,221,222,223,224,225,226,227,228,229,230,231,232,233,234,235,236,237,238,239,240,241,242,243,244,245,246,247,248,249,250,251,252,253,254,255,256,257,258,259,260,261,262,263,264,265,266,267,268,269,270,271,272,273,274,275,276,277,278,279,280,281,282,283,284,285,286,287,288,289,290,291,292,293,294,295,296,297,298,299,300,301,302,303,304,305,306,307,308,309,310,311,312,313,314,315,316,317,318,319,320,321,322,323,324,325,326,327,328,329,330,331,332,333,334,335,336,337,338,339,340,341,342,343,344,345,346,347,348,349,350,351,352,353,354,355,356,357,358,359,360,361,362,363,364,365,366,367,368,369,370,371,372,373,374,375,376,377,378,379,380,381,382,383,384,385,386,387,388,389,390,391,392,393,394,395,396,397,398,399,400,401,402,403,404,405,406,407,408,409,410,411,412,413,414,415,416,417,418,419,420,421,422,423,424,425,426,427,428,429,430,431,432,433,434,435,436,437,438,439,440,441,442,443,444,445,446,447,448,449,450,451,452,453,454,455,456,457,458,459,460,461,462,463,464,465,466,467,468,469,470,471,472,473,474,475,476,477,478,479,480,481,482,483,484,485,486,487,488,489,490,491,492,493,494,495,496,497,498,499],\"y\":[21.85204694359998,21.74480004476041,21.740634917239536,21.700524944194182,21.700524944194182,21.700524944194182,21.700524944194182,21.700524944194182,21.700524944194182,21.700524944194182,21.449505450083723,21.449505450083723,21.449505450083723,21.449505450083723,21.449505450083723,21.44384062721193,21.44384062721193,21.44384062721193,21.44384062721193,21.44384062721193,21.44384062721193,21.44384062721193,21.44384062721193,21.44384062721193,21.44384062721193,21.44384062721193,21.44384062721193,21.44384062721193,21.44384062721193,21.44384062721193,21.44384062721193,21.44384062721193,21.44384062721193,21.44384062721193,21.44384062721193,21.44384062721193,21.44384062721193,21.44384062721193,21.44384062721193,21.44384062721193,21.44384062721193,21.44384062721193,21.44384062721193,21.44384062721193,21.44384062721193,21.44384062721193,21.44384062721193,21.44384062721193,21.44384062721193,21.44384062721193,21.44384062721193,21.44384062721193,21.44384062721193,21.44384062721193,21.44384062721193,21.44384062721193,21.44384062721193,21.44384062721193,21.44384062721193,21.44384062721193,21.44384062721193,21.44384062721193,21.44384062721193,21.44384062721193,21.44384062721193,21.44384062721193,21.44384062721193,21.44384062721193,21.44384062721193,21.44384062721193,21.44384062721193,21.4437554327578,21.4437554327578,21.4437554327578,21.4437554327578,21.4437554327578,21.4437554327578,21.4437554327578,21.4437554327578,21.4437554327578,21.4437554327578,21.4437554327578,21.4437554327578,21.4437554327578,21.44230880580593,21.442179038200845,21.442179038200845,21.442179038200845,21.442179038200845,21.442179038200845,21.442179038200845,21.442179038200845,21.442179038200845,21.442179038200845,21.442179038200845,21.442179038200845,21.442179038200845,21.442179038200845,21.442179038200845,21.442179038200845,21.442179038200845,21.442179038200845,21.442179038200845,21.442179038200845,21.442179038200845,21.442179038200845,21.442179038200845,21.442179038200845,21.442179038200845,21.44191447737294,21.44191447737294,21.44191447737294,21.44191447737294,21.44191447737294,21.44191447737294,21.44191447737294,21.44191447737294,21.44191447737294,21.44191447737294,21.44191447737294,21.44191447737294,21.44191447737294,21.44191447737294,21.44191447737294,21.44191447737294,21.44191447737294,21.44191447737294,21.44191447737294,21.44191447737294,21.44191447737294,21.44191447737294,21.44191447737294,21.44191447737294,21.44191447737294,21.44191447737294,21.44191447737294,21.44191447737294,21.44191447737294,21.44191447737294,21.441806161725893,21.441806161725893,21.441806161725893,21.441806161725893,21.441806161725893,21.441806161725893,21.441806161725893,21.441806161725893,21.441806161725893,21.441806161725893,21.441806161725893,21.441806161725893,21.441806161725893,21.441806161725893,21.441806161725893,21.441806161725893,21.441806161725893,21.441806161725893,21.441806161725893,21.441806161725893,21.441806161725893,21.441806161725893,21.441806161725893,21.441806161725893,21.441806161725893,21.441806161725893,21.441806161725893,21.441806161725893,21.441806161725893,21.441806161725893,21.441806161725893,21.441806161725893,21.441806161725893,21.441806161725893,21.441806161725893,21.441806161725893,21.441806161725893,21.441806161725893,21.441806161725893,21.441806161725893,21.441806161725893,21.441806161725893,21.441806161725893,21.441806161725893,21.441806161725893,21.441806161725893,21.441806161725893,21.441806161725893,21.441806161725893,21.441806161725893,21.441806161725893,21.441806161725893,21.441806161725893,21.441806161725893,21.441806161725893,21.441806161725893,21.441806161725893,21.441806161725893,21.441806161725893,21.441806161725893,21.441806161725893,21.441806161725893,21.441806161725893,21.441806161725893,21.441806161725893,21.441806161725893,21.441806161725893,21.441806161725893,21.441806161725893,21.441806161725893,21.441806161725893,21.441806161725893,21.441806161725893,21.441806161725893,21.441806161725893,21.441806161725893,21.441806161725893,21.441806161725893,21.441806161725893,21.441806161725893,21.441806161725893,21.441806161725893,21.441806161725893,21.441806161725893,21.441806161725893,21.441806161725893,21.441806161725893,21.441806161725893,21.441806161725893,21.441806161725893,21.441806161725893,21.441806161725893,21.441806161725893,21.441806161725893,21.441806161725893,21.441806161725893,21.441806161725893,21.441806161725893,21.441806161725893,21.441806161725893,21.441806161725893,21.441806161725893,21.441806161725893,21.441806161725893,21.441806161725893,21.441806161725893,21.441806161725893,21.441806161725893,21.441806161725893,21.441806161725893,21.441806161725893,21.441806161725893,21.441806161725893,21.441806161725893,21.441806161725893,21.441806161725893,21.441806161725893,21.441806161725893,21.441806161725893,21.441806161725893,21.441806161725893,21.441806161725893,21.441806161725893,21.441806161725893,21.441806161725893,21.441806161725893,21.441806161725893,21.441806161725893,21.441806161725893,21.441806161725893,21.441806161725893,21.441806161725893,21.441806161725893,21.441806161725893,21.441806161725893,21.441806161725893,21.441806161725893,21.441806161725893,21.441806161725893,21.441806161725893,21.441806161725893,21.441806161725893,21.441806161725893,21.441806161725893,21.441806161725893,21.441806161725893,21.441806161725893,21.441806161725893,21.441806161725893,21.441806161725893,21.441806161725893,21.441806161725893,21.441806161725893,21.441806161725893,21.441806161725893,21.441806161725893,21.441806161725893,21.441806161725893,21.441806161725893,21.441806161725893,21.441806161725893,21.441806161725893,21.441806161725893,21.441806161725893,21.441806161725893,21.441806161725893,21.441806161725893,21.441806161725893,21.441806161725893,21.441806161725893,21.441806161725893,21.441806161725893,21.441806161725893,21.441806161725893,21.441806161725893,21.441806161725893,21.441806161725893,21.441806161725893,21.441806161725893,21.441806161725893,21.441806161725893,21.441806161725893,21.441806161725893,21.441806161725893,21.441806161725893,21.441806161725893,21.441806161725893,21.441806161725893,21.441806161725893,21.441806161725893,21.441806161725893,21.441806161725893,21.441806161725893,21.441806161725893,21.441806161725893,21.441806161725893,21.441806161725893,21.441806161725893,21.441806161725893,21.441806161725893,21.441806161725893,21.441806161725893,21.441806161725893,21.441806161725893,21.441806161725893,21.441806161725893,21.441806161725893,21.441806161725893,21.441806161725893,21.441806161725893,21.441806161725893,21.441806161725893,21.441806161725893,21.441806161725893,21.441806161725893,21.441806161725893,21.441806161725893,21.441806161725893,21.441806161725893,21.441806161725893,21.441806161725893,21.441806161725893,21.441806161725893,21.441806161725893,21.441806161725893,21.441806161725893,21.441806161725893,21.441806161725893,21.441806161725893,21.441806161725893,21.441806161725893,21.441806161725893,21.441806161725893,21.441806161725893,21.441806161725893,21.441806161725893,21.441806161725893,21.441806161725893,21.441806161725893,21.441806161725893,21.441806161725893,21.441806161725893,21.441806161725893,21.441806161725893,21.441806161725893,21.441806161725893,21.441806161725893,21.441806161725893,21.441806161725893,21.441806161725893,21.441806161725893,21.441806161725893,21.441806161725893,21.441806161725893,21.441806161725893,21.441806161725893,21.441806161725893,21.441806161725893,21.441806161725893,21.441806161725893,21.441806161725893,21.441806161725893,21.441806161725893,21.441806161725893,21.441806161725893,21.441806161725893,21.441806161725893,21.441806161725893,21.441806161725893,21.441806161725893,21.441806161725893,21.441806161725893,21.441806161725893,21.441806161725893,21.441806161725893,21.441806161725893,21.441806161725893,21.441806161725893,21.441806161725893,21.441806161725893,21.441806161725893,21.441806161725893,21.441806161725893,21.441806161725893,21.441806161725893,21.441806161725893,21.441806161725893,21.441806161725893,21.441806161725893,21.441806161725893,21.441806161725893,21.441806161725893,21.441806161725893,21.441806161725893,21.441806161725893,21.441806161725893,21.441806161725893,21.441806161725893,21.441806161725893,21.441806161725893,21.441806161725893,21.441806161725893,21.441806161725893,21.441806161725893,21.441806161725893,21.441806161725893,21.441806161725893,21.441806161725893,21.441806161725893,21.441806161725893,21.441806161725893,21.441806161725893,21.441806161725893,21.441806161725893,21.441806161725893,21.441806161725893,21.441806161725893,21.441806161725893,21.441806161725893,21.441806161725893,21.441806161725893,21.441806161725893,21.441806161725893,21.441806161725893,21.441806161725893,21.441806161725893,21.441806161725893,21.441806161725893,21.441806161725893,21.441806161725893,21.441806161725893,21.441806161725893,21.441806161725893,21.441806161725893,21.441806161725893,21.441806161725893,21.441806161725893,21.441806161725893,21.441806161725893,21.441806161725893,21.441806161725893,21.441806161725893,21.441806161725893,21.441806161725893,21.441806161725893,21.441806161725893,21.441806161725893,21.441806161725893,21.441806161725893,21.441806161725893,21.441806161725893,21.441806161725893,21.441806161725893,21.441806161725893,21.441806161725893,21.441806161725893,21.441806161725893,21.441806161725893,21.441806161725893,21.441806161725893,21.441806161725893],\"type\":\"scatter\"},{\"marker\":{\"color\":\"#cccccc\"},\"mode\":\"markers\",\"name\":\"Infeasible Trial\",\"showlegend\":false,\"x\":[],\"y\":[],\"type\":\"scatter\"}],                        {\"title\":{\"text\":\"Optimization History Plot\"},\"xaxis\":{\"title\":{\"text\":\"Trial\"}},\"yaxis\":{\"title\":{\"text\":\"Objective Value\"}},\"template\":{\"data\":{\"histogram2dcontour\":[{\"type\":\"histogram2dcontour\",\"colorbar\":{\"outlinewidth\":0,\"ticks\":\"\"},\"colorscale\":[[0.0,\"#0d0887\"],[0.1111111111111111,\"#46039f\"],[0.2222222222222222,\"#7201a8\"],[0.3333333333333333,\"#9c179e\"],[0.4444444444444444,\"#bd3786\"],[0.5555555555555556,\"#d8576b\"],[0.6666666666666666,\"#ed7953\"],[0.7777777777777778,\"#fb9f3a\"],[0.8888888888888888,\"#fdca26\"],[1.0,\"#f0f921\"]]}],\"choropleth\":[{\"type\":\"choropleth\",\"colorbar\":{\"outlinewidth\":0,\"ticks\":\"\"}}],\"histogram2d\":[{\"type\":\"histogram2d\",\"colorbar\":{\"outlinewidth\":0,\"ticks\":\"\"},\"colorscale\":[[0.0,\"#0d0887\"],[0.1111111111111111,\"#46039f\"],[0.2222222222222222,\"#7201a8\"],[0.3333333333333333,\"#9c179e\"],[0.4444444444444444,\"#bd3786\"],[0.5555555555555556,\"#d8576b\"],[0.6666666666666666,\"#ed7953\"],[0.7777777777777778,\"#fb9f3a\"],[0.8888888888888888,\"#fdca26\"],[1.0,\"#f0f921\"]]}],\"heatmap\":[{\"type\":\"heatmap\",\"colorbar\":{\"outlinewidth\":0,\"ticks\":\"\"},\"colorscale\":[[0.0,\"#0d0887\"],[0.1111111111111111,\"#46039f\"],[0.2222222222222222,\"#7201a8\"],[0.3333333333333333,\"#9c179e\"],[0.4444444444444444,\"#bd3786\"],[0.5555555555555556,\"#d8576b\"],[0.6666666666666666,\"#ed7953\"],[0.7777777777777778,\"#fb9f3a\"],[0.8888888888888888,\"#fdca26\"],[1.0,\"#f0f921\"]]}],\"heatmapgl\":[{\"type\":\"heatmapgl\",\"colorbar\":{\"outlinewidth\":0,\"ticks\":\"\"},\"colorscale\":[[0.0,\"#0d0887\"],[0.1111111111111111,\"#46039f\"],[0.2222222222222222,\"#7201a8\"],[0.3333333333333333,\"#9c179e\"],[0.4444444444444444,\"#bd3786\"],[0.5555555555555556,\"#d8576b\"],[0.6666666666666666,\"#ed7953\"],[0.7777777777777778,\"#fb9f3a\"],[0.8888888888888888,\"#fdca26\"],[1.0,\"#f0f921\"]]}],\"contourcarpet\":[{\"type\":\"contourcarpet\",\"colorbar\":{\"outlinewidth\":0,\"ticks\":\"\"}}],\"contour\":[{\"type\":\"contour\",\"colorbar\":{\"outlinewidth\":0,\"ticks\":\"\"},\"colorscale\":[[0.0,\"#0d0887\"],[0.1111111111111111,\"#46039f\"],[0.2222222222222222,\"#7201a8\"],[0.3333333333333333,\"#9c179e\"],[0.4444444444444444,\"#bd3786\"],[0.5555555555555556,\"#d8576b\"],[0.6666666666666666,\"#ed7953\"],[0.7777777777777778,\"#fb9f3a\"],[0.8888888888888888,\"#fdca26\"],[1.0,\"#f0f921\"]]}],\"surface\":[{\"type\":\"surface\",\"colorbar\":{\"outlinewidth\":0,\"ticks\":\"\"},\"colorscale\":[[0.0,\"#0d0887\"],[0.1111111111111111,\"#46039f\"],[0.2222222222222222,\"#7201a8\"],[0.3333333333333333,\"#9c179e\"],[0.4444444444444444,\"#bd3786\"],[0.5555555555555556,\"#d8576b\"],[0.6666666666666666,\"#ed7953\"],[0.7777777777777778,\"#fb9f3a\"],[0.8888888888888888,\"#fdca26\"],[1.0,\"#f0f921\"]]}],\"mesh3d\":[{\"type\":\"mesh3d\",\"colorbar\":{\"outlinewidth\":0,\"ticks\":\"\"}}],\"scatter\":[{\"fillpattern\":{\"fillmode\":\"overlay\",\"size\":10,\"solidity\":0.2},\"type\":\"scatter\"}],\"parcoords\":[{\"type\":\"parcoords\",\"line\":{\"colorbar\":{\"outlinewidth\":0,\"ticks\":\"\"}}}],\"scatterpolargl\":[{\"type\":\"scatterpolargl\",\"marker\":{\"colorbar\":{\"outlinewidth\":0,\"ticks\":\"\"}}}],\"bar\":[{\"error_x\":{\"color\":\"#2a3f5f\"},\"error_y\":{\"color\":\"#2a3f5f\"},\"marker\":{\"line\":{\"color\":\"#E5ECF6\",\"width\":0.5},\"pattern\":{\"fillmode\":\"overlay\",\"size\":10,\"solidity\":0.2}},\"type\":\"bar\"}],\"scattergeo\":[{\"type\":\"scattergeo\",\"marker\":{\"colorbar\":{\"outlinewidth\":0,\"ticks\":\"\"}}}],\"scatterpolar\":[{\"type\":\"scatterpolar\",\"marker\":{\"colorbar\":{\"outlinewidth\":0,\"ticks\":\"\"}}}],\"histogram\":[{\"marker\":{\"pattern\":{\"fillmode\":\"overlay\",\"size\":10,\"solidity\":0.2}},\"type\":\"histogram\"}],\"scattergl\":[{\"type\":\"scattergl\",\"marker\":{\"colorbar\":{\"outlinewidth\":0,\"ticks\":\"\"}}}],\"scatter3d\":[{\"type\":\"scatter3d\",\"line\":{\"colorbar\":{\"outlinewidth\":0,\"ticks\":\"\"}},\"marker\":{\"colorbar\":{\"outlinewidth\":0,\"ticks\":\"\"}}}],\"scattermapbox\":[{\"type\":\"scattermapbox\",\"marker\":{\"colorbar\":{\"outlinewidth\":0,\"ticks\":\"\"}}}],\"scatterternary\":[{\"type\":\"scatterternary\",\"marker\":{\"colorbar\":{\"outlinewidth\":0,\"ticks\":\"\"}}}],\"scattercarpet\":[{\"type\":\"scattercarpet\",\"marker\":{\"colorbar\":{\"outlinewidth\":0,\"ticks\":\"\"}}}],\"carpet\":[{\"aaxis\":{\"endlinecolor\":\"#2a3f5f\",\"gridcolor\":\"white\",\"linecolor\":\"white\",\"minorgridcolor\":\"white\",\"startlinecolor\":\"#2a3f5f\"},\"baxis\":{\"endlinecolor\":\"#2a3f5f\",\"gridcolor\":\"white\",\"linecolor\":\"white\",\"minorgridcolor\":\"white\",\"startlinecolor\":\"#2a3f5f\"},\"type\":\"carpet\"}],\"table\":[{\"cells\":{\"fill\":{\"color\":\"#EBF0F8\"},\"line\":{\"color\":\"white\"}},\"header\":{\"fill\":{\"color\":\"#C8D4E3\"},\"line\":{\"color\":\"white\"}},\"type\":\"table\"}],\"barpolar\":[{\"marker\":{\"line\":{\"color\":\"#E5ECF6\",\"width\":0.5},\"pattern\":{\"fillmode\":\"overlay\",\"size\":10,\"solidity\":0.2}},\"type\":\"barpolar\"}],\"pie\":[{\"automargin\":true,\"type\":\"pie\"}]},\"layout\":{\"autotypenumbers\":\"strict\",\"colorway\":[\"#636efa\",\"#EF553B\",\"#00cc96\",\"#ab63fa\",\"#FFA15A\",\"#19d3f3\",\"#FF6692\",\"#B6E880\",\"#FF97FF\",\"#FECB52\"],\"font\":{\"color\":\"#2a3f5f\"},\"hovermode\":\"closest\",\"hoverlabel\":{\"align\":\"left\"},\"paper_bgcolor\":\"white\",\"plot_bgcolor\":\"#E5ECF6\",\"polar\":{\"bgcolor\":\"#E5ECF6\",\"angularaxis\":{\"gridcolor\":\"white\",\"linecolor\":\"white\",\"ticks\":\"\"},\"radialaxis\":{\"gridcolor\":\"white\",\"linecolor\":\"white\",\"ticks\":\"\"}},\"ternary\":{\"bgcolor\":\"#E5ECF6\",\"aaxis\":{\"gridcolor\":\"white\",\"linecolor\":\"white\",\"ticks\":\"\"},\"baxis\":{\"gridcolor\":\"white\",\"linecolor\":\"white\",\"ticks\":\"\"},\"caxis\":{\"gridcolor\":\"white\",\"linecolor\":\"white\",\"ticks\":\"\"}},\"coloraxis\":{\"colorbar\":{\"outlinewidth\":0,\"ticks\":\"\"}},\"colorscale\":{\"sequential\":[[0.0,\"#0d0887\"],[0.1111111111111111,\"#46039f\"],[0.2222222222222222,\"#7201a8\"],[0.3333333333333333,\"#9c179e\"],[0.4444444444444444,\"#bd3786\"],[0.5555555555555556,\"#d8576b\"],[0.6666666666666666,\"#ed7953\"],[0.7777777777777778,\"#fb9f3a\"],[0.8888888888888888,\"#fdca26\"],[1.0,\"#f0f921\"]],\"sequentialminus\":[[0.0,\"#0d0887\"],[0.1111111111111111,\"#46039f\"],[0.2222222222222222,\"#7201a8\"],[0.3333333333333333,\"#9c179e\"],[0.4444444444444444,\"#bd3786\"],[0.5555555555555556,\"#d8576b\"],[0.6666666666666666,\"#ed7953\"],[0.7777777777777778,\"#fb9f3a\"],[0.8888888888888888,\"#fdca26\"],[1.0,\"#f0f921\"]],\"diverging\":[[0,\"#8e0152\"],[0.1,\"#c51b7d\"],[0.2,\"#de77ae\"],[0.3,\"#f1b6da\"],[0.4,\"#fde0ef\"],[0.5,\"#f7f7f7\"],[0.6,\"#e6f5d0\"],[0.7,\"#b8e186\"],[0.8,\"#7fbc41\"],[0.9,\"#4d9221\"],[1,\"#276419\"]]},\"xaxis\":{\"gridcolor\":\"white\",\"linecolor\":\"white\",\"ticks\":\"\",\"title\":{\"standoff\":15},\"zerolinecolor\":\"white\",\"automargin\":true,\"zerolinewidth\":2},\"yaxis\":{\"gridcolor\":\"white\",\"linecolor\":\"white\",\"ticks\":\"\",\"title\":{\"standoff\":15},\"zerolinecolor\":\"white\",\"automargin\":true,\"zerolinewidth\":2},\"scene\":{\"xaxis\":{\"backgroundcolor\":\"#E5ECF6\",\"gridcolor\":\"white\",\"linecolor\":\"white\",\"showbackground\":true,\"ticks\":\"\",\"zerolinecolor\":\"white\",\"gridwidth\":2},\"yaxis\":{\"backgroundcolor\":\"#E5ECF6\",\"gridcolor\":\"white\",\"linecolor\":\"white\",\"showbackground\":true,\"ticks\":\"\",\"zerolinecolor\":\"white\",\"gridwidth\":2},\"zaxis\":{\"backgroundcolor\":\"#E5ECF6\",\"gridcolor\":\"white\",\"linecolor\":\"white\",\"showbackground\":true,\"ticks\":\"\",\"zerolinecolor\":\"white\",\"gridwidth\":2}},\"shapedefaults\":{\"line\":{\"color\":\"#2a3f5f\"}},\"annotationdefaults\":{\"arrowcolor\":\"#2a3f5f\",\"arrowhead\":0,\"arrowwidth\":1},\"geo\":{\"bgcolor\":\"white\",\"landcolor\":\"#E5ECF6\",\"subunitcolor\":\"white\",\"showland\":true,\"showlakes\":true,\"lakecolor\":\"white\"},\"title\":{\"x\":0.05},\"mapbox\":{\"style\":\"light\"}}}},                        {\"responsive\": true}                    )                };                            </script>        </div>"
      ],
      "text/plain": [
       "Figure({\n",
       "    'data': [{'mode': 'markers',\n",
       "              'name': 'Objective Value',\n",
       "              'type': 'scatter',\n",
       "              'x': [0, 1, 2, ..., 497, 498, 499],\n",
       "              'y': [21.85204694359998, 21.74480004476041, 21.740634917239536, ...,\n",
       "                    21.796496927555047, 21.75294838876219, 21.603280820936696]},\n",
       "             {'mode': 'lines',\n",
       "              'name': 'Best Value',\n",
       "              'type': 'scatter',\n",
       "              'x': [0, 1, 2, ..., 497, 498, 499],\n",
       "              'y': [21.85204694359998, 21.74480004476041, 21.740634917239536, ...,\n",
       "                    21.441806161725893, 21.441806161725893, 21.441806161725893]},\n",
       "             {'marker': {'color': '#cccccc'},\n",
       "              'mode': 'markers',\n",
       "              'name': 'Infeasible Trial',\n",
       "              'showlegend': False,\n",
       "              'type': 'scatter',\n",
       "              'x': [],\n",
       "              'y': []}],\n",
       "    'layout': {'template': '...',\n",
       "               'title': {'text': 'Optimization History Plot'},\n",
       "               'xaxis': {'title': {'text': 'Trial'}},\n",
       "               'yaxis': {'title': {'text': 'Objective Value'}}}\n",
       "})"
      ]
     },
     "execution_count": 25,
     "metadata": {},
     "output_type": "execute_result"
    }
   ],
   "source": [
    "optuna.visualization.plot_optimization_history(study)"
   ]
  },
  {
   "cell_type": "code",
   "execution_count": 26,
   "metadata": {},
   "outputs": [
    {
     "data": {
      "text/plain": [
       "{'alpha': 0.10002352788737827, 'max_iter': 1461}"
      ]
     },
     "execution_count": 26,
     "metadata": {},
     "output_type": "execute_result"
    }
   ],
   "source": [
    "lasso_best_params = study.best_params\n",
    "lasso_best_params"
   ]
  },
  {
   "cell_type": "markdown",
   "metadata": {},
   "source": [
    "## Ridge"
   ]
  },
  {
   "cell_type": "code",
   "execution_count": 28,
   "metadata": {},
   "outputs": [],
   "source": [
    "def ridge_fine_tuning(trial):\n",
    "    #degree = trial.suggest_int('degree', 2,4)\n",
    "    alpha = trial.suggest_float('alpha', 0.1,5.0)\n",
    "    #l1_ratio = trial.suggest_int('l1_ratio', 1,10)\n",
    "    max_iter = trial.suggest_int('max_iter', 500,3000)\n",
    "\n",
    "    model_ridge = Ridge(alpha = alpha, max_iter = max_iter)\n",
    "    model_ridge.fit(X_train, y_train)\n",
    "\n",
    "    y_pred = model_ridge.predict(X_val)\n",
    "\n",
    "    return calculate_metrics(y_val, y_pred, 'Lasso')['RMSE']\n"
   ]
  },
  {
   "cell_type": "code",
   "execution_count": 29,
   "metadata": {},
   "outputs": [
    {
     "name": "stderr",
     "output_type": "stream",
     "text": [
      "[I 2023-09-15 16:30:58,971] A new study created in memory with name: no-name-10430c13-8a2d-4a2b-a13e-ab4c6e40500a\n",
      "[I 2023-09-15 16:30:59,001] Trial 0 finished with value: 21.411296991184592 and parameters: {'alpha': 2.4437515069180598, 'max_iter': 572}. Best is trial 0 with value: 21.411296991184592.\n",
      "[I 2023-09-15 16:30:59,011] Trial 1 finished with value: 21.41131302412556 and parameters: {'alpha': 1.8586991001410298, 'max_iter': 2134}. Best is trial 0 with value: 21.411296991184592.\n",
      "[I 2023-09-15 16:30:59,022] Trial 2 finished with value: 21.411309099719315 and parameters: {'alpha': 1.9959405853722365, 'max_iter': 2017}. Best is trial 0 with value: 21.411296991184592.\n",
      "[I 2023-09-15 16:30:59,033] Trial 3 finished with value: 21.411320941048217 and parameters: {'alpha': 1.5919907531105149, 'max_iter': 1043}. Best is trial 0 with value: 21.411296991184592.\n",
      "[I 2023-09-15 16:30:59,051] Trial 4 finished with value: 21.41134702477322 and parameters: {'alpha': 0.7923208123421324, 'max_iter': 1734}. Best is trial 0 with value: 21.411296991184592.\n",
      "[I 2023-09-15 16:30:59,066] Trial 5 finished with value: 21.411287836737944 and parameters: {'alpha': 2.8113487308518303, 'max_iter': 825}. Best is trial 5 with value: 21.411287836737944.\n",
      "[I 2023-09-15 16:30:59,078] Trial 6 finished with value: 21.411271436714582 and parameters: {'alpha': 3.5547794506656647, 'max_iter': 2544}. Best is trial 6 with value: 21.411271436714582.\n",
      "[I 2023-09-15 16:30:59,089] Trial 7 finished with value: 21.411333040835235 and parameters: {'alpha': 1.2074178587685962, 'max_iter': 2195}. Best is trial 6 with value: 21.411271436714582.\n",
      "[I 2023-09-15 16:30:59,099] Trial 8 finished with value: 21.41125520117684 and parameters: {'alpha': 4.458781946756163, 'max_iter': 628}. Best is trial 8 with value: 21.41125520117684.\n",
      "[I 2023-09-15 16:30:59,111] Trial 9 finished with value: 21.41128032774527 and parameters: {'alpha': 3.1361214383653335, 'max_iter': 1094}. Best is trial 8 with value: 21.41125520117684.\n",
      "[I 2023-09-15 16:30:59,162] Trial 10 finished with value: 21.411247507868634 and parameters: {'alpha': 4.989827672812022, 'max_iter': 1556}. Best is trial 10 with value: 21.411247507868634.\n",
      "[I 2023-09-15 16:30:59,210] Trial 11 finished with value: 21.411248023097766 and parameters: {'alpha': 4.951134641149247, 'max_iter': 1472}. Best is trial 10 with value: 21.411247507868634.\n",
      "[I 2023-09-15 16:30:59,241] Trial 12 finished with value: 21.41125133297153 and parameters: {'alpha': 4.714199638102257, 'max_iter': 1488}. Best is trial 10 with value: 21.411247507868634.\n",
      "[I 2023-09-15 16:30:59,277] Trial 13 finished with value: 21.411248821275795 and parameters: {'alpha': 4.892214814660568, 'max_iter': 1411}. Best is trial 10 with value: 21.411247507868634.\n",
      "[I 2023-09-15 16:30:59,304] Trial 14 finished with value: 21.411262325035704 and parameters: {'alpha': 4.034369824703583, 'max_iter': 1380}. Best is trial 10 with value: 21.411247507868634.\n",
      "[I 2023-09-15 16:30:59,334] Trial 15 finished with value: 21.41126217120341 and parameters: {'alpha': 4.043013558220473, 'max_iter': 1821}. Best is trial 10 with value: 21.411247507868634.\n",
      "[I 2023-09-15 16:30:59,357] Trial 16 finished with value: 21.411247567498805 and parameters: {'alpha': 4.9853221757381485, 'max_iter': 2878}. Best is trial 10 with value: 21.411247507868634.\n",
      "[I 2023-09-15 16:30:59,382] Trial 17 finished with value: 21.411259964947057 and parameters: {'alpha': 4.169320737239085, 'max_iter': 2943}. Best is trial 10 with value: 21.411247507868634.\n",
      "[I 2023-09-15 16:30:59,409] Trial 18 finished with value: 21.41126890742914 and parameters: {'alpha': 3.6820695055545554, 'max_iter': 2927}. Best is trial 10 with value: 21.411247507868634.\n",
      "[I 2023-09-15 16:30:59,437] Trial 19 finished with value: 21.411253835303324 and parameters: {'alpha': 4.5466394393164276, 'max_iter': 2410}. Best is trial 10 with value: 21.411247507868634.\n",
      "[I 2023-09-15 16:30:59,469] Trial 20 finished with value: 21.411247550490693 and parameters: {'alpha': 4.986606524719589, 'max_iter': 2657}. Best is trial 10 with value: 21.411247507868634.\n",
      "[I 2023-09-15 16:30:59,497] Trial 21 finished with value: 21.4112476441821 and parameters: {'alpha': 4.979538816084836, 'max_iter': 2598}. Best is trial 10 with value: 21.411247507868634.\n",
      "[I 2023-09-15 16:30:59,522] Trial 22 finished with value: 21.411256220799817 and parameters: {'alpha': 4.394704065848735, 'max_iter': 2682}. Best is trial 10 with value: 21.411247507868634.\n",
      "[I 2023-09-15 16:30:59,568] Trial 23 finished with value: 21.411253894826885 and parameters: {'alpha': 4.542760331816929, 'max_iter': 2742}. Best is trial 10 with value: 21.411247507868634.\n",
      "[I 2023-09-15 16:30:59,618] Trial 24 finished with value: 21.411268919358342 and parameters: {'alpha': 3.681459486435157, 'max_iter': 2316}. Best is trial 10 with value: 21.411247507868634.\n",
      "[I 2023-09-15 16:30:59,647] Trial 25 finished with value: 21.411248348210197 and parameters: {'alpha': 4.926988715444025, 'max_iter': 1800}. Best is trial 10 with value: 21.411247507868634.\n",
      "[I 2023-09-15 16:30:59,683] Trial 26 finished with value: 21.411258336220424 and parameters: {'alpha': 4.265550016959488, 'max_iter': 2858}. Best is trial 10 with value: 21.411247507868634.\n",
      "[I 2023-09-15 16:30:59,711] Trial 27 finished with value: 21.41125244861663 and parameters: {'alpha': 4.638379642998524, 'max_iter': 2384}. Best is trial 10 with value: 21.411247507868634.\n",
      "[I 2023-09-15 16:30:59,737] Trial 28 finished with value: 21.41126137340844 and parameters: {'alpha': 4.088174921955898, 'max_iter': 1958}. Best is trial 10 with value: 21.411247507868634.\n",
      "[I 2023-09-15 16:30:59,773] Trial 29 finished with value: 21.411247543495623 and parameters: {'alpha': 4.987134920594645, 'max_iter': 1613}. Best is trial 10 with value: 21.411247507868634.\n",
      "[I 2023-09-15 16:30:59,800] Trial 30 finished with value: 21.411277065916114 and parameters: {'alpha': 3.2849536968233584, 'max_iter': 1226}. Best is trial 10 with value: 21.411247507868634.\n",
      "[I 2023-09-15 16:30:59,832] Trial 31 finished with value: 21.411251900679616 and parameters: {'alpha': 4.675384577448454, 'max_iter': 1251}. Best is trial 10 with value: 21.411247507868634.\n",
      "[I 2023-09-15 16:30:59,855] Trial 32 finished with value: 21.411247520975458 and parameters: {'alpha': 4.98883673435133, 'max_iter': 1598}. Best is trial 10 with value: 21.411247507868634.\n",
      "[I 2023-09-15 16:30:59,876] Trial 33 finished with value: 21.41125735039589 and parameters: {'alpha': 4.325125769886781, 'max_iter': 1667}. Best is trial 10 with value: 21.411247507868634.\n",
      "[I 2023-09-15 16:30:59,895] Trial 34 finished with value: 21.41125188373036 and parameters: {'alpha': 4.676536340292762, 'max_iter': 1606}. Best is trial 10 with value: 21.411247507868634.\n",
      "[I 2023-09-15 16:30:59,919] Trial 35 finished with value: 21.411295070009917 and parameters: {'alpha': 2.5186098296624992, 'max_iter': 1990}. Best is trial 10 with value: 21.411247507868634.\n",
      "[I 2023-09-15 16:30:59,942] Trial 36 finished with value: 21.411265872042392 and parameters: {'alpha': 3.840477656130873, 'max_iter': 1612}. Best is trial 10 with value: 21.411247507868634.\n",
      "[I 2023-09-15 16:30:59,965] Trial 37 finished with value: 21.4112564515869 and parameters: {'alpha': 4.380370712312717, 'max_iter': 1904}. Best is trial 10 with value: 21.411247507868634.\n",
      "[I 2023-09-15 16:30:59,989] Trial 38 finished with value: 21.41125106319795 and parameters: {'alpha': 4.732818968353574, 'max_iter': 2153}. Best is trial 10 with value: 21.411247507868634.\n",
      "[I 2023-09-15 16:31:00,023] Trial 39 finished with value: 21.411307252272646 and parameters: {'alpha': 2.061799440439972, 'max_iter': 903}. Best is trial 10 with value: 21.411247507868634.\n",
      "[I 2023-09-15 16:31:00,054] Trial 40 finished with value: 21.411257238415928 and parameters: {'alpha': 4.331959402630918, 'max_iter': 1182}. Best is trial 10 with value: 21.411247507868634.\n",
      "[I 2023-09-15 16:31:00,083] Trial 41 finished with value: 21.4112483938665 and parameters: {'alpha': 4.923614177448174, 'max_iter': 1549}. Best is trial 10 with value: 21.411247507868634.\n",
      "[I 2023-09-15 16:31:00,112] Trial 42 finished with value: 21.411250932708658 and parameters: {'alpha': 4.74186632450916, 'max_iter': 1732}. Best is trial 10 with value: 21.411247507868634.\n",
      "[I 2023-09-15 16:31:00,144] Trial 43 finished with value: 21.411247727539926 and parameters: {'alpha': 4.9732655565177595, 'max_iter': 1336}. Best is trial 10 with value: 21.411247507868634.\n",
      "[I 2023-09-15 16:31:00,175] Trial 44 finished with value: 21.4112549340625 and parameters: {'alpha': 4.475777308846539, 'max_iter': 2793}. Best is trial 10 with value: 21.411247507868634.\n",
      "[I 2023-09-15 16:31:00,202] Trial 45 finished with value: 21.411247658176926 and parameters: {'alpha': 4.9784846286856395, 'max_iter': 2094}. Best is trial 10 with value: 21.411247507868634.\n",
      "[I 2023-09-15 16:31:00,229] Trial 46 finished with value: 21.411265016678257 and parameters: {'alpha': 3.8863231549698223, 'max_iter': 2583}. Best is trial 10 with value: 21.411247507868634.\n",
      "[I 2023-09-15 16:31:00,253] Trial 47 finished with value: 21.411250998208832 and parameters: {'alpha': 4.737321547003021, 'max_iter': 996}. Best is trial 10 with value: 21.411247507868634.\n",
      "[I 2023-09-15 16:31:00,278] Trial 48 finished with value: 21.411253593576664 and parameters: {'alpha': 4.562441234461398, 'max_iter': 510}. Best is trial 10 with value: 21.411247507868634.\n",
      "[I 2023-09-15 16:31:00,307] Trial 49 finished with value: 21.411258590289613 and parameters: {'alpha': 4.250362343805429, 'max_iter': 2984}. Best is trial 10 with value: 21.411247507868634.\n",
      "[I 2023-09-15 16:31:00,334] Trial 50 finished with value: 21.4112501182152 and parameters: {'alpha': 4.798962295777135, 'max_iter': 1479}. Best is trial 10 with value: 21.411247507868634.\n",
      "[I 2023-09-15 16:31:00,359] Trial 51 finished with value: 21.411247927645583 and parameters: {'alpha': 4.958263010957303, 'max_iter': 2491}. Best is trial 10 with value: 21.411247507868634.\n",
      "[I 2023-09-15 16:31:00,387] Trial 52 finished with value: 21.411253419095914 and parameters: {'alpha': 4.573896098544729, 'max_iter': 2635}. Best is trial 10 with value: 21.411247507868634.\n",
      "[I 2023-09-15 16:31:00,414] Trial 53 finished with value: 21.41125001706124 and parameters: {'alpha': 4.806130046694898, 'max_iter': 2244}. Best is trial 10 with value: 21.411247507868634.\n",
      "[I 2023-09-15 16:31:00,444] Trial 54 finished with value: 21.411247636638166 and parameters: {'alpha': 4.980107241924503, 'max_iter': 1867}. Best is trial 10 with value: 21.411247507868634.\n",
      "[I 2023-09-15 16:31:00,479] Trial 55 finished with value: 21.41125512887159 and parameters: {'alpha': 4.463373701465735, 'max_iter': 1904}. Best is trial 10 with value: 21.411247507868634.\n",
      "[I 2023-09-15 16:31:00,547] Trial 56 finished with value: 21.411260258536725 and parameters: {'alpha': 4.152252557470897, 'max_iter': 1331}. Best is trial 10 with value: 21.411247507868634.\n",
      "[I 2023-09-15 16:31:00,583] Trial 57 finished with value: 21.41124988146968 and parameters: {'alpha': 4.815765323490814, 'max_iter': 1738}. Best is trial 10 with value: 21.411247507868634.\n",
      "[I 2023-09-15 16:31:00,605] Trial 58 finished with value: 21.41125357816781 and parameters: {'alpha': 4.563451182405936, 'max_iter': 2855}. Best is trial 10 with value: 21.411247507868634.\n",
      "[I 2023-09-15 16:31:00,640] Trial 59 finished with value: 21.411249851630256 and parameters: {'alpha': 4.817889965720296, 'max_iter': 1826}. Best is trial 10 with value: 21.411247507868634.\n",
      "[I 2023-09-15 16:31:00,670] Trial 60 finished with value: 21.41124748318056 and parameters: {'alpha': 4.9916951634425635, 'max_iter': 702}. Best is trial 60 with value: 21.41124748318056.\n",
      "[I 2023-09-15 16:31:00,698] Trial 61 finished with value: 21.41125256205537 and parameters: {'alpha': 4.630773365112331, 'max_iter': 687}. Best is trial 60 with value: 21.41124748318056.\n",
      "[I 2023-09-15 16:31:00,727] Trial 62 finished with value: 21.411247774361915 and parameters: {'alpha': 4.969748002608431, 'max_iter': 2053}. Best is trial 60 with value: 21.41124748318056.\n",
      "[I 2023-09-15 16:31:00,759] Trial 63 finished with value: 21.41125538960264 and parameters: {'alpha': 4.446846112157333, 'max_iter': 763}. Best is trial 60 with value: 21.41124748318056.\n",
      "[I 2023-09-15 16:31:00,793] Trial 64 finished with value: 21.411247479086363 and parameters: {'alpha': 4.992004982984934, 'max_iter': 1031}. Best is trial 64 with value: 21.411247479086363.\n",
      "[I 2023-09-15 16:31:00,826] Trial 65 finished with value: 21.411249920923552 and parameters: {'alpha': 4.8129584517845245, 'max_iter': 1020}. Best is trial 64 with value: 21.411247479086363.\n",
      "[I 2023-09-15 16:31:00,856] Trial 66 finished with value: 21.41125951649246 and parameters: {'alpha': 4.1955528952662124, 'max_iter': 620}. Best is trial 64 with value: 21.411247479086363.\n",
      "[I 2023-09-15 16:31:00,894] Trial 67 finished with value: 21.41125222389118 and parameters: {'alpha': 4.653503041921624, 'max_iter': 1135}. Best is trial 64 with value: 21.411247479086363.\n",
      "[I 2023-09-15 16:31:00,925] Trial 68 finished with value: 21.411255428294798 and parameters: {'alpha': 4.444400523866851, 'max_iter': 884}. Best is trial 64 with value: 21.411247479086363.\n",
      "[I 2023-09-15 16:31:00,966] Trial 69 finished with value: 21.41125020378319 and parameters: {'alpha': 4.792912443452965, 'max_iter': 729}. Best is trial 64 with value: 21.411247479086363.\n",
      "[I 2023-09-15 16:31:01,014] Trial 70 finished with value: 21.411256919045336 and parameters: {'alpha': 4.351525404880322, 'max_iter': 1547}. Best is trial 64 with value: 21.411247479086363.\n",
      "[I 2023-09-15 16:31:01,045] Trial 71 finished with value: 21.4112477569913 and parameters: {'alpha': 4.9710524763591435, 'max_iter': 2729}. Best is trial 64 with value: 21.411247479086363.\n",
      "[I 2023-09-15 16:31:01,078] Trial 72 finished with value: 21.4112496402391 and parameters: {'alpha': 4.832985544212054, 'max_iter': 1420}. Best is trial 64 with value: 21.411247479086363.\n",
      "[I 2023-09-15 16:31:01,129] Trial 73 finished with value: 21.411252428528133 and parameters: {'alpha': 4.639728551881127, 'max_iter': 1668}. Best is trial 64 with value: 21.411247479086363.\n",
      "[I 2023-09-15 16:31:01,176] Trial 74 finished with value: 21.411248919264686 and parameters: {'alpha': 4.885064125713865, 'max_iter': 2480}. Best is trial 64 with value: 21.411247479086363.\n",
      "[I 2023-09-15 16:31:01,208] Trial 75 finished with value: 21.411252527144295 and parameters: {'alpha': 4.633112240618407, 'max_iter': 1267}. Best is trial 64 with value: 21.411247479086363.\n",
      "[I 2023-09-15 16:31:01,243] Trial 76 finished with value: 21.411247720046774 and parameters: {'alpha': 4.973828896436392, 'max_iter': 918}. Best is trial 64 with value: 21.411247479086363.\n",
      "[I 2023-09-15 16:31:01,276] Trial 77 finished with value: 21.411251176165564 and parameters: {'alpha': 4.725008230593947, 'max_iter': 2882}. Best is trial 64 with value: 21.411247479086363.\n",
      "[I 2023-09-15 16:31:01,299] Trial 78 finished with value: 21.41125429095398 and parameters: {'alpha': 4.517063953522574, 'max_iter': 1082}. Best is trial 64 with value: 21.411247479086363.\n",
      "[I 2023-09-15 16:31:01,341] Trial 79 finished with value: 21.411247551436592 and parameters: {'alpha': 4.986535080544545, 'max_iter': 1675}. Best is trial 64 with value: 21.411247479086363.\n",
      "[I 2023-09-15 16:31:01,382] Trial 80 finished with value: 21.411257432839903 and parameters: {'alpha': 4.320103376707687, 'max_iter': 1564}. Best is trial 64 with value: 21.411247479086363.\n",
      "[I 2023-09-15 16:31:01,404] Trial 81 finished with value: 21.41124915945248 and parameters: {'alpha': 4.867610877953641, 'max_iter': 1665}. Best is trial 64 with value: 21.411247479086363.\n",
      "[I 2023-09-15 16:31:01,449] Trial 82 finished with value: 21.411251135587257 and parameters: {'alpha': 4.727811556181011, 'max_iter': 1833}. Best is trial 64 with value: 21.411247479086363.\n",
      "[I 2023-09-15 16:31:01,464] Trial 83 finished with value: 21.411247788931615 and parameters: {'alpha': 4.968654333756547, 'max_iter': 1393}. Best is trial 64 with value: 21.411247479086363.\n",
      "[I 2023-09-15 16:31:01,507] Trial 84 finished with value: 21.41124750116543 and parameters: {'alpha': 4.990334602900839, 'max_iter': 1494}. Best is trial 64 with value: 21.411247479086363.\n",
      "[I 2023-09-15 16:31:01,537] Trial 85 finished with value: 21.411249336549414 and parameters: {'alpha': 4.854808918443836, 'max_iter': 1764}. Best is trial 64 with value: 21.411247479086363.\n",
      "[I 2023-09-15 16:31:01,572] Trial 86 finished with value: 21.411251270088638 and parameters: {'alpha': 4.718529525845698, 'max_iter': 1544}. Best is trial 64 with value: 21.411247479086363.\n",
      "[I 2023-09-15 16:31:01,605] Trial 87 finished with value: 21.41125324697453 and parameters: {'alpha': 4.58523676820494, 'max_iter': 1463}. Best is trial 64 with value: 21.411247479086363.\n",
      "[I 2023-09-15 16:31:01,632] Trial 88 finished with value: 21.41124901860277 and parameters: {'alpha': 4.877832980389882, 'max_iter': 1637}. Best is trial 64 with value: 21.411247479086363.\n",
      "[I 2023-09-15 16:31:01,674] Trial 89 finished with value: 21.411254784953215 and parameters: {'alpha': 4.4853031949107525, 'max_iter': 1337}. Best is trial 64 with value: 21.411247479086363.\n",
      "[I 2023-09-15 16:31:01,705] Trial 90 finished with value: 21.41125143237702 and parameters: {'alpha': 4.707367467034126, 'max_iter': 1714}. Best is trial 64 with value: 21.411247479086363.\n",
      "[I 2023-09-15 16:31:01,738] Trial 91 finished with value: 21.411247563359648 and parameters: {'alpha': 4.985634685325059, 'max_iter': 1863}. Best is trial 64 with value: 21.411247479086363.\n",
      "[I 2023-09-15 16:31:01,772] Trial 92 finished with value: 21.411247375062505 and parameters: {'alpha': 4.9998883157149185, 'max_iter': 1598}. Best is trial 92 with value: 21.411247375062505.\n",
      "[I 2023-09-15 16:31:01,809] Trial 93 finished with value: 21.411247505424527 and parameters: {'alpha': 4.990012497875077, 'max_iter': 1505}. Best is trial 92 with value: 21.411247375062505.\n",
      "[I 2023-09-15 16:31:01,842] Trial 94 finished with value: 21.411249282958128 and parameters: {'alpha': 4.858676988264594, 'max_iter': 1482}. Best is trial 92 with value: 21.411247375062505.\n",
      "[I 2023-09-15 16:31:01,874] Trial 95 finished with value: 21.41125080943926 and parameters: {'alpha': 4.75043805714312, 'max_iter': 1589}. Best is trial 92 with value: 21.411247375062505.\n",
      "[I 2023-09-15 16:31:01,906] Trial 96 finished with value: 21.41124923528736 and parameters: {'alpha': 4.862122048325055, 'max_iter': 1511}. Best is trial 92 with value: 21.411247375062505.\n",
      "[I 2023-09-15 16:31:01,938] Trial 97 finished with value: 21.411247384799317 and parameters: {'alpha': 4.999149477154753, 'max_iter': 1287}. Best is trial 92 with value: 21.411247375062505.\n",
      "[I 2023-09-15 16:31:01,967] Trial 98 finished with value: 21.411252844139714 and parameters: {'alpha': 4.611939009967086, 'max_iter': 1287}. Best is trial 92 with value: 21.411247375062505.\n",
      "[I 2023-09-15 16:31:02,000] Trial 99 finished with value: 21.411256184132736 and parameters: {'alpha': 4.396987013926965, 'max_iter': 1430}. Best is trial 92 with value: 21.411247375062505.\n",
      "[I 2023-09-15 16:31:02,027] Trial 100 finished with value: 21.411249009916418 and parameters: {'alpha': 4.878464568640401, 'max_iter': 973}. Best is trial 92 with value: 21.411247375062505.\n",
      "[I 2023-09-15 16:31:02,064] Trial 101 finished with value: 21.411247384480255 and parameters: {'alpha': 4.999173684440102, 'max_iter': 1192}. Best is trial 92 with value: 21.411247375062505.\n",
      "[I 2023-09-15 16:31:02,085] Trial 102 finished with value: 21.411250110991336 and parameters: {'alpha': 4.799473603659903, 'max_iter': 1171}. Best is trial 92 with value: 21.411247375062505.\n",
      "[I 2023-09-15 16:31:02,123] Trial 103 finished with value: 21.411251449183897 and parameters: {'alpha': 4.706213835967038, 'max_iter': 1194}. Best is trial 92 with value: 21.411247375062505.\n",
      "[I 2023-09-15 16:31:02,161] Trial 104 finished with value: 21.411254240046496 and parameters: {'alpha': 4.520354782696678, 'max_iter': 1328}. Best is trial 92 with value: 21.411247375062505.\n",
      "[I 2023-09-15 16:31:02,189] Trial 105 finished with value: 21.411247413574365 and parameters: {'alpha': 4.996967141394371, 'max_iter': 817}. Best is trial 92 with value: 21.411247375062505.\n",
      "[I 2023-09-15 16:31:02,223] Trial 106 finished with value: 21.41124893273064 and parameters: {'alpha': 4.884082835812084, 'max_iter': 799}. Best is trial 92 with value: 21.411247375062505.\n",
      "[I 2023-09-15 16:31:02,258] Trial 107 finished with value: 21.411250565499476 and parameters: {'alpha': 4.767473071413228, 'max_iter': 1056}. Best is trial 92 with value: 21.411247375062505.\n",
      "[I 2023-09-15 16:31:02,288] Trial 108 finished with value: 21.41124747380301 and parameters: {'alpha': 4.992404840152889, 'max_iter': 572}. Best is trial 92 with value: 21.411247375062505.\n",
      "[I 2023-09-15 16:31:02,322] Trial 109 finished with value: 21.411252591539917 and parameters: {'alpha': 4.628799406008697, 'max_iter': 581}. Best is trial 92 with value: 21.411247375062505.\n",
      "[I 2023-09-15 16:31:02,354] Trial 110 finished with value: 21.41124880104726 and parameters: {'alpha': 4.893693188861557, 'max_iter': 842}. Best is trial 92 with value: 21.411247375062505.\n",
      "[I 2023-09-15 16:31:02,387] Trial 111 finished with value: 21.411247624279365 and parameters: {'alpha': 4.981038710456604, 'max_iter': 687}. Best is trial 92 with value: 21.411247375062505.\n",
      "[I 2023-09-15 16:31:02,421] Trial 112 finished with value: 21.411250344033157 and parameters: {'alpha': 4.783022970472349, 'max_iter': 664}. Best is trial 92 with value: 21.411247375062505.\n",
      "[I 2023-09-15 16:31:02,448] Trial 113 finished with value: 21.411248932728896 and parameters: {'alpha': 4.8840829629482165, 'max_iter': 758}. Best is trial 92 with value: 21.411247375062505.\n",
      "[I 2023-09-15 16:31:02,482] Trial 114 finished with value: 21.4112473803679 and parameters: {'alpha': 4.999485712860634, 'max_iter': 1375}. Best is trial 92 with value: 21.411247375062505.\n",
      "[I 2023-09-15 16:31:02,514] Trial 115 finished with value: 21.41125191354592 and parameters: {'alpha': 4.674510552965462, 'max_iter': 1131}. Best is trial 92 with value: 21.411247375062505.\n",
      "[I 2023-09-15 16:31:02,550] Trial 116 finished with value: 21.41124737824663 and parameters: {'alpha': 4.999646679567373, 'max_iter': 546}. Best is trial 92 with value: 21.411247375062505.\n",
      "[I 2023-09-15 16:31:02,590] Trial 117 finished with value: 21.411253707161052 and parameters: {'alpha': 4.555006406277605, 'max_iter': 543}. Best is trial 92 with value: 21.411247375062505.\n",
      "[I 2023-09-15 16:31:02,623] Trial 118 finished with value: 21.411247483335742 and parameters: {'alpha': 4.991683420933511, 'max_iter': 599}. Best is trial 92 with value: 21.411247375062505.\n",
      "[I 2023-09-15 16:31:02,653] Trial 119 finished with value: 21.411250344560944 and parameters: {'alpha': 4.782985816076447, 'max_iter': 632}. Best is trial 92 with value: 21.411247375062505.\n",
      "[I 2023-09-15 16:31:02,688] Trial 120 finished with value: 21.411248946637244 and parameters: {'alpha': 4.883069784200935, 'max_iter': 510}. Best is trial 92 with value: 21.411247375062505.\n",
      "[I 2023-09-15 16:31:02,717] Trial 121 finished with value: 21.41124847364339 and parameters: {'alpha': 4.91772727171907, 'max_iter': 586}. Best is trial 92 with value: 21.411247375062505.\n",
      "[I 2023-09-15 16:31:02,767] Trial 122 finished with value: 21.41124762727671 and parameters: {'alpha': 4.980812775648584, 'max_iter': 955}. Best is trial 92 with value: 21.411247375062505.\n",
      "[I 2023-09-15 16:31:02,798] Trial 123 finished with value: 21.411250407866877 and parameters: {'alpha': 4.778532687302455, 'max_iter': 837}. Best is trial 92 with value: 21.411247375062505.\n",
      "[I 2023-09-15 16:31:02,839] Trial 124 finished with value: 21.41125196939429 and parameters: {'alpha': 4.6707195739865055, 'max_iter': 700}. Best is trial 92 with value: 21.411247375062505.\n",
      "[I 2023-09-15 16:31:02,874] Trial 125 finished with value: 21.411248902043177 and parameters: {'alpha': 4.886319575811225, 'max_iter': 621}. Best is trial 92 with value: 21.411247375062505.\n",
      "[I 2023-09-15 16:31:02,910] Trial 126 finished with value: 21.41124743326756 and parameters: {'alpha': 4.995474567940169, 'max_iter': 1245}. Best is trial 92 with value: 21.411247375062505.\n",
      "[I 2023-09-15 16:31:02,942] Trial 127 finished with value: 21.4112474891566 and parameters: {'alpha': 4.991243000739329, 'max_iter': 1368}. Best is trial 92 with value: 21.411247375062505.\n",
      "[I 2023-09-15 16:31:02,982] Trial 128 finished with value: 21.41125039634723 and parameters: {'alpha': 4.7793425196361605, 'max_iter': 1220}. Best is trial 92 with value: 21.411247375062505.\n",
      "[I 2023-09-15 16:31:03,014] Trial 129 finished with value: 21.411254165619116 and parameters: {'alpha': 4.525172082766838, 'max_iter': 1283}. Best is trial 92 with value: 21.411247375062505.\n",
      "[I 2023-09-15 16:31:03,055] Trial 130 finished with value: 21.411287716007326 and parameters: {'alpha': 2.8163918892128006, 'max_iter': 1371}. Best is trial 92 with value: 21.411247375062505.\n",
      "[I 2023-09-15 16:31:03,090] Trial 131 finished with value: 21.411247401437667 and parameters: {'alpha': 4.997887395858697, 'max_iter': 1131}. Best is trial 92 with value: 21.411247375062505.\n",
      "[I 2023-09-15 16:31:03,122] Trial 132 finished with value: 21.411248728022144 and parameters: {'alpha': 4.8990364439736425, 'max_iter': 1126}. Best is trial 92 with value: 21.411247375062505.\n",
      "[I 2023-09-15 16:31:03,185] Trial 133 finished with value: 21.41124758128052 and parameters: {'alpha': 4.984281896090889, 'max_iter': 1242}. Best is trial 92 with value: 21.411247375062505.\n",
      "[I 2023-09-15 16:31:03,220] Trial 134 finished with value: 21.41125196686206 and parameters: {'alpha': 4.670891360555289, 'max_iter': 1082}. Best is trial 92 with value: 21.411247375062505.\n",
      "[I 2023-09-15 16:31:03,252] Trial 135 finished with value: 21.41124990612158 and parameters: {'alpha': 4.814011198081952, 'max_iter': 566}. Best is trial 92 with value: 21.411247375062505.\n",
      "[I 2023-09-15 16:31:03,290] Trial 136 finished with value: 21.411247449955066 and parameters: {'alpha': 4.994210423695904, 'max_iter': 1030}. Best is trial 92 with value: 21.411247375062505.\n",
      "[I 2023-09-15 16:31:03,322] Trial 137 finished with value: 21.411251133970605 and parameters: {'alpha': 4.727923295182097, 'max_iter': 1036}. Best is trial 92 with value: 21.411247375062505.\n",
      "[I 2023-09-15 16:31:03,354] Trial 138 finished with value: 21.41124739222554 and parameters: {'alpha': 4.998586099561931, 'max_iter': 922}. Best is trial 92 with value: 21.411247375062505.\n",
      "[I 2023-09-15 16:31:03,390] Trial 139 finished with value: 21.41124941804125 and parameters: {'alpha': 4.8489368656492084, 'max_iter': 929}. Best is trial 92 with value: 21.411247375062505.\n",
      "[I 2023-09-15 16:31:03,464] Trial 140 finished with value: 21.411252313621166 and parameters: {'alpha': 4.647455628023646, 'max_iter': 863}. Best is trial 92 with value: 21.411247375062505.\n",
      "[I 2023-09-15 16:31:03,507] Trial 141 finished with value: 21.411247419265454 and parameters: {'alpha': 4.996535724396879, 'max_iter': 989}. Best is trial 92 with value: 21.411247375062505.\n",
      "[I 2023-09-15 16:31:03,543] Trial 142 finished with value: 21.4112489190989 and parameters: {'alpha': 4.885076209242137, 'max_iter': 993}. Best is trial 92 with value: 21.411247375062505.\n",
      "[I 2023-09-15 16:31:03,580] Trial 143 finished with value: 21.4112473825481 and parameters: {'alpha': 4.999320283946755, 'max_iter': 750}. Best is trial 92 with value: 21.411247375062505.\n",
      "[I 2023-09-15 16:31:03,622] Trial 144 finished with value: 21.41125027906718 and parameters: {'alpha': 4.7875998484117, 'max_iter': 796}. Best is trial 92 with value: 21.411247375062505.\n",
      "[I 2023-09-15 16:31:03,656] Trial 145 finished with value: 21.411249288729632 and parameters: {'alpha': 4.858260170707435, 'max_iter': 912}. Best is trial 92 with value: 21.411247375062505.\n",
      "[I 2023-09-15 16:31:03,705] Trial 146 finished with value: 21.411247385408444 and parameters: {'alpha': 4.999103262334511, 'max_iter': 1166}. Best is trial 92 with value: 21.411247375062505.\n",
      "[I 2023-09-15 16:31:03,743] Trial 147 finished with value: 21.411250898038283 and parameters: {'alpha': 4.74427472393698, 'max_iter': 1178}. Best is trial 92 with value: 21.411247375062505.\n",
      "[I 2023-09-15 16:31:03,776] Trial 148 finished with value: 21.41124866283559 and parameters: {'alpha': 4.90381453955829, 'max_iter': 1112}. Best is trial 92 with value: 21.411247375062505.\n",
      "[I 2023-09-15 16:31:03,821] Trial 149 finished with value: 21.411252631183352 and parameters: {'alpha': 4.626147286113132, 'max_iter': 1036}. Best is trial 92 with value: 21.411247375062505.\n",
      "[I 2023-09-15 16:31:03,853] Trial 150 finished with value: 21.411271547625887 and parameters: {'alpha': 3.549289005784283, 'max_iter': 995}. Best is trial 92 with value: 21.411247375062505.\n",
      "[I 2023-09-15 16:31:03,891] Trial 151 finished with value: 21.411247522501686 and parameters: {'alpha': 4.988721366823094, 'max_iter': 739}. Best is trial 92 with value: 21.411247375062505.\n",
      "[I 2023-09-15 16:31:03,925] Trial 152 finished with value: 21.411248893582343 and parameters: {'alpha': 4.8869365712286195, 'max_iter': 1171}. Best is trial 92 with value: 21.411247375062505.\n",
      "[I 2023-09-15 16:31:03,970] Trial 153 finished with value: 21.411249830111156 and parameters: {'alpha': 4.819423129041177, 'max_iter': 784}. Best is trial 92 with value: 21.411247375062505.\n",
      "[I 2023-09-15 16:31:04,008] Trial 154 finished with value: 21.411248725464127 and parameters: {'alpha': 4.899223794533326, 'max_iter': 949}. Best is trial 92 with value: 21.411247375062505.\n",
      "[I 2023-09-15 16:31:04,042] Trial 155 finished with value: 21.411247410291832 and parameters: {'alpha': 4.997216006628166, 'max_iter': 1074}. Best is trial 92 with value: 21.411247375062505.\n",
      "[I 2023-09-15 16:31:04,089] Trial 156 finished with value: 21.411247382209467 and parameters: {'alpha': 4.999345978161506, 'max_iter': 1071}. Best is trial 92 with value: 21.411247375062505.\n",
      "[I 2023-09-15 16:31:04,134] Trial 157 finished with value: 21.41125119319918 and parameters: {'alpha': 4.723832245370878, 'max_iter': 1074}. Best is trial 92 with value: 21.411247375062505.\n",
      "[I 2023-09-15 16:31:04,185] Trial 158 finished with value: 21.411249830700402 and parameters: {'alpha': 4.81938113658014, 'max_iter': 1205}. Best is trial 92 with value: 21.411247375062505.\n",
      "[I 2023-09-15 16:31:04,223] Trial 159 finished with value: 21.411247376084553 and parameters: {'alpha': 4.999810752241083, 'max_iter': 1145}. Best is trial 92 with value: 21.411247375062505.\n",
      "[I 2023-09-15 16:31:04,259] Trial 160 finished with value: 21.41124739434781 and parameters: {'alpha': 4.998425118237807, 'max_iter': 1135}. Best is trial 92 with value: 21.411247375062505.\n",
      "[I 2023-09-15 16:31:04,298] Trial 161 finished with value: 21.411248681467058 and parameters: {'alpha': 4.902448065373728, 'max_iter': 1101}. Best is trial 92 with value: 21.411247375062505.\n",
      "[I 2023-09-15 16:31:04,343] Trial 162 finished with value: 21.411250155708245 and parameters: {'alpha': 4.796309936040638, 'max_iter': 1152}. Best is trial 92 with value: 21.411247375062505.\n",
      "[I 2023-09-15 16:31:04,386] Trial 163 finished with value: 21.41124854644985 and parameters: {'alpha': 4.912365273210899, 'max_iter': 1243}. Best is trial 92 with value: 21.411247375062505.\n",
      "[I 2023-09-15 16:31:04,426] Trial 164 finished with value: 21.4112631002799 and parameters: {'alpha': 3.9911180949681344, 'max_iter': 1062}. Best is trial 92 with value: 21.411247375062505.\n",
      "[I 2023-09-15 16:31:04,491] Trial 165 finished with value: 21.41124750348889 and parameters: {'alpha': 4.990158880542802, 'max_iter': 1138}. Best is trial 92 with value: 21.411247375062505.\n",
      "[I 2023-09-15 16:31:04,540] Trial 166 finished with value: 21.411251179739477 and parameters: {'alpha': 4.724761453210992, 'max_iter': 1313}. Best is trial 92 with value: 21.411247375062505.\n",
      "[I 2023-09-15 16:31:04,579] Trial 167 finished with value: 21.41124743441548 and parameters: {'alpha': 4.995387590478279, 'max_iter': 1005}. Best is trial 92 with value: 21.411247375062505.\n",
      "[I 2023-09-15 16:31:04,627] Trial 168 finished with value: 21.411325988961366 and parameters: {'alpha': 1.4283888201071346, 'max_iter': 875}. Best is trial 92 with value: 21.411247375062505.\n",
      "[I 2023-09-15 16:31:04,673] Trial 169 finished with value: 21.41125315602854 and parameters: {'alpha': 4.5912454495781745, 'max_iter': 1262}. Best is trial 92 with value: 21.411247375062505.\n",
      "[I 2023-09-15 16:31:04,721] Trial 170 finished with value: 21.41124960653541 and parameters: {'alpha': 4.835399519252523, 'max_iter': 1207}. Best is trial 92 with value: 21.411247375062505.\n",
      "[I 2023-09-15 16:31:04,760] Trial 171 finished with value: 21.41124745449989 and parameters: {'alpha': 4.993866234730067, 'max_iter': 1002}. Best is trial 92 with value: 21.411247375062505.\n",
      "[I 2023-09-15 16:31:04,804] Trial 172 finished with value: 21.41124738508674 and parameters: {'alpha': 4.9991276702517915, 'max_iter': 953}. Best is trial 92 with value: 21.411247375062505.\n",
      "[I 2023-09-15 16:31:04,845] Trial 173 finished with value: 21.411248758789952 and parameters: {'alpha': 4.896783952720012, 'max_iter': 954}. Best is trial 92 with value: 21.411247375062505.\n",
      "[I 2023-09-15 16:31:04,882] Trial 174 finished with value: 21.411249940417584 and parameters: {'alpha': 4.81157256843718, 'max_iter': 1112}. Best is trial 92 with value: 21.411247375062505.\n",
      "[I 2023-09-15 16:31:04,935] Trial 175 finished with value: 21.41124886304215 and parameters: {'alpha': 4.889164771980246, 'max_iter': 1073}. Best is trial 92 with value: 21.411247375062505.\n",
      "[I 2023-09-15 16:31:04,970] Trial 176 finished with value: 21.411304453955445 and parameters: {'alpha': 2.163163962817445, 'max_iter': 909}. Best is trial 92 with value: 21.411247375062505.\n",
      "[I 2023-09-15 16:31:05,012] Trial 177 finished with value: 21.41125156236956 and parameters: {'alpha': 4.698456052382586, 'max_iter': 976}. Best is trial 92 with value: 21.411247375062505.\n",
      "[I 2023-09-15 16:31:05,056] Trial 178 finished with value: 21.411250373486084 and parameters: {'alpha': 4.780950311218978, 'max_iter': 1216}. Best is trial 92 with value: 21.411247375062505.\n",
      "[I 2023-09-15 16:31:05,093] Trial 179 finished with value: 21.411248713525165 and parameters: {'alpha': 4.900098369495027, 'max_iter': 835}. Best is trial 92 with value: 21.411247375062505.\n",
      "[I 2023-09-15 16:31:05,128] Trial 180 finished with value: 21.411247401907712 and parameters: {'alpha': 4.997851749607132, 'max_iter': 1156}. Best is trial 92 with value: 21.411247375062505.\n",
      "[I 2023-09-15 16:31:05,174] Trial 181 finished with value: 21.411247553607716 and parameters: {'alpha': 4.986371102019233, 'max_iter': 1138}. Best is trial 92 with value: 21.411247375062505.\n",
      "[I 2023-09-15 16:31:05,215] Trial 182 finished with value: 21.411248644524562 and parameters: {'alpha': 4.905158144962588, 'max_iter': 1176}. Best is trial 92 with value: 21.411247375062505.\n",
      "[I 2023-09-15 16:31:05,248] Trial 183 finished with value: 21.41124744838754 and parameters: {'alpha': 4.994329145487799, 'max_iter': 1291}. Best is trial 92 with value: 21.411247375062505.\n",
      "[I 2023-09-15 16:31:05,290] Trial 184 finished with value: 21.411247380350098 and parameters: {'alpha': 4.999487063719509, 'max_iter': 1041}. Best is trial 92 with value: 21.411247375062505.\n",
      "[I 2023-09-15 16:31:05,322] Trial 185 finished with value: 21.411249869945504 and parameters: {'alpha': 4.81658569283768, 'max_iter': 1089}. Best is trial 92 with value: 21.411247375062505.\n",
      "[I 2023-09-15 16:31:05,374] Trial 186 finished with value: 21.411248605156764 and parameters: {'alpha': 4.908048957941797, 'max_iter': 1247}. Best is trial 92 with value: 21.411247375062505.\n",
      "[I 2023-09-15 16:31:05,407] Trial 187 finished with value: 21.411347261208125 and parameters: {'alpha': 0.7855421970262475, 'max_iter': 1047}. Best is trial 92 with value: 21.411247375062505.\n",
      "[I 2023-09-15 16:31:05,446] Trial 188 finished with value: 21.411251139837894 and parameters: {'alpha': 4.727517782370093, 'max_iter': 1175}. Best is trial 92 with value: 21.411247375062505.\n",
      "[I 2023-09-15 16:31:05,478] Trial 189 finished with value: 21.411277947687854 and parameters: {'alpha': 3.244211848509493, 'max_iter': 901}. Best is trial 92 with value: 21.411247375062505.\n",
      "[I 2023-09-15 16:31:05,519] Trial 190 finished with value: 21.411249799912845 and parameters: {'alpha': 4.821576000995791, 'max_iter': 1110}. Best is trial 92 with value: 21.411247375062505.\n",
      "[I 2023-09-15 16:31:05,554] Trial 191 finished with value: 21.4112473891239 and parameters: {'alpha': 4.998821386253065, 'max_iter': 1001}. Best is trial 92 with value: 21.411247375062505.\n",
      "[I 2023-09-15 16:31:05,590] Trial 192 finished with value: 21.41124884165316 and parameters: {'alpha': 4.890726328454164, 'max_iter': 957}. Best is trial 92 with value: 21.411247375062505.\n",
      "[I 2023-09-15 16:31:05,626] Trial 193 finished with value: 21.411248402580217 and parameters: {'alpha': 4.9229705842684375, 'max_iter': 1068}. Best is trial 92 with value: 21.411247375062505.\n",
      "[I 2023-09-15 16:31:05,671] Trial 194 finished with value: 21.41136307855639 and parameters: {'alpha': 0.34804545005939946, 'max_iter': 1011}. Best is trial 92 with value: 21.411247375062505.\n",
      "[I 2023-09-15 16:31:05,706] Trial 195 finished with value: 21.411247396572502 and parameters: {'alpha': 4.998256377763588, 'max_iter': 1147}. Best is trial 92 with value: 21.411247375062505.\n",
      "[I 2023-09-15 16:31:05,734] Trial 196 finished with value: 21.411250051204973 and parameters: {'alpha': 4.8037086907080155, 'max_iter': 1151}. Best is trial 92 with value: 21.411247375062505.\n",
      "[I 2023-09-15 16:31:05,788] Trial 197 finished with value: 21.41124746944718 and parameters: {'alpha': 4.992734543341394, 'max_iter': 1031}. Best is trial 92 with value: 21.411247375062505.\n",
      "[I 2023-09-15 16:31:05,827] Trial 198 finished with value: 21.411248800146222 and parameters: {'alpha': 4.8937590578059105, 'max_iter': 1113}. Best is trial 92 with value: 21.411247375062505.\n",
      "[I 2023-09-15 16:31:05,858] Trial 199 finished with value: 21.411260298984853 and parameters: {'alpha': 4.149907503426041, 'max_iter': 871}. Best is trial 92 with value: 21.411247375062505.\n",
      "[I 2023-09-15 16:31:05,900] Trial 200 finished with value: 21.41125140072929 and parameters: {'alpha': 4.709540964821654, 'max_iter': 939}. Best is trial 92 with value: 21.411247375062505.\n",
      "[I 2023-09-15 16:31:05,941] Trial 201 finished with value: 21.411248606315922 and parameters: {'alpha': 4.907963798210774, 'max_iter': 1198}. Best is trial 92 with value: 21.411247375062505.\n",
      "[I 2023-09-15 16:31:05,969] Trial 202 finished with value: 21.41124746789494 and parameters: {'alpha': 4.992852045478734, 'max_iter': 1282}. Best is trial 92 with value: 21.411247375062505.\n",
      "[I 2023-09-15 16:31:06,018] Trial 203 finished with value: 21.411249671593282 and parameters: {'alpha': 4.8307416275486394, 'max_iter': 1210}. Best is trial 92 with value: 21.411247375062505.\n",
      "[I 2023-09-15 16:31:06,051] Trial 204 finished with value: 21.411247406070856 and parameters: {'alpha': 4.997536052465343, 'max_iter': 1353}. Best is trial 92 with value: 21.411247375062505.\n",
      "[I 2023-09-15 16:31:06,095] Trial 205 finished with value: 21.411270706799055 and parameters: {'alpha': 3.591099838619199, 'max_iter': 1399}. Best is trial 92 with value: 21.411247375062505.\n",
      "[I 2023-09-15 16:31:06,134] Trial 206 finished with value: 21.41124744225674 and parameters: {'alpha': 4.994793531061918, 'max_iter': 1332}. Best is trial 92 with value: 21.411247375062505.\n",
      "[I 2023-09-15 16:31:06,177] Trial 207 finished with value: 21.411286532723018 and parameters: {'alpha': 2.8661124262945474, 'max_iter': 1145}. Best is trial 92 with value: 21.411247375062505.\n",
      "[I 2023-09-15 16:31:06,219] Trial 208 finished with value: 21.411249022984947 and parameters: {'alpha': 4.877514402595663, 'max_iter': 1071}. Best is trial 92 with value: 21.411247375062505.\n",
      "[I 2023-09-15 16:31:06,255] Trial 209 finished with value: 21.411250528039538 and parameters: {'alpha': 4.770097588907944, 'max_iter': 974}. Best is trial 92 with value: 21.411247375062505.\n",
      "[I 2023-09-15 16:31:06,295] Trial 210 finished with value: 21.411247389197513 and parameters: {'alpha': 4.998815801824387, 'max_iter': 801}. Best is trial 92 with value: 21.411247375062505.\n",
      "[I 2023-09-15 16:31:06,327] Trial 211 finished with value: 21.411248716618864 and parameters: {'alpha': 4.8998717184830385, 'max_iter': 788}. Best is trial 92 with value: 21.411247375062505.\n",
      "[I 2023-09-15 16:31:06,369] Trial 212 finished with value: 21.41124857952585 and parameters: {'alpha': 4.909932624315381, 'max_iter': 805}. Best is trial 92 with value: 21.411247375062505.\n",
      "[I 2023-09-15 16:31:06,407] Trial 213 finished with value: 21.41124977104442 and parameters: {'alpha': 4.823635533925561, 'max_iter': 737}. Best is trial 92 with value: 21.411247375062505.\n",
      "[I 2023-09-15 16:31:06,444] Trial 214 finished with value: 21.411263703438536 and parameters: {'alpha': 3.957815756287474, 'max_iter': 851}. Best is trial 92 with value: 21.411247375062505.\n",
      "[I 2023-09-15 16:31:06,487] Trial 215 finished with value: 21.41124740715857 and parameters: {'alpha': 4.997453575756054, 'max_iter': 1016}. Best is trial 92 with value: 21.411247375062505.\n",
      "[I 2023-09-15 16:31:06,521] Trial 216 finished with value: 21.411247422478212 and parameters: {'alpha': 4.996292208420325, 'max_iter': 1106}. Best is trial 92 with value: 21.411247375062505.\n",
      "[I 2023-09-15 16:31:06,567] Trial 217 finished with value: 21.41124859131233 and parameters: {'alpha': 4.909066259184793, 'max_iter': 1041}. Best is trial 92 with value: 21.411247375062505.\n",
      "[I 2023-09-15 16:31:06,604] Trial 218 finished with value: 21.411250149956864 and parameters: {'alpha': 4.796716650757348, 'max_iter': 1428}. Best is trial 92 with value: 21.411247375062505.\n",
      "[I 2023-09-15 16:31:06,648] Trial 219 finished with value: 21.411247439635606 and parameters: {'alpha': 4.994992096015569, 'max_iter': 914}. Best is trial 92 with value: 21.411247375062505.\n",
      "[I 2023-09-15 16:31:06,681] Trial 220 finished with value: 21.411268101722328 and parameters: {'alpha': 3.7234913596594517, 'max_iter': 1171}. Best is trial 92 with value: 21.411247375062505.\n",
      "[I 2023-09-15 16:31:06,722] Trial 221 finished with value: 21.41124741460143 and parameters: {'alpha': 4.996889279154382, 'max_iter': 999}. Best is trial 92 with value: 21.411247375062505.\n",
      "[I 2023-09-15 16:31:06,764] Trial 222 finished with value: 21.41124739283155 and parameters: {'alpha': 4.998540130620873, 'max_iter': 1023}. Best is trial 92 with value: 21.411247375062505.\n",
      "[I 2023-09-15 16:31:06,797] Trial 223 finished with value: 21.411248777229545 and parameters: {'alpha': 4.895434845499204, 'max_iter': 1081}. Best is trial 92 with value: 21.411247375062505.\n",
      "[I 2023-09-15 16:31:06,843] Trial 224 finished with value: 21.411247395567766 and parameters: {'alpha': 4.998332584554681, 'max_iter': 1137}. Best is trial 92 with value: 21.411247375062505.\n",
      "[I 2023-09-15 16:31:06,878] Trial 225 finished with value: 21.41124951107082 and parameters: {'alpha': 4.842247817451488, 'max_iter': 1129}. Best is trial 92 with value: 21.411247375062505.\n",
      "[I 2023-09-15 16:31:06,923] Trial 226 finished with value: 21.41129179405513 and parameters: {'alpha': 2.6489723226402986, 'max_iter': 1052}. Best is trial 92 with value: 21.411247375062505.\n",
      "[I 2023-09-15 16:31:06,963] Trial 227 finished with value: 21.411248616869482 and parameters: {'alpha': 4.907188578230328, 'max_iter': 1242}. Best is trial 92 with value: 21.411247375062505.\n",
      "[I 2023-09-15 16:31:07,009] Trial 228 finished with value: 21.41125113978015 and parameters: {'alpha': 4.727521773218644, 'max_iter': 1146}. Best is trial 92 with value: 21.411247375062505.\n",
      "[I 2023-09-15 16:31:07,046] Trial 229 finished with value: 21.411261788345012 and parameters: {'alpha': 4.064615898175709, 'max_iter': 1349}. Best is trial 92 with value: 21.411247375062505.\n",
      "[I 2023-09-15 16:31:07,084] Trial 230 finished with value: 21.41124960855248 and parameters: {'alpha': 4.835254993907818, 'max_iter': 1201}. Best is trial 92 with value: 21.411247375062505.\n",
      "[I 2023-09-15 16:31:07,121] Trial 231 finished with value: 21.411247437153687 and parameters: {'alpha': 4.995180127621758, 'max_iter': 1074}. Best is trial 92 with value: 21.411247375062505.\n",
      "[I 2023-09-15 16:31:07,157] Trial 232 finished with value: 21.411247395392138 and parameters: {'alpha': 4.998345905743071, 'max_iter': 1020}. Best is trial 92 with value: 21.411247375062505.\n",
      "[I 2023-09-15 16:31:07,206] Trial 233 finished with value: 21.411247379786392 and parameters: {'alpha': 4.9995298381101625, 'max_iter': 1010}. Best is trial 92 with value: 21.411247375062505.\n",
      "[I 2023-09-15 16:31:07,241] Trial 234 finished with value: 21.41131555539114 and parameters: {'alpha': 1.7720023266812994, 'max_iter': 1001}. Best is trial 92 with value: 21.411247375062505.\n",
      "[I 2023-09-15 16:31:07,280] Trial 235 finished with value: 21.411248501984122 and parameters: {'alpha': 4.915638860651549, 'max_iter': 938}. Best is trial 92 with value: 21.411247375062505.\n",
      "[I 2023-09-15 16:31:07,312] Trial 236 finished with value: 21.41124877185648 and parameters: {'alpha': 4.895827893130215, 'max_iter': 1020}. Best is trial 92 with value: 21.411247375062505.\n",
      "[I 2023-09-15 16:31:07,354] Trial 237 finished with value: 21.411249992038293 and parameters: {'alpha': 4.807905844601751, 'max_iter': 1106}. Best is trial 92 with value: 21.411247375062505.\n",
      "[I 2023-09-15 16:31:07,394] Trial 238 finished with value: 21.411257961525543 and parameters: {'alpha': 4.288071537951579, 'max_iter': 1158}. Best is trial 92 with value: 21.411247375062505.\n",
      "[I 2023-09-15 16:31:07,427] Trial 239 finished with value: 21.411247389261145 and parameters: {'alpha': 4.998810974672922, 'max_iter': 1294}. Best is trial 92 with value: 21.411247375062505.\n",
      "[I 2023-09-15 16:31:07,472] Trial 240 finished with value: 21.411248685739654 and parameters: {'alpha': 4.902134795114492, 'max_iter': 1303}. Best is trial 92 with value: 21.411247375062505.\n",
      "[I 2023-09-15 16:31:07,507] Trial 241 finished with value: 21.411248503139475 and parameters: {'alpha': 4.915553755628781, 'max_iter': 1218}. Best is trial 92 with value: 21.411247375062505.\n",
      "[I 2023-09-15 16:31:07,548] Trial 242 finished with value: 21.41124741596491 and parameters: {'alpha': 4.996785916388307, 'max_iter': 1023}. Best is trial 92 with value: 21.411247375062505.\n",
      "[I 2023-09-15 16:31:07,585] Trial 243 finished with value: 21.41124894766509 and parameters: {'alpha': 4.88299492276494, 'max_iter': 1294}. Best is trial 92 with value: 21.411247375062505.\n",
      "[I 2023-09-15 16:31:07,627] Trial 244 finished with value: 21.411247397674888 and parameters: {'alpha': 4.998172766685165, 'max_iter': 956}. Best is trial 92 with value: 21.411247375062505.\n",
      "[I 2023-09-15 16:31:07,664] Trial 245 finished with value: 21.411259862933345 and parameters: {'alpha': 4.175270809082471, 'max_iter': 962}. Best is trial 92 with value: 21.411247375062505.\n",
      "[I 2023-09-15 16:31:07,707] Trial 246 finished with value: 21.41128200820725 and parameters: {'alpha': 3.0613770519320864, 'max_iter': 892}. Best is trial 92 with value: 21.411247375062505.\n",
      "[I 2023-09-15 16:31:07,744] Trial 247 finished with value: 21.411300993025517 and parameters: {'alpha': 2.2913546736047303, 'max_iter': 1366}. Best is trial 92 with value: 21.411247375062505.\n",
      "[I 2023-09-15 16:31:07,779] Trial 248 finished with value: 21.411247415699894 and parameters: {'alpha': 4.99680600657551, 'max_iter': 1116}. Best is trial 92 with value: 21.411247375062505.\n",
      "[I 2023-09-15 16:31:07,825] Trial 249 finished with value: 21.411250017348305 and parameters: {'alpha': 4.806109680696474, 'max_iter': 1259}. Best is trial 92 with value: 21.411247375062505.\n",
      "[I 2023-09-15 16:31:07,860] Trial 250 finished with value: 21.411247393839496 and parameters: {'alpha': 4.998463674739882, 'max_iter': 1177}. Best is trial 92 with value: 21.411247375062505.\n",
      "[I 2023-09-15 16:31:07,904] Trial 251 finished with value: 21.41124877282527 and parameters: {'alpha': 4.895757020542031, 'max_iter': 1176}. Best is trial 92 with value: 21.411247375062505.\n",
      "[I 2023-09-15 16:31:07,941] Trial 252 finished with value: 21.41125083778848 and parameters: {'alpha': 4.748464591159538, 'max_iter': 1170}. Best is trial 92 with value: 21.411247375062505.\n",
      "[I 2023-09-15 16:31:08,013] Trial 253 finished with value: 21.411275391054975 and parameters: {'alpha': 3.3634291550165667, 'max_iter': 1109}. Best is trial 92 with value: 21.411247375062505.\n",
      "[I 2023-09-15 16:31:08,054] Trial 254 finished with value: 21.411249515865762 and parameters: {'alpha': 4.841903463621744, 'max_iter': 1061}. Best is trial 92 with value: 21.411247375062505.\n",
      "[I 2023-09-15 16:31:08,108] Trial 255 finished with value: 21.411248537677952 and parameters: {'alpha': 4.913010768439129, 'max_iter': 948}. Best is trial 92 with value: 21.411247375062505.\n",
      "[I 2023-09-15 16:31:08,144] Trial 256 finished with value: 21.411247398565163 and parameters: {'alpha': 4.998105245202266, 'max_iter': 1224}. Best is trial 92 with value: 21.411247375062505.\n",
      "[I 2023-09-15 16:31:08,195] Trial 257 finished with value: 21.411256064282515 and parameters: {'alpha': 4.40446002527407, 'max_iter': 1230}. Best is trial 92 with value: 21.411247375062505.\n",
      "[I 2023-09-15 16:31:08,232] Trial 258 finished with value: 21.411252665488643 and parameters: {'alpha': 4.623854100591867, 'max_iter': 1217}. Best is trial 92 with value: 21.411247375062505.\n",
      "[I 2023-09-15 16:31:08,271] Trial 259 finished with value: 21.411250546550676 and parameters: {'alpha': 4.768800374844472, 'max_iter': 988}. Best is trial 92 with value: 21.411247375062505.\n",
      "[I 2023-09-15 16:31:08,313] Trial 260 finished with value: 21.411248769974215 and parameters: {'alpha': 4.8959655963564295, 'max_iter': 1283}. Best is trial 92 with value: 21.411247375062505.\n",
      "[I 2023-09-15 16:31:08,351] Trial 261 finished with value: 21.411249709551523 and parameters: {'alpha': 4.828027369020541, 'max_iter': 885}. Best is trial 92 with value: 21.411247375062505.\n",
      "[I 2023-09-15 16:31:08,390] Trial 262 finished with value: 21.411297252044243 and parameters: {'alpha': 2.433674301244517, 'max_iter': 1055}. Best is trial 92 with value: 21.411247375062505.\n",
      "[I 2023-09-15 16:31:08,434] Trial 263 finished with value: 21.411247389875413 and parameters: {'alpha': 4.998764375607031, 'max_iter': 1106}. Best is trial 92 with value: 21.411247375062505.\n",
      "[I 2023-09-15 16:31:08,472] Trial 264 finished with value: 21.411248661278105 and parameters: {'alpha': 4.903928798584857, 'max_iter': 956}. Best is trial 92 with value: 21.411247375062505.\n",
      "[I 2023-09-15 16:31:08,521] Trial 265 finished with value: 21.41125104673419 and parameters: {'alpha': 4.733958977999826, 'max_iter': 1091}. Best is trial 92 with value: 21.411247375062505.\n",
      "[I 2023-09-15 16:31:08,557] Trial 266 finished with value: 21.411247377596922 and parameters: {'alpha': 4.999695982873195, 'max_iter': 680}. Best is trial 92 with value: 21.411247375062505.\n",
      "[I 2023-09-15 16:31:08,601] Trial 267 finished with value: 21.411248708754172 and parameters: {'alpha': 4.900447937556638, 'max_iter': 1039}. Best is trial 92 with value: 21.411247375062505.\n",
      "[I 2023-09-15 16:31:08,639] Trial 268 finished with value: 21.411252159238206 and parameters: {'alpha': 4.657867697470587, 'max_iter': 762}. Best is trial 92 with value: 21.411247375062505.\n",
      "[I 2023-09-15 16:31:08,679] Trial 269 finished with value: 21.411267041272314 and parameters: {'alpha': 3.7786886166988114, 'max_iter': 662}. Best is trial 92 with value: 21.411247375062505.\n",
      "[I 2023-09-15 16:31:08,719] Trial 270 finished with value: 21.411249699359566 and parameters: {'alpha': 4.828755913479616, 'max_iter': 685}. Best is trial 92 with value: 21.411247375062505.\n",
      "[I 2023-09-15 16:31:08,755] Trial 271 finished with value: 21.411247444217658 and parameters: {'alpha': 4.994644990594724, 'max_iter': 628}. Best is trial 92 with value: 21.411247375062505.\n",
      "[I 2023-09-15 16:31:08,798] Trial 272 finished with value: 21.41126405985268 and parameters: {'alpha': 3.9382768435020683, 'max_iter': 714}. Best is trial 92 with value: 21.411247375062505.\n",
      "[I 2023-09-15 16:31:08,838] Trial 273 finished with value: 21.41127108401303 and parameters: {'alpha': 3.5722889433878153, 'max_iter': 526}. Best is trial 92 with value: 21.411247375062505.\n",
      "[I 2023-09-15 16:31:08,880] Trial 274 finished with value: 21.41125440949461 and parameters: {'alpha': 4.509414094816114, 'max_iter': 884}. Best is trial 92 with value: 21.411247375062505.\n",
      "[I 2023-09-15 16:31:08,921] Trial 275 finished with value: 21.41127423795226 and parameters: {'alpha': 3.41831993169501, 'max_iter': 1129}. Best is trial 92 with value: 21.411247375062505.\n",
      "[I 2023-09-15 16:31:08,966] Trial 276 finished with value: 21.411307674620954 and parameters: {'alpha': 2.046670356201912, 'max_iter': 1009}. Best is trial 92 with value: 21.411247375062505.\n",
      "[I 2023-09-15 16:31:09,007] Trial 277 finished with value: 21.41124866906485 and parameters: {'alpha': 4.903357599304106, 'max_iter': 845}. Best is trial 92 with value: 21.411247375062505.\n",
      "[I 2023-09-15 16:31:09,053] Trial 278 finished with value: 21.41125005934745 and parameters: {'alpha': 4.803131546527665, 'max_iter': 922}. Best is trial 92 with value: 21.411247375062505.\n",
      "[I 2023-09-15 16:31:09,089] Trial 279 finished with value: 21.411248476841536 and parameters: {'alpha': 4.917491526334852, 'max_iter': 1074}. Best is trial 92 with value: 21.411247375062505.\n",
      "[I 2023-09-15 16:31:09,136] Trial 280 finished with value: 21.411257966398537 and parameters: {'alpha': 4.287777688506543, 'max_iter': 1174}. Best is trial 92 with value: 21.411247375062505.\n",
      "[I 2023-09-15 16:31:09,181] Trial 281 finished with value: 21.411250621819715 and parameters: {'alpha': 4.763531482490987, 'max_iter': 991}. Best is trial 92 with value: 21.411247375062505.\n",
      "[I 2023-09-15 16:31:09,222] Trial 282 finished with value: 21.41124737590539 and parameters: {'alpha': 4.9998243488700576, 'max_iter': 1109}. Best is trial 92 with value: 21.411247375062505.\n",
      "[I 2023-09-15 16:31:09,258] Trial 283 finished with value: 21.41124864437747 and parameters: {'alpha': 4.905168940331552, 'max_iter': 1949}. Best is trial 92 with value: 21.411247375062505.\n",
      "[I 2023-09-15 16:31:09,303] Trial 284 finished with value: 21.411251582344793 and parameters: {'alpha': 4.697088984228624, 'max_iter': 1108}. Best is trial 92 with value: 21.411247375062505.\n",
      "[I 2023-09-15 16:31:09,341] Trial 285 finished with value: 21.411247444750625 and parameters: {'alpha': 4.994604619144636, 'max_iter': 1161}. Best is trial 92 with value: 21.411247375062505.\n",
      "[I 2023-09-15 16:31:09,382] Trial 286 finished with value: 21.411249567283075 and parameters: {'alpha': 4.838213410924395, 'max_iter': 1090}. Best is trial 92 with value: 21.411247375062505.\n",
      "[I 2023-09-15 16:31:09,417] Trial 287 finished with value: 21.411247422628275 and parameters: {'alpha': 4.996280834445208, 'max_iter': 1196}. Best is trial 92 with value: 21.411247375062505.\n",
      "[I 2023-09-15 16:31:09,460] Trial 288 finished with value: 21.411249667167038 and parameters: {'alpha': 4.83105829584983, 'max_iter': 1783}. Best is trial 92 with value: 21.411247375062505.\n",
      "[I 2023-09-15 16:31:09,499] Trial 289 finished with value: 21.41129090419252 and parameters: {'alpha': 2.685002451298711, 'max_iter': 1134}. Best is trial 92 with value: 21.411247375062505.\n",
      "[I 2023-09-15 16:31:09,543] Trial 290 finished with value: 21.4112485549624 and parameters: {'alpha': 4.911739001507154, 'max_iter': 1039}. Best is trial 92 with value: 21.411247375062505.\n",
      "[I 2023-09-15 16:31:09,579] Trial 291 finished with value: 21.41126227791082 and parameters: {'alpha': 4.037015559058201, 'max_iter': 1269}. Best is trial 92 with value: 21.411247375062505.\n",
      "[I 2023-09-15 16:31:09,624] Trial 292 finished with value: 21.41126815211761 and parameters: {'alpha': 3.720887632738548, 'max_iter': 653}. Best is trial 92 with value: 21.411247375062505.\n",
      "[I 2023-09-15 16:31:09,660] Trial 293 finished with value: 21.411318773842364 and parameters: {'alpha': 1.6637232840666387, 'max_iter': 1052}. Best is trial 92 with value: 21.411247375062505.\n",
      "[I 2023-09-15 16:31:09,708] Trial 294 finished with value: 21.411251243172053 and parameters: {'alpha': 4.720384789176062, 'max_iter': 577}. Best is trial 92 with value: 21.411247375062505.\n",
      "[I 2023-09-15 16:31:09,743] Trial 295 finished with value: 21.411280918725847 and parameters: {'alpha': 3.109691218123049, 'max_iter': 1445}. Best is trial 92 with value: 21.411247375062505.\n",
      "[I 2023-09-15 16:31:09,795] Trial 296 finished with value: 21.411248592784755 and parameters: {'alpha': 4.908958046821783, 'max_iter': 1184}. Best is trial 92 with value: 21.411247375062505.\n",
      "[I 2023-09-15 16:31:09,836] Trial 297 finished with value: 21.411247419373776 and parameters: {'alpha': 4.996527513687689, 'max_iter': 1128}. Best is trial 92 with value: 21.411247375062505.\n",
      "[I 2023-09-15 16:31:09,877] Trial 298 finished with value: 21.41125350191761 and parameters: {'alpha': 4.568453605120595, 'max_iter': 760}. Best is trial 92 with value: 21.411247375062505.\n",
      "[I 2023-09-15 16:31:09,913] Trial 299 finished with value: 21.411249805205106 and parameters: {'alpha': 4.8211985961485455, 'max_iter': 1261}. Best is trial 92 with value: 21.411247375062505.\n",
      "[I 2023-09-15 16:31:09,958] Trial 300 finished with value: 21.411284522090206 and parameters: {'alpha': 2.9518493374256867, 'max_iter': 717}. Best is trial 92 with value: 21.411247375062505.\n",
      "[I 2023-09-15 16:31:09,992] Trial 301 finished with value: 21.411261055414332 and parameters: {'alpha': 4.106334842056006, 'max_iter': 1079}. Best is trial 92 with value: 21.411247375062505.\n",
      "[I 2023-09-15 16:31:10,035] Trial 302 finished with value: 21.411248633353978 and parameters: {'alpha': 4.905978115606761, 'max_iter': 1019}. Best is trial 92 with value: 21.411247375062505.\n",
      "[I 2023-09-15 16:31:10,075] Trial 303 finished with value: 21.411255368763168 and parameters: {'alpha': 4.448164053340581, 'max_iter': 1307}. Best is trial 92 with value: 21.411247375062505.\n",
      "[I 2023-09-15 16:31:10,117] Trial 304 finished with value: 21.411312854151838 and parameters: {'alpha': 1.864570905319669, 'max_iter': 1196}. Best is trial 92 with value: 21.411247375062505.\n",
      "[I 2023-09-15 16:31:10,167] Trial 305 finished with value: 21.411249956908254 and parameters: {'alpha': 4.810400708859602, 'max_iter': 1116}. Best is trial 92 with value: 21.411247375062505.\n",
      "[I 2023-09-15 16:31:10,212] Trial 306 finished with value: 21.411258791885523 and parameters: {'alpha': 4.238358750650155, 'max_iter': 826}. Best is trial 92 with value: 21.411247375062505.\n",
      "[I 2023-09-15 16:31:10,251] Trial 307 finished with value: 21.411252135839153 and parameters: {'alpha': 4.659448860766914, 'max_iter': 993}. Best is trial 92 with value: 21.411247375062505.\n",
      "[I 2023-09-15 16:31:10,289] Trial 308 finished with value: 21.41124879470324 and parameters: {'alpha': 4.894156988909886, 'max_iter': 502}. Best is trial 92 with value: 21.411247375062505.\n",
      "[I 2023-09-15 16:31:10,339] Trial 309 finished with value: 21.41124850256864 and parameters: {'alpha': 4.9155958039210645, 'max_iter': 1059}. Best is trial 92 with value: 21.411247375062505.\n",
      "[I 2023-09-15 16:31:10,378] Trial 310 finished with value: 21.41125081874808 and parameters: {'alpha': 4.749789902465276, 'max_iter': 1155}. Best is trial 92 with value: 21.411247375062505.\n",
      "[I 2023-09-15 16:31:10,414] Trial 311 finished with value: 21.41124740195129 and parameters: {'alpha': 4.9978484447356175, 'max_iter': 1240}. Best is trial 92 with value: 21.411247375062505.\n",
      "[I 2023-09-15 16:31:10,454] Trial 312 finished with value: 21.41132921767784 and parameters: {'alpha': 1.3261652200666507, 'max_iter': 934}. Best is trial 92 with value: 21.411247375062505.\n",
      "[I 2023-09-15 16:31:10,499] Trial 313 finished with value: 21.411249760759194 and parameters: {'alpha': 4.824369651142716, 'max_iter': 1096}. Best is trial 92 with value: 21.411247375062505.\n",
      "[I 2023-09-15 16:31:10,546] Trial 314 finished with value: 21.411248340908706 and parameters: {'alpha': 4.927528751809814, 'max_iter': 1209}. Best is trial 92 with value: 21.411247375062505.\n",
      "[I 2023-09-15 16:31:10,582] Trial 315 finished with value: 21.411247375612447 and parameters: {'alpha': 4.999846580244384, 'max_iter': 1035}. Best is trial 92 with value: 21.411247375062505.\n",
      "[I 2023-09-15 16:31:10,626] Trial 316 finished with value: 21.411247409725366 and parameters: {'alpha': 4.9972589555198725, 'max_iter': 982}. Best is trial 92 with value: 21.411247375062505.\n",
      "[I 2023-09-15 16:31:10,670] Trial 317 finished with value: 21.411249628365 and parameters: {'alpha': 4.833835782159767, 'max_iter': 1038}. Best is trial 92 with value: 21.411247375062505.\n",
      "[I 2023-09-15 16:31:10,711] Trial 318 finished with value: 21.41127045638427 and parameters: {'alpha': 3.603636312532745, 'max_iter': 1696}. Best is trial 92 with value: 21.411247375062505.\n",
      "[I 2023-09-15 16:31:10,755] Trial 319 finished with value: 21.411301766578347 and parameters: {'alpha': 2.2624218273894923, 'max_iter': 916}. Best is trial 92 with value: 21.411247375062505.\n",
      "[I 2023-09-15 16:31:10,796] Trial 320 finished with value: 21.411251114114215 and parameters: {'alpha': 4.729296056248462, 'max_iter': 806}. Best is trial 92 with value: 21.411247375062505.\n",
      "[I 2023-09-15 16:31:10,839] Trial 321 finished with value: 21.411248658078513 and parameters: {'alpha': 4.904163538406271, 'max_iter': 1390}. Best is trial 92 with value: 21.411247375062505.\n",
      "[I 2023-09-15 16:31:10,875] Trial 322 finished with value: 21.41125272386973 and parameters: {'alpha': 4.619955397097041, 'max_iter': 977}. Best is trial 92 with value: 21.411247375062505.\n",
      "[I 2023-09-15 16:31:10,921] Trial 323 finished with value: 21.411267428680564 and parameters: {'alpha': 3.758432583209016, 'max_iter': 1034}. Best is trial 92 with value: 21.411247375062505.\n",
      "[I 2023-09-15 16:31:10,957] Trial 324 finished with value: 21.411249612021393 and parameters: {'alpha': 4.835006458832875, 'max_iter': 1594}. Best is trial 92 with value: 21.411247375062505.\n",
      "[I 2023-09-15 16:31:11,003] Trial 325 finished with value: 21.411247475288864 and parameters: {'alpha': 4.992292381232313, 'max_iter': 1096}. Best is trial 92 with value: 21.411247375062505.\n",
      "[I 2023-09-15 16:31:11,043] Trial 326 finished with value: 21.41124856175399 and parameters: {'alpha': 4.9112394392885985, 'max_iter': 895}. Best is trial 92 with value: 21.411247375062505.\n",
      "[I 2023-09-15 16:31:11,098] Trial 327 finished with value: 21.41125738161043 and parameters: {'alpha': 4.323223341333814, 'max_iter': 1025}. Best is trial 92 with value: 21.411247375062505.\n",
      "[I 2023-09-15 16:31:11,142] Trial 328 finished with value: 21.411247391880945 and parameters: {'alpha': 4.998612239067221, 'max_iter': 617}. Best is trial 92 with value: 21.411247375062505.\n",
      "[I 2023-09-15 16:31:11,195] Trial 329 finished with value: 21.41125065109302 and parameters: {'alpha': 4.761484824280014, 'max_iter': 608}. Best is trial 92 with value: 21.411247375062505.\n",
      "[I 2023-09-15 16:31:11,237] Trial 330 finished with value: 21.41124739172114 and parameters: {'alpha': 4.998624361349129, 'max_iter': 549}. Best is trial 92 with value: 21.411247375062505.\n",
      "[I 2023-09-15 16:31:11,275] Trial 331 finished with value: 21.411310724713662 and parameters: {'alpha': 1.9386831878890556, 'max_iter': 589}. Best is trial 92 with value: 21.411247375062505.\n",
      "[I 2023-09-15 16:31:11,318] Trial 332 finished with value: 21.411249381214912 and parameters: {'alpha': 4.851588998063703, 'max_iter': 666}. Best is trial 92 with value: 21.411247375062505.\n",
      "[I 2023-09-15 16:31:11,355] Trial 333 finished with value: 21.411248607242996 and parameters: {'alpha': 4.907895690979606, 'max_iter': 556}. Best is trial 92 with value: 21.411247375062505.\n",
      "[I 2023-09-15 16:31:11,403] Trial 334 finished with value: 21.411251676201438 and parameters: {'alpha': 4.690673766407945, 'max_iter': 682}. Best is trial 92 with value: 21.411247375062505.\n",
      "[I 2023-09-15 16:31:11,446] Trial 335 finished with value: 21.411297858795784 and parameters: {'alpha': 2.4103140187037373, 'max_iter': 2275}. Best is trial 92 with value: 21.411247375062505.\n",
      "[I 2023-09-15 16:31:11,486] Trial 336 finished with value: 21.411249689729136 and parameters: {'alpha': 4.829444484837406, 'max_iter': 623}. Best is trial 92 with value: 21.411247375062505.\n",
      "[I 2023-09-15 16:31:11,532] Trial 337 finished with value: 21.41129116882526 and parameters: {'alpha': 2.6742591121778587, 'max_iter': 526}. Best is trial 92 with value: 21.411247375062505.\n",
      "[I 2023-09-15 16:31:11,581] Trial 338 finished with value: 21.411288421962396 and parameters: {'alpha': 2.7869797964447622, 'max_iter': 623}. Best is trial 92 with value: 21.411247375062505.\n",
      "[I 2023-09-15 16:31:11,625] Trial 339 finished with value: 21.411265288155967 and parameters: {'alpha': 3.871712352280208, 'max_iter': 554}. Best is trial 92 with value: 21.411247375062505.\n",
      "[I 2023-09-15 16:31:11,700] Trial 340 finished with value: 21.411248540975414 and parameters: {'alpha': 4.912768101999667, 'max_iter': 727}. Best is trial 92 with value: 21.411247375062505.\n",
      "[I 2023-09-15 16:31:11,740] Trial 341 finished with value: 21.411295474097752 and parameters: {'alpha': 2.502769503460375, 'max_iter': 573}. Best is trial 92 with value: 21.411247375062505.\n",
      "[I 2023-09-15 16:31:11,791] Trial 342 finished with value: 21.411265739008428 and parameters: {'alpha': 3.8475716651174214, 'max_iter': 648}. Best is trial 92 with value: 21.411247375062505.\n",
      "[I 2023-09-15 16:31:11,831] Trial 343 finished with value: 21.411322568553075 and parameters: {'alpha': 1.5387224410676161, 'max_iter': 767}. Best is trial 92 with value: 21.411247375062505.\n",
      "[I 2023-09-15 16:31:11,871] Trial 344 finished with value: 21.411247397613828 and parameters: {'alpha': 4.998177397768778, 'max_iter': 500}. Best is trial 92 with value: 21.411247375062505.\n",
      "[I 2023-09-15 16:31:11,916] Trial 345 finished with value: 21.41125592518131 and parameters: {'alpha': 4.413154540472592, 'max_iter': 702}. Best is trial 92 with value: 21.411247375062505.\n",
      "[I 2023-09-15 16:31:11,961] Trial 346 finished with value: 21.411250523752642 and parameters: {'alpha': 4.770398084271995, 'max_iter': 1327}. Best is trial 92 with value: 21.411247375062505.\n",
      "[I 2023-09-15 16:31:12,000] Trial 347 finished with value: 21.411248865436377 and parameters: {'alpha': 4.888990028000589, 'max_iter': 594}. Best is trial 92 with value: 21.411247375062505.\n",
      "[I 2023-09-15 16:31:12,043] Trial 348 finished with value: 21.411253793966136 and parameters: {'alpha': 4.549336128043545, 'max_iter': 850}. Best is trial 92 with value: 21.411247375062505.\n",
      "[I 2023-09-15 16:31:12,081] Trial 349 finished with value: 21.41127873225029 and parameters: {'alpha': 3.2082829368793817, 'max_iter': 1249}. Best is trial 92 with value: 21.411247375062505.\n",
      "[I 2023-09-15 16:31:12,132] Trial 350 finished with value: 21.411247429318973 and parameters: {'alpha': 4.995773772972381, 'max_iter': 542}. Best is trial 92 with value: 21.411247375062505.\n",
      "[I 2023-09-15 16:31:12,184] Trial 351 finished with value: 21.411250096037946 and parameters: {'alpha': 4.800532290472985, 'max_iter': 638}. Best is trial 92 with value: 21.411247375062505.\n",
      "[I 2023-09-15 16:31:12,230] Trial 352 finished with value: 21.411261551586236 and parameters: {'alpha': 4.078039578430204, 'max_iter': 1072}. Best is trial 92 with value: 21.411247375062505.\n",
      "[I 2023-09-15 16:31:12,274] Trial 353 finished with value: 21.411247374419066 and parameters: {'alpha': 4.999937147342942, 'max_iter': 950}. Best is trial 353 with value: 21.411247374419066.\n",
      "[I 2023-09-15 16:31:12,324] Trial 354 finished with value: 21.41124866778757 and parameters: {'alpha': 4.90345128683978, 'max_iter': 942}. Best is trial 353 with value: 21.411247374419066.\n",
      "[I 2023-09-15 16:31:12,368] Trial 355 finished with value: 21.411269226280375 and parameters: {'alpha': 3.66579687270782, 'max_iter': 1536}. Best is trial 353 with value: 21.411247374419066.\n",
      "[I 2023-09-15 16:31:12,410] Trial 356 finished with value: 21.41125124641815 and parameters: {'alpha': 4.720160987425862, 'max_iter': 873}. Best is trial 353 with value: 21.411247374419066.\n",
      "[I 2023-09-15 16:31:12,449] Trial 357 finished with value: 21.411284976076384 and parameters: {'alpha': 2.9323495117702407, 'max_iter': 965}. Best is trial 353 with value: 21.411247374419066.\n",
      "[I 2023-09-15 16:31:12,494] Trial 358 finished with value: 21.411282533011175 and parameters: {'alpha': 3.0382900754672613, 'max_iter': 799}. Best is trial 353 with value: 21.411247374419066.\n",
      "[I 2023-09-15 16:31:12,543] Trial 359 finished with value: 21.41127901137434 and parameters: {'alpha': 3.1955720852391702, 'max_iter': 936}. Best is trial 353 with value: 21.411247374419066.\n",
      "[I 2023-09-15 16:31:12,582] Trial 360 finished with value: 21.41124739078197 and parameters: {'alpha': 4.998695604589575, 'max_iter': 704}. Best is trial 353 with value: 21.411247374419066.\n",
      "[I 2023-09-15 16:31:12,628] Trial 361 finished with value: 21.411249478628175 and parameters: {'alpha': 4.844578786560858, 'max_iter': 750}. Best is trial 353 with value: 21.411247374419066.\n",
      "[I 2023-09-15 16:31:12,667] Trial 362 finished with value: 21.411248554592376 and parameters: {'alpha': 4.911766221473178, 'max_iter': 654}. Best is trial 353 with value: 21.411247374419066.\n",
      "[I 2023-09-15 16:31:12,711] Trial 363 finished with value: 21.41134706082722 and parameters: {'alpha': 0.7912866555087605, 'max_iter': 705}. Best is trial 353 with value: 21.411247374419066.\n",
      "[I 2023-09-15 16:31:12,754] Trial 364 finished with value: 21.411340050464293 and parameters: {'alpha': 0.9957500563689916, 'max_iter': 750}. Best is trial 353 with value: 21.411247374419066.\n",
      "[I 2023-09-15 16:31:12,802] Trial 365 finished with value: 21.411252208385523 and parameters: {'alpha': 4.65454925246008, 'max_iter': 605}. Best is trial 353 with value: 21.411247374419066.\n",
      "[I 2023-09-15 16:31:12,841] Trial 366 finished with value: 21.41130958976848 and parameters: {'alpha': 1.9786082589460614, 'max_iter': 2116}. Best is trial 353 with value: 21.411247374419066.\n",
      "[I 2023-09-15 16:31:12,889] Trial 367 finished with value: 21.411275533073603 and parameters: {'alpha': 3.3567181102004287, 'max_iter': 837}. Best is trial 353 with value: 21.411247374419066.\n",
      "[I 2023-09-15 16:31:12,932] Trial 368 finished with value: 21.411247402023168 and parameters: {'alpha': 4.997842993706019, 'max_iter': 664}. Best is trial 353 with value: 21.411247374419066.\n",
      "[I 2023-09-15 16:31:12,974] Trial 369 finished with value: 21.411249907420803 and parameters: {'alpha': 4.813918779615534, 'max_iter': 718}. Best is trial 353 with value: 21.411247374419066.\n",
      "[I 2023-09-15 16:31:13,020] Trial 370 finished with value: 21.411248648623975 and parameters: {'alpha': 4.90485728834828, 'max_iter': 1469}. Best is trial 353 with value: 21.411247374419066.\n",
      "[I 2023-09-15 16:31:13,060] Trial 371 finished with value: 21.4112485864481 and parameters: {'alpha': 4.909423772623379, 'max_iter': 985}. Best is trial 353 with value: 21.411247374419066.\n",
      "[I 2023-09-15 16:31:13,110] Trial 372 finished with value: 21.411250815446373 and parameters: {'alpha': 4.750019777994927, 'max_iter': 540}. Best is trial 353 with value: 21.411247374419066.\n",
      "[I 2023-09-15 16:31:13,149] Trial 373 finished with value: 21.411247438397048 and parameters: {'alpha': 4.995085928129363, 'max_iter': 900}. Best is trial 353 with value: 21.411247374419066.\n",
      "[I 2023-09-15 16:31:13,206] Trial 374 finished with value: 21.411249618195704 and parameters: {'alpha': 4.834564143998813, 'max_iter': 987}. Best is trial 353 with value: 21.411247374419066.\n",
      "[I 2023-09-15 16:31:13,249] Trial 375 finished with value: 21.411248508996522 and parameters: {'alpha': 4.915122356141313, 'max_iter': 577}. Best is trial 353 with value: 21.411247374419066.\n",
      "[I 2023-09-15 16:31:13,293] Trial 376 finished with value: 21.411315513493903 and parameters: {'alpha': 1.7734261052717182, 'max_iter': 781}. Best is trial 353 with value: 21.411247374419066.\n",
      "[I 2023-09-15 16:31:13,336] Trial 377 finished with value: 21.41125295674355 and parameters: {'alpha': 4.6044521241859755, 'max_iter': 1626}. Best is trial 353 with value: 21.411247374419066.\n",
      "[I 2023-09-15 16:31:13,387] Trial 378 finished with value: 21.411250546113468 and parameters: {'alpha': 4.768831006672114, 'max_iter': 1055}. Best is trial 353 with value: 21.411247374419066.\n",
      "[I 2023-09-15 16:31:13,437] Trial 379 finished with value: 21.41136827728495 and parameters: {'alpha': 0.21059418683953357, 'max_iter': 939}. Best is trial 353 with value: 21.411247374419066.\n",
      "[I 2023-09-15 16:31:13,477] Trial 380 finished with value: 21.411265632951906 and parameters: {'alpha': 3.8532366064586983, 'max_iter': 694}. Best is trial 353 with value: 21.411247374419066.\n",
      "[I 2023-09-15 16:31:13,522] Trial 381 finished with value: 21.411259376121727 and parameters: {'alpha': 4.203804304467717, 'max_iter': 1373}. Best is trial 353 with value: 21.411247374419066.\n",
      "[I 2023-09-15 16:31:13,561] Trial 382 finished with value: 21.411248640183242 and parameters: {'alpha': 4.9054767892367215, 'max_iter': 818}. Best is trial 353 with value: 21.411247374419066.\n",
      "[I 2023-09-15 16:31:13,611] Trial 383 finished with value: 21.411300600135903 and parameters: {'alpha': 2.306113299868958, 'max_iter': 1308}. Best is trial 353 with value: 21.411247374419066.\n",
      "[I 2023-09-15 16:31:13,658] Trial 384 finished with value: 21.411263509014283 and parameters: {'alpha': 3.968517795445627, 'max_iter': 994}. Best is trial 353 with value: 21.411247374419066.\n",
      "[I 2023-09-15 16:31:13,702] Trial 385 finished with value: 21.411256771425766 and parameters: {'alpha': 4.360607752694163, 'max_iter': 622}. Best is trial 353 with value: 21.411247374419066.\n",
      "[I 2023-09-15 16:31:13,752] Trial 386 finished with value: 21.41125482099634 and parameters: {'alpha': 4.482998011617018, 'max_iter': 888}. Best is trial 353 with value: 21.411247374419066.\n",
      "[I 2023-09-15 16:31:13,791] Trial 387 finished with value: 21.41127733216749 and parameters: {'alpha': 3.2726108136304286, 'max_iter': 1042}. Best is trial 353 with value: 21.411247374419066.\n",
      "[I 2023-09-15 16:31:13,840] Trial 388 finished with value: 21.41127970118185 and parameters: {'alpha': 3.164317779774862, 'max_iter': 500}. Best is trial 353 with value: 21.411247374419066.\n",
      "[I 2023-09-15 16:31:13,893] Trial 389 finished with value: 21.411249684890972 and parameters: {'alpha': 4.829790472211576, 'max_iter': 1106}. Best is trial 353 with value: 21.411247374419066.\n",
      "[I 2023-09-15 16:31:13,941] Trial 390 finished with value: 21.41124745356711 and parameters: {'alpha': 4.993936872633044, 'max_iter': 1022}. Best is trial 353 with value: 21.411247374419066.\n",
      "[I 2023-09-15 16:31:13,987] Trial 391 finished with value: 21.41125150452215 and parameters: {'alpha': 4.702418472824748, 'max_iter': 679}. Best is trial 353 with value: 21.411247374419066.\n",
      "[I 2023-09-15 16:31:14,036] Trial 392 finished with value: 21.411247425752588 and parameters: {'alpha': 4.9960440436889195, 'max_iter': 950}. Best is trial 353 with value: 21.411247374419066.\n",
      "[I 2023-09-15 16:31:14,078] Trial 393 finished with value: 21.41124868492933 and parameters: {'alpha': 4.9021942061980015, 'max_iter': 1414}. Best is trial 353 with value: 21.411247374419066.\n",
      "[I 2023-09-15 16:31:14,127] Trial 394 finished with value: 21.41126008286946 and parameters: {'alpha': 4.162455264236154, 'max_iter': 1087}. Best is trial 353 with value: 21.411247374419066.\n",
      "[I 2023-09-15 16:31:14,180] Trial 395 finished with value: 21.41124974152016 and parameters: {'alpha': 4.825743345666501, 'max_iter': 854}. Best is trial 353 with value: 21.411247374419066.\n",
      "[I 2023-09-15 16:31:14,221] Trial 396 finished with value: 21.41130341714165 and parameters: {'alpha': 2.2012309817329094, 'max_iter': 1747}. Best is trial 353 with value: 21.411247374419066.\n",
      "[I 2023-09-15 16:31:14,273] Trial 397 finished with value: 21.41133388314804 and parameters: {'alpha': 1.1815778058951163, 'max_iter': 589}. Best is trial 353 with value: 21.411247374419066.\n",
      "[I 2023-09-15 16:31:14,323] Trial 398 finished with value: 21.41126286924814 and parameters: {'alpha': 4.003954266950323, 'max_iter': 757}. Best is trial 353 with value: 21.411247374419066.\n",
      "[I 2023-09-15 16:31:14,369] Trial 399 finished with value: 21.411248568227993 and parameters: {'alpha': 4.910763318743816, 'max_iter': 1155}. Best is trial 353 with value: 21.411247374419066.\n",
      "[I 2023-09-15 16:31:14,412] Trial 400 finished with value: 21.411247427980996 and parameters: {'alpha': 4.99587516554295, 'max_iter': 996}. Best is trial 353 with value: 21.411247374419066.\n",
      "[I 2023-09-15 16:31:14,453] Trial 401 finished with value: 21.411274386484767 and parameters: {'alpha': 3.411208798916193, 'max_iter': 2046}. Best is trial 353 with value: 21.411247374419066.\n",
      "[I 2023-09-15 16:31:14,501] Trial 402 finished with value: 21.411304666909402 and parameters: {'alpha': 2.155379991180028, 'max_iter': 911}. Best is trial 353 with value: 21.411247374419066.\n",
      "[I 2023-09-15 16:31:14,556] Trial 403 finished with value: 21.411250598690838 and parameters: {'alpha': 4.765149537204794, 'max_iter': 1259}. Best is trial 353 with value: 21.411247374419066.\n",
      "[I 2023-09-15 16:31:14,587] Trial 404 finished with value: 21.41124864088663 and parameters: {'alpha': 4.905425159618466, 'max_iter': 1035}. Best is trial 353 with value: 21.411247374419066.\n",
      "[I 2023-09-15 16:31:14,635] Trial 405 finished with value: 21.41125191548364 and parameters: {'alpha': 4.6743789429624645, 'max_iter': 1341}. Best is trial 353 with value: 21.411247374419066.\n",
      "[I 2023-09-15 16:31:14,686] Trial 406 finished with value: 21.411249560434648 and parameters: {'alpha': 4.838704632143612, 'max_iter': 1060}. Best is trial 353 with value: 21.411247374419066.\n",
      "[I 2023-09-15 16:31:14,735] Trial 407 finished with value: 21.411247433948784 and parameters: {'alpha': 4.995422951432868, 'max_iter': 1202}. Best is trial 353 with value: 21.411247374419066.\n",
      "[I 2023-09-15 16:31:14,791] Trial 408 finished with value: 21.411247396801198 and parameters: {'alpha': 4.998239031938011, 'max_iter': 1130}. Best is trial 353 with value: 21.411247374419066.\n",
      "[I 2023-09-15 16:31:14,835] Trial 409 finished with value: 21.411293515780773 and parameters: {'alpha': 2.5800204106337605, 'max_iter': 2375}. Best is trial 353 with value: 21.411247374419066.\n",
      "[I 2023-09-15 16:31:14,885] Trial 410 finished with value: 21.41128303065915 and parameters: {'alpha': 3.0165072746306327, 'max_iter': 643}. Best is trial 353 with value: 21.411247374419066.\n",
      "[I 2023-09-15 16:31:14,926] Trial 411 finished with value: 21.411249592361028 and parameters: {'alpha': 4.836415330664006, 'max_iter': 715}. Best is trial 353 with value: 21.411247374419066.\n",
      "[I 2023-09-15 16:31:14,977] Trial 412 finished with value: 21.41124861004073 and parameters: {'alpha': 4.90769016584643, 'max_iter': 798}. Best is trial 353 with value: 21.411247374419066.\n",
      "[I 2023-09-15 16:31:15,019] Trial 413 finished with value: 21.411250795555386 and parameters: {'alpha': 4.751405022786595, 'max_iter': 558}. Best is trial 353 with value: 21.411247374419066.\n",
      "[I 2023-09-15 16:31:15,067] Trial 414 finished with value: 21.411253276285247 and parameters: {'alpha': 4.58330268072297, 'max_iter': 1080}. Best is trial 353 with value: 21.411247374419066.\n",
      "[I 2023-09-15 16:31:15,107] Trial 415 finished with value: 21.41124858113069 and parameters: {'alpha': 4.909814645235671, 'max_iter': 957}. Best is trial 353 with value: 21.411247374419066.\n",
      "[I 2023-09-15 16:31:15,159] Trial 416 finished with value: 21.411273240979863 and parameters: {'alpha': 3.4663688945795794, 'max_iter': 984}. Best is trial 353 with value: 21.411247374419066.\n",
      "[I 2023-09-15 16:31:15,210] Trial 417 finished with value: 21.41124969524107 and parameters: {'alpha': 4.829050364354872, 'max_iter': 1289}. Best is trial 353 with value: 21.411247374419066.\n",
      "[I 2023-09-15 16:31:15,257] Trial 418 finished with value: 21.41130631166295 and parameters: {'alpha': 2.0956514914113713, 'max_iter': 860}. Best is trial 353 with value: 21.411247374419066.\n",
      "[I 2023-09-15 16:31:15,305] Trial 419 finished with value: 21.411269640489373 and parameters: {'alpha': 3.644757097815215, 'max_iter': 1218}. Best is trial 353 with value: 21.411247374419066.\n",
      "[I 2023-09-15 16:31:15,358] Trial 420 finished with value: 21.411248478862156 and parameters: {'alpha': 4.91734258994604, 'max_iter': 1107}. Best is trial 353 with value: 21.411247374419066.\n",
      "[I 2023-09-15 16:31:15,441] Trial 421 finished with value: 21.41127159656332 and parameters: {'alpha': 3.5468688185211414, 'max_iter': 1040}. Best is trial 353 with value: 21.411247374419066.\n",
      "[I 2023-09-15 16:31:15,508] Trial 422 finished with value: 21.41125085123536 and parameters: {'alpha': 4.747528969216195, 'max_iter': 645}. Best is trial 353 with value: 21.411247374419066.\n",
      "[I 2023-09-15 16:31:15,548] Trial 423 finished with value: 21.41128063269331 and parameters: {'alpha': 3.122463548197717, 'max_iter': 742}. Best is trial 353 with value: 21.411247374419066.\n",
      "[I 2023-09-15 16:31:15,597] Trial 424 finished with value: 21.411258778136325 and parameters: {'alpha': 4.239176095390888, 'max_iter': 1880}. Best is trial 353 with value: 21.411247374419066.\n",
      "[I 2023-09-15 16:31:15,651] Trial 425 finished with value: 21.411273416814755 and parameters: {'alpha': 3.4578539234205383, 'max_iter': 1165}. Best is trial 353 with value: 21.411247374419066.\n",
      "[I 2023-09-15 16:31:15,699] Trial 426 finished with value: 21.411247444427396 and parameters: {'alpha': 4.9946291033544, 'max_iter': 915}. Best is trial 353 with value: 21.411247374419066.\n",
      "[I 2023-09-15 16:31:15,760] Trial 427 finished with value: 21.411292558068112 and parameters: {'alpha': 2.618252939939341, 'max_iter': 1007}. Best is trial 353 with value: 21.411247374419066.\n",
      "[I 2023-09-15 16:31:15,821] Trial 428 finished with value: 21.411247428056342 and parameters: {'alpha': 4.995869455495096, 'max_iter': 1493}. Best is trial 353 with value: 21.411247374419066.\n",
      "[I 2023-09-15 16:31:15,867] Trial 429 finished with value: 21.411296128687265 and parameters: {'alpha': 2.4772176401912462, 'max_iter': 1087}. Best is trial 353 with value: 21.411247374419066.\n",
      "[I 2023-09-15 16:31:15,916] Trial 430 finished with value: 21.411249534997882 and parameters: {'alpha': 4.84052987131459, 'max_iter': 601}. Best is trial 353 with value: 21.411247374419066.\n",
      "[I 2023-09-15 16:31:15,962] Trial 431 finished with value: 21.41124880760616 and parameters: {'alpha': 4.893213757769624, 'max_iter': 961}. Best is trial 353 with value: 21.411247374419066.\n",
      "[I 2023-09-15 16:31:16,004] Trial 432 finished with value: 21.411350157126556 and parameters: {'alpha': 0.7031166485564784, 'max_iter': 1243}. Best is trial 353 with value: 21.411247374419066.\n",
      "[I 2023-09-15 16:31:16,053] Trial 433 finished with value: 21.411252168186895 and parameters: {'alpha': 4.6572632139172665, 'max_iter': 2533}. Best is trial 353 with value: 21.411247374419066.\n",
      "[I 2023-09-15 16:31:16,088] Trial 434 finished with value: 21.41124858692515 and parameters: {'alpha': 4.909388708350939, 'max_iter': 693}. Best is trial 353 with value: 21.411247374419066.\n",
      "[I 2023-09-15 16:31:16,144] Trial 435 finished with value: 21.41127232989629 and parameters: {'alpha': 3.510773601086804, 'max_iter': 547}. Best is trial 353 with value: 21.411247374419066.\n",
      "[I 2023-09-15 16:31:16,205] Trial 436 finished with value: 21.411250612472823 and parameters: {'alpha': 4.764185269098523, 'max_iter': 1144}. Best is trial 353 with value: 21.411247374419066.\n",
      "[I 2023-09-15 16:31:16,258] Trial 437 finished with value: 21.411248483882733 and parameters: {'alpha': 4.9169725652209335, 'max_iter': 787}. Best is trial 353 with value: 21.411247374419066.\n",
      "[I 2023-09-15 16:31:16,316] Trial 438 finished with value: 21.411266387948363 and parameters: {'alpha': 3.8130912422881202, 'max_iter': 1054}. Best is trial 353 with value: 21.411247374419066.\n",
      "[I 2023-09-15 16:31:16,373] Trial 439 finished with value: 21.411249844547914 and parameters: {'alpha': 4.818394470857927, 'max_iter': 897}. Best is trial 353 with value: 21.411247374419066.\n",
      "[I 2023-09-15 16:31:16,433] Trial 440 finished with value: 21.411261344476006 and parameters: {'alpha': 4.089823393016221, 'max_iter': 1333}. Best is trial 353 with value: 21.411247374419066.\n",
      "[I 2023-09-15 16:31:16,476] Trial 441 finished with value: 21.41126487298729 and parameters: {'alpha': 3.8940795138059405, 'max_iter': 1198}. Best is trial 353 with value: 21.411247374419066.\n",
      "[I 2023-09-15 16:31:16,520] Trial 442 finished with value: 21.411254391398185 and parameters: {'alpha': 4.510580749957303, 'max_iter': 836}. Best is trial 353 with value: 21.411247374419066.\n",
      "[I 2023-09-15 16:31:16,566] Trial 443 finished with value: 21.41124739653385 and parameters: {'alpha': 4.9982593094976115, 'max_iter': 988}. Best is trial 353 with value: 21.411247374419066.\n",
      "[I 2023-09-15 16:31:16,616] Trial 444 finished with value: 21.411247409508615 and parameters: {'alpha': 4.997275389774292, 'max_iter': 1113}. Best is trial 353 with value: 21.411247374419066.\n",
      "[I 2023-09-15 16:31:16,659] Trial 445 finished with value: 21.411251795016483 and parameters: {'alpha': 4.6825718102521465, 'max_iter': 672}. Best is trial 353 with value: 21.411247374419066.\n",
      "[I 2023-09-15 16:31:16,713] Trial 446 finished with value: 21.411249416987065 and parameters: {'alpha': 4.849012751960614, 'max_iter': 1022}. Best is trial 353 with value: 21.411247374419066.\n",
      "[I 2023-09-15 16:31:16,762] Trial 447 finished with value: 21.41124879373916 and parameters: {'alpha': 4.894227477904784, 'max_iter': 1289}. Best is trial 353 with value: 21.411247374419066.\n",
      "[I 2023-09-15 16:31:16,807] Trial 448 finished with value: 21.411289621253065 and parameters: {'alpha': 2.737433882088156, 'max_iter': 934}. Best is trial 353 with value: 21.411247374419066.\n",
      "[I 2023-09-15 16:31:16,853] Trial 449 finished with value: 21.4112571324723 and parameters: {'alpha': 4.3384373973251895, 'max_iter': 2804}. Best is trial 353 with value: 21.411247374419066.\n",
      "[I 2023-09-15 16:31:16,899] Trial 450 finished with value: 21.411276069546815 and parameters: {'alpha': 3.3314631601161366, 'max_iter': 1420}. Best is trial 353 with value: 21.411247374419066.\n",
      "[I 2023-09-15 16:31:16,948] Trial 451 finished with value: 21.411250297112012 and parameters: {'alpha': 4.786327878054642, 'max_iter': 595}. Best is trial 353 with value: 21.411247374419066.\n",
      "[I 2023-09-15 16:31:16,993] Trial 452 finished with value: 21.411248583925055 and parameters: {'alpha': 4.909609229993951, 'max_iter': 1081}. Best is trial 353 with value: 21.411247374419066.\n",
      "[I 2023-09-15 16:31:17,055] Trial 453 finished with value: 21.41124855059723 and parameters: {'alpha': 4.912060131732127, 'max_iter': 1142}. Best is trial 353 with value: 21.411247374419066.\n",
      "[I 2023-09-15 16:31:17,114] Trial 454 finished with value: 21.4113226618023 and parameters: {'alpha': 1.5356856736661575, 'max_iter': 1195}. Best is trial 353 with value: 21.411247374419066.\n",
      "[I 2023-09-15 16:31:17,178] Trial 455 finished with value: 21.411250910319666 and parameters: {'alpha': 4.743421370044529, 'max_iter': 1021}. Best is trial 353 with value: 21.411247374419066.\n",
      "[I 2023-09-15 16:31:17,225] Trial 456 finished with value: 21.411247403229304 and parameters: {'alpha': 4.997751527361268, 'max_iter': 735}. Best is trial 353 with value: 21.411247374419066.\n",
      "[I 2023-09-15 16:31:17,274] Trial 457 finished with value: 21.411247389486736 and parameters: {'alpha': 4.998793860925808, 'max_iter': 953}. Best is trial 353 with value: 21.411247374419066.\n",
      "[I 2023-09-15 16:31:17,318] Trial 458 finished with value: 21.41125587144723 and parameters: {'alpha': 4.416519305417054, 'max_iter': 864}. Best is trial 353 with value: 21.411247374419066.\n",
      "[I 2023-09-15 16:31:17,368] Trial 459 finished with value: 21.411252802325052 and parameters: {'alpha': 4.6147237686897205, 'max_iter': 941}. Best is trial 353 with value: 21.411247374419066.\n",
      "[I 2023-09-15 16:31:17,411] Trial 460 finished with value: 21.41124739458341 and parameters: {'alpha': 4.998407247812489, 'max_iter': 500}. Best is trial 353 with value: 21.411247374419066.\n",
      "[I 2023-09-15 16:31:17,460] Trial 461 finished with value: 21.411249767310107 and parameters: {'alpha': 4.823902052884114, 'max_iter': 804}. Best is trial 353 with value: 21.411247374419066.\n",
      "[I 2023-09-15 16:31:17,508] Trial 462 finished with value: 21.411313753024018 and parameters: {'alpha': 1.8335913334524343, 'max_iter': 1557}. Best is trial 353 with value: 21.411247374419066.\n",
      "[I 2023-09-15 16:31:17,553] Trial 463 finished with value: 21.41124925838418 and parameters: {'alpha': 4.860452383982496, 'max_iter': 636}. Best is trial 353 with value: 21.411247374419066.\n",
      "[I 2023-09-15 16:31:17,604] Trial 464 finished with value: 21.411286873558424 and parameters: {'alpha': 2.8517359757292184, 'max_iter': 888}. Best is trial 353 with value: 21.411247374419066.\n",
      "[I 2023-09-15 16:31:17,650] Trial 465 finished with value: 21.41124861023448 and parameters: {'alpha': 4.907675933054115, 'max_iter': 1367}. Best is trial 353 with value: 21.411247374419066.\n",
      "[I 2023-09-15 16:31:17,700] Trial 466 finished with value: 21.411290147639065 and parameters: {'alpha': 2.715851114008029, 'max_iter': 963}. Best is trial 353 with value: 21.411247374419066.\n",
      "[I 2023-09-15 16:31:17,753] Trial 467 finished with value: 21.41125086741795 and parameters: {'alpha': 4.746403383135597, 'max_iter': 1248}. Best is trial 353 with value: 21.411247374419066.\n",
      "[I 2023-09-15 16:31:17,813] Trial 468 finished with value: 21.411282851346364 and parameters: {'alpha': 3.02434387109375, 'max_iter': 557}. Best is trial 353 with value: 21.411247374419066.\n",
      "[I 2023-09-15 16:31:17,859] Trial 469 finished with value: 21.411262718484355 and parameters: {'alpha': 4.012355016362152, 'max_iter': 1156}. Best is trial 353 with value: 21.411247374419066.\n",
      "[I 2023-09-15 16:31:17,910] Trial 470 finished with value: 21.411294862939286 and parameters: {'alpha': 2.526746982445689, 'max_iter': 913}. Best is trial 353 with value: 21.411247374419066.\n",
      "[I 2023-09-15 16:31:17,975] Trial 471 finished with value: 21.4112809294231 and parameters: {'alpha': 3.109214265896884, 'max_iter': 1800}. Best is trial 353 with value: 21.411247374419066.\n",
      "[I 2023-09-15 16:31:18,029] Trial 472 finished with value: 21.411293475910487 and parameters: {'alpha': 2.5816060320711807, 'max_iter': 694}. Best is trial 353 with value: 21.411247374419066.\n",
      "[I 2023-09-15 16:31:18,086] Trial 473 finished with value: 21.41124740626364 and parameters: {'alpha': 4.997521434345853, 'max_iter': 1073}. Best is trial 353 with value: 21.411247374419066.\n",
      "[I 2023-09-15 16:31:18,139] Trial 474 finished with value: 21.41132544875828 and parameters: {'alpha': 1.445672092308903, 'max_iter': 1682}. Best is trial 353 with value: 21.411247374419066.\n",
      "[I 2023-09-15 16:31:18,200] Trial 475 finished with value: 21.41124738619312 and parameters: {'alpha': 4.999043729862826, 'max_iter': 982}. Best is trial 353 with value: 21.411247374419066.\n",
      "[I 2023-09-15 16:31:18,255] Trial 476 finished with value: 21.411287693071532 and parameters: {'alpha': 2.8173505812736295, 'max_iter': 1045}. Best is trial 353 with value: 21.411247374419066.\n",
      "[I 2023-09-15 16:31:18,301] Trial 477 finished with value: 21.411248635854566 and parameters: {'alpha': 4.90579454082005, 'max_iter': 1127}. Best is trial 353 with value: 21.411247374419066.\n",
      "[I 2023-09-15 16:31:18,349] Trial 478 finished with value: 21.411249910989604 and parameters: {'alpha': 4.813664932959888, 'max_iter': 617}. Best is trial 353 with value: 21.411247374419066.\n",
      "[I 2023-09-15 16:31:18,388] Trial 479 finished with value: 21.41132000112855 and parameters: {'alpha': 1.6229875019450684, 'max_iter': 992}. Best is trial 353 with value: 21.411247374419066.\n",
      "[I 2023-09-15 16:31:18,452] Trial 480 finished with value: 21.411273856550277 and parameters: {'alpha': 3.4366358051010666, 'max_iter': 1203}. Best is trial 353 with value: 21.411247374419066.\n",
      "[I 2023-09-15 16:31:18,500] Trial 481 finished with value: 21.411252054898384 and parameters: {'alpha': 4.664924579971576, 'max_iter': 1301}. Best is trial 353 with value: 21.411247374419066.\n",
      "[I 2023-09-15 16:31:18,548] Trial 482 finished with value: 21.41131794644252 and parameters: {'alpha': 1.691356496961037, 'max_iter': 1095}. Best is trial 353 with value: 21.411247374419066.\n",
      "[I 2023-09-15 16:31:18,598] Trial 483 finished with value: 21.41128423982579 and parameters: {'alpha': 2.964015610829365, 'max_iter': 1958}. Best is trial 353 with value: 21.411247374419066.\n",
      "[I 2023-09-15 16:31:18,636] Trial 484 finished with value: 21.411247388757396 and parameters: {'alpha': 4.998849190107324, 'max_iter': 553}. Best is trial 353 with value: 21.411247374419066.\n",
      "[I 2023-09-15 16:31:18,684] Trial 485 finished with value: 21.4112495222492 and parameters: {'alpha': 4.841445092342227, 'max_iter': 2976}. Best is trial 353 with value: 21.411247374419066.\n",
      "[I 2023-09-15 16:31:18,738] Trial 486 finished with value: 21.411258810517886 and parameters: {'alpha': 4.23725142522527, 'max_iter': 565}. Best is trial 353 with value: 21.411247374419066.\n",
      "[I 2023-09-15 16:31:18,809] Trial 487 finished with value: 21.41124852162757 and parameters: {'alpha': 4.914192239987599, 'max_iter': 1167}. Best is trial 353 with value: 21.411247374419066.\n",
      "[I 2023-09-15 16:31:18,907] Trial 488 finished with value: 21.411276359175606 and parameters: {'alpha': 3.317891042810038, 'max_iter': 545}. Best is trial 353 with value: 21.411247374419066.\n",
      "[I 2023-09-15 16:31:18,964] Trial 489 finished with value: 21.411250635497534 and parameters: {'alpha': 4.762575017026438, 'max_iter': 974}. Best is trial 353 with value: 21.411247374419066.\n",
      "[I 2023-09-15 16:31:19,018] Trial 490 finished with value: 21.411247375525768 and parameters: {'alpha': 4.99985315828404, 'max_iter': 504}. Best is trial 353 with value: 21.411247374419066.\n",
      "[I 2023-09-15 16:31:19,064] Trial 491 finished with value: 21.4112605060484 and parameters: {'alpha': 4.137926859536326, 'max_iter': 1047}. Best is trial 353 with value: 21.411247374419066.\n",
      "[I 2023-09-15 16:31:19,125] Trial 492 finished with value: 21.411270534631647 and parameters: {'alpha': 3.5997148171227504, 'max_iter': 503}. Best is trial 353 with value: 21.411247374419066.\n",
      "[I 2023-09-15 16:31:19,202] Trial 493 finished with value: 21.411268169378744 and parameters: {'alpha': 3.7199962162071163, 'max_iter': 503}. Best is trial 353 with value: 21.411247374419066.\n",
      "[I 2023-09-15 16:31:19,257] Trial 494 finished with value: 21.411254195304412 and parameters: {'alpha': 4.52324984131565, 'max_iter': 1251}. Best is trial 353 with value: 21.411247374419066.\n",
      "[I 2023-09-15 16:31:19,308] Trial 495 finished with value: 21.41135555417425 and parameters: {'alpha': 0.5523664902107337, 'max_iter': 1109}. Best is trial 353 with value: 21.411247374419066.\n",
      "[I 2023-09-15 16:31:19,382] Trial 496 finished with value: 21.411305847882794 and parameters: {'alpha': 2.11242397654251, 'max_iter': 1004}. Best is trial 353 with value: 21.411247374419066.\n",
      "[I 2023-09-15 16:31:19,455] Trial 497 finished with value: 21.411278144108532 and parameters: {'alpha': 3.2351886988711014, 'max_iter': 875}. Best is trial 353 with value: 21.411247374419066.\n",
      "[I 2023-09-15 16:31:19,502] Trial 498 finished with value: 21.411248928709277 and parameters: {'alpha': 4.8843758455470505, 'max_iter': 810}. Best is trial 353 with value: 21.411247374419066.\n",
      "[I 2023-09-15 16:31:19,575] Trial 499 finished with value: 21.411248501085357 and parameters: {'alpha': 4.9157050667401325, 'max_iter': 1064}. Best is trial 353 with value: 21.411247374419066.\n"
     ]
    }
   ],
   "source": [
    "study = optuna.create_study(direction='minimize')\n",
    "study.optimize(ridge_fine_tuning, n_trials=500)"
   ]
  },
  {
   "cell_type": "code",
   "execution_count": 30,
   "metadata": {},
   "outputs": [
    {
     "ename": "ValueError",
     "evalue": "Mime type rendering requires nbformat>=4.2.0 but it is not installed",
     "output_type": "error",
     "traceback": [
      "\u001b[1;31m---------------------------------------------------------------------------\u001b[0m",
      "\u001b[1;31mValueError\u001b[0m                                Traceback (most recent call last)",
      "File \u001b[1;32mc:\\Users\\thale\\Documents\\Estudos\\Disciplinas\\Introdução a ML\\Projeto Aluno\\ensaios-algoritmos-ml\\env\\Lib\\site-packages\\IPython\\core\\formatters.py:922\u001b[0m, in \u001b[0;36mIPythonDisplayFormatter.__call__\u001b[1;34m(self, obj)\u001b[0m\n\u001b[0;32m    920\u001b[0m method \u001b[39m=\u001b[39m get_real_method(obj, \u001b[39mself\u001b[39m\u001b[39m.\u001b[39mprint_method)\n\u001b[0;32m    921\u001b[0m \u001b[39mif\u001b[39;00m method \u001b[39mis\u001b[39;00m \u001b[39mnot\u001b[39;00m \u001b[39mNone\u001b[39;00m:\n\u001b[1;32m--> 922\u001b[0m     method()\n\u001b[0;32m    923\u001b[0m     \u001b[39mreturn\u001b[39;00m \u001b[39mTrue\u001b[39;00m\n",
      "File \u001b[1;32mc:\\Users\\thale\\Documents\\Estudos\\Disciplinas\\Introdução a ML\\Projeto Aluno\\ensaios-algoritmos-ml\\env\\Lib\\site-packages\\plotly\\basedatatypes.py:834\u001b[0m, in \u001b[0;36mBaseFigure._ipython_display_\u001b[1;34m(self)\u001b[0m\n\u001b[0;32m    831\u001b[0m \u001b[39mimport\u001b[39;00m \u001b[39mplotly\u001b[39;00m\u001b[39m.\u001b[39;00m\u001b[39mio\u001b[39;00m \u001b[39mas\u001b[39;00m \u001b[39mpio\u001b[39;00m\n\u001b[0;32m    833\u001b[0m \u001b[39mif\u001b[39;00m pio\u001b[39m.\u001b[39mrenderers\u001b[39m.\u001b[39mrender_on_display \u001b[39mand\u001b[39;00m pio\u001b[39m.\u001b[39mrenderers\u001b[39m.\u001b[39mdefault:\n\u001b[1;32m--> 834\u001b[0m     pio\u001b[39m.\u001b[39;49mshow(\u001b[39mself\u001b[39;49m)\n\u001b[0;32m    835\u001b[0m \u001b[39melse\u001b[39;00m:\n\u001b[0;32m    836\u001b[0m     \u001b[39mprint\u001b[39m(\u001b[39mrepr\u001b[39m(\u001b[39mself\u001b[39m))\n",
      "File \u001b[1;32mc:\\Users\\thale\\Documents\\Estudos\\Disciplinas\\Introdução a ML\\Projeto Aluno\\ensaios-algoritmos-ml\\env\\Lib\\site-packages\\plotly\\io\\_renderers.py:396\u001b[0m, in \u001b[0;36mshow\u001b[1;34m(fig, renderer, validate, **kwargs)\u001b[0m\n\u001b[0;32m    391\u001b[0m         \u001b[39mraise\u001b[39;00m \u001b[39mValueError\u001b[39;00m(\n\u001b[0;32m    392\u001b[0m             \u001b[39m\"\u001b[39m\u001b[39mMime type rendering requires ipython but it is not installed\u001b[39m\u001b[39m\"\u001b[39m\n\u001b[0;32m    393\u001b[0m         )\n\u001b[0;32m    395\u001b[0m     \u001b[39mif\u001b[39;00m \u001b[39mnot\u001b[39;00m nbformat \u001b[39mor\u001b[39;00m Version(nbformat\u001b[39m.\u001b[39m__version__) \u001b[39m<\u001b[39m Version(\u001b[39m\"\u001b[39m\u001b[39m4.2.0\u001b[39m\u001b[39m\"\u001b[39m):\n\u001b[1;32m--> 396\u001b[0m         \u001b[39mraise\u001b[39;00m \u001b[39mValueError\u001b[39;00m(\n\u001b[0;32m    397\u001b[0m             \u001b[39m\"\u001b[39m\u001b[39mMime type rendering requires nbformat>=4.2.0 but it is not installed\u001b[39m\u001b[39m\"\u001b[39m\n\u001b[0;32m    398\u001b[0m         )\n\u001b[0;32m    400\u001b[0m     ipython_display\u001b[39m.\u001b[39mdisplay(bundle, raw\u001b[39m=\u001b[39m\u001b[39mTrue\u001b[39;00m)\n\u001b[0;32m    402\u001b[0m \u001b[39m# external renderers\u001b[39;00m\n",
      "\u001b[1;31mValueError\u001b[0m: Mime type rendering requires nbformat>=4.2.0 but it is not installed"
     ]
    },
    {
     "data": {
      "application/vnd.plotly.v1+json": {
       "config": {
        "plotlyServerURL": "https://plot.ly"
       },
       "data": [
        {
         "mode": "markers",
         "name": "Objective Value",
         "type": "scatter",
         "x": [
          0,
          1,
          2,
          3,
          4,
          5,
          6,
          7,
          8,
          9,
          10,
          11,
          12,
          13,
          14,
          15,
          16,
          17,
          18,
          19,
          20,
          21,
          22,
          23,
          24,
          25,
          26,
          27,
          28,
          29,
          30,
          31,
          32,
          33,
          34,
          35,
          36,
          37,
          38,
          39,
          40,
          41,
          42,
          43,
          44,
          45,
          46,
          47,
          48,
          49,
          50,
          51,
          52,
          53,
          54,
          55,
          56,
          57,
          58,
          59,
          60,
          61,
          62,
          63,
          64,
          65,
          66,
          67,
          68,
          69,
          70,
          71,
          72,
          73,
          74,
          75,
          76,
          77,
          78,
          79,
          80,
          81,
          82,
          83,
          84,
          85,
          86,
          87,
          88,
          89,
          90,
          91,
          92,
          93,
          94,
          95,
          96,
          97,
          98,
          99,
          100,
          101,
          102,
          103,
          104,
          105,
          106,
          107,
          108,
          109,
          110,
          111,
          112,
          113,
          114,
          115,
          116,
          117,
          118,
          119,
          120,
          121,
          122,
          123,
          124,
          125,
          126,
          127,
          128,
          129,
          130,
          131,
          132,
          133,
          134,
          135,
          136,
          137,
          138,
          139,
          140,
          141,
          142,
          143,
          144,
          145,
          146,
          147,
          148,
          149,
          150,
          151,
          152,
          153,
          154,
          155,
          156,
          157,
          158,
          159,
          160,
          161,
          162,
          163,
          164,
          165,
          166,
          167,
          168,
          169,
          170,
          171,
          172,
          173,
          174,
          175,
          176,
          177,
          178,
          179,
          180,
          181,
          182,
          183,
          184,
          185,
          186,
          187,
          188,
          189,
          190,
          191,
          192,
          193,
          194,
          195,
          196,
          197,
          198,
          199,
          200,
          201,
          202,
          203,
          204,
          205,
          206,
          207,
          208,
          209,
          210,
          211,
          212,
          213,
          214,
          215,
          216,
          217,
          218,
          219,
          220,
          221,
          222,
          223,
          224,
          225,
          226,
          227,
          228,
          229,
          230,
          231,
          232,
          233,
          234,
          235,
          236,
          237,
          238,
          239,
          240,
          241,
          242,
          243,
          244,
          245,
          246,
          247,
          248,
          249,
          250,
          251,
          252,
          253,
          254,
          255,
          256,
          257,
          258,
          259,
          260,
          261,
          262,
          263,
          264,
          265,
          266,
          267,
          268,
          269,
          270,
          271,
          272,
          273,
          274,
          275,
          276,
          277,
          278,
          279,
          280,
          281,
          282,
          283,
          284,
          285,
          286,
          287,
          288,
          289,
          290,
          291,
          292,
          293,
          294,
          295,
          296,
          297,
          298,
          299,
          300,
          301,
          302,
          303,
          304,
          305,
          306,
          307,
          308,
          309,
          310,
          311,
          312,
          313,
          314,
          315,
          316,
          317,
          318,
          319,
          320,
          321,
          322,
          323,
          324,
          325,
          326,
          327,
          328,
          329,
          330,
          331,
          332,
          333,
          334,
          335,
          336,
          337,
          338,
          339,
          340,
          341,
          342,
          343,
          344,
          345,
          346,
          347,
          348,
          349,
          350,
          351,
          352,
          353,
          354,
          355,
          356,
          357,
          358,
          359,
          360,
          361,
          362,
          363,
          364,
          365,
          366,
          367,
          368,
          369,
          370,
          371,
          372,
          373,
          374,
          375,
          376,
          377,
          378,
          379,
          380,
          381,
          382,
          383,
          384,
          385,
          386,
          387,
          388,
          389,
          390,
          391,
          392,
          393,
          394,
          395,
          396,
          397,
          398,
          399,
          400,
          401,
          402,
          403,
          404,
          405,
          406,
          407,
          408,
          409,
          410,
          411,
          412,
          413,
          414,
          415,
          416,
          417,
          418,
          419,
          420,
          421,
          422,
          423,
          424,
          425,
          426,
          427,
          428,
          429,
          430,
          431,
          432,
          433,
          434,
          435,
          436,
          437,
          438,
          439,
          440,
          441,
          442,
          443,
          444,
          445,
          446,
          447,
          448,
          449,
          450,
          451,
          452,
          453,
          454,
          455,
          456,
          457,
          458,
          459,
          460,
          461,
          462,
          463,
          464,
          465,
          466,
          467,
          468,
          469,
          470,
          471,
          472,
          473,
          474,
          475,
          476,
          477,
          478,
          479,
          480,
          481,
          482,
          483,
          484,
          485,
          486,
          487,
          488,
          489,
          490,
          491,
          492,
          493,
          494,
          495,
          496,
          497,
          498,
          499
         ],
         "y": [
          21.411296991184592,
          21.41131302412556,
          21.411309099719315,
          21.411320941048217,
          21.41134702477322,
          21.411287836737944,
          21.411271436714582,
          21.411333040835235,
          21.41125520117684,
          21.41128032774527,
          21.411247507868634,
          21.411248023097766,
          21.41125133297153,
          21.411248821275795,
          21.411262325035704,
          21.41126217120341,
          21.411247567498805,
          21.411259964947057,
          21.41126890742914,
          21.411253835303324,
          21.411247550490693,
          21.4112476441821,
          21.411256220799817,
          21.411253894826885,
          21.411268919358342,
          21.411248348210197,
          21.411258336220424,
          21.41125244861663,
          21.41126137340844,
          21.411247543495623,
          21.411277065916114,
          21.411251900679616,
          21.411247520975458,
          21.41125735039589,
          21.41125188373036,
          21.411295070009917,
          21.411265872042392,
          21.4112564515869,
          21.41125106319795,
          21.411307252272646,
          21.411257238415928,
          21.4112483938665,
          21.411250932708658,
          21.411247727539926,
          21.4112549340625,
          21.411247658176926,
          21.411265016678257,
          21.411250998208832,
          21.411253593576664,
          21.411258590289613,
          21.4112501182152,
          21.411247927645583,
          21.411253419095914,
          21.41125001706124,
          21.411247636638166,
          21.41125512887159,
          21.411260258536725,
          21.41124988146968,
          21.41125357816781,
          21.411249851630256,
          21.41124748318056,
          21.41125256205537,
          21.411247774361915,
          21.41125538960264,
          21.411247479086363,
          21.411249920923552,
          21.41125951649246,
          21.41125222389118,
          21.411255428294798,
          21.41125020378319,
          21.411256919045336,
          21.4112477569913,
          21.4112496402391,
          21.411252428528133,
          21.411248919264686,
          21.411252527144295,
          21.411247720046774,
          21.411251176165564,
          21.41125429095398,
          21.411247551436592,
          21.411257432839903,
          21.41124915945248,
          21.411251135587257,
          21.411247788931615,
          21.41124750116543,
          21.411249336549414,
          21.411251270088638,
          21.41125324697453,
          21.41124901860277,
          21.411254784953215,
          21.41125143237702,
          21.411247563359648,
          21.411247375062505,
          21.411247505424527,
          21.411249282958128,
          21.41125080943926,
          21.41124923528736,
          21.411247384799317,
          21.411252844139714,
          21.411256184132736,
          21.411249009916418,
          21.411247384480255,
          21.411250110991336,
          21.411251449183897,
          21.411254240046496,
          21.411247413574365,
          21.41124893273064,
          21.411250565499476,
          21.41124747380301,
          21.411252591539917,
          21.41124880104726,
          21.411247624279365,
          21.411250344033157,
          21.411248932728896,
          21.4112473803679,
          21.41125191354592,
          21.41124737824663,
          21.411253707161052,
          21.411247483335742,
          21.411250344560944,
          21.411248946637244,
          21.41124847364339,
          21.41124762727671,
          21.411250407866877,
          21.41125196939429,
          21.411248902043177,
          21.41124743326756,
          21.4112474891566,
          21.41125039634723,
          21.411254165619116,
          21.411287716007326,
          21.411247401437667,
          21.411248728022144,
          21.41124758128052,
          21.41125196686206,
          21.41124990612158,
          21.411247449955066,
          21.411251133970605,
          21.41124739222554,
          21.41124941804125,
          21.411252313621166,
          21.411247419265454,
          21.4112489190989,
          21.4112473825481,
          21.41125027906718,
          21.411249288729632,
          21.411247385408444,
          21.411250898038283,
          21.41124866283559,
          21.411252631183352,
          21.411271547625887,
          21.411247522501686,
          21.411248893582343,
          21.411249830111156,
          21.411248725464127,
          21.411247410291832,
          21.411247382209467,
          21.41125119319918,
          21.411249830700402,
          21.411247376084553,
          21.41124739434781,
          21.411248681467058,
          21.411250155708245,
          21.41124854644985,
          21.4112631002799,
          21.41124750348889,
          21.411251179739477,
          21.41124743441548,
          21.411325988961366,
          21.41125315602854,
          21.41124960653541,
          21.41124745449989,
          21.41124738508674,
          21.411248758789952,
          21.411249940417584,
          21.41124886304215,
          21.411304453955445,
          21.41125156236956,
          21.411250373486084,
          21.411248713525165,
          21.411247401907712,
          21.411247553607716,
          21.411248644524562,
          21.41124744838754,
          21.411247380350098,
          21.411249869945504,
          21.411248605156764,
          21.411347261208125,
          21.411251139837894,
          21.411277947687854,
          21.411249799912845,
          21.4112473891239,
          21.41124884165316,
          21.411248402580217,
          21.41136307855639,
          21.411247396572502,
          21.411250051204973,
          21.41124746944718,
          21.411248800146222,
          21.411260298984853,
          21.41125140072929,
          21.411248606315922,
          21.41124746789494,
          21.411249671593282,
          21.411247406070856,
          21.411270706799055,
          21.41124744225674,
          21.411286532723018,
          21.411249022984947,
          21.411250528039538,
          21.411247389197513,
          21.411248716618864,
          21.41124857952585,
          21.41124977104442,
          21.411263703438536,
          21.41124740715857,
          21.411247422478212,
          21.41124859131233,
          21.411250149956864,
          21.411247439635606,
          21.411268101722328,
          21.41124741460143,
          21.41124739283155,
          21.411248777229545,
          21.411247395567766,
          21.41124951107082,
          21.41129179405513,
          21.411248616869482,
          21.41125113978015,
          21.411261788345012,
          21.41124960855248,
          21.411247437153687,
          21.411247395392138,
          21.411247379786392,
          21.41131555539114,
          21.411248501984122,
          21.41124877185648,
          21.411249992038293,
          21.411257961525543,
          21.411247389261145,
          21.411248685739654,
          21.411248503139475,
          21.41124741596491,
          21.41124894766509,
          21.411247397674888,
          21.411259862933345,
          21.41128200820725,
          21.411300993025517,
          21.411247415699894,
          21.411250017348305,
          21.411247393839496,
          21.41124877282527,
          21.41125083778848,
          21.411275391054975,
          21.411249515865762,
          21.411248537677952,
          21.411247398565163,
          21.411256064282515,
          21.411252665488643,
          21.411250546550676,
          21.411248769974215,
          21.411249709551523,
          21.411297252044243,
          21.411247389875413,
          21.411248661278105,
          21.41125104673419,
          21.411247377596922,
          21.411248708754172,
          21.411252159238206,
          21.411267041272314,
          21.411249699359566,
          21.411247444217658,
          21.41126405985268,
          21.41127108401303,
          21.41125440949461,
          21.41127423795226,
          21.411307674620954,
          21.41124866906485,
          21.41125005934745,
          21.411248476841536,
          21.411257966398537,
          21.411250621819715,
          21.41124737590539,
          21.41124864437747,
          21.411251582344793,
          21.411247444750625,
          21.411249567283075,
          21.411247422628275,
          21.411249667167038,
          21.41129090419252,
          21.4112485549624,
          21.41126227791082,
          21.41126815211761,
          21.411318773842364,
          21.411251243172053,
          21.411280918725847,
          21.411248592784755,
          21.411247419373776,
          21.41125350191761,
          21.411249805205106,
          21.411284522090206,
          21.411261055414332,
          21.411248633353978,
          21.411255368763168,
          21.411312854151838,
          21.411249956908254,
          21.411258791885523,
          21.411252135839153,
          21.41124879470324,
          21.41124850256864,
          21.41125081874808,
          21.41124740195129,
          21.41132921767784,
          21.411249760759194,
          21.411248340908706,
          21.411247375612447,
          21.411247409725366,
          21.411249628365,
          21.41127045638427,
          21.411301766578347,
          21.411251114114215,
          21.411248658078513,
          21.41125272386973,
          21.411267428680564,
          21.411249612021393,
          21.411247475288864,
          21.41124856175399,
          21.41125738161043,
          21.411247391880945,
          21.41125065109302,
          21.41124739172114,
          21.411310724713662,
          21.411249381214912,
          21.411248607242996,
          21.411251676201438,
          21.411297858795784,
          21.411249689729136,
          21.41129116882526,
          21.411288421962396,
          21.411265288155967,
          21.411248540975414,
          21.411295474097752,
          21.411265739008428,
          21.411322568553075,
          21.411247397613828,
          21.41125592518131,
          21.411250523752642,
          21.411248865436377,
          21.411253793966136,
          21.41127873225029,
          21.411247429318973,
          21.411250096037946,
          21.411261551586236,
          21.411247374419066,
          21.41124866778757,
          21.411269226280375,
          21.41125124641815,
          21.411284976076384,
          21.411282533011175,
          21.41127901137434,
          21.41124739078197,
          21.411249478628175,
          21.411248554592376,
          21.41134706082722,
          21.411340050464293,
          21.411252208385523,
          21.41130958976848,
          21.411275533073603,
          21.411247402023168,
          21.411249907420803,
          21.411248648623975,
          21.4112485864481,
          21.411250815446373,
          21.411247438397048,
          21.411249618195704,
          21.411248508996522,
          21.411315513493903,
          21.41125295674355,
          21.411250546113468,
          21.41136827728495,
          21.411265632951906,
          21.411259376121727,
          21.411248640183242,
          21.411300600135903,
          21.411263509014283,
          21.411256771425766,
          21.41125482099634,
          21.41127733216749,
          21.41127970118185,
          21.411249684890972,
          21.41124745356711,
          21.41125150452215,
          21.411247425752588,
          21.41124868492933,
          21.41126008286946,
          21.41124974152016,
          21.41130341714165,
          21.41133388314804,
          21.41126286924814,
          21.411248568227993,
          21.411247427980996,
          21.411274386484767,
          21.411304666909402,
          21.411250598690838,
          21.41124864088663,
          21.41125191548364,
          21.411249560434648,
          21.411247433948784,
          21.411247396801198,
          21.411293515780773,
          21.41128303065915,
          21.411249592361028,
          21.41124861004073,
          21.411250795555386,
          21.411253276285247,
          21.41124858113069,
          21.411273240979863,
          21.41124969524107,
          21.41130631166295,
          21.411269640489373,
          21.411248478862156,
          21.41127159656332,
          21.41125085123536,
          21.41128063269331,
          21.411258778136325,
          21.411273416814755,
          21.411247444427396,
          21.411292558068112,
          21.411247428056342,
          21.411296128687265,
          21.411249534997882,
          21.41124880760616,
          21.411350157126556,
          21.411252168186895,
          21.41124858692515,
          21.41127232989629,
          21.411250612472823,
          21.411248483882733,
          21.411266387948363,
          21.411249844547914,
          21.411261344476006,
          21.41126487298729,
          21.411254391398185,
          21.41124739653385,
          21.411247409508615,
          21.411251795016483,
          21.411249416987065,
          21.41124879373916,
          21.411289621253065,
          21.4112571324723,
          21.411276069546815,
          21.411250297112012,
          21.411248583925055,
          21.41124855059723,
          21.4113226618023,
          21.411250910319666,
          21.411247403229304,
          21.411247389486736,
          21.41125587144723,
          21.411252802325052,
          21.41124739458341,
          21.411249767310107,
          21.411313753024018,
          21.41124925838418,
          21.411286873558424,
          21.41124861023448,
          21.411290147639065,
          21.41125086741795,
          21.411282851346364,
          21.411262718484355,
          21.411294862939286,
          21.4112809294231,
          21.411293475910487,
          21.41124740626364,
          21.41132544875828,
          21.41124738619312,
          21.411287693071532,
          21.411248635854566,
          21.411249910989604,
          21.41132000112855,
          21.411273856550277,
          21.411252054898384,
          21.41131794644252,
          21.41128423982579,
          21.411247388757396,
          21.4112495222492,
          21.411258810517886,
          21.41124852162757,
          21.411276359175606,
          21.411250635497534,
          21.411247375525768,
          21.4112605060484,
          21.411270534631647,
          21.411268169378744,
          21.411254195304412,
          21.41135555417425,
          21.411305847882794,
          21.411278144108532,
          21.411248928709277,
          21.411248501085357
         ]
        },
        {
         "mode": "lines",
         "name": "Best Value",
         "type": "scatter",
         "x": [
          0,
          1,
          2,
          3,
          4,
          5,
          6,
          7,
          8,
          9,
          10,
          11,
          12,
          13,
          14,
          15,
          16,
          17,
          18,
          19,
          20,
          21,
          22,
          23,
          24,
          25,
          26,
          27,
          28,
          29,
          30,
          31,
          32,
          33,
          34,
          35,
          36,
          37,
          38,
          39,
          40,
          41,
          42,
          43,
          44,
          45,
          46,
          47,
          48,
          49,
          50,
          51,
          52,
          53,
          54,
          55,
          56,
          57,
          58,
          59,
          60,
          61,
          62,
          63,
          64,
          65,
          66,
          67,
          68,
          69,
          70,
          71,
          72,
          73,
          74,
          75,
          76,
          77,
          78,
          79,
          80,
          81,
          82,
          83,
          84,
          85,
          86,
          87,
          88,
          89,
          90,
          91,
          92,
          93,
          94,
          95,
          96,
          97,
          98,
          99,
          100,
          101,
          102,
          103,
          104,
          105,
          106,
          107,
          108,
          109,
          110,
          111,
          112,
          113,
          114,
          115,
          116,
          117,
          118,
          119,
          120,
          121,
          122,
          123,
          124,
          125,
          126,
          127,
          128,
          129,
          130,
          131,
          132,
          133,
          134,
          135,
          136,
          137,
          138,
          139,
          140,
          141,
          142,
          143,
          144,
          145,
          146,
          147,
          148,
          149,
          150,
          151,
          152,
          153,
          154,
          155,
          156,
          157,
          158,
          159,
          160,
          161,
          162,
          163,
          164,
          165,
          166,
          167,
          168,
          169,
          170,
          171,
          172,
          173,
          174,
          175,
          176,
          177,
          178,
          179,
          180,
          181,
          182,
          183,
          184,
          185,
          186,
          187,
          188,
          189,
          190,
          191,
          192,
          193,
          194,
          195,
          196,
          197,
          198,
          199,
          200,
          201,
          202,
          203,
          204,
          205,
          206,
          207,
          208,
          209,
          210,
          211,
          212,
          213,
          214,
          215,
          216,
          217,
          218,
          219,
          220,
          221,
          222,
          223,
          224,
          225,
          226,
          227,
          228,
          229,
          230,
          231,
          232,
          233,
          234,
          235,
          236,
          237,
          238,
          239,
          240,
          241,
          242,
          243,
          244,
          245,
          246,
          247,
          248,
          249,
          250,
          251,
          252,
          253,
          254,
          255,
          256,
          257,
          258,
          259,
          260,
          261,
          262,
          263,
          264,
          265,
          266,
          267,
          268,
          269,
          270,
          271,
          272,
          273,
          274,
          275,
          276,
          277,
          278,
          279,
          280,
          281,
          282,
          283,
          284,
          285,
          286,
          287,
          288,
          289,
          290,
          291,
          292,
          293,
          294,
          295,
          296,
          297,
          298,
          299,
          300,
          301,
          302,
          303,
          304,
          305,
          306,
          307,
          308,
          309,
          310,
          311,
          312,
          313,
          314,
          315,
          316,
          317,
          318,
          319,
          320,
          321,
          322,
          323,
          324,
          325,
          326,
          327,
          328,
          329,
          330,
          331,
          332,
          333,
          334,
          335,
          336,
          337,
          338,
          339,
          340,
          341,
          342,
          343,
          344,
          345,
          346,
          347,
          348,
          349,
          350,
          351,
          352,
          353,
          354,
          355,
          356,
          357,
          358,
          359,
          360,
          361,
          362,
          363,
          364,
          365,
          366,
          367,
          368,
          369,
          370,
          371,
          372,
          373,
          374,
          375,
          376,
          377,
          378,
          379,
          380,
          381,
          382,
          383,
          384,
          385,
          386,
          387,
          388,
          389,
          390,
          391,
          392,
          393,
          394,
          395,
          396,
          397,
          398,
          399,
          400,
          401,
          402,
          403,
          404,
          405,
          406,
          407,
          408,
          409,
          410,
          411,
          412,
          413,
          414,
          415,
          416,
          417,
          418,
          419,
          420,
          421,
          422,
          423,
          424,
          425,
          426,
          427,
          428,
          429,
          430,
          431,
          432,
          433,
          434,
          435,
          436,
          437,
          438,
          439,
          440,
          441,
          442,
          443,
          444,
          445,
          446,
          447,
          448,
          449,
          450,
          451,
          452,
          453,
          454,
          455,
          456,
          457,
          458,
          459,
          460,
          461,
          462,
          463,
          464,
          465,
          466,
          467,
          468,
          469,
          470,
          471,
          472,
          473,
          474,
          475,
          476,
          477,
          478,
          479,
          480,
          481,
          482,
          483,
          484,
          485,
          486,
          487,
          488,
          489,
          490,
          491,
          492,
          493,
          494,
          495,
          496,
          497,
          498,
          499
         ],
         "y": [
          21.411296991184592,
          21.411296991184592,
          21.411296991184592,
          21.411296991184592,
          21.411296991184592,
          21.411287836737944,
          21.411271436714582,
          21.411271436714582,
          21.41125520117684,
          21.41125520117684,
          21.411247507868634,
          21.411247507868634,
          21.411247507868634,
          21.411247507868634,
          21.411247507868634,
          21.411247507868634,
          21.411247507868634,
          21.411247507868634,
          21.411247507868634,
          21.411247507868634,
          21.411247507868634,
          21.411247507868634,
          21.411247507868634,
          21.411247507868634,
          21.411247507868634,
          21.411247507868634,
          21.411247507868634,
          21.411247507868634,
          21.411247507868634,
          21.411247507868634,
          21.411247507868634,
          21.411247507868634,
          21.411247507868634,
          21.411247507868634,
          21.411247507868634,
          21.411247507868634,
          21.411247507868634,
          21.411247507868634,
          21.411247507868634,
          21.411247507868634,
          21.411247507868634,
          21.411247507868634,
          21.411247507868634,
          21.411247507868634,
          21.411247507868634,
          21.411247507868634,
          21.411247507868634,
          21.411247507868634,
          21.411247507868634,
          21.411247507868634,
          21.411247507868634,
          21.411247507868634,
          21.411247507868634,
          21.411247507868634,
          21.411247507868634,
          21.411247507868634,
          21.411247507868634,
          21.411247507868634,
          21.411247507868634,
          21.411247507868634,
          21.41124748318056,
          21.41124748318056,
          21.41124748318056,
          21.41124748318056,
          21.411247479086363,
          21.411247479086363,
          21.411247479086363,
          21.411247479086363,
          21.411247479086363,
          21.411247479086363,
          21.411247479086363,
          21.411247479086363,
          21.411247479086363,
          21.411247479086363,
          21.411247479086363,
          21.411247479086363,
          21.411247479086363,
          21.411247479086363,
          21.411247479086363,
          21.411247479086363,
          21.411247479086363,
          21.411247479086363,
          21.411247479086363,
          21.411247479086363,
          21.411247479086363,
          21.411247479086363,
          21.411247479086363,
          21.411247479086363,
          21.411247479086363,
          21.411247479086363,
          21.411247479086363,
          21.411247479086363,
          21.411247375062505,
          21.411247375062505,
          21.411247375062505,
          21.411247375062505,
          21.411247375062505,
          21.411247375062505,
          21.411247375062505,
          21.411247375062505,
          21.411247375062505,
          21.411247375062505,
          21.411247375062505,
          21.411247375062505,
          21.411247375062505,
          21.411247375062505,
          21.411247375062505,
          21.411247375062505,
          21.411247375062505,
          21.411247375062505,
          21.411247375062505,
          21.411247375062505,
          21.411247375062505,
          21.411247375062505,
          21.411247375062505,
          21.411247375062505,
          21.411247375062505,
          21.411247375062505,
          21.411247375062505,
          21.411247375062505,
          21.411247375062505,
          21.411247375062505,
          21.411247375062505,
          21.411247375062505,
          21.411247375062505,
          21.411247375062505,
          21.411247375062505,
          21.411247375062505,
          21.411247375062505,
          21.411247375062505,
          21.411247375062505,
          21.411247375062505,
          21.411247375062505,
          21.411247375062505,
          21.411247375062505,
          21.411247375062505,
          21.411247375062505,
          21.411247375062505,
          21.411247375062505,
          21.411247375062505,
          21.411247375062505,
          21.411247375062505,
          21.411247375062505,
          21.411247375062505,
          21.411247375062505,
          21.411247375062505,
          21.411247375062505,
          21.411247375062505,
          21.411247375062505,
          21.411247375062505,
          21.411247375062505,
          21.411247375062505,
          21.411247375062505,
          21.411247375062505,
          21.411247375062505,
          21.411247375062505,
          21.411247375062505,
          21.411247375062505,
          21.411247375062505,
          21.411247375062505,
          21.411247375062505,
          21.411247375062505,
          21.411247375062505,
          21.411247375062505,
          21.411247375062505,
          21.411247375062505,
          21.411247375062505,
          21.411247375062505,
          21.411247375062505,
          21.411247375062505,
          21.411247375062505,
          21.411247375062505,
          21.411247375062505,
          21.411247375062505,
          21.411247375062505,
          21.411247375062505,
          21.411247375062505,
          21.411247375062505,
          21.411247375062505,
          21.411247375062505,
          21.411247375062505,
          21.411247375062505,
          21.411247375062505,
          21.411247375062505,
          21.411247375062505,
          21.411247375062505,
          21.411247375062505,
          21.411247375062505,
          21.411247375062505,
          21.411247375062505,
          21.411247375062505,
          21.411247375062505,
          21.411247375062505,
          21.411247375062505,
          21.411247375062505,
          21.411247375062505,
          21.411247375062505,
          21.411247375062505,
          21.411247375062505,
          21.411247375062505,
          21.411247375062505,
          21.411247375062505,
          21.411247375062505,
          21.411247375062505,
          21.411247375062505,
          21.411247375062505,
          21.411247375062505,
          21.411247375062505,
          21.411247375062505,
          21.411247375062505,
          21.411247375062505,
          21.411247375062505,
          21.411247375062505,
          21.411247375062505,
          21.411247375062505,
          21.411247375062505,
          21.411247375062505,
          21.411247375062505,
          21.411247375062505,
          21.411247375062505,
          21.411247375062505,
          21.411247375062505,
          21.411247375062505,
          21.411247375062505,
          21.411247375062505,
          21.411247375062505,
          21.411247375062505,
          21.411247375062505,
          21.411247375062505,
          21.411247375062505,
          21.411247375062505,
          21.411247375062505,
          21.411247375062505,
          21.411247375062505,
          21.411247375062505,
          21.411247375062505,
          21.411247375062505,
          21.411247375062505,
          21.411247375062505,
          21.411247375062505,
          21.411247375062505,
          21.411247375062505,
          21.411247375062505,
          21.411247375062505,
          21.411247375062505,
          21.411247375062505,
          21.411247375062505,
          21.411247375062505,
          21.411247375062505,
          21.411247375062505,
          21.411247375062505,
          21.411247375062505,
          21.411247375062505,
          21.411247375062505,
          21.411247375062505,
          21.411247375062505,
          21.411247375062505,
          21.411247375062505,
          21.411247375062505,
          21.411247375062505,
          21.411247375062505,
          21.411247375062505,
          21.411247375062505,
          21.411247375062505,
          21.411247375062505,
          21.411247375062505,
          21.411247375062505,
          21.411247375062505,
          21.411247375062505,
          21.411247375062505,
          21.411247375062505,
          21.411247375062505,
          21.411247375062505,
          21.411247375062505,
          21.411247375062505,
          21.411247375062505,
          21.411247375062505,
          21.411247375062505,
          21.411247375062505,
          21.411247375062505,
          21.411247375062505,
          21.411247375062505,
          21.411247375062505,
          21.411247375062505,
          21.411247375062505,
          21.411247375062505,
          21.411247375062505,
          21.411247375062505,
          21.411247375062505,
          21.411247375062505,
          21.411247375062505,
          21.411247375062505,
          21.411247375062505,
          21.411247375062505,
          21.411247375062505,
          21.411247375062505,
          21.411247375062505,
          21.411247375062505,
          21.411247375062505,
          21.411247375062505,
          21.411247375062505,
          21.411247375062505,
          21.411247375062505,
          21.411247375062505,
          21.411247375062505,
          21.411247375062505,
          21.411247375062505,
          21.411247375062505,
          21.411247375062505,
          21.411247375062505,
          21.411247375062505,
          21.411247375062505,
          21.411247375062505,
          21.411247375062505,
          21.411247375062505,
          21.411247375062505,
          21.411247375062505,
          21.411247375062505,
          21.411247375062505,
          21.411247375062505,
          21.411247375062505,
          21.411247375062505,
          21.411247375062505,
          21.411247375062505,
          21.411247375062505,
          21.411247375062505,
          21.411247375062505,
          21.411247375062505,
          21.411247375062505,
          21.411247375062505,
          21.411247375062505,
          21.411247375062505,
          21.411247375062505,
          21.411247375062505,
          21.411247375062505,
          21.411247375062505,
          21.411247375062505,
          21.411247375062505,
          21.411247375062505,
          21.411247375062505,
          21.411247375062505,
          21.411247375062505,
          21.411247375062505,
          21.411247375062505,
          21.411247375062505,
          21.411247375062505,
          21.411247375062505,
          21.411247375062505,
          21.411247375062505,
          21.411247375062505,
          21.411247375062505,
          21.411247375062505,
          21.411247375062505,
          21.411247374419066,
          21.411247374419066,
          21.411247374419066,
          21.411247374419066,
          21.411247374419066,
          21.411247374419066,
          21.411247374419066,
          21.411247374419066,
          21.411247374419066,
          21.411247374419066,
          21.411247374419066,
          21.411247374419066,
          21.411247374419066,
          21.411247374419066,
          21.411247374419066,
          21.411247374419066,
          21.411247374419066,
          21.411247374419066,
          21.411247374419066,
          21.411247374419066,
          21.411247374419066,
          21.411247374419066,
          21.411247374419066,
          21.411247374419066,
          21.411247374419066,
          21.411247374419066,
          21.411247374419066,
          21.411247374419066,
          21.411247374419066,
          21.411247374419066,
          21.411247374419066,
          21.411247374419066,
          21.411247374419066,
          21.411247374419066,
          21.411247374419066,
          21.411247374419066,
          21.411247374419066,
          21.411247374419066,
          21.411247374419066,
          21.411247374419066,
          21.411247374419066,
          21.411247374419066,
          21.411247374419066,
          21.411247374419066,
          21.411247374419066,
          21.411247374419066,
          21.411247374419066,
          21.411247374419066,
          21.411247374419066,
          21.411247374419066,
          21.411247374419066,
          21.411247374419066,
          21.411247374419066,
          21.411247374419066,
          21.411247374419066,
          21.411247374419066,
          21.411247374419066,
          21.411247374419066,
          21.411247374419066,
          21.411247374419066,
          21.411247374419066,
          21.411247374419066,
          21.411247374419066,
          21.411247374419066,
          21.411247374419066,
          21.411247374419066,
          21.411247374419066,
          21.411247374419066,
          21.411247374419066,
          21.411247374419066,
          21.411247374419066,
          21.411247374419066,
          21.411247374419066,
          21.411247374419066,
          21.411247374419066,
          21.411247374419066,
          21.411247374419066,
          21.411247374419066,
          21.411247374419066,
          21.411247374419066,
          21.411247374419066,
          21.411247374419066,
          21.411247374419066,
          21.411247374419066,
          21.411247374419066,
          21.411247374419066,
          21.411247374419066,
          21.411247374419066,
          21.411247374419066,
          21.411247374419066,
          21.411247374419066,
          21.411247374419066,
          21.411247374419066,
          21.411247374419066,
          21.411247374419066,
          21.411247374419066,
          21.411247374419066,
          21.411247374419066,
          21.411247374419066,
          21.411247374419066,
          21.411247374419066,
          21.411247374419066,
          21.411247374419066,
          21.411247374419066,
          21.411247374419066,
          21.411247374419066,
          21.411247374419066,
          21.411247374419066,
          21.411247374419066,
          21.411247374419066,
          21.411247374419066,
          21.411247374419066,
          21.411247374419066,
          21.411247374419066,
          21.411247374419066,
          21.411247374419066,
          21.411247374419066,
          21.411247374419066,
          21.411247374419066,
          21.411247374419066,
          21.411247374419066,
          21.411247374419066,
          21.411247374419066,
          21.411247374419066,
          21.411247374419066,
          21.411247374419066,
          21.411247374419066,
          21.411247374419066,
          21.411247374419066,
          21.411247374419066,
          21.411247374419066,
          21.411247374419066,
          21.411247374419066,
          21.411247374419066,
          21.411247374419066,
          21.411247374419066,
          21.411247374419066,
          21.411247374419066,
          21.411247374419066,
          21.411247374419066,
          21.411247374419066,
          21.411247374419066,
          21.411247374419066,
          21.411247374419066,
          21.411247374419066,
          21.411247374419066,
          21.411247374419066
         ]
        },
        {
         "marker": {
          "color": "#cccccc"
         },
         "mode": "markers",
         "name": "Infeasible Trial",
         "showlegend": false,
         "type": "scatter",
         "x": [],
         "y": []
        }
       ],
       "layout": {
        "template": {
         "data": {
          "bar": [
           {
            "error_x": {
             "color": "#2a3f5f"
            },
            "error_y": {
             "color": "#2a3f5f"
            },
            "marker": {
             "line": {
              "color": "#E5ECF6",
              "width": 0.5
             },
             "pattern": {
              "fillmode": "overlay",
              "size": 10,
              "solidity": 0.2
             }
            },
            "type": "bar"
           }
          ],
          "barpolar": [
           {
            "marker": {
             "line": {
              "color": "#E5ECF6",
              "width": 0.5
             },
             "pattern": {
              "fillmode": "overlay",
              "size": 10,
              "solidity": 0.2
             }
            },
            "type": "barpolar"
           }
          ],
          "carpet": [
           {
            "aaxis": {
             "endlinecolor": "#2a3f5f",
             "gridcolor": "white",
             "linecolor": "white",
             "minorgridcolor": "white",
             "startlinecolor": "#2a3f5f"
            },
            "baxis": {
             "endlinecolor": "#2a3f5f",
             "gridcolor": "white",
             "linecolor": "white",
             "minorgridcolor": "white",
             "startlinecolor": "#2a3f5f"
            },
            "type": "carpet"
           }
          ],
          "choropleth": [
           {
            "colorbar": {
             "outlinewidth": 0,
             "ticks": ""
            },
            "type": "choropleth"
           }
          ],
          "contour": [
           {
            "colorbar": {
             "outlinewidth": 0,
             "ticks": ""
            },
            "colorscale": [
             [
              0,
              "#0d0887"
             ],
             [
              0.1111111111111111,
              "#46039f"
             ],
             [
              0.2222222222222222,
              "#7201a8"
             ],
             [
              0.3333333333333333,
              "#9c179e"
             ],
             [
              0.4444444444444444,
              "#bd3786"
             ],
             [
              0.5555555555555556,
              "#d8576b"
             ],
             [
              0.6666666666666666,
              "#ed7953"
             ],
             [
              0.7777777777777778,
              "#fb9f3a"
             ],
             [
              0.8888888888888888,
              "#fdca26"
             ],
             [
              1,
              "#f0f921"
             ]
            ],
            "type": "contour"
           }
          ],
          "contourcarpet": [
           {
            "colorbar": {
             "outlinewidth": 0,
             "ticks": ""
            },
            "type": "contourcarpet"
           }
          ],
          "heatmap": [
           {
            "colorbar": {
             "outlinewidth": 0,
             "ticks": ""
            },
            "colorscale": [
             [
              0,
              "#0d0887"
             ],
             [
              0.1111111111111111,
              "#46039f"
             ],
             [
              0.2222222222222222,
              "#7201a8"
             ],
             [
              0.3333333333333333,
              "#9c179e"
             ],
             [
              0.4444444444444444,
              "#bd3786"
             ],
             [
              0.5555555555555556,
              "#d8576b"
             ],
             [
              0.6666666666666666,
              "#ed7953"
             ],
             [
              0.7777777777777778,
              "#fb9f3a"
             ],
             [
              0.8888888888888888,
              "#fdca26"
             ],
             [
              1,
              "#f0f921"
             ]
            ],
            "type": "heatmap"
           }
          ],
          "heatmapgl": [
           {
            "colorbar": {
             "outlinewidth": 0,
             "ticks": ""
            },
            "colorscale": [
             [
              0,
              "#0d0887"
             ],
             [
              0.1111111111111111,
              "#46039f"
             ],
             [
              0.2222222222222222,
              "#7201a8"
             ],
             [
              0.3333333333333333,
              "#9c179e"
             ],
             [
              0.4444444444444444,
              "#bd3786"
             ],
             [
              0.5555555555555556,
              "#d8576b"
             ],
             [
              0.6666666666666666,
              "#ed7953"
             ],
             [
              0.7777777777777778,
              "#fb9f3a"
             ],
             [
              0.8888888888888888,
              "#fdca26"
             ],
             [
              1,
              "#f0f921"
             ]
            ],
            "type": "heatmapgl"
           }
          ],
          "histogram": [
           {
            "marker": {
             "pattern": {
              "fillmode": "overlay",
              "size": 10,
              "solidity": 0.2
             }
            },
            "type": "histogram"
           }
          ],
          "histogram2d": [
           {
            "colorbar": {
             "outlinewidth": 0,
             "ticks": ""
            },
            "colorscale": [
             [
              0,
              "#0d0887"
             ],
             [
              0.1111111111111111,
              "#46039f"
             ],
             [
              0.2222222222222222,
              "#7201a8"
             ],
             [
              0.3333333333333333,
              "#9c179e"
             ],
             [
              0.4444444444444444,
              "#bd3786"
             ],
             [
              0.5555555555555556,
              "#d8576b"
             ],
             [
              0.6666666666666666,
              "#ed7953"
             ],
             [
              0.7777777777777778,
              "#fb9f3a"
             ],
             [
              0.8888888888888888,
              "#fdca26"
             ],
             [
              1,
              "#f0f921"
             ]
            ],
            "type": "histogram2d"
           }
          ],
          "histogram2dcontour": [
           {
            "colorbar": {
             "outlinewidth": 0,
             "ticks": ""
            },
            "colorscale": [
             [
              0,
              "#0d0887"
             ],
             [
              0.1111111111111111,
              "#46039f"
             ],
             [
              0.2222222222222222,
              "#7201a8"
             ],
             [
              0.3333333333333333,
              "#9c179e"
             ],
             [
              0.4444444444444444,
              "#bd3786"
             ],
             [
              0.5555555555555556,
              "#d8576b"
             ],
             [
              0.6666666666666666,
              "#ed7953"
             ],
             [
              0.7777777777777778,
              "#fb9f3a"
             ],
             [
              0.8888888888888888,
              "#fdca26"
             ],
             [
              1,
              "#f0f921"
             ]
            ],
            "type": "histogram2dcontour"
           }
          ],
          "mesh3d": [
           {
            "colorbar": {
             "outlinewidth": 0,
             "ticks": ""
            },
            "type": "mesh3d"
           }
          ],
          "parcoords": [
           {
            "line": {
             "colorbar": {
              "outlinewidth": 0,
              "ticks": ""
             }
            },
            "type": "parcoords"
           }
          ],
          "pie": [
           {
            "automargin": true,
            "type": "pie"
           }
          ],
          "scatter": [
           {
            "fillpattern": {
             "fillmode": "overlay",
             "size": 10,
             "solidity": 0.2
            },
            "type": "scatter"
           }
          ],
          "scatter3d": [
           {
            "line": {
             "colorbar": {
              "outlinewidth": 0,
              "ticks": ""
             }
            },
            "marker": {
             "colorbar": {
              "outlinewidth": 0,
              "ticks": ""
             }
            },
            "type": "scatter3d"
           }
          ],
          "scattercarpet": [
           {
            "marker": {
             "colorbar": {
              "outlinewidth": 0,
              "ticks": ""
             }
            },
            "type": "scattercarpet"
           }
          ],
          "scattergeo": [
           {
            "marker": {
             "colorbar": {
              "outlinewidth": 0,
              "ticks": ""
             }
            },
            "type": "scattergeo"
           }
          ],
          "scattergl": [
           {
            "marker": {
             "colorbar": {
              "outlinewidth": 0,
              "ticks": ""
             }
            },
            "type": "scattergl"
           }
          ],
          "scattermapbox": [
           {
            "marker": {
             "colorbar": {
              "outlinewidth": 0,
              "ticks": ""
             }
            },
            "type": "scattermapbox"
           }
          ],
          "scatterpolar": [
           {
            "marker": {
             "colorbar": {
              "outlinewidth": 0,
              "ticks": ""
             }
            },
            "type": "scatterpolar"
           }
          ],
          "scatterpolargl": [
           {
            "marker": {
             "colorbar": {
              "outlinewidth": 0,
              "ticks": ""
             }
            },
            "type": "scatterpolargl"
           }
          ],
          "scatterternary": [
           {
            "marker": {
             "colorbar": {
              "outlinewidth": 0,
              "ticks": ""
             }
            },
            "type": "scatterternary"
           }
          ],
          "surface": [
           {
            "colorbar": {
             "outlinewidth": 0,
             "ticks": ""
            },
            "colorscale": [
             [
              0,
              "#0d0887"
             ],
             [
              0.1111111111111111,
              "#46039f"
             ],
             [
              0.2222222222222222,
              "#7201a8"
             ],
             [
              0.3333333333333333,
              "#9c179e"
             ],
             [
              0.4444444444444444,
              "#bd3786"
             ],
             [
              0.5555555555555556,
              "#d8576b"
             ],
             [
              0.6666666666666666,
              "#ed7953"
             ],
             [
              0.7777777777777778,
              "#fb9f3a"
             ],
             [
              0.8888888888888888,
              "#fdca26"
             ],
             [
              1,
              "#f0f921"
             ]
            ],
            "type": "surface"
           }
          ],
          "table": [
           {
            "cells": {
             "fill": {
              "color": "#EBF0F8"
             },
             "line": {
              "color": "white"
             }
            },
            "header": {
             "fill": {
              "color": "#C8D4E3"
             },
             "line": {
              "color": "white"
             }
            },
            "type": "table"
           }
          ]
         },
         "layout": {
          "annotationdefaults": {
           "arrowcolor": "#2a3f5f",
           "arrowhead": 0,
           "arrowwidth": 1
          },
          "autotypenumbers": "strict",
          "coloraxis": {
           "colorbar": {
            "outlinewidth": 0,
            "ticks": ""
           }
          },
          "colorscale": {
           "diverging": [
            [
             0,
             "#8e0152"
            ],
            [
             0.1,
             "#c51b7d"
            ],
            [
             0.2,
             "#de77ae"
            ],
            [
             0.3,
             "#f1b6da"
            ],
            [
             0.4,
             "#fde0ef"
            ],
            [
             0.5,
             "#f7f7f7"
            ],
            [
             0.6,
             "#e6f5d0"
            ],
            [
             0.7,
             "#b8e186"
            ],
            [
             0.8,
             "#7fbc41"
            ],
            [
             0.9,
             "#4d9221"
            ],
            [
             1,
             "#276419"
            ]
           ],
           "sequential": [
            [
             0,
             "#0d0887"
            ],
            [
             0.1111111111111111,
             "#46039f"
            ],
            [
             0.2222222222222222,
             "#7201a8"
            ],
            [
             0.3333333333333333,
             "#9c179e"
            ],
            [
             0.4444444444444444,
             "#bd3786"
            ],
            [
             0.5555555555555556,
             "#d8576b"
            ],
            [
             0.6666666666666666,
             "#ed7953"
            ],
            [
             0.7777777777777778,
             "#fb9f3a"
            ],
            [
             0.8888888888888888,
             "#fdca26"
            ],
            [
             1,
             "#f0f921"
            ]
           ],
           "sequentialminus": [
            [
             0,
             "#0d0887"
            ],
            [
             0.1111111111111111,
             "#46039f"
            ],
            [
             0.2222222222222222,
             "#7201a8"
            ],
            [
             0.3333333333333333,
             "#9c179e"
            ],
            [
             0.4444444444444444,
             "#bd3786"
            ],
            [
             0.5555555555555556,
             "#d8576b"
            ],
            [
             0.6666666666666666,
             "#ed7953"
            ],
            [
             0.7777777777777778,
             "#fb9f3a"
            ],
            [
             0.8888888888888888,
             "#fdca26"
            ],
            [
             1,
             "#f0f921"
            ]
           ]
          },
          "colorway": [
           "#636efa",
           "#EF553B",
           "#00cc96",
           "#ab63fa",
           "#FFA15A",
           "#19d3f3",
           "#FF6692",
           "#B6E880",
           "#FF97FF",
           "#FECB52"
          ],
          "font": {
           "color": "#2a3f5f"
          },
          "geo": {
           "bgcolor": "white",
           "lakecolor": "white",
           "landcolor": "#E5ECF6",
           "showlakes": true,
           "showland": true,
           "subunitcolor": "white"
          },
          "hoverlabel": {
           "align": "left"
          },
          "hovermode": "closest",
          "mapbox": {
           "style": "light"
          },
          "paper_bgcolor": "white",
          "plot_bgcolor": "#E5ECF6",
          "polar": {
           "angularaxis": {
            "gridcolor": "white",
            "linecolor": "white",
            "ticks": ""
           },
           "bgcolor": "#E5ECF6",
           "radialaxis": {
            "gridcolor": "white",
            "linecolor": "white",
            "ticks": ""
           }
          },
          "scene": {
           "xaxis": {
            "backgroundcolor": "#E5ECF6",
            "gridcolor": "white",
            "gridwidth": 2,
            "linecolor": "white",
            "showbackground": true,
            "ticks": "",
            "zerolinecolor": "white"
           },
           "yaxis": {
            "backgroundcolor": "#E5ECF6",
            "gridcolor": "white",
            "gridwidth": 2,
            "linecolor": "white",
            "showbackground": true,
            "ticks": "",
            "zerolinecolor": "white"
           },
           "zaxis": {
            "backgroundcolor": "#E5ECF6",
            "gridcolor": "white",
            "gridwidth": 2,
            "linecolor": "white",
            "showbackground": true,
            "ticks": "",
            "zerolinecolor": "white"
           }
          },
          "shapedefaults": {
           "line": {
            "color": "#2a3f5f"
           }
          },
          "ternary": {
           "aaxis": {
            "gridcolor": "white",
            "linecolor": "white",
            "ticks": ""
           },
           "baxis": {
            "gridcolor": "white",
            "linecolor": "white",
            "ticks": ""
           },
           "bgcolor": "#E5ECF6",
           "caxis": {
            "gridcolor": "white",
            "linecolor": "white",
            "ticks": ""
           }
          },
          "title": {
           "x": 0.05
          },
          "xaxis": {
           "automargin": true,
           "gridcolor": "white",
           "linecolor": "white",
           "ticks": "",
           "title": {
            "standoff": 15
           },
           "zerolinecolor": "white",
           "zerolinewidth": 2
          },
          "yaxis": {
           "automargin": true,
           "gridcolor": "white",
           "linecolor": "white",
           "ticks": "",
           "title": {
            "standoff": 15
           },
           "zerolinecolor": "white",
           "zerolinewidth": 2
          }
         }
        },
        "title": {
         "text": "Optimization History Plot"
        },
        "xaxis": {
         "title": {
          "text": "Trial"
         }
        },
        "yaxis": {
         "title": {
          "text": "Objective Value"
         }
        }
       }
      },
      "text/html": [
       "<div>                        <script type=\"text/javascript\">window.PlotlyConfig = {MathJaxConfig: 'local'};</script>\n",
       "        <script charset=\"utf-8\" src=\"https://cdn.plot.ly/plotly-2.25.2.min.js\"></script>                <div id=\"a2e1a125-ba93-463e-8b2b-37c81bfad69d\" class=\"plotly-graph-div\" style=\"height:100%; width:100%;\"></div>            <script type=\"text/javascript\">                                    window.PLOTLYENV=window.PLOTLYENV || {};                                    if (document.getElementById(\"a2e1a125-ba93-463e-8b2b-37c81bfad69d\")) {                    Plotly.newPlot(                        \"a2e1a125-ba93-463e-8b2b-37c81bfad69d\",                        [{\"mode\":\"markers\",\"name\":\"Objective Value\",\"x\":[0,1,2,3,4,5,6,7,8,9,10,11,12,13,14,15,16,17,18,19,20,21,22,23,24,25,26,27,28,29,30,31,32,33,34,35,36,37,38,39,40,41,42,43,44,45,46,47,48,49,50,51,52,53,54,55,56,57,58,59,60,61,62,63,64,65,66,67,68,69,70,71,72,73,74,75,76,77,78,79,80,81,82,83,84,85,86,87,88,89,90,91,92,93,94,95,96,97,98,99,100,101,102,103,104,105,106,107,108,109,110,111,112,113,114,115,116,117,118,119,120,121,122,123,124,125,126,127,128,129,130,131,132,133,134,135,136,137,138,139,140,141,142,143,144,145,146,147,148,149,150,151,152,153,154,155,156,157,158,159,160,161,162,163,164,165,166,167,168,169,170,171,172,173,174,175,176,177,178,179,180,181,182,183,184,185,186,187,188,189,190,191,192,193,194,195,196,197,198,199,200,201,202,203,204,205,206,207,208,209,210,211,212,213,214,215,216,217,218,219,220,221,222,223,224,225,226,227,228,229,230,231,232,233,234,235,236,237,238,239,240,241,242,243,244,245,246,247,248,249,250,251,252,253,254,255,256,257,258,259,260,261,262,263,264,265,266,267,268,269,270,271,272,273,274,275,276,277,278,279,280,281,282,283,284,285,286,287,288,289,290,291,292,293,294,295,296,297,298,299,300,301,302,303,304,305,306,307,308,309,310,311,312,313,314,315,316,317,318,319,320,321,322,323,324,325,326,327,328,329,330,331,332,333,334,335,336,337,338,339,340,341,342,343,344,345,346,347,348,349,350,351,352,353,354,355,356,357,358,359,360,361,362,363,364,365,366,367,368,369,370,371,372,373,374,375,376,377,378,379,380,381,382,383,384,385,386,387,388,389,390,391,392,393,394,395,396,397,398,399,400,401,402,403,404,405,406,407,408,409,410,411,412,413,414,415,416,417,418,419,420,421,422,423,424,425,426,427,428,429,430,431,432,433,434,435,436,437,438,439,440,441,442,443,444,445,446,447,448,449,450,451,452,453,454,455,456,457,458,459,460,461,462,463,464,465,466,467,468,469,470,471,472,473,474,475,476,477,478,479,480,481,482,483,484,485,486,487,488,489,490,491,492,493,494,495,496,497,498,499],\"y\":[21.411296991184592,21.41131302412556,21.411309099719315,21.411320941048217,21.41134702477322,21.411287836737944,21.411271436714582,21.411333040835235,21.41125520117684,21.41128032774527,21.411247507868634,21.411248023097766,21.41125133297153,21.411248821275795,21.411262325035704,21.41126217120341,21.411247567498805,21.411259964947057,21.41126890742914,21.411253835303324,21.411247550490693,21.4112476441821,21.411256220799817,21.411253894826885,21.411268919358342,21.411248348210197,21.411258336220424,21.41125244861663,21.41126137340844,21.411247543495623,21.411277065916114,21.411251900679616,21.411247520975458,21.41125735039589,21.41125188373036,21.411295070009917,21.411265872042392,21.4112564515869,21.41125106319795,21.411307252272646,21.411257238415928,21.4112483938665,21.411250932708658,21.411247727539926,21.4112549340625,21.411247658176926,21.411265016678257,21.411250998208832,21.411253593576664,21.411258590289613,21.4112501182152,21.411247927645583,21.411253419095914,21.41125001706124,21.411247636638166,21.41125512887159,21.411260258536725,21.41124988146968,21.41125357816781,21.411249851630256,21.41124748318056,21.41125256205537,21.411247774361915,21.41125538960264,21.411247479086363,21.411249920923552,21.41125951649246,21.41125222389118,21.411255428294798,21.41125020378319,21.411256919045336,21.4112477569913,21.4112496402391,21.411252428528133,21.411248919264686,21.411252527144295,21.411247720046774,21.411251176165564,21.41125429095398,21.411247551436592,21.411257432839903,21.41124915945248,21.411251135587257,21.411247788931615,21.41124750116543,21.411249336549414,21.411251270088638,21.41125324697453,21.41124901860277,21.411254784953215,21.41125143237702,21.411247563359648,21.411247375062505,21.411247505424527,21.411249282958128,21.41125080943926,21.41124923528736,21.411247384799317,21.411252844139714,21.411256184132736,21.411249009916418,21.411247384480255,21.411250110991336,21.411251449183897,21.411254240046496,21.411247413574365,21.41124893273064,21.411250565499476,21.41124747380301,21.411252591539917,21.41124880104726,21.411247624279365,21.411250344033157,21.411248932728896,21.4112473803679,21.41125191354592,21.41124737824663,21.411253707161052,21.411247483335742,21.411250344560944,21.411248946637244,21.41124847364339,21.41124762727671,21.411250407866877,21.41125196939429,21.411248902043177,21.41124743326756,21.4112474891566,21.41125039634723,21.411254165619116,21.411287716007326,21.411247401437667,21.411248728022144,21.41124758128052,21.41125196686206,21.41124990612158,21.411247449955066,21.411251133970605,21.41124739222554,21.41124941804125,21.411252313621166,21.411247419265454,21.4112489190989,21.4112473825481,21.41125027906718,21.411249288729632,21.411247385408444,21.411250898038283,21.41124866283559,21.411252631183352,21.411271547625887,21.411247522501686,21.411248893582343,21.411249830111156,21.411248725464127,21.411247410291832,21.411247382209467,21.41125119319918,21.411249830700402,21.411247376084553,21.41124739434781,21.411248681467058,21.411250155708245,21.41124854644985,21.4112631002799,21.41124750348889,21.411251179739477,21.41124743441548,21.411325988961366,21.41125315602854,21.41124960653541,21.41124745449989,21.41124738508674,21.411248758789952,21.411249940417584,21.41124886304215,21.411304453955445,21.41125156236956,21.411250373486084,21.411248713525165,21.411247401907712,21.411247553607716,21.411248644524562,21.41124744838754,21.411247380350098,21.411249869945504,21.411248605156764,21.411347261208125,21.411251139837894,21.411277947687854,21.411249799912845,21.4112473891239,21.41124884165316,21.411248402580217,21.41136307855639,21.411247396572502,21.411250051204973,21.41124746944718,21.411248800146222,21.411260298984853,21.41125140072929,21.411248606315922,21.41124746789494,21.411249671593282,21.411247406070856,21.411270706799055,21.41124744225674,21.411286532723018,21.411249022984947,21.411250528039538,21.411247389197513,21.411248716618864,21.41124857952585,21.41124977104442,21.411263703438536,21.41124740715857,21.411247422478212,21.41124859131233,21.411250149956864,21.411247439635606,21.411268101722328,21.41124741460143,21.41124739283155,21.411248777229545,21.411247395567766,21.41124951107082,21.41129179405513,21.411248616869482,21.41125113978015,21.411261788345012,21.41124960855248,21.411247437153687,21.411247395392138,21.411247379786392,21.41131555539114,21.411248501984122,21.41124877185648,21.411249992038293,21.411257961525543,21.411247389261145,21.411248685739654,21.411248503139475,21.41124741596491,21.41124894766509,21.411247397674888,21.411259862933345,21.41128200820725,21.411300993025517,21.411247415699894,21.411250017348305,21.411247393839496,21.41124877282527,21.41125083778848,21.411275391054975,21.411249515865762,21.411248537677952,21.411247398565163,21.411256064282515,21.411252665488643,21.411250546550676,21.411248769974215,21.411249709551523,21.411297252044243,21.411247389875413,21.411248661278105,21.41125104673419,21.411247377596922,21.411248708754172,21.411252159238206,21.411267041272314,21.411249699359566,21.411247444217658,21.41126405985268,21.41127108401303,21.41125440949461,21.41127423795226,21.411307674620954,21.41124866906485,21.41125005934745,21.411248476841536,21.411257966398537,21.411250621819715,21.41124737590539,21.41124864437747,21.411251582344793,21.411247444750625,21.411249567283075,21.411247422628275,21.411249667167038,21.41129090419252,21.4112485549624,21.41126227791082,21.41126815211761,21.411318773842364,21.411251243172053,21.411280918725847,21.411248592784755,21.411247419373776,21.41125350191761,21.411249805205106,21.411284522090206,21.411261055414332,21.411248633353978,21.411255368763168,21.411312854151838,21.411249956908254,21.411258791885523,21.411252135839153,21.41124879470324,21.41124850256864,21.41125081874808,21.41124740195129,21.41132921767784,21.411249760759194,21.411248340908706,21.411247375612447,21.411247409725366,21.411249628365,21.41127045638427,21.411301766578347,21.411251114114215,21.411248658078513,21.41125272386973,21.411267428680564,21.411249612021393,21.411247475288864,21.41124856175399,21.41125738161043,21.411247391880945,21.41125065109302,21.41124739172114,21.411310724713662,21.411249381214912,21.411248607242996,21.411251676201438,21.411297858795784,21.411249689729136,21.41129116882526,21.411288421962396,21.411265288155967,21.411248540975414,21.411295474097752,21.411265739008428,21.411322568553075,21.411247397613828,21.41125592518131,21.411250523752642,21.411248865436377,21.411253793966136,21.41127873225029,21.411247429318973,21.411250096037946,21.411261551586236,21.411247374419066,21.41124866778757,21.411269226280375,21.41125124641815,21.411284976076384,21.411282533011175,21.41127901137434,21.41124739078197,21.411249478628175,21.411248554592376,21.41134706082722,21.411340050464293,21.411252208385523,21.41130958976848,21.411275533073603,21.411247402023168,21.411249907420803,21.411248648623975,21.4112485864481,21.411250815446373,21.411247438397048,21.411249618195704,21.411248508996522,21.411315513493903,21.41125295674355,21.411250546113468,21.41136827728495,21.411265632951906,21.411259376121727,21.411248640183242,21.411300600135903,21.411263509014283,21.411256771425766,21.41125482099634,21.41127733216749,21.41127970118185,21.411249684890972,21.41124745356711,21.41125150452215,21.411247425752588,21.41124868492933,21.41126008286946,21.41124974152016,21.41130341714165,21.41133388314804,21.41126286924814,21.411248568227993,21.411247427980996,21.411274386484767,21.411304666909402,21.411250598690838,21.41124864088663,21.41125191548364,21.411249560434648,21.411247433948784,21.411247396801198,21.411293515780773,21.41128303065915,21.411249592361028,21.41124861004073,21.411250795555386,21.411253276285247,21.41124858113069,21.411273240979863,21.41124969524107,21.41130631166295,21.411269640489373,21.411248478862156,21.41127159656332,21.41125085123536,21.41128063269331,21.411258778136325,21.411273416814755,21.411247444427396,21.411292558068112,21.411247428056342,21.411296128687265,21.411249534997882,21.41124880760616,21.411350157126556,21.411252168186895,21.41124858692515,21.41127232989629,21.411250612472823,21.411248483882733,21.411266387948363,21.411249844547914,21.411261344476006,21.41126487298729,21.411254391398185,21.41124739653385,21.411247409508615,21.411251795016483,21.411249416987065,21.41124879373916,21.411289621253065,21.4112571324723,21.411276069546815,21.411250297112012,21.411248583925055,21.41124855059723,21.4113226618023,21.411250910319666,21.411247403229304,21.411247389486736,21.41125587144723,21.411252802325052,21.41124739458341,21.411249767310107,21.411313753024018,21.41124925838418,21.411286873558424,21.41124861023448,21.411290147639065,21.41125086741795,21.411282851346364,21.411262718484355,21.411294862939286,21.4112809294231,21.411293475910487,21.41124740626364,21.41132544875828,21.41124738619312,21.411287693071532,21.411248635854566,21.411249910989604,21.41132000112855,21.411273856550277,21.411252054898384,21.41131794644252,21.41128423982579,21.411247388757396,21.4112495222492,21.411258810517886,21.41124852162757,21.411276359175606,21.411250635497534,21.411247375525768,21.4112605060484,21.411270534631647,21.411268169378744,21.411254195304412,21.41135555417425,21.411305847882794,21.411278144108532,21.411248928709277,21.411248501085357],\"type\":\"scatter\"},{\"mode\":\"lines\",\"name\":\"Best Value\",\"x\":[0,1,2,3,4,5,6,7,8,9,10,11,12,13,14,15,16,17,18,19,20,21,22,23,24,25,26,27,28,29,30,31,32,33,34,35,36,37,38,39,40,41,42,43,44,45,46,47,48,49,50,51,52,53,54,55,56,57,58,59,60,61,62,63,64,65,66,67,68,69,70,71,72,73,74,75,76,77,78,79,80,81,82,83,84,85,86,87,88,89,90,91,92,93,94,95,96,97,98,99,100,101,102,103,104,105,106,107,108,109,110,111,112,113,114,115,116,117,118,119,120,121,122,123,124,125,126,127,128,129,130,131,132,133,134,135,136,137,138,139,140,141,142,143,144,145,146,147,148,149,150,151,152,153,154,155,156,157,158,159,160,161,162,163,164,165,166,167,168,169,170,171,172,173,174,175,176,177,178,179,180,181,182,183,184,185,186,187,188,189,190,191,192,193,194,195,196,197,198,199,200,201,202,203,204,205,206,207,208,209,210,211,212,213,214,215,216,217,218,219,220,221,222,223,224,225,226,227,228,229,230,231,232,233,234,235,236,237,238,239,240,241,242,243,244,245,246,247,248,249,250,251,252,253,254,255,256,257,258,259,260,261,262,263,264,265,266,267,268,269,270,271,272,273,274,275,276,277,278,279,280,281,282,283,284,285,286,287,288,289,290,291,292,293,294,295,296,297,298,299,300,301,302,303,304,305,306,307,308,309,310,311,312,313,314,315,316,317,318,319,320,321,322,323,324,325,326,327,328,329,330,331,332,333,334,335,336,337,338,339,340,341,342,343,344,345,346,347,348,349,350,351,352,353,354,355,356,357,358,359,360,361,362,363,364,365,366,367,368,369,370,371,372,373,374,375,376,377,378,379,380,381,382,383,384,385,386,387,388,389,390,391,392,393,394,395,396,397,398,399,400,401,402,403,404,405,406,407,408,409,410,411,412,413,414,415,416,417,418,419,420,421,422,423,424,425,426,427,428,429,430,431,432,433,434,435,436,437,438,439,440,441,442,443,444,445,446,447,448,449,450,451,452,453,454,455,456,457,458,459,460,461,462,463,464,465,466,467,468,469,470,471,472,473,474,475,476,477,478,479,480,481,482,483,484,485,486,487,488,489,490,491,492,493,494,495,496,497,498,499],\"y\":[21.411296991184592,21.411296991184592,21.411296991184592,21.411296991184592,21.411296991184592,21.411287836737944,21.411271436714582,21.411271436714582,21.41125520117684,21.41125520117684,21.411247507868634,21.411247507868634,21.411247507868634,21.411247507868634,21.411247507868634,21.411247507868634,21.411247507868634,21.411247507868634,21.411247507868634,21.411247507868634,21.411247507868634,21.411247507868634,21.411247507868634,21.411247507868634,21.411247507868634,21.411247507868634,21.411247507868634,21.411247507868634,21.411247507868634,21.411247507868634,21.411247507868634,21.411247507868634,21.411247507868634,21.411247507868634,21.411247507868634,21.411247507868634,21.411247507868634,21.411247507868634,21.411247507868634,21.411247507868634,21.411247507868634,21.411247507868634,21.411247507868634,21.411247507868634,21.411247507868634,21.411247507868634,21.411247507868634,21.411247507868634,21.411247507868634,21.411247507868634,21.411247507868634,21.411247507868634,21.411247507868634,21.411247507868634,21.411247507868634,21.411247507868634,21.411247507868634,21.411247507868634,21.411247507868634,21.411247507868634,21.41124748318056,21.41124748318056,21.41124748318056,21.41124748318056,21.411247479086363,21.411247479086363,21.411247479086363,21.411247479086363,21.411247479086363,21.411247479086363,21.411247479086363,21.411247479086363,21.411247479086363,21.411247479086363,21.411247479086363,21.411247479086363,21.411247479086363,21.411247479086363,21.411247479086363,21.411247479086363,21.411247479086363,21.411247479086363,21.411247479086363,21.411247479086363,21.411247479086363,21.411247479086363,21.411247479086363,21.411247479086363,21.411247479086363,21.411247479086363,21.411247479086363,21.411247479086363,21.411247375062505,21.411247375062505,21.411247375062505,21.411247375062505,21.411247375062505,21.411247375062505,21.411247375062505,21.411247375062505,21.411247375062505,21.411247375062505,21.411247375062505,21.411247375062505,21.411247375062505,21.411247375062505,21.411247375062505,21.411247375062505,21.411247375062505,21.411247375062505,21.411247375062505,21.411247375062505,21.411247375062505,21.411247375062505,21.411247375062505,21.411247375062505,21.411247375062505,21.411247375062505,21.411247375062505,21.411247375062505,21.411247375062505,21.411247375062505,21.411247375062505,21.411247375062505,21.411247375062505,21.411247375062505,21.411247375062505,21.411247375062505,21.411247375062505,21.411247375062505,21.411247375062505,21.411247375062505,21.411247375062505,21.411247375062505,21.411247375062505,21.411247375062505,21.411247375062505,21.411247375062505,21.411247375062505,21.411247375062505,21.411247375062505,21.411247375062505,21.411247375062505,21.411247375062505,21.411247375062505,21.411247375062505,21.411247375062505,21.411247375062505,21.411247375062505,21.411247375062505,21.411247375062505,21.411247375062505,21.411247375062505,21.411247375062505,21.411247375062505,21.411247375062505,21.411247375062505,21.411247375062505,21.411247375062505,21.411247375062505,21.411247375062505,21.411247375062505,21.411247375062505,21.411247375062505,21.411247375062505,21.411247375062505,21.411247375062505,21.411247375062505,21.411247375062505,21.411247375062505,21.411247375062505,21.411247375062505,21.411247375062505,21.411247375062505,21.411247375062505,21.411247375062505,21.411247375062505,21.411247375062505,21.411247375062505,21.411247375062505,21.411247375062505,21.411247375062505,21.411247375062505,21.411247375062505,21.411247375062505,21.411247375062505,21.411247375062505,21.411247375062505,21.411247375062505,21.411247375062505,21.411247375062505,21.411247375062505,21.411247375062505,21.411247375062505,21.411247375062505,21.411247375062505,21.411247375062505,21.411247375062505,21.411247375062505,21.411247375062505,21.411247375062505,21.411247375062505,21.411247375062505,21.411247375062505,21.411247375062505,21.411247375062505,21.411247375062505,21.411247375062505,21.411247375062505,21.411247375062505,21.411247375062505,21.411247375062505,21.411247375062505,21.411247375062505,21.411247375062505,21.411247375062505,21.411247375062505,21.411247375062505,21.411247375062505,21.411247375062505,21.411247375062505,21.411247375062505,21.411247375062505,21.411247375062505,21.411247375062505,21.411247375062505,21.411247375062505,21.411247375062505,21.411247375062505,21.411247375062505,21.411247375062505,21.411247375062505,21.411247375062505,21.411247375062505,21.411247375062505,21.411247375062505,21.411247375062505,21.411247375062505,21.411247375062505,21.411247375062505,21.411247375062505,21.411247375062505,21.411247375062505,21.411247375062505,21.411247375062505,21.411247375062505,21.411247375062505,21.411247375062505,21.411247375062505,21.411247375062505,21.411247375062505,21.411247375062505,21.411247375062505,21.411247375062505,21.411247375062505,21.411247375062505,21.411247375062505,21.411247375062505,21.411247375062505,21.411247375062505,21.411247375062505,21.411247375062505,21.411247375062505,21.411247375062505,21.411247375062505,21.411247375062505,21.411247375062505,21.411247375062505,21.411247375062505,21.411247375062505,21.411247375062505,21.411247375062505,21.411247375062505,21.411247375062505,21.411247375062505,21.411247375062505,21.411247375062505,21.411247375062505,21.411247375062505,21.411247375062505,21.411247375062505,21.411247375062505,21.411247375062505,21.411247375062505,21.411247375062505,21.411247375062505,21.411247375062505,21.411247375062505,21.411247375062505,21.411247375062505,21.411247375062505,21.411247375062505,21.411247375062505,21.411247375062505,21.411247375062505,21.411247375062505,21.411247375062505,21.411247375062505,21.411247375062505,21.411247375062505,21.411247375062505,21.411247375062505,21.411247375062505,21.411247375062505,21.411247375062505,21.411247375062505,21.411247375062505,21.411247375062505,21.411247375062505,21.411247375062505,21.411247375062505,21.411247375062505,21.411247375062505,21.411247375062505,21.411247375062505,21.411247375062505,21.411247375062505,21.411247375062505,21.411247375062505,21.411247375062505,21.411247375062505,21.411247375062505,21.411247375062505,21.411247375062505,21.411247375062505,21.411247375062505,21.411247375062505,21.411247375062505,21.411247375062505,21.411247375062505,21.411247375062505,21.411247375062505,21.411247375062505,21.411247375062505,21.411247375062505,21.411247375062505,21.411247375062505,21.411247375062505,21.411247375062505,21.411247375062505,21.411247375062505,21.411247375062505,21.411247375062505,21.411247375062505,21.411247375062505,21.411247375062505,21.411247375062505,21.411247375062505,21.411247375062505,21.411247375062505,21.411247375062505,21.411247375062505,21.411247375062505,21.411247374419066,21.411247374419066,21.411247374419066,21.411247374419066,21.411247374419066,21.411247374419066,21.411247374419066,21.411247374419066,21.411247374419066,21.411247374419066,21.411247374419066,21.411247374419066,21.411247374419066,21.411247374419066,21.411247374419066,21.411247374419066,21.411247374419066,21.411247374419066,21.411247374419066,21.411247374419066,21.411247374419066,21.411247374419066,21.411247374419066,21.411247374419066,21.411247374419066,21.411247374419066,21.411247374419066,21.411247374419066,21.411247374419066,21.411247374419066,21.411247374419066,21.411247374419066,21.411247374419066,21.411247374419066,21.411247374419066,21.411247374419066,21.411247374419066,21.411247374419066,21.411247374419066,21.411247374419066,21.411247374419066,21.411247374419066,21.411247374419066,21.411247374419066,21.411247374419066,21.411247374419066,21.411247374419066,21.411247374419066,21.411247374419066,21.411247374419066,21.411247374419066,21.411247374419066,21.411247374419066,21.411247374419066,21.411247374419066,21.411247374419066,21.411247374419066,21.411247374419066,21.411247374419066,21.411247374419066,21.411247374419066,21.411247374419066,21.411247374419066,21.411247374419066,21.411247374419066,21.411247374419066,21.411247374419066,21.411247374419066,21.411247374419066,21.411247374419066,21.411247374419066,21.411247374419066,21.411247374419066,21.411247374419066,21.411247374419066,21.411247374419066,21.411247374419066,21.411247374419066,21.411247374419066,21.411247374419066,21.411247374419066,21.411247374419066,21.411247374419066,21.411247374419066,21.411247374419066,21.411247374419066,21.411247374419066,21.411247374419066,21.411247374419066,21.411247374419066,21.411247374419066,21.411247374419066,21.411247374419066,21.411247374419066,21.411247374419066,21.411247374419066,21.411247374419066,21.411247374419066,21.411247374419066,21.411247374419066,21.411247374419066,21.411247374419066,21.411247374419066,21.411247374419066,21.411247374419066,21.411247374419066,21.411247374419066,21.411247374419066,21.411247374419066,21.411247374419066,21.411247374419066,21.411247374419066,21.411247374419066,21.411247374419066,21.411247374419066,21.411247374419066,21.411247374419066,21.411247374419066,21.411247374419066,21.411247374419066,21.411247374419066,21.411247374419066,21.411247374419066,21.411247374419066,21.411247374419066,21.411247374419066,21.411247374419066,21.411247374419066,21.411247374419066,21.411247374419066,21.411247374419066,21.411247374419066,21.411247374419066,21.411247374419066,21.411247374419066,21.411247374419066,21.411247374419066,21.411247374419066,21.411247374419066,21.411247374419066,21.411247374419066,21.411247374419066,21.411247374419066,21.411247374419066,21.411247374419066,21.411247374419066,21.411247374419066],\"type\":\"scatter\"},{\"marker\":{\"color\":\"#cccccc\"},\"mode\":\"markers\",\"name\":\"Infeasible Trial\",\"showlegend\":false,\"x\":[],\"y\":[],\"type\":\"scatter\"}],                        {\"title\":{\"text\":\"Optimization History Plot\"},\"xaxis\":{\"title\":{\"text\":\"Trial\"}},\"yaxis\":{\"title\":{\"text\":\"Objective Value\"}},\"template\":{\"data\":{\"histogram2dcontour\":[{\"type\":\"histogram2dcontour\",\"colorbar\":{\"outlinewidth\":0,\"ticks\":\"\"},\"colorscale\":[[0.0,\"#0d0887\"],[0.1111111111111111,\"#46039f\"],[0.2222222222222222,\"#7201a8\"],[0.3333333333333333,\"#9c179e\"],[0.4444444444444444,\"#bd3786\"],[0.5555555555555556,\"#d8576b\"],[0.6666666666666666,\"#ed7953\"],[0.7777777777777778,\"#fb9f3a\"],[0.8888888888888888,\"#fdca26\"],[1.0,\"#f0f921\"]]}],\"choropleth\":[{\"type\":\"choropleth\",\"colorbar\":{\"outlinewidth\":0,\"ticks\":\"\"}}],\"histogram2d\":[{\"type\":\"histogram2d\",\"colorbar\":{\"outlinewidth\":0,\"ticks\":\"\"},\"colorscale\":[[0.0,\"#0d0887\"],[0.1111111111111111,\"#46039f\"],[0.2222222222222222,\"#7201a8\"],[0.3333333333333333,\"#9c179e\"],[0.4444444444444444,\"#bd3786\"],[0.5555555555555556,\"#d8576b\"],[0.6666666666666666,\"#ed7953\"],[0.7777777777777778,\"#fb9f3a\"],[0.8888888888888888,\"#fdca26\"],[1.0,\"#f0f921\"]]}],\"heatmap\":[{\"type\":\"heatmap\",\"colorbar\":{\"outlinewidth\":0,\"ticks\":\"\"},\"colorscale\":[[0.0,\"#0d0887\"],[0.1111111111111111,\"#46039f\"],[0.2222222222222222,\"#7201a8\"],[0.3333333333333333,\"#9c179e\"],[0.4444444444444444,\"#bd3786\"],[0.5555555555555556,\"#d8576b\"],[0.6666666666666666,\"#ed7953\"],[0.7777777777777778,\"#fb9f3a\"],[0.8888888888888888,\"#fdca26\"],[1.0,\"#f0f921\"]]}],\"heatmapgl\":[{\"type\":\"heatmapgl\",\"colorbar\":{\"outlinewidth\":0,\"ticks\":\"\"},\"colorscale\":[[0.0,\"#0d0887\"],[0.1111111111111111,\"#46039f\"],[0.2222222222222222,\"#7201a8\"],[0.3333333333333333,\"#9c179e\"],[0.4444444444444444,\"#bd3786\"],[0.5555555555555556,\"#d8576b\"],[0.6666666666666666,\"#ed7953\"],[0.7777777777777778,\"#fb9f3a\"],[0.8888888888888888,\"#fdca26\"],[1.0,\"#f0f921\"]]}],\"contourcarpet\":[{\"type\":\"contourcarpet\",\"colorbar\":{\"outlinewidth\":0,\"ticks\":\"\"}}],\"contour\":[{\"type\":\"contour\",\"colorbar\":{\"outlinewidth\":0,\"ticks\":\"\"},\"colorscale\":[[0.0,\"#0d0887\"],[0.1111111111111111,\"#46039f\"],[0.2222222222222222,\"#7201a8\"],[0.3333333333333333,\"#9c179e\"],[0.4444444444444444,\"#bd3786\"],[0.5555555555555556,\"#d8576b\"],[0.6666666666666666,\"#ed7953\"],[0.7777777777777778,\"#fb9f3a\"],[0.8888888888888888,\"#fdca26\"],[1.0,\"#f0f921\"]]}],\"surface\":[{\"type\":\"surface\",\"colorbar\":{\"outlinewidth\":0,\"ticks\":\"\"},\"colorscale\":[[0.0,\"#0d0887\"],[0.1111111111111111,\"#46039f\"],[0.2222222222222222,\"#7201a8\"],[0.3333333333333333,\"#9c179e\"],[0.4444444444444444,\"#bd3786\"],[0.5555555555555556,\"#d8576b\"],[0.6666666666666666,\"#ed7953\"],[0.7777777777777778,\"#fb9f3a\"],[0.8888888888888888,\"#fdca26\"],[1.0,\"#f0f921\"]]}],\"mesh3d\":[{\"type\":\"mesh3d\",\"colorbar\":{\"outlinewidth\":0,\"ticks\":\"\"}}],\"scatter\":[{\"fillpattern\":{\"fillmode\":\"overlay\",\"size\":10,\"solidity\":0.2},\"type\":\"scatter\"}],\"parcoords\":[{\"type\":\"parcoords\",\"line\":{\"colorbar\":{\"outlinewidth\":0,\"ticks\":\"\"}}}],\"scatterpolargl\":[{\"type\":\"scatterpolargl\",\"marker\":{\"colorbar\":{\"outlinewidth\":0,\"ticks\":\"\"}}}],\"bar\":[{\"error_x\":{\"color\":\"#2a3f5f\"},\"error_y\":{\"color\":\"#2a3f5f\"},\"marker\":{\"line\":{\"color\":\"#E5ECF6\",\"width\":0.5},\"pattern\":{\"fillmode\":\"overlay\",\"size\":10,\"solidity\":0.2}},\"type\":\"bar\"}],\"scattergeo\":[{\"type\":\"scattergeo\",\"marker\":{\"colorbar\":{\"outlinewidth\":0,\"ticks\":\"\"}}}],\"scatterpolar\":[{\"type\":\"scatterpolar\",\"marker\":{\"colorbar\":{\"outlinewidth\":0,\"ticks\":\"\"}}}],\"histogram\":[{\"marker\":{\"pattern\":{\"fillmode\":\"overlay\",\"size\":10,\"solidity\":0.2}},\"type\":\"histogram\"}],\"scattergl\":[{\"type\":\"scattergl\",\"marker\":{\"colorbar\":{\"outlinewidth\":0,\"ticks\":\"\"}}}],\"scatter3d\":[{\"type\":\"scatter3d\",\"line\":{\"colorbar\":{\"outlinewidth\":0,\"ticks\":\"\"}},\"marker\":{\"colorbar\":{\"outlinewidth\":0,\"ticks\":\"\"}}}],\"scattermapbox\":[{\"type\":\"scattermapbox\",\"marker\":{\"colorbar\":{\"outlinewidth\":0,\"ticks\":\"\"}}}],\"scatterternary\":[{\"type\":\"scatterternary\",\"marker\":{\"colorbar\":{\"outlinewidth\":0,\"ticks\":\"\"}}}],\"scattercarpet\":[{\"type\":\"scattercarpet\",\"marker\":{\"colorbar\":{\"outlinewidth\":0,\"ticks\":\"\"}}}],\"carpet\":[{\"aaxis\":{\"endlinecolor\":\"#2a3f5f\",\"gridcolor\":\"white\",\"linecolor\":\"white\",\"minorgridcolor\":\"white\",\"startlinecolor\":\"#2a3f5f\"},\"baxis\":{\"endlinecolor\":\"#2a3f5f\",\"gridcolor\":\"white\",\"linecolor\":\"white\",\"minorgridcolor\":\"white\",\"startlinecolor\":\"#2a3f5f\"},\"type\":\"carpet\"}],\"table\":[{\"cells\":{\"fill\":{\"color\":\"#EBF0F8\"},\"line\":{\"color\":\"white\"}},\"header\":{\"fill\":{\"color\":\"#C8D4E3\"},\"line\":{\"color\":\"white\"}},\"type\":\"table\"}],\"barpolar\":[{\"marker\":{\"line\":{\"color\":\"#E5ECF6\",\"width\":0.5},\"pattern\":{\"fillmode\":\"overlay\",\"size\":10,\"solidity\":0.2}},\"type\":\"barpolar\"}],\"pie\":[{\"automargin\":true,\"type\":\"pie\"}]},\"layout\":{\"autotypenumbers\":\"strict\",\"colorway\":[\"#636efa\",\"#EF553B\",\"#00cc96\",\"#ab63fa\",\"#FFA15A\",\"#19d3f3\",\"#FF6692\",\"#B6E880\",\"#FF97FF\",\"#FECB52\"],\"font\":{\"color\":\"#2a3f5f\"},\"hovermode\":\"closest\",\"hoverlabel\":{\"align\":\"left\"},\"paper_bgcolor\":\"white\",\"plot_bgcolor\":\"#E5ECF6\",\"polar\":{\"bgcolor\":\"#E5ECF6\",\"angularaxis\":{\"gridcolor\":\"white\",\"linecolor\":\"white\",\"ticks\":\"\"},\"radialaxis\":{\"gridcolor\":\"white\",\"linecolor\":\"white\",\"ticks\":\"\"}},\"ternary\":{\"bgcolor\":\"#E5ECF6\",\"aaxis\":{\"gridcolor\":\"white\",\"linecolor\":\"white\",\"ticks\":\"\"},\"baxis\":{\"gridcolor\":\"white\",\"linecolor\":\"white\",\"ticks\":\"\"},\"caxis\":{\"gridcolor\":\"white\",\"linecolor\":\"white\",\"ticks\":\"\"}},\"coloraxis\":{\"colorbar\":{\"outlinewidth\":0,\"ticks\":\"\"}},\"colorscale\":{\"sequential\":[[0.0,\"#0d0887\"],[0.1111111111111111,\"#46039f\"],[0.2222222222222222,\"#7201a8\"],[0.3333333333333333,\"#9c179e\"],[0.4444444444444444,\"#bd3786\"],[0.5555555555555556,\"#d8576b\"],[0.6666666666666666,\"#ed7953\"],[0.7777777777777778,\"#fb9f3a\"],[0.8888888888888888,\"#fdca26\"],[1.0,\"#f0f921\"]],\"sequentialminus\":[[0.0,\"#0d0887\"],[0.1111111111111111,\"#46039f\"],[0.2222222222222222,\"#7201a8\"],[0.3333333333333333,\"#9c179e\"],[0.4444444444444444,\"#bd3786\"],[0.5555555555555556,\"#d8576b\"],[0.6666666666666666,\"#ed7953\"],[0.7777777777777778,\"#fb9f3a\"],[0.8888888888888888,\"#fdca26\"],[1.0,\"#f0f921\"]],\"diverging\":[[0,\"#8e0152\"],[0.1,\"#c51b7d\"],[0.2,\"#de77ae\"],[0.3,\"#f1b6da\"],[0.4,\"#fde0ef\"],[0.5,\"#f7f7f7\"],[0.6,\"#e6f5d0\"],[0.7,\"#b8e186\"],[0.8,\"#7fbc41\"],[0.9,\"#4d9221\"],[1,\"#276419\"]]},\"xaxis\":{\"gridcolor\":\"white\",\"linecolor\":\"white\",\"ticks\":\"\",\"title\":{\"standoff\":15},\"zerolinecolor\":\"white\",\"automargin\":true,\"zerolinewidth\":2},\"yaxis\":{\"gridcolor\":\"white\",\"linecolor\":\"white\",\"ticks\":\"\",\"title\":{\"standoff\":15},\"zerolinecolor\":\"white\",\"automargin\":true,\"zerolinewidth\":2},\"scene\":{\"xaxis\":{\"backgroundcolor\":\"#E5ECF6\",\"gridcolor\":\"white\",\"linecolor\":\"white\",\"showbackground\":true,\"ticks\":\"\",\"zerolinecolor\":\"white\",\"gridwidth\":2},\"yaxis\":{\"backgroundcolor\":\"#E5ECF6\",\"gridcolor\":\"white\",\"linecolor\":\"white\",\"showbackground\":true,\"ticks\":\"\",\"zerolinecolor\":\"white\",\"gridwidth\":2},\"zaxis\":{\"backgroundcolor\":\"#E5ECF6\",\"gridcolor\":\"white\",\"linecolor\":\"white\",\"showbackground\":true,\"ticks\":\"\",\"zerolinecolor\":\"white\",\"gridwidth\":2}},\"shapedefaults\":{\"line\":{\"color\":\"#2a3f5f\"}},\"annotationdefaults\":{\"arrowcolor\":\"#2a3f5f\",\"arrowhead\":0,\"arrowwidth\":1},\"geo\":{\"bgcolor\":\"white\",\"landcolor\":\"#E5ECF6\",\"subunitcolor\":\"white\",\"showland\":true,\"showlakes\":true,\"lakecolor\":\"white\"},\"title\":{\"x\":0.05},\"mapbox\":{\"style\":\"light\"}}}},                        {\"responsive\": true}                    )                };                            </script>        </div>"
      ],
      "text/plain": [
       "Figure({\n",
       "    'data': [{'mode': 'markers',\n",
       "              'name': 'Objective Value',\n",
       "              'type': 'scatter',\n",
       "              'x': [0, 1, 2, ..., 497, 498, 499],\n",
       "              'y': [21.411296991184592, 21.41131302412556, 21.411309099719315,\n",
       "                    ..., 21.411278144108532, 21.411248928709277,\n",
       "                    21.411248501085357]},\n",
       "             {'mode': 'lines',\n",
       "              'name': 'Best Value',\n",
       "              'type': 'scatter',\n",
       "              'x': [0, 1, 2, ..., 497, 498, 499],\n",
       "              'y': [21.411296991184592, 21.411296991184592, 21.411296991184592,\n",
       "                    ..., 21.411247374419066, 21.411247374419066,\n",
       "                    21.411247374419066]},\n",
       "             {'marker': {'color': '#cccccc'},\n",
       "              'mode': 'markers',\n",
       "              'name': 'Infeasible Trial',\n",
       "              'showlegend': False,\n",
       "              'type': 'scatter',\n",
       "              'x': [],\n",
       "              'y': []}],\n",
       "    'layout': {'template': '...',\n",
       "               'title': {'text': 'Optimization History Plot'},\n",
       "               'xaxis': {'title': {'text': 'Trial'}},\n",
       "               'yaxis': {'title': {'text': 'Objective Value'}}}\n",
       "})"
      ]
     },
     "execution_count": 30,
     "metadata": {},
     "output_type": "execute_result"
    }
   ],
   "source": [
    "optuna.visualization.plot_optimization_history(study)"
   ]
  },
  {
   "cell_type": "code",
   "execution_count": 31,
   "metadata": {},
   "outputs": [
    {
     "data": {
      "text/plain": [
       "{'alpha': 4.999937147342942, 'max_iter': 950}"
      ]
     },
     "execution_count": 31,
     "metadata": {},
     "output_type": "execute_result"
    }
   ],
   "source": [
    "ridge_best_params = study.best_params\n",
    "ridge_best_params"
   ]
  },
  {
   "cell_type": "markdown",
   "metadata": {},
   "source": [
    "## Elastic Net"
   ]
  },
  {
   "cell_type": "code",
   "execution_count": 36,
   "metadata": {},
   "outputs": [],
   "source": [
    "def elasticnet_fine_tuning(trial):\n",
    "    #degree = trial.suggest_int('degree', 2,4)\n",
    "    alpha = trial.suggest_float('alpha', 0.1,5.0)\n",
    "    l1_ratio = trial.suggest_int('l1_ratio', 0,1)\n",
    "    max_iter = trial.suggest_int('max_iter', 500,3000)\n",
    "\n",
    "    model_elasticnet = ElasticNet(alpha=alpha, l1_ratio=l1_ratio, max_iter=max_iter)\n",
    "    model_elasticnet.fit(X_train, y_train)\n",
    "\n",
    "    y_pred = model_elasticnet.predict(X_val)\n",
    "\n",
    "    return calculate_metrics(y_val, y_pred, 'Lasso')['RMSE']\n"
   ]
  },
  {
   "cell_type": "code",
   "execution_count": 38,
   "metadata": {},
   "outputs": [
    {
     "name": "stderr",
     "output_type": "stream",
     "text": [
      "[I 2023-09-15 16:34:41,018] A new study created in memory with name: no-name-73c9a7b3-936b-436d-90a0-ff6ae7d5620e\n",
      "[I 2023-09-15 16:34:41,042] Trial 0 finished with value: 21.78830570776083 and parameters: {'alpha': 1.3780331480595023, 'l1_ratio': 1, 'max_iter': 1630}. Best is trial 0 with value: 21.78830570776083.\n",
      "[I 2023-09-15 16:34:41,060] Trial 1 finished with value: 21.85204694359998 and parameters: {'alpha': 4.236388501836851, 'l1_ratio': 1, 'max_iter': 931}. Best is trial 0 with value: 21.78830570776083.\n",
      "c:\\Users\\thale\\Documents\\Estudos\\Disciplinas\\Introdução a ML\\Projeto Aluno\\ensaios-algoritmos-ml\\env\\Lib\\site-packages\\sklearn\\linear_model\\_coordinate_descent.py:628: ConvergenceWarning:\n",
      "\n",
      "Objective did not converge. You might want to increase the number of iterations, check the scale of the features or consider increasing regularisation. Duality gap: 2.510e+06, tolerance: 5.042e+02 Linear regression models with null weight for the l1 regularization term are more efficiently fitted using one of the solvers implemented in sklearn.linear_model.Ridge/RidgeCV instead.\n",
      "\n",
      "[I 2023-09-15 16:34:45,115] Trial 2 finished with value: 21.769345310453748 and parameters: {'alpha': 1.945553658408037, 'l1_ratio': 0, 'max_iter': 2348}. Best is trial 2 with value: 21.769345310453748.\n",
      "[I 2023-09-15 16:34:45,132] Trial 3 finished with value: 21.85204694359998 and parameters: {'alpha': 4.258065575898545, 'l1_ratio': 1, 'max_iter': 1605}. Best is trial 2 with value: 21.769345310453748.\n",
      "[I 2023-09-15 16:34:45,144] Trial 4 finished with value: 21.837447538497173 and parameters: {'alpha': 1.9813074438738936, 'l1_ratio': 1, 'max_iter': 1706}. Best is trial 2 with value: 21.769345310453748.\n",
      "[I 2023-09-15 16:34:45,155] Trial 5 finished with value: 21.85204694359998 and parameters: {'alpha': 2.7045636526872863, 'l1_ratio': 1, 'max_iter': 1494}. Best is trial 2 with value: 21.769345310453748.\n",
      "[I 2023-09-15 16:34:45,171] Trial 6 finished with value: 21.807268649134905 and parameters: {'alpha': 1.634980777910573, 'l1_ratio': 1, 'max_iter': 2360}. Best is trial 2 with value: 21.769345310453748.\n",
      "c:\\Users\\thale\\Documents\\Estudos\\Disciplinas\\Introdução a ML\\Projeto Aluno\\ensaios-algoritmos-ml\\env\\Lib\\site-packages\\sklearn\\linear_model\\_coordinate_descent.py:628: ConvergenceWarning:\n",
      "\n",
      "Objective did not converge. You might want to increase the number of iterations, check the scale of the features or consider increasing regularisation. Duality gap: 2.492e+06, tolerance: 5.042e+02 Linear regression models with null weight for the l1 regularization term are more efficiently fitted using one of the solvers implemented in sklearn.linear_model.Ridge/RidgeCV instead.\n",
      "\n",
      "[I 2023-09-15 16:34:46,485] Trial 7 finished with value: 21.675171284740955 and parameters: {'alpha': 0.3593687873455498, 'l1_ratio': 0, 'max_iter': 675}. Best is trial 7 with value: 21.675171284740955.\n",
      "[I 2023-09-15 16:34:46,526] Trial 8 finished with value: 21.45208402914158 and parameters: {'alpha': 0.11463029885210174, 'l1_ratio': 1, 'max_iter': 2885}. Best is trial 8 with value: 21.45208402914158.\n",
      "[I 2023-09-15 16:34:46,537] Trial 9 finished with value: 21.845811267817666 and parameters: {'alpha': 2.0678126928024683, 'l1_ratio': 1, 'max_iter': 1094}. Best is trial 8 with value: 21.45208402914158.\n"
     ]
    }
   ],
   "source": [
    "study = optuna.create_study(direction='minimize')\n",
    "study.optimize(elasticnet_fine_tuning, n_trials=10)"
   ]
  },
  {
   "cell_type": "code",
   "execution_count": 39,
   "metadata": {},
   "outputs": [
    {
     "ename": "ValueError",
     "evalue": "Mime type rendering requires nbformat>=4.2.0 but it is not installed",
     "output_type": "error",
     "traceback": [
      "\u001b[1;31m---------------------------------------------------------------------------\u001b[0m",
      "\u001b[1;31mValueError\u001b[0m                                Traceback (most recent call last)",
      "File \u001b[1;32mc:\\Users\\thale\\Documents\\Estudos\\Disciplinas\\Introdução a ML\\Projeto Aluno\\ensaios-algoritmos-ml\\env\\Lib\\site-packages\\IPython\\core\\formatters.py:922\u001b[0m, in \u001b[0;36mIPythonDisplayFormatter.__call__\u001b[1;34m(self, obj)\u001b[0m\n\u001b[0;32m    920\u001b[0m method \u001b[39m=\u001b[39m get_real_method(obj, \u001b[39mself\u001b[39m\u001b[39m.\u001b[39mprint_method)\n\u001b[0;32m    921\u001b[0m \u001b[39mif\u001b[39;00m method \u001b[39mis\u001b[39;00m \u001b[39mnot\u001b[39;00m \u001b[39mNone\u001b[39;00m:\n\u001b[1;32m--> 922\u001b[0m     method()\n\u001b[0;32m    923\u001b[0m     \u001b[39mreturn\u001b[39;00m \u001b[39mTrue\u001b[39;00m\n",
      "File \u001b[1;32mc:\\Users\\thale\\Documents\\Estudos\\Disciplinas\\Introdução a ML\\Projeto Aluno\\ensaios-algoritmos-ml\\env\\Lib\\site-packages\\plotly\\basedatatypes.py:834\u001b[0m, in \u001b[0;36mBaseFigure._ipython_display_\u001b[1;34m(self)\u001b[0m\n\u001b[0;32m    831\u001b[0m \u001b[39mimport\u001b[39;00m \u001b[39mplotly\u001b[39;00m\u001b[39m.\u001b[39;00m\u001b[39mio\u001b[39;00m \u001b[39mas\u001b[39;00m \u001b[39mpio\u001b[39;00m\n\u001b[0;32m    833\u001b[0m \u001b[39mif\u001b[39;00m pio\u001b[39m.\u001b[39mrenderers\u001b[39m.\u001b[39mrender_on_display \u001b[39mand\u001b[39;00m pio\u001b[39m.\u001b[39mrenderers\u001b[39m.\u001b[39mdefault:\n\u001b[1;32m--> 834\u001b[0m     pio\u001b[39m.\u001b[39;49mshow(\u001b[39mself\u001b[39;49m)\n\u001b[0;32m    835\u001b[0m \u001b[39melse\u001b[39;00m:\n\u001b[0;32m    836\u001b[0m     \u001b[39mprint\u001b[39m(\u001b[39mrepr\u001b[39m(\u001b[39mself\u001b[39m))\n",
      "File \u001b[1;32mc:\\Users\\thale\\Documents\\Estudos\\Disciplinas\\Introdução a ML\\Projeto Aluno\\ensaios-algoritmos-ml\\env\\Lib\\site-packages\\plotly\\io\\_renderers.py:396\u001b[0m, in \u001b[0;36mshow\u001b[1;34m(fig, renderer, validate, **kwargs)\u001b[0m\n\u001b[0;32m    391\u001b[0m         \u001b[39mraise\u001b[39;00m \u001b[39mValueError\u001b[39;00m(\n\u001b[0;32m    392\u001b[0m             \u001b[39m\"\u001b[39m\u001b[39mMime type rendering requires ipython but it is not installed\u001b[39m\u001b[39m\"\u001b[39m\n\u001b[0;32m    393\u001b[0m         )\n\u001b[0;32m    395\u001b[0m     \u001b[39mif\u001b[39;00m \u001b[39mnot\u001b[39;00m nbformat \u001b[39mor\u001b[39;00m Version(nbformat\u001b[39m.\u001b[39m__version__) \u001b[39m<\u001b[39m Version(\u001b[39m\"\u001b[39m\u001b[39m4.2.0\u001b[39m\u001b[39m\"\u001b[39m):\n\u001b[1;32m--> 396\u001b[0m         \u001b[39mraise\u001b[39;00m \u001b[39mValueError\u001b[39;00m(\n\u001b[0;32m    397\u001b[0m             \u001b[39m\"\u001b[39m\u001b[39mMime type rendering requires nbformat>=4.2.0 but it is not installed\u001b[39m\u001b[39m\"\u001b[39m\n\u001b[0;32m    398\u001b[0m         )\n\u001b[0;32m    400\u001b[0m     ipython_display\u001b[39m.\u001b[39mdisplay(bundle, raw\u001b[39m=\u001b[39m\u001b[39mTrue\u001b[39;00m)\n\u001b[0;32m    402\u001b[0m \u001b[39m# external renderers\u001b[39;00m\n",
      "\u001b[1;31mValueError\u001b[0m: Mime type rendering requires nbformat>=4.2.0 but it is not installed"
     ]
    },
    {
     "data": {
      "application/vnd.plotly.v1+json": {
       "config": {
        "plotlyServerURL": "https://plot.ly"
       },
       "data": [
        {
         "mode": "markers",
         "name": "Objective Value",
         "type": "scatter",
         "x": [
          0,
          1,
          2,
          3,
          4,
          5,
          6,
          7,
          8,
          9
         ],
         "y": [
          21.78830570776083,
          21.85204694359998,
          21.769345310453748,
          21.85204694359998,
          21.837447538497173,
          21.85204694359998,
          21.807268649134905,
          21.675171284740955,
          21.45208402914158,
          21.845811267817666
         ]
        },
        {
         "mode": "lines",
         "name": "Best Value",
         "type": "scatter",
         "x": [
          0,
          1,
          2,
          3,
          4,
          5,
          6,
          7,
          8,
          9
         ],
         "y": [
          21.78830570776083,
          21.78830570776083,
          21.769345310453748,
          21.769345310453748,
          21.769345310453748,
          21.769345310453748,
          21.769345310453748,
          21.675171284740955,
          21.45208402914158,
          21.45208402914158
         ]
        },
        {
         "marker": {
          "color": "#cccccc"
         },
         "mode": "markers",
         "name": "Infeasible Trial",
         "showlegend": false,
         "type": "scatter",
         "x": [],
         "y": []
        }
       ],
       "layout": {
        "template": {
         "data": {
          "bar": [
           {
            "error_x": {
             "color": "#2a3f5f"
            },
            "error_y": {
             "color": "#2a3f5f"
            },
            "marker": {
             "line": {
              "color": "#E5ECF6",
              "width": 0.5
             },
             "pattern": {
              "fillmode": "overlay",
              "size": 10,
              "solidity": 0.2
             }
            },
            "type": "bar"
           }
          ],
          "barpolar": [
           {
            "marker": {
             "line": {
              "color": "#E5ECF6",
              "width": 0.5
             },
             "pattern": {
              "fillmode": "overlay",
              "size": 10,
              "solidity": 0.2
             }
            },
            "type": "barpolar"
           }
          ],
          "carpet": [
           {
            "aaxis": {
             "endlinecolor": "#2a3f5f",
             "gridcolor": "white",
             "linecolor": "white",
             "minorgridcolor": "white",
             "startlinecolor": "#2a3f5f"
            },
            "baxis": {
             "endlinecolor": "#2a3f5f",
             "gridcolor": "white",
             "linecolor": "white",
             "minorgridcolor": "white",
             "startlinecolor": "#2a3f5f"
            },
            "type": "carpet"
           }
          ],
          "choropleth": [
           {
            "colorbar": {
             "outlinewidth": 0,
             "ticks": ""
            },
            "type": "choropleth"
           }
          ],
          "contour": [
           {
            "colorbar": {
             "outlinewidth": 0,
             "ticks": ""
            },
            "colorscale": [
             [
              0,
              "#0d0887"
             ],
             [
              0.1111111111111111,
              "#46039f"
             ],
             [
              0.2222222222222222,
              "#7201a8"
             ],
             [
              0.3333333333333333,
              "#9c179e"
             ],
             [
              0.4444444444444444,
              "#bd3786"
             ],
             [
              0.5555555555555556,
              "#d8576b"
             ],
             [
              0.6666666666666666,
              "#ed7953"
             ],
             [
              0.7777777777777778,
              "#fb9f3a"
             ],
             [
              0.8888888888888888,
              "#fdca26"
             ],
             [
              1,
              "#f0f921"
             ]
            ],
            "type": "contour"
           }
          ],
          "contourcarpet": [
           {
            "colorbar": {
             "outlinewidth": 0,
             "ticks": ""
            },
            "type": "contourcarpet"
           }
          ],
          "heatmap": [
           {
            "colorbar": {
             "outlinewidth": 0,
             "ticks": ""
            },
            "colorscale": [
             [
              0,
              "#0d0887"
             ],
             [
              0.1111111111111111,
              "#46039f"
             ],
             [
              0.2222222222222222,
              "#7201a8"
             ],
             [
              0.3333333333333333,
              "#9c179e"
             ],
             [
              0.4444444444444444,
              "#bd3786"
             ],
             [
              0.5555555555555556,
              "#d8576b"
             ],
             [
              0.6666666666666666,
              "#ed7953"
             ],
             [
              0.7777777777777778,
              "#fb9f3a"
             ],
             [
              0.8888888888888888,
              "#fdca26"
             ],
             [
              1,
              "#f0f921"
             ]
            ],
            "type": "heatmap"
           }
          ],
          "heatmapgl": [
           {
            "colorbar": {
             "outlinewidth": 0,
             "ticks": ""
            },
            "colorscale": [
             [
              0,
              "#0d0887"
             ],
             [
              0.1111111111111111,
              "#46039f"
             ],
             [
              0.2222222222222222,
              "#7201a8"
             ],
             [
              0.3333333333333333,
              "#9c179e"
             ],
             [
              0.4444444444444444,
              "#bd3786"
             ],
             [
              0.5555555555555556,
              "#d8576b"
             ],
             [
              0.6666666666666666,
              "#ed7953"
             ],
             [
              0.7777777777777778,
              "#fb9f3a"
             ],
             [
              0.8888888888888888,
              "#fdca26"
             ],
             [
              1,
              "#f0f921"
             ]
            ],
            "type": "heatmapgl"
           }
          ],
          "histogram": [
           {
            "marker": {
             "pattern": {
              "fillmode": "overlay",
              "size": 10,
              "solidity": 0.2
             }
            },
            "type": "histogram"
           }
          ],
          "histogram2d": [
           {
            "colorbar": {
             "outlinewidth": 0,
             "ticks": ""
            },
            "colorscale": [
             [
              0,
              "#0d0887"
             ],
             [
              0.1111111111111111,
              "#46039f"
             ],
             [
              0.2222222222222222,
              "#7201a8"
             ],
             [
              0.3333333333333333,
              "#9c179e"
             ],
             [
              0.4444444444444444,
              "#bd3786"
             ],
             [
              0.5555555555555556,
              "#d8576b"
             ],
             [
              0.6666666666666666,
              "#ed7953"
             ],
             [
              0.7777777777777778,
              "#fb9f3a"
             ],
             [
              0.8888888888888888,
              "#fdca26"
             ],
             [
              1,
              "#f0f921"
             ]
            ],
            "type": "histogram2d"
           }
          ],
          "histogram2dcontour": [
           {
            "colorbar": {
             "outlinewidth": 0,
             "ticks": ""
            },
            "colorscale": [
             [
              0,
              "#0d0887"
             ],
             [
              0.1111111111111111,
              "#46039f"
             ],
             [
              0.2222222222222222,
              "#7201a8"
             ],
             [
              0.3333333333333333,
              "#9c179e"
             ],
             [
              0.4444444444444444,
              "#bd3786"
             ],
             [
              0.5555555555555556,
              "#d8576b"
             ],
             [
              0.6666666666666666,
              "#ed7953"
             ],
             [
              0.7777777777777778,
              "#fb9f3a"
             ],
             [
              0.8888888888888888,
              "#fdca26"
             ],
             [
              1,
              "#f0f921"
             ]
            ],
            "type": "histogram2dcontour"
           }
          ],
          "mesh3d": [
           {
            "colorbar": {
             "outlinewidth": 0,
             "ticks": ""
            },
            "type": "mesh3d"
           }
          ],
          "parcoords": [
           {
            "line": {
             "colorbar": {
              "outlinewidth": 0,
              "ticks": ""
             }
            },
            "type": "parcoords"
           }
          ],
          "pie": [
           {
            "automargin": true,
            "type": "pie"
           }
          ],
          "scatter": [
           {
            "fillpattern": {
             "fillmode": "overlay",
             "size": 10,
             "solidity": 0.2
            },
            "type": "scatter"
           }
          ],
          "scatter3d": [
           {
            "line": {
             "colorbar": {
              "outlinewidth": 0,
              "ticks": ""
             }
            },
            "marker": {
             "colorbar": {
              "outlinewidth": 0,
              "ticks": ""
             }
            },
            "type": "scatter3d"
           }
          ],
          "scattercarpet": [
           {
            "marker": {
             "colorbar": {
              "outlinewidth": 0,
              "ticks": ""
             }
            },
            "type": "scattercarpet"
           }
          ],
          "scattergeo": [
           {
            "marker": {
             "colorbar": {
              "outlinewidth": 0,
              "ticks": ""
             }
            },
            "type": "scattergeo"
           }
          ],
          "scattergl": [
           {
            "marker": {
             "colorbar": {
              "outlinewidth": 0,
              "ticks": ""
             }
            },
            "type": "scattergl"
           }
          ],
          "scattermapbox": [
           {
            "marker": {
             "colorbar": {
              "outlinewidth": 0,
              "ticks": ""
             }
            },
            "type": "scattermapbox"
           }
          ],
          "scatterpolar": [
           {
            "marker": {
             "colorbar": {
              "outlinewidth": 0,
              "ticks": ""
             }
            },
            "type": "scatterpolar"
           }
          ],
          "scatterpolargl": [
           {
            "marker": {
             "colorbar": {
              "outlinewidth": 0,
              "ticks": ""
             }
            },
            "type": "scatterpolargl"
           }
          ],
          "scatterternary": [
           {
            "marker": {
             "colorbar": {
              "outlinewidth": 0,
              "ticks": ""
             }
            },
            "type": "scatterternary"
           }
          ],
          "surface": [
           {
            "colorbar": {
             "outlinewidth": 0,
             "ticks": ""
            },
            "colorscale": [
             [
              0,
              "#0d0887"
             ],
             [
              0.1111111111111111,
              "#46039f"
             ],
             [
              0.2222222222222222,
              "#7201a8"
             ],
             [
              0.3333333333333333,
              "#9c179e"
             ],
             [
              0.4444444444444444,
              "#bd3786"
             ],
             [
              0.5555555555555556,
              "#d8576b"
             ],
             [
              0.6666666666666666,
              "#ed7953"
             ],
             [
              0.7777777777777778,
              "#fb9f3a"
             ],
             [
              0.8888888888888888,
              "#fdca26"
             ],
             [
              1,
              "#f0f921"
             ]
            ],
            "type": "surface"
           }
          ],
          "table": [
           {
            "cells": {
             "fill": {
              "color": "#EBF0F8"
             },
             "line": {
              "color": "white"
             }
            },
            "header": {
             "fill": {
              "color": "#C8D4E3"
             },
             "line": {
              "color": "white"
             }
            },
            "type": "table"
           }
          ]
         },
         "layout": {
          "annotationdefaults": {
           "arrowcolor": "#2a3f5f",
           "arrowhead": 0,
           "arrowwidth": 1
          },
          "autotypenumbers": "strict",
          "coloraxis": {
           "colorbar": {
            "outlinewidth": 0,
            "ticks": ""
           }
          },
          "colorscale": {
           "diverging": [
            [
             0,
             "#8e0152"
            ],
            [
             0.1,
             "#c51b7d"
            ],
            [
             0.2,
             "#de77ae"
            ],
            [
             0.3,
             "#f1b6da"
            ],
            [
             0.4,
             "#fde0ef"
            ],
            [
             0.5,
             "#f7f7f7"
            ],
            [
             0.6,
             "#e6f5d0"
            ],
            [
             0.7,
             "#b8e186"
            ],
            [
             0.8,
             "#7fbc41"
            ],
            [
             0.9,
             "#4d9221"
            ],
            [
             1,
             "#276419"
            ]
           ],
           "sequential": [
            [
             0,
             "#0d0887"
            ],
            [
             0.1111111111111111,
             "#46039f"
            ],
            [
             0.2222222222222222,
             "#7201a8"
            ],
            [
             0.3333333333333333,
             "#9c179e"
            ],
            [
             0.4444444444444444,
             "#bd3786"
            ],
            [
             0.5555555555555556,
             "#d8576b"
            ],
            [
             0.6666666666666666,
             "#ed7953"
            ],
            [
             0.7777777777777778,
             "#fb9f3a"
            ],
            [
             0.8888888888888888,
             "#fdca26"
            ],
            [
             1,
             "#f0f921"
            ]
           ],
           "sequentialminus": [
            [
             0,
             "#0d0887"
            ],
            [
             0.1111111111111111,
             "#46039f"
            ],
            [
             0.2222222222222222,
             "#7201a8"
            ],
            [
             0.3333333333333333,
             "#9c179e"
            ],
            [
             0.4444444444444444,
             "#bd3786"
            ],
            [
             0.5555555555555556,
             "#d8576b"
            ],
            [
             0.6666666666666666,
             "#ed7953"
            ],
            [
             0.7777777777777778,
             "#fb9f3a"
            ],
            [
             0.8888888888888888,
             "#fdca26"
            ],
            [
             1,
             "#f0f921"
            ]
           ]
          },
          "colorway": [
           "#636efa",
           "#EF553B",
           "#00cc96",
           "#ab63fa",
           "#FFA15A",
           "#19d3f3",
           "#FF6692",
           "#B6E880",
           "#FF97FF",
           "#FECB52"
          ],
          "font": {
           "color": "#2a3f5f"
          },
          "geo": {
           "bgcolor": "white",
           "lakecolor": "white",
           "landcolor": "#E5ECF6",
           "showlakes": true,
           "showland": true,
           "subunitcolor": "white"
          },
          "hoverlabel": {
           "align": "left"
          },
          "hovermode": "closest",
          "mapbox": {
           "style": "light"
          },
          "paper_bgcolor": "white",
          "plot_bgcolor": "#E5ECF6",
          "polar": {
           "angularaxis": {
            "gridcolor": "white",
            "linecolor": "white",
            "ticks": ""
           },
           "bgcolor": "#E5ECF6",
           "radialaxis": {
            "gridcolor": "white",
            "linecolor": "white",
            "ticks": ""
           }
          },
          "scene": {
           "xaxis": {
            "backgroundcolor": "#E5ECF6",
            "gridcolor": "white",
            "gridwidth": 2,
            "linecolor": "white",
            "showbackground": true,
            "ticks": "",
            "zerolinecolor": "white"
           },
           "yaxis": {
            "backgroundcolor": "#E5ECF6",
            "gridcolor": "white",
            "gridwidth": 2,
            "linecolor": "white",
            "showbackground": true,
            "ticks": "",
            "zerolinecolor": "white"
           },
           "zaxis": {
            "backgroundcolor": "#E5ECF6",
            "gridcolor": "white",
            "gridwidth": 2,
            "linecolor": "white",
            "showbackground": true,
            "ticks": "",
            "zerolinecolor": "white"
           }
          },
          "shapedefaults": {
           "line": {
            "color": "#2a3f5f"
           }
          },
          "ternary": {
           "aaxis": {
            "gridcolor": "white",
            "linecolor": "white",
            "ticks": ""
           },
           "baxis": {
            "gridcolor": "white",
            "linecolor": "white",
            "ticks": ""
           },
           "bgcolor": "#E5ECF6",
           "caxis": {
            "gridcolor": "white",
            "linecolor": "white",
            "ticks": ""
           }
          },
          "title": {
           "x": 0.05
          },
          "xaxis": {
           "automargin": true,
           "gridcolor": "white",
           "linecolor": "white",
           "ticks": "",
           "title": {
            "standoff": 15
           },
           "zerolinecolor": "white",
           "zerolinewidth": 2
          },
          "yaxis": {
           "automargin": true,
           "gridcolor": "white",
           "linecolor": "white",
           "ticks": "",
           "title": {
            "standoff": 15
           },
           "zerolinecolor": "white",
           "zerolinewidth": 2
          }
         }
        },
        "title": {
         "text": "Optimization History Plot"
        },
        "xaxis": {
         "title": {
          "text": "Trial"
         }
        },
        "yaxis": {
         "title": {
          "text": "Objective Value"
         }
        }
       }
      },
      "text/html": [
       "<div>                        <script type=\"text/javascript\">window.PlotlyConfig = {MathJaxConfig: 'local'};</script>\n",
       "        <script charset=\"utf-8\" src=\"https://cdn.plot.ly/plotly-2.25.2.min.js\"></script>                <div id=\"9e79caa5-eedc-4b57-8599-870214db5ced\" class=\"plotly-graph-div\" style=\"height:100%; width:100%;\"></div>            <script type=\"text/javascript\">                                    window.PLOTLYENV=window.PLOTLYENV || {};                                    if (document.getElementById(\"9e79caa5-eedc-4b57-8599-870214db5ced\")) {                    Plotly.newPlot(                        \"9e79caa5-eedc-4b57-8599-870214db5ced\",                        [{\"mode\":\"markers\",\"name\":\"Objective Value\",\"x\":[0,1,2,3,4,5,6,7,8,9],\"y\":[21.78830570776083,21.85204694359998,21.769345310453748,21.85204694359998,21.837447538497173,21.85204694359998,21.807268649134905,21.675171284740955,21.45208402914158,21.845811267817666],\"type\":\"scatter\"},{\"mode\":\"lines\",\"name\":\"Best Value\",\"x\":[0,1,2,3,4,5,6,7,8,9],\"y\":[21.78830570776083,21.78830570776083,21.769345310453748,21.769345310453748,21.769345310453748,21.769345310453748,21.769345310453748,21.675171284740955,21.45208402914158,21.45208402914158],\"type\":\"scatter\"},{\"marker\":{\"color\":\"#cccccc\"},\"mode\":\"markers\",\"name\":\"Infeasible Trial\",\"showlegend\":false,\"x\":[],\"y\":[],\"type\":\"scatter\"}],                        {\"title\":{\"text\":\"Optimization History Plot\"},\"xaxis\":{\"title\":{\"text\":\"Trial\"}},\"yaxis\":{\"title\":{\"text\":\"Objective Value\"}},\"template\":{\"data\":{\"histogram2dcontour\":[{\"type\":\"histogram2dcontour\",\"colorbar\":{\"outlinewidth\":0,\"ticks\":\"\"},\"colorscale\":[[0.0,\"#0d0887\"],[0.1111111111111111,\"#46039f\"],[0.2222222222222222,\"#7201a8\"],[0.3333333333333333,\"#9c179e\"],[0.4444444444444444,\"#bd3786\"],[0.5555555555555556,\"#d8576b\"],[0.6666666666666666,\"#ed7953\"],[0.7777777777777778,\"#fb9f3a\"],[0.8888888888888888,\"#fdca26\"],[1.0,\"#f0f921\"]]}],\"choropleth\":[{\"type\":\"choropleth\",\"colorbar\":{\"outlinewidth\":0,\"ticks\":\"\"}}],\"histogram2d\":[{\"type\":\"histogram2d\",\"colorbar\":{\"outlinewidth\":0,\"ticks\":\"\"},\"colorscale\":[[0.0,\"#0d0887\"],[0.1111111111111111,\"#46039f\"],[0.2222222222222222,\"#7201a8\"],[0.3333333333333333,\"#9c179e\"],[0.4444444444444444,\"#bd3786\"],[0.5555555555555556,\"#d8576b\"],[0.6666666666666666,\"#ed7953\"],[0.7777777777777778,\"#fb9f3a\"],[0.8888888888888888,\"#fdca26\"],[1.0,\"#f0f921\"]]}],\"heatmap\":[{\"type\":\"heatmap\",\"colorbar\":{\"outlinewidth\":0,\"ticks\":\"\"},\"colorscale\":[[0.0,\"#0d0887\"],[0.1111111111111111,\"#46039f\"],[0.2222222222222222,\"#7201a8\"],[0.3333333333333333,\"#9c179e\"],[0.4444444444444444,\"#bd3786\"],[0.5555555555555556,\"#d8576b\"],[0.6666666666666666,\"#ed7953\"],[0.7777777777777778,\"#fb9f3a\"],[0.8888888888888888,\"#fdca26\"],[1.0,\"#f0f921\"]]}],\"heatmapgl\":[{\"type\":\"heatmapgl\",\"colorbar\":{\"outlinewidth\":0,\"ticks\":\"\"},\"colorscale\":[[0.0,\"#0d0887\"],[0.1111111111111111,\"#46039f\"],[0.2222222222222222,\"#7201a8\"],[0.3333333333333333,\"#9c179e\"],[0.4444444444444444,\"#bd3786\"],[0.5555555555555556,\"#d8576b\"],[0.6666666666666666,\"#ed7953\"],[0.7777777777777778,\"#fb9f3a\"],[0.8888888888888888,\"#fdca26\"],[1.0,\"#f0f921\"]]}],\"contourcarpet\":[{\"type\":\"contourcarpet\",\"colorbar\":{\"outlinewidth\":0,\"ticks\":\"\"}}],\"contour\":[{\"type\":\"contour\",\"colorbar\":{\"outlinewidth\":0,\"ticks\":\"\"},\"colorscale\":[[0.0,\"#0d0887\"],[0.1111111111111111,\"#46039f\"],[0.2222222222222222,\"#7201a8\"],[0.3333333333333333,\"#9c179e\"],[0.4444444444444444,\"#bd3786\"],[0.5555555555555556,\"#d8576b\"],[0.6666666666666666,\"#ed7953\"],[0.7777777777777778,\"#fb9f3a\"],[0.8888888888888888,\"#fdca26\"],[1.0,\"#f0f921\"]]}],\"surface\":[{\"type\":\"surface\",\"colorbar\":{\"outlinewidth\":0,\"ticks\":\"\"},\"colorscale\":[[0.0,\"#0d0887\"],[0.1111111111111111,\"#46039f\"],[0.2222222222222222,\"#7201a8\"],[0.3333333333333333,\"#9c179e\"],[0.4444444444444444,\"#bd3786\"],[0.5555555555555556,\"#d8576b\"],[0.6666666666666666,\"#ed7953\"],[0.7777777777777778,\"#fb9f3a\"],[0.8888888888888888,\"#fdca26\"],[1.0,\"#f0f921\"]]}],\"mesh3d\":[{\"type\":\"mesh3d\",\"colorbar\":{\"outlinewidth\":0,\"ticks\":\"\"}}],\"scatter\":[{\"fillpattern\":{\"fillmode\":\"overlay\",\"size\":10,\"solidity\":0.2},\"type\":\"scatter\"}],\"parcoords\":[{\"type\":\"parcoords\",\"line\":{\"colorbar\":{\"outlinewidth\":0,\"ticks\":\"\"}}}],\"scatterpolargl\":[{\"type\":\"scatterpolargl\",\"marker\":{\"colorbar\":{\"outlinewidth\":0,\"ticks\":\"\"}}}],\"bar\":[{\"error_x\":{\"color\":\"#2a3f5f\"},\"error_y\":{\"color\":\"#2a3f5f\"},\"marker\":{\"line\":{\"color\":\"#E5ECF6\",\"width\":0.5},\"pattern\":{\"fillmode\":\"overlay\",\"size\":10,\"solidity\":0.2}},\"type\":\"bar\"}],\"scattergeo\":[{\"type\":\"scattergeo\",\"marker\":{\"colorbar\":{\"outlinewidth\":0,\"ticks\":\"\"}}}],\"scatterpolar\":[{\"type\":\"scatterpolar\",\"marker\":{\"colorbar\":{\"outlinewidth\":0,\"ticks\":\"\"}}}],\"histogram\":[{\"marker\":{\"pattern\":{\"fillmode\":\"overlay\",\"size\":10,\"solidity\":0.2}},\"type\":\"histogram\"}],\"scattergl\":[{\"type\":\"scattergl\",\"marker\":{\"colorbar\":{\"outlinewidth\":0,\"ticks\":\"\"}}}],\"scatter3d\":[{\"type\":\"scatter3d\",\"line\":{\"colorbar\":{\"outlinewidth\":0,\"ticks\":\"\"}},\"marker\":{\"colorbar\":{\"outlinewidth\":0,\"ticks\":\"\"}}}],\"scattermapbox\":[{\"type\":\"scattermapbox\",\"marker\":{\"colorbar\":{\"outlinewidth\":0,\"ticks\":\"\"}}}],\"scatterternary\":[{\"type\":\"scatterternary\",\"marker\":{\"colorbar\":{\"outlinewidth\":0,\"ticks\":\"\"}}}],\"scattercarpet\":[{\"type\":\"scattercarpet\",\"marker\":{\"colorbar\":{\"outlinewidth\":0,\"ticks\":\"\"}}}],\"carpet\":[{\"aaxis\":{\"endlinecolor\":\"#2a3f5f\",\"gridcolor\":\"white\",\"linecolor\":\"white\",\"minorgridcolor\":\"white\",\"startlinecolor\":\"#2a3f5f\"},\"baxis\":{\"endlinecolor\":\"#2a3f5f\",\"gridcolor\":\"white\",\"linecolor\":\"white\",\"minorgridcolor\":\"white\",\"startlinecolor\":\"#2a3f5f\"},\"type\":\"carpet\"}],\"table\":[{\"cells\":{\"fill\":{\"color\":\"#EBF0F8\"},\"line\":{\"color\":\"white\"}},\"header\":{\"fill\":{\"color\":\"#C8D4E3\"},\"line\":{\"color\":\"white\"}},\"type\":\"table\"}],\"barpolar\":[{\"marker\":{\"line\":{\"color\":\"#E5ECF6\",\"width\":0.5},\"pattern\":{\"fillmode\":\"overlay\",\"size\":10,\"solidity\":0.2}},\"type\":\"barpolar\"}],\"pie\":[{\"automargin\":true,\"type\":\"pie\"}]},\"layout\":{\"autotypenumbers\":\"strict\",\"colorway\":[\"#636efa\",\"#EF553B\",\"#00cc96\",\"#ab63fa\",\"#FFA15A\",\"#19d3f3\",\"#FF6692\",\"#B6E880\",\"#FF97FF\",\"#FECB52\"],\"font\":{\"color\":\"#2a3f5f\"},\"hovermode\":\"closest\",\"hoverlabel\":{\"align\":\"left\"},\"paper_bgcolor\":\"white\",\"plot_bgcolor\":\"#E5ECF6\",\"polar\":{\"bgcolor\":\"#E5ECF6\",\"angularaxis\":{\"gridcolor\":\"white\",\"linecolor\":\"white\",\"ticks\":\"\"},\"radialaxis\":{\"gridcolor\":\"white\",\"linecolor\":\"white\",\"ticks\":\"\"}},\"ternary\":{\"bgcolor\":\"#E5ECF6\",\"aaxis\":{\"gridcolor\":\"white\",\"linecolor\":\"white\",\"ticks\":\"\"},\"baxis\":{\"gridcolor\":\"white\",\"linecolor\":\"white\",\"ticks\":\"\"},\"caxis\":{\"gridcolor\":\"white\",\"linecolor\":\"white\",\"ticks\":\"\"}},\"coloraxis\":{\"colorbar\":{\"outlinewidth\":0,\"ticks\":\"\"}},\"colorscale\":{\"sequential\":[[0.0,\"#0d0887\"],[0.1111111111111111,\"#46039f\"],[0.2222222222222222,\"#7201a8\"],[0.3333333333333333,\"#9c179e\"],[0.4444444444444444,\"#bd3786\"],[0.5555555555555556,\"#d8576b\"],[0.6666666666666666,\"#ed7953\"],[0.7777777777777778,\"#fb9f3a\"],[0.8888888888888888,\"#fdca26\"],[1.0,\"#f0f921\"]],\"sequentialminus\":[[0.0,\"#0d0887\"],[0.1111111111111111,\"#46039f\"],[0.2222222222222222,\"#7201a8\"],[0.3333333333333333,\"#9c179e\"],[0.4444444444444444,\"#bd3786\"],[0.5555555555555556,\"#d8576b\"],[0.6666666666666666,\"#ed7953\"],[0.7777777777777778,\"#fb9f3a\"],[0.8888888888888888,\"#fdca26\"],[1.0,\"#f0f921\"]],\"diverging\":[[0,\"#8e0152\"],[0.1,\"#c51b7d\"],[0.2,\"#de77ae\"],[0.3,\"#f1b6da\"],[0.4,\"#fde0ef\"],[0.5,\"#f7f7f7\"],[0.6,\"#e6f5d0\"],[0.7,\"#b8e186\"],[0.8,\"#7fbc41\"],[0.9,\"#4d9221\"],[1,\"#276419\"]]},\"xaxis\":{\"gridcolor\":\"white\",\"linecolor\":\"white\",\"ticks\":\"\",\"title\":{\"standoff\":15},\"zerolinecolor\":\"white\",\"automargin\":true,\"zerolinewidth\":2},\"yaxis\":{\"gridcolor\":\"white\",\"linecolor\":\"white\",\"ticks\":\"\",\"title\":{\"standoff\":15},\"zerolinecolor\":\"white\",\"automargin\":true,\"zerolinewidth\":2},\"scene\":{\"xaxis\":{\"backgroundcolor\":\"#E5ECF6\",\"gridcolor\":\"white\",\"linecolor\":\"white\",\"showbackground\":true,\"ticks\":\"\",\"zerolinecolor\":\"white\",\"gridwidth\":2},\"yaxis\":{\"backgroundcolor\":\"#E5ECF6\",\"gridcolor\":\"white\",\"linecolor\":\"white\",\"showbackground\":true,\"ticks\":\"\",\"zerolinecolor\":\"white\",\"gridwidth\":2},\"zaxis\":{\"backgroundcolor\":\"#E5ECF6\",\"gridcolor\":\"white\",\"linecolor\":\"white\",\"showbackground\":true,\"ticks\":\"\",\"zerolinecolor\":\"white\",\"gridwidth\":2}},\"shapedefaults\":{\"line\":{\"color\":\"#2a3f5f\"}},\"annotationdefaults\":{\"arrowcolor\":\"#2a3f5f\",\"arrowhead\":0,\"arrowwidth\":1},\"geo\":{\"bgcolor\":\"white\",\"landcolor\":\"#E5ECF6\",\"subunitcolor\":\"white\",\"showland\":true,\"showlakes\":true,\"lakecolor\":\"white\"},\"title\":{\"x\":0.05},\"mapbox\":{\"style\":\"light\"}}}},                        {\"responsive\": true}                    )                };                            </script>        </div>"
      ],
      "text/plain": [
       "Figure({\n",
       "    'data': [{'mode': 'markers',\n",
       "              'name': 'Objective Value',\n",
       "              'type': 'scatter',\n",
       "              'x': [0, 1, 2, 3, 4, 5, 6, 7, 8, 9],\n",
       "              'y': [21.78830570776083, 21.85204694359998, 21.769345310453748,\n",
       "                    21.85204694359998, 21.837447538497173, 21.85204694359998,\n",
       "                    21.807268649134905, 21.675171284740955, 21.45208402914158,\n",
       "                    21.845811267817666]},\n",
       "             {'mode': 'lines',\n",
       "              'name': 'Best Value',\n",
       "              'type': 'scatter',\n",
       "              'x': [0, 1, 2, 3, 4, 5, 6, 7, 8, 9],\n",
       "              'y': [21.78830570776083, 21.78830570776083, 21.769345310453748,\n",
       "                    21.769345310453748, 21.769345310453748, 21.769345310453748,\n",
       "                    21.769345310453748, 21.675171284740955, 21.45208402914158,\n",
       "                    21.45208402914158]},\n",
       "             {'marker': {'color': '#cccccc'},\n",
       "              'mode': 'markers',\n",
       "              'name': 'Infeasible Trial',\n",
       "              'showlegend': False,\n",
       "              'type': 'scatter',\n",
       "              'x': [],\n",
       "              'y': []}],\n",
       "    'layout': {'template': '...',\n",
       "               'title': {'text': 'Optimization History Plot'},\n",
       "               'xaxis': {'title': {'text': 'Trial'}},\n",
       "               'yaxis': {'title': {'text': 'Objective Value'}}}\n",
       "})"
      ]
     },
     "execution_count": 39,
     "metadata": {},
     "output_type": "execute_result"
    }
   ],
   "source": [
    "optuna.visualization.plot_optimization_history(study)"
   ]
  },
  {
   "cell_type": "code",
   "execution_count": 40,
   "metadata": {},
   "outputs": [
    {
     "data": {
      "text/plain": [
       "{'alpha': 0.11463029885210174, 'l1_ratio': 1, 'max_iter': 2885}"
      ]
     },
     "execution_count": 40,
     "metadata": {},
     "output_type": "execute_result"
    }
   ],
   "source": [
    "elastic_best_params = study.best_params\n",
    "elastic_best_params"
   ]
  },
  {
   "cell_type": "code",
   "execution_count": null,
   "metadata": {},
   "outputs": [],
   "source": []
  },
  {
   "cell_type": "code",
   "execution_count": null,
   "metadata": {},
   "outputs": [],
   "source": []
  },
  {
   "cell_type": "code",
   "execution_count": null,
   "metadata": {},
   "outputs": [],
   "source": []
  },
  {
   "cell_type": "code",
   "execution_count": null,
   "metadata": {},
   "outputs": [],
   "source": []
  }
 ],
 "metadata": {
  "kernelspec": {
   "display_name": "myenv",
   "language": "python",
   "name": "python3"
  },
  "language_info": {
   "codemirror_mode": {
    "name": "ipython",
    "version": 3
   },
   "file_extension": ".py",
   "mimetype": "text/x-python",
   "name": "python",
   "nbconvert_exporter": "python",
   "pygments_lexer": "ipython3",
   "version": "3.11.4"
  },
  "orig_nbformat": 4
 },
 "nbformat": 4,
 "nbformat_minor": 2
}
