{
 "cells": [
  {
   "cell_type": "markdown",
   "metadata": {},
   "source": [
    "# Imports"
   ]
  },
  {
   "cell_type": "code",
   "execution_count": 9,
   "metadata": {},
   "outputs": [],
   "source": [
    "import pandas as pd\n",
    "import numpy as np\n",
    "import optuna\n",
    "from sklearn.metrics import mean_squared_error, mean_absolute_error, r2_score\n",
    "import plotly\n",
    "\n",
    "from sklearn.tree import DecisionTreeRegressor\n",
    "from sklearn.preprocessing import PolynomialFeatures\n",
    "from sklearn.ensemble import RandomForestRegressor\n",
    "\n",
    "from sklearn.linear_model import LinearRegression, Lasso, Ridge, ElasticNet\n",
    "\n",
    "\n",
    "import logging\n",
    "\n",
    "# Definir o nível de log para WARNING\n",
    "optuna.logging.set_verbosity(optuna.logging.WARNING)\n",
    "#import seaborn as sns\n",
    "#from matplotlib import pyplot\n",
    "import warnings\n",
    "from sklearn.exceptions import ConvergenceWarning\n",
    "\n",
    "warnings.filterwarnings(\"ignore\", category=ConvergenceWarning)\n"
   ]
  },
  {
   "cell_type": "code",
   "execution_count": null,
   "metadata": {},
   "outputs": [],
   "source": []
  },
  {
   "cell_type": "markdown",
   "metadata": {},
   "source": [
    "# Helper Functions"
   ]
  },
  {
   "cell_type": "code",
   "execution_count": 10,
   "metadata": {},
   "outputs": [],
   "source": [
    "def calculate_metrics(y_true, y_pred, model_name):\n",
    "    # Calcular R2\n",
    "    r2 = r2_score(y_true, y_pred)\n",
    "    \n",
    "    # Calcular MSE\n",
    "    mse = mean_squared_error(y_true, y_pred)\n",
    "    \n",
    "    # Calcular RMSE\n",
    "    rmse = np.sqrt(mse)\n",
    "    \n",
    "    # Calcular MAE\n",
    "    mae = mean_absolute_error(y_true, y_pred)\n",
    "    \n",
    "    # Calcular MAPE\n",
    "    y_true_arr, y_pred_arr = np.array(y_true), np.array(y_pred)\n",
    "    mape = np.mean(np.abs((y_true_arr - y_pred_arr) / y_true_arr)) * 100\n",
    "    \n",
    "    return {\n",
    "        \"model_name\": model_name,\n",
    "        \"R2\": r2,\n",
    "        \"MSE\": mse,\n",
    "        \"RMSE\": rmse,\n",
    "        \"MAE\": mae,\n",
    "        \"MAPE\": mape\n",
    "    }\n"
   ]
  },
  {
   "cell_type": "markdown",
   "metadata": {},
   "source": [
    "# Data load"
   ]
  },
  {
   "cell_type": "code",
   "execution_count": 11,
   "metadata": {},
   "outputs": [],
   "source": [
    "# Dados de Treinamento\n",
    "X_train = pd.read_csv('../../data/Regressao/X_training.csv')\n",
    "y_train = pd.read_csv('../../data/Regressao/y_training.csv').values.ravel()\n",
    "\n",
    "# Dados de Test\n",
    "X_test = pd.read_csv('../../data/Regressao/X_test.csv')\n",
    "y_test = pd.read_csv('../../data/Regressao/y_test.csv').values.ravel()\n",
    "\n",
    "# Dados de Validacao\n",
    "X_val = pd.read_csv('../../data/Regressao/X_validation.csv')\n",
    "y_val = pd.read_csv('../../data/Regressao/y_val.csv').values.ravel()"
   ]
  },
  {
   "cell_type": "markdown",
   "metadata": {},
   "source": [
    "# Machine Learning"
   ]
  },
  {
   "cell_type": "markdown",
   "metadata": {},
   "source": [
    "## Decision Tree Regression"
   ]
  },
  {
   "cell_type": "code",
   "execution_count": 12,
   "metadata": {},
   "outputs": [],
   "source": [
    "def dt_fine_tuning(trial):\n",
    "    max_depth = trial.suggest_int('max_depth', 2,100)\n",
    "    dt_model = DecisionTreeRegressor(max_depth=max_depth)\n",
    "    dt_model.fit(X_train, y_train)\n",
    "    y_pred = dt_model.predict(X_val)\n",
    "\n",
    "    return calculate_metrics(y_val, y_pred, 'Decision Tree')['RMSE']\n"
   ]
  },
  {
   "cell_type": "code",
   "execution_count": 13,
   "metadata": {},
   "outputs": [],
   "source": [
    "study = optuna.create_study(direction='minimize')\n",
    "study.optimize(dt_fine_tuning, n_trials=100)"
   ]
  },
  {
   "cell_type": "code",
   "execution_count": 14,
   "metadata": {},
   "outputs": [
    {
     "data": {
      "application/vnd.plotly.v1+json": {
       "config": {
        "plotlyServerURL": "https://plot.ly"
       },
       "data": [
        {
         "mode": "markers",
         "name": "Objective Value",
         "type": "scatter",
         "x": [
          0,
          1,
          2,
          3,
          4,
          5,
          6,
          7,
          8,
          9,
          10,
          11,
          12,
          13,
          14,
          15,
          16,
          17,
          18,
          19,
          20,
          21,
          22,
          23,
          24,
          25,
          26,
          27,
          28,
          29,
          30,
          31,
          32,
          33,
          34,
          35,
          36,
          37,
          38,
          39,
          40,
          41,
          42,
          43,
          44,
          45,
          46,
          47,
          48,
          49,
          50,
          51,
          52,
          53,
          54,
          55,
          56,
          57,
          58,
          59,
          60,
          61,
          62,
          63,
          64,
          65,
          66,
          67,
          68,
          69,
          70,
          71,
          72,
          73,
          74,
          75,
          76,
          77,
          78,
          79,
          80,
          81,
          82,
          83,
          84,
          85,
          86,
          87,
          88,
          89,
          90,
          91,
          92,
          93,
          94,
          95,
          96,
          97,
          98,
          99
         ],
         "y": [
          24.76908139042668,
          24.96224262022064,
          21.14915606313722,
          24.80321231201886,
          23.959127065408467,
          25.139037510981193,
          24.841277400932867,
          24.686574734288314,
          21.14915606313722,
          21.847149888915414,
          25.205521220338124,
          21.14915606313722,
          25.08477500305069,
          24.822573667078952,
          21.437186917010557,
          24.810947903661845,
          24.680451087689857,
          24.708306490935456,
          24.88446788439879,
          23.99503616902067,
          24.893474432561803,
          21.437186917010557,
          21.604870432918126,
          24.83109587061752,
          21.603772145309236,
          24.986816099378633,
          22.100037320845008,
          24.728402343661852,
          21.244727047125895,
          25.108066588902943,
          23.05492029341074,
          21.16189625546681,
          24.77715026346551,
          21.44431689403423,
          24.021480677302645,
          21.226468038193207,
          23.24872774345981,
          24.891885072716708,
          21.16189625546681,
          22.839714671727425,
          24.825841463155513,
          21.146189225511637,
          21.14915606313722,
          24.544197903997173,
          21.221465617961318,
          25.060413487412124,
          22.708701425192494,
          24.740412515939298,
          21.14915606313722,
          24.16378852774061,
          24.876384178710587,
          21.226468038193207,
          22.511240596590824,
          24.87819237216959,
          21.437186917010557,
          21.146189225511637,
          22.212770148743683,
          24.010319192594157,
          24.683839539315095,
          21.437186917010557,
          24.829023716295396,
          21.14915606313722,
          21.602309971218528,
          21.14618922551164,
          22.148395383787207,
          23.030953867442133,
          21.16189625546681,
          21.619646529400846,
          21.146189225511637,
          23.317448653158138,
          24.827988155665807,
          21.146189225511637,
          21.437186917010557,
          21.146189225511637,
          21.146189225511637,
          21.146189225511637,
          21.14618922551164,
          21.583804385018425,
          22.61333642662384,
          21.161896255466814,
          24.532450280744914,
          21.16189625546681,
          21.14915606313722,
          21.858431801144818,
          21.146189225511637,
          23.035307787072625,
          21.62569046693186,
          21.204659713408535,
          22.56134155268889,
          21.437186917010557,
          23.838524998599738,
          21.146189225511637,
          21.146189225511637,
          21.456817381147825,
          21.816205711469088,
          21.16189625546681,
          23.102106722045814,
          24.736763363035333,
          24.974181754627715,
          21.437186917010557
         ]
        },
        {
         "mode": "lines",
         "name": "Best Value",
         "type": "scatter",
         "x": [
          0,
          1,
          2,
          3,
          4,
          5,
          6,
          7,
          8,
          9,
          10,
          11,
          12,
          13,
          14,
          15,
          16,
          17,
          18,
          19,
          20,
          21,
          22,
          23,
          24,
          25,
          26,
          27,
          28,
          29,
          30,
          31,
          32,
          33,
          34,
          35,
          36,
          37,
          38,
          39,
          40,
          41,
          42,
          43,
          44,
          45,
          46,
          47,
          48,
          49,
          50,
          51,
          52,
          53,
          54,
          55,
          56,
          57,
          58,
          59,
          60,
          61,
          62,
          63,
          64,
          65,
          66,
          67,
          68,
          69,
          70,
          71,
          72,
          73,
          74,
          75,
          76,
          77,
          78,
          79,
          80,
          81,
          82,
          83,
          84,
          85,
          86,
          87,
          88,
          89,
          90,
          91,
          92,
          93,
          94,
          95,
          96,
          97,
          98,
          99
         ],
         "y": [
          24.76908139042668,
          24.76908139042668,
          21.14915606313722,
          21.14915606313722,
          21.14915606313722,
          21.14915606313722,
          21.14915606313722,
          21.14915606313722,
          21.14915606313722,
          21.14915606313722,
          21.14915606313722,
          21.14915606313722,
          21.14915606313722,
          21.14915606313722,
          21.14915606313722,
          21.14915606313722,
          21.14915606313722,
          21.14915606313722,
          21.14915606313722,
          21.14915606313722,
          21.14915606313722,
          21.14915606313722,
          21.14915606313722,
          21.14915606313722,
          21.14915606313722,
          21.14915606313722,
          21.14915606313722,
          21.14915606313722,
          21.14915606313722,
          21.14915606313722,
          21.14915606313722,
          21.14915606313722,
          21.14915606313722,
          21.14915606313722,
          21.14915606313722,
          21.14915606313722,
          21.14915606313722,
          21.14915606313722,
          21.14915606313722,
          21.14915606313722,
          21.14915606313722,
          21.146189225511637,
          21.146189225511637,
          21.146189225511637,
          21.146189225511637,
          21.146189225511637,
          21.146189225511637,
          21.146189225511637,
          21.146189225511637,
          21.146189225511637,
          21.146189225511637,
          21.146189225511637,
          21.146189225511637,
          21.146189225511637,
          21.146189225511637,
          21.146189225511637,
          21.146189225511637,
          21.146189225511637,
          21.146189225511637,
          21.146189225511637,
          21.146189225511637,
          21.146189225511637,
          21.146189225511637,
          21.146189225511637,
          21.146189225511637,
          21.146189225511637,
          21.146189225511637,
          21.146189225511637,
          21.146189225511637,
          21.146189225511637,
          21.146189225511637,
          21.146189225511637,
          21.146189225511637,
          21.146189225511637,
          21.146189225511637,
          21.146189225511637,
          21.146189225511637,
          21.146189225511637,
          21.146189225511637,
          21.146189225511637,
          21.146189225511637,
          21.146189225511637,
          21.146189225511637,
          21.146189225511637,
          21.146189225511637,
          21.146189225511637,
          21.146189225511637,
          21.146189225511637,
          21.146189225511637,
          21.146189225511637,
          21.146189225511637,
          21.146189225511637,
          21.146189225511637,
          21.146189225511637,
          21.146189225511637,
          21.146189225511637,
          21.146189225511637,
          21.146189225511637,
          21.146189225511637,
          21.146189225511637
         ]
        },
        {
         "marker": {
          "color": "#cccccc"
         },
         "mode": "markers",
         "name": "Infeasible Trial",
         "showlegend": false,
         "type": "scatter",
         "x": [],
         "y": []
        }
       ],
       "layout": {
        "template": {
         "data": {
          "bar": [
           {
            "error_x": {
             "color": "#2a3f5f"
            },
            "error_y": {
             "color": "#2a3f5f"
            },
            "marker": {
             "line": {
              "color": "#E5ECF6",
              "width": 0.5
             },
             "pattern": {
              "fillmode": "overlay",
              "size": 10,
              "solidity": 0.2
             }
            },
            "type": "bar"
           }
          ],
          "barpolar": [
           {
            "marker": {
             "line": {
              "color": "#E5ECF6",
              "width": 0.5
             },
             "pattern": {
              "fillmode": "overlay",
              "size": 10,
              "solidity": 0.2
             }
            },
            "type": "barpolar"
           }
          ],
          "carpet": [
           {
            "aaxis": {
             "endlinecolor": "#2a3f5f",
             "gridcolor": "white",
             "linecolor": "white",
             "minorgridcolor": "white",
             "startlinecolor": "#2a3f5f"
            },
            "baxis": {
             "endlinecolor": "#2a3f5f",
             "gridcolor": "white",
             "linecolor": "white",
             "minorgridcolor": "white",
             "startlinecolor": "#2a3f5f"
            },
            "type": "carpet"
           }
          ],
          "choropleth": [
           {
            "colorbar": {
             "outlinewidth": 0,
             "ticks": ""
            },
            "type": "choropleth"
           }
          ],
          "contour": [
           {
            "colorbar": {
             "outlinewidth": 0,
             "ticks": ""
            },
            "colorscale": [
             [
              0,
              "#0d0887"
             ],
             [
              0.1111111111111111,
              "#46039f"
             ],
             [
              0.2222222222222222,
              "#7201a8"
             ],
             [
              0.3333333333333333,
              "#9c179e"
             ],
             [
              0.4444444444444444,
              "#bd3786"
             ],
             [
              0.5555555555555556,
              "#d8576b"
             ],
             [
              0.6666666666666666,
              "#ed7953"
             ],
             [
              0.7777777777777778,
              "#fb9f3a"
             ],
             [
              0.8888888888888888,
              "#fdca26"
             ],
             [
              1,
              "#f0f921"
             ]
            ],
            "type": "contour"
           }
          ],
          "contourcarpet": [
           {
            "colorbar": {
             "outlinewidth": 0,
             "ticks": ""
            },
            "type": "contourcarpet"
           }
          ],
          "heatmap": [
           {
            "colorbar": {
             "outlinewidth": 0,
             "ticks": ""
            },
            "colorscale": [
             [
              0,
              "#0d0887"
             ],
             [
              0.1111111111111111,
              "#46039f"
             ],
             [
              0.2222222222222222,
              "#7201a8"
             ],
             [
              0.3333333333333333,
              "#9c179e"
             ],
             [
              0.4444444444444444,
              "#bd3786"
             ],
             [
              0.5555555555555556,
              "#d8576b"
             ],
             [
              0.6666666666666666,
              "#ed7953"
             ],
             [
              0.7777777777777778,
              "#fb9f3a"
             ],
             [
              0.8888888888888888,
              "#fdca26"
             ],
             [
              1,
              "#f0f921"
             ]
            ],
            "type": "heatmap"
           }
          ],
          "heatmapgl": [
           {
            "colorbar": {
             "outlinewidth": 0,
             "ticks": ""
            },
            "colorscale": [
             [
              0,
              "#0d0887"
             ],
             [
              0.1111111111111111,
              "#46039f"
             ],
             [
              0.2222222222222222,
              "#7201a8"
             ],
             [
              0.3333333333333333,
              "#9c179e"
             ],
             [
              0.4444444444444444,
              "#bd3786"
             ],
             [
              0.5555555555555556,
              "#d8576b"
             ],
             [
              0.6666666666666666,
              "#ed7953"
             ],
             [
              0.7777777777777778,
              "#fb9f3a"
             ],
             [
              0.8888888888888888,
              "#fdca26"
             ],
             [
              1,
              "#f0f921"
             ]
            ],
            "type": "heatmapgl"
           }
          ],
          "histogram": [
           {
            "marker": {
             "pattern": {
              "fillmode": "overlay",
              "size": 10,
              "solidity": 0.2
             }
            },
            "type": "histogram"
           }
          ],
          "histogram2d": [
           {
            "colorbar": {
             "outlinewidth": 0,
             "ticks": ""
            },
            "colorscale": [
             [
              0,
              "#0d0887"
             ],
             [
              0.1111111111111111,
              "#46039f"
             ],
             [
              0.2222222222222222,
              "#7201a8"
             ],
             [
              0.3333333333333333,
              "#9c179e"
             ],
             [
              0.4444444444444444,
              "#bd3786"
             ],
             [
              0.5555555555555556,
              "#d8576b"
             ],
             [
              0.6666666666666666,
              "#ed7953"
             ],
             [
              0.7777777777777778,
              "#fb9f3a"
             ],
             [
              0.8888888888888888,
              "#fdca26"
             ],
             [
              1,
              "#f0f921"
             ]
            ],
            "type": "histogram2d"
           }
          ],
          "histogram2dcontour": [
           {
            "colorbar": {
             "outlinewidth": 0,
             "ticks": ""
            },
            "colorscale": [
             [
              0,
              "#0d0887"
             ],
             [
              0.1111111111111111,
              "#46039f"
             ],
             [
              0.2222222222222222,
              "#7201a8"
             ],
             [
              0.3333333333333333,
              "#9c179e"
             ],
             [
              0.4444444444444444,
              "#bd3786"
             ],
             [
              0.5555555555555556,
              "#d8576b"
             ],
             [
              0.6666666666666666,
              "#ed7953"
             ],
             [
              0.7777777777777778,
              "#fb9f3a"
             ],
             [
              0.8888888888888888,
              "#fdca26"
             ],
             [
              1,
              "#f0f921"
             ]
            ],
            "type": "histogram2dcontour"
           }
          ],
          "mesh3d": [
           {
            "colorbar": {
             "outlinewidth": 0,
             "ticks": ""
            },
            "type": "mesh3d"
           }
          ],
          "parcoords": [
           {
            "line": {
             "colorbar": {
              "outlinewidth": 0,
              "ticks": ""
             }
            },
            "type": "parcoords"
           }
          ],
          "pie": [
           {
            "automargin": true,
            "type": "pie"
           }
          ],
          "scatter": [
           {
            "fillpattern": {
             "fillmode": "overlay",
             "size": 10,
             "solidity": 0.2
            },
            "type": "scatter"
           }
          ],
          "scatter3d": [
           {
            "line": {
             "colorbar": {
              "outlinewidth": 0,
              "ticks": ""
             }
            },
            "marker": {
             "colorbar": {
              "outlinewidth": 0,
              "ticks": ""
             }
            },
            "type": "scatter3d"
           }
          ],
          "scattercarpet": [
           {
            "marker": {
             "colorbar": {
              "outlinewidth": 0,
              "ticks": ""
             }
            },
            "type": "scattercarpet"
           }
          ],
          "scattergeo": [
           {
            "marker": {
             "colorbar": {
              "outlinewidth": 0,
              "ticks": ""
             }
            },
            "type": "scattergeo"
           }
          ],
          "scattergl": [
           {
            "marker": {
             "colorbar": {
              "outlinewidth": 0,
              "ticks": ""
             }
            },
            "type": "scattergl"
           }
          ],
          "scattermapbox": [
           {
            "marker": {
             "colorbar": {
              "outlinewidth": 0,
              "ticks": ""
             }
            },
            "type": "scattermapbox"
           }
          ],
          "scatterpolar": [
           {
            "marker": {
             "colorbar": {
              "outlinewidth": 0,
              "ticks": ""
             }
            },
            "type": "scatterpolar"
           }
          ],
          "scatterpolargl": [
           {
            "marker": {
             "colorbar": {
              "outlinewidth": 0,
              "ticks": ""
             }
            },
            "type": "scatterpolargl"
           }
          ],
          "scatterternary": [
           {
            "marker": {
             "colorbar": {
              "outlinewidth": 0,
              "ticks": ""
             }
            },
            "type": "scatterternary"
           }
          ],
          "surface": [
           {
            "colorbar": {
             "outlinewidth": 0,
             "ticks": ""
            },
            "colorscale": [
             [
              0,
              "#0d0887"
             ],
             [
              0.1111111111111111,
              "#46039f"
             ],
             [
              0.2222222222222222,
              "#7201a8"
             ],
             [
              0.3333333333333333,
              "#9c179e"
             ],
             [
              0.4444444444444444,
              "#bd3786"
             ],
             [
              0.5555555555555556,
              "#d8576b"
             ],
             [
              0.6666666666666666,
              "#ed7953"
             ],
             [
              0.7777777777777778,
              "#fb9f3a"
             ],
             [
              0.8888888888888888,
              "#fdca26"
             ],
             [
              1,
              "#f0f921"
             ]
            ],
            "type": "surface"
           }
          ],
          "table": [
           {
            "cells": {
             "fill": {
              "color": "#EBF0F8"
             },
             "line": {
              "color": "white"
             }
            },
            "header": {
             "fill": {
              "color": "#C8D4E3"
             },
             "line": {
              "color": "white"
             }
            },
            "type": "table"
           }
          ]
         },
         "layout": {
          "annotationdefaults": {
           "arrowcolor": "#2a3f5f",
           "arrowhead": 0,
           "arrowwidth": 1
          },
          "autotypenumbers": "strict",
          "coloraxis": {
           "colorbar": {
            "outlinewidth": 0,
            "ticks": ""
           }
          },
          "colorscale": {
           "diverging": [
            [
             0,
             "#8e0152"
            ],
            [
             0.1,
             "#c51b7d"
            ],
            [
             0.2,
             "#de77ae"
            ],
            [
             0.3,
             "#f1b6da"
            ],
            [
             0.4,
             "#fde0ef"
            ],
            [
             0.5,
             "#f7f7f7"
            ],
            [
             0.6,
             "#e6f5d0"
            ],
            [
             0.7,
             "#b8e186"
            ],
            [
             0.8,
             "#7fbc41"
            ],
            [
             0.9,
             "#4d9221"
            ],
            [
             1,
             "#276419"
            ]
           ],
           "sequential": [
            [
             0,
             "#0d0887"
            ],
            [
             0.1111111111111111,
             "#46039f"
            ],
            [
             0.2222222222222222,
             "#7201a8"
            ],
            [
             0.3333333333333333,
             "#9c179e"
            ],
            [
             0.4444444444444444,
             "#bd3786"
            ],
            [
             0.5555555555555556,
             "#d8576b"
            ],
            [
             0.6666666666666666,
             "#ed7953"
            ],
            [
             0.7777777777777778,
             "#fb9f3a"
            ],
            [
             0.8888888888888888,
             "#fdca26"
            ],
            [
             1,
             "#f0f921"
            ]
           ],
           "sequentialminus": [
            [
             0,
             "#0d0887"
            ],
            [
             0.1111111111111111,
             "#46039f"
            ],
            [
             0.2222222222222222,
             "#7201a8"
            ],
            [
             0.3333333333333333,
             "#9c179e"
            ],
            [
             0.4444444444444444,
             "#bd3786"
            ],
            [
             0.5555555555555556,
             "#d8576b"
            ],
            [
             0.6666666666666666,
             "#ed7953"
            ],
            [
             0.7777777777777778,
             "#fb9f3a"
            ],
            [
             0.8888888888888888,
             "#fdca26"
            ],
            [
             1,
             "#f0f921"
            ]
           ]
          },
          "colorway": [
           "#636efa",
           "#EF553B",
           "#00cc96",
           "#ab63fa",
           "#FFA15A",
           "#19d3f3",
           "#FF6692",
           "#B6E880",
           "#FF97FF",
           "#FECB52"
          ],
          "font": {
           "color": "#2a3f5f"
          },
          "geo": {
           "bgcolor": "white",
           "lakecolor": "white",
           "landcolor": "#E5ECF6",
           "showlakes": true,
           "showland": true,
           "subunitcolor": "white"
          },
          "hoverlabel": {
           "align": "left"
          },
          "hovermode": "closest",
          "mapbox": {
           "style": "light"
          },
          "paper_bgcolor": "white",
          "plot_bgcolor": "#E5ECF6",
          "polar": {
           "angularaxis": {
            "gridcolor": "white",
            "linecolor": "white",
            "ticks": ""
           },
           "bgcolor": "#E5ECF6",
           "radialaxis": {
            "gridcolor": "white",
            "linecolor": "white",
            "ticks": ""
           }
          },
          "scene": {
           "xaxis": {
            "backgroundcolor": "#E5ECF6",
            "gridcolor": "white",
            "gridwidth": 2,
            "linecolor": "white",
            "showbackground": true,
            "ticks": "",
            "zerolinecolor": "white"
           },
           "yaxis": {
            "backgroundcolor": "#E5ECF6",
            "gridcolor": "white",
            "gridwidth": 2,
            "linecolor": "white",
            "showbackground": true,
            "ticks": "",
            "zerolinecolor": "white"
           },
           "zaxis": {
            "backgroundcolor": "#E5ECF6",
            "gridcolor": "white",
            "gridwidth": 2,
            "linecolor": "white",
            "showbackground": true,
            "ticks": "",
            "zerolinecolor": "white"
           }
          },
          "shapedefaults": {
           "line": {
            "color": "#2a3f5f"
           }
          },
          "ternary": {
           "aaxis": {
            "gridcolor": "white",
            "linecolor": "white",
            "ticks": ""
           },
           "baxis": {
            "gridcolor": "white",
            "linecolor": "white",
            "ticks": ""
           },
           "bgcolor": "#E5ECF6",
           "caxis": {
            "gridcolor": "white",
            "linecolor": "white",
            "ticks": ""
           }
          },
          "title": {
           "x": 0.05
          },
          "xaxis": {
           "automargin": true,
           "gridcolor": "white",
           "linecolor": "white",
           "ticks": "",
           "title": {
            "standoff": 15
           },
           "zerolinecolor": "white",
           "zerolinewidth": 2
          },
          "yaxis": {
           "automargin": true,
           "gridcolor": "white",
           "linecolor": "white",
           "ticks": "",
           "title": {
            "standoff": 15
           },
           "zerolinecolor": "white",
           "zerolinewidth": 2
          }
         }
        },
        "title": {
         "text": "Optimization History Plot"
        },
        "xaxis": {
         "title": {
          "text": "Trial"
         }
        },
        "yaxis": {
         "title": {
          "text": "Objective Value"
         }
        }
       }
      }
     },
     "metadata": {},
     "output_type": "display_data"
    }
   ],
   "source": [
    "optuna.visualization.plot_optimization_history(study)"
   ]
  },
  {
   "cell_type": "code",
   "execution_count": 15,
   "metadata": {},
   "outputs": [
    {
     "data": {
      "text/plain": [
       "{'max_depth': 5}"
      ]
     },
     "execution_count": 15,
     "metadata": {},
     "output_type": "execute_result"
    }
   ],
   "source": [
    "dt_best_params = study.best_params\n",
    "dt_best_params"
   ]
  },
  {
   "cell_type": "markdown",
   "metadata": {},
   "source": [
    "## Random Forest Regressor"
   ]
  },
  {
   "cell_type": "code",
   "execution_count": 16,
   "metadata": {},
   "outputs": [],
   "source": [
    "def rf_fine_tuning(trial):\n",
    "    n_estimators = trial.suggest_int('n_estimators', 10,200)\n",
    "    max_depth = trial.suggest_int('max_depth', 2,50)\n",
    "    rf_model = RandomForestRegressor(n_estimators = n_estimators, max_depth=max_depth)\n",
    "    rf_model.fit(X_train, y_train)\n",
    "    y_pred = rf_model.predict(X_val)\n",
    "\n",
    "    return calculate_metrics(y_val, y_pred, 'Random Forest')['RMSE']"
   ]
  },
  {
   "cell_type": "code",
   "execution_count": 17,
   "metadata": {},
   "outputs": [],
   "source": [
    "study = optuna.create_study(direction='minimize')\n",
    "study.optimize(rf_fine_tuning, n_trials=10)"
   ]
  },
  {
   "cell_type": "code",
   "execution_count": 18,
   "metadata": {},
   "outputs": [
    {
     "data": {
      "application/vnd.plotly.v1+json": {
       "config": {
        "plotlyServerURL": "https://plot.ly"
       },
       "data": [
        {
         "mode": "markers",
         "name": "Objective Value",
         "type": "scatter",
         "x": [
          0,
          1,
          2,
          3,
          4,
          5,
          6,
          7,
          8,
          9
         ],
         "y": [
          17.814286094986223,
          18.71505161210838,
          18.014518067404815,
          20.040609049862166,
          17.867452060747823,
          17.84334538348771,
          17.790207270423746,
          17.897812841254016,
          17.885516356714973,
          17.801088334053613
         ]
        },
        {
         "mode": "lines",
         "name": "Best Value",
         "type": "scatter",
         "x": [
          0,
          1,
          2,
          3,
          4,
          5,
          6,
          7,
          8,
          9
         ],
         "y": [
          17.814286094986223,
          17.814286094986223,
          17.814286094986223,
          17.814286094986223,
          17.814286094986223,
          17.814286094986223,
          17.790207270423746,
          17.790207270423746,
          17.790207270423746,
          17.790207270423746
         ]
        },
        {
         "marker": {
          "color": "#cccccc"
         },
         "mode": "markers",
         "name": "Infeasible Trial",
         "showlegend": false,
         "type": "scatter",
         "x": [],
         "y": []
        }
       ],
       "layout": {
        "template": {
         "data": {
          "bar": [
           {
            "error_x": {
             "color": "#2a3f5f"
            },
            "error_y": {
             "color": "#2a3f5f"
            },
            "marker": {
             "line": {
              "color": "#E5ECF6",
              "width": 0.5
             },
             "pattern": {
              "fillmode": "overlay",
              "size": 10,
              "solidity": 0.2
             }
            },
            "type": "bar"
           }
          ],
          "barpolar": [
           {
            "marker": {
             "line": {
              "color": "#E5ECF6",
              "width": 0.5
             },
             "pattern": {
              "fillmode": "overlay",
              "size": 10,
              "solidity": 0.2
             }
            },
            "type": "barpolar"
           }
          ],
          "carpet": [
           {
            "aaxis": {
             "endlinecolor": "#2a3f5f",
             "gridcolor": "white",
             "linecolor": "white",
             "minorgridcolor": "white",
             "startlinecolor": "#2a3f5f"
            },
            "baxis": {
             "endlinecolor": "#2a3f5f",
             "gridcolor": "white",
             "linecolor": "white",
             "minorgridcolor": "white",
             "startlinecolor": "#2a3f5f"
            },
            "type": "carpet"
           }
          ],
          "choropleth": [
           {
            "colorbar": {
             "outlinewidth": 0,
             "ticks": ""
            },
            "type": "choropleth"
           }
          ],
          "contour": [
           {
            "colorbar": {
             "outlinewidth": 0,
             "ticks": ""
            },
            "colorscale": [
             [
              0,
              "#0d0887"
             ],
             [
              0.1111111111111111,
              "#46039f"
             ],
             [
              0.2222222222222222,
              "#7201a8"
             ],
             [
              0.3333333333333333,
              "#9c179e"
             ],
             [
              0.4444444444444444,
              "#bd3786"
             ],
             [
              0.5555555555555556,
              "#d8576b"
             ],
             [
              0.6666666666666666,
              "#ed7953"
             ],
             [
              0.7777777777777778,
              "#fb9f3a"
             ],
             [
              0.8888888888888888,
              "#fdca26"
             ],
             [
              1,
              "#f0f921"
             ]
            ],
            "type": "contour"
           }
          ],
          "contourcarpet": [
           {
            "colorbar": {
             "outlinewidth": 0,
             "ticks": ""
            },
            "type": "contourcarpet"
           }
          ],
          "heatmap": [
           {
            "colorbar": {
             "outlinewidth": 0,
             "ticks": ""
            },
            "colorscale": [
             [
              0,
              "#0d0887"
             ],
             [
              0.1111111111111111,
              "#46039f"
             ],
             [
              0.2222222222222222,
              "#7201a8"
             ],
             [
              0.3333333333333333,
              "#9c179e"
             ],
             [
              0.4444444444444444,
              "#bd3786"
             ],
             [
              0.5555555555555556,
              "#d8576b"
             ],
             [
              0.6666666666666666,
              "#ed7953"
             ],
             [
              0.7777777777777778,
              "#fb9f3a"
             ],
             [
              0.8888888888888888,
              "#fdca26"
             ],
             [
              1,
              "#f0f921"
             ]
            ],
            "type": "heatmap"
           }
          ],
          "heatmapgl": [
           {
            "colorbar": {
             "outlinewidth": 0,
             "ticks": ""
            },
            "colorscale": [
             [
              0,
              "#0d0887"
             ],
             [
              0.1111111111111111,
              "#46039f"
             ],
             [
              0.2222222222222222,
              "#7201a8"
             ],
             [
              0.3333333333333333,
              "#9c179e"
             ],
             [
              0.4444444444444444,
              "#bd3786"
             ],
             [
              0.5555555555555556,
              "#d8576b"
             ],
             [
              0.6666666666666666,
              "#ed7953"
             ],
             [
              0.7777777777777778,
              "#fb9f3a"
             ],
             [
              0.8888888888888888,
              "#fdca26"
             ],
             [
              1,
              "#f0f921"
             ]
            ],
            "type": "heatmapgl"
           }
          ],
          "histogram": [
           {
            "marker": {
             "pattern": {
              "fillmode": "overlay",
              "size": 10,
              "solidity": 0.2
             }
            },
            "type": "histogram"
           }
          ],
          "histogram2d": [
           {
            "colorbar": {
             "outlinewidth": 0,
             "ticks": ""
            },
            "colorscale": [
             [
              0,
              "#0d0887"
             ],
             [
              0.1111111111111111,
              "#46039f"
             ],
             [
              0.2222222222222222,
              "#7201a8"
             ],
             [
              0.3333333333333333,
              "#9c179e"
             ],
             [
              0.4444444444444444,
              "#bd3786"
             ],
             [
              0.5555555555555556,
              "#d8576b"
             ],
             [
              0.6666666666666666,
              "#ed7953"
             ],
             [
              0.7777777777777778,
              "#fb9f3a"
             ],
             [
              0.8888888888888888,
              "#fdca26"
             ],
             [
              1,
              "#f0f921"
             ]
            ],
            "type": "histogram2d"
           }
          ],
          "histogram2dcontour": [
           {
            "colorbar": {
             "outlinewidth": 0,
             "ticks": ""
            },
            "colorscale": [
             [
              0,
              "#0d0887"
             ],
             [
              0.1111111111111111,
              "#46039f"
             ],
             [
              0.2222222222222222,
              "#7201a8"
             ],
             [
              0.3333333333333333,
              "#9c179e"
             ],
             [
              0.4444444444444444,
              "#bd3786"
             ],
             [
              0.5555555555555556,
              "#d8576b"
             ],
             [
              0.6666666666666666,
              "#ed7953"
             ],
             [
              0.7777777777777778,
              "#fb9f3a"
             ],
             [
              0.8888888888888888,
              "#fdca26"
             ],
             [
              1,
              "#f0f921"
             ]
            ],
            "type": "histogram2dcontour"
           }
          ],
          "mesh3d": [
           {
            "colorbar": {
             "outlinewidth": 0,
             "ticks": ""
            },
            "type": "mesh3d"
           }
          ],
          "parcoords": [
           {
            "line": {
             "colorbar": {
              "outlinewidth": 0,
              "ticks": ""
             }
            },
            "type": "parcoords"
           }
          ],
          "pie": [
           {
            "automargin": true,
            "type": "pie"
           }
          ],
          "scatter": [
           {
            "fillpattern": {
             "fillmode": "overlay",
             "size": 10,
             "solidity": 0.2
            },
            "type": "scatter"
           }
          ],
          "scatter3d": [
           {
            "line": {
             "colorbar": {
              "outlinewidth": 0,
              "ticks": ""
             }
            },
            "marker": {
             "colorbar": {
              "outlinewidth": 0,
              "ticks": ""
             }
            },
            "type": "scatter3d"
           }
          ],
          "scattercarpet": [
           {
            "marker": {
             "colorbar": {
              "outlinewidth": 0,
              "ticks": ""
             }
            },
            "type": "scattercarpet"
           }
          ],
          "scattergeo": [
           {
            "marker": {
             "colorbar": {
              "outlinewidth": 0,
              "ticks": ""
             }
            },
            "type": "scattergeo"
           }
          ],
          "scattergl": [
           {
            "marker": {
             "colorbar": {
              "outlinewidth": 0,
              "ticks": ""
             }
            },
            "type": "scattergl"
           }
          ],
          "scattermapbox": [
           {
            "marker": {
             "colorbar": {
              "outlinewidth": 0,
              "ticks": ""
             }
            },
            "type": "scattermapbox"
           }
          ],
          "scatterpolar": [
           {
            "marker": {
             "colorbar": {
              "outlinewidth": 0,
              "ticks": ""
             }
            },
            "type": "scatterpolar"
           }
          ],
          "scatterpolargl": [
           {
            "marker": {
             "colorbar": {
              "outlinewidth": 0,
              "ticks": ""
             }
            },
            "type": "scatterpolargl"
           }
          ],
          "scatterternary": [
           {
            "marker": {
             "colorbar": {
              "outlinewidth": 0,
              "ticks": ""
             }
            },
            "type": "scatterternary"
           }
          ],
          "surface": [
           {
            "colorbar": {
             "outlinewidth": 0,
             "ticks": ""
            },
            "colorscale": [
             [
              0,
              "#0d0887"
             ],
             [
              0.1111111111111111,
              "#46039f"
             ],
             [
              0.2222222222222222,
              "#7201a8"
             ],
             [
              0.3333333333333333,
              "#9c179e"
             ],
             [
              0.4444444444444444,
              "#bd3786"
             ],
             [
              0.5555555555555556,
              "#d8576b"
             ],
             [
              0.6666666666666666,
              "#ed7953"
             ],
             [
              0.7777777777777778,
              "#fb9f3a"
             ],
             [
              0.8888888888888888,
              "#fdca26"
             ],
             [
              1,
              "#f0f921"
             ]
            ],
            "type": "surface"
           }
          ],
          "table": [
           {
            "cells": {
             "fill": {
              "color": "#EBF0F8"
             },
             "line": {
              "color": "white"
             }
            },
            "header": {
             "fill": {
              "color": "#C8D4E3"
             },
             "line": {
              "color": "white"
             }
            },
            "type": "table"
           }
          ]
         },
         "layout": {
          "annotationdefaults": {
           "arrowcolor": "#2a3f5f",
           "arrowhead": 0,
           "arrowwidth": 1
          },
          "autotypenumbers": "strict",
          "coloraxis": {
           "colorbar": {
            "outlinewidth": 0,
            "ticks": ""
           }
          },
          "colorscale": {
           "diverging": [
            [
             0,
             "#8e0152"
            ],
            [
             0.1,
             "#c51b7d"
            ],
            [
             0.2,
             "#de77ae"
            ],
            [
             0.3,
             "#f1b6da"
            ],
            [
             0.4,
             "#fde0ef"
            ],
            [
             0.5,
             "#f7f7f7"
            ],
            [
             0.6,
             "#e6f5d0"
            ],
            [
             0.7,
             "#b8e186"
            ],
            [
             0.8,
             "#7fbc41"
            ],
            [
             0.9,
             "#4d9221"
            ],
            [
             1,
             "#276419"
            ]
           ],
           "sequential": [
            [
             0,
             "#0d0887"
            ],
            [
             0.1111111111111111,
             "#46039f"
            ],
            [
             0.2222222222222222,
             "#7201a8"
            ],
            [
             0.3333333333333333,
             "#9c179e"
            ],
            [
             0.4444444444444444,
             "#bd3786"
            ],
            [
             0.5555555555555556,
             "#d8576b"
            ],
            [
             0.6666666666666666,
             "#ed7953"
            ],
            [
             0.7777777777777778,
             "#fb9f3a"
            ],
            [
             0.8888888888888888,
             "#fdca26"
            ],
            [
             1,
             "#f0f921"
            ]
           ],
           "sequentialminus": [
            [
             0,
             "#0d0887"
            ],
            [
             0.1111111111111111,
             "#46039f"
            ],
            [
             0.2222222222222222,
             "#7201a8"
            ],
            [
             0.3333333333333333,
             "#9c179e"
            ],
            [
             0.4444444444444444,
             "#bd3786"
            ],
            [
             0.5555555555555556,
             "#d8576b"
            ],
            [
             0.6666666666666666,
             "#ed7953"
            ],
            [
             0.7777777777777778,
             "#fb9f3a"
            ],
            [
             0.8888888888888888,
             "#fdca26"
            ],
            [
             1,
             "#f0f921"
            ]
           ]
          },
          "colorway": [
           "#636efa",
           "#EF553B",
           "#00cc96",
           "#ab63fa",
           "#FFA15A",
           "#19d3f3",
           "#FF6692",
           "#B6E880",
           "#FF97FF",
           "#FECB52"
          ],
          "font": {
           "color": "#2a3f5f"
          },
          "geo": {
           "bgcolor": "white",
           "lakecolor": "white",
           "landcolor": "#E5ECF6",
           "showlakes": true,
           "showland": true,
           "subunitcolor": "white"
          },
          "hoverlabel": {
           "align": "left"
          },
          "hovermode": "closest",
          "mapbox": {
           "style": "light"
          },
          "paper_bgcolor": "white",
          "plot_bgcolor": "#E5ECF6",
          "polar": {
           "angularaxis": {
            "gridcolor": "white",
            "linecolor": "white",
            "ticks": ""
           },
           "bgcolor": "#E5ECF6",
           "radialaxis": {
            "gridcolor": "white",
            "linecolor": "white",
            "ticks": ""
           }
          },
          "scene": {
           "xaxis": {
            "backgroundcolor": "#E5ECF6",
            "gridcolor": "white",
            "gridwidth": 2,
            "linecolor": "white",
            "showbackground": true,
            "ticks": "",
            "zerolinecolor": "white"
           },
           "yaxis": {
            "backgroundcolor": "#E5ECF6",
            "gridcolor": "white",
            "gridwidth": 2,
            "linecolor": "white",
            "showbackground": true,
            "ticks": "",
            "zerolinecolor": "white"
           },
           "zaxis": {
            "backgroundcolor": "#E5ECF6",
            "gridcolor": "white",
            "gridwidth": 2,
            "linecolor": "white",
            "showbackground": true,
            "ticks": "",
            "zerolinecolor": "white"
           }
          },
          "shapedefaults": {
           "line": {
            "color": "#2a3f5f"
           }
          },
          "ternary": {
           "aaxis": {
            "gridcolor": "white",
            "linecolor": "white",
            "ticks": ""
           },
           "baxis": {
            "gridcolor": "white",
            "linecolor": "white",
            "ticks": ""
           },
           "bgcolor": "#E5ECF6",
           "caxis": {
            "gridcolor": "white",
            "linecolor": "white",
            "ticks": ""
           }
          },
          "title": {
           "x": 0.05
          },
          "xaxis": {
           "automargin": true,
           "gridcolor": "white",
           "linecolor": "white",
           "ticks": "",
           "title": {
            "standoff": 15
           },
           "zerolinecolor": "white",
           "zerolinewidth": 2
          },
          "yaxis": {
           "automargin": true,
           "gridcolor": "white",
           "linecolor": "white",
           "ticks": "",
           "title": {
            "standoff": 15
           },
           "zerolinecolor": "white",
           "zerolinewidth": 2
          }
         }
        },
        "title": {
         "text": "Optimization History Plot"
        },
        "xaxis": {
         "title": {
          "text": "Trial"
         }
        },
        "yaxis": {
         "title": {
          "text": "Objective Value"
         }
        }
       }
      }
     },
     "metadata": {},
     "output_type": "display_data"
    }
   ],
   "source": [
    "optuna.visualization.plot_optimization_history(study)"
   ]
  },
  {
   "cell_type": "code",
   "execution_count": 19,
   "metadata": {},
   "outputs": [
    {
     "data": {
      "text/plain": [
       "{'n_estimators': 149, 'max_depth': 36}"
      ]
     },
     "execution_count": 19,
     "metadata": {},
     "output_type": "execute_result"
    }
   ],
   "source": [
    "rf_best_params = study.best_params\n",
    "rf_best_params"
   ]
  },
  {
   "cell_type": "markdown",
   "metadata": {},
   "source": [
    "## Polinomial Regression"
   ]
  },
  {
   "cell_type": "code",
   "execution_count": null,
   "metadata": {},
   "outputs": [],
   "source": []
  },
  {
   "cell_type": "code",
   "execution_count": 20,
   "metadata": {},
   "outputs": [],
   "source": [
    "# poly = PolynomialFeatures(degree=5)\n",
    "# poly_features = poly.fit_transform(X_train)\n",
    "# X_poly_val = poly.transform(X_val)\n",
    "\n",
    "# model = LinearRegression()\n",
    "# model.fit(poly_features, y_train)\n",
    "# y_pred = model.predict(X_poly_val)\n"
   ]
  },
  {
   "cell_type": "code",
   "execution_count": null,
   "metadata": {},
   "outputs": [],
   "source": []
  },
  {
   "cell_type": "code",
   "execution_count": 21,
   "metadata": {},
   "outputs": [],
   "source": [
    "def pol_reg_fine_tuning(trial):\n",
    "    degree = trial.suggest_int('degree', 2,4)\n",
    "\n",
    "    poly = PolynomialFeatures(degree=degree)\n",
    "    poly_features = poly.fit_transform(X_train)\n",
    "    X_poly_val = poly.transform(X_val)\n",
    "\n",
    "    model = LinearRegression()\n",
    "    model.fit(poly_features, y_train)\n",
    "    y_pred = model.predict(X_poly_val)\n",
    "\n",
    "    return calculate_metrics(y_val, y_pred, 'Polinomial Regression')['RMSE']\n"
   ]
  },
  {
   "cell_type": "code",
   "execution_count": 22,
   "metadata": {},
   "outputs": [],
   "source": [
    "study = optuna.create_study(direction='minimize')\n",
    "study.optimize(pol_reg_fine_tuning, n_trials=5)"
   ]
  },
  {
   "cell_type": "code",
   "execution_count": 23,
   "metadata": {},
   "outputs": [
    {
     "data": {
      "application/vnd.plotly.v1+json": {
       "config": {
        "plotlyServerURL": "https://plot.ly"
       },
       "data": [
        {
         "mode": "markers",
         "name": "Objective Value",
         "type": "scatter",
         "x": [
          0,
          1,
          2,
          3,
          4
         ],
         "y": [
          22.367973841803234,
          21.113223900467585,
          222.76611247058707,
          22.367973841803234,
          222.76611247058707
         ]
        },
        {
         "mode": "lines",
         "name": "Best Value",
         "type": "scatter",
         "x": [
          0,
          1,
          2,
          3,
          4
         ],
         "y": [
          22.367973841803234,
          21.113223900467585,
          21.113223900467585,
          21.113223900467585,
          21.113223900467585
         ]
        },
        {
         "marker": {
          "color": "#cccccc"
         },
         "mode": "markers",
         "name": "Infeasible Trial",
         "showlegend": false,
         "type": "scatter",
         "x": [],
         "y": []
        }
       ],
       "layout": {
        "template": {
         "data": {
          "bar": [
           {
            "error_x": {
             "color": "#2a3f5f"
            },
            "error_y": {
             "color": "#2a3f5f"
            },
            "marker": {
             "line": {
              "color": "#E5ECF6",
              "width": 0.5
             },
             "pattern": {
              "fillmode": "overlay",
              "size": 10,
              "solidity": 0.2
             }
            },
            "type": "bar"
           }
          ],
          "barpolar": [
           {
            "marker": {
             "line": {
              "color": "#E5ECF6",
              "width": 0.5
             },
             "pattern": {
              "fillmode": "overlay",
              "size": 10,
              "solidity": 0.2
             }
            },
            "type": "barpolar"
           }
          ],
          "carpet": [
           {
            "aaxis": {
             "endlinecolor": "#2a3f5f",
             "gridcolor": "white",
             "linecolor": "white",
             "minorgridcolor": "white",
             "startlinecolor": "#2a3f5f"
            },
            "baxis": {
             "endlinecolor": "#2a3f5f",
             "gridcolor": "white",
             "linecolor": "white",
             "minorgridcolor": "white",
             "startlinecolor": "#2a3f5f"
            },
            "type": "carpet"
           }
          ],
          "choropleth": [
           {
            "colorbar": {
             "outlinewidth": 0,
             "ticks": ""
            },
            "type": "choropleth"
           }
          ],
          "contour": [
           {
            "colorbar": {
             "outlinewidth": 0,
             "ticks": ""
            },
            "colorscale": [
             [
              0,
              "#0d0887"
             ],
             [
              0.1111111111111111,
              "#46039f"
             ],
             [
              0.2222222222222222,
              "#7201a8"
             ],
             [
              0.3333333333333333,
              "#9c179e"
             ],
             [
              0.4444444444444444,
              "#bd3786"
             ],
             [
              0.5555555555555556,
              "#d8576b"
             ],
             [
              0.6666666666666666,
              "#ed7953"
             ],
             [
              0.7777777777777778,
              "#fb9f3a"
             ],
             [
              0.8888888888888888,
              "#fdca26"
             ],
             [
              1,
              "#f0f921"
             ]
            ],
            "type": "contour"
           }
          ],
          "contourcarpet": [
           {
            "colorbar": {
             "outlinewidth": 0,
             "ticks": ""
            },
            "type": "contourcarpet"
           }
          ],
          "heatmap": [
           {
            "colorbar": {
             "outlinewidth": 0,
             "ticks": ""
            },
            "colorscale": [
             [
              0,
              "#0d0887"
             ],
             [
              0.1111111111111111,
              "#46039f"
             ],
             [
              0.2222222222222222,
              "#7201a8"
             ],
             [
              0.3333333333333333,
              "#9c179e"
             ],
             [
              0.4444444444444444,
              "#bd3786"
             ],
             [
              0.5555555555555556,
              "#d8576b"
             ],
             [
              0.6666666666666666,
              "#ed7953"
             ],
             [
              0.7777777777777778,
              "#fb9f3a"
             ],
             [
              0.8888888888888888,
              "#fdca26"
             ],
             [
              1,
              "#f0f921"
             ]
            ],
            "type": "heatmap"
           }
          ],
          "heatmapgl": [
           {
            "colorbar": {
             "outlinewidth": 0,
             "ticks": ""
            },
            "colorscale": [
             [
              0,
              "#0d0887"
             ],
             [
              0.1111111111111111,
              "#46039f"
             ],
             [
              0.2222222222222222,
              "#7201a8"
             ],
             [
              0.3333333333333333,
              "#9c179e"
             ],
             [
              0.4444444444444444,
              "#bd3786"
             ],
             [
              0.5555555555555556,
              "#d8576b"
             ],
             [
              0.6666666666666666,
              "#ed7953"
             ],
             [
              0.7777777777777778,
              "#fb9f3a"
             ],
             [
              0.8888888888888888,
              "#fdca26"
             ],
             [
              1,
              "#f0f921"
             ]
            ],
            "type": "heatmapgl"
           }
          ],
          "histogram": [
           {
            "marker": {
             "pattern": {
              "fillmode": "overlay",
              "size": 10,
              "solidity": 0.2
             }
            },
            "type": "histogram"
           }
          ],
          "histogram2d": [
           {
            "colorbar": {
             "outlinewidth": 0,
             "ticks": ""
            },
            "colorscale": [
             [
              0,
              "#0d0887"
             ],
             [
              0.1111111111111111,
              "#46039f"
             ],
             [
              0.2222222222222222,
              "#7201a8"
             ],
             [
              0.3333333333333333,
              "#9c179e"
             ],
             [
              0.4444444444444444,
              "#bd3786"
             ],
             [
              0.5555555555555556,
              "#d8576b"
             ],
             [
              0.6666666666666666,
              "#ed7953"
             ],
             [
              0.7777777777777778,
              "#fb9f3a"
             ],
             [
              0.8888888888888888,
              "#fdca26"
             ],
             [
              1,
              "#f0f921"
             ]
            ],
            "type": "histogram2d"
           }
          ],
          "histogram2dcontour": [
           {
            "colorbar": {
             "outlinewidth": 0,
             "ticks": ""
            },
            "colorscale": [
             [
              0,
              "#0d0887"
             ],
             [
              0.1111111111111111,
              "#46039f"
             ],
             [
              0.2222222222222222,
              "#7201a8"
             ],
             [
              0.3333333333333333,
              "#9c179e"
             ],
             [
              0.4444444444444444,
              "#bd3786"
             ],
             [
              0.5555555555555556,
              "#d8576b"
             ],
             [
              0.6666666666666666,
              "#ed7953"
             ],
             [
              0.7777777777777778,
              "#fb9f3a"
             ],
             [
              0.8888888888888888,
              "#fdca26"
             ],
             [
              1,
              "#f0f921"
             ]
            ],
            "type": "histogram2dcontour"
           }
          ],
          "mesh3d": [
           {
            "colorbar": {
             "outlinewidth": 0,
             "ticks": ""
            },
            "type": "mesh3d"
           }
          ],
          "parcoords": [
           {
            "line": {
             "colorbar": {
              "outlinewidth": 0,
              "ticks": ""
             }
            },
            "type": "parcoords"
           }
          ],
          "pie": [
           {
            "automargin": true,
            "type": "pie"
           }
          ],
          "scatter": [
           {
            "fillpattern": {
             "fillmode": "overlay",
             "size": 10,
             "solidity": 0.2
            },
            "type": "scatter"
           }
          ],
          "scatter3d": [
           {
            "line": {
             "colorbar": {
              "outlinewidth": 0,
              "ticks": ""
             }
            },
            "marker": {
             "colorbar": {
              "outlinewidth": 0,
              "ticks": ""
             }
            },
            "type": "scatter3d"
           }
          ],
          "scattercarpet": [
           {
            "marker": {
             "colorbar": {
              "outlinewidth": 0,
              "ticks": ""
             }
            },
            "type": "scattercarpet"
           }
          ],
          "scattergeo": [
           {
            "marker": {
             "colorbar": {
              "outlinewidth": 0,
              "ticks": ""
             }
            },
            "type": "scattergeo"
           }
          ],
          "scattergl": [
           {
            "marker": {
             "colorbar": {
              "outlinewidth": 0,
              "ticks": ""
             }
            },
            "type": "scattergl"
           }
          ],
          "scattermapbox": [
           {
            "marker": {
             "colorbar": {
              "outlinewidth": 0,
              "ticks": ""
             }
            },
            "type": "scattermapbox"
           }
          ],
          "scatterpolar": [
           {
            "marker": {
             "colorbar": {
              "outlinewidth": 0,
              "ticks": ""
             }
            },
            "type": "scatterpolar"
           }
          ],
          "scatterpolargl": [
           {
            "marker": {
             "colorbar": {
              "outlinewidth": 0,
              "ticks": ""
             }
            },
            "type": "scatterpolargl"
           }
          ],
          "scatterternary": [
           {
            "marker": {
             "colorbar": {
              "outlinewidth": 0,
              "ticks": ""
             }
            },
            "type": "scatterternary"
           }
          ],
          "surface": [
           {
            "colorbar": {
             "outlinewidth": 0,
             "ticks": ""
            },
            "colorscale": [
             [
              0,
              "#0d0887"
             ],
             [
              0.1111111111111111,
              "#46039f"
             ],
             [
              0.2222222222222222,
              "#7201a8"
             ],
             [
              0.3333333333333333,
              "#9c179e"
             ],
             [
              0.4444444444444444,
              "#bd3786"
             ],
             [
              0.5555555555555556,
              "#d8576b"
             ],
             [
              0.6666666666666666,
              "#ed7953"
             ],
             [
              0.7777777777777778,
              "#fb9f3a"
             ],
             [
              0.8888888888888888,
              "#fdca26"
             ],
             [
              1,
              "#f0f921"
             ]
            ],
            "type": "surface"
           }
          ],
          "table": [
           {
            "cells": {
             "fill": {
              "color": "#EBF0F8"
             },
             "line": {
              "color": "white"
             }
            },
            "header": {
             "fill": {
              "color": "#C8D4E3"
             },
             "line": {
              "color": "white"
             }
            },
            "type": "table"
           }
          ]
         },
         "layout": {
          "annotationdefaults": {
           "arrowcolor": "#2a3f5f",
           "arrowhead": 0,
           "arrowwidth": 1
          },
          "autotypenumbers": "strict",
          "coloraxis": {
           "colorbar": {
            "outlinewidth": 0,
            "ticks": ""
           }
          },
          "colorscale": {
           "diverging": [
            [
             0,
             "#8e0152"
            ],
            [
             0.1,
             "#c51b7d"
            ],
            [
             0.2,
             "#de77ae"
            ],
            [
             0.3,
             "#f1b6da"
            ],
            [
             0.4,
             "#fde0ef"
            ],
            [
             0.5,
             "#f7f7f7"
            ],
            [
             0.6,
             "#e6f5d0"
            ],
            [
             0.7,
             "#b8e186"
            ],
            [
             0.8,
             "#7fbc41"
            ],
            [
             0.9,
             "#4d9221"
            ],
            [
             1,
             "#276419"
            ]
           ],
           "sequential": [
            [
             0,
             "#0d0887"
            ],
            [
             0.1111111111111111,
             "#46039f"
            ],
            [
             0.2222222222222222,
             "#7201a8"
            ],
            [
             0.3333333333333333,
             "#9c179e"
            ],
            [
             0.4444444444444444,
             "#bd3786"
            ],
            [
             0.5555555555555556,
             "#d8576b"
            ],
            [
             0.6666666666666666,
             "#ed7953"
            ],
            [
             0.7777777777777778,
             "#fb9f3a"
            ],
            [
             0.8888888888888888,
             "#fdca26"
            ],
            [
             1,
             "#f0f921"
            ]
           ],
           "sequentialminus": [
            [
             0,
             "#0d0887"
            ],
            [
             0.1111111111111111,
             "#46039f"
            ],
            [
             0.2222222222222222,
             "#7201a8"
            ],
            [
             0.3333333333333333,
             "#9c179e"
            ],
            [
             0.4444444444444444,
             "#bd3786"
            ],
            [
             0.5555555555555556,
             "#d8576b"
            ],
            [
             0.6666666666666666,
             "#ed7953"
            ],
            [
             0.7777777777777778,
             "#fb9f3a"
            ],
            [
             0.8888888888888888,
             "#fdca26"
            ],
            [
             1,
             "#f0f921"
            ]
           ]
          },
          "colorway": [
           "#636efa",
           "#EF553B",
           "#00cc96",
           "#ab63fa",
           "#FFA15A",
           "#19d3f3",
           "#FF6692",
           "#B6E880",
           "#FF97FF",
           "#FECB52"
          ],
          "font": {
           "color": "#2a3f5f"
          },
          "geo": {
           "bgcolor": "white",
           "lakecolor": "white",
           "landcolor": "#E5ECF6",
           "showlakes": true,
           "showland": true,
           "subunitcolor": "white"
          },
          "hoverlabel": {
           "align": "left"
          },
          "hovermode": "closest",
          "mapbox": {
           "style": "light"
          },
          "paper_bgcolor": "white",
          "plot_bgcolor": "#E5ECF6",
          "polar": {
           "angularaxis": {
            "gridcolor": "white",
            "linecolor": "white",
            "ticks": ""
           },
           "bgcolor": "#E5ECF6",
           "radialaxis": {
            "gridcolor": "white",
            "linecolor": "white",
            "ticks": ""
           }
          },
          "scene": {
           "xaxis": {
            "backgroundcolor": "#E5ECF6",
            "gridcolor": "white",
            "gridwidth": 2,
            "linecolor": "white",
            "showbackground": true,
            "ticks": "",
            "zerolinecolor": "white"
           },
           "yaxis": {
            "backgroundcolor": "#E5ECF6",
            "gridcolor": "white",
            "gridwidth": 2,
            "linecolor": "white",
            "showbackground": true,
            "ticks": "",
            "zerolinecolor": "white"
           },
           "zaxis": {
            "backgroundcolor": "#E5ECF6",
            "gridcolor": "white",
            "gridwidth": 2,
            "linecolor": "white",
            "showbackground": true,
            "ticks": "",
            "zerolinecolor": "white"
           }
          },
          "shapedefaults": {
           "line": {
            "color": "#2a3f5f"
           }
          },
          "ternary": {
           "aaxis": {
            "gridcolor": "white",
            "linecolor": "white",
            "ticks": ""
           },
           "baxis": {
            "gridcolor": "white",
            "linecolor": "white",
            "ticks": ""
           },
           "bgcolor": "#E5ECF6",
           "caxis": {
            "gridcolor": "white",
            "linecolor": "white",
            "ticks": ""
           }
          },
          "title": {
           "x": 0.05
          },
          "xaxis": {
           "automargin": true,
           "gridcolor": "white",
           "linecolor": "white",
           "ticks": "",
           "title": {
            "standoff": 15
           },
           "zerolinecolor": "white",
           "zerolinewidth": 2
          },
          "yaxis": {
           "automargin": true,
           "gridcolor": "white",
           "linecolor": "white",
           "ticks": "",
           "title": {
            "standoff": 15
           },
           "zerolinecolor": "white",
           "zerolinewidth": 2
          }
         }
        },
        "title": {
         "text": "Optimization History Plot"
        },
        "xaxis": {
         "title": {
          "text": "Trial"
         }
        },
        "yaxis": {
         "title": {
          "text": "Objective Value"
         }
        }
       }
      }
     },
     "metadata": {},
     "output_type": "display_data"
    }
   ],
   "source": [
    "optuna.visualization.plot_optimization_history(study)"
   ]
  },
  {
   "cell_type": "code",
   "execution_count": 24,
   "metadata": {},
   "outputs": [
    {
     "data": {
      "text/plain": [
       "{'degree': 2}"
      ]
     },
     "execution_count": 24,
     "metadata": {},
     "output_type": "execute_result"
    }
   ],
   "source": [
    "pol_best_params = study.best_params\n",
    "pol_best_params"
   ]
  },
  {
   "cell_type": "markdown",
   "metadata": {},
   "source": [
    "## Lasso"
   ]
  },
  {
   "cell_type": "code",
   "execution_count": null,
   "metadata": {},
   "outputs": [],
   "source": []
  },
  {
   "cell_type": "code",
   "execution_count": 25,
   "metadata": {},
   "outputs": [],
   "source": [
    "def lasso_fine_tuning(trial):\n",
    "    #degree = trial.suggest_int('degree', 2,4)\n",
    "    alpha = trial.suggest_float('alpha', 0.1,5.0)\n",
    "    #l1_ratio = trial.suggest_int('l1_ratio', 1,10)\n",
    "    max_iter = trial.suggest_int('max_iter', 500,3000)\n",
    "\n",
    "    model_lasso = Lasso(alpha = alpha, max_iter = max_iter)\n",
    "    model_lasso.fit(X_train, y_train)\n",
    "\n",
    "    y_pred = model_lasso.predict(X_val)\n",
    "\n",
    "    return calculate_metrics(y_val, y_pred, 'Lasso')['RMSE']\n"
   ]
  },
  {
   "cell_type": "code",
   "execution_count": 26,
   "metadata": {},
   "outputs": [],
   "source": [
    "study = optuna.create_study(direction='minimize')\n",
    "study.optimize(lasso_fine_tuning, n_trials=500)"
   ]
  },
  {
   "cell_type": "code",
   "execution_count": 27,
   "metadata": {},
   "outputs": [
    {
     "data": {
      "application/vnd.plotly.v1+json": {
       "config": {
        "plotlyServerURL": "https://plot.ly"
       },
       "data": [
        {
         "mode": "markers",
         "name": "Objective Value",
         "type": "scatter",
         "x": [
          0,
          1,
          2,
          3,
          4,
          5,
          6,
          7,
          8,
          9,
          10,
          11,
          12,
          13,
          14,
          15,
          16,
          17,
          18,
          19,
          20,
          21,
          22,
          23,
          24,
          25,
          26,
          27,
          28,
          29,
          30,
          31,
          32,
          33,
          34,
          35,
          36,
          37,
          38,
          39,
          40,
          41,
          42,
          43,
          44,
          45,
          46,
          47,
          48,
          49,
          50,
          51,
          52,
          53,
          54,
          55,
          56,
          57,
          58,
          59,
          60,
          61,
          62,
          63,
          64,
          65,
          66,
          67,
          68,
          69,
          70,
          71,
          72,
          73,
          74,
          75,
          76,
          77,
          78,
          79,
          80,
          81,
          82,
          83,
          84,
          85,
          86,
          87,
          88,
          89,
          90,
          91,
          92,
          93,
          94,
          95,
          96,
          97,
          98,
          99,
          100,
          101,
          102,
          103,
          104,
          105,
          106,
          107,
          108,
          109,
          110,
          111,
          112,
          113,
          114,
          115,
          116,
          117,
          118,
          119,
          120,
          121,
          122,
          123,
          124,
          125,
          126,
          127,
          128,
          129,
          130,
          131,
          132,
          133,
          134,
          135,
          136,
          137,
          138,
          139,
          140,
          141,
          142,
          143,
          144,
          145,
          146,
          147,
          148,
          149,
          150,
          151,
          152,
          153,
          154,
          155,
          156,
          157,
          158,
          159,
          160,
          161,
          162,
          163,
          164,
          165,
          166,
          167,
          168,
          169,
          170,
          171,
          172,
          173,
          174,
          175,
          176,
          177,
          178,
          179,
          180,
          181,
          182,
          183,
          184,
          185,
          186,
          187,
          188,
          189,
          190,
          191,
          192,
          193,
          194,
          195,
          196,
          197,
          198,
          199,
          200,
          201,
          202,
          203,
          204,
          205,
          206,
          207,
          208,
          209,
          210,
          211,
          212,
          213,
          214,
          215,
          216,
          217,
          218,
          219,
          220,
          221,
          222,
          223,
          224,
          225,
          226,
          227,
          228,
          229,
          230,
          231,
          232,
          233,
          234,
          235,
          236,
          237,
          238,
          239,
          240,
          241,
          242,
          243,
          244,
          245,
          246,
          247,
          248,
          249,
          250,
          251,
          252,
          253,
          254,
          255,
          256,
          257,
          258,
          259,
          260,
          261,
          262,
          263,
          264,
          265,
          266,
          267,
          268,
          269,
          270,
          271,
          272,
          273,
          274,
          275,
          276,
          277,
          278,
          279,
          280,
          281,
          282,
          283,
          284,
          285,
          286,
          287,
          288,
          289,
          290,
          291,
          292,
          293,
          294,
          295,
          296,
          297,
          298,
          299,
          300,
          301,
          302,
          303,
          304,
          305,
          306,
          307,
          308,
          309,
          310,
          311,
          312,
          313,
          314,
          315,
          316,
          317,
          318,
          319,
          320,
          321,
          322,
          323,
          324,
          325,
          326,
          327,
          328,
          329,
          330,
          331,
          332,
          333,
          334,
          335,
          336,
          337,
          338,
          339,
          340,
          341,
          342,
          343,
          344,
          345,
          346,
          347,
          348,
          349,
          350,
          351,
          352,
          353,
          354,
          355,
          356,
          357,
          358,
          359,
          360,
          361,
          362,
          363,
          364,
          365,
          366,
          367,
          368,
          369,
          370,
          371,
          372,
          373,
          374,
          375,
          376,
          377,
          378,
          379,
          380,
          381,
          382,
          383,
          384,
          385,
          386,
          387,
          388,
          389,
          390,
          391,
          392,
          393,
          394,
          395,
          396,
          397,
          398,
          399,
          400,
          401,
          402,
          403,
          404,
          405,
          406,
          407,
          408,
          409,
          410,
          411,
          412,
          413,
          414,
          415,
          416,
          417,
          418,
          419,
          420,
          421,
          422,
          423,
          424,
          425,
          426,
          427,
          428,
          429,
          430,
          431,
          432,
          433,
          434,
          435,
          436,
          437,
          438,
          439,
          440,
          441,
          442,
          443,
          444,
          445,
          446,
          447,
          448,
          449,
          450,
          451,
          452,
          453,
          454,
          455,
          456,
          457,
          458,
          459,
          460,
          461,
          462,
          463,
          464,
          465,
          466,
          467,
          468,
          469,
          470,
          471,
          472,
          473,
          474,
          475,
          476,
          477,
          478,
          479,
          480,
          481,
          482,
          483,
          484,
          485,
          486,
          487,
          488,
          489,
          490,
          491,
          492,
          493,
          494,
          495,
          496,
          497,
          498,
          499
         ],
         "y": [
          21.772044205153232,
          21.85204694359998,
          21.85204694359998,
          21.85204694359998,
          21.85204694359998,
          21.85204694359998,
          21.831458457816588,
          21.85204694359998,
          21.85204694359998,
          21.66060260054689,
          21.73934115219196,
          21.570641151806484,
          21.44548032180632,
          21.46597742724093,
          21.771005791572257,
          21.771282173985007,
          21.444533786243316,
          21.818126745452155,
          21.75007333613057,
          21.469810061172332,
          21.757615980808502,
          21.643597029269934,
          21.520448651849154,
          21.755322379502864,
          21.454520789978098,
          21.79830617310576,
          21.743787695598748,
          21.79056746366671,
          21.74300516422973,
          21.766869679595214,
          21.759563178004623,
          21.446665465772814,
          21.723951758291882,
          21.73896765487845,
          21.784822336811747,
          21.46273830421559,
          21.758101065575058,
          21.73783380271066,
          21.70822965970487,
          21.750484852571663,
          21.85204694359998,
          21.60509081223432,
          21.478132060582684,
          21.461935651234416,
          21.715843826320686,
          21.761454407613805,
          21.746993696473773,
          21.774088713172674,
          21.674064123630238,
          21.47882153226359,
          21.744333852831854,
          21.464572744591383,
          21.67268126738933,
          21.44471766370386,
          21.667468347100694,
          21.44186339085904,
          21.74037867098463,
          21.753464351295015,
          21.661883298492853,
          21.7392475293896,
          21.76493348650182,
          21.46514906718098,
          21.622559269395293,
          21.442385821832886,
          21.749004501627535,
          21.621135940959466,
          21.738071379219054,
          21.712693609268033,
          21.445796683971846,
          21.755494480499276,
          21.564025541243495,
          21.446641431539042,
          21.602383247149266,
          21.44326413366693,
          21.723459311833075,
          21.561749573468738,
          21.7490223788592,
          21.743000187860055,
          21.72108783181976,
          21.587446993187857,
          21.45262402666725,
          21.450044057757065,
          21.698195963943437,
          21.740087954792546,
          21.58042188523915,
          21.558327680727878,
          21.70142622682165,
          21.74472260079722,
          21.449222999068425,
          21.76106181240047,
          21.74112635944626,
          21.442898062570322,
          21.547057595724368,
          21.68998840494731,
          21.533721341602526,
          21.44219437631042,
          21.443785676301093,
          21.686521737968903,
          21.547272300720714,
          21.731052070620105,
          21.754276948541293,
          21.44197620692397,
          21.67139870550179,
          21.499310093544434,
          21.563827207086415,
          21.66573932225343,
          21.738625831076533,
          21.516645111629554,
          21.44235745716231,
          21.745397543541433,
          21.652069391648045,
          21.50832506793071,
          21.44994985947245,
          21.442923825705776,
          21.733524911186766,
          21.64133796860043,
          21.714047666327644,
          21.535112692967083,
          21.64050350962044,
          21.708960804378922,
          21.742015218815723,
          21.44333459669225,
          21.5439624879128,
          21.452109198143468,
          21.544862155580965,
          21.682713144771476,
          21.527374477876993,
          21.446891455414555,
          21.628122775729473,
          21.737981073027075,
          21.74733475794531,
          21.447081162936925,
          21.606177709716253,
          21.44361641165429,
          21.446169225759355,
          21.681478786325492,
          21.565006299939437,
          21.52927872953482,
          21.715965302180567,
          21.822383668705392,
          21.63329579420873,
          21.443331460993452,
          21.44269961558239,
          21.442803268724752,
          21.539320598819497,
          21.51859958199151,
          21.442676061904965,
          21.445179043923446,
          21.701927334436192,
          21.85204694359998,
          21.61921975778204,
          21.52055020860746,
          21.64291320219266,
          21.443393080836838,
          21.444031199942017,
          21.737839204222947,
          21.522633963115204,
          21.775616340631945,
          21.85204694359998,
          21.688848530857694,
          21.528141582635946,
          21.44286228633838,
          21.605163507087614,
          21.447263918377867,
          21.44441737930225,
          21.530526941426682,
          21.67376044323945,
          21.591823655656363,
          21.716945890072722,
          21.442380739161226,
          21.740532051907117,
          21.444817806107217,
          21.523533715422733,
          21.524706100001715,
          21.444292317297553,
          21.63008791122036,
          21.845653410378333,
          21.68772870681475,
          21.565572566955783,
          21.443262203362668,
          21.518332436444272,
          21.443487219693452,
          21.800221460040348,
          21.44209052533689,
          21.61720350926401,
          21.55087205610995,
          21.510385411825062,
          21.44181809396735,
          21.67441580168756,
          21.717114490585466,
          21.596692119939956,
          21.507471426568358,
          21.453468785329854,
          21.442744165051327,
          21.524649964917945,
          21.63391176133938,
          21.519904612795973,
          21.446098373688063,
          21.648157909421933,
          21.532600343221745,
          21.85204694359998,
          21.4467229146345,
          21.447579268571076,
          21.59279046285122,
          21.694388191761835,
          21.44211166640696,
          21.55665707950738,
          21.443435928196813,
          21.532650345550287,
          21.77070187342372,
          21.666378604898117,
          21.513350923133867,
          21.508907711755867,
          21.442922700826884,
          21.443324408303713,
          21.606545575517444,
          21.51595342425378,
          21.760812670296044,
          21.85204694359998,
          21.44432082143303,
          21.7936462121357,
          21.446745880601686,
          21.586292904258073,
          21.51772601618253,
          21.781771799551308,
          21.444759306325825,
          21.616783571846554,
          21.522101090974076,
          21.69676617785135,
          21.526370369453797,
          21.442133511998946,
          21.517170562433154,
          21.804717076389878,
          21.443230253059838,
          21.84041116506964,
          21.443195278698674,
          21.443366996967306,
          21.589536317897146,
          21.85204694359998,
          21.62627615315536,
          21.443936189563843,
          21.44402973125317,
          21.525359936363223,
          21.75831722346405,
          21.815186171250296,
          21.524317046425473,
          21.768355147292997,
          21.76536547340001,
          21.44211883776731,
          21.58907445348508,
          21.51985618242989,
          21.442501945332264,
          21.85204694359998,
          21.6870019824767,
          21.51970753129172,
          21.444295414014615,
          21.85204694359998,
          21.655001162767878,
          21.581452719193088,
          21.516638669506605,
          21.779472411636977,
          21.44305740168765,
          21.728632879633537,
          21.623266885631267,
          21.442236236439328,
          21.751249870511653,
          21.522882576009827,
          21.69924380911463,
          21.44292542697306,
          21.593958482174315,
          21.508537330982954,
          21.662847079900434,
          21.85204694359998,
          21.53301803227289,
          21.782090309734322,
          21.447267995069875,
          21.740436685764564,
          21.516119443795816,
          21.444394830037233,
          21.616705242240734,
          21.688633210036787,
          21.52706981780424,
          21.769421154566988,
          21.59230625060052,
          21.757075955559763,
          21.725772775004106,
          21.805179519730736,
          21.791369924528,
          21.444331750819458,
          21.773474605355343,
          21.515598873202052,
          21.616964194941684,
          21.4454538702936,
          21.784476546990245,
          21.525908088352914,
          21.680534219307386,
          21.528225273944233,
          21.85204694359998,
          21.74533917168691,
          21.442737846699313,
          21.824257656697696,
          21.602608326331918,
          21.443304491803534,
          21.85204694359998,
          21.85204694359998,
          21.72598811908856,
          21.53058792035329,
          21.834247468665822,
          21.671131427631288,
          21.529209139605598,
          21.6121102127733,
          21.443263918059454,
          21.756040165506917,
          21.512401413548684,
          21.85204694359998,
          21.700951567287337,
          21.593601003542386,
          21.816312959815725,
          21.845333020329825,
          21.51686538208369,
          21.507542292275033,
          21.739899238542815,
          21.79336049713392,
          21.765186863627054,
          21.442619164916767,
          21.441886035825757,
          21.655623689085015,
          21.85204694359998,
          21.85204694359998,
          21.57399296539101,
          21.7081912677007,
          21.8078766468535,
          21.44512381161153,
          21.523124757918144,
          21.85204694359998,
          21.442098456344556,
          21.797601823707517,
          21.77924311503859,
          21.615251487177083,
          21.52788896745872,
          21.6707369895772,
          21.516377580893494,
          21.59350917687384,
          21.44602634796785,
          21.743551543770057,
          21.728285450303485,
          21.519104221289357,
          21.640193661616244,
          21.787259923661065,
          21.44638878427096,
          21.696621315311543,
          21.565914054823125,
          21.759471339258248,
          21.513479281360954,
          21.444167953311027,
          21.60514235060862,
          21.829723992173438,
          21.53673924614818,
          21.77120661361085,
          21.446146667266333,
          21.4418324209777,
          21.85204694359998,
          21.67931438568648,
          21.73845971601284,
          21.44226155740465,
          21.85204694359998,
          21.85204694359998,
          21.526798866295835,
          21.611389251933694,
          21.506909053489856,
          21.44389881967085,
          21.81265494582949,
          21.688919234606885,
          21.85204694359998,
          21.84076819536824,
          21.6041074035485,
          21.532602656655765,
          21.44370020417794,
          21.777785670616066,
          21.85204694359998,
          21.829602151537372,
          21.536151086922644,
          21.67837905817541,
          21.72010769721402,
          21.784371233007544,
          21.85204694359998,
          21.74351968029562,
          21.76431075803094,
          21.81194406856399,
          21.750977705555872,
          21.85204694359998,
          21.44256436564175,
          21.85204694359998,
          21.602341864458797,
          21.512624355048303,
          21.85204694359998,
          21.442793767520957,
          21.521046449248146,
          21.85204694359998,
          21.634005470112008,
          21.787843510904985,
          21.823775172028753,
          21.534536188462575,
          21.445761431491768,
          21.718660563330577,
          21.661826591257153,
          21.750740417865813,
          21.51888259797898,
          21.592363886859374,
          21.498285249719896,
          21.85204694359998,
          21.445765202520153,
          21.739511532063464,
          21.79322893894259,
          21.85204694359998,
          21.85204694359998,
          21.621422143813867,
          21.445182872086306,
          21.443517939311324,
          21.562223989635235,
          21.694201531965128,
          21.775454979800873,
          21.759559856998187,
          21.847934361250974,
          21.755903180650325,
          21.51965291641014,
          21.807659022153004,
          21.44182482999267,
          21.666254169273525,
          21.763765945663504,
          21.441937273431623,
          21.564030292743354,
          21.771785774438182,
          21.745742166861387,
          21.7233481570357,
          21.524909624251183,
          21.516438481407288,
          21.85204694359998,
          21.63584091787424,
          21.85204694359998,
          21.507001900275593,
          21.85204694359998,
          21.85204694359998,
          21.442215712593068,
          21.66929079119068,
          21.443235068737046,
          21.548864713287173,
          21.70680615031345,
          21.592836319531322,
          21.85204694359998,
          21.506819040469917,
          21.821743142173585,
          21.611673671980792,
          21.447123511959166,
          21.738096618092438,
          21.44208832505051,
          21.767906658976376,
          21.833617714285552,
          21.443176230679725,
          21.85204694359998,
          21.57027784149081,
          21.681289763622672,
          21.519025755003607,
          21.85204694359998,
          21.442136183681296,
          21.527826219851327,
          21.61455273386965,
          21.78922724978435,
          21.517856061800398,
          21.740070229434544,
          21.85204694359998,
          21.4437305541354,
          21.708330163564497,
          21.820473837710257,
          21.760845836748288,
          21.85204694359998,
          21.85204694359998,
          21.630503230663667,
          21.85204694359998,
          21.85204694359998,
          21.50633991223295,
          21.85204694359998,
          21.746703353985794,
          21.782626120654584,
          21.85204694359998,
          21.85204694359998,
          21.85204694359998,
          21.44486062789844,
          21.585002047686096,
          21.51905483641816,
          21.753657248463295,
          21.79990270175473,
          21.679291684090664,
          21.851693267590242,
          21.85204694359998,
          21.529764857200497,
          21.85204694359998,
          21.717096803088825,
          21.443555986090942,
          21.60361146786279
         ]
        },
        {
         "mode": "lines",
         "name": "Best Value",
         "type": "scatter",
         "x": [
          0,
          1,
          2,
          3,
          4,
          5,
          6,
          7,
          8,
          9,
          10,
          11,
          12,
          13,
          14,
          15,
          16,
          17,
          18,
          19,
          20,
          21,
          22,
          23,
          24,
          25,
          26,
          27,
          28,
          29,
          30,
          31,
          32,
          33,
          34,
          35,
          36,
          37,
          38,
          39,
          40,
          41,
          42,
          43,
          44,
          45,
          46,
          47,
          48,
          49,
          50,
          51,
          52,
          53,
          54,
          55,
          56,
          57,
          58,
          59,
          60,
          61,
          62,
          63,
          64,
          65,
          66,
          67,
          68,
          69,
          70,
          71,
          72,
          73,
          74,
          75,
          76,
          77,
          78,
          79,
          80,
          81,
          82,
          83,
          84,
          85,
          86,
          87,
          88,
          89,
          90,
          91,
          92,
          93,
          94,
          95,
          96,
          97,
          98,
          99,
          100,
          101,
          102,
          103,
          104,
          105,
          106,
          107,
          108,
          109,
          110,
          111,
          112,
          113,
          114,
          115,
          116,
          117,
          118,
          119,
          120,
          121,
          122,
          123,
          124,
          125,
          126,
          127,
          128,
          129,
          130,
          131,
          132,
          133,
          134,
          135,
          136,
          137,
          138,
          139,
          140,
          141,
          142,
          143,
          144,
          145,
          146,
          147,
          148,
          149,
          150,
          151,
          152,
          153,
          154,
          155,
          156,
          157,
          158,
          159,
          160,
          161,
          162,
          163,
          164,
          165,
          166,
          167,
          168,
          169,
          170,
          171,
          172,
          173,
          174,
          175,
          176,
          177,
          178,
          179,
          180,
          181,
          182,
          183,
          184,
          185,
          186,
          187,
          188,
          189,
          190,
          191,
          192,
          193,
          194,
          195,
          196,
          197,
          198,
          199,
          200,
          201,
          202,
          203,
          204,
          205,
          206,
          207,
          208,
          209,
          210,
          211,
          212,
          213,
          214,
          215,
          216,
          217,
          218,
          219,
          220,
          221,
          222,
          223,
          224,
          225,
          226,
          227,
          228,
          229,
          230,
          231,
          232,
          233,
          234,
          235,
          236,
          237,
          238,
          239,
          240,
          241,
          242,
          243,
          244,
          245,
          246,
          247,
          248,
          249,
          250,
          251,
          252,
          253,
          254,
          255,
          256,
          257,
          258,
          259,
          260,
          261,
          262,
          263,
          264,
          265,
          266,
          267,
          268,
          269,
          270,
          271,
          272,
          273,
          274,
          275,
          276,
          277,
          278,
          279,
          280,
          281,
          282,
          283,
          284,
          285,
          286,
          287,
          288,
          289,
          290,
          291,
          292,
          293,
          294,
          295,
          296,
          297,
          298,
          299,
          300,
          301,
          302,
          303,
          304,
          305,
          306,
          307,
          308,
          309,
          310,
          311,
          312,
          313,
          314,
          315,
          316,
          317,
          318,
          319,
          320,
          321,
          322,
          323,
          324,
          325,
          326,
          327,
          328,
          329,
          330,
          331,
          332,
          333,
          334,
          335,
          336,
          337,
          338,
          339,
          340,
          341,
          342,
          343,
          344,
          345,
          346,
          347,
          348,
          349,
          350,
          351,
          352,
          353,
          354,
          355,
          356,
          357,
          358,
          359,
          360,
          361,
          362,
          363,
          364,
          365,
          366,
          367,
          368,
          369,
          370,
          371,
          372,
          373,
          374,
          375,
          376,
          377,
          378,
          379,
          380,
          381,
          382,
          383,
          384,
          385,
          386,
          387,
          388,
          389,
          390,
          391,
          392,
          393,
          394,
          395,
          396,
          397,
          398,
          399,
          400,
          401,
          402,
          403,
          404,
          405,
          406,
          407,
          408,
          409,
          410,
          411,
          412,
          413,
          414,
          415,
          416,
          417,
          418,
          419,
          420,
          421,
          422,
          423,
          424,
          425,
          426,
          427,
          428,
          429,
          430,
          431,
          432,
          433,
          434,
          435,
          436,
          437,
          438,
          439,
          440,
          441,
          442,
          443,
          444,
          445,
          446,
          447,
          448,
          449,
          450,
          451,
          452,
          453,
          454,
          455,
          456,
          457,
          458,
          459,
          460,
          461,
          462,
          463,
          464,
          465,
          466,
          467,
          468,
          469,
          470,
          471,
          472,
          473,
          474,
          475,
          476,
          477,
          478,
          479,
          480,
          481,
          482,
          483,
          484,
          485,
          486,
          487,
          488,
          489,
          490,
          491,
          492,
          493,
          494,
          495,
          496,
          497,
          498,
          499
         ],
         "y": [
          21.772044205153232,
          21.772044205153232,
          21.772044205153232,
          21.772044205153232,
          21.772044205153232,
          21.772044205153232,
          21.772044205153232,
          21.772044205153232,
          21.772044205153232,
          21.66060260054689,
          21.66060260054689,
          21.570641151806484,
          21.44548032180632,
          21.44548032180632,
          21.44548032180632,
          21.44548032180632,
          21.444533786243316,
          21.444533786243316,
          21.444533786243316,
          21.444533786243316,
          21.444533786243316,
          21.444533786243316,
          21.444533786243316,
          21.444533786243316,
          21.444533786243316,
          21.444533786243316,
          21.444533786243316,
          21.444533786243316,
          21.444533786243316,
          21.444533786243316,
          21.444533786243316,
          21.444533786243316,
          21.444533786243316,
          21.444533786243316,
          21.444533786243316,
          21.444533786243316,
          21.444533786243316,
          21.444533786243316,
          21.444533786243316,
          21.444533786243316,
          21.444533786243316,
          21.444533786243316,
          21.444533786243316,
          21.444533786243316,
          21.444533786243316,
          21.444533786243316,
          21.444533786243316,
          21.444533786243316,
          21.444533786243316,
          21.444533786243316,
          21.444533786243316,
          21.444533786243316,
          21.444533786243316,
          21.444533786243316,
          21.444533786243316,
          21.44186339085904,
          21.44186339085904,
          21.44186339085904,
          21.44186339085904,
          21.44186339085904,
          21.44186339085904,
          21.44186339085904,
          21.44186339085904,
          21.44186339085904,
          21.44186339085904,
          21.44186339085904,
          21.44186339085904,
          21.44186339085904,
          21.44186339085904,
          21.44186339085904,
          21.44186339085904,
          21.44186339085904,
          21.44186339085904,
          21.44186339085904,
          21.44186339085904,
          21.44186339085904,
          21.44186339085904,
          21.44186339085904,
          21.44186339085904,
          21.44186339085904,
          21.44186339085904,
          21.44186339085904,
          21.44186339085904,
          21.44186339085904,
          21.44186339085904,
          21.44186339085904,
          21.44186339085904,
          21.44186339085904,
          21.44186339085904,
          21.44186339085904,
          21.44186339085904,
          21.44186339085904,
          21.44186339085904,
          21.44186339085904,
          21.44186339085904,
          21.44186339085904,
          21.44186339085904,
          21.44186339085904,
          21.44186339085904,
          21.44186339085904,
          21.44186339085904,
          21.44186339085904,
          21.44186339085904,
          21.44186339085904,
          21.44186339085904,
          21.44186339085904,
          21.44186339085904,
          21.44186339085904,
          21.44186339085904,
          21.44186339085904,
          21.44186339085904,
          21.44186339085904,
          21.44186339085904,
          21.44186339085904,
          21.44186339085904,
          21.44186339085904,
          21.44186339085904,
          21.44186339085904,
          21.44186339085904,
          21.44186339085904,
          21.44186339085904,
          21.44186339085904,
          21.44186339085904,
          21.44186339085904,
          21.44186339085904,
          21.44186339085904,
          21.44186339085904,
          21.44186339085904,
          21.44186339085904,
          21.44186339085904,
          21.44186339085904,
          21.44186339085904,
          21.44186339085904,
          21.44186339085904,
          21.44186339085904,
          21.44186339085904,
          21.44186339085904,
          21.44186339085904,
          21.44186339085904,
          21.44186339085904,
          21.44186339085904,
          21.44186339085904,
          21.44186339085904,
          21.44186339085904,
          21.44186339085904,
          21.44186339085904,
          21.44186339085904,
          21.44186339085904,
          21.44186339085904,
          21.44186339085904,
          21.44186339085904,
          21.44186339085904,
          21.44186339085904,
          21.44186339085904,
          21.44186339085904,
          21.44186339085904,
          21.44186339085904,
          21.44186339085904,
          21.44186339085904,
          21.44186339085904,
          21.44186339085904,
          21.44186339085904,
          21.44186339085904,
          21.44186339085904,
          21.44186339085904,
          21.44186339085904,
          21.44186339085904,
          21.44186339085904,
          21.44186339085904,
          21.44186339085904,
          21.44186339085904,
          21.44186339085904,
          21.44186339085904,
          21.44186339085904,
          21.44186339085904,
          21.44186339085904,
          21.44186339085904,
          21.44186339085904,
          21.44186339085904,
          21.44186339085904,
          21.44186339085904,
          21.44186339085904,
          21.44186339085904,
          21.44186339085904,
          21.44186339085904,
          21.44186339085904,
          21.44186339085904,
          21.44181809396735,
          21.44181809396735,
          21.44181809396735,
          21.44181809396735,
          21.44181809396735,
          21.44181809396735,
          21.44181809396735,
          21.44181809396735,
          21.44181809396735,
          21.44181809396735,
          21.44181809396735,
          21.44181809396735,
          21.44181809396735,
          21.44181809396735,
          21.44181809396735,
          21.44181809396735,
          21.44181809396735,
          21.44181809396735,
          21.44181809396735,
          21.44181809396735,
          21.44181809396735,
          21.44181809396735,
          21.44181809396735,
          21.44181809396735,
          21.44181809396735,
          21.44181809396735,
          21.44181809396735,
          21.44181809396735,
          21.44181809396735,
          21.44181809396735,
          21.44181809396735,
          21.44181809396735,
          21.44181809396735,
          21.44181809396735,
          21.44181809396735,
          21.44181809396735,
          21.44181809396735,
          21.44181809396735,
          21.44181809396735,
          21.44181809396735,
          21.44181809396735,
          21.44181809396735,
          21.44181809396735,
          21.44181809396735,
          21.44181809396735,
          21.44181809396735,
          21.44181809396735,
          21.44181809396735,
          21.44181809396735,
          21.44181809396735,
          21.44181809396735,
          21.44181809396735,
          21.44181809396735,
          21.44181809396735,
          21.44181809396735,
          21.44181809396735,
          21.44181809396735,
          21.44181809396735,
          21.44181809396735,
          21.44181809396735,
          21.44181809396735,
          21.44181809396735,
          21.44181809396735,
          21.44181809396735,
          21.44181809396735,
          21.44181809396735,
          21.44181809396735,
          21.44181809396735,
          21.44181809396735,
          21.44181809396735,
          21.44181809396735,
          21.44181809396735,
          21.44181809396735,
          21.44181809396735,
          21.44181809396735,
          21.44181809396735,
          21.44181809396735,
          21.44181809396735,
          21.44181809396735,
          21.44181809396735,
          21.44181809396735,
          21.44181809396735,
          21.44181809396735,
          21.44181809396735,
          21.44181809396735,
          21.44181809396735,
          21.44181809396735,
          21.44181809396735,
          21.44181809396735,
          21.44181809396735,
          21.44181809396735,
          21.44181809396735,
          21.44181809396735,
          21.44181809396735,
          21.44181809396735,
          21.44181809396735,
          21.44181809396735,
          21.44181809396735,
          21.44181809396735,
          21.44181809396735,
          21.44181809396735,
          21.44181809396735,
          21.44181809396735,
          21.44181809396735,
          21.44181809396735,
          21.44181809396735,
          21.44181809396735,
          21.44181809396735,
          21.44181809396735,
          21.44181809396735,
          21.44181809396735,
          21.44181809396735,
          21.44181809396735,
          21.44181809396735,
          21.44181809396735,
          21.44181809396735,
          21.44181809396735,
          21.44181809396735,
          21.44181809396735,
          21.44181809396735,
          21.44181809396735,
          21.44181809396735,
          21.44181809396735,
          21.44181809396735,
          21.44181809396735,
          21.44181809396735,
          21.44181809396735,
          21.44181809396735,
          21.44181809396735,
          21.44181809396735,
          21.44181809396735,
          21.44181809396735,
          21.44181809396735,
          21.44181809396735,
          21.44181809396735,
          21.44181809396735,
          21.44181809396735,
          21.44181809396735,
          21.44181809396735,
          21.44181809396735,
          21.44181809396735,
          21.44181809396735,
          21.44181809396735,
          21.44181809396735,
          21.44181809396735,
          21.44181809396735,
          21.44181809396735,
          21.44181809396735,
          21.44181809396735,
          21.44181809396735,
          21.44181809396735,
          21.44181809396735,
          21.44181809396735,
          21.44181809396735,
          21.44181809396735,
          21.44181809396735,
          21.44181809396735,
          21.44181809396735,
          21.44181809396735,
          21.44181809396735,
          21.44181809396735,
          21.44181809396735,
          21.44181809396735,
          21.44181809396735,
          21.44181809396735,
          21.44181809396735,
          21.44181809396735,
          21.44181809396735,
          21.44181809396735,
          21.44181809396735,
          21.44181809396735,
          21.44181809396735,
          21.44181809396735,
          21.44181809396735,
          21.44181809396735,
          21.44181809396735,
          21.44181809396735,
          21.44181809396735,
          21.44181809396735,
          21.44181809396735,
          21.44181809396735,
          21.44181809396735,
          21.44181809396735,
          21.44181809396735,
          21.44181809396735,
          21.44181809396735,
          21.44181809396735,
          21.44181809396735,
          21.44181809396735,
          21.44181809396735,
          21.44181809396735,
          21.44181809396735,
          21.44181809396735,
          21.44181809396735,
          21.44181809396735,
          21.44181809396735,
          21.44181809396735,
          21.44181809396735,
          21.44181809396735,
          21.44181809396735,
          21.44181809396735,
          21.44181809396735,
          21.44181809396735,
          21.44181809396735,
          21.44181809396735,
          21.44181809396735,
          21.44181809396735,
          21.44181809396735,
          21.44181809396735,
          21.44181809396735,
          21.44181809396735,
          21.44181809396735,
          21.44181809396735,
          21.44181809396735,
          21.44181809396735,
          21.44181809396735,
          21.44181809396735,
          21.44181809396735,
          21.44181809396735,
          21.44181809396735,
          21.44181809396735,
          21.44181809396735,
          21.44181809396735,
          21.44181809396735,
          21.44181809396735,
          21.44181809396735,
          21.44181809396735,
          21.44181809396735,
          21.44181809396735,
          21.44181809396735,
          21.44181809396735,
          21.44181809396735,
          21.44181809396735,
          21.44181809396735,
          21.44181809396735,
          21.44181809396735,
          21.44181809396735,
          21.44181809396735,
          21.44181809396735,
          21.44181809396735,
          21.44181809396735,
          21.44181809396735,
          21.44181809396735,
          21.44181809396735,
          21.44181809396735,
          21.44181809396735,
          21.44181809396735,
          21.44181809396735,
          21.44181809396735,
          21.44181809396735,
          21.44181809396735,
          21.44181809396735,
          21.44181809396735,
          21.44181809396735,
          21.44181809396735,
          21.44181809396735,
          21.44181809396735,
          21.44181809396735,
          21.44181809396735,
          21.44181809396735,
          21.44181809396735,
          21.44181809396735,
          21.44181809396735,
          21.44181809396735,
          21.44181809396735,
          21.44181809396735,
          21.44181809396735,
          21.44181809396735,
          21.44181809396735,
          21.44181809396735,
          21.44181809396735,
          21.44181809396735,
          21.44181809396735,
          21.44181809396735,
          21.44181809396735,
          21.44181809396735,
          21.44181809396735,
          21.44181809396735,
          21.44181809396735,
          21.44181809396735,
          21.44181809396735,
          21.44181809396735,
          21.44181809396735,
          21.44181809396735,
          21.44181809396735,
          21.44181809396735,
          21.44181809396735,
          21.44181809396735,
          21.44181809396735,
          21.44181809396735,
          21.44181809396735,
          21.44181809396735,
          21.44181809396735,
          21.44181809396735,
          21.44181809396735,
          21.44181809396735,
          21.44181809396735,
          21.44181809396735,
          21.44181809396735,
          21.44181809396735,
          21.44181809396735,
          21.44181809396735,
          21.44181809396735,
          21.44181809396735,
          21.44181809396735,
          21.44181809396735,
          21.44181809396735,
          21.44181809396735,
          21.44181809396735,
          21.44181809396735,
          21.44181809396735,
          21.44181809396735,
          21.44181809396735
         ]
        },
        {
         "marker": {
          "color": "#cccccc"
         },
         "mode": "markers",
         "name": "Infeasible Trial",
         "showlegend": false,
         "type": "scatter",
         "x": [],
         "y": []
        }
       ],
       "layout": {
        "template": {
         "data": {
          "bar": [
           {
            "error_x": {
             "color": "#2a3f5f"
            },
            "error_y": {
             "color": "#2a3f5f"
            },
            "marker": {
             "line": {
              "color": "#E5ECF6",
              "width": 0.5
             },
             "pattern": {
              "fillmode": "overlay",
              "size": 10,
              "solidity": 0.2
             }
            },
            "type": "bar"
           }
          ],
          "barpolar": [
           {
            "marker": {
             "line": {
              "color": "#E5ECF6",
              "width": 0.5
             },
             "pattern": {
              "fillmode": "overlay",
              "size": 10,
              "solidity": 0.2
             }
            },
            "type": "barpolar"
           }
          ],
          "carpet": [
           {
            "aaxis": {
             "endlinecolor": "#2a3f5f",
             "gridcolor": "white",
             "linecolor": "white",
             "minorgridcolor": "white",
             "startlinecolor": "#2a3f5f"
            },
            "baxis": {
             "endlinecolor": "#2a3f5f",
             "gridcolor": "white",
             "linecolor": "white",
             "minorgridcolor": "white",
             "startlinecolor": "#2a3f5f"
            },
            "type": "carpet"
           }
          ],
          "choropleth": [
           {
            "colorbar": {
             "outlinewidth": 0,
             "ticks": ""
            },
            "type": "choropleth"
           }
          ],
          "contour": [
           {
            "colorbar": {
             "outlinewidth": 0,
             "ticks": ""
            },
            "colorscale": [
             [
              0,
              "#0d0887"
             ],
             [
              0.1111111111111111,
              "#46039f"
             ],
             [
              0.2222222222222222,
              "#7201a8"
             ],
             [
              0.3333333333333333,
              "#9c179e"
             ],
             [
              0.4444444444444444,
              "#bd3786"
             ],
             [
              0.5555555555555556,
              "#d8576b"
             ],
             [
              0.6666666666666666,
              "#ed7953"
             ],
             [
              0.7777777777777778,
              "#fb9f3a"
             ],
             [
              0.8888888888888888,
              "#fdca26"
             ],
             [
              1,
              "#f0f921"
             ]
            ],
            "type": "contour"
           }
          ],
          "contourcarpet": [
           {
            "colorbar": {
             "outlinewidth": 0,
             "ticks": ""
            },
            "type": "contourcarpet"
           }
          ],
          "heatmap": [
           {
            "colorbar": {
             "outlinewidth": 0,
             "ticks": ""
            },
            "colorscale": [
             [
              0,
              "#0d0887"
             ],
             [
              0.1111111111111111,
              "#46039f"
             ],
             [
              0.2222222222222222,
              "#7201a8"
             ],
             [
              0.3333333333333333,
              "#9c179e"
             ],
             [
              0.4444444444444444,
              "#bd3786"
             ],
             [
              0.5555555555555556,
              "#d8576b"
             ],
             [
              0.6666666666666666,
              "#ed7953"
             ],
             [
              0.7777777777777778,
              "#fb9f3a"
             ],
             [
              0.8888888888888888,
              "#fdca26"
             ],
             [
              1,
              "#f0f921"
             ]
            ],
            "type": "heatmap"
           }
          ],
          "heatmapgl": [
           {
            "colorbar": {
             "outlinewidth": 0,
             "ticks": ""
            },
            "colorscale": [
             [
              0,
              "#0d0887"
             ],
             [
              0.1111111111111111,
              "#46039f"
             ],
             [
              0.2222222222222222,
              "#7201a8"
             ],
             [
              0.3333333333333333,
              "#9c179e"
             ],
             [
              0.4444444444444444,
              "#bd3786"
             ],
             [
              0.5555555555555556,
              "#d8576b"
             ],
             [
              0.6666666666666666,
              "#ed7953"
             ],
             [
              0.7777777777777778,
              "#fb9f3a"
             ],
             [
              0.8888888888888888,
              "#fdca26"
             ],
             [
              1,
              "#f0f921"
             ]
            ],
            "type": "heatmapgl"
           }
          ],
          "histogram": [
           {
            "marker": {
             "pattern": {
              "fillmode": "overlay",
              "size": 10,
              "solidity": 0.2
             }
            },
            "type": "histogram"
           }
          ],
          "histogram2d": [
           {
            "colorbar": {
             "outlinewidth": 0,
             "ticks": ""
            },
            "colorscale": [
             [
              0,
              "#0d0887"
             ],
             [
              0.1111111111111111,
              "#46039f"
             ],
             [
              0.2222222222222222,
              "#7201a8"
             ],
             [
              0.3333333333333333,
              "#9c179e"
             ],
             [
              0.4444444444444444,
              "#bd3786"
             ],
             [
              0.5555555555555556,
              "#d8576b"
             ],
             [
              0.6666666666666666,
              "#ed7953"
             ],
             [
              0.7777777777777778,
              "#fb9f3a"
             ],
             [
              0.8888888888888888,
              "#fdca26"
             ],
             [
              1,
              "#f0f921"
             ]
            ],
            "type": "histogram2d"
           }
          ],
          "histogram2dcontour": [
           {
            "colorbar": {
             "outlinewidth": 0,
             "ticks": ""
            },
            "colorscale": [
             [
              0,
              "#0d0887"
             ],
             [
              0.1111111111111111,
              "#46039f"
             ],
             [
              0.2222222222222222,
              "#7201a8"
             ],
             [
              0.3333333333333333,
              "#9c179e"
             ],
             [
              0.4444444444444444,
              "#bd3786"
             ],
             [
              0.5555555555555556,
              "#d8576b"
             ],
             [
              0.6666666666666666,
              "#ed7953"
             ],
             [
              0.7777777777777778,
              "#fb9f3a"
             ],
             [
              0.8888888888888888,
              "#fdca26"
             ],
             [
              1,
              "#f0f921"
             ]
            ],
            "type": "histogram2dcontour"
           }
          ],
          "mesh3d": [
           {
            "colorbar": {
             "outlinewidth": 0,
             "ticks": ""
            },
            "type": "mesh3d"
           }
          ],
          "parcoords": [
           {
            "line": {
             "colorbar": {
              "outlinewidth": 0,
              "ticks": ""
             }
            },
            "type": "parcoords"
           }
          ],
          "pie": [
           {
            "automargin": true,
            "type": "pie"
           }
          ],
          "scatter": [
           {
            "fillpattern": {
             "fillmode": "overlay",
             "size": 10,
             "solidity": 0.2
            },
            "type": "scatter"
           }
          ],
          "scatter3d": [
           {
            "line": {
             "colorbar": {
              "outlinewidth": 0,
              "ticks": ""
             }
            },
            "marker": {
             "colorbar": {
              "outlinewidth": 0,
              "ticks": ""
             }
            },
            "type": "scatter3d"
           }
          ],
          "scattercarpet": [
           {
            "marker": {
             "colorbar": {
              "outlinewidth": 0,
              "ticks": ""
             }
            },
            "type": "scattercarpet"
           }
          ],
          "scattergeo": [
           {
            "marker": {
             "colorbar": {
              "outlinewidth": 0,
              "ticks": ""
             }
            },
            "type": "scattergeo"
           }
          ],
          "scattergl": [
           {
            "marker": {
             "colorbar": {
              "outlinewidth": 0,
              "ticks": ""
             }
            },
            "type": "scattergl"
           }
          ],
          "scattermapbox": [
           {
            "marker": {
             "colorbar": {
              "outlinewidth": 0,
              "ticks": ""
             }
            },
            "type": "scattermapbox"
           }
          ],
          "scatterpolar": [
           {
            "marker": {
             "colorbar": {
              "outlinewidth": 0,
              "ticks": ""
             }
            },
            "type": "scatterpolar"
           }
          ],
          "scatterpolargl": [
           {
            "marker": {
             "colorbar": {
              "outlinewidth": 0,
              "ticks": ""
             }
            },
            "type": "scatterpolargl"
           }
          ],
          "scatterternary": [
           {
            "marker": {
             "colorbar": {
              "outlinewidth": 0,
              "ticks": ""
             }
            },
            "type": "scatterternary"
           }
          ],
          "surface": [
           {
            "colorbar": {
             "outlinewidth": 0,
             "ticks": ""
            },
            "colorscale": [
             [
              0,
              "#0d0887"
             ],
             [
              0.1111111111111111,
              "#46039f"
             ],
             [
              0.2222222222222222,
              "#7201a8"
             ],
             [
              0.3333333333333333,
              "#9c179e"
             ],
             [
              0.4444444444444444,
              "#bd3786"
             ],
             [
              0.5555555555555556,
              "#d8576b"
             ],
             [
              0.6666666666666666,
              "#ed7953"
             ],
             [
              0.7777777777777778,
              "#fb9f3a"
             ],
             [
              0.8888888888888888,
              "#fdca26"
             ],
             [
              1,
              "#f0f921"
             ]
            ],
            "type": "surface"
           }
          ],
          "table": [
           {
            "cells": {
             "fill": {
              "color": "#EBF0F8"
             },
             "line": {
              "color": "white"
             }
            },
            "header": {
             "fill": {
              "color": "#C8D4E3"
             },
             "line": {
              "color": "white"
             }
            },
            "type": "table"
           }
          ]
         },
         "layout": {
          "annotationdefaults": {
           "arrowcolor": "#2a3f5f",
           "arrowhead": 0,
           "arrowwidth": 1
          },
          "autotypenumbers": "strict",
          "coloraxis": {
           "colorbar": {
            "outlinewidth": 0,
            "ticks": ""
           }
          },
          "colorscale": {
           "diverging": [
            [
             0,
             "#8e0152"
            ],
            [
             0.1,
             "#c51b7d"
            ],
            [
             0.2,
             "#de77ae"
            ],
            [
             0.3,
             "#f1b6da"
            ],
            [
             0.4,
             "#fde0ef"
            ],
            [
             0.5,
             "#f7f7f7"
            ],
            [
             0.6,
             "#e6f5d0"
            ],
            [
             0.7,
             "#b8e186"
            ],
            [
             0.8,
             "#7fbc41"
            ],
            [
             0.9,
             "#4d9221"
            ],
            [
             1,
             "#276419"
            ]
           ],
           "sequential": [
            [
             0,
             "#0d0887"
            ],
            [
             0.1111111111111111,
             "#46039f"
            ],
            [
             0.2222222222222222,
             "#7201a8"
            ],
            [
             0.3333333333333333,
             "#9c179e"
            ],
            [
             0.4444444444444444,
             "#bd3786"
            ],
            [
             0.5555555555555556,
             "#d8576b"
            ],
            [
             0.6666666666666666,
             "#ed7953"
            ],
            [
             0.7777777777777778,
             "#fb9f3a"
            ],
            [
             0.8888888888888888,
             "#fdca26"
            ],
            [
             1,
             "#f0f921"
            ]
           ],
           "sequentialminus": [
            [
             0,
             "#0d0887"
            ],
            [
             0.1111111111111111,
             "#46039f"
            ],
            [
             0.2222222222222222,
             "#7201a8"
            ],
            [
             0.3333333333333333,
             "#9c179e"
            ],
            [
             0.4444444444444444,
             "#bd3786"
            ],
            [
             0.5555555555555556,
             "#d8576b"
            ],
            [
             0.6666666666666666,
             "#ed7953"
            ],
            [
             0.7777777777777778,
             "#fb9f3a"
            ],
            [
             0.8888888888888888,
             "#fdca26"
            ],
            [
             1,
             "#f0f921"
            ]
           ]
          },
          "colorway": [
           "#636efa",
           "#EF553B",
           "#00cc96",
           "#ab63fa",
           "#FFA15A",
           "#19d3f3",
           "#FF6692",
           "#B6E880",
           "#FF97FF",
           "#FECB52"
          ],
          "font": {
           "color": "#2a3f5f"
          },
          "geo": {
           "bgcolor": "white",
           "lakecolor": "white",
           "landcolor": "#E5ECF6",
           "showlakes": true,
           "showland": true,
           "subunitcolor": "white"
          },
          "hoverlabel": {
           "align": "left"
          },
          "hovermode": "closest",
          "mapbox": {
           "style": "light"
          },
          "paper_bgcolor": "white",
          "plot_bgcolor": "#E5ECF6",
          "polar": {
           "angularaxis": {
            "gridcolor": "white",
            "linecolor": "white",
            "ticks": ""
           },
           "bgcolor": "#E5ECF6",
           "radialaxis": {
            "gridcolor": "white",
            "linecolor": "white",
            "ticks": ""
           }
          },
          "scene": {
           "xaxis": {
            "backgroundcolor": "#E5ECF6",
            "gridcolor": "white",
            "gridwidth": 2,
            "linecolor": "white",
            "showbackground": true,
            "ticks": "",
            "zerolinecolor": "white"
           },
           "yaxis": {
            "backgroundcolor": "#E5ECF6",
            "gridcolor": "white",
            "gridwidth": 2,
            "linecolor": "white",
            "showbackground": true,
            "ticks": "",
            "zerolinecolor": "white"
           },
           "zaxis": {
            "backgroundcolor": "#E5ECF6",
            "gridcolor": "white",
            "gridwidth": 2,
            "linecolor": "white",
            "showbackground": true,
            "ticks": "",
            "zerolinecolor": "white"
           }
          },
          "shapedefaults": {
           "line": {
            "color": "#2a3f5f"
           }
          },
          "ternary": {
           "aaxis": {
            "gridcolor": "white",
            "linecolor": "white",
            "ticks": ""
           },
           "baxis": {
            "gridcolor": "white",
            "linecolor": "white",
            "ticks": ""
           },
           "bgcolor": "#E5ECF6",
           "caxis": {
            "gridcolor": "white",
            "linecolor": "white",
            "ticks": ""
           }
          },
          "title": {
           "x": 0.05
          },
          "xaxis": {
           "automargin": true,
           "gridcolor": "white",
           "linecolor": "white",
           "ticks": "",
           "title": {
            "standoff": 15
           },
           "zerolinecolor": "white",
           "zerolinewidth": 2
          },
          "yaxis": {
           "automargin": true,
           "gridcolor": "white",
           "linecolor": "white",
           "ticks": "",
           "title": {
            "standoff": 15
           },
           "zerolinecolor": "white",
           "zerolinewidth": 2
          }
         }
        },
        "title": {
         "text": "Optimization History Plot"
        },
        "xaxis": {
         "title": {
          "text": "Trial"
         }
        },
        "yaxis": {
         "title": {
          "text": "Objective Value"
         }
        }
       }
      }
     },
     "metadata": {},
     "output_type": "display_data"
    }
   ],
   "source": [
    "optuna.visualization.plot_optimization_history(study)"
   ]
  },
  {
   "cell_type": "code",
   "execution_count": 28,
   "metadata": {},
   "outputs": [
    {
     "data": {
      "text/plain": [
       "{'alpha': 0.10004232782398756, 'max_iter': 2559}"
      ]
     },
     "execution_count": 28,
     "metadata": {},
     "output_type": "execute_result"
    }
   ],
   "source": [
    "lasso_best_params = study.best_params\n",
    "lasso_best_params"
   ]
  },
  {
   "cell_type": "markdown",
   "metadata": {},
   "source": [
    "## Ridge"
   ]
  },
  {
   "cell_type": "code",
   "execution_count": 29,
   "metadata": {},
   "outputs": [],
   "source": [
    "def ridge_fine_tuning(trial):\n",
    "    #degree = trial.suggest_int('degree', 2,4)\n",
    "    alpha = trial.suggest_float('alpha', 0.1,5.0)\n",
    "    #l1_ratio = trial.suggest_int('l1_ratio', 1,10)\n",
    "    max_iter = trial.suggest_int('max_iter', 500,3000)\n",
    "\n",
    "    model_ridge = Ridge(alpha = alpha, max_iter = max_iter)\n",
    "    model_ridge.fit(X_train, y_train)\n",
    "\n",
    "    y_pred = model_ridge.predict(X_val)\n",
    "\n",
    "    return calculate_metrics(y_val, y_pred, 'Lasso')['RMSE']\n"
   ]
  },
  {
   "cell_type": "code",
   "execution_count": 30,
   "metadata": {},
   "outputs": [],
   "source": [
    "study = optuna.create_study(direction='minimize')\n",
    "study.optimize(ridge_fine_tuning, n_trials=500)"
   ]
  },
  {
   "cell_type": "code",
   "execution_count": 31,
   "metadata": {},
   "outputs": [
    {
     "data": {
      "application/vnd.plotly.v1+json": {
       "config": {
        "plotlyServerURL": "https://plot.ly"
       },
       "data": [
        {
         "mode": "markers",
         "name": "Objective Value",
         "type": "scatter",
         "x": [
          0,
          1,
          2,
          3,
          4,
          5,
          6,
          7,
          8,
          9,
          10,
          11,
          12,
          13,
          14,
          15,
          16,
          17,
          18,
          19,
          20,
          21,
          22,
          23,
          24,
          25,
          26,
          27,
          28,
          29,
          30,
          31,
          32,
          33,
          34,
          35,
          36,
          37,
          38,
          39,
          40,
          41,
          42,
          43,
          44,
          45,
          46,
          47,
          48,
          49,
          50,
          51,
          52,
          53,
          54,
          55,
          56,
          57,
          58,
          59,
          60,
          61,
          62,
          63,
          64,
          65,
          66,
          67,
          68,
          69,
          70,
          71,
          72,
          73,
          74,
          75,
          76,
          77,
          78,
          79,
          80,
          81,
          82,
          83,
          84,
          85,
          86,
          87,
          88,
          89,
          90,
          91,
          92,
          93,
          94,
          95,
          96,
          97,
          98,
          99,
          100,
          101,
          102,
          103,
          104,
          105,
          106,
          107,
          108,
          109,
          110,
          111,
          112,
          113,
          114,
          115,
          116,
          117,
          118,
          119,
          120,
          121,
          122,
          123,
          124,
          125,
          126,
          127,
          128,
          129,
          130,
          131,
          132,
          133,
          134,
          135,
          136,
          137,
          138,
          139,
          140,
          141,
          142,
          143,
          144,
          145,
          146,
          147,
          148,
          149,
          150,
          151,
          152,
          153,
          154,
          155,
          156,
          157,
          158,
          159,
          160,
          161,
          162,
          163,
          164,
          165,
          166,
          167,
          168,
          169,
          170,
          171,
          172,
          173,
          174,
          175,
          176,
          177,
          178,
          179,
          180,
          181,
          182,
          183,
          184,
          185,
          186,
          187,
          188,
          189,
          190,
          191,
          192,
          193,
          194,
          195,
          196,
          197,
          198,
          199,
          200,
          201,
          202,
          203,
          204,
          205,
          206,
          207,
          208,
          209,
          210,
          211,
          212,
          213,
          214,
          215,
          216,
          217,
          218,
          219,
          220,
          221,
          222,
          223,
          224,
          225,
          226,
          227,
          228,
          229,
          230,
          231,
          232,
          233,
          234,
          235,
          236,
          237,
          238,
          239,
          240,
          241,
          242,
          243,
          244,
          245,
          246,
          247,
          248,
          249,
          250,
          251,
          252,
          253,
          254,
          255,
          256,
          257,
          258,
          259,
          260,
          261,
          262,
          263,
          264,
          265,
          266,
          267,
          268,
          269,
          270,
          271,
          272,
          273,
          274,
          275,
          276,
          277,
          278,
          279,
          280,
          281,
          282,
          283,
          284,
          285,
          286,
          287,
          288,
          289,
          290,
          291,
          292,
          293,
          294,
          295,
          296,
          297,
          298,
          299,
          300,
          301,
          302,
          303,
          304,
          305,
          306,
          307,
          308,
          309,
          310,
          311,
          312,
          313,
          314,
          315,
          316,
          317,
          318,
          319,
          320,
          321,
          322,
          323,
          324,
          325,
          326,
          327,
          328,
          329,
          330,
          331,
          332,
          333,
          334,
          335,
          336,
          337,
          338,
          339,
          340,
          341,
          342,
          343,
          344,
          345,
          346,
          347,
          348,
          349,
          350,
          351,
          352,
          353,
          354,
          355,
          356,
          357,
          358,
          359,
          360,
          361,
          362,
          363,
          364,
          365,
          366,
          367,
          368,
          369,
          370,
          371,
          372,
          373,
          374,
          375,
          376,
          377,
          378,
          379,
          380,
          381,
          382,
          383,
          384,
          385,
          386,
          387,
          388,
          389,
          390,
          391,
          392,
          393,
          394,
          395,
          396,
          397,
          398,
          399,
          400,
          401,
          402,
          403,
          404,
          405,
          406,
          407,
          408,
          409,
          410,
          411,
          412,
          413,
          414,
          415,
          416,
          417,
          418,
          419,
          420,
          421,
          422,
          423,
          424,
          425,
          426,
          427,
          428,
          429,
          430,
          431,
          432,
          433,
          434,
          435,
          436,
          437,
          438,
          439,
          440,
          441,
          442,
          443,
          444,
          445,
          446,
          447,
          448,
          449,
          450,
          451,
          452,
          453,
          454,
          455,
          456,
          457,
          458,
          459,
          460,
          461,
          462,
          463,
          464,
          465,
          466,
          467,
          468,
          469,
          470,
          471,
          472,
          473,
          474,
          475,
          476,
          477,
          478,
          479,
          480,
          481,
          482,
          483,
          484,
          485,
          486,
          487,
          488,
          489,
          490,
          491,
          492,
          493,
          494,
          495,
          496,
          497,
          498,
          499
         ],
         "y": [
          21.411357142090917,
          21.41132457692199,
          21.411338854151822,
          21.41124854649065,
          21.411268961608442,
          21.41126815553482,
          21.411257279797404,
          21.411265513335618,
          21.411286757077285,
          21.411264253389163,
          21.411248096398026,
          21.411248038175405,
          21.41124772282291,
          21.411249940741328,
          21.41128512198209,
          21.411256094850483,
          21.411298821015112,
          21.411256013309313,
          21.411247521219533,
          21.41127836346815,
          21.4113013453479,
          21.41125360102501,
          21.4112480058473,
          21.41125968732169,
          21.41125275755875,
          21.41124752716782,
          21.411260810675227,
          21.41125395634142,
          21.411273270026797,
          21.411260626690982,
          21.411252848989946,
          21.411248342014083,
          21.41124748716233,
          21.411253255925388,
          21.411258653932904,
          21.411250412426078,
          21.41126305144369,
          21.411251500846223,
          21.411256949112094,
          21.411268434944105,
          21.411371155695928,
          21.411247395781988,
          21.41124770153778,
          21.41125114454723,
          21.411256070494378,
          21.411250585603266,
          21.411247729093482,
          21.41126499421333,
          21.411250374569082,
          21.41125586989741,
          21.411260214954762,
          21.411247378316908,
          21.41124994004113,
          21.411247572759066,
          21.411254539999582,
          21.41125165630107,
          21.411257727135432,
          21.41124746730874,
          21.411253803851473,
          21.4112499347286,
          21.41125516330257,
          21.411247581026764,
          21.41124742622838,
          21.41125191687321,
          21.41124937454172,
          21.41125264497251,
          21.41124958766998,
          21.411253779491176,
          21.411247490185936,
          21.411258169468802,
          21.41126227535639,
          21.4112473795268,
          21.41124913220914,
          21.411251341184723,
          21.411249791444355,
          21.411254499551713,
          21.411247471997545,
          21.41125216194235,
          21.41124738109626,
          21.41124921362995,
          21.41125682714713,
          21.411247544024175,
          21.41125182863778,
          21.411249297050375,
          21.41124900268266,
          21.41125116759927,
          21.411247410191123,
          21.41125375370941,
          21.411250942864886,
          21.411248936582982,
          21.411255163070244,
          21.4112476555911,
          21.411247509806024,
          21.411252862367927,
          21.41125056965604,
          21.411248758267902,
          21.41125064524563,
          21.41125265458883,
          21.411248775492755,
          21.41125607728317,
          21.411247380287982,
          21.41124738040911,
          21.411249944259723,
          21.411248534594698,
          21.411252123940375,
          21.411247391721012,
          21.41125058687422,
          21.411248871402535,
          21.411253576786994,
          21.41125867124133,
          21.411247428682767,
          21.411248668218057,
          21.411247447840452,
          21.411250144852,
          21.41125177247453,
          21.41124741322044,
          21.411250100545125,
          21.411254984714684,
          21.411252734718328,
          21.411248821888478,
          21.411251198850163,
          21.41124869636975,
          21.411247747547037,
          21.41124754483382,
          21.411247375936497,
          21.411249998982036,
          21.411251602999762,
          21.411249598491313,
          21.411247390147302,
          21.411254632226797,
          21.411252790216597,
          21.41124869140922,
          21.411250393107444,
          21.411247380859127,
          21.411249253770066,
          21.411271490574666,
          21.411247422097226,
          21.411251008901324,
          21.411248812459124,
          21.411249888381914,
          21.41125137425895,
          21.411247485232035,
          21.41124861253196,
          21.41124751504709,
          21.41124983554661,
          21.41124866215572,
          21.41125258105301,
          21.411247563407322,
          21.411277660501323,
          21.4112509255824,
          21.41125371088045,
          21.41124741784988,
          21.411247426802813,
          21.41124923633953,
          21.411247407350867,
          21.411249687407366,
          21.41126690892683,
          21.41124879864398,
          21.411250605571578,
          21.41124737386196,
          21.41125122047679,
          21.41124737925789,
          21.411248821586867,
          21.411247402065808,
          21.411248705567825,
          21.411249999455233,
          21.411295110309922,
          21.411252266770504,
          21.41124872770757,
          21.411324476756683,
          21.411247375188157,
          21.411249926334307,
          21.411247505088834,
          21.411247394109985,
          21.411248920227408,
          21.41125024152119,
          21.411248532767587,
          21.41126276787414,
          21.41124740278081,
          21.411251465148332,
          21.411249779492515,
          21.411247445028167,
          21.411248888097692,
          21.411248638388017,
          21.41128533841086,
          21.41124744584719,
          21.41125037847253,
          21.411248753987877,
          21.41125115271274,
          21.411247423029195,
          21.411249767584582,
          21.411247471556774,
          21.4112473768857,
          21.411248601274007,
          21.411248681889468,
          21.411249987876896,
          21.411247412518232,
          21.411252233705078,
          21.41124856789015,
          21.411249739734394,
          21.411267019709776,
          21.41124741899628,
          21.411247433345995,
          21.41124866430572,
          21.411250624761227,
          21.411247393044867,
          21.411282249111213,
          21.411260033716363,
          21.411248749582843,
          21.411264870821622,
          21.41124950387313,
          21.411248459051958,
          21.411247390887,
          21.411247412608482,
          21.411249668507164,
          21.411289647947818,
          21.411248644931263,
          21.411273215924624,
          21.411251305325596,
          21.41124737440514,
          21.41124972414118,
          21.411247395958974,
          21.4112485815945,
          21.411269507122398,
          21.411248300542336,
          21.411248411244166,
          21.4112475321547,
          21.41124742385923,
          21.411302830005642,
          21.411250216931734,
          21.411262301194952,
          21.411248628150396,
          21.411247471942712,
          21.411249451974722,
          21.411248493687026,
          21.411247433421664,
          21.41125749612983,
          21.41124739274567,
          21.4112496767208,
          21.411250936021506,
          21.411248766044064,
          21.41124741954182,
          21.411247442212208,
          21.411247409483867,
          21.411249297734557,
          21.411248632103728,
          21.41125002111859,
          21.4112488348834,
          21.4112474176534,
          21.411250518853564,
          21.411248610527416,
          21.411264466554503,
          21.411249597740078,
          21.41125896569841,
          21.41124853593853,
          21.41124748134908,
          21.411251248470972,
          21.41124871314925,
          21.411250029356225,
          21.411247500891225,
          21.411247409532614,
          21.411252748078414,
          21.411249546052797,
          21.411256429479753,
          21.411247393482764,
          21.411251038672987,
          21.411248900793215,
          21.41124739127559,
          21.41134191594302,
          21.411248666518695,
          21.41125012557118,
          21.411269054520844,
          21.41125166344662,
          21.411260158141726,
          21.411247399500063,
          21.411263022613632,
          21.41127879855858,
          21.411247376295716,
          21.411265880379446,
          21.411248821948316,
          21.411254534089068,
          21.411261480921404,
          21.411249983866544,
          21.411248597073442,
          21.411248631766654,
          21.411247393581927,
          21.411250988358912,
          21.411249479677622,
          21.411253157834285,
          21.41127044854217,
          21.411248560061154,
          21.411268301470823,
          21.411249900491498,
          21.4112484753833,
          21.411247453638452,
          21.41125182219495,
          21.411247471609716,
          21.4112748534409,
          21.411288350426105,
          21.41125002660044,
          21.41124874029049,
          21.411247399871,
          21.41125066956374,
          21.411255369873828,
          21.411311547394742,
          21.41124917206683,
          21.411248615540988,
          21.411251648438597,
          21.411247469270236,
          21.411250063685547,
          21.411281716424085,
          21.41126633050296,
          21.411248631685332,
          21.411260522145206,
          21.411252900518146,
          21.411249688340725,
          21.411247416006557,
          21.41124741687588,
          21.411248728535476,
          21.41126427889732,
          21.411276354710978,
          21.4113636035768,
          21.411250426350314,
          21.41128425894226,
          21.411271426031135,
          21.41129361200629,
          21.411248689948057,
          21.41130522606507,
          21.41124740887052,
          21.41125167586588,
          21.411249578656555,
          21.41124878297065,
          21.411247391036532,
          21.411250801330734,
          21.411249495183455,
          21.41125392707681,
          21.411321730119447,
          21.41124848753876,
          21.41124742528151,
          21.411258608086055,
          21.411279751150904,
          21.411250777726895,
          21.41133935135835,
          21.411248722992518,
          21.41127354501904,
          21.411249587534687,
          21.411252411831747,
          21.41127757279283,
          21.411286273333033,
          21.411261554069206,
          21.41124847527973,
          21.411256384147055,
          21.411249989932365,
          21.411272408474908,
          21.411247397939334,
          21.41124737467437,
          21.411248579480297,
          21.411250585218898,
          21.411248568462987,
          21.41129642546196,
          21.41125173569013,
          21.411249591226625,
          21.411247472414104,
          21.411248491815137,
          21.4112921489523,
          21.41124974511643,
          21.41125793401516,
          21.411347854643125,
          21.41124746611784,
          21.41126983853103,
          21.41125066837615,
          21.41124859996631,
          21.411254056004648,
          21.41128185470354,
          21.411247426913054,
          21.411249437269994,
          21.41125244793628,
          21.41124874210511,
          21.411250897403654,
          21.411319932451068,
          21.41124738495165,
          21.411288494341346,
          21.41125689698054,
          21.41124850106895,
          21.411266458074454,
          21.41133542819352,
          21.411247378226975,
          21.41125005986339,
          21.411247431780925,
          21.41126734218269,
          21.411249524280922,
          21.411285222906244,
          21.411248719171603,
          21.411304164443834,
          21.411251366886177,
          21.411255173937146,
          21.41124745901524,
          21.411291974904177,
          21.411369963054746,
          21.411249519310587,
          21.41128387670986,
          21.411248638491575,
          21.411313679509025,
          21.411252971119662,
          21.411247388248004,
          21.411298252364297,
          21.41124739503094,
          21.4112758327473,
          21.411250570881485,
          21.41124865296219,
          21.4112628842543,
          21.411249648778004,
          21.41133085413272,
          21.41124738217494,
          21.41126035052009,
          21.41127815533319,
          21.411264857435036,
          21.411297346847867,
          21.411251903650037,
          21.41124865797712,
          21.4112683787393,
          21.4112498682095,
          21.41124737998063,
          21.41134758588655,
          21.41124864723777,
          21.41127293287071,
          21.41125083456621,
          21.41124865783322,
          21.411270138818544,
          21.411259382933924,
          21.4112474047786,
          21.41124973065679,
          21.411248551824812,
          21.411251456875167,
          21.411248496004475,
          21.411247399289053,
          21.411293805219707,
          21.411253599378192,
          21.41128264465239,
          21.411249966820243,
          21.411309089161943,
          21.411271806746967,
          21.411289315384828,
          21.41124862985645,
          21.411250689810075,
          21.411287023375895,
          21.41126407861383,
          21.411249581156927,
          21.41124746568884,
          21.411355708053755,
          21.411317530302792,
          21.411247386554518,
          21.411300895123063,
          21.411257568790184,
          21.411248758376843,
          21.411252027460232,
          21.411249754584986,
          21.411255178376283,
          21.411305355163215,
          21.411281586406428,
          21.41124738652235,
          21.41133171690577,
          21.411323965141893,
          21.411248520225698,
          21.411273322782634,
          21.41132662856287,
          21.411275942084476,
          21.411251020541513,
          21.411309021301914,
          21.411247409856184,
          21.411249437118776,
          21.411248355919835,
          21.411250420171243,
          21.411248549821508,
          21.41127455810379,
          21.411252962706744,
          21.4112804908166,
          21.411247408503254,
          21.41127678963568,
          21.41130212258097,
          21.41124738230321,
          21.41124953367673,
          21.411286152800717,
          21.411316016734695,
          21.411248512330463,
          21.411247382585756,
          21.41125132408896,
          21.411250248210532,
          21.41124875362666,
          21.41124936728533,
          21.41127859815726,
          21.41124743664811,
          21.411264167351476,
          21.411252182768955,
          21.41128015516621,
          21.41124862644282,
          21.41125028061266,
          21.411248481341655,
          21.41124739611239,
          21.41125510748329
         ]
        },
        {
         "mode": "lines",
         "name": "Best Value",
         "type": "scatter",
         "x": [
          0,
          1,
          2,
          3,
          4,
          5,
          6,
          7,
          8,
          9,
          10,
          11,
          12,
          13,
          14,
          15,
          16,
          17,
          18,
          19,
          20,
          21,
          22,
          23,
          24,
          25,
          26,
          27,
          28,
          29,
          30,
          31,
          32,
          33,
          34,
          35,
          36,
          37,
          38,
          39,
          40,
          41,
          42,
          43,
          44,
          45,
          46,
          47,
          48,
          49,
          50,
          51,
          52,
          53,
          54,
          55,
          56,
          57,
          58,
          59,
          60,
          61,
          62,
          63,
          64,
          65,
          66,
          67,
          68,
          69,
          70,
          71,
          72,
          73,
          74,
          75,
          76,
          77,
          78,
          79,
          80,
          81,
          82,
          83,
          84,
          85,
          86,
          87,
          88,
          89,
          90,
          91,
          92,
          93,
          94,
          95,
          96,
          97,
          98,
          99,
          100,
          101,
          102,
          103,
          104,
          105,
          106,
          107,
          108,
          109,
          110,
          111,
          112,
          113,
          114,
          115,
          116,
          117,
          118,
          119,
          120,
          121,
          122,
          123,
          124,
          125,
          126,
          127,
          128,
          129,
          130,
          131,
          132,
          133,
          134,
          135,
          136,
          137,
          138,
          139,
          140,
          141,
          142,
          143,
          144,
          145,
          146,
          147,
          148,
          149,
          150,
          151,
          152,
          153,
          154,
          155,
          156,
          157,
          158,
          159,
          160,
          161,
          162,
          163,
          164,
          165,
          166,
          167,
          168,
          169,
          170,
          171,
          172,
          173,
          174,
          175,
          176,
          177,
          178,
          179,
          180,
          181,
          182,
          183,
          184,
          185,
          186,
          187,
          188,
          189,
          190,
          191,
          192,
          193,
          194,
          195,
          196,
          197,
          198,
          199,
          200,
          201,
          202,
          203,
          204,
          205,
          206,
          207,
          208,
          209,
          210,
          211,
          212,
          213,
          214,
          215,
          216,
          217,
          218,
          219,
          220,
          221,
          222,
          223,
          224,
          225,
          226,
          227,
          228,
          229,
          230,
          231,
          232,
          233,
          234,
          235,
          236,
          237,
          238,
          239,
          240,
          241,
          242,
          243,
          244,
          245,
          246,
          247,
          248,
          249,
          250,
          251,
          252,
          253,
          254,
          255,
          256,
          257,
          258,
          259,
          260,
          261,
          262,
          263,
          264,
          265,
          266,
          267,
          268,
          269,
          270,
          271,
          272,
          273,
          274,
          275,
          276,
          277,
          278,
          279,
          280,
          281,
          282,
          283,
          284,
          285,
          286,
          287,
          288,
          289,
          290,
          291,
          292,
          293,
          294,
          295,
          296,
          297,
          298,
          299,
          300,
          301,
          302,
          303,
          304,
          305,
          306,
          307,
          308,
          309,
          310,
          311,
          312,
          313,
          314,
          315,
          316,
          317,
          318,
          319,
          320,
          321,
          322,
          323,
          324,
          325,
          326,
          327,
          328,
          329,
          330,
          331,
          332,
          333,
          334,
          335,
          336,
          337,
          338,
          339,
          340,
          341,
          342,
          343,
          344,
          345,
          346,
          347,
          348,
          349,
          350,
          351,
          352,
          353,
          354,
          355,
          356,
          357,
          358,
          359,
          360,
          361,
          362,
          363,
          364,
          365,
          366,
          367,
          368,
          369,
          370,
          371,
          372,
          373,
          374,
          375,
          376,
          377,
          378,
          379,
          380,
          381,
          382,
          383,
          384,
          385,
          386,
          387,
          388,
          389,
          390,
          391,
          392,
          393,
          394,
          395,
          396,
          397,
          398,
          399,
          400,
          401,
          402,
          403,
          404,
          405,
          406,
          407,
          408,
          409,
          410,
          411,
          412,
          413,
          414,
          415,
          416,
          417,
          418,
          419,
          420,
          421,
          422,
          423,
          424,
          425,
          426,
          427,
          428,
          429,
          430,
          431,
          432,
          433,
          434,
          435,
          436,
          437,
          438,
          439,
          440,
          441,
          442,
          443,
          444,
          445,
          446,
          447,
          448,
          449,
          450,
          451,
          452,
          453,
          454,
          455,
          456,
          457,
          458,
          459,
          460,
          461,
          462,
          463,
          464,
          465,
          466,
          467,
          468,
          469,
          470,
          471,
          472,
          473,
          474,
          475,
          476,
          477,
          478,
          479,
          480,
          481,
          482,
          483,
          484,
          485,
          486,
          487,
          488,
          489,
          490,
          491,
          492,
          493,
          494,
          495,
          496,
          497,
          498,
          499
         ],
         "y": [
          21.411357142090917,
          21.41132457692199,
          21.41132457692199,
          21.41124854649065,
          21.41124854649065,
          21.41124854649065,
          21.41124854649065,
          21.41124854649065,
          21.41124854649065,
          21.41124854649065,
          21.411248096398026,
          21.411248038175405,
          21.41124772282291,
          21.41124772282291,
          21.41124772282291,
          21.41124772282291,
          21.41124772282291,
          21.41124772282291,
          21.411247521219533,
          21.411247521219533,
          21.411247521219533,
          21.411247521219533,
          21.411247521219533,
          21.411247521219533,
          21.411247521219533,
          21.411247521219533,
          21.411247521219533,
          21.411247521219533,
          21.411247521219533,
          21.411247521219533,
          21.411247521219533,
          21.411247521219533,
          21.41124748716233,
          21.41124748716233,
          21.41124748716233,
          21.41124748716233,
          21.41124748716233,
          21.41124748716233,
          21.41124748716233,
          21.41124748716233,
          21.41124748716233,
          21.411247395781988,
          21.411247395781988,
          21.411247395781988,
          21.411247395781988,
          21.411247395781988,
          21.411247395781988,
          21.411247395781988,
          21.411247395781988,
          21.411247395781988,
          21.411247395781988,
          21.411247378316908,
          21.411247378316908,
          21.411247378316908,
          21.411247378316908,
          21.411247378316908,
          21.411247378316908,
          21.411247378316908,
          21.411247378316908,
          21.411247378316908,
          21.411247378316908,
          21.411247378316908,
          21.411247378316908,
          21.411247378316908,
          21.411247378316908,
          21.411247378316908,
          21.411247378316908,
          21.411247378316908,
          21.411247378316908,
          21.411247378316908,
          21.411247378316908,
          21.411247378316908,
          21.411247378316908,
          21.411247378316908,
          21.411247378316908,
          21.411247378316908,
          21.411247378316908,
          21.411247378316908,
          21.411247378316908,
          21.411247378316908,
          21.411247378316908,
          21.411247378316908,
          21.411247378316908,
          21.411247378316908,
          21.411247378316908,
          21.411247378316908,
          21.411247378316908,
          21.411247378316908,
          21.411247378316908,
          21.411247378316908,
          21.411247378316908,
          21.411247378316908,
          21.411247378316908,
          21.411247378316908,
          21.411247378316908,
          21.411247378316908,
          21.411247378316908,
          21.411247378316908,
          21.411247378316908,
          21.411247378316908,
          21.411247378316908,
          21.411247378316908,
          21.411247378316908,
          21.411247378316908,
          21.411247378316908,
          21.411247378316908,
          21.411247378316908,
          21.411247378316908,
          21.411247378316908,
          21.411247378316908,
          21.411247378316908,
          21.411247378316908,
          21.411247378316908,
          21.411247378316908,
          21.411247378316908,
          21.411247378316908,
          21.411247378316908,
          21.411247378316908,
          21.411247378316908,
          21.411247378316908,
          21.411247378316908,
          21.411247378316908,
          21.411247378316908,
          21.411247378316908,
          21.411247375936497,
          21.411247375936497,
          21.411247375936497,
          21.411247375936497,
          21.411247375936497,
          21.411247375936497,
          21.411247375936497,
          21.411247375936497,
          21.411247375936497,
          21.411247375936497,
          21.411247375936497,
          21.411247375936497,
          21.411247375936497,
          21.411247375936497,
          21.411247375936497,
          21.411247375936497,
          21.411247375936497,
          21.411247375936497,
          21.411247375936497,
          21.411247375936497,
          21.411247375936497,
          21.411247375936497,
          21.411247375936497,
          21.411247375936497,
          21.411247375936497,
          21.411247375936497,
          21.411247375936497,
          21.411247375936497,
          21.411247375936497,
          21.411247375936497,
          21.411247375936497,
          21.411247375936497,
          21.411247375936497,
          21.411247375936497,
          21.411247375936497,
          21.41124737386196,
          21.41124737386196,
          21.41124737386196,
          21.41124737386196,
          21.41124737386196,
          21.41124737386196,
          21.41124737386196,
          21.41124737386196,
          21.41124737386196,
          21.41124737386196,
          21.41124737386196,
          21.41124737386196,
          21.41124737386196,
          21.41124737386196,
          21.41124737386196,
          21.41124737386196,
          21.41124737386196,
          21.41124737386196,
          21.41124737386196,
          21.41124737386196,
          21.41124737386196,
          21.41124737386196,
          21.41124737386196,
          21.41124737386196,
          21.41124737386196,
          21.41124737386196,
          21.41124737386196,
          21.41124737386196,
          21.41124737386196,
          21.41124737386196,
          21.41124737386196,
          21.41124737386196,
          21.41124737386196,
          21.41124737386196,
          21.41124737386196,
          21.41124737386196,
          21.41124737386196,
          21.41124737386196,
          21.41124737386196,
          21.41124737386196,
          21.41124737386196,
          21.41124737386196,
          21.41124737386196,
          21.41124737386196,
          21.41124737386196,
          21.41124737386196,
          21.41124737386196,
          21.41124737386196,
          21.41124737386196,
          21.41124737386196,
          21.41124737386196,
          21.41124737386196,
          21.41124737386196,
          21.41124737386196,
          21.41124737386196,
          21.41124737386196,
          21.41124737386196,
          21.41124737386196,
          21.41124737386196,
          21.41124737386196,
          21.41124737386196,
          21.41124737386196,
          21.41124737386196,
          21.41124737386196,
          21.41124737386196,
          21.41124737386196,
          21.41124737386196,
          21.41124737386196,
          21.41124737386196,
          21.41124737386196,
          21.41124737386196,
          21.41124737386196,
          21.41124737386196,
          21.41124737386196,
          21.41124737386196,
          21.41124737386196,
          21.41124737386196,
          21.41124737386196,
          21.41124737386196,
          21.41124737386196,
          21.41124737386196,
          21.41124737386196,
          21.41124737386196,
          21.41124737386196,
          21.41124737386196,
          21.41124737386196,
          21.41124737386196,
          21.41124737386196,
          21.41124737386196,
          21.41124737386196,
          21.41124737386196,
          21.41124737386196,
          21.41124737386196,
          21.41124737386196,
          21.41124737386196,
          21.41124737386196,
          21.41124737386196,
          21.41124737386196,
          21.41124737386196,
          21.41124737386196,
          21.41124737386196,
          21.41124737386196,
          21.41124737386196,
          21.41124737386196,
          21.41124737386196,
          21.41124737386196,
          21.41124737386196,
          21.41124737386196,
          21.41124737386196,
          21.41124737386196,
          21.41124737386196,
          21.41124737386196,
          21.41124737386196,
          21.41124737386196,
          21.41124737386196,
          21.41124737386196,
          21.41124737386196,
          21.41124737386196,
          21.41124737386196,
          21.41124737386196,
          21.41124737386196,
          21.41124737386196,
          21.41124737386196,
          21.41124737386196,
          21.41124737386196,
          21.41124737386196,
          21.41124737386196,
          21.41124737386196,
          21.41124737386196,
          21.41124737386196,
          21.41124737386196,
          21.41124737386196,
          21.41124737386196,
          21.41124737386196,
          21.41124737386196,
          21.41124737386196,
          21.41124737386196,
          21.41124737386196,
          21.41124737386196,
          21.41124737386196,
          21.41124737386196,
          21.41124737386196,
          21.41124737386196,
          21.41124737386196,
          21.41124737386196,
          21.41124737386196,
          21.41124737386196,
          21.41124737386196,
          21.41124737386196,
          21.41124737386196,
          21.41124737386196,
          21.41124737386196,
          21.41124737386196,
          21.41124737386196,
          21.41124737386196,
          21.41124737386196,
          21.41124737386196,
          21.41124737386196,
          21.41124737386196,
          21.41124737386196,
          21.41124737386196,
          21.41124737386196,
          21.41124737386196,
          21.41124737386196,
          21.41124737386196,
          21.41124737386196,
          21.41124737386196,
          21.41124737386196,
          21.41124737386196,
          21.41124737386196,
          21.41124737386196,
          21.41124737386196,
          21.41124737386196,
          21.41124737386196,
          21.41124737386196,
          21.41124737386196,
          21.41124737386196,
          21.41124737386196,
          21.41124737386196,
          21.41124737386196,
          21.41124737386196,
          21.41124737386196,
          21.41124737386196,
          21.41124737386196,
          21.41124737386196,
          21.41124737386196,
          21.41124737386196,
          21.41124737386196,
          21.41124737386196,
          21.41124737386196,
          21.41124737386196,
          21.41124737386196,
          21.41124737386196,
          21.41124737386196,
          21.41124737386196,
          21.41124737386196,
          21.41124737386196,
          21.41124737386196,
          21.41124737386196,
          21.41124737386196,
          21.41124737386196,
          21.41124737386196,
          21.41124737386196,
          21.41124737386196,
          21.41124737386196,
          21.41124737386196,
          21.41124737386196,
          21.41124737386196,
          21.41124737386196,
          21.41124737386196,
          21.41124737386196,
          21.41124737386196,
          21.41124737386196,
          21.41124737386196,
          21.41124737386196,
          21.41124737386196,
          21.41124737386196,
          21.41124737386196,
          21.41124737386196,
          21.41124737386196,
          21.41124737386196,
          21.41124737386196,
          21.41124737386196,
          21.41124737386196,
          21.41124737386196,
          21.41124737386196,
          21.41124737386196,
          21.41124737386196,
          21.41124737386196,
          21.41124737386196,
          21.41124737386196,
          21.41124737386196,
          21.41124737386196,
          21.41124737386196,
          21.41124737386196,
          21.41124737386196,
          21.41124737386196,
          21.41124737386196,
          21.41124737386196,
          21.41124737386196,
          21.41124737386196,
          21.41124737386196,
          21.41124737386196,
          21.41124737386196,
          21.41124737386196,
          21.41124737386196,
          21.41124737386196,
          21.41124737386196,
          21.41124737386196,
          21.41124737386196,
          21.41124737386196,
          21.41124737386196,
          21.41124737386196,
          21.41124737386196,
          21.41124737386196,
          21.41124737386196,
          21.41124737386196,
          21.41124737386196,
          21.41124737386196,
          21.41124737386196,
          21.41124737386196,
          21.41124737386196,
          21.41124737386196,
          21.41124737386196,
          21.41124737386196,
          21.41124737386196,
          21.41124737386196,
          21.41124737386196,
          21.41124737386196,
          21.41124737386196,
          21.41124737386196,
          21.41124737386196,
          21.41124737386196,
          21.41124737386196,
          21.41124737386196,
          21.41124737386196,
          21.41124737386196,
          21.41124737386196,
          21.41124737386196,
          21.41124737386196,
          21.41124737386196,
          21.41124737386196,
          21.41124737386196,
          21.41124737386196,
          21.41124737386196,
          21.41124737386196,
          21.41124737386196,
          21.41124737386196,
          21.41124737386196,
          21.41124737386196,
          21.41124737386196,
          21.41124737386196,
          21.41124737386196,
          21.41124737386196,
          21.41124737386196,
          21.41124737386196,
          21.41124737386196,
          21.41124737386196,
          21.41124737386196,
          21.41124737386196,
          21.41124737386196,
          21.41124737386196,
          21.41124737386196,
          21.41124737386196,
          21.41124737386196,
          21.41124737386196,
          21.41124737386196,
          21.41124737386196,
          21.41124737386196,
          21.41124737386196,
          21.41124737386196,
          21.41124737386196,
          21.41124737386196,
          21.41124737386196,
          21.41124737386196,
          21.41124737386196,
          21.41124737386196,
          21.41124737386196,
          21.41124737386196,
          21.41124737386196,
          21.41124737386196,
          21.41124737386196,
          21.41124737386196,
          21.41124737386196,
          21.41124737386196,
          21.41124737386196,
          21.41124737386196,
          21.41124737386196,
          21.41124737386196,
          21.41124737386196,
          21.41124737386196,
          21.41124737386196,
          21.41124737386196,
          21.41124737386196,
          21.41124737386196,
          21.41124737386196,
          21.41124737386196,
          21.41124737386196,
          21.41124737386196,
          21.41124737386196,
          21.41124737386196
         ]
        },
        {
         "marker": {
          "color": "#cccccc"
         },
         "mode": "markers",
         "name": "Infeasible Trial",
         "showlegend": false,
         "type": "scatter",
         "x": [],
         "y": []
        }
       ],
       "layout": {
        "template": {
         "data": {
          "bar": [
           {
            "error_x": {
             "color": "#2a3f5f"
            },
            "error_y": {
             "color": "#2a3f5f"
            },
            "marker": {
             "line": {
              "color": "#E5ECF6",
              "width": 0.5
             },
             "pattern": {
              "fillmode": "overlay",
              "size": 10,
              "solidity": 0.2
             }
            },
            "type": "bar"
           }
          ],
          "barpolar": [
           {
            "marker": {
             "line": {
              "color": "#E5ECF6",
              "width": 0.5
             },
             "pattern": {
              "fillmode": "overlay",
              "size": 10,
              "solidity": 0.2
             }
            },
            "type": "barpolar"
           }
          ],
          "carpet": [
           {
            "aaxis": {
             "endlinecolor": "#2a3f5f",
             "gridcolor": "white",
             "linecolor": "white",
             "minorgridcolor": "white",
             "startlinecolor": "#2a3f5f"
            },
            "baxis": {
             "endlinecolor": "#2a3f5f",
             "gridcolor": "white",
             "linecolor": "white",
             "minorgridcolor": "white",
             "startlinecolor": "#2a3f5f"
            },
            "type": "carpet"
           }
          ],
          "choropleth": [
           {
            "colorbar": {
             "outlinewidth": 0,
             "ticks": ""
            },
            "type": "choropleth"
           }
          ],
          "contour": [
           {
            "colorbar": {
             "outlinewidth": 0,
             "ticks": ""
            },
            "colorscale": [
             [
              0,
              "#0d0887"
             ],
             [
              0.1111111111111111,
              "#46039f"
             ],
             [
              0.2222222222222222,
              "#7201a8"
             ],
             [
              0.3333333333333333,
              "#9c179e"
             ],
             [
              0.4444444444444444,
              "#bd3786"
             ],
             [
              0.5555555555555556,
              "#d8576b"
             ],
             [
              0.6666666666666666,
              "#ed7953"
             ],
             [
              0.7777777777777778,
              "#fb9f3a"
             ],
             [
              0.8888888888888888,
              "#fdca26"
             ],
             [
              1,
              "#f0f921"
             ]
            ],
            "type": "contour"
           }
          ],
          "contourcarpet": [
           {
            "colorbar": {
             "outlinewidth": 0,
             "ticks": ""
            },
            "type": "contourcarpet"
           }
          ],
          "heatmap": [
           {
            "colorbar": {
             "outlinewidth": 0,
             "ticks": ""
            },
            "colorscale": [
             [
              0,
              "#0d0887"
             ],
             [
              0.1111111111111111,
              "#46039f"
             ],
             [
              0.2222222222222222,
              "#7201a8"
             ],
             [
              0.3333333333333333,
              "#9c179e"
             ],
             [
              0.4444444444444444,
              "#bd3786"
             ],
             [
              0.5555555555555556,
              "#d8576b"
             ],
             [
              0.6666666666666666,
              "#ed7953"
             ],
             [
              0.7777777777777778,
              "#fb9f3a"
             ],
             [
              0.8888888888888888,
              "#fdca26"
             ],
             [
              1,
              "#f0f921"
             ]
            ],
            "type": "heatmap"
           }
          ],
          "heatmapgl": [
           {
            "colorbar": {
             "outlinewidth": 0,
             "ticks": ""
            },
            "colorscale": [
             [
              0,
              "#0d0887"
             ],
             [
              0.1111111111111111,
              "#46039f"
             ],
             [
              0.2222222222222222,
              "#7201a8"
             ],
             [
              0.3333333333333333,
              "#9c179e"
             ],
             [
              0.4444444444444444,
              "#bd3786"
             ],
             [
              0.5555555555555556,
              "#d8576b"
             ],
             [
              0.6666666666666666,
              "#ed7953"
             ],
             [
              0.7777777777777778,
              "#fb9f3a"
             ],
             [
              0.8888888888888888,
              "#fdca26"
             ],
             [
              1,
              "#f0f921"
             ]
            ],
            "type": "heatmapgl"
           }
          ],
          "histogram": [
           {
            "marker": {
             "pattern": {
              "fillmode": "overlay",
              "size": 10,
              "solidity": 0.2
             }
            },
            "type": "histogram"
           }
          ],
          "histogram2d": [
           {
            "colorbar": {
             "outlinewidth": 0,
             "ticks": ""
            },
            "colorscale": [
             [
              0,
              "#0d0887"
             ],
             [
              0.1111111111111111,
              "#46039f"
             ],
             [
              0.2222222222222222,
              "#7201a8"
             ],
             [
              0.3333333333333333,
              "#9c179e"
             ],
             [
              0.4444444444444444,
              "#bd3786"
             ],
             [
              0.5555555555555556,
              "#d8576b"
             ],
             [
              0.6666666666666666,
              "#ed7953"
             ],
             [
              0.7777777777777778,
              "#fb9f3a"
             ],
             [
              0.8888888888888888,
              "#fdca26"
             ],
             [
              1,
              "#f0f921"
             ]
            ],
            "type": "histogram2d"
           }
          ],
          "histogram2dcontour": [
           {
            "colorbar": {
             "outlinewidth": 0,
             "ticks": ""
            },
            "colorscale": [
             [
              0,
              "#0d0887"
             ],
             [
              0.1111111111111111,
              "#46039f"
             ],
             [
              0.2222222222222222,
              "#7201a8"
             ],
             [
              0.3333333333333333,
              "#9c179e"
             ],
             [
              0.4444444444444444,
              "#bd3786"
             ],
             [
              0.5555555555555556,
              "#d8576b"
             ],
             [
              0.6666666666666666,
              "#ed7953"
             ],
             [
              0.7777777777777778,
              "#fb9f3a"
             ],
             [
              0.8888888888888888,
              "#fdca26"
             ],
             [
              1,
              "#f0f921"
             ]
            ],
            "type": "histogram2dcontour"
           }
          ],
          "mesh3d": [
           {
            "colorbar": {
             "outlinewidth": 0,
             "ticks": ""
            },
            "type": "mesh3d"
           }
          ],
          "parcoords": [
           {
            "line": {
             "colorbar": {
              "outlinewidth": 0,
              "ticks": ""
             }
            },
            "type": "parcoords"
           }
          ],
          "pie": [
           {
            "automargin": true,
            "type": "pie"
           }
          ],
          "scatter": [
           {
            "fillpattern": {
             "fillmode": "overlay",
             "size": 10,
             "solidity": 0.2
            },
            "type": "scatter"
           }
          ],
          "scatter3d": [
           {
            "line": {
             "colorbar": {
              "outlinewidth": 0,
              "ticks": ""
             }
            },
            "marker": {
             "colorbar": {
              "outlinewidth": 0,
              "ticks": ""
             }
            },
            "type": "scatter3d"
           }
          ],
          "scattercarpet": [
           {
            "marker": {
             "colorbar": {
              "outlinewidth": 0,
              "ticks": ""
             }
            },
            "type": "scattercarpet"
           }
          ],
          "scattergeo": [
           {
            "marker": {
             "colorbar": {
              "outlinewidth": 0,
              "ticks": ""
             }
            },
            "type": "scattergeo"
           }
          ],
          "scattergl": [
           {
            "marker": {
             "colorbar": {
              "outlinewidth": 0,
              "ticks": ""
             }
            },
            "type": "scattergl"
           }
          ],
          "scattermapbox": [
           {
            "marker": {
             "colorbar": {
              "outlinewidth": 0,
              "ticks": ""
             }
            },
            "type": "scattermapbox"
           }
          ],
          "scatterpolar": [
           {
            "marker": {
             "colorbar": {
              "outlinewidth": 0,
              "ticks": ""
             }
            },
            "type": "scatterpolar"
           }
          ],
          "scatterpolargl": [
           {
            "marker": {
             "colorbar": {
              "outlinewidth": 0,
              "ticks": ""
             }
            },
            "type": "scatterpolargl"
           }
          ],
          "scatterternary": [
           {
            "marker": {
             "colorbar": {
              "outlinewidth": 0,
              "ticks": ""
             }
            },
            "type": "scatterternary"
           }
          ],
          "surface": [
           {
            "colorbar": {
             "outlinewidth": 0,
             "ticks": ""
            },
            "colorscale": [
             [
              0,
              "#0d0887"
             ],
             [
              0.1111111111111111,
              "#46039f"
             ],
             [
              0.2222222222222222,
              "#7201a8"
             ],
             [
              0.3333333333333333,
              "#9c179e"
             ],
             [
              0.4444444444444444,
              "#bd3786"
             ],
             [
              0.5555555555555556,
              "#d8576b"
             ],
             [
              0.6666666666666666,
              "#ed7953"
             ],
             [
              0.7777777777777778,
              "#fb9f3a"
             ],
             [
              0.8888888888888888,
              "#fdca26"
             ],
             [
              1,
              "#f0f921"
             ]
            ],
            "type": "surface"
           }
          ],
          "table": [
           {
            "cells": {
             "fill": {
              "color": "#EBF0F8"
             },
             "line": {
              "color": "white"
             }
            },
            "header": {
             "fill": {
              "color": "#C8D4E3"
             },
             "line": {
              "color": "white"
             }
            },
            "type": "table"
           }
          ]
         },
         "layout": {
          "annotationdefaults": {
           "arrowcolor": "#2a3f5f",
           "arrowhead": 0,
           "arrowwidth": 1
          },
          "autotypenumbers": "strict",
          "coloraxis": {
           "colorbar": {
            "outlinewidth": 0,
            "ticks": ""
           }
          },
          "colorscale": {
           "diverging": [
            [
             0,
             "#8e0152"
            ],
            [
             0.1,
             "#c51b7d"
            ],
            [
             0.2,
             "#de77ae"
            ],
            [
             0.3,
             "#f1b6da"
            ],
            [
             0.4,
             "#fde0ef"
            ],
            [
             0.5,
             "#f7f7f7"
            ],
            [
             0.6,
             "#e6f5d0"
            ],
            [
             0.7,
             "#b8e186"
            ],
            [
             0.8,
             "#7fbc41"
            ],
            [
             0.9,
             "#4d9221"
            ],
            [
             1,
             "#276419"
            ]
           ],
           "sequential": [
            [
             0,
             "#0d0887"
            ],
            [
             0.1111111111111111,
             "#46039f"
            ],
            [
             0.2222222222222222,
             "#7201a8"
            ],
            [
             0.3333333333333333,
             "#9c179e"
            ],
            [
             0.4444444444444444,
             "#bd3786"
            ],
            [
             0.5555555555555556,
             "#d8576b"
            ],
            [
             0.6666666666666666,
             "#ed7953"
            ],
            [
             0.7777777777777778,
             "#fb9f3a"
            ],
            [
             0.8888888888888888,
             "#fdca26"
            ],
            [
             1,
             "#f0f921"
            ]
           ],
           "sequentialminus": [
            [
             0,
             "#0d0887"
            ],
            [
             0.1111111111111111,
             "#46039f"
            ],
            [
             0.2222222222222222,
             "#7201a8"
            ],
            [
             0.3333333333333333,
             "#9c179e"
            ],
            [
             0.4444444444444444,
             "#bd3786"
            ],
            [
             0.5555555555555556,
             "#d8576b"
            ],
            [
             0.6666666666666666,
             "#ed7953"
            ],
            [
             0.7777777777777778,
             "#fb9f3a"
            ],
            [
             0.8888888888888888,
             "#fdca26"
            ],
            [
             1,
             "#f0f921"
            ]
           ]
          },
          "colorway": [
           "#636efa",
           "#EF553B",
           "#00cc96",
           "#ab63fa",
           "#FFA15A",
           "#19d3f3",
           "#FF6692",
           "#B6E880",
           "#FF97FF",
           "#FECB52"
          ],
          "font": {
           "color": "#2a3f5f"
          },
          "geo": {
           "bgcolor": "white",
           "lakecolor": "white",
           "landcolor": "#E5ECF6",
           "showlakes": true,
           "showland": true,
           "subunitcolor": "white"
          },
          "hoverlabel": {
           "align": "left"
          },
          "hovermode": "closest",
          "mapbox": {
           "style": "light"
          },
          "paper_bgcolor": "white",
          "plot_bgcolor": "#E5ECF6",
          "polar": {
           "angularaxis": {
            "gridcolor": "white",
            "linecolor": "white",
            "ticks": ""
           },
           "bgcolor": "#E5ECF6",
           "radialaxis": {
            "gridcolor": "white",
            "linecolor": "white",
            "ticks": ""
           }
          },
          "scene": {
           "xaxis": {
            "backgroundcolor": "#E5ECF6",
            "gridcolor": "white",
            "gridwidth": 2,
            "linecolor": "white",
            "showbackground": true,
            "ticks": "",
            "zerolinecolor": "white"
           },
           "yaxis": {
            "backgroundcolor": "#E5ECF6",
            "gridcolor": "white",
            "gridwidth": 2,
            "linecolor": "white",
            "showbackground": true,
            "ticks": "",
            "zerolinecolor": "white"
           },
           "zaxis": {
            "backgroundcolor": "#E5ECF6",
            "gridcolor": "white",
            "gridwidth": 2,
            "linecolor": "white",
            "showbackground": true,
            "ticks": "",
            "zerolinecolor": "white"
           }
          },
          "shapedefaults": {
           "line": {
            "color": "#2a3f5f"
           }
          },
          "ternary": {
           "aaxis": {
            "gridcolor": "white",
            "linecolor": "white",
            "ticks": ""
           },
           "baxis": {
            "gridcolor": "white",
            "linecolor": "white",
            "ticks": ""
           },
           "bgcolor": "#E5ECF6",
           "caxis": {
            "gridcolor": "white",
            "linecolor": "white",
            "ticks": ""
           }
          },
          "title": {
           "x": 0.05
          },
          "xaxis": {
           "automargin": true,
           "gridcolor": "white",
           "linecolor": "white",
           "ticks": "",
           "title": {
            "standoff": 15
           },
           "zerolinecolor": "white",
           "zerolinewidth": 2
          },
          "yaxis": {
           "automargin": true,
           "gridcolor": "white",
           "linecolor": "white",
           "ticks": "",
           "title": {
            "standoff": 15
           },
           "zerolinecolor": "white",
           "zerolinewidth": 2
          }
         }
        },
        "title": {
         "text": "Optimization History Plot"
        },
        "xaxis": {
         "title": {
          "text": "Trial"
         }
        },
        "yaxis": {
         "title": {
          "text": "Objective Value"
         }
        }
       }
      }
     },
     "metadata": {},
     "output_type": "display_data"
    }
   ],
   "source": [
    "optuna.visualization.plot_optimization_history(study)"
   ]
  },
  {
   "cell_type": "code",
   "execution_count": 32,
   "metadata": {},
   "outputs": [
    {
     "data": {
      "text/plain": [
       "{'alpha': 4.999979427501249, 'max_iter': 1379}"
      ]
     },
     "execution_count": 32,
     "metadata": {},
     "output_type": "execute_result"
    }
   ],
   "source": [
    "ridge_best_params = study.best_params\n",
    "ridge_best_params"
   ]
  },
  {
   "cell_type": "code",
   "execution_count": null,
   "metadata": {},
   "outputs": [],
   "source": []
  },
  {
   "cell_type": "markdown",
   "metadata": {},
   "source": [
    "## Elastic Net"
   ]
  },
  {
   "cell_type": "code",
   "execution_count": 33,
   "metadata": {},
   "outputs": [],
   "source": [
    "def elasticnet_fine_tuning(trial):\n",
    "    #degree = trial.suggest_int('degree', 2,4)\n",
    "    alpha = trial.suggest_float('alpha', 0.1,5.0)\n",
    "    l1_ratio = trial.suggest_int('l1_ratio', 0,1)\n",
    "    max_iter = trial.suggest_int('max_iter', 500,3000)\n",
    "\n",
    "    model_elasticnet = ElasticNet(alpha=alpha, l1_ratio=l1_ratio, max_iter=max_iter)\n",
    "    model_elasticnet.fit(X_train, y_train)\n",
    "\n",
    "    y_pred = model_elasticnet.predict(X_val)\n",
    "\n",
    "    return calculate_metrics(y_val, y_pred, 'Lasso')['RMSE']\n"
   ]
  },
  {
   "cell_type": "code",
   "execution_count": 34,
   "metadata": {},
   "outputs": [],
   "source": [
    "study = optuna.create_study(direction='minimize')\n",
    "study.optimize(elasticnet_fine_tuning, n_trials=10)"
   ]
  },
  {
   "cell_type": "code",
   "execution_count": 35,
   "metadata": {},
   "outputs": [
    {
     "data": {
      "application/vnd.plotly.v1+json": {
       "config": {
        "plotlyServerURL": "https://plot.ly"
       },
       "data": [
        {
         "mode": "markers",
         "name": "Objective Value",
         "type": "scatter",
         "x": [
          0,
          1,
          2,
          3,
          4,
          5,
          6,
          7,
          8,
          9
         ],
         "y": [
          21.806225241951847,
          21.85204694359998,
          21.791255541110772,
          21.85204694359998,
          21.85204694359998,
          21.80125932952698,
          21.85204694359998,
          21.80313229523137,
          21.81379869685228,
          21.784612050580908
         ]
        },
        {
         "mode": "lines",
         "name": "Best Value",
         "type": "scatter",
         "x": [
          0,
          1,
          2,
          3,
          4,
          5,
          6,
          7,
          8,
          9
         ],
         "y": [
          21.806225241951847,
          21.806225241951847,
          21.791255541110772,
          21.791255541110772,
          21.791255541110772,
          21.791255541110772,
          21.791255541110772,
          21.791255541110772,
          21.791255541110772,
          21.784612050580908
         ]
        },
        {
         "marker": {
          "color": "#cccccc"
         },
         "mode": "markers",
         "name": "Infeasible Trial",
         "showlegend": false,
         "type": "scatter",
         "x": [],
         "y": []
        }
       ],
       "layout": {
        "template": {
         "data": {
          "bar": [
           {
            "error_x": {
             "color": "#2a3f5f"
            },
            "error_y": {
             "color": "#2a3f5f"
            },
            "marker": {
             "line": {
              "color": "#E5ECF6",
              "width": 0.5
             },
             "pattern": {
              "fillmode": "overlay",
              "size": 10,
              "solidity": 0.2
             }
            },
            "type": "bar"
           }
          ],
          "barpolar": [
           {
            "marker": {
             "line": {
              "color": "#E5ECF6",
              "width": 0.5
             },
             "pattern": {
              "fillmode": "overlay",
              "size": 10,
              "solidity": 0.2
             }
            },
            "type": "barpolar"
           }
          ],
          "carpet": [
           {
            "aaxis": {
             "endlinecolor": "#2a3f5f",
             "gridcolor": "white",
             "linecolor": "white",
             "minorgridcolor": "white",
             "startlinecolor": "#2a3f5f"
            },
            "baxis": {
             "endlinecolor": "#2a3f5f",
             "gridcolor": "white",
             "linecolor": "white",
             "minorgridcolor": "white",
             "startlinecolor": "#2a3f5f"
            },
            "type": "carpet"
           }
          ],
          "choropleth": [
           {
            "colorbar": {
             "outlinewidth": 0,
             "ticks": ""
            },
            "type": "choropleth"
           }
          ],
          "contour": [
           {
            "colorbar": {
             "outlinewidth": 0,
             "ticks": ""
            },
            "colorscale": [
             [
              0,
              "#0d0887"
             ],
             [
              0.1111111111111111,
              "#46039f"
             ],
             [
              0.2222222222222222,
              "#7201a8"
             ],
             [
              0.3333333333333333,
              "#9c179e"
             ],
             [
              0.4444444444444444,
              "#bd3786"
             ],
             [
              0.5555555555555556,
              "#d8576b"
             ],
             [
              0.6666666666666666,
              "#ed7953"
             ],
             [
              0.7777777777777778,
              "#fb9f3a"
             ],
             [
              0.8888888888888888,
              "#fdca26"
             ],
             [
              1,
              "#f0f921"
             ]
            ],
            "type": "contour"
           }
          ],
          "contourcarpet": [
           {
            "colorbar": {
             "outlinewidth": 0,
             "ticks": ""
            },
            "type": "contourcarpet"
           }
          ],
          "heatmap": [
           {
            "colorbar": {
             "outlinewidth": 0,
             "ticks": ""
            },
            "colorscale": [
             [
              0,
              "#0d0887"
             ],
             [
              0.1111111111111111,
              "#46039f"
             ],
             [
              0.2222222222222222,
              "#7201a8"
             ],
             [
              0.3333333333333333,
              "#9c179e"
             ],
             [
              0.4444444444444444,
              "#bd3786"
             ],
             [
              0.5555555555555556,
              "#d8576b"
             ],
             [
              0.6666666666666666,
              "#ed7953"
             ],
             [
              0.7777777777777778,
              "#fb9f3a"
             ],
             [
              0.8888888888888888,
              "#fdca26"
             ],
             [
              1,
              "#f0f921"
             ]
            ],
            "type": "heatmap"
           }
          ],
          "heatmapgl": [
           {
            "colorbar": {
             "outlinewidth": 0,
             "ticks": ""
            },
            "colorscale": [
             [
              0,
              "#0d0887"
             ],
             [
              0.1111111111111111,
              "#46039f"
             ],
             [
              0.2222222222222222,
              "#7201a8"
             ],
             [
              0.3333333333333333,
              "#9c179e"
             ],
             [
              0.4444444444444444,
              "#bd3786"
             ],
             [
              0.5555555555555556,
              "#d8576b"
             ],
             [
              0.6666666666666666,
              "#ed7953"
             ],
             [
              0.7777777777777778,
              "#fb9f3a"
             ],
             [
              0.8888888888888888,
              "#fdca26"
             ],
             [
              1,
              "#f0f921"
             ]
            ],
            "type": "heatmapgl"
           }
          ],
          "histogram": [
           {
            "marker": {
             "pattern": {
              "fillmode": "overlay",
              "size": 10,
              "solidity": 0.2
             }
            },
            "type": "histogram"
           }
          ],
          "histogram2d": [
           {
            "colorbar": {
             "outlinewidth": 0,
             "ticks": ""
            },
            "colorscale": [
             [
              0,
              "#0d0887"
             ],
             [
              0.1111111111111111,
              "#46039f"
             ],
             [
              0.2222222222222222,
              "#7201a8"
             ],
             [
              0.3333333333333333,
              "#9c179e"
             ],
             [
              0.4444444444444444,
              "#bd3786"
             ],
             [
              0.5555555555555556,
              "#d8576b"
             ],
             [
              0.6666666666666666,
              "#ed7953"
             ],
             [
              0.7777777777777778,
              "#fb9f3a"
             ],
             [
              0.8888888888888888,
              "#fdca26"
             ],
             [
              1,
              "#f0f921"
             ]
            ],
            "type": "histogram2d"
           }
          ],
          "histogram2dcontour": [
           {
            "colorbar": {
             "outlinewidth": 0,
             "ticks": ""
            },
            "colorscale": [
             [
              0,
              "#0d0887"
             ],
             [
              0.1111111111111111,
              "#46039f"
             ],
             [
              0.2222222222222222,
              "#7201a8"
             ],
             [
              0.3333333333333333,
              "#9c179e"
             ],
             [
              0.4444444444444444,
              "#bd3786"
             ],
             [
              0.5555555555555556,
              "#d8576b"
             ],
             [
              0.6666666666666666,
              "#ed7953"
             ],
             [
              0.7777777777777778,
              "#fb9f3a"
             ],
             [
              0.8888888888888888,
              "#fdca26"
             ],
             [
              1,
              "#f0f921"
             ]
            ],
            "type": "histogram2dcontour"
           }
          ],
          "mesh3d": [
           {
            "colorbar": {
             "outlinewidth": 0,
             "ticks": ""
            },
            "type": "mesh3d"
           }
          ],
          "parcoords": [
           {
            "line": {
             "colorbar": {
              "outlinewidth": 0,
              "ticks": ""
             }
            },
            "type": "parcoords"
           }
          ],
          "pie": [
           {
            "automargin": true,
            "type": "pie"
           }
          ],
          "scatter": [
           {
            "fillpattern": {
             "fillmode": "overlay",
             "size": 10,
             "solidity": 0.2
            },
            "type": "scatter"
           }
          ],
          "scatter3d": [
           {
            "line": {
             "colorbar": {
              "outlinewidth": 0,
              "ticks": ""
             }
            },
            "marker": {
             "colorbar": {
              "outlinewidth": 0,
              "ticks": ""
             }
            },
            "type": "scatter3d"
           }
          ],
          "scattercarpet": [
           {
            "marker": {
             "colorbar": {
              "outlinewidth": 0,
              "ticks": ""
             }
            },
            "type": "scattercarpet"
           }
          ],
          "scattergeo": [
           {
            "marker": {
             "colorbar": {
              "outlinewidth": 0,
              "ticks": ""
             }
            },
            "type": "scattergeo"
           }
          ],
          "scattergl": [
           {
            "marker": {
             "colorbar": {
              "outlinewidth": 0,
              "ticks": ""
             }
            },
            "type": "scattergl"
           }
          ],
          "scattermapbox": [
           {
            "marker": {
             "colorbar": {
              "outlinewidth": 0,
              "ticks": ""
             }
            },
            "type": "scattermapbox"
           }
          ],
          "scatterpolar": [
           {
            "marker": {
             "colorbar": {
              "outlinewidth": 0,
              "ticks": ""
             }
            },
            "type": "scatterpolar"
           }
          ],
          "scatterpolargl": [
           {
            "marker": {
             "colorbar": {
              "outlinewidth": 0,
              "ticks": ""
             }
            },
            "type": "scatterpolargl"
           }
          ],
          "scatterternary": [
           {
            "marker": {
             "colorbar": {
              "outlinewidth": 0,
              "ticks": ""
             }
            },
            "type": "scatterternary"
           }
          ],
          "surface": [
           {
            "colorbar": {
             "outlinewidth": 0,
             "ticks": ""
            },
            "colorscale": [
             [
              0,
              "#0d0887"
             ],
             [
              0.1111111111111111,
              "#46039f"
             ],
             [
              0.2222222222222222,
              "#7201a8"
             ],
             [
              0.3333333333333333,
              "#9c179e"
             ],
             [
              0.4444444444444444,
              "#bd3786"
             ],
             [
              0.5555555555555556,
              "#d8576b"
             ],
             [
              0.6666666666666666,
              "#ed7953"
             ],
             [
              0.7777777777777778,
              "#fb9f3a"
             ],
             [
              0.8888888888888888,
              "#fdca26"
             ],
             [
              1,
              "#f0f921"
             ]
            ],
            "type": "surface"
           }
          ],
          "table": [
           {
            "cells": {
             "fill": {
              "color": "#EBF0F8"
             },
             "line": {
              "color": "white"
             }
            },
            "header": {
             "fill": {
              "color": "#C8D4E3"
             },
             "line": {
              "color": "white"
             }
            },
            "type": "table"
           }
          ]
         },
         "layout": {
          "annotationdefaults": {
           "arrowcolor": "#2a3f5f",
           "arrowhead": 0,
           "arrowwidth": 1
          },
          "autotypenumbers": "strict",
          "coloraxis": {
           "colorbar": {
            "outlinewidth": 0,
            "ticks": ""
           }
          },
          "colorscale": {
           "diverging": [
            [
             0,
             "#8e0152"
            ],
            [
             0.1,
             "#c51b7d"
            ],
            [
             0.2,
             "#de77ae"
            ],
            [
             0.3,
             "#f1b6da"
            ],
            [
             0.4,
             "#fde0ef"
            ],
            [
             0.5,
             "#f7f7f7"
            ],
            [
             0.6,
             "#e6f5d0"
            ],
            [
             0.7,
             "#b8e186"
            ],
            [
             0.8,
             "#7fbc41"
            ],
            [
             0.9,
             "#4d9221"
            ],
            [
             1,
             "#276419"
            ]
           ],
           "sequential": [
            [
             0,
             "#0d0887"
            ],
            [
             0.1111111111111111,
             "#46039f"
            ],
            [
             0.2222222222222222,
             "#7201a8"
            ],
            [
             0.3333333333333333,
             "#9c179e"
            ],
            [
             0.4444444444444444,
             "#bd3786"
            ],
            [
             0.5555555555555556,
             "#d8576b"
            ],
            [
             0.6666666666666666,
             "#ed7953"
            ],
            [
             0.7777777777777778,
             "#fb9f3a"
            ],
            [
             0.8888888888888888,
             "#fdca26"
            ],
            [
             1,
             "#f0f921"
            ]
           ],
           "sequentialminus": [
            [
             0,
             "#0d0887"
            ],
            [
             0.1111111111111111,
             "#46039f"
            ],
            [
             0.2222222222222222,
             "#7201a8"
            ],
            [
             0.3333333333333333,
             "#9c179e"
            ],
            [
             0.4444444444444444,
             "#bd3786"
            ],
            [
             0.5555555555555556,
             "#d8576b"
            ],
            [
             0.6666666666666666,
             "#ed7953"
            ],
            [
             0.7777777777777778,
             "#fb9f3a"
            ],
            [
             0.8888888888888888,
             "#fdca26"
            ],
            [
             1,
             "#f0f921"
            ]
           ]
          },
          "colorway": [
           "#636efa",
           "#EF553B",
           "#00cc96",
           "#ab63fa",
           "#FFA15A",
           "#19d3f3",
           "#FF6692",
           "#B6E880",
           "#FF97FF",
           "#FECB52"
          ],
          "font": {
           "color": "#2a3f5f"
          },
          "geo": {
           "bgcolor": "white",
           "lakecolor": "white",
           "landcolor": "#E5ECF6",
           "showlakes": true,
           "showland": true,
           "subunitcolor": "white"
          },
          "hoverlabel": {
           "align": "left"
          },
          "hovermode": "closest",
          "mapbox": {
           "style": "light"
          },
          "paper_bgcolor": "white",
          "plot_bgcolor": "#E5ECF6",
          "polar": {
           "angularaxis": {
            "gridcolor": "white",
            "linecolor": "white",
            "ticks": ""
           },
           "bgcolor": "#E5ECF6",
           "radialaxis": {
            "gridcolor": "white",
            "linecolor": "white",
            "ticks": ""
           }
          },
          "scene": {
           "xaxis": {
            "backgroundcolor": "#E5ECF6",
            "gridcolor": "white",
            "gridwidth": 2,
            "linecolor": "white",
            "showbackground": true,
            "ticks": "",
            "zerolinecolor": "white"
           },
           "yaxis": {
            "backgroundcolor": "#E5ECF6",
            "gridcolor": "white",
            "gridwidth": 2,
            "linecolor": "white",
            "showbackground": true,
            "ticks": "",
            "zerolinecolor": "white"
           },
           "zaxis": {
            "backgroundcolor": "#E5ECF6",
            "gridcolor": "white",
            "gridwidth": 2,
            "linecolor": "white",
            "showbackground": true,
            "ticks": "",
            "zerolinecolor": "white"
           }
          },
          "shapedefaults": {
           "line": {
            "color": "#2a3f5f"
           }
          },
          "ternary": {
           "aaxis": {
            "gridcolor": "white",
            "linecolor": "white",
            "ticks": ""
           },
           "baxis": {
            "gridcolor": "white",
            "linecolor": "white",
            "ticks": ""
           },
           "bgcolor": "#E5ECF6",
           "caxis": {
            "gridcolor": "white",
            "linecolor": "white",
            "ticks": ""
           }
          },
          "title": {
           "x": 0.05
          },
          "xaxis": {
           "automargin": true,
           "gridcolor": "white",
           "linecolor": "white",
           "ticks": "",
           "title": {
            "standoff": 15
           },
           "zerolinecolor": "white",
           "zerolinewidth": 2
          },
          "yaxis": {
           "automargin": true,
           "gridcolor": "white",
           "linecolor": "white",
           "ticks": "",
           "title": {
            "standoff": 15
           },
           "zerolinecolor": "white",
           "zerolinewidth": 2
          }
         }
        },
        "title": {
         "text": "Optimization History Plot"
        },
        "xaxis": {
         "title": {
          "text": "Trial"
         }
        },
        "yaxis": {
         "title": {
          "text": "Objective Value"
         }
        }
       }
      }
     },
     "metadata": {},
     "output_type": "display_data"
    }
   ],
   "source": [
    "optuna.visualization.plot_optimization_history(study)"
   ]
  },
  {
   "cell_type": "code",
   "execution_count": 36,
   "metadata": {},
   "outputs": [
    {
     "data": {
      "text/plain": [
       "{'alpha': 1.3228068169885963, 'l1_ratio': 1, 'max_iter': 2450}"
      ]
     },
     "execution_count": 36,
     "metadata": {},
     "output_type": "execute_result"
    }
   ],
   "source": [
    "elastic_best_params = study.best_params\n",
    "elastic_best_params"
   ]
  },
  {
   "cell_type": "markdown",
   "metadata": {},
   "source": [
    "# All Results"
   ]
  },
  {
   "cell_type": "code",
   "execution_count": 37,
   "metadata": {},
   "outputs": [],
   "source": [
    "model_elasticnet = ElasticNet(alpha=elastic_best_params['alpha'], l1_ratio=elastic_best_params['l1_ratio'], max_iter=elastic_best_params['max_iter'])\n",
    "model_ridge = Ridge(alpha = ridge_best_params['alpha'], max_iter = ridge_best_params['max_iter'])\n",
    "model_lasso = Lasso(alpha = lasso_best_params['alpha'], max_iter = lasso_best_params['max_iter'])\n",
    "rf_model = RandomForestRegressor(n_estimators = rf_best_params['n_estimators'], max_depth=rf_best_params['max_depth'])\n",
    "dt_model = DecisionTreeRegressor(max_depth=dt_best_params['max_depth'])\n",
    "\n"
   ]
  },
  {
   "cell_type": "code",
   "execution_count": 38,
   "metadata": {},
   "outputs": [
    {
     "data": {
      "text/html": [
       "<style>#sk-container-id-1 {color: black;}#sk-container-id-1 pre{padding: 0;}#sk-container-id-1 div.sk-toggleable {background-color: white;}#sk-container-id-1 label.sk-toggleable__label {cursor: pointer;display: block;width: 100%;margin-bottom: 0;padding: 0.3em;box-sizing: border-box;text-align: center;}#sk-container-id-1 label.sk-toggleable__label-arrow:before {content: \"▸\";float: left;margin-right: 0.25em;color: #696969;}#sk-container-id-1 label.sk-toggleable__label-arrow:hover:before {color: black;}#sk-container-id-1 div.sk-estimator:hover label.sk-toggleable__label-arrow:before {color: black;}#sk-container-id-1 div.sk-toggleable__content {max-height: 0;max-width: 0;overflow: hidden;text-align: left;background-color: #f0f8ff;}#sk-container-id-1 div.sk-toggleable__content pre {margin: 0.2em;color: black;border-radius: 0.25em;background-color: #f0f8ff;}#sk-container-id-1 input.sk-toggleable__control:checked~div.sk-toggleable__content {max-height: 200px;max-width: 100%;overflow: auto;}#sk-container-id-1 input.sk-toggleable__control:checked~label.sk-toggleable__label-arrow:before {content: \"▾\";}#sk-container-id-1 div.sk-estimator input.sk-toggleable__control:checked~label.sk-toggleable__label {background-color: #d4ebff;}#sk-container-id-1 div.sk-label input.sk-toggleable__control:checked~label.sk-toggleable__label {background-color: #d4ebff;}#sk-container-id-1 input.sk-hidden--visually {border: 0;clip: rect(1px 1px 1px 1px);clip: rect(1px, 1px, 1px, 1px);height: 1px;margin: -1px;overflow: hidden;padding: 0;position: absolute;width: 1px;}#sk-container-id-1 div.sk-estimator {font-family: monospace;background-color: #f0f8ff;border: 1px dotted black;border-radius: 0.25em;box-sizing: border-box;margin-bottom: 0.5em;}#sk-container-id-1 div.sk-estimator:hover {background-color: #d4ebff;}#sk-container-id-1 div.sk-parallel-item::after {content: \"\";width: 100%;border-bottom: 1px solid gray;flex-grow: 1;}#sk-container-id-1 div.sk-label:hover label.sk-toggleable__label {background-color: #d4ebff;}#sk-container-id-1 div.sk-serial::before {content: \"\";position: absolute;border-left: 1px solid gray;box-sizing: border-box;top: 0;bottom: 0;left: 50%;z-index: 0;}#sk-container-id-1 div.sk-serial {display: flex;flex-direction: column;align-items: center;background-color: white;padding-right: 0.2em;padding-left: 0.2em;position: relative;}#sk-container-id-1 div.sk-item {position: relative;z-index: 1;}#sk-container-id-1 div.sk-parallel {display: flex;align-items: stretch;justify-content: center;background-color: white;position: relative;}#sk-container-id-1 div.sk-item::before, #sk-container-id-1 div.sk-parallel-item::before {content: \"\";position: absolute;border-left: 1px solid gray;box-sizing: border-box;top: 0;bottom: 0;left: 50%;z-index: -1;}#sk-container-id-1 div.sk-parallel-item {display: flex;flex-direction: column;z-index: 1;position: relative;background-color: white;}#sk-container-id-1 div.sk-parallel-item:first-child::after {align-self: flex-end;width: 50%;}#sk-container-id-1 div.sk-parallel-item:last-child::after {align-self: flex-start;width: 50%;}#sk-container-id-1 div.sk-parallel-item:only-child::after {width: 0;}#sk-container-id-1 div.sk-dashed-wrapped {border: 1px dashed gray;margin: 0 0.4em 0.5em 0.4em;box-sizing: border-box;padding-bottom: 0.4em;background-color: white;}#sk-container-id-1 div.sk-label label {font-family: monospace;font-weight: bold;display: inline-block;line-height: 1.2em;}#sk-container-id-1 div.sk-label-container {text-align: center;}#sk-container-id-1 div.sk-container {/* jupyter's `normalize.less` sets `[hidden] { display: none; }` but bootstrap.min.css set `[hidden] { display: none !important; }` so we also need the `!important` here to be able to override the default hidden behavior on the sphinx rendered scikit-learn.org. See: https://github.com/scikit-learn/scikit-learn/issues/21755 */display: inline-block !important;position: relative;}#sk-container-id-1 div.sk-text-repr-fallback {display: none;}</style><div id=\"sk-container-id-1\" class=\"sk-top-container\"><div class=\"sk-text-repr-fallback\"><pre>DecisionTreeRegressor(max_depth=5)</pre><b>In a Jupyter environment, please rerun this cell to show the HTML representation or trust the notebook. <br />On GitHub, the HTML representation is unable to render, please try loading this page with nbviewer.org.</b></div><div class=\"sk-container\" hidden><div class=\"sk-item\"><div class=\"sk-estimator sk-toggleable\"><input class=\"sk-toggleable__control sk-hidden--visually\" id=\"sk-estimator-id-1\" type=\"checkbox\" checked><label for=\"sk-estimator-id-1\" class=\"sk-toggleable__label sk-toggleable__label-arrow\">DecisionTreeRegressor</label><div class=\"sk-toggleable__content\"><pre>DecisionTreeRegressor(max_depth=5)</pre></div></div></div></div></div>"
      ],
      "text/plain": [
       "DecisionTreeRegressor(max_depth=5)"
      ]
     },
     "execution_count": 38,
     "metadata": {},
     "output_type": "execute_result"
    }
   ],
   "source": [
    "model_elasticnet.fit(X_train, y_train)\n",
    "model_ridge.fit(X_train, y_train)\n",
    "model_lasso.fit(X_train, y_train)\n",
    "rf_model.fit(X_train, y_train)\n",
    "dt_model.fit(X_train, y_train)"
   ]
  },
  {
   "cell_type": "code",
   "execution_count": 39,
   "metadata": {},
   "outputs": [],
   "source": [
    "model_list = [model_elasticnet, model_ridge, model_lasso, rf_model, dt_model]\n",
    "model_names = ['ElasticNet', 'Ridge', 'Lasso', 'Random Forest', 'Decision Tree']\n",
    "\n",
    "# Nos dados de Treinamento\n",
    "train_dataset = pd.DataFrame()\n",
    "test_dataset = pd.DataFrame()\n",
    "val_dataset = pd.DataFrame()"
   ]
  },
  {
   "cell_type": "code",
   "execution_count": 40,
   "metadata": {},
   "outputs": [
    {
     "data": {
      "text/html": [
       "<div>\n",
       "<style scoped>\n",
       "    .dataframe tbody tr th:only-of-type {\n",
       "        vertical-align: middle;\n",
       "    }\n",
       "\n",
       "    .dataframe tbody tr th {\n",
       "        vertical-align: top;\n",
       "    }\n",
       "\n",
       "    .dataframe thead th {\n",
       "        text-align: right;\n",
       "    }\n",
       "</style>\n",
       "<table border=\"1\" class=\"dataframe\">\n",
       "  <thead>\n",
       "    <tr style=\"text-align: right;\">\n",
       "      <th></th>\n",
       "      <th>model_name</th>\n",
       "      <th>R2</th>\n",
       "      <th>MSE</th>\n",
       "      <th>RMSE</th>\n",
       "      <th>MAE</th>\n",
       "      <th>MAPE</th>\n",
       "      <th>Dataset</th>\n",
       "    </tr>\n",
       "  </thead>\n",
       "  <tbody>\n",
       "    <tr>\n",
       "      <th>0</th>\n",
       "      <td>ElasticNet</td>\n",
       "      <td>0.005832</td>\n",
       "      <td>475.224652</td>\n",
       "      <td>21.799648</td>\n",
       "      <td>17.315087</td>\n",
       "      <td>873.812735</td>\n",
       "      <td>Train</td>\n",
       "    </tr>\n",
       "    <tr>\n",
       "      <th>0</th>\n",
       "      <td>Ridge</td>\n",
       "      <td>0.046045</td>\n",
       "      <td>456.002667</td>\n",
       "      <td>21.354219</td>\n",
       "      <td>16.998596</td>\n",
       "      <td>865.427546</td>\n",
       "      <td>Train</td>\n",
       "    </tr>\n",
       "    <tr>\n",
       "      <th>0</th>\n",
       "      <td>Lasso</td>\n",
       "      <td>0.041215</td>\n",
       "      <td>458.311099</td>\n",
       "      <td>21.408202</td>\n",
       "      <td>17.046806</td>\n",
       "      <td>866.796443</td>\n",
       "      <td>Train</td>\n",
       "    </tr>\n",
       "    <tr>\n",
       "      <th>0</th>\n",
       "      <td>Random Forest</td>\n",
       "      <td>0.903966</td>\n",
       "      <td>45.905463</td>\n",
       "      <td>6.775357</td>\n",
       "      <td>4.837067</td>\n",
       "      <td>260.748776</td>\n",
       "      <td>Train</td>\n",
       "    </tr>\n",
       "    <tr>\n",
       "      <th>0</th>\n",
       "      <td>Decision Tree</td>\n",
       "      <td>0.113523</td>\n",
       "      <td>423.747268</td>\n",
       "      <td>20.585122</td>\n",
       "      <td>16.368766</td>\n",
       "      <td>786.953603</td>\n",
       "      <td>Train</td>\n",
       "    </tr>\n",
       "  </tbody>\n",
       "</table>\n",
       "</div>"
      ],
      "text/plain": [
       "      model_name        R2         MSE       RMSE        MAE        MAPE  \\\n",
       "0     ElasticNet  0.005832  475.224652  21.799648  17.315087  873.812735   \n",
       "0          Ridge  0.046045  456.002667  21.354219  16.998596  865.427546   \n",
       "0          Lasso  0.041215  458.311099  21.408202  17.046806  866.796443   \n",
       "0  Random Forest  0.903966   45.905463   6.775357   4.837067  260.748776   \n",
       "0  Decision Tree  0.113523  423.747268  20.585122  16.368766  786.953603   \n",
       "\n",
       "  Dataset  \n",
       "0   Train  \n",
       "0   Train  \n",
       "0   Train  \n",
       "0   Train  \n",
       "0   Train  "
      ]
     },
     "execution_count": 40,
     "metadata": {},
     "output_type": "execute_result"
    }
   ],
   "source": [
    "for model, model_name in zip(model_list, model_names):\n",
    "    y_pred = model.predict(X_train)\n",
    "    results = calculate_metrics(y_train, y_pred, model_name)\n",
    "    train_dataset = pd.concat([train_dataset, pd.DataFrame([results])])\n",
    "train_dataset['Dataset'] = 'Train'\n",
    "train_dataset"
   ]
  },
  {
   "cell_type": "code",
   "execution_count": 41,
   "metadata": {},
   "outputs": [
    {
     "name": "stdout",
     "output_type": "stream",
     "text": [
      "ElasticNet\n",
      "Ridge\n",
      "Lasso\n",
      "Random Forest\n",
      "Decision Tree\n"
     ]
    },
    {
     "name": "stderr",
     "output_type": "stream",
     "text": [
      "c:\\Users\\thale\\Documents\\Estudos\\Disciplinas\\Introdução a ML\\Projeto Aluno\\env\\Lib\\site-packages\\sklearn\\base.py:464: UserWarning:\n",
      "\n",
      "X does not have valid feature names, but ElasticNet was fitted with feature names\n",
      "\n",
      "c:\\Users\\thale\\Documents\\Estudos\\Disciplinas\\Introdução a ML\\Projeto Aluno\\env\\Lib\\site-packages\\sklearn\\base.py:464: UserWarning:\n",
      "\n",
      "X does not have valid feature names, but Ridge was fitted with feature names\n",
      "\n",
      "c:\\Users\\thale\\Documents\\Estudos\\Disciplinas\\Introdução a ML\\Projeto Aluno\\env\\Lib\\site-packages\\sklearn\\base.py:464: UserWarning:\n",
      "\n",
      "X does not have valid feature names, but Lasso was fitted with feature names\n",
      "\n",
      "c:\\Users\\thale\\Documents\\Estudos\\Disciplinas\\Introdução a ML\\Projeto Aluno\\env\\Lib\\site-packages\\sklearn\\base.py:464: UserWarning:\n",
      "\n",
      "X does not have valid feature names, but RandomForestRegressor was fitted with feature names\n",
      "\n",
      "c:\\Users\\thale\\Documents\\Estudos\\Disciplinas\\Introdução a ML\\Projeto Aluno\\env\\Lib\\site-packages\\sklearn\\base.py:464: UserWarning:\n",
      "\n",
      "X does not have valid feature names, but DecisionTreeRegressor was fitted with feature names\n",
      "\n"
     ]
    },
    {
     "data": {
      "text/html": [
       "<div>\n",
       "<style scoped>\n",
       "    .dataframe tbody tr th:only-of-type {\n",
       "        vertical-align: middle;\n",
       "    }\n",
       "\n",
       "    .dataframe tbody tr th {\n",
       "        vertical-align: top;\n",
       "    }\n",
       "\n",
       "    .dataframe thead th {\n",
       "        text-align: right;\n",
       "    }\n",
       "</style>\n",
       "<table border=\"1\" class=\"dataframe\">\n",
       "  <thead>\n",
       "    <tr style=\"text-align: right;\">\n",
       "      <th></th>\n",
       "      <th>model_name</th>\n",
       "      <th>R2</th>\n",
       "      <th>MSE</th>\n",
       "      <th>RMSE</th>\n",
       "      <th>MAE</th>\n",
       "      <th>MAPE</th>\n",
       "      <th>Dataset</th>\n",
       "    </tr>\n",
       "  </thead>\n",
       "  <tbody>\n",
       "    <tr>\n",
       "      <th>0</th>\n",
       "      <td>ElasticNet</td>\n",
       "      <td>0.006162</td>\n",
       "      <td>474.569322</td>\n",
       "      <td>21.784612</td>\n",
       "      <td>17.282933</td>\n",
       "      <td>869.079029</td>\n",
       "      <td>Validation</td>\n",
       "    </tr>\n",
       "    <tr>\n",
       "      <th>0</th>\n",
       "      <td>Ridge</td>\n",
       "      <td>0.039936</td>\n",
       "      <td>458.441514</td>\n",
       "      <td>21.411247</td>\n",
       "      <td>17.038532</td>\n",
       "      <td>868.191846</td>\n",
       "      <td>Validation</td>\n",
       "    </tr>\n",
       "    <tr>\n",
       "      <th>0</th>\n",
       "      <td>Lasso</td>\n",
       "      <td>0.037193</td>\n",
       "      <td>459.751563</td>\n",
       "      <td>21.441818</td>\n",
       "      <td>17.047462</td>\n",
       "      <td>868.689804</td>\n",
       "      <td>Validation</td>\n",
       "    </tr>\n",
       "    <tr>\n",
       "      <th>0</th>\n",
       "      <td>Random Forest</td>\n",
       "      <td>0.331565</td>\n",
       "      <td>319.185493</td>\n",
       "      <td>17.865763</td>\n",
       "      <td>13.016816</td>\n",
       "      <td>704.813992</td>\n",
       "      <td>Validation</td>\n",
       "    </tr>\n",
       "    <tr>\n",
       "      <th>0</th>\n",
       "      <td>Decision Tree</td>\n",
       "      <td>0.063559</td>\n",
       "      <td>447.161319</td>\n",
       "      <td>21.146189</td>\n",
       "      <td>16.843452</td>\n",
       "      <td>839.577848</td>\n",
       "      <td>Validation</td>\n",
       "    </tr>\n",
       "  </tbody>\n",
       "</table>\n",
       "</div>"
      ],
      "text/plain": [
       "      model_name        R2         MSE       RMSE        MAE        MAPE  \\\n",
       "0     ElasticNet  0.006162  474.569322  21.784612  17.282933  869.079029   \n",
       "0          Ridge  0.039936  458.441514  21.411247  17.038532  868.191846   \n",
       "0          Lasso  0.037193  459.751563  21.441818  17.047462  868.689804   \n",
       "0  Random Forest  0.331565  319.185493  17.865763  13.016816  704.813992   \n",
       "0  Decision Tree  0.063559  447.161319  21.146189  16.843452  839.577848   \n",
       "\n",
       "      Dataset  \n",
       "0  Validation  \n",
       "0  Validation  \n",
       "0  Validation  \n",
       "0  Validation  \n",
       "0  Validation  "
      ]
     },
     "execution_count": 41,
     "metadata": {},
     "output_type": "execute_result"
    }
   ],
   "source": [
    "# Nos dados de Validation\n",
    "for model, model_name in zip(model_list, model_names):\n",
    "    print(model_name)\n",
    "    y_pred = model.predict(np.array(X_val))\n",
    "    results = calculate_metrics(y_val, y_pred, model_name)\n",
    "    val_dataset = pd.concat([val_dataset, pd.DataFrame([results])])\n",
    "val_dataset['Dataset'] = 'Validation'\n",
    "val_dataset"
   ]
  },
  {
   "cell_type": "code",
   "execution_count": 42,
   "metadata": {},
   "outputs": [
    {
     "name": "stdout",
     "output_type": "stream",
     "text": [
      "ElasticNet\n",
      "Ridge\n",
      "Lasso\n",
      "Random Forest\n"
     ]
    },
    {
     "name": "stderr",
     "output_type": "stream",
     "text": [
      "c:\\Users\\thale\\Documents\\Estudos\\Disciplinas\\Introdução a ML\\Projeto Aluno\\env\\Lib\\site-packages\\sklearn\\base.py:464: UserWarning:\n",
      "\n",
      "X does not have valid feature names, but ElasticNet was fitted with feature names\n",
      "\n",
      "c:\\Users\\thale\\Documents\\Estudos\\Disciplinas\\Introdução a ML\\Projeto Aluno\\env\\Lib\\site-packages\\sklearn\\base.py:464: UserWarning:\n",
      "\n",
      "X does not have valid feature names, but Ridge was fitted with feature names\n",
      "\n",
      "c:\\Users\\thale\\Documents\\Estudos\\Disciplinas\\Introdução a ML\\Projeto Aluno\\env\\Lib\\site-packages\\sklearn\\base.py:464: UserWarning:\n",
      "\n",
      "X does not have valid feature names, but Lasso was fitted with feature names\n",
      "\n",
      "c:\\Users\\thale\\Documents\\Estudos\\Disciplinas\\Introdução a ML\\Projeto Aluno\\env\\Lib\\site-packages\\sklearn\\base.py:464: UserWarning:\n",
      "\n",
      "X does not have valid feature names, but RandomForestRegressor was fitted with feature names\n",
      "\n"
     ]
    },
    {
     "name": "stdout",
     "output_type": "stream",
     "text": [
      "Decision Tree\n"
     ]
    },
    {
     "name": "stderr",
     "output_type": "stream",
     "text": [
      "c:\\Users\\thale\\Documents\\Estudos\\Disciplinas\\Introdução a ML\\Projeto Aluno\\env\\Lib\\site-packages\\sklearn\\base.py:464: UserWarning:\n",
      "\n",
      "X does not have valid feature names, but DecisionTreeRegressor was fitted with feature names\n",
      "\n"
     ]
    },
    {
     "data": {
      "text/html": [
       "<div>\n",
       "<style scoped>\n",
       "    .dataframe tbody tr th:only-of-type {\n",
       "        vertical-align: middle;\n",
       "    }\n",
       "\n",
       "    .dataframe tbody tr th {\n",
       "        vertical-align: top;\n",
       "    }\n",
       "\n",
       "    .dataframe thead th {\n",
       "        text-align: right;\n",
       "    }\n",
       "</style>\n",
       "<table border=\"1\" class=\"dataframe\">\n",
       "  <thead>\n",
       "    <tr style=\"text-align: right;\">\n",
       "      <th></th>\n",
       "      <th>model_name</th>\n",
       "      <th>R2</th>\n",
       "      <th>MSE</th>\n",
       "      <th>RMSE</th>\n",
       "      <th>MAE</th>\n",
       "      <th>MAPE</th>\n",
       "      <th>Dataset</th>\n",
       "    </tr>\n",
       "  </thead>\n",
       "  <tbody>\n",
       "    <tr>\n",
       "      <th>0</th>\n",
       "      <td>ElasticNet</td>\n",
       "      <td>0.005970</td>\n",
       "      <td>483.994404</td>\n",
       "      <td>21.999873</td>\n",
       "      <td>17.489541</td>\n",
       "      <td>874.224401</td>\n",
       "      <td>Test</td>\n",
       "    </tr>\n",
       "    <tr>\n",
       "      <th>0</th>\n",
       "      <td>Ridge</td>\n",
       "      <td>0.052265</td>\n",
       "      <td>461.452970</td>\n",
       "      <td>21.481456</td>\n",
       "      <td>17.128819</td>\n",
       "      <td>852.645702</td>\n",
       "      <td>Test</td>\n",
       "    </tr>\n",
       "    <tr>\n",
       "      <th>0</th>\n",
       "      <td>Lasso</td>\n",
       "      <td>0.044723</td>\n",
       "      <td>465.125274</td>\n",
       "      <td>21.566763</td>\n",
       "      <td>17.175636</td>\n",
       "      <td>859.296661</td>\n",
       "      <td>Test</td>\n",
       "    </tr>\n",
       "    <tr>\n",
       "      <th>0</th>\n",
       "      <td>Random Forest</td>\n",
       "      <td>0.351922</td>\n",
       "      <td>315.549949</td>\n",
       "      <td>17.763726</td>\n",
       "      <td>13.012314</td>\n",
       "      <td>652.351427</td>\n",
       "      <td>Test</td>\n",
       "    </tr>\n",
       "    <tr>\n",
       "      <th>0</th>\n",
       "      <td>Decision Tree</td>\n",
       "      <td>0.072181</td>\n",
       "      <td>451.755789</td>\n",
       "      <td>21.254547</td>\n",
       "      <td>17.010757</td>\n",
       "      <td>783.395225</td>\n",
       "      <td>Test</td>\n",
       "    </tr>\n",
       "  </tbody>\n",
       "</table>\n",
       "</div>"
      ],
      "text/plain": [
       "      model_name        R2         MSE       RMSE        MAE        MAPE  \\\n",
       "0     ElasticNet  0.005970  483.994404  21.999873  17.489541  874.224401   \n",
       "0          Ridge  0.052265  461.452970  21.481456  17.128819  852.645702   \n",
       "0          Lasso  0.044723  465.125274  21.566763  17.175636  859.296661   \n",
       "0  Random Forest  0.351922  315.549949  17.763726  13.012314  652.351427   \n",
       "0  Decision Tree  0.072181  451.755789  21.254547  17.010757  783.395225   \n",
       "\n",
       "  Dataset  \n",
       "0    Test  \n",
       "0    Test  \n",
       "0    Test  \n",
       "0    Test  \n",
       "0    Test  "
      ]
     },
     "execution_count": 42,
     "metadata": {},
     "output_type": "execute_result"
    }
   ],
   "source": [
    "for model, model_name in zip(model_list, model_names):\n",
    "    print(model_name)\n",
    "    y_pred = model.predict(np.array(X_test))\n",
    "    results = calculate_metrics(y_test, y_pred, model_name)\n",
    "    test_dataset = pd.concat([test_dataset, pd.DataFrame([results])])\n",
    "test_dataset['Dataset'] = 'Test'\n",
    "test_dataset"
   ]
  },
  {
   "cell_type": "code",
   "execution_count": null,
   "metadata": {},
   "outputs": [],
   "source": []
  },
  {
   "cell_type": "markdown",
   "metadata": {},
   "source": [
    "# Join Results"
   ]
  },
  {
   "cell_type": "code",
   "execution_count": 43,
   "metadata": {},
   "outputs": [
    {
     "data": {
      "text/html": [
       "<div>\n",
       "<style scoped>\n",
       "    .dataframe tbody tr th:only-of-type {\n",
       "        vertical-align: middle;\n",
       "    }\n",
       "\n",
       "    .dataframe tbody tr th {\n",
       "        vertical-align: top;\n",
       "    }\n",
       "\n",
       "    .dataframe thead th {\n",
       "        text-align: right;\n",
       "    }\n",
       "</style>\n",
       "<table border=\"1\" class=\"dataframe\">\n",
       "  <thead>\n",
       "    <tr style=\"text-align: right;\">\n",
       "      <th></th>\n",
       "      <th>model_name</th>\n",
       "      <th>R2</th>\n",
       "      <th>MSE</th>\n",
       "      <th>RMSE</th>\n",
       "      <th>MAE</th>\n",
       "      <th>MAPE</th>\n",
       "      <th>Dataset</th>\n",
       "    </tr>\n",
       "  </thead>\n",
       "  <tbody>\n",
       "    <tr>\n",
       "      <th>0</th>\n",
       "      <td>ElasticNet</td>\n",
       "      <td>0.005832</td>\n",
       "      <td>475.224652</td>\n",
       "      <td>21.799648</td>\n",
       "      <td>17.315087</td>\n",
       "      <td>873.812735</td>\n",
       "      <td>Train</td>\n",
       "    </tr>\n",
       "    <tr>\n",
       "      <th>0</th>\n",
       "      <td>Ridge</td>\n",
       "      <td>0.046045</td>\n",
       "      <td>456.002667</td>\n",
       "      <td>21.354219</td>\n",
       "      <td>16.998596</td>\n",
       "      <td>865.427546</td>\n",
       "      <td>Train</td>\n",
       "    </tr>\n",
       "    <tr>\n",
       "      <th>0</th>\n",
       "      <td>Lasso</td>\n",
       "      <td>0.041215</td>\n",
       "      <td>458.311099</td>\n",
       "      <td>21.408202</td>\n",
       "      <td>17.046806</td>\n",
       "      <td>866.796443</td>\n",
       "      <td>Train</td>\n",
       "    </tr>\n",
       "    <tr>\n",
       "      <th>0</th>\n",
       "      <td>Random Forest</td>\n",
       "      <td>0.903966</td>\n",
       "      <td>45.905463</td>\n",
       "      <td>6.775357</td>\n",
       "      <td>4.837067</td>\n",
       "      <td>260.748776</td>\n",
       "      <td>Train</td>\n",
       "    </tr>\n",
       "    <tr>\n",
       "      <th>0</th>\n",
       "      <td>Decision Tree</td>\n",
       "      <td>0.113523</td>\n",
       "      <td>423.747268</td>\n",
       "      <td>20.585122</td>\n",
       "      <td>16.368766</td>\n",
       "      <td>786.953603</td>\n",
       "      <td>Train</td>\n",
       "    </tr>\n",
       "    <tr>\n",
       "      <th>0</th>\n",
       "      <td>ElasticNet</td>\n",
       "      <td>0.006162</td>\n",
       "      <td>474.569322</td>\n",
       "      <td>21.784612</td>\n",
       "      <td>17.282933</td>\n",
       "      <td>869.079029</td>\n",
       "      <td>Validation</td>\n",
       "    </tr>\n",
       "    <tr>\n",
       "      <th>0</th>\n",
       "      <td>Ridge</td>\n",
       "      <td>0.039936</td>\n",
       "      <td>458.441514</td>\n",
       "      <td>21.411247</td>\n",
       "      <td>17.038532</td>\n",
       "      <td>868.191846</td>\n",
       "      <td>Validation</td>\n",
       "    </tr>\n",
       "    <tr>\n",
       "      <th>0</th>\n",
       "      <td>Lasso</td>\n",
       "      <td>0.037193</td>\n",
       "      <td>459.751563</td>\n",
       "      <td>21.441818</td>\n",
       "      <td>17.047462</td>\n",
       "      <td>868.689804</td>\n",
       "      <td>Validation</td>\n",
       "    </tr>\n",
       "    <tr>\n",
       "      <th>0</th>\n",
       "      <td>Random Forest</td>\n",
       "      <td>0.331565</td>\n",
       "      <td>319.185493</td>\n",
       "      <td>17.865763</td>\n",
       "      <td>13.016816</td>\n",
       "      <td>704.813992</td>\n",
       "      <td>Validation</td>\n",
       "    </tr>\n",
       "    <tr>\n",
       "      <th>0</th>\n",
       "      <td>Decision Tree</td>\n",
       "      <td>0.063559</td>\n",
       "      <td>447.161319</td>\n",
       "      <td>21.146189</td>\n",
       "      <td>16.843452</td>\n",
       "      <td>839.577848</td>\n",
       "      <td>Validation</td>\n",
       "    </tr>\n",
       "    <tr>\n",
       "      <th>0</th>\n",
       "      <td>ElasticNet</td>\n",
       "      <td>0.005970</td>\n",
       "      <td>483.994404</td>\n",
       "      <td>21.999873</td>\n",
       "      <td>17.489541</td>\n",
       "      <td>874.224401</td>\n",
       "      <td>Test</td>\n",
       "    </tr>\n",
       "    <tr>\n",
       "      <th>0</th>\n",
       "      <td>Ridge</td>\n",
       "      <td>0.052265</td>\n",
       "      <td>461.452970</td>\n",
       "      <td>21.481456</td>\n",
       "      <td>17.128819</td>\n",
       "      <td>852.645702</td>\n",
       "      <td>Test</td>\n",
       "    </tr>\n",
       "    <tr>\n",
       "      <th>0</th>\n",
       "      <td>Lasso</td>\n",
       "      <td>0.044723</td>\n",
       "      <td>465.125274</td>\n",
       "      <td>21.566763</td>\n",
       "      <td>17.175636</td>\n",
       "      <td>859.296661</td>\n",
       "      <td>Test</td>\n",
       "    </tr>\n",
       "    <tr>\n",
       "      <th>0</th>\n",
       "      <td>Random Forest</td>\n",
       "      <td>0.351922</td>\n",
       "      <td>315.549949</td>\n",
       "      <td>17.763726</td>\n",
       "      <td>13.012314</td>\n",
       "      <td>652.351427</td>\n",
       "      <td>Test</td>\n",
       "    </tr>\n",
       "    <tr>\n",
       "      <th>0</th>\n",
       "      <td>Decision Tree</td>\n",
       "      <td>0.072181</td>\n",
       "      <td>451.755789</td>\n",
       "      <td>21.254547</td>\n",
       "      <td>17.010757</td>\n",
       "      <td>783.395225</td>\n",
       "      <td>Test</td>\n",
       "    </tr>\n",
       "  </tbody>\n",
       "</table>\n",
       "</div>"
      ],
      "text/plain": [
       "      model_name        R2         MSE       RMSE        MAE        MAPE  \\\n",
       "0     ElasticNet  0.005832  475.224652  21.799648  17.315087  873.812735   \n",
       "0          Ridge  0.046045  456.002667  21.354219  16.998596  865.427546   \n",
       "0          Lasso  0.041215  458.311099  21.408202  17.046806  866.796443   \n",
       "0  Random Forest  0.903966   45.905463   6.775357   4.837067  260.748776   \n",
       "0  Decision Tree  0.113523  423.747268  20.585122  16.368766  786.953603   \n",
       "0     ElasticNet  0.006162  474.569322  21.784612  17.282933  869.079029   \n",
       "0          Ridge  0.039936  458.441514  21.411247  17.038532  868.191846   \n",
       "0          Lasso  0.037193  459.751563  21.441818  17.047462  868.689804   \n",
       "0  Random Forest  0.331565  319.185493  17.865763  13.016816  704.813992   \n",
       "0  Decision Tree  0.063559  447.161319  21.146189  16.843452  839.577848   \n",
       "0     ElasticNet  0.005970  483.994404  21.999873  17.489541  874.224401   \n",
       "0          Ridge  0.052265  461.452970  21.481456  17.128819  852.645702   \n",
       "0          Lasso  0.044723  465.125274  21.566763  17.175636  859.296661   \n",
       "0  Random Forest  0.351922  315.549949  17.763726  13.012314  652.351427   \n",
       "0  Decision Tree  0.072181  451.755789  21.254547  17.010757  783.395225   \n",
       "\n",
       "      Dataset  \n",
       "0       Train  \n",
       "0       Train  \n",
       "0       Train  \n",
       "0       Train  \n",
       "0       Train  \n",
       "0  Validation  \n",
       "0  Validation  \n",
       "0  Validation  \n",
       "0  Validation  \n",
       "0  Validation  \n",
       "0        Test  \n",
       "0        Test  \n",
       "0        Test  \n",
       "0        Test  \n",
       "0        Test  "
      ]
     },
     "execution_count": 43,
     "metadata": {},
     "output_type": "execute_result"
    }
   ],
   "source": [
    "full_results = pd.concat([train_dataset, val_dataset, test_dataset])\n",
    "full_results"
   ]
  },
  {
   "cell_type": "markdown",
   "metadata": {},
   "source": [
    "## Comparing Performance"
   ]
  },
  {
   "cell_type": "code",
   "execution_count": 44,
   "metadata": {},
   "outputs": [],
   "source": [
    "list_datasets = np.unique(full_results['Dataset'])\n",
    "for i in list_datasets:\n",
    "    subset = full_results.loc[full_results['Dataset'] == i]"
   ]
  },
  {
   "cell_type": "code",
   "execution_count": 47,
   "metadata": {},
   "outputs": [
    {
     "data": {
      "text/html": [
       "<div>\n",
       "<style scoped>\n",
       "    .dataframe tbody tr th:only-of-type {\n",
       "        vertical-align: middle;\n",
       "    }\n",
       "\n",
       "    .dataframe tbody tr th {\n",
       "        vertical-align: top;\n",
       "    }\n",
       "\n",
       "    .dataframe thead th {\n",
       "        text-align: right;\n",
       "    }\n",
       "</style>\n",
       "<table border=\"1\" class=\"dataframe\">\n",
       "  <thead>\n",
       "    <tr style=\"text-align: right;\">\n",
       "      <th></th>\n",
       "      <th>model_name</th>\n",
       "      <th>R2</th>\n",
       "      <th>MSE</th>\n",
       "      <th>RMSE</th>\n",
       "      <th>MAE</th>\n",
       "      <th>MAPE</th>\n",
       "      <th>Dataset</th>\n",
       "    </tr>\n",
       "  </thead>\n",
       "  <tbody>\n",
       "    <tr>\n",
       "      <th>0</th>\n",
       "      <td>ElasticNet</td>\n",
       "      <td>0.006162</td>\n",
       "      <td>474.569322</td>\n",
       "      <td>21.784612</td>\n",
       "      <td>17.282933</td>\n",
       "      <td>869.079029</td>\n",
       "      <td>Validation</td>\n",
       "    </tr>\n",
       "    <tr>\n",
       "      <th>0</th>\n",
       "      <td>Ridge</td>\n",
       "      <td>0.039936</td>\n",
       "      <td>458.441514</td>\n",
       "      <td>21.411247</td>\n",
       "      <td>17.038532</td>\n",
       "      <td>868.191846</td>\n",
       "      <td>Validation</td>\n",
       "    </tr>\n",
       "    <tr>\n",
       "      <th>0</th>\n",
       "      <td>Lasso</td>\n",
       "      <td>0.037193</td>\n",
       "      <td>459.751563</td>\n",
       "      <td>21.441818</td>\n",
       "      <td>17.047462</td>\n",
       "      <td>868.689804</td>\n",
       "      <td>Validation</td>\n",
       "    </tr>\n",
       "    <tr>\n",
       "      <th>0</th>\n",
       "      <td>Random Forest</td>\n",
       "      <td>0.331565</td>\n",
       "      <td>319.185493</td>\n",
       "      <td>17.865763</td>\n",
       "      <td>13.016816</td>\n",
       "      <td>704.813992</td>\n",
       "      <td>Validation</td>\n",
       "    </tr>\n",
       "    <tr>\n",
       "      <th>0</th>\n",
       "      <td>Decision Tree</td>\n",
       "      <td>0.063559</td>\n",
       "      <td>447.161319</td>\n",
       "      <td>21.146189</td>\n",
       "      <td>16.843452</td>\n",
       "      <td>839.577848</td>\n",
       "      <td>Validation</td>\n",
       "    </tr>\n",
       "  </tbody>\n",
       "</table>\n",
       "</div>"
      ],
      "text/plain": [
       "      model_name        R2         MSE       RMSE        MAE        MAPE  \\\n",
       "0     ElasticNet  0.006162  474.569322  21.784612  17.282933  869.079029   \n",
       "0          Ridge  0.039936  458.441514  21.411247  17.038532  868.191846   \n",
       "0          Lasso  0.037193  459.751563  21.441818  17.047462  868.689804   \n",
       "0  Random Forest  0.331565  319.185493  17.865763  13.016816  704.813992   \n",
       "0  Decision Tree  0.063559  447.161319  21.146189  16.843452  839.577848   \n",
       "\n",
       "      Dataset  \n",
       "0  Validation  \n",
       "0  Validation  \n",
       "0  Validation  \n",
       "0  Validation  \n",
       "0  Validation  "
      ]
     },
     "execution_count": 47,
     "metadata": {},
     "output_type": "execute_result"
    }
   ],
   "source": [
    "subset"
   ]
  },
  {
   "cell_type": "code",
   "execution_count": 48,
   "metadata": {},
   "outputs": [
    {
     "ename": "Exception",
     "evalue": "The (row, col) pair sent is out of range. Use Figure.print_grid to view the subplot grid. ",
     "output_type": "error",
     "traceback": [
      "\u001b[1;31m---------------------------------------------------------------------------\u001b[0m",
      "\u001b[1;31mIndexError\u001b[0m                                Traceback (most recent call last)",
      "File \u001b[1;32mc:\\Users\\thale\\Documents\\Estudos\\Disciplinas\\Introdução a ML\\Projeto Aluno\\env\\Lib\\site-packages\\plotly\\_subplots.py:1386\u001b[0m, in \u001b[0;36m_set_trace_grid_reference\u001b[1;34m(trace, layout, grid_ref, row, col, secondary_y)\u001b[0m\n\u001b[0;32m   1385\u001b[0m \u001b[39mtry\u001b[39;00m:\n\u001b[1;32m-> 1386\u001b[0m     subplot_refs \u001b[39m=\u001b[39m grid_ref[row \u001b[39m-\u001b[39;49m \u001b[39m1\u001b[39;49m][col \u001b[39m-\u001b[39m \u001b[39m1\u001b[39m]\n\u001b[0;32m   1387\u001b[0m \u001b[39mexcept\u001b[39;00m \u001b[39mIndexError\u001b[39;00m:\n",
      "\u001b[1;31mIndexError\u001b[0m: list index out of range",
      "\nDuring handling of the above exception, another exception occurred:\n",
      "\u001b[1;31mException\u001b[0m                                 Traceback (most recent call last)",
      "\u001b[1;32mc:\\Users\\thale\\Documents\\Estudos\\Disciplinas\\Introdução a ML\\Projeto Aluno\\ensaios-algoritmos-ml\\notebooks\\Regressao\\Ensaio_Regressao.ipynb Cell 57\u001b[0m line \u001b[0;36m2\n\u001b[0;32m     <a href='vscode-notebook-cell:/c%3A/Users/thale/Documents/Estudos/Disciplinas/Introdu%C3%A7%C3%A3o%20a%20ML/Projeto%20Aluno/ensaios-algoritmos-ml/notebooks/Regressao/Ensaio_Regressao.ipynb#Y106sZmlsZQ%3D%3D?line=16'>17</a>\u001b[0m     fig\u001b[39m.\u001b[39mshow()\n\u001b[0;32m     <a href='vscode-notebook-cell:/c%3A/Users/thale/Documents/Estudos/Disciplinas/Introdu%C3%A7%C3%A3o%20a%20ML/Projeto%20Aluno/ensaios-algoritmos-ml/notebooks/Regressao/Ensaio_Regressao.ipynb#Y106sZmlsZQ%3D%3D?line=18'>19</a>\u001b[0m \u001b[39m# Use the function\u001b[39;00m\n\u001b[1;32m---> <a href='vscode-notebook-cell:/c%3A/Users/thale/Documents/Estudos/Disciplinas/Introdu%C3%A7%C3%A3o%20a%20ML/Projeto%20Aluno/ensaios-algoritmos-ml/notebooks/Regressao/Ensaio_Regressao.ipynb#Y106sZmlsZQ%3D%3D?line=19'>20</a>\u001b[0m plot_metrics_comparison_plotly(full_results)\n",
      "\u001b[1;32mc:\\Users\\thale\\Documents\\Estudos\\Disciplinas\\Introdução a ML\\Projeto Aluno\\ensaios-algoritmos-ml\\notebooks\\Regressao\\Ensaio_Regressao.ipynb Cell 57\u001b[0m line \u001b[0;36m1\n\u001b[0;32m      <a href='vscode-notebook-cell:/c%3A/Users/thale/Documents/Estudos/Disciplinas/Introdu%C3%A7%C3%A3o%20a%20ML/Projeto%20Aluno/ensaios-algoritmos-ml/notebooks/Regressao/Ensaio_Regressao.ipynb#Y106sZmlsZQ%3D%3D?line=7'>8</a>\u001b[0m     \u001b[39mfor\u001b[39;00m dataset \u001b[39min\u001b[39;00m full_results[\u001b[39m\"\u001b[39m\u001b[39mDataset\u001b[39m\u001b[39m\"\u001b[39m]\u001b[39m.\u001b[39munique():\n\u001b[0;32m      <a href='vscode-notebook-cell:/c%3A/Users/thale/Documents/Estudos/Disciplinas/Introdu%C3%A7%C3%A3o%20a%20ML/Projeto%20Aluno/ensaios-algoritmos-ml/notebooks/Regressao/Ensaio_Regressao.ipynb#Y106sZmlsZQ%3D%3D?line=8'>9</a>\u001b[0m         subset \u001b[39m=\u001b[39m full_results[full_results[\u001b[39m\"\u001b[39m\u001b[39mDataset\u001b[39m\u001b[39m\"\u001b[39m] \u001b[39m==\u001b[39m dataset]\n\u001b[1;32m---> <a href='vscode-notebook-cell:/c%3A/Users/thale/Documents/Estudos/Disciplinas/Introdu%C3%A7%C3%A3o%20a%20ML/Projeto%20Aluno/ensaios-algoritmos-ml/notebooks/Regressao/Ensaio_Regressao.ipynb#Y106sZmlsZQ%3D%3D?line=9'>10</a>\u001b[0m         fig\u001b[39m.\u001b[39;49madd_trace(\n\u001b[0;32m     <a href='vscode-notebook-cell:/c%3A/Users/thale/Documents/Estudos/Disciplinas/Introdu%C3%A7%C3%A3o%20a%20ML/Projeto%20Aluno/ensaios-algoritmos-ml/notebooks/Regressao/Ensaio_Regressao.ipynb#Y106sZmlsZQ%3D%3D?line=10'>11</a>\u001b[0m             go\u001b[39m.\u001b[39;49mBar(x\u001b[39m=\u001b[39;49msubset[\u001b[39m\"\u001b[39;49m\u001b[39mmodel_name\u001b[39;49m\u001b[39m\"\u001b[39;49m], y\u001b[39m=\u001b[39;49msubset[metric], name\u001b[39m=\u001b[39;49m\u001b[39mf\u001b[39;49m\u001b[39m\"\u001b[39;49m\u001b[39m{\u001b[39;49;00mdataset\u001b[39m}\u001b[39;49;00m\u001b[39m - \u001b[39;49m\u001b[39m{\u001b[39;49;00mmetric\u001b[39m}\u001b[39;49;00m\u001b[39m\"\u001b[39;49m),\n\u001b[0;32m     <a href='vscode-notebook-cell:/c%3A/Users/thale/Documents/Estudos/Disciplinas/Introdu%C3%A7%C3%A3o%20a%20ML/Projeto%20Aluno/ensaios-algoritmos-ml/notebooks/Regressao/Ensaio_Regressao.ipynb#Y106sZmlsZQ%3D%3D?line=11'>12</a>\u001b[0m             row\u001b[39m=\u001b[39;49m(idx\u001b[39m-\u001b[39;49m\u001b[39m1\u001b[39;49m)\u001b[39m/\u001b[39;49m\u001b[39m/\u001b[39;49m\u001b[39m2\u001b[39;49m \u001b[39m+\u001b[39;49m \u001b[39m1\u001b[39;49m,\n\u001b[0;32m     <a href='vscode-notebook-cell:/c%3A/Users/thale/Documents/Estudos/Disciplinas/Introdu%C3%A7%C3%A3o%20a%20ML/Projeto%20Aluno/ensaios-algoritmos-ml/notebooks/Regressao/Ensaio_Regressao.ipynb#Y106sZmlsZQ%3D%3D?line=12'>13</a>\u001b[0m             col\u001b[39m=\u001b[39;49m(idx\u001b[39m-\u001b[39;49m\u001b[39m1\u001b[39;49m)\u001b[39m%\u001b[39;49m\u001b[39m2\u001b[39;49m \u001b[39m+\u001b[39;49m \u001b[39m1\u001b[39;49m\n\u001b[0;32m     <a href='vscode-notebook-cell:/c%3A/Users/thale/Documents/Estudos/Disciplinas/Introdu%C3%A7%C3%A3o%20a%20ML/Projeto%20Aluno/ensaios-algoritmos-ml/notebooks/Regressao/Ensaio_Regressao.ipynb#Y106sZmlsZQ%3D%3D?line=13'>14</a>\u001b[0m         )\n\u001b[0;32m     <a href='vscode-notebook-cell:/c%3A/Users/thale/Documents/Estudos/Disciplinas/Introdu%C3%A7%C3%A3o%20a%20ML/Projeto%20Aluno/ensaios-algoritmos-ml/notebooks/Regressao/Ensaio_Regressao.ipynb#Y106sZmlsZQ%3D%3D?line=15'>16</a>\u001b[0m fig\u001b[39m.\u001b[39mupdate_layout(title_text\u001b[39m=\u001b[39m\u001b[39m\"\u001b[39m\u001b[39mComparison of Metrics Among Models\u001b[39m\u001b[39m\"\u001b[39m, barmode\u001b[39m=\u001b[39m\u001b[39m'\u001b[39m\u001b[39mgroup\u001b[39m\u001b[39m'\u001b[39m)\n\u001b[0;32m     <a href='vscode-notebook-cell:/c%3A/Users/thale/Documents/Estudos/Disciplinas/Introdu%C3%A7%C3%A3o%20a%20ML/Projeto%20Aluno/ensaios-algoritmos-ml/notebooks/Regressao/Ensaio_Regressao.ipynb#Y106sZmlsZQ%3D%3D?line=16'>17</a>\u001b[0m fig\u001b[39m.\u001b[39mshow()\n",
      "File \u001b[1;32mc:\\Users\\thale\\Documents\\Estudos\\Disciplinas\\Introdução a ML\\Projeto Aluno\\env\\Lib\\site-packages\\plotly\\graph_objs\\_figure.py:900\u001b[0m, in \u001b[0;36mFigure.add_trace\u001b[1;34m(self, trace, row, col, secondary_y, exclude_empty_subplots)\u001b[0m\n\u001b[0;32m    825\u001b[0m \u001b[39mdef\u001b[39;00m \u001b[39madd_trace\u001b[39m(\n\u001b[0;32m    826\u001b[0m     \u001b[39mself\u001b[39m, trace, row\u001b[39m=\u001b[39m\u001b[39mNone\u001b[39;00m, col\u001b[39m=\u001b[39m\u001b[39mNone\u001b[39;00m, secondary_y\u001b[39m=\u001b[39m\u001b[39mNone\u001b[39;00m, exclude_empty_subplots\u001b[39m=\u001b[39m\u001b[39mFalse\u001b[39;00m\n\u001b[0;32m    827\u001b[0m ) \u001b[39m-\u001b[39m\u001b[39m>\u001b[39m \u001b[39m\"\u001b[39m\u001b[39mFigure\u001b[39m\u001b[39m\"\u001b[39m:\n\u001b[0;32m    828\u001b[0m \u001b[39m    \u001b[39m\u001b[39m\"\"\"\u001b[39;00m\n\u001b[0;32m    829\u001b[0m \n\u001b[0;32m    830\u001b[0m \u001b[39m    Add a trace to the figure\u001b[39;00m\n\u001b[1;32m   (...)\u001b[0m\n\u001b[0;32m    898\u001b[0m \n\u001b[0;32m    899\u001b[0m \u001b[39m    \"\"\"\u001b[39;00m\n\u001b[1;32m--> 900\u001b[0m     \u001b[39mreturn\u001b[39;00m \u001b[39msuper\u001b[39;49m(Figure, \u001b[39mself\u001b[39;49m)\u001b[39m.\u001b[39;49madd_trace(\n\u001b[0;32m    901\u001b[0m         trace, row, col, secondary_y, exclude_empty_subplots\n\u001b[0;32m    902\u001b[0m     )\n",
      "File \u001b[1;32mc:\\Users\\thale\\Documents\\Estudos\\Disciplinas\\Introdução a ML\\Projeto Aluno\\env\\Lib\\site-packages\\plotly\\basedatatypes.py:2108\u001b[0m, in \u001b[0;36mBaseFigure.add_trace\u001b[1;34m(self, trace, row, col, secondary_y, exclude_empty_subplots)\u001b[0m\n\u001b[0;32m   2099\u001b[0m         \u001b[39mself\u001b[39m\u001b[39m.\u001b[39madd_trace(\n\u001b[0;32m   2100\u001b[0m             trace,\n\u001b[0;32m   2101\u001b[0m             row\u001b[39m=\u001b[39mr,\n\u001b[1;32m   (...)\u001b[0m\n\u001b[0;32m   2104\u001b[0m             exclude_empty_subplots\u001b[39m=\u001b[39mexclude_empty_subplots,\n\u001b[0;32m   2105\u001b[0m         )\n\u001b[0;32m   2106\u001b[0m     \u001b[39mreturn\u001b[39;00m \u001b[39mself\u001b[39m\n\u001b[1;32m-> 2108\u001b[0m \u001b[39mreturn\u001b[39;00m \u001b[39mself\u001b[39;49m\u001b[39m.\u001b[39;49madd_traces(\n\u001b[0;32m   2109\u001b[0m     data\u001b[39m=\u001b[39;49m[trace],\n\u001b[0;32m   2110\u001b[0m     rows\u001b[39m=\u001b[39;49m[row] \u001b[39mif\u001b[39;49;00m row \u001b[39mis\u001b[39;49;00m \u001b[39mnot\u001b[39;49;00m \u001b[39mNone\u001b[39;49;00m \u001b[39melse\u001b[39;49;00m \u001b[39mNone\u001b[39;49;00m,\n\u001b[0;32m   2111\u001b[0m     cols\u001b[39m=\u001b[39;49m[col] \u001b[39mif\u001b[39;49;00m col \u001b[39mis\u001b[39;49;00m \u001b[39mnot\u001b[39;49;00m \u001b[39mNone\u001b[39;49;00m \u001b[39melse\u001b[39;49;00m \u001b[39mNone\u001b[39;49;00m,\n\u001b[0;32m   2112\u001b[0m     secondary_ys\u001b[39m=\u001b[39;49m[secondary_y] \u001b[39mif\u001b[39;49;00m secondary_y \u001b[39mis\u001b[39;49;00m \u001b[39mnot\u001b[39;49;00m \u001b[39mNone\u001b[39;49;00m \u001b[39melse\u001b[39;49;00m \u001b[39mNone\u001b[39;49;00m,\n\u001b[0;32m   2113\u001b[0m     exclude_empty_subplots\u001b[39m=\u001b[39;49mexclude_empty_subplots,\n\u001b[0;32m   2114\u001b[0m )\n",
      "File \u001b[1;32mc:\\Users\\thale\\Documents\\Estudos\\Disciplinas\\Introdução a ML\\Projeto Aluno\\env\\Lib\\site-packages\\plotly\\graph_objs\\_figure.py:980\u001b[0m, in \u001b[0;36mFigure.add_traces\u001b[1;34m(self, data, rows, cols, secondary_ys, exclude_empty_subplots)\u001b[0m\n\u001b[0;32m    904\u001b[0m \u001b[39mdef\u001b[39;00m \u001b[39madd_traces\u001b[39m(\n\u001b[0;32m    905\u001b[0m     \u001b[39mself\u001b[39m,\n\u001b[0;32m    906\u001b[0m     data,\n\u001b[1;32m   (...)\u001b[0m\n\u001b[0;32m    910\u001b[0m     exclude_empty_subplots\u001b[39m=\u001b[39m\u001b[39mFalse\u001b[39;00m,\n\u001b[0;32m    911\u001b[0m ) \u001b[39m-\u001b[39m\u001b[39m>\u001b[39m \u001b[39m\"\u001b[39m\u001b[39mFigure\u001b[39m\u001b[39m\"\u001b[39m:\n\u001b[0;32m    912\u001b[0m \u001b[39m    \u001b[39m\u001b[39m\"\"\"\u001b[39;00m\n\u001b[0;32m    913\u001b[0m \n\u001b[0;32m    914\u001b[0m \u001b[39m    Add traces to the figure\u001b[39;00m\n\u001b[1;32m   (...)\u001b[0m\n\u001b[0;32m    978\u001b[0m \n\u001b[0;32m    979\u001b[0m \u001b[39m    \"\"\"\u001b[39;00m\n\u001b[1;32m--> 980\u001b[0m     \u001b[39mreturn\u001b[39;00m \u001b[39msuper\u001b[39;49m(Figure, \u001b[39mself\u001b[39;49m)\u001b[39m.\u001b[39;49madd_traces(\n\u001b[0;32m    981\u001b[0m         data, rows, cols, secondary_ys, exclude_empty_subplots\n\u001b[0;32m    982\u001b[0m     )\n",
      "File \u001b[1;32mc:\\Users\\thale\\Documents\\Estudos\\Disciplinas\\Introdução a ML\\Projeto Aluno\\env\\Lib\\site-packages\\plotly\\basedatatypes.py:2238\u001b[0m, in \u001b[0;36mBaseFigure.add_traces\u001b[1;34m(self, data, rows, cols, secondary_ys, exclude_empty_subplots)\u001b[0m\n\u001b[0;32m   2236\u001b[0m \u001b[39mif\u001b[39;00m rows \u001b[39mis\u001b[39;00m \u001b[39mnot\u001b[39;00m \u001b[39mNone\u001b[39;00m:\n\u001b[0;32m   2237\u001b[0m     \u001b[39mfor\u001b[39;00m trace, row, col, secondary_y \u001b[39min\u001b[39;00m \u001b[39mzip\u001b[39m(data, rows, cols, secondary_ys):\n\u001b[1;32m-> 2238\u001b[0m         \u001b[39mself\u001b[39;49m\u001b[39m.\u001b[39;49m_set_trace_grid_position(trace, row, col, secondary_y)\n\u001b[0;32m   2240\u001b[0m \u001b[39mif\u001b[39;00m exclude_empty_subplots:\n\u001b[0;32m   2241\u001b[0m     data \u001b[39m=\u001b[39m \u001b[39mlist\u001b[39m(\n\u001b[0;32m   2242\u001b[0m         \u001b[39mfilter\u001b[39m(\n\u001b[0;32m   2243\u001b[0m             \u001b[39mlambda\u001b[39;00m trace: \u001b[39mself\u001b[39m\u001b[39m.\u001b[39m_subplot_not_empty(\n\u001b[1;32m   (...)\u001b[0m\n\u001b[0;32m   2247\u001b[0m         )\n\u001b[0;32m   2248\u001b[0m     )\n",
      "File \u001b[1;32mc:\\Users\\thale\\Documents\\Estudos\\Disciplinas\\Introdução a ML\\Projeto Aluno\\env\\Lib\\site-packages\\plotly\\basedatatypes.py:2330\u001b[0m, in \u001b[0;36mBaseFigure._set_trace_grid_position\u001b[1;34m(self, trace, row, col, secondary_y)\u001b[0m\n\u001b[0;32m   2327\u001b[0m \u001b[39mfrom\u001b[39;00m \u001b[39mplotly\u001b[39;00m\u001b[39m.\u001b[39;00m\u001b[39m_subplots\u001b[39;00m \u001b[39mimport\u001b[39;00m _set_trace_grid_reference\n\u001b[0;32m   2329\u001b[0m grid_ref \u001b[39m=\u001b[39m \u001b[39mself\u001b[39m\u001b[39m.\u001b[39m_validate_get_grid_ref()\n\u001b[1;32m-> 2330\u001b[0m \u001b[39mreturn\u001b[39;00m _set_trace_grid_reference(\n\u001b[0;32m   2331\u001b[0m     trace, \u001b[39mself\u001b[39;49m\u001b[39m.\u001b[39;49mlayout, grid_ref, row, col, secondary_y\n\u001b[0;32m   2332\u001b[0m )\n",
      "File \u001b[1;32mc:\\Users\\thale\\Documents\\Estudos\\Disciplinas\\Introdução a ML\\Projeto Aluno\\env\\Lib\\site-packages\\plotly\\_subplots.py:1388\u001b[0m, in \u001b[0;36m_set_trace_grid_reference\u001b[1;34m(trace, layout, grid_ref, row, col, secondary_y)\u001b[0m\n\u001b[0;32m   1386\u001b[0m         subplot_refs \u001b[39m=\u001b[39m grid_ref[row \u001b[39m-\u001b[39m \u001b[39m1\u001b[39m][col \u001b[39m-\u001b[39m \u001b[39m1\u001b[39m]\n\u001b[0;32m   1387\u001b[0m     \u001b[39mexcept\u001b[39;00m \u001b[39mIndexError\u001b[39;00m:\n\u001b[1;32m-> 1388\u001b[0m         \u001b[39mraise\u001b[39;00m \u001b[39mException\u001b[39;00m(\n\u001b[0;32m   1389\u001b[0m             \u001b[39m\"\u001b[39m\u001b[39mThe (row, col) pair sent is out of \u001b[39m\u001b[39m\"\u001b[39m\n\u001b[0;32m   1390\u001b[0m             \u001b[39m\"\u001b[39m\u001b[39mrange. Use Figure.print_grid to view the \u001b[39m\u001b[39m\"\u001b[39m\n\u001b[0;32m   1391\u001b[0m             \u001b[39m\"\u001b[39m\u001b[39msubplot grid. \u001b[39m\u001b[39m\"\u001b[39m\n\u001b[0;32m   1392\u001b[0m         )\n\u001b[0;32m   1394\u001b[0m     \u001b[39mif\u001b[39;00m \u001b[39mnot\u001b[39;00m subplot_refs:\n\u001b[0;32m   1395\u001b[0m         \u001b[39mraise\u001b[39;00m \u001b[39mValueError\u001b[39;00m(\n\u001b[0;32m   1396\u001b[0m \u001b[39m            \u001b[39m\u001b[39m\"\"\"\u001b[39;00m\n\u001b[0;32m   1397\u001b[0m \u001b[39mNo subplot specified at grid position ({row}, {col})\"\"\"\u001b[39;00m\u001b[39m.\u001b[39mformat(\n\u001b[0;32m   1398\u001b[0m                 row\u001b[39m=\u001b[39mrow, col\u001b[39m=\u001b[39mcol\n\u001b[0;32m   1399\u001b[0m             )\n\u001b[0;32m   1400\u001b[0m         )\n",
      "\u001b[1;31mException\u001b[0m: The (row, col) pair sent is out of range. Use Figure.print_grid to view the subplot grid. "
     ]
    }
   ],
   "source": [
    "import plotly.graph_objects as go\n",
    "from plotly.subplots import make_subplots\n",
    "\n",
    "def plot_metrics_comparison_plotly(full_results, metrics=[\"R2\", \"MSE\", \"RMSE\", \"MAE\", \"MAPE\"]):\n",
    "    fig = make_subplots(rows=2, cols=2, subplot_titles=metrics, shared_yaxes=True)\n",
    "\n",
    "    for idx, metric in enumerate(metrics, 1):\n",
    "        for dataset in full_results[\"Dataset\"].unique():\n",
    "            subset = full_results[full_results[\"Dataset\"] == dataset]\n",
    "            fig.add_trace(\n",
    "                go.Bar(x=subset[\"model_name\"], y=subset[metric], name=f\"{dataset} - {metric}\"),\n",
    "                row=(idx-1)//2 + 1,\n",
    "                col=(idx-1)%2 + 1\n",
    "            )\n",
    "\n",
    "    fig.update_layout(title_text=\"Comparison of Metrics Among Models\", barmode='group')\n",
    "    fig.show()\n",
    "\n",
    "# Use the function\n",
    "plot_metrics_comparison_plotly(full_results)\n"
   ]
  },
  {
   "cell_type": "code",
   "execution_count": null,
   "metadata": {},
   "outputs": [],
   "source": []
  },
  {
   "cell_type": "code",
   "execution_count": null,
   "metadata": {},
   "outputs": [],
   "source": [
    "!pip install seaborn"
   ]
  }
 ],
 "metadata": {
  "kernelspec": {
   "display_name": "myenv",
   "language": "python",
   "name": "python3"
  },
  "language_info": {
   "codemirror_mode": {
    "name": "ipython",
    "version": 3
   },
   "file_extension": ".py",
   "mimetype": "text/x-python",
   "name": "python",
   "nbconvert_exporter": "python",
   "pygments_lexer": "ipython3",
   "version": "3.11.4"
  },
  "orig_nbformat": 4
 },
 "nbformat": 4,
 "nbformat_minor": 2
}
